{
 "cells": [
  {
   "cell_type": "code",
   "execution_count": 1,
   "id": "dc255360",
   "metadata": {},
   "outputs": [],
   "source": [
    "import pandas as pd"
   ]
  },
  {
   "cell_type": "code",
   "execution_count": 90,
   "id": "277e08e1",
   "metadata": {},
   "outputs": [],
   "source": [
    "from itertools import product\n",
    "\n",
    "hpi_method = ['hypershap', 'fanova', 'random']\n",
    "adjust_cs = ['true', 'false']\n",
    "adjust_previous_cfgs = ['true', 'false']\n",
    "dynamic_decay = ['linear', 'none']\n",
    "\n",
    "adjust_cs_method = ['default', 'random', 'incumbent']\n",
    "constant = ['true', 'false']\n",
    "cs_proba_hpi = ['true', 'false']\n",
    "\n",
    "set_to = ['random', 'default', 'incumbent']\n",
    "\n",
    "thresh_list = ['[0.9, 0.8, 0.7, 0.6, 0.5, 0.4, 0.3]', '[0.3, 0.4, 0.5, 0.6, 0.7, 0.8, 0.9]']\n",
    "thresh = [0.5, 0.75]\n",
    "\n",
    "# Generate all combinations\n",
    "combinations = list(product(\n",
    "    hpi_method,\n",
    "    adjust_cs,\n",
    "    adjust_previous_cfgs,\n",
    "    dynamic_decay,\n",
    "    adjust_cs_method,\n",
    "    constant,\n",
    "    cs_proba_hpi,\n",
    "    set_to,\n",
    "    thresh_list,\n",
    "    thresh\n",
    "))\n",
    "\n",
    "columns = [\n",
    "    'hpi_method', 'adjust_cs', 'adjust_previous_cfgs', 'dynamic_decay',\n",
    "    'adjust_cs_method', 'constant', 'cs_proba_hpi', 'set_to',\n",
    "    'thresh_list', 'thresh'\n",
    "]\n",
    "df = pd.DataFrame(combinations, columns=columns)"
   ]
  },
  {
   "cell_type": "code",
   "execution_count": null,
   "id": "07a59048",
   "metadata": {},
   "outputs": [],
   "source": [
    "\n",
    "# # Conditional config\n",
    "# conditional_configs:\n",
    "#   adjust_cs_specific:\n",
    "#     enabled: ${adjust_cs} == \"true\"\n",
    "#     adjust_cs_method: [default, random, incumbent]\n",
    "#     constant: [true, false]\n",
    "#     cs_proba_hpi: [true,false]\n",
    "#     # if cs_proba==true, consnt==false\n",
    "#   adjust_previous_specific:\n",
    "#     enabled: ${adjust_previous_cfgs} == \"true\"\n",
    "#     set_to: [random, default, incumbent]\n",
    "#   decay_specific:\n",
    "#     enabled: ${dynamic_decay} == \"linear\"\n",
    "#     thresh_list: [[0.9, 0.8, 0.7, 0.6, 0.5, 0.4, 0.3], [0.3, 0.4, 0.5, 0.6, 0.7, 0.8, 0.9]]\n",
    "#   no_decay_specific:\n",
    "#     enabled: ${dynamic_decay} == \"none\"\n",
    "#     thresh: [0.5,0.75]"
   ]
  },
  {
   "cell_type": "code",
   "execution_count": 91,
   "id": "0919c090",
   "metadata": {},
   "outputs": [
    {
     "name": "stderr",
     "output_type": "stream",
     "text": [
      "/tmp/ipykernel_24917/3269138565.py:10: FutureWarning: Setting an item of incompatible dtype is deprecated and will raise an error in a future version of pandas. Value '[None None None ... None None None]' has dtype incompatible with float64, please explicitly cast to a compatible dtype first.\n",
      "  df[(df['dynamic_decay']=='linear')] = df[(df['dynamic_decay']=='linear')].apply(lambda row: remove(row, ['thresh']), axis=1)\n"
     ]
    }
   ],
   "source": [
    "def remove(row, li):\n",
    "    for col in li:\n",
    "        row[col] = None\n",
    "    return row\n",
    "\n",
    "df[df['adjust_cs']=='false'] = df[df['adjust_cs']=='false'].apply(lambda row: remove(row, ['adjust_cs_method', 'constant', 'cs_proba_hpi']), axis=1)\n",
    "df[(df['adjust_cs']=='true')&(df['cs_proba_hpi']=='true')] = df[(df['adjust_cs']=='true')&(df['cs_proba_hpi']=='true')].apply(lambda row: remove(row, ['constant']), axis=1)\n",
    "df[(df['adjust_previous_cfgs']=='false')] = df[(df['adjust_previous_cfgs']=='false')].apply(lambda row: remove(row, ['set_to']), axis=1)\n",
    "df[(df['dynamic_decay']=='none')] = df[(df['dynamic_decay']=='none')].apply(lambda row: remove(row, ['thresh_list']), axis=1)\n",
    "df[(df['dynamic_decay']=='linear')] = df[(df['dynamic_decay']=='linear')].apply(lambda row: remove(row, ['thresh']), axis=1)"
   ]
  },
  {
   "cell_type": "code",
   "execution_count": 92,
   "id": "563e76de",
   "metadata": {},
   "outputs": [
    {
     "data": {
      "text/plain": [
       "(480, 10)"
      ]
     },
     "execution_count": 92,
     "metadata": {},
     "output_type": "execute_result"
    }
   ],
   "source": [
    "df = df.drop_duplicates()\n",
    "df.shape"
   ]
  },
  {
   "cell_type": "code",
   "execution_count": 94,
   "id": "af4d811f",
   "metadata": {},
   "outputs": [
    {
     "data": {
      "text/plain": [
       "Index(['hpi_method', 'adjust_cs', 'adjust_previous_cfgs', 'dynamic_decay',\n",
       "       'adjust_cs_method', 'constant', 'cs_proba_hpi', 'set_to', 'thresh_list',\n",
       "       'thresh'],\n",
       "      dtype='object')"
      ]
     },
     "execution_count": 94,
     "metadata": {},
     "output_type": "execute_result"
    }
   ],
   "source": [
    "df.columns"
   ]
  },
  {
   "cell_type": "code",
   "execution_count": 97,
   "id": "54d70ac0",
   "metadata": {},
   "outputs": [],
   "source": [
    "commands = []\n",
    "\n",
    "for _, row in df.iterrows():\n",
    "    # Construct the command dynamically, skipping None values\n",
    "    command = \"sbatch start_hydra.sh\"\n",
    "    baserundir = f\"result\"\n",
    "    \n",
    "    command += f\" optimizer.smac_cfg.smac_kwargs.acquisition_maximizer.hpi_method={row['hpi_method']}\"\n",
    "    baserundir += f\"_{row['hpi_method']}\"\n",
    "    \n",
    "    command += f\" optimizer.smac_cfg.smac_kwargs.acquisition_maximizer.adjust_cs={row['adjust_cs']}\"\n",
    "    if row['adjust_cs'] == 'true':\n",
    "        baserundir += f\"_adjust_cs\"\n",
    "    \n",
    "    if row['constant'] is not None:\n",
    "        command += f\" optimizer.smac_cfg.smac_kwargs.acquisition_maximizer.constant={row['constant']}\"\n",
    "        if row['constant'] == 'true':\n",
    "            baserundir += f\"_{row['constant']}\"\n",
    "    if row['cs_proba_hpi'] is not None:\n",
    "        command += f\" optimizer.smac_cfg.smac_kwargs.acquisition_maximizer.cs_proba_hpi={row['cs_proba_hpi']}\"\n",
    "        if row['cs_proba_hpi'] == 'true':    \n",
    "            baserundir += f\"_{row['cs_proba_hpi']}\"\n",
    "    \n",
    "    command += f\" optimizer.smac_cfg.smac_kwargs.acquisition_maximizer.adjust_previous_cfgs={row['adjust_previous_cfgs']}\"\n",
    "    if row['adjust_previous_cfgs'] == 'true': \n",
    "        baserundir += f\"_{row['adjust_previous_cfgs']}\"\n",
    "    \n",
    "    if row['set_to'] is not None:\n",
    "        command += f\" optimizer.smac_cfg.smac_kwargs.acquisition_maximizer.set_to={row['set_to']}\"\n",
    "        baserundir += f\"_set_to_{row['set_to']}\"\n",
    "    \n",
    "    command += f\" optimizer.smac_cfg.smac_kwargs.acquisition_maximizer.dynamic_decay={row['dynamic_decay']}\"\n",
    "    if row['dynamic_decay'] == 'linear': \n",
    "        baserundir += f\"_dynamic_decay\"\n",
    "    \n",
    "    if row['thresh'] is not None:\n",
    "        command += f\" optimizer.smac_cfg.smac_kwargs.acquisition_maximizer.thresh={row['thresh']}\"\n",
    "        baserundir += f\"_thresh_{row['thresh']}\"\n",
    "        \n",
    "    if row['thresh_list'] is not None:\n",
    "        command += f\" optimizer.smac_cfg.smac_kwargs.acquisition_maximizer.cs_proba_hpi={row['thresh_list']}\"\n",
    "        if row['thresh_list'] == '[0.9, 0.8, 0.7, 0.6, 0.5, 0.4, 0.3]': \n",
    "            baserundir += f\"_down\"\n",
    "        elif row['thresh_list'] == '[0.3, 0.4, 0.5, 0.6, 0.7, 0.8, 0.9]':\n",
    "            baserundir += f\"_up\"\n",
    "        \n",
    "        \n",
    "    command += f\" baserundir={baserundir}\"\n",
    "    \n",
    "    commands.append(command)"
   ]
  },
  {
   "cell_type": "code",
   "execution_count": null,
   "id": "e83c2bf6",
   "metadata": {},
   "outputs": [],
   "source": [
    "import subprocess\n",
    "\n",
    "# Iterate over the commands and execute them\n",
    "for command in commands:\n",
    "    process = subprocess.run(command, shell=True)\n",
    "    if process.returncode != 0:\n",
    "        print(f\"Command failed: {command}\")"
   ]
  }
 ],
 "metadata": {
  "kernelspec": {
   "display_name": "carps",
   "language": "python",
   "name": "python3"
  },
  "language_info": {
   "codemirror_mode": {
    "name": "ipython",
    "version": 3
   },
   "file_extension": ".py",
   "mimetype": "text/x-python",
   "name": "python",
   "nbconvert_exporter": "python",
   "pygments_lexer": "ipython3",
   "version": "3.10.16"
  }
 },
 "nbformat": 4,
 "nbformat_minor": 5
}
