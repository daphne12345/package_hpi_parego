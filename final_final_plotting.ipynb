{
 "cells": [
  {
   "cell_type": "code",
   "execution_count": 1,
   "id": "3bd8ee49",
   "metadata": {},
   "outputs": [],
   "source": [
    "import pandas as pd\n",
    "from carps.analysis.gather_data import normalize_logs, get_interpolated_performance_df\n",
    "from numpy import trapz\n",
    "import pandas as pd\n",
    "import plotly.graph_objects as go\n",
    "from plotly.subplots import make_subplots\n",
    "import plotly.express as px \n",
    "import itertools\n",
    "import pandas as pd\n",
    "from carps.analysis.generate_report import *\n",
    "from carps.analysis.performance_over_time import plot_performance_over_time\n"
   ]
  },
  {
   "cell_type": "markdown",
   "id": "ae4ac810",
   "metadata": {},
   "source": [
    "# Old"
   ]
  },
  {
   "cell_type": "code",
   "execution_count": 3,
   "id": "91870d07",
   "metadata": {},
   "outputs": [],
   "source": [
    "all_experiments = []\n",
    "all_trajectories = []\n",
    "current_max_id = 0\n",
    "\n",
    "for subdir in os.listdir('../experimenter_loose/'):\n",
    "    experiment_config = pd.read_parquet(f\"../experimenter_loose/{subdir}/experiment_config.parquet\")\n",
    "    trials = pd.read_parquet(f\"../experimenter_loose/{subdir}/trials.parquet\")\n",
    "\n",
    "    experiment_config = experiment_config[~experiment_config['optimizer_id'].str.startswith(\"hypershap\")]\n",
    "    experiment_config = experiment_config[~experiment_config['optimizer_id'].str.startswith(\"random\")]\n",
    "    valid_ids = experiment_config['ID'].unique()\n",
    "    trials = trials[trials['experiment_id'].isin(valid_ids)]\n",
    "\n",
    "    id_mapping = {old_id: new_id for old_id, new_id in zip(\n",
    "        experiment_config['ID'], \n",
    "        range(current_max_id, current_max_id + len(experiment_config))\n",
    "    )}\n",
    "\n",
    "    experiment_config['ID'] = experiment_config['ID'].map(id_mapping)\n",
    "    trials['experiment_id'] = trials['experiment_id'].map(id_mapping)\n",
    "\n",
    "    all_experiments.append(experiment_config)\n",
    "    all_trajectories.append(trials)\n",
    "\n",
    "    current_max_id += len(experiment_config)\n",
    "\n",
    "# Concatenate all\n",
    "experiment_config_all = pd.concat(all_experiments, ignore_index=True)\n",
    "trials_all = pd.concat(all_trajectories, ignore_index=True)\n",
    "trials_all.to_parquet('../experimenter/results/trials.parquet')    \n",
    "experiment_config_all.to_parquet('../experimenter/results/experiment_config.parquet') \n"
   ]
  },
  {
   "cell_type": "code",
   "execution_count": 23,
   "id": "fa288e5e",
   "metadata": {},
   "outputs": [],
   "source": [
    "trials_all = pd.read_parquet('../experimenter/results/trials.parquet')    \n",
    "experiment_config_all = pd.read_parquet('../experimenter/results/experiment_config.parquet') \n"
   ]
  },
  {
   "cell_type": "code",
   "execution_count": 6,
   "id": "ed4c00bb",
   "metadata": {},
   "outputs": [],
   "source": [
    "exp_test = experiment_config_all[experiment_config_all['subset_id']=='test']\n",
    "trials_test = trials_all[trials_all['experiment_id'].isin(exp_test['ID'].unique())]\n",
    "trials_test.to_parquet('../experimenter/test/trials.parquet')    \n",
    "exp_test.to_parquet('../experimenter/test/experiment_config.parquet') "
   ]
  },
  {
   "cell_type": "code",
   "execution_count": 7,
   "id": "b7da9ec7",
   "metadata": {},
   "outputs": [],
   "source": [
    "exp_train = experiment_config_all[experiment_config_all['subset_id']=='dev']\n",
    "trials_train = trials_all[trials_all['experiment_id'].isin(exp_train['ID'].unique())]\n",
    "trials_train.to_parquet('../experimenter/train/trials.parquet')    \n",
    "exp_train.to_parquet('../experimenter/train/experiment_config.parquet') "
   ]
  },
  {
   "cell_type": "code",
   "execution_count": 25,
   "id": "a498a615",
   "metadata": {},
   "outputs": [],
   "source": [
    "exp_train = experiment_config_all[experiment_config_all['subset_id']=='dev']\n",
    "exp_train = exp_train[exp_train['optimizer_id'].isin(['SMAC3-MO-RF', 'fanova_adjust_cs_default_constant_adjust_prev_cfgs_set_to_random_thresh_0_lin_0', 'fanova_adjust_cs_incumbent_cs_proba_hpi_adjust_prev_cfgs_set_to_random_thresh_0_lin_0','fanova_adjust_cs_default_constant_adjust_prev_cfgs_set_to_incumbent_thresh_0_lin_0', 'fanova_adjust_cs_incumbent_cs_proba_hpi_thresh_0.5', 'fanova_adjust_cs_default_constant_adjust_prev_cfgs_set_to_incumbent_thresh_0.75'])]\n",
    "trials_train = trials_all[trials_all['experiment_id'].isin(exp_train['ID'].unique())]\n",
    "trials_train.to_parquet('../experimenter/mine/trials.parquet')    \n",
    "exp_train.to_parquet('../experimenter/mine/experiment_config.parquet') "
   ]
  },
  {
   "cell_type": "markdown",
   "id": "71d8bf97",
   "metadata": {},
   "source": [
    "# Read data"
   ]
  },
  {
   "cell_type": "code",
   "execution_count": 39,
   "id": "fd6dbc5b",
   "metadata": {},
   "outputs": [
    {
     "data": {
      "text/html": [
       "<pre style=\"white-space:pre;overflow-x:auto;line-height:normal;font-family:Menlo,'DejaVu Sans Mono',consolas,'Courier New',monospace\"><span style=\"color: #7fbfbf; text-decoration-color: #7fbfbf\">[16:44:23] </span><span style=\"color: #000080; text-decoration-color: #000080\">INFO    </span> Start normalization<span style=\"color: #808000; text-decoration-color: #808000\">...</span>                                                       <a href=\"file:///home/daphne/Code/hpi_parego/CARP-S/carps/analysis/gather_data.py\" target=\"_blank\"><span style=\"color: #7f7f7f; text-decoration-color: #7f7f7f\">gather_data.py</span></a><span style=\"color: #7f7f7f; text-decoration-color: #7f7f7f\">:</span><a href=\"file:///home/daphne/Code/hpi_parego/CARP-S/carps/analysis/gather_data.py#626\" target=\"_blank\"><span style=\"color: #7f7f7f; text-decoration-color: #7f7f7f\">626</span></a>\n",
       "</pre>\n"
      ],
      "text/plain": [
       "\u001b[2;36m[16:44:23]\u001b[0m\u001b[2;36m \u001b[0m\u001b[34mINFO    \u001b[0m Start normalization\u001b[33m...\u001b[0m                                                       \u001b]8;id=923305;file:///home/daphne/Code/hpi_parego/CARP-S/carps/analysis/gather_data.py\u001b\\\u001b[2mgather_data.py\u001b[0m\u001b]8;;\u001b\\\u001b[2m:\u001b[0m\u001b]8;id=800995;file:///home/daphne/Code/hpi_parego/CARP-S/carps/analysis/gather_data.py#626\u001b\\\u001b[2m626\u001b[0m\u001b]8;;\u001b\\\n"
      ]
     },
     "metadata": {},
     "output_type": "display_data"
    },
    {
     "data": {
      "text/html": [
       "<pre style=\"white-space:pre;overflow-x:auto;line-height:normal;font-family:Menlo,'DejaVu Sans Mono',consolas,'Courier New',monospace\"><span style=\"color: #7fbfbf; text-decoration-color: #7fbfbf\">           </span><span style=\"color: #000080; text-decoration-color: #000080\">INFO    </span> Normalize n_trials<span style=\"color: #808000; text-decoration-color: #808000\">...</span>                                                        <a href=\"file:///home/daphne/Code/hpi_parego/CARP-S/carps/analysis/gather_data.py\" target=\"_blank\"><span style=\"color: #7f7f7f; text-decoration-color: #7f7f7f\">gather_data.py</span></a><span style=\"color: #7f7f7f; text-decoration-color: #7f7f7f\">:</span><a href=\"file:///home/daphne/Code/hpi_parego/CARP-S/carps/analysis/gather_data.py#627\" target=\"_blank\"><span style=\"color: #7f7f7f; text-decoration-color: #7f7f7f\">627</span></a>\n",
       "</pre>\n"
      ],
      "text/plain": [
       "\u001b[2;36m          \u001b[0m\u001b[2;36m \u001b[0m\u001b[34mINFO    \u001b[0m Normalize n_trials\u001b[33m...\u001b[0m                                                        \u001b]8;id=103481;file:///home/daphne/Code/hpi_parego/CARP-S/carps/analysis/gather_data.py\u001b\\\u001b[2mgather_data.py\u001b[0m\u001b]8;;\u001b\\\u001b[2m:\u001b[0m\u001b]8;id=997789;file:///home/daphne/Code/hpi_parego/CARP-S/carps/analysis/gather_data.py#627\u001b\\\u001b[2m627\u001b[0m\u001b]8;;\u001b\\\n"
      ]
     },
     "metadata": {},
     "output_type": "display_data"
    },
    {
     "data": {
      "text/html": [
       "<pre style=\"white-space:pre;overflow-x:auto;line-height:normal;font-family:Menlo,'DejaVu Sans Mono',consolas,'Courier New',monospace\"><span style=\"color: #7fbfbf; text-decoration-color: #7fbfbf\">           </span><span style=\"color: #000080; text-decoration-color: #000080\">INFO    </span> Normalize cost<span style=\"color: #808000; text-decoration-color: #808000\">...</span>                                                            <a href=\"file:///home/daphne/Code/hpi_parego/CARP-S/carps/analysis/gather_data.py\" target=\"_blank\"><span style=\"color: #7f7f7f; text-decoration-color: #7f7f7f\">gather_data.py</span></a><span style=\"color: #7f7f7f; text-decoration-color: #7f7f7f\">:</span><a href=\"file:///home/daphne/Code/hpi_parego/CARP-S/carps/analysis/gather_data.py#629\" target=\"_blank\"><span style=\"color: #7f7f7f; text-decoration-color: #7f7f7f\">629</span></a>\n",
       "</pre>\n"
      ],
      "text/plain": [
       "\u001b[2;36m          \u001b[0m\u001b[2;36m \u001b[0m\u001b[34mINFO    \u001b[0m Normalize cost\u001b[33m...\u001b[0m                                                            \u001b]8;id=950525;file:///home/daphne/Code/hpi_parego/CARP-S/carps/analysis/gather_data.py\u001b\\\u001b[2mgather_data.py\u001b[0m\u001b]8;;\u001b\\\u001b[2m:\u001b[0m\u001b]8;id=918404;file:///home/daphne/Code/hpi_parego/CARP-S/carps/analysis/gather_data.py#629\u001b\\\u001b[2m629\u001b[0m\u001b]8;;\u001b\\\n"
      ]
     },
     "metadata": {},
     "output_type": "display_data"
    },
    {
     "data": {
      "text/html": [
       "<pre style=\"white-space:pre;overflow-x:auto;line-height:normal;font-family:Menlo,'DejaVu Sans Mono',consolas,'Courier New',monospace\"><span style=\"color: #7fbfbf; text-decoration-color: #7fbfbf\">           </span><span style=\"color: #000080; text-decoration-color: #000080\">INFO    </span> Calc normalized incumbent cost<span style=\"color: #808000; text-decoration-color: #808000\">...</span>                                            <a href=\"file:///home/daphne/Code/hpi_parego/CARP-S/carps/analysis/gather_data.py\" target=\"_blank\"><span style=\"color: #7f7f7f; text-decoration-color: #7f7f7f\">gather_data.py</span></a><span style=\"color: #7f7f7f; text-decoration-color: #7f7f7f\">:</span><a href=\"file:///home/daphne/Code/hpi_parego/CARP-S/carps/analysis/gather_data.py#638\" target=\"_blank\"><span style=\"color: #7f7f7f; text-decoration-color: #7f7f7f\">638</span></a>\n",
       "</pre>\n"
      ],
      "text/plain": [
       "\u001b[2;36m          \u001b[0m\u001b[2;36m \u001b[0m\u001b[34mINFO    \u001b[0m Calc normalized incumbent cost\u001b[33m...\u001b[0m                                            \u001b]8;id=202934;file:///home/daphne/Code/hpi_parego/CARP-S/carps/analysis/gather_data.py\u001b\\\u001b[2mgather_data.py\u001b[0m\u001b]8;;\u001b\\\u001b[2m:\u001b[0m\u001b]8;id=381238;file:///home/daphne/Code/hpi_parego/CARP-S/carps/analysis/gather_data.py#638\u001b\\\u001b[2m638\u001b[0m\u001b]8;;\u001b\\\n"
      ]
     },
     "metadata": {},
     "output_type": "display_data"
    },
    {
     "data": {
      "text/html": [
       "<pre style=\"white-space:pre;overflow-x:auto;line-height:normal;font-family:Menlo,'DejaVu Sans Mono',consolas,'Courier New',monospace\"><span style=\"color: #7fbfbf; text-decoration-color: #7fbfbf\">           </span><span style=\"color: #000080; text-decoration-color: #000080\">INFO    </span> Normalize time<span style=\"color: #808000; text-decoration-color: #808000\">...</span>                                                            <a href=\"file:///home/daphne/Code/hpi_parego/CARP-S/carps/analysis/gather_data.py\" target=\"_blank\"><span style=\"color: #7f7f7f; text-decoration-color: #7f7f7f\">gather_data.py</span></a><span style=\"color: #7f7f7f; text-decoration-color: #7f7f7f\">:</span><a href=\"file:///home/daphne/Code/hpi_parego/CARP-S/carps/analysis/gather_data.py#658\" target=\"_blank\"><span style=\"color: #7f7f7f; text-decoration-color: #7f7f7f\">658</span></a>\n",
       "</pre>\n"
      ],
      "text/plain": [
       "\u001b[2;36m          \u001b[0m\u001b[2;36m \u001b[0m\u001b[34mINFO    \u001b[0m Normalize time\u001b[33m...\u001b[0m                                                            \u001b]8;id=901257;file:///home/daphne/Code/hpi_parego/CARP-S/carps/analysis/gather_data.py\u001b\\\u001b[2mgather_data.py\u001b[0m\u001b]8;;\u001b\\\u001b[2m:\u001b[0m\u001b]8;id=844895;file:///home/daphne/Code/hpi_parego/CARP-S/carps/analysis/gather_data.py#658\u001b\\\u001b[2m658\u001b[0m\u001b]8;;\u001b\\\n"
      ]
     },
     "metadata": {},
     "output_type": "display_data"
    },
    {
     "data": {
      "text/html": [
       "<pre style=\"white-space:pre;overflow-x:auto;line-height:normal;font-family:Menlo,'DejaVu Sans Mono',consolas,'Courier New',monospace\"><span style=\"color: #7fbfbf; text-decoration-color: #7fbfbf\">           </span><span style=\"color: #000080; text-decoration-color: #000080\">INFO    </span> Done.                                                                        <a href=\"file:///home/daphne/Code/hpi_parego/CARP-S/carps/analysis/gather_data.py\" target=\"_blank\"><span style=\"color: #7f7f7f; text-decoration-color: #7f7f7f\">gather_data.py</span></a><span style=\"color: #7f7f7f; text-decoration-color: #7f7f7f\">:</span><a href=\"file:///home/daphne/Code/hpi_parego/CARP-S/carps/analysis/gather_data.py#661\" target=\"_blank\"><span style=\"color: #7f7f7f; text-decoration-color: #7f7f7f\">661</span></a>\n",
       "</pre>\n"
      ],
      "text/plain": [
       "\u001b[2;36m          \u001b[0m\u001b[2;36m \u001b[0m\u001b[34mINFO    \u001b[0m Done.                                                                        \u001b]8;id=954584;file:///home/daphne/Code/hpi_parego/CARP-S/carps/analysis/gather_data.py\u001b\\\u001b[2mgather_data.py\u001b[0m\u001b]8;;\u001b\\\u001b[2m:\u001b[0m\u001b]8;id=155626;file:///home/daphne/Code/hpi_parego/CARP-S/carps/analysis/gather_data.py#661\u001b\\\u001b[2m661\u001b[0m\u001b]8;;\u001b\\\n"
      ]
     },
     "metadata": {},
     "output_type": "display_data"
    },
    {
     "data": {
      "text/html": [
       "<pre style=\"white-space:pre;overflow-x:auto;line-height:normal;font-family:Menlo,'DejaVu Sans Mono',consolas,'Courier New',monospace\"><span style=\"color: #7fbfbf; text-decoration-color: #7fbfbf\">           </span><span style=\"color: #000080; text-decoration-color: #000080\">INFO    </span> Create dataframe for neat plotting by aligning x-axis <span style=\"color: #800080; text-decoration-color: #800080\">/</span> interpolating        <a href=\"file:///home/daphne/Code/hpi_parego/CARP-S/carps/analysis/gather_data.py\" target=\"_blank\"><span style=\"color: #7f7f7f; text-decoration-color: #7f7f7f\">gather_data.py</span></a><span style=\"color: #7f7f7f; text-decoration-color: #7f7f7f\">:</span><a href=\"file:///home/daphne/Code/hpi_parego/CARP-S/carps/analysis/gather_data.py#735\" target=\"_blank\"><span style=\"color: #7f7f7f; text-decoration-color: #7f7f7f\">735</span></a>\n",
       "<span style=\"color: #7fbfbf; text-decoration-color: #7fbfbf\">           </span>         budget.                                                                      <span style=\"color: #7f7f7f; text-decoration-color: #7f7f7f\">                  </span>\n",
       "</pre>\n"
      ],
      "text/plain": [
       "\u001b[2;36m          \u001b[0m\u001b[2;36m \u001b[0m\u001b[34mINFO    \u001b[0m Create dataframe for neat plotting by aligning x-axis \u001b[35m/\u001b[0m interpolating        \u001b]8;id=666904;file:///home/daphne/Code/hpi_parego/CARP-S/carps/analysis/gather_data.py\u001b\\\u001b[2mgather_data.py\u001b[0m\u001b]8;;\u001b\\\u001b[2m:\u001b[0m\u001b]8;id=678332;file:///home/daphne/Code/hpi_parego/CARP-S/carps/analysis/gather_data.py#735\u001b\\\u001b[2m735\u001b[0m\u001b]8;;\u001b\\\n",
       "\u001b[2;36m           \u001b[0m         budget.                                                                      \u001b[2m                  \u001b[0m\n"
      ]
     },
     "metadata": {},
     "output_type": "display_data"
    }
   ],
   "source": [
    "df = pd.read_parquet('../results_3/logs.parquet')\n",
    "df = normalize_logs(df)\n",
    "if 'set' not in df.columns:\n",
    "    df[\"set\"] = '0'\n",
    "df = get_interpolated_performance_df(df, n_points=50)\n"
   ]
  },
  {
   "cell_type": "code",
   "execution_count": 40,
   "id": "21408516",
   "metadata": {},
   "outputs": [
    {
     "data": {
      "text/plain": [
       "(12750, 14)"
      ]
     },
     "execution_count": 40,
     "metadata": {},
     "output_type": "execute_result"
    }
   ],
   "source": [
    "df.shape"
   ]
  },
  {
   "cell_type": "code",
   "execution_count": 41,
   "id": "5416e738",
   "metadata": {},
   "outputs": [],
   "source": [
    "# # do prepocessing and create subsets: train/test etc.\n",
    "# df_train = df[df['subset_id']=='dev']\n",
    "# df_test = df[df['subset_id']=='test']"
   ]
  },
  {
   "cell_type": "code",
   "execution_count": 42,
   "id": "5b1ff3a9",
   "metadata": {},
   "outputs": [],
   "source": [
    "def expand_optimizer_id(df: pd.DataFrame, optimizer_id_col: str = 'optimizer_id') -> pd.DataFrame:\n",
    "    def parse_optimizer_id(opt_id: str) -> dict:\n",
    "        info = {\n",
    "            'hpi_method': None,\n",
    "            'adjust_cs': 'no',\n",
    "            'cs_method': 'no',\n",
    "            'adjust_pc': 'no',\n",
    "            'pc_method': None,\n",
    "            'thresh': None,\n",
    "            'adjust_method': None\n",
    "        }\n",
    "        parts = opt_id.split('_')\n",
    "        info['hpi_method'] = parts[0]\n",
    "        \n",
    "        if 'cs' in parts:\n",
    "            info['cs_method'] = parts[parts.index('cs')+1]\n",
    "        if info['cs_method']!='no':\n",
    "            info['adjust_cs'] = 'True'\n",
    "            info['adjust_method'] = 'adjust_cs_only'\n",
    "        if 'cs_proba_hpi' in opt_id:\n",
    "            info['adjust_cs'] = 'cs_proba_hpi'\n",
    "        if 'set_to' in opt_id:\n",
    "            info['adjust_pc'] = ' '.join(parts[parts.index('cfgs')+1:parts.index('cfgs')+3])\n",
    "            info['pc_method'] = parts[parts.index('to')+1]\n",
    "            if info['adjust_method'] == 'adjust_cs_only':\n",
    "                info['adjust_method'] = 'both'\n",
    "            else:\n",
    "                info['adjust_method'] = 'adjust_pc_only'\n",
    "        if 'thresh' in parts:\n",
    "            info['thresh'] = parts[parts.index('thresh')+1]\n",
    "        \n",
    "        return info\n",
    "\n",
    "    # Apply the parser to each row\n",
    "    parsed = df[optimizer_id_col].apply(parse_optimizer_id)\n",
    "    parsed_df = pd.DataFrame(parsed.tolist())\n",
    "\n",
    "    # Merge with the original DataFrame\n",
    "    return pd.concat([df, parsed_df], axis=1)\n",
    "\n",
    "def check_if_complete_for_max_trials(in_df):\n",
    "    max_trials = in_df['n_trials_norm'].max()\n",
    "    filtered_df = in_df[in_df['n_trials_norm'] == max_trials]\n",
    "    miss_dict = {}\n",
    "    seeds = filtered_df['seed'].unique()\n",
    "    expected_combinations = set(itertools.product(tasks[in_df['benchmark_id'].iloc[0]], [max_trials], seeds))\n",
    "    incomplete = False\n",
    "    for optimizer_id, group in filtered_df.groupby('optimizer_id'):\n",
    "        actual_combinations = set(group[['task_id', 'n_trials_norm', 'seed']].itertuples(index=False, name=None))\n",
    "        missing = expected_combinations - actual_combinations\n",
    "        if missing:\n",
    "            print(f\"Optimizer {optimizer_id} is not complete for max n_trials_norm = {max_trials}: {len(missing)} combinations missing.\")\n",
    "            miss_dict[optimizer_id] = missing\n",
    "            incomplete = True\n",
    "    if not incomplete:\n",
    "        print('All data complete!')\n",
    "        return None\n",
    "    return miss_dict\n",
    "\n",
    "def read_data(path):\n",
    "    df = pd.read_parquet(path)\n",
    "    df = normalize_logs(df)\n",
    "    df['n_trials_norm'] = df.groupby('experiment_id')['time'].rank(method='dense', pct=True).round(2)\n",
    "    if 'set' not in df.columns:\n",
    "        df[\"set\"] = '0'\n",
    "    df_random = df[df['optimizer_id'].str.startswith('random_')]\n",
    "    df = df[~df['optimizer_id'].str.startswith('random_')]\n",
    "    # check_if_complete_for_max_trials(df)\n",
    "    return df, df_random\n",
    "\n",
    "def get_perf(df):\n",
    "    perf = get_interpolated_performance_df(df, n_points=50)\n",
    "    # missing = check_if_complete_for_max_trials(df)\n",
    "    perf = expand_optimizer_id(perf)\n",
    "    # perf = perf[perf['adjust_method'].notna()]\n",
    "    return perf"
   ]
  },
  {
   "cell_type": "code",
   "execution_count": 43,
   "id": "7782c8a8",
   "metadata": {},
   "outputs": [
    {
     "data": {
      "text/plain": [
       "(12750, 21)"
      ]
     },
     "execution_count": 43,
     "metadata": {},
     "output_type": "execute_result"
    }
   ],
   "source": [
    "df = expand_optimizer_id(df)\n",
    "df = df[~((df['adjust_cs']=='no') & (df['adjust_pc']=='no') & (df['optimizer_id']!='SMAC3-MO-RF'))]\n",
    "df.shape\n"
   ]
  },
  {
   "cell_type": "code",
   "execution_count": 44,
   "id": "10e0e79e",
   "metadata": {},
   "outputs": [],
   "source": [
    "task = 'resuts_3'\n",
    "figure_dir = f\"fig_{task}\"\n",
    "# df = df[df['task_id'].str.contains(task)]\n",
    "# df.shape"
   ]
  },
  {
   "cell_type": "code",
   "execution_count": 45,
   "id": "a78c64cc",
   "metadata": {},
   "outputs": [],
   "source": [
    "# df = df[df['adjust_method'].isin(['adjust_cs_only', None])]\n",
    "# df.shape"
   ]
  },
  {
   "cell_type": "markdown",
   "id": "c0cafa0c",
   "metadata": {},
   "source": [
    "# Ablation"
   ]
  },
  {
   "cell_type": "code",
   "execution_count": 46,
   "id": "33e02a6d",
   "metadata": {},
   "outputs": [],
   "source": [
    "def plot_one_thing(thing, df_plot=None):\n",
    "    if df_plot is None:\n",
    "        df_plot = df.copy(deep=True)\n",
    "        df_plot = df_plot[df_plot['optimizer_id']!='SMAC3-MO-RF']\n",
    "        df_plot['optimizer_id'] = df_plot[thing]\n",
    "        df_plot = df_plot[df_plot['optimizer_id'].notna()]\n",
    "        # df_plot = pd.concat([df_plot, base], ignore_index=True)\n",
    "        plot_performance_per_task(df_plot, output_dir=f\"figure_dir/ablation/{thing}\", replot=True)\n",
    "        if len(df_plot['optimizer_id'].unique()) > 2:\n",
    "            plot_critical_difference(df_plot, output_dir=f\"figure_dir/ablation/{thing}\", replot=True)\n",
    "            plot_finalperfbarplot(df_plot, output_dir=f\"figure_dir/ablation/{thing}\", replot=True)\n",
    "            plot_ranks_over_time(df_plot, output_dir=f\"figure_dir/ablation/{thing}\", replot=True)\n",
    "\n",
    "    # Average over tasks\n",
    "    avg_task = df_plot.groupby([\"optimizer_id\", \"seed\", \"n_trials_norm\"]).agg(\n",
    "        mean_perf=(\"trial_value__cost_inc_norm\", \"mean\")\n",
    "    ).reset_index()\n",
    "\n",
    "    # Average over seeds\n",
    "    avg_seed = avg_task.groupby([\"optimizer_id\", \"n_trials_norm\"]).agg(\n",
    "        mean=(\"mean_perf\", \"mean\"),\n",
    "        sem=(\"mean_perf\", \"sem\")\n",
    "    ).reset_index()\n",
    "\n",
    "    auc_per_seed = (\n",
    "        df_plot.groupby([\"optimizer_id\", \"seed\"])\n",
    "        .apply(lambda group: trapz(group.sort_values(\"n_trials_norm\")[\"trial_value__cost_inc_norm\"],\n",
    "                                   group.sort_values(\"n_trials_norm\")[\"n_trials_norm\"]))\n",
    "        .reset_index(name=\"auc\")\n",
    "    )\n",
    "\n",
    "    # Compute mean and sem AUC per optimizer\n",
    "    auc_values = auc_per_seed.groupby(\"optimizer_id\").agg(\n",
    "        mean=('auc', 'mean'),\n",
    "        sem=('auc', 'sem')\n",
    "    ).sort_values(\"mean\", ascending=False).reset_index()\n",
    "\n",
    "\n",
    "    fig = make_subplots(\n",
    "        rows=1, cols=2,\n",
    "        # subplot_titles=(\"Performance over Time (Normalized)\", \"AUC per Optimizer\"),\n",
    "        column_widths=[0.6, 0.4],\n",
    "        horizontal_spacing=0.15\n",
    "    )\n",
    "    colors = px.colors.qualitative.Set1\n",
    "    # Line plot with shaded error (left)\n",
    "    print(avg_seed[\"optimizer_id\"].unique())\n",
    "    for i, optimizer in enumerate(avg_seed[\"optimizer_id\"].unique()):\n",
    "        df_opt = avg_seed[avg_seed[\"optimizer_id\"] == optimizer]\n",
    "        \n",
    "        line_color = colors[i % len(colors)]\n",
    "\n",
    "        # Mean line\n",
    "        fig.add_trace(go.Scatter(\n",
    "            x=df_opt[\"n_trials_norm\"],\n",
    "            y=df_opt[\"mean\"],\n",
    "            mode=\"lines\",\n",
    "            name=optimizer,\n",
    "            line=dict(width=2, color=line_color),\n",
    "        ), row=1, col=1)\n",
    "\n",
    "        # Shaded error (sem)\n",
    "        fig.add_trace(go.Scatter(\n",
    "            x=pd.concat([df_opt[\"n_trials_norm\"], df_opt[\"n_trials_norm\"][::-1]]),\n",
    "            y=pd.concat([\n",
    "                df_opt[\"mean\"] - df_opt[\"sem\"],\n",
    "                (df_opt[\"mean\"] + df_opt[\"sem\"])[::-1]\n",
    "            ]),\n",
    "            fill='toself',\n",
    "            fillcolor=line_color.replace(')', ',0.1)').replace('rgb', 'rgba'),\n",
    "            line=dict(color='rgba(255,255,255,0)'),\n",
    "            hoverinfo=\"skip\",\n",
    "            showlegend=False\n",
    "        ), row=1, col=1)\n",
    "\n",
    "    # Bar chart with error bars (right)\n",
    "    fig.add_trace(go.Bar(\n",
    "        x=auc_values[\"mean\"],\n",
    "        y=auc_values[\"optimizer_id\"],\n",
    "        orientation=\"h\",\n",
    "        error_x=dict(type='data', array=auc_values[\"sem\"]),\n",
    "        marker=dict(color=\"skyblue\", line=dict(color=\"black\", width=1)),\n",
    "        showlegend=False\n",
    "    ), row=1, col=2)\n",
    "\n",
    "    # -------------------------\n",
    "    # 3. Layout & Font\n",
    "    # -------------------------\n",
    "\n",
    "    fig.update_layout(\n",
    "        height=400,\n",
    "        width=1800,\n",
    "        template=\"plotly_white\",\n",
    "        font=dict(size=16),\n",
    "        legend=dict(title=\"Optimizers\", font=dict(size=16)),\n",
    "        margin=dict(t=60, l=50, r=50, b=50)\n",
    "    )\n",
    "\n",
    "    fig.update_xaxes(title_text=\"Normalized Trials\", row=1, col=1)\n",
    "    fig.update_yaxes(title_text=\"Normalized Inc-Performance\", row=1, col=1)\n",
    "    fig.update_xaxes(title_text=\"AUC\", row=1, col=2)\n",
    "    fig.update_yaxes(title_text=\"Optimizer\", row=1, col=2)\n",
    "\n",
    "    fig.show()\n"
   ]
  },
  {
   "cell_type": "code",
   "execution_count": 47,
   "id": "7ebd7939",
   "metadata": {},
   "outputs": [
    {
     "name": "stdout",
     "output_type": "stream",
     "text": [
      "['fanova']\n"
     ]
    },
    {
     "name": "stderr",
     "output_type": "stream",
     "text": [
      "/tmp/ipykernel_37253/3449863810.py:27: DeprecationWarning:\n",
      "\n",
      "DataFrameGroupBy.apply operated on the grouping columns. This behavior is deprecated, and in a future version of pandas the grouping columns will be excluded from the operation. Either pass `include_groups=False` to exclude the groupings or explicitly select the grouping columns after groupby to silence this warning.\n",
      "\n"
     ]
    },
    {
     "data": {
      "application/vnd.plotly.v1+json": {
       "config": {
        "plotlyServerURL": "https://plot.ly"
       },
       "data": [
        {
         "line": {
          "color": "rgb(228,26,28)",
          "width": 2
         },
         "mode": "lines",
         "name": "fanova",
         "type": "scatter",
         "x": {
          "bdata": "AAAAAAAAAAB7FK5H4XqUP3sUrkfheqQ/uB6F61G4rj97FK5H4Xq0P5qZmZmZmbk/uB6F61G4vj/sUbgehevBP3sUrkfhesQ/CtejcD0Kxz+amZmZmZnJPylcj8L1KMw/uB6F61G4zj+kcD0K16PQP+xRuB6F69E/MzMzMzMz0z97FK5H4XrUP8P1KFyPwtU/CtejcD0K1z9SuB6F61HYP5qZmZmZmdk/4XoUrkfh2j8pXI/C9SjcP3E9CtejcN0/uB6F61G43j8AAAAAAADgP6RwPQrXo+A/SOF6FK5H4T/sUbgehevhP4/C9Shcj+I/MzMzMzMz4z/Xo3A9CtfjP3sUrkfheuQ/H4XrUbge5T/D9Shcj8LlP2dmZmZmZuY/CtejcD0K5z+uR+F6FK7nP1K4HoXrUeg/9ihcj8L16D+amZmZmZnpPz4K16NwPeo/4XoUrkfh6j+F61G4HoXrPylcj8L1KOw/zczMzMzM7D9xPQrXo3DtPxWuR+F6FO4/uB6F61G47j9cj8L1KFzvPwAAAAAAAPA/",
          "dtype": "f8"
         },
         "xaxis": "x",
         "y": {
          "bdata": "Dp9ZlWy57D9Y1/htsF7lPzYtt7WYsuI/DpON/eA44D89ANxbf/DcP01NUr2TG9s/dUrxLV9f2T/z4l7kvlvYP7cqXgfMY9c/yiEzjfF41j9T5DI49HTVPwonsy5Gv9Q/4biCPvMJ1D9Be7Fy6XvSP/o/+6KNXdA/VmMbRa2Tzz+g3yYzDTjNP5IHTE10q8s/k6I3mawKyj9sfuLzl3/IP3vtptX6E8c/5izzl36gxT+fjWzlP9HEP63UYcutAMM/Lk9rNrNiwT/q2NE7RoTAP8qBl5IAPMA/yoGXkgA8wD/KgZeSADzAP8qBl5IAPMA/yoGXkgA8wD/KgZeSADzAP8qBl5IAPMA/yoGXkgA8wD/KgZeSADzAP8qBl5IAPMA/yoGXkgA8wD/KgZeSADzAP8qBl5IAPMA/yoGXkgA8wD/KgZeSADzAP8qBl5IAPMA/yoGXkgA8wD/KgZeSADzAP8qBl5IAPMA/yoGXkgA8wD/KgZeSADzAP8qBl5IAPMA/yoGXkgA8wD/KgZeSADzAP8qBl5IAPMA/",
          "dtype": "f8"
         },
         "yaxis": "y"
        },
        {
         "fill": "toself",
         "fillcolor": "rgba(228,26,28,0.1)",
         "hoverinfo": "skip",
         "line": {
          "color": "rgba(255,255,255,0)"
         },
         "showlegend": false,
         "type": "scatter",
         "x": {
          "bdata": "AAAAAAAAAAB7FK5H4XqUP3sUrkfheqQ/uB6F61G4rj97FK5H4Xq0P5qZmZmZmbk/uB6F61G4vj/sUbgehevBP3sUrkfhesQ/CtejcD0Kxz+amZmZmZnJPylcj8L1KMw/uB6F61G4zj+kcD0K16PQP+xRuB6F69E/MzMzMzMz0z97FK5H4XrUP8P1KFyPwtU/CtejcD0K1z9SuB6F61HYP5qZmZmZmdk/4XoUrkfh2j8pXI/C9SjcP3E9CtejcN0/uB6F61G43j8AAAAAAADgP6RwPQrXo+A/SOF6FK5H4T/sUbgehevhP4/C9Shcj+I/MzMzMzMz4z/Xo3A9CtfjP3sUrkfheuQ/H4XrUbge5T/D9Shcj8LlP2dmZmZmZuY/CtejcD0K5z+uR+F6FK7nP1K4HoXrUeg/9ihcj8L16D+amZmZmZnpPz4K16NwPeo/4XoUrkfh6j+F61G4HoXrPylcj8L1KOw/zczMzMzM7D9xPQrXo3DtPxWuR+F6FO4/uB6F61G47j9cj8L1KFzvPwAAAAAAAPA/AAAAAAAA8D9cj8L1KFzvP7gehetRuO4/Fa5H4XoU7j9xPQrXo3DtP83MzMzMzOw/KVyPwvUo7D+F61G4HoXrP+F6FK5H4eo/PgrXo3A96j+amZmZmZnpP/YoXI/C9eg/UrgehetR6D+uR+F6FK7nPwrXo3A9Cuc/Z2ZmZmZm5j/D9Shcj8LlPx+F61G4HuU/exSuR+F65D/Xo3A9CtfjPzMzMzMzM+M/j8L1KFyP4j/sUbgehevhP0jhehSuR+E/pHA9Ctej4D8AAAAAAADgP7gehetRuN4/cT0K16Nw3T8pXI/C9SjcP+F6FK5H4do/mpmZmZmZ2T9SuB6F61HYPwrXo3A9Ctc/w/UoXI/C1T97FK5H4XrUPzMzMzMzM9M/7FG4HoXr0T+kcD0K16PQP7gehetRuM4/KVyPwvUozD+amZmZmZnJPwrXo3A9Csc/exSuR+F6xD/sUbgehevBP7gehetRuL4/mpmZmZmZuT97FK5H4Xq0P7gehetRuK4/exSuR+F6pD97FK5H4XqUPwAAAAAAAAAA",
          "dtype": "f8"
         },
         "xaxis": "x",
         "y": {
          "bdata": "FZaInXkA7D9rb7NZ8kPkPx5iNaPEpuE/+JWTUOLN3j/089PuQw3bPzNx7PF6rdk/kJuKxmDz1z+5oFQQ9BDXP8jb2e6l9NU/LuLEiMJk1T84XXgKK4HUP5wVDryMvtM/ybZqbXwe0z8h5EedJaPRP94Gye5m5M4/hZoq7gDezT+yvuOhc9rKP62/mwkUd8k/fEBt2ZgJyD+feB9lEnbGPwIjYD5a7MQ/0FAOjYTHwz+jW7oGIifDP/7yO9gLAsI/KdXSqJukwD80gjMpNZ+/P4q1N5H27b4/irU3kfbtvj+KtTeR9u2+P4q1N5H27b4/irU3kfbtvj+KtTeR9u2+P4q1N5H27b4/irU3kfbtvj+KtTeR9u2+P4q1N5H27b4/irU3kfbtvj+KtTeR9u2+P4q1N5H27b4/irU3kfbtvj+KtTeR9u2+P4q1N5H27b4/irU3kfbtvj+KtTeR9u2+P4q1N5H27b4/irU3kfbtvj+KtTeR9u2+P4q1N5H27b4/irU3kfbtvj+KtTeR9u2+P4q1N5H27b4/zyiT3AUBwT/PKJPcBQHBP88ok9wFAcE/zyiT3AUBwT/PKJPcBQHBP88ok9wFAcE/zyiT3AUBwT/PKJPcBQHBP88ok9wFAcE/zyiT3AUBwT/PKJPcBQHBP88ok9wFAcE/zyiT3AUBwT/PKJPcBQHBP88ok9wFAcE/zyiT3AUBwT/PKJPcBQHBP88ok9wFAcE/zyiT3AUBwT/PKJPcBQHBP88ok9wFAcE/zyiT3AUBwT/PKJPcBQHBP88ok9wFAcE/zyiT3AUBwT+68Anj8TjBPzPJA8TKIMI/XLaHvk//wz+bvx7EXXvGP/wI2KJ4ecc/9LftbJs7yT85hKWCHYnKP6oEAlnAC8w/d0/8kNTfzT+OAGrEppXPPxMWBs6spNA/hfyRzudI0T9hEhtIrVTTP/m6mg9q9dQ/eDhYof+/1T9ua+1lvWjWP2ZhoZEgjdc/pnniH/LS2D8tJWm4iabZP1r5V5Vdy9o/Zym4iKyJ3D+GDOTIutPePyBb0dLQCuE/Tvg4yGy+4z9FPz6CbnnmPweoKo1fcu0/",
          "dtype": "f8"
         },
         "yaxis": "y"
        },
        {
         "error_x": {
          "array": {
           "bdata": "TgP9W75Qhz8=",
           "dtype": "f8"
          },
          "type": "data"
         },
         "marker": {
          "color": "skyblue",
          "line": {
           "color": "black",
           "width": 1
          }
         },
         "orientation": "h",
         "showlegend": false,
         "type": "bar",
         "x": {
          "bdata": "mgFTGBT5yz8=",
          "dtype": "f8"
         },
         "xaxis": "x2",
         "y": [
          "fanova"
         ],
         "yaxis": "y2"
        }
       ],
       "layout": {
        "font": {
         "size": 16
        },
        "height": 400,
        "legend": {
         "font": {
          "size": 16
         },
         "title": {
          "text": "Optimizers"
         }
        },
        "margin": {
         "b": 50,
         "l": 50,
         "r": 50,
         "t": 60
        },
        "template": {
         "data": {
          "bar": [
           {
            "error_x": {
             "color": "#2a3f5f"
            },
            "error_y": {
             "color": "#2a3f5f"
            },
            "marker": {
             "line": {
              "color": "white",
              "width": 0.5
             },
             "pattern": {
              "fillmode": "overlay",
              "size": 10,
              "solidity": 0.2
             }
            },
            "type": "bar"
           }
          ],
          "barpolar": [
           {
            "marker": {
             "line": {
              "color": "white",
              "width": 0.5
             },
             "pattern": {
              "fillmode": "overlay",
              "size": 10,
              "solidity": 0.2
             }
            },
            "type": "barpolar"
           }
          ],
          "carpet": [
           {
            "aaxis": {
             "endlinecolor": "#2a3f5f",
             "gridcolor": "#C8D4E3",
             "linecolor": "#C8D4E3",
             "minorgridcolor": "#C8D4E3",
             "startlinecolor": "#2a3f5f"
            },
            "baxis": {
             "endlinecolor": "#2a3f5f",
             "gridcolor": "#C8D4E3",
             "linecolor": "#C8D4E3",
             "minorgridcolor": "#C8D4E3",
             "startlinecolor": "#2a3f5f"
            },
            "type": "carpet"
           }
          ],
          "choropleth": [
           {
            "colorbar": {
             "outlinewidth": 0,
             "ticks": ""
            },
            "type": "choropleth"
           }
          ],
          "contour": [
           {
            "colorbar": {
             "outlinewidth": 0,
             "ticks": ""
            },
            "colorscale": [
             [
              0,
              "#0d0887"
             ],
             [
              0.1111111111111111,
              "#46039f"
             ],
             [
              0.2222222222222222,
              "#7201a8"
             ],
             [
              0.3333333333333333,
              "#9c179e"
             ],
             [
              0.4444444444444444,
              "#bd3786"
             ],
             [
              0.5555555555555556,
              "#d8576b"
             ],
             [
              0.6666666666666666,
              "#ed7953"
             ],
             [
              0.7777777777777778,
              "#fb9f3a"
             ],
             [
              0.8888888888888888,
              "#fdca26"
             ],
             [
              1,
              "#f0f921"
             ]
            ],
            "type": "contour"
           }
          ],
          "contourcarpet": [
           {
            "colorbar": {
             "outlinewidth": 0,
             "ticks": ""
            },
            "type": "contourcarpet"
           }
          ],
          "heatmap": [
           {
            "colorbar": {
             "outlinewidth": 0,
             "ticks": ""
            },
            "colorscale": [
             [
              0,
              "#0d0887"
             ],
             [
              0.1111111111111111,
              "#46039f"
             ],
             [
              0.2222222222222222,
              "#7201a8"
             ],
             [
              0.3333333333333333,
              "#9c179e"
             ],
             [
              0.4444444444444444,
              "#bd3786"
             ],
             [
              0.5555555555555556,
              "#d8576b"
             ],
             [
              0.6666666666666666,
              "#ed7953"
             ],
             [
              0.7777777777777778,
              "#fb9f3a"
             ],
             [
              0.8888888888888888,
              "#fdca26"
             ],
             [
              1,
              "#f0f921"
             ]
            ],
            "type": "heatmap"
           }
          ],
          "histogram": [
           {
            "marker": {
             "pattern": {
              "fillmode": "overlay",
              "size": 10,
              "solidity": 0.2
             }
            },
            "type": "histogram"
           }
          ],
          "histogram2d": [
           {
            "colorbar": {
             "outlinewidth": 0,
             "ticks": ""
            },
            "colorscale": [
             [
              0,
              "#0d0887"
             ],
             [
              0.1111111111111111,
              "#46039f"
             ],
             [
              0.2222222222222222,
              "#7201a8"
             ],
             [
              0.3333333333333333,
              "#9c179e"
             ],
             [
              0.4444444444444444,
              "#bd3786"
             ],
             [
              0.5555555555555556,
              "#d8576b"
             ],
             [
              0.6666666666666666,
              "#ed7953"
             ],
             [
              0.7777777777777778,
              "#fb9f3a"
             ],
             [
              0.8888888888888888,
              "#fdca26"
             ],
             [
              1,
              "#f0f921"
             ]
            ],
            "type": "histogram2d"
           }
          ],
          "histogram2dcontour": [
           {
            "colorbar": {
             "outlinewidth": 0,
             "ticks": ""
            },
            "colorscale": [
             [
              0,
              "#0d0887"
             ],
             [
              0.1111111111111111,
              "#46039f"
             ],
             [
              0.2222222222222222,
              "#7201a8"
             ],
             [
              0.3333333333333333,
              "#9c179e"
             ],
             [
              0.4444444444444444,
              "#bd3786"
             ],
             [
              0.5555555555555556,
              "#d8576b"
             ],
             [
              0.6666666666666666,
              "#ed7953"
             ],
             [
              0.7777777777777778,
              "#fb9f3a"
             ],
             [
              0.8888888888888888,
              "#fdca26"
             ],
             [
              1,
              "#f0f921"
             ]
            ],
            "type": "histogram2dcontour"
           }
          ],
          "mesh3d": [
           {
            "colorbar": {
             "outlinewidth": 0,
             "ticks": ""
            },
            "type": "mesh3d"
           }
          ],
          "parcoords": [
           {
            "line": {
             "colorbar": {
              "outlinewidth": 0,
              "ticks": ""
             }
            },
            "type": "parcoords"
           }
          ],
          "pie": [
           {
            "automargin": true,
            "type": "pie"
           }
          ],
          "scatter": [
           {
            "fillpattern": {
             "fillmode": "overlay",
             "size": 10,
             "solidity": 0.2
            },
            "type": "scatter"
           }
          ],
          "scatter3d": [
           {
            "line": {
             "colorbar": {
              "outlinewidth": 0,
              "ticks": ""
             }
            },
            "marker": {
             "colorbar": {
              "outlinewidth": 0,
              "ticks": ""
             }
            },
            "type": "scatter3d"
           }
          ],
          "scattercarpet": [
           {
            "marker": {
             "colorbar": {
              "outlinewidth": 0,
              "ticks": ""
             }
            },
            "type": "scattercarpet"
           }
          ],
          "scattergeo": [
           {
            "marker": {
             "colorbar": {
              "outlinewidth": 0,
              "ticks": ""
             }
            },
            "type": "scattergeo"
           }
          ],
          "scattergl": [
           {
            "marker": {
             "colorbar": {
              "outlinewidth": 0,
              "ticks": ""
             }
            },
            "type": "scattergl"
           }
          ],
          "scattermap": [
           {
            "marker": {
             "colorbar": {
              "outlinewidth": 0,
              "ticks": ""
             }
            },
            "type": "scattermap"
           }
          ],
          "scattermapbox": [
           {
            "marker": {
             "colorbar": {
              "outlinewidth": 0,
              "ticks": ""
             }
            },
            "type": "scattermapbox"
           }
          ],
          "scatterpolar": [
           {
            "marker": {
             "colorbar": {
              "outlinewidth": 0,
              "ticks": ""
             }
            },
            "type": "scatterpolar"
           }
          ],
          "scatterpolargl": [
           {
            "marker": {
             "colorbar": {
              "outlinewidth": 0,
              "ticks": ""
             }
            },
            "type": "scatterpolargl"
           }
          ],
          "scatterternary": [
           {
            "marker": {
             "colorbar": {
              "outlinewidth": 0,
              "ticks": ""
             }
            },
            "type": "scatterternary"
           }
          ],
          "surface": [
           {
            "colorbar": {
             "outlinewidth": 0,
             "ticks": ""
            },
            "colorscale": [
             [
              0,
              "#0d0887"
             ],
             [
              0.1111111111111111,
              "#46039f"
             ],
             [
              0.2222222222222222,
              "#7201a8"
             ],
             [
              0.3333333333333333,
              "#9c179e"
             ],
             [
              0.4444444444444444,
              "#bd3786"
             ],
             [
              0.5555555555555556,
              "#d8576b"
             ],
             [
              0.6666666666666666,
              "#ed7953"
             ],
             [
              0.7777777777777778,
              "#fb9f3a"
             ],
             [
              0.8888888888888888,
              "#fdca26"
             ],
             [
              1,
              "#f0f921"
             ]
            ],
            "type": "surface"
           }
          ],
          "table": [
           {
            "cells": {
             "fill": {
              "color": "#EBF0F8"
             },
             "line": {
              "color": "white"
             }
            },
            "header": {
             "fill": {
              "color": "#C8D4E3"
             },
             "line": {
              "color": "white"
             }
            },
            "type": "table"
           }
          ]
         },
         "layout": {
          "annotationdefaults": {
           "arrowcolor": "#2a3f5f",
           "arrowhead": 0,
           "arrowwidth": 1
          },
          "autotypenumbers": "strict",
          "coloraxis": {
           "colorbar": {
            "outlinewidth": 0,
            "ticks": ""
           }
          },
          "colorscale": {
           "diverging": [
            [
             0,
             "#8e0152"
            ],
            [
             0.1,
             "#c51b7d"
            ],
            [
             0.2,
             "#de77ae"
            ],
            [
             0.3,
             "#f1b6da"
            ],
            [
             0.4,
             "#fde0ef"
            ],
            [
             0.5,
             "#f7f7f7"
            ],
            [
             0.6,
             "#e6f5d0"
            ],
            [
             0.7,
             "#b8e186"
            ],
            [
             0.8,
             "#7fbc41"
            ],
            [
             0.9,
             "#4d9221"
            ],
            [
             1,
             "#276419"
            ]
           ],
           "sequential": [
            [
             0,
             "#0d0887"
            ],
            [
             0.1111111111111111,
             "#46039f"
            ],
            [
             0.2222222222222222,
             "#7201a8"
            ],
            [
             0.3333333333333333,
             "#9c179e"
            ],
            [
             0.4444444444444444,
             "#bd3786"
            ],
            [
             0.5555555555555556,
             "#d8576b"
            ],
            [
             0.6666666666666666,
             "#ed7953"
            ],
            [
             0.7777777777777778,
             "#fb9f3a"
            ],
            [
             0.8888888888888888,
             "#fdca26"
            ],
            [
             1,
             "#f0f921"
            ]
           ],
           "sequentialminus": [
            [
             0,
             "#0d0887"
            ],
            [
             0.1111111111111111,
             "#46039f"
            ],
            [
             0.2222222222222222,
             "#7201a8"
            ],
            [
             0.3333333333333333,
             "#9c179e"
            ],
            [
             0.4444444444444444,
             "#bd3786"
            ],
            [
             0.5555555555555556,
             "#d8576b"
            ],
            [
             0.6666666666666666,
             "#ed7953"
            ],
            [
             0.7777777777777778,
             "#fb9f3a"
            ],
            [
             0.8888888888888888,
             "#fdca26"
            ],
            [
             1,
             "#f0f921"
            ]
           ]
          },
          "colorway": [
           "#636efa",
           "#EF553B",
           "#00cc96",
           "#ab63fa",
           "#FFA15A",
           "#19d3f3",
           "#FF6692",
           "#B6E880",
           "#FF97FF",
           "#FECB52"
          ],
          "font": {
           "color": "#2a3f5f"
          },
          "geo": {
           "bgcolor": "white",
           "lakecolor": "white",
           "landcolor": "white",
           "showlakes": true,
           "showland": true,
           "subunitcolor": "#C8D4E3"
          },
          "hoverlabel": {
           "align": "left"
          },
          "hovermode": "closest",
          "mapbox": {
           "style": "light"
          },
          "paper_bgcolor": "white",
          "plot_bgcolor": "white",
          "polar": {
           "angularaxis": {
            "gridcolor": "#EBF0F8",
            "linecolor": "#EBF0F8",
            "ticks": ""
           },
           "bgcolor": "white",
           "radialaxis": {
            "gridcolor": "#EBF0F8",
            "linecolor": "#EBF0F8",
            "ticks": ""
           }
          },
          "scene": {
           "xaxis": {
            "backgroundcolor": "white",
            "gridcolor": "#DFE8F3",
            "gridwidth": 2,
            "linecolor": "#EBF0F8",
            "showbackground": true,
            "ticks": "",
            "zerolinecolor": "#EBF0F8"
           },
           "yaxis": {
            "backgroundcolor": "white",
            "gridcolor": "#DFE8F3",
            "gridwidth": 2,
            "linecolor": "#EBF0F8",
            "showbackground": true,
            "ticks": "",
            "zerolinecolor": "#EBF0F8"
           },
           "zaxis": {
            "backgroundcolor": "white",
            "gridcolor": "#DFE8F3",
            "gridwidth": 2,
            "linecolor": "#EBF0F8",
            "showbackground": true,
            "ticks": "",
            "zerolinecolor": "#EBF0F8"
           }
          },
          "shapedefaults": {
           "line": {
            "color": "#2a3f5f"
           }
          },
          "ternary": {
           "aaxis": {
            "gridcolor": "#DFE8F3",
            "linecolor": "#A2B1C6",
            "ticks": ""
           },
           "baxis": {
            "gridcolor": "#DFE8F3",
            "linecolor": "#A2B1C6",
            "ticks": ""
           },
           "bgcolor": "white",
           "caxis": {
            "gridcolor": "#DFE8F3",
            "linecolor": "#A2B1C6",
            "ticks": ""
           }
          },
          "title": {
           "x": 0.05
          },
          "xaxis": {
           "automargin": true,
           "gridcolor": "#EBF0F8",
           "linecolor": "#EBF0F8",
           "ticks": "",
           "title": {
            "standoff": 15
           },
           "zerolinecolor": "#EBF0F8",
           "zerolinewidth": 2
          },
          "yaxis": {
           "automargin": true,
           "gridcolor": "#EBF0F8",
           "linecolor": "#EBF0F8",
           "ticks": "",
           "title": {
            "standoff": 15
           },
           "zerolinecolor": "#EBF0F8",
           "zerolinewidth": 2
          }
         }
        },
        "width": 1800,
        "xaxis": {
         "anchor": "y",
         "domain": [
          0,
          0.51
         ],
         "title": {
          "text": "Normalized Trials"
         }
        },
        "xaxis2": {
         "anchor": "y2",
         "domain": [
          0.66,
          1
         ],
         "title": {
          "text": "AUC"
         }
        },
        "yaxis": {
         "anchor": "x",
         "domain": [
          0,
          1
         ],
         "title": {
          "text": "Normalized Inc-Performance"
         }
        },
        "yaxis2": {
         "anchor": "x2",
         "domain": [
          0,
          1
         ],
         "title": {
          "text": "Optimizer"
         }
        }
       }
      }
     },
     "metadata": {},
     "output_type": "display_data"
    }
   ],
   "source": [
    "# Which HPI method\n",
    "plot_one_thing('hpi_method')"
   ]
  },
  {
   "cell_type": "code",
   "execution_count": 48,
   "id": "d90ae2d8",
   "metadata": {},
   "outputs": [
    {
     "name": "stdout",
     "output_type": "stream",
     "text": [
      "['0-075' '0-down-half']\n"
     ]
    },
    {
     "name": "stderr",
     "output_type": "stream",
     "text": [
      "/tmp/ipykernel_37253/3449863810.py:27: DeprecationWarning:\n",
      "\n",
      "DataFrameGroupBy.apply operated on the grouping columns. This behavior is deprecated, and in a future version of pandas the grouping columns will be excluded from the operation. Either pass `include_groups=False` to exclude the groupings or explicitly select the grouping columns after groupby to silence this warning.\n",
      "\n"
     ]
    },
    {
     "data": {
      "application/vnd.plotly.v1+json": {
       "config": {
        "plotlyServerURL": "https://plot.ly"
       },
       "data": [
        {
         "line": {
          "color": "rgb(228,26,28)",
          "width": 2
         },
         "mode": "lines",
         "name": "0-075",
         "type": "scatter",
         "x": {
          "bdata": "AAAAAAAAAAB7FK5H4XqUP3sUrkfheqQ/uB6F61G4rj97FK5H4Xq0P5qZmZmZmbk/uB6F61G4vj/sUbgehevBP3sUrkfhesQ/CtejcD0Kxz+amZmZmZnJPylcj8L1KMw/uB6F61G4zj+kcD0K16PQP+xRuB6F69E/MzMzMzMz0z97FK5H4XrUP8P1KFyPwtU/CtejcD0K1z9SuB6F61HYP5qZmZmZmdk/4XoUrkfh2j8pXI/C9SjcP3E9CtejcN0/uB6F61G43j8AAAAAAADgP6RwPQrXo+A/SOF6FK5H4T/sUbgehevhP4/C9Shcj+I/MzMzMzMz4z/Xo3A9CtfjP3sUrkfheuQ/H4XrUbge5T/D9Shcj8LlP2dmZmZmZuY/CtejcD0K5z+uR+F6FK7nP1K4HoXrUeg/9ihcj8L16D+amZmZmZnpPz4K16NwPeo/4XoUrkfh6j+F61G4HoXrPylcj8L1KOw/zczMzMzM7D9xPQrXo3DtPxWuR+F6FO4/uB6F61G47j9cj8L1KFzvPwAAAAAAAPA/",
          "dtype": "f8"
         },
         "xaxis": "x",
         "y": {
          "bdata": "Dp9ZlWy57D9Y1/htsF7lPzYtt7WYsuI/DpON/eA44D89ANxbf/DcP01NUr2TG9s/dUrxLV9f2T/z4l7kvlvYP7cqXgfMY9c/yiEzjfF41j9T5DI49HTVPwonsy5Gv9Q/4biCPvMJ1D9Be7Fy6XvSP/o/+6KNXdA/VmMbRa2Tzz+g3yYzDTjNP5IHTE10q8s/k6I3mawKyj9sfuLzl3/IP3vtptX6E8c/5izzl36gxT+fjWzlP9HEP63UYcutAMM/Lk9rNrNiwT/q2NE7RoTAP8qBl5IAPMA/yoGXkgA8wD/KgZeSADzAP8qBl5IAPMA/yoGXkgA8wD/KgZeSADzAP8qBl5IAPMA/yoGXkgA8wD/KgZeSADzAP8qBl5IAPMA/yoGXkgA8wD/KgZeSADzAP8qBl5IAPMA/yoGXkgA8wD/KgZeSADzAP8qBl5IAPMA/yoGXkgA8wD/KgZeSADzAP8qBl5IAPMA/yoGXkgA8wD/KgZeSADzAP8qBl5IAPMA/yoGXkgA8wD/KgZeSADzAP8qBl5IAPMA/",
          "dtype": "f8"
         },
         "yaxis": "y"
        },
        {
         "fill": "toself",
         "fillcolor": "rgba(228,26,28,0.1)",
         "hoverinfo": "skip",
         "line": {
          "color": "rgba(255,255,255,0)"
         },
         "showlegend": false,
         "type": "scatter",
         "x": {
          "bdata": "AAAAAAAAAAB7FK5H4XqUP3sUrkfheqQ/uB6F61G4rj97FK5H4Xq0P5qZmZmZmbk/uB6F61G4vj/sUbgehevBP3sUrkfhesQ/CtejcD0Kxz+amZmZmZnJPylcj8L1KMw/uB6F61G4zj+kcD0K16PQP+xRuB6F69E/MzMzMzMz0z97FK5H4XrUP8P1KFyPwtU/CtejcD0K1z9SuB6F61HYP5qZmZmZmdk/4XoUrkfh2j8pXI/C9SjcP3E9CtejcN0/uB6F61G43j8AAAAAAADgP6RwPQrXo+A/SOF6FK5H4T/sUbgehevhP4/C9Shcj+I/MzMzMzMz4z/Xo3A9CtfjP3sUrkfheuQ/H4XrUbge5T/D9Shcj8LlP2dmZmZmZuY/CtejcD0K5z+uR+F6FK7nP1K4HoXrUeg/9ihcj8L16D+amZmZmZnpPz4K16NwPeo/4XoUrkfh6j+F61G4HoXrPylcj8L1KOw/zczMzMzM7D9xPQrXo3DtPxWuR+F6FO4/uB6F61G47j9cj8L1KFzvPwAAAAAAAPA/AAAAAAAA8D9cj8L1KFzvP7gehetRuO4/Fa5H4XoU7j9xPQrXo3DtP83MzMzMzOw/KVyPwvUo7D+F61G4HoXrP+F6FK5H4eo/PgrXo3A96j+amZmZmZnpP/YoXI/C9eg/UrgehetR6D+uR+F6FK7nPwrXo3A9Cuc/Z2ZmZmZm5j/D9Shcj8LlPx+F61G4HuU/exSuR+F65D/Xo3A9CtfjPzMzMzMzM+M/j8L1KFyP4j/sUbgehevhP0jhehSuR+E/pHA9Ctej4D8AAAAAAADgP7gehetRuN4/cT0K16Nw3T8pXI/C9SjcP+F6FK5H4do/mpmZmZmZ2T9SuB6F61HYPwrXo3A9Ctc/w/UoXI/C1T97FK5H4XrUPzMzMzMzM9M/7FG4HoXr0T+kcD0K16PQP7gehetRuM4/KVyPwvUozD+amZmZmZnJPwrXo3A9Csc/exSuR+F6xD/sUbgehevBP7gehetRuL4/mpmZmZmZuT97FK5H4Xq0P7gehetRuK4/exSuR+F6pD97FK5H4XqUPwAAAAAAAAAA",
          "dtype": "f8"
         },
         "xaxis": "x",
         "y": {
          "bdata": "FZaInXkA7D9rb7NZ8kPkPx5iNaPEpuE/+JWTUOLN3j/089PuQw3bPzNx7PF6rdk/kJuKxmDz1z+5oFQQ9BDXP8jb2e6l9NU/LuLEiMJk1T84XXgKK4HUP5wVDryMvtM/ybZqbXwe0z8h5EedJaPRP94Gye5m5M4/hZoq7gDezT+yvuOhc9rKP62/mwkUd8k/fEBt2ZgJyD+feB9lEnbGPwIjYD5a7MQ/0FAOjYTHwz+jW7oGIifDP/7yO9gLAsI/KdXSqJukwD80gjMpNZ+/P4q1N5H27b4/irU3kfbtvj+KtTeR9u2+P4q1N5H27b4/irU3kfbtvj+KtTeR9u2+P4q1N5H27b4/irU3kfbtvj+KtTeR9u2+P4q1N5H27b4/irU3kfbtvj+KtTeR9u2+P4q1N5H27b4/irU3kfbtvj+KtTeR9u2+P4q1N5H27b4/irU3kfbtvj+KtTeR9u2+P4q1N5H27b4/irU3kfbtvj+KtTeR9u2+P4q1N5H27b4/irU3kfbtvj+KtTeR9u2+P4q1N5H27b4/zyiT3AUBwT/PKJPcBQHBP88ok9wFAcE/zyiT3AUBwT/PKJPcBQHBP88ok9wFAcE/zyiT3AUBwT/PKJPcBQHBP88ok9wFAcE/zyiT3AUBwT/PKJPcBQHBP88ok9wFAcE/zyiT3AUBwT/PKJPcBQHBP88ok9wFAcE/zyiT3AUBwT/PKJPcBQHBP88ok9wFAcE/zyiT3AUBwT/PKJPcBQHBP88ok9wFAcE/zyiT3AUBwT/PKJPcBQHBP88ok9wFAcE/zyiT3AUBwT+68Anj8TjBPzPJA8TKIMI/XLaHvk//wz+bvx7EXXvGP/wI2KJ4ecc/9LftbJs7yT85hKWCHYnKP6oEAlnAC8w/d0/8kNTfzT+OAGrEppXPPxMWBs6spNA/hfyRzudI0T9hEhtIrVTTP/m6mg9q9dQ/eDhYof+/1T9ua+1lvWjWP2ZhoZEgjdc/pnniH/LS2D8tJWm4iabZP1r5V5Vdy9o/Zym4iKyJ3D+GDOTIutPePyBb0dLQCuE/Tvg4yGy+4z9FPz6CbnnmPweoKo1fcu0/",
          "dtype": "f8"
         },
         "yaxis": "y"
        },
        {
         "line": {
          "color": "rgb(55,126,184)",
          "width": 2
         },
         "mode": "lines",
         "name": "0-down-half",
         "type": "scatter",
         "x": {
          "bdata": "AAAAAAAAAAB7FK5H4XqUP3sUrkfheqQ/uB6F61G4rj97FK5H4Xq0P5qZmZmZmbk/uB6F61G4vj/sUbgehevBP3sUrkfhesQ/CtejcD0Kxz+amZmZmZnJPylcj8L1KMw/uB6F61G4zj+kcD0K16PQP+xRuB6F69E/MzMzMzMz0z97FK5H4XrUP8P1KFyPwtU/CtejcD0K1z9SuB6F61HYP5qZmZmZmdk/4XoUrkfh2j8pXI/C9SjcP3E9CtejcN0/uB6F61G43j8AAAAAAADgP6RwPQrXo+A/SOF6FK5H4T/sUbgehevhP4/C9Shcj+I/MzMzMzMz4z/Xo3A9CtfjP3sUrkfheuQ/H4XrUbge5T/D9Shcj8LlP2dmZmZmZuY/CtejcD0K5z+uR+F6FK7nP1K4HoXrUeg/9ihcj8L16D+amZmZmZnpPz4K16NwPeo/4XoUrkfh6j+F61G4HoXrPylcj8L1KOw/zczMzMzM7D9xPQrXo3DtPxWuR+F6FO4/uB6F61G47j9cj8L1KFzvPwAAAAAAAPA/",
          "dtype": "f8"
         },
         "xaxis": "x",
         "y": {
          "bdata": "Dp9ZlWy57D9Y1/htsF7lPzYtt7WYsuI/DpON/eA44D89ANxbf/DcP01NUr2TG9s/dUrxLV9f2T/z4l7kvlvYP7cqXgfMY9c/yiEzjfF41j9T5DI49HTVPwonsy5Gv9Q/4biCPvMJ1D9Be7Fy6XvSP/o/+6KNXdA/VmMbRa2Tzz+g3yYzDTjNP5IHTE10q8s/k6I3mawKyj9sfuLzl3/IP3vtptX6E8c/5izzl36gxT+fjWzlP9HEP63UYcutAMM/Lk9rNrNiwT/q2NE7RoTAP8qBl5IAPMA/yoGXkgA8wD/KgZeSADzAP8qBl5IAPMA/yoGXkgA8wD/KgZeSADzAP8qBl5IAPMA/yoGXkgA8wD/KgZeSADzAP8qBl5IAPMA/yoGXkgA8wD/KgZeSADzAP8qBl5IAPMA/yoGXkgA8wD/KgZeSADzAP8qBl5IAPMA/yoGXkgA8wD/KgZeSADzAP8qBl5IAPMA/yoGXkgA8wD/KgZeSADzAP8qBl5IAPMA/yoGXkgA8wD/KgZeSADzAP8qBl5IAPMA/",
          "dtype": "f8"
         },
         "yaxis": "y"
        },
        {
         "fill": "toself",
         "fillcolor": "rgba(55,126,184,0.1)",
         "hoverinfo": "skip",
         "line": {
          "color": "rgba(255,255,255,0)"
         },
         "showlegend": false,
         "type": "scatter",
         "x": {
          "bdata": "AAAAAAAAAAB7FK5H4XqUP3sUrkfheqQ/uB6F61G4rj97FK5H4Xq0P5qZmZmZmbk/uB6F61G4vj/sUbgehevBP3sUrkfhesQ/CtejcD0Kxz+amZmZmZnJPylcj8L1KMw/uB6F61G4zj+kcD0K16PQP+xRuB6F69E/MzMzMzMz0z97FK5H4XrUP8P1KFyPwtU/CtejcD0K1z9SuB6F61HYP5qZmZmZmdk/4XoUrkfh2j8pXI/C9SjcP3E9CtejcN0/uB6F61G43j8AAAAAAADgP6RwPQrXo+A/SOF6FK5H4T/sUbgehevhP4/C9Shcj+I/MzMzMzMz4z/Xo3A9CtfjP3sUrkfheuQ/H4XrUbge5T/D9Shcj8LlP2dmZmZmZuY/CtejcD0K5z+uR+F6FK7nP1K4HoXrUeg/9ihcj8L16D+amZmZmZnpPz4K16NwPeo/4XoUrkfh6j+F61G4HoXrPylcj8L1KOw/zczMzMzM7D9xPQrXo3DtPxWuR+F6FO4/uB6F61G47j9cj8L1KFzvPwAAAAAAAPA/AAAAAAAA8D9cj8L1KFzvP7gehetRuO4/Fa5H4XoU7j9xPQrXo3DtP83MzMzMzOw/KVyPwvUo7D+F61G4HoXrP+F6FK5H4eo/PgrXo3A96j+amZmZmZnpP/YoXI/C9eg/UrgehetR6D+uR+F6FK7nPwrXo3A9Cuc/Z2ZmZmZm5j/D9Shcj8LlPx+F61G4HuU/exSuR+F65D/Xo3A9CtfjPzMzMzMzM+M/j8L1KFyP4j/sUbgehevhP0jhehSuR+E/pHA9Ctej4D8AAAAAAADgP7gehetRuN4/cT0K16Nw3T8pXI/C9SjcP+F6FK5H4do/mpmZmZmZ2T9SuB6F61HYPwrXo3A9Ctc/w/UoXI/C1T97FK5H4XrUPzMzMzMzM9M/7FG4HoXr0T+kcD0K16PQP7gehetRuM4/KVyPwvUozD+amZmZmZnJPwrXo3A9Csc/exSuR+F6xD/sUbgehevBP7gehetRuL4/mpmZmZmZuT97FK5H4Xq0P7gehetRuK4/exSuR+F6pD97FK5H4XqUPwAAAAAAAAAA",
          "dtype": "f8"
         },
         "xaxis": "x",
         "y": {
          "bdata": "FZaInXkA7D9rb7NZ8kPkPx5iNaPEpuE/+JWTUOLN3j/089PuQw3bPzNx7PF6rdk/kJuKxmDz1z+5oFQQ9BDXP8jb2e6l9NU/LuLEiMJk1T84XXgKK4HUP5wVDryMvtM/ybZqbXwe0z8h5EedJaPRP94Gye5m5M4/hZoq7gDezT+yvuOhc9rKP62/mwkUd8k/fEBt2ZgJyD+feB9lEnbGPwIjYD5a7MQ/0FAOjYTHwz+jW7oGIifDP/7yO9gLAsI/KdXSqJukwD80gjMpNZ+/P4q1N5H27b4/irU3kfbtvj+KtTeR9u2+P4q1N5H27b4/irU3kfbtvj+KtTeR9u2+P4q1N5H27b4/irU3kfbtvj+KtTeR9u2+P4q1N5H27b4/irU3kfbtvj+KtTeR9u2+P4q1N5H27b4/irU3kfbtvj+KtTeR9u2+P4q1N5H27b4/irU3kfbtvj+KtTeR9u2+P4q1N5H27b4/irU3kfbtvj+KtTeR9u2+P4q1N5H27b4/irU3kfbtvj+KtTeR9u2+P4q1N5H27b4/zyiT3AUBwT/PKJPcBQHBP88ok9wFAcE/zyiT3AUBwT/PKJPcBQHBP88ok9wFAcE/zyiT3AUBwT/PKJPcBQHBP88ok9wFAcE/zyiT3AUBwT/PKJPcBQHBP88ok9wFAcE/zyiT3AUBwT/PKJPcBQHBP88ok9wFAcE/zyiT3AUBwT/PKJPcBQHBP88ok9wFAcE/zyiT3AUBwT/PKJPcBQHBP88ok9wFAcE/zyiT3AUBwT/PKJPcBQHBP88ok9wFAcE/zyiT3AUBwT+68Anj8TjBPzPJA8TKIMI/XLaHvk//wz+bvx7EXXvGP/wI2KJ4ecc/9LftbJs7yT85hKWCHYnKP6oEAlnAC8w/d0/8kNTfzT+OAGrEppXPPxMWBs6spNA/hfyRzudI0T9hEhtIrVTTP/m6mg9q9dQ/eDhYof+/1T9ua+1lvWjWP2ZhoZEgjdc/pnniH/LS2D8tJWm4iabZP1r5V5Vdy9o/Zym4iKyJ3D+GDOTIutPePyBb0dLQCuE/Tvg4yGy+4z9FPz6CbnnmPweoKo1fcu0/",
          "dtype": "f8"
         },
         "yaxis": "y"
        },
        {
         "error_x": {
          "array": {
           "bdata": "TKK7ebFQhj9Mort5sVCGPw==",
           "dtype": "f8"
          },
          "type": "data"
         },
         "marker": {
          "color": "skyblue",
          "line": {
           "color": "black",
           "width": 1
          }
         },
         "orientation": "h",
         "showlegend": false,
         "type": "bar",
         "x": {
          "bdata": "aHR7xEyNzT9odHvETI3NPw==",
          "dtype": "f8"
         },
         "xaxis": "x2",
         "y": [
          "0-075",
          "0-down-half"
         ],
         "yaxis": "y2"
        }
       ],
       "layout": {
        "font": {
         "size": 16
        },
        "height": 400,
        "legend": {
         "font": {
          "size": 16
         },
         "title": {
          "text": "Optimizers"
         }
        },
        "margin": {
         "b": 50,
         "l": 50,
         "r": 50,
         "t": 60
        },
        "template": {
         "data": {
          "bar": [
           {
            "error_x": {
             "color": "#2a3f5f"
            },
            "error_y": {
             "color": "#2a3f5f"
            },
            "marker": {
             "line": {
              "color": "white",
              "width": 0.5
             },
             "pattern": {
              "fillmode": "overlay",
              "size": 10,
              "solidity": 0.2
             }
            },
            "type": "bar"
           }
          ],
          "barpolar": [
           {
            "marker": {
             "line": {
              "color": "white",
              "width": 0.5
             },
             "pattern": {
              "fillmode": "overlay",
              "size": 10,
              "solidity": 0.2
             }
            },
            "type": "barpolar"
           }
          ],
          "carpet": [
           {
            "aaxis": {
             "endlinecolor": "#2a3f5f",
             "gridcolor": "#C8D4E3",
             "linecolor": "#C8D4E3",
             "minorgridcolor": "#C8D4E3",
             "startlinecolor": "#2a3f5f"
            },
            "baxis": {
             "endlinecolor": "#2a3f5f",
             "gridcolor": "#C8D4E3",
             "linecolor": "#C8D4E3",
             "minorgridcolor": "#C8D4E3",
             "startlinecolor": "#2a3f5f"
            },
            "type": "carpet"
           }
          ],
          "choropleth": [
           {
            "colorbar": {
             "outlinewidth": 0,
             "ticks": ""
            },
            "type": "choropleth"
           }
          ],
          "contour": [
           {
            "colorbar": {
             "outlinewidth": 0,
             "ticks": ""
            },
            "colorscale": [
             [
              0,
              "#0d0887"
             ],
             [
              0.1111111111111111,
              "#46039f"
             ],
             [
              0.2222222222222222,
              "#7201a8"
             ],
             [
              0.3333333333333333,
              "#9c179e"
             ],
             [
              0.4444444444444444,
              "#bd3786"
             ],
             [
              0.5555555555555556,
              "#d8576b"
             ],
             [
              0.6666666666666666,
              "#ed7953"
             ],
             [
              0.7777777777777778,
              "#fb9f3a"
             ],
             [
              0.8888888888888888,
              "#fdca26"
             ],
             [
              1,
              "#f0f921"
             ]
            ],
            "type": "contour"
           }
          ],
          "contourcarpet": [
           {
            "colorbar": {
             "outlinewidth": 0,
             "ticks": ""
            },
            "type": "contourcarpet"
           }
          ],
          "heatmap": [
           {
            "colorbar": {
             "outlinewidth": 0,
             "ticks": ""
            },
            "colorscale": [
             [
              0,
              "#0d0887"
             ],
             [
              0.1111111111111111,
              "#46039f"
             ],
             [
              0.2222222222222222,
              "#7201a8"
             ],
             [
              0.3333333333333333,
              "#9c179e"
             ],
             [
              0.4444444444444444,
              "#bd3786"
             ],
             [
              0.5555555555555556,
              "#d8576b"
             ],
             [
              0.6666666666666666,
              "#ed7953"
             ],
             [
              0.7777777777777778,
              "#fb9f3a"
             ],
             [
              0.8888888888888888,
              "#fdca26"
             ],
             [
              1,
              "#f0f921"
             ]
            ],
            "type": "heatmap"
           }
          ],
          "histogram": [
           {
            "marker": {
             "pattern": {
              "fillmode": "overlay",
              "size": 10,
              "solidity": 0.2
             }
            },
            "type": "histogram"
           }
          ],
          "histogram2d": [
           {
            "colorbar": {
             "outlinewidth": 0,
             "ticks": ""
            },
            "colorscale": [
             [
              0,
              "#0d0887"
             ],
             [
              0.1111111111111111,
              "#46039f"
             ],
             [
              0.2222222222222222,
              "#7201a8"
             ],
             [
              0.3333333333333333,
              "#9c179e"
             ],
             [
              0.4444444444444444,
              "#bd3786"
             ],
             [
              0.5555555555555556,
              "#d8576b"
             ],
             [
              0.6666666666666666,
              "#ed7953"
             ],
             [
              0.7777777777777778,
              "#fb9f3a"
             ],
             [
              0.8888888888888888,
              "#fdca26"
             ],
             [
              1,
              "#f0f921"
             ]
            ],
            "type": "histogram2d"
           }
          ],
          "histogram2dcontour": [
           {
            "colorbar": {
             "outlinewidth": 0,
             "ticks": ""
            },
            "colorscale": [
             [
              0,
              "#0d0887"
             ],
             [
              0.1111111111111111,
              "#46039f"
             ],
             [
              0.2222222222222222,
              "#7201a8"
             ],
             [
              0.3333333333333333,
              "#9c179e"
             ],
             [
              0.4444444444444444,
              "#bd3786"
             ],
             [
              0.5555555555555556,
              "#d8576b"
             ],
             [
              0.6666666666666666,
              "#ed7953"
             ],
             [
              0.7777777777777778,
              "#fb9f3a"
             ],
             [
              0.8888888888888888,
              "#fdca26"
             ],
             [
              1,
              "#f0f921"
             ]
            ],
            "type": "histogram2dcontour"
           }
          ],
          "mesh3d": [
           {
            "colorbar": {
             "outlinewidth": 0,
             "ticks": ""
            },
            "type": "mesh3d"
           }
          ],
          "parcoords": [
           {
            "line": {
             "colorbar": {
              "outlinewidth": 0,
              "ticks": ""
             }
            },
            "type": "parcoords"
           }
          ],
          "pie": [
           {
            "automargin": true,
            "type": "pie"
           }
          ],
          "scatter": [
           {
            "fillpattern": {
             "fillmode": "overlay",
             "size": 10,
             "solidity": 0.2
            },
            "type": "scatter"
           }
          ],
          "scatter3d": [
           {
            "line": {
             "colorbar": {
              "outlinewidth": 0,
              "ticks": ""
             }
            },
            "marker": {
             "colorbar": {
              "outlinewidth": 0,
              "ticks": ""
             }
            },
            "type": "scatter3d"
           }
          ],
          "scattercarpet": [
           {
            "marker": {
             "colorbar": {
              "outlinewidth": 0,
              "ticks": ""
             }
            },
            "type": "scattercarpet"
           }
          ],
          "scattergeo": [
           {
            "marker": {
             "colorbar": {
              "outlinewidth": 0,
              "ticks": ""
             }
            },
            "type": "scattergeo"
           }
          ],
          "scattergl": [
           {
            "marker": {
             "colorbar": {
              "outlinewidth": 0,
              "ticks": ""
             }
            },
            "type": "scattergl"
           }
          ],
          "scattermap": [
           {
            "marker": {
             "colorbar": {
              "outlinewidth": 0,
              "ticks": ""
             }
            },
            "type": "scattermap"
           }
          ],
          "scattermapbox": [
           {
            "marker": {
             "colorbar": {
              "outlinewidth": 0,
              "ticks": ""
             }
            },
            "type": "scattermapbox"
           }
          ],
          "scatterpolar": [
           {
            "marker": {
             "colorbar": {
              "outlinewidth": 0,
              "ticks": ""
             }
            },
            "type": "scatterpolar"
           }
          ],
          "scatterpolargl": [
           {
            "marker": {
             "colorbar": {
              "outlinewidth": 0,
              "ticks": ""
             }
            },
            "type": "scatterpolargl"
           }
          ],
          "scatterternary": [
           {
            "marker": {
             "colorbar": {
              "outlinewidth": 0,
              "ticks": ""
             }
            },
            "type": "scatterternary"
           }
          ],
          "surface": [
           {
            "colorbar": {
             "outlinewidth": 0,
             "ticks": ""
            },
            "colorscale": [
             [
              0,
              "#0d0887"
             ],
             [
              0.1111111111111111,
              "#46039f"
             ],
             [
              0.2222222222222222,
              "#7201a8"
             ],
             [
              0.3333333333333333,
              "#9c179e"
             ],
             [
              0.4444444444444444,
              "#bd3786"
             ],
             [
              0.5555555555555556,
              "#d8576b"
             ],
             [
              0.6666666666666666,
              "#ed7953"
             ],
             [
              0.7777777777777778,
              "#fb9f3a"
             ],
             [
              0.8888888888888888,
              "#fdca26"
             ],
             [
              1,
              "#f0f921"
             ]
            ],
            "type": "surface"
           }
          ],
          "table": [
           {
            "cells": {
             "fill": {
              "color": "#EBF0F8"
             },
             "line": {
              "color": "white"
             }
            },
            "header": {
             "fill": {
              "color": "#C8D4E3"
             },
             "line": {
              "color": "white"
             }
            },
            "type": "table"
           }
          ]
         },
         "layout": {
          "annotationdefaults": {
           "arrowcolor": "#2a3f5f",
           "arrowhead": 0,
           "arrowwidth": 1
          },
          "autotypenumbers": "strict",
          "coloraxis": {
           "colorbar": {
            "outlinewidth": 0,
            "ticks": ""
           }
          },
          "colorscale": {
           "diverging": [
            [
             0,
             "#8e0152"
            ],
            [
             0.1,
             "#c51b7d"
            ],
            [
             0.2,
             "#de77ae"
            ],
            [
             0.3,
             "#f1b6da"
            ],
            [
             0.4,
             "#fde0ef"
            ],
            [
             0.5,
             "#f7f7f7"
            ],
            [
             0.6,
             "#e6f5d0"
            ],
            [
             0.7,
             "#b8e186"
            ],
            [
             0.8,
             "#7fbc41"
            ],
            [
             0.9,
             "#4d9221"
            ],
            [
             1,
             "#276419"
            ]
           ],
           "sequential": [
            [
             0,
             "#0d0887"
            ],
            [
             0.1111111111111111,
             "#46039f"
            ],
            [
             0.2222222222222222,
             "#7201a8"
            ],
            [
             0.3333333333333333,
             "#9c179e"
            ],
            [
             0.4444444444444444,
             "#bd3786"
            ],
            [
             0.5555555555555556,
             "#d8576b"
            ],
            [
             0.6666666666666666,
             "#ed7953"
            ],
            [
             0.7777777777777778,
             "#fb9f3a"
            ],
            [
             0.8888888888888888,
             "#fdca26"
            ],
            [
             1,
             "#f0f921"
            ]
           ],
           "sequentialminus": [
            [
             0,
             "#0d0887"
            ],
            [
             0.1111111111111111,
             "#46039f"
            ],
            [
             0.2222222222222222,
             "#7201a8"
            ],
            [
             0.3333333333333333,
             "#9c179e"
            ],
            [
             0.4444444444444444,
             "#bd3786"
            ],
            [
             0.5555555555555556,
             "#d8576b"
            ],
            [
             0.6666666666666666,
             "#ed7953"
            ],
            [
             0.7777777777777778,
             "#fb9f3a"
            ],
            [
             0.8888888888888888,
             "#fdca26"
            ],
            [
             1,
             "#f0f921"
            ]
           ]
          },
          "colorway": [
           "#636efa",
           "#EF553B",
           "#00cc96",
           "#ab63fa",
           "#FFA15A",
           "#19d3f3",
           "#FF6692",
           "#B6E880",
           "#FF97FF",
           "#FECB52"
          ],
          "font": {
           "color": "#2a3f5f"
          },
          "geo": {
           "bgcolor": "white",
           "lakecolor": "white",
           "landcolor": "white",
           "showlakes": true,
           "showland": true,
           "subunitcolor": "#C8D4E3"
          },
          "hoverlabel": {
           "align": "left"
          },
          "hovermode": "closest",
          "mapbox": {
           "style": "light"
          },
          "paper_bgcolor": "white",
          "plot_bgcolor": "white",
          "polar": {
           "angularaxis": {
            "gridcolor": "#EBF0F8",
            "linecolor": "#EBF0F8",
            "ticks": ""
           },
           "bgcolor": "white",
           "radialaxis": {
            "gridcolor": "#EBF0F8",
            "linecolor": "#EBF0F8",
            "ticks": ""
           }
          },
          "scene": {
           "xaxis": {
            "backgroundcolor": "white",
            "gridcolor": "#DFE8F3",
            "gridwidth": 2,
            "linecolor": "#EBF0F8",
            "showbackground": true,
            "ticks": "",
            "zerolinecolor": "#EBF0F8"
           },
           "yaxis": {
            "backgroundcolor": "white",
            "gridcolor": "#DFE8F3",
            "gridwidth": 2,
            "linecolor": "#EBF0F8",
            "showbackground": true,
            "ticks": "",
            "zerolinecolor": "#EBF0F8"
           },
           "zaxis": {
            "backgroundcolor": "white",
            "gridcolor": "#DFE8F3",
            "gridwidth": 2,
            "linecolor": "#EBF0F8",
            "showbackground": true,
            "ticks": "",
            "zerolinecolor": "#EBF0F8"
           }
          },
          "shapedefaults": {
           "line": {
            "color": "#2a3f5f"
           }
          },
          "ternary": {
           "aaxis": {
            "gridcolor": "#DFE8F3",
            "linecolor": "#A2B1C6",
            "ticks": ""
           },
           "baxis": {
            "gridcolor": "#DFE8F3",
            "linecolor": "#A2B1C6",
            "ticks": ""
           },
           "bgcolor": "white",
           "caxis": {
            "gridcolor": "#DFE8F3",
            "linecolor": "#A2B1C6",
            "ticks": ""
           }
          },
          "title": {
           "x": 0.05
          },
          "xaxis": {
           "automargin": true,
           "gridcolor": "#EBF0F8",
           "linecolor": "#EBF0F8",
           "ticks": "",
           "title": {
            "standoff": 15
           },
           "zerolinecolor": "#EBF0F8",
           "zerolinewidth": 2
          },
          "yaxis": {
           "automargin": true,
           "gridcolor": "#EBF0F8",
           "linecolor": "#EBF0F8",
           "ticks": "",
           "title": {
            "standoff": 15
           },
           "zerolinecolor": "#EBF0F8",
           "zerolinewidth": 2
          }
         }
        },
        "width": 1800,
        "xaxis": {
         "anchor": "y",
         "domain": [
          0,
          0.51
         ],
         "title": {
          "text": "Normalized Trials"
         }
        },
        "xaxis2": {
         "anchor": "y2",
         "domain": [
          0.66,
          1
         ],
         "title": {
          "text": "AUC"
         }
        },
        "yaxis": {
         "anchor": "x",
         "domain": [
          0,
          1
         ],
         "title": {
          "text": "Normalized Inc-Performance"
         }
        },
        "yaxis2": {
         "anchor": "x2",
         "domain": [
          0,
          1
         ],
         "title": {
          "text": "Optimizer"
         }
        }
       }
      }
     },
     "metadata": {},
     "output_type": "display_data"
    }
   ],
   "source": [
    "# Which thresholding?\n",
    "plot_one_thing('thresh')"
   ]
  },
  {
   "cell_type": "code",
   "execution_count": 49,
   "id": "a0435a60",
   "metadata": {},
   "outputs": [
    {
     "name": "stdout",
     "output_type": "stream",
     "text": [
      "['True' 'cs_proba_hpi']\n"
     ]
    },
    {
     "name": "stderr",
     "output_type": "stream",
     "text": [
      "/tmp/ipykernel_37253/3449863810.py:27: DeprecationWarning:\n",
      "\n",
      "DataFrameGroupBy.apply operated on the grouping columns. This behavior is deprecated, and in a future version of pandas the grouping columns will be excluded from the operation. Either pass `include_groups=False` to exclude the groupings or explicitly select the grouping columns after groupby to silence this warning.\n",
      "\n"
     ]
    },
    {
     "data": {
      "application/vnd.plotly.v1+json": {
       "config": {
        "plotlyServerURL": "https://plot.ly"
       },
       "data": [
        {
         "line": {
          "color": "rgb(228,26,28)",
          "width": 2
         },
         "mode": "lines",
         "name": "True",
         "type": "scatter",
         "x": {
          "bdata": "AAAAAAAAAAB7FK5H4XqUP3sUrkfheqQ/uB6F61G4rj97FK5H4Xq0P5qZmZmZmbk/uB6F61G4vj/sUbgehevBP3sUrkfhesQ/CtejcD0Kxz+amZmZmZnJPylcj8L1KMw/uB6F61G4zj+kcD0K16PQP+xRuB6F69E/MzMzMzMz0z97FK5H4XrUP8P1KFyPwtU/CtejcD0K1z9SuB6F61HYP5qZmZmZmdk/4XoUrkfh2j8pXI/C9SjcP3E9CtejcN0/uB6F61G43j8AAAAAAADgP6RwPQrXo+A/SOF6FK5H4T/sUbgehevhP4/C9Shcj+I/MzMzMzMz4z/Xo3A9CtfjP3sUrkfheuQ/H4XrUbge5T/D9Shcj8LlP2dmZmZmZuY/CtejcD0K5z+uR+F6FK7nP1K4HoXrUeg/9ihcj8L16D+amZmZmZnpPz4K16NwPeo/4XoUrkfh6j+F61G4HoXrPylcj8L1KOw/zczMzMzM7D9xPQrXo3DtPxWuR+F6FO4/uB6F61G47j9cj8L1KFzvPwAAAAAAAPA/",
          "dtype": "f8"
         },
         "xaxis": "x",
         "y": {
          "bdata": "Dp9ZlWy57D9Y1/htsF7lPzYtt7WYsuI/DpON/eA44D89ANxbf/DcP01NUr2TG9s/dUrxLV9f2T/z4l7kvlvYP7cqXgfMY9c/yiEzjfF41j9T5DI49HTVPwonsy5Gv9Q/4biCPvMJ1D9Be7Fy6XvSP/o/+6KNXdA/VmMbRa2Tzz+g3yYzDTjNP5IHTE10q8s/k6I3mawKyj9sfuLzl3/IP3vtptX6E8c/5izzl36gxT+fjWzlP9HEP63UYcutAMM/Lk9rNrNiwT/q2NE7RoTAP8qBl5IAPMA/yoGXkgA8wD/KgZeSADzAP8qBl5IAPMA/yoGXkgA8wD/KgZeSADzAP8qBl5IAPMA/yoGXkgA8wD/KgZeSADzAP8qBl5IAPMA/yoGXkgA8wD/KgZeSADzAP8qBl5IAPMA/yoGXkgA8wD/KgZeSADzAP8qBl5IAPMA/yoGXkgA8wD/KgZeSADzAP8qBl5IAPMA/yoGXkgA8wD/KgZeSADzAP8qBl5IAPMA/yoGXkgA8wD/KgZeSADzAP8qBl5IAPMA/",
          "dtype": "f8"
         },
         "yaxis": "y"
        },
        {
         "fill": "toself",
         "fillcolor": "rgba(228,26,28,0.1)",
         "hoverinfo": "skip",
         "line": {
          "color": "rgba(255,255,255,0)"
         },
         "showlegend": false,
         "type": "scatter",
         "x": {
          "bdata": "AAAAAAAAAAB7FK5H4XqUP3sUrkfheqQ/uB6F61G4rj97FK5H4Xq0P5qZmZmZmbk/uB6F61G4vj/sUbgehevBP3sUrkfhesQ/CtejcD0Kxz+amZmZmZnJPylcj8L1KMw/uB6F61G4zj+kcD0K16PQP+xRuB6F69E/MzMzMzMz0z97FK5H4XrUP8P1KFyPwtU/CtejcD0K1z9SuB6F61HYP5qZmZmZmdk/4XoUrkfh2j8pXI/C9SjcP3E9CtejcN0/uB6F61G43j8AAAAAAADgP6RwPQrXo+A/SOF6FK5H4T/sUbgehevhP4/C9Shcj+I/MzMzMzMz4z/Xo3A9CtfjP3sUrkfheuQ/H4XrUbge5T/D9Shcj8LlP2dmZmZmZuY/CtejcD0K5z+uR+F6FK7nP1K4HoXrUeg/9ihcj8L16D+amZmZmZnpPz4K16NwPeo/4XoUrkfh6j+F61G4HoXrPylcj8L1KOw/zczMzMzM7D9xPQrXo3DtPxWuR+F6FO4/uB6F61G47j9cj8L1KFzvPwAAAAAAAPA/AAAAAAAA8D9cj8L1KFzvP7gehetRuO4/Fa5H4XoU7j9xPQrXo3DtP83MzMzMzOw/KVyPwvUo7D+F61G4HoXrP+F6FK5H4eo/PgrXo3A96j+amZmZmZnpP/YoXI/C9eg/UrgehetR6D+uR+F6FK7nPwrXo3A9Cuc/Z2ZmZmZm5j/D9Shcj8LlPx+F61G4HuU/exSuR+F65D/Xo3A9CtfjPzMzMzMzM+M/j8L1KFyP4j/sUbgehevhP0jhehSuR+E/pHA9Ctej4D8AAAAAAADgP7gehetRuN4/cT0K16Nw3T8pXI/C9SjcP+F6FK5H4do/mpmZmZmZ2T9SuB6F61HYPwrXo3A9Ctc/w/UoXI/C1T97FK5H4XrUPzMzMzMzM9M/7FG4HoXr0T+kcD0K16PQP7gehetRuM4/KVyPwvUozD+amZmZmZnJPwrXo3A9Csc/exSuR+F6xD/sUbgehevBP7gehetRuL4/mpmZmZmZuT97FK5H4Xq0P7gehetRuK4/exSuR+F6pD97FK5H4XqUPwAAAAAAAAAA",
          "dtype": "f8"
         },
         "xaxis": "x",
         "y": {
          "bdata": "FZaInXkA7D9rb7NZ8kPkPx5iNaPEpuE/+JWTUOLN3j/089PuQw3bPzNx7PF6rdk/kJuKxmDz1z+5oFQQ9BDXP8jb2e6l9NU/LuLEiMJk1T84XXgKK4HUP5wVDryMvtM/ybZqbXwe0z8h5EedJaPRP94Gye5m5M4/hZoq7gDezT+yvuOhc9rKP62/mwkUd8k/fEBt2ZgJyD+feB9lEnbGPwIjYD5a7MQ/0FAOjYTHwz+jW7oGIifDP/7yO9gLAsI/KdXSqJukwD80gjMpNZ+/P4q1N5H27b4/irU3kfbtvj+KtTeR9u2+P4q1N5H27b4/irU3kfbtvj+KtTeR9u2+P4q1N5H27b4/irU3kfbtvj+KtTeR9u2+P4q1N5H27b4/irU3kfbtvj+KtTeR9u2+P4q1N5H27b4/irU3kfbtvj+KtTeR9u2+P4q1N5H27b4/irU3kfbtvj+KtTeR9u2+P4q1N5H27b4/irU3kfbtvj+KtTeR9u2+P4q1N5H27b4/irU3kfbtvj+KtTeR9u2+P4q1N5H27b4/zyiT3AUBwT/PKJPcBQHBP88ok9wFAcE/zyiT3AUBwT/PKJPcBQHBP88ok9wFAcE/zyiT3AUBwT/PKJPcBQHBP88ok9wFAcE/zyiT3AUBwT/PKJPcBQHBP88ok9wFAcE/zyiT3AUBwT/PKJPcBQHBP88ok9wFAcE/zyiT3AUBwT/PKJPcBQHBP88ok9wFAcE/zyiT3AUBwT/PKJPcBQHBP88ok9wFAcE/zyiT3AUBwT/PKJPcBQHBP88ok9wFAcE/zyiT3AUBwT+68Anj8TjBPzPJA8TKIMI/XLaHvk//wz+bvx7EXXvGP/wI2KJ4ecc/9LftbJs7yT85hKWCHYnKP6oEAlnAC8w/d0/8kNTfzT+OAGrEppXPPxMWBs6spNA/hfyRzudI0T9hEhtIrVTTP/m6mg9q9dQ/eDhYof+/1T9ua+1lvWjWP2ZhoZEgjdc/pnniH/LS2D8tJWm4iabZP1r5V5Vdy9o/Zym4iKyJ3D+GDOTIutPePyBb0dLQCuE/Tvg4yGy+4z9FPz6CbnnmPweoKo1fcu0/",
          "dtype": "f8"
         },
         "yaxis": "y"
        },
        {
         "line": {
          "color": "rgb(55,126,184)",
          "width": 2
         },
         "mode": "lines",
         "name": "cs_proba_hpi",
         "type": "scatter",
         "x": {
          "bdata": "AAAAAAAAAAB7FK5H4XqUP3sUrkfheqQ/uB6F61G4rj97FK5H4Xq0P5qZmZmZmbk/uB6F61G4vj/sUbgehevBP3sUrkfhesQ/CtejcD0Kxz+amZmZmZnJPylcj8L1KMw/uB6F61G4zj+kcD0K16PQP+xRuB6F69E/MzMzMzMz0z97FK5H4XrUP8P1KFyPwtU/CtejcD0K1z9SuB6F61HYP5qZmZmZmdk/4XoUrkfh2j8pXI/C9SjcP3E9CtejcN0/uB6F61G43j8AAAAAAADgP6RwPQrXo+A/SOF6FK5H4T/sUbgehevhP4/C9Shcj+I/MzMzMzMz4z/Xo3A9CtfjP3sUrkfheuQ/H4XrUbge5T/D9Shcj8LlP2dmZmZmZuY/CtejcD0K5z+uR+F6FK7nP1K4HoXrUeg/9ihcj8L16D+amZmZmZnpPz4K16NwPeo/4XoUrkfh6j+F61G4HoXrPylcj8L1KOw/zczMzMzM7D9xPQrXo3DtPxWuR+F6FO4/uB6F61G47j9cj8L1KFzvPwAAAAAAAPA/",
          "dtype": "f8"
         },
         "xaxis": "x",
         "y": {
          "bdata": "Dp9ZlWy57D9Y1/htsF7lPzYtt7WYsuI/DpON/eA44D89ANxbf/DcP01NUr2TG9s/dUrxLV9f2T/z4l7kvlvYP7cqXgfMY9c/yiEzjfF41j9T5DI49HTVPwonsy5Gv9Q/4biCPvMJ1D9Be7Fy6XvSP/o/+6KNXdA/VmMbRa2Tzz+g3yYzDTjNP5IHTE10q8s/k6I3mawKyj9sfuLzl3/IP3vtptX6E8c/5izzl36gxT+fjWzlP9HEP63UYcutAMM/Lk9rNrNiwT/q2NE7RoTAP8qBl5IAPMA/yoGXkgA8wD/KgZeSADzAP8qBl5IAPMA/yoGXkgA8wD/KgZeSADzAP8qBl5IAPMA/yoGXkgA8wD/KgZeSADzAP8qBl5IAPMA/yoGXkgA8wD/KgZeSADzAP8qBl5IAPMA/yoGXkgA8wD/KgZeSADzAP8qBl5IAPMA/yoGXkgA8wD/KgZeSADzAP8qBl5IAPMA/yoGXkgA8wD/KgZeSADzAP8qBl5IAPMA/yoGXkgA8wD/KgZeSADzAP8qBl5IAPMA/",
          "dtype": "f8"
         },
         "yaxis": "y"
        },
        {
         "fill": "toself",
         "fillcolor": "rgba(55,126,184,0.1)",
         "hoverinfo": "skip",
         "line": {
          "color": "rgba(255,255,255,0)"
         },
         "showlegend": false,
         "type": "scatter",
         "x": {
          "bdata": "AAAAAAAAAAB7FK5H4XqUP3sUrkfheqQ/uB6F61G4rj97FK5H4Xq0P5qZmZmZmbk/uB6F61G4vj/sUbgehevBP3sUrkfhesQ/CtejcD0Kxz+amZmZmZnJPylcj8L1KMw/uB6F61G4zj+kcD0K16PQP+xRuB6F69E/MzMzMzMz0z97FK5H4XrUP8P1KFyPwtU/CtejcD0K1z9SuB6F61HYP5qZmZmZmdk/4XoUrkfh2j8pXI/C9SjcP3E9CtejcN0/uB6F61G43j8AAAAAAADgP6RwPQrXo+A/SOF6FK5H4T/sUbgehevhP4/C9Shcj+I/MzMzMzMz4z/Xo3A9CtfjP3sUrkfheuQ/H4XrUbge5T/D9Shcj8LlP2dmZmZmZuY/CtejcD0K5z+uR+F6FK7nP1K4HoXrUeg/9ihcj8L16D+amZmZmZnpPz4K16NwPeo/4XoUrkfh6j+F61G4HoXrPylcj8L1KOw/zczMzMzM7D9xPQrXo3DtPxWuR+F6FO4/uB6F61G47j9cj8L1KFzvPwAAAAAAAPA/AAAAAAAA8D9cj8L1KFzvP7gehetRuO4/Fa5H4XoU7j9xPQrXo3DtP83MzMzMzOw/KVyPwvUo7D+F61G4HoXrP+F6FK5H4eo/PgrXo3A96j+amZmZmZnpP/YoXI/C9eg/UrgehetR6D+uR+F6FK7nPwrXo3A9Cuc/Z2ZmZmZm5j/D9Shcj8LlPx+F61G4HuU/exSuR+F65D/Xo3A9CtfjPzMzMzMzM+M/j8L1KFyP4j/sUbgehevhP0jhehSuR+E/pHA9Ctej4D8AAAAAAADgP7gehetRuN4/cT0K16Nw3T8pXI/C9SjcP+F6FK5H4do/mpmZmZmZ2T9SuB6F61HYPwrXo3A9Ctc/w/UoXI/C1T97FK5H4XrUPzMzMzMzM9M/7FG4HoXr0T+kcD0K16PQP7gehetRuM4/KVyPwvUozD+amZmZmZnJPwrXo3A9Csc/exSuR+F6xD/sUbgehevBP7gehetRuL4/mpmZmZmZuT97FK5H4Xq0P7gehetRuK4/exSuR+F6pD97FK5H4XqUPwAAAAAAAAAA",
          "dtype": "f8"
         },
         "xaxis": "x",
         "y": {
          "bdata": "FZaInXkA7D9rb7NZ8kPkPx5iNaPEpuE/+JWTUOLN3j/089PuQw3bPzNx7PF6rdk/kJuKxmDz1z+5oFQQ9BDXP8jb2e6l9NU/LuLEiMJk1T84XXgKK4HUP5wVDryMvtM/ybZqbXwe0z8h5EedJaPRP94Gye5m5M4/hZoq7gDezT+yvuOhc9rKP62/mwkUd8k/fEBt2ZgJyD+feB9lEnbGPwIjYD5a7MQ/0FAOjYTHwz+jW7oGIifDP/7yO9gLAsI/KdXSqJukwD80gjMpNZ+/P4q1N5H27b4/irU3kfbtvj+KtTeR9u2+P4q1N5H27b4/irU3kfbtvj+KtTeR9u2+P4q1N5H27b4/irU3kfbtvj+KtTeR9u2+P4q1N5H27b4/irU3kfbtvj+KtTeR9u2+P4q1N5H27b4/irU3kfbtvj+KtTeR9u2+P4q1N5H27b4/irU3kfbtvj+KtTeR9u2+P4q1N5H27b4/irU3kfbtvj+KtTeR9u2+P4q1N5H27b4/irU3kfbtvj+KtTeR9u2+P4q1N5H27b4/zyiT3AUBwT/PKJPcBQHBP88ok9wFAcE/zyiT3AUBwT/PKJPcBQHBP88ok9wFAcE/zyiT3AUBwT/PKJPcBQHBP88ok9wFAcE/zyiT3AUBwT/PKJPcBQHBP88ok9wFAcE/zyiT3AUBwT/PKJPcBQHBP88ok9wFAcE/zyiT3AUBwT/PKJPcBQHBP88ok9wFAcE/zyiT3AUBwT/PKJPcBQHBP88ok9wFAcE/zyiT3AUBwT/PKJPcBQHBP88ok9wFAcE/zyiT3AUBwT+68Anj8TjBPzPJA8TKIMI/XLaHvk//wz+bvx7EXXvGP/wI2KJ4ecc/9LftbJs7yT85hKWCHYnKP6oEAlnAC8w/d0/8kNTfzT+OAGrEppXPPxMWBs6spNA/hfyRzudI0T9hEhtIrVTTP/m6mg9q9dQ/eDhYof+/1T9ua+1lvWjWP2ZhoZEgjdc/pnniH/LS2D8tJWm4iabZP1r5V5Vdy9o/Zym4iKyJ3D+GDOTIutPePyBb0dLQCuE/Tvg4yGy+4z9FPz6CbnnmPweoKo1fcu0/",
          "dtype": "f8"
         },
         "yaxis": "y"
        },
        {
         "error_x": {
          "array": {
           "bdata": "TKK7ebFQhj9Mort5sVCGPw==",
           "dtype": "f8"
          },
          "type": "data"
         },
         "marker": {
          "color": "skyblue",
          "line": {
           "color": "black",
           "width": 1
          }
         },
         "orientation": "h",
         "showlegend": false,
         "type": "bar",
         "x": {
          "bdata": "aHR7xEyNzT9odHvETI3NPw==",
          "dtype": "f8"
         },
         "xaxis": "x2",
         "y": [
          "True",
          "cs_proba_hpi"
         ],
         "yaxis": "y2"
        }
       ],
       "layout": {
        "font": {
         "size": 16
        },
        "height": 400,
        "legend": {
         "font": {
          "size": 16
         },
         "title": {
          "text": "Optimizers"
         }
        },
        "margin": {
         "b": 50,
         "l": 50,
         "r": 50,
         "t": 60
        },
        "template": {
         "data": {
          "bar": [
           {
            "error_x": {
             "color": "#2a3f5f"
            },
            "error_y": {
             "color": "#2a3f5f"
            },
            "marker": {
             "line": {
              "color": "white",
              "width": 0.5
             },
             "pattern": {
              "fillmode": "overlay",
              "size": 10,
              "solidity": 0.2
             }
            },
            "type": "bar"
           }
          ],
          "barpolar": [
           {
            "marker": {
             "line": {
              "color": "white",
              "width": 0.5
             },
             "pattern": {
              "fillmode": "overlay",
              "size": 10,
              "solidity": 0.2
             }
            },
            "type": "barpolar"
           }
          ],
          "carpet": [
           {
            "aaxis": {
             "endlinecolor": "#2a3f5f",
             "gridcolor": "#C8D4E3",
             "linecolor": "#C8D4E3",
             "minorgridcolor": "#C8D4E3",
             "startlinecolor": "#2a3f5f"
            },
            "baxis": {
             "endlinecolor": "#2a3f5f",
             "gridcolor": "#C8D4E3",
             "linecolor": "#C8D4E3",
             "minorgridcolor": "#C8D4E3",
             "startlinecolor": "#2a3f5f"
            },
            "type": "carpet"
           }
          ],
          "choropleth": [
           {
            "colorbar": {
             "outlinewidth": 0,
             "ticks": ""
            },
            "type": "choropleth"
           }
          ],
          "contour": [
           {
            "colorbar": {
             "outlinewidth": 0,
             "ticks": ""
            },
            "colorscale": [
             [
              0,
              "#0d0887"
             ],
             [
              0.1111111111111111,
              "#46039f"
             ],
             [
              0.2222222222222222,
              "#7201a8"
             ],
             [
              0.3333333333333333,
              "#9c179e"
             ],
             [
              0.4444444444444444,
              "#bd3786"
             ],
             [
              0.5555555555555556,
              "#d8576b"
             ],
             [
              0.6666666666666666,
              "#ed7953"
             ],
             [
              0.7777777777777778,
              "#fb9f3a"
             ],
             [
              0.8888888888888888,
              "#fdca26"
             ],
             [
              1,
              "#f0f921"
             ]
            ],
            "type": "contour"
           }
          ],
          "contourcarpet": [
           {
            "colorbar": {
             "outlinewidth": 0,
             "ticks": ""
            },
            "type": "contourcarpet"
           }
          ],
          "heatmap": [
           {
            "colorbar": {
             "outlinewidth": 0,
             "ticks": ""
            },
            "colorscale": [
             [
              0,
              "#0d0887"
             ],
             [
              0.1111111111111111,
              "#46039f"
             ],
             [
              0.2222222222222222,
              "#7201a8"
             ],
             [
              0.3333333333333333,
              "#9c179e"
             ],
             [
              0.4444444444444444,
              "#bd3786"
             ],
             [
              0.5555555555555556,
              "#d8576b"
             ],
             [
              0.6666666666666666,
              "#ed7953"
             ],
             [
              0.7777777777777778,
              "#fb9f3a"
             ],
             [
              0.8888888888888888,
              "#fdca26"
             ],
             [
              1,
              "#f0f921"
             ]
            ],
            "type": "heatmap"
           }
          ],
          "histogram": [
           {
            "marker": {
             "pattern": {
              "fillmode": "overlay",
              "size": 10,
              "solidity": 0.2
             }
            },
            "type": "histogram"
           }
          ],
          "histogram2d": [
           {
            "colorbar": {
             "outlinewidth": 0,
             "ticks": ""
            },
            "colorscale": [
             [
              0,
              "#0d0887"
             ],
             [
              0.1111111111111111,
              "#46039f"
             ],
             [
              0.2222222222222222,
              "#7201a8"
             ],
             [
              0.3333333333333333,
              "#9c179e"
             ],
             [
              0.4444444444444444,
              "#bd3786"
             ],
             [
              0.5555555555555556,
              "#d8576b"
             ],
             [
              0.6666666666666666,
              "#ed7953"
             ],
             [
              0.7777777777777778,
              "#fb9f3a"
             ],
             [
              0.8888888888888888,
              "#fdca26"
             ],
             [
              1,
              "#f0f921"
             ]
            ],
            "type": "histogram2d"
           }
          ],
          "histogram2dcontour": [
           {
            "colorbar": {
             "outlinewidth": 0,
             "ticks": ""
            },
            "colorscale": [
             [
              0,
              "#0d0887"
             ],
             [
              0.1111111111111111,
              "#46039f"
             ],
             [
              0.2222222222222222,
              "#7201a8"
             ],
             [
              0.3333333333333333,
              "#9c179e"
             ],
             [
              0.4444444444444444,
              "#bd3786"
             ],
             [
              0.5555555555555556,
              "#d8576b"
             ],
             [
              0.6666666666666666,
              "#ed7953"
             ],
             [
              0.7777777777777778,
              "#fb9f3a"
             ],
             [
              0.8888888888888888,
              "#fdca26"
             ],
             [
              1,
              "#f0f921"
             ]
            ],
            "type": "histogram2dcontour"
           }
          ],
          "mesh3d": [
           {
            "colorbar": {
             "outlinewidth": 0,
             "ticks": ""
            },
            "type": "mesh3d"
           }
          ],
          "parcoords": [
           {
            "line": {
             "colorbar": {
              "outlinewidth": 0,
              "ticks": ""
             }
            },
            "type": "parcoords"
           }
          ],
          "pie": [
           {
            "automargin": true,
            "type": "pie"
           }
          ],
          "scatter": [
           {
            "fillpattern": {
             "fillmode": "overlay",
             "size": 10,
             "solidity": 0.2
            },
            "type": "scatter"
           }
          ],
          "scatter3d": [
           {
            "line": {
             "colorbar": {
              "outlinewidth": 0,
              "ticks": ""
             }
            },
            "marker": {
             "colorbar": {
              "outlinewidth": 0,
              "ticks": ""
             }
            },
            "type": "scatter3d"
           }
          ],
          "scattercarpet": [
           {
            "marker": {
             "colorbar": {
              "outlinewidth": 0,
              "ticks": ""
             }
            },
            "type": "scattercarpet"
           }
          ],
          "scattergeo": [
           {
            "marker": {
             "colorbar": {
              "outlinewidth": 0,
              "ticks": ""
             }
            },
            "type": "scattergeo"
           }
          ],
          "scattergl": [
           {
            "marker": {
             "colorbar": {
              "outlinewidth": 0,
              "ticks": ""
             }
            },
            "type": "scattergl"
           }
          ],
          "scattermap": [
           {
            "marker": {
             "colorbar": {
              "outlinewidth": 0,
              "ticks": ""
             }
            },
            "type": "scattermap"
           }
          ],
          "scattermapbox": [
           {
            "marker": {
             "colorbar": {
              "outlinewidth": 0,
              "ticks": ""
             }
            },
            "type": "scattermapbox"
           }
          ],
          "scatterpolar": [
           {
            "marker": {
             "colorbar": {
              "outlinewidth": 0,
              "ticks": ""
             }
            },
            "type": "scatterpolar"
           }
          ],
          "scatterpolargl": [
           {
            "marker": {
             "colorbar": {
              "outlinewidth": 0,
              "ticks": ""
             }
            },
            "type": "scatterpolargl"
           }
          ],
          "scatterternary": [
           {
            "marker": {
             "colorbar": {
              "outlinewidth": 0,
              "ticks": ""
             }
            },
            "type": "scatterternary"
           }
          ],
          "surface": [
           {
            "colorbar": {
             "outlinewidth": 0,
             "ticks": ""
            },
            "colorscale": [
             [
              0,
              "#0d0887"
             ],
             [
              0.1111111111111111,
              "#46039f"
             ],
             [
              0.2222222222222222,
              "#7201a8"
             ],
             [
              0.3333333333333333,
              "#9c179e"
             ],
             [
              0.4444444444444444,
              "#bd3786"
             ],
             [
              0.5555555555555556,
              "#d8576b"
             ],
             [
              0.6666666666666666,
              "#ed7953"
             ],
             [
              0.7777777777777778,
              "#fb9f3a"
             ],
             [
              0.8888888888888888,
              "#fdca26"
             ],
             [
              1,
              "#f0f921"
             ]
            ],
            "type": "surface"
           }
          ],
          "table": [
           {
            "cells": {
             "fill": {
              "color": "#EBF0F8"
             },
             "line": {
              "color": "white"
             }
            },
            "header": {
             "fill": {
              "color": "#C8D4E3"
             },
             "line": {
              "color": "white"
             }
            },
            "type": "table"
           }
          ]
         },
         "layout": {
          "annotationdefaults": {
           "arrowcolor": "#2a3f5f",
           "arrowhead": 0,
           "arrowwidth": 1
          },
          "autotypenumbers": "strict",
          "coloraxis": {
           "colorbar": {
            "outlinewidth": 0,
            "ticks": ""
           }
          },
          "colorscale": {
           "diverging": [
            [
             0,
             "#8e0152"
            ],
            [
             0.1,
             "#c51b7d"
            ],
            [
             0.2,
             "#de77ae"
            ],
            [
             0.3,
             "#f1b6da"
            ],
            [
             0.4,
             "#fde0ef"
            ],
            [
             0.5,
             "#f7f7f7"
            ],
            [
             0.6,
             "#e6f5d0"
            ],
            [
             0.7,
             "#b8e186"
            ],
            [
             0.8,
             "#7fbc41"
            ],
            [
             0.9,
             "#4d9221"
            ],
            [
             1,
             "#276419"
            ]
           ],
           "sequential": [
            [
             0,
             "#0d0887"
            ],
            [
             0.1111111111111111,
             "#46039f"
            ],
            [
             0.2222222222222222,
             "#7201a8"
            ],
            [
             0.3333333333333333,
             "#9c179e"
            ],
            [
             0.4444444444444444,
             "#bd3786"
            ],
            [
             0.5555555555555556,
             "#d8576b"
            ],
            [
             0.6666666666666666,
             "#ed7953"
            ],
            [
             0.7777777777777778,
             "#fb9f3a"
            ],
            [
             0.8888888888888888,
             "#fdca26"
            ],
            [
             1,
             "#f0f921"
            ]
           ],
           "sequentialminus": [
            [
             0,
             "#0d0887"
            ],
            [
             0.1111111111111111,
             "#46039f"
            ],
            [
             0.2222222222222222,
             "#7201a8"
            ],
            [
             0.3333333333333333,
             "#9c179e"
            ],
            [
             0.4444444444444444,
             "#bd3786"
            ],
            [
             0.5555555555555556,
             "#d8576b"
            ],
            [
             0.6666666666666666,
             "#ed7953"
            ],
            [
             0.7777777777777778,
             "#fb9f3a"
            ],
            [
             0.8888888888888888,
             "#fdca26"
            ],
            [
             1,
             "#f0f921"
            ]
           ]
          },
          "colorway": [
           "#636efa",
           "#EF553B",
           "#00cc96",
           "#ab63fa",
           "#FFA15A",
           "#19d3f3",
           "#FF6692",
           "#B6E880",
           "#FF97FF",
           "#FECB52"
          ],
          "font": {
           "color": "#2a3f5f"
          },
          "geo": {
           "bgcolor": "white",
           "lakecolor": "white",
           "landcolor": "white",
           "showlakes": true,
           "showland": true,
           "subunitcolor": "#C8D4E3"
          },
          "hoverlabel": {
           "align": "left"
          },
          "hovermode": "closest",
          "mapbox": {
           "style": "light"
          },
          "paper_bgcolor": "white",
          "plot_bgcolor": "white",
          "polar": {
           "angularaxis": {
            "gridcolor": "#EBF0F8",
            "linecolor": "#EBF0F8",
            "ticks": ""
           },
           "bgcolor": "white",
           "radialaxis": {
            "gridcolor": "#EBF0F8",
            "linecolor": "#EBF0F8",
            "ticks": ""
           }
          },
          "scene": {
           "xaxis": {
            "backgroundcolor": "white",
            "gridcolor": "#DFE8F3",
            "gridwidth": 2,
            "linecolor": "#EBF0F8",
            "showbackground": true,
            "ticks": "",
            "zerolinecolor": "#EBF0F8"
           },
           "yaxis": {
            "backgroundcolor": "white",
            "gridcolor": "#DFE8F3",
            "gridwidth": 2,
            "linecolor": "#EBF0F8",
            "showbackground": true,
            "ticks": "",
            "zerolinecolor": "#EBF0F8"
           },
           "zaxis": {
            "backgroundcolor": "white",
            "gridcolor": "#DFE8F3",
            "gridwidth": 2,
            "linecolor": "#EBF0F8",
            "showbackground": true,
            "ticks": "",
            "zerolinecolor": "#EBF0F8"
           }
          },
          "shapedefaults": {
           "line": {
            "color": "#2a3f5f"
           }
          },
          "ternary": {
           "aaxis": {
            "gridcolor": "#DFE8F3",
            "linecolor": "#A2B1C6",
            "ticks": ""
           },
           "baxis": {
            "gridcolor": "#DFE8F3",
            "linecolor": "#A2B1C6",
            "ticks": ""
           },
           "bgcolor": "white",
           "caxis": {
            "gridcolor": "#DFE8F3",
            "linecolor": "#A2B1C6",
            "ticks": ""
           }
          },
          "title": {
           "x": 0.05
          },
          "xaxis": {
           "automargin": true,
           "gridcolor": "#EBF0F8",
           "linecolor": "#EBF0F8",
           "ticks": "",
           "title": {
            "standoff": 15
           },
           "zerolinecolor": "#EBF0F8",
           "zerolinewidth": 2
          },
          "yaxis": {
           "automargin": true,
           "gridcolor": "#EBF0F8",
           "linecolor": "#EBF0F8",
           "ticks": "",
           "title": {
            "standoff": 15
           },
           "zerolinecolor": "#EBF0F8",
           "zerolinewidth": 2
          }
         }
        },
        "width": 1800,
        "xaxis": {
         "anchor": "y",
         "domain": [
          0,
          0.51
         ],
         "title": {
          "text": "Normalized Trials"
         }
        },
        "xaxis2": {
         "anchor": "y2",
         "domain": [
          0.66,
          1
         ],
         "title": {
          "text": "AUC"
         }
        },
        "yaxis": {
         "anchor": "x",
         "domain": [
          0,
          1
         ],
         "title": {
          "text": "Normalized Inc-Performance"
         }
        },
        "yaxis2": {
         "anchor": "x2",
         "domain": [
          0,
          1
         ],
         "title": {
          "text": "Optimizer"
         }
        }
       }
      }
     },
     "metadata": {},
     "output_type": "display_data"
    }
   ],
   "source": [
    "plot_one_thing('adjust_cs')"
   ]
  },
  {
   "cell_type": "code",
   "execution_count": 50,
   "id": "4e845a7f",
   "metadata": {},
   "outputs": [
    {
     "name": "stdout",
     "output_type": "stream",
     "text": [
      "['default']\n"
     ]
    },
    {
     "name": "stderr",
     "output_type": "stream",
     "text": [
      "/tmp/ipykernel_37253/3449863810.py:27: DeprecationWarning:\n",
      "\n",
      "DataFrameGroupBy.apply operated on the grouping columns. This behavior is deprecated, and in a future version of pandas the grouping columns will be excluded from the operation. Either pass `include_groups=False` to exclude the groupings or explicitly select the grouping columns after groupby to silence this warning.\n",
      "\n"
     ]
    },
    {
     "data": {
      "application/vnd.plotly.v1+json": {
       "config": {
        "plotlyServerURL": "https://plot.ly"
       },
       "data": [
        {
         "line": {
          "color": "rgb(228,26,28)",
          "width": 2
         },
         "mode": "lines",
         "name": "default",
         "type": "scatter",
         "x": {
          "bdata": "AAAAAAAAAAB7FK5H4XqUP3sUrkfheqQ/uB6F61G4rj97FK5H4Xq0P5qZmZmZmbk/uB6F61G4vj/sUbgehevBP3sUrkfhesQ/CtejcD0Kxz+amZmZmZnJPylcj8L1KMw/uB6F61G4zj+kcD0K16PQP+xRuB6F69E/MzMzMzMz0z97FK5H4XrUP8P1KFyPwtU/CtejcD0K1z9SuB6F61HYP5qZmZmZmdk/4XoUrkfh2j8pXI/C9SjcP3E9CtejcN0/uB6F61G43j8AAAAAAADgP6RwPQrXo+A/SOF6FK5H4T/sUbgehevhP4/C9Shcj+I/MzMzMzMz4z/Xo3A9CtfjP3sUrkfheuQ/H4XrUbge5T/D9Shcj8LlP2dmZmZmZuY/CtejcD0K5z+uR+F6FK7nP1K4HoXrUeg/9ihcj8L16D+amZmZmZnpPz4K16NwPeo/4XoUrkfh6j+F61G4HoXrPylcj8L1KOw/zczMzMzM7D9xPQrXo3DtPxWuR+F6FO4/uB6F61G47j9cj8L1KFzvPwAAAAAAAPA/",
          "dtype": "f8"
         },
         "xaxis": "x",
         "y": {
          "bdata": "Dp9ZlWy57D9Y1/htsF7lPzYtt7WYsuI/DpON/eA44D89ANxbf/DcP01NUr2TG9s/dUrxLV9f2T/z4l7kvlvYP7cqXgfMY9c/yiEzjfF41j9T5DI49HTVPwonsy5Gv9Q/4biCPvMJ1D9Be7Fy6XvSP/o/+6KNXdA/VmMbRa2Tzz+g3yYzDTjNP5IHTE10q8s/k6I3mawKyj9sfuLzl3/IP3vtptX6E8c/5izzl36gxT+fjWzlP9HEP63UYcutAMM/Lk9rNrNiwT/q2NE7RoTAP8qBl5IAPMA/yoGXkgA8wD/KgZeSADzAP8qBl5IAPMA/yoGXkgA8wD/KgZeSADzAP8qBl5IAPMA/yoGXkgA8wD/KgZeSADzAP8qBl5IAPMA/yoGXkgA8wD/KgZeSADzAP8qBl5IAPMA/yoGXkgA8wD/KgZeSADzAP8qBl5IAPMA/yoGXkgA8wD/KgZeSADzAP8qBl5IAPMA/yoGXkgA8wD/KgZeSADzAP8qBl5IAPMA/yoGXkgA8wD/KgZeSADzAP8qBl5IAPMA/",
          "dtype": "f8"
         },
         "yaxis": "y"
        },
        {
         "fill": "toself",
         "fillcolor": "rgba(228,26,28,0.1)",
         "hoverinfo": "skip",
         "line": {
          "color": "rgba(255,255,255,0)"
         },
         "showlegend": false,
         "type": "scatter",
         "x": {
          "bdata": "AAAAAAAAAAB7FK5H4XqUP3sUrkfheqQ/uB6F61G4rj97FK5H4Xq0P5qZmZmZmbk/uB6F61G4vj/sUbgehevBP3sUrkfhesQ/CtejcD0Kxz+amZmZmZnJPylcj8L1KMw/uB6F61G4zj+kcD0K16PQP+xRuB6F69E/MzMzMzMz0z97FK5H4XrUP8P1KFyPwtU/CtejcD0K1z9SuB6F61HYP5qZmZmZmdk/4XoUrkfh2j8pXI/C9SjcP3E9CtejcN0/uB6F61G43j8AAAAAAADgP6RwPQrXo+A/SOF6FK5H4T/sUbgehevhP4/C9Shcj+I/MzMzMzMz4z/Xo3A9CtfjP3sUrkfheuQ/H4XrUbge5T/D9Shcj8LlP2dmZmZmZuY/CtejcD0K5z+uR+F6FK7nP1K4HoXrUeg/9ihcj8L16D+amZmZmZnpPz4K16NwPeo/4XoUrkfh6j+F61G4HoXrPylcj8L1KOw/zczMzMzM7D9xPQrXo3DtPxWuR+F6FO4/uB6F61G47j9cj8L1KFzvPwAAAAAAAPA/AAAAAAAA8D9cj8L1KFzvP7gehetRuO4/Fa5H4XoU7j9xPQrXo3DtP83MzMzMzOw/KVyPwvUo7D+F61G4HoXrP+F6FK5H4eo/PgrXo3A96j+amZmZmZnpP/YoXI/C9eg/UrgehetR6D+uR+F6FK7nPwrXo3A9Cuc/Z2ZmZmZm5j/D9Shcj8LlPx+F61G4HuU/exSuR+F65D/Xo3A9CtfjPzMzMzMzM+M/j8L1KFyP4j/sUbgehevhP0jhehSuR+E/pHA9Ctej4D8AAAAAAADgP7gehetRuN4/cT0K16Nw3T8pXI/C9SjcP+F6FK5H4do/mpmZmZmZ2T9SuB6F61HYPwrXo3A9Ctc/w/UoXI/C1T97FK5H4XrUPzMzMzMzM9M/7FG4HoXr0T+kcD0K16PQP7gehetRuM4/KVyPwvUozD+amZmZmZnJPwrXo3A9Csc/exSuR+F6xD/sUbgehevBP7gehetRuL4/mpmZmZmZuT97FK5H4Xq0P7gehetRuK4/exSuR+F6pD97FK5H4XqUPwAAAAAAAAAA",
          "dtype": "f8"
         },
         "xaxis": "x",
         "y": {
          "bdata": "FZaInXkA7D9rb7NZ8kPkPx5iNaPEpuE/+JWTUOLN3j/089PuQw3bPzNx7PF6rdk/kJuKxmDz1z+5oFQQ9BDXP8jb2e6l9NU/LuLEiMJk1T84XXgKK4HUP5wVDryMvtM/ybZqbXwe0z8h5EedJaPRP94Gye5m5M4/hZoq7gDezT+yvuOhc9rKP62/mwkUd8k/fEBt2ZgJyD+feB9lEnbGPwIjYD5a7MQ/0FAOjYTHwz+jW7oGIifDP/7yO9gLAsI/KdXSqJukwD80gjMpNZ+/P4q1N5H27b4/irU3kfbtvj+KtTeR9u2+P4q1N5H27b4/irU3kfbtvj+KtTeR9u2+P4q1N5H27b4/irU3kfbtvj+KtTeR9u2+P4q1N5H27b4/irU3kfbtvj+KtTeR9u2+P4q1N5H27b4/irU3kfbtvj+KtTeR9u2+P4q1N5H27b4/irU3kfbtvj+KtTeR9u2+P4q1N5H27b4/irU3kfbtvj+KtTeR9u2+P4q1N5H27b4/irU3kfbtvj+KtTeR9u2+P4q1N5H27b4/zyiT3AUBwT/PKJPcBQHBP88ok9wFAcE/zyiT3AUBwT/PKJPcBQHBP88ok9wFAcE/zyiT3AUBwT/PKJPcBQHBP88ok9wFAcE/zyiT3AUBwT/PKJPcBQHBP88ok9wFAcE/zyiT3AUBwT/PKJPcBQHBP88ok9wFAcE/zyiT3AUBwT/PKJPcBQHBP88ok9wFAcE/zyiT3AUBwT/PKJPcBQHBP88ok9wFAcE/zyiT3AUBwT/PKJPcBQHBP88ok9wFAcE/zyiT3AUBwT+68Anj8TjBPzPJA8TKIMI/XLaHvk//wz+bvx7EXXvGP/wI2KJ4ecc/9LftbJs7yT85hKWCHYnKP6oEAlnAC8w/d0/8kNTfzT+OAGrEppXPPxMWBs6spNA/hfyRzudI0T9hEhtIrVTTP/m6mg9q9dQ/eDhYof+/1T9ua+1lvWjWP2ZhoZEgjdc/pnniH/LS2D8tJWm4iabZP1r5V5Vdy9o/Zym4iKyJ3D+GDOTIutPePyBb0dLQCuE/Tvg4yGy+4z9FPz6CbnnmPweoKo1fcu0/",
          "dtype": "f8"
         },
         "yaxis": "y"
        },
        {
         "error_x": {
          "array": {
           "bdata": "TgP9W75Qhz8=",
           "dtype": "f8"
          },
          "type": "data"
         },
         "marker": {
          "color": "skyblue",
          "line": {
           "color": "black",
           "width": 1
          }
         },
         "orientation": "h",
         "showlegend": false,
         "type": "bar",
         "x": {
          "bdata": "mgFTGBT5yz8=",
          "dtype": "f8"
         },
         "xaxis": "x2",
         "y": [
          "default"
         ],
         "yaxis": "y2"
        }
       ],
       "layout": {
        "font": {
         "size": 16
        },
        "height": 400,
        "legend": {
         "font": {
          "size": 16
         },
         "title": {
          "text": "Optimizers"
         }
        },
        "margin": {
         "b": 50,
         "l": 50,
         "r": 50,
         "t": 60
        },
        "template": {
         "data": {
          "bar": [
           {
            "error_x": {
             "color": "#2a3f5f"
            },
            "error_y": {
             "color": "#2a3f5f"
            },
            "marker": {
             "line": {
              "color": "white",
              "width": 0.5
             },
             "pattern": {
              "fillmode": "overlay",
              "size": 10,
              "solidity": 0.2
             }
            },
            "type": "bar"
           }
          ],
          "barpolar": [
           {
            "marker": {
             "line": {
              "color": "white",
              "width": 0.5
             },
             "pattern": {
              "fillmode": "overlay",
              "size": 10,
              "solidity": 0.2
             }
            },
            "type": "barpolar"
           }
          ],
          "carpet": [
           {
            "aaxis": {
             "endlinecolor": "#2a3f5f",
             "gridcolor": "#C8D4E3",
             "linecolor": "#C8D4E3",
             "minorgridcolor": "#C8D4E3",
             "startlinecolor": "#2a3f5f"
            },
            "baxis": {
             "endlinecolor": "#2a3f5f",
             "gridcolor": "#C8D4E3",
             "linecolor": "#C8D4E3",
             "minorgridcolor": "#C8D4E3",
             "startlinecolor": "#2a3f5f"
            },
            "type": "carpet"
           }
          ],
          "choropleth": [
           {
            "colorbar": {
             "outlinewidth": 0,
             "ticks": ""
            },
            "type": "choropleth"
           }
          ],
          "contour": [
           {
            "colorbar": {
             "outlinewidth": 0,
             "ticks": ""
            },
            "colorscale": [
             [
              0,
              "#0d0887"
             ],
             [
              0.1111111111111111,
              "#46039f"
             ],
             [
              0.2222222222222222,
              "#7201a8"
             ],
             [
              0.3333333333333333,
              "#9c179e"
             ],
             [
              0.4444444444444444,
              "#bd3786"
             ],
             [
              0.5555555555555556,
              "#d8576b"
             ],
             [
              0.6666666666666666,
              "#ed7953"
             ],
             [
              0.7777777777777778,
              "#fb9f3a"
             ],
             [
              0.8888888888888888,
              "#fdca26"
             ],
             [
              1,
              "#f0f921"
             ]
            ],
            "type": "contour"
           }
          ],
          "contourcarpet": [
           {
            "colorbar": {
             "outlinewidth": 0,
             "ticks": ""
            },
            "type": "contourcarpet"
           }
          ],
          "heatmap": [
           {
            "colorbar": {
             "outlinewidth": 0,
             "ticks": ""
            },
            "colorscale": [
             [
              0,
              "#0d0887"
             ],
             [
              0.1111111111111111,
              "#46039f"
             ],
             [
              0.2222222222222222,
              "#7201a8"
             ],
             [
              0.3333333333333333,
              "#9c179e"
             ],
             [
              0.4444444444444444,
              "#bd3786"
             ],
             [
              0.5555555555555556,
              "#d8576b"
             ],
             [
              0.6666666666666666,
              "#ed7953"
             ],
             [
              0.7777777777777778,
              "#fb9f3a"
             ],
             [
              0.8888888888888888,
              "#fdca26"
             ],
             [
              1,
              "#f0f921"
             ]
            ],
            "type": "heatmap"
           }
          ],
          "histogram": [
           {
            "marker": {
             "pattern": {
              "fillmode": "overlay",
              "size": 10,
              "solidity": 0.2
             }
            },
            "type": "histogram"
           }
          ],
          "histogram2d": [
           {
            "colorbar": {
             "outlinewidth": 0,
             "ticks": ""
            },
            "colorscale": [
             [
              0,
              "#0d0887"
             ],
             [
              0.1111111111111111,
              "#46039f"
             ],
             [
              0.2222222222222222,
              "#7201a8"
             ],
             [
              0.3333333333333333,
              "#9c179e"
             ],
             [
              0.4444444444444444,
              "#bd3786"
             ],
             [
              0.5555555555555556,
              "#d8576b"
             ],
             [
              0.6666666666666666,
              "#ed7953"
             ],
             [
              0.7777777777777778,
              "#fb9f3a"
             ],
             [
              0.8888888888888888,
              "#fdca26"
             ],
             [
              1,
              "#f0f921"
             ]
            ],
            "type": "histogram2d"
           }
          ],
          "histogram2dcontour": [
           {
            "colorbar": {
             "outlinewidth": 0,
             "ticks": ""
            },
            "colorscale": [
             [
              0,
              "#0d0887"
             ],
             [
              0.1111111111111111,
              "#46039f"
             ],
             [
              0.2222222222222222,
              "#7201a8"
             ],
             [
              0.3333333333333333,
              "#9c179e"
             ],
             [
              0.4444444444444444,
              "#bd3786"
             ],
             [
              0.5555555555555556,
              "#d8576b"
             ],
             [
              0.6666666666666666,
              "#ed7953"
             ],
             [
              0.7777777777777778,
              "#fb9f3a"
             ],
             [
              0.8888888888888888,
              "#fdca26"
             ],
             [
              1,
              "#f0f921"
             ]
            ],
            "type": "histogram2dcontour"
           }
          ],
          "mesh3d": [
           {
            "colorbar": {
             "outlinewidth": 0,
             "ticks": ""
            },
            "type": "mesh3d"
           }
          ],
          "parcoords": [
           {
            "line": {
             "colorbar": {
              "outlinewidth": 0,
              "ticks": ""
             }
            },
            "type": "parcoords"
           }
          ],
          "pie": [
           {
            "automargin": true,
            "type": "pie"
           }
          ],
          "scatter": [
           {
            "fillpattern": {
             "fillmode": "overlay",
             "size": 10,
             "solidity": 0.2
            },
            "type": "scatter"
           }
          ],
          "scatter3d": [
           {
            "line": {
             "colorbar": {
              "outlinewidth": 0,
              "ticks": ""
             }
            },
            "marker": {
             "colorbar": {
              "outlinewidth": 0,
              "ticks": ""
             }
            },
            "type": "scatter3d"
           }
          ],
          "scattercarpet": [
           {
            "marker": {
             "colorbar": {
              "outlinewidth": 0,
              "ticks": ""
             }
            },
            "type": "scattercarpet"
           }
          ],
          "scattergeo": [
           {
            "marker": {
             "colorbar": {
              "outlinewidth": 0,
              "ticks": ""
             }
            },
            "type": "scattergeo"
           }
          ],
          "scattergl": [
           {
            "marker": {
             "colorbar": {
              "outlinewidth": 0,
              "ticks": ""
             }
            },
            "type": "scattergl"
           }
          ],
          "scattermap": [
           {
            "marker": {
             "colorbar": {
              "outlinewidth": 0,
              "ticks": ""
             }
            },
            "type": "scattermap"
           }
          ],
          "scattermapbox": [
           {
            "marker": {
             "colorbar": {
              "outlinewidth": 0,
              "ticks": ""
             }
            },
            "type": "scattermapbox"
           }
          ],
          "scatterpolar": [
           {
            "marker": {
             "colorbar": {
              "outlinewidth": 0,
              "ticks": ""
             }
            },
            "type": "scatterpolar"
           }
          ],
          "scatterpolargl": [
           {
            "marker": {
             "colorbar": {
              "outlinewidth": 0,
              "ticks": ""
             }
            },
            "type": "scatterpolargl"
           }
          ],
          "scatterternary": [
           {
            "marker": {
             "colorbar": {
              "outlinewidth": 0,
              "ticks": ""
             }
            },
            "type": "scatterternary"
           }
          ],
          "surface": [
           {
            "colorbar": {
             "outlinewidth": 0,
             "ticks": ""
            },
            "colorscale": [
             [
              0,
              "#0d0887"
             ],
             [
              0.1111111111111111,
              "#46039f"
             ],
             [
              0.2222222222222222,
              "#7201a8"
             ],
             [
              0.3333333333333333,
              "#9c179e"
             ],
             [
              0.4444444444444444,
              "#bd3786"
             ],
             [
              0.5555555555555556,
              "#d8576b"
             ],
             [
              0.6666666666666666,
              "#ed7953"
             ],
             [
              0.7777777777777778,
              "#fb9f3a"
             ],
             [
              0.8888888888888888,
              "#fdca26"
             ],
             [
              1,
              "#f0f921"
             ]
            ],
            "type": "surface"
           }
          ],
          "table": [
           {
            "cells": {
             "fill": {
              "color": "#EBF0F8"
             },
             "line": {
              "color": "white"
             }
            },
            "header": {
             "fill": {
              "color": "#C8D4E3"
             },
             "line": {
              "color": "white"
             }
            },
            "type": "table"
           }
          ]
         },
         "layout": {
          "annotationdefaults": {
           "arrowcolor": "#2a3f5f",
           "arrowhead": 0,
           "arrowwidth": 1
          },
          "autotypenumbers": "strict",
          "coloraxis": {
           "colorbar": {
            "outlinewidth": 0,
            "ticks": ""
           }
          },
          "colorscale": {
           "diverging": [
            [
             0,
             "#8e0152"
            ],
            [
             0.1,
             "#c51b7d"
            ],
            [
             0.2,
             "#de77ae"
            ],
            [
             0.3,
             "#f1b6da"
            ],
            [
             0.4,
             "#fde0ef"
            ],
            [
             0.5,
             "#f7f7f7"
            ],
            [
             0.6,
             "#e6f5d0"
            ],
            [
             0.7,
             "#b8e186"
            ],
            [
             0.8,
             "#7fbc41"
            ],
            [
             0.9,
             "#4d9221"
            ],
            [
             1,
             "#276419"
            ]
           ],
           "sequential": [
            [
             0,
             "#0d0887"
            ],
            [
             0.1111111111111111,
             "#46039f"
            ],
            [
             0.2222222222222222,
             "#7201a8"
            ],
            [
             0.3333333333333333,
             "#9c179e"
            ],
            [
             0.4444444444444444,
             "#bd3786"
            ],
            [
             0.5555555555555556,
             "#d8576b"
            ],
            [
             0.6666666666666666,
             "#ed7953"
            ],
            [
             0.7777777777777778,
             "#fb9f3a"
            ],
            [
             0.8888888888888888,
             "#fdca26"
            ],
            [
             1,
             "#f0f921"
            ]
           ],
           "sequentialminus": [
            [
             0,
             "#0d0887"
            ],
            [
             0.1111111111111111,
             "#46039f"
            ],
            [
             0.2222222222222222,
             "#7201a8"
            ],
            [
             0.3333333333333333,
             "#9c179e"
            ],
            [
             0.4444444444444444,
             "#bd3786"
            ],
            [
             0.5555555555555556,
             "#d8576b"
            ],
            [
             0.6666666666666666,
             "#ed7953"
            ],
            [
             0.7777777777777778,
             "#fb9f3a"
            ],
            [
             0.8888888888888888,
             "#fdca26"
            ],
            [
             1,
             "#f0f921"
            ]
           ]
          },
          "colorway": [
           "#636efa",
           "#EF553B",
           "#00cc96",
           "#ab63fa",
           "#FFA15A",
           "#19d3f3",
           "#FF6692",
           "#B6E880",
           "#FF97FF",
           "#FECB52"
          ],
          "font": {
           "color": "#2a3f5f"
          },
          "geo": {
           "bgcolor": "white",
           "lakecolor": "white",
           "landcolor": "white",
           "showlakes": true,
           "showland": true,
           "subunitcolor": "#C8D4E3"
          },
          "hoverlabel": {
           "align": "left"
          },
          "hovermode": "closest",
          "mapbox": {
           "style": "light"
          },
          "paper_bgcolor": "white",
          "plot_bgcolor": "white",
          "polar": {
           "angularaxis": {
            "gridcolor": "#EBF0F8",
            "linecolor": "#EBF0F8",
            "ticks": ""
           },
           "bgcolor": "white",
           "radialaxis": {
            "gridcolor": "#EBF0F8",
            "linecolor": "#EBF0F8",
            "ticks": ""
           }
          },
          "scene": {
           "xaxis": {
            "backgroundcolor": "white",
            "gridcolor": "#DFE8F3",
            "gridwidth": 2,
            "linecolor": "#EBF0F8",
            "showbackground": true,
            "ticks": "",
            "zerolinecolor": "#EBF0F8"
           },
           "yaxis": {
            "backgroundcolor": "white",
            "gridcolor": "#DFE8F3",
            "gridwidth": 2,
            "linecolor": "#EBF0F8",
            "showbackground": true,
            "ticks": "",
            "zerolinecolor": "#EBF0F8"
           },
           "zaxis": {
            "backgroundcolor": "white",
            "gridcolor": "#DFE8F3",
            "gridwidth": 2,
            "linecolor": "#EBF0F8",
            "showbackground": true,
            "ticks": "",
            "zerolinecolor": "#EBF0F8"
           }
          },
          "shapedefaults": {
           "line": {
            "color": "#2a3f5f"
           }
          },
          "ternary": {
           "aaxis": {
            "gridcolor": "#DFE8F3",
            "linecolor": "#A2B1C6",
            "ticks": ""
           },
           "baxis": {
            "gridcolor": "#DFE8F3",
            "linecolor": "#A2B1C6",
            "ticks": ""
           },
           "bgcolor": "white",
           "caxis": {
            "gridcolor": "#DFE8F3",
            "linecolor": "#A2B1C6",
            "ticks": ""
           }
          },
          "title": {
           "x": 0.05
          },
          "xaxis": {
           "automargin": true,
           "gridcolor": "#EBF0F8",
           "linecolor": "#EBF0F8",
           "ticks": "",
           "title": {
            "standoff": 15
           },
           "zerolinecolor": "#EBF0F8",
           "zerolinewidth": 2
          },
          "yaxis": {
           "automargin": true,
           "gridcolor": "#EBF0F8",
           "linecolor": "#EBF0F8",
           "ticks": "",
           "title": {
            "standoff": 15
           },
           "zerolinecolor": "#EBF0F8",
           "zerolinewidth": 2
          }
         }
        },
        "width": 1800,
        "xaxis": {
         "anchor": "y",
         "domain": [
          0,
          0.51
         ],
         "title": {
          "text": "Normalized Trials"
         }
        },
        "xaxis2": {
         "anchor": "y2",
         "domain": [
          0.66,
          1
         ],
         "title": {
          "text": "AUC"
         }
        },
        "yaxis": {
         "anchor": "x",
         "domain": [
          0,
          1
         ],
         "title": {
          "text": "Normalized Inc-Performance"
         }
        },
        "yaxis2": {
         "anchor": "x2",
         "domain": [
          0,
          1
         ],
         "title": {
          "text": "Optimizer"
         }
        }
       }
      }
     },
     "metadata": {},
     "output_type": "display_data"
    }
   ],
   "source": [
    "plot_one_thing('cs_method')"
   ]
  },
  {
   "cell_type": "code",
   "execution_count": 51,
   "id": "d3ab87d5",
   "metadata": {},
   "outputs": [
    {
     "name": "stdout",
     "output_type": "stream",
     "text": [
      "['true retrain']\n"
     ]
    },
    {
     "name": "stderr",
     "output_type": "stream",
     "text": [
      "/tmp/ipykernel_37253/3449863810.py:27: DeprecationWarning:\n",
      "\n",
      "DataFrameGroupBy.apply operated on the grouping columns. This behavior is deprecated, and in a future version of pandas the grouping columns will be excluded from the operation. Either pass `include_groups=False` to exclude the groupings or explicitly select the grouping columns after groupby to silence this warning.\n",
      "\n"
     ]
    },
    {
     "data": {
      "application/vnd.plotly.v1+json": {
       "config": {
        "plotlyServerURL": "https://plot.ly"
       },
       "data": [
        {
         "line": {
          "color": "rgb(228,26,28)",
          "width": 2
         },
         "mode": "lines",
         "name": "true retrain",
         "type": "scatter",
         "x": {
          "bdata": "AAAAAAAAAAB7FK5H4XqUP3sUrkfheqQ/uB6F61G4rj97FK5H4Xq0P5qZmZmZmbk/uB6F61G4vj/sUbgehevBP3sUrkfhesQ/CtejcD0Kxz+amZmZmZnJPylcj8L1KMw/uB6F61G4zj+kcD0K16PQP+xRuB6F69E/MzMzMzMz0z97FK5H4XrUP8P1KFyPwtU/CtejcD0K1z9SuB6F61HYP5qZmZmZmdk/4XoUrkfh2j8pXI/C9SjcP3E9CtejcN0/uB6F61G43j8AAAAAAADgP6RwPQrXo+A/SOF6FK5H4T/sUbgehevhP4/C9Shcj+I/MzMzMzMz4z/Xo3A9CtfjP3sUrkfheuQ/H4XrUbge5T/D9Shcj8LlP2dmZmZmZuY/CtejcD0K5z+uR+F6FK7nP1K4HoXrUeg/9ihcj8L16D+amZmZmZnpPz4K16NwPeo/4XoUrkfh6j+F61G4HoXrPylcj8L1KOw/zczMzMzM7D9xPQrXo3DtPxWuR+F6FO4/uB6F61G47j9cj8L1KFzvPwAAAAAAAPA/",
          "dtype": "f8"
         },
         "xaxis": "x",
         "y": {
          "bdata": "Dp9ZlWy57D9Y1/htsF7lPzYtt7WYsuI/DpON/eA44D89ANxbf/DcP01NUr2TG9s/dUrxLV9f2T/z4l7kvlvYP7cqXgfMY9c/yiEzjfF41j9T5DI49HTVPwonsy5Gv9Q/4biCPvMJ1D9Be7Fy6XvSP/o/+6KNXdA/VmMbRa2Tzz+g3yYzDTjNP5IHTE10q8s/k6I3mawKyj9sfuLzl3/IP3vtptX6E8c/5izzl36gxT+fjWzlP9HEP63UYcutAMM/Lk9rNrNiwT/q2NE7RoTAP8qBl5IAPMA/yoGXkgA8wD/KgZeSADzAP8qBl5IAPMA/yoGXkgA8wD/KgZeSADzAP8qBl5IAPMA/yoGXkgA8wD/KgZeSADzAP8qBl5IAPMA/yoGXkgA8wD/KgZeSADzAP8qBl5IAPMA/yoGXkgA8wD/KgZeSADzAP8qBl5IAPMA/yoGXkgA8wD/KgZeSADzAP8qBl5IAPMA/yoGXkgA8wD/KgZeSADzAP8qBl5IAPMA/yoGXkgA8wD/KgZeSADzAP8qBl5IAPMA/",
          "dtype": "f8"
         },
         "yaxis": "y"
        },
        {
         "fill": "toself",
         "fillcolor": "rgba(228,26,28,0.1)",
         "hoverinfo": "skip",
         "line": {
          "color": "rgba(255,255,255,0)"
         },
         "showlegend": false,
         "type": "scatter",
         "x": {
          "bdata": "AAAAAAAAAAB7FK5H4XqUP3sUrkfheqQ/uB6F61G4rj97FK5H4Xq0P5qZmZmZmbk/uB6F61G4vj/sUbgehevBP3sUrkfhesQ/CtejcD0Kxz+amZmZmZnJPylcj8L1KMw/uB6F61G4zj+kcD0K16PQP+xRuB6F69E/MzMzMzMz0z97FK5H4XrUP8P1KFyPwtU/CtejcD0K1z9SuB6F61HYP5qZmZmZmdk/4XoUrkfh2j8pXI/C9SjcP3E9CtejcN0/uB6F61G43j8AAAAAAADgP6RwPQrXo+A/SOF6FK5H4T/sUbgehevhP4/C9Shcj+I/MzMzMzMz4z/Xo3A9CtfjP3sUrkfheuQ/H4XrUbge5T/D9Shcj8LlP2dmZmZmZuY/CtejcD0K5z+uR+F6FK7nP1K4HoXrUeg/9ihcj8L16D+amZmZmZnpPz4K16NwPeo/4XoUrkfh6j+F61G4HoXrPylcj8L1KOw/zczMzMzM7D9xPQrXo3DtPxWuR+F6FO4/uB6F61G47j9cj8L1KFzvPwAAAAAAAPA/AAAAAAAA8D9cj8L1KFzvP7gehetRuO4/Fa5H4XoU7j9xPQrXo3DtP83MzMzMzOw/KVyPwvUo7D+F61G4HoXrP+F6FK5H4eo/PgrXo3A96j+amZmZmZnpP/YoXI/C9eg/UrgehetR6D+uR+F6FK7nPwrXo3A9Cuc/Z2ZmZmZm5j/D9Shcj8LlPx+F61G4HuU/exSuR+F65D/Xo3A9CtfjPzMzMzMzM+M/j8L1KFyP4j/sUbgehevhP0jhehSuR+E/pHA9Ctej4D8AAAAAAADgP7gehetRuN4/cT0K16Nw3T8pXI/C9SjcP+F6FK5H4do/mpmZmZmZ2T9SuB6F61HYPwrXo3A9Ctc/w/UoXI/C1T97FK5H4XrUPzMzMzMzM9M/7FG4HoXr0T+kcD0K16PQP7gehetRuM4/KVyPwvUozD+amZmZmZnJPwrXo3A9Csc/exSuR+F6xD/sUbgehevBP7gehetRuL4/mpmZmZmZuT97FK5H4Xq0P7gehetRuK4/exSuR+F6pD97FK5H4XqUPwAAAAAAAAAA",
          "dtype": "f8"
         },
         "xaxis": "x",
         "y": {
          "bdata": "FZaInXkA7D9rb7NZ8kPkPx5iNaPEpuE/+JWTUOLN3j/089PuQw3bPzNx7PF6rdk/kJuKxmDz1z+5oFQQ9BDXP8jb2e6l9NU/LuLEiMJk1T84XXgKK4HUP5wVDryMvtM/ybZqbXwe0z8h5EedJaPRP94Gye5m5M4/hZoq7gDezT+yvuOhc9rKP62/mwkUd8k/fEBt2ZgJyD+feB9lEnbGPwIjYD5a7MQ/0FAOjYTHwz+jW7oGIifDP/7yO9gLAsI/KdXSqJukwD80gjMpNZ+/P4q1N5H27b4/irU3kfbtvj+KtTeR9u2+P4q1N5H27b4/irU3kfbtvj+KtTeR9u2+P4q1N5H27b4/irU3kfbtvj+KtTeR9u2+P4q1N5H27b4/irU3kfbtvj+KtTeR9u2+P4q1N5H27b4/irU3kfbtvj+KtTeR9u2+P4q1N5H27b4/irU3kfbtvj+KtTeR9u2+P4q1N5H27b4/irU3kfbtvj+KtTeR9u2+P4q1N5H27b4/irU3kfbtvj+KtTeR9u2+P4q1N5H27b4/zyiT3AUBwT/PKJPcBQHBP88ok9wFAcE/zyiT3AUBwT/PKJPcBQHBP88ok9wFAcE/zyiT3AUBwT/PKJPcBQHBP88ok9wFAcE/zyiT3AUBwT/PKJPcBQHBP88ok9wFAcE/zyiT3AUBwT/PKJPcBQHBP88ok9wFAcE/zyiT3AUBwT/PKJPcBQHBP88ok9wFAcE/zyiT3AUBwT/PKJPcBQHBP88ok9wFAcE/zyiT3AUBwT/PKJPcBQHBP88ok9wFAcE/zyiT3AUBwT+68Anj8TjBPzPJA8TKIMI/XLaHvk//wz+bvx7EXXvGP/wI2KJ4ecc/9LftbJs7yT85hKWCHYnKP6oEAlnAC8w/d0/8kNTfzT+OAGrEppXPPxMWBs6spNA/hfyRzudI0T9hEhtIrVTTP/m6mg9q9dQ/eDhYof+/1T9ua+1lvWjWP2ZhoZEgjdc/pnniH/LS2D8tJWm4iabZP1r5V5Vdy9o/Zym4iKyJ3D+GDOTIutPePyBb0dLQCuE/Tvg4yGy+4z9FPz6CbnnmPweoKo1fcu0/",
          "dtype": "f8"
         },
         "yaxis": "y"
        },
        {
         "error_x": {
          "array": {
           "bdata": "TgP9W75Qhz8=",
           "dtype": "f8"
          },
          "type": "data"
         },
         "marker": {
          "color": "skyblue",
          "line": {
           "color": "black",
           "width": 1
          }
         },
         "orientation": "h",
         "showlegend": false,
         "type": "bar",
         "x": {
          "bdata": "mgFTGBT5yz8=",
          "dtype": "f8"
         },
         "xaxis": "x2",
         "y": [
          "true retrain"
         ],
         "yaxis": "y2"
        }
       ],
       "layout": {
        "font": {
         "size": 16
        },
        "height": 400,
        "legend": {
         "font": {
          "size": 16
         },
         "title": {
          "text": "Optimizers"
         }
        },
        "margin": {
         "b": 50,
         "l": 50,
         "r": 50,
         "t": 60
        },
        "template": {
         "data": {
          "bar": [
           {
            "error_x": {
             "color": "#2a3f5f"
            },
            "error_y": {
             "color": "#2a3f5f"
            },
            "marker": {
             "line": {
              "color": "white",
              "width": 0.5
             },
             "pattern": {
              "fillmode": "overlay",
              "size": 10,
              "solidity": 0.2
             }
            },
            "type": "bar"
           }
          ],
          "barpolar": [
           {
            "marker": {
             "line": {
              "color": "white",
              "width": 0.5
             },
             "pattern": {
              "fillmode": "overlay",
              "size": 10,
              "solidity": 0.2
             }
            },
            "type": "barpolar"
           }
          ],
          "carpet": [
           {
            "aaxis": {
             "endlinecolor": "#2a3f5f",
             "gridcolor": "#C8D4E3",
             "linecolor": "#C8D4E3",
             "minorgridcolor": "#C8D4E3",
             "startlinecolor": "#2a3f5f"
            },
            "baxis": {
             "endlinecolor": "#2a3f5f",
             "gridcolor": "#C8D4E3",
             "linecolor": "#C8D4E3",
             "minorgridcolor": "#C8D4E3",
             "startlinecolor": "#2a3f5f"
            },
            "type": "carpet"
           }
          ],
          "choropleth": [
           {
            "colorbar": {
             "outlinewidth": 0,
             "ticks": ""
            },
            "type": "choropleth"
           }
          ],
          "contour": [
           {
            "colorbar": {
             "outlinewidth": 0,
             "ticks": ""
            },
            "colorscale": [
             [
              0,
              "#0d0887"
             ],
             [
              0.1111111111111111,
              "#46039f"
             ],
             [
              0.2222222222222222,
              "#7201a8"
             ],
             [
              0.3333333333333333,
              "#9c179e"
             ],
             [
              0.4444444444444444,
              "#bd3786"
             ],
             [
              0.5555555555555556,
              "#d8576b"
             ],
             [
              0.6666666666666666,
              "#ed7953"
             ],
             [
              0.7777777777777778,
              "#fb9f3a"
             ],
             [
              0.8888888888888888,
              "#fdca26"
             ],
             [
              1,
              "#f0f921"
             ]
            ],
            "type": "contour"
           }
          ],
          "contourcarpet": [
           {
            "colorbar": {
             "outlinewidth": 0,
             "ticks": ""
            },
            "type": "contourcarpet"
           }
          ],
          "heatmap": [
           {
            "colorbar": {
             "outlinewidth": 0,
             "ticks": ""
            },
            "colorscale": [
             [
              0,
              "#0d0887"
             ],
             [
              0.1111111111111111,
              "#46039f"
             ],
             [
              0.2222222222222222,
              "#7201a8"
             ],
             [
              0.3333333333333333,
              "#9c179e"
             ],
             [
              0.4444444444444444,
              "#bd3786"
             ],
             [
              0.5555555555555556,
              "#d8576b"
             ],
             [
              0.6666666666666666,
              "#ed7953"
             ],
             [
              0.7777777777777778,
              "#fb9f3a"
             ],
             [
              0.8888888888888888,
              "#fdca26"
             ],
             [
              1,
              "#f0f921"
             ]
            ],
            "type": "heatmap"
           }
          ],
          "histogram": [
           {
            "marker": {
             "pattern": {
              "fillmode": "overlay",
              "size": 10,
              "solidity": 0.2
             }
            },
            "type": "histogram"
           }
          ],
          "histogram2d": [
           {
            "colorbar": {
             "outlinewidth": 0,
             "ticks": ""
            },
            "colorscale": [
             [
              0,
              "#0d0887"
             ],
             [
              0.1111111111111111,
              "#46039f"
             ],
             [
              0.2222222222222222,
              "#7201a8"
             ],
             [
              0.3333333333333333,
              "#9c179e"
             ],
             [
              0.4444444444444444,
              "#bd3786"
             ],
             [
              0.5555555555555556,
              "#d8576b"
             ],
             [
              0.6666666666666666,
              "#ed7953"
             ],
             [
              0.7777777777777778,
              "#fb9f3a"
             ],
             [
              0.8888888888888888,
              "#fdca26"
             ],
             [
              1,
              "#f0f921"
             ]
            ],
            "type": "histogram2d"
           }
          ],
          "histogram2dcontour": [
           {
            "colorbar": {
             "outlinewidth": 0,
             "ticks": ""
            },
            "colorscale": [
             [
              0,
              "#0d0887"
             ],
             [
              0.1111111111111111,
              "#46039f"
             ],
             [
              0.2222222222222222,
              "#7201a8"
             ],
             [
              0.3333333333333333,
              "#9c179e"
             ],
             [
              0.4444444444444444,
              "#bd3786"
             ],
             [
              0.5555555555555556,
              "#d8576b"
             ],
             [
              0.6666666666666666,
              "#ed7953"
             ],
             [
              0.7777777777777778,
              "#fb9f3a"
             ],
             [
              0.8888888888888888,
              "#fdca26"
             ],
             [
              1,
              "#f0f921"
             ]
            ],
            "type": "histogram2dcontour"
           }
          ],
          "mesh3d": [
           {
            "colorbar": {
             "outlinewidth": 0,
             "ticks": ""
            },
            "type": "mesh3d"
           }
          ],
          "parcoords": [
           {
            "line": {
             "colorbar": {
              "outlinewidth": 0,
              "ticks": ""
             }
            },
            "type": "parcoords"
           }
          ],
          "pie": [
           {
            "automargin": true,
            "type": "pie"
           }
          ],
          "scatter": [
           {
            "fillpattern": {
             "fillmode": "overlay",
             "size": 10,
             "solidity": 0.2
            },
            "type": "scatter"
           }
          ],
          "scatter3d": [
           {
            "line": {
             "colorbar": {
              "outlinewidth": 0,
              "ticks": ""
             }
            },
            "marker": {
             "colorbar": {
              "outlinewidth": 0,
              "ticks": ""
             }
            },
            "type": "scatter3d"
           }
          ],
          "scattercarpet": [
           {
            "marker": {
             "colorbar": {
              "outlinewidth": 0,
              "ticks": ""
             }
            },
            "type": "scattercarpet"
           }
          ],
          "scattergeo": [
           {
            "marker": {
             "colorbar": {
              "outlinewidth": 0,
              "ticks": ""
             }
            },
            "type": "scattergeo"
           }
          ],
          "scattergl": [
           {
            "marker": {
             "colorbar": {
              "outlinewidth": 0,
              "ticks": ""
             }
            },
            "type": "scattergl"
           }
          ],
          "scattermap": [
           {
            "marker": {
             "colorbar": {
              "outlinewidth": 0,
              "ticks": ""
             }
            },
            "type": "scattermap"
           }
          ],
          "scattermapbox": [
           {
            "marker": {
             "colorbar": {
              "outlinewidth": 0,
              "ticks": ""
             }
            },
            "type": "scattermapbox"
           }
          ],
          "scatterpolar": [
           {
            "marker": {
             "colorbar": {
              "outlinewidth": 0,
              "ticks": ""
             }
            },
            "type": "scatterpolar"
           }
          ],
          "scatterpolargl": [
           {
            "marker": {
             "colorbar": {
              "outlinewidth": 0,
              "ticks": ""
             }
            },
            "type": "scatterpolargl"
           }
          ],
          "scatterternary": [
           {
            "marker": {
             "colorbar": {
              "outlinewidth": 0,
              "ticks": ""
             }
            },
            "type": "scatterternary"
           }
          ],
          "surface": [
           {
            "colorbar": {
             "outlinewidth": 0,
             "ticks": ""
            },
            "colorscale": [
             [
              0,
              "#0d0887"
             ],
             [
              0.1111111111111111,
              "#46039f"
             ],
             [
              0.2222222222222222,
              "#7201a8"
             ],
             [
              0.3333333333333333,
              "#9c179e"
             ],
             [
              0.4444444444444444,
              "#bd3786"
             ],
             [
              0.5555555555555556,
              "#d8576b"
             ],
             [
              0.6666666666666666,
              "#ed7953"
             ],
             [
              0.7777777777777778,
              "#fb9f3a"
             ],
             [
              0.8888888888888888,
              "#fdca26"
             ],
             [
              1,
              "#f0f921"
             ]
            ],
            "type": "surface"
           }
          ],
          "table": [
           {
            "cells": {
             "fill": {
              "color": "#EBF0F8"
             },
             "line": {
              "color": "white"
             }
            },
            "header": {
             "fill": {
              "color": "#C8D4E3"
             },
             "line": {
              "color": "white"
             }
            },
            "type": "table"
           }
          ]
         },
         "layout": {
          "annotationdefaults": {
           "arrowcolor": "#2a3f5f",
           "arrowhead": 0,
           "arrowwidth": 1
          },
          "autotypenumbers": "strict",
          "coloraxis": {
           "colorbar": {
            "outlinewidth": 0,
            "ticks": ""
           }
          },
          "colorscale": {
           "diverging": [
            [
             0,
             "#8e0152"
            ],
            [
             0.1,
             "#c51b7d"
            ],
            [
             0.2,
             "#de77ae"
            ],
            [
             0.3,
             "#f1b6da"
            ],
            [
             0.4,
             "#fde0ef"
            ],
            [
             0.5,
             "#f7f7f7"
            ],
            [
             0.6,
             "#e6f5d0"
            ],
            [
             0.7,
             "#b8e186"
            ],
            [
             0.8,
             "#7fbc41"
            ],
            [
             0.9,
             "#4d9221"
            ],
            [
             1,
             "#276419"
            ]
           ],
           "sequential": [
            [
             0,
             "#0d0887"
            ],
            [
             0.1111111111111111,
             "#46039f"
            ],
            [
             0.2222222222222222,
             "#7201a8"
            ],
            [
             0.3333333333333333,
             "#9c179e"
            ],
            [
             0.4444444444444444,
             "#bd3786"
            ],
            [
             0.5555555555555556,
             "#d8576b"
            ],
            [
             0.6666666666666666,
             "#ed7953"
            ],
            [
             0.7777777777777778,
             "#fb9f3a"
            ],
            [
             0.8888888888888888,
             "#fdca26"
            ],
            [
             1,
             "#f0f921"
            ]
           ],
           "sequentialminus": [
            [
             0,
             "#0d0887"
            ],
            [
             0.1111111111111111,
             "#46039f"
            ],
            [
             0.2222222222222222,
             "#7201a8"
            ],
            [
             0.3333333333333333,
             "#9c179e"
            ],
            [
             0.4444444444444444,
             "#bd3786"
            ],
            [
             0.5555555555555556,
             "#d8576b"
            ],
            [
             0.6666666666666666,
             "#ed7953"
            ],
            [
             0.7777777777777778,
             "#fb9f3a"
            ],
            [
             0.8888888888888888,
             "#fdca26"
            ],
            [
             1,
             "#f0f921"
            ]
           ]
          },
          "colorway": [
           "#636efa",
           "#EF553B",
           "#00cc96",
           "#ab63fa",
           "#FFA15A",
           "#19d3f3",
           "#FF6692",
           "#B6E880",
           "#FF97FF",
           "#FECB52"
          ],
          "font": {
           "color": "#2a3f5f"
          },
          "geo": {
           "bgcolor": "white",
           "lakecolor": "white",
           "landcolor": "white",
           "showlakes": true,
           "showland": true,
           "subunitcolor": "#C8D4E3"
          },
          "hoverlabel": {
           "align": "left"
          },
          "hovermode": "closest",
          "mapbox": {
           "style": "light"
          },
          "paper_bgcolor": "white",
          "plot_bgcolor": "white",
          "polar": {
           "angularaxis": {
            "gridcolor": "#EBF0F8",
            "linecolor": "#EBF0F8",
            "ticks": ""
           },
           "bgcolor": "white",
           "radialaxis": {
            "gridcolor": "#EBF0F8",
            "linecolor": "#EBF0F8",
            "ticks": ""
           }
          },
          "scene": {
           "xaxis": {
            "backgroundcolor": "white",
            "gridcolor": "#DFE8F3",
            "gridwidth": 2,
            "linecolor": "#EBF0F8",
            "showbackground": true,
            "ticks": "",
            "zerolinecolor": "#EBF0F8"
           },
           "yaxis": {
            "backgroundcolor": "white",
            "gridcolor": "#DFE8F3",
            "gridwidth": 2,
            "linecolor": "#EBF0F8",
            "showbackground": true,
            "ticks": "",
            "zerolinecolor": "#EBF0F8"
           },
           "zaxis": {
            "backgroundcolor": "white",
            "gridcolor": "#DFE8F3",
            "gridwidth": 2,
            "linecolor": "#EBF0F8",
            "showbackground": true,
            "ticks": "",
            "zerolinecolor": "#EBF0F8"
           }
          },
          "shapedefaults": {
           "line": {
            "color": "#2a3f5f"
           }
          },
          "ternary": {
           "aaxis": {
            "gridcolor": "#DFE8F3",
            "linecolor": "#A2B1C6",
            "ticks": ""
           },
           "baxis": {
            "gridcolor": "#DFE8F3",
            "linecolor": "#A2B1C6",
            "ticks": ""
           },
           "bgcolor": "white",
           "caxis": {
            "gridcolor": "#DFE8F3",
            "linecolor": "#A2B1C6",
            "ticks": ""
           }
          },
          "title": {
           "x": 0.05
          },
          "xaxis": {
           "automargin": true,
           "gridcolor": "#EBF0F8",
           "linecolor": "#EBF0F8",
           "ticks": "",
           "title": {
            "standoff": 15
           },
           "zerolinecolor": "#EBF0F8",
           "zerolinewidth": 2
          },
          "yaxis": {
           "automargin": true,
           "gridcolor": "#EBF0F8",
           "linecolor": "#EBF0F8",
           "ticks": "",
           "title": {
            "standoff": 15
           },
           "zerolinecolor": "#EBF0F8",
           "zerolinewidth": 2
          }
         }
        },
        "width": 1800,
        "xaxis": {
         "anchor": "y",
         "domain": [
          0,
          0.51
         ],
         "title": {
          "text": "Normalized Trials"
         }
        },
        "xaxis2": {
         "anchor": "y2",
         "domain": [
          0.66,
          1
         ],
         "title": {
          "text": "AUC"
         }
        },
        "yaxis": {
         "anchor": "x",
         "domain": [
          0,
          1
         ],
         "title": {
          "text": "Normalized Inc-Performance"
         }
        },
        "yaxis2": {
         "anchor": "x2",
         "domain": [
          0,
          1
         ],
         "title": {
          "text": "Optimizer"
         }
        }
       }
      }
     },
     "metadata": {},
     "output_type": "display_data"
    }
   ],
   "source": [
    "plot_one_thing('adjust_pc')"
   ]
  },
  {
   "cell_type": "code",
   "execution_count": 52,
   "id": "73609c35",
   "metadata": {},
   "outputs": [
    {
     "name": "stdout",
     "output_type": "stream",
     "text": [
      "['default']\n"
     ]
    },
    {
     "name": "stderr",
     "output_type": "stream",
     "text": [
      "/tmp/ipykernel_37253/3449863810.py:27: DeprecationWarning:\n",
      "\n",
      "DataFrameGroupBy.apply operated on the grouping columns. This behavior is deprecated, and in a future version of pandas the grouping columns will be excluded from the operation. Either pass `include_groups=False` to exclude the groupings or explicitly select the grouping columns after groupby to silence this warning.\n",
      "\n"
     ]
    },
    {
     "data": {
      "application/vnd.plotly.v1+json": {
       "config": {
        "plotlyServerURL": "https://plot.ly"
       },
       "data": [
        {
         "line": {
          "color": "rgb(228,26,28)",
          "width": 2
         },
         "mode": "lines",
         "name": "default",
         "type": "scatter",
         "x": {
          "bdata": "AAAAAAAAAAB7FK5H4XqUP3sUrkfheqQ/uB6F61G4rj97FK5H4Xq0P5qZmZmZmbk/uB6F61G4vj/sUbgehevBP3sUrkfhesQ/CtejcD0Kxz+amZmZmZnJPylcj8L1KMw/uB6F61G4zj+kcD0K16PQP+xRuB6F69E/MzMzMzMz0z97FK5H4XrUP8P1KFyPwtU/CtejcD0K1z9SuB6F61HYP5qZmZmZmdk/4XoUrkfh2j8pXI/C9SjcP3E9CtejcN0/uB6F61G43j8AAAAAAADgP6RwPQrXo+A/SOF6FK5H4T/sUbgehevhP4/C9Shcj+I/MzMzMzMz4z/Xo3A9CtfjP3sUrkfheuQ/H4XrUbge5T/D9Shcj8LlP2dmZmZmZuY/CtejcD0K5z+uR+F6FK7nP1K4HoXrUeg/9ihcj8L16D+amZmZmZnpPz4K16NwPeo/4XoUrkfh6j+F61G4HoXrPylcj8L1KOw/zczMzMzM7D9xPQrXo3DtPxWuR+F6FO4/uB6F61G47j9cj8L1KFzvPwAAAAAAAPA/",
          "dtype": "f8"
         },
         "xaxis": "x",
         "y": {
          "bdata": "Dp9ZlWy57D9Y1/htsF7lPzYtt7WYsuI/DpON/eA44D89ANxbf/DcP01NUr2TG9s/dUrxLV9f2T/z4l7kvlvYP7cqXgfMY9c/yiEzjfF41j9T5DI49HTVPwonsy5Gv9Q/4biCPvMJ1D9Be7Fy6XvSP/o/+6KNXdA/VmMbRa2Tzz+g3yYzDTjNP5IHTE10q8s/k6I3mawKyj9sfuLzl3/IP3vtptX6E8c/5izzl36gxT+fjWzlP9HEP63UYcutAMM/Lk9rNrNiwT/q2NE7RoTAP8qBl5IAPMA/yoGXkgA8wD/KgZeSADzAP8qBl5IAPMA/yoGXkgA8wD/KgZeSADzAP8qBl5IAPMA/yoGXkgA8wD/KgZeSADzAP8qBl5IAPMA/yoGXkgA8wD/KgZeSADzAP8qBl5IAPMA/yoGXkgA8wD/KgZeSADzAP8qBl5IAPMA/yoGXkgA8wD/KgZeSADzAP8qBl5IAPMA/yoGXkgA8wD/KgZeSADzAP8qBl5IAPMA/yoGXkgA8wD/KgZeSADzAP8qBl5IAPMA/",
          "dtype": "f8"
         },
         "yaxis": "y"
        },
        {
         "fill": "toself",
         "fillcolor": "rgba(228,26,28,0.1)",
         "hoverinfo": "skip",
         "line": {
          "color": "rgba(255,255,255,0)"
         },
         "showlegend": false,
         "type": "scatter",
         "x": {
          "bdata": "AAAAAAAAAAB7FK5H4XqUP3sUrkfheqQ/uB6F61G4rj97FK5H4Xq0P5qZmZmZmbk/uB6F61G4vj/sUbgehevBP3sUrkfhesQ/CtejcD0Kxz+amZmZmZnJPylcj8L1KMw/uB6F61G4zj+kcD0K16PQP+xRuB6F69E/MzMzMzMz0z97FK5H4XrUP8P1KFyPwtU/CtejcD0K1z9SuB6F61HYP5qZmZmZmdk/4XoUrkfh2j8pXI/C9SjcP3E9CtejcN0/uB6F61G43j8AAAAAAADgP6RwPQrXo+A/SOF6FK5H4T/sUbgehevhP4/C9Shcj+I/MzMzMzMz4z/Xo3A9CtfjP3sUrkfheuQ/H4XrUbge5T/D9Shcj8LlP2dmZmZmZuY/CtejcD0K5z+uR+F6FK7nP1K4HoXrUeg/9ihcj8L16D+amZmZmZnpPz4K16NwPeo/4XoUrkfh6j+F61G4HoXrPylcj8L1KOw/zczMzMzM7D9xPQrXo3DtPxWuR+F6FO4/uB6F61G47j9cj8L1KFzvPwAAAAAAAPA/AAAAAAAA8D9cj8L1KFzvP7gehetRuO4/Fa5H4XoU7j9xPQrXo3DtP83MzMzMzOw/KVyPwvUo7D+F61G4HoXrP+F6FK5H4eo/PgrXo3A96j+amZmZmZnpP/YoXI/C9eg/UrgehetR6D+uR+F6FK7nPwrXo3A9Cuc/Z2ZmZmZm5j/D9Shcj8LlPx+F61G4HuU/exSuR+F65D/Xo3A9CtfjPzMzMzMzM+M/j8L1KFyP4j/sUbgehevhP0jhehSuR+E/pHA9Ctej4D8AAAAAAADgP7gehetRuN4/cT0K16Nw3T8pXI/C9SjcP+F6FK5H4do/mpmZmZmZ2T9SuB6F61HYPwrXo3A9Ctc/w/UoXI/C1T97FK5H4XrUPzMzMzMzM9M/7FG4HoXr0T+kcD0K16PQP7gehetRuM4/KVyPwvUozD+amZmZmZnJPwrXo3A9Csc/exSuR+F6xD/sUbgehevBP7gehetRuL4/mpmZmZmZuT97FK5H4Xq0P7gehetRuK4/exSuR+F6pD97FK5H4XqUPwAAAAAAAAAA",
          "dtype": "f8"
         },
         "xaxis": "x",
         "y": {
          "bdata": "FZaInXkA7D9rb7NZ8kPkPx5iNaPEpuE/+JWTUOLN3j/089PuQw3bPzNx7PF6rdk/kJuKxmDz1z+5oFQQ9BDXP8jb2e6l9NU/LuLEiMJk1T84XXgKK4HUP5wVDryMvtM/ybZqbXwe0z8h5EedJaPRP94Gye5m5M4/hZoq7gDezT+yvuOhc9rKP62/mwkUd8k/fEBt2ZgJyD+feB9lEnbGPwIjYD5a7MQ/0FAOjYTHwz+jW7oGIifDP/7yO9gLAsI/KdXSqJukwD80gjMpNZ+/P4q1N5H27b4/irU3kfbtvj+KtTeR9u2+P4q1N5H27b4/irU3kfbtvj+KtTeR9u2+P4q1N5H27b4/irU3kfbtvj+KtTeR9u2+P4q1N5H27b4/irU3kfbtvj+KtTeR9u2+P4q1N5H27b4/irU3kfbtvj+KtTeR9u2+P4q1N5H27b4/irU3kfbtvj+KtTeR9u2+P4q1N5H27b4/irU3kfbtvj+KtTeR9u2+P4q1N5H27b4/irU3kfbtvj+KtTeR9u2+P4q1N5H27b4/zyiT3AUBwT/PKJPcBQHBP88ok9wFAcE/zyiT3AUBwT/PKJPcBQHBP88ok9wFAcE/zyiT3AUBwT/PKJPcBQHBP88ok9wFAcE/zyiT3AUBwT/PKJPcBQHBP88ok9wFAcE/zyiT3AUBwT/PKJPcBQHBP88ok9wFAcE/zyiT3AUBwT/PKJPcBQHBP88ok9wFAcE/zyiT3AUBwT/PKJPcBQHBP88ok9wFAcE/zyiT3AUBwT/PKJPcBQHBP88ok9wFAcE/zyiT3AUBwT+68Anj8TjBPzPJA8TKIMI/XLaHvk//wz+bvx7EXXvGP/wI2KJ4ecc/9LftbJs7yT85hKWCHYnKP6oEAlnAC8w/d0/8kNTfzT+OAGrEppXPPxMWBs6spNA/hfyRzudI0T9hEhtIrVTTP/m6mg9q9dQ/eDhYof+/1T9ua+1lvWjWP2ZhoZEgjdc/pnniH/LS2D8tJWm4iabZP1r5V5Vdy9o/Zym4iKyJ3D+GDOTIutPePyBb0dLQCuE/Tvg4yGy+4z9FPz6CbnnmPweoKo1fcu0/",
          "dtype": "f8"
         },
         "yaxis": "y"
        },
        {
         "error_x": {
          "array": {
           "bdata": "TgP9W75Qhz8=",
           "dtype": "f8"
          },
          "type": "data"
         },
         "marker": {
          "color": "skyblue",
          "line": {
           "color": "black",
           "width": 1
          }
         },
         "orientation": "h",
         "showlegend": false,
         "type": "bar",
         "x": {
          "bdata": "mgFTGBT5yz8=",
          "dtype": "f8"
         },
         "xaxis": "x2",
         "y": [
          "default"
         ],
         "yaxis": "y2"
        }
       ],
       "layout": {
        "font": {
         "size": 16
        },
        "height": 400,
        "legend": {
         "font": {
          "size": 16
         },
         "title": {
          "text": "Optimizers"
         }
        },
        "margin": {
         "b": 50,
         "l": 50,
         "r": 50,
         "t": 60
        },
        "template": {
         "data": {
          "bar": [
           {
            "error_x": {
             "color": "#2a3f5f"
            },
            "error_y": {
             "color": "#2a3f5f"
            },
            "marker": {
             "line": {
              "color": "white",
              "width": 0.5
             },
             "pattern": {
              "fillmode": "overlay",
              "size": 10,
              "solidity": 0.2
             }
            },
            "type": "bar"
           }
          ],
          "barpolar": [
           {
            "marker": {
             "line": {
              "color": "white",
              "width": 0.5
             },
             "pattern": {
              "fillmode": "overlay",
              "size": 10,
              "solidity": 0.2
             }
            },
            "type": "barpolar"
           }
          ],
          "carpet": [
           {
            "aaxis": {
             "endlinecolor": "#2a3f5f",
             "gridcolor": "#C8D4E3",
             "linecolor": "#C8D4E3",
             "minorgridcolor": "#C8D4E3",
             "startlinecolor": "#2a3f5f"
            },
            "baxis": {
             "endlinecolor": "#2a3f5f",
             "gridcolor": "#C8D4E3",
             "linecolor": "#C8D4E3",
             "minorgridcolor": "#C8D4E3",
             "startlinecolor": "#2a3f5f"
            },
            "type": "carpet"
           }
          ],
          "choropleth": [
           {
            "colorbar": {
             "outlinewidth": 0,
             "ticks": ""
            },
            "type": "choropleth"
           }
          ],
          "contour": [
           {
            "colorbar": {
             "outlinewidth": 0,
             "ticks": ""
            },
            "colorscale": [
             [
              0,
              "#0d0887"
             ],
             [
              0.1111111111111111,
              "#46039f"
             ],
             [
              0.2222222222222222,
              "#7201a8"
             ],
             [
              0.3333333333333333,
              "#9c179e"
             ],
             [
              0.4444444444444444,
              "#bd3786"
             ],
             [
              0.5555555555555556,
              "#d8576b"
             ],
             [
              0.6666666666666666,
              "#ed7953"
             ],
             [
              0.7777777777777778,
              "#fb9f3a"
             ],
             [
              0.8888888888888888,
              "#fdca26"
             ],
             [
              1,
              "#f0f921"
             ]
            ],
            "type": "contour"
           }
          ],
          "contourcarpet": [
           {
            "colorbar": {
             "outlinewidth": 0,
             "ticks": ""
            },
            "type": "contourcarpet"
           }
          ],
          "heatmap": [
           {
            "colorbar": {
             "outlinewidth": 0,
             "ticks": ""
            },
            "colorscale": [
             [
              0,
              "#0d0887"
             ],
             [
              0.1111111111111111,
              "#46039f"
             ],
             [
              0.2222222222222222,
              "#7201a8"
             ],
             [
              0.3333333333333333,
              "#9c179e"
             ],
             [
              0.4444444444444444,
              "#bd3786"
             ],
             [
              0.5555555555555556,
              "#d8576b"
             ],
             [
              0.6666666666666666,
              "#ed7953"
             ],
             [
              0.7777777777777778,
              "#fb9f3a"
             ],
             [
              0.8888888888888888,
              "#fdca26"
             ],
             [
              1,
              "#f0f921"
             ]
            ],
            "type": "heatmap"
           }
          ],
          "histogram": [
           {
            "marker": {
             "pattern": {
              "fillmode": "overlay",
              "size": 10,
              "solidity": 0.2
             }
            },
            "type": "histogram"
           }
          ],
          "histogram2d": [
           {
            "colorbar": {
             "outlinewidth": 0,
             "ticks": ""
            },
            "colorscale": [
             [
              0,
              "#0d0887"
             ],
             [
              0.1111111111111111,
              "#46039f"
             ],
             [
              0.2222222222222222,
              "#7201a8"
             ],
             [
              0.3333333333333333,
              "#9c179e"
             ],
             [
              0.4444444444444444,
              "#bd3786"
             ],
             [
              0.5555555555555556,
              "#d8576b"
             ],
             [
              0.6666666666666666,
              "#ed7953"
             ],
             [
              0.7777777777777778,
              "#fb9f3a"
             ],
             [
              0.8888888888888888,
              "#fdca26"
             ],
             [
              1,
              "#f0f921"
             ]
            ],
            "type": "histogram2d"
           }
          ],
          "histogram2dcontour": [
           {
            "colorbar": {
             "outlinewidth": 0,
             "ticks": ""
            },
            "colorscale": [
             [
              0,
              "#0d0887"
             ],
             [
              0.1111111111111111,
              "#46039f"
             ],
             [
              0.2222222222222222,
              "#7201a8"
             ],
             [
              0.3333333333333333,
              "#9c179e"
             ],
             [
              0.4444444444444444,
              "#bd3786"
             ],
             [
              0.5555555555555556,
              "#d8576b"
             ],
             [
              0.6666666666666666,
              "#ed7953"
             ],
             [
              0.7777777777777778,
              "#fb9f3a"
             ],
             [
              0.8888888888888888,
              "#fdca26"
             ],
             [
              1,
              "#f0f921"
             ]
            ],
            "type": "histogram2dcontour"
           }
          ],
          "mesh3d": [
           {
            "colorbar": {
             "outlinewidth": 0,
             "ticks": ""
            },
            "type": "mesh3d"
           }
          ],
          "parcoords": [
           {
            "line": {
             "colorbar": {
              "outlinewidth": 0,
              "ticks": ""
             }
            },
            "type": "parcoords"
           }
          ],
          "pie": [
           {
            "automargin": true,
            "type": "pie"
           }
          ],
          "scatter": [
           {
            "fillpattern": {
             "fillmode": "overlay",
             "size": 10,
             "solidity": 0.2
            },
            "type": "scatter"
           }
          ],
          "scatter3d": [
           {
            "line": {
             "colorbar": {
              "outlinewidth": 0,
              "ticks": ""
             }
            },
            "marker": {
             "colorbar": {
              "outlinewidth": 0,
              "ticks": ""
             }
            },
            "type": "scatter3d"
           }
          ],
          "scattercarpet": [
           {
            "marker": {
             "colorbar": {
              "outlinewidth": 0,
              "ticks": ""
             }
            },
            "type": "scattercarpet"
           }
          ],
          "scattergeo": [
           {
            "marker": {
             "colorbar": {
              "outlinewidth": 0,
              "ticks": ""
             }
            },
            "type": "scattergeo"
           }
          ],
          "scattergl": [
           {
            "marker": {
             "colorbar": {
              "outlinewidth": 0,
              "ticks": ""
             }
            },
            "type": "scattergl"
           }
          ],
          "scattermap": [
           {
            "marker": {
             "colorbar": {
              "outlinewidth": 0,
              "ticks": ""
             }
            },
            "type": "scattermap"
           }
          ],
          "scattermapbox": [
           {
            "marker": {
             "colorbar": {
              "outlinewidth": 0,
              "ticks": ""
             }
            },
            "type": "scattermapbox"
           }
          ],
          "scatterpolar": [
           {
            "marker": {
             "colorbar": {
              "outlinewidth": 0,
              "ticks": ""
             }
            },
            "type": "scatterpolar"
           }
          ],
          "scatterpolargl": [
           {
            "marker": {
             "colorbar": {
              "outlinewidth": 0,
              "ticks": ""
             }
            },
            "type": "scatterpolargl"
           }
          ],
          "scatterternary": [
           {
            "marker": {
             "colorbar": {
              "outlinewidth": 0,
              "ticks": ""
             }
            },
            "type": "scatterternary"
           }
          ],
          "surface": [
           {
            "colorbar": {
             "outlinewidth": 0,
             "ticks": ""
            },
            "colorscale": [
             [
              0,
              "#0d0887"
             ],
             [
              0.1111111111111111,
              "#46039f"
             ],
             [
              0.2222222222222222,
              "#7201a8"
             ],
             [
              0.3333333333333333,
              "#9c179e"
             ],
             [
              0.4444444444444444,
              "#bd3786"
             ],
             [
              0.5555555555555556,
              "#d8576b"
             ],
             [
              0.6666666666666666,
              "#ed7953"
             ],
             [
              0.7777777777777778,
              "#fb9f3a"
             ],
             [
              0.8888888888888888,
              "#fdca26"
             ],
             [
              1,
              "#f0f921"
             ]
            ],
            "type": "surface"
           }
          ],
          "table": [
           {
            "cells": {
             "fill": {
              "color": "#EBF0F8"
             },
             "line": {
              "color": "white"
             }
            },
            "header": {
             "fill": {
              "color": "#C8D4E3"
             },
             "line": {
              "color": "white"
             }
            },
            "type": "table"
           }
          ]
         },
         "layout": {
          "annotationdefaults": {
           "arrowcolor": "#2a3f5f",
           "arrowhead": 0,
           "arrowwidth": 1
          },
          "autotypenumbers": "strict",
          "coloraxis": {
           "colorbar": {
            "outlinewidth": 0,
            "ticks": ""
           }
          },
          "colorscale": {
           "diverging": [
            [
             0,
             "#8e0152"
            ],
            [
             0.1,
             "#c51b7d"
            ],
            [
             0.2,
             "#de77ae"
            ],
            [
             0.3,
             "#f1b6da"
            ],
            [
             0.4,
             "#fde0ef"
            ],
            [
             0.5,
             "#f7f7f7"
            ],
            [
             0.6,
             "#e6f5d0"
            ],
            [
             0.7,
             "#b8e186"
            ],
            [
             0.8,
             "#7fbc41"
            ],
            [
             0.9,
             "#4d9221"
            ],
            [
             1,
             "#276419"
            ]
           ],
           "sequential": [
            [
             0,
             "#0d0887"
            ],
            [
             0.1111111111111111,
             "#46039f"
            ],
            [
             0.2222222222222222,
             "#7201a8"
            ],
            [
             0.3333333333333333,
             "#9c179e"
            ],
            [
             0.4444444444444444,
             "#bd3786"
            ],
            [
             0.5555555555555556,
             "#d8576b"
            ],
            [
             0.6666666666666666,
             "#ed7953"
            ],
            [
             0.7777777777777778,
             "#fb9f3a"
            ],
            [
             0.8888888888888888,
             "#fdca26"
            ],
            [
             1,
             "#f0f921"
            ]
           ],
           "sequentialminus": [
            [
             0,
             "#0d0887"
            ],
            [
             0.1111111111111111,
             "#46039f"
            ],
            [
             0.2222222222222222,
             "#7201a8"
            ],
            [
             0.3333333333333333,
             "#9c179e"
            ],
            [
             0.4444444444444444,
             "#bd3786"
            ],
            [
             0.5555555555555556,
             "#d8576b"
            ],
            [
             0.6666666666666666,
             "#ed7953"
            ],
            [
             0.7777777777777778,
             "#fb9f3a"
            ],
            [
             0.8888888888888888,
             "#fdca26"
            ],
            [
             1,
             "#f0f921"
            ]
           ]
          },
          "colorway": [
           "#636efa",
           "#EF553B",
           "#00cc96",
           "#ab63fa",
           "#FFA15A",
           "#19d3f3",
           "#FF6692",
           "#B6E880",
           "#FF97FF",
           "#FECB52"
          ],
          "font": {
           "color": "#2a3f5f"
          },
          "geo": {
           "bgcolor": "white",
           "lakecolor": "white",
           "landcolor": "white",
           "showlakes": true,
           "showland": true,
           "subunitcolor": "#C8D4E3"
          },
          "hoverlabel": {
           "align": "left"
          },
          "hovermode": "closest",
          "mapbox": {
           "style": "light"
          },
          "paper_bgcolor": "white",
          "plot_bgcolor": "white",
          "polar": {
           "angularaxis": {
            "gridcolor": "#EBF0F8",
            "linecolor": "#EBF0F8",
            "ticks": ""
           },
           "bgcolor": "white",
           "radialaxis": {
            "gridcolor": "#EBF0F8",
            "linecolor": "#EBF0F8",
            "ticks": ""
           }
          },
          "scene": {
           "xaxis": {
            "backgroundcolor": "white",
            "gridcolor": "#DFE8F3",
            "gridwidth": 2,
            "linecolor": "#EBF0F8",
            "showbackground": true,
            "ticks": "",
            "zerolinecolor": "#EBF0F8"
           },
           "yaxis": {
            "backgroundcolor": "white",
            "gridcolor": "#DFE8F3",
            "gridwidth": 2,
            "linecolor": "#EBF0F8",
            "showbackground": true,
            "ticks": "",
            "zerolinecolor": "#EBF0F8"
           },
           "zaxis": {
            "backgroundcolor": "white",
            "gridcolor": "#DFE8F3",
            "gridwidth": 2,
            "linecolor": "#EBF0F8",
            "showbackground": true,
            "ticks": "",
            "zerolinecolor": "#EBF0F8"
           }
          },
          "shapedefaults": {
           "line": {
            "color": "#2a3f5f"
           }
          },
          "ternary": {
           "aaxis": {
            "gridcolor": "#DFE8F3",
            "linecolor": "#A2B1C6",
            "ticks": ""
           },
           "baxis": {
            "gridcolor": "#DFE8F3",
            "linecolor": "#A2B1C6",
            "ticks": ""
           },
           "bgcolor": "white",
           "caxis": {
            "gridcolor": "#DFE8F3",
            "linecolor": "#A2B1C6",
            "ticks": ""
           }
          },
          "title": {
           "x": 0.05
          },
          "xaxis": {
           "automargin": true,
           "gridcolor": "#EBF0F8",
           "linecolor": "#EBF0F8",
           "ticks": "",
           "title": {
            "standoff": 15
           },
           "zerolinecolor": "#EBF0F8",
           "zerolinewidth": 2
          },
          "yaxis": {
           "automargin": true,
           "gridcolor": "#EBF0F8",
           "linecolor": "#EBF0F8",
           "ticks": "",
           "title": {
            "standoff": 15
           },
           "zerolinecolor": "#EBF0F8",
           "zerolinewidth": 2
          }
         }
        },
        "width": 1800,
        "xaxis": {
         "anchor": "y",
         "domain": [
          0,
          0.51
         ],
         "title": {
          "text": "Normalized Trials"
         }
        },
        "xaxis2": {
         "anchor": "y2",
         "domain": [
          0.66,
          1
         ],
         "title": {
          "text": "AUC"
         }
        },
        "yaxis": {
         "anchor": "x",
         "domain": [
          0,
          1
         ],
         "title": {
          "text": "Normalized Inc-Performance"
         }
        },
        "yaxis2": {
         "anchor": "x2",
         "domain": [
          0,
          1
         ],
         "title": {
          "text": "Optimizer"
         }
        }
       }
      }
     },
     "metadata": {},
     "output_type": "display_data"
    }
   ],
   "source": [
    "plot_one_thing('pc_method')"
   ]
  },
  {
   "cell_type": "code",
   "execution_count": 53,
   "id": "8c58d572",
   "metadata": {},
   "outputs": [
    {
     "name": "stdout",
     "output_type": "stream",
     "text": [
      "['both']\n"
     ]
    },
    {
     "name": "stderr",
     "output_type": "stream",
     "text": [
      "/tmp/ipykernel_37253/3449863810.py:27: DeprecationWarning:\n",
      "\n",
      "DataFrameGroupBy.apply operated on the grouping columns. This behavior is deprecated, and in a future version of pandas the grouping columns will be excluded from the operation. Either pass `include_groups=False` to exclude the groupings or explicitly select the grouping columns after groupby to silence this warning.\n",
      "\n"
     ]
    },
    {
     "data": {
      "application/vnd.plotly.v1+json": {
       "config": {
        "plotlyServerURL": "https://plot.ly"
       },
       "data": [
        {
         "line": {
          "color": "rgb(228,26,28)",
          "width": 2
         },
         "mode": "lines",
         "name": "both",
         "type": "scatter",
         "x": {
          "bdata": "AAAAAAAAAAB7FK5H4XqUP3sUrkfheqQ/uB6F61G4rj97FK5H4Xq0P5qZmZmZmbk/uB6F61G4vj/sUbgehevBP3sUrkfhesQ/CtejcD0Kxz+amZmZmZnJPylcj8L1KMw/uB6F61G4zj+kcD0K16PQP+xRuB6F69E/MzMzMzMz0z97FK5H4XrUP8P1KFyPwtU/CtejcD0K1z9SuB6F61HYP5qZmZmZmdk/4XoUrkfh2j8pXI/C9SjcP3E9CtejcN0/uB6F61G43j8AAAAAAADgP6RwPQrXo+A/SOF6FK5H4T/sUbgehevhP4/C9Shcj+I/MzMzMzMz4z/Xo3A9CtfjP3sUrkfheuQ/H4XrUbge5T/D9Shcj8LlP2dmZmZmZuY/CtejcD0K5z+uR+F6FK7nP1K4HoXrUeg/9ihcj8L16D+amZmZmZnpPz4K16NwPeo/4XoUrkfh6j+F61G4HoXrPylcj8L1KOw/zczMzMzM7D9xPQrXo3DtPxWuR+F6FO4/uB6F61G47j9cj8L1KFzvPwAAAAAAAPA/",
          "dtype": "f8"
         },
         "xaxis": "x",
         "y": {
          "bdata": "Dp9ZlWy57D9Y1/htsF7lPzYtt7WYsuI/DpON/eA44D89ANxbf/DcP01NUr2TG9s/dUrxLV9f2T/z4l7kvlvYP7cqXgfMY9c/yiEzjfF41j9T5DI49HTVPwonsy5Gv9Q/4biCPvMJ1D9Be7Fy6XvSP/o/+6KNXdA/VmMbRa2Tzz+g3yYzDTjNP5IHTE10q8s/k6I3mawKyj9sfuLzl3/IP3vtptX6E8c/5izzl36gxT+fjWzlP9HEP63UYcutAMM/Lk9rNrNiwT/q2NE7RoTAP8qBl5IAPMA/yoGXkgA8wD/KgZeSADzAP8qBl5IAPMA/yoGXkgA8wD/KgZeSADzAP8qBl5IAPMA/yoGXkgA8wD/KgZeSADzAP8qBl5IAPMA/yoGXkgA8wD/KgZeSADzAP8qBl5IAPMA/yoGXkgA8wD/KgZeSADzAP8qBl5IAPMA/yoGXkgA8wD/KgZeSADzAP8qBl5IAPMA/yoGXkgA8wD/KgZeSADzAP8qBl5IAPMA/yoGXkgA8wD/KgZeSADzAP8qBl5IAPMA/",
          "dtype": "f8"
         },
         "yaxis": "y"
        },
        {
         "fill": "toself",
         "fillcolor": "rgba(228,26,28,0.1)",
         "hoverinfo": "skip",
         "line": {
          "color": "rgba(255,255,255,0)"
         },
         "showlegend": false,
         "type": "scatter",
         "x": {
          "bdata": "AAAAAAAAAAB7FK5H4XqUP3sUrkfheqQ/uB6F61G4rj97FK5H4Xq0P5qZmZmZmbk/uB6F61G4vj/sUbgehevBP3sUrkfhesQ/CtejcD0Kxz+amZmZmZnJPylcj8L1KMw/uB6F61G4zj+kcD0K16PQP+xRuB6F69E/MzMzMzMz0z97FK5H4XrUP8P1KFyPwtU/CtejcD0K1z9SuB6F61HYP5qZmZmZmdk/4XoUrkfh2j8pXI/C9SjcP3E9CtejcN0/uB6F61G43j8AAAAAAADgP6RwPQrXo+A/SOF6FK5H4T/sUbgehevhP4/C9Shcj+I/MzMzMzMz4z/Xo3A9CtfjP3sUrkfheuQ/H4XrUbge5T/D9Shcj8LlP2dmZmZmZuY/CtejcD0K5z+uR+F6FK7nP1K4HoXrUeg/9ihcj8L16D+amZmZmZnpPz4K16NwPeo/4XoUrkfh6j+F61G4HoXrPylcj8L1KOw/zczMzMzM7D9xPQrXo3DtPxWuR+F6FO4/uB6F61G47j9cj8L1KFzvPwAAAAAAAPA/AAAAAAAA8D9cj8L1KFzvP7gehetRuO4/Fa5H4XoU7j9xPQrXo3DtP83MzMzMzOw/KVyPwvUo7D+F61G4HoXrP+F6FK5H4eo/PgrXo3A96j+amZmZmZnpP/YoXI/C9eg/UrgehetR6D+uR+F6FK7nPwrXo3A9Cuc/Z2ZmZmZm5j/D9Shcj8LlPx+F61G4HuU/exSuR+F65D/Xo3A9CtfjPzMzMzMzM+M/j8L1KFyP4j/sUbgehevhP0jhehSuR+E/pHA9Ctej4D8AAAAAAADgP7gehetRuN4/cT0K16Nw3T8pXI/C9SjcP+F6FK5H4do/mpmZmZmZ2T9SuB6F61HYPwrXo3A9Ctc/w/UoXI/C1T97FK5H4XrUPzMzMzMzM9M/7FG4HoXr0T+kcD0K16PQP7gehetRuM4/KVyPwvUozD+amZmZmZnJPwrXo3A9Csc/exSuR+F6xD/sUbgehevBP7gehetRuL4/mpmZmZmZuT97FK5H4Xq0P7gehetRuK4/exSuR+F6pD97FK5H4XqUPwAAAAAAAAAA",
          "dtype": "f8"
         },
         "xaxis": "x",
         "y": {
          "bdata": "FZaInXkA7D9rb7NZ8kPkPx5iNaPEpuE/+JWTUOLN3j/089PuQw3bPzNx7PF6rdk/kJuKxmDz1z+5oFQQ9BDXP8jb2e6l9NU/LuLEiMJk1T84XXgKK4HUP5wVDryMvtM/ybZqbXwe0z8h5EedJaPRP94Gye5m5M4/hZoq7gDezT+yvuOhc9rKP62/mwkUd8k/fEBt2ZgJyD+feB9lEnbGPwIjYD5a7MQ/0FAOjYTHwz+jW7oGIifDP/7yO9gLAsI/KdXSqJukwD80gjMpNZ+/P4q1N5H27b4/irU3kfbtvj+KtTeR9u2+P4q1N5H27b4/irU3kfbtvj+KtTeR9u2+P4q1N5H27b4/irU3kfbtvj+KtTeR9u2+P4q1N5H27b4/irU3kfbtvj+KtTeR9u2+P4q1N5H27b4/irU3kfbtvj+KtTeR9u2+P4q1N5H27b4/irU3kfbtvj+KtTeR9u2+P4q1N5H27b4/irU3kfbtvj+KtTeR9u2+P4q1N5H27b4/irU3kfbtvj+KtTeR9u2+P4q1N5H27b4/zyiT3AUBwT/PKJPcBQHBP88ok9wFAcE/zyiT3AUBwT/PKJPcBQHBP88ok9wFAcE/zyiT3AUBwT/PKJPcBQHBP88ok9wFAcE/zyiT3AUBwT/PKJPcBQHBP88ok9wFAcE/zyiT3AUBwT/PKJPcBQHBP88ok9wFAcE/zyiT3AUBwT/PKJPcBQHBP88ok9wFAcE/zyiT3AUBwT/PKJPcBQHBP88ok9wFAcE/zyiT3AUBwT/PKJPcBQHBP88ok9wFAcE/zyiT3AUBwT+68Anj8TjBPzPJA8TKIMI/XLaHvk//wz+bvx7EXXvGP/wI2KJ4ecc/9LftbJs7yT85hKWCHYnKP6oEAlnAC8w/d0/8kNTfzT+OAGrEppXPPxMWBs6spNA/hfyRzudI0T9hEhtIrVTTP/m6mg9q9dQ/eDhYof+/1T9ua+1lvWjWP2ZhoZEgjdc/pnniH/LS2D8tJWm4iabZP1r5V5Vdy9o/Zym4iKyJ3D+GDOTIutPePyBb0dLQCuE/Tvg4yGy+4z9FPz6CbnnmPweoKo1fcu0/",
          "dtype": "f8"
         },
         "yaxis": "y"
        },
        {
         "error_x": {
          "array": {
           "bdata": "TgP9W75Qhz8=",
           "dtype": "f8"
          },
          "type": "data"
         },
         "marker": {
          "color": "skyblue",
          "line": {
           "color": "black",
           "width": 1
          }
         },
         "orientation": "h",
         "showlegend": false,
         "type": "bar",
         "x": {
          "bdata": "mgFTGBT5yz8=",
          "dtype": "f8"
         },
         "xaxis": "x2",
         "y": [
          "both"
         ],
         "yaxis": "y2"
        }
       ],
       "layout": {
        "font": {
         "size": 16
        },
        "height": 400,
        "legend": {
         "font": {
          "size": 16
         },
         "title": {
          "text": "Optimizers"
         }
        },
        "margin": {
         "b": 50,
         "l": 50,
         "r": 50,
         "t": 60
        },
        "template": {
         "data": {
          "bar": [
           {
            "error_x": {
             "color": "#2a3f5f"
            },
            "error_y": {
             "color": "#2a3f5f"
            },
            "marker": {
             "line": {
              "color": "white",
              "width": 0.5
             },
             "pattern": {
              "fillmode": "overlay",
              "size": 10,
              "solidity": 0.2
             }
            },
            "type": "bar"
           }
          ],
          "barpolar": [
           {
            "marker": {
             "line": {
              "color": "white",
              "width": 0.5
             },
             "pattern": {
              "fillmode": "overlay",
              "size": 10,
              "solidity": 0.2
             }
            },
            "type": "barpolar"
           }
          ],
          "carpet": [
           {
            "aaxis": {
             "endlinecolor": "#2a3f5f",
             "gridcolor": "#C8D4E3",
             "linecolor": "#C8D4E3",
             "minorgridcolor": "#C8D4E3",
             "startlinecolor": "#2a3f5f"
            },
            "baxis": {
             "endlinecolor": "#2a3f5f",
             "gridcolor": "#C8D4E3",
             "linecolor": "#C8D4E3",
             "minorgridcolor": "#C8D4E3",
             "startlinecolor": "#2a3f5f"
            },
            "type": "carpet"
           }
          ],
          "choropleth": [
           {
            "colorbar": {
             "outlinewidth": 0,
             "ticks": ""
            },
            "type": "choropleth"
           }
          ],
          "contour": [
           {
            "colorbar": {
             "outlinewidth": 0,
             "ticks": ""
            },
            "colorscale": [
             [
              0,
              "#0d0887"
             ],
             [
              0.1111111111111111,
              "#46039f"
             ],
             [
              0.2222222222222222,
              "#7201a8"
             ],
             [
              0.3333333333333333,
              "#9c179e"
             ],
             [
              0.4444444444444444,
              "#bd3786"
             ],
             [
              0.5555555555555556,
              "#d8576b"
             ],
             [
              0.6666666666666666,
              "#ed7953"
             ],
             [
              0.7777777777777778,
              "#fb9f3a"
             ],
             [
              0.8888888888888888,
              "#fdca26"
             ],
             [
              1,
              "#f0f921"
             ]
            ],
            "type": "contour"
           }
          ],
          "contourcarpet": [
           {
            "colorbar": {
             "outlinewidth": 0,
             "ticks": ""
            },
            "type": "contourcarpet"
           }
          ],
          "heatmap": [
           {
            "colorbar": {
             "outlinewidth": 0,
             "ticks": ""
            },
            "colorscale": [
             [
              0,
              "#0d0887"
             ],
             [
              0.1111111111111111,
              "#46039f"
             ],
             [
              0.2222222222222222,
              "#7201a8"
             ],
             [
              0.3333333333333333,
              "#9c179e"
             ],
             [
              0.4444444444444444,
              "#bd3786"
             ],
             [
              0.5555555555555556,
              "#d8576b"
             ],
             [
              0.6666666666666666,
              "#ed7953"
             ],
             [
              0.7777777777777778,
              "#fb9f3a"
             ],
             [
              0.8888888888888888,
              "#fdca26"
             ],
             [
              1,
              "#f0f921"
             ]
            ],
            "type": "heatmap"
           }
          ],
          "histogram": [
           {
            "marker": {
             "pattern": {
              "fillmode": "overlay",
              "size": 10,
              "solidity": 0.2
             }
            },
            "type": "histogram"
           }
          ],
          "histogram2d": [
           {
            "colorbar": {
             "outlinewidth": 0,
             "ticks": ""
            },
            "colorscale": [
             [
              0,
              "#0d0887"
             ],
             [
              0.1111111111111111,
              "#46039f"
             ],
             [
              0.2222222222222222,
              "#7201a8"
             ],
             [
              0.3333333333333333,
              "#9c179e"
             ],
             [
              0.4444444444444444,
              "#bd3786"
             ],
             [
              0.5555555555555556,
              "#d8576b"
             ],
             [
              0.6666666666666666,
              "#ed7953"
             ],
             [
              0.7777777777777778,
              "#fb9f3a"
             ],
             [
              0.8888888888888888,
              "#fdca26"
             ],
             [
              1,
              "#f0f921"
             ]
            ],
            "type": "histogram2d"
           }
          ],
          "histogram2dcontour": [
           {
            "colorbar": {
             "outlinewidth": 0,
             "ticks": ""
            },
            "colorscale": [
             [
              0,
              "#0d0887"
             ],
             [
              0.1111111111111111,
              "#46039f"
             ],
             [
              0.2222222222222222,
              "#7201a8"
             ],
             [
              0.3333333333333333,
              "#9c179e"
             ],
             [
              0.4444444444444444,
              "#bd3786"
             ],
             [
              0.5555555555555556,
              "#d8576b"
             ],
             [
              0.6666666666666666,
              "#ed7953"
             ],
             [
              0.7777777777777778,
              "#fb9f3a"
             ],
             [
              0.8888888888888888,
              "#fdca26"
             ],
             [
              1,
              "#f0f921"
             ]
            ],
            "type": "histogram2dcontour"
           }
          ],
          "mesh3d": [
           {
            "colorbar": {
             "outlinewidth": 0,
             "ticks": ""
            },
            "type": "mesh3d"
           }
          ],
          "parcoords": [
           {
            "line": {
             "colorbar": {
              "outlinewidth": 0,
              "ticks": ""
             }
            },
            "type": "parcoords"
           }
          ],
          "pie": [
           {
            "automargin": true,
            "type": "pie"
           }
          ],
          "scatter": [
           {
            "fillpattern": {
             "fillmode": "overlay",
             "size": 10,
             "solidity": 0.2
            },
            "type": "scatter"
           }
          ],
          "scatter3d": [
           {
            "line": {
             "colorbar": {
              "outlinewidth": 0,
              "ticks": ""
             }
            },
            "marker": {
             "colorbar": {
              "outlinewidth": 0,
              "ticks": ""
             }
            },
            "type": "scatter3d"
           }
          ],
          "scattercarpet": [
           {
            "marker": {
             "colorbar": {
              "outlinewidth": 0,
              "ticks": ""
             }
            },
            "type": "scattercarpet"
           }
          ],
          "scattergeo": [
           {
            "marker": {
             "colorbar": {
              "outlinewidth": 0,
              "ticks": ""
             }
            },
            "type": "scattergeo"
           }
          ],
          "scattergl": [
           {
            "marker": {
             "colorbar": {
              "outlinewidth": 0,
              "ticks": ""
             }
            },
            "type": "scattergl"
           }
          ],
          "scattermap": [
           {
            "marker": {
             "colorbar": {
              "outlinewidth": 0,
              "ticks": ""
             }
            },
            "type": "scattermap"
           }
          ],
          "scattermapbox": [
           {
            "marker": {
             "colorbar": {
              "outlinewidth": 0,
              "ticks": ""
             }
            },
            "type": "scattermapbox"
           }
          ],
          "scatterpolar": [
           {
            "marker": {
             "colorbar": {
              "outlinewidth": 0,
              "ticks": ""
             }
            },
            "type": "scatterpolar"
           }
          ],
          "scatterpolargl": [
           {
            "marker": {
             "colorbar": {
              "outlinewidth": 0,
              "ticks": ""
             }
            },
            "type": "scatterpolargl"
           }
          ],
          "scatterternary": [
           {
            "marker": {
             "colorbar": {
              "outlinewidth": 0,
              "ticks": ""
             }
            },
            "type": "scatterternary"
           }
          ],
          "surface": [
           {
            "colorbar": {
             "outlinewidth": 0,
             "ticks": ""
            },
            "colorscale": [
             [
              0,
              "#0d0887"
             ],
             [
              0.1111111111111111,
              "#46039f"
             ],
             [
              0.2222222222222222,
              "#7201a8"
             ],
             [
              0.3333333333333333,
              "#9c179e"
             ],
             [
              0.4444444444444444,
              "#bd3786"
             ],
             [
              0.5555555555555556,
              "#d8576b"
             ],
             [
              0.6666666666666666,
              "#ed7953"
             ],
             [
              0.7777777777777778,
              "#fb9f3a"
             ],
             [
              0.8888888888888888,
              "#fdca26"
             ],
             [
              1,
              "#f0f921"
             ]
            ],
            "type": "surface"
           }
          ],
          "table": [
           {
            "cells": {
             "fill": {
              "color": "#EBF0F8"
             },
             "line": {
              "color": "white"
             }
            },
            "header": {
             "fill": {
              "color": "#C8D4E3"
             },
             "line": {
              "color": "white"
             }
            },
            "type": "table"
           }
          ]
         },
         "layout": {
          "annotationdefaults": {
           "arrowcolor": "#2a3f5f",
           "arrowhead": 0,
           "arrowwidth": 1
          },
          "autotypenumbers": "strict",
          "coloraxis": {
           "colorbar": {
            "outlinewidth": 0,
            "ticks": ""
           }
          },
          "colorscale": {
           "diverging": [
            [
             0,
             "#8e0152"
            ],
            [
             0.1,
             "#c51b7d"
            ],
            [
             0.2,
             "#de77ae"
            ],
            [
             0.3,
             "#f1b6da"
            ],
            [
             0.4,
             "#fde0ef"
            ],
            [
             0.5,
             "#f7f7f7"
            ],
            [
             0.6,
             "#e6f5d0"
            ],
            [
             0.7,
             "#b8e186"
            ],
            [
             0.8,
             "#7fbc41"
            ],
            [
             0.9,
             "#4d9221"
            ],
            [
             1,
             "#276419"
            ]
           ],
           "sequential": [
            [
             0,
             "#0d0887"
            ],
            [
             0.1111111111111111,
             "#46039f"
            ],
            [
             0.2222222222222222,
             "#7201a8"
            ],
            [
             0.3333333333333333,
             "#9c179e"
            ],
            [
             0.4444444444444444,
             "#bd3786"
            ],
            [
             0.5555555555555556,
             "#d8576b"
            ],
            [
             0.6666666666666666,
             "#ed7953"
            ],
            [
             0.7777777777777778,
             "#fb9f3a"
            ],
            [
             0.8888888888888888,
             "#fdca26"
            ],
            [
             1,
             "#f0f921"
            ]
           ],
           "sequentialminus": [
            [
             0,
             "#0d0887"
            ],
            [
             0.1111111111111111,
             "#46039f"
            ],
            [
             0.2222222222222222,
             "#7201a8"
            ],
            [
             0.3333333333333333,
             "#9c179e"
            ],
            [
             0.4444444444444444,
             "#bd3786"
            ],
            [
             0.5555555555555556,
             "#d8576b"
            ],
            [
             0.6666666666666666,
             "#ed7953"
            ],
            [
             0.7777777777777778,
             "#fb9f3a"
            ],
            [
             0.8888888888888888,
             "#fdca26"
            ],
            [
             1,
             "#f0f921"
            ]
           ]
          },
          "colorway": [
           "#636efa",
           "#EF553B",
           "#00cc96",
           "#ab63fa",
           "#FFA15A",
           "#19d3f3",
           "#FF6692",
           "#B6E880",
           "#FF97FF",
           "#FECB52"
          ],
          "font": {
           "color": "#2a3f5f"
          },
          "geo": {
           "bgcolor": "white",
           "lakecolor": "white",
           "landcolor": "white",
           "showlakes": true,
           "showland": true,
           "subunitcolor": "#C8D4E3"
          },
          "hoverlabel": {
           "align": "left"
          },
          "hovermode": "closest",
          "mapbox": {
           "style": "light"
          },
          "paper_bgcolor": "white",
          "plot_bgcolor": "white",
          "polar": {
           "angularaxis": {
            "gridcolor": "#EBF0F8",
            "linecolor": "#EBF0F8",
            "ticks": ""
           },
           "bgcolor": "white",
           "radialaxis": {
            "gridcolor": "#EBF0F8",
            "linecolor": "#EBF0F8",
            "ticks": ""
           }
          },
          "scene": {
           "xaxis": {
            "backgroundcolor": "white",
            "gridcolor": "#DFE8F3",
            "gridwidth": 2,
            "linecolor": "#EBF0F8",
            "showbackground": true,
            "ticks": "",
            "zerolinecolor": "#EBF0F8"
           },
           "yaxis": {
            "backgroundcolor": "white",
            "gridcolor": "#DFE8F3",
            "gridwidth": 2,
            "linecolor": "#EBF0F8",
            "showbackground": true,
            "ticks": "",
            "zerolinecolor": "#EBF0F8"
           },
           "zaxis": {
            "backgroundcolor": "white",
            "gridcolor": "#DFE8F3",
            "gridwidth": 2,
            "linecolor": "#EBF0F8",
            "showbackground": true,
            "ticks": "",
            "zerolinecolor": "#EBF0F8"
           }
          },
          "shapedefaults": {
           "line": {
            "color": "#2a3f5f"
           }
          },
          "ternary": {
           "aaxis": {
            "gridcolor": "#DFE8F3",
            "linecolor": "#A2B1C6",
            "ticks": ""
           },
           "baxis": {
            "gridcolor": "#DFE8F3",
            "linecolor": "#A2B1C6",
            "ticks": ""
           },
           "bgcolor": "white",
           "caxis": {
            "gridcolor": "#DFE8F3",
            "linecolor": "#A2B1C6",
            "ticks": ""
           }
          },
          "title": {
           "x": 0.05
          },
          "xaxis": {
           "automargin": true,
           "gridcolor": "#EBF0F8",
           "linecolor": "#EBF0F8",
           "ticks": "",
           "title": {
            "standoff": 15
           },
           "zerolinecolor": "#EBF0F8",
           "zerolinewidth": 2
          },
          "yaxis": {
           "automargin": true,
           "gridcolor": "#EBF0F8",
           "linecolor": "#EBF0F8",
           "ticks": "",
           "title": {
            "standoff": 15
           },
           "zerolinecolor": "#EBF0F8",
           "zerolinewidth": 2
          }
         }
        },
        "width": 1800,
        "xaxis": {
         "anchor": "y",
         "domain": [
          0,
          0.51
         ],
         "title": {
          "text": "Normalized Trials"
         }
        },
        "xaxis2": {
         "anchor": "y2",
         "domain": [
          0.66,
          1
         ],
         "title": {
          "text": "AUC"
         }
        },
        "yaxis": {
         "anchor": "x",
         "domain": [
          0,
          1
         ],
         "title": {
          "text": "Normalized Inc-Performance"
         }
        },
        "yaxis2": {
         "anchor": "x2",
         "domain": [
          0,
          1
         ],
         "title": {
          "text": "Optimizer"
         }
        }
       }
      }
     },
     "metadata": {},
     "output_type": "display_data"
    }
   ],
   "source": [
    "plot_one_thing('adjust_method')"
   ]
  },
  {
   "cell_type": "markdown",
   "id": "7ed93dcb",
   "metadata": {},
   "source": [
    "# Create Table"
   ]
  },
  {
   "cell_type": "code",
   "execution_count": 54,
   "id": "a8923469",
   "metadata": {},
   "outputs": [
    {
     "name": "stderr",
     "output_type": "stream",
     "text": [
      "/tmp/ipykernel_37253/1979927433.py:3: DeprecationWarning:\n",
      "\n",
      "DataFrameGroupBy.apply operated on the grouping columns. This behavior is deprecated, and in a future version of pandas the grouping columns will be excluded from the operation. Either pass `include_groups=False` to exclude the groupings or explicitly select the grouping columns after groupby to silence this warning.\n",
      "\n"
     ]
    }
   ],
   "source": [
    "auc_per_seed = (\n",
    "        df.groupby([\"optimizer_id\", \"seed\"])\n",
    "        .apply(lambda group: trapz(group.sort_values(\"n_trials_norm\")[\"trial_value__cost_inc_norm\"],\n",
    "                                   group.sort_values(\"n_trials_norm\")[\"n_trials_norm\"]))\n",
    "        .reset_index(name=\"auc\")\n",
    "    )\n",
    "\n",
    "# Compute mean and sem AUC per optimizer\n",
    "auc_values = auc_per_seed.groupby(\"optimizer_id\").agg(\n",
    "    auc_mean=('auc', 'mean'),\n",
    "    auc_sem=('auc', 'sem')\n",
    ").sort_values(\"auc_mean\", ascending=False).reset_index()\n"
   ]
  },
  {
   "cell_type": "code",
   "execution_count": 55,
   "id": "65afb7d7",
   "metadata": {},
   "outputs": [
    {
     "data": {
      "application/vnd.microsoft.datawrangler.viewer.v0+json": {
       "columns": [
        {
         "name": "index",
         "rawType": "int64",
         "type": "integer"
        },
        {
         "name": "optimizer_id",
         "rawType": "object",
         "type": "string"
        },
        {
         "name": "auc_mean",
         "rawType": "float64",
         "type": "float"
        },
        {
         "name": "auc_sem",
         "rawType": "float64",
         "type": "float"
        },
        {
         "name": "final_perf_mean",
         "rawType": "float64",
         "type": "float"
        },
        {
         "name": "final_perf_sem",
         "rawType": "float64",
         "type": "float"
        }
       ],
       "ref": "ac02179d-e2b6-4097-aa66-1eb522c95e98",
       "rows": [
        [
         "1",
         "fanova_adjust_cs_default_adjust_prev_cfgs_true_retrain_pc_set_to_default_thresh_0-075",
         "0.226",
         "0.011",
         "0.127",
         "0.006"
        ],
        [
         "2",
         "fanova_adjust_cs_default_adjust_prev_cfgs_true_retrain_pc_set_to_default_thresh_0-down-half",
         "0.226",
         "0.011",
         "0.127",
         "0.006"
        ],
        [
         "3",
         "fanova_adjust_cs_default_cs_proba_hpi_adjust_prev_cfgs_true_retrain_pc_set_to_default_thresh_0-075",
         "0.226",
         "0.011",
         "0.127",
         "0.006"
        ],
        [
         "4",
         "fanova_adjust_cs_default_cs_proba_hpi_adjust_prev_cfgs_true_retrain_pc_set_to_default_thresh_0-down-half",
         "0.226",
         "0.011",
         "0.127",
         "0.006"
        ],
        [
         "0",
         "SMAC3-MO-RF",
         "0.246",
         "0.01",
         "0.063",
         "0.009"
        ]
       ],
       "shape": {
        "columns": 5,
        "rows": 5
       }
      },
      "text/html": [
       "<div>\n",
       "<style scoped>\n",
       "    .dataframe tbody tr th:only-of-type {\n",
       "        vertical-align: middle;\n",
       "    }\n",
       "\n",
       "    .dataframe tbody tr th {\n",
       "        vertical-align: top;\n",
       "    }\n",
       "\n",
       "    .dataframe thead th {\n",
       "        text-align: right;\n",
       "    }\n",
       "</style>\n",
       "<table border=\"1\" class=\"dataframe\">\n",
       "  <thead>\n",
       "    <tr style=\"text-align: right;\">\n",
       "      <th></th>\n",
       "      <th>optimizer_id</th>\n",
       "      <th>auc_mean</th>\n",
       "      <th>auc_sem</th>\n",
       "      <th>final_perf_mean</th>\n",
       "      <th>final_perf_sem</th>\n",
       "    </tr>\n",
       "  </thead>\n",
       "  <tbody>\n",
       "    <tr>\n",
       "      <th>1</th>\n",
       "      <td>fanova_adjust_cs_default_adjust_prev_cfgs_true...</td>\n",
       "      <td>0.226</td>\n",
       "      <td>0.011</td>\n",
       "      <td>0.127</td>\n",
       "      <td>0.006</td>\n",
       "    </tr>\n",
       "    <tr>\n",
       "      <th>2</th>\n",
       "      <td>fanova_adjust_cs_default_adjust_prev_cfgs_true...</td>\n",
       "      <td>0.226</td>\n",
       "      <td>0.011</td>\n",
       "      <td>0.127</td>\n",
       "      <td>0.006</td>\n",
       "    </tr>\n",
       "    <tr>\n",
       "      <th>3</th>\n",
       "      <td>fanova_adjust_cs_default_cs_proba_hpi_adjust_p...</td>\n",
       "      <td>0.226</td>\n",
       "      <td>0.011</td>\n",
       "      <td>0.127</td>\n",
       "      <td>0.006</td>\n",
       "    </tr>\n",
       "    <tr>\n",
       "      <th>4</th>\n",
       "      <td>fanova_adjust_cs_default_cs_proba_hpi_adjust_p...</td>\n",
       "      <td>0.226</td>\n",
       "      <td>0.011</td>\n",
       "      <td>0.127</td>\n",
       "      <td>0.006</td>\n",
       "    </tr>\n",
       "    <tr>\n",
       "      <th>0</th>\n",
       "      <td>SMAC3-MO-RF</td>\n",
       "      <td>0.246</td>\n",
       "      <td>0.010</td>\n",
       "      <td>0.063</td>\n",
       "      <td>0.009</td>\n",
       "    </tr>\n",
       "  </tbody>\n",
       "</table>\n",
       "</div>"
      ],
      "text/plain": [
       "                                        optimizer_id  auc_mean  auc_sem  \\\n",
       "1  fanova_adjust_cs_default_adjust_prev_cfgs_true...     0.226    0.011   \n",
       "2  fanova_adjust_cs_default_adjust_prev_cfgs_true...     0.226    0.011   \n",
       "3  fanova_adjust_cs_default_cs_proba_hpi_adjust_p...     0.226    0.011   \n",
       "4  fanova_adjust_cs_default_cs_proba_hpi_adjust_p...     0.226    0.011   \n",
       "0                                        SMAC3-MO-RF     0.246    0.010   \n",
       "\n",
       "   final_perf_mean  final_perf_sem  \n",
       "1            0.127           0.006  \n",
       "2            0.127           0.006  \n",
       "3            0.127           0.006  \n",
       "4            0.127           0.006  \n",
       "0            0.063           0.009  "
      ]
     },
     "execution_count": 55,
     "metadata": {},
     "output_type": "execute_result"
    }
   ],
   "source": [
    "merge = pd.merge(auc_values, df, on='optimizer_id', how='left')\n",
    "merge = merge.drop_duplicates(subset=['optimizer_id'])\n",
    "merge = merge[['optimizer_id', 'auc_mean', 'auc_sem']]\n",
    "# merge = merge[['optimizer_id', 'hpi_method', 'adjust_cs', 'cs_method', 'pc_method', 'thresh', 'adjust_method', 'auc_mean', 'auc_sem']]\n",
    "final_perf = df[df['n_trials_norm'] == 1].groupby(['optimizer_id','seed']).agg({'trial_value__cost_inc_norm':'mean'}).groupby('optimizer_id').agg(\n",
    "    final_perf_mean=('trial_value__cost_inc_norm', 'mean'),\n",
    "    final_perf_sem=('trial_value__cost_inc_norm', 'sem')\n",
    ").sort_values(\"final_perf_mean\", ascending=False).reset_index()\n",
    "\n",
    "merge = pd.merge(final_perf, merge, on='optimizer_id', how='right')\n",
    "merge = merge[['optimizer_id', 'auc_mean','auc_sem', 'final_perf_mean', 'final_perf_sem']].sort_values(by='final_perf_mean', ascending=True)\n",
    "merge = merge.apply(lambda col: col.round(3) if col.name in ['auc_mean', 'auc_sem', 'final_perf_mean', 'final_perf_sem'] else col)\n",
    "merge.sort_values(by='auc_mean', ascending=True).head(5)"
   ]
  },
  {
   "cell_type": "code",
   "execution_count": 56,
   "id": "77ebef17",
   "metadata": {},
   "outputs": [
    {
     "data": {
      "application/vnd.microsoft.datawrangler.viewer.v0+json": {
       "columns": [
        {
         "name": "index",
         "rawType": "int64",
         "type": "integer"
        },
        {
         "name": "optimizer_id",
         "rawType": "object",
         "type": "string"
        },
        {
         "name": "auc_mean",
         "rawType": "float64",
         "type": "float"
        },
        {
         "name": "auc_sem",
         "rawType": "float64",
         "type": "float"
        },
        {
         "name": "final_perf_mean",
         "rawType": "float64",
         "type": "float"
        },
        {
         "name": "final_perf_sem",
         "rawType": "float64",
         "type": "float"
        }
       ],
       "ref": "624d37d6-0021-48f1-9b16-1b001612499f",
       "rows": [
        [
         "0",
         "SMAC3-MO-RF",
         "0.246",
         "0.01",
         "0.063",
         "0.009"
        ],
        [
         "1",
         "fanova_adjust_cs_default_adjust_prev_cfgs_true_retrain_pc_set_to_default_thresh_0-075",
         "0.226",
         "0.011",
         "0.127",
         "0.006"
        ],
        [
         "2",
         "fanova_adjust_cs_default_adjust_prev_cfgs_true_retrain_pc_set_to_default_thresh_0-down-half",
         "0.226",
         "0.011",
         "0.127",
         "0.006"
        ],
        [
         "3",
         "fanova_adjust_cs_default_cs_proba_hpi_adjust_prev_cfgs_true_retrain_pc_set_to_default_thresh_0-075",
         "0.226",
         "0.011",
         "0.127",
         "0.006"
        ],
        [
         "4",
         "fanova_adjust_cs_default_cs_proba_hpi_adjust_prev_cfgs_true_retrain_pc_set_to_default_thresh_0-down-half",
         "0.226",
         "0.011",
         "0.127",
         "0.006"
        ]
       ],
       "shape": {
        "columns": 5,
        "rows": 5
       }
      },
      "text/html": [
       "<div>\n",
       "<style scoped>\n",
       "    .dataframe tbody tr th:only-of-type {\n",
       "        vertical-align: middle;\n",
       "    }\n",
       "\n",
       "    .dataframe tbody tr th {\n",
       "        vertical-align: top;\n",
       "    }\n",
       "\n",
       "    .dataframe thead th {\n",
       "        text-align: right;\n",
       "    }\n",
       "</style>\n",
       "<table border=\"1\" class=\"dataframe\">\n",
       "  <thead>\n",
       "    <tr style=\"text-align: right;\">\n",
       "      <th></th>\n",
       "      <th>optimizer_id</th>\n",
       "      <th>auc_mean</th>\n",
       "      <th>auc_sem</th>\n",
       "      <th>final_perf_mean</th>\n",
       "      <th>final_perf_sem</th>\n",
       "    </tr>\n",
       "  </thead>\n",
       "  <tbody>\n",
       "    <tr>\n",
       "      <th>0</th>\n",
       "      <td>SMAC3-MO-RF</td>\n",
       "      <td>0.246</td>\n",
       "      <td>0.010</td>\n",
       "      <td>0.063</td>\n",
       "      <td>0.009</td>\n",
       "    </tr>\n",
       "    <tr>\n",
       "      <th>1</th>\n",
       "      <td>fanova_adjust_cs_default_adjust_prev_cfgs_true...</td>\n",
       "      <td>0.226</td>\n",
       "      <td>0.011</td>\n",
       "      <td>0.127</td>\n",
       "      <td>0.006</td>\n",
       "    </tr>\n",
       "    <tr>\n",
       "      <th>2</th>\n",
       "      <td>fanova_adjust_cs_default_adjust_prev_cfgs_true...</td>\n",
       "      <td>0.226</td>\n",
       "      <td>0.011</td>\n",
       "      <td>0.127</td>\n",
       "      <td>0.006</td>\n",
       "    </tr>\n",
       "    <tr>\n",
       "      <th>3</th>\n",
       "      <td>fanova_adjust_cs_default_cs_proba_hpi_adjust_p...</td>\n",
       "      <td>0.226</td>\n",
       "      <td>0.011</td>\n",
       "      <td>0.127</td>\n",
       "      <td>0.006</td>\n",
       "    </tr>\n",
       "    <tr>\n",
       "      <th>4</th>\n",
       "      <td>fanova_adjust_cs_default_cs_proba_hpi_adjust_p...</td>\n",
       "      <td>0.226</td>\n",
       "      <td>0.011</td>\n",
       "      <td>0.127</td>\n",
       "      <td>0.006</td>\n",
       "    </tr>\n",
       "  </tbody>\n",
       "</table>\n",
       "</div>"
      ],
      "text/plain": [
       "                                        optimizer_id  auc_mean  auc_sem  \\\n",
       "0                                        SMAC3-MO-RF     0.246    0.010   \n",
       "1  fanova_adjust_cs_default_adjust_prev_cfgs_true...     0.226    0.011   \n",
       "2  fanova_adjust_cs_default_adjust_prev_cfgs_true...     0.226    0.011   \n",
       "3  fanova_adjust_cs_default_cs_proba_hpi_adjust_p...     0.226    0.011   \n",
       "4  fanova_adjust_cs_default_cs_proba_hpi_adjust_p...     0.226    0.011   \n",
       "\n",
       "   final_perf_mean  final_perf_sem  \n",
       "0            0.063           0.009  \n",
       "1            0.127           0.006  \n",
       "2            0.127           0.006  \n",
       "3            0.127           0.006  \n",
       "4            0.127           0.006  "
      ]
     },
     "execution_count": 56,
     "metadata": {},
     "output_type": "execute_result"
    }
   ],
   "source": [
    "merge.sort_values(by='final_perf_mean', ascending=True).head(5)"
   ]
  },
  {
   "cell_type": "markdown",
   "id": "aa7618ba",
   "metadata": {},
   "source": [
    "# Final Perfromance"
   ]
  },
  {
   "cell_type": "code",
   "execution_count": 57,
   "id": "8e26936a",
   "metadata": {},
   "outputs": [
    {
     "name": "stderr",
     "output_type": "stream",
     "text": [
      "/tmp/ipykernel_37253/3449863810.py:27: DeprecationWarning:\n",
      "\n",
      "DataFrameGroupBy.apply operated on the grouping columns. This behavior is deprecated, and in a future version of pandas the grouping columns will be excluded from the operation. Either pass `include_groups=False` to exclude the groupings or explicitly select the grouping columns after groupby to silence this warning.\n",
      "\n"
     ]
    },
    {
     "name": "stdout",
     "output_type": "stream",
     "text": [
      "['SMAC3-MO-RF'\n",
      " 'fanova_adjust_cs_default_adjust_prev_cfgs_true_retrain_pc_set_to_default_thresh_0-075']\n"
     ]
    },
    {
     "data": {
      "application/vnd.plotly.v1+json": {
       "config": {
        "plotlyServerURL": "https://plot.ly"
       },
       "data": [
        {
         "line": {
          "color": "rgb(228,26,28)",
          "width": 2
         },
         "mode": "lines",
         "name": "SMAC3-MO-RF",
         "type": "scatter",
         "x": {
          "bdata": "AAAAAAAAAAB7FK5H4XqUP3sUrkfheqQ/uB6F61G4rj97FK5H4Xq0P5qZmZmZmbk/uB6F61G4vj/sUbgehevBP3sUrkfhesQ/CtejcD0Kxz+amZmZmZnJPylcj8L1KMw/uB6F61G4zj+kcD0K16PQP+xRuB6F69E/MzMzMzMz0z97FK5H4XrUP8P1KFyPwtU/CtejcD0K1z9SuB6F61HYP5qZmZmZmdk/4XoUrkfh2j8pXI/C9SjcP3E9CtejcN0/uB6F61G43j8AAAAAAADgP6RwPQrXo+A/SOF6FK5H4T/sUbgehevhP4/C9Shcj+I/MzMzMzMz4z/Xo3A9CtfjP3sUrkfheuQ/H4XrUbge5T/D9Shcj8LlP2dmZmZmZuY/CtejcD0K5z+uR+F6FK7nP1K4HoXrUeg/9ihcj8L16D+amZmZmZnpPz4K16NwPeo/4XoUrkfh6j+F61G4HoXrPylcj8L1KOw/zczMzMzM7D9xPQrXo3DtPxWuR+F6FO4/uB6F61G47j9cj8L1KFzvPwAAAAAAAPA/",
          "dtype": "f8"
         },
         "xaxis": "x",
         "y": {
          "bdata": "mEwEKdrO7D/ex9uWh9vlP7sGdYq2YuM/8VROwhMy4T+aIVvuwx/fP8vHiE00W90/OzlD4AjR2z+WnBYlBPfaP+C4MNseF9o//jQ2TuE+2T/hWksRHT3YP1g+AV2sm9c/rrXSunH91j+qP+WHoxnWP6pCzDw3dNU/Jpl66uxR1D+pFsj6X7vTP9EFFCxL4tI/k8uw1zXT0T82rI7KhUnRP4aHk9iPdNA/0934sqc2zz/WF1dZVRzOP7t7hd0vWsw/YkTPGIWayz8jaJWcTfPJP0VF6JDxocg/llmMQaX7xj9HQfP3yEjGP0XJiP0nhMU/DZlG7CqSxD8a/GOSpKnDPzjud1I3HsM/Toe0pKxxwj99u6EFpsvBP0W0Xx3BwMA/Kqwfb61hwD/9v58FPtK/Pzvq8zXivb0/ALUbevEFvD/N8DwDRfO6P23q+MKD9bk/yYYEBzfTuD8ZpJqi7++2P7OliIvjC7Y/fFnmnw4KtT+E5ITMk+2zPy5FOs8r1rI/3A69+QXlsT/SqGjVZXWxP4rFTR9SM7A/",
          "dtype": "f8"
         },
         "yaxis": "y"
        },
        {
         "fill": "toself",
         "fillcolor": "rgba(228,26,28,0.1)",
         "hoverinfo": "skip",
         "line": {
          "color": "rgba(255,255,255,0)"
         },
         "showlegend": false,
         "type": "scatter",
         "x": {
          "bdata": "AAAAAAAAAAB7FK5H4XqUP3sUrkfheqQ/uB6F61G4rj97FK5H4Xq0P5qZmZmZmbk/uB6F61G4vj/sUbgehevBP3sUrkfhesQ/CtejcD0Kxz+amZmZmZnJPylcj8L1KMw/uB6F61G4zj+kcD0K16PQP+xRuB6F69E/MzMzMzMz0z97FK5H4XrUP8P1KFyPwtU/CtejcD0K1z9SuB6F61HYP5qZmZmZmdk/4XoUrkfh2j8pXI/C9SjcP3E9CtejcN0/uB6F61G43j8AAAAAAADgP6RwPQrXo+A/SOF6FK5H4T/sUbgehevhP4/C9Shcj+I/MzMzMzMz4z/Xo3A9CtfjP3sUrkfheuQ/H4XrUbge5T/D9Shcj8LlP2dmZmZmZuY/CtejcD0K5z+uR+F6FK7nP1K4HoXrUeg/9ihcj8L16D+amZmZmZnpPz4K16NwPeo/4XoUrkfh6j+F61G4HoXrPylcj8L1KOw/zczMzMzM7D9xPQrXo3DtPxWuR+F6FO4/uB6F61G47j9cj8L1KFzvPwAAAAAAAPA/AAAAAAAA8D9cj8L1KFzvP7gehetRuO4/Fa5H4XoU7j9xPQrXo3DtP83MzMzMzOw/KVyPwvUo7D+F61G4HoXrP+F6FK5H4eo/PgrXo3A96j+amZmZmZnpP/YoXI/C9eg/UrgehetR6D+uR+F6FK7nPwrXo3A9Cuc/Z2ZmZmZm5j/D9Shcj8LlPx+F61G4HuU/exSuR+F65D/Xo3A9CtfjPzMzMzMzM+M/j8L1KFyP4j/sUbgehevhP0jhehSuR+E/pHA9Ctej4D8AAAAAAADgP7gehetRuN4/cT0K16Nw3T8pXI/C9SjcP+F6FK5H4do/mpmZmZmZ2T9SuB6F61HYPwrXo3A9Ctc/w/UoXI/C1T97FK5H4XrUPzMzMzMzM9M/7FG4HoXr0T+kcD0K16PQP7gehetRuM4/KVyPwvUozD+amZmZmZnJPwrXo3A9Csc/exSuR+F6xD/sUbgehevBP7gehetRuL4/mpmZmZmZuT97FK5H4Xq0P7gehetRuK4/exSuR+F6pD97FK5H4XqUPwAAAAAAAAAA",
          "dtype": "f8"
         },
         "xaxis": "x",
         "y": {
          "bdata": "laEeFjsn7D/w7sY2geHkPy+DmCQFa+I/0OvVvPBj4D9G3Laljz3dPwrkcEKC3ds/PBNqKBU42j/vT8pnSnPZP14AKI7Mddg/s81DhSnl1z+m1lCKBAXXP2PddNmkWNY/IoN+k6zO1T+wgYyzke/UPyLj7k0ERNQ/u5/GSNUk0z87KJYIYZLSPykH5OlIw9E/ZMI6sO360D+VevDyq2XQPwLwXzhgPM8/MiYahv0hzj+ECiwqX33NP30iNs+tsss/QB/YyZnjyj9JM+jrQg/JP30Ltvj+58c/1MHA7790xj/3wXsg05fFP+OmnwZtnMQ/TFa0WBOHwz8WI3IRpKbCP260USMtE8I/HG7p3HhRwT+c8a2UY7bAP8KYmen9Mb8/+sbVH6pvvj/CHKgtNE+9P8XHWl4PsLo/KmS6UcBVuT8VnbFn73+4P652uVDAiLc/lHhwcJ5Wtj/rf4ubYZK0PxzbhYGCw7M/xMpVB6LYsj8ceCIosJSxP1pAJZc9drA/moQiw84hrz8ACiYqbjGuP1DAPRl+sqs/7Kr8MWWNsj+kTL6VFNKzP2vb6JEkObQ/AkpPBxo2tT/sUOdwd0a2PzTodjh7O7c/SnCLlURUuD9HyKmpfU25P/6UmJ3PT7s/LF44NUdivD+FRMiemma9P9YFfaIitr4/WYbGhtplwD+cscvuoyrBP9d0VM6Fi8E/KZzyRYPowT9ehZV26ODCP4Cgf2zgkcM/AiiegUEpxD8e1VUTpazEP87b2H9CncU/p+tx9OJrxj+XwGrPvvnGP1jxV5OKgsc/DX8aKeRbyT/9nEJNWNfKP4RpxmdwUcw/+dTU67EBzT8oJYKIS7vOP7rK6++oJdA/Cxf3lO9K0T/X3SyiXy3SP8LUJv99q9I/eQREbk0B1D8XBfrsXuTUP5GSLowEf9U/MqKpK2qk1j+k/T1ctUPXPzroJuI2LNg/TZ+N4LPe2D8c30WYNXXZP0mcKBeZmNo/YnE5KHG42z896WLivXrcPzpfHJj8ad0/jKugWObY3j93s38b/IDgPxK+xsc2AOI/R4pR8Gda5D/MoPD2jdXmP5v36Tt5du0/",
          "dtype": "f8"
         },
         "yaxis": "y"
        },
        {
         "line": {
          "color": "rgb(55,126,184)",
          "width": 2
         },
         "mode": "lines",
         "name": "fanova_adjust_cs_default_adjust_prev_cfgs_true_retrain_pc_set_to_default_thresh_0-075",
         "type": "scatter",
         "x": {
          "bdata": "AAAAAAAAAAB7FK5H4XqUP3sUrkfheqQ/uB6F61G4rj97FK5H4Xq0P5qZmZmZmbk/uB6F61G4vj/sUbgehevBP3sUrkfhesQ/CtejcD0Kxz+amZmZmZnJPylcj8L1KMw/uB6F61G4zj+kcD0K16PQP+xRuB6F69E/MzMzMzMz0z97FK5H4XrUP8P1KFyPwtU/CtejcD0K1z9SuB6F61HYP5qZmZmZmdk/4XoUrkfh2j8pXI/C9SjcP3E9CtejcN0/uB6F61G43j8AAAAAAADgP6RwPQrXo+A/SOF6FK5H4T/sUbgehevhP4/C9Shcj+I/MzMzMzMz4z/Xo3A9CtfjP3sUrkfheuQ/H4XrUbge5T/D9Shcj8LlP2dmZmZmZuY/CtejcD0K5z+uR+F6FK7nP1K4HoXrUeg/9ihcj8L16D+amZmZmZnpPz4K16NwPeo/4XoUrkfh6j+F61G4HoXrPylcj8L1KOw/zczMzMzM7D9xPQrXo3DtPxWuR+F6FO4/uB6F61G47j9cj8L1KFzvPwAAAAAAAPA/",
          "dtype": "f8"
         },
         "xaxis": "x",
         "y": {
          "bdata": "Dp9ZlWy57D9Y1/htsF7lPzYtt7WYsuI/DpON/eA44D89ANxbf/DcP01NUr2TG9s/dUrxLV9f2T/z4l7kvlvYP7cqXgfMY9c/yiEzjfF41j9T5DI49HTVPwonsy5Gv9Q/4biCPvMJ1D9Be7Fy6XvSP/o/+6KNXdA/VmMbRa2Tzz+g3yYzDTjNP5IHTE10q8s/k6I3mawKyj9sfuLzl3/IP3vtptX6E8c/5izzl36gxT+fjWzlP9HEP63UYcutAMM/Lk9rNrNiwT/q2NE7RoTAP8qBl5IAPMA/yoGXkgA8wD/KgZeSADzAP8qBl5IAPMA/yoGXkgA8wD/KgZeSADzAP8qBl5IAPMA/yoGXkgA8wD/KgZeSADzAP8qBl5IAPMA/yoGXkgA8wD/KgZeSADzAP8qBl5IAPMA/yoGXkgA8wD/KgZeSADzAP8qBl5IAPMA/yoGXkgA8wD/KgZeSADzAP8qBl5IAPMA/yoGXkgA8wD/KgZeSADzAP8qBl5IAPMA/yoGXkgA8wD/KgZeSADzAP8qBl5IAPMA/",
          "dtype": "f8"
         },
         "yaxis": "y"
        },
        {
         "fill": "toself",
         "fillcolor": "rgba(55,126,184,0.1)",
         "hoverinfo": "skip",
         "line": {
          "color": "rgba(255,255,255,0)"
         },
         "showlegend": false,
         "type": "scatter",
         "x": {
          "bdata": "AAAAAAAAAAB7FK5H4XqUP3sUrkfheqQ/uB6F61G4rj97FK5H4Xq0P5qZmZmZmbk/uB6F61G4vj/sUbgehevBP3sUrkfhesQ/CtejcD0Kxz+amZmZmZnJPylcj8L1KMw/uB6F61G4zj+kcD0K16PQP+xRuB6F69E/MzMzMzMz0z97FK5H4XrUP8P1KFyPwtU/CtejcD0K1z9SuB6F61HYP5qZmZmZmdk/4XoUrkfh2j8pXI/C9SjcP3E9CtejcN0/uB6F61G43j8AAAAAAADgP6RwPQrXo+A/SOF6FK5H4T/sUbgehevhP4/C9Shcj+I/MzMzMzMz4z/Xo3A9CtfjP3sUrkfheuQ/H4XrUbge5T/D9Shcj8LlP2dmZmZmZuY/CtejcD0K5z+uR+F6FK7nP1K4HoXrUeg/9ihcj8L16D+amZmZmZnpPz4K16NwPeo/4XoUrkfh6j+F61G4HoXrPylcj8L1KOw/zczMzMzM7D9xPQrXo3DtPxWuR+F6FO4/uB6F61G47j9cj8L1KFzvPwAAAAAAAPA/AAAAAAAA8D9cj8L1KFzvP7gehetRuO4/Fa5H4XoU7j9xPQrXo3DtP83MzMzMzOw/KVyPwvUo7D+F61G4HoXrP+F6FK5H4eo/PgrXo3A96j+amZmZmZnpP/YoXI/C9eg/UrgehetR6D+uR+F6FK7nPwrXo3A9Cuc/Z2ZmZmZm5j/D9Shcj8LlPx+F61G4HuU/exSuR+F65D/Xo3A9CtfjPzMzMzMzM+M/j8L1KFyP4j/sUbgehevhP0jhehSuR+E/pHA9Ctej4D8AAAAAAADgP7gehetRuN4/cT0K16Nw3T8pXI/C9SjcP+F6FK5H4do/mpmZmZmZ2T9SuB6F61HYPwrXo3A9Ctc/w/UoXI/C1T97FK5H4XrUPzMzMzMzM9M/7FG4HoXr0T+kcD0K16PQP7gehetRuM4/KVyPwvUozD+amZmZmZnJPwrXo3A9Csc/exSuR+F6xD/sUbgehevBP7gehetRuL4/mpmZmZmZuT97FK5H4Xq0P7gehetRuK4/exSuR+F6pD97FK5H4XqUPwAAAAAAAAAA",
          "dtype": "f8"
         },
         "xaxis": "x",
         "y": {
          "bdata": "FZaInXkA7D9rb7NZ8kPkPx5iNaPEpuE/+JWTUOLN3j/089PuQw3bPzNx7PF6rdk/kJuKxmDz1z+5oFQQ9BDXP8jb2e6l9NU/LuLEiMJk1T84XXgKK4HUP5wVDryMvtM/ybZqbXwe0z8h5EedJaPRP94Gye5m5M4/hZoq7gDezT+yvuOhc9rKP62/mwkUd8k/fEBt2ZgJyD+feB9lEnbGPwIjYD5a7MQ/0FAOjYTHwz+jW7oGIifDP/7yO9gLAsI/KdXSqJukwD80gjMpNZ+/P4q1N5H27b4/irU3kfbtvj+KtTeR9u2+P4q1N5H27b4/irU3kfbtvj+KtTeR9u2+P4q1N5H27b4/irU3kfbtvj+KtTeR9u2+P4q1N5H27b4/irU3kfbtvj+KtTeR9u2+P4q1N5H27b4/irU3kfbtvj+KtTeR9u2+P4q1N5H27b4/irU3kfbtvj+KtTeR9u2+P4q1N5H27b4/irU3kfbtvj+KtTeR9u2+P4q1N5H27b4/irU3kfbtvj+KtTeR9u2+P4q1N5H27b4/zyiT3AUBwT/PKJPcBQHBP88ok9wFAcE/zyiT3AUBwT/PKJPcBQHBP88ok9wFAcE/zyiT3AUBwT/PKJPcBQHBP88ok9wFAcE/zyiT3AUBwT/PKJPcBQHBP88ok9wFAcE/zyiT3AUBwT/PKJPcBQHBP88ok9wFAcE/zyiT3AUBwT/PKJPcBQHBP88ok9wFAcE/zyiT3AUBwT/PKJPcBQHBP88ok9wFAcE/zyiT3AUBwT/PKJPcBQHBP88ok9wFAcE/zyiT3AUBwT+68Anj8TjBPzPJA8TKIMI/XLaHvk//wz+bvx7EXXvGP/wI2KJ4ecc/9LftbJs7yT85hKWCHYnKP6oEAlnAC8w/d0/8kNTfzT+OAGrEppXPPxMWBs6spNA/hfyRzudI0T9hEhtIrVTTP/m6mg9q9dQ/eDhYof+/1T9ua+1lvWjWP2ZhoZEgjdc/pnniH/LS2D8tJWm4iabZP1r5V5Vdy9o/Zym4iKyJ3D+GDOTIutPePyBb0dLQCuE/Tvg4yGy+4z9FPz6CbnnmPweoKo1fcu0/",
          "dtype": "f8"
         },
         "yaxis": "y"
        },
        {
         "error_x": {
          "array": {
           "bdata": "lCzT0VCziT9Q6DpAlOGGPw==",
           "dtype": "f8"
          },
          "type": "data"
         },
         "marker": {
          "color": "skyblue",
          "line": {
           "color": "black",
           "width": 1
          }
         },
         "orientation": "h",
         "showlegend": false,
         "type": "bar",
         "x": {
          "bdata": "9PoEyAGI0D++K8KxzOTMPw==",
          "dtype": "f8"
         },
         "xaxis": "x2",
         "y": [
          "SMAC3-MO-RF",
          "fanova_adjust_cs_default_adjust_prev_cfgs_true_retrain_pc_set_to_default_thresh_0-075"
         ],
         "yaxis": "y2"
        }
       ],
       "layout": {
        "font": {
         "size": 16
        },
        "height": 400,
        "legend": {
         "font": {
          "size": 16
         },
         "title": {
          "text": "Optimizers"
         }
        },
        "margin": {
         "b": 50,
         "l": 50,
         "r": 50,
         "t": 60
        },
        "template": {
         "data": {
          "bar": [
           {
            "error_x": {
             "color": "#2a3f5f"
            },
            "error_y": {
             "color": "#2a3f5f"
            },
            "marker": {
             "line": {
              "color": "white",
              "width": 0.5
             },
             "pattern": {
              "fillmode": "overlay",
              "size": 10,
              "solidity": 0.2
             }
            },
            "type": "bar"
           }
          ],
          "barpolar": [
           {
            "marker": {
             "line": {
              "color": "white",
              "width": 0.5
             },
             "pattern": {
              "fillmode": "overlay",
              "size": 10,
              "solidity": 0.2
             }
            },
            "type": "barpolar"
           }
          ],
          "carpet": [
           {
            "aaxis": {
             "endlinecolor": "#2a3f5f",
             "gridcolor": "#C8D4E3",
             "linecolor": "#C8D4E3",
             "minorgridcolor": "#C8D4E3",
             "startlinecolor": "#2a3f5f"
            },
            "baxis": {
             "endlinecolor": "#2a3f5f",
             "gridcolor": "#C8D4E3",
             "linecolor": "#C8D4E3",
             "minorgridcolor": "#C8D4E3",
             "startlinecolor": "#2a3f5f"
            },
            "type": "carpet"
           }
          ],
          "choropleth": [
           {
            "colorbar": {
             "outlinewidth": 0,
             "ticks": ""
            },
            "type": "choropleth"
           }
          ],
          "contour": [
           {
            "colorbar": {
             "outlinewidth": 0,
             "ticks": ""
            },
            "colorscale": [
             [
              0,
              "#0d0887"
             ],
             [
              0.1111111111111111,
              "#46039f"
             ],
             [
              0.2222222222222222,
              "#7201a8"
             ],
             [
              0.3333333333333333,
              "#9c179e"
             ],
             [
              0.4444444444444444,
              "#bd3786"
             ],
             [
              0.5555555555555556,
              "#d8576b"
             ],
             [
              0.6666666666666666,
              "#ed7953"
             ],
             [
              0.7777777777777778,
              "#fb9f3a"
             ],
             [
              0.8888888888888888,
              "#fdca26"
             ],
             [
              1,
              "#f0f921"
             ]
            ],
            "type": "contour"
           }
          ],
          "contourcarpet": [
           {
            "colorbar": {
             "outlinewidth": 0,
             "ticks": ""
            },
            "type": "contourcarpet"
           }
          ],
          "heatmap": [
           {
            "colorbar": {
             "outlinewidth": 0,
             "ticks": ""
            },
            "colorscale": [
             [
              0,
              "#0d0887"
             ],
             [
              0.1111111111111111,
              "#46039f"
             ],
             [
              0.2222222222222222,
              "#7201a8"
             ],
             [
              0.3333333333333333,
              "#9c179e"
             ],
             [
              0.4444444444444444,
              "#bd3786"
             ],
             [
              0.5555555555555556,
              "#d8576b"
             ],
             [
              0.6666666666666666,
              "#ed7953"
             ],
             [
              0.7777777777777778,
              "#fb9f3a"
             ],
             [
              0.8888888888888888,
              "#fdca26"
             ],
             [
              1,
              "#f0f921"
             ]
            ],
            "type": "heatmap"
           }
          ],
          "histogram": [
           {
            "marker": {
             "pattern": {
              "fillmode": "overlay",
              "size": 10,
              "solidity": 0.2
             }
            },
            "type": "histogram"
           }
          ],
          "histogram2d": [
           {
            "colorbar": {
             "outlinewidth": 0,
             "ticks": ""
            },
            "colorscale": [
             [
              0,
              "#0d0887"
             ],
             [
              0.1111111111111111,
              "#46039f"
             ],
             [
              0.2222222222222222,
              "#7201a8"
             ],
             [
              0.3333333333333333,
              "#9c179e"
             ],
             [
              0.4444444444444444,
              "#bd3786"
             ],
             [
              0.5555555555555556,
              "#d8576b"
             ],
             [
              0.6666666666666666,
              "#ed7953"
             ],
             [
              0.7777777777777778,
              "#fb9f3a"
             ],
             [
              0.8888888888888888,
              "#fdca26"
             ],
             [
              1,
              "#f0f921"
             ]
            ],
            "type": "histogram2d"
           }
          ],
          "histogram2dcontour": [
           {
            "colorbar": {
             "outlinewidth": 0,
             "ticks": ""
            },
            "colorscale": [
             [
              0,
              "#0d0887"
             ],
             [
              0.1111111111111111,
              "#46039f"
             ],
             [
              0.2222222222222222,
              "#7201a8"
             ],
             [
              0.3333333333333333,
              "#9c179e"
             ],
             [
              0.4444444444444444,
              "#bd3786"
             ],
             [
              0.5555555555555556,
              "#d8576b"
             ],
             [
              0.6666666666666666,
              "#ed7953"
             ],
             [
              0.7777777777777778,
              "#fb9f3a"
             ],
             [
              0.8888888888888888,
              "#fdca26"
             ],
             [
              1,
              "#f0f921"
             ]
            ],
            "type": "histogram2dcontour"
           }
          ],
          "mesh3d": [
           {
            "colorbar": {
             "outlinewidth": 0,
             "ticks": ""
            },
            "type": "mesh3d"
           }
          ],
          "parcoords": [
           {
            "line": {
             "colorbar": {
              "outlinewidth": 0,
              "ticks": ""
             }
            },
            "type": "parcoords"
           }
          ],
          "pie": [
           {
            "automargin": true,
            "type": "pie"
           }
          ],
          "scatter": [
           {
            "fillpattern": {
             "fillmode": "overlay",
             "size": 10,
             "solidity": 0.2
            },
            "type": "scatter"
           }
          ],
          "scatter3d": [
           {
            "line": {
             "colorbar": {
              "outlinewidth": 0,
              "ticks": ""
             }
            },
            "marker": {
             "colorbar": {
              "outlinewidth": 0,
              "ticks": ""
             }
            },
            "type": "scatter3d"
           }
          ],
          "scattercarpet": [
           {
            "marker": {
             "colorbar": {
              "outlinewidth": 0,
              "ticks": ""
             }
            },
            "type": "scattercarpet"
           }
          ],
          "scattergeo": [
           {
            "marker": {
             "colorbar": {
              "outlinewidth": 0,
              "ticks": ""
             }
            },
            "type": "scattergeo"
           }
          ],
          "scattergl": [
           {
            "marker": {
             "colorbar": {
              "outlinewidth": 0,
              "ticks": ""
             }
            },
            "type": "scattergl"
           }
          ],
          "scattermap": [
           {
            "marker": {
             "colorbar": {
              "outlinewidth": 0,
              "ticks": ""
             }
            },
            "type": "scattermap"
           }
          ],
          "scattermapbox": [
           {
            "marker": {
             "colorbar": {
              "outlinewidth": 0,
              "ticks": ""
             }
            },
            "type": "scattermapbox"
           }
          ],
          "scatterpolar": [
           {
            "marker": {
             "colorbar": {
              "outlinewidth": 0,
              "ticks": ""
             }
            },
            "type": "scatterpolar"
           }
          ],
          "scatterpolargl": [
           {
            "marker": {
             "colorbar": {
              "outlinewidth": 0,
              "ticks": ""
             }
            },
            "type": "scatterpolargl"
           }
          ],
          "scatterternary": [
           {
            "marker": {
             "colorbar": {
              "outlinewidth": 0,
              "ticks": ""
             }
            },
            "type": "scatterternary"
           }
          ],
          "surface": [
           {
            "colorbar": {
             "outlinewidth": 0,
             "ticks": ""
            },
            "colorscale": [
             [
              0,
              "#0d0887"
             ],
             [
              0.1111111111111111,
              "#46039f"
             ],
             [
              0.2222222222222222,
              "#7201a8"
             ],
             [
              0.3333333333333333,
              "#9c179e"
             ],
             [
              0.4444444444444444,
              "#bd3786"
             ],
             [
              0.5555555555555556,
              "#d8576b"
             ],
             [
              0.6666666666666666,
              "#ed7953"
             ],
             [
              0.7777777777777778,
              "#fb9f3a"
             ],
             [
              0.8888888888888888,
              "#fdca26"
             ],
             [
              1,
              "#f0f921"
             ]
            ],
            "type": "surface"
           }
          ],
          "table": [
           {
            "cells": {
             "fill": {
              "color": "#EBF0F8"
             },
             "line": {
              "color": "white"
             }
            },
            "header": {
             "fill": {
              "color": "#C8D4E3"
             },
             "line": {
              "color": "white"
             }
            },
            "type": "table"
           }
          ]
         },
         "layout": {
          "annotationdefaults": {
           "arrowcolor": "#2a3f5f",
           "arrowhead": 0,
           "arrowwidth": 1
          },
          "autotypenumbers": "strict",
          "coloraxis": {
           "colorbar": {
            "outlinewidth": 0,
            "ticks": ""
           }
          },
          "colorscale": {
           "diverging": [
            [
             0,
             "#8e0152"
            ],
            [
             0.1,
             "#c51b7d"
            ],
            [
             0.2,
             "#de77ae"
            ],
            [
             0.3,
             "#f1b6da"
            ],
            [
             0.4,
             "#fde0ef"
            ],
            [
             0.5,
             "#f7f7f7"
            ],
            [
             0.6,
             "#e6f5d0"
            ],
            [
             0.7,
             "#b8e186"
            ],
            [
             0.8,
             "#7fbc41"
            ],
            [
             0.9,
             "#4d9221"
            ],
            [
             1,
             "#276419"
            ]
           ],
           "sequential": [
            [
             0,
             "#0d0887"
            ],
            [
             0.1111111111111111,
             "#46039f"
            ],
            [
             0.2222222222222222,
             "#7201a8"
            ],
            [
             0.3333333333333333,
             "#9c179e"
            ],
            [
             0.4444444444444444,
             "#bd3786"
            ],
            [
             0.5555555555555556,
             "#d8576b"
            ],
            [
             0.6666666666666666,
             "#ed7953"
            ],
            [
             0.7777777777777778,
             "#fb9f3a"
            ],
            [
             0.8888888888888888,
             "#fdca26"
            ],
            [
             1,
             "#f0f921"
            ]
           ],
           "sequentialminus": [
            [
             0,
             "#0d0887"
            ],
            [
             0.1111111111111111,
             "#46039f"
            ],
            [
             0.2222222222222222,
             "#7201a8"
            ],
            [
             0.3333333333333333,
             "#9c179e"
            ],
            [
             0.4444444444444444,
             "#bd3786"
            ],
            [
             0.5555555555555556,
             "#d8576b"
            ],
            [
             0.6666666666666666,
             "#ed7953"
            ],
            [
             0.7777777777777778,
             "#fb9f3a"
            ],
            [
             0.8888888888888888,
             "#fdca26"
            ],
            [
             1,
             "#f0f921"
            ]
           ]
          },
          "colorway": [
           "#636efa",
           "#EF553B",
           "#00cc96",
           "#ab63fa",
           "#FFA15A",
           "#19d3f3",
           "#FF6692",
           "#B6E880",
           "#FF97FF",
           "#FECB52"
          ],
          "font": {
           "color": "#2a3f5f"
          },
          "geo": {
           "bgcolor": "white",
           "lakecolor": "white",
           "landcolor": "white",
           "showlakes": true,
           "showland": true,
           "subunitcolor": "#C8D4E3"
          },
          "hoverlabel": {
           "align": "left"
          },
          "hovermode": "closest",
          "mapbox": {
           "style": "light"
          },
          "paper_bgcolor": "white",
          "plot_bgcolor": "white",
          "polar": {
           "angularaxis": {
            "gridcolor": "#EBF0F8",
            "linecolor": "#EBF0F8",
            "ticks": ""
           },
           "bgcolor": "white",
           "radialaxis": {
            "gridcolor": "#EBF0F8",
            "linecolor": "#EBF0F8",
            "ticks": ""
           }
          },
          "scene": {
           "xaxis": {
            "backgroundcolor": "white",
            "gridcolor": "#DFE8F3",
            "gridwidth": 2,
            "linecolor": "#EBF0F8",
            "showbackground": true,
            "ticks": "",
            "zerolinecolor": "#EBF0F8"
           },
           "yaxis": {
            "backgroundcolor": "white",
            "gridcolor": "#DFE8F3",
            "gridwidth": 2,
            "linecolor": "#EBF0F8",
            "showbackground": true,
            "ticks": "",
            "zerolinecolor": "#EBF0F8"
           },
           "zaxis": {
            "backgroundcolor": "white",
            "gridcolor": "#DFE8F3",
            "gridwidth": 2,
            "linecolor": "#EBF0F8",
            "showbackground": true,
            "ticks": "",
            "zerolinecolor": "#EBF0F8"
           }
          },
          "shapedefaults": {
           "line": {
            "color": "#2a3f5f"
           }
          },
          "ternary": {
           "aaxis": {
            "gridcolor": "#DFE8F3",
            "linecolor": "#A2B1C6",
            "ticks": ""
           },
           "baxis": {
            "gridcolor": "#DFE8F3",
            "linecolor": "#A2B1C6",
            "ticks": ""
           },
           "bgcolor": "white",
           "caxis": {
            "gridcolor": "#DFE8F3",
            "linecolor": "#A2B1C6",
            "ticks": ""
           }
          },
          "title": {
           "x": 0.05
          },
          "xaxis": {
           "automargin": true,
           "gridcolor": "#EBF0F8",
           "linecolor": "#EBF0F8",
           "ticks": "",
           "title": {
            "standoff": 15
           },
           "zerolinecolor": "#EBF0F8",
           "zerolinewidth": 2
          },
          "yaxis": {
           "automargin": true,
           "gridcolor": "#EBF0F8",
           "linecolor": "#EBF0F8",
           "ticks": "",
           "title": {
            "standoff": 15
           },
           "zerolinecolor": "#EBF0F8",
           "zerolinewidth": 2
          }
         }
        },
        "width": 1800,
        "xaxis": {
         "anchor": "y",
         "domain": [
          0,
          0.51
         ],
         "title": {
          "text": "Normalized Trials"
         }
        },
        "xaxis2": {
         "anchor": "y2",
         "domain": [
          0.66,
          1
         ],
         "title": {
          "text": "AUC"
         }
        },
        "yaxis": {
         "anchor": "x",
         "domain": [
          0,
          1
         ],
         "title": {
          "text": "Normalized Inc-Performance"
         }
        },
        "yaxis2": {
         "anchor": "x2",
         "domain": [
          0,
          1
         ],
         "title": {
          "text": "Optimizer"
         }
        }
       }
      }
     },
     "metadata": {},
     "output_type": "display_data"
    }
   ],
   "source": [
    "# plot best fanova vs best hypershap vs ParEGO\n",
    "df_smac = df[df['optimizer_id']=='SMAC3-MO-RF']\n",
    "best_final = merge[merge['final_perf_mean'] == merge['final_perf_mean'].min()]['optimizer_id'].values[0]\n",
    "fanova_final = df[df['optimizer_id']==best_final]\n",
    "# fanova_final['optimizer_id'] = 'fANOVA-ParEGO-final'\n",
    "best_auc = merge[merge['auc_mean'] == merge['auc_mean'].min()]['optimizer_id'].values[0]\n",
    "fanova_auc = df[df['optimizer_id']==best_auc]\n",
    "# fanova_auc['optimizer_id'] = 'fANOVA-ParEGO-auc'\n",
    "# hypershap_final = perf_all[perf_all['optimizer_id']=='hypershap_adjust_cs_random_adjust_prev_cfgs_set_to_random_thresh_0.75']\n",
    "# hypershap_final['optimizer_id'] = 'HyperSHAP-ParEGO-final'\n",
    "# hypershap_auc = perf_all[perf_all['optimizer_id']=='hypershap_adjust_cs_default_constant_adjust_prev_cfgs_set_to_incumbent_dynamic_decay_down']\n",
    "# hypershap_auc['optimizer_id'] = 'HyperSHAP-ParEGO'\n",
    "df_plot = pd.concat([df_smac, fanova_auc, fanova_final], ignore_index=True)\n",
    "df_plot['optimizer_id'] = df_plot['optimizer_id'].replace({'fanova_adjust_cs_random_cs_proba_hpi_adjust_prev_cfgs_true_no_retrain_set_to_default_thresh_075':'cs_rnd_proba_hpi_pc_no_retrain_def_075'})\n",
    "df_plot['optimizer_id'] = df_plot['optimizer_id'].replace({'fanova_adjust_cs_rnd_inc_cs_proba_hpi_adjust_prev_cfgs_true_no_retrain_set_to_default_thresh_0-down-half':'repl'})\n",
    "plot_one_thing('optimizer_id', df_plot=df_plot)"
   ]
  },
  {
   "cell_type": "code",
   "execution_count": 58,
   "id": "47a2baf8",
   "metadata": {},
   "outputs": [
    {
     "name": "stderr",
     "output_type": "stream",
     "text": [
      "/home/daphne/Code/hpi_parego/CARP-S/carps/analysis/run_autorank.py:322: FutureWarning:\n",
      "\n",
      "Series.__getitem__ treating keys as positions is deprecated. In a future version, integer keys will always be treated as labels (consistent with DataFrame behavior). To access a value by position, use `ser.iloc[pos]`\n",
      "\n",
      "/home/daphne/Code/hpi_parego/CARP-S/carps/analysis/run_autorank.py:415: UserWarning:\n",
      "\n",
      "Tight layout not applied. The left and right margins cannot be made large enough to accommodate all Axes decorations.\n",
      "\n",
      "/home/daphne/Code/hpi_parego/CARP-S/carps/analysis/run_autorank.py:421: UserWarning:\n",
      "\n",
      "FigureCanvasAgg is non-interactive, and thus cannot be shown\n",
      "\n"
     ]
    },
    {
     "data": {
      "text/html": [
       "<pre style=\"white-space:pre;overflow-x:auto;line-height:normal;font-family:Menlo,'DejaVu Sans Mono',consolas,'Courier New',monospace\"><span style=\"color: #7fbfbf; text-decoration-color: #7fbfbf\">[16:48:07] </span><span style=\"color: #000080; text-decoration-color: #000080\">INFO    </span> Create dataframe for neat plotting by aligning x-axis <span style=\"color: #800080; text-decoration-color: #800080\">/</span> interpolating        <a href=\"file:///home/daphne/Code/hpi_parego/CARP-S/carps/analysis/gather_data.py\" target=\"_blank\"><span style=\"color: #7f7f7f; text-decoration-color: #7f7f7f\">gather_data.py</span></a><span style=\"color: #7f7f7f; text-decoration-color: #7f7f7f\">:</span><a href=\"file:///home/daphne/Code/hpi_parego/CARP-S/carps/analysis/gather_data.py#735\" target=\"_blank\"><span style=\"color: #7f7f7f; text-decoration-color: #7f7f7f\">735</span></a>\n",
       "<span style=\"color: #7fbfbf; text-decoration-color: #7fbfbf\">           </span>         budget.                                                                      <span style=\"color: #7f7f7f; text-decoration-color: #7f7f7f\">                  </span>\n",
       "</pre>\n"
      ],
      "text/plain": [
       "\u001b[2;36m[16:48:07]\u001b[0m\u001b[2;36m \u001b[0m\u001b[34mINFO    \u001b[0m Create dataframe for neat plotting by aligning x-axis \u001b[35m/\u001b[0m interpolating        \u001b]8;id=777529;file:///home/daphne/Code/hpi_parego/CARP-S/carps/analysis/gather_data.py\u001b\\\u001b[2mgather_data.py\u001b[0m\u001b]8;;\u001b\\\u001b[2m:\u001b[0m\u001b]8;id=668997;file:///home/daphne/Code/hpi_parego/CARP-S/carps/analysis/gather_data.py#735\u001b\\\u001b[2m735\u001b[0m\u001b]8;;\u001b\\\n",
       "\u001b[2;36m           \u001b[0m         budget.                                                                      \u001b[2m                  \u001b[0m\n"
      ]
     },
     "metadata": {},
     "output_type": "display_data"
    },
    {
     "name": "stderr",
     "output_type": "stream",
     "text": [
      "/home/daphne/Code/hpi_parego/CARP-S/carps/analysis/generate_report.py:108: UserWarning:\n",
      "\n",
      "Result is not significant and results of the plot may be misleading!\n",
      "\n",
      "/home/daphne/Code/hpi_parego/CARP-S/carps/analysis/generate_report.py:108: UserWarning:\n",
      "\n",
      "Result is not significant and results of the plot may be misleading!\n",
      "\n",
      "/home/daphne/Code/hpi_parego/CARP-S/carps/analysis/generate_report.py:108: UserWarning:\n",
      "\n",
      "Result is not significant and results of the plot may be misleading!\n",
      "\n",
      "/home/daphne/Code/hpi_parego/CARP-S/carps/analysis/generate_report.py:108: UserWarning:\n",
      "\n",
      "Result is not significant and results of the plot may be misleading!\n",
      "\n",
      "/home/daphne/Code/hpi_parego/CARP-S/carps/analysis/generate_report.py:108: UserWarning:\n",
      "\n",
      "Result is not significant and results of the plot may be misleading!\n",
      "\n",
      "/home/daphne/Code/hpi_parego/CARP-S/carps/analysis/generate_report.py:108: UserWarning:\n",
      "\n",
      "Result is not significant and results of the plot may be misleading!\n",
      "\n",
      "/home/daphne/Code/hpi_parego/CARP-S/carps/analysis/generate_report.py:108: UserWarning:\n",
      "\n",
      "Result is not significant and results of the plot may be misleading!\n",
      "\n",
      "/home/daphne/Code/hpi_parego/CARP-S/carps/analysis/generate_report.py:108: UserWarning:\n",
      "\n",
      "Result is not significant and results of the plot may be misleading!\n",
      "\n",
      "/home/daphne/Code/hpi_parego/CARP-S/carps/analysis/generate_report.py:108: UserWarning:\n",
      "\n",
      "Result is not significant and results of the plot may be misleading!\n",
      "\n",
      "/home/daphne/Code/hpi_parego/CARP-S/carps/analysis/generate_report.py:108: UserWarning:\n",
      "\n",
      "Result is not significant and results of the plot may be misleading!\n",
      "\n"
     ]
    },
    {
     "data": {
      "text/plain": [
       "[{'task_type': 'multi-objective',\n",
       "  'set': '0',\n",
       "  'task_id': None,\n",
       "  'filename': 'fig_resuts_3/rank_multi-objective_0',\n",
       "  'plot_type': 'rank_over_time',\n",
       "  'plot_type_pretty': 'Rank over Time',\n",
       "  'explanation': 'The rank of each optimizer over time compares which optimizer performs better, the lower the rank the better. For each optimizer and task, the performance is averaged over seeds to obtain an estimate of the performance. The rank is then calculated per step and task with the same approach as for the critical difference diagram.'}]"
      ]
     },
     "execution_count": 58,
     "metadata": {},
     "output_type": "execute_result"
    }
   ],
   "source": [
    "top5 = merge[merge['auc_mean'].isin(merge['auc_mean'].sort_values().head(3).values)]['optimizer_id'].values\n",
    "top5 = pd.concat([df_smac, df[df['optimizer_id'].isin(top5)]])\n",
    "plot_performance_over_time(top5,  y='trial_value__cost_inc_norm', figure_filename=f'{figure_dir}/perf_over_time')\n",
    "plot_critical_difference(top5, output_dir=figure_dir, replot=True)\n",
    "plot_performance_per_task(top5, output_dir=figure_dir, replot=True)\n",
    "plot_finalperfbarplot(top5, output_dir=figure_dir, replot=True)\n",
    "plot_ranks_over_time(top5, output_dir=figure_dir, replot=True)\n"
   ]
  },
  {
   "cell_type": "markdown",
   "id": "a49bf689",
   "metadata": {},
   "source": [
    "# Random"
   ]
  },
  {
   "cell_type": "code",
   "execution_count": 150,
   "id": "23a9d028",
   "metadata": {},
   "outputs": [
    {
     "ename": "NameError",
     "evalue": "name 'perf_all' is not defined",
     "output_type": "error",
     "traceback": [
      "\u001b[0;31m---------------------------------------------------------------------------\u001b[0m",
      "\u001b[0;31mNameError\u001b[0m                                 Traceback (most recent call last)",
      "Cell \u001b[0;32mIn[150], line 1\u001b[0m\n\u001b[0;32m----> 1\u001b[0m fanova \u001b[38;5;241m=\u001b[39m \u001b[43mperf_all\u001b[49m[perf_all[\u001b[38;5;124m'\u001b[39m\u001b[38;5;124moptimizer_id\u001b[39m\u001b[38;5;124m'\u001b[39m]\u001b[38;5;241m==\u001b[39m\u001b[38;5;124m'\u001b[39m\u001b[38;5;124mfanova_adjust_cs_default_constant_adjust_prev_cfgs_set_to_incumbent_thresh_0.75\u001b[39m\u001b[38;5;124m'\u001b[39m]\n\u001b[1;32m      2\u001b[0m fanova_rnd \u001b[38;5;241m=\u001b[39m rnd_all[rnd_all[\u001b[38;5;124m'\u001b[39m\u001b[38;5;124moptimizer_id\u001b[39m\u001b[38;5;124m'\u001b[39m]\u001b[38;5;241m==\u001b[39m\u001b[38;5;124m'\u001b[39m\u001b[38;5;124mrandom_adjust_cs_default_constant_adjust_prev_cfgs_set_to_incumbent_thresh_0.75\u001b[39m\u001b[38;5;124m'\u001b[39m]\n\u001b[1;32m      3\u001b[0m fanova \u001b[38;5;241m=\u001b[39m pd\u001b[38;5;241m.\u001b[39mmerge(fanova, fanova_rnd, on\u001b[38;5;241m=\u001b[39m[\u001b[38;5;124m'\u001b[39m\u001b[38;5;124mtask_id\u001b[39m\u001b[38;5;124m'\u001b[39m, \u001b[38;5;124m'\u001b[39m\u001b[38;5;124mseed\u001b[39m\u001b[38;5;124m'\u001b[39m, \u001b[38;5;124m'\u001b[39m\u001b[38;5;124mn_trials_norm\u001b[39m\u001b[38;5;124m'\u001b[39m], suffixes\u001b[38;5;241m=\u001b[39m(\u001b[38;5;124m'\u001b[39m\u001b[38;5;124m_final\u001b[39m\u001b[38;5;124m'\u001b[39m, \u001b[38;5;124m'\u001b[39m\u001b[38;5;124m_rnd\u001b[39m\u001b[38;5;124m'\u001b[39m))\n",
      "\u001b[0;31mNameError\u001b[0m: name 'perf_all' is not defined"
     ]
    }
   ],
   "source": [
    "fanova = perf_all[perf_all['optimizer_id']=='fanova_adjust_cs_default_constant_adjust_prev_cfgs_set_to_incumbent_thresh_0.75']\n",
    "fanova_rnd = rnd_all[rnd_all['optimizer_id']=='random_adjust_cs_default_constant_adjust_prev_cfgs_set_to_incumbent_thresh_0.75']\n",
    "fanova = pd.merge(fanova, fanova_rnd, on=['task_id', 'seed', 'n_trials_norm'], suffixes=('_final', '_rnd'))\n",
    "fanova['trial_value__cost_inc_norm_diff'] = fanova['trial_value__cost_inc_norm_rnd'] - fanova['trial_value__cost_inc_norm_final']\n",
    "fanova['optimizer_id'] = 'fANOVA-ParEGO'\n",
    "\n",
    "\n",
    "hypershap = perf_all[perf_all['optimizer_id']=='hypershap_adjust_cs_default_constant_adjust_prev_cfgs_set_to_incumbent_dynamic_decay_down']\n",
    "hypershap_rnd = rnd_all[rnd_all['optimizer_id']=='random_adjust_cs_default_constant_adjust_prev_cfgs_set_to_incumbent_dynamic_decay_down']\n",
    "hypershap = pd.merge(hypershap, hypershap_rnd, on=['task_id', 'seed', 'n_trials_norm'], suffixes=('_final', '_rnd'))\n",
    "hypershap['trial_value__cost_inc_norm_diff'] = hypershap['trial_value__cost_inc_norm_rnd'] - hypershap['trial_value__cost_inc_norm_final']\n",
    "hypershap['optimizer_id'] = 'HyperSHAP-ParEGO'\n",
    "\n",
    "df_plot = pd.concat([hypershap, fanova], ignore_index=True)\n",
    "\n",
    "# Average over tasks\n",
    "avg_task = df_plot.groupby([\"optimizer_id\", \"seed\", \"n_trials_norm\"]).agg(\n",
    "    mean_perf=(\"trial_value__cost_inc_norm_diff\", \"mean\")\n",
    ").reset_index()\n",
    "\n",
    "# Average over seeds\n",
    "avg_seed = avg_task.groupby([\"optimizer_id\", \"n_trials_norm\"]).agg(\n",
    "    mean=(\"mean_perf\", \"mean\"),\n",
    "    sem=(\"mean_perf\", \"sem\")\n",
    ").reset_index()\n",
    "\n",
    "auc_per_seed = (\n",
    "    df_plot.groupby([\"optimizer_id\", \"seed\"])\n",
    "    .apply(lambda group: trapz(group.sort_values(\"n_trials_norm\")[\"trial_value__cost_inc_norm_diff\"],\n",
    "                                group.sort_values(\"n_trials_norm\")[\"n_trials_norm\"]))\n",
    "    .reset_index(name=\"auc\")\n",
    ")\n",
    "\n",
    "colors = px.colors.qualitative.Set1\n",
    "fig = go.Figure()\n",
    "for i, optimizer in enumerate(avg_seed[\"optimizer_id\"].unique()):\n",
    "    df_opt = avg_seed[avg_seed[\"optimizer_id\"] == optimizer]\n",
    "    line_color = colors[i % len(colors)]\n",
    "\n",
    "    # Mean line\n",
    "    fig.add_trace(go.Scatter(\n",
    "        x=df_opt[\"n_trials_norm\"],\n",
    "        y=df_opt[\"mean\"],\n",
    "        mode=\"lines\",\n",
    "        name=optimizer,\n",
    "        line=dict(width=2, color=line_color),\n",
    "    ))\n",
    "\n",
    "    # Shaded error (sem)\n",
    "    fig.add_trace(go.Scatter(\n",
    "        x=pd.concat([df_opt[\"n_trials_norm\"], df_opt[\"n_trials_norm\"][::-1]]),\n",
    "        y=pd.concat([\n",
    "            df_opt[\"mean\"] - df_opt[\"sem\"],\n",
    "            (df_opt[\"mean\"] + df_opt[\"sem\"])[::-1]\n",
    "        ]),\n",
    "        fill='toself',\n",
    "        fillcolor=line_color.replace(')', ',0.1)').replace('rgb', 'rgba'),\n",
    "        line=dict(color='rgba(255,255,255,0)'),\n",
    "        hoverinfo=\"skip\",\n",
    "        showlegend=False\n",
    "    ))\n",
    "\n",
    "\n",
    "fig.update_layout(\n",
    "    height=400,\n",
    "    width=1100,\n",
    "    template=\"plotly_white\",\n",
    "    font=dict(size=16),\n",
    "    legend=dict(title=\"Optimizers\", font=dict(size=16)),\n",
    "    margin=dict(t=60, l=50, r=50, b=50)\n",
    ")\n",
    "\n",
    "fig.update_xaxes(title_text=\"Normalized Trials\")\n",
    "fig.update_yaxes(title_text=\"Difference in Performance HPI and Random\")\n",
    "fig.show()"
   ]
  },
  {
   "cell_type": "code",
   "execution_count": null,
   "id": "aae5be8d",
   "metadata": {},
   "outputs": [
    {
     "data": {
      "application/vnd.microsoft.datawrangler.viewer.v0+json": {
       "columns": [
        {
         "name": "index",
         "rawType": "int64",
         "type": "integer"
        },
        {
         "name": "task_id",
         "rawType": "object",
         "type": "string"
        },
        {
         "name": "seed",
         "rawType": "int64",
         "type": "integer"
        },
        {
         "name": "n_trials_norm",
         "rawType": "float64",
         "type": "float"
        },
        {
         "name": "diff_trial_value__cost_inc_norm",
         "rawType": "float64",
         "type": "float"
        }
       ],
       "conversionMethod": "pd.DataFrame",
       "ref": "d179f54f-deb4-4261-9b1d-6f585cb44f99",
       "rows": [
        [
         "0",
         "multi-objective/50/dev/yahpo/mo/iaml_glmnet/1489/None",
         "0",
         "0.0",
         "0.0"
        ],
        [
         "1",
         "multi-objective/50/dev/yahpo/mo/iaml_glmnet/1489/None",
         "0",
         "0.02",
         "0.0"
        ],
        [
         "2",
         "multi-objective/50/dev/yahpo/mo/iaml_glmnet/1489/None",
         "0",
         "0.04",
         "0.0"
        ],
        [
         "3",
         "multi-objective/50/dev/yahpo/mo/iaml_glmnet/1489/None",
         "0",
         "0.06",
         "0.0"
        ],
        [
         "4",
         "multi-objective/50/dev/yahpo/mo/iaml_glmnet/1489/None",
         "0",
         "0.08",
         "0.0"
        ],
        [
         "5",
         "multi-objective/50/dev/yahpo/mo/iaml_glmnet/1489/None",
         "0",
         "0.1",
         "0.0"
        ],
        [
         "6",
         "multi-objective/50/dev/yahpo/mo/iaml_glmnet/1489/None",
         "0",
         "0.12",
         "0.000309676074884949"
        ],
        [
         "7",
         "multi-objective/50/dev/yahpo/mo/iaml_glmnet/1489/None",
         "0",
         "0.14",
         "0.0009290282246548478"
        ],
        [
         "8",
         "multi-objective/50/dev/yahpo/mo/iaml_glmnet/1489/None",
         "0",
         "0.16",
         "0.0010941887979268204"
        ],
        [
         "9",
         "multi-objective/50/dev/yahpo/mo/iaml_glmnet/1489/None",
         "0",
         "0.18",
         "0.001259349371198793"
        ],
        [
         "10",
         "multi-objective/50/dev/yahpo/mo/iaml_glmnet/1489/None",
         "0",
         "0.2",
         "0.0014245099444707664"
        ],
        [
         "11",
         "multi-objective/50/dev/yahpo/mo/iaml_glmnet/1489/None",
         "0",
         "0.22",
         "0.0015896705177427391"
        ],
        [
         "12",
         "multi-objective/50/dev/yahpo/mo/iaml_glmnet/1489/None",
         "0",
         "0.24",
         "0.0012351427416138923"
        ],
        [
         "13",
         "multi-objective/50/dev/yahpo/mo/iaml_glmnet/1489/None",
         "0",
         "0.26",
         "0.0008806149654850453"
        ],
        [
         "14",
         "multi-objective/50/dev/yahpo/mo/iaml_glmnet/1489/None",
         "0",
         "0.28",
         "0.000526087189356198"
        ],
        [
         "15",
         "multi-objective/50/dev/yahpo/mo/iaml_glmnet/1489/None",
         "0",
         "0.3",
         "0.0003595015656170336"
        ],
        [
         "16",
         "multi-objective/50/dev/yahpo/mo/iaml_glmnet/1489/None",
         "0",
         "0.32",
         "0.00038085809426755045"
        ],
        [
         "17",
         "multi-objective/50/dev/yahpo/mo/iaml_glmnet/1489/None",
         "0",
         "0.34",
         "0.0003715370412108954"
        ],
        [
         "18",
         "multi-objective/50/dev/yahpo/mo/iaml_glmnet/1489/None",
         "0",
         "0.36",
         "0.00033153840644706875"
        ],
        [
         "19",
         "multi-objective/50/dev/yahpo/mo/iaml_glmnet/1489/None",
         "0",
         "0.38",
         "0.0002915397716832419"
        ],
        [
         "20",
         "multi-objective/50/dev/yahpo/mo/iaml_glmnet/1489/None",
         "0",
         "0.4",
         "0.0002515411369194148"
        ],
        [
         "21",
         "multi-objective/50/dev/yahpo/mo/iaml_glmnet/1489/None",
         "0",
         "0.42",
         "0.00021154250215558827"
        ],
        [
         "22",
         "multi-objective/50/dev/yahpo/mo/iaml_glmnet/1489/None",
         "0",
         "0.44",
         "0.00020845761326649173"
        ],
        [
         "23",
         "multi-objective/50/dev/yahpo/mo/iaml_glmnet/1489/None",
         "0",
         "0.46",
         "0.0002175682938503513"
        ],
        [
         "24",
         "multi-objective/50/dev/yahpo/mo/iaml_glmnet/1489/None",
         "0",
         "0.48",
         "0.00022667897443421074"
        ],
        [
         "25",
         "multi-objective/50/dev/yahpo/mo/iaml_glmnet/1489/None",
         "0",
         "0.5",
         "0.0002357896550180703"
        ],
        [
         "26",
         "multi-objective/50/dev/yahpo/mo/iaml_glmnet/1489/None",
         "0",
         "0.52",
         "0.00024490033560192986"
        ],
        [
         "27",
         "multi-objective/50/dev/yahpo/mo/iaml_glmnet/1489/None",
         "0",
         "0.54",
         "0.0002540110161857894"
        ],
        [
         "28",
         "multi-objective/50/dev/yahpo/mo/iaml_glmnet/1489/None",
         "0",
         "0.56",
         "0.000263121696769649"
        ],
        [
         "29",
         "multi-objective/50/dev/yahpo/mo/iaml_glmnet/1489/None",
         "0",
         "0.58",
         "0.00023463871158301355"
        ],
        [
         "30",
         "multi-objective/50/dev/yahpo/mo/iaml_glmnet/1489/None",
         "0",
         "0.6",
         "0.00018199807279726512"
        ],
        [
         "31",
         "multi-objective/50/dev/yahpo/mo/iaml_glmnet/1489/None",
         "0",
         "0.62",
         "0.0001293574340115169"
        ],
        [
         "32",
         "multi-objective/50/dev/yahpo/mo/iaml_glmnet/1489/None",
         "0",
         "0.64",
         "7.671679522576859e-05"
        ],
        [
         "33",
         "multi-objective/50/dev/yahpo/mo/iaml_glmnet/1489/None",
         "0",
         "0.66",
         "2.407615644002027e-05"
        ],
        [
         "34",
         "multi-objective/50/dev/yahpo/mo/iaml_glmnet/1489/None",
         "0",
         "0.68",
         "-6.174905340156967e-06"
        ],
        [
         "35",
         "multi-objective/50/dev/yahpo/mo/iaml_glmnet/1489/None",
         "0",
         "0.7000000000000001",
         "-1.4036390114763125e-05"
        ],
        [
         "36",
         "multi-objective/50/dev/yahpo/mo/iaml_glmnet/1489/None",
         "0",
         "0.72",
         "-2.349500685400489e-06"
        ],
        [
         "37",
         "multi-objective/50/dev/yahpo/mo/iaml_glmnet/1489/None",
         "0",
         "0.74",
         "2.8885762947930668e-05"
        ],
        [
         "38",
         "multi-objective/50/dev/yahpo/mo/iaml_glmnet/1489/None",
         "0",
         "0.76",
         "6.012102658126188e-05"
        ],
        [
         "39",
         "multi-objective/50/dev/yahpo/mo/iaml_glmnet/1489/None",
         "0",
         "0.78",
         "9.135629021459309e-05"
        ],
        [
         "40",
         "multi-objective/50/dev/yahpo/mo/iaml_glmnet/1489/None",
         "0",
         "0.8",
         "8.550436430524935e-05"
        ],
        [
         "41",
         "multi-objective/50/dev/yahpo/mo/iaml_glmnet/1489/None",
         "0",
         "0.8200000000000001",
         "7.965243839590567e-05"
        ],
        [
         "42",
         "multi-objective/50/dev/yahpo/mo/iaml_glmnet/1489/None",
         "0",
         "0.84",
         "7.380051248656193e-05"
        ],
        [
         "43",
         "multi-objective/50/dev/yahpo/mo/iaml_glmnet/1489/None",
         "0",
         "0.86",
         "6.794858657721824e-05"
        ],
        [
         "44",
         "multi-objective/50/dev/yahpo/mo/iaml_glmnet/1489/None",
         "0",
         "0.88",
         "7.310815695819601e-05"
        ],
        [
         "45",
         "multi-objective/50/dev/yahpo/mo/iaml_glmnet/1489/None",
         "0",
         "0.9",
         "7.753137836502896e-05"
        ],
        [
         "46",
         "multi-objective/50/dev/yahpo/mo/iaml_glmnet/1489/None",
         "0",
         "0.92",
         "8.121825079771705e-05"
        ],
        [
         "47",
         "multi-objective/50/dev/yahpo/mo/iaml_glmnet/1489/None",
         "0",
         "0.9400000000000001",
         "8.490512323040513e-05"
        ],
        [
         "48",
         "multi-objective/50/dev/yahpo/mo/iaml_glmnet/1489/None",
         "0",
         "0.96",
         "8.859199566309321e-05"
        ],
        [
         "49",
         "multi-objective/50/dev/yahpo/mo/iaml_glmnet/1489/None",
         "0",
         "0.98",
         "9.22788680957813e-05"
        ]
       ],
       "shape": {
        "columns": 4,
        "rows": 6018
       }
      },
      "text/html": [
       "<div>\n",
       "<style scoped>\n",
       "    .dataframe tbody tr th:only-of-type {\n",
       "        vertical-align: middle;\n",
       "    }\n",
       "\n",
       "    .dataframe tbody tr th {\n",
       "        vertical-align: top;\n",
       "    }\n",
       "\n",
       "    .dataframe thead th {\n",
       "        text-align: right;\n",
       "    }\n",
       "</style>\n",
       "<table border=\"1\" class=\"dataframe\">\n",
       "  <thead>\n",
       "    <tr style=\"text-align: right;\">\n",
       "      <th></th>\n",
       "      <th>task_id</th>\n",
       "      <th>seed</th>\n",
       "      <th>n_trials_norm</th>\n",
       "      <th>diff_trial_value__cost_inc_norm</th>\n",
       "    </tr>\n",
       "  </thead>\n",
       "  <tbody>\n",
       "    <tr>\n",
       "      <th>0</th>\n",
       "      <td>multi-objective/50/dev/yahpo/mo/iaml_glmnet/14...</td>\n",
       "      <td>0</td>\n",
       "      <td>0.00</td>\n",
       "      <td>0.000000</td>\n",
       "    </tr>\n",
       "    <tr>\n",
       "      <th>1</th>\n",
       "      <td>multi-objective/50/dev/yahpo/mo/iaml_glmnet/14...</td>\n",
       "      <td>0</td>\n",
       "      <td>0.02</td>\n",
       "      <td>0.000000</td>\n",
       "    </tr>\n",
       "    <tr>\n",
       "      <th>2</th>\n",
       "      <td>multi-objective/50/dev/yahpo/mo/iaml_glmnet/14...</td>\n",
       "      <td>0</td>\n",
       "      <td>0.04</td>\n",
       "      <td>0.000000</td>\n",
       "    </tr>\n",
       "    <tr>\n",
       "      <th>3</th>\n",
       "      <td>multi-objective/50/dev/yahpo/mo/iaml_glmnet/14...</td>\n",
       "      <td>0</td>\n",
       "      <td>0.06</td>\n",
       "      <td>0.000000</td>\n",
       "    </tr>\n",
       "    <tr>\n",
       "      <th>4</th>\n",
       "      <td>multi-objective/50/dev/yahpo/mo/iaml_glmnet/14...</td>\n",
       "      <td>0</td>\n",
       "      <td>0.08</td>\n",
       "      <td>0.000000</td>\n",
       "    </tr>\n",
       "    <tr>\n",
       "      <th>...</th>\n",
       "      <td>...</td>\n",
       "      <td>...</td>\n",
       "      <td>...</td>\n",
       "      <td>...</td>\n",
       "    </tr>\n",
       "    <tr>\n",
       "      <th>6013</th>\n",
       "      <td>multi-objective/50/dev/hpobench/multiobjective...</td>\n",
       "      <td>4</td>\n",
       "      <td>0.92</td>\n",
       "      <td>-0.005848</td>\n",
       "    </tr>\n",
       "    <tr>\n",
       "      <th>6014</th>\n",
       "      <td>multi-objective/50/dev/hpobench/multiobjective...</td>\n",
       "      <td>4</td>\n",
       "      <td>0.94</td>\n",
       "      <td>-0.005809</td>\n",
       "    </tr>\n",
       "    <tr>\n",
       "      <th>6015</th>\n",
       "      <td>multi-objective/50/dev/hpobench/multiobjective...</td>\n",
       "      <td>4</td>\n",
       "      <td>0.96</td>\n",
       "      <td>-0.005769</td>\n",
       "    </tr>\n",
       "    <tr>\n",
       "      <th>6016</th>\n",
       "      <td>multi-objective/50/dev/hpobench/multiobjective...</td>\n",
       "      <td>4</td>\n",
       "      <td>0.98</td>\n",
       "      <td>-0.005730</td>\n",
       "    </tr>\n",
       "    <tr>\n",
       "      <th>6017</th>\n",
       "      <td>multi-objective/50/dev/hpobench/multiobjective...</td>\n",
       "      <td>4</td>\n",
       "      <td>1.00</td>\n",
       "      <td>-0.005691</td>\n",
       "    </tr>\n",
       "  </tbody>\n",
       "</table>\n",
       "<p>6018 rows × 4 columns</p>\n",
       "</div>"
      ],
      "text/plain": [
       "                                                task_id  seed  n_trials_norm  \\\n",
       "0     multi-objective/50/dev/yahpo/mo/iaml_glmnet/14...     0           0.00   \n",
       "1     multi-objective/50/dev/yahpo/mo/iaml_glmnet/14...     0           0.02   \n",
       "2     multi-objective/50/dev/yahpo/mo/iaml_glmnet/14...     0           0.04   \n",
       "3     multi-objective/50/dev/yahpo/mo/iaml_glmnet/14...     0           0.06   \n",
       "4     multi-objective/50/dev/yahpo/mo/iaml_glmnet/14...     0           0.08   \n",
       "...                                                 ...   ...            ...   \n",
       "6013  multi-objective/50/dev/hpobench/multiobjective...     4           0.92   \n",
       "6014  multi-objective/50/dev/hpobench/multiobjective...     4           0.94   \n",
       "6015  multi-objective/50/dev/hpobench/multiobjective...     4           0.96   \n",
       "6016  multi-objective/50/dev/hpobench/multiobjective...     4           0.98   \n",
       "6017  multi-objective/50/dev/hpobench/multiobjective...     4           1.00   \n",
       "\n",
       "      diff_trial_value__cost_inc_norm  \n",
       "0                            0.000000  \n",
       "1                            0.000000  \n",
       "2                            0.000000  \n",
       "3                            0.000000  \n",
       "4                            0.000000  \n",
       "...                               ...  \n",
       "6013                        -0.005848  \n",
       "6014                        -0.005809  \n",
       "6015                        -0.005769  \n",
       "6016                        -0.005730  \n",
       "6017                        -0.005691  \n",
       "\n",
       "[6018 rows x 4 columns]"
      ]
     },
     "execution_count": 178,
     "metadata": {},
     "output_type": "execute_result"
    }
   ],
   "source": [
    "\n"
   ]
  },
  {
   "cell_type": "code",
   "execution_count": null,
   "id": "530d0a36",
   "metadata": {},
   "outputs": [],
   "source": []
  }
 ],
 "metadata": {
  "kernelspec": {
   "display_name": "carps",
   "language": "python",
   "name": "python3"
  },
  "language_info": {
   "codemirror_mode": {
    "name": "ipython",
    "version": 3
   },
   "file_extension": ".py",
   "mimetype": "text/x-python",
   "name": "python",
   "nbconvert_exporter": "python",
   "pygments_lexer": "ipython3",
   "version": "3.10.16"
  }
 },
 "nbformat": 4,
 "nbformat_minor": 5
}
