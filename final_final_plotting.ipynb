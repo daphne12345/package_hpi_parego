{
 "cells": [
  {
   "cell_type": "code",
   "execution_count": 1,
   "id": "3bd8ee49",
   "metadata": {},
   "outputs": [],
   "source": [
    "import pandas as pd\n",
    "# from carps.analysis.gather_data import normalize_logs, get_interpolated_performance_df\n",
    "from numpy import trapz\n",
    "import importlib\n",
    "import matplotlib.pyplot as plt\n",
    "import seaborn as sns\n",
    "import numpy as np\n",
    "import pandas as pd\n",
    "import plotly.graph_objects as go\n",
    "from plotly.subplots import make_subplots\n",
    "import plotly.express as px \n",
    "import itertools\n",
    "import pandas as pd\n",
    "\n",
    "from carps.analysis.generate_report import *\n",
    "\n",
    "\n",
    "# importlib.reload(carps)\n",
    "# importlib.reload(carps.analysis)\n",
    "# importlib.reload(carps.analysis.performance_over_time)\n",
    "from carps.analysis.performance_over_time import plot_performance_over_time\n",
    "from carps.experimenter.database.process_logs import process_logs_from_database\n",
    "import os\n"
   ]
  },
  {
   "cell_type": "code",
   "execution_count": 3,
   "id": "91870d07",
   "metadata": {},
   "outputs": [],
   "source": [
    "all_experiments = []\n",
    "all_trajectories = []\n",
    "current_max_id = 0\n",
    "\n",
    "for subdir in os.listdir('../experimenter_loose/'):\n",
    "    experiment_config = pd.read_parquet(f\"../experimenter_loose/{subdir}/experiment_config.parquet\")\n",
    "    trials = pd.read_parquet(f\"../experimenter_loose/{subdir}/trials.parquet\")\n",
    "\n",
    "    experiment_config = experiment_config[~experiment_config['optimizer_id'].str.startswith(\"hypershap\")]\n",
    "    experiment_config = experiment_config[~experiment_config['optimizer_id'].str.startswith(\"random\")]\n",
    "    valid_ids = experiment_config['ID'].unique()\n",
    "    trials = trials[trials['experiment_id'].isin(valid_ids)]\n",
    "\n",
    "    id_mapping = {old_id: new_id for old_id, new_id in zip(\n",
    "        experiment_config['ID'], \n",
    "        range(current_max_id, current_max_id + len(experiment_config))\n",
    "    )}\n",
    "\n",
    "    experiment_config['ID'] = experiment_config['ID'].map(id_mapping)\n",
    "    trials['experiment_id'] = trials['experiment_id'].map(id_mapping)\n",
    "\n",
    "    all_experiments.append(experiment_config)\n",
    "    all_trajectories.append(trials)\n",
    "\n",
    "    current_max_id += len(experiment_config)\n",
    "\n",
    "# Concatenate all\n",
    "experiment_config_all = pd.concat(all_experiments, ignore_index=True)\n",
    "trials_all = pd.concat(all_trajectories, ignore_index=True)\n",
    "trials_all.to_parquet('../experimenter/results/trials.parquet')    \n",
    "experiment_config_all.to_parquet('../experimenter/results/experiment_config.parquet') \n"
   ]
  },
  {
   "cell_type": "code",
   "execution_count": 23,
   "id": "fa288e5e",
   "metadata": {},
   "outputs": [],
   "source": [
    "trials_all = pd.read_parquet('../experimenter/results/trials.parquet')    \n",
    "experiment_config_all = pd.read_parquet('../experimenter/results/experiment_config.parquet') \n"
   ]
  },
  {
   "cell_type": "code",
   "execution_count": 6,
   "id": "ed4c00bb",
   "metadata": {},
   "outputs": [],
   "source": [
    "exp_test = experiment_config_all[experiment_config_all['subset_id']=='test']\n",
    "trials_test = trials_all[trials_all['experiment_id'].isin(exp_test['ID'].unique())]\n",
    "trials_test.to_parquet('../experimenter/test/trials.parquet')    \n",
    "exp_test.to_parquet('../experimenter/test/experiment_config.parquet') "
   ]
  },
  {
   "cell_type": "code",
   "execution_count": 7,
   "id": "b7da9ec7",
   "metadata": {},
   "outputs": [],
   "source": [
    "exp_train = experiment_config_all[experiment_config_all['subset_id']=='dev']\n",
    "trials_train = trials_all[trials_all['experiment_id'].isin(exp_train['ID'].unique())]\n",
    "trials_train.to_parquet('../experimenter/train/trials.parquet')    \n",
    "exp_train.to_parquet('../experimenter/train/experiment_config.parquet') "
   ]
  },
  {
   "cell_type": "code",
   "execution_count": 25,
   "id": "a498a615",
   "metadata": {},
   "outputs": [],
   "source": [
    "exp_train = experiment_config_all[experiment_config_all['subset_id']=='dev']\n",
    "exp_train = exp_train[exp_train['optimizer_id'].isin(['SMAC3-MO-RF', 'fanova_adjust_cs_default_constant_adjust_prev_cfgs_set_to_random_thresh_0_lin_0', 'fanova_adjust_cs_incumbent_cs_proba_hpi_adjust_prev_cfgs_set_to_random_thresh_0_lin_0','fanova_adjust_cs_default_constant_adjust_prev_cfgs_set_to_incumbent_thresh_0_lin_0', 'fanova_adjust_cs_incumbent_cs_proba_hpi_thresh_0.5', 'fanova_adjust_cs_default_constant_adjust_prev_cfgs_set_to_incumbent_thresh_0.75'])]\n",
    "trials_train = trials_all[trials_all['experiment_id'].isin(exp_train['ID'].unique())]\n",
    "trials_train.to_parquet('../experimenter/mine/trials.parquet')    \n",
    "exp_train.to_parquet('../experimenter/mine/experiment_config.parquet') "
   ]
  },
  {
   "cell_type": "code",
   "execution_count": 26,
   "id": "fd6dbc5b",
   "metadata": {},
   "outputs": [
    {
     "data": {
      "text/html": [
       "<pre style=\"white-space:pre;overflow-x:auto;line-height:normal;font-family:Menlo,'DejaVu Sans Mono',consolas,'Courier New',monospace\"><span style=\"color: #7fbfbf; text-decoration-color: #7fbfbf\">[17:41:30] </span><span style=\"color: #000080; text-decoration-color: #000080\">INFO    </span> Start normalization<span style=\"color: #808000; text-decoration-color: #808000\">...</span>                                                       <a href=\"file:///home/daphne/Code/hpi_parego/CARP-S/carps/analysis/gather_data.py\" target=\"_blank\"><span style=\"color: #7f7f7f; text-decoration-color: #7f7f7f\">gather_data.py</span></a><span style=\"color: #7f7f7f; text-decoration-color: #7f7f7f\">:</span><a href=\"file:///home/daphne/Code/hpi_parego/CARP-S/carps/analysis/gather_data.py#625\" target=\"_blank\"><span style=\"color: #7f7f7f; text-decoration-color: #7f7f7f\">625</span></a>\n",
       "</pre>\n"
      ],
      "text/plain": [
       "\u001b[2;36m[17:41:30]\u001b[0m\u001b[2;36m \u001b[0m\u001b[34mINFO    \u001b[0m Start normalization\u001b[33m...\u001b[0m                                                       \u001b]8;id=149883;file:///home/daphne/Code/hpi_parego/CARP-S/carps/analysis/gather_data.py\u001b\\\u001b[2mgather_data.py\u001b[0m\u001b]8;;\u001b\\\u001b[2m:\u001b[0m\u001b]8;id=383353;file:///home/daphne/Code/hpi_parego/CARP-S/carps/analysis/gather_data.py#625\u001b\\\u001b[2m625\u001b[0m\u001b]8;;\u001b\\\n"
      ]
     },
     "metadata": {},
     "output_type": "display_data"
    },
    {
     "data": {
      "text/html": [
       "<pre style=\"white-space:pre;overflow-x:auto;line-height:normal;font-family:Menlo,'DejaVu Sans Mono',consolas,'Courier New',monospace\"><span style=\"color: #7fbfbf; text-decoration-color: #7fbfbf\">           </span><span style=\"color: #000080; text-decoration-color: #000080\">INFO    </span> Normalize n_trials<span style=\"color: #808000; text-decoration-color: #808000\">...</span>                                                        <a href=\"file:///home/daphne/Code/hpi_parego/CARP-S/carps/analysis/gather_data.py\" target=\"_blank\"><span style=\"color: #7f7f7f; text-decoration-color: #7f7f7f\">gather_data.py</span></a><span style=\"color: #7f7f7f; text-decoration-color: #7f7f7f\">:</span><a href=\"file:///home/daphne/Code/hpi_parego/CARP-S/carps/analysis/gather_data.py#626\" target=\"_blank\"><span style=\"color: #7f7f7f; text-decoration-color: #7f7f7f\">626</span></a>\n",
       "</pre>\n"
      ],
      "text/plain": [
       "\u001b[2;36m          \u001b[0m\u001b[2;36m \u001b[0m\u001b[34mINFO    \u001b[0m Normalize n_trials\u001b[33m...\u001b[0m                                                        \u001b]8;id=846549;file:///home/daphne/Code/hpi_parego/CARP-S/carps/analysis/gather_data.py\u001b\\\u001b[2mgather_data.py\u001b[0m\u001b]8;;\u001b\\\u001b[2m:\u001b[0m\u001b]8;id=949129;file:///home/daphne/Code/hpi_parego/CARP-S/carps/analysis/gather_data.py#626\u001b\\\u001b[2m626\u001b[0m\u001b]8;;\u001b\\\n"
      ]
     },
     "metadata": {},
     "output_type": "display_data"
    },
    {
     "data": {
      "text/html": [
       "<pre style=\"white-space:pre;overflow-x:auto;line-height:normal;font-family:Menlo,'DejaVu Sans Mono',consolas,'Courier New',monospace\"><span style=\"color: #7fbfbf; text-decoration-color: #7fbfbf\">[17:41:31] </span><span style=\"color: #000080; text-decoration-color: #000080\">INFO    </span> Normalize cost<span style=\"color: #808000; text-decoration-color: #808000\">...</span>                                                            <a href=\"file:///home/daphne/Code/hpi_parego/CARP-S/carps/analysis/gather_data.py\" target=\"_blank\"><span style=\"color: #7f7f7f; text-decoration-color: #7f7f7f\">gather_data.py</span></a><span style=\"color: #7f7f7f; text-decoration-color: #7f7f7f\">:</span><a href=\"file:///home/daphne/Code/hpi_parego/CARP-S/carps/analysis/gather_data.py#628\" target=\"_blank\"><span style=\"color: #7f7f7f; text-decoration-color: #7f7f7f\">628</span></a>\n",
       "</pre>\n"
      ],
      "text/plain": [
       "\u001b[2;36m[17:41:31]\u001b[0m\u001b[2;36m \u001b[0m\u001b[34mINFO    \u001b[0m Normalize cost\u001b[33m...\u001b[0m                                                            \u001b]8;id=870540;file:///home/daphne/Code/hpi_parego/CARP-S/carps/analysis/gather_data.py\u001b\\\u001b[2mgather_data.py\u001b[0m\u001b]8;;\u001b\\\u001b[2m:\u001b[0m\u001b]8;id=644272;file:///home/daphne/Code/hpi_parego/CARP-S/carps/analysis/gather_data.py#628\u001b\\\u001b[2m628\u001b[0m\u001b]8;;\u001b\\\n"
      ]
     },
     "metadata": {},
     "output_type": "display_data"
    },
    {
     "data": {
      "text/html": [
       "<pre style=\"white-space:pre;overflow-x:auto;line-height:normal;font-family:Menlo,'DejaVu Sans Mono',consolas,'Courier New',monospace\"><span style=\"color: #7fbfbf; text-decoration-color: #7fbfbf\">           </span><span style=\"color: #000080; text-decoration-color: #000080\">INFO    </span> Calc normalized incumbent cost<span style=\"color: #808000; text-decoration-color: #808000\">...</span>                                            <a href=\"file:///home/daphne/Code/hpi_parego/CARP-S/carps/analysis/gather_data.py\" target=\"_blank\"><span style=\"color: #7f7f7f; text-decoration-color: #7f7f7f\">gather_data.py</span></a><span style=\"color: #7f7f7f; text-decoration-color: #7f7f7f\">:</span><a href=\"file:///home/daphne/Code/hpi_parego/CARP-S/carps/analysis/gather_data.py#637\" target=\"_blank\"><span style=\"color: #7f7f7f; text-decoration-color: #7f7f7f\">637</span></a>\n",
       "</pre>\n"
      ],
      "text/plain": [
       "\u001b[2;36m          \u001b[0m\u001b[2;36m \u001b[0m\u001b[34mINFO    \u001b[0m Calc normalized incumbent cost\u001b[33m...\u001b[0m                                            \u001b]8;id=8548;file:///home/daphne/Code/hpi_parego/CARP-S/carps/analysis/gather_data.py\u001b\\\u001b[2mgather_data.py\u001b[0m\u001b]8;;\u001b\\\u001b[2m:\u001b[0m\u001b]8;id=963029;file:///home/daphne/Code/hpi_parego/CARP-S/carps/analysis/gather_data.py#637\u001b\\\u001b[2m637\u001b[0m\u001b]8;;\u001b\\\n"
      ]
     },
     "metadata": {},
     "output_type": "display_data"
    },
    {
     "data": {
      "text/html": [
       "<pre style=\"white-space:pre;overflow-x:auto;line-height:normal;font-family:Menlo,'DejaVu Sans Mono',consolas,'Courier New',monospace\"><span style=\"color: #7fbfbf; text-decoration-color: #7fbfbf\">           </span><span style=\"color: #000080; text-decoration-color: #000080\">INFO    </span> Normalize time<span style=\"color: #808000; text-decoration-color: #808000\">...</span>                                                            <a href=\"file:///home/daphne/Code/hpi_parego/CARP-S/carps/analysis/gather_data.py\" target=\"_blank\"><span style=\"color: #7f7f7f; text-decoration-color: #7f7f7f\">gather_data.py</span></a><span style=\"color: #7f7f7f; text-decoration-color: #7f7f7f\">:</span><a href=\"file:///home/daphne/Code/hpi_parego/CARP-S/carps/analysis/gather_data.py#657\" target=\"_blank\"><span style=\"color: #7f7f7f; text-decoration-color: #7f7f7f\">657</span></a>\n",
       "</pre>\n"
      ],
      "text/plain": [
       "\u001b[2;36m          \u001b[0m\u001b[2;36m \u001b[0m\u001b[34mINFO    \u001b[0m Normalize time\u001b[33m...\u001b[0m                                                            \u001b]8;id=520168;file:///home/daphne/Code/hpi_parego/CARP-S/carps/analysis/gather_data.py\u001b\\\u001b[2mgather_data.py\u001b[0m\u001b]8;;\u001b\\\u001b[2m:\u001b[0m\u001b]8;id=237910;file:///home/daphne/Code/hpi_parego/CARP-S/carps/analysis/gather_data.py#657\u001b\\\u001b[2m657\u001b[0m\u001b]8;;\u001b\\\n"
      ]
     },
     "metadata": {},
     "output_type": "display_data"
    },
    {
     "data": {
      "text/html": [
       "<pre style=\"white-space:pre;overflow-x:auto;line-height:normal;font-family:Menlo,'DejaVu Sans Mono',consolas,'Courier New',monospace\"><span style=\"color: #7fbfbf; text-decoration-color: #7fbfbf\">           </span><span style=\"color: #000080; text-decoration-color: #000080\">INFO    </span> Done.                                                                        <a href=\"file:///home/daphne/Code/hpi_parego/CARP-S/carps/analysis/gather_data.py\" target=\"_blank\"><span style=\"color: #7f7f7f; text-decoration-color: #7f7f7f\">gather_data.py</span></a><span style=\"color: #7f7f7f; text-decoration-color: #7f7f7f\">:</span><a href=\"file:///home/daphne/Code/hpi_parego/CARP-S/carps/analysis/gather_data.py#660\" target=\"_blank\"><span style=\"color: #7f7f7f; text-decoration-color: #7f7f7f\">660</span></a>\n",
       "</pre>\n"
      ],
      "text/plain": [
       "\u001b[2;36m          \u001b[0m\u001b[2;36m \u001b[0m\u001b[34mINFO    \u001b[0m Done.                                                                        \u001b]8;id=354805;file:///home/daphne/Code/hpi_parego/CARP-S/carps/analysis/gather_data.py\u001b\\\u001b[2mgather_data.py\u001b[0m\u001b]8;;\u001b\\\u001b[2m:\u001b[0m\u001b]8;id=300957;file:///home/daphne/Code/hpi_parego/CARP-S/carps/analysis/gather_data.py#660\u001b\\\u001b[2m660\u001b[0m\u001b]8;;\u001b\\\n"
      ]
     },
     "metadata": {},
     "output_type": "display_data"
    },
    {
     "data": {
      "text/html": [
       "<pre style=\"white-space:pre;overflow-x:auto;line-height:normal;font-family:Menlo,'DejaVu Sans Mono',consolas,'Courier New',monospace\"><span style=\"color: #7fbfbf; text-decoration-color: #7fbfbf\">           </span><span style=\"color: #000080; text-decoration-color: #000080\">INFO    </span> Create dataframe for neat plotting by aligning x-axis <span style=\"color: #800080; text-decoration-color: #800080\">/</span> interpolating        <a href=\"file:///home/daphne/Code/hpi_parego/CARP-S/carps/analysis/gather_data.py\" target=\"_blank\"><span style=\"color: #7f7f7f; text-decoration-color: #7f7f7f\">gather_data.py</span></a><span style=\"color: #7f7f7f; text-decoration-color: #7f7f7f\">:</span><a href=\"file:///home/daphne/Code/hpi_parego/CARP-S/carps/analysis/gather_data.py#734\" target=\"_blank\"><span style=\"color: #7f7f7f; text-decoration-color: #7f7f7f\">734</span></a>\n",
       "<span style=\"color: #7fbfbf; text-decoration-color: #7fbfbf\">           </span>         budget.                                                                      <span style=\"color: #7f7f7f; text-decoration-color: #7f7f7f\">                  </span>\n",
       "</pre>\n"
      ],
      "text/plain": [
       "\u001b[2;36m          \u001b[0m\u001b[2;36m \u001b[0m\u001b[34mINFO    \u001b[0m Create dataframe for neat plotting by aligning x-axis \u001b[35m/\u001b[0m interpolating        \u001b]8;id=732348;file:///home/daphne/Code/hpi_parego/CARP-S/carps/analysis/gather_data.py\u001b\\\u001b[2mgather_data.py\u001b[0m\u001b]8;;\u001b\\\u001b[2m:\u001b[0m\u001b]8;id=218825;file:///home/daphne/Code/hpi_parego/CARP-S/carps/analysis/gather_data.py#734\u001b\\\u001b[2m734\u001b[0m\u001b]8;;\u001b\\\n",
       "\u001b[2;36m           \u001b[0m         budget.                                                                      \u001b[2m                  \u001b[0m\n"
      ]
     },
     "metadata": {},
     "output_type": "display_data"
    }
   ],
   "source": [
    "df = pd.read_parquet('../experimenter/mine/processed_logs.parquet')\n",
    "df = normalize_logs(df)\n",
    "if 'set' not in df.columns:\n",
    "    df[\"set\"] = '0'\n",
    "df = get_interpolated_performance_df(df, n_points=50)\n"
   ]
  },
  {
   "cell_type": "code",
   "execution_count": null,
   "id": "5416e738",
   "metadata": {},
   "outputs": [],
   "source": [
    "# do prepocessing and create subsets: train/test etc.\n",
    "df_train = df[df['subset_id']=='dev']\n",
    "df_test = df[df['subset_id']=='test']"
   ]
  },
  {
   "cell_type": "code",
   "execution_count": 9,
   "id": "5b1ff3a9",
   "metadata": {},
   "outputs": [],
   "source": [
    "def expand_optimizer_id(df: pd.DataFrame, optimizer_id_col: str = 'optimizer_id') -> pd.DataFrame:\n",
    "    def parse_optimizer_id(opt_id: str) -> dict:\n",
    "        info = {\n",
    "            'hpi_method': None,\n",
    "            'adjust_cs': 'False',\n",
    "            'cs_method': 'False',\n",
    "            'pc_method': 'False',\n",
    "            'thresh': None,\n",
    "            'adjust_method': None\n",
    "        }\n",
    "        parts = opt_id.split('_')\n",
    "        info['hpi_method'] = parts[0]\n",
    "\n",
    "        \n",
    "        if 'adjust_cs_' in opt_id:\n",
    "            info['adjust_cs'] = 'distribution'\n",
    "            info['cs_method'] = parts[parts.index('cs')+1]\n",
    "            info['adjust_method'] = 'adjust_cs_only'\n",
    "        if 'constant' in opt_id:\n",
    "            info['adjust_cs'] = 'constant'\n",
    "        if 'cs_proba_hpi' in opt_id:\n",
    "            info['adjust_cs'] = 'cs_proba_hpi'\n",
    "        if 'set_to' in opt_id:\n",
    "            info['pc_method'] = parts[parts.index('to')+1]\n",
    "            if info['adjust_method'] == 'adjust_cs_only':\n",
    "                info['adjust_method'] = 'both'\n",
    "            else:\n",
    "                info['adjust_method'] = 'adjust_pc_only'\n",
    "        if 'down' in opt_id:\n",
    "            info['thresh'] = 'down'\n",
    "        elif 'up' in opt_id:\n",
    "            info['thresh'] = 'up'\n",
    "        else: \n",
    "            info['thresh'] = parts[parts.index('thresh')+1]\n",
    "        \n",
    "        return info\n",
    "\n",
    "    # Apply the parser to each row\n",
    "    parsed = df[optimizer_id_col].apply(parse_optimizer_id)\n",
    "    parsed_df = pd.DataFrame(parsed.tolist())\n",
    "\n",
    "    # Merge with the original DataFrame\n",
    "    return pd.concat([df, parsed_df], axis=1)\n",
    "\n",
    "def check_if_complete_for_max_trials(in_df):\n",
    "    max_trials = in_df['n_trials_norm'].max()\n",
    "    filtered_df = in_df[in_df['n_trials_norm'] == max_trials]\n",
    "    miss_dict = {}\n",
    "    seeds = filtered_df['seed'].unique()\n",
    "    expected_combinations = set(itertools.product(tasks[in_df['benchmark_id'].iloc[0]], [max_trials], seeds))\n",
    "    incomplete = False\n",
    "    for optimizer_id, group in filtered_df.groupby('optimizer_id'):\n",
    "        actual_combinations = set(group[['task_id', 'n_trials_norm', 'seed']].itertuples(index=False, name=None))\n",
    "        missing = expected_combinations - actual_combinations\n",
    "        if missing:\n",
    "            print(f\"Optimizer {optimizer_id} is not complete for max n_trials_norm = {max_trials}: {len(missing)} combinations missing.\")\n",
    "            miss_dict[optimizer_id] = missing\n",
    "            incomplete = True\n",
    "    if not incomplete:\n",
    "        print('All data complete!')\n",
    "        return None\n",
    "    return miss_dict\n",
    "\n",
    "def read_data(path):\n",
    "    df = pd.read_parquet(path)\n",
    "    df = normalize_logs(df)\n",
    "    df['n_trials_norm'] = df.groupby('experiment_id')['time'].rank(method='dense', pct=True).round(2)\n",
    "    if 'set' not in df.columns:\n",
    "        df[\"set\"] = '0'\n",
    "    df_random = df[df['optimizer_id'].str.startswith('random_')]\n",
    "    df = df[~df['optimizer_id'].str.startswith('random_')]\n",
    "    # check_if_complete_for_max_trials(df)\n",
    "    return df, df_random\n",
    "\n",
    "def get_perf(df):\n",
    "    perf = get_interpolated_performance_df(df, n_points=50)\n",
    "    missing = check_if_complete_for_max_trials(df)\n",
    "    perf = expand_optimizer_id(perf)\n",
    "    perf = perf[perf['adjust_method'].notna()]\n",
    "    return perf, missing"
   ]
  },
  {
   "cell_type": "code",
   "execution_count": 15,
   "id": "33e02a6d",
   "metadata": {},
   "outputs": [],
   "source": [
    "def plot_one_thing(thing, df_plot=None):\n",
    "    if df_plot is None:\n",
    "        df_plot = perf_all.copy(deep=True)\n",
    "        df_plot['optimizer_id'] = df_plot[thing]\n",
    "        # df_plot = pd.concat([df_plot, base], ignore_index=True)\n",
    "        plot_performance_per_task(df_plot, output_dir=f\"figure_dir/ablation/{thing}\", replot=True)\n",
    "        if len(df_plot['optimizer_id'].unique()) > 2:\n",
    "            plot_critical_difference(df_plot, output_dir=f\"figure_dir/ablation/{thing}\", replot=True)\n",
    "            plot_finalperfbarplot(df_plot, output_dir=f\"figure_dir/ablation/{thing}\", replot=True)\n",
    "            plot_ranks_over_time(df_plot, output_dir=f\"figure_dir/ablation/{thing}\", replot=True)\n",
    "\n",
    "    # Average over tasks\n",
    "    avg_task = df_plot.groupby([\"optimizer_id\", \"seed\", \"n_trials_norm\"]).agg(\n",
    "        mean_perf=(\"trial_value__cost_inc_norm\", \"mean\")\n",
    "    ).reset_index()\n",
    "\n",
    "    # Average over seeds\n",
    "    avg_seed = avg_task.groupby([\"optimizer_id\", \"n_trials_norm\"]).agg(\n",
    "        mean=(\"mean_perf\", \"mean\"),\n",
    "        sem=(\"mean_perf\", \"sem\")\n",
    "    ).reset_index()\n",
    "\n",
    "    auc_per_seed = (\n",
    "        df_plot.groupby([\"optimizer_id\", \"seed\"])\n",
    "        .apply(lambda group: trapz(group.sort_values(\"n_trials_norm\")[\"trial_value__cost_inc_norm\"],\n",
    "                                   group.sort_values(\"n_trials_norm\")[\"n_trials_norm\"]))\n",
    "        .reset_index(name=\"auc\")\n",
    "    )\n",
    "\n",
    "    # Compute mean and sem AUC per optimizer\n",
    "    auc_values = auc_per_seed.groupby(\"optimizer_id\").agg(\n",
    "        mean=('auc', 'mean'),\n",
    "        sem=('auc', 'sem')\n",
    "    ).sort_values(\"mean\", ascending=False).reset_index()\n",
    "\n",
    "\n",
    "    fig = make_subplots(\n",
    "        rows=1, cols=2,\n",
    "        # subplot_titles=(\"Performance over Time (Normalized)\", \"AUC per Optimizer\"),\n",
    "        column_widths=[0.6, 0.4],\n",
    "        horizontal_spacing=0.15\n",
    "    )\n",
    "    colors = px.colors.qualitative.Set1\n",
    "    # Line plot with shaded error (left)\n",
    "    print(avg_seed[\"optimizer_id\"].unique())\n",
    "    for i, optimizer in enumerate(avg_seed[\"optimizer_id\"].unique()):\n",
    "        df_opt = avg_seed[avg_seed[\"optimizer_id\"] == optimizer]\n",
    "        \n",
    "        line_color = colors[i % len(colors)]\n",
    "\n",
    "        # Mean line\n",
    "        fig.add_trace(go.Scatter(\n",
    "            x=df_opt[\"n_trials_norm\"],\n",
    "            y=df_opt[\"mean\"],\n",
    "            mode=\"lines\",\n",
    "            name=optimizer,\n",
    "            line=dict(width=2, color=line_color),\n",
    "        ), row=1, col=1)\n",
    "\n",
    "        # Shaded error (sem)\n",
    "        fig.add_trace(go.Scatter(\n",
    "            x=pd.concat([df_opt[\"n_trials_norm\"], df_opt[\"n_trials_norm\"][::-1]]),\n",
    "            y=pd.concat([\n",
    "                df_opt[\"mean\"] - df_opt[\"sem\"],\n",
    "                (df_opt[\"mean\"] + df_opt[\"sem\"])[::-1]\n",
    "            ]),\n",
    "            fill='toself',\n",
    "            fillcolor=line_color.replace(')', ',0.1)').replace('rgb', 'rgba'),\n",
    "            line=dict(color='rgba(255,255,255,0)'),\n",
    "            hoverinfo=\"skip\",\n",
    "            showlegend=False\n",
    "        ), row=1, col=1)\n",
    "\n",
    "    # Bar chart with error bars (right)\n",
    "    fig.add_trace(go.Bar(\n",
    "        x=auc_values[\"mean\"],\n",
    "        y=auc_values[\"optimizer_id\"],\n",
    "        orientation=\"h\",\n",
    "        error_x=dict(type='data', array=auc_values[\"sem\"]),\n",
    "        marker=dict(color=\"skyblue\", line=dict(color=\"black\", width=1)),\n",
    "        showlegend=False\n",
    "    ), row=1, col=2)\n",
    "\n",
    "    # -------------------------\n",
    "    # 3. Layout & Font\n",
    "    # -------------------------\n",
    "\n",
    "    fig.update_layout(\n",
    "        height=400,\n",
    "        width=1200,\n",
    "        template=\"plotly_white\",\n",
    "        font=dict(size=16),\n",
    "        legend=dict(title=\"Optimizers\", font=dict(size=16)),\n",
    "        margin=dict(t=60, l=50, r=50, b=50)\n",
    "    )\n",
    "\n",
    "    fig.update_xaxes(title_text=\"Normalized Trials\", row=1, col=1)\n",
    "    fig.update_yaxes(title_text=\"Normalized Inc-Performance\", row=1, col=1)\n",
    "    fig.update_xaxes(title_text=\"AUC\", row=1, col=2)\n",
    "    fig.update_yaxes(title_text=\"Optimizer\", row=1, col=2)\n",
    "\n",
    "    fig.show()\n"
   ]
  },
  {
   "cell_type": "code",
   "execution_count": 69,
   "id": "7ebd7939",
   "metadata": {},
   "outputs": [
    {
     "name": "stdout",
     "output_type": "stream",
     "text": [
      "['fanova']\n"
     ]
    },
    {
     "name": "stderr",
     "output_type": "stream",
     "text": [
      "/tmp/ipykernel_4800/1961929167.py:25: DeprecationWarning:\n",
      "\n",
      "DataFrameGroupBy.apply operated on the grouping columns. This behavior is deprecated, and in a future version of pandas the grouping columns will be excluded from the operation. Either pass `include_groups=False` to exclude the groupings or explicitly select the grouping columns after groupby to silence this warning.\n",
      "\n"
     ]
    },
    {
     "data": {
      "application/vnd.plotly.v1+json": {
       "config": {
        "plotlyServerURL": "https://plot.ly"
       },
       "data": [
        {
         "line": {
          "color": "rgb(228,26,28)",
          "width": 2
         },
         "mode": "lines",
         "name": "fanova",
         "type": "scatter",
         "x": {
          "bdata": "AAAAAAAAAAB7FK5H4XqUP3sUrkfheqQ/uB6F61G4rj97FK5H4Xq0P5qZmZmZmbk/uB6F61G4vj/sUbgehevBP3sUrkfhesQ/CtejcD0Kxz+amZmZmZnJPylcj8L1KMw/uB6F61G4zj+kcD0K16PQP+xRuB6F69E/MzMzMzMz0z97FK5H4XrUP8P1KFyPwtU/CtejcD0K1z9SuB6F61HYP5qZmZmZmdk/4XoUrkfh2j8pXI/C9SjcP3E9CtejcN0/uB6F61G43j8AAAAAAADgP6RwPQrXo+A/SOF6FK5H4T/sUbgehevhP4/C9Shcj+I/MzMzMzMz4z/Xo3A9CtfjP3sUrkfheuQ/H4XrUbge5T/D9Shcj8LlP2dmZmZmZuY/CtejcD0K5z+uR+F6FK7nP1K4HoXrUeg/9ihcj8L16D+amZmZmZnpPz4K16NwPeo/4XoUrkfh6j+F61G4HoXrPylcj8L1KOw/zczMzMzM7D9xPQrXo3DtPxWuR+F6FO4/uB6F61G47j9cj8L1KFzvPwAAAAAAAPA/",
          "dtype": "f8"
         },
         "xaxis": "x",
         "y": {
          "bdata": "u3eT+JIO4z+eZo8DBfLiP75PQ2upvuI/jvOH6V+h4j+XX3SqsoziPxkDEYVTaeI/TkSYtTwy4j+8ixAU1N/hP68vNm5gceE/xea7MW7x4D8P1VE+7mHgPz4RWNFyad8/uL6qAf4q3j9QWYYAe+HcP8q3HN0Ojds/1c8V2iZM2j+UaB/yciDZP0xUlQtyBNg/OGOfspb21j/npgth8+vVPxG2yd4J49Q/dABJ/gEG1D/4njpdKy7TPxkep26+YNI/x21dmGWU0T9T9cCTssbQP3iH5qD6M9A/DmJcJdlCzz8dTvFnXx7OP8JUO5N+/8w/Uw0c0bjpyz/OAVTxefHKP3gdNJmz98k/ylDDR8z9yD/HIB1TwhfIP+FX2TSJTMc/iuMxS+t/xj9+g/5iHLLFPwT92QPs6MQ/qeWfe+MuxD90SozZO3HDP0Cogu35ssI/ztH82fvzwT//0IT2HzbBP8alUnnud8A/2FhdoVNsvz8Cizy76uK9P22P1v/MXLw/nQh0km3Wuj/qDrW7gVK5PwMhA2iGzrc/",
          "dtype": "f8"
         },
         "yaxis": "y"
        },
        {
         "fill": "toself",
         "fillcolor": "rgba(228,26,28,0.1)",
         "hoverinfo": "skip",
         "line": {
          "color": "rgba(255,255,255,0)"
         },
         "showlegend": false,
         "type": "scatter",
         "x": {
          "bdata": "AAAAAAAAAAB7FK5H4XqUP3sUrkfheqQ/uB6F61G4rj97FK5H4Xq0P5qZmZmZmbk/uB6F61G4vj/sUbgehevBP3sUrkfhesQ/CtejcD0Kxz+amZmZmZnJPylcj8L1KMw/uB6F61G4zj+kcD0K16PQP+xRuB6F69E/MzMzMzMz0z97FK5H4XrUP8P1KFyPwtU/CtejcD0K1z9SuB6F61HYP5qZmZmZmdk/4XoUrkfh2j8pXI/C9SjcP3E9CtejcN0/uB6F61G43j8AAAAAAADgP6RwPQrXo+A/SOF6FK5H4T/sUbgehevhP4/C9Shcj+I/MzMzMzMz4z/Xo3A9CtfjP3sUrkfheuQ/H4XrUbge5T/D9Shcj8LlP2dmZmZmZuY/CtejcD0K5z+uR+F6FK7nP1K4HoXrUeg/9ihcj8L16D+amZmZmZnpPz4K16NwPeo/4XoUrkfh6j+F61G4HoXrPylcj8L1KOw/zczMzMzM7D9xPQrXo3DtPxWuR+F6FO4/uB6F61G47j9cj8L1KFzvPwAAAAAAAPA/AAAAAAAA8D9cj8L1KFzvP7gehetRuO4/Fa5H4XoU7j9xPQrXo3DtP83MzMzMzOw/KVyPwvUo7D+F61G4HoXrP+F6FK5H4eo/PgrXo3A96j+amZmZmZnpP/YoXI/C9eg/UrgehetR6D+uR+F6FK7nPwrXo3A9Cuc/Z2ZmZmZm5j/D9Shcj8LlPx+F61G4HuU/exSuR+F65D/Xo3A9CtfjPzMzMzMzM+M/j8L1KFyP4j/sUbgehevhP0jhehSuR+E/pHA9Ctej4D8AAAAAAADgP7gehetRuN4/cT0K16Nw3T8pXI/C9SjcP+F6FK5H4do/mpmZmZmZ2T9SuB6F61HYPwrXo3A9Ctc/w/UoXI/C1T97FK5H4XrUPzMzMzMzM9M/7FG4HoXr0T+kcD0K16PQP7gehetRuM4/KVyPwvUozD+amZmZmZnJPwrXo3A9Csc/exSuR+F6xD/sUbgehevBP7gehetRuL4/mpmZmZmZuT97FK5H4Xq0P7gehetRuK4/exSuR+F6pD97FK5H4XqUPwAAAAAAAAAA",
          "dtype": "f8"
         },
         "xaxis": "x",
         "y": {
          "bdata": "OJiXeKjN4T+8lsTJW7ThP+yHf+FCfeE/HS29xuxZ4T/0HbAFmkHhP0S1qsvCGuE/oHFvQBDi4D9Y2h2oaJHgP39LOC8nJ+A/SGnNyyxb3z+Z8Yxl7k7eP8KPyjlXEd0/HleTgAPw2z+TjKgwH8raP642qNhkn9k/oN62OBqG2D+vXVcNiX/XP4bd3aEYiNY/6lxj97qe1T/55c3FGbjUP9fqV8Zq0dM/BEwBimsQ0z+zEGKXdFPSP4lvIQFnoNE/jShy7tjt0D8i/JobGDrQPyO2BIuMbs8/4IePpwBpzj8sEELoiGPNP0fMvoynYsw/Wphs4Yhoyz8oqeDhQYvKPxzxziY6rMk/NocCmeLJyD9oDmWjNfHHPze8m5EUKMc/aaVBAppVxj+W/omMrHzFPyfD+PjBqMQ/zXEcg8vlwz+Nwro81SDDP9sxtCOWW8I/tYVaL4qXwT8fXqodT9TAPxRt6Ai3E8A/NIb3jg+fvj+Qm7V8cA69P9isGj4+grs/CjjNSALzuT/OCgsmjGa4P1/s7TjT2bY/p1UYlznDuD8GE19Rdz66PzDZGtzYubs/AnKSwVs3vT90esP5ZLe+P76V4dnLHMA/eN686SXcwD/fQ1/P8JfBP+cdn4RtUMI/pR5Rt10Kwz9b0l12osHDP4VZI3T7d8Q/4Ta7DhYpxT9mCHM5jOfFP6shIpQ8qsY/i/MW2P1wxz8mM9UCTz7IP14ahPa1Mck/1EmZCy1Dyj90WscAslfLP0yCy8Doasw/Pd23mVWczT8OjKDnNdnOPx6elNFYDtA/37NK/K6w0D+E7uYLTVPRPwGzSELyOtI/qcws3BUh0z89LRMj4gjUP+S0kHKY+9Q/S4E796j01T/VZ0n8zB/XP4Zp221yTtg/EstMdcuA2T95c+fWXMHaPwrBdHszEtw/5jiR4bh63T8NJmTQ1vjePykTYUH8MuA/XclyNMfg4D9SMd1JZZzhP+YYkf1FNeI/3xM0rZm74j8gPQOAPy7jP/wWwSppguM/7lB3PuS34z86oThPy9fjP/+5UgzT6OM/kBcH9Q8A5D+ANlo9ri/kPz5Xj3h9T+Q/",
          "dtype": "f8"
         },
         "yaxis": "y"
        },
        {
         "error_x": {
          "array": {
           "bdata": "zXd72j35jz8=",
           "dtype": "f8"
          },
          "type": "data"
         },
         "marker": {
          "color": "skyblue",
          "line": {
           "color": "black",
           "width": 1
          }
         },
         "orientation": "h",
         "showlegend": false,
         "type": "bar",
         "x": {
          "bdata": "qDuiCD9S1j8=",
          "dtype": "f8"
         },
         "xaxis": "x2",
         "y": [
          "fanova"
         ],
         "yaxis": "y2"
        }
       ],
       "layout": {
        "font": {
         "size": 16
        },
        "height": 400,
        "legend": {
         "font": {
          "size": 16
         },
         "title": {
          "text": "Optimizers"
         }
        },
        "margin": {
         "b": 50,
         "l": 50,
         "r": 50,
         "t": 60
        },
        "template": {
         "data": {
          "bar": [
           {
            "error_x": {
             "color": "#2a3f5f"
            },
            "error_y": {
             "color": "#2a3f5f"
            },
            "marker": {
             "line": {
              "color": "white",
              "width": 0.5
             },
             "pattern": {
              "fillmode": "overlay",
              "size": 10,
              "solidity": 0.2
             }
            },
            "type": "bar"
           }
          ],
          "barpolar": [
           {
            "marker": {
             "line": {
              "color": "white",
              "width": 0.5
             },
             "pattern": {
              "fillmode": "overlay",
              "size": 10,
              "solidity": 0.2
             }
            },
            "type": "barpolar"
           }
          ],
          "carpet": [
           {
            "aaxis": {
             "endlinecolor": "#2a3f5f",
             "gridcolor": "#C8D4E3",
             "linecolor": "#C8D4E3",
             "minorgridcolor": "#C8D4E3",
             "startlinecolor": "#2a3f5f"
            },
            "baxis": {
             "endlinecolor": "#2a3f5f",
             "gridcolor": "#C8D4E3",
             "linecolor": "#C8D4E3",
             "minorgridcolor": "#C8D4E3",
             "startlinecolor": "#2a3f5f"
            },
            "type": "carpet"
           }
          ],
          "choropleth": [
           {
            "colorbar": {
             "outlinewidth": 0,
             "ticks": ""
            },
            "type": "choropleth"
           }
          ],
          "contour": [
           {
            "colorbar": {
             "outlinewidth": 0,
             "ticks": ""
            },
            "colorscale": [
             [
              0,
              "#0d0887"
             ],
             [
              0.1111111111111111,
              "#46039f"
             ],
             [
              0.2222222222222222,
              "#7201a8"
             ],
             [
              0.3333333333333333,
              "#9c179e"
             ],
             [
              0.4444444444444444,
              "#bd3786"
             ],
             [
              0.5555555555555556,
              "#d8576b"
             ],
             [
              0.6666666666666666,
              "#ed7953"
             ],
             [
              0.7777777777777778,
              "#fb9f3a"
             ],
             [
              0.8888888888888888,
              "#fdca26"
             ],
             [
              1,
              "#f0f921"
             ]
            ],
            "type": "contour"
           }
          ],
          "contourcarpet": [
           {
            "colorbar": {
             "outlinewidth": 0,
             "ticks": ""
            },
            "type": "contourcarpet"
           }
          ],
          "heatmap": [
           {
            "colorbar": {
             "outlinewidth": 0,
             "ticks": ""
            },
            "colorscale": [
             [
              0,
              "#0d0887"
             ],
             [
              0.1111111111111111,
              "#46039f"
             ],
             [
              0.2222222222222222,
              "#7201a8"
             ],
             [
              0.3333333333333333,
              "#9c179e"
             ],
             [
              0.4444444444444444,
              "#bd3786"
             ],
             [
              0.5555555555555556,
              "#d8576b"
             ],
             [
              0.6666666666666666,
              "#ed7953"
             ],
             [
              0.7777777777777778,
              "#fb9f3a"
             ],
             [
              0.8888888888888888,
              "#fdca26"
             ],
             [
              1,
              "#f0f921"
             ]
            ],
            "type": "heatmap"
           }
          ],
          "histogram": [
           {
            "marker": {
             "pattern": {
              "fillmode": "overlay",
              "size": 10,
              "solidity": 0.2
             }
            },
            "type": "histogram"
           }
          ],
          "histogram2d": [
           {
            "colorbar": {
             "outlinewidth": 0,
             "ticks": ""
            },
            "colorscale": [
             [
              0,
              "#0d0887"
             ],
             [
              0.1111111111111111,
              "#46039f"
             ],
             [
              0.2222222222222222,
              "#7201a8"
             ],
             [
              0.3333333333333333,
              "#9c179e"
             ],
             [
              0.4444444444444444,
              "#bd3786"
             ],
             [
              0.5555555555555556,
              "#d8576b"
             ],
             [
              0.6666666666666666,
              "#ed7953"
             ],
             [
              0.7777777777777778,
              "#fb9f3a"
             ],
             [
              0.8888888888888888,
              "#fdca26"
             ],
             [
              1,
              "#f0f921"
             ]
            ],
            "type": "histogram2d"
           }
          ],
          "histogram2dcontour": [
           {
            "colorbar": {
             "outlinewidth": 0,
             "ticks": ""
            },
            "colorscale": [
             [
              0,
              "#0d0887"
             ],
             [
              0.1111111111111111,
              "#46039f"
             ],
             [
              0.2222222222222222,
              "#7201a8"
             ],
             [
              0.3333333333333333,
              "#9c179e"
             ],
             [
              0.4444444444444444,
              "#bd3786"
             ],
             [
              0.5555555555555556,
              "#d8576b"
             ],
             [
              0.6666666666666666,
              "#ed7953"
             ],
             [
              0.7777777777777778,
              "#fb9f3a"
             ],
             [
              0.8888888888888888,
              "#fdca26"
             ],
             [
              1,
              "#f0f921"
             ]
            ],
            "type": "histogram2dcontour"
           }
          ],
          "mesh3d": [
           {
            "colorbar": {
             "outlinewidth": 0,
             "ticks": ""
            },
            "type": "mesh3d"
           }
          ],
          "parcoords": [
           {
            "line": {
             "colorbar": {
              "outlinewidth": 0,
              "ticks": ""
             }
            },
            "type": "parcoords"
           }
          ],
          "pie": [
           {
            "automargin": true,
            "type": "pie"
           }
          ],
          "scatter": [
           {
            "fillpattern": {
             "fillmode": "overlay",
             "size": 10,
             "solidity": 0.2
            },
            "type": "scatter"
           }
          ],
          "scatter3d": [
           {
            "line": {
             "colorbar": {
              "outlinewidth": 0,
              "ticks": ""
             }
            },
            "marker": {
             "colorbar": {
              "outlinewidth": 0,
              "ticks": ""
             }
            },
            "type": "scatter3d"
           }
          ],
          "scattercarpet": [
           {
            "marker": {
             "colorbar": {
              "outlinewidth": 0,
              "ticks": ""
             }
            },
            "type": "scattercarpet"
           }
          ],
          "scattergeo": [
           {
            "marker": {
             "colorbar": {
              "outlinewidth": 0,
              "ticks": ""
             }
            },
            "type": "scattergeo"
           }
          ],
          "scattergl": [
           {
            "marker": {
             "colorbar": {
              "outlinewidth": 0,
              "ticks": ""
             }
            },
            "type": "scattergl"
           }
          ],
          "scattermap": [
           {
            "marker": {
             "colorbar": {
              "outlinewidth": 0,
              "ticks": ""
             }
            },
            "type": "scattermap"
           }
          ],
          "scattermapbox": [
           {
            "marker": {
             "colorbar": {
              "outlinewidth": 0,
              "ticks": ""
             }
            },
            "type": "scattermapbox"
           }
          ],
          "scatterpolar": [
           {
            "marker": {
             "colorbar": {
              "outlinewidth": 0,
              "ticks": ""
             }
            },
            "type": "scatterpolar"
           }
          ],
          "scatterpolargl": [
           {
            "marker": {
             "colorbar": {
              "outlinewidth": 0,
              "ticks": ""
             }
            },
            "type": "scatterpolargl"
           }
          ],
          "scatterternary": [
           {
            "marker": {
             "colorbar": {
              "outlinewidth": 0,
              "ticks": ""
             }
            },
            "type": "scatterternary"
           }
          ],
          "surface": [
           {
            "colorbar": {
             "outlinewidth": 0,
             "ticks": ""
            },
            "colorscale": [
             [
              0,
              "#0d0887"
             ],
             [
              0.1111111111111111,
              "#46039f"
             ],
             [
              0.2222222222222222,
              "#7201a8"
             ],
             [
              0.3333333333333333,
              "#9c179e"
             ],
             [
              0.4444444444444444,
              "#bd3786"
             ],
             [
              0.5555555555555556,
              "#d8576b"
             ],
             [
              0.6666666666666666,
              "#ed7953"
             ],
             [
              0.7777777777777778,
              "#fb9f3a"
             ],
             [
              0.8888888888888888,
              "#fdca26"
             ],
             [
              1,
              "#f0f921"
             ]
            ],
            "type": "surface"
           }
          ],
          "table": [
           {
            "cells": {
             "fill": {
              "color": "#EBF0F8"
             },
             "line": {
              "color": "white"
             }
            },
            "header": {
             "fill": {
              "color": "#C8D4E3"
             },
             "line": {
              "color": "white"
             }
            },
            "type": "table"
           }
          ]
         },
         "layout": {
          "annotationdefaults": {
           "arrowcolor": "#2a3f5f",
           "arrowhead": 0,
           "arrowwidth": 1
          },
          "autotypenumbers": "strict",
          "coloraxis": {
           "colorbar": {
            "outlinewidth": 0,
            "ticks": ""
           }
          },
          "colorscale": {
           "diverging": [
            [
             0,
             "#8e0152"
            ],
            [
             0.1,
             "#c51b7d"
            ],
            [
             0.2,
             "#de77ae"
            ],
            [
             0.3,
             "#f1b6da"
            ],
            [
             0.4,
             "#fde0ef"
            ],
            [
             0.5,
             "#f7f7f7"
            ],
            [
             0.6,
             "#e6f5d0"
            ],
            [
             0.7,
             "#b8e186"
            ],
            [
             0.8,
             "#7fbc41"
            ],
            [
             0.9,
             "#4d9221"
            ],
            [
             1,
             "#276419"
            ]
           ],
           "sequential": [
            [
             0,
             "#0d0887"
            ],
            [
             0.1111111111111111,
             "#46039f"
            ],
            [
             0.2222222222222222,
             "#7201a8"
            ],
            [
             0.3333333333333333,
             "#9c179e"
            ],
            [
             0.4444444444444444,
             "#bd3786"
            ],
            [
             0.5555555555555556,
             "#d8576b"
            ],
            [
             0.6666666666666666,
             "#ed7953"
            ],
            [
             0.7777777777777778,
             "#fb9f3a"
            ],
            [
             0.8888888888888888,
             "#fdca26"
            ],
            [
             1,
             "#f0f921"
            ]
           ],
           "sequentialminus": [
            [
             0,
             "#0d0887"
            ],
            [
             0.1111111111111111,
             "#46039f"
            ],
            [
             0.2222222222222222,
             "#7201a8"
            ],
            [
             0.3333333333333333,
             "#9c179e"
            ],
            [
             0.4444444444444444,
             "#bd3786"
            ],
            [
             0.5555555555555556,
             "#d8576b"
            ],
            [
             0.6666666666666666,
             "#ed7953"
            ],
            [
             0.7777777777777778,
             "#fb9f3a"
            ],
            [
             0.8888888888888888,
             "#fdca26"
            ],
            [
             1,
             "#f0f921"
            ]
           ]
          },
          "colorway": [
           "#636efa",
           "#EF553B",
           "#00cc96",
           "#ab63fa",
           "#FFA15A",
           "#19d3f3",
           "#FF6692",
           "#B6E880",
           "#FF97FF",
           "#FECB52"
          ],
          "font": {
           "color": "#2a3f5f"
          },
          "geo": {
           "bgcolor": "white",
           "lakecolor": "white",
           "landcolor": "white",
           "showlakes": true,
           "showland": true,
           "subunitcolor": "#C8D4E3"
          },
          "hoverlabel": {
           "align": "left"
          },
          "hovermode": "closest",
          "mapbox": {
           "style": "light"
          },
          "paper_bgcolor": "white",
          "plot_bgcolor": "white",
          "polar": {
           "angularaxis": {
            "gridcolor": "#EBF0F8",
            "linecolor": "#EBF0F8",
            "ticks": ""
           },
           "bgcolor": "white",
           "radialaxis": {
            "gridcolor": "#EBF0F8",
            "linecolor": "#EBF0F8",
            "ticks": ""
           }
          },
          "scene": {
           "xaxis": {
            "backgroundcolor": "white",
            "gridcolor": "#DFE8F3",
            "gridwidth": 2,
            "linecolor": "#EBF0F8",
            "showbackground": true,
            "ticks": "",
            "zerolinecolor": "#EBF0F8"
           },
           "yaxis": {
            "backgroundcolor": "white",
            "gridcolor": "#DFE8F3",
            "gridwidth": 2,
            "linecolor": "#EBF0F8",
            "showbackground": true,
            "ticks": "",
            "zerolinecolor": "#EBF0F8"
           },
           "zaxis": {
            "backgroundcolor": "white",
            "gridcolor": "#DFE8F3",
            "gridwidth": 2,
            "linecolor": "#EBF0F8",
            "showbackground": true,
            "ticks": "",
            "zerolinecolor": "#EBF0F8"
           }
          },
          "shapedefaults": {
           "line": {
            "color": "#2a3f5f"
           }
          },
          "ternary": {
           "aaxis": {
            "gridcolor": "#DFE8F3",
            "linecolor": "#A2B1C6",
            "ticks": ""
           },
           "baxis": {
            "gridcolor": "#DFE8F3",
            "linecolor": "#A2B1C6",
            "ticks": ""
           },
           "bgcolor": "white",
           "caxis": {
            "gridcolor": "#DFE8F3",
            "linecolor": "#A2B1C6",
            "ticks": ""
           }
          },
          "title": {
           "x": 0.05
          },
          "xaxis": {
           "automargin": true,
           "gridcolor": "#EBF0F8",
           "linecolor": "#EBF0F8",
           "ticks": "",
           "title": {
            "standoff": 15
           },
           "zerolinecolor": "#EBF0F8",
           "zerolinewidth": 2
          },
          "yaxis": {
           "automargin": true,
           "gridcolor": "#EBF0F8",
           "linecolor": "#EBF0F8",
           "ticks": "",
           "title": {
            "standoff": 15
           },
           "zerolinecolor": "#EBF0F8",
           "zerolinewidth": 2
          }
         }
        },
        "width": 1200,
        "xaxis": {
         "anchor": "y",
         "domain": [
          0,
          0.51
         ],
         "title": {
          "text": "Normalized Trials"
         }
        },
        "xaxis2": {
         "anchor": "y2",
         "domain": [
          0.66,
          1
         ],
         "title": {
          "text": "AUC"
         }
        },
        "yaxis": {
         "anchor": "x",
         "domain": [
          0,
          1
         ],
         "title": {
          "text": "Normalized Inc-Performance"
         }
        },
        "yaxis2": {
         "anchor": "x2",
         "domain": [
          0,
          1
         ],
         "title": {
          "text": "Optimizer"
         }
        }
       }
      }
     },
     "metadata": {},
     "output_type": "display_data"
    }
   ],
   "source": [
    "# Which HPI method\n",
    "plot_one_thing('hpi_method')"
   ]
  },
  {
   "cell_type": "code",
   "execution_count": 70,
   "id": "d90ae2d8",
   "metadata": {},
   "outputs": [
    {
     "name": "stderr",
     "output_type": "stream",
     "text": [
      "/home/daphne/Code/hpi_parego/CARP-S/carps/analysis/generate_report.py:276: UserWarning:\n",
      "\n",
      "Result is not significant and results of the plot may be misleading!\n",
      "\n",
      "/home/daphne/Code/hpi_parego/CARP-S/carps/analysis/run_autorank.py:322: FutureWarning:\n",
      "\n",
      "Series.__getitem__ treating keys as positions is deprecated. In a future version, integer keys will always be treated as labels (consistent with DataFrame behavior). To access a value by position, use `ser.iloc[pos]`\n",
      "\n",
      "/home/daphne/Code/hpi_parego/CARP-S/carps/analysis/run_autorank.py:421: UserWarning:\n",
      "\n",
      "FigureCanvasAgg is non-interactive, and thus cannot be shown\n",
      "\n",
      "/home/daphne/Code/hpi_parego/CARP-S/carps/analysis/run_autorank.py:198: UserWarning:\n",
      "\n",
      "Result is not significant and results of the plot may be misleading!\n",
      "\n"
     ]
    },
    {
     "data": {
      "text/html": [
       "<pre style=\"white-space:pre;overflow-x:auto;line-height:normal;font-family:Menlo,'DejaVu Sans Mono',consolas,'Courier New',monospace\"><span style=\"color: #7fbfbf; text-decoration-color: #7fbfbf\">[10:20:03] </span><span style=\"color: #000080; text-decoration-color: #000080\">INFO    </span> Create dataframe for neat plotting by aligning x-axis <span style=\"color: #800080; text-decoration-color: #800080\">/</span> interpolating        <a href=\"file:///home/daphne/Code/hpi_parego/CARP-S/carps/analysis/gather_data.py\" target=\"_blank\"><span style=\"color: #7f7f7f; text-decoration-color: #7f7f7f\">gather_data.py</span></a><span style=\"color: #7f7f7f; text-decoration-color: #7f7f7f\">:</span><a href=\"file:///home/daphne/Code/hpi_parego/CARP-S/carps/analysis/gather_data.py#725\" target=\"_blank\"><span style=\"color: #7f7f7f; text-decoration-color: #7f7f7f\">725</span></a>\n",
       "<span style=\"color: #7fbfbf; text-decoration-color: #7fbfbf\">           </span>         budget.                                                                      <span style=\"color: #7f7f7f; text-decoration-color: #7f7f7f\">                  </span>\n",
       "</pre>\n"
      ],
      "text/plain": [
       "\u001b[2;36m[10:20:03]\u001b[0m\u001b[2;36m \u001b[0m\u001b[34mINFO    \u001b[0m Create dataframe for neat plotting by aligning x-axis \u001b[35m/\u001b[0m interpolating        \u001b]8;id=594240;file:///home/daphne/Code/hpi_parego/CARP-S/carps/analysis/gather_data.py\u001b\\\u001b[2mgather_data.py\u001b[0m\u001b]8;;\u001b\\\u001b[2m:\u001b[0m\u001b]8;id=286116;file:///home/daphne/Code/hpi_parego/CARP-S/carps/analysis/gather_data.py#725\u001b\\\u001b[2m725\u001b[0m\u001b]8;;\u001b\\\n",
       "\u001b[2;36m           \u001b[0m         budget.                                                                      \u001b[2m                  \u001b[0m\n"
      ]
     },
     "metadata": {},
     "output_type": "display_data"
    },
    {
     "name": "stderr",
     "output_type": "stream",
     "text": [
      "/home/daphne/Code/hpi_parego/CARP-S/carps/analysis/generate_report.py:108: UserWarning:\n",
      "\n",
      "Result is not significant and results of the plot may be misleading!\n",
      "\n",
      "/home/daphne/Code/hpi_parego/CARP-S/carps/analysis/generate_report.py:108: UserWarning:\n",
      "\n",
      "Result is not significant and results of the plot may be misleading!\n",
      "\n",
      "/home/daphne/Code/hpi_parego/CARP-S/carps/analysis/generate_report.py:108: UserWarning:\n",
      "\n",
      "Result is not significant and results of the plot may be misleading!\n",
      "\n",
      "/home/daphne/Code/hpi_parego/CARP-S/carps/analysis/generate_report.py:108: UserWarning:\n",
      "\n",
      "Result is not significant and results of the plot may be misleading!\n",
      "\n",
      "/home/daphne/Code/hpi_parego/CARP-S/carps/analysis/generate_report.py:108: UserWarning:\n",
      "\n",
      "Result is not significant and results of the plot may be misleading!\n",
      "\n",
      "/home/daphne/Code/hpi_parego/CARP-S/carps/analysis/generate_report.py:108: UserWarning:\n",
      "\n",
      "Result is not significant and results of the plot may be misleading!\n",
      "\n",
      "/home/daphne/Code/hpi_parego/CARP-S/carps/analysis/generate_report.py:108: UserWarning:\n",
      "\n",
      "Result is not significant and results of the plot may be misleading!\n",
      "\n",
      "/home/daphne/Code/hpi_parego/CARP-S/carps/analysis/generate_report.py:108: UserWarning:\n",
      "\n",
      "Result is not significant and results of the plot may be misleading!\n",
      "\n",
      "/home/daphne/Code/hpi_parego/CARP-S/carps/analysis/generate_report.py:108: UserWarning:\n",
      "\n",
      "Result is not significant and results of the plot may be misleading!\n",
      "\n",
      "/home/daphne/Code/hpi_parego/CARP-S/carps/analysis/generate_report.py:108: UserWarning:\n",
      "\n",
      "Result is not significant and results of the plot may be misleading!\n",
      "\n",
      "/home/daphne/Code/hpi_parego/CARP-S/carps/analysis/generate_report.py:108: UserWarning:\n",
      "\n",
      "Result is not significant and results of the plot may be misleading!\n",
      "\n",
      "/home/daphne/Code/hpi_parego/CARP-S/carps/analysis/generate_report.py:108: UserWarning:\n",
      "\n",
      "Result is not significant and results of the plot may be misleading!\n",
      "\n",
      "/home/daphne/Code/hpi_parego/CARP-S/carps/analysis/generate_report.py:108: UserWarning:\n",
      "\n",
      "Result is not significant and results of the plot may be misleading!\n",
      "\n",
      "/home/daphne/Code/hpi_parego/CARP-S/carps/analysis/generate_report.py:108: UserWarning:\n",
      "\n",
      "Result is not significant and results of the plot may be misleading!\n",
      "\n",
      "/home/daphne/Code/hpi_parego/CARP-S/carps/analysis/generate_report.py:108: UserWarning:\n",
      "\n",
      "Result is not significant and results of the plot may be misleading!\n",
      "\n",
      "/home/daphne/Code/hpi_parego/CARP-S/carps/analysis/generate_report.py:108: UserWarning:\n",
      "\n",
      "Result is not significant and results of the plot may be misleading!\n",
      "\n",
      "/home/daphne/Code/hpi_parego/CARP-S/carps/analysis/generate_report.py:108: UserWarning:\n",
      "\n",
      "Result is not significant and results of the plot may be misleading!\n",
      "\n",
      "/home/daphne/Code/hpi_parego/CARP-S/carps/analysis/generate_report.py:108: UserWarning:\n",
      "\n",
      "Result is not significant and results of the plot may be misleading!\n",
      "\n",
      "/home/daphne/Code/hpi_parego/CARP-S/carps/analysis/generate_report.py:108: UserWarning:\n",
      "\n",
      "Result is not significant and results of the plot may be misleading!\n",
      "\n",
      "/home/daphne/Code/hpi_parego/CARP-S/carps/analysis/generate_report.py:108: UserWarning:\n",
      "\n",
      "Result is not significant and results of the plot may be misleading!\n",
      "\n",
      "/home/daphne/Code/hpi_parego/CARP-S/carps/analysis/generate_report.py:108: UserWarning:\n",
      "\n",
      "Result is not significant and results of the plot may be misleading!\n",
      "\n"
     ]
    },
    {
     "name": "stdout",
     "output_type": "stream",
     "text": [
      "['0.5' '0.75' 'down' 'up']\n"
     ]
    },
    {
     "name": "stderr",
     "output_type": "stream",
     "text": [
      "/tmp/ipykernel_4800/1961929167.py:25: DeprecationWarning:\n",
      "\n",
      "DataFrameGroupBy.apply operated on the grouping columns. This behavior is deprecated, and in a future version of pandas the grouping columns will be excluded from the operation. Either pass `include_groups=False` to exclude the groupings or explicitly select the grouping columns after groupby to silence this warning.\n",
      "\n"
     ]
    },
    {
     "data": {
      "application/vnd.plotly.v1+json": {
       "config": {
        "plotlyServerURL": "https://plot.ly"
       },
       "data": [
        {
         "line": {
          "color": "rgb(228,26,28)",
          "width": 2
         },
         "mode": "lines",
         "name": "0.5",
         "type": "scatter",
         "x": {
          "bdata": "AAAAAAAAAAB7FK5H4XqUP3sUrkfheqQ/uB6F61G4rj97FK5H4Xq0P5qZmZmZmbk/uB6F61G4vj/sUbgehevBP3sUrkfhesQ/CtejcD0Kxz+amZmZmZnJPylcj8L1KMw/uB6F61G4zj+kcD0K16PQP+xRuB6F69E/MzMzMzMz0z97FK5H4XrUP8P1KFyPwtU/CtejcD0K1z9SuB6F61HYP5qZmZmZmdk/4XoUrkfh2j8pXI/C9SjcP3E9CtejcN0/uB6F61G43j8AAAAAAADgP6RwPQrXo+A/SOF6FK5H4T/sUbgehevhP4/C9Shcj+I/MzMzMzMz4z/Xo3A9CtfjP3sUrkfheuQ/H4XrUbge5T/D9Shcj8LlP2dmZmZmZuY/CtejcD0K5z+uR+F6FK7nP1K4HoXrUeg/9ihcj8L16D+amZmZmZnpPz4K16NwPeo/4XoUrkfh6j+F61G4HoXrPylcj8L1KOw/zczMzMzM7D9xPQrXo3DtPxWuR+F6FO4/uB6F61G47j9cj8L1KFzvPwAAAAAAAPA/",
          "dtype": "f8"
         },
         "xaxis": "x",
         "y": {
          "bdata": "Z6QLN4wO4z8yzqsidO3iPz73WykqvOI/Dx1wePeg4j+g2TTHXIriP5D/CgQtZuI/17074SQw4j+KOUEw+d7hP7+h5Z6ycOE/AlbIPY/x4D98FLjhBWTgP8IXlTYxcd8/Jgd9rOM13j91Yxj5j+3cP61w4CeemNs/GEH/piNX2j8KBdAItCrZP3Lmdv1QDdg/dYrfj4391j+wotDF7/DVP7vRisXW5tQ//ErIbbEJ1D8OO44GTDLTP4fBu52eZdI/jCF0Nx6a0T/ekkGuDM/QP/Rsc7e0O9A/+qGgGH1Qzz/WeL9AASrOP6hZ3jAoB80/Ejl8nAvtyz9lUaHC3/HKP0aiNM529ck/4/rW9AL4yD8bdcEfYw3IP93JvTXgQsc/jvBYbFB4xj/toeItAK3FPxBoh7mH5cQ/toNT120sxD+O1XeN1G3DP5KSHrEPssI/tgT2Bb7zwT+CDDme2TfBP+vWJEFudcA/S+/u2xpovz9W2drrwda9Pxrr7CzbSLw/QJR/Jo3Auj+gmhMxXjm5P9YJ0sQtsrc/",
          "dtype": "f8"
         },
         "yaxis": "y"
        },
        {
         "fill": "toself",
         "fillcolor": "rgba(228,26,28,0.1)",
         "hoverinfo": "skip",
         "line": {
          "color": "rgba(255,255,255,0)"
         },
         "showlegend": false,
         "type": "scatter",
         "x": {
          "bdata": "AAAAAAAAAAB7FK5H4XqUP3sUrkfheqQ/uB6F61G4rj97FK5H4Xq0P5qZmZmZmbk/uB6F61G4vj/sUbgehevBP3sUrkfhesQ/CtejcD0Kxz+amZmZmZnJPylcj8L1KMw/uB6F61G4zj+kcD0K16PQP+xRuB6F69E/MzMzMzMz0z97FK5H4XrUP8P1KFyPwtU/CtejcD0K1z9SuB6F61HYP5qZmZmZmdk/4XoUrkfh2j8pXI/C9SjcP3E9CtejcN0/uB6F61G43j8AAAAAAADgP6RwPQrXo+A/SOF6FK5H4T/sUbgehevhP4/C9Shcj+I/MzMzMzMz4z/Xo3A9CtfjP3sUrkfheuQ/H4XrUbge5T/D9Shcj8LlP2dmZmZmZuY/CtejcD0K5z+uR+F6FK7nP1K4HoXrUeg/9ihcj8L16D+amZmZmZnpPz4K16NwPeo/4XoUrkfh6j+F61G4HoXrPylcj8L1KOw/zczMzMzM7D9xPQrXo3DtPxWuR+F6FO4/uB6F61G47j9cj8L1KFzvPwAAAAAAAPA/AAAAAAAA8D9cj8L1KFzvP7gehetRuO4/Fa5H4XoU7j9xPQrXo3DtP83MzMzMzOw/KVyPwvUo7D+F61G4HoXrP+F6FK5H4eo/PgrXo3A96j+amZmZmZnpP/YoXI/C9eg/UrgehetR6D+uR+F6FK7nPwrXo3A9Cuc/Z2ZmZmZm5j/D9Shcj8LlPx+F61G4HuU/exSuR+F65D/Xo3A9CtfjPzMzMzMzM+M/j8L1KFyP4j/sUbgehevhP0jhehSuR+E/pHA9Ctej4D8AAAAAAADgP7gehetRuN4/cT0K16Nw3T8pXI/C9SjcP+F6FK5H4do/mpmZmZmZ2T9SuB6F61HYPwrXo3A9Ctc/w/UoXI/C1T97FK5H4XrUPzMzMzMzM9M/7FG4HoXr0T+kcD0K16PQP7gehetRuM4/KVyPwvUozD+amZmZmZnJPwrXo3A9Csc/exSuR+F6xD/sUbgehevBP7gehetRuL4/mpmZmZmZuT97FK5H4Xq0P7gehetRuK4/exSuR+F6pD97FK5H4XqUPwAAAAAAAAAA",
          "dtype": "f8"
         },
         "xaxis": "x",
         "y": {
          "bdata": "QTBe3ZXN4T8H/reI0K/hP949UttweuE/mCMN5j9Z4T/i3Bl96D3hP3E2OINoFuE/C3Zimuff4D+Wrgt9KJHgP0dgwiAKJ+A/DoxYK2hb3z8CZxQpdFHeP+ljFlUpF90/myfFtFz52z+WBD+s6NTaPyVHcCh7qdk/wt+SHOeO2D9d8efEzIbXP5/onNcjjtY/BT8WNjCk1T/90doFFb7UP5cEuQZl2NM/xcHCBaUX0z/WCNesrFvSPxDDkkL5qdE/Dj5psPH40D9YVcfGPEjQPy7v56fGiM8/IBdBcFyAzj/SWcL6z3fNP7d9jI/Acsw/zeN/rY50yz9ZO+4zw5XKP0/CmJsltMk/ZtOpX5nLyD9A3AypTO3HP4sgUgOsJsc/ik4TE+BVxj854bS8BH7FP2pPvKytqsQ/eDw8fDDowz9IJg7V8iLDP/GcA7tLYcI/yKVPk8WfwT+Q7VDRE+LAPxMbSI7MHsA/z9DKuBK4vj9lXZaohSK9P1BZOXW2j7s/zcHsdjABuj/Oc5wROXO4P5ehSAIT5bY/FXJbh0h/uD9ywYpQg/+5P7NmEtbpf7s/5Hyg5P8BvT9HVR8v/oq+P+OGiX8RDMA/w5IB9A/MwD90KyFrn43BP6RjnHi2R8I/M4g5p9MCwz/UhOFFtrjDP/TKajKrcMQ/toBSxmEgxT+hYhCf+9vFP5KSnsXAmsY/L3MpaBRfxz/2DXaWeS3IP2AiBIpsJMk/PYLQAMg2yj9xZ1RR/E3LP1eOeIuIZcw/mTUw0o+bzT/al7yGMtzOP2oWgOBOENA/UeLyGgaz0D9k0LuV3FXRPwoFf75KO9I//r/k+EMh0z9GbUVg6wjUPzPUzdW9+9Q/355chEj11T9jc8aFyiPXP+XVqOnqVtg/ReRQI36M2T+3GLhMm87aP26iazFgH9w/NZpQJ8GH3T9UwvFFNwbfP1lzGlI1OeA/zeUJjJzl4D939eWuUZ/hP/1l5GVqNeI/N+MIHVu64j9+xHbjySzjP6MFFShigOM/r8jdhPG14z9e1k8R0dbjP4YW0wqv6OM/nrBld+P94z9dnp+8FyvkP40YuZCCT+Q/",
          "dtype": "f8"
         },
         "yaxis": "y"
        },
        {
         "line": {
          "color": "rgb(55,126,184)",
          "width": 2
         },
         "mode": "lines",
         "name": "0.75",
         "type": "scatter",
         "x": {
          "bdata": "AAAAAAAAAAB7FK5H4XqUP3sUrkfheqQ/uB6F61G4rj97FK5H4Xq0P5qZmZmZmbk/uB6F61G4vj/sUbgehevBP3sUrkfhesQ/CtejcD0Kxz+amZmZmZnJPylcj8L1KMw/uB6F61G4zj+kcD0K16PQP+xRuB6F69E/MzMzMzMz0z97FK5H4XrUP8P1KFyPwtU/CtejcD0K1z9SuB6F61HYP5qZmZmZmdk/4XoUrkfh2j8pXI/C9SjcP3E9CtejcN0/uB6F61G43j8AAAAAAADgP6RwPQrXo+A/SOF6FK5H4T/sUbgehevhP4/C9Shcj+I/MzMzMzMz4z/Xo3A9CtfjP3sUrkfheuQ/H4XrUbge5T/D9Shcj8LlP2dmZmZmZuY/CtejcD0K5z+uR+F6FK7nP1K4HoXrUeg/9ihcj8L16D+amZmZmZnpPz4K16NwPeo/4XoUrkfh6j+F61G4HoXrPylcj8L1KOw/zczMzMzM7D9xPQrXo3DtPxWuR+F6FO4/uB6F61G47j9cj8L1KFzvPwAAAAAAAPA/",
          "dtype": "f8"
         },
         "xaxis": "x",
         "y": {
          "bdata": "SYZpkYoO4z/RwfULr/HiP/1Ps2mFv+I/wqVqh5yi4j+vShJ4pJDiP/kG99VBbeI/vK/6uyQ14j9jFf5WhuLhP9b5bsdvcuE/wuanWmrx4D/jWsqIY1/gP8qDddzwX98/E6Eq700g3j9mHTrpVtbcP/6abLnTgds/naCycGtB2j/ZdPfoNRXZP6p4XL24+Nc/86RqM6Hq1j+NK4rcUN/VP8DiXIUw1tQ/BQsgPIr50z/TVCGIfyLTPwdL1fUeVtI/ZsmXKmyK0T8HXy600brQPwKqkncqKtA/++LmeoAzzz8iOwKIohLOP8WKAIzm98w/tvrTcqrmyz/TFpgXzPDKP5Mfo7d7+Mk//Wbmxqr/yD/+ZGQmIxvIP+rY93M1T8c/dFxusdOAxj8E02NuFLDFP6DLf58I58Q/76ave0AtxD9NXBe/vnLDPy6MEUwQtcI/rNQBzRf5wT8mvKIs5DzBPxC1Zpdog8A/U5YTHh+Fvz9agkMO/wG+P1plVGzgg7w/G2xS5YX+uj9XiLVaW4C5P7Z+6OcUArg/",
          "dtype": "f8"
         },
         "yaxis": "y"
        },
        {
         "fill": "toself",
         "fillcolor": "rgba(55,126,184,0.1)",
         "hoverinfo": "skip",
         "line": {
          "color": "rgba(255,255,255,0)"
         },
         "showlegend": false,
         "type": "scatter",
         "x": {
          "bdata": "AAAAAAAAAAB7FK5H4XqUP3sUrkfheqQ/uB6F61G4rj97FK5H4Xq0P5qZmZmZmbk/uB6F61G4vj/sUbgehevBP3sUrkfhesQ/CtejcD0Kxz+amZmZmZnJPylcj8L1KMw/uB6F61G4zj+kcD0K16PQP+xRuB6F69E/MzMzMzMz0z97FK5H4XrUP8P1KFyPwtU/CtejcD0K1z9SuB6F61HYP5qZmZmZmdk/4XoUrkfh2j8pXI/C9SjcP3E9CtejcN0/uB6F61G43j8AAAAAAADgP6RwPQrXo+A/SOF6FK5H4T/sUbgehevhP4/C9Shcj+I/MzMzMzMz4z/Xo3A9CtfjP3sUrkfheuQ/H4XrUbge5T/D9Shcj8LlP2dmZmZmZuY/CtejcD0K5z+uR+F6FK7nP1K4HoXrUeg/9ihcj8L16D+amZmZmZnpPz4K16NwPeo/4XoUrkfh6j+F61G4HoXrPylcj8L1KOw/zczMzMzM7D9xPQrXo3DtPxWuR+F6FO4/uB6F61G47j9cj8L1KFzvPwAAAAAAAPA/AAAAAAAA8D9cj8L1KFzvP7gehetRuO4/Fa5H4XoU7j9xPQrXo3DtP83MzMzMzOw/KVyPwvUo7D+F61G4HoXrP+F6FK5H4eo/PgrXo3A96j+amZmZmZnpP/YoXI/C9eg/UrgehetR6D+uR+F6FK7nPwrXo3A9Cuc/Z2ZmZmZm5j/D9Shcj8LlPx+F61G4HuU/exSuR+F65D/Xo3A9CtfjPzMzMzMzM+M/j8L1KFyP4j/sUbgehevhP0jhehSuR+E/pHA9Ctej4D8AAAAAAADgP7gehetRuN4/cT0K16Nw3T8pXI/C9SjcP+F6FK5H4do/mpmZmZmZ2T9SuB6F61HYPwrXo3A9Ctc/w/UoXI/C1T97FK5H4XrUPzMzMzMzM9M/7FG4HoXr0T+kcD0K16PQP7gehetRuM4/KVyPwvUozD+amZmZmZnJPwrXo3A9Csc/exSuR+F6xD/sUbgehevBP7gehetRuL4/mpmZmZmZuT97FK5H4Xq0P7gehetRuK4/exSuR+F6pD97FK5H4XqUPwAAAAAAAAAA",
          "dtype": "f8"
         },
         "xaxis": "x",
         "y": {
          "bdata": "qjtR9bXN4T+9nKPQl7PhPyMhpZMbfuE/3sHdyn5b4T9XskaUEUfhP5mULqm5H+E/gqQPyvPk4D9HZK6chpTgPy4ksT/9KOA/hQbmPDtd3z+958vAJUzeP8pYOeLhCt0/2IMdI6vp2z/PKWGlWsTaP8bWg2Demdk/lLT5fReB2D8BtC9POXrXP7MIo+SjgdY/+kwBJluW1T/D3F55cK3UP2rPtpE+xdM//wXTl9cE0z8gdSq05EjSP0nUPrxCl9E/pPPoA5bl0D+yZ6ygYjHQP6Bn96ycYc8/WfsSlttgzj/yZ5XsRF/NP2cAvYzNYcw/o/PbbOBryz+yZUBQUY7KP69AOwCArck/pjrIjArHyD9qKLKCQO/HPxoRX4tOK8c/gmdQYMpbxj8KrxezEILFPwnkYL+irMQ//oXVZs3qwz9Cn7pq1SnDP7F3V/fBZcI/1PlO1IWlwT/CwJQMTOPAP6f51RS2J8A/xYAWdE7Fvj+WLHVYjzu9P1Eg5qdstbs/bs1GCY4luj+QirNadp64P1rTmHEfF7c/Eio4XgrtuD8ehrdaQGK6P8gKXsF917s/Y6rCMFRSvT8e2BHEbsi+P/BVCOR3IsA/eXD3GRvfwD+Kt7BMfJbBP4SvtMWpTMI/q6DLoF4Ewz9YGXQTqLvDP+DHiZCzb8Q/N7Oef24hxT/+9q8pGN7FP2ZRjALdpcY/uqCQXBxzxz+SoRbKBUfIP1STBAFLOMk/d/4Kb3dDyj/0x+/eRlPLP8kBzHh0Ycw/IxVEi/+NzT9SDm8jAMbOP05l3a8SA9A/NKCpmIaj0D9cVrDHQETRPyifRlFCL9I/xcFrL/sU0z+GNBhcGvzTPwsQbeA87tQ/FvYCeSLn1T9XerU/MRHXP+z800DnPtg/oegVls1v2T+xNb+CMrDaP6aMa2O/Adw/Nl9VEslp3T/9EBMtU+jePyffm114K+A/ZddY63/a4D/nwS4xtJjhP0LK3BY3NOI/fs8sT+K74j9/xk0RhjDjP/a65a1VheM/WXm/Asq64z8H491bN9rjP6aJ90O66eM/137BP+8A5D/l5kdHxi/kP+jQgS1fT+Q/",
          "dtype": "f8"
         },
         "yaxis": "y"
        },
        {
         "line": {
          "color": "rgb(77,175,74)",
          "width": 2
         },
         "mode": "lines",
         "name": "down",
         "type": "scatter",
         "x": {
          "bdata": "AAAAAAAAAAB7FK5H4XqUP3sUrkfheqQ/uB6F61G4rj97FK5H4Xq0P5qZmZmZmbk/uB6F61G4vj/sUbgehevBP3sUrkfhesQ/CtejcD0Kxz+amZmZmZnJPylcj8L1KMw/uB6F61G4zj+kcD0K16PQP+xRuB6F69E/MzMzMzMz0z97FK5H4XrUP8P1KFyPwtU/CtejcD0K1z9SuB6F61HYP5qZmZmZmdk/4XoUrkfh2j8pXI/C9SjcP3E9CtejcN0/uB6F61G43j8AAAAAAADgP6RwPQrXo+A/SOF6FK5H4T/sUbgehevhP4/C9Shcj+I/MzMzMzMz4z/Xo3A9CtfjP3sUrkfheuQ/H4XrUbge5T/D9Shcj8LlP2dmZmZmZuY/CtejcD0K5z+uR+F6FK7nP1K4HoXrUeg/9ihcj8L16D+amZmZmZnpPz4K16NwPeo/4XoUrkfh6j+F61G4HoXrPylcj8L1KOw/zczMzMzM7D9xPQrXo3DtPxWuR+F6FO4/uB6F61G47j9cj8L1KFzvPwAAAAAAAPA/",
          "dtype": "f8"
         },
         "xaxis": "x",
         "y": {
          "bdata": "H+e0BS8O4z9ZR0rqMPPiP5Ux8h3QveI/CmHv4Uyf4j+1A5y944niP+XbitC3aOI/pcFzrC804j/GQY2QU+HhP7XPlpxnc+E/0ra4H9zy4D/EpJtlu2LgP7oJwxvnat8/FVOVzp0q3j/qclyxzt/cP4iEO4b8its/XmJ1hHhJ2j8bPldvkx3ZP0iv5ohzAtg/MnEZc8T21j/ZzxmJ4+7VP0bspBjt5tQ/2Jv/sTUJ1D8IyRkoWzDTPyH7AmZzYtI/ArqwMAeW0T9zBY/y6MjQPy0VmSJlNtA/psN5PCRIzz8eyxj/5SPOP/CNGNxuBs0/YLCcwLPxyz99bMdRi/rKPyDtU7yNAco/RP1j9U8IyT+KDmLNaCLIP1tkHOI8VMc/nGT25lyExj9+fsMzhrPFP2WD2reb5sQ/IQOKnaAsxD/1aSj7i3HDP9DKv+H6ssI/p1S7P6r0wT+wubgjDDfBP/8CYgYqe8A/pvZgNNZsvz/zuyOw9+C9P52Zr2UiWLw/wHNkcYnPuj8AOMBw5ki5P0Y753pCwrc/",
          "dtype": "f8"
         },
         "yaxis": "y"
        },
        {
         "fill": "toself",
         "fillcolor": "rgba(77,175,74,0.1)",
         "hoverinfo": "skip",
         "line": {
          "color": "rgba(255,255,255,0)"
         },
         "showlegend": false,
         "type": "scatter",
         "x": {
          "bdata": "AAAAAAAAAAB7FK5H4XqUP3sUrkfheqQ/uB6F61G4rj97FK5H4Xq0P5qZmZmZmbk/uB6F61G4vj/sUbgehevBP3sUrkfhesQ/CtejcD0Kxz+amZmZmZnJPylcj8L1KMw/uB6F61G4zj+kcD0K16PQP+xRuB6F69E/MzMzMzMz0z97FK5H4XrUP8P1KFyPwtU/CtejcD0K1z9SuB6F61HYP5qZmZmZmdk/4XoUrkfh2j8pXI/C9SjcP3E9CtejcN0/uB6F61G43j8AAAAAAADgP6RwPQrXo+A/SOF6FK5H4T/sUbgehevhP4/C9Shcj+I/MzMzMzMz4z/Xo3A9CtfjP3sUrkfheuQ/H4XrUbge5T/D9Shcj8LlP2dmZmZmZuY/CtejcD0K5z+uR+F6FK7nP1K4HoXrUeg/9ihcj8L16D+amZmZmZnpPz4K16NwPeo/4XoUrkfh6j+F61G4HoXrPylcj8L1KOw/zczMzMzM7D9xPQrXo3DtPxWuR+F6FO4/uB6F61G47j9cj8L1KFzvPwAAAAAAAPA/AAAAAAAA8D9cj8L1KFzvP7gehetRuO4/Fa5H4XoU7j9xPQrXo3DtP83MzMzMzOw/KVyPwvUo7D+F61G4HoXrP+F6FK5H4eo/PgrXo3A96j+amZmZmZnpP/YoXI/C9eg/UrgehetR6D+uR+F6FK7nPwrXo3A9Cuc/Z2ZmZmZm5j/D9Shcj8LlPx+F61G4HuU/exSuR+F65D/Xo3A9CtfjPzMzMzMzM+M/j8L1KFyP4j/sUbgehevhP0jhehSuR+E/pHA9Ctej4D8AAAAAAADgP7gehetRuN4/cT0K16Nw3T8pXI/C9SjcP+F6FK5H4do/mpmZmZmZ2T9SuB6F61HYPwrXo3A9Ctc/w/UoXI/C1T97FK5H4XrUPzMzMzMzM9M/7FG4HoXr0T+kcD0K16PQP7gehetRuM4/KVyPwvUozD+amZmZmZnJPwrXo3A9Csc/exSuR+F6xD/sUbgehevBP7gehetRuL4/mpmZmZmZuT97FK5H4Xq0P7gehetRuK4/exSuR+F6pD97FK5H4XqUPwAAAAAAAAAA",
          "dtype": "f8"
         },
         "xaxis": "x",
         "y": {
          "bdata": "Hg5V6FrN4T/EvMUOdLXhP7cvsSQBfOE/rgBK+S1X4T8QA1otgj3hP7X0GOpCGeE/D0Mckv7i4D9UYLeAcpDgP+svU9RWJuA/uAB1Kt5Y3z/fubnc0UveP5gMTbwaDt0/iqe1SEnq2z+ezPKxVMPaPzoh/itxmdk/WwjP95CB2D8Q8IWwonzXP0abpKedh9Y/woGlR4eh1T+B2UsXmb3UPyq9mEMk2NM/UkMjclcW0z9k4goU31fSPxCwJ7mAo9E/lzBpCM3v0D93OaYMnzrQPx2vtNsrb88/8nlGAUxpzj96TMc97mLNPxVqKSheYsw/a/IJAyJoyz9lPca2fonKP/aXxS5Yqck/cDngPP3GyD/AT5BDSO/HP8L8IIioI8c/EI2pvxxQxj/b1pdhQnbFPysgiH7zocQ/RaSwmC3fwz+5s/BLexrDPwrGVyV+UsI/T3BT3UOLwT/Ki/s9fMXAPzfQrcySBsA/MJbNSaN9vj+9qzTP4+q8P/6WryLBXLs/ENkOE3fLuT8rJGMtKjy4P1TYcGjFrLY/OJ5djb/XuD/VSx20olW6P3AOus+b07s/PJyvqINTvT8pzBKRC9e+P44reo8ELsA/xzUWQMHvwD+W53UJnKjBP/84I6IQXsI/ls8nnncTwz8xIGCqnMjDP/1hY6ITesQ/n+Ys8UMrxT8hJu8FyvDFPyg8Qw6duMY/9MsXPNGExz9UzTNXiVXIPxjB562iSck/SkLiScNZyj+Vm8jsl2vLP1VuL35Fe8w/y7EHkH+qzT/CSWrA3eTOP62G1jt+E9A/zNJXVzS10D9v0XfYMlfRP21D+FhBPNI/MkbeEmYh0z+sryg81wjUP1702/ET/NQ/Yhux7bX11T8xxuf6LSDXP6JgjZ4BTNg/SsMoakl92T8mjCguhL7aP2G8GxFgEdw/1ud44Id83T82GcawSPzeP1B/Oip5NeA/boOcvdnj4D+YbNrcjZ/hP0jtNipJOeI/f2/aZHjA4j84I2OgNDLjPztAy8ZgheM/FcP8tiy44z9aBN5NRdbjP2bBlMpr5+M/czMzF5//4z/u0c7F7TDkPyDAFCMDT+Q/",
          "dtype": "f8"
         },
         "yaxis": "y"
        },
        {
         "line": {
          "color": "rgb(152,78,163)",
          "width": 2
         },
         "mode": "lines",
         "name": "up",
         "type": "scatter",
         "x": {
          "bdata": "AAAAAAAAAAB7FK5H4XqUP3sUrkfheqQ/uB6F61G4rj97FK5H4Xq0P5qZmZmZmbk/uB6F61G4vj/sUbgehevBP3sUrkfhesQ/CtejcD0Kxz+amZmZmZnJPylcj8L1KMw/uB6F61G4zj+kcD0K16PQP+xRuB6F69E/MzMzMzMz0z97FK5H4XrUP8P1KFyPwtU/CtejcD0K1z9SuB6F61HYP5qZmZmZmdk/4XoUrkfh2j8pXI/C9SjcP3E9CtejcN0/uB6F61G43j8AAAAAAADgP6RwPQrXo+A/SOF6FK5H4T/sUbgehevhP4/C9Shcj+I/MzMzMzMz4z/Xo3A9CtfjP3sUrkfheuQ/H4XrUbge5T/D9Shcj8LlP2dmZmZmZuY/CtejcD0K5z+uR+F6FK7nP1K4HoXrUeg/9ihcj8L16D+amZmZmZnpPz4K16NwPeo/4XoUrkfh6j+F61G4HoXrPylcj8L1KOw/zczMzMzM7D9xPQrXo3DtPxWuR+F6FO4/uB6F61G47j9cj8L1KFzvPwAAAAAAAPA/",
          "dtype": "f8"
         },
         "xaxis": "x",
         "y": {
          "bdata": "Hs0jFAYP4z8ew1H1v/XiPyrGC/wlweI/WqpVxJ6i4j9aVu6s5Y3iP/Ypt2knaeI/AOK2jHkv4j88nnU4fdzhP3RT7bX3buE/fqfGDuPv4D8XQCkplGHgP7CfkhbCad8/kv9tnCgr3j92cWpuNuLcP+5O6gzNjts/QPsvzJNO2j9S6l5nTiTZP81Cm+pKCdg/RewZlGf71j+I/blYqfDVP4I3mhcz6NQ/9Q88nZYL1D/1IiG+hjPTP7VwCMHIZNI/JxK5zgSX0T/13QT6AsjQP73x+jGmM9A/mz9wxUI/zz9duerX8xjOP63g9bN8+Mw/JlGDdHnhyz+DMk+ZsOjKP+rGpCJO78k/AuTrbTP3yD94muw4GhTIP2NYk0fSS8c/htwJKCyCxj+JGvC71rfFP/s8hv6D8MQ/3Wjy/T41xD//jXke0HLDP3G3GtfMscI/MhlAVW/uwT+nwX7rtSzBPx4IXQa5a8A/GucRVz5Xvz9jFLBC8tG9P55TaQBWTrw/Wq6ZzBnLuj+v4EryZke5PzvAaniUw7c/",
          "dtype": "f8"
         },
         "yaxis": "y"
        },
        {
         "fill": "toself",
         "fillcolor": "rgba(152,78,163,0.1)",
         "hoverinfo": "skip",
         "line": {
          "color": "rgba(255,255,255,0)"
         },
         "showlegend": false,
         "type": "scatter",
         "x": {
          "bdata": "AAAAAAAAAAB7FK5H4XqUP3sUrkfheqQ/uB6F61G4rj97FK5H4Xq0P5qZmZmZmbk/uB6F61G4vj/sUbgehevBP3sUrkfhesQ/CtejcD0Kxz+amZmZmZnJPylcj8L1KMw/uB6F61G4zj+kcD0K16PQP+xRuB6F69E/MzMzMzMz0z97FK5H4XrUP8P1KFyPwtU/CtejcD0K1z9SuB6F61HYP5qZmZmZmdk/4XoUrkfh2j8pXI/C9SjcP3E9CtejcN0/uB6F61G43j8AAAAAAADgP6RwPQrXo+A/SOF6FK5H4T/sUbgehevhP4/C9Shcj+I/MzMzMzMz4z/Xo3A9CtfjP3sUrkfheuQ/H4XrUbge5T/D9Shcj8LlP2dmZmZmZuY/CtejcD0K5z+uR+F6FK7nP1K4HoXrUeg/9ihcj8L16D+amZmZmZnpPz4K16NwPeo/4XoUrkfh6j+F61G4HoXrPylcj8L1KOw/zczMzMzM7D9xPQrXo3DtPxWuR+F6FO4/uB6F61G47j9cj8L1KFzvPwAAAAAAAPA/AAAAAAAA8D9cj8L1KFzvP7gehetRuO4/Fa5H4XoU7j9xPQrXo3DtP83MzMzMzOw/KVyPwvUo7D+F61G4HoXrP+F6FK5H4eo/PgrXo3A96j+amZmZmZnpP/YoXI/C9eg/UrgehetR6D+uR+F6FK7nPwrXo3A9Cuc/Z2ZmZmZm5j/D9Shcj8LlPx+F61G4HuU/exSuR+F65D/Xo3A9CtfjPzMzMzMzM+M/j8L1KFyP4j/sUbgehevhP0jhehSuR+E/pHA9Ctej4D8AAAAAAADgP7gehetRuN4/cT0K16Nw3T8pXI/C9SjcP+F6FK5H4do/mpmZmZmZ2T9SuB6F61HYPwrXo3A9Ctc/w/UoXI/C1T97FK5H4XrUPzMzMzMzM9M/7FG4HoXr0T+kcD0K16PQP7gehetRuM4/KVyPwvUozD+amZmZmZnJPwrXo3A9Csc/exSuR+F6xD/sUbgehevBP7gehetRuL4/mpmZmZmZuT97FK5H4Xq0P7gehetRuK4/exSuR+F6pD97FK5H4XqUPwAAAAAAAAAA",
          "dtype": "f8"
         },
         "xaxis": "x",
         "y": {
          "bdata": "Bse9GfvN4T9NKe2WjLjhPzT6w5Z7gOE/ieNjycRb4T9q6LfH4kPhP8D6PpeeG+E/7I2kM1/g4D+CciP/c4/gPyCMWCUwJuA/67AASgtb3z92yLgNF1LeP5+hcDvsFN0/G/HyvFLy2z8GIwBuZMvaP3BY8/c7oNk/3+zNA0SG2D9VLNIg0n/XPyaH5iRGiNY/+yOb1hye1T9bqQmfcrbUPygpdi/2ztM/c3wp9+IN0z/tb0oEU1DSP+I4lN6om9E/HYvOwpvn0D9l2iQnGTLQP/ha+b94XM8/6iK7KCNVzj99rrwaXU/NP84Fa3NlTsw/x8vgmeRTyz8tTDEsL3nKP7TomdXEnsk/xRbdiL7EyD+Fm+7zb+7HP52UsKkzIcc/5nVrT09Oxj8kbgjCZHjFPx1zFL6Ep8Q/O56uA3rjwz9uw3bGTRvDP+qxmVTqU8I/n4ykj5eMwT9KLJDrw8TAPzeG5P5u/78/h37lx0F9vj+37ZDOK+y8P5rk8kfjYbs/jaLm6VTUuT8CspmC50W4PyTCBF3ctrY/Ur7Qk0zQuD9cD/xh5ki6Pye6TK/ewbs/osLfuMg6vT8PO8+2uLe+P9YnH3OdGMA/IM1HjbrXwD8EV23rp5TBP8Wl2xpHUMI/+LybWa8Pwz+QWHx2UsrDP38zNvgDh8Q/2Qb4PoM5xT/uxte1SPfFPyZDqAAJtsY/KRx25XB2xz9rmep9xDnIPz+x+lKoKck/IKWvb9c/yj/ZGG0GMljLP4XWJU8Ob8w/jLuA9JOizT89xBiViuLOPyauEjGxFNA//jX5AxC50D+F4eTM7F3RPzGZo9ptRtI/iKh8o+gt0z/91fd3uhbUP3ejTkNKCdU/3EW+/28B1j+1UWoS4CrXP4+0mFGyWNg/dP5PsE+K2T9PqOutysjaP6EJkpTjFtw/bEXhIV593T/mv9RuCPnePwSH9D3/MeA/4E7a+Evf4D/zG3bLHJrhP4f2jHhAMuI/yBqCRr+34j/2ycdxhinjPxQ2yeWTfuM/LFkvPLC24z9KxCSS6NfjPytxR7946eM/IJJTYdAB5D/vXLZT8zLkPzbTiQ4RUOQ/",
          "dtype": "f8"
         },
         "yaxis": "y"
        },
        {
         "error_x": {
          "array": {
           "bdata": "6arKHfDBlz+w7E6Q4QqXP3RZRYwcyJY/00B2oxZxlj8=",
           "dtype": "f8"
          },
          "type": "data"
         },
         "marker": {
          "color": "skyblue",
          "line": {
           "color": "black",
           "width": 1
          }
         },
         "orientation": "h",
         "showlegend": false,
         "type": "bar",
         "x": {
          "bdata": "lvdMRwW51T+z/2snk53VP/EPIlJrZtU/t5TX16te1T8=",
          "dtype": "f8"
         },
         "xaxis": "x2",
         "y": [
          "0.5",
          "up",
          "down",
          "0.75"
         ],
         "yaxis": "y2"
        }
       ],
       "layout": {
        "font": {
         "size": 16
        },
        "height": 400,
        "legend": {
         "font": {
          "size": 16
         },
         "title": {
          "text": "Optimizers"
         }
        },
        "margin": {
         "b": 50,
         "l": 50,
         "r": 50,
         "t": 60
        },
        "template": {
         "data": {
          "bar": [
           {
            "error_x": {
             "color": "#2a3f5f"
            },
            "error_y": {
             "color": "#2a3f5f"
            },
            "marker": {
             "line": {
              "color": "white",
              "width": 0.5
             },
             "pattern": {
              "fillmode": "overlay",
              "size": 10,
              "solidity": 0.2
             }
            },
            "type": "bar"
           }
          ],
          "barpolar": [
           {
            "marker": {
             "line": {
              "color": "white",
              "width": 0.5
             },
             "pattern": {
              "fillmode": "overlay",
              "size": 10,
              "solidity": 0.2
             }
            },
            "type": "barpolar"
           }
          ],
          "carpet": [
           {
            "aaxis": {
             "endlinecolor": "#2a3f5f",
             "gridcolor": "#C8D4E3",
             "linecolor": "#C8D4E3",
             "minorgridcolor": "#C8D4E3",
             "startlinecolor": "#2a3f5f"
            },
            "baxis": {
             "endlinecolor": "#2a3f5f",
             "gridcolor": "#C8D4E3",
             "linecolor": "#C8D4E3",
             "minorgridcolor": "#C8D4E3",
             "startlinecolor": "#2a3f5f"
            },
            "type": "carpet"
           }
          ],
          "choropleth": [
           {
            "colorbar": {
             "outlinewidth": 0,
             "ticks": ""
            },
            "type": "choropleth"
           }
          ],
          "contour": [
           {
            "colorbar": {
             "outlinewidth": 0,
             "ticks": ""
            },
            "colorscale": [
             [
              0,
              "#0d0887"
             ],
             [
              0.1111111111111111,
              "#46039f"
             ],
             [
              0.2222222222222222,
              "#7201a8"
             ],
             [
              0.3333333333333333,
              "#9c179e"
             ],
             [
              0.4444444444444444,
              "#bd3786"
             ],
             [
              0.5555555555555556,
              "#d8576b"
             ],
             [
              0.6666666666666666,
              "#ed7953"
             ],
             [
              0.7777777777777778,
              "#fb9f3a"
             ],
             [
              0.8888888888888888,
              "#fdca26"
             ],
             [
              1,
              "#f0f921"
             ]
            ],
            "type": "contour"
           }
          ],
          "contourcarpet": [
           {
            "colorbar": {
             "outlinewidth": 0,
             "ticks": ""
            },
            "type": "contourcarpet"
           }
          ],
          "heatmap": [
           {
            "colorbar": {
             "outlinewidth": 0,
             "ticks": ""
            },
            "colorscale": [
             [
              0,
              "#0d0887"
             ],
             [
              0.1111111111111111,
              "#46039f"
             ],
             [
              0.2222222222222222,
              "#7201a8"
             ],
             [
              0.3333333333333333,
              "#9c179e"
             ],
             [
              0.4444444444444444,
              "#bd3786"
             ],
             [
              0.5555555555555556,
              "#d8576b"
             ],
             [
              0.6666666666666666,
              "#ed7953"
             ],
             [
              0.7777777777777778,
              "#fb9f3a"
             ],
             [
              0.8888888888888888,
              "#fdca26"
             ],
             [
              1,
              "#f0f921"
             ]
            ],
            "type": "heatmap"
           }
          ],
          "histogram": [
           {
            "marker": {
             "pattern": {
              "fillmode": "overlay",
              "size": 10,
              "solidity": 0.2
             }
            },
            "type": "histogram"
           }
          ],
          "histogram2d": [
           {
            "colorbar": {
             "outlinewidth": 0,
             "ticks": ""
            },
            "colorscale": [
             [
              0,
              "#0d0887"
             ],
             [
              0.1111111111111111,
              "#46039f"
             ],
             [
              0.2222222222222222,
              "#7201a8"
             ],
             [
              0.3333333333333333,
              "#9c179e"
             ],
             [
              0.4444444444444444,
              "#bd3786"
             ],
             [
              0.5555555555555556,
              "#d8576b"
             ],
             [
              0.6666666666666666,
              "#ed7953"
             ],
             [
              0.7777777777777778,
              "#fb9f3a"
             ],
             [
              0.8888888888888888,
              "#fdca26"
             ],
             [
              1,
              "#f0f921"
             ]
            ],
            "type": "histogram2d"
           }
          ],
          "histogram2dcontour": [
           {
            "colorbar": {
             "outlinewidth": 0,
             "ticks": ""
            },
            "colorscale": [
             [
              0,
              "#0d0887"
             ],
             [
              0.1111111111111111,
              "#46039f"
             ],
             [
              0.2222222222222222,
              "#7201a8"
             ],
             [
              0.3333333333333333,
              "#9c179e"
             ],
             [
              0.4444444444444444,
              "#bd3786"
             ],
             [
              0.5555555555555556,
              "#d8576b"
             ],
             [
              0.6666666666666666,
              "#ed7953"
             ],
             [
              0.7777777777777778,
              "#fb9f3a"
             ],
             [
              0.8888888888888888,
              "#fdca26"
             ],
             [
              1,
              "#f0f921"
             ]
            ],
            "type": "histogram2dcontour"
           }
          ],
          "mesh3d": [
           {
            "colorbar": {
             "outlinewidth": 0,
             "ticks": ""
            },
            "type": "mesh3d"
           }
          ],
          "parcoords": [
           {
            "line": {
             "colorbar": {
              "outlinewidth": 0,
              "ticks": ""
             }
            },
            "type": "parcoords"
           }
          ],
          "pie": [
           {
            "automargin": true,
            "type": "pie"
           }
          ],
          "scatter": [
           {
            "fillpattern": {
             "fillmode": "overlay",
             "size": 10,
             "solidity": 0.2
            },
            "type": "scatter"
           }
          ],
          "scatter3d": [
           {
            "line": {
             "colorbar": {
              "outlinewidth": 0,
              "ticks": ""
             }
            },
            "marker": {
             "colorbar": {
              "outlinewidth": 0,
              "ticks": ""
             }
            },
            "type": "scatter3d"
           }
          ],
          "scattercarpet": [
           {
            "marker": {
             "colorbar": {
              "outlinewidth": 0,
              "ticks": ""
             }
            },
            "type": "scattercarpet"
           }
          ],
          "scattergeo": [
           {
            "marker": {
             "colorbar": {
              "outlinewidth": 0,
              "ticks": ""
             }
            },
            "type": "scattergeo"
           }
          ],
          "scattergl": [
           {
            "marker": {
             "colorbar": {
              "outlinewidth": 0,
              "ticks": ""
             }
            },
            "type": "scattergl"
           }
          ],
          "scattermap": [
           {
            "marker": {
             "colorbar": {
              "outlinewidth": 0,
              "ticks": ""
             }
            },
            "type": "scattermap"
           }
          ],
          "scattermapbox": [
           {
            "marker": {
             "colorbar": {
              "outlinewidth": 0,
              "ticks": ""
             }
            },
            "type": "scattermapbox"
           }
          ],
          "scatterpolar": [
           {
            "marker": {
             "colorbar": {
              "outlinewidth": 0,
              "ticks": ""
             }
            },
            "type": "scatterpolar"
           }
          ],
          "scatterpolargl": [
           {
            "marker": {
             "colorbar": {
              "outlinewidth": 0,
              "ticks": ""
             }
            },
            "type": "scatterpolargl"
           }
          ],
          "scatterternary": [
           {
            "marker": {
             "colorbar": {
              "outlinewidth": 0,
              "ticks": ""
             }
            },
            "type": "scatterternary"
           }
          ],
          "surface": [
           {
            "colorbar": {
             "outlinewidth": 0,
             "ticks": ""
            },
            "colorscale": [
             [
              0,
              "#0d0887"
             ],
             [
              0.1111111111111111,
              "#46039f"
             ],
             [
              0.2222222222222222,
              "#7201a8"
             ],
             [
              0.3333333333333333,
              "#9c179e"
             ],
             [
              0.4444444444444444,
              "#bd3786"
             ],
             [
              0.5555555555555556,
              "#d8576b"
             ],
             [
              0.6666666666666666,
              "#ed7953"
             ],
             [
              0.7777777777777778,
              "#fb9f3a"
             ],
             [
              0.8888888888888888,
              "#fdca26"
             ],
             [
              1,
              "#f0f921"
             ]
            ],
            "type": "surface"
           }
          ],
          "table": [
           {
            "cells": {
             "fill": {
              "color": "#EBF0F8"
             },
             "line": {
              "color": "white"
             }
            },
            "header": {
             "fill": {
              "color": "#C8D4E3"
             },
             "line": {
              "color": "white"
             }
            },
            "type": "table"
           }
          ]
         },
         "layout": {
          "annotationdefaults": {
           "arrowcolor": "#2a3f5f",
           "arrowhead": 0,
           "arrowwidth": 1
          },
          "autotypenumbers": "strict",
          "coloraxis": {
           "colorbar": {
            "outlinewidth": 0,
            "ticks": ""
           }
          },
          "colorscale": {
           "diverging": [
            [
             0,
             "#8e0152"
            ],
            [
             0.1,
             "#c51b7d"
            ],
            [
             0.2,
             "#de77ae"
            ],
            [
             0.3,
             "#f1b6da"
            ],
            [
             0.4,
             "#fde0ef"
            ],
            [
             0.5,
             "#f7f7f7"
            ],
            [
             0.6,
             "#e6f5d0"
            ],
            [
             0.7,
             "#b8e186"
            ],
            [
             0.8,
             "#7fbc41"
            ],
            [
             0.9,
             "#4d9221"
            ],
            [
             1,
             "#276419"
            ]
           ],
           "sequential": [
            [
             0,
             "#0d0887"
            ],
            [
             0.1111111111111111,
             "#46039f"
            ],
            [
             0.2222222222222222,
             "#7201a8"
            ],
            [
             0.3333333333333333,
             "#9c179e"
            ],
            [
             0.4444444444444444,
             "#bd3786"
            ],
            [
             0.5555555555555556,
             "#d8576b"
            ],
            [
             0.6666666666666666,
             "#ed7953"
            ],
            [
             0.7777777777777778,
             "#fb9f3a"
            ],
            [
             0.8888888888888888,
             "#fdca26"
            ],
            [
             1,
             "#f0f921"
            ]
           ],
           "sequentialminus": [
            [
             0,
             "#0d0887"
            ],
            [
             0.1111111111111111,
             "#46039f"
            ],
            [
             0.2222222222222222,
             "#7201a8"
            ],
            [
             0.3333333333333333,
             "#9c179e"
            ],
            [
             0.4444444444444444,
             "#bd3786"
            ],
            [
             0.5555555555555556,
             "#d8576b"
            ],
            [
             0.6666666666666666,
             "#ed7953"
            ],
            [
             0.7777777777777778,
             "#fb9f3a"
            ],
            [
             0.8888888888888888,
             "#fdca26"
            ],
            [
             1,
             "#f0f921"
            ]
           ]
          },
          "colorway": [
           "#636efa",
           "#EF553B",
           "#00cc96",
           "#ab63fa",
           "#FFA15A",
           "#19d3f3",
           "#FF6692",
           "#B6E880",
           "#FF97FF",
           "#FECB52"
          ],
          "font": {
           "color": "#2a3f5f"
          },
          "geo": {
           "bgcolor": "white",
           "lakecolor": "white",
           "landcolor": "white",
           "showlakes": true,
           "showland": true,
           "subunitcolor": "#C8D4E3"
          },
          "hoverlabel": {
           "align": "left"
          },
          "hovermode": "closest",
          "mapbox": {
           "style": "light"
          },
          "paper_bgcolor": "white",
          "plot_bgcolor": "white",
          "polar": {
           "angularaxis": {
            "gridcolor": "#EBF0F8",
            "linecolor": "#EBF0F8",
            "ticks": ""
           },
           "bgcolor": "white",
           "radialaxis": {
            "gridcolor": "#EBF0F8",
            "linecolor": "#EBF0F8",
            "ticks": ""
           }
          },
          "scene": {
           "xaxis": {
            "backgroundcolor": "white",
            "gridcolor": "#DFE8F3",
            "gridwidth": 2,
            "linecolor": "#EBF0F8",
            "showbackground": true,
            "ticks": "",
            "zerolinecolor": "#EBF0F8"
           },
           "yaxis": {
            "backgroundcolor": "white",
            "gridcolor": "#DFE8F3",
            "gridwidth": 2,
            "linecolor": "#EBF0F8",
            "showbackground": true,
            "ticks": "",
            "zerolinecolor": "#EBF0F8"
           },
           "zaxis": {
            "backgroundcolor": "white",
            "gridcolor": "#DFE8F3",
            "gridwidth": 2,
            "linecolor": "#EBF0F8",
            "showbackground": true,
            "ticks": "",
            "zerolinecolor": "#EBF0F8"
           }
          },
          "shapedefaults": {
           "line": {
            "color": "#2a3f5f"
           }
          },
          "ternary": {
           "aaxis": {
            "gridcolor": "#DFE8F3",
            "linecolor": "#A2B1C6",
            "ticks": ""
           },
           "baxis": {
            "gridcolor": "#DFE8F3",
            "linecolor": "#A2B1C6",
            "ticks": ""
           },
           "bgcolor": "white",
           "caxis": {
            "gridcolor": "#DFE8F3",
            "linecolor": "#A2B1C6",
            "ticks": ""
           }
          },
          "title": {
           "x": 0.05
          },
          "xaxis": {
           "automargin": true,
           "gridcolor": "#EBF0F8",
           "linecolor": "#EBF0F8",
           "ticks": "",
           "title": {
            "standoff": 15
           },
           "zerolinecolor": "#EBF0F8",
           "zerolinewidth": 2
          },
          "yaxis": {
           "automargin": true,
           "gridcolor": "#EBF0F8",
           "linecolor": "#EBF0F8",
           "ticks": "",
           "title": {
            "standoff": 15
           },
           "zerolinecolor": "#EBF0F8",
           "zerolinewidth": 2
          }
         }
        },
        "width": 1200,
        "xaxis": {
         "anchor": "y",
         "domain": [
          0,
          0.51
         ],
         "title": {
          "text": "Normalized Trials"
         }
        },
        "xaxis2": {
         "anchor": "y2",
         "domain": [
          0.66,
          1
         ],
         "title": {
          "text": "AUC"
         }
        },
        "yaxis": {
         "anchor": "x",
         "domain": [
          0,
          1
         ],
         "title": {
          "text": "Normalized Inc-Performance"
         }
        },
        "yaxis2": {
         "anchor": "x2",
         "domain": [
          0,
          1
         ],
         "title": {
          "text": "Optimizer"
         }
        }
       }
      }
     },
     "metadata": {},
     "output_type": "display_data"
    }
   ],
   "source": [
    "# Which thresholding?\n",
    "plot_one_thing('thresh')"
   ]
  },
  {
   "cell_type": "code",
   "execution_count": 71,
   "id": "a0435a60",
   "metadata": {},
   "outputs": [
    {
     "name": "stderr",
     "output_type": "stream",
     "text": [
      "/home/daphne/Code/hpi_parego/CARP-S/carps/analysis/generate_report.py:276: UserWarning:\n",
      "\n",
      "Result is not significant and results of the plot may be misleading!\n",
      "\n",
      "/home/daphne/Code/hpi_parego/CARP-S/carps/analysis/run_autorank.py:322: FutureWarning:\n",
      "\n",
      "Series.__getitem__ treating keys as positions is deprecated. In a future version, integer keys will always be treated as labels (consistent with DataFrame behavior). To access a value by position, use `ser.iloc[pos]`\n",
      "\n",
      "/home/daphne/Code/hpi_parego/CARP-S/carps/analysis/run_autorank.py:421: UserWarning:\n",
      "\n",
      "FigureCanvasAgg is non-interactive, and thus cannot be shown\n",
      "\n",
      "/home/daphne/Code/hpi_parego/CARP-S/carps/analysis/run_autorank.py:198: UserWarning:\n",
      "\n",
      "Result is not significant and results of the plot may be misleading!\n",
      "\n"
     ]
    },
    {
     "data": {
      "text/html": [
       "<pre style=\"white-space:pre;overflow-x:auto;line-height:normal;font-family:Menlo,'DejaVu Sans Mono',consolas,'Courier New',monospace\"><span style=\"color: #7fbfbf; text-decoration-color: #7fbfbf\">[10:20:36] </span><span style=\"color: #000080; text-decoration-color: #000080\">INFO    </span> Create dataframe for neat plotting by aligning x-axis <span style=\"color: #800080; text-decoration-color: #800080\">/</span> interpolating        <a href=\"file:///home/daphne/Code/hpi_parego/CARP-S/carps/analysis/gather_data.py\" target=\"_blank\"><span style=\"color: #7f7f7f; text-decoration-color: #7f7f7f\">gather_data.py</span></a><span style=\"color: #7f7f7f; text-decoration-color: #7f7f7f\">:</span><a href=\"file:///home/daphne/Code/hpi_parego/CARP-S/carps/analysis/gather_data.py#725\" target=\"_blank\"><span style=\"color: #7f7f7f; text-decoration-color: #7f7f7f\">725</span></a>\n",
       "<span style=\"color: #7fbfbf; text-decoration-color: #7fbfbf\">           </span>         budget.                                                                      <span style=\"color: #7f7f7f; text-decoration-color: #7f7f7f\">                  </span>\n",
       "</pre>\n"
      ],
      "text/plain": [
       "\u001b[2;36m[10:20:36]\u001b[0m\u001b[2;36m \u001b[0m\u001b[34mINFO    \u001b[0m Create dataframe for neat plotting by aligning x-axis \u001b[35m/\u001b[0m interpolating        \u001b]8;id=125005;file:///home/daphne/Code/hpi_parego/CARP-S/carps/analysis/gather_data.py\u001b\\\u001b[2mgather_data.py\u001b[0m\u001b]8;;\u001b\\\u001b[2m:\u001b[0m\u001b]8;id=654237;file:///home/daphne/Code/hpi_parego/CARP-S/carps/analysis/gather_data.py#725\u001b\\\u001b[2m725\u001b[0m\u001b]8;;\u001b\\\n",
       "\u001b[2;36m           \u001b[0m         budget.                                                                      \u001b[2m                  \u001b[0m\n"
      ]
     },
     "metadata": {},
     "output_type": "display_data"
    },
    {
     "name": "stderr",
     "output_type": "stream",
     "text": [
      "/home/daphne/Code/hpi_parego/CARP-S/carps/analysis/generate_report.py:108: UserWarning:\n",
      "\n",
      "Result is not significant and results of the plot may be misleading!\n",
      "\n",
      "/home/daphne/Code/hpi_parego/CARP-S/carps/analysis/generate_report.py:108: UserWarning:\n",
      "\n",
      "Result is not significant and results of the plot may be misleading!\n",
      "\n",
      "/home/daphne/Code/hpi_parego/CARP-S/carps/analysis/generate_report.py:108: UserWarning:\n",
      "\n",
      "Result is not significant and results of the plot may be misleading!\n",
      "\n",
      "/home/daphne/Code/hpi_parego/CARP-S/carps/analysis/generate_report.py:108: UserWarning:\n",
      "\n",
      "Result is not significant and results of the plot may be misleading!\n",
      "\n",
      "/home/daphne/Code/hpi_parego/CARP-S/carps/analysis/generate_report.py:108: UserWarning:\n",
      "\n",
      "Result is not significant and results of the plot may be misleading!\n",
      "\n",
      "/home/daphne/Code/hpi_parego/CARP-S/carps/analysis/generate_report.py:108: UserWarning:\n",
      "\n",
      "Result is not significant and results of the plot may be misleading!\n",
      "\n",
      "/home/daphne/Code/hpi_parego/CARP-S/carps/analysis/generate_report.py:108: UserWarning:\n",
      "\n",
      "Result is not significant and results of the plot may be misleading!\n",
      "\n",
      "/home/daphne/Code/hpi_parego/CARP-S/carps/analysis/generate_report.py:108: UserWarning:\n",
      "\n",
      "Result is not significant and results of the plot may be misleading!\n",
      "\n"
     ]
    },
    {
     "name": "stdout",
     "output_type": "stream",
     "text": [
      "['False' 'constant' 'cs_proba_hpi' 'distribution']\n"
     ]
    },
    {
     "name": "stderr",
     "output_type": "stream",
     "text": [
      "/tmp/ipykernel_4800/1961929167.py:25: DeprecationWarning:\n",
      "\n",
      "DataFrameGroupBy.apply operated on the grouping columns. This behavior is deprecated, and in a future version of pandas the grouping columns will be excluded from the operation. Either pass `include_groups=False` to exclude the groupings or explicitly select the grouping columns after groupby to silence this warning.\n",
      "\n"
     ]
    },
    {
     "data": {
      "application/vnd.plotly.v1+json": {
       "config": {
        "plotlyServerURL": "https://plot.ly"
       },
       "data": [
        {
         "line": {
          "color": "rgb(228,26,28)",
          "width": 2
         },
         "mode": "lines",
         "name": "False",
         "type": "scatter",
         "x": {
          "bdata": "AAAAAAAAAAB7FK5H4XqUP3sUrkfheqQ/uB6F61G4rj97FK5H4Xq0P5qZmZmZmbk/uB6F61G4vj/sUbgehevBP3sUrkfhesQ/CtejcD0Kxz+amZmZmZnJPylcj8L1KMw/uB6F61G4zj+kcD0K16PQP+xRuB6F69E/MzMzMzMz0z97FK5H4XrUP8P1KFyPwtU/CtejcD0K1z9SuB6F61HYP5qZmZmZmdk/4XoUrkfh2j8pXI/C9SjcP3E9CtejcN0/uB6F61G43j8AAAAAAADgP6RwPQrXo+A/SOF6FK5H4T/sUbgehevhP4/C9Shcj+I/MzMzMzMz4z/Xo3A9CtfjP3sUrkfheuQ/H4XrUbge5T/D9Shcj8LlP2dmZmZmZuY/CtejcD0K5z+uR+F6FK7nP1K4HoXrUeg/9ihcj8L16D+amZmZmZnpPz4K16NwPeo/4XoUrkfh6j+F61G4HoXrPylcj8L1KOw/zczMzMzM7D9xPQrXo3DtPxWuR+F6FO4/uB6F61G47j9cj8L1KFzvPwAAAAAAAPA/",
          "dtype": "f8"
         },
         "xaxis": "x",
         "y": {
          "bdata": "1md9qggP4z/mENxozQXjP6jD7Hdgx+I/zropQLCl4j+LnV4q147iPyIqjW0HbuI/5v5CXuU64j+axFYyGOrhPzF0vxqEf+E/WCM7DE8D4T/wQsPENXjgP8YG5OkYnd8/1hQQMABr3j+QX0VxAindP5qGrBMG1ts/1Sv4+0KY2j8L7DbbsHHZP1WHOMrSXNg/waVXBWRY1z+YZA36kFbWP0yqBYkaVdU/FOn515J51D+PEGhV6KHTP4PnhTkC0NI/3i5PJUP+0T+rnJr+1irRP3fa7HLIltA/RPFW4EID0D8eGylODeHOP+IXA0J/ws0/EqVfkjiszD86QHc4TbXLPxYwE3o6vMo/BS5ZFDzDyT/23LjW4t3IPy1D2/JLEsg/nugbWRVDxz+BRYxptG/GPwPZlEuopcU/io08+1TqxD+63RyPCyzEP2d89/RmXsM/FV0FVsGIwj9+JkPI767BP5NfU23k4cA/rM/eDM8HwD9WEYRsF16+P+4XPUfZpLw/lhW/m8T3uj+MNgawkU25P7VSe8s2o7c/",
          "dtype": "f8"
         },
         "yaxis": "y"
        },
        {
         "fill": "toself",
         "fillcolor": "rgba(228,26,28,0.1)",
         "hoverinfo": "skip",
         "line": {
          "color": "rgba(255,255,255,0)"
         },
         "showlegend": false,
         "type": "scatter",
         "x": {
          "bdata": "AAAAAAAAAAB7FK5H4XqUP3sUrkfheqQ/uB6F61G4rj97FK5H4Xq0P5qZmZmZmbk/uB6F61G4vj/sUbgehevBP3sUrkfhesQ/CtejcD0Kxz+amZmZmZnJPylcj8L1KMw/uB6F61G4zj+kcD0K16PQP+xRuB6F69E/MzMzMzMz0z97FK5H4XrUP8P1KFyPwtU/CtejcD0K1z9SuB6F61HYP5qZmZmZmdk/4XoUrkfh2j8pXI/C9SjcP3E9CtejcN0/uB6F61G43j8AAAAAAADgP6RwPQrXo+A/SOF6FK5H4T/sUbgehevhP4/C9Shcj+I/MzMzMzMz4z/Xo3A9CtfjP3sUrkfheuQ/H4XrUbge5T/D9Shcj8LlP2dmZmZmZuY/CtejcD0K5z+uR+F6FK7nP1K4HoXrUeg/9ihcj8L16D+amZmZmZnpPz4K16NwPeo/4XoUrkfh6j+F61G4HoXrPylcj8L1KOw/zczMzMzM7D9xPQrXo3DtPxWuR+F6FO4/uB6F61G47j9cj8L1KFzvPwAAAAAAAPA/AAAAAAAA8D9cj8L1KFzvP7gehetRuO4/Fa5H4XoU7j9xPQrXo3DtP83MzMzMzOw/KVyPwvUo7D+F61G4HoXrP+F6FK5H4eo/PgrXo3A96j+amZmZmZnpP/YoXI/C9eg/UrgehetR6D+uR+F6FK7nPwrXo3A9Cuc/Z2ZmZmZm5j/D9Shcj8LlPx+F61G4HuU/exSuR+F65D/Xo3A9CtfjPzMzMzMzM+M/j8L1KFyP4j/sUbgehevhP0jhehSuR+E/pHA9Ctej4D8AAAAAAADgP7gehetRuN4/cT0K16Nw3T8pXI/C9SjcP+F6FK5H4do/mpmZmZmZ2T9SuB6F61HYPwrXo3A9Ctc/w/UoXI/C1T97FK5H4XrUPzMzMzMzM9M/7FG4HoXr0T+kcD0K16PQP7gehetRuM4/KVyPwvUozD+amZmZmZnJPwrXo3A9Csc/exSuR+F6xD/sUbgehevBP7gehetRuL4/mpmZmZmZuT97FK5H4Xq0P7gehetRuK4/exSuR+F6pD97FK5H4XqUPwAAAAAAAAAA",
          "dtype": "f8"
         },
         "xaxis": "x",
         "y": {
          "bdata": "wi+BtuzN4T/gsI+0S8bhP/u/4YG1h+E/o9UrCCtf4T/bzzjQRUPhP5x7YJE7H+E/YxZn1CDt4D/duoVlBJ7gP4Dwyo2SOeA/SiKwYG+L3z/mxioU1I7ePwgyUR/4Wt0/emkNpjBG3D+wwBvImSnbPxRw/AvVBdo/HzxEb2Hz2D8r7CKrlPPXP2cuLMjLAtc/JCfNBZsf1j/C1rI1PD3VPykRqFS9WNQ/lcrk/wGX0z+JuiwlDtjSPwJqFBk1HdI/TNNZH/xg0T+mjmndeqDQP3iVIcGDGtA/X48Czd8pzz/R8GhscR7OP2hr+JGvGc0/lO67ltsazD9gSLDdmDfLP0GnULSLT8o/hLJgSuZkyT+mj8SAfI7IP8DFIwIB08c/TzmqE+QNxz/Y4GrtID3GPxT34/J9bMU/W3LStaGlxD8EoVyHeNrDP1dp7vlz/sI/oCFBlOkbwj9IT/PBpjDBP4uh+xldVsA/8jiC6frevj+e36kPjg+9P9I61U9ZOrs/AShqhktmuT/PdmoO4pa3P/saWXEyx7U/b4qdJTt/uT9J9qFRQQS7PysDFLE9ibw/CvWkPlkPvj8OQ17JoKy/P9+C/KQgoMA/mx2rwGttwT+0/ZLOOC3CP4qYyReZ9cI/d48A8Fm+wz9wGt2Wnn3EP7mopkAIL8U/8rpFpNLexT8qqq3lR6LGP+2XjZ5GeMc/msCS45ZRyD9GKq0sSS3JP4apUd6RIco/67jVP+koyz8UOD6TATPMP5BbA46VPc0/XMQN8k5rzj9rRekvqaPPP9iaLNqVcdA/dh+4JA0T0T+wqssfM7XRP3CKRCuKm9I/BGX3Wc+C0z+VZqOFwmvUP5MHD7AjXNU/b0NjvXdR1j9u8me+5W/XP14k4gQtkdg/Q+BEzNm22T/r60oLze/aP4sbrIgkPdw/IJ1cGzem3T9w/m4aayjfPxlgCd3nR+A/wm072pzv4D9tInF/AanhP4s1HmjmQOI/4vezp3XF4j9Xzif/KzbjP2nnHuipiOM/qNi5SdO84z87a4SEaNrjP/mfJ3g17OM/Vcf3bQsH5D/scCgdT0XkP+qfeZ4kUOQ/",
          "dtype": "f8"
         },
         "yaxis": "y"
        },
        {
         "line": {
          "color": "rgb(55,126,184)",
          "width": 2
         },
         "mode": "lines",
         "name": "constant",
         "type": "scatter",
         "x": {
          "bdata": "AAAAAAAAAAB7FK5H4XqUP3sUrkfheqQ/uB6F61G4rj97FK5H4Xq0P5qZmZmZmbk/uB6F61G4vj/sUbgehevBP3sUrkfhesQ/CtejcD0Kxz+amZmZmZnJPylcj8L1KMw/uB6F61G4zj+kcD0K16PQP+xRuB6F69E/MzMzMzMz0z97FK5H4XrUP8P1KFyPwtU/CtejcD0K1z9SuB6F61HYP5qZmZmZmdk/4XoUrkfh2j8pXI/C9SjcP3E9CtejcN0/uB6F61G43j8AAAAAAADgP6RwPQrXo+A/SOF6FK5H4T/sUbgehevhP4/C9Shcj+I/MzMzMzMz4z/Xo3A9CtfjP3sUrkfheuQ/H4XrUbge5T/D9Shcj8LlP2dmZmZmZuY/CtejcD0K5z+uR+F6FK7nP1K4HoXrUeg/9ihcj8L16D+amZmZmZnpPz4K16NwPeo/4XoUrkfh6j+F61G4HoXrPylcj8L1KOw/zczMzMzM7D9xPQrXo3DtPxWuR+F6FO4/uB6F61G47j9cj8L1KFzvPwAAAAAAAPA/",
          "dtype": "f8"
         },
         "xaxis": "x",
         "y": {
          "bdata": "CpRDXQsO4z/FjHUIkeniPw3lfA2auuI/A3+GbEif4j/jF7eojYviP4fTzxNNYuI/E5djORMe4j9q+AqXIL/hP2r01aE0Q+E/v9idux624D+8CKllTRrgPw74WvZWyd4//g+2fwh+3T8uNSGv7yvcP81kv8rl0do/sjloVYCL2T9Li74X8lvYPy3LogIJQNc/cPgwmNo11j9fwqrowC7VP/YDMvAOLdQ/ClHmg9BU0z+bdCuqfIPSP8ClMJ1Gv9E/gJhCr9X80D9+OA1xgTnQP6DuHu/gVM8/S0PYZMc2zj/N+ynRHxnNP9uOUcHG/8s/I3Vo02Xuyj8jOTZyNPzJPwl9/ilnCsk/Ny7SGeUayD8jicVE0T7HPxyyS8rtfMY/FjDpspO8xT+6aQ7O+/3EPzTsM0AnRsQ/RgilSR6bwz9Wfop4Y+rCPwNTNAmDQsI/mSonPN6dwT/oAcoEXgDBP5LNZyxAXMA/bhfT0i12vz+QdWqaBy6+PxpaJG2H6bw/MmpCnEinuz+LbHpjF2a6P0IKck/HJLk/",
          "dtype": "f8"
         },
         "yaxis": "y"
        },
        {
         "fill": "toself",
         "fillcolor": "rgba(55,126,184,0.1)",
         "hoverinfo": "skip",
         "line": {
          "color": "rgba(255,255,255,0)"
         },
         "showlegend": false,
         "type": "scatter",
         "x": {
          "bdata": "AAAAAAAAAAB7FK5H4XqUP3sUrkfheqQ/uB6F61G4rj97FK5H4Xq0P5qZmZmZmbk/uB6F61G4vj/sUbgehevBP3sUrkfhesQ/CtejcD0Kxz+amZmZmZnJPylcj8L1KMw/uB6F61G4zj+kcD0K16PQP+xRuB6F69E/MzMzMzMz0z97FK5H4XrUP8P1KFyPwtU/CtejcD0K1z9SuB6F61HYP5qZmZmZmdk/4XoUrkfh2j8pXI/C9SjcP3E9CtejcN0/uB6F61G43j8AAAAAAADgP6RwPQrXo+A/SOF6FK5H4T/sUbgehevhP4/C9Shcj+I/MzMzMzMz4z/Xo3A9CtfjP3sUrkfheuQ/H4XrUbge5T/D9Shcj8LlP2dmZmZmZuY/CtejcD0K5z+uR+F6FK7nP1K4HoXrUeg/9ihcj8L16D+amZmZmZnpPz4K16NwPeo/4XoUrkfh6j+F61G4HoXrPylcj8L1KOw/zczMzMzM7D9xPQrXo3DtPxWuR+F6FO4/uB6F61G47j9cj8L1KFzvPwAAAAAAAPA/AAAAAAAA8D9cj8L1KFzvP7gehetRuO4/Fa5H4XoU7j9xPQrXo3DtP83MzMzMzOw/KVyPwvUo7D+F61G4HoXrP+F6FK5H4eo/PgrXo3A96j+amZmZmZnpP/YoXI/C9eg/UrgehetR6D+uR+F6FK7nPwrXo3A9Cuc/Z2ZmZmZm5j/D9Shcj8LlPx+F61G4HuU/exSuR+F65D/Xo3A9CtfjPzMzMzMzM+M/j8L1KFyP4j/sUbgehevhP0jhehSuR+E/pHA9Ctej4D8AAAAAAADgP7gehetRuN4/cT0K16Nw3T8pXI/C9SjcP+F6FK5H4do/mpmZmZmZ2T9SuB6F61HYPwrXo3A9Ctc/w/UoXI/C1T97FK5H4XrUPzMzMzMzM9M/7FG4HoXr0T+kcD0K16PQP7gehetRuM4/KVyPwvUozD+amZmZmZnJPwrXo3A9Csc/exSuR+F6xD/sUbgehevBP7gehetRuL4/mpmZmZmZuT97FK5H4Xq0P7gehetRuK4/exSuR+F6pD97FK5H4XqUPwAAAAAAAAAA",
          "dtype": "f8"
         },
         "xaxis": "x",
         "y": {
          "bdata": "MHvHXDzN4T+3sk9p1K3hP1nfBiSneeE/qgq5R/FX4T8gmTGe+0HhP9FPuYzZFOE/76GJCEPO4D+CipKsAXLgP4g8AKAK998/CKzfxNvr3j+f74SuC8jdP4wouMiNe9w/GgOeBg5O2z/0P+IpqR/aP/tr6R8k79g/YuS5r97Q1z9whpyVD8jWPwf1vUpD0tU/AUlZ7kru1D9IkeEbFQ3UP303pC6XL9M/L9eEMuly0j/Iu5b7srvRPyP42FBkENE/5aZgRGtm0D8zRbBa5HfPPyILKt1udc4/krxOmdFxzT+gT9nxGW3MP+o1QXWMass//DplyiBsyj/1qV17pJHJPzb7TRBsuMg/kseKl1Hexz+sJeXtpQLHP4+bBkKuNcY/0iXQSrhqxT/jJhFtyKHEP+sPuivD4sM/ZyvPJtsywz9uWq6aD37CP2X2AJRi08E/V9Cqrx0twT8RtLJooZDAP3pNP89L3r8/Bzjulf2dvj8M/AUa4le9P59RsAhBGbw/JfWkpgnZuj9voeVEnZm5P40oTFVgWbg/9+uXSS7wuT+nNw+CkTK7Pz/f35GHdbw/lWKY0c25vT8U784aLQS/P2v72wcvJ8A/Z/QvcVrJwD+/T+GgGnDBP9uEo8ieDsI/oa9nfqOxwj8+omZWt1bDPyXlemxhA8Q/fcitVIupxD+RrAsvL1rFP1o6AhtvDsY/qciQUi3Exj+a7KWb/HrHP9yUGZx4V8g/3P6uQ2JcyT9RyA5pxGbKP0qva9yqcMs/zOdhDQGVzD/6p3qwJcXNPwTKYTC9+84/D+mJgCka0D9jTsK0ELfQPxuKJBpAk9E/XVOI6Shu0j9uLcBYRkvTP+XKR9W3NtQ/b9C/sYYq1T9283O1bFDWP9+nCEJqfdc/U6GHus6t2D8mkOCZ1O/ZPwKPFvshRts/n12Vdae03D9oKmA0NjjeP+IczvgCrt8/yOP+EZCL4D+omQ/0lFDhP3rby5RP9uE/kMqr8+OK4j9SZoOBPwzjPzeMPWrjbeM/PVfmmsCv4z+mljyzH9XjP1zzU5Gf5uM/wery9oz74z/TZpunTSXkP+Ssv13aTuQ/",
          "dtype": "f8"
         },
         "yaxis": "y"
        },
        {
         "line": {
          "color": "rgb(77,175,74)",
          "width": 2
         },
         "mode": "lines",
         "name": "cs_proba_hpi",
         "type": "scatter",
         "x": {
          "bdata": "AAAAAAAAAAB7FK5H4XqUP3sUrkfheqQ/uB6F61G4rj97FK5H4Xq0P5qZmZmZmbk/uB6F61G4vj/sUbgehevBP3sUrkfhesQ/CtejcD0Kxz+amZmZmZnJPylcj8L1KMw/uB6F61G4zj+kcD0K16PQP+xRuB6F69E/MzMzMzMz0z97FK5H4XrUP8P1KFyPwtU/CtejcD0K1z9SuB6F61HYP5qZmZmZmdk/4XoUrkfh2j8pXI/C9SjcP3E9CtejcN0/uB6F61G43j8AAAAAAADgP6RwPQrXo+A/SOF6FK5H4T/sUbgehevhP4/C9Shcj+I/MzMzMzMz4z/Xo3A9CtfjP3sUrkfheuQ/H4XrUbge5T/D9Shcj8LlP2dmZmZmZuY/CtejcD0K5z+uR+F6FK7nP1K4HoXrUeg/9ihcj8L16D+amZmZmZnpPz4K16NwPeo/4XoUrkfh6j+F61G4HoXrPylcj8L1KOw/zczMzMzM7D9xPQrXo3DtPxWuR+F6FO4/uB6F61G47j9cj8L1KFzvPwAAAAAAAPA/",
          "dtype": "f8"
         },
         "xaxis": "x",
         "y": {
          "bdata": "Wzrem8YO4z+MS9Lh/+PiP8DpYmRQu+I/kFUO6mOl4j/EgrCgUZHiP383QKBGbuI/fnrp1Eg74j+PfFRfY+3hP5gXF9AuhOE/ur9BaesJ4T96ETYYV3/gP/PR4cRLrN8/QJqluM5x3j8KY3UPTSrdPwuOkNCc1ts/yrywxW2W2j/m7HP/PGvZPx3TvBQQTdg/jbwV0Kk61z/vhXG+2yvWP6E/XY6nHdU/Gs5ywhk81D/yaAuLHF/TP3CGdZrCjNI/aem06i270T+eM+6mt+jQP0YFT6FbVNA/O+uTQCKAzz8Stq0FdljOP/PzpQt+Ns0/njdS4OgdzD8VkFYuAyLLP+jOIP/1I8o/OmNT//8jyT92OndrRDrIP5ozJKqEacc/TdPzHZuUxj+8tjF39rzFP5I6+oh658Q/n4sKhq0ixD8qjV361F7DP86vc7lGlMI/zuwC5djIwT8SHA3ntPjAPzOnwES3KsA/wwReKUKqvj+giaUHHfy8P40FlczLVbs/Fp4eU6aouT/xv7BsgAG4P2bvJkpTWrY/",
          "dtype": "f8"
         },
         "yaxis": "y"
        },
        {
         "fill": "toself",
         "fillcolor": "rgba(77,175,74,0.1)",
         "hoverinfo": "skip",
         "line": {
          "color": "rgba(255,255,255,0)"
         },
         "showlegend": false,
         "type": "scatter",
         "x": {
          "bdata": "AAAAAAAAAAB7FK5H4XqUP3sUrkfheqQ/uB6F61G4rj97FK5H4Xq0P5qZmZmZmbk/uB6F61G4vj/sUbgehevBP3sUrkfhesQ/CtejcD0Kxz+amZmZmZnJPylcj8L1KMw/uB6F61G4zj+kcD0K16PQP+xRuB6F69E/MzMzMzMz0z97FK5H4XrUP8P1KFyPwtU/CtejcD0K1z9SuB6F61HYP5qZmZmZmdk/4XoUrkfh2j8pXI/C9SjcP3E9CtejcN0/uB6F61G43j8AAAAAAADgP6RwPQrXo+A/SOF6FK5H4T/sUbgehevhP4/C9Shcj+I/MzMzMzMz4z/Xo3A9CtfjP3sUrkfheuQ/H4XrUbge5T/D9Shcj8LlP2dmZmZmZuY/CtejcD0K5z+uR+F6FK7nP1K4HoXrUeg/9ihcj8L16D+amZmZmZnpPz4K16NwPeo/4XoUrkfh6j+F61G4HoXrPylcj8L1KOw/zczMzMzM7D9xPQrXo3DtPxWuR+F6FO4/uB6F61G47j9cj8L1KFzvPwAAAAAAAPA/AAAAAAAA8D9cj8L1KFzvP7gehetRuO4/Fa5H4XoU7j9xPQrXo3DtP83MzMzMzOw/KVyPwvUo7D+F61G4HoXrP+F6FK5H4eo/PgrXo3A96j+amZmZmZnpP/YoXI/C9eg/UrgehetR6D+uR+F6FK7nPwrXo3A9Cuc/Z2ZmZmZm5j/D9Shcj8LlPx+F61G4HuU/exSuR+F65D/Xo3A9CtfjPzMzMzMzM+M/j8L1KFyP4j/sUbgehevhP0jhehSuR+E/pHA9Ctej4D8AAAAAAADgP7gehetRuN4/cT0K16Nw3T8pXI/C9SjcP+F6FK5H4do/mpmZmZmZ2T9SuB6F61HYPwrXo3A9Ctc/w/UoXI/C1T97FK5H4XrUPzMzMzMzM9M/7FG4HoXr0T+kcD0K16PQP7gehetRuM4/KVyPwvUozD+amZmZmZnJPwrXo3A9Csc/exSuR+F6xD/sUbgehevBP7gehetRuL4/mpmZmZmZuT97FK5H4Xq0P7gehetRuK4/exSuR+F6pD97FK5H4XqUPwAAAAAAAAAA",
          "dtype": "f8"
         },
         "xaxis": "x",
         "y": {
          "bdata": "ji9eCsLN4T/Nsr8bGKXhP2j2F1dzeOE/wOY74Xhe4T/ENvKSOUbhPyl0kHjAHuE/UZ5DODjp4D/0/s2ZYZvgP6bFBVcXNOA/V1omNp183z+MiaSxW3feP3ZQWnljPt0/8baMvF4g3D8j037b3PzaP3o5L3BI09k/hw9zYtS62D+Fcnr+ibTXPyHWkUG+utY/55zdp8DM1T82xIa41+HUP/4MMEaJ9dM/+Br/oHsw0z8v8diRF2/SP9pRNav7uNE/s/Ep4hsD0T9JI4YpeEzQP+wtZWA/ks8/SSrlNVqLzj9PKWH4mITNP4qYaoeogsw/K/eEKOKIyz8B6ECAmqrKP8IlJI6pyMk/0vi8Wl7eyD8DDNUmMwLIPzYHXxxSPMc/No74Eplrxj/woNF81Y7FP7QcG03lsMQ/rKwAH0Xiwz+BvQdlUxbDP/90mL8dQ8I/5gVAIRxywT9vgwfNa5nAPzZSv9Aajr8/IBtA4SXcvT+jEGzTcyK8PzEpD8hbcLo/h5xiGjK2uD/FhQ7GywK3P8553JQtT7U//mRx/3hltz8d+lITNQC5P6Wf2osam7o/6eEa0Ts7vD+dAt87xtW9P2bue3FeeL8/S6UhIWGOwD+1tBIB/lfBP7bTxaiVH8I/nepOs2/lwj/TXLOPVqfDP5JqFO0VY8Q/cFjZxA8exT+IzJFxF+vFP2QY7yidvcY//l/pN7eWxz/paBmwVXLIP6LN6aOhack/DngdcEJ/yj8pOGzca5nLPxF4H5jvssw/XE/hj1PqzT/VQvoSUyzPPxdWoSV1OtA/lnNrkpff0D/zQ1Yk94TRPx/hP/M/c9I/Bru1iYlg0z+14D2EIU/UPzyB5uO3R9U/RHKK1sVF1j+oR1zE33XXPzPcTfiSqNg/GdDn52Hf2T9HZ20A8CHbPw1q7igHctw/nOLxMPHZ3T/x8mtDvVffP8g+X1qfYeA/uKk0CBoN4T8u3plXAMPhP0hScDeIVeI/imkoSUbU4j8q+tokZT/jP6tWj3FZjeM/1frvx8y94z/Ezm6uadzjP2DE4PJO7OM/GN2tcS3+4z9L5OSn5yLkPyhFXi3LT+Q/",
          "dtype": "f8"
         },
         "yaxis": "y"
        },
        {
         "line": {
          "color": "rgb(152,78,163)",
          "width": 2
         },
         "mode": "lines",
         "name": "distribution",
         "type": "scatter",
         "x": {
          "bdata": "AAAAAAAAAAB7FK5H4XqUP3sUrkfheqQ/uB6F61G4rj97FK5H4Xq0P5qZmZmZmbk/uB6F61G4vj/sUbgehevBP3sUrkfhesQ/CtejcD0Kxz+amZmZmZnJPylcj8L1KMw/uB6F61G4zj+kcD0K16PQP+xRuB6F69E/MzMzMzMz0z97FK5H4XrUP8P1KFyPwtU/CtejcD0K1z9SuB6F61HYP5qZmZmZmdk/4XoUrkfh2j8pXI/C9SjcP3E9CtejcN0/uB6F61G43j8AAAAAAADgP6RwPQrXo+A/SOF6FK5H4T/sUbgehevhP4/C9Shcj+I/MzMzMzMz4z/Xo3A9CtfjP3sUrkfheuQ/H4XrUbge5T/D9Shcj8LlP2dmZmZmZuY/CtejcD0K5z+uR+F6FK7nP1K4HoXrUeg/9ihcj8L16D+amZmZmZnpPz4K16NwPeo/4XoUrkfh6j+F61G4HoXrPylcj8L1KOw/zczMzMzM7D9xPQrXo3DtPxWuR+F6FO4/uB6F61G47j9cj8L1KFzvPwAAAAAAAPA/",
          "dtype": "f8"
         },
         "xaxis": "x",
         "y": {
          "bdata": "xhwehMkO4z/5MBMHjAPjP3TDvwzkw+I/RpRaUF+e4j+i9PqVr4jiP4L0A+E5auI/swxR6C874j8DoEA+Z/DhP+sxk+00ieE/sky0OcgP4T9+CXpblIbgP1VsqDLMud8/YjwLQSKB3j8mssxmUjzdP85AYi5s7Ns/A+Kvan+v2j+s4OVE2oXZP9iRt9skatg/CGTpWsxa1z/6PMYVlk7WP43hPvPiQdU/D6gVfjdk1D/0om2k+YrTP8B7lyFhutI/Jlfky7Xq0T8ICpGI1RjRPxOFU1VwhNA/hZfUo7bgzz84RW7n3LjOP7CKCMF2l80/SpVIzzuAzD+WbKZhQYXLP9NHReqbh8o/nen+yiOJyT+wrzMoqZzIPxunm3q4zcc/8yU+jcj9xj+C+Rfi/CvGP0YZcTDzXcU/HvNIQwKgxD8Nr1gsx9vDP+bAAsRIF8M/NDvKDQtQwj+mv0cDGYvBPxtOz31WxsA/uNzOSbj7vz9AwFNj0F++P32s8LMQxbw/U06oBQQruz9Ztt9lKZG5P/ZckoVM97c/",
          "dtype": "f8"
         },
         "yaxis": "y"
        },
        {
         "fill": "toself",
         "fillcolor": "rgba(152,78,163,0.1)",
         "hoverinfo": "skip",
         "line": {
          "color": "rgba(255,255,255,0)"
         },
         "showlegend": false,
         "type": "scatter",
         "x": {
          "bdata": "AAAAAAAAAAB7FK5H4XqUP3sUrkfheqQ/uB6F61G4rj97FK5H4Xq0P5qZmZmZmbk/uB6F61G4vj/sUbgehevBP3sUrkfhesQ/CtejcD0Kxz+amZmZmZnJPylcj8L1KMw/uB6F61G4zj+kcD0K16PQP+xRuB6F69E/MzMzMzMz0z97FK5H4XrUP8P1KFyPwtU/CtejcD0K1z9SuB6F61HYP5qZmZmZmdk/4XoUrkfh2j8pXI/C9SjcP3E9CtejcN0/uB6F61G43j8AAAAAAADgP6RwPQrXo+A/SOF6FK5H4T/sUbgehevhP4/C9Shcj+I/MzMzMzMz4z/Xo3A9CtfjP3sUrkfheuQ/H4XrUbge5T/D9Shcj8LlP2dmZmZmZuY/CtejcD0K5z+uR+F6FK7nP1K4HoXrUeg/9ihcj8L16D+amZmZmZnpPz4K16NwPeo/4XoUrkfh6j+F61G4HoXrPylcj8L1KOw/zczMzMzM7D9xPQrXo3DtPxWuR+F6FO4/uB6F61G47j9cj8L1KFzvPwAAAAAAAPA/AAAAAAAA8D9cj8L1KFzvP7gehetRuO4/Fa5H4XoU7j9xPQrXo3DtP83MzMzMzOw/KVyPwvUo7D+F61G4HoXrP+F6FK5H4eo/PgrXo3A96j+amZmZmZnpP/YoXI/C9eg/UrgehetR6D+uR+F6FK7nPwrXo3A9Cuc/Z2ZmZmZm5j/D9Shcj8LlPx+F61G4HuU/exSuR+F65D/Xo3A9CtfjPzMzMzMzM+M/j8L1KFyP4j/sUbgehevhP0jhehSuR+E/pHA9Ctej4D8AAAAAAADgP7gehetRuN4/cT0K16Nw3T8pXI/C9SjcP+F6FK5H4do/mpmZmZmZ2T9SuB6F61HYPwrXo3A9Ctc/w/UoXI/C1T97FK5H4XrUPzMzMzMzM9M/7FG4HoXr0T+kcD0K16PQP7gehetRuM4/KVyPwvUozD+amZmZmZnJPwrXo3A9Csc/exSuR+F6xD/sUbgehevBP7gehetRuL4/mpmZmZmZuT97FK5H4Xq0P7gehetRuK4/exSuR+F6pD97FK5H4XqUPwAAAAAAAAAA",
          "dtype": "f8"
         },
         "xaxis": "x",
         "y": {
          "bdata": "FheG6enN4T+sG4p5JcXhPzX2vn/+guE/19pyoAlW4T9nCBChJjzhPzeoWSOJG+E/wDYLc+Hr4D/L0A6ljaPgP+/G3g8LQeA/iKC0PHac3z8I2Mk/y5zePxB14WP9Zt0/oEqXXm9L3D9KLXefYSnbP/me2yGhAdo/uoqY2cjq2D9YJr8YX+TXP+Fjrjq669Y/qiBKn7T/1T+3rxEpVhbVP+VfkpjoKtQ/p84BpQxp0z+4q/aiQarSPzpiUtY989E/fhOfwjQ80T9l3qhcy4LQP0siAe9d/M8/VW5OwJrzzj+RQiwPKOvNP+hardR/6cw/1/qwy17wyz/q8RhbbxDLP33XAVSkK8o/RshHwENCyT+gdSW0IWnIP3G+h6hDqcc/kR3AC/rexj8O+HBGIgbGP/QiC1ukK8U/WfW9gYtkxD99Tp1fT5jDP88PiNbZzMI/WlGlEDwAwj9/D/9nNTbBP/zjeiojbsA/QGY7vQlGvz9ExMNLl6K9P54pyNjjALw/njq8RLRduj9u97Px1bq4P560OWjaF7c/TgXror7WuD9EdQvafGe6PwhilMZT+Ls/XC8Zjz2JvT88vON6CR2/P5gpMWuzWMA/Orgj0YkewT/Nb5Ce/N/BPw4l7wran8I//XF9sbdhwz+dDxT5Ph/EP+Pw0wR528Q/mA/XBUKQxT/2+r5911HGP1UuvA6XHMc/xY+vTC3yxz/A6UGcMNDIP/QKttUD0Mk/KbiIgJPjyj9C5zNoE/rLP70v4NIYEM0/eLpjrW1Fzj/fR7C/kYbPP1pgrUPpZtA/AHkms7EK0T+rNXm0367RP86aKdU2mdI/RpXcbISB0z8wmuSlsWvUP3eBKVdiX9U/NWPrTd1Y1j89ynoC1obXP2aniBbktdg/z7/AfI/o2T8AmwxxVSfbP0w5x/s1dNw/o+LoOjfX3T8CNyIuQ0/fPxKXv5FqW+A/zbG3gE0G4T/4Jg8Xw77hPyBJDlVVUeI/55xHy17R4j87b3LXQD3jP6bill1+iuM/zUCunuq44z/d4OWKONXjP7VNQgC15uM/s5DAmckE5D9GRpyU8kHkP3Yith6pT+Q/",
          "dtype": "f8"
         },
         "yaxis": "y"
        },
        {
         "error_x": {
          "array": {
           "bdata": "SyN/WuP1lD9cX0ooLTiTP3X+O8S1/5M/F0xUB0wpnj8=",
           "dtype": "f8"
          },
          "type": "data"
         },
         "marker": {
          "color": "skyblue",
          "line": {
           "color": "black",
           "width": 1
          }
         },
         "orientation": "h",
         "showlegend": false,
         "type": "bar",
         "x": {
          "bdata": "A9nWVGpV1T9vAC6yjCvVP2HdXT6EdNQ/ZSCC04e/0z8=",
          "dtype": "f8"
         },
         "xaxis": "x2",
         "y": [
          "distribution",
          "cs_proba_hpi",
          "constant",
          "False"
         ],
         "yaxis": "y2"
        }
       ],
       "layout": {
        "font": {
         "size": 16
        },
        "height": 400,
        "legend": {
         "font": {
          "size": 16
         },
         "title": {
          "text": "Optimizers"
         }
        },
        "margin": {
         "b": 50,
         "l": 50,
         "r": 50,
         "t": 60
        },
        "template": {
         "data": {
          "bar": [
           {
            "error_x": {
             "color": "#2a3f5f"
            },
            "error_y": {
             "color": "#2a3f5f"
            },
            "marker": {
             "line": {
              "color": "white",
              "width": 0.5
             },
             "pattern": {
              "fillmode": "overlay",
              "size": 10,
              "solidity": 0.2
             }
            },
            "type": "bar"
           }
          ],
          "barpolar": [
           {
            "marker": {
             "line": {
              "color": "white",
              "width": 0.5
             },
             "pattern": {
              "fillmode": "overlay",
              "size": 10,
              "solidity": 0.2
             }
            },
            "type": "barpolar"
           }
          ],
          "carpet": [
           {
            "aaxis": {
             "endlinecolor": "#2a3f5f",
             "gridcolor": "#C8D4E3",
             "linecolor": "#C8D4E3",
             "minorgridcolor": "#C8D4E3",
             "startlinecolor": "#2a3f5f"
            },
            "baxis": {
             "endlinecolor": "#2a3f5f",
             "gridcolor": "#C8D4E3",
             "linecolor": "#C8D4E3",
             "minorgridcolor": "#C8D4E3",
             "startlinecolor": "#2a3f5f"
            },
            "type": "carpet"
           }
          ],
          "choropleth": [
           {
            "colorbar": {
             "outlinewidth": 0,
             "ticks": ""
            },
            "type": "choropleth"
           }
          ],
          "contour": [
           {
            "colorbar": {
             "outlinewidth": 0,
             "ticks": ""
            },
            "colorscale": [
             [
              0,
              "#0d0887"
             ],
             [
              0.1111111111111111,
              "#46039f"
             ],
             [
              0.2222222222222222,
              "#7201a8"
             ],
             [
              0.3333333333333333,
              "#9c179e"
             ],
             [
              0.4444444444444444,
              "#bd3786"
             ],
             [
              0.5555555555555556,
              "#d8576b"
             ],
             [
              0.6666666666666666,
              "#ed7953"
             ],
             [
              0.7777777777777778,
              "#fb9f3a"
             ],
             [
              0.8888888888888888,
              "#fdca26"
             ],
             [
              1,
              "#f0f921"
             ]
            ],
            "type": "contour"
           }
          ],
          "contourcarpet": [
           {
            "colorbar": {
             "outlinewidth": 0,
             "ticks": ""
            },
            "type": "contourcarpet"
           }
          ],
          "heatmap": [
           {
            "colorbar": {
             "outlinewidth": 0,
             "ticks": ""
            },
            "colorscale": [
             [
              0,
              "#0d0887"
             ],
             [
              0.1111111111111111,
              "#46039f"
             ],
             [
              0.2222222222222222,
              "#7201a8"
             ],
             [
              0.3333333333333333,
              "#9c179e"
             ],
             [
              0.4444444444444444,
              "#bd3786"
             ],
             [
              0.5555555555555556,
              "#d8576b"
             ],
             [
              0.6666666666666666,
              "#ed7953"
             ],
             [
              0.7777777777777778,
              "#fb9f3a"
             ],
             [
              0.8888888888888888,
              "#fdca26"
             ],
             [
              1,
              "#f0f921"
             ]
            ],
            "type": "heatmap"
           }
          ],
          "histogram": [
           {
            "marker": {
             "pattern": {
              "fillmode": "overlay",
              "size": 10,
              "solidity": 0.2
             }
            },
            "type": "histogram"
           }
          ],
          "histogram2d": [
           {
            "colorbar": {
             "outlinewidth": 0,
             "ticks": ""
            },
            "colorscale": [
             [
              0,
              "#0d0887"
             ],
             [
              0.1111111111111111,
              "#46039f"
             ],
             [
              0.2222222222222222,
              "#7201a8"
             ],
             [
              0.3333333333333333,
              "#9c179e"
             ],
             [
              0.4444444444444444,
              "#bd3786"
             ],
             [
              0.5555555555555556,
              "#d8576b"
             ],
             [
              0.6666666666666666,
              "#ed7953"
             ],
             [
              0.7777777777777778,
              "#fb9f3a"
             ],
             [
              0.8888888888888888,
              "#fdca26"
             ],
             [
              1,
              "#f0f921"
             ]
            ],
            "type": "histogram2d"
           }
          ],
          "histogram2dcontour": [
           {
            "colorbar": {
             "outlinewidth": 0,
             "ticks": ""
            },
            "colorscale": [
             [
              0,
              "#0d0887"
             ],
             [
              0.1111111111111111,
              "#46039f"
             ],
             [
              0.2222222222222222,
              "#7201a8"
             ],
             [
              0.3333333333333333,
              "#9c179e"
             ],
             [
              0.4444444444444444,
              "#bd3786"
             ],
             [
              0.5555555555555556,
              "#d8576b"
             ],
             [
              0.6666666666666666,
              "#ed7953"
             ],
             [
              0.7777777777777778,
              "#fb9f3a"
             ],
             [
              0.8888888888888888,
              "#fdca26"
             ],
             [
              1,
              "#f0f921"
             ]
            ],
            "type": "histogram2dcontour"
           }
          ],
          "mesh3d": [
           {
            "colorbar": {
             "outlinewidth": 0,
             "ticks": ""
            },
            "type": "mesh3d"
           }
          ],
          "parcoords": [
           {
            "line": {
             "colorbar": {
              "outlinewidth": 0,
              "ticks": ""
             }
            },
            "type": "parcoords"
           }
          ],
          "pie": [
           {
            "automargin": true,
            "type": "pie"
           }
          ],
          "scatter": [
           {
            "fillpattern": {
             "fillmode": "overlay",
             "size": 10,
             "solidity": 0.2
            },
            "type": "scatter"
           }
          ],
          "scatter3d": [
           {
            "line": {
             "colorbar": {
              "outlinewidth": 0,
              "ticks": ""
             }
            },
            "marker": {
             "colorbar": {
              "outlinewidth": 0,
              "ticks": ""
             }
            },
            "type": "scatter3d"
           }
          ],
          "scattercarpet": [
           {
            "marker": {
             "colorbar": {
              "outlinewidth": 0,
              "ticks": ""
             }
            },
            "type": "scattercarpet"
           }
          ],
          "scattergeo": [
           {
            "marker": {
             "colorbar": {
              "outlinewidth": 0,
              "ticks": ""
             }
            },
            "type": "scattergeo"
           }
          ],
          "scattergl": [
           {
            "marker": {
             "colorbar": {
              "outlinewidth": 0,
              "ticks": ""
             }
            },
            "type": "scattergl"
           }
          ],
          "scattermap": [
           {
            "marker": {
             "colorbar": {
              "outlinewidth": 0,
              "ticks": ""
             }
            },
            "type": "scattermap"
           }
          ],
          "scattermapbox": [
           {
            "marker": {
             "colorbar": {
              "outlinewidth": 0,
              "ticks": ""
             }
            },
            "type": "scattermapbox"
           }
          ],
          "scatterpolar": [
           {
            "marker": {
             "colorbar": {
              "outlinewidth": 0,
              "ticks": ""
             }
            },
            "type": "scatterpolar"
           }
          ],
          "scatterpolargl": [
           {
            "marker": {
             "colorbar": {
              "outlinewidth": 0,
              "ticks": ""
             }
            },
            "type": "scatterpolargl"
           }
          ],
          "scatterternary": [
           {
            "marker": {
             "colorbar": {
              "outlinewidth": 0,
              "ticks": ""
             }
            },
            "type": "scatterternary"
           }
          ],
          "surface": [
           {
            "colorbar": {
             "outlinewidth": 0,
             "ticks": ""
            },
            "colorscale": [
             [
              0,
              "#0d0887"
             ],
             [
              0.1111111111111111,
              "#46039f"
             ],
             [
              0.2222222222222222,
              "#7201a8"
             ],
             [
              0.3333333333333333,
              "#9c179e"
             ],
             [
              0.4444444444444444,
              "#bd3786"
             ],
             [
              0.5555555555555556,
              "#d8576b"
             ],
             [
              0.6666666666666666,
              "#ed7953"
             ],
             [
              0.7777777777777778,
              "#fb9f3a"
             ],
             [
              0.8888888888888888,
              "#fdca26"
             ],
             [
              1,
              "#f0f921"
             ]
            ],
            "type": "surface"
           }
          ],
          "table": [
           {
            "cells": {
             "fill": {
              "color": "#EBF0F8"
             },
             "line": {
              "color": "white"
             }
            },
            "header": {
             "fill": {
              "color": "#C8D4E3"
             },
             "line": {
              "color": "white"
             }
            },
            "type": "table"
           }
          ]
         },
         "layout": {
          "annotationdefaults": {
           "arrowcolor": "#2a3f5f",
           "arrowhead": 0,
           "arrowwidth": 1
          },
          "autotypenumbers": "strict",
          "coloraxis": {
           "colorbar": {
            "outlinewidth": 0,
            "ticks": ""
           }
          },
          "colorscale": {
           "diverging": [
            [
             0,
             "#8e0152"
            ],
            [
             0.1,
             "#c51b7d"
            ],
            [
             0.2,
             "#de77ae"
            ],
            [
             0.3,
             "#f1b6da"
            ],
            [
             0.4,
             "#fde0ef"
            ],
            [
             0.5,
             "#f7f7f7"
            ],
            [
             0.6,
             "#e6f5d0"
            ],
            [
             0.7,
             "#b8e186"
            ],
            [
             0.8,
             "#7fbc41"
            ],
            [
             0.9,
             "#4d9221"
            ],
            [
             1,
             "#276419"
            ]
           ],
           "sequential": [
            [
             0,
             "#0d0887"
            ],
            [
             0.1111111111111111,
             "#46039f"
            ],
            [
             0.2222222222222222,
             "#7201a8"
            ],
            [
             0.3333333333333333,
             "#9c179e"
            ],
            [
             0.4444444444444444,
             "#bd3786"
            ],
            [
             0.5555555555555556,
             "#d8576b"
            ],
            [
             0.6666666666666666,
             "#ed7953"
            ],
            [
             0.7777777777777778,
             "#fb9f3a"
            ],
            [
             0.8888888888888888,
             "#fdca26"
            ],
            [
             1,
             "#f0f921"
            ]
           ],
           "sequentialminus": [
            [
             0,
             "#0d0887"
            ],
            [
             0.1111111111111111,
             "#46039f"
            ],
            [
             0.2222222222222222,
             "#7201a8"
            ],
            [
             0.3333333333333333,
             "#9c179e"
            ],
            [
             0.4444444444444444,
             "#bd3786"
            ],
            [
             0.5555555555555556,
             "#d8576b"
            ],
            [
             0.6666666666666666,
             "#ed7953"
            ],
            [
             0.7777777777777778,
             "#fb9f3a"
            ],
            [
             0.8888888888888888,
             "#fdca26"
            ],
            [
             1,
             "#f0f921"
            ]
           ]
          },
          "colorway": [
           "#636efa",
           "#EF553B",
           "#00cc96",
           "#ab63fa",
           "#FFA15A",
           "#19d3f3",
           "#FF6692",
           "#B6E880",
           "#FF97FF",
           "#FECB52"
          ],
          "font": {
           "color": "#2a3f5f"
          },
          "geo": {
           "bgcolor": "white",
           "lakecolor": "white",
           "landcolor": "white",
           "showlakes": true,
           "showland": true,
           "subunitcolor": "#C8D4E3"
          },
          "hoverlabel": {
           "align": "left"
          },
          "hovermode": "closest",
          "mapbox": {
           "style": "light"
          },
          "paper_bgcolor": "white",
          "plot_bgcolor": "white",
          "polar": {
           "angularaxis": {
            "gridcolor": "#EBF0F8",
            "linecolor": "#EBF0F8",
            "ticks": ""
           },
           "bgcolor": "white",
           "radialaxis": {
            "gridcolor": "#EBF0F8",
            "linecolor": "#EBF0F8",
            "ticks": ""
           }
          },
          "scene": {
           "xaxis": {
            "backgroundcolor": "white",
            "gridcolor": "#DFE8F3",
            "gridwidth": 2,
            "linecolor": "#EBF0F8",
            "showbackground": true,
            "ticks": "",
            "zerolinecolor": "#EBF0F8"
           },
           "yaxis": {
            "backgroundcolor": "white",
            "gridcolor": "#DFE8F3",
            "gridwidth": 2,
            "linecolor": "#EBF0F8",
            "showbackground": true,
            "ticks": "",
            "zerolinecolor": "#EBF0F8"
           },
           "zaxis": {
            "backgroundcolor": "white",
            "gridcolor": "#DFE8F3",
            "gridwidth": 2,
            "linecolor": "#EBF0F8",
            "showbackground": true,
            "ticks": "",
            "zerolinecolor": "#EBF0F8"
           }
          },
          "shapedefaults": {
           "line": {
            "color": "#2a3f5f"
           }
          },
          "ternary": {
           "aaxis": {
            "gridcolor": "#DFE8F3",
            "linecolor": "#A2B1C6",
            "ticks": ""
           },
           "baxis": {
            "gridcolor": "#DFE8F3",
            "linecolor": "#A2B1C6",
            "ticks": ""
           },
           "bgcolor": "white",
           "caxis": {
            "gridcolor": "#DFE8F3",
            "linecolor": "#A2B1C6",
            "ticks": ""
           }
          },
          "title": {
           "x": 0.05
          },
          "xaxis": {
           "automargin": true,
           "gridcolor": "#EBF0F8",
           "linecolor": "#EBF0F8",
           "ticks": "",
           "title": {
            "standoff": 15
           },
           "zerolinecolor": "#EBF0F8",
           "zerolinewidth": 2
          },
          "yaxis": {
           "automargin": true,
           "gridcolor": "#EBF0F8",
           "linecolor": "#EBF0F8",
           "ticks": "",
           "title": {
            "standoff": 15
           },
           "zerolinecolor": "#EBF0F8",
           "zerolinewidth": 2
          }
         }
        },
        "width": 1200,
        "xaxis": {
         "anchor": "y",
         "domain": [
          0,
          0.51
         ],
         "title": {
          "text": "Normalized Trials"
         }
        },
        "xaxis2": {
         "anchor": "y2",
         "domain": [
          0.66,
          1
         ],
         "title": {
          "text": "AUC"
         }
        },
        "yaxis": {
         "anchor": "x",
         "domain": [
          0,
          1
         ],
         "title": {
          "text": "Normalized Inc-Performance"
         }
        },
        "yaxis2": {
         "anchor": "x2",
         "domain": [
          0,
          1
         ],
         "title": {
          "text": "Optimizer"
         }
        }
       }
      }
     },
     "metadata": {},
     "output_type": "display_data"
    }
   ],
   "source": [
    "plot_one_thing('adjust_cs')"
   ]
  },
  {
   "cell_type": "code",
   "execution_count": 72,
   "id": "4e845a7f",
   "metadata": {},
   "outputs": [
    {
     "name": "stderr",
     "output_type": "stream",
     "text": [
      "/home/daphne/Code/hpi_parego/CARP-S/carps/analysis/generate_report.py:276: UserWarning:\n",
      "\n",
      "Result is not significant and results of the plot may be misleading!\n",
      "\n",
      "/home/daphne/Code/hpi_parego/CARP-S/carps/analysis/run_autorank.py:322: FutureWarning:\n",
      "\n",
      "Series.__getitem__ treating keys as positions is deprecated. In a future version, integer keys will always be treated as labels (consistent with DataFrame behavior). To access a value by position, use `ser.iloc[pos]`\n",
      "\n",
      "/home/daphne/Code/hpi_parego/CARP-S/carps/analysis/run_autorank.py:421: UserWarning:\n",
      "\n",
      "FigureCanvasAgg is non-interactive, and thus cannot be shown\n",
      "\n",
      "/home/daphne/Code/hpi_parego/CARP-S/carps/analysis/run_autorank.py:198: UserWarning:\n",
      "\n",
      "Result is not significant and results of the plot may be misleading!\n",
      "\n"
     ]
    },
    {
     "data": {
      "text/html": [
       "<pre style=\"white-space:pre;overflow-x:auto;line-height:normal;font-family:Menlo,'DejaVu Sans Mono',consolas,'Courier New',monospace\"><span style=\"color: #7fbfbf; text-decoration-color: #7fbfbf\">[10:20:55] </span><span style=\"color: #000080; text-decoration-color: #000080\">INFO    </span> Create dataframe for neat plotting by aligning x-axis <span style=\"color: #800080; text-decoration-color: #800080\">/</span> interpolating        <a href=\"file:///home/daphne/Code/hpi_parego/CARP-S/carps/analysis/gather_data.py\" target=\"_blank\"><span style=\"color: #7f7f7f; text-decoration-color: #7f7f7f\">gather_data.py</span></a><span style=\"color: #7f7f7f; text-decoration-color: #7f7f7f\">:</span><a href=\"file:///home/daphne/Code/hpi_parego/CARP-S/carps/analysis/gather_data.py#725\" target=\"_blank\"><span style=\"color: #7f7f7f; text-decoration-color: #7f7f7f\">725</span></a>\n",
       "<span style=\"color: #7fbfbf; text-decoration-color: #7fbfbf\">           </span>         budget.                                                                      <span style=\"color: #7f7f7f; text-decoration-color: #7f7f7f\">                  </span>\n",
       "</pre>\n"
      ],
      "text/plain": [
       "\u001b[2;36m[10:20:55]\u001b[0m\u001b[2;36m \u001b[0m\u001b[34mINFO    \u001b[0m Create dataframe for neat plotting by aligning x-axis \u001b[35m/\u001b[0m interpolating        \u001b]8;id=548492;file:///home/daphne/Code/hpi_parego/CARP-S/carps/analysis/gather_data.py\u001b\\\u001b[2mgather_data.py\u001b[0m\u001b]8;;\u001b\\\u001b[2m:\u001b[0m\u001b]8;id=107804;file:///home/daphne/Code/hpi_parego/CARP-S/carps/analysis/gather_data.py#725\u001b\\\u001b[2m725\u001b[0m\u001b]8;;\u001b\\\n",
       "\u001b[2;36m           \u001b[0m         budget.                                                                      \u001b[2m                  \u001b[0m\n"
      ]
     },
     "metadata": {},
     "output_type": "display_data"
    },
    {
     "name": "stderr",
     "output_type": "stream",
     "text": [
      "/home/daphne/Code/hpi_parego/CARP-S/carps/analysis/generate_report.py:108: UserWarning:\n",
      "\n",
      "Result is not significant and results of the plot may be misleading!\n",
      "\n",
      "/home/daphne/Code/hpi_parego/CARP-S/carps/analysis/generate_report.py:108: UserWarning:\n",
      "\n",
      "Result is not significant and results of the plot may be misleading!\n",
      "\n",
      "/home/daphne/Code/hpi_parego/CARP-S/carps/analysis/generate_report.py:108: UserWarning:\n",
      "\n",
      "Result is not significant and results of the plot may be misleading!\n",
      "\n",
      "/home/daphne/Code/hpi_parego/CARP-S/carps/analysis/generate_report.py:108: UserWarning:\n",
      "\n",
      "Result is not significant and results of the plot may be misleading!\n",
      "\n",
      "/home/daphne/Code/hpi_parego/CARP-S/carps/analysis/generate_report.py:108: UserWarning:\n",
      "\n",
      "Result is not significant and results of the plot may be misleading!\n",
      "\n",
      "/home/daphne/Code/hpi_parego/CARP-S/carps/analysis/generate_report.py:108: UserWarning:\n",
      "\n",
      "Result is not significant and results of the plot may be misleading!\n",
      "\n",
      "/home/daphne/Code/hpi_parego/CARP-S/carps/analysis/generate_report.py:108: UserWarning:\n",
      "\n",
      "Result is not significant and results of the plot may be misleading!\n",
      "\n",
      "/home/daphne/Code/hpi_parego/CARP-S/carps/analysis/generate_report.py:108: UserWarning:\n",
      "\n",
      "Result is not significant and results of the plot may be misleading!\n",
      "\n",
      "/home/daphne/Code/hpi_parego/CARP-S/carps/analysis/generate_report.py:108: UserWarning:\n",
      "\n",
      "Result is not significant and results of the plot may be misleading!\n",
      "\n",
      "/home/daphne/Code/hpi_parego/CARP-S/carps/analysis/generate_report.py:108: UserWarning:\n",
      "\n",
      "Result is not significant and results of the plot may be misleading!\n",
      "\n",
      "/home/daphne/Code/hpi_parego/CARP-S/carps/analysis/generate_report.py:108: UserWarning:\n",
      "\n",
      "Result is not significant and results of the plot may be misleading!\n",
      "\n",
      "/home/daphne/Code/hpi_parego/CARP-S/carps/analysis/generate_report.py:108: UserWarning:\n",
      "\n",
      "Result is not significant and results of the plot may be misleading!\n",
      "\n",
      "/home/daphne/Code/hpi_parego/CARP-S/carps/analysis/generate_report.py:108: UserWarning:\n",
      "\n",
      "Result is not significant and results of the plot may be misleading!\n",
      "\n",
      "/home/daphne/Code/hpi_parego/CARP-S/carps/analysis/generate_report.py:108: UserWarning:\n",
      "\n",
      "Result is not significant and results of the plot may be misleading!\n",
      "\n",
      "/home/daphne/Code/hpi_parego/CARP-S/carps/analysis/generate_report.py:108: UserWarning:\n",
      "\n",
      "Result is not significant and results of the plot may be misleading!\n",
      "\n",
      "/home/daphne/Code/hpi_parego/CARP-S/carps/analysis/generate_report.py:108: UserWarning:\n",
      "\n",
      "Result is not significant and results of the plot may be misleading!\n",
      "\n",
      "/home/daphne/Code/hpi_parego/CARP-S/carps/analysis/generate_report.py:108: UserWarning:\n",
      "\n",
      "Result is not significant and results of the plot may be misleading!\n",
      "\n"
     ]
    },
    {
     "name": "stdout",
     "output_type": "stream",
     "text": [
      "['False' 'default' 'incumbent' 'random']\n"
     ]
    },
    {
     "name": "stderr",
     "output_type": "stream",
     "text": [
      "/tmp/ipykernel_4800/1961929167.py:25: DeprecationWarning:\n",
      "\n",
      "DataFrameGroupBy.apply operated on the grouping columns. This behavior is deprecated, and in a future version of pandas the grouping columns will be excluded from the operation. Either pass `include_groups=False` to exclude the groupings or explicitly select the grouping columns after groupby to silence this warning.\n",
      "\n"
     ]
    },
    {
     "data": {
      "application/vnd.plotly.v1+json": {
       "config": {
        "plotlyServerURL": "https://plot.ly"
       },
       "data": [
        {
         "line": {
          "color": "rgb(228,26,28)",
          "width": 2
         },
         "mode": "lines",
         "name": "False",
         "type": "scatter",
         "x": {
          "bdata": "AAAAAAAAAAB7FK5H4XqUP3sUrkfheqQ/uB6F61G4rj97FK5H4Xq0P5qZmZmZmbk/uB6F61G4vj/sUbgehevBP3sUrkfhesQ/CtejcD0Kxz+amZmZmZnJPylcj8L1KMw/uB6F61G4zj+kcD0K16PQP+xRuB6F69E/MzMzMzMz0z97FK5H4XrUP8P1KFyPwtU/CtejcD0K1z9SuB6F61HYP5qZmZmZmdk/4XoUrkfh2j8pXI/C9SjcP3E9CtejcN0/uB6F61G43j8AAAAAAADgP6RwPQrXo+A/SOF6FK5H4T/sUbgehevhP4/C9Shcj+I/MzMzMzMz4z/Xo3A9CtfjP3sUrkfheuQ/H4XrUbge5T/D9Shcj8LlP2dmZmZmZuY/CtejcD0K5z+uR+F6FK7nP1K4HoXrUeg/9ihcj8L16D+amZmZmZnpPz4K16NwPeo/4XoUrkfh6j+F61G4HoXrPylcj8L1KOw/zczMzMzM7D9xPQrXo3DtPxWuR+F6FO4/uB6F61G47j9cj8L1KFzvPwAAAAAAAPA/",
          "dtype": "f8"
         },
         "xaxis": "x",
         "y": {
          "bdata": "1md9qggP4z/mENxozQXjP6jD7Hdgx+I/zropQLCl4j+LnV4q147iPyIqjW0HbuI/5v5CXuU64j+axFYyGOrhPzF0vxqEf+E/WCM7DE8D4T/wQsPENXjgP8YG5OkYnd8/1hQQMABr3j+QX0VxAindP5qGrBMG1ts/1Sv4+0KY2j8L7DbbsHHZP1WHOMrSXNg/waVXBWRY1z+YZA36kFbWP0yqBYkaVdU/FOn515J51D+PEGhV6KHTP4PnhTkC0NI/3i5PJUP+0T+rnJr+1irRP3fa7HLIltA/RPFW4EID0D8eGylODeHOP+IXA0J/ws0/EqVfkjiszD86QHc4TbXLPxYwE3o6vMo/BS5ZFDzDyT/23LjW4t3IPy1D2/JLEsg/nugbWRVDxz+BRYxptG/GPwPZlEuopcU/io08+1TqxD+63RyPCyzEP2d89/RmXsM/FV0FVsGIwj9+JkPI767BP5NfU23k4cA/rM/eDM8HwD9WEYRsF16+P+4XPUfZpLw/lhW/m8T3uj+MNgawkU25P7VSe8s2o7c/",
          "dtype": "f8"
         },
         "yaxis": "y"
        },
        {
         "fill": "toself",
         "fillcolor": "rgba(228,26,28,0.1)",
         "hoverinfo": "skip",
         "line": {
          "color": "rgba(255,255,255,0)"
         },
         "showlegend": false,
         "type": "scatter",
         "x": {
          "bdata": "AAAAAAAAAAB7FK5H4XqUP3sUrkfheqQ/uB6F61G4rj97FK5H4Xq0P5qZmZmZmbk/uB6F61G4vj/sUbgehevBP3sUrkfhesQ/CtejcD0Kxz+amZmZmZnJPylcj8L1KMw/uB6F61G4zj+kcD0K16PQP+xRuB6F69E/MzMzMzMz0z97FK5H4XrUP8P1KFyPwtU/CtejcD0K1z9SuB6F61HYP5qZmZmZmdk/4XoUrkfh2j8pXI/C9SjcP3E9CtejcN0/uB6F61G43j8AAAAAAADgP6RwPQrXo+A/SOF6FK5H4T/sUbgehevhP4/C9Shcj+I/MzMzMzMz4z/Xo3A9CtfjP3sUrkfheuQ/H4XrUbge5T/D9Shcj8LlP2dmZmZmZuY/CtejcD0K5z+uR+F6FK7nP1K4HoXrUeg/9ihcj8L16D+amZmZmZnpPz4K16NwPeo/4XoUrkfh6j+F61G4HoXrPylcj8L1KOw/zczMzMzM7D9xPQrXo3DtPxWuR+F6FO4/uB6F61G47j9cj8L1KFzvPwAAAAAAAPA/AAAAAAAA8D9cj8L1KFzvP7gehetRuO4/Fa5H4XoU7j9xPQrXo3DtP83MzMzMzOw/KVyPwvUo7D+F61G4HoXrP+F6FK5H4eo/PgrXo3A96j+amZmZmZnpP/YoXI/C9eg/UrgehetR6D+uR+F6FK7nPwrXo3A9Cuc/Z2ZmZmZm5j/D9Shcj8LlPx+F61G4HuU/exSuR+F65D/Xo3A9CtfjPzMzMzMzM+M/j8L1KFyP4j/sUbgehevhP0jhehSuR+E/pHA9Ctej4D8AAAAAAADgP7gehetRuN4/cT0K16Nw3T8pXI/C9SjcP+F6FK5H4do/mpmZmZmZ2T9SuB6F61HYPwrXo3A9Ctc/w/UoXI/C1T97FK5H4XrUPzMzMzMzM9M/7FG4HoXr0T+kcD0K16PQP7gehetRuM4/KVyPwvUozD+amZmZmZnJPwrXo3A9Csc/exSuR+F6xD/sUbgehevBP7gehetRuL4/mpmZmZmZuT97FK5H4Xq0P7gehetRuK4/exSuR+F6pD97FK5H4XqUPwAAAAAAAAAA",
          "dtype": "f8"
         },
         "xaxis": "x",
         "y": {
          "bdata": "wi+BtuzN4T/gsI+0S8bhP/u/4YG1h+E/o9UrCCtf4T/bzzjQRUPhP5x7YJE7H+E/YxZn1CDt4D/duoVlBJ7gP4Dwyo2SOeA/SiKwYG+L3z/mxioU1I7ePwgyUR/4Wt0/emkNpjBG3D+wwBvImSnbPxRw/AvVBdo/HzxEb2Hz2D8r7CKrlPPXP2cuLMjLAtc/JCfNBZsf1j/C1rI1PD3VPykRqFS9WNQ/lcrk/wGX0z+JuiwlDtjSPwJqFBk1HdI/TNNZH/xg0T+mjmndeqDQP3iVIcGDGtA/X48Czd8pzz/R8GhscR7OP2hr+JGvGc0/lO67ltsazD9gSLDdmDfLP0GnULSLT8o/hLJgSuZkyT+mj8SAfI7IP8DFIwIB08c/TzmqE+QNxz/Y4GrtID3GPxT34/J9bMU/W3LStaGlxD8EoVyHeNrDP1dp7vlz/sI/oCFBlOkbwj9IT/PBpjDBP4uh+xldVsA/8jiC6frevj+e36kPjg+9P9I61U9ZOrs/AShqhktmuT/PdmoO4pa3P/saWXEyx7U/b4qdJTt/uT9J9qFRQQS7PysDFLE9ibw/CvWkPlkPvj8OQ17JoKy/P9+C/KQgoMA/mx2rwGttwT+0/ZLOOC3CP4qYyReZ9cI/d48A8Fm+wz9wGt2Wnn3EP7mopkAIL8U/8rpFpNLexT8qqq3lR6LGP+2XjZ5GeMc/msCS45ZRyD9GKq0sSS3JP4apUd6RIco/67jVP+koyz8UOD6TATPMP5BbA46VPc0/XMQN8k5rzj9rRekvqaPPP9iaLNqVcdA/dh+4JA0T0T+wqssfM7XRP3CKRCuKm9I/BGX3Wc+C0z+VZqOFwmvUP5MHD7AjXNU/b0NjvXdR1j9u8me+5W/XP14k4gQtkdg/Q+BEzNm22T/r60oLze/aP4sbrIgkPdw/IJ1cGzem3T9w/m4aayjfPxlgCd3nR+A/wm072pzv4D9tInF/AanhP4s1HmjmQOI/4vezp3XF4j9Xzif/KzbjP2nnHuipiOM/qNi5SdO84z87a4SEaNrjP/mfJ3g17OM/Vcf3bQsH5D/scCgdT0XkP+qfeZ4kUOQ/",
          "dtype": "f8"
         },
         "yaxis": "y"
        },
        {
         "line": {
          "color": "rgb(55,126,184)",
          "width": 2
         },
         "mode": "lines",
         "name": "default",
         "type": "scatter",
         "x": {
          "bdata": "AAAAAAAAAAB7FK5H4XqUP3sUrkfheqQ/uB6F61G4rj97FK5H4Xq0P5qZmZmZmbk/uB6F61G4vj/sUbgehevBP3sUrkfhesQ/CtejcD0Kxz+amZmZmZnJPylcj8L1KMw/uB6F61G4zj+kcD0K16PQP+xRuB6F69E/MzMzMzMz0z97FK5H4XrUP8P1KFyPwtU/CtejcD0K1z9SuB6F61HYP5qZmZmZmdk/4XoUrkfh2j8pXI/C9SjcP3E9CtejcN0/uB6F61G43j8AAAAAAADgP6RwPQrXo+A/SOF6FK5H4T/sUbgehevhP4/C9Shcj+I/MzMzMzMz4z/Xo3A9CtfjP3sUrkfheuQ/H4XrUbge5T/D9Shcj8LlP2dmZmZmZuY/CtejcD0K5z+uR+F6FK7nP1K4HoXrUeg/9ihcj8L16D+amZmZmZnpPz4K16NwPeo/4XoUrkfh6j+F61G4HoXrPylcj8L1KOw/zczMzMzM7D9xPQrXo3DtPxWuR+F6FO4/uB6F61G47j9cj8L1KFzvPwAAAAAAAPA/",
          "dtype": "f8"
         },
         "xaxis": "x",
         "y": {
          "bdata": "EDr6RWgO4z9RJzYuq/TiPzLg6L5DweI/71amF4Wi4j/kF8YAj47iP/tDCcyLaeI/v/hwdAQw4j8VGk2cUtnhPznnxtzUZOE/VwD3McDd4D9X/5umY0bgP4piqPRnIt8/iiwE9x/T3T9oifmk633cP72xg3+GI9s/ZQKyqifg2T9j8qcet7XYP2DcmiEXnNc/OC4N3deR1j/J6PeD5orVP4sWQXlXhtQ/qZufEbWu0z96DyihRNzSPyMKNqGgFdI/y0x42ORP0T8vM1MU9onQP9iKYmuT8s8/Rpzhcw3Rzj8gAIS6M7DNP3BxQB6tk8w/27i7Lv1+yz9GjVH1XIjKPwbS+hQWkck/rovsGcmayD88WSTTcrfHP3Nb856/78Y/otq5bC8oxj8GMuDjAWDFP6srk5M2msQ/AUu21Nnlwz8JE7fo2CvDP6XwOzLLd8I/jsLgk+nDwT/DA92w6BjBP1bga79cY8A/6IlG1b5Zvz8OLwhhFeO9P8r7s1njbbw/fcvyxv/0uj+b68s9PX+5P67C+D59Cbg/",
          "dtype": "f8"
         },
         "yaxis": "y"
        },
        {
         "fill": "toself",
         "fillcolor": "rgba(55,126,184,0.1)",
         "hoverinfo": "skip",
         "line": {
          "color": "rgba(255,255,255,0)"
         },
         "showlegend": false,
         "type": "scatter",
         "x": {
          "bdata": "AAAAAAAAAAB7FK5H4XqUP3sUrkfheqQ/uB6F61G4rj97FK5H4Xq0P5qZmZmZmbk/uB6F61G4vj/sUbgehevBP3sUrkfhesQ/CtejcD0Kxz+amZmZmZnJPylcj8L1KMw/uB6F61G4zj+kcD0K16PQP+xRuB6F69E/MzMzMzMz0z97FK5H4XrUP8P1KFyPwtU/CtejcD0K1z9SuB6F61HYP5qZmZmZmdk/4XoUrkfh2j8pXI/C9SjcP3E9CtejcN0/uB6F61G43j8AAAAAAADgP6RwPQrXo+A/SOF6FK5H4T/sUbgehevhP4/C9Shcj+I/MzMzMzMz4z/Xo3A9CtfjP3sUrkfheuQ/H4XrUbge5T/D9Shcj8LlP2dmZmZmZuY/CtejcD0K5z+uR+F6FK7nP1K4HoXrUeg/9ihcj8L16D+amZmZmZnpPz4K16NwPeo/4XoUrkfh6j+F61G4HoXrPylcj8L1KOw/zczMzMzM7D9xPQrXo3DtPxWuR+F6FO4/uB6F61G47j9cj8L1KFzvPwAAAAAAAPA/AAAAAAAA8D9cj8L1KFzvP7gehetRuO4/Fa5H4XoU7j9xPQrXo3DtP83MzMzMzOw/KVyPwvUo7D+F61G4HoXrP+F6FK5H4eo/PgrXo3A96j+amZmZmZnpP/YoXI/C9eg/UrgehetR6D+uR+F6FK7nPwrXo3A9Cuc/Z2ZmZmZm5j/D9Shcj8LlPx+F61G4HuU/exSuR+F65D/Xo3A9CtfjPzMzMzMzM+M/j8L1KFyP4j/sUbgehevhP0jhehSuR+E/pHA9Ctej4D8AAAAAAADgP7gehetRuN4/cT0K16Nw3T8pXI/C9SjcP+F6FK5H4do/mpmZmZmZ2T9SuB6F61HYPwrXo3A9Ctc/w/UoXI/C1T97FK5H4XrUPzMzMzMzM9M/7FG4HoXr0T+kcD0K16PQP7gehetRuM4/KVyPwvUozD+amZmZmZnJPwrXo3A9Csc/exSuR+F6xD/sUbgehevBP7gehetRuL4/mpmZmZmZuT97FK5H4Xq0P7gehetRuK4/exSuR+F6pD97FK5H4XqUPwAAAAAAAAAA",
          "dtype": "f8"
         },
         "xaxis": "x",
         "y": {
          "bdata": "tTFIAXzN4T8lDK3/W7fhP+HxqzuSgOE/OA07Kalb4T9ej4SlrUThPzL1Vwd1HOE/nuMDMTPh4D+Utpg+ZYzgP8DCJAqrHOA/E1Quhyg63z8XH1GHtCHeP1sWuqeo1tw/Sh0Lsn2n2z9MeLkHz3faPw0+9pekR9k/cKgGtoUr2D8FYXb5oSXXP4MjgDS2L9Y/XYCYnqVI1T9R+WwdcmTUP6dH9CDVgNM/Tg+s3vnD0j/weyvwPAvSP/HXGKSIXtE/KqmsmHiy0D+PirS39AXQPzRsGowDCc8/XdnQJ5AFzj/z37Qh5wHNP0RmxEy8Acw/c1LywX4Gyz/WFRHXVSnKP0VgDAW/Ssk/3HRdgMZpyD/STm28n5THP2i4XuZd1cY/s+EjVZAMxj8QpoDIpzrFPwCvKBWiasQ//Z0ysD2twz+ZHMvyU+nCP7FDVPjHLMI/gWtGzH1xwT8maVZx+sLAP98KhYSADMA/ogzZ6O2qvj9KenHX+jK9P29H8fVzvbs/tVP6P05Buj8JQGXmF8i4P6XbsWi6Trc/t6k/FUDEuD8tlzKVYja6P0VD602xqLs/JbB2vVIevT/S457qL5O+P5cD2uBHBMA/zbVS+ji6wD9gnmPw1m7BP5sZe1tVFsI/mZ0jbM7Cwj95CaPeXW7DPwX4Ofl1HsQ/Vqj9EcvJxD/8vT//W4XFP5HTT4TOQ8Y/fv6HVyEKxz+mY9vpRdrHP4Cie7PLy8g/x0PpJG3XyT+2BJITZOfKP0MfhZt798s/nHy8750lzT9NIFNTgF7OPy9f8r+KnM8/vlRVpRFu0D/P2/Fw9w3RP2zwQxhR7dE/VTxTnrjM0j8EoyRSTK3TPwQok0RwmdQ/b+WN0dmL1T9B2ILqWrHWPxPcgRsK29c/PZW1DngI2T/Bg9lDzEXaP1pcXZ/JlNs/bSURZ2j/3D+EmjlCCITeP8o7/TvC/t8/XVfLoBO34D8ib48J7XvhP6TWViBsHuI/sgtpr/6s4j+WfQH6PybjP+AN3rfVfuM/xJK6kKK24z9qoAdccNjjP6agEQZh6eM/g84lQvUB5D99Qr9c+jHkP2tCrIpUT+Q/",
          "dtype": "f8"
         },
         "yaxis": "y"
        },
        {
         "line": {
          "color": "rgb(77,175,74)",
          "width": 2
         },
         "mode": "lines",
         "name": "incumbent",
         "type": "scatter",
         "x": {
          "bdata": "AAAAAAAAAAB7FK5H4XqUP3sUrkfheqQ/uB6F61G4rj97FK5H4Xq0P5qZmZmZmbk/uB6F61G4vj/sUbgehevBP3sUrkfhesQ/CtejcD0Kxz+amZmZmZnJPylcj8L1KMw/uB6F61G4zj+kcD0K16PQP+xRuB6F69E/MzMzMzMz0z97FK5H4XrUP8P1KFyPwtU/CtejcD0K1z9SuB6F61HYP5qZmZmZmdk/4XoUrkfh2j8pXI/C9SjcP3E9CtejcN0/uB6F61G43j8AAAAAAADgP6RwPQrXo+A/SOF6FK5H4T/sUbgehevhP4/C9Shcj+I/MzMzMzMz4z/Xo3A9CtfjP3sUrkfheuQ/H4XrUbge5T/D9Shcj8LlP2dmZmZmZuY/CtejcD0K5z+uR+F6FK7nP1K4HoXrUeg/9ihcj8L16D+amZmZmZnpPz4K16NwPeo/4XoUrkfh6j+F61G4HoXrPylcj8L1KOw/zczMzMzM7D9xPQrXo3DtPxWuR+F6FO4/uB6F61G47j9cj8L1KFzvPwAAAAAAAPA/",
          "dtype": "f8"
         },
         "xaxis": "x",
         "y": {
          "bdata": "HkOQHnYO4z/hhrjRQ+niPxo2yY60uOI/cj7fi7qe4j8O09xsWIriP7KIPt5fZuI/buK/anYs4j91YKJ4VdjhP1fyw6mUZ+E/XvjDCV7m4D+tzXsbkVXgP8O1Yv75UN8/vvUOfGsS3j8VFSnzy8fcP3YFGb1Scds/gl8k/3Ur2j8w7UzdUPjYP/6ZFyzn1dc/3XHu6dLC1j8B7hKfXbPVP1qBIhGyp9Q/eteRmqXI0z8iTlacB+/SP6XYRJ3qH9I/Wszib9hS0T+gNw1SJoXQPyaJqt7u5M8/aoGqMifAzj9CLV0XTZvNP65qrl0wfsw/YyWebJxryz89PvR14nPKP3tq3jDxesk/nf+SQE+ByD/J5wnfr5zHP7KMxoxL0MY/a6iXUAICxj+ebMbuhjPFPyL5TNzBbMQ/TnvMF1W0wz8hbrf8q/bCP0VMFMwBPMI/LsSgFrCBwT8rSIqfDMXAP+CVN1E4CsA/RiG4p8Savj8yugpTxRa9Px2e8fPWnLs/E52VWQsduj+7j1S055+4P2hdDlu5Irc/",
          "dtype": "f8"
         },
         "yaxis": "y"
        },
        {
         "fill": "toself",
         "fillcolor": "rgba(77,175,74,0.1)",
         "hoverinfo": "skip",
         "line": {
          "color": "rgba(255,255,255,0)"
         },
         "showlegend": false,
         "type": "scatter",
         "x": {
          "bdata": "AAAAAAAAAAB7FK5H4XqUP3sUrkfheqQ/uB6F61G4rj97FK5H4Xq0P5qZmZmZmbk/uB6F61G4vj/sUbgehevBP3sUrkfhesQ/CtejcD0Kxz+amZmZmZnJPylcj8L1KMw/uB6F61G4zj+kcD0K16PQP+xRuB6F69E/MzMzMzMz0z97FK5H4XrUP8P1KFyPwtU/CtejcD0K1z9SuB6F61HYP5qZmZmZmdk/4XoUrkfh2j8pXI/C9SjcP3E9CtejcN0/uB6F61G43j8AAAAAAADgP6RwPQrXo+A/SOF6FK5H4T/sUbgehevhP4/C9Shcj+I/MzMzMzMz4z/Xo3A9CtfjP3sUrkfheuQ/H4XrUbge5T/D9Shcj8LlP2dmZmZmZuY/CtejcD0K5z+uR+F6FK7nP1K4HoXrUeg/9ihcj8L16D+amZmZmZnpPz4K16NwPeo/4XoUrkfh6j+F61G4HoXrPylcj8L1KOw/zczMzMzM7D9xPQrXo3DtPxWuR+F6FO4/uB6F61G47j9cj8L1KFzvPwAAAAAAAPA/AAAAAAAA8D9cj8L1KFzvP7gehetRuO4/Fa5H4XoU7j9xPQrXo3DtP83MzMzMzOw/KVyPwvUo7D+F61G4HoXrP+F6FK5H4eo/PgrXo3A96j+amZmZmZnpP/YoXI/C9eg/UrgehetR6D+uR+F6FK7nPwrXo3A9Cuc/Z2ZmZmZm5j/D9Shcj8LlPx+F61G4HuU/exSuR+F65D/Xo3A9CtfjPzMzMzMzM+M/j8L1KFyP4j/sUbgehevhP0jhehSuR+E/pHA9Ctej4D8AAAAAAADgP7gehetRuN4/cT0K16Nw3T8pXI/C9SjcP+F6FK5H4do/mpmZmZmZ2T9SuB6F61HYPwrXo3A9Ctc/w/UoXI/C1T97FK5H4XrUPzMzMzMzM9M/7FG4HoXr0T+kcD0K16PQP7gehetRuM4/KVyPwvUozD+amZmZmZnJPwrXo3A9Csc/exSuR+F6xD/sUbgehevBP7gehetRuL4/mpmZmZmZuT97FK5H4Xq0P7gehetRuK4/exSuR+F6pD97FK5H4XqUPwAAAAAAAAAA",
          "dtype": "f8"
         },
         "xaxis": "x",
         "y": {
          "bdata": "W/THp7DN4T/h9WGGJ6rhP5mD79hQduE/bFYSkvJW4T+7V8vWgz/hP/1x9D3yF+E/TSgmYQnc4D8G0sxAj4rgPw5wYjhrHeA/4imc2kdE3z/wOASFKDPeP2X6+bre9dw/7lIlgNbT2z/zDrzhw6vaP9Cqz2GUfdk/Sd9rNjhf2D+pPg9eEFLXPwVanVmbVdY/2ZccsBtp1T8GK+kUzn/UP3IeGybvmNM/PXMT/jzX0j8V+WgPXxnSPzZbSlSmZNE/+6Qj+BKx0D+4n6e9jPrPP+YFUJdb9c4/HIR6G2LwzT8Y6VvvBevMP8X0MmMv7Ms/DQgVkz/1yj/kuqNOeRnKP2QctM6RPck/TiiKMY9dyD9LiUZiaX3HPzkWfTHmo8Y/6XmRT8zHxT9pVj0Q3erEP25KKG+EGMQ/pO5BcTtXwz9gl4WqVpPCP/s213ZT0sE/3wnIrRwTwT+BsZp8Sk7APweLXRSxIL8/dYAjFuSevT8HT1D8GA+8P68wc+CrjLo/2natRC4BuT8K6yL2cnm3Px/zzNxO8bU/scdP2SNUuD9sNIZyXMa5P0zDfW7oOLs/iwtwBwKtvD9dJcWpcR6+PxfCTDmllr8/PWZAGBiEwD/V3nnCzjvBP31+eX9D8ME/j2FRIbClwj/iROlOAVrDP/gHV75uEcQ/1qdxSf/AxD/Tgk/NMHzFP+3WnVE4PMY/KwMQ6LD8xj9HRs1b9rvHP+zWm08Ppcg/krgIk1C4yT+WwUSdS87KP7lCJ0b54cs/l+ApWDEQzT9scV4/lEvOP7h+2knsj88/M4YCE0Fq0D9kn0ZFBg3RP7nzoeed9NE/FFY/5i7b0j8vo0MpsMTTP7c7EDcOutQ/QuQp/HS21T/8sDwp7ebWP+FLwCOKHNg/99mR/jJW2T+3m4pckZ7aP7vf3Mez99s/HGBiGBFl3T83G5YE1OPeP0dM/DuAKOA/kLjloArW4D/ifnX0jZHhP8vbOSaYKuI/oHQlG76x4j/k7newGybjP4+cWXTjfOM/Z5+Ifs204z9hTu4CLdXjP3gmrIWC5uM/m+iiRBj74z/hFw8dYCjkP+GRWJU7T+Q/",
          "dtype": "f8"
         },
         "yaxis": "y"
        },
        {
         "line": {
          "color": "rgb(152,78,163)",
          "width": 2
         },
         "mode": "lines",
         "name": "random",
         "type": "scatter",
         "x": {
          "bdata": "AAAAAAAAAAB7FK5H4XqUP3sUrkfheqQ/uB6F61G4rj97FK5H4Xq0P5qZmZmZmbk/uB6F61G4vj/sUbgehevBP3sUrkfhesQ/CtejcD0Kxz+amZmZmZnJPylcj8L1KMw/uB6F61G4zj+kcD0K16PQP+xRuB6F69E/MzMzMzMz0z97FK5H4XrUP8P1KFyPwtU/CtejcD0K1z9SuB6F61HYP5qZmZmZmdk/4XoUrkfh2j8pXI/C9SjcP3E9CtejcN0/uB6F61G43j8AAAAAAADgP6RwPQrXo+A/SOF6FK5H4T/sUbgehevhP4/C9Shcj+I/MzMzMzMz4z/Xo3A9CtfjP3sUrkfheuQ/H4XrUbge5T/D9Shcj8LlP2dmZmZmZuY/CtejcD0K5z+uR+F6FK7nP1K4HoXrUeg/9ihcj8L16D+amZmZmZnpPz4K16NwPeo/4XoUrkfh6j+F61G4HoXrPylcj8L1KOw/zczMzMzM7D9xPQrXo3DtPxWuR+F6FO4/uB6F61G47j9cj8L1KFzvPwAAAAAAAPA/",
          "dtype": "f8"
         },
         "xaxis": "x",
         "y": {
          "bdata": "/W21GL0O4z8XW2zxLfPiP/V77TDWv+I/dtNpA8yh4j9XpL9xp4ziP9wyzOrhauI/F0NtFxE44j9ymrAfQ+vhP15k9dguhOE/dezYIrQL4T+xVkEXRITgPwse2voMvN8/WsRTBm6L3j/iq0CN10zdP3N8FY0VANw/lnby28/F2j9KeSNgAZ/ZP8S5ZKU/hdg/8Hg0/KV21z+ArteZ7mrWPz6NauePXtU/D1Q9GMd91D/kIiacRqLTPyjFwhrf0NI/6r+AHfz/0T9VCyw68ivRP6h3K0l7l9A/LVRa0TUD0D+1yWTs8d7OP2IxERLeu80/zWOp5/ChzD9Nau2WOafLP0JXi83xqco/w++kifCryT9FMkImnMHIP62kUcMf9Mc/SqbJoMUkxz9Ve7FUZlPGPz8bv4mchMU/s8B1Jp/DxD9iOdK5egLEP82GWohFOsM/38tyhChxwj+vkbeeNqbBP6lMVN6438A/3qaAZNITwD8y1lBRGpC+Pz1yBKCp+bw/Cu6A1Odouz9+Z+pDnNm5P4g2JIUwSrg/",
          "dtype": "f8"
         },
         "yaxis": "y"
        },
        {
         "fill": "toself",
         "fillcolor": "rgba(152,78,163,0.1)",
         "hoverinfo": "skip",
         "line": {
          "color": "rgba(255,255,255,0)"
         },
         "showlegend": false,
         "type": "scatter",
         "x": {
          "bdata": "AAAAAAAAAAB7FK5H4XqUP3sUrkfheqQ/uB6F61G4rj97FK5H4Xq0P5qZmZmZmbk/uB6F61G4vj/sUbgehevBP3sUrkfhesQ/CtejcD0Kxz+amZmZmZnJPylcj8L1KMw/uB6F61G4zj+kcD0K16PQP+xRuB6F69E/MzMzMzMz0z97FK5H4XrUP8P1KFyPwtU/CtejcD0K1z9SuB6F61HYP5qZmZmZmdk/4XoUrkfh2j8pXI/C9SjcP3E9CtejcN0/uB6F61G43j8AAAAAAADgP6RwPQrXo+A/SOF6FK5H4T/sUbgehevhP4/C9Shcj+I/MzMzMzMz4z/Xo3A9CtfjP3sUrkfheuQ/H4XrUbge5T/D9Shcj8LlP2dmZmZmZuY/CtejcD0K5z+uR+F6FK7nP1K4HoXrUeg/9ihcj8L16D+amZmZmZnpPz4K16NwPeo/4XoUrkfh6j+F61G4HoXrPylcj8L1KOw/zczMzMzM7D9xPQrXo3DtPxWuR+F6FO4/uB6F61G47j9cj8L1KFzvPwAAAAAAAPA/AAAAAAAA8D9cj8L1KFzvP7gehetRuO4/Fa5H4XoU7j9xPQrXo3DtP83MzMzMzOw/KVyPwvUo7D+F61G4HoXrP+F6FK5H4eo/PgrXo3A96j+amZmZmZnpP/YoXI/C9eg/UrgehetR6D+uR+F6FK7nPwrXo3A9Cuc/Z2ZmZmZm5j/D9Shcj8LlPx+F61G4HuU/exSuR+F65D/Xo3A9CtfjPzMzMzMzM+M/j8L1KFyP4j/sUbgehevhP0jhehSuR+E/pHA9Ctej4D8AAAAAAADgP7gehetRuN4/cT0K16Nw3T8pXI/C9SjcP+F6FK5H4do/mpmZmZmZ2T9SuB6F61HYPwrXo3A9Ctc/w/UoXI/C1T97FK5H4XrUPzMzMzMzM9M/7FG4HoXr0T+kcD0K16PQP7gehetRuM4/KVyPwvUozD+amZmZmZnJPwrXo3A9Csc/exSuR+F6xD/sUbgehevBP7gehetRuL4/mpmZmZmZuT97FK5H4Xq0P7gehetRuK4/exSuR+F6pD97FK5H4XqUPwAAAAAAAAAA",
          "dtype": "f8"
         },
         "xaxis": "x",
         "y": {
          "bdata": "i9PHo7vN4T+l1g/587bhPx6vNW1FfuE/TzJ6idhZ4T9klq4QL0DhPwA9fy2+GuE/zJsbzSfm4D/XPtHfFprgP268W664NuA/pXK3CdaG3z8oNb8mm4feP/8Xnz6LVN0/WyLe83o+3D/seBoEKSLbPz5tGgaX/tk/hYwMdHfr2D9jyVYNFOnXP5ud5t5k89Y/O9N6dzsJ1j+9uniTrSHVP7WHqG5jN9Q/d05Pld5y0z8AHce1vrLSP1AHxlmI/NE/HmvtnFNG0T/qaNDitI3QP814fzTVCdA/ZKIS4y8Mzz/EKYgGJQXOPxc3X6WRAc0/lhjhRnUFzD87onF3kSfLPxIRQAIxRso/c1Kz3wxgyT9J32dKKITIP68t1JTXvMc/kdMQcCDtxj+9fpgJVhXGP2q/x7P/PsU/TgIa+rJ3xD+/kB/GFbTDP0AHdvJ46MI/l5ehl2oewj8ZEh8CX1LBPyev9vdFi8A/Pi1pYzx+vz/WGUB0ReO9P1li6KHeSLw/vD3fUN+yuj8C/Bzx2R25P3Oo8qpmiLc/ncRVX/oLuT/60reWXpW6P1ieIljwHrw/IYIgnnSqvT+OkmEu7zy/Px23TJeGaMA/K+qxxCs0wT9FEVA7DvrBPycARHHmw8I/WgY/HhKMwz8F4oSt31DEPxh/0VKLD8U/FHe2XznKxT/td8qfdpHGPwN5gtFqXMc/qxvP8WcryD9BhRwCEP/IPxONljPU98k/cp3WmLINyz9fMmm24SbMPwSvcYhsPs0/rSvDfip2zj+maUHSvrjPPyhXK7FTgNA/g3bXXSEl0T/ArYeRL8rRP7YUFJ6kudI/AIO/2zWl0z/IKIWCzpHUP6dZK5uviNU/x5IsYLyF1j9DojagL7TXP6Ue7oAQ5Ng/7dXiaxoX2j8xKfCy7lTbP6dg2EMooNw/qIsQFJQB3j/Y3mYWhnffPyyzZIwwbOA/C5KKW8cR4T/OEiObusThP5gf1kD9U+I/TgyPA6XR4j8N9o9fbzzjP2LqvmH6ieM/uCgZqAW74z9KstDSH9njP510WX2/6eM/zEil9GYB5D+J38jpZy/kP28Io42+T+Q/",
          "dtype": "f8"
         },
         "yaxis": "y"
        },
        {
         "error_x": {
          "array": {
           "bdata": "NxIsmgY3lj/7lf8dUamRPzXCKNilOZE/F0xUB0wpnj8=",
           "dtype": "f8"
          },
          "type": "data"
         },
         "marker": {
          "color": "skyblue",
          "line": {
           "color": "black",
           "width": 1
          }
         },
         "orientation": "h",
         "showlegend": false,
         "type": "bar",
         "x": {
          "bdata": "E/csLZlU1T/WAnk+Cw3VP03Vgb8JstQ/ZSCC04e/0z8=",
          "dtype": "f8"
         },
         "xaxis": "x2",
         "y": [
          "random",
          "incumbent",
          "default",
          "False"
         ],
         "yaxis": "y2"
        }
       ],
       "layout": {
        "font": {
         "size": 16
        },
        "height": 400,
        "legend": {
         "font": {
          "size": 16
         },
         "title": {
          "text": "Optimizers"
         }
        },
        "margin": {
         "b": 50,
         "l": 50,
         "r": 50,
         "t": 60
        },
        "template": {
         "data": {
          "bar": [
           {
            "error_x": {
             "color": "#2a3f5f"
            },
            "error_y": {
             "color": "#2a3f5f"
            },
            "marker": {
             "line": {
              "color": "white",
              "width": 0.5
             },
             "pattern": {
              "fillmode": "overlay",
              "size": 10,
              "solidity": 0.2
             }
            },
            "type": "bar"
           }
          ],
          "barpolar": [
           {
            "marker": {
             "line": {
              "color": "white",
              "width": 0.5
             },
             "pattern": {
              "fillmode": "overlay",
              "size": 10,
              "solidity": 0.2
             }
            },
            "type": "barpolar"
           }
          ],
          "carpet": [
           {
            "aaxis": {
             "endlinecolor": "#2a3f5f",
             "gridcolor": "#C8D4E3",
             "linecolor": "#C8D4E3",
             "minorgridcolor": "#C8D4E3",
             "startlinecolor": "#2a3f5f"
            },
            "baxis": {
             "endlinecolor": "#2a3f5f",
             "gridcolor": "#C8D4E3",
             "linecolor": "#C8D4E3",
             "minorgridcolor": "#C8D4E3",
             "startlinecolor": "#2a3f5f"
            },
            "type": "carpet"
           }
          ],
          "choropleth": [
           {
            "colorbar": {
             "outlinewidth": 0,
             "ticks": ""
            },
            "type": "choropleth"
           }
          ],
          "contour": [
           {
            "colorbar": {
             "outlinewidth": 0,
             "ticks": ""
            },
            "colorscale": [
             [
              0,
              "#0d0887"
             ],
             [
              0.1111111111111111,
              "#46039f"
             ],
             [
              0.2222222222222222,
              "#7201a8"
             ],
             [
              0.3333333333333333,
              "#9c179e"
             ],
             [
              0.4444444444444444,
              "#bd3786"
             ],
             [
              0.5555555555555556,
              "#d8576b"
             ],
             [
              0.6666666666666666,
              "#ed7953"
             ],
             [
              0.7777777777777778,
              "#fb9f3a"
             ],
             [
              0.8888888888888888,
              "#fdca26"
             ],
             [
              1,
              "#f0f921"
             ]
            ],
            "type": "contour"
           }
          ],
          "contourcarpet": [
           {
            "colorbar": {
             "outlinewidth": 0,
             "ticks": ""
            },
            "type": "contourcarpet"
           }
          ],
          "heatmap": [
           {
            "colorbar": {
             "outlinewidth": 0,
             "ticks": ""
            },
            "colorscale": [
             [
              0,
              "#0d0887"
             ],
             [
              0.1111111111111111,
              "#46039f"
             ],
             [
              0.2222222222222222,
              "#7201a8"
             ],
             [
              0.3333333333333333,
              "#9c179e"
             ],
             [
              0.4444444444444444,
              "#bd3786"
             ],
             [
              0.5555555555555556,
              "#d8576b"
             ],
             [
              0.6666666666666666,
              "#ed7953"
             ],
             [
              0.7777777777777778,
              "#fb9f3a"
             ],
             [
              0.8888888888888888,
              "#fdca26"
             ],
             [
              1,
              "#f0f921"
             ]
            ],
            "type": "heatmap"
           }
          ],
          "histogram": [
           {
            "marker": {
             "pattern": {
              "fillmode": "overlay",
              "size": 10,
              "solidity": 0.2
             }
            },
            "type": "histogram"
           }
          ],
          "histogram2d": [
           {
            "colorbar": {
             "outlinewidth": 0,
             "ticks": ""
            },
            "colorscale": [
             [
              0,
              "#0d0887"
             ],
             [
              0.1111111111111111,
              "#46039f"
             ],
             [
              0.2222222222222222,
              "#7201a8"
             ],
             [
              0.3333333333333333,
              "#9c179e"
             ],
             [
              0.4444444444444444,
              "#bd3786"
             ],
             [
              0.5555555555555556,
              "#d8576b"
             ],
             [
              0.6666666666666666,
              "#ed7953"
             ],
             [
              0.7777777777777778,
              "#fb9f3a"
             ],
             [
              0.8888888888888888,
              "#fdca26"
             ],
             [
              1,
              "#f0f921"
             ]
            ],
            "type": "histogram2d"
           }
          ],
          "histogram2dcontour": [
           {
            "colorbar": {
             "outlinewidth": 0,
             "ticks": ""
            },
            "colorscale": [
             [
              0,
              "#0d0887"
             ],
             [
              0.1111111111111111,
              "#46039f"
             ],
             [
              0.2222222222222222,
              "#7201a8"
             ],
             [
              0.3333333333333333,
              "#9c179e"
             ],
             [
              0.4444444444444444,
              "#bd3786"
             ],
             [
              0.5555555555555556,
              "#d8576b"
             ],
             [
              0.6666666666666666,
              "#ed7953"
             ],
             [
              0.7777777777777778,
              "#fb9f3a"
             ],
             [
              0.8888888888888888,
              "#fdca26"
             ],
             [
              1,
              "#f0f921"
             ]
            ],
            "type": "histogram2dcontour"
           }
          ],
          "mesh3d": [
           {
            "colorbar": {
             "outlinewidth": 0,
             "ticks": ""
            },
            "type": "mesh3d"
           }
          ],
          "parcoords": [
           {
            "line": {
             "colorbar": {
              "outlinewidth": 0,
              "ticks": ""
             }
            },
            "type": "parcoords"
           }
          ],
          "pie": [
           {
            "automargin": true,
            "type": "pie"
           }
          ],
          "scatter": [
           {
            "fillpattern": {
             "fillmode": "overlay",
             "size": 10,
             "solidity": 0.2
            },
            "type": "scatter"
           }
          ],
          "scatter3d": [
           {
            "line": {
             "colorbar": {
              "outlinewidth": 0,
              "ticks": ""
             }
            },
            "marker": {
             "colorbar": {
              "outlinewidth": 0,
              "ticks": ""
             }
            },
            "type": "scatter3d"
           }
          ],
          "scattercarpet": [
           {
            "marker": {
             "colorbar": {
              "outlinewidth": 0,
              "ticks": ""
             }
            },
            "type": "scattercarpet"
           }
          ],
          "scattergeo": [
           {
            "marker": {
             "colorbar": {
              "outlinewidth": 0,
              "ticks": ""
             }
            },
            "type": "scattergeo"
           }
          ],
          "scattergl": [
           {
            "marker": {
             "colorbar": {
              "outlinewidth": 0,
              "ticks": ""
             }
            },
            "type": "scattergl"
           }
          ],
          "scattermap": [
           {
            "marker": {
             "colorbar": {
              "outlinewidth": 0,
              "ticks": ""
             }
            },
            "type": "scattermap"
           }
          ],
          "scattermapbox": [
           {
            "marker": {
             "colorbar": {
              "outlinewidth": 0,
              "ticks": ""
             }
            },
            "type": "scattermapbox"
           }
          ],
          "scatterpolar": [
           {
            "marker": {
             "colorbar": {
              "outlinewidth": 0,
              "ticks": ""
             }
            },
            "type": "scatterpolar"
           }
          ],
          "scatterpolargl": [
           {
            "marker": {
             "colorbar": {
              "outlinewidth": 0,
              "ticks": ""
             }
            },
            "type": "scatterpolargl"
           }
          ],
          "scatterternary": [
           {
            "marker": {
             "colorbar": {
              "outlinewidth": 0,
              "ticks": ""
             }
            },
            "type": "scatterternary"
           }
          ],
          "surface": [
           {
            "colorbar": {
             "outlinewidth": 0,
             "ticks": ""
            },
            "colorscale": [
             [
              0,
              "#0d0887"
             ],
             [
              0.1111111111111111,
              "#46039f"
             ],
             [
              0.2222222222222222,
              "#7201a8"
             ],
             [
              0.3333333333333333,
              "#9c179e"
             ],
             [
              0.4444444444444444,
              "#bd3786"
             ],
             [
              0.5555555555555556,
              "#d8576b"
             ],
             [
              0.6666666666666666,
              "#ed7953"
             ],
             [
              0.7777777777777778,
              "#fb9f3a"
             ],
             [
              0.8888888888888888,
              "#fdca26"
             ],
             [
              1,
              "#f0f921"
             ]
            ],
            "type": "surface"
           }
          ],
          "table": [
           {
            "cells": {
             "fill": {
              "color": "#EBF0F8"
             },
             "line": {
              "color": "white"
             }
            },
            "header": {
             "fill": {
              "color": "#C8D4E3"
             },
             "line": {
              "color": "white"
             }
            },
            "type": "table"
           }
          ]
         },
         "layout": {
          "annotationdefaults": {
           "arrowcolor": "#2a3f5f",
           "arrowhead": 0,
           "arrowwidth": 1
          },
          "autotypenumbers": "strict",
          "coloraxis": {
           "colorbar": {
            "outlinewidth": 0,
            "ticks": ""
           }
          },
          "colorscale": {
           "diverging": [
            [
             0,
             "#8e0152"
            ],
            [
             0.1,
             "#c51b7d"
            ],
            [
             0.2,
             "#de77ae"
            ],
            [
             0.3,
             "#f1b6da"
            ],
            [
             0.4,
             "#fde0ef"
            ],
            [
             0.5,
             "#f7f7f7"
            ],
            [
             0.6,
             "#e6f5d0"
            ],
            [
             0.7,
             "#b8e186"
            ],
            [
             0.8,
             "#7fbc41"
            ],
            [
             0.9,
             "#4d9221"
            ],
            [
             1,
             "#276419"
            ]
           ],
           "sequential": [
            [
             0,
             "#0d0887"
            ],
            [
             0.1111111111111111,
             "#46039f"
            ],
            [
             0.2222222222222222,
             "#7201a8"
            ],
            [
             0.3333333333333333,
             "#9c179e"
            ],
            [
             0.4444444444444444,
             "#bd3786"
            ],
            [
             0.5555555555555556,
             "#d8576b"
            ],
            [
             0.6666666666666666,
             "#ed7953"
            ],
            [
             0.7777777777777778,
             "#fb9f3a"
            ],
            [
             0.8888888888888888,
             "#fdca26"
            ],
            [
             1,
             "#f0f921"
            ]
           ],
           "sequentialminus": [
            [
             0,
             "#0d0887"
            ],
            [
             0.1111111111111111,
             "#46039f"
            ],
            [
             0.2222222222222222,
             "#7201a8"
            ],
            [
             0.3333333333333333,
             "#9c179e"
            ],
            [
             0.4444444444444444,
             "#bd3786"
            ],
            [
             0.5555555555555556,
             "#d8576b"
            ],
            [
             0.6666666666666666,
             "#ed7953"
            ],
            [
             0.7777777777777778,
             "#fb9f3a"
            ],
            [
             0.8888888888888888,
             "#fdca26"
            ],
            [
             1,
             "#f0f921"
            ]
           ]
          },
          "colorway": [
           "#636efa",
           "#EF553B",
           "#00cc96",
           "#ab63fa",
           "#FFA15A",
           "#19d3f3",
           "#FF6692",
           "#B6E880",
           "#FF97FF",
           "#FECB52"
          ],
          "font": {
           "color": "#2a3f5f"
          },
          "geo": {
           "bgcolor": "white",
           "lakecolor": "white",
           "landcolor": "white",
           "showlakes": true,
           "showland": true,
           "subunitcolor": "#C8D4E3"
          },
          "hoverlabel": {
           "align": "left"
          },
          "hovermode": "closest",
          "mapbox": {
           "style": "light"
          },
          "paper_bgcolor": "white",
          "plot_bgcolor": "white",
          "polar": {
           "angularaxis": {
            "gridcolor": "#EBF0F8",
            "linecolor": "#EBF0F8",
            "ticks": ""
           },
           "bgcolor": "white",
           "radialaxis": {
            "gridcolor": "#EBF0F8",
            "linecolor": "#EBF0F8",
            "ticks": ""
           }
          },
          "scene": {
           "xaxis": {
            "backgroundcolor": "white",
            "gridcolor": "#DFE8F3",
            "gridwidth": 2,
            "linecolor": "#EBF0F8",
            "showbackground": true,
            "ticks": "",
            "zerolinecolor": "#EBF0F8"
           },
           "yaxis": {
            "backgroundcolor": "white",
            "gridcolor": "#DFE8F3",
            "gridwidth": 2,
            "linecolor": "#EBF0F8",
            "showbackground": true,
            "ticks": "",
            "zerolinecolor": "#EBF0F8"
           },
           "zaxis": {
            "backgroundcolor": "white",
            "gridcolor": "#DFE8F3",
            "gridwidth": 2,
            "linecolor": "#EBF0F8",
            "showbackground": true,
            "ticks": "",
            "zerolinecolor": "#EBF0F8"
           }
          },
          "shapedefaults": {
           "line": {
            "color": "#2a3f5f"
           }
          },
          "ternary": {
           "aaxis": {
            "gridcolor": "#DFE8F3",
            "linecolor": "#A2B1C6",
            "ticks": ""
           },
           "baxis": {
            "gridcolor": "#DFE8F3",
            "linecolor": "#A2B1C6",
            "ticks": ""
           },
           "bgcolor": "white",
           "caxis": {
            "gridcolor": "#DFE8F3",
            "linecolor": "#A2B1C6",
            "ticks": ""
           }
          },
          "title": {
           "x": 0.05
          },
          "xaxis": {
           "automargin": true,
           "gridcolor": "#EBF0F8",
           "linecolor": "#EBF0F8",
           "ticks": "",
           "title": {
            "standoff": 15
           },
           "zerolinecolor": "#EBF0F8",
           "zerolinewidth": 2
          },
          "yaxis": {
           "automargin": true,
           "gridcolor": "#EBF0F8",
           "linecolor": "#EBF0F8",
           "ticks": "",
           "title": {
            "standoff": 15
           },
           "zerolinecolor": "#EBF0F8",
           "zerolinewidth": 2
          }
         }
        },
        "width": 1200,
        "xaxis": {
         "anchor": "y",
         "domain": [
          0,
          0.51
         ],
         "title": {
          "text": "Normalized Trials"
         }
        },
        "xaxis2": {
         "anchor": "y2",
         "domain": [
          0.66,
          1
         ],
         "title": {
          "text": "AUC"
         }
        },
        "yaxis": {
         "anchor": "x",
         "domain": [
          0,
          1
         ],
         "title": {
          "text": "Normalized Inc-Performance"
         }
        },
        "yaxis2": {
         "anchor": "x2",
         "domain": [
          0,
          1
         ],
         "title": {
          "text": "Optimizer"
         }
        }
       }
      }
     },
     "metadata": {},
     "output_type": "display_data"
    }
   ],
   "source": [
    "plot_one_thing('cs_method')"
   ]
  },
  {
   "cell_type": "code",
   "execution_count": 73,
   "id": "73609c35",
   "metadata": {},
   "outputs": [
    {
     "name": "stderr",
     "output_type": "stream",
     "text": [
      "/home/daphne/Code/hpi_parego/CARP-S/carps/analysis/generate_report.py:276: UserWarning:\n",
      "\n",
      "Result is not significant and results of the plot may be misleading!\n",
      "\n",
      "/home/daphne/Code/hpi_parego/CARP-S/carps/analysis/run_autorank.py:322: FutureWarning:\n",
      "\n",
      "Series.__getitem__ treating keys as positions is deprecated. In a future version, integer keys will always be treated as labels (consistent with DataFrame behavior). To access a value by position, use `ser.iloc[pos]`\n",
      "\n",
      "/home/daphne/Code/hpi_parego/CARP-S/carps/analysis/run_autorank.py:421: UserWarning:\n",
      "\n",
      "FigureCanvasAgg is non-interactive, and thus cannot be shown\n",
      "\n",
      "/home/daphne/Code/hpi_parego/CARP-S/carps/analysis/run_autorank.py:198: UserWarning:\n",
      "\n",
      "Result is not significant and results of the plot may be misleading!\n",
      "\n"
     ]
    },
    {
     "data": {
      "text/html": [
       "<pre style=\"white-space:pre;overflow-x:auto;line-height:normal;font-family:Menlo,'DejaVu Sans Mono',consolas,'Courier New',monospace\"><span style=\"color: #7fbfbf; text-decoration-color: #7fbfbf\">[10:21:11] </span><span style=\"color: #000080; text-decoration-color: #000080\">INFO    </span> Create dataframe for neat plotting by aligning x-axis <span style=\"color: #800080; text-decoration-color: #800080\">/</span> interpolating        <a href=\"file:///home/daphne/Code/hpi_parego/CARP-S/carps/analysis/gather_data.py\" target=\"_blank\"><span style=\"color: #7f7f7f; text-decoration-color: #7f7f7f\">gather_data.py</span></a><span style=\"color: #7f7f7f; text-decoration-color: #7f7f7f\">:</span><a href=\"file:///home/daphne/Code/hpi_parego/CARP-S/carps/analysis/gather_data.py#725\" target=\"_blank\"><span style=\"color: #7f7f7f; text-decoration-color: #7f7f7f\">725</span></a>\n",
       "<span style=\"color: #7fbfbf; text-decoration-color: #7fbfbf\">           </span>         budget.                                                                      <span style=\"color: #7f7f7f; text-decoration-color: #7f7f7f\">                  </span>\n",
       "</pre>\n"
      ],
      "text/plain": [
       "\u001b[2;36m[10:21:11]\u001b[0m\u001b[2;36m \u001b[0m\u001b[34mINFO    \u001b[0m Create dataframe for neat plotting by aligning x-axis \u001b[35m/\u001b[0m interpolating        \u001b]8;id=453705;file:///home/daphne/Code/hpi_parego/CARP-S/carps/analysis/gather_data.py\u001b\\\u001b[2mgather_data.py\u001b[0m\u001b]8;;\u001b\\\u001b[2m:\u001b[0m\u001b]8;id=213087;file:///home/daphne/Code/hpi_parego/CARP-S/carps/analysis/gather_data.py#725\u001b\\\u001b[2m725\u001b[0m\u001b]8;;\u001b\\\n",
       "\u001b[2;36m           \u001b[0m         budget.                                                                      \u001b[2m                  \u001b[0m\n"
      ]
     },
     "metadata": {},
     "output_type": "display_data"
    },
    {
     "name": "stderr",
     "output_type": "stream",
     "text": [
      "/home/daphne/Code/hpi_parego/CARP-S/carps/analysis/generate_report.py:108: UserWarning:\n",
      "\n",
      "Result is not significant and results of the plot may be misleading!\n",
      "\n",
      "/home/daphne/Code/hpi_parego/CARP-S/carps/analysis/generate_report.py:108: UserWarning:\n",
      "\n",
      "Result is not significant and results of the plot may be misleading!\n",
      "\n",
      "/home/daphne/Code/hpi_parego/CARP-S/carps/analysis/generate_report.py:108: UserWarning:\n",
      "\n",
      "Result is not significant and results of the plot may be misleading!\n",
      "\n",
      "/home/daphne/Code/hpi_parego/CARP-S/carps/analysis/generate_report.py:108: UserWarning:\n",
      "\n",
      "Result is not significant and results of the plot may be misleading!\n",
      "\n",
      "/home/daphne/Code/hpi_parego/CARP-S/carps/analysis/generate_report.py:108: UserWarning:\n",
      "\n",
      "Result is not significant and results of the plot may be misleading!\n",
      "\n",
      "/home/daphne/Code/hpi_parego/CARP-S/carps/analysis/generate_report.py:108: UserWarning:\n",
      "\n",
      "Result is not significant and results of the plot may be misleading!\n",
      "\n",
      "/home/daphne/Code/hpi_parego/CARP-S/carps/analysis/generate_report.py:108: UserWarning:\n",
      "\n",
      "Result is not significant and results of the plot may be misleading!\n",
      "\n"
     ]
    },
    {
     "name": "stdout",
     "output_type": "stream",
     "text": [
      "['False' 'default' 'incumbent' 'random']\n"
     ]
    },
    {
     "name": "stderr",
     "output_type": "stream",
     "text": [
      "/tmp/ipykernel_4800/1961929167.py:25: DeprecationWarning:\n",
      "\n",
      "DataFrameGroupBy.apply operated on the grouping columns. This behavior is deprecated, and in a future version of pandas the grouping columns will be excluded from the operation. Either pass `include_groups=False` to exclude the groupings or explicitly select the grouping columns after groupby to silence this warning.\n",
      "\n"
     ]
    },
    {
     "data": {
      "application/vnd.plotly.v1+json": {
       "config": {
        "plotlyServerURL": "https://plot.ly"
       },
       "data": [
        {
         "line": {
          "color": "rgb(228,26,28)",
          "width": 2
         },
         "mode": "lines",
         "name": "False",
         "type": "scatter",
         "x": {
          "bdata": "AAAAAAAAAAB7FK5H4XqUP3sUrkfheqQ/uB6F61G4rj97FK5H4Xq0P5qZmZmZmbk/uB6F61G4vj/sUbgehevBP3sUrkfhesQ/CtejcD0Kxz+amZmZmZnJPylcj8L1KMw/uB6F61G4zj+kcD0K16PQP+xRuB6F69E/MzMzMzMz0z97FK5H4XrUP8P1KFyPwtU/CtejcD0K1z9SuB6F61HYP5qZmZmZmdk/4XoUrkfh2j8pXI/C9SjcP3E9CtejcN0/uB6F61G43j8AAAAAAADgP6RwPQrXo+A/SOF6FK5H4T/sUbgehevhP4/C9Shcj+I/MzMzMzMz4z/Xo3A9CtfjP3sUrkfheuQ/H4XrUbge5T/D9Shcj8LlP2dmZmZmZuY/CtejcD0K5z+uR+F6FK7nP1K4HoXrUeg/9ihcj8L16D+amZmZmZnpPz4K16NwPeo/4XoUrkfh6j+F61G4HoXrPylcj8L1KOw/zczMzMzM7D9xPQrXo3DtPxWuR+F6FO4/uB6F61G47j9cj8L1KFzvPwAAAAAAAPA/",
          "dtype": "f8"
         },
         "xaxis": "x",
         "y": {
          "bdata": "UFsWwi0O4z/Ox2GZ2O/iPwqW+zfXveI/TfC26xGg4j+N9F0LT4jiP0rYLVBFZOI/xkzSpHsq4j9306TLydDhPx2bV+vKWeE/rdrnGeTP4D9xHSCWbTbgP15ihM22A98/dTEl+Mm53T+SfPpg0mjcP7a333ZhEds/3vuiNYvM2T9IB/GuepzYP9I3T7QDfdc/SL+nxjNs1j9CbDpeJF7VP64CdZlMVdQ/3CpgN7R40z9yvvSYMqLSP1acUlaZ2NE/Rg84QqAP0T+rlmyQOUXQPyXKeyClbM8/Ik9AeWpPzj+Yny6cvDLNP/Bv3L1RGcw/wKm+V20Hyz/bab9wEBLKPxvoTA+/G8k/xRrGsoAkyD8ltzSkQEHHP+ayJ1pbesY/sTsRRIq0xT/AnCxkaO/EP/tSNuuTJcQ/ssmGShdxwz/uz5uuQrfCP9vjaGYZA8I/u8ISPvlFwT/9d8CSMpjAP2MqZZ6nxb8/MkO8VItOvj+uWptSkMe8P9bN0cP0Srs/ndj08l7UuT8rv6GiHmG4P5MXaEnF7bY/",
          "dtype": "f8"
         },
         "yaxis": "y"
        },
        {
         "fill": "toself",
         "fillcolor": "rgba(228,26,28,0.1)",
         "hoverinfo": "skip",
         "line": {
          "color": "rgba(255,255,255,0)"
         },
         "showlegend": false,
         "type": "scatter",
         "x": {
          "bdata": "AAAAAAAAAAB7FK5H4XqUP3sUrkfheqQ/uB6F61G4rj97FK5H4Xq0P5qZmZmZmbk/uB6F61G4vj/sUbgehevBP3sUrkfhesQ/CtejcD0Kxz+amZmZmZnJPylcj8L1KMw/uB6F61G4zj+kcD0K16PQP+xRuB6F69E/MzMzMzMz0z97FK5H4XrUP8P1KFyPwtU/CtejcD0K1z9SuB6F61HYP5qZmZmZmdk/4XoUrkfh2j8pXI/C9SjcP3E9CtejcN0/uB6F61G43j8AAAAAAADgP6RwPQrXo+A/SOF6FK5H4T/sUbgehevhP4/C9Shcj+I/MzMzMzMz4z/Xo3A9CtfjP3sUrkfheuQ/H4XrUbge5T/D9Shcj8LlP2dmZmZmZuY/CtejcD0K5z+uR+F6FK7nP1K4HoXrUeg/9ihcj8L16D+amZmZmZnpPz4K16NwPeo/4XoUrkfh6j+F61G4HoXrPylcj8L1KOw/zczMzMzM7D9xPQrXo3DtPxWuR+F6FO4/uB6F61G47j9cj8L1KFzvPwAAAAAAAPA/AAAAAAAA8D9cj8L1KFzvP7gehetRuO4/Fa5H4XoU7j9xPQrXo3DtP83MzMzMzOw/KVyPwvUo7D+F61G4HoXrP+F6FK5H4eo/PgrXo3A96j+amZmZmZnpP/YoXI/C9eg/UrgehetR6D+uR+F6FK7nPwrXo3A9Cuc/Z2ZmZmZm5j/D9Shcj8LlPx+F61G4HuU/exSuR+F65D/Xo3A9CtfjPzMzMzMzM+M/j8L1KFyP4j/sUbgehevhP0jhehSuR+E/pHA9Ctej4D8AAAAAAADgP7gehetRuN4/cT0K16Nw3T8pXI/C9SjcP+F6FK5H4do/mpmZmZmZ2T9SuB6F61HYPwrXo3A9Ctc/w/UoXI/C1T97FK5H4XrUPzMzMzMzM9M/7FG4HoXr0T+kcD0K16PQP7gehetRuM4/KVyPwvUozD+amZmZmZnJPwrXo3A9Csc/exSuR+F6xD/sUbgehevBP7gehetRuL4/mpmZmZmZuT97FK5H4Xq0P7gehetRuK4/exSuR+F6pD97FK5H4XqUPwAAAAAAAAAA",
          "dtype": "f8"
         },
         "xaxis": "x",
         "y": {
          "bdata": "14Mf/lfN4T8F7KgGp7LhPytIbAe7fOE/03F2WMVX4T8B0Bld7TvhPwS9C9OfFeE/ktsvKIrb4D9ek0PK0oTgP9XzBozKEeA/l+1YY+AZ3z9KeLOvLffdP28Q60aeqNw/yhHpgSt72z/JTTX6Ak7aP21cAwEjINk/3E9PmEQD2D+g5OybnvnWPzXNEU1VANY/Kj+V2SYW1T/+fzpg0C7UP2wKuEtVStM/2FFHz3eM0j+IdxNDg9PRP/2ygCIMJtE/uZ3qy9V40D8Km64ThZPPP1J5JGoglM4/ZzwT3dKUzT8ZgFvAO5XMP1RQzf4fmMs/ugY00FGeyj+OXpgkusLJPxD8Yq7T5sg/ZWX/cb0DyD/SM73RGSDHP1TX9rLoTMY/FIdL/xZ5xT8IVHT3jKXEP8vmkNBN0MM/IW1uGkAQwz8+Kd37tlDCPypwMpCUlcE/A2htxyXWwD8u82qLTiTAP+YlMR30174/mddIknBbvT9ozO0jdsu7PyhdFOc8Rbo/uZjOMo/CuD+UMB33AUO3P/GQWlwTw7U/NZ51NncYuD/CTSZOO3+5P4EYG7Mu5ro/hD6PoKxQvD/06EiBqsO9P8uuLxemQb8/cJfMj61ZwD/M/BWaFgzBP3MduLTMtcE/jFefPJ5wwj+edlphzh3DP0Mmn3ru0cM/K7/bBdp6xD945eTQQznFP07w1oj978U/eI5YAc6nxj94Oqx2Z2LHPyXQjPNDRcg/JtQ2cKpQyT8odea8ZmHKP8ZMSd+IcMs/jI/rfIOazD8XvwF4PdDNP91hbRUCCs8/fI1p65Qi0D/R3wGXsMDQP9OAhbhqptE/r4UkiiaL0j9cBdbu4XDTP+ADeZ/wZNQ/8Pox50Ng1T+GWDpceI3WP2Y/urNAwtc/b6KMG7L52D/wKfXBVj/aP+Cn9tLRlds//xK87J8C3T9bq7/HoYPePyBRYW5o+N8/JtoOqmev4D+9fmZURHHhP48+IwLYEuI/ZUKoSsuh4j+QEwbNwBzjP/q9dCFteeM/kPNPzeqy4z8ZGaK5sNTjP8du935e6OM/6eOKaPP+4z+XoxosCi3kP8kyDYYDT+Q/",
          "dtype": "f8"
         },
         "yaxis": "y"
        },
        {
         "line": {
          "color": "rgb(55,126,184)",
          "width": 2
         },
         "mode": "lines",
         "name": "default",
         "type": "scatter",
         "x": {
          "bdata": "AAAAAAAAAAB7FK5H4XqUP3sUrkfheqQ/uB6F61G4rj97FK5H4Xq0P5qZmZmZmbk/uB6F61G4vj/sUbgehevBP3sUrkfhesQ/CtejcD0Kxz+amZmZmZnJPylcj8L1KMw/uB6F61G4zj+kcD0K16PQP+xRuB6F69E/MzMzMzMz0z97FK5H4XrUP8P1KFyPwtU/CtejcD0K1z9SuB6F61HYP5qZmZmZmdk/4XoUrkfh2j8pXI/C9SjcP3E9CtejcN0/uB6F61G43j8AAAAAAADgP6RwPQrXo+A/SOF6FK5H4T/sUbgehevhP4/C9Shcj+I/MzMzMzMz4z/Xo3A9CtfjP3sUrkfheuQ/H4XrUbge5T/D9Shcj8LlP2dmZmZmZuY/CtejcD0K5z+uR+F6FK7nP1K4HoXrUeg/9ihcj8L16D+amZmZmZnpPz4K16NwPeo/4XoUrkfh6j+F61G4HoXrPylcj8L1KOw/zczMzMzM7D9xPQrXo3DtPxWuR+F6FO4/uB6F61G47j9cj8L1KFzvPwAAAAAAAPA/",
          "dtype": "f8"
         },
         "xaxis": "x",
         "y": {
          "bdata": "LkazyvEO4z9P6zxtRPXiP77KG8gNxOI/IoSVawim4j/n2rU055biP79bdyqUfOI/Zr5DRjJS4j9fAuX7mw3iPxE2dFkNquE/3V0JZ38z4T+Wn5Fsq6vgP8+EdUIcBOA/BrF0rmvQ3j9tNDM/E4vdPzrG4B+AONw/G1IfLrL52j8KADSOMtHZP8AU9zbludg/ylGnAIqy1z/y66N86q7WP3ICwqVHqtU/akEK/l/R1D/1YuLYdP3TP/vB+Of7MtM/N5cKW5xp0j9cVaccEaDRPxARb2gJC9E/6r4dD+R10D9+vyiEx8HPPxNuVb34ns4/cHmfbK6FzT9taIcAYIzMP57Mky93k8s/VWu/3Saayj/C2Ti9W7bJPw7JA7kr78g/XFpCDTUkyD9zrjwS1lbHP03tZN1/lcY/j1GYAonhxT/4q+MaVy3FP+KgjcRHdcQ/UJOe3pm9wz9m3kovXgLDP1rlfAU5SsI/Nspo+4yMwT/sB+T/7czAP/fIXWHxDMA/Iy79XyyZvj8mUDwfOxi9PzIpu3U8l7s/",
          "dtype": "f8"
         },
         "yaxis": "y"
        },
        {
         "fill": "toself",
         "fillcolor": "rgba(55,126,184,0.1)",
         "hoverinfo": "skip",
         "line": {
          "color": "rgba(255,255,255,0)"
         },
         "showlegend": false,
         "type": "scatter",
         "x": {
          "bdata": "AAAAAAAAAAB7FK5H4XqUP3sUrkfheqQ/uB6F61G4rj97FK5H4Xq0P5qZmZmZmbk/uB6F61G4vj/sUbgehevBP3sUrkfhesQ/CtejcD0Kxz+amZmZmZnJPylcj8L1KMw/uB6F61G4zj+kcD0K16PQP+xRuB6F69E/MzMzMzMz0z97FK5H4XrUP8P1KFyPwtU/CtejcD0K1z9SuB6F61HYP5qZmZmZmdk/4XoUrkfh2j8pXI/C9SjcP3E9CtejcN0/uB6F61G43j8AAAAAAADgP6RwPQrXo+A/SOF6FK5H4T/sUbgehevhP4/C9Shcj+I/MzMzMzMz4z/Xo3A9CtfjP3sUrkfheuQ/H4XrUbge5T/D9Shcj8LlP2dmZmZmZuY/CtejcD0K5z+uR+F6FK7nP1K4HoXrUeg/9ihcj8L16D+amZmZmZnpPz4K16NwPeo/4XoUrkfh6j+F61G4HoXrPylcj8L1KOw/zczMzMzM7D9xPQrXo3DtPxWuR+F6FO4/uB6F61G47j9cj8L1KFzvPwAAAAAAAPA/AAAAAAAA8D9cj8L1KFzvP7gehetRuO4/Fa5H4XoU7j9xPQrXo3DtP83MzMzMzOw/KVyPwvUo7D+F61G4HoXrP+F6FK5H4eo/PgrXo3A96j+amZmZmZnpP/YoXI/C9eg/UrgehetR6D+uR+F6FK7nPwrXo3A9Cuc/Z2ZmZmZm5j/D9Shcj8LlPx+F61G4HuU/exSuR+F65D/Xo3A9CtfjPzMzMzMzM+M/j8L1KFyP4j/sUbgehevhP0jhehSuR+E/pHA9Ctej4D8AAAAAAADgP7gehetRuN4/cT0K16Nw3T8pXI/C9SjcP+F6FK5H4do/mpmZmZmZ2T9SuB6F61HYPwrXo3A9Ctc/w/UoXI/C1T97FK5H4XrUPzMzMzMzM9M/7FG4HoXr0T+kcD0K16PQP7gehetRuM4/KVyPwvUozD+amZmZmZnJPwrXo3A9Csc/exSuR+F6xD/sUbgehevBP7gehetRuL4/mpmZmZmZuT97FK5H4Xq0P7gehetRuK4/exSuR+F6pD97FK5H4XqUPwAAAAAAAAAA",
          "dtype": "f8"
         },
         "xaxis": "x",
         "y": {
          "bdata": "9cFCxyXO4T/W6/QV4bfhP0ZCuWxtg+E/hXM11Dpe4T+y2/A6GEvhP/pINf8bLeE/bKNF3AMB4T+r6DX7a77gP/US4HrAXuA/ZR1TovLd3z+DhoubkuLeP/zGdJjasd0/+CKHm7OX3D/LiGup9XbbPwlOPBS7Tto/nNLD2m042T/+Q1LE9zbYP7C5lHByRNc/sbaeeOdf1j/v0t5GqX7VP+Q6N96SmdQ/+5+jAm7a0z89bMdnuB7TPwQ2Mj+ua9I/84A11s+40T+IRXk+LAXRP4ImooCtgNA/qGbrBhX4zz9VqKgkPO7OP3jdFAn+6c0/KrakzsHszD+Cp1OxpQvMP279lkbkKMs/84eCUmlByj/h8AmffmvJPz4N3TyRssg/j3JlTbjxxz9/6pOoZSfHP3zMzv1fYcY/zGqL5OymxT8gK/5Hm+zEP5shudnKK8Q/hpr9c9pswz8yF8EIe6vCPxAhVwZR78E/BJ9LxOUwwT/LXZ0Jv23AP8NBPSOHUr8/Jo6qgorLvT+uPDlqRES8PxpIr3rgvLo/SgrHcJhxvD+eYz/UMey9PyDOTz3OZr8/DfEcMZ9wwD8Nsir2HCzBP2j1hTI06ME/pKmiBCGlwj+apdRVQVnDPxqMP0lZDsQ/KSBir8S+xD/QLMntEm7FP1I4pSAlHMY/Hg77vJ/Jxj9ncuV7RobHPylCH82xVsg/3oQqNcYryT+jwmfbOAHKP7dO/Gjk8so/zpuQGAr+yz9YKbtPGg3NP7Y8mgqbHs4/rv6VcfNTzz9Ua9RxqUrQP4DKxZq979A/nvs7UGWV0T8wZdX69TrSP3ut399oGtM/8k2/kEn60z+tWf1JMdzUP9nicPlRyNU/AMpMbfy61j/1BGmyK9/XP+Psr4gsBdk/0G9Z/Vcv2j8WvBVYbWvbP5rReoH2utw/az6FK0Ui3j8P4PrUMJ/fP4ofseCRhOA/IKawOEsv4T/re12LDebhPwct6XwFeOI/LVkIOFr14j8THJT8y1zjP2DZQbBgo+M/hG65VQzM4z8c2noutuLjP7+U9QLW7eM/NlN+I64E5D/I6oTEpzLkP2fKI869T+Q/",
          "dtype": "f8"
         },
         "yaxis": "y"
        },
        {
         "line": {
          "color": "rgb(77,175,74)",
          "width": 2
         },
         "mode": "lines",
         "name": "incumbent",
         "type": "scatter",
         "x": {
          "bdata": "AAAAAAAAAAB7FK5H4XqUP3sUrkfheqQ/uB6F61G4rj97FK5H4Xq0P5qZmZmZmbk/uB6F61G4vj/sUbgehevBP3sUrkfhesQ/CtejcD0Kxz+amZmZmZnJPylcj8L1KMw/uB6F61G4zj+kcD0K16PQP+xRuB6F69E/MzMzMzMz0z97FK5H4XrUP8P1KFyPwtU/CtejcD0K1z9SuB6F61HYP5qZmZmZmdk/4XoUrkfh2j8pXI/C9SjcP3E9CtejcN0/uB6F61G43j8AAAAAAADgP6RwPQrXo+A/SOF6FK5H4T/sUbgehevhP4/C9Shcj+I/MzMzMzMz4z/Xo3A9CtfjP3sUrkfheuQ/H4XrUbge5T/D9Shcj8LlP2dmZmZmZuY/CtejcD0K5z+uR+F6FK7nP1K4HoXrUeg/9ihcj8L16D+amZmZmZnpPz4K16NwPeo/4XoUrkfh6j+F61G4HoXrPylcj8L1KOw/zczMzMzM7D9xPQrXo3DtPxWuR+F6FO4/uB6F61G47j9cj8L1KFzvPwAAAAAAAPA/",
          "dtype": "f8"
         },
         "xaxis": "x",
         "y": {
          "bdata": "zXEE/S8O4z+HMb0B6PDiP6bHEKF/vOI/gsuMxsGb4j8GRainkoTiP46XHYywW+I/bzJuUh8e4j+YvjdMtcfhPxzSiDV7V+E/jmj1nPbW4D/6fcQJZkjgPzqUtoulNd8/HWpocPL13T8AtdqUhqvcP5jcXaQcVts/JabSQdMU2j/KJRpiCujYP59SoxBJytc/TYG2uyS61j/Sz4+cc6zVP0vtVyS8otQ/fb4mjbPI0z+y+xuEO/PSP/6DoZgHJ9I/TpEYzVVc0T9iWi6pMpDQP2V0aJWC+88/9W+ZfszXzj9NJOnIKbXNP/hYVo/vl8w/NYtwfWCCyz9+vUcQu4bKP7lyInA1ick/NpQ0XWiMyD/VFpCbNaHHPxVZ0sRV0MY/BVlZWAD/xT/b3m+rLS3FP11MnRSVX8Q/dY5voz2iwz/oGyKpd9/CPzvk2UblG8I/llbn87JZwT+bpBQy55jAP/CbjsLrq78/U12Vrcshvj+GtdcW+J28P+IsrXDJFrs/lwszJh2JuT+aphji/wK4P3vjMDPSfLY/",
          "dtype": "f8"
         },
         "yaxis": "y"
        },
        {
         "fill": "toself",
         "fillcolor": "rgba(77,175,74,0.1)",
         "hoverinfo": "skip",
         "line": {
          "color": "rgba(255,255,255,0)"
         },
         "showlegend": false,
         "type": "scatter",
         "x": {
          "bdata": "AAAAAAAAAAB7FK5H4XqUP3sUrkfheqQ/uB6F61G4rj97FK5H4Xq0P5qZmZmZmbk/uB6F61G4vj/sUbgehevBP3sUrkfhesQ/CtejcD0Kxz+amZmZmZnJPylcj8L1KMw/uB6F61G4zj+kcD0K16PQP+xRuB6F69E/MzMzMzMz0z97FK5H4XrUP8P1KFyPwtU/CtejcD0K1z9SuB6F61HYP5qZmZmZmdk/4XoUrkfh2j8pXI/C9SjcP3E9CtejcN0/uB6F61G43j8AAAAAAADgP6RwPQrXo+A/SOF6FK5H4T/sUbgehevhP4/C9Shcj+I/MzMzMzMz4z/Xo3A9CtfjP3sUrkfheuQ/H4XrUbge5T/D9Shcj8LlP2dmZmZmZuY/CtejcD0K5z+uR+F6FK7nP1K4HoXrUeg/9ihcj8L16D+amZmZmZnpPz4K16NwPeo/4XoUrkfh6j+F61G4HoXrPylcj8L1KOw/zczMzMzM7D9xPQrXo3DtPxWuR+F6FO4/uB6F61G47j9cj8L1KFzvPwAAAAAAAPA/AAAAAAAA8D9cj8L1KFzvP7gehetRuO4/Fa5H4XoU7j9xPQrXo3DtP83MzMzMzOw/KVyPwvUo7D+F61G4HoXrP+F6FK5H4eo/PgrXo3A96j+amZmZmZnpP/YoXI/C9eg/UrgehetR6D+uR+F6FK7nPwrXo3A9Cuc/Z2ZmZmZm5j/D9Shcj8LlPx+F61G4HuU/exSuR+F65D/Xo3A9CtfjPzMzMzMzM+M/j8L1KFyP4j/sUbgehevhP0jhehSuR+E/pHA9Ctej4D8AAAAAAADgP7gehetRuN4/cT0K16Nw3T8pXI/C9SjcP+F6FK5H4do/mpmZmZmZ2T9SuB6F61HYPwrXo3A9Ctc/w/UoXI/C1T97FK5H4XrUPzMzMzMzM9M/7FG4HoXr0T+kcD0K16PQP7gehetRuM4/KVyPwvUozD+amZmZmZnJPwrXo3A9Csc/exSuR+F6xD/sUbgehevBP7gehetRuL4/mpmZmZmZuT97FK5H4Xq0P7gehetRuK4/exSuR+F6pD97FK5H4XqUPwAAAAAAAAAA",
          "dtype": "f8"
         },
         "xaxis": "x",
         "y": {
          "bdata": "/2eaxjXN4T/3QiWZiLPhP+dN1raWeuE/8R8kJsRU4T+2Wd6NiDrhP6zkjKbpDeE/vcMBlA/O4D9rxvLt6HfgP534/O7OC+A/OGlhZsEj3z/iSy9gCBreP8kULfp+29w/PKemnhO52z+51Ry+8JHaPx2sYorRZdk/OWLzWMNK2D/NEN+bkEDXP5RD0j5ERdY/sy81FQlY1T+ncH//7mzUP588vm7whNM/BWkx25HG0j9rFyl3cgvSPwm+MQEFWtE/x2FclLip0D+5orl5h/DPP8GETRpJ7M4/ebBWKXjozT843wd1sOTMP8iOLM2z5Ms/lJE2QTXqyj88kmkzKQnKP/0h5H03J8k/+xI/Ud1EyD/FVney5mfHPznCfxZwlcY/mthRFTS/xT+tuAwXXOXEPxJJR6K+DsQ/eU0nyBhMwz9oExKGoYLCP+HJkmXYusE/lOEU/hr2wD+a2L+gXTLAP7zTO3hH4b4/PU60IIhWvT9s66jNYs+7P+JD7jysTbo/kMQiKPK7uD+KpJGCtjO3Px/i8LTHqrU/1+RwsdxOtz+qqJ9BSdK4P55SQyRIVro/4hVspObfuz+gfwZgjWy9P2lsdjoP7b4/ErJwBkg7wD+ccGnDcP/AP5jLuelKvcE/lf4gKPJ8wj9oJDLMTTzDP3HPt35i+MM/qE/zhmuwxD8JBdM//3TFP3DZYJvMPsY/8e8kczsLxz/l1qiEhNrHP3EVKmnz08g/dcNgYjPryT/A6CXtTATLP9aEqrmLGsw/KCOAUStLzT9iacoco4XOP3Ev3NMgx88/BLJBCF6F0D9o43+VISjRP9XA1AXzDtI/80kRMAr00j/53w6RBNvTP/UTHD/VytQ/953x2YfA1T/9LqA5+OvWP+fSN2JAHNg/qmF04k1P2T/HOlUohI/aPxHqsSrj3ts/Ew1ZvmdG3T9HlJhrHMXeP38WFaFoGeA/1QmgDubH4D8DVnHjx4PhP4AcuoYMHOI/m6sUfCej4j/FtnyqgRfjPyGh2hAvbuM/cEqucXep4z9WMHLBnM7jPxN39Wa/4uM/ZUFLi2j+4z8XIFVqRy7kP5t7bjMqT+Q/",
          "dtype": "f8"
         },
         "yaxis": "y"
        },
        {
         "line": {
          "color": "rgb(152,78,163)",
          "width": 2
         },
         "mode": "lines",
         "name": "random",
         "type": "scatter",
         "x": {
          "bdata": "AAAAAAAAAAB7FK5H4XqUP3sUrkfheqQ/uB6F61G4rj97FK5H4Xq0P5qZmZmZmbk/uB6F61G4vj/sUbgehevBP3sUrkfhesQ/CtejcD0Kxz+amZmZmZnJPylcj8L1KMw/uB6F61G4zj+kcD0K16PQP+xRuB6F69E/MzMzMzMz0z97FK5H4XrUP8P1KFyPwtU/CtejcD0K1z9SuB6F61HYP5qZmZmZmdk/4XoUrkfh2j8pXI/C9SjcP3E9CtejcN0/uB6F61G43j8AAAAAAADgP6RwPQrXo+A/SOF6FK5H4T/sUbgehevhP4/C9Shcj+I/MzMzMzMz4z/Xo3A9CtfjP3sUrkfheuQ/H4XrUbge5T/D9Shcj8LlP2dmZmZmZuY/CtejcD0K5z+uR+F6FK7nP1K4HoXrUeg/9ihcj8L16D+amZmZmZnpPz4K16NwPeo/4XoUrkfh6j+F61G4HoXrPylcj8L1KOw/zczMzMzM7D9xPQrXo3DtPxWuR+F6FO4/uB6F61G47j9cj8L1KFzvPwAAAAAAAPA/",
          "dtype": "f8"
         },
         "xaxis": "x",
         "y": {
          "bdata": "y0hzOfIO4z/B8qlh1/HiP8ZQxAYsvOI/8g0YIoKj4j/J+F9lkY7iP7rv0KFCaOI/EG4vF18t4j+toUI1tNfhPzOmOn7SZ+E/LV8NDQTo4D8RumVC4FjgP3bmcQAKWt8/9ey07n0g3j+Tz0/wbtrcPzOegRXfh9s/AzYd/8dI2j9HOCC84R7ZP/N7sSkLA9g/Tp1FlqHz1j9Uh6u/HOjVPxoHqZCq29Q/4/Th1R730z8flSM4yxfTP4Lvc5S/QtI/q8IWCL1u0T86Umx4WpjQPxqqwXE8BNA/m3xZoQ3gzj82PfFuP7jNP5NrqMa7lsw/9fzk3MWAyz/aARnqZIrKP4IvNttjkMk/o9Y5b2aWyD9qaizxw7DHP/35iGVD48Y/5SdkApcTxj87s9gDjUHFP2rW62J+dcQ/7jY7LLWzwz8o7N0IRe7CPwA+UdAKJsI/GJkprkJhwT+z2ZL1PJXAP3IzoTycm78/EnmohEkLvj9aunOs8G+8P+DQuJsw3Lo/hb6EjT9JuT9Zl1vIibW3P6irdffLIbY/",
          "dtype": "f8"
         },
         "yaxis": "y"
        },
        {
         "fill": "toself",
         "fillcolor": "rgba(152,78,163,0.1)",
         "hoverinfo": "skip",
         "line": {
          "color": "rgba(255,255,255,0)"
         },
         "showlegend": false,
         "type": "scatter",
         "x": {
          "bdata": "AAAAAAAAAAB7FK5H4XqUP3sUrkfheqQ/uB6F61G4rj97FK5H4Xq0P5qZmZmZmbk/uB6F61G4vj/sUbgehevBP3sUrkfhesQ/CtejcD0Kxz+amZmZmZnJPylcj8L1KMw/uB6F61G4zj+kcD0K16PQP+xRuB6F69E/MzMzMzMz0z97FK5H4XrUP8P1KFyPwtU/CtejcD0K1z9SuB6F61HYP5qZmZmZmdk/4XoUrkfh2j8pXI/C9SjcP3E9CtejcN0/uB6F61G43j8AAAAAAADgP6RwPQrXo+A/SOF6FK5H4T/sUbgehevhP4/C9Shcj+I/MzMzMzMz4z/Xo3A9CtfjP3sUrkfheuQ/H4XrUbge5T/D9Shcj8LlP2dmZmZmZuY/CtejcD0K5z+uR+F6FK7nP1K4HoXrUeg/9ihcj8L16D+amZmZmZnpPz4K16NwPeo/4XoUrkfh6j+F61G4HoXrPylcj8L1KOw/zczMzMzM7D9xPQrXo3DtPxWuR+F6FO4/uB6F61G47j9cj8L1KFzvPwAAAAAAAPA/AAAAAAAA8D9cj8L1KFzvP7gehetRuO4/Fa5H4XoU7j9xPQrXo3DtP83MzMzMzOw/KVyPwvUo7D+F61G4HoXrP+F6FK5H4eo/PgrXo3A96j+amZmZmZnpP/YoXI/C9eg/UrgehetR6D+uR+F6FK7nPwrXo3A9Cuc/Z2ZmZmZm5j/D9Shcj8LlPx+F61G4HuU/exSuR+F65D/Xo3A9CtfjPzMzMzMzM+M/j8L1KFyP4j/sUbgehevhP0jhehSuR+E/pHA9Ctej4D8AAAAAAADgP7gehetRuN4/cT0K16Nw3T8pXI/C9SjcP+F6FK5H4do/mpmZmZmZ2T9SuB6F61HYPwrXo3A9Ctc/w/UoXI/C1T97FK5H4XrUPzMzMzMzM9M/7FG4HoXr0T+kcD0K16PQP7gehetRuM4/KVyPwvUozD+amZmZmZnJPwrXo3A9Csc/exSuR+F6xD/sUbgehevBP7gehetRuL4/mpmZmZmZuT97FK5H4Xq0P7gehetRuK4/exSuR+F6pD97FK5H4XqUPwAAAAAAAAAA",
          "dtype": "f8"
         },
         "xaxis": "x",
         "y": {
          "bdata": "lJId8uXN4T9HNKEwLrPhPy/6odE4euE/EcVHALVc4T9+6NWSQkThP++nQGvQGeE/JCGZ18Lc4D84+/m0o4jgP5vOszYjHeA/CEyPSb9H3z9rq989jTveP/NlsDL8AN0/k3A972rk2z/8C02TPMHaPwhdTTFvmNk/cW5m1COB2D+cnzhHoXvXP06QonafhNY/Yhv8avqa1T+VvZDn9rPUPx+31NDRytM/cpxTDocC0z8iacTz6D7SPzAyCDFNhdE/eYadDgjM0D9CoGKfxRHQPziiEbmUGc8/hWcbPWsPzj+MxhVi3AXNP3h6X7pcAsw/9N1i/cIIyz+fK0Jv7C3KP67kv23sTck/AytMQ3NoyD/Mo3LOF4/HPywFJuxCw8Y//PSgYPXrxT8nWzSPWQ3FPy4ZLyU8N8Q/HBV34WZswz+TjtgJ7J7CP/94+w5C0ME/XDJbWrsEwT86MfztlTHAP299Lo6Zzr4/NO3OseUyvT839XOH+4+7P84PqoJn8Lk/cY4WwblPuD92OkDXyK22P6Cw5f2fC7U/sKYF8fc3tz889Ha5Sr24P5nu8lnFQro/8pHHtPnHuz99f3PR5U+9P/AEglet474/u/SJdU80wD8sgin94/jAP9T/9wHKvcE/AQOnkdN7wj+9SeMHnj3DP8BY/3YD+8M/ppOooMCzxD9PC314wHXFP85aJ6Q4O8Y/zu7r3kMDxz8IMeYTcNLHP0OCJ5tZxMg/VnqsSNvSyT8V2O9k3ebKP/YbZ7zI+Ms/rlzx0horzT/gs8x7omrOP7GRlwWwsM8/GIP6hq570D8yBHZR7x7RP93+jwFyEdI/1Kzf9zEA0z8cwYJ8rfDTP1RNcJ2269Q/FVd9UIPs1T8TUcaXQhzXPzofj8FITNg/mGfA3HaB2T/y0AcxIsLaP5X90ylsENw/Xt+1+U533T8qk1JNofPeP6s0FndILuA/fbMZ54vZ4D9sntvl+ZPhP1YYU3UoLOI/y33BxYGy4j8iSIu1xCbjP/y6xVb7feM/hTdh2LS24z8UCeo34NjjP9NW6ENP6uM/XafmOx/+4z87sbKSgDDkPwL/yID+T+Q/",
          "dtype": "f8"
         },
         "yaxis": "y"
        },
        {
         "error_x": {
          "array": {
           "bdata": "5u6ynaWkkD+iHpSblX2DP7sKxfeECpE/fNQXdKeEkT8=",
           "dtype": "f8"
          },
          "type": "data"
         },
         "marker": {
          "color": "skyblue",
          "line": {
           "color": "black",
           "width": 1
          }
         },
         "orientation": "h",
         "showlegend": false,
         "type": "bar",
         "x": {
          "bdata": "b5ewcXG11D9xZwLeTp3UP/wbaVt6stM/EKSLAfJS0z8=",
          "dtype": "f8"
         },
         "xaxis": "x2",
         "y": [
          "default",
          "False",
          "random",
          "incumbent"
         ],
         "yaxis": "y2"
        }
       ],
       "layout": {
        "font": {
         "size": 16
        },
        "height": 400,
        "legend": {
         "font": {
          "size": 16
         },
         "title": {
          "text": "Optimizers"
         }
        },
        "margin": {
         "b": 50,
         "l": 50,
         "r": 50,
         "t": 60
        },
        "template": {
         "data": {
          "bar": [
           {
            "error_x": {
             "color": "#2a3f5f"
            },
            "error_y": {
             "color": "#2a3f5f"
            },
            "marker": {
             "line": {
              "color": "white",
              "width": 0.5
             },
             "pattern": {
              "fillmode": "overlay",
              "size": 10,
              "solidity": 0.2
             }
            },
            "type": "bar"
           }
          ],
          "barpolar": [
           {
            "marker": {
             "line": {
              "color": "white",
              "width": 0.5
             },
             "pattern": {
              "fillmode": "overlay",
              "size": 10,
              "solidity": 0.2
             }
            },
            "type": "barpolar"
           }
          ],
          "carpet": [
           {
            "aaxis": {
             "endlinecolor": "#2a3f5f",
             "gridcolor": "#C8D4E3",
             "linecolor": "#C8D4E3",
             "minorgridcolor": "#C8D4E3",
             "startlinecolor": "#2a3f5f"
            },
            "baxis": {
             "endlinecolor": "#2a3f5f",
             "gridcolor": "#C8D4E3",
             "linecolor": "#C8D4E3",
             "minorgridcolor": "#C8D4E3",
             "startlinecolor": "#2a3f5f"
            },
            "type": "carpet"
           }
          ],
          "choropleth": [
           {
            "colorbar": {
             "outlinewidth": 0,
             "ticks": ""
            },
            "type": "choropleth"
           }
          ],
          "contour": [
           {
            "colorbar": {
             "outlinewidth": 0,
             "ticks": ""
            },
            "colorscale": [
             [
              0,
              "#0d0887"
             ],
             [
              0.1111111111111111,
              "#46039f"
             ],
             [
              0.2222222222222222,
              "#7201a8"
             ],
             [
              0.3333333333333333,
              "#9c179e"
             ],
             [
              0.4444444444444444,
              "#bd3786"
             ],
             [
              0.5555555555555556,
              "#d8576b"
             ],
             [
              0.6666666666666666,
              "#ed7953"
             ],
             [
              0.7777777777777778,
              "#fb9f3a"
             ],
             [
              0.8888888888888888,
              "#fdca26"
             ],
             [
              1,
              "#f0f921"
             ]
            ],
            "type": "contour"
           }
          ],
          "contourcarpet": [
           {
            "colorbar": {
             "outlinewidth": 0,
             "ticks": ""
            },
            "type": "contourcarpet"
           }
          ],
          "heatmap": [
           {
            "colorbar": {
             "outlinewidth": 0,
             "ticks": ""
            },
            "colorscale": [
             [
              0,
              "#0d0887"
             ],
             [
              0.1111111111111111,
              "#46039f"
             ],
             [
              0.2222222222222222,
              "#7201a8"
             ],
             [
              0.3333333333333333,
              "#9c179e"
             ],
             [
              0.4444444444444444,
              "#bd3786"
             ],
             [
              0.5555555555555556,
              "#d8576b"
             ],
             [
              0.6666666666666666,
              "#ed7953"
             ],
             [
              0.7777777777777778,
              "#fb9f3a"
             ],
             [
              0.8888888888888888,
              "#fdca26"
             ],
             [
              1,
              "#f0f921"
             ]
            ],
            "type": "heatmap"
           }
          ],
          "histogram": [
           {
            "marker": {
             "pattern": {
              "fillmode": "overlay",
              "size": 10,
              "solidity": 0.2
             }
            },
            "type": "histogram"
           }
          ],
          "histogram2d": [
           {
            "colorbar": {
             "outlinewidth": 0,
             "ticks": ""
            },
            "colorscale": [
             [
              0,
              "#0d0887"
             ],
             [
              0.1111111111111111,
              "#46039f"
             ],
             [
              0.2222222222222222,
              "#7201a8"
             ],
             [
              0.3333333333333333,
              "#9c179e"
             ],
             [
              0.4444444444444444,
              "#bd3786"
             ],
             [
              0.5555555555555556,
              "#d8576b"
             ],
             [
              0.6666666666666666,
              "#ed7953"
             ],
             [
              0.7777777777777778,
              "#fb9f3a"
             ],
             [
              0.8888888888888888,
              "#fdca26"
             ],
             [
              1,
              "#f0f921"
             ]
            ],
            "type": "histogram2d"
           }
          ],
          "histogram2dcontour": [
           {
            "colorbar": {
             "outlinewidth": 0,
             "ticks": ""
            },
            "colorscale": [
             [
              0,
              "#0d0887"
             ],
             [
              0.1111111111111111,
              "#46039f"
             ],
             [
              0.2222222222222222,
              "#7201a8"
             ],
             [
              0.3333333333333333,
              "#9c179e"
             ],
             [
              0.4444444444444444,
              "#bd3786"
             ],
             [
              0.5555555555555556,
              "#d8576b"
             ],
             [
              0.6666666666666666,
              "#ed7953"
             ],
             [
              0.7777777777777778,
              "#fb9f3a"
             ],
             [
              0.8888888888888888,
              "#fdca26"
             ],
             [
              1,
              "#f0f921"
             ]
            ],
            "type": "histogram2dcontour"
           }
          ],
          "mesh3d": [
           {
            "colorbar": {
             "outlinewidth": 0,
             "ticks": ""
            },
            "type": "mesh3d"
           }
          ],
          "parcoords": [
           {
            "line": {
             "colorbar": {
              "outlinewidth": 0,
              "ticks": ""
             }
            },
            "type": "parcoords"
           }
          ],
          "pie": [
           {
            "automargin": true,
            "type": "pie"
           }
          ],
          "scatter": [
           {
            "fillpattern": {
             "fillmode": "overlay",
             "size": 10,
             "solidity": 0.2
            },
            "type": "scatter"
           }
          ],
          "scatter3d": [
           {
            "line": {
             "colorbar": {
              "outlinewidth": 0,
              "ticks": ""
             }
            },
            "marker": {
             "colorbar": {
              "outlinewidth": 0,
              "ticks": ""
             }
            },
            "type": "scatter3d"
           }
          ],
          "scattercarpet": [
           {
            "marker": {
             "colorbar": {
              "outlinewidth": 0,
              "ticks": ""
             }
            },
            "type": "scattercarpet"
           }
          ],
          "scattergeo": [
           {
            "marker": {
             "colorbar": {
              "outlinewidth": 0,
              "ticks": ""
             }
            },
            "type": "scattergeo"
           }
          ],
          "scattergl": [
           {
            "marker": {
             "colorbar": {
              "outlinewidth": 0,
              "ticks": ""
             }
            },
            "type": "scattergl"
           }
          ],
          "scattermap": [
           {
            "marker": {
             "colorbar": {
              "outlinewidth": 0,
              "ticks": ""
             }
            },
            "type": "scattermap"
           }
          ],
          "scattermapbox": [
           {
            "marker": {
             "colorbar": {
              "outlinewidth": 0,
              "ticks": ""
             }
            },
            "type": "scattermapbox"
           }
          ],
          "scatterpolar": [
           {
            "marker": {
             "colorbar": {
              "outlinewidth": 0,
              "ticks": ""
             }
            },
            "type": "scatterpolar"
           }
          ],
          "scatterpolargl": [
           {
            "marker": {
             "colorbar": {
              "outlinewidth": 0,
              "ticks": ""
             }
            },
            "type": "scatterpolargl"
           }
          ],
          "scatterternary": [
           {
            "marker": {
             "colorbar": {
              "outlinewidth": 0,
              "ticks": ""
             }
            },
            "type": "scatterternary"
           }
          ],
          "surface": [
           {
            "colorbar": {
             "outlinewidth": 0,
             "ticks": ""
            },
            "colorscale": [
             [
              0,
              "#0d0887"
             ],
             [
              0.1111111111111111,
              "#46039f"
             ],
             [
              0.2222222222222222,
              "#7201a8"
             ],
             [
              0.3333333333333333,
              "#9c179e"
             ],
             [
              0.4444444444444444,
              "#bd3786"
             ],
             [
              0.5555555555555556,
              "#d8576b"
             ],
             [
              0.6666666666666666,
              "#ed7953"
             ],
             [
              0.7777777777777778,
              "#fb9f3a"
             ],
             [
              0.8888888888888888,
              "#fdca26"
             ],
             [
              1,
              "#f0f921"
             ]
            ],
            "type": "surface"
           }
          ],
          "table": [
           {
            "cells": {
             "fill": {
              "color": "#EBF0F8"
             },
             "line": {
              "color": "white"
             }
            },
            "header": {
             "fill": {
              "color": "#C8D4E3"
             },
             "line": {
              "color": "white"
             }
            },
            "type": "table"
           }
          ]
         },
         "layout": {
          "annotationdefaults": {
           "arrowcolor": "#2a3f5f",
           "arrowhead": 0,
           "arrowwidth": 1
          },
          "autotypenumbers": "strict",
          "coloraxis": {
           "colorbar": {
            "outlinewidth": 0,
            "ticks": ""
           }
          },
          "colorscale": {
           "diverging": [
            [
             0,
             "#8e0152"
            ],
            [
             0.1,
             "#c51b7d"
            ],
            [
             0.2,
             "#de77ae"
            ],
            [
             0.3,
             "#f1b6da"
            ],
            [
             0.4,
             "#fde0ef"
            ],
            [
             0.5,
             "#f7f7f7"
            ],
            [
             0.6,
             "#e6f5d0"
            ],
            [
             0.7,
             "#b8e186"
            ],
            [
             0.8,
             "#7fbc41"
            ],
            [
             0.9,
             "#4d9221"
            ],
            [
             1,
             "#276419"
            ]
           ],
           "sequential": [
            [
             0,
             "#0d0887"
            ],
            [
             0.1111111111111111,
             "#46039f"
            ],
            [
             0.2222222222222222,
             "#7201a8"
            ],
            [
             0.3333333333333333,
             "#9c179e"
            ],
            [
             0.4444444444444444,
             "#bd3786"
            ],
            [
             0.5555555555555556,
             "#d8576b"
            ],
            [
             0.6666666666666666,
             "#ed7953"
            ],
            [
             0.7777777777777778,
             "#fb9f3a"
            ],
            [
             0.8888888888888888,
             "#fdca26"
            ],
            [
             1,
             "#f0f921"
            ]
           ],
           "sequentialminus": [
            [
             0,
             "#0d0887"
            ],
            [
             0.1111111111111111,
             "#46039f"
            ],
            [
             0.2222222222222222,
             "#7201a8"
            ],
            [
             0.3333333333333333,
             "#9c179e"
            ],
            [
             0.4444444444444444,
             "#bd3786"
            ],
            [
             0.5555555555555556,
             "#d8576b"
            ],
            [
             0.6666666666666666,
             "#ed7953"
            ],
            [
             0.7777777777777778,
             "#fb9f3a"
            ],
            [
             0.8888888888888888,
             "#fdca26"
            ],
            [
             1,
             "#f0f921"
            ]
           ]
          },
          "colorway": [
           "#636efa",
           "#EF553B",
           "#00cc96",
           "#ab63fa",
           "#FFA15A",
           "#19d3f3",
           "#FF6692",
           "#B6E880",
           "#FF97FF",
           "#FECB52"
          ],
          "font": {
           "color": "#2a3f5f"
          },
          "geo": {
           "bgcolor": "white",
           "lakecolor": "white",
           "landcolor": "white",
           "showlakes": true,
           "showland": true,
           "subunitcolor": "#C8D4E3"
          },
          "hoverlabel": {
           "align": "left"
          },
          "hovermode": "closest",
          "mapbox": {
           "style": "light"
          },
          "paper_bgcolor": "white",
          "plot_bgcolor": "white",
          "polar": {
           "angularaxis": {
            "gridcolor": "#EBF0F8",
            "linecolor": "#EBF0F8",
            "ticks": ""
           },
           "bgcolor": "white",
           "radialaxis": {
            "gridcolor": "#EBF0F8",
            "linecolor": "#EBF0F8",
            "ticks": ""
           }
          },
          "scene": {
           "xaxis": {
            "backgroundcolor": "white",
            "gridcolor": "#DFE8F3",
            "gridwidth": 2,
            "linecolor": "#EBF0F8",
            "showbackground": true,
            "ticks": "",
            "zerolinecolor": "#EBF0F8"
           },
           "yaxis": {
            "backgroundcolor": "white",
            "gridcolor": "#DFE8F3",
            "gridwidth": 2,
            "linecolor": "#EBF0F8",
            "showbackground": true,
            "ticks": "",
            "zerolinecolor": "#EBF0F8"
           },
           "zaxis": {
            "backgroundcolor": "white",
            "gridcolor": "#DFE8F3",
            "gridwidth": 2,
            "linecolor": "#EBF0F8",
            "showbackground": true,
            "ticks": "",
            "zerolinecolor": "#EBF0F8"
           }
          },
          "shapedefaults": {
           "line": {
            "color": "#2a3f5f"
           }
          },
          "ternary": {
           "aaxis": {
            "gridcolor": "#DFE8F3",
            "linecolor": "#A2B1C6",
            "ticks": ""
           },
           "baxis": {
            "gridcolor": "#DFE8F3",
            "linecolor": "#A2B1C6",
            "ticks": ""
           },
           "bgcolor": "white",
           "caxis": {
            "gridcolor": "#DFE8F3",
            "linecolor": "#A2B1C6",
            "ticks": ""
           }
          },
          "title": {
           "x": 0.05
          },
          "xaxis": {
           "automargin": true,
           "gridcolor": "#EBF0F8",
           "linecolor": "#EBF0F8",
           "ticks": "",
           "title": {
            "standoff": 15
           },
           "zerolinecolor": "#EBF0F8",
           "zerolinewidth": 2
          },
          "yaxis": {
           "automargin": true,
           "gridcolor": "#EBF0F8",
           "linecolor": "#EBF0F8",
           "ticks": "",
           "title": {
            "standoff": 15
           },
           "zerolinecolor": "#EBF0F8",
           "zerolinewidth": 2
          }
         }
        },
        "width": 1200,
        "xaxis": {
         "anchor": "y",
         "domain": [
          0,
          0.51
         ],
         "title": {
          "text": "Normalized Trials"
         }
        },
        "xaxis2": {
         "anchor": "y2",
         "domain": [
          0.66,
          1
         ],
         "title": {
          "text": "AUC"
         }
        },
        "yaxis": {
         "anchor": "x",
         "domain": [
          0,
          1
         ],
         "title": {
          "text": "Normalized Inc-Performance"
         }
        },
        "yaxis2": {
         "anchor": "x2",
         "domain": [
          0,
          1
         ],
         "title": {
          "text": "Optimizer"
         }
        }
       }
      }
     },
     "metadata": {},
     "output_type": "display_data"
    }
   ],
   "source": [
    "plot_one_thing('pc_method')"
   ]
  },
  {
   "cell_type": "code",
   "execution_count": 74,
   "id": "8c58d572",
   "metadata": {},
   "outputs": [
    {
     "name": "stderr",
     "output_type": "stream",
     "text": [
      "/home/daphne/Code/hpi_parego/CARP-S/carps/analysis/generate_report.py:276: UserWarning:\n",
      "\n",
      "Result is not significant and results of the plot may be misleading!\n",
      "\n",
      "/home/daphne/Code/hpi_parego/CARP-S/carps/analysis/run_autorank.py:322: FutureWarning:\n",
      "\n",
      "Series.__getitem__ treating keys as positions is deprecated. In a future version, integer keys will always be treated as labels (consistent with DataFrame behavior). To access a value by position, use `ser.iloc[pos]`\n",
      "\n",
      "/home/daphne/Code/hpi_parego/CARP-S/carps/analysis/run_autorank.py:421: UserWarning:\n",
      "\n",
      "FigureCanvasAgg is non-interactive, and thus cannot be shown\n",
      "\n",
      "/home/daphne/Code/hpi_parego/CARP-S/carps/analysis/run_autorank.py:198: UserWarning:\n",
      "\n",
      "Result is not significant and results of the plot may be misleading!\n",
      "\n"
     ]
    },
    {
     "data": {
      "text/html": [
       "<pre style=\"white-space:pre;overflow-x:auto;line-height:normal;font-family:Menlo,'DejaVu Sans Mono',consolas,'Courier New',monospace\"><span style=\"color: #7fbfbf; text-decoration-color: #7fbfbf\">[10:21:28] </span><span style=\"color: #000080; text-decoration-color: #000080\">INFO    </span> Create dataframe for neat plotting by aligning x-axis <span style=\"color: #800080; text-decoration-color: #800080\">/</span> interpolating        <a href=\"file:///home/daphne/Code/hpi_parego/CARP-S/carps/analysis/gather_data.py\" target=\"_blank\"><span style=\"color: #7f7f7f; text-decoration-color: #7f7f7f\">gather_data.py</span></a><span style=\"color: #7f7f7f; text-decoration-color: #7f7f7f\">:</span><a href=\"file:///home/daphne/Code/hpi_parego/CARP-S/carps/analysis/gather_data.py#725\" target=\"_blank\"><span style=\"color: #7f7f7f; text-decoration-color: #7f7f7f\">725</span></a>\n",
       "<span style=\"color: #7fbfbf; text-decoration-color: #7fbfbf\">           </span>         budget.                                                                      <span style=\"color: #7f7f7f; text-decoration-color: #7f7f7f\">                  </span>\n",
       "</pre>\n"
      ],
      "text/plain": [
       "\u001b[2;36m[10:21:28]\u001b[0m\u001b[2;36m \u001b[0m\u001b[34mINFO    \u001b[0m Create dataframe for neat plotting by aligning x-axis \u001b[35m/\u001b[0m interpolating        \u001b]8;id=564222;file:///home/daphne/Code/hpi_parego/CARP-S/carps/analysis/gather_data.py\u001b\\\u001b[2mgather_data.py\u001b[0m\u001b]8;;\u001b\\\u001b[2m:\u001b[0m\u001b]8;id=125380;file:///home/daphne/Code/hpi_parego/CARP-S/carps/analysis/gather_data.py#725\u001b\\\u001b[2m725\u001b[0m\u001b]8;;\u001b\\\n",
       "\u001b[2;36m           \u001b[0m         budget.                                                                      \u001b[2m                  \u001b[0m\n"
      ]
     },
     "metadata": {},
     "output_type": "display_data"
    },
    {
     "name": "stderr",
     "output_type": "stream",
     "text": [
      "/home/daphne/Code/hpi_parego/CARP-S/carps/analysis/generate_report.py:108: UserWarning:\n",
      "\n",
      "Result is not significant and results of the plot may be misleading!\n",
      "\n",
      "/home/daphne/Code/hpi_parego/CARP-S/carps/analysis/generate_report.py:108: UserWarning:\n",
      "\n",
      "Result is not significant and results of the plot may be misleading!\n",
      "\n",
      "/home/daphne/Code/hpi_parego/CARP-S/carps/analysis/generate_report.py:108: UserWarning:\n",
      "\n",
      "Result is not significant and results of the plot may be misleading!\n",
      "\n",
      "/home/daphne/Code/hpi_parego/CARP-S/carps/analysis/generate_report.py:108: UserWarning:\n",
      "\n",
      "Result is not significant and results of the plot may be misleading!\n",
      "\n"
     ]
    },
    {
     "name": "stdout",
     "output_type": "stream",
     "text": [
      "['adjust_cs_only' 'adjust_pc_only' 'both']\n"
     ]
    },
    {
     "name": "stderr",
     "output_type": "stream",
     "text": [
      "/tmp/ipykernel_4800/1961929167.py:25: DeprecationWarning:\n",
      "\n",
      "DataFrameGroupBy.apply operated on the grouping columns. This behavior is deprecated, and in a future version of pandas the grouping columns will be excluded from the operation. Either pass `include_groups=False` to exclude the groupings or explicitly select the grouping columns after groupby to silence this warning.\n",
      "\n"
     ]
    },
    {
     "data": {
      "application/vnd.plotly.v1+json": {
       "config": {
        "plotlyServerURL": "https://plot.ly"
       },
       "data": [
        {
         "line": {
          "color": "rgb(228,26,28)",
          "width": 2
         },
         "mode": "lines",
         "name": "adjust_cs_only",
         "type": "scatter",
         "x": {
          "bdata": "AAAAAAAAAAB7FK5H4XqUP3sUrkfheqQ/uB6F61G4rj97FK5H4Xq0P5qZmZmZmbk/uB6F61G4vj/sUbgehevBP3sUrkfhesQ/CtejcD0Kxz+amZmZmZnJPylcj8L1KMw/uB6F61G4zj+kcD0K16PQP+xRuB6F69E/MzMzMzMz0z97FK5H4XrUP8P1KFyPwtU/CtejcD0K1z9SuB6F61HYP5qZmZmZmdk/4XoUrkfh2j8pXI/C9SjcP3E9CtejcN0/uB6F61G43j8AAAAAAADgP6RwPQrXo+A/SOF6FK5H4T/sUbgehevhP4/C9Shcj+I/MzMzMzMz4z/Xo3A9CtfjP3sUrkfheuQ/H4XrUbge5T/D9Shcj8LlP2dmZmZmZuY/CtejcD0K5z+uR+F6FK7nP1K4HoXrUeg/9ihcj8L16D+amZmZmZnpPz4K16NwPeo/4XoUrkfh6j+F61G4HoXrPylcj8L1KOw/zczMzMzM7D9xPQrXo3DtPxWuR+F6FO4/uB6F61G47j9cj8L1KFzvPwAAAAAAAPA/",
          "dtype": "f8"
         },
         "xaxis": "x",
         "y": {
          "bdata": "UFsWwi0O4z/Ox2GZ2O/iPwqW+zfXveI/TfC26xGg4j+N9F0LT4jiP0rYLVBFZOI/xkzSpHsq4j9306TLydDhPx2bV+vKWeE/rdrnGeTP4D9xHSCWbTbgP15ihM22A98/dTEl+Mm53T+SfPpg0mjcP7a333ZhEds/3vuiNYvM2T9IB/GuepzYP9I3T7QDfdc/SL+nxjNs1j9CbDpeJF7VP64CdZlMVdQ/3CpgN7R40z9yvvSYMqLSP1acUlaZ2NE/Rg84QqAP0T+rlmyQOUXQPyXKeyClbM8/Ik9AeWpPzj+Yny6cvDLNP/Bv3L1RGcw/wKm+V20Hyz/bab9wEBLKPxvoTA+/G8k/xRrGsoAkyD8ltzSkQEHHP+ayJ1pbesY/sTsRRIq0xT/AnCxkaO/EP/tSNuuTJcQ/ssmGShdxwz/uz5uuQrfCP9vjaGYZA8I/u8ISPvlFwT/9d8CSMpjAP2MqZZ6nxb8/MkO8VItOvj+uWptSkMe8P9bN0cP0Srs/ndj08l7UuT8rv6GiHmG4P5MXaEnF7bY/",
          "dtype": "f8"
         },
         "yaxis": "y"
        },
        {
         "fill": "toself",
         "fillcolor": "rgba(228,26,28,0.1)",
         "hoverinfo": "skip",
         "line": {
          "color": "rgba(255,255,255,0)"
         },
         "showlegend": false,
         "type": "scatter",
         "x": {
          "bdata": "AAAAAAAAAAB7FK5H4XqUP3sUrkfheqQ/uB6F61G4rj97FK5H4Xq0P5qZmZmZmbk/uB6F61G4vj/sUbgehevBP3sUrkfhesQ/CtejcD0Kxz+amZmZmZnJPylcj8L1KMw/uB6F61G4zj+kcD0K16PQP+xRuB6F69E/MzMzMzMz0z97FK5H4XrUP8P1KFyPwtU/CtejcD0K1z9SuB6F61HYP5qZmZmZmdk/4XoUrkfh2j8pXI/C9SjcP3E9CtejcN0/uB6F61G43j8AAAAAAADgP6RwPQrXo+A/SOF6FK5H4T/sUbgehevhP4/C9Shcj+I/MzMzMzMz4z/Xo3A9CtfjP3sUrkfheuQ/H4XrUbge5T/D9Shcj8LlP2dmZmZmZuY/CtejcD0K5z+uR+F6FK7nP1K4HoXrUeg/9ihcj8L16D+amZmZmZnpPz4K16NwPeo/4XoUrkfh6j+F61G4HoXrPylcj8L1KOw/zczMzMzM7D9xPQrXo3DtPxWuR+F6FO4/uB6F61G47j9cj8L1KFzvPwAAAAAAAPA/AAAAAAAA8D9cj8L1KFzvP7gehetRuO4/Fa5H4XoU7j9xPQrXo3DtP83MzMzMzOw/KVyPwvUo7D+F61G4HoXrP+F6FK5H4eo/PgrXo3A96j+amZmZmZnpP/YoXI/C9eg/UrgehetR6D+uR+F6FK7nPwrXo3A9Cuc/Z2ZmZmZm5j/D9Shcj8LlPx+F61G4HuU/exSuR+F65D/Xo3A9CtfjPzMzMzMzM+M/j8L1KFyP4j/sUbgehevhP0jhehSuR+E/pHA9Ctej4D8AAAAAAADgP7gehetRuN4/cT0K16Nw3T8pXI/C9SjcP+F6FK5H4do/mpmZmZmZ2T9SuB6F61HYPwrXo3A9Ctc/w/UoXI/C1T97FK5H4XrUPzMzMzMzM9M/7FG4HoXr0T+kcD0K16PQP7gehetRuM4/KVyPwvUozD+amZmZmZnJPwrXo3A9Csc/exSuR+F6xD/sUbgehevBP7gehetRuL4/mpmZmZmZuT97FK5H4Xq0P7gehetRuK4/exSuR+F6pD97FK5H4XqUPwAAAAAAAAAA",
          "dtype": "f8"
         },
         "xaxis": "x",
         "y": {
          "bdata": "14Mf/lfN4T8F7KgGp7LhPytIbAe7fOE/03F2WMVX4T8B0Bld7TvhPwS9C9OfFeE/ktsvKIrb4D9ek0PK0oTgP9XzBozKEeA/l+1YY+AZ3z9KeLOvLffdP28Q60aeqNw/yhHpgSt72z/JTTX6Ak7aP21cAwEjINk/3E9PmEQD2D+g5OybnvnWPzXNEU1VANY/Kj+V2SYW1T/+fzpg0C7UP2wKuEtVStM/2FFHz3eM0j+IdxNDg9PRP/2ygCIMJtE/uZ3qy9V40D8Km64ThZPPP1J5JGoglM4/ZzwT3dKUzT8ZgFvAO5XMP1RQzf4fmMs/ugY00FGeyj+OXpgkusLJPxD8Yq7T5sg/ZWX/cb0DyD/SM73RGSDHP1TX9rLoTMY/FIdL/xZ5xT8IVHT3jKXEP8vmkNBN0MM/IW1uGkAQwz8+Kd37tlDCPypwMpCUlcE/A2htxyXWwD8u82qLTiTAP+YlMR30174/mddIknBbvT9ozO0jdsu7PyhdFOc8Rbo/uZjOMo/CuD+UMB33AUO3P/GQWlwTw7U/NZ51NncYuD/CTSZOO3+5P4EYG7Mu5ro/hD6PoKxQvD/06EiBqsO9P8uuLxemQb8/cJfMj61ZwD/M/BWaFgzBP3MduLTMtcE/jFefPJ5wwj+edlphzh3DP0Mmn3ru0cM/K7/bBdp6xD945eTQQznFP07w1oj978U/eI5YAc6nxj94Oqx2Z2LHPyXQjPNDRcg/JtQ2cKpQyT8odea8ZmHKP8ZMSd+IcMs/jI/rfIOazD8XvwF4PdDNP91hbRUCCs8/fI1p65Qi0D/R3wGXsMDQP9OAhbhqptE/r4UkiiaL0j9cBdbu4XDTP+ADeZ/wZNQ/8Pox50Ng1T+GWDpceI3WP2Y/urNAwtc/b6KMG7L52D/wKfXBVj/aP+Cn9tLRlds//xK87J8C3T9bq7/HoYPePyBRYW5o+N8/JtoOqmev4D+9fmZURHHhP48+IwLYEuI/ZUKoSsuh4j+QEwbNwBzjP/q9dCFteeM/kPNPzeqy4z8ZGaK5sNTjP8du935e6OM/6eOKaPP+4z+XoxosCi3kP8kyDYYDT+Q/",
          "dtype": "f8"
         },
         "yaxis": "y"
        },
        {
         "line": {
          "color": "rgb(55,126,184)",
          "width": 2
         },
         "mode": "lines",
         "name": "adjust_pc_only",
         "type": "scatter",
         "x": {
          "bdata": "AAAAAAAAAAB7FK5H4XqUP3sUrkfheqQ/uB6F61G4rj97FK5H4Xq0P5qZmZmZmbk/uB6F61G4vj/sUbgehevBP3sUrkfhesQ/CtejcD0Kxz+amZmZmZnJPylcj8L1KMw/uB6F61G4zj+kcD0K16PQP+xRuB6F69E/MzMzMzMz0z97FK5H4XrUP8P1KFyPwtU/CtejcD0K1z9SuB6F61HYP5qZmZmZmdk/4XoUrkfh2j8pXI/C9SjcP3E9CtejcN0/uB6F61G43j8AAAAAAADgP6RwPQrXo+A/SOF6FK5H4T/sUbgehevhP4/C9Shcj+I/MzMzMzMz4z/Xo3A9CtfjP3sUrkfheuQ/H4XrUbge5T/D9Shcj8LlP2dmZmZmZuY/CtejcD0K5z+uR+F6FK7nP1K4HoXrUeg/9ihcj8L16D+amZmZmZnpPz4K16NwPeo/4XoUrkfh6j+F61G4HoXrPylcj8L1KOw/zczMzMzM7D9xPQrXo3DtPxWuR+F6FO4/uB6F61G47j9cj8L1KFzvPwAAAAAAAPA/",
          "dtype": "f8"
         },
         "xaxis": "x",
         "y": {
          "bdata": "1md9qggP4z/mENxozQXjP6jD7Hdgx+I/zropQLCl4j+LnV4q147iPyIqjW0HbuI/5v5CXuU64j+axFYyGOrhPzF0vxqEf+E/WCM7DE8D4T/wQsPENXjgP8YG5OkYnd8/1hQQMABr3j+QX0VxAindP5qGrBMG1ts/1Sv4+0KY2j8L7DbbsHHZP1WHOMrSXNg/waVXBWRY1z+YZA36kFbWP0yqBYkaVdU/FOn515J51D+PEGhV6KHTP4PnhTkC0NI/3i5PJUP+0T+rnJr+1irRP3fa7HLIltA/RPFW4EID0D8eGylODeHOP+IXA0J/ws0/EqVfkjiszD86QHc4TbXLPxYwE3o6vMo/BS5ZFDzDyT/23LjW4t3IPy1D2/JLEsg/nugbWRVDxz+BRYxptG/GPwPZlEuopcU/io08+1TqxD+63RyPCyzEP2d89/RmXsM/FV0FVsGIwj9+JkPI767BP5NfU23k4cA/rM/eDM8HwD9WEYRsF16+P+4XPUfZpLw/lhW/m8T3uj+MNgawkU25P7VSe8s2o7c/",
          "dtype": "f8"
         },
         "yaxis": "y"
        },
        {
         "fill": "toself",
         "fillcolor": "rgba(55,126,184,0.1)",
         "hoverinfo": "skip",
         "line": {
          "color": "rgba(255,255,255,0)"
         },
         "showlegend": false,
         "type": "scatter",
         "x": {
          "bdata": "AAAAAAAAAAB7FK5H4XqUP3sUrkfheqQ/uB6F61G4rj97FK5H4Xq0P5qZmZmZmbk/uB6F61G4vj/sUbgehevBP3sUrkfhesQ/CtejcD0Kxz+amZmZmZnJPylcj8L1KMw/uB6F61G4zj+kcD0K16PQP+xRuB6F69E/MzMzMzMz0z97FK5H4XrUP8P1KFyPwtU/CtejcD0K1z9SuB6F61HYP5qZmZmZmdk/4XoUrkfh2j8pXI/C9SjcP3E9CtejcN0/uB6F61G43j8AAAAAAADgP6RwPQrXo+A/SOF6FK5H4T/sUbgehevhP4/C9Shcj+I/MzMzMzMz4z/Xo3A9CtfjP3sUrkfheuQ/H4XrUbge5T/D9Shcj8LlP2dmZmZmZuY/CtejcD0K5z+uR+F6FK7nP1K4HoXrUeg/9ihcj8L16D+amZmZmZnpPz4K16NwPeo/4XoUrkfh6j+F61G4HoXrPylcj8L1KOw/zczMzMzM7D9xPQrXo3DtPxWuR+F6FO4/uB6F61G47j9cj8L1KFzvPwAAAAAAAPA/AAAAAAAA8D9cj8L1KFzvP7gehetRuO4/Fa5H4XoU7j9xPQrXo3DtP83MzMzMzOw/KVyPwvUo7D+F61G4HoXrP+F6FK5H4eo/PgrXo3A96j+amZmZmZnpP/YoXI/C9eg/UrgehetR6D+uR+F6FK7nPwrXo3A9Cuc/Z2ZmZmZm5j/D9Shcj8LlPx+F61G4HuU/exSuR+F65D/Xo3A9CtfjPzMzMzMzM+M/j8L1KFyP4j/sUbgehevhP0jhehSuR+E/pHA9Ctej4D8AAAAAAADgP7gehetRuN4/cT0K16Nw3T8pXI/C9SjcP+F6FK5H4do/mpmZmZmZ2T9SuB6F61HYPwrXo3A9Ctc/w/UoXI/C1T97FK5H4XrUPzMzMzMzM9M/7FG4HoXr0T+kcD0K16PQP7gehetRuM4/KVyPwvUozD+amZmZmZnJPwrXo3A9Csc/exSuR+F6xD/sUbgehevBP7gehetRuL4/mpmZmZmZuT97FK5H4Xq0P7gehetRuK4/exSuR+F6pD97FK5H4XqUPwAAAAAAAAAA",
          "dtype": "f8"
         },
         "xaxis": "x",
         "y": {
          "bdata": "wi+BtuzN4T/gsI+0S8bhP/u/4YG1h+E/o9UrCCtf4T/bzzjQRUPhP5x7YJE7H+E/YxZn1CDt4D/duoVlBJ7gP4Dwyo2SOeA/SiKwYG+L3z/mxioU1I7ePwgyUR/4Wt0/emkNpjBG3D+wwBvImSnbPxRw/AvVBdo/HzxEb2Hz2D8r7CKrlPPXP2cuLMjLAtc/JCfNBZsf1j/C1rI1PD3VPykRqFS9WNQ/lcrk/wGX0z+JuiwlDtjSPwJqFBk1HdI/TNNZH/xg0T+mjmndeqDQP3iVIcGDGtA/X48Czd8pzz/R8GhscR7OP2hr+JGvGc0/lO67ltsazD9gSLDdmDfLP0GnULSLT8o/hLJgSuZkyT+mj8SAfI7IP8DFIwIB08c/TzmqE+QNxz/Y4GrtID3GPxT34/J9bMU/W3LStaGlxD8EoVyHeNrDP1dp7vlz/sI/oCFBlOkbwj9IT/PBpjDBP4uh+xldVsA/8jiC6frevj+e36kPjg+9P9I61U9ZOrs/AShqhktmuT/PdmoO4pa3P/saWXEyx7U/b4qdJTt/uT9J9qFRQQS7PysDFLE9ibw/CvWkPlkPvj8OQ17JoKy/P9+C/KQgoMA/mx2rwGttwT+0/ZLOOC3CP4qYyReZ9cI/d48A8Fm+wz9wGt2Wnn3EP7mopkAIL8U/8rpFpNLexT8qqq3lR6LGP+2XjZ5GeMc/msCS45ZRyD9GKq0sSS3JP4apUd6RIco/67jVP+koyz8UOD6TATPMP5BbA46VPc0/XMQN8k5rzj9rRekvqaPPP9iaLNqVcdA/dh+4JA0T0T+wqssfM7XRP3CKRCuKm9I/BGX3Wc+C0z+VZqOFwmvUP5MHD7AjXNU/b0NjvXdR1j9u8me+5W/XP14k4gQtkdg/Q+BEzNm22T/r60oLze/aP4sbrIgkPdw/IJ1cGzem3T9w/m4aayjfPxlgCd3nR+A/wm072pzv4D9tInF/AanhP4s1HmjmQOI/4vezp3XF4j9Xzif/KzbjP2nnHuipiOM/qNi5SdO84z87a4SEaNrjP/mfJ3g17OM/Vcf3bQsH5D/scCgdT0XkP+qfeZ4kUOQ/",
          "dtype": "f8"
         },
         "yaxis": "y"
        },
        {
         "line": {
          "color": "rgb(77,175,74)",
          "width": 2
         },
         "mode": "lines",
         "name": "both",
         "type": "scatter",
         "x": {
          "bdata": "AAAAAAAAAAB7FK5H4XqUP3sUrkfheqQ/uB6F61G4rj97FK5H4Xq0P5qZmZmZmbk/uB6F61G4vj/sUbgehevBP3sUrkfhesQ/CtejcD0Kxz+amZmZmZnJPylcj8L1KMw/uB6F61G4zj+kcD0K16PQP+xRuB6F69E/MzMzMzMz0z97FK5H4XrUP8P1KFyPwtU/CtejcD0K1z9SuB6F61HYP5qZmZmZmdk/4XoUrkfh2j8pXI/C9SjcP3E9CtejcN0/uB6F61G43j8AAAAAAADgP6RwPQrXo+A/SOF6FK5H4T/sUbgehevhP4/C9Shcj+I/MzMzMzMz4z/Xo3A9CtfjP3sUrkfheuQ/H4XrUbge5T/D9Shcj8LlP2dmZmZmZuY/CtejcD0K5z+uR+F6FK7nP1K4HoXrUeg/9ihcj8L16D+amZmZmZnpPz4K16NwPeo/4XoUrkfh6j+F61G4HoXrPylcj8L1KOw/zczMzMzM7D9xPQrXo3DtPxWuR+F6FO4/uB6F61G47j9cj8L1KFzvPwAAAAAAAPA/",
          "dtype": "f8"
         },
         "xaxis": "x",
         "y": {
          "bdata": "oy2joacO4z9OM13Gi/DiPxrWZJf3veI/YxfYiVSh4j9jfAxD7I3iPyTUhyd9auI/ThA5Gtwz4j9lpix+s+PhP32Sjb+qd+E/9hyfr5/64D9HlMe89G3gP133xwifhd8/PeQEVZ1J3j/6E/WawAHdP9WgBDItrts/7raUKTtu2j8u7NZ8aUPZPx5YDPfEJ9g/XMsyv9kZ1z+1+sLCXw/WP9adNHGcBdU/sWaftkQo1D+i+ROD90/TPxb6xkPDgdI/RpQyF+S00T9JAoxsuubQPwxfc+TiUtA/FloHMUB+zz9lqtZ1SVfOP5MZmnGNNs0/GzoX5IofzD/2SSxNMCbLP9vXhAMvK8o/b9h41EowyT9qhOdFP0nIPxDKMEyffMc/ev6w9gauxj9K1/so8t3FP5ZypucQFcU/OBUl01NZxD8n8a/Td5rDP15gRf2N2sI/BnItAHUdwj+BOngAWF3BP6iWsgjcncA/OliIrXG5vz8TxYaRrjO+Pzrdk7YTsLw/gmzrG74ouz/elnmMhKO5P/lzKWdBHrg/",
          "dtype": "f8"
         },
         "yaxis": "y"
        },
        {
         "fill": "toself",
         "fillcolor": "rgba(77,175,74,0.1)",
         "hoverinfo": "skip",
         "line": {
          "color": "rgba(255,255,255,0)"
         },
         "showlegend": false,
         "type": "scatter",
         "x": {
          "bdata": "AAAAAAAAAAB7FK5H4XqUP3sUrkfheqQ/uB6F61G4rj97FK5H4Xq0P5qZmZmZmbk/uB6F61G4vj/sUbgehevBP3sUrkfhesQ/CtejcD0Kxz+amZmZmZnJPylcj8L1KMw/uB6F61G4zj+kcD0K16PQP+xRuB6F69E/MzMzMzMz0z97FK5H4XrUP8P1KFyPwtU/CtejcD0K1z9SuB6F61HYP5qZmZmZmdk/4XoUrkfh2j8pXI/C9SjcP3E9CtejcN0/uB6F61G43j8AAAAAAADgP6RwPQrXo+A/SOF6FK5H4T/sUbgehevhP4/C9Shcj+I/MzMzMzMz4z/Xo3A9CtfjP3sUrkfheuQ/H4XrUbge5T/D9Shcj8LlP2dmZmZmZuY/CtejcD0K5z+uR+F6FK7nP1K4HoXrUeg/9ihcj8L16D+amZmZmZnpPz4K16NwPeo/4XoUrkfh6j+F61G4HoXrPylcj8L1KOw/zczMzMzM7D9xPQrXo3DtPxWuR+F6FO4/uB6F61G47j9cj8L1KFzvPwAAAAAAAPA/AAAAAAAA8D9cj8L1KFzvP7gehetRuO4/Fa5H4XoU7j9xPQrXo3DtP83MzMzMzOw/KVyPwvUo7D+F61G4HoXrP+F6FK5H4eo/PgrXo3A96j+amZmZmZnpP/YoXI/C9eg/UrgehetR6D+uR+F6FK7nPwrXo3A9Cuc/Z2ZmZmZm5j/D9Shcj8LlPx+F61G4HuU/exSuR+F65D/Xo3A9CtfjPzMzMzMzM+M/j8L1KFyP4j/sUbgehevhP0jhehSuR+E/pHA9Ctej4D8AAAAAAADgP7gehetRuN4/cT0K16Nw3T8pXI/C9SjcP+F6FK5H4do/mpmZmZmZ2T9SuB6F61HYPwrXo3A9Ctc/w/UoXI/C1T97FK5H4XrUPzMzMzMzM9M/7FG4HoXr0T+kcD0K16PQP7gehetRuM4/KVyPwvUozD+amZmZmZnJPwrXo3A9Csc/exSuR+F6xD/sUbgehevBP7gehetRuL4/mpmZmZmZuT97FK5H4Xq0P7gehetRuK4/exSuR+F6pD97FK5H4XqUPwAAAAAAAAAA",
          "dtype": "f8"
         },
         "xaxis": "x",
         "y": {
          "bdata": "3PAeorvN4T/QzWsN5bLhP2MYCztGfOE/8FksQQ9a4T8wPLipTUPhP6uoXsH4G+E/3F4l6P7i4D8zwL0tJpTgP4KUd0EhLOA/4Sk4xUtr3z8lTXlXuWTePy7qmUOjK90/CxFbGOQM3D+ZqLZ5ZejaP6gEFqsGvtk/uw36PDal2D/AljGJ6p7XP0wIxNBTp9Y/i5wp2oW91T8cMkQdoNbUP9x8UCzu7tM/PyTyaess0z8oi4qkwG7SP3qC7hmOutE/2zwVmhQH0T+w39Do6FLQPzuhgp+Sns8/RD4s3kCXzj9PIyqpBJDNP2K0Ihr5jcw/hOf42sOTyz89StTxLbbKP0puVcWu1sk/uJrrJ4H0yD9ec8rknRzIP2wsfDfZVMc/3yxzFrSDxj8BSZv+lKrFP7nwuSMd2MQ/x8N1iFMVxD9+NUOuL1DDPyE9G91visI/UXedi4PIwT9sTww23QPBP3+vpCEhQ8A/S4mP/JABvz8JtdBarne9P72SaumL8bs/OXvw/UNluj+1ALQNZdu4PwWZaaQ7Ubc/7U7pKUfruD8HLT8LpGu6P8td5jk47Ls/tye9g5tuvT8d1TzIru++P5WTQC+pOMA/0X3A75b4wD+WJeTK0rbBP7tsvXRmcsI/m4NvHawqwz/QrBz5v+TDP6lm1B1UncQ/c/SSqwRSxT+TZVxTTxHGPxXQ7tZZ2MY/tGflYGWkxz92lQSn4HXIPyYWBoEUbMk/bEG0Qa9/yj+vSYSoMpbLP7KMNe1Rq8w/xH4RySHfzT97MYNCjh7PP/Q68cGfMtA/e20leXzW0D/iJEfwi3rRP7HrT5SzYtI/snGfbfhI0z8caJ1hLjHUPyOpTAOeI9U/0L4Ytkoc1j9Ow0FoH0jXPy36O6Qtdtg/8KdUHTao2T+cQXxw6OfaPyFgLxZAN9w/Aj3zuFOe3T9bfzO8GxvfP7db10grQ+A/RgL7Zs3v4D/8gdLNjKnhP/wkonyZP+I/eJCjPTTD4j+XjJvOQDPjP8DBTEy5hOM/nf+wjQG54z+WvGDcitjjP9bUg9KZ6OM/0ZO+86j/4z/MmE5/Mi7kP2pqJ6GTT+Q/",
          "dtype": "f8"
         },
         "yaxis": "y"
        },
        {
         "error_x": {
          "array": {
           "bdata": "oh6Um5V9gz97tcZGqRmUPxdMVAdMKZ4/",
           "dtype": "f8"
          },
          "type": "data"
         },
         "marker": {
          "color": "skyblue",
          "line": {
           "color": "black",
           "width": 1
          }
         },
         "orientation": "h",
         "showlegend": false,
         "type": "bar",
         "x": {
          "bdata": "cWcC3k6d1D86DnoU/f/TP2UggtOHv9M/",
          "dtype": "f8"
         },
         "xaxis": "x2",
         "y": [
          "adjust_cs_only",
          "both",
          "adjust_pc_only"
         ],
         "yaxis": "y2"
        }
       ],
       "layout": {
        "font": {
         "size": 16
        },
        "height": 400,
        "legend": {
         "font": {
          "size": 16
         },
         "title": {
          "text": "Optimizers"
         }
        },
        "margin": {
         "b": 50,
         "l": 50,
         "r": 50,
         "t": 60
        },
        "template": {
         "data": {
          "bar": [
           {
            "error_x": {
             "color": "#2a3f5f"
            },
            "error_y": {
             "color": "#2a3f5f"
            },
            "marker": {
             "line": {
              "color": "white",
              "width": 0.5
             },
             "pattern": {
              "fillmode": "overlay",
              "size": 10,
              "solidity": 0.2
             }
            },
            "type": "bar"
           }
          ],
          "barpolar": [
           {
            "marker": {
             "line": {
              "color": "white",
              "width": 0.5
             },
             "pattern": {
              "fillmode": "overlay",
              "size": 10,
              "solidity": 0.2
             }
            },
            "type": "barpolar"
           }
          ],
          "carpet": [
           {
            "aaxis": {
             "endlinecolor": "#2a3f5f",
             "gridcolor": "#C8D4E3",
             "linecolor": "#C8D4E3",
             "minorgridcolor": "#C8D4E3",
             "startlinecolor": "#2a3f5f"
            },
            "baxis": {
             "endlinecolor": "#2a3f5f",
             "gridcolor": "#C8D4E3",
             "linecolor": "#C8D4E3",
             "minorgridcolor": "#C8D4E3",
             "startlinecolor": "#2a3f5f"
            },
            "type": "carpet"
           }
          ],
          "choropleth": [
           {
            "colorbar": {
             "outlinewidth": 0,
             "ticks": ""
            },
            "type": "choropleth"
           }
          ],
          "contour": [
           {
            "colorbar": {
             "outlinewidth": 0,
             "ticks": ""
            },
            "colorscale": [
             [
              0,
              "#0d0887"
             ],
             [
              0.1111111111111111,
              "#46039f"
             ],
             [
              0.2222222222222222,
              "#7201a8"
             ],
             [
              0.3333333333333333,
              "#9c179e"
             ],
             [
              0.4444444444444444,
              "#bd3786"
             ],
             [
              0.5555555555555556,
              "#d8576b"
             ],
             [
              0.6666666666666666,
              "#ed7953"
             ],
             [
              0.7777777777777778,
              "#fb9f3a"
             ],
             [
              0.8888888888888888,
              "#fdca26"
             ],
             [
              1,
              "#f0f921"
             ]
            ],
            "type": "contour"
           }
          ],
          "contourcarpet": [
           {
            "colorbar": {
             "outlinewidth": 0,
             "ticks": ""
            },
            "type": "contourcarpet"
           }
          ],
          "heatmap": [
           {
            "colorbar": {
             "outlinewidth": 0,
             "ticks": ""
            },
            "colorscale": [
             [
              0,
              "#0d0887"
             ],
             [
              0.1111111111111111,
              "#46039f"
             ],
             [
              0.2222222222222222,
              "#7201a8"
             ],
             [
              0.3333333333333333,
              "#9c179e"
             ],
             [
              0.4444444444444444,
              "#bd3786"
             ],
             [
              0.5555555555555556,
              "#d8576b"
             ],
             [
              0.6666666666666666,
              "#ed7953"
             ],
             [
              0.7777777777777778,
              "#fb9f3a"
             ],
             [
              0.8888888888888888,
              "#fdca26"
             ],
             [
              1,
              "#f0f921"
             ]
            ],
            "type": "heatmap"
           }
          ],
          "histogram": [
           {
            "marker": {
             "pattern": {
              "fillmode": "overlay",
              "size": 10,
              "solidity": 0.2
             }
            },
            "type": "histogram"
           }
          ],
          "histogram2d": [
           {
            "colorbar": {
             "outlinewidth": 0,
             "ticks": ""
            },
            "colorscale": [
             [
              0,
              "#0d0887"
             ],
             [
              0.1111111111111111,
              "#46039f"
             ],
             [
              0.2222222222222222,
              "#7201a8"
             ],
             [
              0.3333333333333333,
              "#9c179e"
             ],
             [
              0.4444444444444444,
              "#bd3786"
             ],
             [
              0.5555555555555556,
              "#d8576b"
             ],
             [
              0.6666666666666666,
              "#ed7953"
             ],
             [
              0.7777777777777778,
              "#fb9f3a"
             ],
             [
              0.8888888888888888,
              "#fdca26"
             ],
             [
              1,
              "#f0f921"
             ]
            ],
            "type": "histogram2d"
           }
          ],
          "histogram2dcontour": [
           {
            "colorbar": {
             "outlinewidth": 0,
             "ticks": ""
            },
            "colorscale": [
             [
              0,
              "#0d0887"
             ],
             [
              0.1111111111111111,
              "#46039f"
             ],
             [
              0.2222222222222222,
              "#7201a8"
             ],
             [
              0.3333333333333333,
              "#9c179e"
             ],
             [
              0.4444444444444444,
              "#bd3786"
             ],
             [
              0.5555555555555556,
              "#d8576b"
             ],
             [
              0.6666666666666666,
              "#ed7953"
             ],
             [
              0.7777777777777778,
              "#fb9f3a"
             ],
             [
              0.8888888888888888,
              "#fdca26"
             ],
             [
              1,
              "#f0f921"
             ]
            ],
            "type": "histogram2dcontour"
           }
          ],
          "mesh3d": [
           {
            "colorbar": {
             "outlinewidth": 0,
             "ticks": ""
            },
            "type": "mesh3d"
           }
          ],
          "parcoords": [
           {
            "line": {
             "colorbar": {
              "outlinewidth": 0,
              "ticks": ""
             }
            },
            "type": "parcoords"
           }
          ],
          "pie": [
           {
            "automargin": true,
            "type": "pie"
           }
          ],
          "scatter": [
           {
            "fillpattern": {
             "fillmode": "overlay",
             "size": 10,
             "solidity": 0.2
            },
            "type": "scatter"
           }
          ],
          "scatter3d": [
           {
            "line": {
             "colorbar": {
              "outlinewidth": 0,
              "ticks": ""
             }
            },
            "marker": {
             "colorbar": {
              "outlinewidth": 0,
              "ticks": ""
             }
            },
            "type": "scatter3d"
           }
          ],
          "scattercarpet": [
           {
            "marker": {
             "colorbar": {
              "outlinewidth": 0,
              "ticks": ""
             }
            },
            "type": "scattercarpet"
           }
          ],
          "scattergeo": [
           {
            "marker": {
             "colorbar": {
              "outlinewidth": 0,
              "ticks": ""
             }
            },
            "type": "scattergeo"
           }
          ],
          "scattergl": [
           {
            "marker": {
             "colorbar": {
              "outlinewidth": 0,
              "ticks": ""
             }
            },
            "type": "scattergl"
           }
          ],
          "scattermap": [
           {
            "marker": {
             "colorbar": {
              "outlinewidth": 0,
              "ticks": ""
             }
            },
            "type": "scattermap"
           }
          ],
          "scattermapbox": [
           {
            "marker": {
             "colorbar": {
              "outlinewidth": 0,
              "ticks": ""
             }
            },
            "type": "scattermapbox"
           }
          ],
          "scatterpolar": [
           {
            "marker": {
             "colorbar": {
              "outlinewidth": 0,
              "ticks": ""
             }
            },
            "type": "scatterpolar"
           }
          ],
          "scatterpolargl": [
           {
            "marker": {
             "colorbar": {
              "outlinewidth": 0,
              "ticks": ""
             }
            },
            "type": "scatterpolargl"
           }
          ],
          "scatterternary": [
           {
            "marker": {
             "colorbar": {
              "outlinewidth": 0,
              "ticks": ""
             }
            },
            "type": "scatterternary"
           }
          ],
          "surface": [
           {
            "colorbar": {
             "outlinewidth": 0,
             "ticks": ""
            },
            "colorscale": [
             [
              0,
              "#0d0887"
             ],
             [
              0.1111111111111111,
              "#46039f"
             ],
             [
              0.2222222222222222,
              "#7201a8"
             ],
             [
              0.3333333333333333,
              "#9c179e"
             ],
             [
              0.4444444444444444,
              "#bd3786"
             ],
             [
              0.5555555555555556,
              "#d8576b"
             ],
             [
              0.6666666666666666,
              "#ed7953"
             ],
             [
              0.7777777777777778,
              "#fb9f3a"
             ],
             [
              0.8888888888888888,
              "#fdca26"
             ],
             [
              1,
              "#f0f921"
             ]
            ],
            "type": "surface"
           }
          ],
          "table": [
           {
            "cells": {
             "fill": {
              "color": "#EBF0F8"
             },
             "line": {
              "color": "white"
             }
            },
            "header": {
             "fill": {
              "color": "#C8D4E3"
             },
             "line": {
              "color": "white"
             }
            },
            "type": "table"
           }
          ]
         },
         "layout": {
          "annotationdefaults": {
           "arrowcolor": "#2a3f5f",
           "arrowhead": 0,
           "arrowwidth": 1
          },
          "autotypenumbers": "strict",
          "coloraxis": {
           "colorbar": {
            "outlinewidth": 0,
            "ticks": ""
           }
          },
          "colorscale": {
           "diverging": [
            [
             0,
             "#8e0152"
            ],
            [
             0.1,
             "#c51b7d"
            ],
            [
             0.2,
             "#de77ae"
            ],
            [
             0.3,
             "#f1b6da"
            ],
            [
             0.4,
             "#fde0ef"
            ],
            [
             0.5,
             "#f7f7f7"
            ],
            [
             0.6,
             "#e6f5d0"
            ],
            [
             0.7,
             "#b8e186"
            ],
            [
             0.8,
             "#7fbc41"
            ],
            [
             0.9,
             "#4d9221"
            ],
            [
             1,
             "#276419"
            ]
           ],
           "sequential": [
            [
             0,
             "#0d0887"
            ],
            [
             0.1111111111111111,
             "#46039f"
            ],
            [
             0.2222222222222222,
             "#7201a8"
            ],
            [
             0.3333333333333333,
             "#9c179e"
            ],
            [
             0.4444444444444444,
             "#bd3786"
            ],
            [
             0.5555555555555556,
             "#d8576b"
            ],
            [
             0.6666666666666666,
             "#ed7953"
            ],
            [
             0.7777777777777778,
             "#fb9f3a"
            ],
            [
             0.8888888888888888,
             "#fdca26"
            ],
            [
             1,
             "#f0f921"
            ]
           ],
           "sequentialminus": [
            [
             0,
             "#0d0887"
            ],
            [
             0.1111111111111111,
             "#46039f"
            ],
            [
             0.2222222222222222,
             "#7201a8"
            ],
            [
             0.3333333333333333,
             "#9c179e"
            ],
            [
             0.4444444444444444,
             "#bd3786"
            ],
            [
             0.5555555555555556,
             "#d8576b"
            ],
            [
             0.6666666666666666,
             "#ed7953"
            ],
            [
             0.7777777777777778,
             "#fb9f3a"
            ],
            [
             0.8888888888888888,
             "#fdca26"
            ],
            [
             1,
             "#f0f921"
            ]
           ]
          },
          "colorway": [
           "#636efa",
           "#EF553B",
           "#00cc96",
           "#ab63fa",
           "#FFA15A",
           "#19d3f3",
           "#FF6692",
           "#B6E880",
           "#FF97FF",
           "#FECB52"
          ],
          "font": {
           "color": "#2a3f5f"
          },
          "geo": {
           "bgcolor": "white",
           "lakecolor": "white",
           "landcolor": "white",
           "showlakes": true,
           "showland": true,
           "subunitcolor": "#C8D4E3"
          },
          "hoverlabel": {
           "align": "left"
          },
          "hovermode": "closest",
          "mapbox": {
           "style": "light"
          },
          "paper_bgcolor": "white",
          "plot_bgcolor": "white",
          "polar": {
           "angularaxis": {
            "gridcolor": "#EBF0F8",
            "linecolor": "#EBF0F8",
            "ticks": ""
           },
           "bgcolor": "white",
           "radialaxis": {
            "gridcolor": "#EBF0F8",
            "linecolor": "#EBF0F8",
            "ticks": ""
           }
          },
          "scene": {
           "xaxis": {
            "backgroundcolor": "white",
            "gridcolor": "#DFE8F3",
            "gridwidth": 2,
            "linecolor": "#EBF0F8",
            "showbackground": true,
            "ticks": "",
            "zerolinecolor": "#EBF0F8"
           },
           "yaxis": {
            "backgroundcolor": "white",
            "gridcolor": "#DFE8F3",
            "gridwidth": 2,
            "linecolor": "#EBF0F8",
            "showbackground": true,
            "ticks": "",
            "zerolinecolor": "#EBF0F8"
           },
           "zaxis": {
            "backgroundcolor": "white",
            "gridcolor": "#DFE8F3",
            "gridwidth": 2,
            "linecolor": "#EBF0F8",
            "showbackground": true,
            "ticks": "",
            "zerolinecolor": "#EBF0F8"
           }
          },
          "shapedefaults": {
           "line": {
            "color": "#2a3f5f"
           }
          },
          "ternary": {
           "aaxis": {
            "gridcolor": "#DFE8F3",
            "linecolor": "#A2B1C6",
            "ticks": ""
           },
           "baxis": {
            "gridcolor": "#DFE8F3",
            "linecolor": "#A2B1C6",
            "ticks": ""
           },
           "bgcolor": "white",
           "caxis": {
            "gridcolor": "#DFE8F3",
            "linecolor": "#A2B1C6",
            "ticks": ""
           }
          },
          "title": {
           "x": 0.05
          },
          "xaxis": {
           "automargin": true,
           "gridcolor": "#EBF0F8",
           "linecolor": "#EBF0F8",
           "ticks": "",
           "title": {
            "standoff": 15
           },
           "zerolinecolor": "#EBF0F8",
           "zerolinewidth": 2
          },
          "yaxis": {
           "automargin": true,
           "gridcolor": "#EBF0F8",
           "linecolor": "#EBF0F8",
           "ticks": "",
           "title": {
            "standoff": 15
           },
           "zerolinecolor": "#EBF0F8",
           "zerolinewidth": 2
          }
         }
        },
        "width": 1200,
        "xaxis": {
         "anchor": "y",
         "domain": [
          0,
          0.51
         ],
         "title": {
          "text": "Normalized Trials"
         }
        },
        "xaxis2": {
         "anchor": "y2",
         "domain": [
          0.66,
          1
         ],
         "title": {
          "text": "AUC"
         }
        },
        "yaxis": {
         "anchor": "x",
         "domain": [
          0,
          1
         ],
         "title": {
          "text": "Normalized Inc-Performance"
         }
        },
        "yaxis2": {
         "anchor": "x2",
         "domain": [
          0,
          1
         ],
         "title": {
          "text": "Optimizer"
         }
        }
       }
      }
     },
     "metadata": {},
     "output_type": "display_data"
    }
   ],
   "source": [
    "plot_one_thing('adjust_method')"
   ]
  },
  {
   "cell_type": "code",
   "execution_count": 27,
   "id": "a8923469",
   "metadata": {},
   "outputs": [
    {
     "name": "stderr",
     "output_type": "stream",
     "text": [
      "/tmp/ipykernel_3970/1979927433.py:3: DeprecationWarning:\n",
      "\n",
      "DataFrameGroupBy.apply operated on the grouping columns. This behavior is deprecated, and in a future version of pandas the grouping columns will be excluded from the operation. Either pass `include_groups=False` to exclude the groupings or explicitly select the grouping columns after groupby to silence this warning.\n",
      "\n"
     ]
    }
   ],
   "source": [
    "auc_per_seed = (\n",
    "        df.groupby([\"optimizer_id\", \"seed\"])\n",
    "        .apply(lambda group: trapz(group.sort_values(\"n_trials_norm\")[\"trial_value__cost_inc_norm\"],\n",
    "                                   group.sort_values(\"n_trials_norm\")[\"n_trials_norm\"]))\n",
    "        .reset_index(name=\"auc\")\n",
    "    )\n",
    "\n",
    "# Compute mean and sem AUC per optimizer\n",
    "auc_values = auc_per_seed.groupby(\"optimizer_id\").agg(\n",
    "    auc_mean=('auc', 'mean'),\n",
    "    auc_sem=('auc', 'sem')\n",
    ").sort_values(\"auc_mean\", ascending=False).reset_index()\n"
   ]
  },
  {
   "cell_type": "code",
   "execution_count": 28,
   "id": "65afb7d7",
   "metadata": {},
   "outputs": [
    {
     "data": {
      "text/plain": [
       "'\\\\begin{tabular}{llrrrr}\\n\\\\toprule\\n & optimizer_id & auc_mean & auc_sem & final_perf_mean & final_perf_sem \\\\\\\\\\n\\\\midrule\\n5 & SMAC3-MO-RF & 0.089000 & 0.003000 & 0.055000 & 0.004000 \\\\\\\\\\n3 & fanova_adjust_cs_default_constant_adjust_prev_cfgs_set_to_incumbent_thresh_0_lin_0 & 0.095000 & 0.006000 & 0.057000 & 0.006000 \\\\\\\\\\n4 & fanova_adjust_cs_default_constant_adjust_prev_cfgs_set_to_random_thresh_0_lin_0 & 0.091000 & 0.006000 & 0.058000 & 0.006000 \\\\\\\\\\n2 & fanova_adjust_cs_incumbent_cs_proba_hpi_adjust_prev_cfgs_set_to_random_thresh_0_lin_0 & 0.095000 & 0.007000 & 0.059000 & 0.009000 \\\\\\\\\\n1 & fanova_adjust_cs_default_constant_adjust_prev_cfgs_set_to_incumbent_thresh_0.75 & 0.097000 & 0.005000 & 0.070000 & 0.005000 \\\\\\\\\\n0 & fanova_adjust_cs_incumbent_cs_proba_hpi_thresh_0.5 & 0.101000 & 0.004000 & 0.070000 & 0.005000 \\\\\\\\\\n\\\\bottomrule\\n\\\\end{tabular}\\n'"
      ]
     },
     "execution_count": 28,
     "metadata": {},
     "output_type": "execute_result"
    }
   ],
   "source": [
    "merge = pd.merge(auc_values, df, on='optimizer_id', how='left')\n",
    "merge = merge.drop_duplicates(subset=['optimizer_id'])\n",
    "merge = merge[['optimizer_id', 'auc_mean', 'auc_sem']]\n",
    "# merge = merge[['optimizer_id', 'hpi_method', 'adjust_cs', 'cs_method', 'pc_method', 'thresh', 'adjust_method', 'auc_mean', 'auc_sem']]\n",
    "final_perf = df[df['n_trials_norm'] == 1].groupby(['optimizer_id','seed']).agg({'trial_value__cost_inc_norm':'mean'}).groupby('optimizer_id').agg(\n",
    "    final_perf_mean=('trial_value__cost_inc_norm', 'mean'),\n",
    "    final_perf_sem=('trial_value__cost_inc_norm', 'sem')\n",
    ").sort_values(\"final_perf_mean\", ascending=False).reset_index()\n",
    "\n",
    "merge = pd.merge(final_perf, merge, on='optimizer_id', how='right')\n",
    "merge = merge[['optimizer_id', 'auc_mean','auc_sem', 'final_perf_mean', 'final_perf_sem']].sort_values(by='final_perf_mean', ascending=True)\n",
    "merge = merge.apply(lambda col: col.round(3) if col.name in ['auc_mean', 'auc_sem', 'final_perf_mean', 'final_perf_sem'] else col)\n",
    "merge.head(20).to_latex()"
   ]
  },
  {
   "cell_type": "code",
   "execution_count": 31,
   "id": "713d66b8",
   "metadata": {},
   "outputs": [
    {
     "data": {
      "application/vnd.microsoft.datawrangler.viewer.v0+json": {
       "columns": [
        {
         "name": "index",
         "rawType": "int64",
         "type": "integer"
        },
        {
         "name": "optimizer_id",
         "rawType": "object",
         "type": "string"
        },
        {
         "name": "auc_mean",
         "rawType": "float64",
         "type": "float"
        },
        {
         "name": "auc_sem",
         "rawType": "float64",
         "type": "float"
        },
        {
         "name": "final_perf_mean",
         "rawType": "float64",
         "type": "float"
        },
        {
         "name": "final_perf_sem",
         "rawType": "float64",
         "type": "float"
        }
       ],
       "conversionMethod": "pd.DataFrame",
       "ref": "f2cac20d-c3b6-4d16-b91b-a9415235b2ca",
       "rows": [
        [
         "5",
         "SMAC3-MO-RF",
         "0.089",
         "0.003",
         "0.055",
         "0.004"
        ],
        [
         "4",
         "fanova_adjust_cs_default_constant_adjust_prev_cfgs_set_to_random_thresh_0_lin_0",
         "0.091",
         "0.006",
         "0.058",
         "0.006"
        ],
        [
         "3",
         "fanova_adjust_cs_default_constant_adjust_prev_cfgs_set_to_incumbent_thresh_0_lin_0",
         "0.095",
         "0.006",
         "0.057",
         "0.006"
        ],
        [
         "2",
         "fanova_adjust_cs_incumbent_cs_proba_hpi_adjust_prev_cfgs_set_to_random_thresh_0_lin_0",
         "0.095",
         "0.007",
         "0.059",
         "0.009"
        ],
        [
         "1",
         "fanova_adjust_cs_default_constant_adjust_prev_cfgs_set_to_incumbent_thresh_0.75",
         "0.097",
         "0.005",
         "0.07",
         "0.005"
        ],
        [
         "0",
         "fanova_adjust_cs_incumbent_cs_proba_hpi_thresh_0.5",
         "0.101",
         "0.004",
         "0.07",
         "0.005"
        ]
       ],
       "shape": {
        "columns": 5,
        "rows": 6
       }
      },
      "text/html": [
       "<div>\n",
       "<style scoped>\n",
       "    .dataframe tbody tr th:only-of-type {\n",
       "        vertical-align: middle;\n",
       "    }\n",
       "\n",
       "    .dataframe tbody tr th {\n",
       "        vertical-align: top;\n",
       "    }\n",
       "\n",
       "    .dataframe thead th {\n",
       "        text-align: right;\n",
       "    }\n",
       "</style>\n",
       "<table border=\"1\" class=\"dataframe\">\n",
       "  <thead>\n",
       "    <tr style=\"text-align: right;\">\n",
       "      <th></th>\n",
       "      <th>optimizer_id</th>\n",
       "      <th>auc_mean</th>\n",
       "      <th>auc_sem</th>\n",
       "      <th>final_perf_mean</th>\n",
       "      <th>final_perf_sem</th>\n",
       "    </tr>\n",
       "  </thead>\n",
       "  <tbody>\n",
       "    <tr>\n",
       "      <th>5</th>\n",
       "      <td>SMAC3-MO-RF</td>\n",
       "      <td>0.089</td>\n",
       "      <td>0.003</td>\n",
       "      <td>0.055</td>\n",
       "      <td>0.004</td>\n",
       "    </tr>\n",
       "    <tr>\n",
       "      <th>4</th>\n",
       "      <td>fanova_adjust_cs_default_constant_adjust_prev_...</td>\n",
       "      <td>0.091</td>\n",
       "      <td>0.006</td>\n",
       "      <td>0.058</td>\n",
       "      <td>0.006</td>\n",
       "    </tr>\n",
       "    <tr>\n",
       "      <th>3</th>\n",
       "      <td>fanova_adjust_cs_default_constant_adjust_prev_...</td>\n",
       "      <td>0.095</td>\n",
       "      <td>0.006</td>\n",
       "      <td>0.057</td>\n",
       "      <td>0.006</td>\n",
       "    </tr>\n",
       "    <tr>\n",
       "      <th>2</th>\n",
       "      <td>fanova_adjust_cs_incumbent_cs_proba_hpi_adjust...</td>\n",
       "      <td>0.095</td>\n",
       "      <td>0.007</td>\n",
       "      <td>0.059</td>\n",
       "      <td>0.009</td>\n",
       "    </tr>\n",
       "    <tr>\n",
       "      <th>1</th>\n",
       "      <td>fanova_adjust_cs_default_constant_adjust_prev_...</td>\n",
       "      <td>0.097</td>\n",
       "      <td>0.005</td>\n",
       "      <td>0.070</td>\n",
       "      <td>0.005</td>\n",
       "    </tr>\n",
       "    <tr>\n",
       "      <th>0</th>\n",
       "      <td>fanova_adjust_cs_incumbent_cs_proba_hpi_thresh...</td>\n",
       "      <td>0.101</td>\n",
       "      <td>0.004</td>\n",
       "      <td>0.070</td>\n",
       "      <td>0.005</td>\n",
       "    </tr>\n",
       "  </tbody>\n",
       "</table>\n",
       "</div>"
      ],
      "text/plain": [
       "                                        optimizer_id  auc_mean  auc_sem  \\\n",
       "5                                        SMAC3-MO-RF     0.089    0.003   \n",
       "4  fanova_adjust_cs_default_constant_adjust_prev_...     0.091    0.006   \n",
       "3  fanova_adjust_cs_default_constant_adjust_prev_...     0.095    0.006   \n",
       "2  fanova_adjust_cs_incumbent_cs_proba_hpi_adjust...     0.095    0.007   \n",
       "1  fanova_adjust_cs_default_constant_adjust_prev_...     0.097    0.005   \n",
       "0  fanova_adjust_cs_incumbent_cs_proba_hpi_thresh...     0.101    0.004   \n",
       "\n",
       "   final_perf_mean  final_perf_sem  \n",
       "5            0.055           0.004  \n",
       "4            0.058           0.006  \n",
       "3            0.057           0.006  \n",
       "2            0.059           0.009  \n",
       "1            0.070           0.005  \n",
       "0            0.070           0.005  "
      ]
     },
     "execution_count": 31,
     "metadata": {},
     "output_type": "execute_result"
    }
   ],
   "source": [
    "merge.sort_values(by='auc_mean', ascending=True)"
   ]
  },
  {
   "cell_type": "code",
   "execution_count": 39,
   "id": "dbedcf10",
   "metadata": {},
   "outputs": [],
   "source": [
    "df = df[~df['optimizer_id'].isin(['fANOVA_AUC', 'fANOVA_final'])]"
   ]
  },
  {
   "cell_type": "code",
   "execution_count": 33,
   "id": "32d6b0aa",
   "metadata": {},
   "outputs": [],
   "source": [
    "df['optimizer_id'] = df['optimizer_id'].replace({'fanova_adjust_cs_incumbent_cs_proba_hpi_thresh_0.5': 'fANOVA_AUC', 'fanova_adjust_cs_default_constant_adjust_prev_cfgs_set_to_incumbent_thresh_0.75':'fANOVA_final','SMAC3-MO-RF':'ParEGO', 'fanova_adjust_cs_default_constant_adjust_prev_cfgs_set_to_incumbent_thresh_0_lin_0':'fanova_fin_0lin0', 'fanova_adjust_cs_default_constant_adjust_prev_cfgs_set_to_random_thresh_0_lin_0': 'fanova_fin_rnd_0lin0','fanova_adjust_cs_incumbent_cs_proba_hpi_adjust_prev_cfgs_set_to_random_thresh_0_lin_0':'fanova_auc_0lin0'})"
   ]
  },
  {
   "cell_type": "code",
   "execution_count": 36,
   "id": "f25d015d",
   "metadata": {},
   "outputs": [],
   "source": [
    "df = df[~df['task_id'].str.contains('ManyO')]"
   ]
  },
  {
   "cell_type": "code",
   "execution_count": 40,
   "id": "8e26936a",
   "metadata": {},
   "outputs": [
    {
     "name": "stdout",
     "output_type": "stream",
     "text": [
      "['ParEGO' 'fanova_auc_0lin0' 'fanova_fin_0lin0' 'fanova_fin_rnd_0lin0']\n"
     ]
    },
    {
     "name": "stderr",
     "output_type": "stream",
     "text": [
      "/tmp/ipykernel_3970/1961929167.py:25: DeprecationWarning:\n",
      "\n",
      "DataFrameGroupBy.apply operated on the grouping columns. This behavior is deprecated, and in a future version of pandas the grouping columns will be excluded from the operation. Either pass `include_groups=False` to exclude the groupings or explicitly select the grouping columns after groupby to silence this warning.\n",
      "\n"
     ]
    },
    {
     "data": {
      "application/vnd.plotly.v1+json": {
       "config": {
        "plotlyServerURL": "https://plot.ly"
       },
       "data": [
        {
         "line": {
          "color": "rgb(228,26,28)",
          "width": 2
         },
         "mode": "lines",
         "name": "ParEGO",
         "type": "scatter",
         "x": {
          "bdata": "AAAAAAAAAAB7FK5H4XqUP3sUrkfheqQ/uB6F61G4rj97FK5H4Xq0P5qZmZmZmbk/uB6F61G4vj/sUbgehevBP3sUrkfhesQ/CtejcD0Kxz+amZmZmZnJPylcj8L1KMw/uB6F61G4zj+kcD0K16PQP+xRuB6F69E/MzMzMzMz0z97FK5H4XrUP8P1KFyPwtU/CtejcD0K1z9SuB6F61HYP5qZmZmZmdk/4XoUrkfh2j8pXI/C9SjcP3E9CtejcN0/uB6F61G43j8AAAAAAADgP6RwPQrXo+A/SOF6FK5H4T/sUbgehevhP4/C9Shcj+I/MzMzMzMz4z/Xo3A9CtfjP3sUrkfheuQ/H4XrUbge5T/D9Shcj8LlP2dmZmZmZuY/CtejcD0K5z+uR+F6FK7nP1K4HoXrUeg/9ihcj8L16D+amZmZmZnpPz4K16NwPeo/4XoUrkfh6j+F61G4HoXrPylcj8L1KOw/zczMzMzM7D9xPQrXo3DtPxWuR+F6FO4/uB6F61G47j9cj8L1KFzvPwAAAAAAAPA/",
          "dtype": "f8"
         },
         "xaxis": "x",
         "y": {
          "bdata": "+0akViTS3D8DPUtW4tnQP/0CCqbuwco/ngbtxSgSyD+l79SzJXrGP85dWi5F+8Q/SGEJg2Pawz9OPQ7l29fCP4JzhsHI+ME/5fS0AftswT89z/y2eSLAP0XwylIHTb8/Tv8D8bYcvj9N1mc1j8a7P5+0hr9bj7k/hHcypTgZuT/Mj7Ww0um4P925LKUR6Lg/e0hyFonbuD8SXsNjn724P2rAr1PNaLg/FaZB+m9EuD86tvsTMhm4PxPCEnTyzbc/+PNN6394tz95uLB9nce2P2LHbzMLj7Y/N+acG4GotT/NAE3fpny1P8nXoIfFS7U/moNkH7ERtT9a+6AcBPS0P6uj/yiVl7Q/Rg5s7GxjtD8DFreMNkq0P+9nXu/sBrQ/hqTOhhM5sz9KyZqLg/OyP+ViifXCkbI/o6BO7NM9sj9Bg/9/bxWyP7+fyPcUtLE/HcfDeQZbsT9RmAsUUzGxP7Dp2F0l5rA/iQigk4KpsD8CAtB8Fn2wP/qWrP0wTrA/pTdUWAOjrz/AEhjrzwivP71fYnlkXK4/",
          "dtype": "f8"
         },
         "yaxis": "y"
        },
        {
         "fill": "toself",
         "fillcolor": "rgba(228,26,28,0.1)",
         "hoverinfo": "skip",
         "line": {
          "color": "rgba(255,255,255,0)"
         },
         "showlegend": false,
         "type": "scatter",
         "x": {
          "bdata": "AAAAAAAAAAB7FK5H4XqUP3sUrkfheqQ/uB6F61G4rj97FK5H4Xq0P5qZmZmZmbk/uB6F61G4vj/sUbgehevBP3sUrkfhesQ/CtejcD0Kxz+amZmZmZnJPylcj8L1KMw/uB6F61G4zj+kcD0K16PQP+xRuB6F69E/MzMzMzMz0z97FK5H4XrUP8P1KFyPwtU/CtejcD0K1z9SuB6F61HYP5qZmZmZmdk/4XoUrkfh2j8pXI/C9SjcP3E9CtejcN0/uB6F61G43j8AAAAAAADgP6RwPQrXo+A/SOF6FK5H4T/sUbgehevhP4/C9Shcj+I/MzMzMzMz4z/Xo3A9CtfjP3sUrkfheuQ/H4XrUbge5T/D9Shcj8LlP2dmZmZmZuY/CtejcD0K5z+uR+F6FK7nP1K4HoXrUeg/9ihcj8L16D+amZmZmZnpPz4K16NwPeo/4XoUrkfh6j+F61G4HoXrPylcj8L1KOw/zczMzMzM7D9xPQrXo3DtPxWuR+F6FO4/uB6F61G47j9cj8L1KFzvPwAAAAAAAPA/AAAAAAAA8D9cj8L1KFzvP7gehetRuO4/Fa5H4XoU7j9xPQrXo3DtP83MzMzMzOw/KVyPwvUo7D+F61G4HoXrP+F6FK5H4eo/PgrXo3A96j+amZmZmZnpP/YoXI/C9eg/UrgehetR6D+uR+F6FK7nPwrXo3A9Cuc/Z2ZmZmZm5j/D9Shcj8LlPx+F61G4HuU/exSuR+F65D/Xo3A9CtfjPzMzMzMzM+M/j8L1KFyP4j/sUbgehevhP0jhehSuR+E/pHA9Ctej4D8AAAAAAADgP7gehetRuN4/cT0K16Nw3T8pXI/C9SjcP+F6FK5H4do/mpmZmZmZ2T9SuB6F61HYPwrXo3A9Ctc/w/UoXI/C1T97FK5H4XrUPzMzMzMzM9M/7FG4HoXr0T+kcD0K16PQP7gehetRuM4/KVyPwvUozD+amZmZmZnJPwrXo3A9Csc/exSuR+F6xD/sUbgehevBP7gehetRuL4/mpmZmZmZuT97FK5H4Xq0P7gehetRuK4/exSuR+F6pD97FK5H4XqUPwAAAAAAAAAA",
          "dtype": "f8"
         },
         "xaxis": "x",
         "y": {
          "bdata": "QgGQFjGD2j8CLB2aZarPP9A1K5LmaMk/xAZcoL4vxz+PU4Nm64vFP7Cvltc9M8Q/IdpEk2P6wj+c3AJAokHCPzz3s8QelsE/RHuiVt3zwD9D4e92zXK/PzLQSqtAmb4/SCm5LjtevT9Q6NHuIS+7P8qBdHUgFrk/77xa/yyRuD+cpSY9Q1+4PyTbnsQQXbg/5t7v4i9cuD+FpBWMrlG4P7J4xMp0+Lc/sfqlhCrRtz+dumP6VpW3PzuWeSatNbc/w562TCTrtj+CVgpm1fe1Pw+uRFv5trU/KoRA2sPrtD+iMFTy68O0P0mt7JU1jrQ/1WMm6MhXtD/LBaJm4zq0P0muQIny0LM/Tn/nlQfBsz/JPQW3ZZ6zP3Xv9op5WrM/R2PL8iN5sj8v8jRZbEyyP75LCtUX+bE/qCIgyjCYsT/bER/7qWmxP19ec4u8DbE/+/9xrciQsD/aCOWEQlOwP/qhzFf7oq8/RFlfbOnGrj+P0DMM0oSuP7yM0bNaQa4/ZG7PUMVWrT8NXUgeEuOsP22zlGv+Kqw/BgaYQ+VGsD865PPbRpewP3OA7K+g97A/lmdwobR7sT+9G4bzw7exP3BkEHGQ77E/Y4LLD836sT/IJzKjYw+yPz+OFUZEJbI/H+EdZG1asj+n9N8ENcGyP54efQ5347I/DHoIFm4qsz9loAC+mpqzP8Xl0RoD+bM/aeDFU2CztD897mhiB/a0Pz6d8ELSBbU/DZm+yDdetT/p8J/SJK21P1+jolaZy7U/SQJVeVUJtj/40EXMYTW2P0RI+Vw+ZbY/teCaCx1ntz9wGleVZZe3Py1J5YnbBbg/6+2rwTdmuD/XsZMtDZ24P3lR3W+1t7g/Igib3CXZuD+fF3E7kCm5PxCy9EniWrk/lpi6hRJzuT/8eUQkYnS5PxkyCktEobk/dOeYCZcIuj9KxP17/F28P1TVTrMy274/LIgl/WYAwD/ZrYGyjIvAP4Zux6wY5sE/yO9YvnJbwj8AnhmKFW7DP2/ozXJjusQ/7AsehUzDxT+7iyYBYGjHP3gGfuuS9Mg/KtDoufYazD8F5Iffkd7RP7SMuJYXId8/",
          "dtype": "f8"
         },
         "yaxis": "y"
        },
        {
         "line": {
          "color": "rgb(55,126,184)",
          "width": 2
         },
         "mode": "lines",
         "name": "fanova_auc_0lin0",
         "type": "scatter",
         "x": {
          "bdata": "AAAAAAAAAAB7FK5H4XqUP3sUrkfheqQ/uB6F61G4rj97FK5H4Xq0P5qZmZmZmbk/uB6F61G4vj/sUbgehevBP3sUrkfhesQ/CtejcD0Kxz+amZmZmZnJPylcj8L1KMw/uB6F61G4zj+kcD0K16PQP+xRuB6F69E/MzMzMzMz0z97FK5H4XrUP8P1KFyPwtU/CtejcD0K1z9SuB6F61HYP5qZmZmZmdk/4XoUrkfh2j8pXI/C9SjcP3E9CtejcN0/uB6F61G43j8AAAAAAADgP6RwPQrXo+A/SOF6FK5H4T/sUbgehevhP4/C9Shcj+I/MzMzMzMz4z/Xo3A9CtfjP3sUrkfheuQ/H4XrUbge5T/D9Shcj8LlP2dmZmZmZuY/CtejcD0K5z+uR+F6FK7nP1K4HoXrUeg/9ihcj8L16D+amZmZmZnpPz4K16NwPeo/4XoUrkfh6j+F61G4HoXrPylcj8L1KOw/zczMzMzM7D9xPQrXo3DtPxWuR+F6FO4/uB6F61G47j9cj8L1KFzvPwAAAAAAAPA/",
          "dtype": "f8"
         },
         "xaxis": "x",
         "y": {
          "bdata": "+0akViTS3D8DPUtW4tnQP/0CCqbuwco/ngbtxSgSyD+l79SzJXrGP85dWi5F+8Q/SGEJg2Pawz9OPQ7l29fCP4JzhsHI+ME/5fS0AftswT89z/y2eSLAP0XwylIHTb8/lVI5dCclvj+zlP/eMQu7Px3bbdC7prk/LsE1RdfJuD/nZLZ2VnO4P+aWBzzXD7g/S9eCqJe0tz9DHoWm9f+2P/ejvPBHx7Y/Wf77E3+Btj9ATowXwVy2P53xFyD7VrY/tos9MQAgtj86glfRQrC1P6bHMnFIarU/P+yveBpHtT8GZ2XiFfu0P/exPBogx7Q/vl98wleZtD/40A8Pf3y0P7fLC/ZRT7Q/F/OsRSowtD+mobZe9sGzPyQ8BTzzf7M/sZhOkWgYsz8GhasSgXiyPz9a+NtBSrI/23y4ihVjsT9Kf+Z7zjWxP8oEmPKh37A/wu3pGvSgsD/urpZocJywPwsGykc+mbA/ct03u6xxsD+IoK/0mW6wP9aJA3e86K8/Mwf6v7Harz/ATYBSAhGvP6adybD/Lq4/",
          "dtype": "f8"
         },
         "yaxis": "y"
        },
        {
         "fill": "toself",
         "fillcolor": "rgba(55,126,184,0.1)",
         "hoverinfo": "skip",
         "line": {
          "color": "rgba(255,255,255,0)"
         },
         "showlegend": false,
         "type": "scatter",
         "x": {
          "bdata": "AAAAAAAAAAB7FK5H4XqUP3sUrkfheqQ/uB6F61G4rj97FK5H4Xq0P5qZmZmZmbk/uB6F61G4vj/sUbgehevBP3sUrkfhesQ/CtejcD0Kxz+amZmZmZnJPylcj8L1KMw/uB6F61G4zj+kcD0K16PQP+xRuB6F69E/MzMzMzMz0z97FK5H4XrUP8P1KFyPwtU/CtejcD0K1z9SuB6F61HYP5qZmZmZmdk/4XoUrkfh2j8pXI/C9SjcP3E9CtejcN0/uB6F61G43j8AAAAAAADgP6RwPQrXo+A/SOF6FK5H4T/sUbgehevhP4/C9Shcj+I/MzMzMzMz4z/Xo3A9CtfjP3sUrkfheuQ/H4XrUbge5T/D9Shcj8LlP2dmZmZmZuY/CtejcD0K5z+uR+F6FK7nP1K4HoXrUeg/9ihcj8L16D+amZmZmZnpPz4K16NwPeo/4XoUrkfh6j+F61G4HoXrPylcj8L1KOw/zczMzMzM7D9xPQrXo3DtPxWuR+F6FO4/uB6F61G47j9cj8L1KFzvPwAAAAAAAPA/AAAAAAAA8D9cj8L1KFzvP7gehetRuO4/Fa5H4XoU7j9xPQrXo3DtP83MzMzMzOw/KVyPwvUo7D+F61G4HoXrP+F6FK5H4eo/PgrXo3A96j+amZmZmZnpP/YoXI/C9eg/UrgehetR6D+uR+F6FK7nPwrXo3A9Cuc/Z2ZmZmZm5j/D9Shcj8LlPx+F61G4HuU/exSuR+F65D/Xo3A9CtfjPzMzMzMzM+M/j8L1KFyP4j/sUbgehevhP0jhehSuR+E/pHA9Ctej4D8AAAAAAADgP7gehetRuN4/cT0K16Nw3T8pXI/C9SjcP+F6FK5H4do/mpmZmZmZ2T9SuB6F61HYPwrXo3A9Ctc/w/UoXI/C1T97FK5H4XrUPzMzMzMzM9M/7FG4HoXr0T+kcD0K16PQP7gehetRuM4/KVyPwvUozD+amZmZmZnJPwrXo3A9Csc/exSuR+F6xD/sUbgehevBP7gehetRuL4/mpmZmZmZuT97FK5H4Xq0P7gehetRuK4/exSuR+F6pD97FK5H4XqUPwAAAAAAAAAA",
          "dtype": "f8"
         },
         "xaxis": "x",
         "y": {
          "bdata": "QgGQFjGD2j8CLB2aZarPP9A1K5LmaMk/xAZcoL4vxz+PU4Nm64vFP7Cvltc9M8Q/IdpEk2P6wj+c3AJAokHCPzz3s8QelsE/RHuiVt3zwD9D4e92zXK/PzLQSqtAmb4/KBb7qRJ2vT/+FcYUfG25P+Xr3EwBJbc/mE7cIR6vtT8Q7buN1Vq1P3YT8+SABrU/R5pZ82PAtD807RC+Uxe0P1lqtSmW5bM/L0agVyWksz9tRAGcBoGzP3qE7CHUfLM/tVSdO19asz9fNyUMIueyP2d5p0OelbI/08n+FpV6sj/Vr4Tgy0SyPwZhEFawHLI/48Qpjcv6sT8tA3/unOSxPwgIEJF+v7E/m3CojPmmsT9Bp0yToVOxP0uKRJr9ILE/AcDrKLWPsD/kp3cRKvGvP/qxk5UPna8/IDgSoFNDrj9iO8AtsMWtP/yMWDEVNa0/Znau/rqgrD9jJu4Rl5asP4MXNP+xjqw/VkiY2xnzqz8fddZjWu6rP7ybQHzxOas/zOvX+o0vqz9iYJa34nGqP3Q0K2uBmKk/bAM0+75isT+PHbX2ENixP00RjsLqQrI/+DvjuMNLsj+ABnS3BuayP7mWo4jM6bI/VAD6jyPrsj+qSjZIle2yP1GgfLaK8bI/FsODTLkksz/j4OzgxIizP6bdZ0WBpLM/gdsm7fvFtD8aNpscbfi0P2FxsfkbobU//e3F3ejetT8LnCAqSzC2P5N1sf5aubY/Zo8HWyXftj/DnqAvYRS3P5n6zvfjN7c/6AJp3o9xtz83HkbkX7G3P6sOYdqfE7g/5RW+nvI+uD8VzYmWY3m4P7fC3Sah5bg/wF5DHiIxuT8TWBeTezi5P4O2V9DYXrk/ld3Dt/mouT9ST/mOl+i5P08UrF3LqLo/Vhocky0Zuz++3LBf14u7P8Qzj2iQ5Ls/Vcr+U3YovD9oEzmp56i8PwKPdz481L4/LIgl/WYAwD/ZrYGyjIvAP4Zux6wY5sE/yO9YvnJbwj8AnhmKFW7DP2/ozXJjusQ/7AsehUzDxT+7iyYBYGjHP3gGfuuS9Mg/KtDoufYazD8F5Iffkd7RP7SMuJYXId8/",
          "dtype": "f8"
         },
         "yaxis": "y"
        },
        {
         "line": {
          "color": "rgb(77,175,74)",
          "width": 2
         },
         "mode": "lines",
         "name": "fanova_fin_0lin0",
         "type": "scatter",
         "x": {
          "bdata": "AAAAAAAAAAB7FK5H4XqUP3sUrkfheqQ/uB6F61G4rj97FK5H4Xq0P5qZmZmZmbk/uB6F61G4vj/sUbgehevBP3sUrkfhesQ/CtejcD0Kxz+amZmZmZnJPylcj8L1KMw/uB6F61G4zj+kcD0K16PQP+xRuB6F69E/MzMzMzMz0z97FK5H4XrUP8P1KFyPwtU/CtejcD0K1z9SuB6F61HYP5qZmZmZmdk/4XoUrkfh2j8pXI/C9SjcP3E9CtejcN0/uB6F61G43j8AAAAAAADgP6RwPQrXo+A/SOF6FK5H4T/sUbgehevhP4/C9Shcj+I/MzMzMzMz4z/Xo3A9CtfjP3sUrkfheuQ/H4XrUbge5T/D9Shcj8LlP2dmZmZmZuY/CtejcD0K5z+uR+F6FK7nP1K4HoXrUeg/9ihcj8L16D+amZmZmZnpPz4K16NwPeo/4XoUrkfh6j+F61G4HoXrPylcj8L1KOw/zczMzMzM7D9xPQrXo3DtPxWuR+F6FO4/uB6F61G47j9cj8L1KFzvPwAAAAAAAPA/",
          "dtype": "f8"
         },
         "xaxis": "x",
         "y": {
          "bdata": "+0akViTS3D8DPUtW4tnQP/0CCqbuwco/ngbtxSgSyD+l79SzJXrGP85dWi5F+8Q/SGEJg2Pawz9OPQ7l29fCP4JzhsHI+ME/5fS0AftswT89z/y2eSLAP0XwylIHTb8/Bgzo+Xhivj/KXbXmkZO7P26UD8XTN7o/GBMeQ4ucuT866Z5avFO5P9NUSRtOJbk/eeXxKSZ3uD/Wj6RI6jS3P236qPHy2LY/tmMzPOddtj/LhN+yAw+2P2UusdfGZrU/nj7UiNAptT/bvBQWEh61PzWp9mlNqbQ/Cuawv7h+tD85ii1puJazP+KhZEb19bI/ANZqS83xsj/+g5FHKYuyP/ULF6sji7I/hSncPm5Qsj/a50Ubg9qxPy/hbh+DvrE//h4Jz+6OsT/Q4cOJPX2xP7qo/5gpZbE/yMPplVgrsT/TCN5tBymxPxpsaaXnD7E/GmxppecPsT9e1K8MH/ewP9IwySi6eLA/dGIEbxgbsD+l33IRLZSvP27bT+j71q4/FtOedYxOrj8zwn4nhuStP21MGWm6FK0/",
          "dtype": "f8"
         },
         "yaxis": "y"
        },
        {
         "fill": "toself",
         "fillcolor": "rgba(77,175,74,0.1)",
         "hoverinfo": "skip",
         "line": {
          "color": "rgba(255,255,255,0)"
         },
         "showlegend": false,
         "type": "scatter",
         "x": {
          "bdata": "AAAAAAAAAAB7FK5H4XqUP3sUrkfheqQ/uB6F61G4rj97FK5H4Xq0P5qZmZmZmbk/uB6F61G4vj/sUbgehevBP3sUrkfhesQ/CtejcD0Kxz+amZmZmZnJPylcj8L1KMw/uB6F61G4zj+kcD0K16PQP+xRuB6F69E/MzMzMzMz0z97FK5H4XrUP8P1KFyPwtU/CtejcD0K1z9SuB6F61HYP5qZmZmZmdk/4XoUrkfh2j8pXI/C9SjcP3E9CtejcN0/uB6F61G43j8AAAAAAADgP6RwPQrXo+A/SOF6FK5H4T/sUbgehevhP4/C9Shcj+I/MzMzMzMz4z/Xo3A9CtfjP3sUrkfheuQ/H4XrUbge5T/D9Shcj8LlP2dmZmZmZuY/CtejcD0K5z+uR+F6FK7nP1K4HoXrUeg/9ihcj8L16D+amZmZmZnpPz4K16NwPeo/4XoUrkfh6j+F61G4HoXrPylcj8L1KOw/zczMzMzM7D9xPQrXo3DtPxWuR+F6FO4/uB6F61G47j9cj8L1KFzvPwAAAAAAAPA/AAAAAAAA8D9cj8L1KFzvP7gehetRuO4/Fa5H4XoU7j9xPQrXo3DtP83MzMzMzOw/KVyPwvUo7D+F61G4HoXrP+F6FK5H4eo/PgrXo3A96j+amZmZmZnpP/YoXI/C9eg/UrgehetR6D+uR+F6FK7nPwrXo3A9Cuc/Z2ZmZmZm5j/D9Shcj8LlPx+F61G4HuU/exSuR+F65D/Xo3A9CtfjPzMzMzMzM+M/j8L1KFyP4j/sUbgehevhP0jhehSuR+E/pHA9Ctej4D8AAAAAAADgP7gehetRuN4/cT0K16Nw3T8pXI/C9SjcP+F6FK5H4do/mpmZmZmZ2T9SuB6F61HYPwrXo3A9Ctc/w/UoXI/C1T97FK5H4XrUPzMzMzMzM9M/7FG4HoXr0T+kcD0K16PQP7gehetRuM4/KVyPwvUozD+amZmZmZnJPwrXo3A9Csc/exSuR+F6xD/sUbgehevBP7gehetRuL4/mpmZmZmZuT97FK5H4Xq0P7gehetRuK4/exSuR+F6pD97FK5H4XqUPwAAAAAAAAAA",
          "dtype": "f8"
         },
         "xaxis": "x",
         "y": {
          "bdata": "QgGQFjGD2j8CLB2aZarPP9A1K5LmaMk/xAZcoL4vxz+PU4Nm64vFP7Cvltc9M8Q/IdpEk2P6wj+c3AJAokHCPzz3s8QelsE/RHuiVt3zwD9D4e92zXK/PzLQSqtAmb4/9Ihj5tmYvT9RuYlXBzC6PyBEN1oV3Lc/1RZQQrm4tj/IX/W6/3K2P8wLlxcaTrY/K26J0xi5tT8VcQsB97O0P6Baye2FXrQ/bjI84JW4sz9jfh70Q3+zP1BeDdE78rI/7amVxUGHsj8cUehhJneyPxjTXUk1PLI/aT2B14Yesj+dOvpp6HGxP7xOJPI7B7E/8uA9zNUDsT9JKGDt2YmwPwAPWVrWibA/pIVi/DRbsD+szLpL+uSvP0fxcjoxpa8/cXQVRZpZrz8hLYAGxECvP/AszoMVHK8/7zAlyYC1rj//l5PyW7GuP+rIJSKuT64/6sglIq5Prj9SG1pMmR2uPwZG2c7Va60/DbLuRs+DrD/gjovC+/2rPwau0RxNaqs/adGIUUT3qj+JjrcZM5eqP1V5b2ha1Kk/w4/hNI0qsD/v+qKa7JiwP2Jq2kzq0rA/awTnWdUhsT81GC0wL5WxP+JrkTpJ9LE/ob4laok7sj8TmzJzcd+yP7/zvzn497I/v/O/Ofj3sj+nRXLiYPmyPxnvQMfw+7I//DoYcEg8sz8PrUcQGVqzP8SDh3sQcbM/ukmkoW2qsz9eaa4QicKzP2bNVYGnRbQ/6gjV+3CMtD+z38KheIy0Pw7Ll8rE37Q/CPWkmq7ktD/V2WBoiLu1P6uO4Kfq3rY/Un+PimUWtz+aKEHK/cS3P0/TEkxfzLc/ev5U3lHbtz8zi6Bxw564P/6UKpg4A7k/OpqI9V9TuT+Xrj2Q3bW5P8dcWoAzNbs/2p37HoL8uz+sckj6eDS8P1sP7ENdgLw/vOTnL5KTvD9DAuF1HPe8PxiPbA0YLL8/LIgl/WYAwD/ZrYGyjIvAP4Zux6wY5sE/yO9YvnJbwj8AnhmKFW7DP2/ozXJjusQ/7AsehUzDxT+7iyYBYGjHP3gGfuuS9Mg/KtDoufYazD8F5Iffkd7RP7SMuJYXId8/",
          "dtype": "f8"
         },
         "yaxis": "y"
        },
        {
         "line": {
          "color": "rgb(152,78,163)",
          "width": 2
         },
         "mode": "lines",
         "name": "fanova_fin_rnd_0lin0",
         "type": "scatter",
         "x": {
          "bdata": "AAAAAAAAAAB7FK5H4XqUP3sUrkfheqQ/uB6F61G4rj97FK5H4Xq0P5qZmZmZmbk/uB6F61G4vj/sUbgehevBP3sUrkfhesQ/CtejcD0Kxz+amZmZmZnJPylcj8L1KMw/uB6F61G4zj+kcD0K16PQP+xRuB6F69E/MzMzMzMz0z97FK5H4XrUP8P1KFyPwtU/CtejcD0K1z9SuB6F61HYP5qZmZmZmdk/4XoUrkfh2j8pXI/C9SjcP3E9CtejcN0/uB6F61G43j8AAAAAAADgP6RwPQrXo+A/SOF6FK5H4T/sUbgehevhP4/C9Shcj+I/MzMzMzMz4z/Xo3A9CtfjP3sUrkfheuQ/H4XrUbge5T/D9Shcj8LlP2dmZmZmZuY/CtejcD0K5z+uR+F6FK7nP1K4HoXrUeg/9ihcj8L16D+amZmZmZnpPz4K16NwPeo/4XoUrkfh6j+F61G4HoXrPylcj8L1KOw/zczMzMzM7D9xPQrXo3DtPxWuR+F6FO4/uB6F61G47j9cj8L1KFzvPwAAAAAAAPA/",
          "dtype": "f8"
         },
         "xaxis": "x",
         "y": {
          "bdata": "+0akViTS3D8DPUtW4tnQP/0CCqbuwco/ngbtxSgSyD+l79SzJXrGP85dWi5F+8Q/SGEJg2Pawz9OPQ7l29fCP4JzhsHI+ME/5fS0AftswT89z/y2eSLAP0XwylIHTb8/AJklsaIuvj/Sny8zZbC7PxIew+9D0bk/yIt6GN8nuT/+pvS3KK+4PwIktShrLrg/DKYQWTVRtz+AFSdqzP62Pw42/ejG7rY/spfsB1Xitj/GU6V4q7G2Py8KfbiYabY/jPnG0NJKtj+rrEpMvES1P7FwcwvQOrU/zukM56DVtD9MGrjW4WK0P5BgvJoBILQ/yJlLnUmgsz/jXo01vzizP/9Zs/ZTNrM/bM/n+36Xsj9AGDG2hn+yP4BxqbSi9LE/JeFpp+7esT/PgstoJoOxP0rtZOgtcbE/RMfcwAdpsT/G03AWNAWxPxM6JfV+7LA/b3iadurosD/0o+haKKmwP5AeAl1lY7A/Rt1Go7YtsD9lQcysKhuwP3Bp8JnWWq8/TQEsi5ETrz/DWhdQM1quP1seQ9EL4a0/",
          "dtype": "f8"
         },
         "yaxis": "y"
        },
        {
         "fill": "toself",
         "fillcolor": "rgba(152,78,163,0.1)",
         "hoverinfo": "skip",
         "line": {
          "color": "rgba(255,255,255,0)"
         },
         "showlegend": false,
         "type": "scatter",
         "x": {
          "bdata": "AAAAAAAAAAB7FK5H4XqUP3sUrkfheqQ/uB6F61G4rj97FK5H4Xq0P5qZmZmZmbk/uB6F61G4vj/sUbgehevBP3sUrkfhesQ/CtejcD0Kxz+amZmZmZnJPylcj8L1KMw/uB6F61G4zj+kcD0K16PQP+xRuB6F69E/MzMzMzMz0z97FK5H4XrUP8P1KFyPwtU/CtejcD0K1z9SuB6F61HYP5qZmZmZmdk/4XoUrkfh2j8pXI/C9SjcP3E9CtejcN0/uB6F61G43j8AAAAAAADgP6RwPQrXo+A/SOF6FK5H4T/sUbgehevhP4/C9Shcj+I/MzMzMzMz4z/Xo3A9CtfjP3sUrkfheuQ/H4XrUbge5T/D9Shcj8LlP2dmZmZmZuY/CtejcD0K5z+uR+F6FK7nP1K4HoXrUeg/9ihcj8L16D+amZmZmZnpPz4K16NwPeo/4XoUrkfh6j+F61G4HoXrPylcj8L1KOw/zczMzMzM7D9xPQrXo3DtPxWuR+F6FO4/uB6F61G47j9cj8L1KFzvPwAAAAAAAPA/AAAAAAAA8D9cj8L1KFzvP7gehetRuO4/Fa5H4XoU7j9xPQrXo3DtP83MzMzMzOw/KVyPwvUo7D+F61G4HoXrP+F6FK5H4eo/PgrXo3A96j+amZmZmZnpP/YoXI/C9eg/UrgehetR6D+uR+F6FK7nPwrXo3A9Cuc/Z2ZmZmZm5j/D9Shcj8LlPx+F61G4HuU/exSuR+F65D/Xo3A9CtfjPzMzMzMzM+M/j8L1KFyP4j/sUbgehevhP0jhehSuR+E/pHA9Ctej4D8AAAAAAADgP7gehetRuN4/cT0K16Nw3T8pXI/C9SjcP+F6FK5H4do/mpmZmZmZ2T9SuB6F61HYPwrXo3A9Ctc/w/UoXI/C1T97FK5H4XrUPzMzMzMzM9M/7FG4HoXr0T+kcD0K16PQP7gehetRuM4/KVyPwvUozD+amZmZmZnJPwrXo3A9Csc/exSuR+F6xD/sUbgehevBP7gehetRuL4/mpmZmZmZuT97FK5H4Xq0P7gehetRuK4/exSuR+F6pD97FK5H4XqUPwAAAAAAAAAA",
          "dtype": "f8"
         },
         "xaxis": "x",
         "y": {
          "bdata": "QgGQFjGD2j8CLB2aZarPP9A1K5LmaMk/xAZcoL4vxz+PU4Nm64vFP7Cvltc9M8Q/IdpEk2P6wj+c3AJAokHCPzz3s8QelsE/RHuiVt3zwD9D4e92zXK/PzLQSqtAmb4/EolWJy53vT+lP11hXqe6P6iWr+2847c/GHS/M8uttj9oTt8LEAO2P2sxaRzXlLU/lEC7BoewtD8668ktiEa0P/6oPJZjPLQ/tpMHmBwrtD/hReS7xgm0PxyXVjoBnbM/m8QJtVeCsz8lNS5uxqyyP3T1ENddnrI/nAO+Lyk8sj9FzKl/INaxP9Kzf9UmqLE/Ds7ntKtqsT9/Cu5pWhWxP0WrLLmUE7E/KMkCfhOpsD9HO/+m0pawP9Ck5PCAHLA/18JC/2AFsD/PB1A0DlGvP3mX9WxHOq8/iSgbd3gxrz+vwq5KfcKuP+AioJ3Qoa4/gsWBIKucrj93OlGce0uuPzvQglxkP60/EawMlO7wrD8Hd92vXK2sP8MbSIg3qas/ba2ZD+Jnqz/It+gvu+6qP2t3D4p9l6o/pmI7DE2VsD/f/iK41eKwP5YqX4OgX7E/j1vM1TqGsT9Gx6kBp9+xP4Rkh/z14rE/A9XCixgnsj+sqqjnkiyyPx0O9Fx/g7I/tmJ6mxWIsj81RoqHKamyP0T6K0ZTObM/2A5PGjhFsz+2AW+3xV2zP3P/kE98uLM/MD5ueMTMsz859WLFOmi0P7DVzHnqhbQ/uQg6NBNZtT9HsywBJFy1P4Jlr4Xn1bU/Tg35X9yXtj9TaMYto++2PwDQW54Yb7c/7uvVP0LXtz8xJGcqsty3P30uhOxNE7k/Qn2jNjA2uT+rYWY1kFm5P66b0XeNmbk/HsO9OyqhuT/GP4SmELe5P4QLZqvj8bk/mRYBNf/Huj+U/wlkQVu7P3ijNf3yobs/fKXW8cq+uz///wEFbLm8P+6o9DoX5r4/LIgl/WYAwD/ZrYGyjIvAP4Zux6wY5sE/yO9YvnJbwj8AnhmKFW7DP2/ozXJjusQ/7AsehUzDxT+7iyYBYGjHP3gGfuuS9Mg/KtDoufYazD8F5Iffkd7RP7SMuJYXId8/",
          "dtype": "f8"
         },
         "yaxis": "y"
        },
        {
         "error_x": {
          "array": {
           "bdata": "Qo4new9CXD/9LEJ6fe98P+v4+yiNxXg/goed1QgveT8=",
           "dtype": "f8"
          },
          "type": "data"
         },
         "marker": {
          "color": "skyblue",
          "line": {
           "color": "black",
           "width": 1
          }
         },
         "orientation": "h",
         "showlegend": false,
         "type": "bar",
         "x": {
          "bdata": "7Zt0pdv2uD+oXrpIjV64P6fhe9MrP7g/3quifkdLtz8=",
          "dtype": "f8"
         },
         "xaxis": "x2",
         "y": [
          "ParEGO",
          "fanova_auc_0lin0",
          "fanova_fin_0lin0",
          "fanova_fin_rnd_0lin0"
         ],
         "yaxis": "y2"
        }
       ],
       "layout": {
        "font": {
         "size": 16
        },
        "height": 400,
        "legend": {
         "font": {
          "size": 16
         },
         "title": {
          "text": "Optimizers"
         }
        },
        "margin": {
         "b": 50,
         "l": 50,
         "r": 50,
         "t": 60
        },
        "template": {
         "data": {
          "bar": [
           {
            "error_x": {
             "color": "#2a3f5f"
            },
            "error_y": {
             "color": "#2a3f5f"
            },
            "marker": {
             "line": {
              "color": "white",
              "width": 0.5
             },
             "pattern": {
              "fillmode": "overlay",
              "size": 10,
              "solidity": 0.2
             }
            },
            "type": "bar"
           }
          ],
          "barpolar": [
           {
            "marker": {
             "line": {
              "color": "white",
              "width": 0.5
             },
             "pattern": {
              "fillmode": "overlay",
              "size": 10,
              "solidity": 0.2
             }
            },
            "type": "barpolar"
           }
          ],
          "carpet": [
           {
            "aaxis": {
             "endlinecolor": "#2a3f5f",
             "gridcolor": "#C8D4E3",
             "linecolor": "#C8D4E3",
             "minorgridcolor": "#C8D4E3",
             "startlinecolor": "#2a3f5f"
            },
            "baxis": {
             "endlinecolor": "#2a3f5f",
             "gridcolor": "#C8D4E3",
             "linecolor": "#C8D4E3",
             "minorgridcolor": "#C8D4E3",
             "startlinecolor": "#2a3f5f"
            },
            "type": "carpet"
           }
          ],
          "choropleth": [
           {
            "colorbar": {
             "outlinewidth": 0,
             "ticks": ""
            },
            "type": "choropleth"
           }
          ],
          "contour": [
           {
            "colorbar": {
             "outlinewidth": 0,
             "ticks": ""
            },
            "colorscale": [
             [
              0,
              "#0d0887"
             ],
             [
              0.1111111111111111,
              "#46039f"
             ],
             [
              0.2222222222222222,
              "#7201a8"
             ],
             [
              0.3333333333333333,
              "#9c179e"
             ],
             [
              0.4444444444444444,
              "#bd3786"
             ],
             [
              0.5555555555555556,
              "#d8576b"
             ],
             [
              0.6666666666666666,
              "#ed7953"
             ],
             [
              0.7777777777777778,
              "#fb9f3a"
             ],
             [
              0.8888888888888888,
              "#fdca26"
             ],
             [
              1,
              "#f0f921"
             ]
            ],
            "type": "contour"
           }
          ],
          "contourcarpet": [
           {
            "colorbar": {
             "outlinewidth": 0,
             "ticks": ""
            },
            "type": "contourcarpet"
           }
          ],
          "heatmap": [
           {
            "colorbar": {
             "outlinewidth": 0,
             "ticks": ""
            },
            "colorscale": [
             [
              0,
              "#0d0887"
             ],
             [
              0.1111111111111111,
              "#46039f"
             ],
             [
              0.2222222222222222,
              "#7201a8"
             ],
             [
              0.3333333333333333,
              "#9c179e"
             ],
             [
              0.4444444444444444,
              "#bd3786"
             ],
             [
              0.5555555555555556,
              "#d8576b"
             ],
             [
              0.6666666666666666,
              "#ed7953"
             ],
             [
              0.7777777777777778,
              "#fb9f3a"
             ],
             [
              0.8888888888888888,
              "#fdca26"
             ],
             [
              1,
              "#f0f921"
             ]
            ],
            "type": "heatmap"
           }
          ],
          "histogram": [
           {
            "marker": {
             "pattern": {
              "fillmode": "overlay",
              "size": 10,
              "solidity": 0.2
             }
            },
            "type": "histogram"
           }
          ],
          "histogram2d": [
           {
            "colorbar": {
             "outlinewidth": 0,
             "ticks": ""
            },
            "colorscale": [
             [
              0,
              "#0d0887"
             ],
             [
              0.1111111111111111,
              "#46039f"
             ],
             [
              0.2222222222222222,
              "#7201a8"
             ],
             [
              0.3333333333333333,
              "#9c179e"
             ],
             [
              0.4444444444444444,
              "#bd3786"
             ],
             [
              0.5555555555555556,
              "#d8576b"
             ],
             [
              0.6666666666666666,
              "#ed7953"
             ],
             [
              0.7777777777777778,
              "#fb9f3a"
             ],
             [
              0.8888888888888888,
              "#fdca26"
             ],
             [
              1,
              "#f0f921"
             ]
            ],
            "type": "histogram2d"
           }
          ],
          "histogram2dcontour": [
           {
            "colorbar": {
             "outlinewidth": 0,
             "ticks": ""
            },
            "colorscale": [
             [
              0,
              "#0d0887"
             ],
             [
              0.1111111111111111,
              "#46039f"
             ],
             [
              0.2222222222222222,
              "#7201a8"
             ],
             [
              0.3333333333333333,
              "#9c179e"
             ],
             [
              0.4444444444444444,
              "#bd3786"
             ],
             [
              0.5555555555555556,
              "#d8576b"
             ],
             [
              0.6666666666666666,
              "#ed7953"
             ],
             [
              0.7777777777777778,
              "#fb9f3a"
             ],
             [
              0.8888888888888888,
              "#fdca26"
             ],
             [
              1,
              "#f0f921"
             ]
            ],
            "type": "histogram2dcontour"
           }
          ],
          "mesh3d": [
           {
            "colorbar": {
             "outlinewidth": 0,
             "ticks": ""
            },
            "type": "mesh3d"
           }
          ],
          "parcoords": [
           {
            "line": {
             "colorbar": {
              "outlinewidth": 0,
              "ticks": ""
             }
            },
            "type": "parcoords"
           }
          ],
          "pie": [
           {
            "automargin": true,
            "type": "pie"
           }
          ],
          "scatter": [
           {
            "fillpattern": {
             "fillmode": "overlay",
             "size": 10,
             "solidity": 0.2
            },
            "type": "scatter"
           }
          ],
          "scatter3d": [
           {
            "line": {
             "colorbar": {
              "outlinewidth": 0,
              "ticks": ""
             }
            },
            "marker": {
             "colorbar": {
              "outlinewidth": 0,
              "ticks": ""
             }
            },
            "type": "scatter3d"
           }
          ],
          "scattercarpet": [
           {
            "marker": {
             "colorbar": {
              "outlinewidth": 0,
              "ticks": ""
             }
            },
            "type": "scattercarpet"
           }
          ],
          "scattergeo": [
           {
            "marker": {
             "colorbar": {
              "outlinewidth": 0,
              "ticks": ""
             }
            },
            "type": "scattergeo"
           }
          ],
          "scattergl": [
           {
            "marker": {
             "colorbar": {
              "outlinewidth": 0,
              "ticks": ""
             }
            },
            "type": "scattergl"
           }
          ],
          "scattermap": [
           {
            "marker": {
             "colorbar": {
              "outlinewidth": 0,
              "ticks": ""
             }
            },
            "type": "scattermap"
           }
          ],
          "scattermapbox": [
           {
            "marker": {
             "colorbar": {
              "outlinewidth": 0,
              "ticks": ""
             }
            },
            "type": "scattermapbox"
           }
          ],
          "scatterpolar": [
           {
            "marker": {
             "colorbar": {
              "outlinewidth": 0,
              "ticks": ""
             }
            },
            "type": "scatterpolar"
           }
          ],
          "scatterpolargl": [
           {
            "marker": {
             "colorbar": {
              "outlinewidth": 0,
              "ticks": ""
             }
            },
            "type": "scatterpolargl"
           }
          ],
          "scatterternary": [
           {
            "marker": {
             "colorbar": {
              "outlinewidth": 0,
              "ticks": ""
             }
            },
            "type": "scatterternary"
           }
          ],
          "surface": [
           {
            "colorbar": {
             "outlinewidth": 0,
             "ticks": ""
            },
            "colorscale": [
             [
              0,
              "#0d0887"
             ],
             [
              0.1111111111111111,
              "#46039f"
             ],
             [
              0.2222222222222222,
              "#7201a8"
             ],
             [
              0.3333333333333333,
              "#9c179e"
             ],
             [
              0.4444444444444444,
              "#bd3786"
             ],
             [
              0.5555555555555556,
              "#d8576b"
             ],
             [
              0.6666666666666666,
              "#ed7953"
             ],
             [
              0.7777777777777778,
              "#fb9f3a"
             ],
             [
              0.8888888888888888,
              "#fdca26"
             ],
             [
              1,
              "#f0f921"
             ]
            ],
            "type": "surface"
           }
          ],
          "table": [
           {
            "cells": {
             "fill": {
              "color": "#EBF0F8"
             },
             "line": {
              "color": "white"
             }
            },
            "header": {
             "fill": {
              "color": "#C8D4E3"
             },
             "line": {
              "color": "white"
             }
            },
            "type": "table"
           }
          ]
         },
         "layout": {
          "annotationdefaults": {
           "arrowcolor": "#2a3f5f",
           "arrowhead": 0,
           "arrowwidth": 1
          },
          "autotypenumbers": "strict",
          "coloraxis": {
           "colorbar": {
            "outlinewidth": 0,
            "ticks": ""
           }
          },
          "colorscale": {
           "diverging": [
            [
             0,
             "#8e0152"
            ],
            [
             0.1,
             "#c51b7d"
            ],
            [
             0.2,
             "#de77ae"
            ],
            [
             0.3,
             "#f1b6da"
            ],
            [
             0.4,
             "#fde0ef"
            ],
            [
             0.5,
             "#f7f7f7"
            ],
            [
             0.6,
             "#e6f5d0"
            ],
            [
             0.7,
             "#b8e186"
            ],
            [
             0.8,
             "#7fbc41"
            ],
            [
             0.9,
             "#4d9221"
            ],
            [
             1,
             "#276419"
            ]
           ],
           "sequential": [
            [
             0,
             "#0d0887"
            ],
            [
             0.1111111111111111,
             "#46039f"
            ],
            [
             0.2222222222222222,
             "#7201a8"
            ],
            [
             0.3333333333333333,
             "#9c179e"
            ],
            [
             0.4444444444444444,
             "#bd3786"
            ],
            [
             0.5555555555555556,
             "#d8576b"
            ],
            [
             0.6666666666666666,
             "#ed7953"
            ],
            [
             0.7777777777777778,
             "#fb9f3a"
            ],
            [
             0.8888888888888888,
             "#fdca26"
            ],
            [
             1,
             "#f0f921"
            ]
           ],
           "sequentialminus": [
            [
             0,
             "#0d0887"
            ],
            [
             0.1111111111111111,
             "#46039f"
            ],
            [
             0.2222222222222222,
             "#7201a8"
            ],
            [
             0.3333333333333333,
             "#9c179e"
            ],
            [
             0.4444444444444444,
             "#bd3786"
            ],
            [
             0.5555555555555556,
             "#d8576b"
            ],
            [
             0.6666666666666666,
             "#ed7953"
            ],
            [
             0.7777777777777778,
             "#fb9f3a"
            ],
            [
             0.8888888888888888,
             "#fdca26"
            ],
            [
             1,
             "#f0f921"
            ]
           ]
          },
          "colorway": [
           "#636efa",
           "#EF553B",
           "#00cc96",
           "#ab63fa",
           "#FFA15A",
           "#19d3f3",
           "#FF6692",
           "#B6E880",
           "#FF97FF",
           "#FECB52"
          ],
          "font": {
           "color": "#2a3f5f"
          },
          "geo": {
           "bgcolor": "white",
           "lakecolor": "white",
           "landcolor": "white",
           "showlakes": true,
           "showland": true,
           "subunitcolor": "#C8D4E3"
          },
          "hoverlabel": {
           "align": "left"
          },
          "hovermode": "closest",
          "mapbox": {
           "style": "light"
          },
          "paper_bgcolor": "white",
          "plot_bgcolor": "white",
          "polar": {
           "angularaxis": {
            "gridcolor": "#EBF0F8",
            "linecolor": "#EBF0F8",
            "ticks": ""
           },
           "bgcolor": "white",
           "radialaxis": {
            "gridcolor": "#EBF0F8",
            "linecolor": "#EBF0F8",
            "ticks": ""
           }
          },
          "scene": {
           "xaxis": {
            "backgroundcolor": "white",
            "gridcolor": "#DFE8F3",
            "gridwidth": 2,
            "linecolor": "#EBF0F8",
            "showbackground": true,
            "ticks": "",
            "zerolinecolor": "#EBF0F8"
           },
           "yaxis": {
            "backgroundcolor": "white",
            "gridcolor": "#DFE8F3",
            "gridwidth": 2,
            "linecolor": "#EBF0F8",
            "showbackground": true,
            "ticks": "",
            "zerolinecolor": "#EBF0F8"
           },
           "zaxis": {
            "backgroundcolor": "white",
            "gridcolor": "#DFE8F3",
            "gridwidth": 2,
            "linecolor": "#EBF0F8",
            "showbackground": true,
            "ticks": "",
            "zerolinecolor": "#EBF0F8"
           }
          },
          "shapedefaults": {
           "line": {
            "color": "#2a3f5f"
           }
          },
          "ternary": {
           "aaxis": {
            "gridcolor": "#DFE8F3",
            "linecolor": "#A2B1C6",
            "ticks": ""
           },
           "baxis": {
            "gridcolor": "#DFE8F3",
            "linecolor": "#A2B1C6",
            "ticks": ""
           },
           "bgcolor": "white",
           "caxis": {
            "gridcolor": "#DFE8F3",
            "linecolor": "#A2B1C6",
            "ticks": ""
           }
          },
          "title": {
           "x": 0.05
          },
          "xaxis": {
           "automargin": true,
           "gridcolor": "#EBF0F8",
           "linecolor": "#EBF0F8",
           "ticks": "",
           "title": {
            "standoff": 15
           },
           "zerolinecolor": "#EBF0F8",
           "zerolinewidth": 2
          },
          "yaxis": {
           "automargin": true,
           "gridcolor": "#EBF0F8",
           "linecolor": "#EBF0F8",
           "ticks": "",
           "title": {
            "standoff": 15
           },
           "zerolinecolor": "#EBF0F8",
           "zerolinewidth": 2
          }
         }
        },
        "width": 1200,
        "xaxis": {
         "anchor": "y",
         "domain": [
          0,
          0.51
         ],
         "title": {
          "text": "Normalized Trials"
         }
        },
        "xaxis2": {
         "anchor": "y2",
         "domain": [
          0.66,
          1
         ],
         "title": {
          "text": "AUC"
         }
        },
        "yaxis": {
         "anchor": "x",
         "domain": [
          0,
          1
         ],
         "title": {
          "text": "Normalized Inc-Performance"
         }
        },
        "yaxis2": {
         "anchor": "x2",
         "domain": [
          0,
          1
         ],
         "title": {
          "text": "Optimizer"
         }
        }
       }
      }
     },
     "metadata": {},
     "output_type": "display_data"
    }
   ],
   "source": [
    "# plot best fanova vs best hypershap vs ParEGO\n",
    "# best_final = merge[merge['final_perf_mean'] == merge['final_perf_mean'].min()]['optimizer_id'].values[0]\n",
    "# fanova_final = df[df['optimizer_id']==best_final]\n",
    "# fanova_final['optimizer_id'] = 'fANOVA-ParEGO-final'\n",
    "# best_auc = merge[merge['auc_mean'] == merge['auc_mean'].min()]['optimizer_id'].values[0]\n",
    "# fanova_auc = df[df['optimizer_id']==best_auc]\n",
    "# fanova_auc['optimizer_id'] = 'fANOVA-ParEGO-auc'\n",
    "# hypershap_final = perf_all[perf_all['optimizer_id']=='hypershap_adjust_cs_random_adjust_prev_cfgs_set_to_random_thresh_0.75']\n",
    "# hypershap_final['optimizer_id'] = 'HyperSHAP-ParEGO-final'\n",
    "# hypershap_auc = perf_all[perf_all['optimizer_id']=='hypershap_adjust_cs_default_constant_adjust_prev_cfgs_set_to_incumbent_dynamic_decay_down']\n",
    "# hypershap_auc['optimizer_id'] = 'HyperSHAP-ParEGO'\n",
    "# df_plot = pd.concat([base_test, fanova_auc, fanova_final], ignore_index=True)\n",
    "\n",
    "plot_one_thing('optimizer_id', df_plot=df)"
   ]
  },
  {
   "cell_type": "code",
   "execution_count": 41,
   "id": "47a2baf8",
   "metadata": {},
   "outputs": [
    {
     "name": "stderr",
     "output_type": "stream",
     "text": [
      "/home/daphne/Code/hpi_parego/CARP-S/carps/analysis/generate_report.py:276: UserWarning:\n",
      "\n",
      "Result is not significant and results of the plot may be misleading!\n",
      "\n",
      "/home/daphne/Code/hpi_parego/CARP-S/carps/analysis/run_autorank.py:322: FutureWarning:\n",
      "\n",
      "Series.__getitem__ treating keys as positions is deprecated. In a future version, integer keys will always be treated as labels (consistent with DataFrame behavior). To access a value by position, use `ser.iloc[pos]`\n",
      "\n",
      "/home/daphne/Code/hpi_parego/CARP-S/carps/analysis/run_autorank.py:421: UserWarning:\n",
      "\n",
      "FigureCanvasAgg is non-interactive, and thus cannot be shown\n",
      "\n",
      "/home/daphne/Code/hpi_parego/CARP-S/carps/analysis/run_autorank.py:198: UserWarning:\n",
      "\n",
      "Result is not significant and results of the plot may be misleading!\n",
      "\n"
     ]
    },
    {
     "data": {
      "text/html": [
       "<pre style=\"white-space:pre;overflow-x:auto;line-height:normal;font-family:Menlo,'DejaVu Sans Mono',consolas,'Courier New',monospace\"><span style=\"color: #7fbfbf; text-decoration-color: #7fbfbf\">[17:48:35] </span><span style=\"color: #000080; text-decoration-color: #000080\">INFO    </span> Create dataframe for neat plotting by aligning x-axis <span style=\"color: #800080; text-decoration-color: #800080\">/</span> interpolating        <a href=\"file:///home/daphne/Code/hpi_parego/CARP-S/carps/analysis/gather_data.py\" target=\"_blank\"><span style=\"color: #7f7f7f; text-decoration-color: #7f7f7f\">gather_data.py</span></a><span style=\"color: #7f7f7f; text-decoration-color: #7f7f7f\">:</span><a href=\"file:///home/daphne/Code/hpi_parego/CARP-S/carps/analysis/gather_data.py#734\" target=\"_blank\"><span style=\"color: #7f7f7f; text-decoration-color: #7f7f7f\">734</span></a>\n",
       "<span style=\"color: #7fbfbf; text-decoration-color: #7fbfbf\">           </span>         budget.                                                                      <span style=\"color: #7f7f7f; text-decoration-color: #7f7f7f\">                  </span>\n",
       "</pre>\n"
      ],
      "text/plain": [
       "\u001b[2;36m[17:48:35]\u001b[0m\u001b[2;36m \u001b[0m\u001b[34mINFO    \u001b[0m Create dataframe for neat plotting by aligning x-axis \u001b[35m/\u001b[0m interpolating        \u001b]8;id=460278;file:///home/daphne/Code/hpi_parego/CARP-S/carps/analysis/gather_data.py\u001b\\\u001b[2mgather_data.py\u001b[0m\u001b]8;;\u001b\\\u001b[2m:\u001b[0m\u001b]8;id=644726;file:///home/daphne/Code/hpi_parego/CARP-S/carps/analysis/gather_data.py#734\u001b\\\u001b[2m734\u001b[0m\u001b]8;;\u001b\\\n",
       "\u001b[2;36m           \u001b[0m         budget.                                                                      \u001b[2m                  \u001b[0m\n"
      ]
     },
     "metadata": {},
     "output_type": "display_data"
    },
    {
     "name": "stderr",
     "output_type": "stream",
     "text": [
      "/home/daphne/miniforge3/envs/carps/lib/python3.10/site-packages/scipy/stats/_stats_py.py:9064: RuntimeWarning:\n",
      "\n",
      "invalid value encountered in scalar divide\n",
      "\n",
      "/home/daphne/miniforge3/envs/carps/lib/python3.10/site-packages/scipy/stats/_stats_py.py:9064: RuntimeWarning:\n",
      "\n",
      "invalid value encountered in scalar divide\n",
      "\n",
      "/home/daphne/miniforge3/envs/carps/lib/python3.10/site-packages/scipy/stats/_stats_py.py:9064: RuntimeWarning:\n",
      "\n",
      "invalid value encountered in scalar divide\n",
      "\n",
      "/home/daphne/miniforge3/envs/carps/lib/python3.10/site-packages/scipy/stats/_stats_py.py:9064: RuntimeWarning:\n",
      "\n",
      "invalid value encountered in scalar divide\n",
      "\n",
      "/home/daphne/miniforge3/envs/carps/lib/python3.10/site-packages/scipy/stats/_stats_py.py:9064: RuntimeWarning:\n",
      "\n",
      "invalid value encountered in scalar divide\n",
      "\n",
      "/home/daphne/Code/hpi_parego/CARP-S/carps/analysis/generate_report.py:108: UserWarning:\n",
      "\n",
      "Result is not significant and results of the plot may be misleading!\n",
      "\n",
      "/home/daphne/Code/hpi_parego/CARP-S/carps/analysis/generate_report.py:108: UserWarning:\n",
      "\n",
      "Result is not significant and results of the plot may be misleading!\n",
      "\n",
      "/home/daphne/Code/hpi_parego/CARP-S/carps/analysis/generate_report.py:108: UserWarning:\n",
      "\n",
      "Result is not significant and results of the plot may be misleading!\n",
      "\n",
      "/home/daphne/Code/hpi_parego/CARP-S/carps/analysis/generate_report.py:108: UserWarning:\n",
      "\n",
      "Result is not significant and results of the plot may be misleading!\n",
      "\n",
      "/home/daphne/Code/hpi_parego/CARP-S/carps/analysis/generate_report.py:108: UserWarning:\n",
      "\n",
      "Result is not significant and results of the plot may be misleading!\n",
      "\n",
      "/home/daphne/Code/hpi_parego/CARP-S/carps/analysis/generate_report.py:108: UserWarning:\n",
      "\n",
      "Result is not significant and results of the plot may be misleading!\n",
      "\n",
      "/home/daphne/Code/hpi_parego/CARP-S/carps/analysis/generate_report.py:108: UserWarning:\n",
      "\n",
      "Result is not significant and results of the plot may be misleading!\n",
      "\n",
      "/home/daphne/Code/hpi_parego/CARP-S/carps/analysis/generate_report.py:108: UserWarning:\n",
      "\n",
      "Result is not significant and results of the plot may be misleading!\n",
      "\n",
      "/home/daphne/Code/hpi_parego/CARP-S/carps/analysis/generate_report.py:108: UserWarning:\n",
      "\n",
      "Result is not significant and results of the plot may be misleading!\n",
      "\n",
      "/home/daphne/Code/hpi_parego/CARP-S/carps/analysis/generate_report.py:108: UserWarning:\n",
      "\n",
      "Result is not significant and results of the plot may be misleading!\n",
      "\n",
      "/home/daphne/Code/hpi_parego/CARP-S/carps/analysis/generate_report.py:108: UserWarning:\n",
      "\n",
      "Result is not significant and results of the plot may be misleading!\n",
      "\n",
      "/home/daphne/Code/hpi_parego/CARP-S/carps/analysis/generate_report.py:108: UserWarning:\n",
      "\n",
      "Result is not significant and results of the plot may be misleading!\n",
      "\n",
      "/home/daphne/Code/hpi_parego/CARP-S/carps/analysis/generate_report.py:108: UserWarning:\n",
      "\n",
      "Result is not significant and results of the plot may be misleading!\n",
      "\n",
      "/home/daphne/Code/hpi_parego/CARP-S/carps/analysis/generate_report.py:108: UserWarning:\n",
      "\n",
      "Result is not significant and results of the plot may be misleading!\n",
      "\n",
      "/home/daphne/Code/hpi_parego/CARP-S/carps/analysis/generate_report.py:108: UserWarning:\n",
      "\n",
      "Result is not significant and results of the plot may be misleading!\n",
      "\n",
      "/home/daphne/Code/hpi_parego/CARP-S/carps/analysis/generate_report.py:108: UserWarning:\n",
      "\n",
      "Result is not significant and results of the plot may be misleading!\n",
      "\n"
     ]
    },
    {
     "data": {
      "text/plain": [
       "[{'task_type': 'blackbox',\n",
       "  'set': '0',\n",
       "  'task_id': None,\n",
       "  'filename': 'figure_dir/rank_blackbox_0',\n",
       "  'plot_type': 'rank_over_time',\n",
       "  'plot_type_pretty': 'Rank over Time',\n",
       "  'explanation': 'The rank of each optimizer over time compares which optimizer performs better, the lower the rank the better. For each optimizer and task, the performance is averaged over seeds to obtain an estimate of the performance. The rank is then calculated per step and task with the same approach as for the critical difference diagram.'}]"
      ]
     },
     "execution_count": 41,
     "metadata": {},
     "output_type": "execute_result"
    }
   ],
   "source": [
    "plot_performance_over_time(df, y='trial_value__cost_inc_norm')\n",
    "plot_critical_difference(df, output_dir='figure_dir', replot=True)\n",
    "plot_performance_per_task(df, output_dir='figure_dir', replot=True)\n",
    "plot_finalperfbarplot(df, output_dir='figure_dir', replot=True)\n",
    "plot_ranks_over_time(df, output_dir='figure_dir', replot=True)\n"
   ]
  },
  {
   "cell_type": "code",
   "execution_count": 22,
   "id": "00c5d893",
   "metadata": {},
   "outputs": [
    {
     "ename": "KeyError",
     "evalue": "'multi-objective'",
     "output_type": "error",
     "traceback": [
      "\u001b[0;31m---------------------------------------------------------------------------\u001b[0m",
      "\u001b[0;31mKeyError\u001b[0m                                  Traceback (most recent call last)",
      "File \u001b[0;32m~/miniforge3/envs/carps/lib/python3.10/site-packages/pandas/core/indexes/base.py:3805\u001b[0m, in \u001b[0;36mIndex.get_loc\u001b[0;34m(self, key)\u001b[0m\n\u001b[1;32m   3804\u001b[0m \u001b[38;5;28;01mtry\u001b[39;00m:\n\u001b[0;32m-> 3805\u001b[0m     \u001b[38;5;28;01mreturn\u001b[39;00m \u001b[38;5;28;43mself\u001b[39;49m\u001b[38;5;241;43m.\u001b[39;49m\u001b[43m_engine\u001b[49m\u001b[38;5;241;43m.\u001b[39;49m\u001b[43mget_loc\u001b[49m\u001b[43m(\u001b[49m\u001b[43mcasted_key\u001b[49m\u001b[43m)\u001b[49m\n\u001b[1;32m   3806\u001b[0m \u001b[38;5;28;01mexcept\u001b[39;00m \u001b[38;5;167;01mKeyError\u001b[39;00m \u001b[38;5;28;01mas\u001b[39;00m err:\n",
      "File \u001b[0;32mindex.pyx:167\u001b[0m, in \u001b[0;36mpandas._libs.index.IndexEngine.get_loc\u001b[0;34m()\u001b[0m\n",
      "File \u001b[0;32mindex.pyx:196\u001b[0m, in \u001b[0;36mpandas._libs.index.IndexEngine.get_loc\u001b[0;34m()\u001b[0m\n",
      "File \u001b[0;32mpandas/_libs/hashtable_class_helper.pxi:7081\u001b[0m, in \u001b[0;36mpandas._libs.hashtable.PyObjectHashTable.get_item\u001b[0;34m()\u001b[0m\n",
      "File \u001b[0;32mpandas/_libs/hashtable_class_helper.pxi:7089\u001b[0m, in \u001b[0;36mpandas._libs.hashtable.PyObjectHashTable.get_item\u001b[0;34m()\u001b[0m\n",
      "\u001b[0;31mKeyError\u001b[0m: 'multi-objective'",
      "\nThe above exception was the direct cause of the following exception:\n",
      "\u001b[0;31mKeyError\u001b[0m                                  Traceback (most recent call last)",
      "Cell \u001b[0;32mIn[22], line 1\u001b[0m\n\u001b[0;32m----> 1\u001b[0m \u001b[43mdf\u001b[49m\u001b[43m[\u001b[49m\u001b[38;5;124;43m'\u001b[39;49m\u001b[38;5;124;43mmulti-objective\u001b[39;49m\u001b[38;5;124;43m'\u001b[39;49m\u001b[43m]\u001b[49m\n",
      "File \u001b[0;32m~/miniforge3/envs/carps/lib/python3.10/site-packages/pandas/core/frame.py:4102\u001b[0m, in \u001b[0;36mDataFrame.__getitem__\u001b[0;34m(self, key)\u001b[0m\n\u001b[1;32m   4100\u001b[0m \u001b[38;5;28;01mif\u001b[39;00m \u001b[38;5;28mself\u001b[39m\u001b[38;5;241m.\u001b[39mcolumns\u001b[38;5;241m.\u001b[39mnlevels \u001b[38;5;241m>\u001b[39m \u001b[38;5;241m1\u001b[39m:\n\u001b[1;32m   4101\u001b[0m     \u001b[38;5;28;01mreturn\u001b[39;00m \u001b[38;5;28mself\u001b[39m\u001b[38;5;241m.\u001b[39m_getitem_multilevel(key)\n\u001b[0;32m-> 4102\u001b[0m indexer \u001b[38;5;241m=\u001b[39m \u001b[38;5;28;43mself\u001b[39;49m\u001b[38;5;241;43m.\u001b[39;49m\u001b[43mcolumns\u001b[49m\u001b[38;5;241;43m.\u001b[39;49m\u001b[43mget_loc\u001b[49m\u001b[43m(\u001b[49m\u001b[43mkey\u001b[49m\u001b[43m)\u001b[49m\n\u001b[1;32m   4103\u001b[0m \u001b[38;5;28;01mif\u001b[39;00m is_integer(indexer):\n\u001b[1;32m   4104\u001b[0m     indexer \u001b[38;5;241m=\u001b[39m [indexer]\n",
      "File \u001b[0;32m~/miniforge3/envs/carps/lib/python3.10/site-packages/pandas/core/indexes/base.py:3812\u001b[0m, in \u001b[0;36mIndex.get_loc\u001b[0;34m(self, key)\u001b[0m\n\u001b[1;32m   3807\u001b[0m     \u001b[38;5;28;01mif\u001b[39;00m \u001b[38;5;28misinstance\u001b[39m(casted_key, \u001b[38;5;28mslice\u001b[39m) \u001b[38;5;129;01mor\u001b[39;00m (\n\u001b[1;32m   3808\u001b[0m         \u001b[38;5;28misinstance\u001b[39m(casted_key, abc\u001b[38;5;241m.\u001b[39mIterable)\n\u001b[1;32m   3809\u001b[0m         \u001b[38;5;129;01mand\u001b[39;00m \u001b[38;5;28many\u001b[39m(\u001b[38;5;28misinstance\u001b[39m(x, \u001b[38;5;28mslice\u001b[39m) \u001b[38;5;28;01mfor\u001b[39;00m x \u001b[38;5;129;01min\u001b[39;00m casted_key)\n\u001b[1;32m   3810\u001b[0m     ):\n\u001b[1;32m   3811\u001b[0m         \u001b[38;5;28;01mraise\u001b[39;00m InvalidIndexError(key)\n\u001b[0;32m-> 3812\u001b[0m     \u001b[38;5;28;01mraise\u001b[39;00m \u001b[38;5;167;01mKeyError\u001b[39;00m(key) \u001b[38;5;28;01mfrom\u001b[39;00m\u001b[38;5;250m \u001b[39m\u001b[38;5;21;01merr\u001b[39;00m\n\u001b[1;32m   3813\u001b[0m \u001b[38;5;28;01mexcept\u001b[39;00m \u001b[38;5;167;01mTypeError\u001b[39;00m:\n\u001b[1;32m   3814\u001b[0m     \u001b[38;5;66;03m# If we have a listlike key, _check_indexing_error will raise\u001b[39;00m\n\u001b[1;32m   3815\u001b[0m     \u001b[38;5;66;03m#  InvalidIndexError. Otherwise we fall through and re-raise\u001b[39;00m\n\u001b[1;32m   3816\u001b[0m     \u001b[38;5;66;03m#  the TypeError.\u001b[39;00m\n\u001b[1;32m   3817\u001b[0m     \u001b[38;5;28mself\u001b[39m\u001b[38;5;241m.\u001b[39m_check_indexing_error(key)\n",
      "\u001b[0;31mKeyError\u001b[0m: 'multi-objective'"
     ]
    }
   ],
   "source": [
    "df['multi-objective']"
   ]
  },
  {
   "cell_type": "markdown",
   "id": "a49bf689",
   "metadata": {},
   "source": [
    "# Random"
   ]
  },
  {
   "cell_type": "code",
   "execution_count": 186,
   "id": "23a9d028",
   "metadata": {},
   "outputs": [
    {
     "name": "stderr",
     "output_type": "stream",
     "text": [
      "/tmp/ipykernel_38293/129696559.py:29: DeprecationWarning:\n",
      "\n",
      "DataFrameGroupBy.apply operated on the grouping columns. This behavior is deprecated, and in a future version of pandas the grouping columns will be excluded from the operation. Either pass `include_groups=False` to exclude the groupings or explicitly select the grouping columns after groupby to silence this warning.\n",
      "\n"
     ]
    },
    {
     "data": {
      "application/vnd.plotly.v1+json": {
       "config": {
        "plotlyServerURL": "https://plot.ly"
       },
       "data": [
        {
         "line": {
          "color": "rgb(228,26,28)",
          "width": 2
         },
         "mode": "lines",
         "name": "HyperSHAP-ParEGO",
         "type": "scatter",
         "x": {
          "bdata": "AAAAAAAAAAB7FK5H4XqUP3sUrkfheqQ/uB6F61G4rj97FK5H4Xq0P5qZmZmZmbk/uB6F61G4vj/sUbgehevBP3sUrkfhesQ/CtejcD0Kxz+amZmZmZnJPylcj8L1KMw/uB6F61G4zj+kcD0K16PQP+xRuB6F69E/MzMzMzMz0z97FK5H4XrUP8P1KFyPwtU/CtejcD0K1z9SuB6F61HYP5qZmZmZmdk/4XoUrkfh2j8pXI/C9SjcP3E9CtejcN0/uB6F61G43j8AAAAAAADgP6RwPQrXo+A/SOF6FK5H4T/sUbgehevhP4/C9Shcj+I/MzMzMzMz4z/Xo3A9CtfjP3sUrkfheuQ/H4XrUbge5T/D9Shcj8LlP2dmZmZmZuY/CtejcD0K5z+uR+F6FK7nP1K4HoXrUeg/9ihcj8L16D+amZmZmZnpPz4K16NwPeo/4XoUrkfh6j+F61G4HoXrPylcj8L1KOw/zczMzMzM7D9xPQrXo3DtPxWuR+F6FO4/uB6F61G47j9cj8L1KFzvPwAAAAAAAPA/",
          "dtype": "f8"
         },
         "y": {
          "bdata": "wq87nSo/lr4QXwIkhWdyv8pFw806Y32/ADG/0Ulyfb/tF7y4RyZ1vw1KzpYcmjS/MCiEg7CMMz8m3wHCM7cwP/NZHTnZdCy/AJh/aEsoJT+zZ0oR9SsqP1BXmb2a4Go/6dnUXZO2dz86kTCLXmt4P+bzcMhO4XY/iglFxpxqdj9iEi9vhfN1PyITs4QsSnA/9XjK/ai5VT8dKQCQ7gNTv3OVuQrePGq/hYxq2jz6cr9Q/FmLlZ96v52XEKW0D4S/GgI91IQai7+tESH6oBKRv8no/eykLZO/mdCxi6lIlb8I3wQvLS+Xv3XKM+ZS3Ze/gbzq5r2Pl7825m86mh6Xv6grwz4cp5W/hScw595FlL8mzeTRwaeSvwpB5EhyNZK/BVKr5IANkr+Itn79ijeSv82nIYF+sZK/arRhMHQik78+Ccx4zzmUv42y/kH2b5S/fbl9VbeNlL8qpmhHwIuUvy3peYgpwpO/7K/DF3eZk7/GFr7SN9SSv34wRr2U4ZG/+ySt5PbukL/qMigYsviPv+Ab9mZ2E46/",
          "dtype": "f8"
         }
        },
        {
         "fill": "toself",
         "fillcolor": "rgba(228,26,28,0.1)",
         "hoverinfo": "skip",
         "line": {
          "color": "rgba(255,255,255,0)"
         },
         "showlegend": false,
         "type": "scatter",
         "x": {
          "bdata": "AAAAAAAAAAB7FK5H4XqUP3sUrkfheqQ/uB6F61G4rj97FK5H4Xq0P5qZmZmZmbk/uB6F61G4vj/sUbgehevBP3sUrkfhesQ/CtejcD0Kxz+amZmZmZnJPylcj8L1KMw/uB6F61G4zj+kcD0K16PQP+xRuB6F69E/MzMzMzMz0z97FK5H4XrUP8P1KFyPwtU/CtejcD0K1z9SuB6F61HYP5qZmZmZmdk/4XoUrkfh2j8pXI/C9SjcP3E9CtejcN0/uB6F61G43j8AAAAAAADgP6RwPQrXo+A/SOF6FK5H4T/sUbgehevhP4/C9Shcj+I/MzMzMzMz4z/Xo3A9CtfjP3sUrkfheuQ/H4XrUbge5T/D9Shcj8LlP2dmZmZmZuY/CtejcD0K5z+uR+F6FK7nP1K4HoXrUeg/9ihcj8L16D+amZmZmZnpPz4K16NwPeo/4XoUrkfh6j+F61G4HoXrPylcj8L1KOw/zczMzMzM7D9xPQrXo3DtPxWuR+F6FO4/uB6F61G47j9cj8L1KFzvPwAAAAAAAPA/AAAAAAAA8D9cj8L1KFzvP7gehetRuO4/Fa5H4XoU7j9xPQrXo3DtP83MzMzMzOw/KVyPwvUo7D+F61G4HoXrP+F6FK5H4eo/PgrXo3A96j+amZmZmZnpP/YoXI/C9eg/UrgehetR6D+uR+F6FK7nPwrXo3A9Cuc/Z2ZmZmZm5j/D9Shcj8LlPx+F61G4HuU/exSuR+F65D/Xo3A9CtfjPzMzMzMzM+M/j8L1KFyP4j/sUbgehevhP0jhehSuR+E/pHA9Ctej4D8AAAAAAADgP7gehetRuN4/cT0K16Nw3T8pXI/C9SjcP+F6FK5H4do/mpmZmZmZ2T9SuB6F61HYPwrXo3A9Ctc/w/UoXI/C1T97FK5H4XrUPzMzMzMzM9M/7FG4HoXr0T+kcD0K16PQP7gehetRuM4/KVyPwvUozD+amZmZmZnJPwrXo3A9Csc/exSuR+F6xD/sUbgehevBP7gehetRuL4/mpmZmZmZuT97FK5H4Xq0P7gehetRuK4/exSuR+F6pD97FK5H4XqUPwAAAAAAAAAA",
          "dtype": "f8"
         },
         "y": {
          "bdata": "6NsKXTYWn762oHWAWmeCv6bZHBusyIW/vE089GRwjb+7KZ1hKz+Iv/DUCfoxgW+/e5ud8ahGWb+skhwwHyVzv4f8V8NH94G/bAB+aJ7Vhr91teiTk0CJv24qpVEcT4S/S4cRptnZf7+QJvylOgZ9v/Z3HfUBX3u/3FTkh03ed78ItVnbPJtzv5IoaV4nMHS/MVeS+EP5eb/dYBiWmj6Avx1Zn7zp14O/FMn7Kkiwhr+ANtsbjqKJvzSarTiSfI2/uMxik5sTkb+IajRpLgeUvzIwX7PTopW/lwB+9s8VmL+K59Y5qAmbvy1oVTdfKpy/Cmxa68/Cm78efgcWv3Kav0O1HIZw7Je/q8p6eADylb8Gu1Me13OUv0McHQJTOZS/Ls0NlZhtlL8z0gmI4v2UvwY2LseL6ZW/sN/egqfhlr/DMMUeZvWYvziGp3LRJJm/UjIQQI3umL+NTBbW3X2Yv1rz2NAT4Je/A+FY87zOl78nJQylx2OXv1S5l0oN6Ja/rgogWT2Dlr+qphloNC+Wvz5VzXNp55W/RI1R5hlYgL9/GB1g+5KDv5B+dOBgtYa/UE/pXzi2ib/KEOAAUImMv6r9XHhiyI6/AL41gH5Ij7/H/7q4opmQv6hA62rhLJC/xb2rIjZ2j79yw6WlcfyOv0gSybuBxo6/JzMqduLyjr+6NeflZuKOv7itkWjSWo+/0WWrj5ExkL9G33WFrNuQv1+E5VW9mZK/DaJp98dhk79OTthedcqTv/gMe+KrXJO/vSwSlUaQk7+G1jIkslSTv5ug5SCDe5K/YKGcJna4kL+kcRsWJzyMv8RqtIHSDYS/DSrnIq5Fdb/wudjv7aA/v3jkiYRasF0/jTkK3erlaj8srTDkPft2P9bJuzsMa4I/a6fnM0Biij/m7NvcI8GPP/yZG8XhLJE/8Nd/4WdIkj9BUhfvPXeTP8fObhjA0ZM/C+s42LTfkD+zCHM88xGKPyz9wcPgfoc/txGP+aATgT+QzlyoBTx1P8rXr5mAhmE/bEJW1Kpaaj9wjghHHcdYPwA4NC7YTc6+kbCZyjpqbr8AQC1fxlGVvjgH2bo90Iq+",
          "dtype": "f8"
         }
        },
        {
         "line": {
          "color": "rgb(55,126,184)",
          "width": 2
         },
         "mode": "lines",
         "name": "fANOVA-ParEGO",
         "type": "scatter",
         "x": {
          "bdata": "AAAAAAAAAAB7FK5H4XqUP3sUrkfheqQ/uB6F61G4rj97FK5H4Xq0P5qZmZmZmbk/uB6F61G4vj/sUbgehevBP3sUrkfhesQ/CtejcD0Kxz+amZmZmZnJPylcj8L1KMw/uB6F61G4zj+kcD0K16PQP+xRuB6F69E/MzMzMzMz0z97FK5H4XrUP8P1KFyPwtU/CtejcD0K1z9SuB6F61HYP5qZmZmZmdk/4XoUrkfh2j8pXI/C9SjcP3E9CtejcN0/uB6F61G43j8AAAAAAADgP6RwPQrXo+A/SOF6FK5H4T/sUbgehevhP4/C9Shcj+I/MzMzMzMz4z/Xo3A9CtfjP3sUrkfheuQ/H4XrUbge5T/D9Shcj8LlP2dmZmZmZuY/CtejcD0K5z+uR+F6FK7nP1K4HoXrUeg/9ihcj8L16D+amZmZmZnpPz4K16NwPeo/4XoUrkfh6j+F61G4HoXrPylcj8L1KOw/zczMzMzM7D9xPQrXo3DtPxWuR+F6FO4/uB6F61G47j9cj8L1KFzvPwAAAAAAAPA/",
          "dtype": "f8"
         },
         "y": {
          "bdata": "AAAAAAAAAABitxN5/HpUv94Cn2w3M3a/0Tklhy7Hc78WPRT5QZyBvyMu0+WpYXa/zo6ODw0iND8G/7hQuKtnP+IqntSGU3w/PlxxeTnChj+1MD3SFDuSP5JiS0uNXpc/vlqr1v9ymj8r/NkKL76cP5AaXZAyjZ8/BiVgoL41oT/gV9MndTmiP0o1BxpstKM/arC41Ky0pT9C19vS/U2nP5b4RmKWwqg/BiqOhWo0qj+aYZjcVu+qP6ITq+p0FKo/zmavv18JqT+lqQNvqOmnP0eDq7yDBKc/fruJnF0fpj/IbEhs70+lP1Ib3/+Tc6Q/Ok4I4GK3oz/HJSBc7zqjP8Z9JOVChKI/K/bmTGsmoj/VaxpWCYeiP0uV7XL/VaI/SdHEWSHooT+VwomZOCGhP1mXXPUNkqA/GOF6eAZsoD8YOtyROSSgP6Xv4Qy4hJ8/n6zESI3noD/NIP2W2kqeP0MDJql/gZo/dmTmhu3glz/6FtM3QZuUP0Z0G+eOGpE/rRcx3qcziz8HZK9TMTKEP8JgW5J1YXo/",
          "dtype": "f8"
         }
        },
        {
         "fill": "toself",
         "fillcolor": "rgba(55,126,184,0.1)",
         "hoverinfo": "skip",
         "line": {
          "color": "rgba(255,255,255,0)"
         },
         "showlegend": false,
         "type": "scatter",
         "x": {
          "bdata": "AAAAAAAAAAB7FK5H4XqUP3sUrkfheqQ/uB6F61G4rj97FK5H4Xq0P5qZmZmZmbk/uB6F61G4vj/sUbgehevBP3sUrkfhesQ/CtejcD0Kxz+amZmZmZnJPylcj8L1KMw/uB6F61G4zj+kcD0K16PQP+xRuB6F69E/MzMzMzMz0z97FK5H4XrUP8P1KFyPwtU/CtejcD0K1z9SuB6F61HYP5qZmZmZmdk/4XoUrkfh2j8pXI/C9SjcP3E9CtejcN0/uB6F61G43j8AAAAAAADgP6RwPQrXo+A/SOF6FK5H4T/sUbgehevhP4/C9Shcj+I/MzMzMzMz4z/Xo3A9CtfjP3sUrkfheuQ/H4XrUbge5T/D9Shcj8LlP2dmZmZmZuY/CtejcD0K5z+uR+F6FK7nP1K4HoXrUeg/9ihcj8L16D+amZmZmZnpPz4K16NwPeo/4XoUrkfh6j+F61G4HoXrPylcj8L1KOw/zczMzMzM7D9xPQrXo3DtPxWuR+F6FO4/uB6F61G47j9cj8L1KFzvPwAAAAAAAPA/AAAAAAAA8D9cj8L1KFzvP7gehetRuO4/Fa5H4XoU7j9xPQrXo3DtP83MzMzMzOw/KVyPwvUo7D+F61G4HoXrP+F6FK5H4eo/PgrXo3A96j+amZmZmZnpP/YoXI/C9eg/UrgehetR6D+uR+F6FK7nPwrXo3A9Cuc/Z2ZmZmZm5j/D9Shcj8LlPx+F61G4HuU/exSuR+F65D/Xo3A9CtfjPzMzMzMzM+M/j8L1KFyP4j/sUbgehevhP0jhehSuR+E/pHA9Ctej4D8AAAAAAADgP7gehetRuN4/cT0K16Nw3T8pXI/C9SjcP+F6FK5H4do/mpmZmZmZ2T9SuB6F61HYPwrXo3A9Ctc/w/UoXI/C1T97FK5H4XrUPzMzMzMzM9M/7FG4HoXr0T+kcD0K16PQP7gehetRuM4/KVyPwvUozD+amZmZmZnJPwrXo3A9Csc/exSuR+F6xD/sUbgehevBP7gehetRuL4/mpmZmZmZuT97FK5H4Xq0P7gehetRuK4/exSuR+F6pD97FK5H4XqUPwAAAAAAAAAA",
          "dtype": "f8"
         },
         "y": {
          "bdata": "AAAAAAAAAABitxN5/Hpkv3Rsid0gFYS/sqRALW/Sgr86OnMW8PWQv/ITosAm+oW/IAeS2rfheb/GhA6Vp9dxv4ACnb2ksh6/mWOL8e0Ucz+SsyTRIiyCP6tvNbHdh4c/6G4uadk5jD+1JyI+9UiQPyZz66jxJJM/yHXDPH9VlT9d6ckvq4KVP9x4gBlpzJY/9LWfR73NmT/R886YF6GbP1x2IWO7z5w/DEyFMun9nT9GTjF+DeCdP+Rvz+PWaps/bcVoxh1rmD8zNcXxJfuUP/7GBuAq95Q/kjTA8ETllD8HzH81JvGUP5TrV5Pt7ZQ/3uJBqdQolT90cgX4VmyVPxyrluGQKpU/5+oYcFO7lT+DqT1CSNaXPxLQCScq/pc/2jhH3ZqFlz8IqRk7pxaWPyepuBy89ZQ/TORW3qbMlD/MtSyHURaUP1ZMQ9EuQJM/0a70TErClz9qLKsqGEmUP12kkQl8F48/78xqB6qhiT+JS7YUdfaCP+YYw0Mjr3c/CJRzUwBSYj/IqvuNtYtWv9wKHzAmsXS/GHM1VQRdkj+0Ho+s7JqVPyylwtNn6Zg/UiJG/VRJnD8wCEvlR7ufPzqxCwWDeKE/LJrBpqC7oj+YiqeBTiakP9YBD2v17aU/eklApKDkpT9KGSJgSj2mPwpQyoG5caY/Htpc3D2ppj+msIaVHTenPyUG5kR1Dag/jUJW0umsqD/oAhaL7iKpP+J2weEsb6k//qV9WT1zqj9Ukj08s7+rPwWrb2tb2qw/2kASNjFwrj/GeejepROwP1quWWAM5rA/iNGpBLnGsT9YXJLy3qqyP3M1FU6Y7rI/qTe3Mb85sz8IDgx9U3ezPwPX7DjwtLI//5p+iaeOsT9OGqjst2WwP9qFoQV7gq4/Ji5Op6MCrD8Su8G3lLGpPyiPXqK9wKc//WDnu7n6pT9Q6MhrtJmkPwS/X3yJZKM/pwb+3pV8oT+hB+g7GGCbP1iDDv39/JE/52QZHuyQjD/mwePyr8GEP/rYg3z5ZXw/IIxGTMngKb+AWyBUPMpEv9Cjkjzrlz6/TLOseLTwUL8AAAAAAAAAAAAAAAAAAAAA",
          "dtype": "f8"
         }
        }
       ],
       "layout": {
        "font": {
         "size": 16
        },
        "height": 400,
        "legend": {
         "font": {
          "size": 16
         },
         "title": {
          "text": "Optimizers"
         }
        },
        "margin": {
         "b": 50,
         "l": 50,
         "r": 50,
         "t": 60
        },
        "template": {
         "data": {
          "bar": [
           {
            "error_x": {
             "color": "#2a3f5f"
            },
            "error_y": {
             "color": "#2a3f5f"
            },
            "marker": {
             "line": {
              "color": "white",
              "width": 0.5
             },
             "pattern": {
              "fillmode": "overlay",
              "size": 10,
              "solidity": 0.2
             }
            },
            "type": "bar"
           }
          ],
          "barpolar": [
           {
            "marker": {
             "line": {
              "color": "white",
              "width": 0.5
             },
             "pattern": {
              "fillmode": "overlay",
              "size": 10,
              "solidity": 0.2
             }
            },
            "type": "barpolar"
           }
          ],
          "carpet": [
           {
            "aaxis": {
             "endlinecolor": "#2a3f5f",
             "gridcolor": "#C8D4E3",
             "linecolor": "#C8D4E3",
             "minorgridcolor": "#C8D4E3",
             "startlinecolor": "#2a3f5f"
            },
            "baxis": {
             "endlinecolor": "#2a3f5f",
             "gridcolor": "#C8D4E3",
             "linecolor": "#C8D4E3",
             "minorgridcolor": "#C8D4E3",
             "startlinecolor": "#2a3f5f"
            },
            "type": "carpet"
           }
          ],
          "choropleth": [
           {
            "colorbar": {
             "outlinewidth": 0,
             "ticks": ""
            },
            "type": "choropleth"
           }
          ],
          "contour": [
           {
            "colorbar": {
             "outlinewidth": 0,
             "ticks": ""
            },
            "colorscale": [
             [
              0,
              "#0d0887"
             ],
             [
              0.1111111111111111,
              "#46039f"
             ],
             [
              0.2222222222222222,
              "#7201a8"
             ],
             [
              0.3333333333333333,
              "#9c179e"
             ],
             [
              0.4444444444444444,
              "#bd3786"
             ],
             [
              0.5555555555555556,
              "#d8576b"
             ],
             [
              0.6666666666666666,
              "#ed7953"
             ],
             [
              0.7777777777777778,
              "#fb9f3a"
             ],
             [
              0.8888888888888888,
              "#fdca26"
             ],
             [
              1,
              "#f0f921"
             ]
            ],
            "type": "contour"
           }
          ],
          "contourcarpet": [
           {
            "colorbar": {
             "outlinewidth": 0,
             "ticks": ""
            },
            "type": "contourcarpet"
           }
          ],
          "heatmap": [
           {
            "colorbar": {
             "outlinewidth": 0,
             "ticks": ""
            },
            "colorscale": [
             [
              0,
              "#0d0887"
             ],
             [
              0.1111111111111111,
              "#46039f"
             ],
             [
              0.2222222222222222,
              "#7201a8"
             ],
             [
              0.3333333333333333,
              "#9c179e"
             ],
             [
              0.4444444444444444,
              "#bd3786"
             ],
             [
              0.5555555555555556,
              "#d8576b"
             ],
             [
              0.6666666666666666,
              "#ed7953"
             ],
             [
              0.7777777777777778,
              "#fb9f3a"
             ],
             [
              0.8888888888888888,
              "#fdca26"
             ],
             [
              1,
              "#f0f921"
             ]
            ],
            "type": "heatmap"
           }
          ],
          "histogram": [
           {
            "marker": {
             "pattern": {
              "fillmode": "overlay",
              "size": 10,
              "solidity": 0.2
             }
            },
            "type": "histogram"
           }
          ],
          "histogram2d": [
           {
            "colorbar": {
             "outlinewidth": 0,
             "ticks": ""
            },
            "colorscale": [
             [
              0,
              "#0d0887"
             ],
             [
              0.1111111111111111,
              "#46039f"
             ],
             [
              0.2222222222222222,
              "#7201a8"
             ],
             [
              0.3333333333333333,
              "#9c179e"
             ],
             [
              0.4444444444444444,
              "#bd3786"
             ],
             [
              0.5555555555555556,
              "#d8576b"
             ],
             [
              0.6666666666666666,
              "#ed7953"
             ],
             [
              0.7777777777777778,
              "#fb9f3a"
             ],
             [
              0.8888888888888888,
              "#fdca26"
             ],
             [
              1,
              "#f0f921"
             ]
            ],
            "type": "histogram2d"
           }
          ],
          "histogram2dcontour": [
           {
            "colorbar": {
             "outlinewidth": 0,
             "ticks": ""
            },
            "colorscale": [
             [
              0,
              "#0d0887"
             ],
             [
              0.1111111111111111,
              "#46039f"
             ],
             [
              0.2222222222222222,
              "#7201a8"
             ],
             [
              0.3333333333333333,
              "#9c179e"
             ],
             [
              0.4444444444444444,
              "#bd3786"
             ],
             [
              0.5555555555555556,
              "#d8576b"
             ],
             [
              0.6666666666666666,
              "#ed7953"
             ],
             [
              0.7777777777777778,
              "#fb9f3a"
             ],
             [
              0.8888888888888888,
              "#fdca26"
             ],
             [
              1,
              "#f0f921"
             ]
            ],
            "type": "histogram2dcontour"
           }
          ],
          "mesh3d": [
           {
            "colorbar": {
             "outlinewidth": 0,
             "ticks": ""
            },
            "type": "mesh3d"
           }
          ],
          "parcoords": [
           {
            "line": {
             "colorbar": {
              "outlinewidth": 0,
              "ticks": ""
             }
            },
            "type": "parcoords"
           }
          ],
          "pie": [
           {
            "automargin": true,
            "type": "pie"
           }
          ],
          "scatter": [
           {
            "fillpattern": {
             "fillmode": "overlay",
             "size": 10,
             "solidity": 0.2
            },
            "type": "scatter"
           }
          ],
          "scatter3d": [
           {
            "line": {
             "colorbar": {
              "outlinewidth": 0,
              "ticks": ""
             }
            },
            "marker": {
             "colorbar": {
              "outlinewidth": 0,
              "ticks": ""
             }
            },
            "type": "scatter3d"
           }
          ],
          "scattercarpet": [
           {
            "marker": {
             "colorbar": {
              "outlinewidth": 0,
              "ticks": ""
             }
            },
            "type": "scattercarpet"
           }
          ],
          "scattergeo": [
           {
            "marker": {
             "colorbar": {
              "outlinewidth": 0,
              "ticks": ""
             }
            },
            "type": "scattergeo"
           }
          ],
          "scattergl": [
           {
            "marker": {
             "colorbar": {
              "outlinewidth": 0,
              "ticks": ""
             }
            },
            "type": "scattergl"
           }
          ],
          "scattermap": [
           {
            "marker": {
             "colorbar": {
              "outlinewidth": 0,
              "ticks": ""
             }
            },
            "type": "scattermap"
           }
          ],
          "scattermapbox": [
           {
            "marker": {
             "colorbar": {
              "outlinewidth": 0,
              "ticks": ""
             }
            },
            "type": "scattermapbox"
           }
          ],
          "scatterpolar": [
           {
            "marker": {
             "colorbar": {
              "outlinewidth": 0,
              "ticks": ""
             }
            },
            "type": "scatterpolar"
           }
          ],
          "scatterpolargl": [
           {
            "marker": {
             "colorbar": {
              "outlinewidth": 0,
              "ticks": ""
             }
            },
            "type": "scatterpolargl"
           }
          ],
          "scatterternary": [
           {
            "marker": {
             "colorbar": {
              "outlinewidth": 0,
              "ticks": ""
             }
            },
            "type": "scatterternary"
           }
          ],
          "surface": [
           {
            "colorbar": {
             "outlinewidth": 0,
             "ticks": ""
            },
            "colorscale": [
             [
              0,
              "#0d0887"
             ],
             [
              0.1111111111111111,
              "#46039f"
             ],
             [
              0.2222222222222222,
              "#7201a8"
             ],
             [
              0.3333333333333333,
              "#9c179e"
             ],
             [
              0.4444444444444444,
              "#bd3786"
             ],
             [
              0.5555555555555556,
              "#d8576b"
             ],
             [
              0.6666666666666666,
              "#ed7953"
             ],
             [
              0.7777777777777778,
              "#fb9f3a"
             ],
             [
              0.8888888888888888,
              "#fdca26"
             ],
             [
              1,
              "#f0f921"
             ]
            ],
            "type": "surface"
           }
          ],
          "table": [
           {
            "cells": {
             "fill": {
              "color": "#EBF0F8"
             },
             "line": {
              "color": "white"
             }
            },
            "header": {
             "fill": {
              "color": "#C8D4E3"
             },
             "line": {
              "color": "white"
             }
            },
            "type": "table"
           }
          ]
         },
         "layout": {
          "annotationdefaults": {
           "arrowcolor": "#2a3f5f",
           "arrowhead": 0,
           "arrowwidth": 1
          },
          "autotypenumbers": "strict",
          "coloraxis": {
           "colorbar": {
            "outlinewidth": 0,
            "ticks": ""
           }
          },
          "colorscale": {
           "diverging": [
            [
             0,
             "#8e0152"
            ],
            [
             0.1,
             "#c51b7d"
            ],
            [
             0.2,
             "#de77ae"
            ],
            [
             0.3,
             "#f1b6da"
            ],
            [
             0.4,
             "#fde0ef"
            ],
            [
             0.5,
             "#f7f7f7"
            ],
            [
             0.6,
             "#e6f5d0"
            ],
            [
             0.7,
             "#b8e186"
            ],
            [
             0.8,
             "#7fbc41"
            ],
            [
             0.9,
             "#4d9221"
            ],
            [
             1,
             "#276419"
            ]
           ],
           "sequential": [
            [
             0,
             "#0d0887"
            ],
            [
             0.1111111111111111,
             "#46039f"
            ],
            [
             0.2222222222222222,
             "#7201a8"
            ],
            [
             0.3333333333333333,
             "#9c179e"
            ],
            [
             0.4444444444444444,
             "#bd3786"
            ],
            [
             0.5555555555555556,
             "#d8576b"
            ],
            [
             0.6666666666666666,
             "#ed7953"
            ],
            [
             0.7777777777777778,
             "#fb9f3a"
            ],
            [
             0.8888888888888888,
             "#fdca26"
            ],
            [
             1,
             "#f0f921"
            ]
           ],
           "sequentialminus": [
            [
             0,
             "#0d0887"
            ],
            [
             0.1111111111111111,
             "#46039f"
            ],
            [
             0.2222222222222222,
             "#7201a8"
            ],
            [
             0.3333333333333333,
             "#9c179e"
            ],
            [
             0.4444444444444444,
             "#bd3786"
            ],
            [
             0.5555555555555556,
             "#d8576b"
            ],
            [
             0.6666666666666666,
             "#ed7953"
            ],
            [
             0.7777777777777778,
             "#fb9f3a"
            ],
            [
             0.8888888888888888,
             "#fdca26"
            ],
            [
             1,
             "#f0f921"
            ]
           ]
          },
          "colorway": [
           "#636efa",
           "#EF553B",
           "#00cc96",
           "#ab63fa",
           "#FFA15A",
           "#19d3f3",
           "#FF6692",
           "#B6E880",
           "#FF97FF",
           "#FECB52"
          ],
          "font": {
           "color": "#2a3f5f"
          },
          "geo": {
           "bgcolor": "white",
           "lakecolor": "white",
           "landcolor": "white",
           "showlakes": true,
           "showland": true,
           "subunitcolor": "#C8D4E3"
          },
          "hoverlabel": {
           "align": "left"
          },
          "hovermode": "closest",
          "mapbox": {
           "style": "light"
          },
          "paper_bgcolor": "white",
          "plot_bgcolor": "white",
          "polar": {
           "angularaxis": {
            "gridcolor": "#EBF0F8",
            "linecolor": "#EBF0F8",
            "ticks": ""
           },
           "bgcolor": "white",
           "radialaxis": {
            "gridcolor": "#EBF0F8",
            "linecolor": "#EBF0F8",
            "ticks": ""
           }
          },
          "scene": {
           "xaxis": {
            "backgroundcolor": "white",
            "gridcolor": "#DFE8F3",
            "gridwidth": 2,
            "linecolor": "#EBF0F8",
            "showbackground": true,
            "ticks": "",
            "zerolinecolor": "#EBF0F8"
           },
           "yaxis": {
            "backgroundcolor": "white",
            "gridcolor": "#DFE8F3",
            "gridwidth": 2,
            "linecolor": "#EBF0F8",
            "showbackground": true,
            "ticks": "",
            "zerolinecolor": "#EBF0F8"
           },
           "zaxis": {
            "backgroundcolor": "white",
            "gridcolor": "#DFE8F3",
            "gridwidth": 2,
            "linecolor": "#EBF0F8",
            "showbackground": true,
            "ticks": "",
            "zerolinecolor": "#EBF0F8"
           }
          },
          "shapedefaults": {
           "line": {
            "color": "#2a3f5f"
           }
          },
          "ternary": {
           "aaxis": {
            "gridcolor": "#DFE8F3",
            "linecolor": "#A2B1C6",
            "ticks": ""
           },
           "baxis": {
            "gridcolor": "#DFE8F3",
            "linecolor": "#A2B1C6",
            "ticks": ""
           },
           "bgcolor": "white",
           "caxis": {
            "gridcolor": "#DFE8F3",
            "linecolor": "#A2B1C6",
            "ticks": ""
           }
          },
          "title": {
           "x": 0.05
          },
          "xaxis": {
           "automargin": true,
           "gridcolor": "#EBF0F8",
           "linecolor": "#EBF0F8",
           "ticks": "",
           "title": {
            "standoff": 15
           },
           "zerolinecolor": "#EBF0F8",
           "zerolinewidth": 2
          },
          "yaxis": {
           "automargin": true,
           "gridcolor": "#EBF0F8",
           "linecolor": "#EBF0F8",
           "ticks": "",
           "title": {
            "standoff": 15
           },
           "zerolinecolor": "#EBF0F8",
           "zerolinewidth": 2
          }
         }
        },
        "width": 1100,
        "xaxis": {
         "title": {
          "text": "Normalized Trials"
         }
        },
        "yaxis": {
         "title": {
          "text": "Difference in Performance HPI and Random"
         }
        }
       }
      }
     },
     "metadata": {},
     "output_type": "display_data"
    }
   ],
   "source": [
    "fanova = perf_all[perf_all['optimizer_id']=='fanova_adjust_cs_default_constant_adjust_prev_cfgs_set_to_incumbent_thresh_0.75']\n",
    "fanova_rnd = rnd_all[rnd_all['optimizer_id']=='random_adjust_cs_default_constant_adjust_prev_cfgs_set_to_incumbent_thresh_0.75']\n",
    "fanova = pd.merge(fanova, fanova_rnd, on=['task_id', 'seed', 'n_trials_norm'], suffixes=('_final', '_rnd'))\n",
    "fanova['trial_value__cost_inc_norm_diff'] = fanova['trial_value__cost_inc_norm_rnd'] - fanova['trial_value__cost_inc_norm_final']\n",
    "fanova['optimizer_id'] = 'fANOVA-ParEGO'\n",
    "\n",
    "\n",
    "hypershap = perf_all[perf_all['optimizer_id']=='hypershap_adjust_cs_default_constant_adjust_prev_cfgs_set_to_incumbent_dynamic_decay_down']\n",
    "hypershap_rnd = rnd_all[rnd_all['optimizer_id']=='random_adjust_cs_default_constant_adjust_prev_cfgs_set_to_incumbent_dynamic_decay_down']\n",
    "hypershap = pd.merge(hypershap, hypershap_rnd, on=['task_id', 'seed', 'n_trials_norm'], suffixes=('_final', '_rnd'))\n",
    "hypershap['trial_value__cost_inc_norm_diff'] = hypershap['trial_value__cost_inc_norm_rnd'] - hypershap['trial_value__cost_inc_norm_final']\n",
    "hypershap['optimizer_id'] = 'HyperSHAP-ParEGO'\n",
    "\n",
    "df_plot = pd.concat([hypershap, fanova], ignore_index=True)\n",
    "\n",
    "# Average over tasks\n",
    "avg_task = df_plot.groupby([\"optimizer_id\", \"seed\", \"n_trials_norm\"]).agg(\n",
    "    mean_perf=(\"trial_value__cost_inc_norm_diff\", \"mean\")\n",
    ").reset_index()\n",
    "\n",
    "# Average over seeds\n",
    "avg_seed = avg_task.groupby([\"optimizer_id\", \"n_trials_norm\"]).agg(\n",
    "    mean=(\"mean_perf\", \"mean\"),\n",
    "    sem=(\"mean_perf\", \"sem\")\n",
    ").reset_index()\n",
    "\n",
    "auc_per_seed = (\n",
    "    df_plot.groupby([\"optimizer_id\", \"seed\"])\n",
    "    .apply(lambda group: trapz(group.sort_values(\"n_trials_norm\")[\"trial_value__cost_inc_norm_diff\"],\n",
    "                                group.sort_values(\"n_trials_norm\")[\"n_trials_norm\"]))\n",
    "    .reset_index(name=\"auc\")\n",
    ")\n",
    "\n",
    "colors = px.colors.qualitative.Set1\n",
    "fig = go.Figure()\n",
    "for i, optimizer in enumerate(avg_seed[\"optimizer_id\"].unique()):\n",
    "    df_opt = avg_seed[avg_seed[\"optimizer_id\"] == optimizer]\n",
    "    line_color = colors[i % len(colors)]\n",
    "\n",
    "    # Mean line\n",
    "    fig.add_trace(go.Scatter(\n",
    "        x=df_opt[\"n_trials_norm\"],\n",
    "        y=df_opt[\"mean\"],\n",
    "        mode=\"lines\",\n",
    "        name=optimizer,\n",
    "        line=dict(width=2, color=line_color),\n",
    "    ))\n",
    "\n",
    "    # Shaded error (sem)\n",
    "    fig.add_trace(go.Scatter(\n",
    "        x=pd.concat([df_opt[\"n_trials_norm\"], df_opt[\"n_trials_norm\"][::-1]]),\n",
    "        y=pd.concat([\n",
    "            df_opt[\"mean\"] - df_opt[\"sem\"],\n",
    "            (df_opt[\"mean\"] + df_opt[\"sem\"])[::-1]\n",
    "        ]),\n",
    "        fill='toself',\n",
    "        fillcolor=line_color.replace(')', ',0.1)').replace('rgb', 'rgba'),\n",
    "        line=dict(color='rgba(255,255,255,0)'),\n",
    "        hoverinfo=\"skip\",\n",
    "        showlegend=False\n",
    "    ))\n",
    "\n",
    "\n",
    "fig.update_layout(\n",
    "    height=400,\n",
    "    width=1100,\n",
    "    template=\"plotly_white\",\n",
    "    font=dict(size=16),\n",
    "    legend=dict(title=\"Optimizers\", font=dict(size=16)),\n",
    "    margin=dict(t=60, l=50, r=50, b=50)\n",
    ")\n",
    "\n",
    "fig.update_xaxes(title_text=\"Normalized Trials\")\n",
    "fig.update_yaxes(title_text=\"Difference in Performance HPI and Random\")\n",
    "fig.show()"
   ]
  },
  {
   "cell_type": "code",
   "execution_count": null,
   "id": "aae5be8d",
   "metadata": {},
   "outputs": [
    {
     "data": {
      "application/vnd.microsoft.datawrangler.viewer.v0+json": {
       "columns": [
        {
         "name": "index",
         "rawType": "int64",
         "type": "integer"
        },
        {
         "name": "task_id",
         "rawType": "object",
         "type": "string"
        },
        {
         "name": "seed",
         "rawType": "int64",
         "type": "integer"
        },
        {
         "name": "n_trials_norm",
         "rawType": "float64",
         "type": "float"
        },
        {
         "name": "diff_trial_value__cost_inc_norm",
         "rawType": "float64",
         "type": "float"
        }
       ],
       "conversionMethod": "pd.DataFrame",
       "ref": "d179f54f-deb4-4261-9b1d-6f585cb44f99",
       "rows": [
        [
         "0",
         "multi-objective/50/dev/yahpo/mo/iaml_glmnet/1489/None",
         "0",
         "0.0",
         "0.0"
        ],
        [
         "1",
         "multi-objective/50/dev/yahpo/mo/iaml_glmnet/1489/None",
         "0",
         "0.02",
         "0.0"
        ],
        [
         "2",
         "multi-objective/50/dev/yahpo/mo/iaml_glmnet/1489/None",
         "0",
         "0.04",
         "0.0"
        ],
        [
         "3",
         "multi-objective/50/dev/yahpo/mo/iaml_glmnet/1489/None",
         "0",
         "0.06",
         "0.0"
        ],
        [
         "4",
         "multi-objective/50/dev/yahpo/mo/iaml_glmnet/1489/None",
         "0",
         "0.08",
         "0.0"
        ],
        [
         "5",
         "multi-objective/50/dev/yahpo/mo/iaml_glmnet/1489/None",
         "0",
         "0.1",
         "0.0"
        ],
        [
         "6",
         "multi-objective/50/dev/yahpo/mo/iaml_glmnet/1489/None",
         "0",
         "0.12",
         "0.000309676074884949"
        ],
        [
         "7",
         "multi-objective/50/dev/yahpo/mo/iaml_glmnet/1489/None",
         "0",
         "0.14",
         "0.0009290282246548478"
        ],
        [
         "8",
         "multi-objective/50/dev/yahpo/mo/iaml_glmnet/1489/None",
         "0",
         "0.16",
         "0.0010941887979268204"
        ],
        [
         "9",
         "multi-objective/50/dev/yahpo/mo/iaml_glmnet/1489/None",
         "0",
         "0.18",
         "0.001259349371198793"
        ],
        [
         "10",
         "multi-objective/50/dev/yahpo/mo/iaml_glmnet/1489/None",
         "0",
         "0.2",
         "0.0014245099444707664"
        ],
        [
         "11",
         "multi-objective/50/dev/yahpo/mo/iaml_glmnet/1489/None",
         "0",
         "0.22",
         "0.0015896705177427391"
        ],
        [
         "12",
         "multi-objective/50/dev/yahpo/mo/iaml_glmnet/1489/None",
         "0",
         "0.24",
         "0.0012351427416138923"
        ],
        [
         "13",
         "multi-objective/50/dev/yahpo/mo/iaml_glmnet/1489/None",
         "0",
         "0.26",
         "0.0008806149654850453"
        ],
        [
         "14",
         "multi-objective/50/dev/yahpo/mo/iaml_glmnet/1489/None",
         "0",
         "0.28",
         "0.000526087189356198"
        ],
        [
         "15",
         "multi-objective/50/dev/yahpo/mo/iaml_glmnet/1489/None",
         "0",
         "0.3",
         "0.0003595015656170336"
        ],
        [
         "16",
         "multi-objective/50/dev/yahpo/mo/iaml_glmnet/1489/None",
         "0",
         "0.32",
         "0.00038085809426755045"
        ],
        [
         "17",
         "multi-objective/50/dev/yahpo/mo/iaml_glmnet/1489/None",
         "0",
         "0.34",
         "0.0003715370412108954"
        ],
        [
         "18",
         "multi-objective/50/dev/yahpo/mo/iaml_glmnet/1489/None",
         "0",
         "0.36",
         "0.00033153840644706875"
        ],
        [
         "19",
         "multi-objective/50/dev/yahpo/mo/iaml_glmnet/1489/None",
         "0",
         "0.38",
         "0.0002915397716832419"
        ],
        [
         "20",
         "multi-objective/50/dev/yahpo/mo/iaml_glmnet/1489/None",
         "0",
         "0.4",
         "0.0002515411369194148"
        ],
        [
         "21",
         "multi-objective/50/dev/yahpo/mo/iaml_glmnet/1489/None",
         "0",
         "0.42",
         "0.00021154250215558827"
        ],
        [
         "22",
         "multi-objective/50/dev/yahpo/mo/iaml_glmnet/1489/None",
         "0",
         "0.44",
         "0.00020845761326649173"
        ],
        [
         "23",
         "multi-objective/50/dev/yahpo/mo/iaml_glmnet/1489/None",
         "0",
         "0.46",
         "0.0002175682938503513"
        ],
        [
         "24",
         "multi-objective/50/dev/yahpo/mo/iaml_glmnet/1489/None",
         "0",
         "0.48",
         "0.00022667897443421074"
        ],
        [
         "25",
         "multi-objective/50/dev/yahpo/mo/iaml_glmnet/1489/None",
         "0",
         "0.5",
         "0.0002357896550180703"
        ],
        [
         "26",
         "multi-objective/50/dev/yahpo/mo/iaml_glmnet/1489/None",
         "0",
         "0.52",
         "0.00024490033560192986"
        ],
        [
         "27",
         "multi-objective/50/dev/yahpo/mo/iaml_glmnet/1489/None",
         "0",
         "0.54",
         "0.0002540110161857894"
        ],
        [
         "28",
         "multi-objective/50/dev/yahpo/mo/iaml_glmnet/1489/None",
         "0",
         "0.56",
         "0.000263121696769649"
        ],
        [
         "29",
         "multi-objective/50/dev/yahpo/mo/iaml_glmnet/1489/None",
         "0",
         "0.58",
         "0.00023463871158301355"
        ],
        [
         "30",
         "multi-objective/50/dev/yahpo/mo/iaml_glmnet/1489/None",
         "0",
         "0.6",
         "0.00018199807279726512"
        ],
        [
         "31",
         "multi-objective/50/dev/yahpo/mo/iaml_glmnet/1489/None",
         "0",
         "0.62",
         "0.0001293574340115169"
        ],
        [
         "32",
         "multi-objective/50/dev/yahpo/mo/iaml_glmnet/1489/None",
         "0",
         "0.64",
         "7.671679522576859e-05"
        ],
        [
         "33",
         "multi-objective/50/dev/yahpo/mo/iaml_glmnet/1489/None",
         "0",
         "0.66",
         "2.407615644002027e-05"
        ],
        [
         "34",
         "multi-objective/50/dev/yahpo/mo/iaml_glmnet/1489/None",
         "0",
         "0.68",
         "-6.174905340156967e-06"
        ],
        [
         "35",
         "multi-objective/50/dev/yahpo/mo/iaml_glmnet/1489/None",
         "0",
         "0.7000000000000001",
         "-1.4036390114763125e-05"
        ],
        [
         "36",
         "multi-objective/50/dev/yahpo/mo/iaml_glmnet/1489/None",
         "0",
         "0.72",
         "-2.349500685400489e-06"
        ],
        [
         "37",
         "multi-objective/50/dev/yahpo/mo/iaml_glmnet/1489/None",
         "0",
         "0.74",
         "2.8885762947930668e-05"
        ],
        [
         "38",
         "multi-objective/50/dev/yahpo/mo/iaml_glmnet/1489/None",
         "0",
         "0.76",
         "6.012102658126188e-05"
        ],
        [
         "39",
         "multi-objective/50/dev/yahpo/mo/iaml_glmnet/1489/None",
         "0",
         "0.78",
         "9.135629021459309e-05"
        ],
        [
         "40",
         "multi-objective/50/dev/yahpo/mo/iaml_glmnet/1489/None",
         "0",
         "0.8",
         "8.550436430524935e-05"
        ],
        [
         "41",
         "multi-objective/50/dev/yahpo/mo/iaml_glmnet/1489/None",
         "0",
         "0.8200000000000001",
         "7.965243839590567e-05"
        ],
        [
         "42",
         "multi-objective/50/dev/yahpo/mo/iaml_glmnet/1489/None",
         "0",
         "0.84",
         "7.380051248656193e-05"
        ],
        [
         "43",
         "multi-objective/50/dev/yahpo/mo/iaml_glmnet/1489/None",
         "0",
         "0.86",
         "6.794858657721824e-05"
        ],
        [
         "44",
         "multi-objective/50/dev/yahpo/mo/iaml_glmnet/1489/None",
         "0",
         "0.88",
         "7.310815695819601e-05"
        ],
        [
         "45",
         "multi-objective/50/dev/yahpo/mo/iaml_glmnet/1489/None",
         "0",
         "0.9",
         "7.753137836502896e-05"
        ],
        [
         "46",
         "multi-objective/50/dev/yahpo/mo/iaml_glmnet/1489/None",
         "0",
         "0.92",
         "8.121825079771705e-05"
        ],
        [
         "47",
         "multi-objective/50/dev/yahpo/mo/iaml_glmnet/1489/None",
         "0",
         "0.9400000000000001",
         "8.490512323040513e-05"
        ],
        [
         "48",
         "multi-objective/50/dev/yahpo/mo/iaml_glmnet/1489/None",
         "0",
         "0.96",
         "8.859199566309321e-05"
        ],
        [
         "49",
         "multi-objective/50/dev/yahpo/mo/iaml_glmnet/1489/None",
         "0",
         "0.98",
         "9.22788680957813e-05"
        ]
       ],
       "shape": {
        "columns": 4,
        "rows": 6018
       }
      },
      "text/html": [
       "<div>\n",
       "<style scoped>\n",
       "    .dataframe tbody tr th:only-of-type {\n",
       "        vertical-align: middle;\n",
       "    }\n",
       "\n",
       "    .dataframe tbody tr th {\n",
       "        vertical-align: top;\n",
       "    }\n",
       "\n",
       "    .dataframe thead th {\n",
       "        text-align: right;\n",
       "    }\n",
       "</style>\n",
       "<table border=\"1\" class=\"dataframe\">\n",
       "  <thead>\n",
       "    <tr style=\"text-align: right;\">\n",
       "      <th></th>\n",
       "      <th>task_id</th>\n",
       "      <th>seed</th>\n",
       "      <th>n_trials_norm</th>\n",
       "      <th>diff_trial_value__cost_inc_norm</th>\n",
       "    </tr>\n",
       "  </thead>\n",
       "  <tbody>\n",
       "    <tr>\n",
       "      <th>0</th>\n",
       "      <td>multi-objective/50/dev/yahpo/mo/iaml_glmnet/14...</td>\n",
       "      <td>0</td>\n",
       "      <td>0.00</td>\n",
       "      <td>0.000000</td>\n",
       "    </tr>\n",
       "    <tr>\n",
       "      <th>1</th>\n",
       "      <td>multi-objective/50/dev/yahpo/mo/iaml_glmnet/14...</td>\n",
       "      <td>0</td>\n",
       "      <td>0.02</td>\n",
       "      <td>0.000000</td>\n",
       "    </tr>\n",
       "    <tr>\n",
       "      <th>2</th>\n",
       "      <td>multi-objective/50/dev/yahpo/mo/iaml_glmnet/14...</td>\n",
       "      <td>0</td>\n",
       "      <td>0.04</td>\n",
       "      <td>0.000000</td>\n",
       "    </tr>\n",
       "    <tr>\n",
       "      <th>3</th>\n",
       "      <td>multi-objective/50/dev/yahpo/mo/iaml_glmnet/14...</td>\n",
       "      <td>0</td>\n",
       "      <td>0.06</td>\n",
       "      <td>0.000000</td>\n",
       "    </tr>\n",
       "    <tr>\n",
       "      <th>4</th>\n",
       "      <td>multi-objective/50/dev/yahpo/mo/iaml_glmnet/14...</td>\n",
       "      <td>0</td>\n",
       "      <td>0.08</td>\n",
       "      <td>0.000000</td>\n",
       "    </tr>\n",
       "    <tr>\n",
       "      <th>...</th>\n",
       "      <td>...</td>\n",
       "      <td>...</td>\n",
       "      <td>...</td>\n",
       "      <td>...</td>\n",
       "    </tr>\n",
       "    <tr>\n",
       "      <th>6013</th>\n",
       "      <td>multi-objective/50/dev/hpobench/multiobjective...</td>\n",
       "      <td>4</td>\n",
       "      <td>0.92</td>\n",
       "      <td>-0.005848</td>\n",
       "    </tr>\n",
       "    <tr>\n",
       "      <th>6014</th>\n",
       "      <td>multi-objective/50/dev/hpobench/multiobjective...</td>\n",
       "      <td>4</td>\n",
       "      <td>0.94</td>\n",
       "      <td>-0.005809</td>\n",
       "    </tr>\n",
       "    <tr>\n",
       "      <th>6015</th>\n",
       "      <td>multi-objective/50/dev/hpobench/multiobjective...</td>\n",
       "      <td>4</td>\n",
       "      <td>0.96</td>\n",
       "      <td>-0.005769</td>\n",
       "    </tr>\n",
       "    <tr>\n",
       "      <th>6016</th>\n",
       "      <td>multi-objective/50/dev/hpobench/multiobjective...</td>\n",
       "      <td>4</td>\n",
       "      <td>0.98</td>\n",
       "      <td>-0.005730</td>\n",
       "    </tr>\n",
       "    <tr>\n",
       "      <th>6017</th>\n",
       "      <td>multi-objective/50/dev/hpobench/multiobjective...</td>\n",
       "      <td>4</td>\n",
       "      <td>1.00</td>\n",
       "      <td>-0.005691</td>\n",
       "    </tr>\n",
       "  </tbody>\n",
       "</table>\n",
       "<p>6018 rows × 4 columns</p>\n",
       "</div>"
      ],
      "text/plain": [
       "                                                task_id  seed  n_trials_norm  \\\n",
       "0     multi-objective/50/dev/yahpo/mo/iaml_glmnet/14...     0           0.00   \n",
       "1     multi-objective/50/dev/yahpo/mo/iaml_glmnet/14...     0           0.02   \n",
       "2     multi-objective/50/dev/yahpo/mo/iaml_glmnet/14...     0           0.04   \n",
       "3     multi-objective/50/dev/yahpo/mo/iaml_glmnet/14...     0           0.06   \n",
       "4     multi-objective/50/dev/yahpo/mo/iaml_glmnet/14...     0           0.08   \n",
       "...                                                 ...   ...            ...   \n",
       "6013  multi-objective/50/dev/hpobench/multiobjective...     4           0.92   \n",
       "6014  multi-objective/50/dev/hpobench/multiobjective...     4           0.94   \n",
       "6015  multi-objective/50/dev/hpobench/multiobjective...     4           0.96   \n",
       "6016  multi-objective/50/dev/hpobench/multiobjective...     4           0.98   \n",
       "6017  multi-objective/50/dev/hpobench/multiobjective...     4           1.00   \n",
       "\n",
       "      diff_trial_value__cost_inc_norm  \n",
       "0                            0.000000  \n",
       "1                            0.000000  \n",
       "2                            0.000000  \n",
       "3                            0.000000  \n",
       "4                            0.000000  \n",
       "...                               ...  \n",
       "6013                        -0.005848  \n",
       "6014                        -0.005809  \n",
       "6015                        -0.005769  \n",
       "6016                        -0.005730  \n",
       "6017                        -0.005691  \n",
       "\n",
       "[6018 rows x 4 columns]"
      ]
     },
     "execution_count": 178,
     "metadata": {},
     "output_type": "execute_result"
    }
   ],
   "source": [
    "\n"
   ]
  }
 ],
 "metadata": {
  "kernelspec": {
   "display_name": "carps",
   "language": "python",
   "name": "python3"
  },
  "language_info": {
   "codemirror_mode": {
    "name": "ipython",
    "version": 3
   },
   "file_extension": ".py",
   "mimetype": "text/x-python",
   "name": "python",
   "nbconvert_exporter": "python",
   "pygments_lexer": "ipython3",
   "version": "3.10.16"
  }
 },
 "nbformat": 4,
 "nbformat_minor": 5
}
