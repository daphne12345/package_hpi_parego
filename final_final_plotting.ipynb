{
 "cells": [
  {
   "cell_type": "code",
   "execution_count": 42,
   "id": "3bd8ee49",
   "metadata": {},
   "outputs": [],
   "source": [
    "import pandas as pd\n",
    "from carps.analysis.gather_data import normalize_logs, get_interpolated_performance_df\n",
    "from numpy import trapz\n",
    "import pandas as pd\n",
    "import plotly.graph_objects as go\n",
    "from plotly.subplots import make_subplots\n",
    "import plotly.express as px \n",
    "import itertools\n",
    "import pandas as pd\n",
    "from carps.analysis.generate_report import *\n",
    "from carps.analysis.performance_over_time import plot_performance_over_time\n"
   ]
  },
  {
   "cell_type": "markdown",
   "id": "ae4ac810",
   "metadata": {},
   "source": [
    "# Old"
   ]
  },
  {
   "cell_type": "code",
   "execution_count": 3,
   "id": "91870d07",
   "metadata": {},
   "outputs": [],
   "source": [
    "all_experiments = []\n",
    "all_trajectories = []\n",
    "current_max_id = 0\n",
    "\n",
    "for subdir in os.listdir('../experimenter_loose/'):\n",
    "    experiment_config = pd.read_parquet(f\"../experimenter_loose/{subdir}/experiment_config.parquet\")\n",
    "    trials = pd.read_parquet(f\"../experimenter_loose/{subdir}/trials.parquet\")\n",
    "\n",
    "    experiment_config = experiment_config[~experiment_config['optimizer_id'].str.startswith(\"hypershap\")]\n",
    "    experiment_config = experiment_config[~experiment_config['optimizer_id'].str.startswith(\"random\")]\n",
    "    valid_ids = experiment_config['ID'].unique()\n",
    "    trials = trials[trials['experiment_id'].isin(valid_ids)]\n",
    "\n",
    "    id_mapping = {old_id: new_id for old_id, new_id in zip(\n",
    "        experiment_config['ID'], \n",
    "        range(current_max_id, current_max_id + len(experiment_config))\n",
    "    )}\n",
    "\n",
    "    experiment_config['ID'] = experiment_config['ID'].map(id_mapping)\n",
    "    trials['experiment_id'] = trials['experiment_id'].map(id_mapping)\n",
    "\n",
    "    all_experiments.append(experiment_config)\n",
    "    all_trajectories.append(trials)\n",
    "\n",
    "    current_max_id += len(experiment_config)\n",
    "\n",
    "# Concatenate all\n",
    "experiment_config_all = pd.concat(all_experiments, ignore_index=True)\n",
    "trials_all = pd.concat(all_trajectories, ignore_index=True)\n",
    "trials_all.to_parquet('../experimenter/results/trials.parquet')    \n",
    "experiment_config_all.to_parquet('../experimenter/results/experiment_config.parquet') \n"
   ]
  },
  {
   "cell_type": "code",
   "execution_count": 23,
   "id": "fa288e5e",
   "metadata": {},
   "outputs": [],
   "source": [
    "trials_all = pd.read_parquet('../experimenter/results/trials.parquet')    \n",
    "experiment_config_all = pd.read_parquet('../experimenter/results/experiment_config.parquet') \n"
   ]
  },
  {
   "cell_type": "code",
   "execution_count": 6,
   "id": "ed4c00bb",
   "metadata": {},
   "outputs": [],
   "source": [
    "exp_test = experiment_config_all[experiment_config_all['subset_id']=='test']\n",
    "trials_test = trials_all[trials_all['experiment_id'].isin(exp_test['ID'].unique())]\n",
    "trials_test.to_parquet('../experimenter/test/trials.parquet')    \n",
    "exp_test.to_parquet('../experimenter/test/experiment_config.parquet') "
   ]
  },
  {
   "cell_type": "code",
   "execution_count": 7,
   "id": "b7da9ec7",
   "metadata": {},
   "outputs": [],
   "source": [
    "exp_train = experiment_config_all[experiment_config_all['subset_id']=='dev']\n",
    "trials_train = trials_all[trials_all['experiment_id'].isin(exp_train['ID'].unique())]\n",
    "trials_train.to_parquet('../experimenter/train/trials.parquet')    \n",
    "exp_train.to_parquet('../experimenter/train/experiment_config.parquet') "
   ]
  },
  {
   "cell_type": "code",
   "execution_count": 25,
   "id": "a498a615",
   "metadata": {},
   "outputs": [],
   "source": [
    "exp_train = experiment_config_all[experiment_config_all['subset_id']=='dev']\n",
    "exp_train = exp_train[exp_train['optimizer_id'].isin(['SMAC3-MO-RF', 'fanova_adjust_cs_default_constant_adjust_prev_cfgs_set_to_random_thresh_0_lin_0', 'fanova_adjust_cs_incumbent_cs_proba_hpi_adjust_prev_cfgs_set_to_random_thresh_0_lin_0','fanova_adjust_cs_default_constant_adjust_prev_cfgs_set_to_incumbent_thresh_0_lin_0', 'fanova_adjust_cs_incumbent_cs_proba_hpi_thresh_0.5', 'fanova_adjust_cs_default_constant_adjust_prev_cfgs_set_to_incumbent_thresh_0.75'])]\n",
    "trials_train = trials_all[trials_all['experiment_id'].isin(exp_train['ID'].unique())]\n",
    "trials_train.to_parquet('../experimenter/mine/trials.parquet')    \n",
    "exp_train.to_parquet('../experimenter/mine/experiment_config.parquet') "
   ]
  },
  {
   "cell_type": "markdown",
   "id": "71d8bf97",
   "metadata": {},
   "source": [
    "# Read data"
   ]
  },
  {
   "cell_type": "code",
   "execution_count": 126,
   "id": "fd6dbc5b",
   "metadata": {},
   "outputs": [
    {
     "data": {
      "text/html": [
       "<pre style=\"white-space:pre;overflow-x:auto;line-height:normal;font-family:Menlo,'DejaVu Sans Mono',consolas,'Courier New',monospace\"><span style=\"color: #7fbfbf; text-decoration-color: #7fbfbf\">[16:29:07] </span><span style=\"color: #000080; text-decoration-color: #000080\">INFO    </span> Start normalization<span style=\"color: #808000; text-decoration-color: #808000\">...</span>                                                       <a href=\"file:///home/daphne/Code/hpi_parego/CARP-S/carps/analysis/gather_data.py\" target=\"_blank\"><span style=\"color: #7f7f7f; text-decoration-color: #7f7f7f\">gather_data.py</span></a><span style=\"color: #7f7f7f; text-decoration-color: #7f7f7f\">:</span><a href=\"file:///home/daphne/Code/hpi_parego/CARP-S/carps/analysis/gather_data.py#626\" target=\"_blank\"><span style=\"color: #7f7f7f; text-decoration-color: #7f7f7f\">626</span></a>\n",
       "</pre>\n"
      ],
      "text/plain": [
       "\u001b[2;36m[16:29:07]\u001b[0m\u001b[2;36m \u001b[0m\u001b[34mINFO    \u001b[0m Start normalization\u001b[33m...\u001b[0m                                                       \u001b]8;id=740770;file:///home/daphne/Code/hpi_parego/CARP-S/carps/analysis/gather_data.py\u001b\\\u001b[2mgather_data.py\u001b[0m\u001b]8;;\u001b\\\u001b[2m:\u001b[0m\u001b]8;id=598554;file:///home/daphne/Code/hpi_parego/CARP-S/carps/analysis/gather_data.py#626\u001b\\\u001b[2m626\u001b[0m\u001b]8;;\u001b\\\n"
      ]
     },
     "metadata": {},
     "output_type": "display_data"
    },
    {
     "data": {
      "text/html": [
       "<pre style=\"white-space:pre;overflow-x:auto;line-height:normal;font-family:Menlo,'DejaVu Sans Mono',consolas,'Courier New',monospace\"><span style=\"color: #7fbfbf; text-decoration-color: #7fbfbf\">           </span><span style=\"color: #000080; text-decoration-color: #000080\">INFO    </span> Normalize n_trials<span style=\"color: #808000; text-decoration-color: #808000\">...</span>                                                        <a href=\"file:///home/daphne/Code/hpi_parego/CARP-S/carps/analysis/gather_data.py\" target=\"_blank\"><span style=\"color: #7f7f7f; text-decoration-color: #7f7f7f\">gather_data.py</span></a><span style=\"color: #7f7f7f; text-decoration-color: #7f7f7f\">:</span><a href=\"file:///home/daphne/Code/hpi_parego/CARP-S/carps/analysis/gather_data.py#627\" target=\"_blank\"><span style=\"color: #7f7f7f; text-decoration-color: #7f7f7f\">627</span></a>\n",
       "</pre>\n"
      ],
      "text/plain": [
       "\u001b[2;36m          \u001b[0m\u001b[2;36m \u001b[0m\u001b[34mINFO    \u001b[0m Normalize n_trials\u001b[33m...\u001b[0m                                                        \u001b]8;id=827441;file:///home/daphne/Code/hpi_parego/CARP-S/carps/analysis/gather_data.py\u001b\\\u001b[2mgather_data.py\u001b[0m\u001b]8;;\u001b\\\u001b[2m:\u001b[0m\u001b]8;id=970319;file:///home/daphne/Code/hpi_parego/CARP-S/carps/analysis/gather_data.py#627\u001b\\\u001b[2m627\u001b[0m\u001b]8;;\u001b\\\n"
      ]
     },
     "metadata": {},
     "output_type": "display_data"
    },
    {
     "data": {
      "text/html": [
       "<pre style=\"white-space:pre;overflow-x:auto;line-height:normal;font-family:Menlo,'DejaVu Sans Mono',consolas,'Courier New',monospace\"><span style=\"color: #7fbfbf; text-decoration-color: #7fbfbf\">           </span><span style=\"color: #000080; text-decoration-color: #000080\">INFO    </span> Normalize cost<span style=\"color: #808000; text-decoration-color: #808000\">...</span>                                                            <a href=\"file:///home/daphne/Code/hpi_parego/CARP-S/carps/analysis/gather_data.py\" target=\"_blank\"><span style=\"color: #7f7f7f; text-decoration-color: #7f7f7f\">gather_data.py</span></a><span style=\"color: #7f7f7f; text-decoration-color: #7f7f7f\">:</span><a href=\"file:///home/daphne/Code/hpi_parego/CARP-S/carps/analysis/gather_data.py#629\" target=\"_blank\"><span style=\"color: #7f7f7f; text-decoration-color: #7f7f7f\">629</span></a>\n",
       "</pre>\n"
      ],
      "text/plain": [
       "\u001b[2;36m          \u001b[0m\u001b[2;36m \u001b[0m\u001b[34mINFO    \u001b[0m Normalize cost\u001b[33m...\u001b[0m                                                            \u001b]8;id=157286;file:///home/daphne/Code/hpi_parego/CARP-S/carps/analysis/gather_data.py\u001b\\\u001b[2mgather_data.py\u001b[0m\u001b]8;;\u001b\\\u001b[2m:\u001b[0m\u001b]8;id=334764;file:///home/daphne/Code/hpi_parego/CARP-S/carps/analysis/gather_data.py#629\u001b\\\u001b[2m629\u001b[0m\u001b]8;;\u001b\\\n"
      ]
     },
     "metadata": {},
     "output_type": "display_data"
    },
    {
     "data": {
      "text/html": [
       "<pre style=\"white-space:pre;overflow-x:auto;line-height:normal;font-family:Menlo,'DejaVu Sans Mono',consolas,'Courier New',monospace\"><span style=\"color: #7fbfbf; text-decoration-color: #7fbfbf\">[16:29:09] </span><span style=\"color: #000080; text-decoration-color: #000080\">INFO    </span> Calc normalized incumbent cost<span style=\"color: #808000; text-decoration-color: #808000\">...</span>                                            <a href=\"file:///home/daphne/Code/hpi_parego/CARP-S/carps/analysis/gather_data.py\" target=\"_blank\"><span style=\"color: #7f7f7f; text-decoration-color: #7f7f7f\">gather_data.py</span></a><span style=\"color: #7f7f7f; text-decoration-color: #7f7f7f\">:</span><a href=\"file:///home/daphne/Code/hpi_parego/CARP-S/carps/analysis/gather_data.py#638\" target=\"_blank\"><span style=\"color: #7f7f7f; text-decoration-color: #7f7f7f\">638</span></a>\n",
       "</pre>\n"
      ],
      "text/plain": [
       "\u001b[2;36m[16:29:09]\u001b[0m\u001b[2;36m \u001b[0m\u001b[34mINFO    \u001b[0m Calc normalized incumbent cost\u001b[33m...\u001b[0m                                            \u001b]8;id=197150;file:///home/daphne/Code/hpi_parego/CARP-S/carps/analysis/gather_data.py\u001b\\\u001b[2mgather_data.py\u001b[0m\u001b]8;;\u001b\\\u001b[2m:\u001b[0m\u001b]8;id=47693;file:///home/daphne/Code/hpi_parego/CARP-S/carps/analysis/gather_data.py#638\u001b\\\u001b[2m638\u001b[0m\u001b]8;;\u001b\\\n"
      ]
     },
     "metadata": {},
     "output_type": "display_data"
    },
    {
     "data": {
      "text/html": [
       "<pre style=\"white-space:pre;overflow-x:auto;line-height:normal;font-family:Menlo,'DejaVu Sans Mono',consolas,'Courier New',monospace\"><span style=\"color: #7fbfbf; text-decoration-color: #7fbfbf\">[16:29:14] </span><span style=\"color: #000080; text-decoration-color: #000080\">INFO    </span> Normalize time<span style=\"color: #808000; text-decoration-color: #808000\">...</span>                                                            <a href=\"file:///home/daphne/Code/hpi_parego/CARP-S/carps/analysis/gather_data.py\" target=\"_blank\"><span style=\"color: #7f7f7f; text-decoration-color: #7f7f7f\">gather_data.py</span></a><span style=\"color: #7f7f7f; text-decoration-color: #7f7f7f\">:</span><a href=\"file:///home/daphne/Code/hpi_parego/CARP-S/carps/analysis/gather_data.py#658\" target=\"_blank\"><span style=\"color: #7f7f7f; text-decoration-color: #7f7f7f\">658</span></a>\n",
       "</pre>\n"
      ],
      "text/plain": [
       "\u001b[2;36m[16:29:14]\u001b[0m\u001b[2;36m \u001b[0m\u001b[34mINFO    \u001b[0m Normalize time\u001b[33m...\u001b[0m                                                            \u001b]8;id=961882;file:///home/daphne/Code/hpi_parego/CARP-S/carps/analysis/gather_data.py\u001b\\\u001b[2mgather_data.py\u001b[0m\u001b]8;;\u001b\\\u001b[2m:\u001b[0m\u001b]8;id=456293;file:///home/daphne/Code/hpi_parego/CARP-S/carps/analysis/gather_data.py#658\u001b\\\u001b[2m658\u001b[0m\u001b]8;;\u001b\\\n"
      ]
     },
     "metadata": {},
     "output_type": "display_data"
    },
    {
     "data": {
      "text/html": [
       "<pre style=\"white-space:pre;overflow-x:auto;line-height:normal;font-family:Menlo,'DejaVu Sans Mono',consolas,'Courier New',monospace\"><span style=\"color: #7fbfbf; text-decoration-color: #7fbfbf\">[16:29:21] </span><span style=\"color: #000080; text-decoration-color: #000080\">INFO    </span> Done.                                                                        <a href=\"file:///home/daphne/Code/hpi_parego/CARP-S/carps/analysis/gather_data.py\" target=\"_blank\"><span style=\"color: #7f7f7f; text-decoration-color: #7f7f7f\">gather_data.py</span></a><span style=\"color: #7f7f7f; text-decoration-color: #7f7f7f\">:</span><a href=\"file:///home/daphne/Code/hpi_parego/CARP-S/carps/analysis/gather_data.py#661\" target=\"_blank\"><span style=\"color: #7f7f7f; text-decoration-color: #7f7f7f\">661</span></a>\n",
       "</pre>\n"
      ],
      "text/plain": [
       "\u001b[2;36m[16:29:21]\u001b[0m\u001b[2;36m \u001b[0m\u001b[34mINFO    \u001b[0m Done.                                                                        \u001b]8;id=373912;file:///home/daphne/Code/hpi_parego/CARP-S/carps/analysis/gather_data.py\u001b\\\u001b[2mgather_data.py\u001b[0m\u001b]8;;\u001b\\\u001b[2m:\u001b[0m\u001b]8;id=213926;file:///home/daphne/Code/hpi_parego/CARP-S/carps/analysis/gather_data.py#661\u001b\\\u001b[2m661\u001b[0m\u001b]8;;\u001b\\\n"
      ]
     },
     "metadata": {},
     "output_type": "display_data"
    },
    {
     "data": {
      "text/html": [
       "<pre style=\"white-space:pre;overflow-x:auto;line-height:normal;font-family:Menlo,'DejaVu Sans Mono',consolas,'Courier New',monospace\"><span style=\"color: #7fbfbf; text-decoration-color: #7fbfbf\">           </span><span style=\"color: #000080; text-decoration-color: #000080\">INFO    </span> Create dataframe for neat plotting by aligning x-axis <span style=\"color: #800080; text-decoration-color: #800080\">/</span> interpolating        <a href=\"file:///home/daphne/Code/hpi_parego/CARP-S/carps/analysis/gather_data.py\" target=\"_blank\"><span style=\"color: #7f7f7f; text-decoration-color: #7f7f7f\">gather_data.py</span></a><span style=\"color: #7f7f7f; text-decoration-color: #7f7f7f\">:</span><a href=\"file:///home/daphne/Code/hpi_parego/CARP-S/carps/analysis/gather_data.py#735\" target=\"_blank\"><span style=\"color: #7f7f7f; text-decoration-color: #7f7f7f\">735</span></a>\n",
       "<span style=\"color: #7fbfbf; text-decoration-color: #7fbfbf\">           </span>         budget.                                                                      <span style=\"color: #7f7f7f; text-decoration-color: #7f7f7f\">                  </span>\n",
       "</pre>\n"
      ],
      "text/plain": [
       "\u001b[2;36m          \u001b[0m\u001b[2;36m \u001b[0m\u001b[34mINFO    \u001b[0m Create dataframe for neat plotting by aligning x-axis \u001b[35m/\u001b[0m interpolating        \u001b]8;id=879779;file:///home/daphne/Code/hpi_parego/CARP-S/carps/analysis/gather_data.py\u001b\\\u001b[2mgather_data.py\u001b[0m\u001b]8;;\u001b\\\u001b[2m:\u001b[0m\u001b]8;id=26487;file:///home/daphne/Code/hpi_parego/CARP-S/carps/analysis/gather_data.py#735\u001b\\\u001b[2m735\u001b[0m\u001b]8;;\u001b\\\n",
       "\u001b[2;36m           \u001b[0m         budget.                                                                      \u001b[2m                  \u001b[0m\n"
      ]
     },
     "metadata": {},
     "output_type": "display_data"
    }
   ],
   "source": [
    "df = pd.read_parquet('../results/logs_complete.parquet')\n",
    "df = normalize_logs(df)\n",
    "if 'set' not in df.columns:\n",
    "    df[\"set\"] = '0'\n",
    "df = get_interpolated_performance_df(df, n_points=50)\n"
   ]
  },
  {
   "cell_type": "code",
   "execution_count": 127,
   "id": "21408516",
   "metadata": {},
   "outputs": [
    {
     "data": {
      "text/plain": [
       "(3099372, 14)"
      ]
     },
     "execution_count": 127,
     "metadata": {},
     "output_type": "execute_result"
    }
   ],
   "source": [
    "df.shape"
   ]
  },
  {
   "cell_type": "code",
   "execution_count": 128,
   "id": "5416e738",
   "metadata": {},
   "outputs": [],
   "source": [
    "# # do prepocessing and create subsets: train/test etc.\n",
    "# df_train = df[df['subset_id']=='dev']\n",
    "# df_test = df[df['subset_id']=='test']"
   ]
  },
  {
   "cell_type": "code",
   "execution_count": 129,
   "id": "5b1ff3a9",
   "metadata": {},
   "outputs": [],
   "source": [
    "def expand_optimizer_id(df: pd.DataFrame, optimizer_id_col: str = 'optimizer_id') -> pd.DataFrame:\n",
    "    def parse_optimizer_id(opt_id: str) -> dict:\n",
    "        info = {\n",
    "            'hpi_method': None,\n",
    "            'adjust_cs': None,\n",
    "            'cs_method': 'no',\n",
    "            'adjust_pc': 'False',\n",
    "            'pc_method': 'False',\n",
    "            'thresh': None,\n",
    "            'adjust_method': None\n",
    "        }\n",
    "        parts = opt_id.split('_')\n",
    "        info['hpi_method'] = parts[0]\n",
    "        \n",
    "        if 'cs' in parts:\n",
    "            info['cs_method'] = parts[parts.index('cs')+1]\n",
    "        if info['cs_method']!='no':\n",
    "            info['adjust_cs'] = 'True'\n",
    "            info['adjust_method'] = 'adjust_cs_only'\n",
    "        if 'cs_proba_hpi' in opt_id:\n",
    "            info['adjust_cs'] = 'cs_proba_hpi'\n",
    "        if 'set_to' in opt_id:\n",
    "            info['adjust_pc'] = ' '.join(parts[parts.index('cfgs')+1:parts.index('cfgs')+3])\n",
    "            info['pc_method'] = parts[parts.index('to')+1]\n",
    "            if info['adjust_method'] == 'adjust_cs_only':\n",
    "                info['adjust_method'] = 'both'\n",
    "            else:\n",
    "                info['adjust_method'] = 'adjust_pc_only'\n",
    "        if 'thresh' in parts:\n",
    "            info['thresh'] = parts[parts.index('thresh')+1]\n",
    "        \n",
    "        return info\n",
    "\n",
    "    # Apply the parser to each row\n",
    "    parsed = df[optimizer_id_col].apply(parse_optimizer_id)\n",
    "    parsed_df = pd.DataFrame(parsed.tolist())\n",
    "\n",
    "    # Merge with the original DataFrame\n",
    "    return pd.concat([df, parsed_df], axis=1)\n",
    "\n",
    "def check_if_complete_for_max_trials(in_df):\n",
    "    max_trials = in_df['n_trials_norm'].max()\n",
    "    filtered_df = in_df[in_df['n_trials_norm'] == max_trials]\n",
    "    miss_dict = {}\n",
    "    seeds = filtered_df['seed'].unique()\n",
    "    expected_combinations = set(itertools.product(tasks[in_df['benchmark_id'].iloc[0]], [max_trials], seeds))\n",
    "    incomplete = False\n",
    "    for optimizer_id, group in filtered_df.groupby('optimizer_id'):\n",
    "        actual_combinations = set(group[['task_id', 'n_trials_norm', 'seed']].itertuples(index=False, name=None))\n",
    "        missing = expected_combinations - actual_combinations\n",
    "        if missing:\n",
    "            print(f\"Optimizer {optimizer_id} is not complete for max n_trials_norm = {max_trials}: {len(missing)} combinations missing.\")\n",
    "            miss_dict[optimizer_id] = missing\n",
    "            incomplete = True\n",
    "    if not incomplete:\n",
    "        print('All data complete!')\n",
    "        return None\n",
    "    return miss_dict\n",
    "\n",
    "def read_data(path):\n",
    "    df = pd.read_parquet(path)\n",
    "    df = normalize_logs(df)\n",
    "    df['n_trials_norm'] = df.groupby('experiment_id')['time'].rank(method='dense', pct=True).round(2)\n",
    "    if 'set' not in df.columns:\n",
    "        df[\"set\"] = '0'\n",
    "    df_random = df[df['optimizer_id'].str.startswith('random_')]\n",
    "    df = df[~df['optimizer_id'].str.startswith('random_')]\n",
    "    # check_if_complete_for_max_trials(df)\n",
    "    return df, df_random\n",
    "\n",
    "def get_perf(df):\n",
    "    perf = get_interpolated_performance_df(df, n_points=50)\n",
    "    # missing = check_if_complete_for_max_trials(df)\n",
    "    perf = expand_optimizer_id(perf)\n",
    "    # perf = perf[perf['adjust_method'].notna()]\n",
    "    return perf"
   ]
  },
  {
   "cell_type": "code",
   "execution_count": 130,
   "id": "7782c8a8",
   "metadata": {},
   "outputs": [],
   "source": [
    "df = expand_optimizer_id(df)"
   ]
  },
  {
   "cell_type": "code",
   "execution_count": 131,
   "id": "10e0e79e",
   "metadata": {},
   "outputs": [],
   "source": [
    "task = 'all'\n",
    "figure_dir = f\"figures_{task}\"\n",
    "# df = df[df['task_id'].str.contains(task)]"
   ]
  },
  {
   "cell_type": "markdown",
   "id": "c0cafa0c",
   "metadata": {},
   "source": [
    "# Ablation"
   ]
  },
  {
   "cell_type": "code",
   "execution_count": 132,
   "id": "33e02a6d",
   "metadata": {},
   "outputs": [],
   "source": [
    "def plot_one_thing(thing, df_plot=None):\n",
    "    if df_plot is None:\n",
    "        df_plot = df.copy(deep=True)\n",
    "        df_plot = df_plot[df_plot['optimizer_id']!='SMAC3-MO-RF']\n",
    "        df_plot['optimizer_id'] = df_plot[thing]\n",
    "        df_plot = df_plot[df_plot['optimizer_id'].notna()]\n",
    "        # df_plot = pd.concat([df_plot, base], ignore_index=True)\n",
    "        plot_performance_per_task(df_plot, output_dir=f\"figure_dir/ablation/{thing}\", replot=True)\n",
    "        if len(df_plot['optimizer_id'].unique()) > 2:\n",
    "            plot_critical_difference(df_plot, output_dir=f\"figure_dir/ablation/{thing}\", replot=True)\n",
    "            plot_finalperfbarplot(df_plot, output_dir=f\"figure_dir/ablation/{thing}\", replot=True)\n",
    "            plot_ranks_over_time(df_plot, output_dir=f\"figure_dir/ablation/{thing}\", replot=True)\n",
    "\n",
    "    # Average over tasks\n",
    "    avg_task = df_plot.groupby([\"optimizer_id\", \"seed\", \"n_trials_norm\"]).agg(\n",
    "        mean_perf=(\"trial_value__cost_inc_norm\", \"mean\")\n",
    "    ).reset_index()\n",
    "\n",
    "    # Average over seeds\n",
    "    avg_seed = avg_task.groupby([\"optimizer_id\", \"n_trials_norm\"]).agg(\n",
    "        mean=(\"mean_perf\", \"mean\"),\n",
    "        sem=(\"mean_perf\", \"sem\")\n",
    "    ).reset_index()\n",
    "\n",
    "    auc_per_seed = (\n",
    "        df_plot.groupby([\"optimizer_id\", \"seed\"])\n",
    "        .apply(lambda group: trapz(group.sort_values(\"n_trials_norm\")[\"trial_value__cost_inc_norm\"],\n",
    "                                   group.sort_values(\"n_trials_norm\")[\"n_trials_norm\"]))\n",
    "        .reset_index(name=\"auc\")\n",
    "    )\n",
    "\n",
    "    # Compute mean and sem AUC per optimizer\n",
    "    auc_values = auc_per_seed.groupby(\"optimizer_id\").agg(\n",
    "        mean=('auc', 'mean'),\n",
    "        sem=('auc', 'sem')\n",
    "    ).sort_values(\"mean\", ascending=False).reset_index()\n",
    "\n",
    "\n",
    "    fig = make_subplots(\n",
    "        rows=1, cols=2,\n",
    "        # subplot_titles=(\"Performance over Time (Normalized)\", \"AUC per Optimizer\"),\n",
    "        column_widths=[0.6, 0.4],\n",
    "        horizontal_spacing=0.15\n",
    "    )\n",
    "    colors = px.colors.qualitative.Set1\n",
    "    # Line plot with shaded error (left)\n",
    "    print(avg_seed[\"optimizer_id\"].unique())\n",
    "    for i, optimizer in enumerate(avg_seed[\"optimizer_id\"].unique()):\n",
    "        df_opt = avg_seed[avg_seed[\"optimizer_id\"] == optimizer]\n",
    "        \n",
    "        line_color = colors[i % len(colors)]\n",
    "\n",
    "        # Mean line\n",
    "        fig.add_trace(go.Scatter(\n",
    "            x=df_opt[\"n_trials_norm\"],\n",
    "            y=df_opt[\"mean\"],\n",
    "            mode=\"lines\",\n",
    "            name=optimizer,\n",
    "            line=dict(width=2, color=line_color),\n",
    "        ), row=1, col=1)\n",
    "\n",
    "        # Shaded error (sem)\n",
    "        fig.add_trace(go.Scatter(\n",
    "            x=pd.concat([df_opt[\"n_trials_norm\"], df_opt[\"n_trials_norm\"][::-1]]),\n",
    "            y=pd.concat([\n",
    "                df_opt[\"mean\"] - df_opt[\"sem\"],\n",
    "                (df_opt[\"mean\"] + df_opt[\"sem\"])[::-1]\n",
    "            ]),\n",
    "            fill='toself',\n",
    "            fillcolor=line_color.replace(')', ',0.1)').replace('rgb', 'rgba'),\n",
    "            line=dict(color='rgba(255,255,255,0)'),\n",
    "            hoverinfo=\"skip\",\n",
    "            showlegend=False\n",
    "        ), row=1, col=1)\n",
    "\n",
    "    # Bar chart with error bars (right)\n",
    "    fig.add_trace(go.Bar(\n",
    "        x=auc_values[\"mean\"],\n",
    "        y=auc_values[\"optimizer_id\"],\n",
    "        orientation=\"h\",\n",
    "        error_x=dict(type='data', array=auc_values[\"sem\"]),\n",
    "        marker=dict(color=\"skyblue\", line=dict(color=\"black\", width=1)),\n",
    "        showlegend=False\n",
    "    ), row=1, col=2)\n",
    "\n",
    "    # -------------------------\n",
    "    # 3. Layout & Font\n",
    "    # -------------------------\n",
    "\n",
    "    fig.update_layout(\n",
    "        height=400,\n",
    "        width=1800,\n",
    "        template=\"plotly_white\",\n",
    "        font=dict(size=16),\n",
    "        legend=dict(title=\"Optimizers\", font=dict(size=16)),\n",
    "        margin=dict(t=60, l=50, r=50, b=50)\n",
    "    )\n",
    "\n",
    "    fig.update_xaxes(title_text=\"Normalized Trials\", row=1, col=1)\n",
    "    fig.update_yaxes(title_text=\"Normalized Inc-Performance\", row=1, col=1)\n",
    "    fig.update_xaxes(title_text=\"AUC\", row=1, col=2)\n",
    "    fig.update_yaxes(title_text=\"Optimizer\", row=1, col=2)\n",
    "\n",
    "    fig.show()\n"
   ]
  },
  {
   "cell_type": "code",
   "execution_count": 133,
   "id": "7ebd7939",
   "metadata": {},
   "outputs": [
    {
     "name": "stdout",
     "output_type": "stream",
     "text": [
      "['fanova']\n"
     ]
    },
    {
     "name": "stderr",
     "output_type": "stream",
     "text": [
      "/tmp/ipykernel_27098/3449863810.py:27: DeprecationWarning:\n",
      "\n",
      "DataFrameGroupBy.apply operated on the grouping columns. This behavior is deprecated, and in a future version of pandas the grouping columns will be excluded from the operation. Either pass `include_groups=False` to exclude the groupings or explicitly select the grouping columns after groupby to silence this warning.\n",
      "\n"
     ]
    },
    {
     "data": {
      "application/vnd.plotly.v1+json": {
       "config": {
        "plotlyServerURL": "https://plot.ly"
       },
       "data": [
        {
         "line": {
          "color": "rgb(228,26,28)",
          "width": 2
         },
         "mode": "lines",
         "name": "fanova",
         "type": "scatter",
         "x": {
          "bdata": "AAAAAAAAAAB7FK5H4XqUP3sUrkfheqQ/uB6F61G4rj97FK5H4Xq0P5qZmZmZmbk/uB6F61G4vj/sUbgehevBP3sUrkfhesQ/CtejcD0Kxz+amZmZmZnJPylcj8L1KMw/uB6F61G4zj+kcD0K16PQP+xRuB6F69E/MzMzMzMz0z97FK5H4XrUP8P1KFyPwtU/CtejcD0K1z9SuB6F61HYP5qZmZmZmdk/4XoUrkfh2j8pXI/C9SjcP3E9CtejcN0/uB6F61G43j8AAAAAAADgP6RwPQrXo+A/SOF6FK5H4T/sUbgehevhP4/C9Shcj+I/MzMzMzMz4z/Xo3A9CtfjP3sUrkfheuQ/H4XrUbge5T/D9Shcj8LlP2dmZmZmZuY/CtejcD0K5z+uR+F6FK7nP1K4HoXrUeg/9ihcj8L16D+amZmZmZnpPz4K16NwPeo/4XoUrkfh6j+F61G4HoXrPylcj8L1KOw/zczMzMzM7D9xPQrXo3DtPxWuR+F6FO4/uB6F61G47j9cj8L1KFzvPwAAAAAAAPA/",
          "dtype": "f8"
         },
         "xaxis": "x",
         "y": {
          "bdata": "/d/WtJaC6D+3fsXuzwDfP3zGxaEyrNo/AHRfl/0h1z+5MPQCStfUPyOvLYz5fdM/0WK34q980j+IQpRqTL3RP76ZU+H2zdA/bEDA9ziszz9hOrl2l0DOP82fIwHIbs0/v6owRyWFzD81qHOVq4vLPz1HfRwC58o/HzGGexVKyj8o4uZuLMXJP6fADxGrUsk/WOjSFlXPyD/PmX1cy1nIPxURVySU5cc/aMYY7VZvxz/4VAc++wTHPzR57l7xo8Y/AVofUDJExj8I+XcJCerFP30QtwSLm8U/cdzhlGtJxT+v8jwdfwHFP4cJSUbLtMQ/BNogAm1sxD+sv3EXIC3EP7/YZqj46sM/+4FCpKSzwz9MiLGCU37DP0ADykfVN8M/+dFn8dcDwz9riUUAiNPCP5wQY2ZepMI/aPUIagV4wj9N7ZcpQkPCP+oe8br2FsI/fwfCi/7uwT9UIl8dl73BP7j+9TmnksE/BApDOZhqwT8kvjYVdj3BP6N+B5mcF8E/Zc6otD3rwD+7Zw38z8DAP63JPTxZn8A/",
          "dtype": "f8"
         },
         "yaxis": "y"
        },
        {
         "fill": "toself",
         "fillcolor": "rgba(228,26,28,0.1)",
         "hoverinfo": "skip",
         "line": {
          "color": "rgba(255,255,255,0)"
         },
         "showlegend": false,
         "type": "scatter",
         "x": {
          "bdata": "AAAAAAAAAAB7FK5H4XqUP3sUrkfheqQ/uB6F61G4rj97FK5H4Xq0P5qZmZmZmbk/uB6F61G4vj/sUbgehevBP3sUrkfhesQ/CtejcD0Kxz+amZmZmZnJPylcj8L1KMw/uB6F61G4zj+kcD0K16PQP+xRuB6F69E/MzMzMzMz0z97FK5H4XrUP8P1KFyPwtU/CtejcD0K1z9SuB6F61HYP5qZmZmZmdk/4XoUrkfh2j8pXI/C9SjcP3E9CtejcN0/uB6F61G43j8AAAAAAADgP6RwPQrXo+A/SOF6FK5H4T/sUbgehevhP4/C9Shcj+I/MzMzMzMz4z/Xo3A9CtfjP3sUrkfheuQ/H4XrUbge5T/D9Shcj8LlP2dmZmZmZuY/CtejcD0K5z+uR+F6FK7nP1K4HoXrUeg/9ihcj8L16D+amZmZmZnpPz4K16NwPeo/4XoUrkfh6j+F61G4HoXrPylcj8L1KOw/zczMzMzM7D9xPQrXo3DtPxWuR+F6FO4/uB6F61G47j9cj8L1KFzvPwAAAAAAAPA/AAAAAAAA8D9cj8L1KFzvP7gehetRuO4/Fa5H4XoU7j9xPQrXo3DtP83MzMzMzOw/KVyPwvUo7D+F61G4HoXrP+F6FK5H4eo/PgrXo3A96j+amZmZmZnpP/YoXI/C9eg/UrgehetR6D+uR+F6FK7nPwrXo3A9Cuc/Z2ZmZmZm5j/D9Shcj8LlPx+F61G4HuU/exSuR+F65D/Xo3A9CtfjPzMzMzMzM+M/j8L1KFyP4j/sUbgehevhP0jhehSuR+E/pHA9Ctej4D8AAAAAAADgP7gehetRuN4/cT0K16Nw3T8pXI/C9SjcP+F6FK5H4do/mpmZmZmZ2T9SuB6F61HYPwrXo3A9Ctc/w/UoXI/C1T97FK5H4XrUPzMzMzMzM9M/7FG4HoXr0T+kcD0K16PQP7gehetRuM4/KVyPwvUozD+amZmZmZnJPwrXo3A9Csc/exSuR+F6xD/sUbgehevBP7gehetRuL4/mpmZmZmZuT97FK5H4Xq0P7gehetRuK4/exSuR+F6pD97FK5H4XqUPwAAAAAAAAAA",
          "dtype": "f8"
         },
         "xaxis": "x",
         "y": {
          "bdata": "+9gPMUWJ5z+RNTJKjYDdP/DVioQPGtk/jfn3C4/R1T+1Fc2fUWnTP+rUgA+8V9I/Ed4fhtcl0T/UElyaPpbQP4vxKwLUb88/iQXib4xYzT9r0i9FyRnMP9EuDuzLPMs/e+PlR/tkyj/WYAbdn3vJPyw0k2Kn+8g/FQvZ5PtpyD+qNpUxOurHP5RNuJYCjsc/065ml5wZxz9efz2fD7TGPzeXS62mSsY/UIo562zkxT999bNB4n7FP/Zhy5piJ8U/9iNytaTPxD8SSciwvnnEP06ukwv9LcQ/b7lStrbdwz+f1WDVJZvDP3CMON4LWcM/jo4odlkWwz+HPYoCgNrCP1jnr9/1nsI/w5WgAM9wwj/L3SeKZDzCP3cXUGo1+cE/9NDSTNbHwT8vytfHqZ7BP5nGtB60c8E/2YfNj/dIwT87zMTJDRrBP7250qr29MA/k/igyA/PwD/2zLNJ2KHAP59wcoqdecA/FB84g5NUwD92r+P2MSrAP/HNKmkqBsA/Zdl/G6G8vz9TWwYij2y/P8FG2U4lM78/+u8O0R+lwT/NoRdnWMvBPxiwkdsq+ME/VS/kyA4pwj/SzIkzulDCP/T0Te+cgMI/0Yx56bCrwj+ydwrxVdnCP2sW407tDsM/F4QPy/Y4wz9fDmuJdmzDP/diREQTp8M/n1oRrgjVwz+nSLM4ZgjEP/7S/JXZP8Q/Ce9DJXV2xD/NMjt7QsDEPzNu5Ed69sQ/Jsodcfs2xT/RQVkswH/FP3olGY6AwsU/noZZrooQxj+/Dxll2GfGP3P/cHMgtcY/rHLa/RgJxz/+qCdiU1rHPwyQzOq/uMc/cpARI4AgyD9ztFo6FIvIP4AC+O5A+sg/84pim4GAyT9AtL0Zh//JP90hP5YNhco/ujNni1MXyz+mjTisHqDLPylXMxIvKsw/Tlpn1lzSzD+U7+BNt5vNPwNye0ZPpc4/yRA5FsSgzz8sUSHUsjPQP6g9z7/y/9A/tjqRwQPk0T88csw6WuTSP5HnTj+I09M/XInaCDek1D+9SxtmQkXWP3PuxiJsctg/CLcAv1U+3D/vY6xJiUDgP//mnTjoe+k/",
          "dtype": "f8"
         },
         "yaxis": "y"
        },
        {
         "error_x": {
          "array": {
           "bdata": "Wr8jLLq6VT8=",
           "dtype": "f8"
          },
          "type": "data"
         },
         "marker": {
          "color": "skyblue",
          "line": {
           "color": "black",
           "width": 1
          }
         },
         "orientation": "h",
         "showlegend": false,
         "type": "bar",
         "x": {
          "bdata": "IKUzswtKxz8=",
          "dtype": "f8"
         },
         "xaxis": "x2",
         "y": [
          "fanova"
         ],
         "yaxis": "y2"
        }
       ],
       "layout": {
        "font": {
         "size": 16
        },
        "height": 400,
        "legend": {
         "font": {
          "size": 16
         },
         "title": {
          "text": "Optimizers"
         }
        },
        "margin": {
         "b": 50,
         "l": 50,
         "r": 50,
         "t": 60
        },
        "template": {
         "data": {
          "bar": [
           {
            "error_x": {
             "color": "#2a3f5f"
            },
            "error_y": {
             "color": "#2a3f5f"
            },
            "marker": {
             "line": {
              "color": "white",
              "width": 0.5
             },
             "pattern": {
              "fillmode": "overlay",
              "size": 10,
              "solidity": 0.2
             }
            },
            "type": "bar"
           }
          ],
          "barpolar": [
           {
            "marker": {
             "line": {
              "color": "white",
              "width": 0.5
             },
             "pattern": {
              "fillmode": "overlay",
              "size": 10,
              "solidity": 0.2
             }
            },
            "type": "barpolar"
           }
          ],
          "carpet": [
           {
            "aaxis": {
             "endlinecolor": "#2a3f5f",
             "gridcolor": "#C8D4E3",
             "linecolor": "#C8D4E3",
             "minorgridcolor": "#C8D4E3",
             "startlinecolor": "#2a3f5f"
            },
            "baxis": {
             "endlinecolor": "#2a3f5f",
             "gridcolor": "#C8D4E3",
             "linecolor": "#C8D4E3",
             "minorgridcolor": "#C8D4E3",
             "startlinecolor": "#2a3f5f"
            },
            "type": "carpet"
           }
          ],
          "choropleth": [
           {
            "colorbar": {
             "outlinewidth": 0,
             "ticks": ""
            },
            "type": "choropleth"
           }
          ],
          "contour": [
           {
            "colorbar": {
             "outlinewidth": 0,
             "ticks": ""
            },
            "colorscale": [
             [
              0,
              "#0d0887"
             ],
             [
              0.1111111111111111,
              "#46039f"
             ],
             [
              0.2222222222222222,
              "#7201a8"
             ],
             [
              0.3333333333333333,
              "#9c179e"
             ],
             [
              0.4444444444444444,
              "#bd3786"
             ],
             [
              0.5555555555555556,
              "#d8576b"
             ],
             [
              0.6666666666666666,
              "#ed7953"
             ],
             [
              0.7777777777777778,
              "#fb9f3a"
             ],
             [
              0.8888888888888888,
              "#fdca26"
             ],
             [
              1,
              "#f0f921"
             ]
            ],
            "type": "contour"
           }
          ],
          "contourcarpet": [
           {
            "colorbar": {
             "outlinewidth": 0,
             "ticks": ""
            },
            "type": "contourcarpet"
           }
          ],
          "heatmap": [
           {
            "colorbar": {
             "outlinewidth": 0,
             "ticks": ""
            },
            "colorscale": [
             [
              0,
              "#0d0887"
             ],
             [
              0.1111111111111111,
              "#46039f"
             ],
             [
              0.2222222222222222,
              "#7201a8"
             ],
             [
              0.3333333333333333,
              "#9c179e"
             ],
             [
              0.4444444444444444,
              "#bd3786"
             ],
             [
              0.5555555555555556,
              "#d8576b"
             ],
             [
              0.6666666666666666,
              "#ed7953"
             ],
             [
              0.7777777777777778,
              "#fb9f3a"
             ],
             [
              0.8888888888888888,
              "#fdca26"
             ],
             [
              1,
              "#f0f921"
             ]
            ],
            "type": "heatmap"
           }
          ],
          "histogram": [
           {
            "marker": {
             "pattern": {
              "fillmode": "overlay",
              "size": 10,
              "solidity": 0.2
             }
            },
            "type": "histogram"
           }
          ],
          "histogram2d": [
           {
            "colorbar": {
             "outlinewidth": 0,
             "ticks": ""
            },
            "colorscale": [
             [
              0,
              "#0d0887"
             ],
             [
              0.1111111111111111,
              "#46039f"
             ],
             [
              0.2222222222222222,
              "#7201a8"
             ],
             [
              0.3333333333333333,
              "#9c179e"
             ],
             [
              0.4444444444444444,
              "#bd3786"
             ],
             [
              0.5555555555555556,
              "#d8576b"
             ],
             [
              0.6666666666666666,
              "#ed7953"
             ],
             [
              0.7777777777777778,
              "#fb9f3a"
             ],
             [
              0.8888888888888888,
              "#fdca26"
             ],
             [
              1,
              "#f0f921"
             ]
            ],
            "type": "histogram2d"
           }
          ],
          "histogram2dcontour": [
           {
            "colorbar": {
             "outlinewidth": 0,
             "ticks": ""
            },
            "colorscale": [
             [
              0,
              "#0d0887"
             ],
             [
              0.1111111111111111,
              "#46039f"
             ],
             [
              0.2222222222222222,
              "#7201a8"
             ],
             [
              0.3333333333333333,
              "#9c179e"
             ],
             [
              0.4444444444444444,
              "#bd3786"
             ],
             [
              0.5555555555555556,
              "#d8576b"
             ],
             [
              0.6666666666666666,
              "#ed7953"
             ],
             [
              0.7777777777777778,
              "#fb9f3a"
             ],
             [
              0.8888888888888888,
              "#fdca26"
             ],
             [
              1,
              "#f0f921"
             ]
            ],
            "type": "histogram2dcontour"
           }
          ],
          "mesh3d": [
           {
            "colorbar": {
             "outlinewidth": 0,
             "ticks": ""
            },
            "type": "mesh3d"
           }
          ],
          "parcoords": [
           {
            "line": {
             "colorbar": {
              "outlinewidth": 0,
              "ticks": ""
             }
            },
            "type": "parcoords"
           }
          ],
          "pie": [
           {
            "automargin": true,
            "type": "pie"
           }
          ],
          "scatter": [
           {
            "fillpattern": {
             "fillmode": "overlay",
             "size": 10,
             "solidity": 0.2
            },
            "type": "scatter"
           }
          ],
          "scatter3d": [
           {
            "line": {
             "colorbar": {
              "outlinewidth": 0,
              "ticks": ""
             }
            },
            "marker": {
             "colorbar": {
              "outlinewidth": 0,
              "ticks": ""
             }
            },
            "type": "scatter3d"
           }
          ],
          "scattercarpet": [
           {
            "marker": {
             "colorbar": {
              "outlinewidth": 0,
              "ticks": ""
             }
            },
            "type": "scattercarpet"
           }
          ],
          "scattergeo": [
           {
            "marker": {
             "colorbar": {
              "outlinewidth": 0,
              "ticks": ""
             }
            },
            "type": "scattergeo"
           }
          ],
          "scattergl": [
           {
            "marker": {
             "colorbar": {
              "outlinewidth": 0,
              "ticks": ""
             }
            },
            "type": "scattergl"
           }
          ],
          "scattermap": [
           {
            "marker": {
             "colorbar": {
              "outlinewidth": 0,
              "ticks": ""
             }
            },
            "type": "scattermap"
           }
          ],
          "scattermapbox": [
           {
            "marker": {
             "colorbar": {
              "outlinewidth": 0,
              "ticks": ""
             }
            },
            "type": "scattermapbox"
           }
          ],
          "scatterpolar": [
           {
            "marker": {
             "colorbar": {
              "outlinewidth": 0,
              "ticks": ""
             }
            },
            "type": "scatterpolar"
           }
          ],
          "scatterpolargl": [
           {
            "marker": {
             "colorbar": {
              "outlinewidth": 0,
              "ticks": ""
             }
            },
            "type": "scatterpolargl"
           }
          ],
          "scatterternary": [
           {
            "marker": {
             "colorbar": {
              "outlinewidth": 0,
              "ticks": ""
             }
            },
            "type": "scatterternary"
           }
          ],
          "surface": [
           {
            "colorbar": {
             "outlinewidth": 0,
             "ticks": ""
            },
            "colorscale": [
             [
              0,
              "#0d0887"
             ],
             [
              0.1111111111111111,
              "#46039f"
             ],
             [
              0.2222222222222222,
              "#7201a8"
             ],
             [
              0.3333333333333333,
              "#9c179e"
             ],
             [
              0.4444444444444444,
              "#bd3786"
             ],
             [
              0.5555555555555556,
              "#d8576b"
             ],
             [
              0.6666666666666666,
              "#ed7953"
             ],
             [
              0.7777777777777778,
              "#fb9f3a"
             ],
             [
              0.8888888888888888,
              "#fdca26"
             ],
             [
              1,
              "#f0f921"
             ]
            ],
            "type": "surface"
           }
          ],
          "table": [
           {
            "cells": {
             "fill": {
              "color": "#EBF0F8"
             },
             "line": {
              "color": "white"
             }
            },
            "header": {
             "fill": {
              "color": "#C8D4E3"
             },
             "line": {
              "color": "white"
             }
            },
            "type": "table"
           }
          ]
         },
         "layout": {
          "annotationdefaults": {
           "arrowcolor": "#2a3f5f",
           "arrowhead": 0,
           "arrowwidth": 1
          },
          "autotypenumbers": "strict",
          "coloraxis": {
           "colorbar": {
            "outlinewidth": 0,
            "ticks": ""
           }
          },
          "colorscale": {
           "diverging": [
            [
             0,
             "#8e0152"
            ],
            [
             0.1,
             "#c51b7d"
            ],
            [
             0.2,
             "#de77ae"
            ],
            [
             0.3,
             "#f1b6da"
            ],
            [
             0.4,
             "#fde0ef"
            ],
            [
             0.5,
             "#f7f7f7"
            ],
            [
             0.6,
             "#e6f5d0"
            ],
            [
             0.7,
             "#b8e186"
            ],
            [
             0.8,
             "#7fbc41"
            ],
            [
             0.9,
             "#4d9221"
            ],
            [
             1,
             "#276419"
            ]
           ],
           "sequential": [
            [
             0,
             "#0d0887"
            ],
            [
             0.1111111111111111,
             "#46039f"
            ],
            [
             0.2222222222222222,
             "#7201a8"
            ],
            [
             0.3333333333333333,
             "#9c179e"
            ],
            [
             0.4444444444444444,
             "#bd3786"
            ],
            [
             0.5555555555555556,
             "#d8576b"
            ],
            [
             0.6666666666666666,
             "#ed7953"
            ],
            [
             0.7777777777777778,
             "#fb9f3a"
            ],
            [
             0.8888888888888888,
             "#fdca26"
            ],
            [
             1,
             "#f0f921"
            ]
           ],
           "sequentialminus": [
            [
             0,
             "#0d0887"
            ],
            [
             0.1111111111111111,
             "#46039f"
            ],
            [
             0.2222222222222222,
             "#7201a8"
            ],
            [
             0.3333333333333333,
             "#9c179e"
            ],
            [
             0.4444444444444444,
             "#bd3786"
            ],
            [
             0.5555555555555556,
             "#d8576b"
            ],
            [
             0.6666666666666666,
             "#ed7953"
            ],
            [
             0.7777777777777778,
             "#fb9f3a"
            ],
            [
             0.8888888888888888,
             "#fdca26"
            ],
            [
             1,
             "#f0f921"
            ]
           ]
          },
          "colorway": [
           "#636efa",
           "#EF553B",
           "#00cc96",
           "#ab63fa",
           "#FFA15A",
           "#19d3f3",
           "#FF6692",
           "#B6E880",
           "#FF97FF",
           "#FECB52"
          ],
          "font": {
           "color": "#2a3f5f"
          },
          "geo": {
           "bgcolor": "white",
           "lakecolor": "white",
           "landcolor": "white",
           "showlakes": true,
           "showland": true,
           "subunitcolor": "#C8D4E3"
          },
          "hoverlabel": {
           "align": "left"
          },
          "hovermode": "closest",
          "mapbox": {
           "style": "light"
          },
          "paper_bgcolor": "white",
          "plot_bgcolor": "white",
          "polar": {
           "angularaxis": {
            "gridcolor": "#EBF0F8",
            "linecolor": "#EBF0F8",
            "ticks": ""
           },
           "bgcolor": "white",
           "radialaxis": {
            "gridcolor": "#EBF0F8",
            "linecolor": "#EBF0F8",
            "ticks": ""
           }
          },
          "scene": {
           "xaxis": {
            "backgroundcolor": "white",
            "gridcolor": "#DFE8F3",
            "gridwidth": 2,
            "linecolor": "#EBF0F8",
            "showbackground": true,
            "ticks": "",
            "zerolinecolor": "#EBF0F8"
           },
           "yaxis": {
            "backgroundcolor": "white",
            "gridcolor": "#DFE8F3",
            "gridwidth": 2,
            "linecolor": "#EBF0F8",
            "showbackground": true,
            "ticks": "",
            "zerolinecolor": "#EBF0F8"
           },
           "zaxis": {
            "backgroundcolor": "white",
            "gridcolor": "#DFE8F3",
            "gridwidth": 2,
            "linecolor": "#EBF0F8",
            "showbackground": true,
            "ticks": "",
            "zerolinecolor": "#EBF0F8"
           }
          },
          "shapedefaults": {
           "line": {
            "color": "#2a3f5f"
           }
          },
          "ternary": {
           "aaxis": {
            "gridcolor": "#DFE8F3",
            "linecolor": "#A2B1C6",
            "ticks": ""
           },
           "baxis": {
            "gridcolor": "#DFE8F3",
            "linecolor": "#A2B1C6",
            "ticks": ""
           },
           "bgcolor": "white",
           "caxis": {
            "gridcolor": "#DFE8F3",
            "linecolor": "#A2B1C6",
            "ticks": ""
           }
          },
          "title": {
           "x": 0.05
          },
          "xaxis": {
           "automargin": true,
           "gridcolor": "#EBF0F8",
           "linecolor": "#EBF0F8",
           "ticks": "",
           "title": {
            "standoff": 15
           },
           "zerolinecolor": "#EBF0F8",
           "zerolinewidth": 2
          },
          "yaxis": {
           "automargin": true,
           "gridcolor": "#EBF0F8",
           "linecolor": "#EBF0F8",
           "ticks": "",
           "title": {
            "standoff": 15
           },
           "zerolinecolor": "#EBF0F8",
           "zerolinewidth": 2
          }
         }
        },
        "width": 1800,
        "xaxis": {
         "anchor": "y",
         "domain": [
          0,
          0.51
         ],
         "title": {
          "text": "Normalized Trials"
         }
        },
        "xaxis2": {
         "anchor": "y2",
         "domain": [
          0.66,
          1
         ],
         "title": {
          "text": "AUC"
         }
        },
        "yaxis": {
         "anchor": "x",
         "domain": [
          0,
          1
         ],
         "title": {
          "text": "Normalized Inc-Performance"
         }
        },
        "yaxis2": {
         "anchor": "x2",
         "domain": [
          0,
          1
         ],
         "title": {
          "text": "Optimizer"
         }
        }
       }
      }
     },
     "metadata": {},
     "output_type": "display_data"
    }
   ],
   "source": [
    "# Which HPI method\n",
    "plot_one_thing('hpi_method')"
   ]
  },
  {
   "cell_type": "code",
   "execution_count": 134,
   "id": "d90ae2d8",
   "metadata": {},
   "outputs": [
    {
     "name": "stderr",
     "output_type": "stream",
     "text": [
      "/home/daphne/Code/hpi_parego/CARP-S/carps/analysis/generate_report.py:276: UserWarning:\n",
      "\n",
      "Result is not significant and results of the plot may be misleading!\n",
      "\n",
      "/home/daphne/Code/hpi_parego/CARP-S/carps/analysis/run_autorank.py:322: FutureWarning:\n",
      "\n",
      "Series.__getitem__ treating keys as positions is deprecated. In a future version, integer keys will always be treated as labels (consistent with DataFrame behavior). To access a value by position, use `ser.iloc[pos]`\n",
      "\n",
      "/home/daphne/Code/hpi_parego/CARP-S/carps/analysis/run_autorank.py:421: UserWarning:\n",
      "\n",
      "FigureCanvasAgg is non-interactive, and thus cannot be shown\n",
      "\n",
      "/home/daphne/Code/hpi_parego/CARP-S/carps/analysis/run_autorank.py:198: UserWarning:\n",
      "\n",
      "Result is not significant and results of the plot may be misleading!\n",
      "\n"
     ]
    },
    {
     "data": {
      "text/html": [
       "<pre style=\"white-space:pre;overflow-x:auto;line-height:normal;font-family:Menlo,'DejaVu Sans Mono',consolas,'Courier New',monospace\"><span style=\"color: #7fbfbf; text-decoration-color: #7fbfbf\">[16:30:34] </span><span style=\"color: #000080; text-decoration-color: #000080\">INFO    </span> Create dataframe for neat plotting by aligning x-axis <span style=\"color: #800080; text-decoration-color: #800080\">/</span> interpolating        <a href=\"file:///home/daphne/Code/hpi_parego/CARP-S/carps/analysis/gather_data.py\" target=\"_blank\"><span style=\"color: #7f7f7f; text-decoration-color: #7f7f7f\">gather_data.py</span></a><span style=\"color: #7f7f7f; text-decoration-color: #7f7f7f\">:</span><a href=\"file:///home/daphne/Code/hpi_parego/CARP-S/carps/analysis/gather_data.py#735\" target=\"_blank\"><span style=\"color: #7f7f7f; text-decoration-color: #7f7f7f\">735</span></a>\n",
       "<span style=\"color: #7fbfbf; text-decoration-color: #7fbfbf\">           </span>         budget.                                                                      <span style=\"color: #7f7f7f; text-decoration-color: #7f7f7f\">                  </span>\n",
       "</pre>\n"
      ],
      "text/plain": [
       "\u001b[2;36m[16:30:34]\u001b[0m\u001b[2;36m \u001b[0m\u001b[34mINFO    \u001b[0m Create dataframe for neat plotting by aligning x-axis \u001b[35m/\u001b[0m interpolating        \u001b]8;id=675835;file:///home/daphne/Code/hpi_parego/CARP-S/carps/analysis/gather_data.py\u001b\\\u001b[2mgather_data.py\u001b[0m\u001b]8;;\u001b\\\u001b[2m:\u001b[0m\u001b]8;id=385454;file:///home/daphne/Code/hpi_parego/CARP-S/carps/analysis/gather_data.py#735\u001b\\\u001b[2m735\u001b[0m\u001b]8;;\u001b\\\n",
       "\u001b[2;36m           \u001b[0m         budget.                                                                      \u001b[2m                  \u001b[0m\n"
      ]
     },
     "metadata": {},
     "output_type": "display_data"
    },
    {
     "name": "stderr",
     "output_type": "stream",
     "text": [
      "/home/daphne/Code/hpi_parego/CARP-S/carps/analysis/generate_report.py:108: UserWarning:\n",
      "\n",
      "Result is not significant and results of the plot may be misleading!\n",
      "\n",
      "/home/daphne/Code/hpi_parego/CARP-S/carps/analysis/generate_report.py:108: UserWarning:\n",
      "\n",
      "Result is not significant and results of the plot may be misleading!\n",
      "\n",
      "/home/daphne/Code/hpi_parego/CARP-S/carps/analysis/generate_report.py:108: UserWarning:\n",
      "\n",
      "Result is not significant and results of the plot may be misleading!\n",
      "\n",
      "/home/daphne/Code/hpi_parego/CARP-S/carps/analysis/generate_report.py:108: UserWarning:\n",
      "\n",
      "Result is not significant and results of the plot may be misleading!\n",
      "\n",
      "/home/daphne/Code/hpi_parego/CARP-S/carps/analysis/generate_report.py:108: UserWarning:\n",
      "\n",
      "Result is not significant and results of the plot may be misleading!\n",
      "\n",
      "/home/daphne/Code/hpi_parego/CARP-S/carps/analysis/generate_report.py:108: UserWarning:\n",
      "\n",
      "Result is not significant and results of the plot may be misleading!\n",
      "\n",
      "/home/daphne/Code/hpi_parego/CARP-S/carps/analysis/generate_report.py:108: UserWarning:\n",
      "\n",
      "Result is not significant and results of the plot may be misleading!\n",
      "\n",
      "/home/daphne/Code/hpi_parego/CARP-S/carps/analysis/generate_report.py:108: UserWarning:\n",
      "\n",
      "Result is not significant and results of the plot may be misleading!\n",
      "\n",
      "/home/daphne/Code/hpi_parego/CARP-S/carps/analysis/generate_report.py:108: UserWarning:\n",
      "\n",
      "Result is not significant and results of the plot may be misleading!\n",
      "\n",
      "/home/daphne/Code/hpi_parego/CARP-S/carps/analysis/generate_report.py:108: UserWarning:\n",
      "\n",
      "Result is not significant and results of the plot may be misleading!\n",
      "\n",
      "/home/daphne/Code/hpi_parego/CARP-S/carps/analysis/generate_report.py:108: UserWarning:\n",
      "\n",
      "Result is not significant and results of the plot may be misleading!\n",
      "\n",
      "/home/daphne/Code/hpi_parego/CARP-S/carps/analysis/generate_report.py:108: UserWarning:\n",
      "\n",
      "Result is not significant and results of the plot may be misleading!\n",
      "\n",
      "/home/daphne/Code/hpi_parego/CARP-S/carps/analysis/generate_report.py:108: UserWarning:\n",
      "\n",
      "Result is not significant and results of the plot may be misleading!\n",
      "\n",
      "/home/daphne/Code/hpi_parego/CARP-S/carps/analysis/generate_report.py:108: UserWarning:\n",
      "\n",
      "Result is not significant and results of the plot may be misleading!\n",
      "\n",
      "/home/daphne/Code/hpi_parego/CARP-S/carps/analysis/generate_report.py:108: UserWarning:\n",
      "\n",
      "Result is not significant and results of the plot may be misleading!\n",
      "\n",
      "/home/daphne/Code/hpi_parego/CARP-S/carps/analysis/generate_report.py:108: UserWarning:\n",
      "\n",
      "Result is not significant and results of the plot may be misleading!\n",
      "\n",
      "/home/daphne/Code/hpi_parego/CARP-S/carps/analysis/generate_report.py:108: UserWarning:\n",
      "\n",
      "Result is not significant and results of the plot may be misleading!\n",
      "\n",
      "/home/daphne/Code/hpi_parego/CARP-S/carps/analysis/generate_report.py:108: UserWarning:\n",
      "\n",
      "Result is not significant and results of the plot may be misleading!\n",
      "\n",
      "/home/daphne/Code/hpi_parego/CARP-S/carps/analysis/generate_report.py:108: UserWarning:\n",
      "\n",
      "Result is not significant and results of the plot may be misleading!\n",
      "\n"
     ]
    },
    {
     "name": "stdout",
     "output_type": "stream",
     "text": [
      "['0-075-0' '0-down' '0-down-0' '0-down-0-fine' '0-up-0' '05' '075' 'cos'\n",
      " 'down-0']\n"
     ]
    },
    {
     "name": "stderr",
     "output_type": "stream",
     "text": [
      "/tmp/ipykernel_27098/3449863810.py:27: DeprecationWarning:\n",
      "\n",
      "DataFrameGroupBy.apply operated on the grouping columns. This behavior is deprecated, and in a future version of pandas the grouping columns will be excluded from the operation. Either pass `include_groups=False` to exclude the groupings or explicitly select the grouping columns after groupby to silence this warning.\n",
      "\n"
     ]
    },
    {
     "data": {
      "application/vnd.plotly.v1+json": {
       "config": {
        "plotlyServerURL": "https://plot.ly"
       },
       "data": [
        {
         "line": {
          "color": "rgb(228,26,28)",
          "width": 2
         },
         "mode": "lines",
         "name": "0-075-0",
         "type": "scatter",
         "x": {
          "bdata": "AAAAAAAAAAB7FK5H4XqUP3sUrkfheqQ/uB6F61G4rj97FK5H4Xq0P5qZmZmZmbk/uB6F61G4vj/sUbgehevBP3sUrkfhesQ/CtejcD0Kxz+amZmZmZnJPylcj8L1KMw/uB6F61G4zj+kcD0K16PQP+xRuB6F69E/MzMzMzMz0z97FK5H4XrUP8P1KFyPwtU/CtejcD0K1z9SuB6F61HYP5qZmZmZmdk/4XoUrkfh2j8pXI/C9SjcP3E9CtejcN0/uB6F61G43j8AAAAAAADgP6RwPQrXo+A/SOF6FK5H4T/sUbgehevhP4/C9Shcj+I/MzMzMzMz4z/Xo3A9CtfjP3sUrkfheuQ/H4XrUbge5T/D9Shcj8LlP2dmZmZmZuY/CtejcD0K5z+uR+F6FK7nP1K4HoXrUeg/9ihcj8L16D+amZmZmZnpPz4K16NwPeo/4XoUrkfh6j+F61G4HoXrPylcj8L1KOw/zczMzMzM7D9xPQrXo3DtPxWuR+F6FO4/uB6F61G47j9cj8L1KFzvPwAAAAAAAPA/",
          "dtype": "f8"
         },
         "xaxis": "x",
         "y": {
          "bdata": "MJi6BtKC6D97MJmubwjfPyDlcs+ItNo/Vyz+LP8n1z92GaUuMN7UP5scXiafg9M/x2qkNqCC0j8pAKezOsHRP3al5LbE0NA/D5LDEoi2zz/lyBNvxkzOP83MvxaIe80/iEMytDyQzD+T08Xs05XLPz/NuKnX6Mo/eGU+aiRHyj+s5xxkGsvJP/GbyhJXV8k/Syxesw3YyD+JjAxsYl/IP6l+tj9y6cc/MHvXd5Ryxz8tMCX6oQ/HP5tJt4ARtMY/MJWxK/NWxj/Eh9lc2QbGPyBy+cWWtMU/xBalr+9bxT8xCTTRBRTFP5N3sHP7wMQ/kDn5NNN+xD8FRSsnFz/EPwUbO2X7/8M/p0juEv7Lwz/gwnsInJPDP8XiR+ZmT8M/MQAxfmUTwz+5q8e/0N7CPy0sqINisMI/YeSC9sqFwj9ZERNHeFDCP78Zqcn5H8I/MLVp5RP0wT/QDQuKG8XBPwMyAnn+l8E/ZcOQ4n5vwT/pcaHY8EPBP6OS+4kCH8E/pkSBkEPwwD9vWKMYscPAP3888PDipsA/",
          "dtype": "f8"
         },
         "yaxis": "y"
        },
        {
         "fill": "toself",
         "fillcolor": "rgba(228,26,28,0.1)",
         "hoverinfo": "skip",
         "line": {
          "color": "rgba(255,255,255,0)"
         },
         "showlegend": false,
         "type": "scatter",
         "x": {
          "bdata": "AAAAAAAAAAB7FK5H4XqUP3sUrkfheqQ/uB6F61G4rj97FK5H4Xq0P5qZmZmZmbk/uB6F61G4vj/sUbgehevBP3sUrkfhesQ/CtejcD0Kxz+amZmZmZnJPylcj8L1KMw/uB6F61G4zj+kcD0K16PQP+xRuB6F69E/MzMzMzMz0z97FK5H4XrUP8P1KFyPwtU/CtejcD0K1z9SuB6F61HYP5qZmZmZmdk/4XoUrkfh2j8pXI/C9SjcP3E9CtejcN0/uB6F61G43j8AAAAAAADgP6RwPQrXo+A/SOF6FK5H4T/sUbgehevhP4/C9Shcj+I/MzMzMzMz4z/Xo3A9CtfjP3sUrkfheuQ/H4XrUbge5T/D9Shcj8LlP2dmZmZmZuY/CtejcD0K5z+uR+F6FK7nP1K4HoXrUeg/9ihcj8L16D+amZmZmZnpPz4K16NwPeo/4XoUrkfh6j+F61G4HoXrPylcj8L1KOw/zczMzMzM7D9xPQrXo3DtPxWuR+F6FO4/uB6F61G47j9cj8L1KFzvPwAAAAAAAPA/AAAAAAAA8D9cj8L1KFzvP7gehetRuO4/Fa5H4XoU7j9xPQrXo3DtP83MzMzMzOw/KVyPwvUo7D+F61G4HoXrP+F6FK5H4eo/PgrXo3A96j+amZmZmZnpP/YoXI/C9eg/UrgehetR6D+uR+F6FK7nPwrXo3A9Cuc/Z2ZmZmZm5j/D9Shcj8LlPx+F61G4HuU/exSuR+F65D/Xo3A9CtfjPzMzMzMzM+M/j8L1KFyP4j/sUbgehevhP0jhehSuR+E/pHA9Ctej4D8AAAAAAADgP7gehetRuN4/cT0K16Nw3T8pXI/C9SjcP+F6FK5H4do/mpmZmZmZ2T9SuB6F61HYPwrXo3A9Ctc/w/UoXI/C1T97FK5H4XrUPzMzMzMzM9M/7FG4HoXr0T+kcD0K16PQP7gehetRuM4/KVyPwvUozD+amZmZmZnJPwrXo3A9Csc/exSuR+F6xD/sUbgehevBP7gehetRuL4/mpmZmZmZuT97FK5H4Xq0P7gehetRuK4/exSuR+F6pD97FK5H4XqUPwAAAAAAAAAA",
          "dtype": "f8"
         },
         "xaxis": "x",
         "y": {
          "bdata": "m8N2+JaN5z9nv2UfE3rdP1NHoMdWFdk/uH8qjgvM1T9qDFHqmmLTP1J6SiHCUNI/jtyjAEEg0T+PRNROxJHQP8gp/SZtZM8/pywkF+FSzT8ywzrTlhXMP9jVNQSCOMs/tORknQZdyj+9ILDxU2vJP+/lo6gt5cg/ZthhzKVPyD/tx49RQdjHP+GWv7lMgcc/mrgk3PQLxz/Q6nUoLaHGP6YBNYlmN8Y/yMjortDRxT8dx4aac3PFP6ejUq2wH8U/l4/i81jLxD8o2gAOnn7EPz1IDONVM8Q/9u00LyPfwz8pShmoraDDPxVa2+jIXMM/SRugWYsbwz+B5iBlr9/CPy61ftBCpsI/oF7ojap7wj/1renrf0TCP9Ug2PB7BMI/0VyJtcvMwT+amJlUN6LBPxXo9DwjecE/1PzqtilSwT+8iSpDwyHBP9F9Rso6+MA/3OqboszMwD/bAW6tUKTAP7gsrlawd8A/0kTlXk5PwD/+M9/qeCbAPwmgOO+YAcA/cbfwryymvz9mElkHDVO/PwzBJmBIIb8/eBjNsSG9wT+rJ5qt293BP5QtCslwDcI/PYW+JGw8wj/Ur2PGaGHCP/hBPGavj8I/TjdWm0y4wj/FGahm5uXCP4R/NyhbG8M/rbULybhHwz/2mPtKLX/DP+7LGjZsucM/RXBbyqHnwz/YvvUqahvEP5Gj2Eb/WcQ/taS321GaxD/L1w0luOLEP64y9JdRHMU/3ID3+bNZxT+JozXpfp7FP9dXUhAb4sU/EZWF/i0lxj85yE76XYfGP5I/FTC82MY/A5zmqNc1xz9gNbKrFI/HP8magGON4sc/j+8bVHJIyD89mcNZ0KvIP5gtxkBYE8k/rPs39n2byT9CLqOvlx3KP/yfl4ompMo/AaHVa2Etyz9rB6p2873LP4ryGgijPsw/j7TNqoHszD9phtvnU8DNP1yi/8pyw84/wsNJKY6+zz9MZ3YF+0HQP7x7MYcXDdE/CLZK2lLv0T/Du3kYsfDSPwD5pGz/5NM/5L5xK3y21D+CJvlyxVnWP/bY0cvyg9g/7YJF17pT3D/IUOYeZkvgP8Vs/hQNeOk/",
          "dtype": "f8"
         },
         "yaxis": "y"
        },
        {
         "line": {
          "color": "rgb(55,126,184)",
          "width": 2
         },
         "mode": "lines",
         "name": "0-down",
         "type": "scatter",
         "x": {
          "bdata": "AAAAAAAAAAB7FK5H4XqUP3sUrkfheqQ/uB6F61G4rj97FK5H4Xq0P5qZmZmZmbk/uB6F61G4vj/sUbgehevBP3sUrkfhesQ/CtejcD0Kxz+amZmZmZnJPylcj8L1KMw/uB6F61G4zj+kcD0K16PQP+xRuB6F69E/MzMzMzMz0z97FK5H4XrUP8P1KFyPwtU/CtejcD0K1z9SuB6F61HYP5qZmZmZmdk/4XoUrkfh2j8pXI/C9SjcP3E9CtejcN0/uB6F61G43j8AAAAAAADgP6RwPQrXo+A/SOF6FK5H4T/sUbgehevhP4/C9Shcj+I/MzMzMzMz4z/Xo3A9CtfjP3sUrkfheuQ/H4XrUbge5T/D9Shcj8LlP2dmZmZmZuY/CtejcD0K5z+uR+F6FK7nP1K4HoXrUeg/9ihcj8L16D+amZmZmZnpPz4K16NwPeo/4XoUrkfh6j+F61G4HoXrPylcj8L1KOw/zczMzMzM7D9xPQrXo3DtPxWuR+F6FO4/uB6F61G47j9cj8L1KFzvPwAAAAAAAPA/",
          "dtype": "f8"
         },
         "xaxis": "x",
         "y": {
          "bdata": "H8s7bLx+6D9Y3knbtAPfP3vUGGQ4qto/NwPPEd8g1z+0WssACtjUPzfx5DorgNM/GXVSk5590j/80L4G7r7RP9oSl+OD0NA/LKK6HRWyzz8A7M5CekfOP5t9EGGndc0/L7xvaeyLzD+FbAO3LZPLP7Ajnv1x6so/Xc8H569Wyj9x/yCzLNDJPwcg+9WAXck/azsWCerSyD+Pov30OFrIPzvDTqXh5cc/JxOqaitrxz+Nq28guAHHP7DEbgDRosY/Y5tR2dxJxj/L4hiDG+zFP8/B6bpEnsU/xL36rL1JxT9RI0OQwALFP4/qo2D6ssQ/C3MA0MxqxD8yLUiDFinEPynbh92d48M/RVPJdY2xwz/MBClDBnrDP2HGUGcuNsM/e9tLSRECwz+kTzvS887CP1y90+U4mMI/TxHCA0dtwj9090xMcDfCP1HZLLzFDsI/oXHOTZPqwT8tLxDqpbrBPxgFkXWij8E/zhXxXEFlwT9I1lDiSjXBPzFy0K3pDsE/IfLNPYDgwD8LMYB2DbvAP/jBcypcl8A/",
          "dtype": "f8"
         },
         "yaxis": "y"
        },
        {
         "fill": "toself",
         "fillcolor": "rgba(55,126,184,0.1)",
         "hoverinfo": "skip",
         "line": {
          "color": "rgba(255,255,255,0)"
         },
         "showlegend": false,
         "type": "scatter",
         "x": {
          "bdata": "AAAAAAAAAAB7FK5H4XqUP3sUrkfheqQ/uB6F61G4rj97FK5H4Xq0P5qZmZmZmbk/uB6F61G4vj/sUbgehevBP3sUrkfhesQ/CtejcD0Kxz+amZmZmZnJPylcj8L1KMw/uB6F61G4zj+kcD0K16PQP+xRuB6F69E/MzMzMzMz0z97FK5H4XrUP8P1KFyPwtU/CtejcD0K1z9SuB6F61HYP5qZmZmZmdk/4XoUrkfh2j8pXI/C9SjcP3E9CtejcN0/uB6F61G43j8AAAAAAADgP6RwPQrXo+A/SOF6FK5H4T/sUbgehevhP4/C9Shcj+I/MzMzMzMz4z/Xo3A9CtfjP3sUrkfheuQ/H4XrUbge5T/D9Shcj8LlP2dmZmZmZuY/CtejcD0K5z+uR+F6FK7nP1K4HoXrUeg/9ihcj8L16D+amZmZmZnpPz4K16NwPeo/4XoUrkfh6j+F61G4HoXrPylcj8L1KOw/zczMzMzM7D9xPQrXo3DtPxWuR+F6FO4/uB6F61G47j9cj8L1KFzvPwAAAAAAAPA/AAAAAAAA8D9cj8L1KFzvP7gehetRuO4/Fa5H4XoU7j9xPQrXo3DtP83MzMzMzOw/KVyPwvUo7D+F61G4HoXrP+F6FK5H4eo/PgrXo3A96j+amZmZmZnpP/YoXI/C9eg/UrgehetR6D+uR+F6FK7nPwrXo3A9Cuc/Z2ZmZmZm5j/D9Shcj8LlPx+F61G4HuU/exSuR+F65D/Xo3A9CtfjPzMzMzMzM+M/j8L1KFyP4j/sUbgehevhP0jhehSuR+E/pHA9Ctej4D8AAAAAAADgP7gehetRuN4/cT0K16Nw3T8pXI/C9SjcP+F6FK5H4do/mpmZmZmZ2T9SuB6F61HYPwrXo3A9Ctc/w/UoXI/C1T97FK5H4XrUPzMzMzMzM9M/7FG4HoXr0T+kcD0K16PQP7gehetRuM4/KVyPwvUozD+amZmZmZnJPwrXo3A9Csc/exSuR+F6xD/sUbgehevBP7gehetRuL4/mpmZmZmZuT97FK5H4Xq0P7gehetRuK4/exSuR+F6pD97FK5H4XqUPwAAAAAAAAAA",
          "dtype": "f8"
         },
         "xaxis": "x",
         "y": {
          "bdata": "NlZIkV2F5z8pJFCeKYTdP2qiKkFfFNk/ueaJbU7N1T/Fh2KBrmbTPyotN354VdI/gFve6f4g0T8m0g3rfZHQPwQdt91eZs8/2uPzzKNPzT+bd0DK5hDMP+jCx+zOM8s/fOMQFvZayj/AKNhte2/JPz6lJ8V96sg/QHH0hh1eyD/qB5GIPtrHP6XPi8VSe8c/5hYNTIICxz//CdVOa57GP7RLdIOBPMY/qFOCq+vWxT+k9Zl033fFPxcJrw61J8U/UA1GfL/cxD/BF3S/voDEP1lynIJtNMQ/iGtv+onnwz+6VBy6a6XDP7/R6CIHY8M/sbd4WJcZwz/5Z0WUH97CP7rS9DgNm8I/LvHwvP5twj9OS5fLxDTCPz/hSn1s88E/vZgiqmbCwT9mELbyHZnBP+ADweEraME/D7NQQbY9wT+pjYwJ+QzBP9OG35PK6MA/0tpuNgPGwD/cOneJMZnAP6fhPafYcsA/xVMcrwhOwD/ZOUFN0iTAP6Z2SgDo/78/eTAxfsSqvz/u0KWvSV6/P0qCnvj+G78/y0KY2LigwT+feS0V9sbBPwVMgzye68E/D6l7W98dwj+3cmB3w0XCP9fXxQp6fMI/iSjkQ2yswj9+I6lKGtzCP3AILmUjD8M/zyt65MA0wz8/YQ2P52HDP49vM8bXnMM/2Hbm6UXIwz/ijsCxyQTEPzkedei7QcQ/g6tWUfB4xD9Kvrq6R7/EP1y1oS4c9cQ/mOMagi4sxT9r8kpyDXTFP2UuiEcCvMU/XwNfnu0Cxj/o8WlmFWDGPwAQhl/xq8Y/RRE38xsIxz/Vrb1GeFfHP3YpXTb6tsc/SYAu8uwdyD92YUXMkIvIP6bS0Slr/8g/wjopx0GPyT8fOyabBhbKP/BfH8ZRo8o/aXBq5q4/yz/49rDdGsbLP3otG0dCT8w/IqIUNmbqzD9KsC4A4LbNP+KUzrzivM4/TjhZ1X+3zz8ysK7dBj/QPz+wQDdDCtE/MpdSWNjt0T/Sz28iXuzSP7KOxjw+2tM/RLWS992q1D+jLTSAZUnWP7UfFLZvdNg/jAYHhxFA3D9EzCEMoEHgPwhAL0cbeOk/",
          "dtype": "f8"
         },
         "yaxis": "y"
        },
        {
         "line": {
          "color": "rgb(77,175,74)",
          "width": 2
         },
         "mode": "lines",
         "name": "0-down-0",
         "type": "scatter",
         "x": {
          "bdata": "AAAAAAAAAAB7FK5H4XqUP3sUrkfheqQ/uB6F61G4rj97FK5H4Xq0P5qZmZmZmbk/uB6F61G4vj/sUbgehevBP3sUrkfhesQ/CtejcD0Kxz+amZmZmZnJPylcj8L1KMw/uB6F61G4zj+kcD0K16PQP+xRuB6F69E/MzMzMzMz0z97FK5H4XrUP8P1KFyPwtU/CtejcD0K1z9SuB6F61HYP5qZmZmZmdk/4XoUrkfh2j8pXI/C9SjcP3E9CtejcN0/uB6F61G43j8AAAAAAADgP6RwPQrXo+A/SOF6FK5H4T/sUbgehevhP4/C9Shcj+I/MzMzMzMz4z/Xo3A9CtfjP3sUrkfheuQ/H4XrUbge5T/D9Shcj8LlP2dmZmZmZuY/CtejcD0K5z+uR+F6FK7nP1K4HoXrUeg/9ihcj8L16D+amZmZmZnpPz4K16NwPeo/4XoUrkfh6j+F61G4HoXrPylcj8L1KOw/zczMzMzM7D9xPQrXo3DtPxWuR+F6FO4/uB6F61G47j9cj8L1KFzvPwAAAAAAAPA/",
          "dtype": "f8"
         },
         "xaxis": "x",
         "y": {
          "bdata": "NTZckIx86D+N31YiRv/eP4jqIqrYp9o/yWeGT6Mg1z/Az6ZYZNXUP3PkZVMxfNM/nc2oyRV70j+piJPEYbvRP83HTFC2zNA/Ob8Gw/Gtzz+DsKpx8ULOP2FP/heLcM0/T4U0TN6FzD+rEZC0wInLP7R8p3DV5co/pSp7jCBJyj/4z10IycfJP0/F7LpIVck/G/eWirLRyD/hXN1jaV/IP9hFXkMx7cc/YciEq4V+xz8pJdItdAvHP0Das2IGqsY/tNWaADhNxj8veM3+0e3FPyTZE8+YnsU/MPjBcQxKxT8ZNq5CO/7EP6v5gvSMqcQ/6Qb63CRgxD8skjaX8iDEPzGdaOOz3cM/eLOLwTSowz8BSaO+enHDPwDMo6pCKsM/BChAKsn4wj+3ImjOJMnCPxO/QZI9m8I/aKsiGXZqwj+rqCslZTbCP/dn7ogpC8I/JIVckc3gwT/H9SGuOLLBPxXkAz/Ph8E/r/UXw/FhwT/7CU7quTDBP7l6i8DiCcE/k53hMUHhwD89WfmINLXAP6+ye1Qdk8A/",
          "dtype": "f8"
         },
         "yaxis": "y"
        },
        {
         "fill": "toself",
         "fillcolor": "rgba(77,175,74,0.1)",
         "hoverinfo": "skip",
         "line": {
          "color": "rgba(255,255,255,0)"
         },
         "showlegend": false,
         "type": "scatter",
         "x": {
          "bdata": "AAAAAAAAAAB7FK5H4XqUP3sUrkfheqQ/uB6F61G4rj97FK5H4Xq0P5qZmZmZmbk/uB6F61G4vj/sUbgehevBP3sUrkfhesQ/CtejcD0Kxz+amZmZmZnJPylcj8L1KMw/uB6F61G4zj+kcD0K16PQP+xRuB6F69E/MzMzMzMz0z97FK5H4XrUP8P1KFyPwtU/CtejcD0K1z9SuB6F61HYP5qZmZmZmdk/4XoUrkfh2j8pXI/C9SjcP3E9CtejcN0/uB6F61G43j8AAAAAAADgP6RwPQrXo+A/SOF6FK5H4T/sUbgehevhP4/C9Shcj+I/MzMzMzMz4z/Xo3A9CtfjP3sUrkfheuQ/H4XrUbge5T/D9Shcj8LlP2dmZmZmZuY/CtejcD0K5z+uR+F6FK7nP1K4HoXrUeg/9ihcj8L16D+amZmZmZnpPz4K16NwPeo/4XoUrkfh6j+F61G4HoXrPylcj8L1KOw/zczMzMzM7D9xPQrXo3DtPxWuR+F6FO4/uB6F61G47j9cj8L1KFzvPwAAAAAAAPA/AAAAAAAA8D9cj8L1KFzvP7gehetRuO4/Fa5H4XoU7j9xPQrXo3DtP83MzMzMzOw/KVyPwvUo7D+F61G4HoXrP+F6FK5H4eo/PgrXo3A96j+amZmZmZnpP/YoXI/C9eg/UrgehetR6D+uR+F6FK7nPwrXo3A9Cuc/Z2ZmZmZm5j/D9Shcj8LlPx+F61G4HuU/exSuR+F65D/Xo3A9CtfjPzMzMzMzM+M/j8L1KFyP4j/sUbgehevhP0jhehSuR+E/pHA9Ctej4D8AAAAAAADgP7gehetRuN4/cT0K16Nw3T8pXI/C9SjcP+F6FK5H4do/mpmZmZmZ2T9SuB6F61HYPwrXo3A9Ctc/w/UoXI/C1T97FK5H4XrUPzMzMzMzM9M/7FG4HoXr0T+kcD0K16PQP7gehetRuM4/KVyPwvUozD+amZmZmZnJPwrXo3A9Csc/exSuR+F6xD/sUbgehevBP7gehetRuL4/mpmZmZmZuT97FK5H4Xq0P7gehetRuK4/exSuR+F6pD97FK5H4XqUPwAAAAAAAAAA",
          "dtype": "f8"
         },
         "xaxis": "x",
         "y": {
          "bdata": "An+7XMuM5z8QWzkG/H7dP8wpJEyYEtk/HbbFW6bK1T82+yHim2PTP0r5+yndUtI/NlI8a2Mh0T8aNBwQfJHQP+CgchpaZc8/5hnEic1SzT8J3M5bmBTMP2sLSy21N8s/IlVar/deyj8uXyJASHnJP5ROldCS9cg/suLUJjllyD8GEXMuqebHP6WpjqWYisc/UXTp9tcQxz89my7zgq/GP0E5s6cyQMY/Fl1oO7rgxT+wfENz82vFP/ZAclCZFsU/1VHWiAHDxD9rzpy+omfEP8ytiZHHG8Q/BDpaemTHwz/WGTw5FH/DPyTBqXOHN8M/ABPF+rr5wj+DnqKcd7zCPz3lVL1lhcI/fjDBn25Zwj9i0nGprCHCP1tcKoBJ2cE/pWU/MC6twT/11UIhQoXBP1qMrG9XWcE/GF+Jj5cmwT82WgCb6vrAP9PYE1cK2sA/Eoy+a4u0wD8RWRO1X4jAP/bMpllgYsA/Zl15C8lBwD8YNK9onRfAPyqq9xDU378/ldF8TN2Qvz/INtv8k0m/P+nxpwndFr8/aWwjJMyawT8WF4UTn8XBP1vShL0T+sE/XSCbeNsjwj/e3+xr1knCP/iNtnoagsI/NPtgJD6twj99kjCnEdzCPzZ++rYPDcM/G/fIukg8wz8g91av33HDP7j3u6JUrsM/zPHWtCPdwz95b417Bw3EP2PqQCRkRMQ/pTsd1Tt7xD+gv9TTSMHEP3I2VuP69sQ/JVV8CQI2xT/VhcqRbYXFP9L6Lr+OxsU/MjJcdZIbxj9cUiBMYn3GP1y2KWm0zMY/fASeDGohxz/zIf4+AXTHP5NZX3hu18c/inP1dHM9yD+izWDo9KrIP6wzoRtRHMk/b1IJ3y+ayT+FHozUTw/KP+V5RB6Nkso/+eBK0Pgfyz/qjkji6KjLP5hyIfIHLcw/1Kq5EBjWzD8oxP0oOZrNP3y1DunErM4/V5OxAmGpzz9+QsNDpTjQP0ayJP6KBNE/Kj9gk7/m0T843Qp5R+XSPwRJFSjI1NM/nM/PfIWl1D9KpCvPLEfWP3UZR0Ogdtg/RKshCBk93D8FMjofyD/gP2jt/MNNbOk/",
          "dtype": "f8"
         },
         "yaxis": "y"
        },
        {
         "line": {
          "color": "rgb(152,78,163)",
          "width": 2
         },
         "mode": "lines",
         "name": "0-down-0-fine",
         "type": "scatter",
         "x": {
          "bdata": "AAAAAAAAAAB7FK5H4XqUP3sUrkfheqQ/uB6F61G4rj97FK5H4Xq0P5qZmZmZmbk/uB6F61G4vj/sUbgehevBP3sUrkfhesQ/CtejcD0Kxz+amZmZmZnJPylcj8L1KMw/uB6F61G4zj+kcD0K16PQP+xRuB6F69E/MzMzMzMz0z97FK5H4XrUP8P1KFyPwtU/CtejcD0K1z9SuB6F61HYP5qZmZmZmdk/4XoUrkfh2j8pXI/C9SjcP3E9CtejcN0/uB6F61G43j8AAAAAAADgP6RwPQrXo+A/SOF6FK5H4T/sUbgehevhP4/C9Shcj+I/MzMzMzMz4z/Xo3A9CtfjP3sUrkfheuQ/H4XrUbge5T/D9Shcj8LlP2dmZmZmZuY/CtejcD0K5z+uR+F6FK7nP1K4HoXrUeg/9ihcj8L16D+amZmZmZnpPz4K16NwPeo/4XoUrkfh6j+F61G4HoXrPylcj8L1KOw/zczMzMzM7D9xPQrXo3DtPxWuR+F6FO4/uB6F61G47j9cj8L1KFzvPwAAAAAAAPA/",
          "dtype": "f8"
         },
         "xaxis": "x",
         "y": {
          "bdata": "cHhKU9mC6D8BwDeLFvvePzj09J6Pqto/NwUWjKMe1z+/o5Fe+tHUP/mgsfWseNM/1Benb2V40j89E5/N7LfRPxHTWlj+ydA/A5WoMJ+gzz+Q6X8WRTPOP+MgcQlpYc0/bdnDpB93zD+txdDBR4DLP+VUbBVS3co/K1tW2eY/yj+l0HUyFLbJP8X9Vo/cRck/iS2DZne+yD//eLLp7EnIP8n52X3938c/e4Q2tABmxz9Y5esL/ffGP/B/5sIdlcY/dygd0MIyxj9gwgleZ9nFPylILsvqjMU/Lx98pqk3xT9LHRfh/vDEP1WgJRPvp8Q/P9y0YbBgxD98jPY3WiLEP4A+T/o74sM/XfYAp/Srwz+TXu3d13nDP6qXja4YM8M/r0/K0Jn5wj+Q2CvUrMPCP+/j3ASPjcI/qEXslx9gwj/V4SFM/C3CP1GoP/TU/8E/j7akrK/VwT+f0g4qoqjBPxTsS8UFf8E/tkVzXZZSwT8f2sEj0SLBPysjKJzd+8A/5TjU/RvQwD98T2AJbKPAP+RELLUVg8A/",
          "dtype": "f8"
         },
         "yaxis": "y"
        },
        {
         "fill": "toself",
         "fillcolor": "rgba(152,78,163,0.1)",
         "hoverinfo": "skip",
         "line": {
          "color": "rgba(255,255,255,0)"
         },
         "showlegend": false,
         "type": "scatter",
         "x": {
          "bdata": "AAAAAAAAAAB7FK5H4XqUP3sUrkfheqQ/uB6F61G4rj97FK5H4Xq0P5qZmZmZmbk/uB6F61G4vj/sUbgehevBP3sUrkfhesQ/CtejcD0Kxz+amZmZmZnJPylcj8L1KMw/uB6F61G4zj+kcD0K16PQP+xRuB6F69E/MzMzMzMz0z97FK5H4XrUP8P1KFyPwtU/CtejcD0K1z9SuB6F61HYP5qZmZmZmdk/4XoUrkfh2j8pXI/C9SjcP3E9CtejcN0/uB6F61G43j8AAAAAAADgP6RwPQrXo+A/SOF6FK5H4T/sUbgehevhP4/C9Shcj+I/MzMzMzMz4z/Xo3A9CtfjP3sUrkfheuQ/H4XrUbge5T/D9Shcj8LlP2dmZmZmZuY/CtejcD0K5z+uR+F6FK7nP1K4HoXrUeg/9ihcj8L16D+amZmZmZnpPz4K16NwPeo/4XoUrkfh6j+F61G4HoXrPylcj8L1KOw/zczMzMzM7D9xPQrXo3DtPxWuR+F6FO4/uB6F61G47j9cj8L1KFzvPwAAAAAAAPA/AAAAAAAA8D9cj8L1KFzvP7gehetRuO4/Fa5H4XoU7j9xPQrXo3DtP83MzMzMzOw/KVyPwvUo7D+F61G4HoXrP+F6FK5H4eo/PgrXo3A96j+amZmZmZnpP/YoXI/C9eg/UrgehetR6D+uR+F6FK7nPwrXo3A9Cuc/Z2ZmZmZm5j/D9Shcj8LlPx+F61G4HuU/exSuR+F65D/Xo3A9CtfjPzMzMzMzM+M/j8L1KFyP4j/sUbgehevhP0jhehSuR+E/pHA9Ctej4D8AAAAAAADgP7gehetRuN4/cT0K16Nw3T8pXI/C9SjcP+F6FK5H4do/mpmZmZmZ2T9SuB6F61HYPwrXo3A9Ctc/w/UoXI/C1T97FK5H4XrUPzMzMzMzM9M/7FG4HoXr0T+kcD0K16PQP7gehetRuM4/KVyPwvUozD+amZmZmZnJPwrXo3A9Csc/exSuR+F6xD/sUbgehevBP7gehetRuL4/mpmZmZmZuT97FK5H4Xq0P7gehetRuK4/exSuR+F6pD97FK5H4XqUPwAAAAAAAAAA",
          "dtype": "f8"
         },
         "xaxis": "x",
         "y": {
          "bdata": "eYbvOUWD5z94ZfoBO3ndPxOOZopxGtk/e8mqyJbQ1T9+TVK8WGfTPwoV2Q/gUtI/flS5HLMg0T9bhTa2jI/QP/c3hEhxZ88/JcynXttOzT/sCrYHlxHMPwqqHCZONcs/DfVtt3Nbyj/yRgZTXnDJP+mdOFvC8Mg/ByYd0SNayD+3cjFa4dzHP4N3ywGPhMc/VtNTyJkUxz+aJETpHqrGP4VGPxblTcY/3Aqq86PixT94k1HVc3zFPx7zm8imIcU/0YM898fCxD8a6qQIe27EP6X+BhV7KMQ/tA8qMs3Pwz9aEh+2HY7DPzWbFYFAUcM/kpqETe4Pwz+pPtTRWNbCP/AxjTo5n8I/FYiXWqJzwj/n7Ux+q0PCP6trXm+DAcI/Nk+B/9vOwT9cUGiXQpzBP2IzuRpzbME/AkOeaEg/wT+xcwUE6BDBP5hB3T116cA/O5odWBXCwD9xjx9w/5jAP9yS1yY9c8A/zDj0FmVHwD8fD6R9gBXAP+I8PmoP4L8/fp265qSVvz9bDvUnd0O/Pxl3XpESCL8/O06pISKCwT/LF8Z+HKXBPwsjS4hl1cE/5Scxg7MHwj8fpd/JITDCP6BS8qPHXcI/TEXAY86Kwj/NFf7jRLjCP+PSKwFK6cI/Cg+iqjQWwz/5Tz6UEEvDP05IOsf2gMM/fJQA76quwz/EYO8QF+vDPyhQE6JXJMQ/qcO87a1kxD8/z409BLDEP6VkavNG5MQ/EEsRuj4lxT9P2hieW27FP+wd5XVyscU/daU1pZ3+xT88KA8M4FPGP6ouzhqGn8Y/rZFVgVrxxj+mmm6zU0THPx3N/ai9osc/wgwxvZQIyD84N4ZChnPIPxr+wnRd6cg/Da105RVyyT9kzSDquunJP7yHsgRVaMo/B4TiHCoHyz+TLroKR4/LP0+Qj+GpJcw/4Qugz+HJzD9oRJswMZDNP829GZLLks4/vJfF7IONzz8a5KSSeSrQP/CuVIEx+dA/JopzDETg0T8foQflTODSPyrblMIX0NM/6CyK23me1D8A+tAAnDzWP/NAgU+wbNg/XVqDs6063D9FjToKeT7gP2dqpWxtguk/",
          "dtype": "f8"
         },
         "yaxis": "y"
        },
        {
         "line": {
          "color": "rgb(255,127,0)",
          "width": 2
         },
         "mode": "lines",
         "name": "0-up-0",
         "type": "scatter",
         "x": {
          "bdata": "AAAAAAAAAAB7FK5H4XqUP3sUrkfheqQ/uB6F61G4rj97FK5H4Xq0P5qZmZmZmbk/uB6F61G4vj/sUbgehevBP3sUrkfhesQ/CtejcD0Kxz+amZmZmZnJPylcj8L1KMw/uB6F61G4zj+kcD0K16PQP+xRuB6F69E/MzMzMzMz0z97FK5H4XrUP8P1KFyPwtU/CtejcD0K1z9SuB6F61HYP5qZmZmZmdk/4XoUrkfh2j8pXI/C9SjcP3E9CtejcN0/uB6F61G43j8AAAAAAADgP6RwPQrXo+A/SOF6FK5H4T/sUbgehevhP4/C9Shcj+I/MzMzMzMz4z/Xo3A9CtfjP3sUrkfheuQ/H4XrUbge5T/D9Shcj8LlP2dmZmZmZuY/CtejcD0K5z+uR+F6FK7nP1K4HoXrUeg/9ihcj8L16D+amZmZmZnpPz4K16NwPeo/4XoUrkfh6j+F61G4HoXrPylcj8L1KOw/zczMzMzM7D9xPQrXo3DtPxWuR+F6FO4/uB6F61G47j9cj8L1KFzvPwAAAAAAAPA/",
          "dtype": "f8"
         },
         "xaxis": "x",
         "y": {
          "bdata": "VLmPDxyE6D/zF0jbpgzfP107658btdo/sz0OGDgj1z+5EHqeT9jUPwaOu/Dlf9M/+OI3pm9/0j/DpbAvjL7RP2uAHbkcz9A/OA4O316tzz8ldEw72kPOP2VthHhUcs0/Ay3o6ZWJzD/dVeXyuZHLP/Nr0ZNP6co/jc0eu5JRyj9Q/rci7szJPyuH7o28Wsk/E77a1I3dyD9bpiJROGrIP0gtEyn4/Mc/X9mRGTyJxz8HEYr0mB/HPzs6nnmjvMY/M7EA21NOxj/bnl7m7PLFP4N/CDybrMU/VOt7G6FexT8djYtViQ7FP2QlWqANwsQ/iiE+sp14xD9zKmgeRj7EP5CkFseM+sM/srfRdmHAwz9IEZPTk4fDP+lvOyWBP8M/CV25XQgLwz+lTi+sot/CP1laBrC7ucI/TYm2xaySwj84DL8sNGPCPxn9rpg8OsI/vNpHz/URwj8EcVvP79nBPwDS4XIjq8E/ySL7MfeDwT/gA8LjoFXBP5SoukAvM8E/S5hoVGUHwT/mJ8KJFdnAP7NEuuZTuMA/",
          "dtype": "f8"
         },
         "yaxis": "y"
        },
        {
         "fill": "toself",
         "fillcolor": "rgba(255,127,0,0.1)",
         "hoverinfo": "skip",
         "line": {
          "color": "rgba(255,255,255,0)"
         },
         "showlegend": false,
         "type": "scatter",
         "x": {
          "bdata": "AAAAAAAAAAB7FK5H4XqUP3sUrkfheqQ/uB6F61G4rj97FK5H4Xq0P5qZmZmZmbk/uB6F61G4vj/sUbgehevBP3sUrkfhesQ/CtejcD0Kxz+amZmZmZnJPylcj8L1KMw/uB6F61G4zj+kcD0K16PQP+xRuB6F69E/MzMzMzMz0z97FK5H4XrUP8P1KFyPwtU/CtejcD0K1z9SuB6F61HYP5qZmZmZmdk/4XoUrkfh2j8pXI/C9SjcP3E9CtejcN0/uB6F61G43j8AAAAAAADgP6RwPQrXo+A/SOF6FK5H4T/sUbgehevhP4/C9Shcj+I/MzMzMzMz4z/Xo3A9CtfjP3sUrkfheuQ/H4XrUbge5T/D9Shcj8LlP2dmZmZmZuY/CtejcD0K5z+uR+F6FK7nP1K4HoXrUeg/9ihcj8L16D+amZmZmZnpPz4K16NwPeo/4XoUrkfh6j+F61G4HoXrPylcj8L1KOw/zczMzMzM7D9xPQrXo3DtPxWuR+F6FO4/uB6F61G47j9cj8L1KFzvPwAAAAAAAPA/AAAAAAAA8D9cj8L1KFzvP7gehetRuO4/Fa5H4XoU7j9xPQrXo3DtP83MzMzMzOw/KVyPwvUo7D+F61G4HoXrP+F6FK5H4eo/PgrXo3A96j+amZmZmZnpP/YoXI/C9eg/UrgehetR6D+uR+F6FK7nPwrXo3A9Cuc/Z2ZmZmZm5j/D9Shcj8LlPx+F61G4HuU/exSuR+F65D/Xo3A9CtfjPzMzMzMzM+M/j8L1KFyP4j/sUbgehevhP0jhehSuR+E/pHA9Ctej4D8AAAAAAADgP7gehetRuN4/cT0K16Nw3T8pXI/C9SjcP+F6FK5H4do/mpmZmZmZ2T9SuB6F61HYPwrXo3A9Ctc/w/UoXI/C1T97FK5H4XrUPzMzMzMzM9M/7FG4HoXr0T+kcD0K16PQP7gehetRuM4/KVyPwvUozD+amZmZmZnJPwrXo3A9Csc/exSuR+F6xD/sUbgehevBP7gehetRuL4/mpmZmZmZuT97FK5H4Xq0P7gehetRuK4/exSuR+F6pD97FK5H4XqUPwAAAAAAAAAA",
          "dtype": "f8"
         },
         "xaxis": "x",
         "y": {
          "bdata": "NXyBTDqL5z9TXg6j+IDdPwM8+FaXGNk/aokO92LQ1T9oiUABTGjTP4Xqmt1HV9I/3dUliLMm0T+0ojBcLpfQP3o8qe25c88/XR45nMxczT9DoqDkMB/MPyr+9V0KQss/TuXsyXFqyj8ShiCjjoDJP7PCSsdlAMk/6QEyqfN3yD/8wn63nfbHP5HeTwxbnsc/nAjVBSAtxz/KAMtehsbGP2Qbnd3UYsY/1brgrq//xT9ZV22eEprFPyr/HUo2QcU/cWEW8nPbxD8hUYMeGYPEP0NgDJtlPMQ/Aj0cDSvywz8REfwgGqzDP714PqwcacM/k+9BgPMrwz/ylE5BsvHCP/XEwk+2tcI/u6vb+l2Gwj8qSiEYLlLCP8fq6X+aEsI/NX0qWC/fwT/W4zIt6LjBP/1dmaQslME/WlTCf+tvwT8VURjfskfBP30KQr6vIsE/VKuqcMn6wD8yIDSLsMnAP3q3MVj8ncA/BgcDgLd5wD/Ig1ves0vAPyys5drpKcA/MsYolDgAwD/5cM5iXqG/PyFOSGG6Zr8/VmLQnEq9wT9QFx3ie+HBP2RqqBSSDsI//KSPpnQ8wj/4gyjpjV/CP4w+8+M2jsI/huyRjUq4wj/WwYITL+rCPyQK5S0iKcM/te8bc8lRwz9bx2V6tX7DP0C+qgtutcM/tVZzu0rfwz90uSsrXQbEP908SGPhNsQ/C/WMymdsxD9m2ASP+bzEP6nDx/Jk+sQ/K4RqPmM/xT/0v4H72YrFP4FTOuRHxcU/C9J1lP4axj8pCRuK+HDGP6aZ2ykXy8Y/w54E3dAcxz+V7DmuwGLHP/UA68Mzwcc/THUeqRA4yD+1yqZKH6XIP+n3QoTIEsk/LD+JdBuXyT/sS3pD6g3KP4pz4KP7jco/xS+NDx4Xyz+kOfGNPqPLPzGZC80xK8w/MxVYYDnSzD+oJapC5aLNP7h04wm6qM4/oNwSk56izz8EI/zIQTTQPwl/8ZD4/tA/mWJme1zk0T/SqDAD6uXSPxPwScQr2NM/hzHcA4So1D8KmLM7U0jWP/zxDTkNdtg/tzre6J9R3D/K6MCJKkzgP3P2ndL9fOk/",
          "dtype": "f8"
         },
         "yaxis": "y"
        },
        {
         "line": {
          "color": "rgb(255,255,51)",
          "width": 2
         },
         "mode": "lines",
         "name": "05",
         "type": "scatter",
         "x": {
          "bdata": "AAAAAAAAAAB7FK5H4XqUP3sUrkfheqQ/uB6F61G4rj97FK5H4Xq0P5qZmZmZmbk/uB6F61G4vj/sUbgehevBP3sUrkfhesQ/CtejcD0Kxz+amZmZmZnJPylcj8L1KMw/uB6F61G4zj+kcD0K16PQP+xRuB6F69E/MzMzMzMz0z97FK5H4XrUP8P1KFyPwtU/CtejcD0K1z9SuB6F61HYP5qZmZmZmdk/4XoUrkfh2j8pXI/C9SjcP3E9CtejcN0/uB6F61G43j8AAAAAAADgP6RwPQrXo+A/SOF6FK5H4T/sUbgehevhP4/C9Shcj+I/MzMzMzMz4z/Xo3A9CtfjP3sUrkfheuQ/H4XrUbge5T/D9Shcj8LlP2dmZmZmZuY/CtejcD0K5z+uR+F6FK7nP1K4HoXrUeg/9ihcj8L16D+amZmZmZnpPz4K16NwPeo/4XoUrkfh6j+F61G4HoXrPylcj8L1KOw/zczMzMzM7D9xPQrXo3DtPxWuR+F6FO4/uB6F61G47j9cj8L1KFzvPwAAAAAAAPA/",
          "dtype": "f8"
         },
         "xaxis": "x",
         "y": {
          "bdata": "nHSATDaD6D/nGfmCDQjfP9OlkPpjtto/zV/u1GIj1z+hZZPByNjUP9dCMZOTf9M/gA50c4t90j9hJFKiD73RP9x2IqFVztA/odd7tSypzz9dWoIYdTzOP6VE7LnLas0/gBG6dAqBzD9jfqgbDIXLP6H1pLoe58o/gD58aBZOyj90f9Bsi8rJP3tVI/iHUMk/s3kltczJyD+dR6DZWVfIP7CnT3ia3sc/5MR0Dehdxz97HtQsI/7GP7Wh2iFcmsY/YGOOdZc+xj9YQeQRYt/FP+3+QzLIjcU/cJ2I1JZExT+P2VLb7v7EP8U469eotcQ/roopdcBpxD9X3ciJ5RzEP11/qlNt2sM/CETj3Zefwz8exAzdRm3DPwBCPpBkL8M/tXJw/Rf+wj+NqGMNrc7CP+EybKI9nsI/a5mq3RZywj+vMP/9WDfCP9PfkvYODMI/gbTsz/rmwT95Hs/OZbXBP5MsnyeNisE/pxmM5AhmwT++74aWfDfBPyl2wjIDD8E/w3+/PanhwD/Hm/J3ibrAP7uQ1baimMA/",
          "dtype": "f8"
         },
         "yaxis": "y"
        },
        {
         "fill": "toself",
         "fillcolor": "rgba(255,255,51,0.1)",
         "hoverinfo": "skip",
         "line": {
          "color": "rgba(255,255,255,0)"
         },
         "showlegend": false,
         "type": "scatter",
         "x": {
          "bdata": "AAAAAAAAAAB7FK5H4XqUP3sUrkfheqQ/uB6F61G4rj97FK5H4Xq0P5qZmZmZmbk/uB6F61G4vj/sUbgehevBP3sUrkfhesQ/CtejcD0Kxz+amZmZmZnJPylcj8L1KMw/uB6F61G4zj+kcD0K16PQP+xRuB6F69E/MzMzMzMz0z97FK5H4XrUP8P1KFyPwtU/CtejcD0K1z9SuB6F61HYP5qZmZmZmdk/4XoUrkfh2j8pXI/C9SjcP3E9CtejcN0/uB6F61G43j8AAAAAAADgP6RwPQrXo+A/SOF6FK5H4T/sUbgehevhP4/C9Shcj+I/MzMzMzMz4z/Xo3A9CtfjP3sUrkfheuQ/H4XrUbge5T/D9Shcj8LlP2dmZmZmZuY/CtejcD0K5z+uR+F6FK7nP1K4HoXrUeg/9ihcj8L16D+amZmZmZnpPz4K16NwPeo/4XoUrkfh6j+F61G4HoXrPylcj8L1KOw/zczMzMzM7D9xPQrXo3DtPxWuR+F6FO4/uB6F61G47j9cj8L1KFzvPwAAAAAAAPA/AAAAAAAA8D9cj8L1KFzvP7gehetRuO4/Fa5H4XoU7j9xPQrXo3DtP83MzMzMzOw/KVyPwvUo7D+F61G4HoXrP+F6FK5H4eo/PgrXo3A96j+amZmZmZnpP/YoXI/C9eg/UrgehetR6D+uR+F6FK7nPwrXo3A9Cuc/Z2ZmZmZm5j/D9Shcj8LlPx+F61G4HuU/exSuR+F65D/Xo3A9CtfjPzMzMzMzM+M/j8L1KFyP4j/sUbgehevhP0jhehSuR+E/pHA9Ctej4D8AAAAAAADgP7gehetRuN4/cT0K16Nw3T8pXI/C9SjcP+F6FK5H4do/mpmZmZmZ2T9SuB6F61HYPwrXo3A9Ctc/w/UoXI/C1T97FK5H4XrUPzMzMzMzM9M/7FG4HoXr0T+kcD0K16PQP7gehetRuM4/KVyPwvUozD+amZmZmZnJPwrXo3A9Csc/exSuR+F6xD/sUbgehevBP7gehetRuL4/mpmZmZmZuT97FK5H4Xq0P7gehetRuK4/exSuR+F6pD97FK5H4XqUPwAAAAAAAAAA",
          "dtype": "f8"
         },
         "xaxis": "x",
         "y": {
          "bdata": "qo+sdWKJ5z8qnSKBf4LdP236QI/DItk/FWzWrELd1T99pM/fZ3XTP+8Zo0g/Y9I/faPpCp8v0T82CQSRXJ/QP5H/MOsOh88/HAuejtBszT8rRgV3EzDMP2a4gEPfUcs/XD5RG1F7yj9J7/Nfo5nJP4DahNfkHsk/Z7QMMB6QyD8SRY6HSRXIP4gVgW3/scc/xL22npk3xz99DHkqM87GPxeMPgFjZcY/B4D2Uwn1xT+lxl56DJnFP6cXm0QKQMU/9eZRmGrnxD8e2Inn4IvEP1sIq8ltO8Q/DkNBecDywz98buiQ9rDDP6FxT3jYcMM/U6me4sAqwz/lfQc5uOXCP8bfcQ95pMI/GU3EI7hywj+ImEti70PCP+LNyiSsB8I/fwbyhq/YwT+50j9n5LHBP7Fne9cph8E/945YWDpcwT8PGFU5VSnBP6HxECH9BsE/X/PyXDzkwD+3Lr/i0LXAPx3r/qbmjsA/jbI3GeJswD/4U2SLh0DAPyYsPLvTGMA/skQ5i83evz/jJ95XiJS/P/3c22MfW78/9zK9u7WDwT+dI/bDzqrBPy1d4rXr08E/LMBIqjIFwj+Ei6mhcS7CP8GA4K8vX8I/CW4/qDOGwj87Dt+6+rTCP6N15kK56cI/Bc4UzCARwz9PSanCXEXDP9+j/GLzh8M/Ef5cbVG1wz9hfoezdevDP+ve7nOAI8Q/Hrax+xxXxD+0781XnpbEP/c6Aph3zMQ/9B7jl2EQxT/JPIraElTFPwlstAfAqMU/6f+GN3n6xT+iRL0l50zGP9L3zy9tlsY/f/XcmiLgxj+Sqj484zLHP8vfylLElcc/wysa/630xz9RdknfOWPIP8EJ88bGxsg/ScNg79FXyT+9gseIgODJP6I1lMv/W8o/bpXFghDvyj/WuRJSzX/LP5nI66AODMw/whDFnVivzD99DV3XdHDNP6TkIs7Dhs4/5NBXMLiDzz9Ht/9cayTQPxPSLG7E8tA/8G2szCPZ0T+MP6CzwtrSP4N5/tt3y9M/v2u/3eeb1D/FJlejKTzWP4VTBv2Cadg/OVHgZQRK3D9Sy2fCzUbgP45ZVCMKfek/",
          "dtype": "f8"
         },
         "yaxis": "y"
        },
        {
         "line": {
          "color": "rgb(166,86,40)",
          "width": 2
         },
         "mode": "lines",
         "name": "075",
         "type": "scatter",
         "x": {
          "bdata": "AAAAAAAAAAB7FK5H4XqUP3sUrkfheqQ/uB6F61G4rj97FK5H4Xq0P5qZmZmZmbk/uB6F61G4vj/sUbgehevBP3sUrkfhesQ/CtejcD0Kxz+amZmZmZnJPylcj8L1KMw/uB6F61G4zj+kcD0K16PQP+xRuB6F69E/MzMzMzMz0z97FK5H4XrUP8P1KFyPwtU/CtejcD0K1z9SuB6F61HYP5qZmZmZmdk/4XoUrkfh2j8pXI/C9SjcP3E9CtejcN0/uB6F61G43j8AAAAAAADgP6RwPQrXo+A/SOF6FK5H4T/sUbgehevhP4/C9Shcj+I/MzMzMzMz4z/Xo3A9CtfjP3sUrkfheuQ/H4XrUbge5T/D9Shcj8LlP2dmZmZmZuY/CtejcD0K5z+uR+F6FK7nP1K4HoXrUeg/9ihcj8L16D+amZmZmZnpPz4K16NwPeo/4XoUrkfh6j+F61G4HoXrPylcj8L1KOw/zczMzMzM7D9xPQrXo3DtPxWuR+F6FO4/uB6F61G47j9cj8L1KFzvPwAAAAAAAPA/",
          "dtype": "f8"
         },
         "xaxis": "x",
         "y": {
          "bdata": "1Z9zJ4GI6D8jfFu6TQLfPxwl+U7Nrto/Bcu+RbMs1z8MwBnHbeHUP/gejM1ahtM/QDhQjzCG0j+rh7bjq8jRP/wR0kHf19A/AMYRgznAzz9MTg8zbFPOP+j6dT9ug80/6DsqFDubzD/BvOn2qqTLPyDK+ujl+8o/aKFTEENayj/kJat1RdLJPxMV1qNqYsk/eBZCNUHhyD/dbGVk7GfIP4BhbBsa6Mc/KDnFCcN3xz+TOooCKgbHPxgxI58gqcY/hxs/NSBExj8TppfknObFPwMjLGzRlsU/fOf8qeJGxT+n4gR/3v7EP5lfxxVmt8Q/iiT+IgFyxD+MnBuxrzvEP2cqmQiW/8M/suiG9trIwz9gOm8eGJXDP0WezEp4ScM/8x/wtq0Ywz9YLMM8sOXCPzZ1QqC6usI/34F43LeQwj/UJId10lvCP9fHYZjoKcI/9yehdHABwj9rqgJdV83BPwuvbSeepsE/CClmttCAwT+XsO+nJVXBPwZv2hDcLsE/G304thUDwT+TKNnkzN7AP+rMcSjWucA/",
          "dtype": "f8"
         },
         "yaxis": "y"
        },
        {
         "fill": "toself",
         "fillcolor": "rgba(166,86,40,0.1)",
         "hoverinfo": "skip",
         "line": {
          "color": "rgba(255,255,255,0)"
         },
         "showlegend": false,
         "type": "scatter",
         "x": {
          "bdata": "AAAAAAAAAAB7FK5H4XqUP3sUrkfheqQ/uB6F61G4rj97FK5H4Xq0P5qZmZmZmbk/uB6F61G4vj/sUbgehevBP3sUrkfhesQ/CtejcD0Kxz+amZmZmZnJPylcj8L1KMw/uB6F61G4zj+kcD0K16PQP+xRuB6F69E/MzMzMzMz0z97FK5H4XrUP8P1KFyPwtU/CtejcD0K1z9SuB6F61HYP5qZmZmZmdk/4XoUrkfh2j8pXI/C9SjcP3E9CtejcN0/uB6F61G43j8AAAAAAADgP6RwPQrXo+A/SOF6FK5H4T/sUbgehevhP4/C9Shcj+I/MzMzMzMz4z/Xo3A9CtfjP3sUrkfheuQ/H4XrUbge5T/D9Shcj8LlP2dmZmZmZuY/CtejcD0K5z+uR+F6FK7nP1K4HoXrUeg/9ihcj8L16D+amZmZmZnpPz4K16NwPeo/4XoUrkfh6j+F61G4HoXrPylcj8L1KOw/zczMzMzM7D9xPQrXo3DtPxWuR+F6FO4/uB6F61G47j9cj8L1KFzvPwAAAAAAAPA/AAAAAAAA8D9cj8L1KFzvP7gehetRuO4/Fa5H4XoU7j9xPQrXo3DtP83MzMzMzOw/KVyPwvUo7D+F61G4HoXrP+F6FK5H4eo/PgrXo3A96j+amZmZmZnpP/YoXI/C9eg/UrgehetR6D+uR+F6FK7nPwrXo3A9Cuc/Z2ZmZmZm5j/D9Shcj8LlPx+F61G4HuU/exSuR+F65D/Xo3A9CtfjPzMzMzMzM+M/j8L1KFyP4j/sUbgehevhP0jhehSuR+E/pHA9Ctej4D8AAAAAAADgP7gehetRuN4/cT0K16Nw3T8pXI/C9SjcP+F6FK5H4do/mpmZmZmZ2T9SuB6F61HYPwrXo3A9Ctc/w/UoXI/C1T97FK5H4XrUPzMzMzMzM9M/7FG4HoXr0T+kcD0K16PQP7gehetRuM4/KVyPwvUozD+amZmZmZnJPwrXo3A9Csc/exSuR+F6xD/sUbgehevBP7gehetRuL4/mpmZmZmZuT97FK5H4Xq0P7gehetRuK4/exSuR+F6pD97FK5H4XqUPwAAAAAAAAAA",
          "dtype": "f8"
         },
         "xaxis": "x",
         "y": {
          "bdata": "Y5Yz2DKP5z97tpAu8ZLdP0LDTWUpKtk//bwEh27h1T9OJkiPUHjTPxNsPwnTaNI/s9k2wfI60T/IwGeR9KvQPxTWr4P9kc8/UsESWWN2zT9c8mH3ZTTMP72fnwIWWss/cfpoFwSHyj8OWG0LzJ7JPxGv8IrLG8k/es/7m0ODyD9aNuuxIv3HP5omacFeoMc/guRyWcEzxz9KlGH0lM/GP7S14oenVcY/5JXcUufvxT+ijH1qsHvFPwl0FpECJMU/7M4xXbXFxD9O0yF6zmvEP6cLck6QG8Q/Y4Ui+afNwz9ZoM39go3DP0jFLm9FUMM/+xVKSpASwz+2kMu4ut7CP1B+WWLupsI/bvqJxK5ywj+nGTmIcD3CP6XWuf4w98E/ZuN4rDvFwT/nbGXs7ZrBP/NkIV2ZcsE/Mm3JR0JKwT+hLz3CDR3BP9wmvFCS9MA/GNP4kPvMwD+rDrYmFJ/AP/LR1hSveMA/x4cdcUhUwD+/fln2jSrAPxmq5s6bDMA/YMqV+/fOvz+aIOD8XIa/P4UcrhajSL8/kYuMxVrPwT/ZQEJLa/rBPwYVpm6vHsI/8zPOUhxRwj9v4oVZvX/CP0nKrvtYrcI/JIwEOo3Uwj8rRk+TmvvCP9Z8SVjlNcM/0mgH4D5fwz8HGtEol5rDP4yWJ3Et18M/eYVj49sCxD/J6yCNcjDEP4BcZ8EfbMQ/5WXflr+bxD8ZW6W0v+zEP/bWgygHH8U/ftbYrj1YxT9iqGuppJjFPxkzsvtx0cU/6vlfvIYexj/1JDwAOnDGP5VJ11odwMY/XzrmiRISxz/YeA1Pa2HHPyJoTA2Lwsc/J+4vrT4uyD+E6Jaao5DIP2zcrcCe/8g/TA32rox6yT9wRWnUQwDKP25IERHBjso/jANDhnYkyz9uFWs5aKfLP1Zzq4RCMcw/L+UERwDczD90IWbiiarNP1996xByr84/E1ZMfMaszz8eVV43OTnQP1dliNYHBdE/7jjMwb/m0T+OTgU2Y+XSP82WaV1u0dM/3dHYkeKj1D/KWev+ikrWPw3ZeAT4d9g/9oakOHEz3D/mIBMj1TjgP0eps3bPgek/",
          "dtype": "f8"
         },
         "yaxis": "y"
        },
        {
         "line": {
          "color": "rgb(247,129,191)",
          "width": 2
         },
         "mode": "lines",
         "name": "cos",
         "type": "scatter",
         "x": {
          "bdata": "AAAAAAAAAAB7FK5H4XqUP3sUrkfheqQ/uB6F61G4rj97FK5H4Xq0P5qZmZmZmbk/uB6F61G4vj/sUbgehevBP3sUrkfhesQ/CtejcD0Kxz+amZmZmZnJPylcj8L1KMw/uB6F61G4zj+kcD0K16PQP+xRuB6F69E/MzMzMzMz0z97FK5H4XrUP8P1KFyPwtU/CtejcD0K1z9SuB6F61HYP5qZmZmZmdk/4XoUrkfh2j8pXI/C9SjcP3E9CtejcN0/uB6F61G43j8AAAAAAADgP6RwPQrXo+A/SOF6FK5H4T/sUbgehevhP4/C9Shcj+I/MzMzMzMz4z/Xo3A9CtfjP3sUrkfheuQ/H4XrUbge5T/D9Shcj8LlP2dmZmZmZuY/CtejcD0K5z+uR+F6FK7nP1K4HoXrUeg/9ihcj8L16D+amZmZmZnpPz4K16NwPeo/4XoUrkfh6j+F61G4HoXrPylcj8L1KOw/zczMzMzM7D9xPQrXo3DtPxWuR+F6FO4/uB6F61G47j9cj8L1KFzvPwAAAAAAAPA/",
          "dtype": "f8"
         },
         "xaxis": "x",
         "y": {
          "bdata": "HcMVdDCH6D+NA3j8XPbeP2gOwdtWo9o/Cwj95FUe1z8lMU2y3dPUP3CJWzlse9M/87yE49x50j/7YtUBaL7RP+q/5SJ5ztA/0WYl3IGtzz+lDi19dEHOP8Ayp9OBbs0/40LGuwWFzD/94DtKaojLPxkxpaiG78o/7XN9xHxRyj+dQHA1pcrJP43Uc9EDWsk/1Qurzs/gyD+32rARm2rIP5gu2DGC7Mc/DUf55QN1xz/9DQ4i6gbHPw34t2L+ocY/OPlWT9pExj9j0PbyEO7FP9isCc8jnsU/1ZD8CrdJxT/IhsTDmAXFP0kJbwcLucQ/+YPGhdlsxD+wD45BFjLEPzenZjVv8MM/FFcHuYO5wz8rnaw4RYbDP6/z7/0aPcM/Ui5xAUIOwz8sbU2z7ObCP/+LgnZBuMI/T6Rb3bmGwj9/2iinY0zCPwMdxvBbHMI/R6Fb18L1wT86ePt4O77BP1vBwFEykcE/M5TXR71pwT9SGYiGxEHBPwXW8AfYHsE/aEqLFR/xwD+3gTpaSsXAPyJ1lTlgpcA/",
          "dtype": "f8"
         },
         "yaxis": "y"
        },
        {
         "fill": "toself",
         "fillcolor": "rgba(247,129,191,0.1)",
         "hoverinfo": "skip",
         "line": {
          "color": "rgba(255,255,255,0)"
         },
         "showlegend": false,
         "type": "scatter",
         "x": {
          "bdata": "AAAAAAAAAAB7FK5H4XqUP3sUrkfheqQ/uB6F61G4rj97FK5H4Xq0P5qZmZmZmbk/uB6F61G4vj/sUbgehevBP3sUrkfhesQ/CtejcD0Kxz+amZmZmZnJPylcj8L1KMw/uB6F61G4zj+kcD0K16PQP+xRuB6F69E/MzMzMzMz0z97FK5H4XrUP8P1KFyPwtU/CtejcD0K1z9SuB6F61HYP5qZmZmZmdk/4XoUrkfh2j8pXI/C9SjcP3E9CtejcN0/uB6F61G43j8AAAAAAADgP6RwPQrXo+A/SOF6FK5H4T/sUbgehevhP4/C9Shcj+I/MzMzMzMz4z/Xo3A9CtfjP3sUrkfheuQ/H4XrUbge5T/D9Shcj8LlP2dmZmZmZuY/CtejcD0K5z+uR+F6FK7nP1K4HoXrUeg/9ihcj8L16D+amZmZmZnpPz4K16NwPeo/4XoUrkfh6j+F61G4HoXrPylcj8L1KOw/zczMzMzM7D9xPQrXo3DtPxWuR+F6FO4/uB6F61G47j9cj8L1KFzvPwAAAAAAAPA/AAAAAAAA8D9cj8L1KFzvP7gehetRuO4/Fa5H4XoU7j9xPQrXo3DtP83MzMzMzOw/KVyPwvUo7D+F61G4HoXrP+F6FK5H4eo/PgrXo3A96j+amZmZmZnpP/YoXI/C9eg/UrgehetR6D+uR+F6FK7nPwrXo3A9Cuc/Z2ZmZmZm5j/D9Shcj8LlPx+F61G4HuU/exSuR+F65D/Xo3A9CtfjPzMzMzMzM+M/j8L1KFyP4j/sUbgehevhP0jhehSuR+E/pHA9Ctej4D8AAAAAAADgP7gehetRuN4/cT0K16Nw3T8pXI/C9SjcP+F6FK5H4do/mpmZmZmZ2T9SuB6F61HYPwrXo3A9Ctc/w/UoXI/C1T97FK5H4XrUPzMzMzMzM9M/7FG4HoXr0T+kcD0K16PQP7gehetRuM4/KVyPwvUozD+amZmZmZnJPwrXo3A9Csc/exSuR+F6xD/sUbgehevBP7gehetRuL4/mpmZmZmZuT97FK5H4Xq0P7gehetRuK4/exSuR+F6pD97FK5H4XqUPwAAAAAAAAAA",
          "dtype": "f8"
         },
         "xaxis": "x",
         "y": {
          "bdata": "nM4EIs+I5z93uFyIUITdP1CDjd7jHtk/AZY7n/3S1T+oYX28YGrTPxCF0LHlWdI/QJUpmWUo0T9pwFQ5AJrQPyEQ7eUGd88/ZlL807FdzT9vqnOxRh3MP20DyakiP8s//lNcO5Zoyj9+KKKSZn/JPw+qHXt2DMk/o30xTzR7yD/Mu8mjhfbHPzopWrmxlcc/AlSVnTcrxz/qbYKr787GP4SiMBU4XMY/Ye5lDb7zxT/1XS/j6ZDFP3SVUT6PMsU/qCiflvPaxD+ncZXcWovEP+88BV4hPMQ/a/Jularlwz8MGsrXwaLDP6ZxY3CkW8M/BD+CnSoSwz8GNx3NUNrCP9XqGNntosI/1W4npYV7wj9BXTYzc0nCP4TSqDypAcI/FlFA9IzTwT80ZDvJUa7BP7Cgx6W+gcE/dwn5cZhRwT+MjE0rqhnBP5wySIo68MA/w17HngjNwD8LFgjeaZbAPzRmGi8LasA/c2lx2h5GwD8wdYkTgSLAP8qpr5eCA8A/5ozpr464vz/Vx25Gx22/PxG0/UMhOL8/PBAs0a+uwT+Dnz0RsdPBP13OIdP2BcI/QAIyeC06wj90vYb5B2HCP/O+PbVbjcI/ghxndFm4wj9p2u4TDebCP8vj7w99HsM/agdEV31Iwz9yKAQjHX/DPyc/vkjbu8M/Tnc9R8Tuwz8kdl+dhx/EP44Log73SMQ/2hQ3v4x4xD8V3SI+F8PEP1M/58yB98Q/mWO0kfA9xT9a6P6124nFP+7ICm6Ix8U/7KB6nnEWxj+E876vb2jGPz8vioDDrcY/wRwOQCYAxz8fL1gJx1DHP8jJDgjBrsc/ploeh20RyD8Fvuxg6nzIP7mfjL5J9sg/rLp/Tsx8yT+ER993RgbKP6jDwP9nlso/4H+N6VUeyz9uxRbHxJ7LPzdqyTnFJ8w/I7gs1pbSzD98mdUBbpHNP8gxMDx1oc4/E2KF/eCdzz9uOXMk0TLQP549J/Ko/tA/w/fU0m7h0T+NBVbKz+LSP6bk3y1Uy9M/0I3mwPKc1D+iAB2oWj3WPxV6viquadg/gJn02Mkn3D9Rp0m4NDTgP563JsaRhek/",
          "dtype": "f8"
         },
         "yaxis": "y"
        },
        {
         "line": {
          "color": "rgb(153,153,153)",
          "width": 2
         },
         "mode": "lines",
         "name": "down-0",
         "type": "scatter",
         "x": {
          "bdata": "AAAAAAAAAAB7FK5H4XqUP3sUrkfheqQ/uB6F61G4rj97FK5H4Xq0P5qZmZmZmbk/uB6F61G4vj/sUbgehevBP3sUrkfhesQ/CtejcD0Kxz+amZmZmZnJPylcj8L1KMw/uB6F61G4zj+kcD0K16PQP+xRuB6F69E/MzMzMzMz0z97FK5H4XrUP8P1KFyPwtU/CtejcD0K1z9SuB6F61HYP5qZmZmZmdk/4XoUrkfh2j8pXI/C9SjcP3E9CtejcN0/uB6F61G43j8AAAAAAADgP6RwPQrXo+A/SOF6FK5H4T/sUbgehevhP4/C9Shcj+I/MzMzMzMz4z/Xo3A9CtfjP3sUrkfheuQ/H4XrUbge5T/D9Shcj8LlP2dmZmZmZuY/CtejcD0K5z+uR+F6FK7nP1K4HoXrUeg/9ihcj8L16D+amZmZmZnpPz4K16NwPeo/4XoUrkfh6j+F61G4HoXrPylcj8L1KOw/zczMzMzM7D9xPQrXo3DtPxWuR+F6FO4/uB6F61G47j9cj8L1KFzvPwAAAAAAAPA/",
          "dtype": "f8"
         },
         "xaxis": "x",
         "y": {
          "bdata": "ET+xWlZ/6D9YQBddbPPePy2Y0oz4nto/OVb5kBoY1z83dRells3UPyd6g+DWc9M/CUnP0WZx0j9VFDNwhLHRP7YkwzrhwdA/IUXPdICSzz8HWXhfnyXOP5t6ucfHUs0/TEk3YjpqzD+JAzPTDnLLP/e0kO24zMo/QDsgs3Aoyj8wecZD+aDJP0dzt8lFMMk/eIxEJ2alyD97HnsEFDHIP30Bg7h4xcc/genX2M1Txz+lYBZmLO3GPwWTeydFi8Y/EU2YOgMvxj/wvdFfFdnFPxEMKpcaisU/E/Y1mYM5xT+dvu7rfPXEP76lsgKDrcQ/ihdBZxxkxD8f29Q3pyHEPwGQmE0p2sM/kCOtCK+cwz+z9OHstWfDPwdrkAwLHsM/85b4oaXqwj/Pl3JkP7rCP99RwobsisI/Ak8XGUtewj/c/iUdOy7CP9LbVFZSCMI/17aA4p/hwT+RwL12v7TBP4WY4gvci8E/7UIyUXVhwT8NFazpSTjBP1mWwHfgEME/KHtIl7jlwD8tKVxDLLjAP51ib3l2lcA/",
          "dtype": "f8"
         },
         "yaxis": "y"
        },
        {
         "fill": "toself",
         "fillcolor": "rgba(153,153,153,0.1)",
         "hoverinfo": "skip",
         "line": {
          "color": "rgba(255,255,255,0)"
         },
         "showlegend": false,
         "type": "scatter",
         "x": {
          "bdata": "AAAAAAAAAAB7FK5H4XqUP3sUrkfheqQ/uB6F61G4rj97FK5H4Xq0P5qZmZmZmbk/uB6F61G4vj/sUbgehevBP3sUrkfhesQ/CtejcD0Kxz+amZmZmZnJPylcj8L1KMw/uB6F61G4zj+kcD0K16PQP+xRuB6F69E/MzMzMzMz0z97FK5H4XrUP8P1KFyPwtU/CtejcD0K1z9SuB6F61HYP5qZmZmZmdk/4XoUrkfh2j8pXI/C9SjcP3E9CtejcN0/uB6F61G43j8AAAAAAADgP6RwPQrXo+A/SOF6FK5H4T/sUbgehevhP4/C9Shcj+I/MzMzMzMz4z/Xo3A9CtfjP3sUrkfheuQ/H4XrUbge5T/D9Shcj8LlP2dmZmZmZuY/CtejcD0K5z+uR+F6FK7nP1K4HoXrUeg/9ihcj8L16D+amZmZmZnpPz4K16NwPeo/4XoUrkfh6j+F61G4HoXrPylcj8L1KOw/zczMzMzM7D9xPQrXo3DtPxWuR+F6FO4/uB6F61G47j9cj8L1KFzvPwAAAAAAAPA/AAAAAAAA8D9cj8L1KFzvP7gehetRuO4/Fa5H4XoU7j9xPQrXo3DtP83MzMzMzOw/KVyPwvUo7D+F61G4HoXrP+F6FK5H4eo/PgrXo3A96j+amZmZmZnpP/YoXI/C9eg/UrgehetR6D+uR+F6FK7nPwrXo3A9Cuc/Z2ZmZmZm5j/D9Shcj8LlPx+F61G4HuU/exSuR+F65D/Xo3A9CtfjPzMzMzMzM+M/j8L1KFyP4j/sUbgehevhP0jhehSuR+E/pHA9Ctej4D8AAAAAAADgP7gehetRuN4/cT0K16Nw3T8pXI/C9SjcP+F6FK5H4do/mpmZmZmZ2T9SuB6F61HYPwrXo3A9Ctc/w/UoXI/C1T97FK5H4XrUPzMzMzMzM9M/7FG4HoXr0T+kcD0K16PQP7gehetRuM4/KVyPwvUozD+amZmZmZnJPwrXo3A9Csc/exSuR+F6xD/sUbgehevBP7gehetRuL4/mpmZmZmZuT97FK5H4Xq0P7gehetRuK4/exSuR+F6pD97FK5H4XqUPwAAAAAAAAAA",
          "dtype": "f8"
         },
         "xaxis": "x",
         "y": {
          "bdata": "AyC+7LGD5z+H+eRwS3PdPwjNte+gDtk/x0wwlofG1T8yEig6fV7TP9QpGZJ9S9I/q6DJps8W0T8cx928eobQP2toMwPSUM8/YxznLM44zT9CO3KGFvjLP4xMg/1DGss/rgzO0WtCyj9qbrpJDVnJP++8zT0N2Mg/gK0JhOZCyD+PnLTSU8LHPzhBAAfBZ8c/D5EwAz7rxj8jfj9zY4TGP/ZBsP2zH8Y//1BqZXO/xT+pVHPFel3FP2xHzFleBcU/uD16mha1xD8ZcoXLxWXEPxkDpsqKG8Q/EBQmlazOwz+7ytgWKI3DP0fj3AAQS8M/nTiaT+gFwz8x4XBguMTCP2TN4QY4hMI/TQtyzHFRwj+m+sqFYRzCP4gWWhsz1sE/c9wdUjakwT97iGYv0XzBP+BxvWG8VME/qLtXnUwtwT8PF7d2qwHBP6pvfi8L4sA/QEVo/Gy9wD/kLZhAxpXAPwHYeGV3cMA/KICL6SRLwD+IPPQgqCLAP8JUkRkz978/L6yw3LC0vz8hzvwhpFq/P/lt9YjdH78/Pg5kLv6awT9K67l1BsPBPzigOMAY8cE/UYK4Yicmwj+S7WOy603CP7IF2bjFd8I/CVlMskCnwj8+U+OsuNPCP24omcjSBcM/+kcrfZkuwz+p5pTDylrDP1zi1pRJj8M/3jHHqxzBwz8jp36ZrffDP3NR0/EUMcQ/hr/G/eJlxD/A7vhTCrPEP9M76ETs58Q/nlJPlBowxT8N1TgPln7FP3f2535QwsU/NWiIBPYPxj9/sgTB0V3GPxbYRZ1apMY/CRWuY6r4xj/HCR70ZEzHP2pcttrvqMc/nt4q9SsRyD+hbLkG3nzIPwOCRUwo6Mg/BMFVcz1ryT/TvraVxN3JP+GHWEuOX8o/VqVujMr4yj/RVdi0nn/LPwDJNuL6Dcw//6xTnWTBzD+omKtcEIvNP+qFoPIIks4/qqjvkUuLzz9mOz8clCnQP++2W14Z9tA/N5Xsc1nb0T+OYYgjjtzSP2fx1Pz9y9M/esrtLjCc1D882AYQsDzWP6tfwoutadg/UmPvKVAv3D+Uw6SkxjngPx9epMj6euk/",
          "dtype": "f8"
         },
         "yaxis": "y"
        },
        {
         "error_x": {
          "array": {
           "bdata": "c2i4gHqxgz/tZhWeNZZcPx8fvL9nQoA/u3WGujCmez9JW957OeSEPx/dFNqeDoc/vugjZTV7ej/wsBdHOwR+P7b+G5hsvYo/",
           "dtype": "f8"
          },
          "type": "data"
         },
         "marker": {
          "color": "skyblue",
          "line": {
           "color": "black",
           "width": 1
          }
         },
         "orientation": "h",
         "showlegend": false,
         "type": "bar",
         "x": {
          "bdata": "60xr/4q3yz+5pVi6fsvKP/DnEyH5q8o/jSIMOPeIyj8NWf08DPjJP+RAaaTG1sk//ff2f3wByT/dXrWUlcrIP+8DcmMYlsc/",
          "dtype": "f8"
         },
         "xaxis": "x2",
         "y": [
          "075",
          "0-down-0",
          "0-075-0",
          "0-down",
          "05",
          "down-0",
          "cos",
          "0-down-0-fine",
          "0-up-0"
         ],
         "yaxis": "y2"
        }
       ],
       "layout": {
        "font": {
         "size": 16
        },
        "height": 400,
        "legend": {
         "font": {
          "size": 16
         },
         "title": {
          "text": "Optimizers"
         }
        },
        "margin": {
         "b": 50,
         "l": 50,
         "r": 50,
         "t": 60
        },
        "template": {
         "data": {
          "bar": [
           {
            "error_x": {
             "color": "#2a3f5f"
            },
            "error_y": {
             "color": "#2a3f5f"
            },
            "marker": {
             "line": {
              "color": "white",
              "width": 0.5
             },
             "pattern": {
              "fillmode": "overlay",
              "size": 10,
              "solidity": 0.2
             }
            },
            "type": "bar"
           }
          ],
          "barpolar": [
           {
            "marker": {
             "line": {
              "color": "white",
              "width": 0.5
             },
             "pattern": {
              "fillmode": "overlay",
              "size": 10,
              "solidity": 0.2
             }
            },
            "type": "barpolar"
           }
          ],
          "carpet": [
           {
            "aaxis": {
             "endlinecolor": "#2a3f5f",
             "gridcolor": "#C8D4E3",
             "linecolor": "#C8D4E3",
             "minorgridcolor": "#C8D4E3",
             "startlinecolor": "#2a3f5f"
            },
            "baxis": {
             "endlinecolor": "#2a3f5f",
             "gridcolor": "#C8D4E3",
             "linecolor": "#C8D4E3",
             "minorgridcolor": "#C8D4E3",
             "startlinecolor": "#2a3f5f"
            },
            "type": "carpet"
           }
          ],
          "choropleth": [
           {
            "colorbar": {
             "outlinewidth": 0,
             "ticks": ""
            },
            "type": "choropleth"
           }
          ],
          "contour": [
           {
            "colorbar": {
             "outlinewidth": 0,
             "ticks": ""
            },
            "colorscale": [
             [
              0,
              "#0d0887"
             ],
             [
              0.1111111111111111,
              "#46039f"
             ],
             [
              0.2222222222222222,
              "#7201a8"
             ],
             [
              0.3333333333333333,
              "#9c179e"
             ],
             [
              0.4444444444444444,
              "#bd3786"
             ],
             [
              0.5555555555555556,
              "#d8576b"
             ],
             [
              0.6666666666666666,
              "#ed7953"
             ],
             [
              0.7777777777777778,
              "#fb9f3a"
             ],
             [
              0.8888888888888888,
              "#fdca26"
             ],
             [
              1,
              "#f0f921"
             ]
            ],
            "type": "contour"
           }
          ],
          "contourcarpet": [
           {
            "colorbar": {
             "outlinewidth": 0,
             "ticks": ""
            },
            "type": "contourcarpet"
           }
          ],
          "heatmap": [
           {
            "colorbar": {
             "outlinewidth": 0,
             "ticks": ""
            },
            "colorscale": [
             [
              0,
              "#0d0887"
             ],
             [
              0.1111111111111111,
              "#46039f"
             ],
             [
              0.2222222222222222,
              "#7201a8"
             ],
             [
              0.3333333333333333,
              "#9c179e"
             ],
             [
              0.4444444444444444,
              "#bd3786"
             ],
             [
              0.5555555555555556,
              "#d8576b"
             ],
             [
              0.6666666666666666,
              "#ed7953"
             ],
             [
              0.7777777777777778,
              "#fb9f3a"
             ],
             [
              0.8888888888888888,
              "#fdca26"
             ],
             [
              1,
              "#f0f921"
             ]
            ],
            "type": "heatmap"
           }
          ],
          "histogram": [
           {
            "marker": {
             "pattern": {
              "fillmode": "overlay",
              "size": 10,
              "solidity": 0.2
             }
            },
            "type": "histogram"
           }
          ],
          "histogram2d": [
           {
            "colorbar": {
             "outlinewidth": 0,
             "ticks": ""
            },
            "colorscale": [
             [
              0,
              "#0d0887"
             ],
             [
              0.1111111111111111,
              "#46039f"
             ],
             [
              0.2222222222222222,
              "#7201a8"
             ],
             [
              0.3333333333333333,
              "#9c179e"
             ],
             [
              0.4444444444444444,
              "#bd3786"
             ],
             [
              0.5555555555555556,
              "#d8576b"
             ],
             [
              0.6666666666666666,
              "#ed7953"
             ],
             [
              0.7777777777777778,
              "#fb9f3a"
             ],
             [
              0.8888888888888888,
              "#fdca26"
             ],
             [
              1,
              "#f0f921"
             ]
            ],
            "type": "histogram2d"
           }
          ],
          "histogram2dcontour": [
           {
            "colorbar": {
             "outlinewidth": 0,
             "ticks": ""
            },
            "colorscale": [
             [
              0,
              "#0d0887"
             ],
             [
              0.1111111111111111,
              "#46039f"
             ],
             [
              0.2222222222222222,
              "#7201a8"
             ],
             [
              0.3333333333333333,
              "#9c179e"
             ],
             [
              0.4444444444444444,
              "#bd3786"
             ],
             [
              0.5555555555555556,
              "#d8576b"
             ],
             [
              0.6666666666666666,
              "#ed7953"
             ],
             [
              0.7777777777777778,
              "#fb9f3a"
             ],
             [
              0.8888888888888888,
              "#fdca26"
             ],
             [
              1,
              "#f0f921"
             ]
            ],
            "type": "histogram2dcontour"
           }
          ],
          "mesh3d": [
           {
            "colorbar": {
             "outlinewidth": 0,
             "ticks": ""
            },
            "type": "mesh3d"
           }
          ],
          "parcoords": [
           {
            "line": {
             "colorbar": {
              "outlinewidth": 0,
              "ticks": ""
             }
            },
            "type": "parcoords"
           }
          ],
          "pie": [
           {
            "automargin": true,
            "type": "pie"
           }
          ],
          "scatter": [
           {
            "fillpattern": {
             "fillmode": "overlay",
             "size": 10,
             "solidity": 0.2
            },
            "type": "scatter"
           }
          ],
          "scatter3d": [
           {
            "line": {
             "colorbar": {
              "outlinewidth": 0,
              "ticks": ""
             }
            },
            "marker": {
             "colorbar": {
              "outlinewidth": 0,
              "ticks": ""
             }
            },
            "type": "scatter3d"
           }
          ],
          "scattercarpet": [
           {
            "marker": {
             "colorbar": {
              "outlinewidth": 0,
              "ticks": ""
             }
            },
            "type": "scattercarpet"
           }
          ],
          "scattergeo": [
           {
            "marker": {
             "colorbar": {
              "outlinewidth": 0,
              "ticks": ""
             }
            },
            "type": "scattergeo"
           }
          ],
          "scattergl": [
           {
            "marker": {
             "colorbar": {
              "outlinewidth": 0,
              "ticks": ""
             }
            },
            "type": "scattergl"
           }
          ],
          "scattermap": [
           {
            "marker": {
             "colorbar": {
              "outlinewidth": 0,
              "ticks": ""
             }
            },
            "type": "scattermap"
           }
          ],
          "scattermapbox": [
           {
            "marker": {
             "colorbar": {
              "outlinewidth": 0,
              "ticks": ""
             }
            },
            "type": "scattermapbox"
           }
          ],
          "scatterpolar": [
           {
            "marker": {
             "colorbar": {
              "outlinewidth": 0,
              "ticks": ""
             }
            },
            "type": "scatterpolar"
           }
          ],
          "scatterpolargl": [
           {
            "marker": {
             "colorbar": {
              "outlinewidth": 0,
              "ticks": ""
             }
            },
            "type": "scatterpolargl"
           }
          ],
          "scatterternary": [
           {
            "marker": {
             "colorbar": {
              "outlinewidth": 0,
              "ticks": ""
             }
            },
            "type": "scatterternary"
           }
          ],
          "surface": [
           {
            "colorbar": {
             "outlinewidth": 0,
             "ticks": ""
            },
            "colorscale": [
             [
              0,
              "#0d0887"
             ],
             [
              0.1111111111111111,
              "#46039f"
             ],
             [
              0.2222222222222222,
              "#7201a8"
             ],
             [
              0.3333333333333333,
              "#9c179e"
             ],
             [
              0.4444444444444444,
              "#bd3786"
             ],
             [
              0.5555555555555556,
              "#d8576b"
             ],
             [
              0.6666666666666666,
              "#ed7953"
             ],
             [
              0.7777777777777778,
              "#fb9f3a"
             ],
             [
              0.8888888888888888,
              "#fdca26"
             ],
             [
              1,
              "#f0f921"
             ]
            ],
            "type": "surface"
           }
          ],
          "table": [
           {
            "cells": {
             "fill": {
              "color": "#EBF0F8"
             },
             "line": {
              "color": "white"
             }
            },
            "header": {
             "fill": {
              "color": "#C8D4E3"
             },
             "line": {
              "color": "white"
             }
            },
            "type": "table"
           }
          ]
         },
         "layout": {
          "annotationdefaults": {
           "arrowcolor": "#2a3f5f",
           "arrowhead": 0,
           "arrowwidth": 1
          },
          "autotypenumbers": "strict",
          "coloraxis": {
           "colorbar": {
            "outlinewidth": 0,
            "ticks": ""
           }
          },
          "colorscale": {
           "diverging": [
            [
             0,
             "#8e0152"
            ],
            [
             0.1,
             "#c51b7d"
            ],
            [
             0.2,
             "#de77ae"
            ],
            [
             0.3,
             "#f1b6da"
            ],
            [
             0.4,
             "#fde0ef"
            ],
            [
             0.5,
             "#f7f7f7"
            ],
            [
             0.6,
             "#e6f5d0"
            ],
            [
             0.7,
             "#b8e186"
            ],
            [
             0.8,
             "#7fbc41"
            ],
            [
             0.9,
             "#4d9221"
            ],
            [
             1,
             "#276419"
            ]
           ],
           "sequential": [
            [
             0,
             "#0d0887"
            ],
            [
             0.1111111111111111,
             "#46039f"
            ],
            [
             0.2222222222222222,
             "#7201a8"
            ],
            [
             0.3333333333333333,
             "#9c179e"
            ],
            [
             0.4444444444444444,
             "#bd3786"
            ],
            [
             0.5555555555555556,
             "#d8576b"
            ],
            [
             0.6666666666666666,
             "#ed7953"
            ],
            [
             0.7777777777777778,
             "#fb9f3a"
            ],
            [
             0.8888888888888888,
             "#fdca26"
            ],
            [
             1,
             "#f0f921"
            ]
           ],
           "sequentialminus": [
            [
             0,
             "#0d0887"
            ],
            [
             0.1111111111111111,
             "#46039f"
            ],
            [
             0.2222222222222222,
             "#7201a8"
            ],
            [
             0.3333333333333333,
             "#9c179e"
            ],
            [
             0.4444444444444444,
             "#bd3786"
            ],
            [
             0.5555555555555556,
             "#d8576b"
            ],
            [
             0.6666666666666666,
             "#ed7953"
            ],
            [
             0.7777777777777778,
             "#fb9f3a"
            ],
            [
             0.8888888888888888,
             "#fdca26"
            ],
            [
             1,
             "#f0f921"
            ]
           ]
          },
          "colorway": [
           "#636efa",
           "#EF553B",
           "#00cc96",
           "#ab63fa",
           "#FFA15A",
           "#19d3f3",
           "#FF6692",
           "#B6E880",
           "#FF97FF",
           "#FECB52"
          ],
          "font": {
           "color": "#2a3f5f"
          },
          "geo": {
           "bgcolor": "white",
           "lakecolor": "white",
           "landcolor": "white",
           "showlakes": true,
           "showland": true,
           "subunitcolor": "#C8D4E3"
          },
          "hoverlabel": {
           "align": "left"
          },
          "hovermode": "closest",
          "mapbox": {
           "style": "light"
          },
          "paper_bgcolor": "white",
          "plot_bgcolor": "white",
          "polar": {
           "angularaxis": {
            "gridcolor": "#EBF0F8",
            "linecolor": "#EBF0F8",
            "ticks": ""
           },
           "bgcolor": "white",
           "radialaxis": {
            "gridcolor": "#EBF0F8",
            "linecolor": "#EBF0F8",
            "ticks": ""
           }
          },
          "scene": {
           "xaxis": {
            "backgroundcolor": "white",
            "gridcolor": "#DFE8F3",
            "gridwidth": 2,
            "linecolor": "#EBF0F8",
            "showbackground": true,
            "ticks": "",
            "zerolinecolor": "#EBF0F8"
           },
           "yaxis": {
            "backgroundcolor": "white",
            "gridcolor": "#DFE8F3",
            "gridwidth": 2,
            "linecolor": "#EBF0F8",
            "showbackground": true,
            "ticks": "",
            "zerolinecolor": "#EBF0F8"
           },
           "zaxis": {
            "backgroundcolor": "white",
            "gridcolor": "#DFE8F3",
            "gridwidth": 2,
            "linecolor": "#EBF0F8",
            "showbackground": true,
            "ticks": "",
            "zerolinecolor": "#EBF0F8"
           }
          },
          "shapedefaults": {
           "line": {
            "color": "#2a3f5f"
           }
          },
          "ternary": {
           "aaxis": {
            "gridcolor": "#DFE8F3",
            "linecolor": "#A2B1C6",
            "ticks": ""
           },
           "baxis": {
            "gridcolor": "#DFE8F3",
            "linecolor": "#A2B1C6",
            "ticks": ""
           },
           "bgcolor": "white",
           "caxis": {
            "gridcolor": "#DFE8F3",
            "linecolor": "#A2B1C6",
            "ticks": ""
           }
          },
          "title": {
           "x": 0.05
          },
          "xaxis": {
           "automargin": true,
           "gridcolor": "#EBF0F8",
           "linecolor": "#EBF0F8",
           "ticks": "",
           "title": {
            "standoff": 15
           },
           "zerolinecolor": "#EBF0F8",
           "zerolinewidth": 2
          },
          "yaxis": {
           "automargin": true,
           "gridcolor": "#EBF0F8",
           "linecolor": "#EBF0F8",
           "ticks": "",
           "title": {
            "standoff": 15
           },
           "zerolinecolor": "#EBF0F8",
           "zerolinewidth": 2
          }
         }
        },
        "width": 1800,
        "xaxis": {
         "anchor": "y",
         "domain": [
          0,
          0.51
         ],
         "title": {
          "text": "Normalized Trials"
         }
        },
        "xaxis2": {
         "anchor": "y2",
         "domain": [
          0.66,
          1
         ],
         "title": {
          "text": "AUC"
         }
        },
        "yaxis": {
         "anchor": "x",
         "domain": [
          0,
          1
         ],
         "title": {
          "text": "Normalized Inc-Performance"
         }
        },
        "yaxis2": {
         "anchor": "x2",
         "domain": [
          0,
          1
         ],
         "title": {
          "text": "Optimizer"
         }
        }
       }
      }
     },
     "metadata": {},
     "output_type": "display_data"
    }
   ],
   "source": [
    "# Which thresholding?\n",
    "plot_one_thing('thresh')"
   ]
  },
  {
   "cell_type": "code",
   "execution_count": 135,
   "id": "a0435a60",
   "metadata": {},
   "outputs": [
    {
     "name": "stdout",
     "output_type": "stream",
     "text": [
      "['True' 'cs_proba_hpi']\n"
     ]
    },
    {
     "name": "stderr",
     "output_type": "stream",
     "text": [
      "/tmp/ipykernel_27098/3449863810.py:27: DeprecationWarning:\n",
      "\n",
      "DataFrameGroupBy.apply operated on the grouping columns. This behavior is deprecated, and in a future version of pandas the grouping columns will be excluded from the operation. Either pass `include_groups=False` to exclude the groupings or explicitly select the grouping columns after groupby to silence this warning.\n",
      "\n"
     ]
    },
    {
     "data": {
      "application/vnd.plotly.v1+json": {
       "config": {
        "plotlyServerURL": "https://plot.ly"
       },
       "data": [
        {
         "line": {
          "color": "rgb(228,26,28)",
          "width": 2
         },
         "mode": "lines",
         "name": "True",
         "type": "scatter",
         "x": {
          "bdata": "AAAAAAAAAAB7FK5H4XqUP3sUrkfheqQ/uB6F61G4rj97FK5H4Xq0P5qZmZmZmbk/uB6F61G4vj/sUbgehevBP3sUrkfhesQ/CtejcD0Kxz+amZmZmZnJPylcj8L1KMw/uB6F61G4zj+kcD0K16PQP+xRuB6F69E/MzMzMzMz0z97FK5H4XrUP8P1KFyPwtU/CtejcD0K1z9SuB6F61HYP5qZmZmZmdk/4XoUrkfh2j8pXI/C9SjcP3E9CtejcN0/uB6F61G43j8AAAAAAADgP6RwPQrXo+A/SOF6FK5H4T/sUbgehevhP4/C9Shcj+I/MzMzMzMz4z/Xo3A9CtfjP3sUrkfheuQ/H4XrUbge5T/D9Shcj8LlP2dmZmZmZuY/CtejcD0K5z+uR+F6FK7nP1K4HoXrUeg/9ihcj8L16D+amZmZmZnpPz4K16NwPeo/4XoUrkfh6j+F61G4HoXrPylcj8L1KOw/zczMzMzM7D9xPQrXo3DtPxWuR+F6FO4/uB6F61G47j9cj8L1KFzvPwAAAAAAAPA/",
          "dtype": "f8"
         },
         "xaxis": "x",
         "y": {
          "bdata": "uzIT9R6F6D8l9bUoDQbfP6Wjg6qasdo/ZILt4MIj1z+N+/BPdNjUP+BhznW1f9M/LEcHirl+0j+dimFlOMDRP1fswgSY0NA/92gTbj+yzz/05h7VHkbOP+jVUoITdM0/xZLn04eJzD8DYotvO5LLP+AlxzAN9so/pX42LqRXyj/rhajrNsvJPy22lHsVV8k/PbrVvbvSyD9DB5tC117IPwCmX1WF6Mc/2VZ/I7Vzxz/43s+kIAzHP03+jweUq8Y/NE0mpbxNxj8FYVsMjvHFPzDC62lCpMU/A+q1q4BPxT9Yy7l36wjFPyieV8qHvcQ/SnUIvRJ0xD81ZCeZljLEP1pzBdNG8cM/yPMRZmm5wz+FVhehEIPDPz39u79ePMM/mz1U9oEEwz9Y2Ap4DtXCP+jOhbcIpcI/dEs52O93wj/No+gttz/CP3vLsIsVEsI/n9vbTG/qwT8fbBR637XBP7RXmenQisE/GFcFjiViwT9Nr/xz/zXBP6gMH1BYDsE/+edFRKTjwD83bg1QuLnAP7vmXF+ll8A/",
          "dtype": "f8"
         },
         "yaxis": "y"
        },
        {
         "fill": "toself",
         "fillcolor": "rgba(228,26,28,0.1)",
         "hoverinfo": "skip",
         "line": {
          "color": "rgba(255,255,255,0)"
         },
         "showlegend": false,
         "type": "scatter",
         "x": {
          "bdata": "AAAAAAAAAAB7FK5H4XqUP3sUrkfheqQ/uB6F61G4rj97FK5H4Xq0P5qZmZmZmbk/uB6F61G4vj/sUbgehevBP3sUrkfhesQ/CtejcD0Kxz+amZmZmZnJPylcj8L1KMw/uB6F61G4zj+kcD0K16PQP+xRuB6F69E/MzMzMzMz0z97FK5H4XrUP8P1KFyPwtU/CtejcD0K1z9SuB6F61HYP5qZmZmZmdk/4XoUrkfh2j8pXI/C9SjcP3E9CtejcN0/uB6F61G43j8AAAAAAADgP6RwPQrXo+A/SOF6FK5H4T/sUbgehevhP4/C9Shcj+I/MzMzMzMz4z/Xo3A9CtfjP3sUrkfheuQ/H4XrUbge5T/D9Shcj8LlP2dmZmZmZuY/CtejcD0K5z+uR+F6FK7nP1K4HoXrUeg/9ihcj8L16D+amZmZmZnpPz4K16NwPeo/4XoUrkfh6j+F61G4HoXrPylcj8L1KOw/zczMzMzM7D9xPQrXo3DtPxWuR+F6FO4/uB6F61G47j9cj8L1KFzvPwAAAAAAAPA/AAAAAAAA8D9cj8L1KFzvP7gehetRuO4/Fa5H4XoU7j9xPQrXo3DtP83MzMzMzOw/KVyPwvUo7D+F61G4HoXrP+F6FK5H4eo/PgrXo3A96j+amZmZmZnpP/YoXI/C9eg/UrgehetR6D+uR+F6FK7nPwrXo3A9Cuc/Z2ZmZmZm5j/D9Shcj8LlPx+F61G4HuU/exSuR+F65D/Xo3A9CtfjPzMzMzMzM+M/j8L1KFyP4j/sUbgehevhP0jhehSuR+E/pHA9Ctej4D8AAAAAAADgP7gehetRuN4/cT0K16Nw3T8pXI/C9SjcP+F6FK5H4do/mpmZmZmZ2T9SuB6F61HYPwrXo3A9Ctc/w/UoXI/C1T97FK5H4XrUPzMzMzMzM9M/7FG4HoXr0T+kcD0K16PQP7gehetRuM4/KVyPwvUozD+amZmZmZnJPwrXo3A9Csc/exSuR+F6xD/sUbgehevBP7gehetRuL4/mpmZmZmZuT97FK5H4Xq0P7gehetRuK4/exSuR+F6pD97FK5H4XqUPwAAAAAAAAAA",
          "dtype": "f8"
         },
         "xaxis": "x",
         "y": {
          "bdata": "8P3rRRSL5z8pHLIXEIHdPyMsZHvJG9k/JGA64MjR1T8iZwU8zGjTP0i/3Wz5VdI/p0Ot80sk0T/O1avL2ZTQP4CPBpEdbM8/F9G607tVzT9Y1dlKNRbMP+k6Dm8EOcs/qzLxLIRfyj8f4l5xP3LJP63aGAO898g/dk70xA5nyD+/IcKQcODHP1mOoejZhcc/8T2+9eIVxz/+EiUKDLTGPxp04MkRS8Y/POB6WGzkxT91R4gABIHFP4z0tKE+K8U/YQ961wTVxD97x17RdH3EP576g4mxM8Q/M7JPpLLgwz8fHWO0e57DP6pavqAxXsM/o0yeLrAawz9oz6FRrd7CPyAnxo0PocI/KrXgsp1ywj+kdRmTtDzCP3tEphLE+sE/N3P75CTGwT/UIPj5Hp7BP8oAQsNZcsE/qqkKaD9FwT/8jGvrZRLBP2kAYhRC7MA/p3+C18/GwD/w7HyVR5fAP1898Uqzb8A/oHKRSZVIwD9hU8mW4B/AP+qSrdL89b8/95oObNmlvz/zQtRiLFi/P3c2t/ioIL8/OjJeQvaewT/0urBuWsfBP3aChNJb9ME/20/nNrIhwj85CzBRHkzCP5A7edK1e8I/CXJBiO6lwj9O66ted9TCP5c3NcIODsM/jZb/Auk3wz+eumVwCG3DPz7tZ0igqsM/Bp3Jq7fXwz/cjx32/QvEP/8HrQffQsQ//7XRbPl9xD9mNxWvbMnEP2YyQxk1AMU/lL9EGH5BxT8C+azgf4bFP/Gdckt1zcU/puHw890cxj+ReRA7W3PGP9MhHLNOvsY/wolTStMUxz+P+ldHp2XHPweL0nJ0xsc/DghrbekryD97dhdJPZfIP3bNg+79Ask/5tfe4PiFyT+I+xB7ognKP4k27YWUj8o/Ad6HDlEoyz8X6o5G/bXLP9SueJc5SMw/E3F1Xl70zD/n4bdtN7LNP9/y3XqLs84/53CXlSKvzz9I/LEvBDvQP2sANoRhB9E/7pACQSHr0T9sPxf/luvSP7FKYSAn2dM/eAS/fnGp1D/4j9xjHEjWP6SkoOG8ddg/Jxuj2WtH3D8R59wchUXgP4ZnOqQpf+k/",
          "dtype": "f8"
         },
         "yaxis": "y"
        },
        {
         "line": {
          "color": "rgb(55,126,184)",
          "width": 2
         },
         "mode": "lines",
         "name": "cs_proba_hpi",
         "type": "scatter",
         "x": {
          "bdata": "AAAAAAAAAAB7FK5H4XqUP3sUrkfheqQ/uB6F61G4rj97FK5H4Xq0P5qZmZmZmbk/uB6F61G4vj/sUbgehevBP3sUrkfhesQ/CtejcD0Kxz+amZmZmZnJPylcj8L1KMw/uB6F61G4zj+kcD0K16PQP+xRuB6F69E/MzMzMzMz0z97FK5H4XrUP8P1KFyPwtU/CtejcD0K1z9SuB6F61HYP5qZmZmZmdk/4XoUrkfh2j8pXI/C9SjcP3E9CtejcN0/uB6F61G43j8AAAAAAADgP6RwPQrXo+A/SOF6FK5H4T/sUbgehevhP4/C9Shcj+I/MzMzMzMz4z/Xo3A9CtfjP3sUrkfheuQ/H4XrUbge5T/D9Shcj8LlP2dmZmZmZuY/CtejcD0K5z+uR+F6FK7nP1K4HoXrUeg/9ihcj8L16D+amZmZmZnpPz4K16NwPeo/4XoUrkfh6j+F61G4HoXrPylcj8L1KOw/zczMzMzM7D9xPQrXo3DtPxWuR+F6FO4/uB6F61G47j9cj8L1KFzvPwAAAAAAAPA/",
          "dtype": "f8"
         },
         "xaxis": "x",
         "y": {
          "bdata": "sdY6+b2F6D+DFHCphArfP7vvl9OCt9o/SI/mXfMw1z81rApieufUPxtuqsEYjNM/j3qd4WSK0j9ZEqnSlsvRP6S7TGOa3NA/0RtnCvbIzz/NeaaWx13OP6AKDWpijs0//cChSvekzD8rBBv7H7DLP+MD5MO8D8s/iG0nAcxuyj8E/QWIi+TJPzniXucbdMk/Lx2zCVH3yD+1enOykYDIP5hIlax8DMg/dA4sVsOSxz85HF2yVSLHP6eX0Aaav8Y/Z186MtZixj/UIZpsgAvGP4NlH5DkucU/qB/II6xoxT/VCaLnex7FP4M32h+b0MQ/lyEUbGyIxD9N8TZB4knEPziVq8q1B8Q/oz5jWjvQwz/1k27EEJvDP5EItQuXVMM/c4T2Ifsiwz9fawrn/vDCPzjfmABiwMI/T2aAx1qTwj8/WKTfbl/CP5tpocGyMcI/aP5guYQHwj/8NW0xVNfBPyeNkLnYq8E/O7eEVg2FwT+n0aGBGFXBP9F+vVlnL8E/wXqv32AAwT/BVZgWGNPAP527G0sSscA/",
          "dtype": "f8"
         },
         "yaxis": "y"
        },
        {
         "fill": "toself",
         "fillcolor": "rgba(55,126,184,0.1)",
         "hoverinfo": "skip",
         "line": {
          "color": "rgba(255,255,255,0)"
         },
         "showlegend": false,
         "type": "scatter",
         "x": {
          "bdata": "AAAAAAAAAAB7FK5H4XqUP3sUrkfheqQ/uB6F61G4rj97FK5H4Xq0P5qZmZmZmbk/uB6F61G4vj/sUbgehevBP3sUrkfhesQ/CtejcD0Kxz+amZmZmZnJPylcj8L1KMw/uB6F61G4zj+kcD0K16PQP+xRuB6F69E/MzMzMzMz0z97FK5H4XrUP8P1KFyPwtU/CtejcD0K1z9SuB6F61HYP5qZmZmZmdk/4XoUrkfh2j8pXI/C9SjcP3E9CtejcN0/uB6F61G43j8AAAAAAADgP6RwPQrXo+A/SOF6FK5H4T/sUbgehevhP4/C9Shcj+I/MzMzMzMz4z/Xo3A9CtfjP3sUrkfheuQ/H4XrUbge5T/D9Shcj8LlP2dmZmZmZuY/CtejcD0K5z+uR+F6FK7nP1K4HoXrUeg/9ihcj8L16D+amZmZmZnpPz4K16NwPeo/4XoUrkfh6j+F61G4HoXrPylcj8L1KOw/zczMzMzM7D9xPQrXo3DtPxWuR+F6FO4/uB6F61G47j9cj8L1KFzvPwAAAAAAAPA/AAAAAAAA8D9cj8L1KFzvP7gehetRuO4/Fa5H4XoU7j9xPQrXo3DtP83MzMzMzOw/KVyPwvUo7D+F61G4HoXrP+F6FK5H4eo/PgrXo3A96j+amZmZmZnpP/YoXI/C9eg/UrgehetR6D+uR+F6FK7nPwrXo3A9Cuc/Z2ZmZmZm5j/D9Shcj8LlPx+F61G4HuU/exSuR+F65D/Xo3A9CtfjPzMzMzMzM+M/j8L1KFyP4j/sUbgehevhP0jhehSuR+E/pHA9Ctej4D8AAAAAAADgP7gehetRuN4/cT0K16Nw3T8pXI/C9SjcP+F6FK5H4do/mpmZmZmZ2T9SuB6F61HYPwrXo3A9Ctc/w/UoXI/C1T97FK5H4XrUPzMzMzMzM9M/7FG4HoXr0T+kcD0K16PQP7gehetRuM4/KVyPwvUozD+amZmZmZnJPwrXo3A9Csc/exSuR+F6xD/sUbgehevBP7gehetRuL4/mpmZmZmZuT97FK5H4Xq0P7gehetRuK4/exSuR+F6pD97FK5H4XqUPwAAAAAAAAAA",
          "dtype": "f8"
         },
         "xaxis": "x",
         "y": {
          "bdata": "kELjlnaM5z9bSgNOro7dP4fSNVURKtk/SiBnGFTi1T90BTbq1XvTP1DW84XAadI/oJGxU7c30T/SyRbpCajQPx9jT9AQlM8/XaT8MyF8zT8MVGDpkD3MPwNd3W3fY8s/FM5hbU6Nyj9nrOUHoanJP7qUTa1tLMk/fjBLc7aYyD+p+ddhORLIPxptYWiRssc/VsJ8QYdHxz9GiSsxaeTGP9sjkiXWecY/8nyxczEQxj/CZCYEcKPFP2xX3ss+SsU/4Unel6PzxD+88jK0SKLEP6ilDxGUU8Q/cI+0tVMExD/FlnueKMDDP5k/QyHnesM/qX74JdE5wz9ioCOZ/fzCP2cyqRovwcI/ozKiboORwj/r+aAMeV3CP0cwKbXtGcI/zQLPYuzqwT9qusMm3sDBP1eaFNtnlME/HeroLbBqwT/WgK/3sDzBP/s2ELFFFsE/fRugtG3uwD/aoO5oQMPAP27HNc0Km8A/7GhWd/p3wD+bk6CDvUnAPzoRQljSJMA/geNLKcn2vz8iDE33RKC/PxI8bFKwY78/MVkBbUywwT9xJYqxDdbBP8IDuSpdBcI/aOw4W/w5wj+zD6N/c2DCP4oFszUgksI/4FLrpaa8wj8ey+v5Z+vCP1PhIb6bIMM/O5wy0h9Nwz+oL5nHLILDP4HiF2EFvMM/GSQdJlzswz9UHFGnHyHEPxkGHuEJW8Q/2+BAYkCPxD//LTx8qNjEP6NKJEbzDsU/CfitejxOxT84QkrpxpbFP4XEL7IH18U/bS9xHk8mxj/lfMgwz3zGP+Cv25EEzcY/XiUvDzUgxz/sUAEluHTHP+10lswI0sc/4tfCQfU0yD+w05NgO6HIP/afpjhVFck/VW2YMyOfyT8kbLszuhzKPwh46dEap8o/WFdcZqY1yz9fADSu3bbLP5KqA4/hRMw/DHN62gvzzD/vW1DunrbNP+az4SegvM4/Pbg8ZuW4zz/HT/Yh/z7QP6LJaHDlCtE/uMVxXizv0T/gWju8I+/SP35jiW8S3dM/5gVh/XCu1D/2Ut/ZHlPWP0b+ZaOSf9g/7wz6UfRE3D9Vb26CLUPgP9JqklsFf+k/",
          "dtype": "f8"
         },
         "yaxis": "y"
        },
        {
         "error_x": {
          "array": {
           "bdata": "/Hnr5xoOkj9FGsqKMQGRPw==",
           "dtype": "f8"
          },
          "type": "data"
         },
         "marker": {
          "color": "skyblue",
          "line": {
           "color": "black",
           "width": 1
          }
         },
         "orientation": "h",
         "showlegend": false,
         "type": "bar",
         "x": {
          "bdata": "nV4Z85hCyz87NkqOOqfKPw==",
          "dtype": "f8"
         },
         "xaxis": "x2",
         "y": [
          "cs_proba_hpi",
          "True"
         ],
         "yaxis": "y2"
        }
       ],
       "layout": {
        "font": {
         "size": 16
        },
        "height": 400,
        "legend": {
         "font": {
          "size": 16
         },
         "title": {
          "text": "Optimizers"
         }
        },
        "margin": {
         "b": 50,
         "l": 50,
         "r": 50,
         "t": 60
        },
        "template": {
         "data": {
          "bar": [
           {
            "error_x": {
             "color": "#2a3f5f"
            },
            "error_y": {
             "color": "#2a3f5f"
            },
            "marker": {
             "line": {
              "color": "white",
              "width": 0.5
             },
             "pattern": {
              "fillmode": "overlay",
              "size": 10,
              "solidity": 0.2
             }
            },
            "type": "bar"
           }
          ],
          "barpolar": [
           {
            "marker": {
             "line": {
              "color": "white",
              "width": 0.5
             },
             "pattern": {
              "fillmode": "overlay",
              "size": 10,
              "solidity": 0.2
             }
            },
            "type": "barpolar"
           }
          ],
          "carpet": [
           {
            "aaxis": {
             "endlinecolor": "#2a3f5f",
             "gridcolor": "#C8D4E3",
             "linecolor": "#C8D4E3",
             "minorgridcolor": "#C8D4E3",
             "startlinecolor": "#2a3f5f"
            },
            "baxis": {
             "endlinecolor": "#2a3f5f",
             "gridcolor": "#C8D4E3",
             "linecolor": "#C8D4E3",
             "minorgridcolor": "#C8D4E3",
             "startlinecolor": "#2a3f5f"
            },
            "type": "carpet"
           }
          ],
          "choropleth": [
           {
            "colorbar": {
             "outlinewidth": 0,
             "ticks": ""
            },
            "type": "choropleth"
           }
          ],
          "contour": [
           {
            "colorbar": {
             "outlinewidth": 0,
             "ticks": ""
            },
            "colorscale": [
             [
              0,
              "#0d0887"
             ],
             [
              0.1111111111111111,
              "#46039f"
             ],
             [
              0.2222222222222222,
              "#7201a8"
             ],
             [
              0.3333333333333333,
              "#9c179e"
             ],
             [
              0.4444444444444444,
              "#bd3786"
             ],
             [
              0.5555555555555556,
              "#d8576b"
             ],
             [
              0.6666666666666666,
              "#ed7953"
             ],
             [
              0.7777777777777778,
              "#fb9f3a"
             ],
             [
              0.8888888888888888,
              "#fdca26"
             ],
             [
              1,
              "#f0f921"
             ]
            ],
            "type": "contour"
           }
          ],
          "contourcarpet": [
           {
            "colorbar": {
             "outlinewidth": 0,
             "ticks": ""
            },
            "type": "contourcarpet"
           }
          ],
          "heatmap": [
           {
            "colorbar": {
             "outlinewidth": 0,
             "ticks": ""
            },
            "colorscale": [
             [
              0,
              "#0d0887"
             ],
             [
              0.1111111111111111,
              "#46039f"
             ],
             [
              0.2222222222222222,
              "#7201a8"
             ],
             [
              0.3333333333333333,
              "#9c179e"
             ],
             [
              0.4444444444444444,
              "#bd3786"
             ],
             [
              0.5555555555555556,
              "#d8576b"
             ],
             [
              0.6666666666666666,
              "#ed7953"
             ],
             [
              0.7777777777777778,
              "#fb9f3a"
             ],
             [
              0.8888888888888888,
              "#fdca26"
             ],
             [
              1,
              "#f0f921"
             ]
            ],
            "type": "heatmap"
           }
          ],
          "histogram": [
           {
            "marker": {
             "pattern": {
              "fillmode": "overlay",
              "size": 10,
              "solidity": 0.2
             }
            },
            "type": "histogram"
           }
          ],
          "histogram2d": [
           {
            "colorbar": {
             "outlinewidth": 0,
             "ticks": ""
            },
            "colorscale": [
             [
              0,
              "#0d0887"
             ],
             [
              0.1111111111111111,
              "#46039f"
             ],
             [
              0.2222222222222222,
              "#7201a8"
             ],
             [
              0.3333333333333333,
              "#9c179e"
             ],
             [
              0.4444444444444444,
              "#bd3786"
             ],
             [
              0.5555555555555556,
              "#d8576b"
             ],
             [
              0.6666666666666666,
              "#ed7953"
             ],
             [
              0.7777777777777778,
              "#fb9f3a"
             ],
             [
              0.8888888888888888,
              "#fdca26"
             ],
             [
              1,
              "#f0f921"
             ]
            ],
            "type": "histogram2d"
           }
          ],
          "histogram2dcontour": [
           {
            "colorbar": {
             "outlinewidth": 0,
             "ticks": ""
            },
            "colorscale": [
             [
              0,
              "#0d0887"
             ],
             [
              0.1111111111111111,
              "#46039f"
             ],
             [
              0.2222222222222222,
              "#7201a8"
             ],
             [
              0.3333333333333333,
              "#9c179e"
             ],
             [
              0.4444444444444444,
              "#bd3786"
             ],
             [
              0.5555555555555556,
              "#d8576b"
             ],
             [
              0.6666666666666666,
              "#ed7953"
             ],
             [
              0.7777777777777778,
              "#fb9f3a"
             ],
             [
              0.8888888888888888,
              "#fdca26"
             ],
             [
              1,
              "#f0f921"
             ]
            ],
            "type": "histogram2dcontour"
           }
          ],
          "mesh3d": [
           {
            "colorbar": {
             "outlinewidth": 0,
             "ticks": ""
            },
            "type": "mesh3d"
           }
          ],
          "parcoords": [
           {
            "line": {
             "colorbar": {
              "outlinewidth": 0,
              "ticks": ""
             }
            },
            "type": "parcoords"
           }
          ],
          "pie": [
           {
            "automargin": true,
            "type": "pie"
           }
          ],
          "scatter": [
           {
            "fillpattern": {
             "fillmode": "overlay",
             "size": 10,
             "solidity": 0.2
            },
            "type": "scatter"
           }
          ],
          "scatter3d": [
           {
            "line": {
             "colorbar": {
              "outlinewidth": 0,
              "ticks": ""
             }
            },
            "marker": {
             "colorbar": {
              "outlinewidth": 0,
              "ticks": ""
             }
            },
            "type": "scatter3d"
           }
          ],
          "scattercarpet": [
           {
            "marker": {
             "colorbar": {
              "outlinewidth": 0,
              "ticks": ""
             }
            },
            "type": "scattercarpet"
           }
          ],
          "scattergeo": [
           {
            "marker": {
             "colorbar": {
              "outlinewidth": 0,
              "ticks": ""
             }
            },
            "type": "scattergeo"
           }
          ],
          "scattergl": [
           {
            "marker": {
             "colorbar": {
              "outlinewidth": 0,
              "ticks": ""
             }
            },
            "type": "scattergl"
           }
          ],
          "scattermap": [
           {
            "marker": {
             "colorbar": {
              "outlinewidth": 0,
              "ticks": ""
             }
            },
            "type": "scattermap"
           }
          ],
          "scattermapbox": [
           {
            "marker": {
             "colorbar": {
              "outlinewidth": 0,
              "ticks": ""
             }
            },
            "type": "scattermapbox"
           }
          ],
          "scatterpolar": [
           {
            "marker": {
             "colorbar": {
              "outlinewidth": 0,
              "ticks": ""
             }
            },
            "type": "scatterpolar"
           }
          ],
          "scatterpolargl": [
           {
            "marker": {
             "colorbar": {
              "outlinewidth": 0,
              "ticks": ""
             }
            },
            "type": "scatterpolargl"
           }
          ],
          "scatterternary": [
           {
            "marker": {
             "colorbar": {
              "outlinewidth": 0,
              "ticks": ""
             }
            },
            "type": "scatterternary"
           }
          ],
          "surface": [
           {
            "colorbar": {
             "outlinewidth": 0,
             "ticks": ""
            },
            "colorscale": [
             [
              0,
              "#0d0887"
             ],
             [
              0.1111111111111111,
              "#46039f"
             ],
             [
              0.2222222222222222,
              "#7201a8"
             ],
             [
              0.3333333333333333,
              "#9c179e"
             ],
             [
              0.4444444444444444,
              "#bd3786"
             ],
             [
              0.5555555555555556,
              "#d8576b"
             ],
             [
              0.6666666666666666,
              "#ed7953"
             ],
             [
              0.7777777777777778,
              "#fb9f3a"
             ],
             [
              0.8888888888888888,
              "#fdca26"
             ],
             [
              1,
              "#f0f921"
             ]
            ],
            "type": "surface"
           }
          ],
          "table": [
           {
            "cells": {
             "fill": {
              "color": "#EBF0F8"
             },
             "line": {
              "color": "white"
             }
            },
            "header": {
             "fill": {
              "color": "#C8D4E3"
             },
             "line": {
              "color": "white"
             }
            },
            "type": "table"
           }
          ]
         },
         "layout": {
          "annotationdefaults": {
           "arrowcolor": "#2a3f5f",
           "arrowhead": 0,
           "arrowwidth": 1
          },
          "autotypenumbers": "strict",
          "coloraxis": {
           "colorbar": {
            "outlinewidth": 0,
            "ticks": ""
           }
          },
          "colorscale": {
           "diverging": [
            [
             0,
             "#8e0152"
            ],
            [
             0.1,
             "#c51b7d"
            ],
            [
             0.2,
             "#de77ae"
            ],
            [
             0.3,
             "#f1b6da"
            ],
            [
             0.4,
             "#fde0ef"
            ],
            [
             0.5,
             "#f7f7f7"
            ],
            [
             0.6,
             "#e6f5d0"
            ],
            [
             0.7,
             "#b8e186"
            ],
            [
             0.8,
             "#7fbc41"
            ],
            [
             0.9,
             "#4d9221"
            ],
            [
             1,
             "#276419"
            ]
           ],
           "sequential": [
            [
             0,
             "#0d0887"
            ],
            [
             0.1111111111111111,
             "#46039f"
            ],
            [
             0.2222222222222222,
             "#7201a8"
            ],
            [
             0.3333333333333333,
             "#9c179e"
            ],
            [
             0.4444444444444444,
             "#bd3786"
            ],
            [
             0.5555555555555556,
             "#d8576b"
            ],
            [
             0.6666666666666666,
             "#ed7953"
            ],
            [
             0.7777777777777778,
             "#fb9f3a"
            ],
            [
             0.8888888888888888,
             "#fdca26"
            ],
            [
             1,
             "#f0f921"
            ]
           ],
           "sequentialminus": [
            [
             0,
             "#0d0887"
            ],
            [
             0.1111111111111111,
             "#46039f"
            ],
            [
             0.2222222222222222,
             "#7201a8"
            ],
            [
             0.3333333333333333,
             "#9c179e"
            ],
            [
             0.4444444444444444,
             "#bd3786"
            ],
            [
             0.5555555555555556,
             "#d8576b"
            ],
            [
             0.6666666666666666,
             "#ed7953"
            ],
            [
             0.7777777777777778,
             "#fb9f3a"
            ],
            [
             0.8888888888888888,
             "#fdca26"
            ],
            [
             1,
             "#f0f921"
            ]
           ]
          },
          "colorway": [
           "#636efa",
           "#EF553B",
           "#00cc96",
           "#ab63fa",
           "#FFA15A",
           "#19d3f3",
           "#FF6692",
           "#B6E880",
           "#FF97FF",
           "#FECB52"
          ],
          "font": {
           "color": "#2a3f5f"
          },
          "geo": {
           "bgcolor": "white",
           "lakecolor": "white",
           "landcolor": "white",
           "showlakes": true,
           "showland": true,
           "subunitcolor": "#C8D4E3"
          },
          "hoverlabel": {
           "align": "left"
          },
          "hovermode": "closest",
          "mapbox": {
           "style": "light"
          },
          "paper_bgcolor": "white",
          "plot_bgcolor": "white",
          "polar": {
           "angularaxis": {
            "gridcolor": "#EBF0F8",
            "linecolor": "#EBF0F8",
            "ticks": ""
           },
           "bgcolor": "white",
           "radialaxis": {
            "gridcolor": "#EBF0F8",
            "linecolor": "#EBF0F8",
            "ticks": ""
           }
          },
          "scene": {
           "xaxis": {
            "backgroundcolor": "white",
            "gridcolor": "#DFE8F3",
            "gridwidth": 2,
            "linecolor": "#EBF0F8",
            "showbackground": true,
            "ticks": "",
            "zerolinecolor": "#EBF0F8"
           },
           "yaxis": {
            "backgroundcolor": "white",
            "gridcolor": "#DFE8F3",
            "gridwidth": 2,
            "linecolor": "#EBF0F8",
            "showbackground": true,
            "ticks": "",
            "zerolinecolor": "#EBF0F8"
           },
           "zaxis": {
            "backgroundcolor": "white",
            "gridcolor": "#DFE8F3",
            "gridwidth": 2,
            "linecolor": "#EBF0F8",
            "showbackground": true,
            "ticks": "",
            "zerolinecolor": "#EBF0F8"
           }
          },
          "shapedefaults": {
           "line": {
            "color": "#2a3f5f"
           }
          },
          "ternary": {
           "aaxis": {
            "gridcolor": "#DFE8F3",
            "linecolor": "#A2B1C6",
            "ticks": ""
           },
           "baxis": {
            "gridcolor": "#DFE8F3",
            "linecolor": "#A2B1C6",
            "ticks": ""
           },
           "bgcolor": "white",
           "caxis": {
            "gridcolor": "#DFE8F3",
            "linecolor": "#A2B1C6",
            "ticks": ""
           }
          },
          "title": {
           "x": 0.05
          },
          "xaxis": {
           "automargin": true,
           "gridcolor": "#EBF0F8",
           "linecolor": "#EBF0F8",
           "ticks": "",
           "title": {
            "standoff": 15
           },
           "zerolinecolor": "#EBF0F8",
           "zerolinewidth": 2
          },
          "yaxis": {
           "automargin": true,
           "gridcolor": "#EBF0F8",
           "linecolor": "#EBF0F8",
           "ticks": "",
           "title": {
            "standoff": 15
           },
           "zerolinecolor": "#EBF0F8",
           "zerolinewidth": 2
          }
         }
        },
        "width": 1800,
        "xaxis": {
         "anchor": "y",
         "domain": [
          0,
          0.51
         ],
         "title": {
          "text": "Normalized Trials"
         }
        },
        "xaxis2": {
         "anchor": "y2",
         "domain": [
          0.66,
          1
         ],
         "title": {
          "text": "AUC"
         }
        },
        "yaxis": {
         "anchor": "x",
         "domain": [
          0,
          1
         ],
         "title": {
          "text": "Normalized Inc-Performance"
         }
        },
        "yaxis2": {
         "anchor": "x2",
         "domain": [
          0,
          1
         ],
         "title": {
          "text": "Optimizer"
         }
        }
       }
      }
     },
     "metadata": {},
     "output_type": "display_data"
    }
   ],
   "source": [
    "plot_one_thing('adjust_cs')"
   ]
  },
  {
   "cell_type": "code",
   "execution_count": 136,
   "id": "4e845a7f",
   "metadata": {},
   "outputs": [
    {
     "name": "stderr",
     "output_type": "stream",
     "text": [
      "/home/daphne/Code/hpi_parego/CARP-S/carps/analysis/generate_report.py:276: UserWarning:\n",
      "\n",
      "Result is not significant and results of the plot may be misleading!\n",
      "\n",
      "/home/daphne/Code/hpi_parego/CARP-S/carps/analysis/run_autorank.py:322: FutureWarning:\n",
      "\n",
      "Series.__getitem__ treating keys as positions is deprecated. In a future version, integer keys will always be treated as labels (consistent with DataFrame behavior). To access a value by position, use `ser.iloc[pos]`\n",
      "\n",
      "/home/daphne/Code/hpi_parego/CARP-S/carps/analysis/run_autorank.py:421: UserWarning:\n",
      "\n",
      "FigureCanvasAgg is non-interactive, and thus cannot be shown\n",
      "\n",
      "/home/daphne/Code/hpi_parego/CARP-S/carps/analysis/run_autorank.py:198: UserWarning:\n",
      "\n",
      "Result is not significant and results of the plot may be misleading!\n",
      "\n"
     ]
    },
    {
     "data": {
      "text/html": [
       "<pre style=\"white-space:pre;overflow-x:auto;line-height:normal;font-family:Menlo,'DejaVu Sans Mono',consolas,'Courier New',monospace\"><span style=\"color: #7fbfbf; text-decoration-color: #7fbfbf\">[16:31:05] </span><span style=\"color: #000080; text-decoration-color: #000080\">INFO    </span> Create dataframe for neat plotting by aligning x-axis <span style=\"color: #800080; text-decoration-color: #800080\">/</span> interpolating        <a href=\"file:///home/daphne/Code/hpi_parego/CARP-S/carps/analysis/gather_data.py\" target=\"_blank\"><span style=\"color: #7f7f7f; text-decoration-color: #7f7f7f\">gather_data.py</span></a><span style=\"color: #7f7f7f; text-decoration-color: #7f7f7f\">:</span><a href=\"file:///home/daphne/Code/hpi_parego/CARP-S/carps/analysis/gather_data.py#735\" target=\"_blank\"><span style=\"color: #7f7f7f; text-decoration-color: #7f7f7f\">735</span></a>\n",
       "<span style=\"color: #7fbfbf; text-decoration-color: #7fbfbf\">           </span>         budget.                                                                      <span style=\"color: #7f7f7f; text-decoration-color: #7f7f7f\">                  </span>\n",
       "</pre>\n"
      ],
      "text/plain": [
       "\u001b[2;36m[16:31:05]\u001b[0m\u001b[2;36m \u001b[0m\u001b[34mINFO    \u001b[0m Create dataframe for neat plotting by aligning x-axis \u001b[35m/\u001b[0m interpolating        \u001b]8;id=500202;file:///home/daphne/Code/hpi_parego/CARP-S/carps/analysis/gather_data.py\u001b\\\u001b[2mgather_data.py\u001b[0m\u001b]8;;\u001b\\\u001b[2m:\u001b[0m\u001b]8;id=418460;file:///home/daphne/Code/hpi_parego/CARP-S/carps/analysis/gather_data.py#735\u001b\\\u001b[2m735\u001b[0m\u001b]8;;\u001b\\\n",
       "\u001b[2;36m           \u001b[0m         budget.                                                                      \u001b[2m                  \u001b[0m\n"
      ]
     },
     "metadata": {},
     "output_type": "display_data"
    },
    {
     "name": "stderr",
     "output_type": "stream",
     "text": [
      "/home/daphne/Code/hpi_parego/CARP-S/carps/analysis/generate_report.py:108: UserWarning:\n",
      "\n",
      "Result is not significant and results of the plot may be misleading!\n",
      "\n",
      "/home/daphne/Code/hpi_parego/CARP-S/carps/analysis/generate_report.py:108: UserWarning:\n",
      "\n",
      "Result is not significant and results of the plot may be misleading!\n",
      "\n",
      "/home/daphne/Code/hpi_parego/CARP-S/carps/analysis/generate_report.py:108: UserWarning:\n",
      "\n",
      "Result is not significant and results of the plot may be misleading!\n",
      "\n",
      "/home/daphne/Code/hpi_parego/CARP-S/carps/analysis/generate_report.py:108: UserWarning:\n",
      "\n",
      "Result is not significant and results of the plot may be misleading!\n",
      "\n",
      "/home/daphne/Code/hpi_parego/CARP-S/carps/analysis/generate_report.py:108: UserWarning:\n",
      "\n",
      "Result is not significant and results of the plot may be misleading!\n",
      "\n",
      "/home/daphne/Code/hpi_parego/CARP-S/carps/analysis/generate_report.py:108: UserWarning:\n",
      "\n",
      "Result is not significant and results of the plot may be misleading!\n",
      "\n",
      "/home/daphne/Code/hpi_parego/CARP-S/carps/analysis/generate_report.py:108: UserWarning:\n",
      "\n",
      "Result is not significant and results of the plot may be misleading!\n",
      "\n",
      "/home/daphne/Code/hpi_parego/CARP-S/carps/analysis/generate_report.py:108: UserWarning:\n",
      "\n",
      "Result is not significant and results of the plot may be misleading!\n",
      "\n",
      "/home/daphne/Code/hpi_parego/CARP-S/carps/analysis/generate_report.py:108: UserWarning:\n",
      "\n",
      "Result is not significant and results of the plot may be misleading!\n",
      "\n",
      "/home/daphne/Code/hpi_parego/CARP-S/carps/analysis/generate_report.py:108: UserWarning:\n",
      "\n",
      "Result is not significant and results of the plot may be misleading!\n",
      "\n",
      "/home/daphne/Code/hpi_parego/CARP-S/carps/analysis/generate_report.py:108: UserWarning:\n",
      "\n",
      "Result is not significant and results of the plot may be misleading!\n",
      "\n",
      "/home/daphne/Code/hpi_parego/CARP-S/carps/analysis/generate_report.py:108: UserWarning:\n",
      "\n",
      "Result is not significant and results of the plot may be misleading!\n",
      "\n",
      "/home/daphne/Code/hpi_parego/CARP-S/carps/analysis/generate_report.py:108: UserWarning:\n",
      "\n",
      "Result is not significant and results of the plot may be misleading!\n",
      "\n",
      "/home/daphne/Code/hpi_parego/CARP-S/carps/analysis/generate_report.py:108: UserWarning:\n",
      "\n",
      "Result is not significant and results of the plot may be misleading!\n",
      "\n",
      "/home/daphne/Code/hpi_parego/CARP-S/carps/analysis/generate_report.py:108: UserWarning:\n",
      "\n",
      "Result is not significant and results of the plot may be misleading!\n",
      "\n",
      "/home/daphne/Code/hpi_parego/CARP-S/carps/analysis/generate_report.py:108: UserWarning:\n",
      "\n",
      "Result is not significant and results of the plot may be misleading!\n",
      "\n",
      "/home/daphne/Code/hpi_parego/CARP-S/carps/analysis/generate_report.py:108: UserWarning:\n",
      "\n",
      "Result is not significant and results of the plot may be misleading!\n",
      "\n",
      "/home/daphne/Code/hpi_parego/CARP-S/carps/analysis/generate_report.py:108: UserWarning:\n",
      "\n",
      "Result is not significant and results of the plot may be misleading!\n",
      "\n",
      "/home/daphne/Code/hpi_parego/CARP-S/carps/analysis/generate_report.py:108: UserWarning:\n",
      "\n",
      "Result is not significant and results of the plot may be misleading!\n",
      "\n"
     ]
    },
    {
     "name": "stdout",
     "output_type": "stream",
     "text": [
      "['default' 'incumbent' 'no' 'random']\n"
     ]
    },
    {
     "name": "stderr",
     "output_type": "stream",
     "text": [
      "/tmp/ipykernel_27098/3449863810.py:27: DeprecationWarning:\n",
      "\n",
      "DataFrameGroupBy.apply operated on the grouping columns. This behavior is deprecated, and in a future version of pandas the grouping columns will be excluded from the operation. Either pass `include_groups=False` to exclude the groupings or explicitly select the grouping columns after groupby to silence this warning.\n",
      "\n"
     ]
    },
    {
     "data": {
      "application/vnd.plotly.v1+json": {
       "config": {
        "plotlyServerURL": "https://plot.ly"
       },
       "data": [
        {
         "line": {
          "color": "rgb(228,26,28)",
          "width": 2
         },
         "mode": "lines",
         "name": "default",
         "type": "scatter",
         "x": {
          "bdata": "AAAAAAAAAAB7FK5H4XqUP3sUrkfheqQ/uB6F61G4rj97FK5H4Xq0P5qZmZmZmbk/uB6F61G4vj/sUbgehevBP3sUrkfhesQ/CtejcD0Kxz+amZmZmZnJPylcj8L1KMw/uB6F61G4zj+kcD0K16PQP+xRuB6F69E/MzMzMzMz0z97FK5H4XrUP8P1KFyPwtU/CtejcD0K1z9SuB6F61HYP5qZmZmZmdk/4XoUrkfh2j8pXI/C9SjcP3E9CtejcN0/uB6F61G43j8AAAAAAADgP6RwPQrXo+A/SOF6FK5H4T/sUbgehevhP4/C9Shcj+I/MzMzMzMz4z/Xo3A9CtfjP3sUrkfheuQ/H4XrUbge5T/D9Shcj8LlP2dmZmZmZuY/CtejcD0K5z+uR+F6FK7nP1K4HoXrUeg/9ihcj8L16D+amZmZmZnpPz4K16NwPeo/4XoUrkfh6j+F61G4HoXrPylcj8L1KOw/zczMzMzM7D9xPQrXo3DtPxWuR+F6FO4/uB6F61G47j9cj8L1KFzvPwAAAAAAAPA/",
          "dtype": "f8"
         },
         "xaxis": "x",
         "y": {
          "bdata": "0XfFCMuO6D8wC78z6xnfPyg3KhqwyNo/IGIvZI851z+xGh8LPvHUPzVngd2ElNM/7VEdCNeR0j+ngqvZ0tPRP79D0mG/49A/MLZih4vZzz9fPqQtxW7OPw3NMttfnc0/A394idWxzD9J3PfwW7rLP/eiqPXBHss/48Rc2kGFyj84p6nesv3JP7vwXZjkeMk/g7WK0H3nyD9XIXKcJmvIP6BQM3lC6cc/aDKyd2tlxz+h3D126/TGP8WFxgonlcY/gQPCdTM6xj8/yxCBr+HFP1APLj1VkcU/vTnj6pVAxT+8wMXWFPrEP7DUx+OArMQ/dzCG5RxjxD+wa4ciAyTEP9mJAGTJ4cM/kaYZWuKqwz/BrERZonLDP3ggYDS7LcM/zXANJjb8wj9XPHWJjc3CP/OuxwEUnsI/mv0eqUVvwj8nvYaQdjfCP5c5lXqLBsI/E1ID6WfdwT+AH6Wjs6rBPzkrS5GhgcE/jV7cUqBdwT9n4vayEy7BP7RUq1PCBsE/BNJMuE7ZwD96q2fpVK/AP4J9pNe0jMA/",
          "dtype": "f8"
         },
         "yaxis": "y"
        },
        {
         "fill": "toself",
         "fillcolor": "rgba(228,26,28,0.1)",
         "hoverinfo": "skip",
         "line": {
          "color": "rgba(255,255,255,0)"
         },
         "showlegend": false,
         "type": "scatter",
         "x": {
          "bdata": "AAAAAAAAAAB7FK5H4XqUP3sUrkfheqQ/uB6F61G4rj97FK5H4Xq0P5qZmZmZmbk/uB6F61G4vj/sUbgehevBP3sUrkfhesQ/CtejcD0Kxz+amZmZmZnJPylcj8L1KMw/uB6F61G4zj+kcD0K16PQP+xRuB6F69E/MzMzMzMz0z97FK5H4XrUP8P1KFyPwtU/CtejcD0K1z9SuB6F61HYP5qZmZmZmdk/4XoUrkfh2j8pXI/C9SjcP3E9CtejcN0/uB6F61G43j8AAAAAAADgP6RwPQrXo+A/SOF6FK5H4T/sUbgehevhP4/C9Shcj+I/MzMzMzMz4z/Xo3A9CtfjP3sUrkfheuQ/H4XrUbge5T/D9Shcj8LlP2dmZmZmZuY/CtejcD0K5z+uR+F6FK7nP1K4HoXrUeg/9ihcj8L16D+amZmZmZnpPz4K16NwPeo/4XoUrkfh6j+F61G4HoXrPylcj8L1KOw/zczMzMzM7D9xPQrXo3DtPxWuR+F6FO4/uB6F61G47j9cj8L1KFzvPwAAAAAAAPA/AAAAAAAA8D9cj8L1KFzvP7gehetRuO4/Fa5H4XoU7j9xPQrXo3DtP83MzMzMzOw/KVyPwvUo7D+F61G4HoXrP+F6FK5H4eo/PgrXo3A96j+amZmZmZnpP/YoXI/C9eg/UrgehetR6D+uR+F6FK7nPwrXo3A9Cuc/Z2ZmZmZm5j/D9Shcj8LlPx+F61G4HuU/exSuR+F65D/Xo3A9CtfjPzMzMzMzM+M/j8L1KFyP4j/sUbgehevhP0jhehSuR+E/pHA9Ctej4D8AAAAAAADgP7gehetRuN4/cT0K16Nw3T8pXI/C9SjcP+F6FK5H4do/mpmZmZmZ2T9SuB6F61HYPwrXo3A9Ctc/w/UoXI/C1T97FK5H4XrUPzMzMzMzM9M/7FG4HoXr0T+kcD0K16PQP7gehetRuM4/KVyPwvUozD+amZmZmZnJPwrXo3A9Csc/exSuR+F6xD/sUbgehevBP7gehetRuL4/mpmZmZmZuT97FK5H4Xq0P7gehetRuK4/exSuR+F6pD97FK5H4XqUPwAAAAAAAAAA",
          "dtype": "f8"
         },
         "xaxis": "x",
         "y": {
          "bdata": "1V7z5uSX5z8LNzL4eY/dP2dIWqvwLNk/+MnHuunf1T88u8ViZHvTP39yXaIDadI//gWznL420T/xQ9M9IqfQP4HMOHPsjc8/eIOfdi94zT+NZeFhvTjMP+cK6FfXXMs///WQUzmDyj9y+uenIZzJP6DgVFIOJMk/+hOLNbWWyD84DImqwxLIP3mT5W7Mrcc/qlLJghczxz+UD8+tsMnGPxfWS7D5U8Y/RcKUNEPbxT+pJR6kF23FP51pzUL7EsU/oTEAG+XBxD8g86f8NXDEP9dat8QQH8Q/DVC03xDQwz/Gw5npIZDDPyFHEW+5S8M//sl8KSUHwz9uEZ7twcrCP7tnaFXXjcI/WAuQjTtgwj+2z77lKCfCPzKXC2vj5sE/tKMdqJK3wT9/7wQuC5DBP8j3+BhJZME/idsSPq03wT/ZK9fulgbBPwXjdTYX38A/JQYRCYO3wD8rTdRqA4rAP7OuB6aEZcA/boIXBFBDwD+jq4rh7BPAP4xkayFX378/BXTedLCKvz8bgVMwFji/P3sj+I7f+74/RunM53mbwT9nlqW6nsLBPwVqKjZF7cE/IvegFtkdwj8rGWOEOkjCP6w6oaHwd8I/v6eOfL6dwj/V8XXcY8vCPwGe9chMA8M/KZC0vv8twz91TjYyVmjDP6sfKxTepsM/HmaW6t7Xwz8vieXkDwvEP+Y9/aPZQMQ/vqm0/ZJ0xD/MicrMG77EP8pBoyaJ9cQ/96uYcrs1xT/yxXBXRH3FP/CWj6EUv8U/P2J+WEgNxj+yvfHDB2TGP20jEvYascY/ycOktZkDxz9eo3kFKVPHP2HVg9CBssc/7aG/0lIXyD+Zk11Iv3zIP4uiz7qT78g/KcsaQot+yT8aMxWLnAzKP1wYTB7km8o//U3WwfxDyz84QsoSoujLP8x1Ln/Oc8w/TmX8mHUZzT8gvgc6ltjNPwcIYL9x4M4/M499Xujdzz+Yi7N8ZlLQP3T0EsxzHdE/PiEIiogA0j9dwYN1gwDTP9ydh3Pv7NM/61ulGAbA1D8menizF2fWP0j6lg01k9g/6SX6iG9k3D+q76U3LlLgP82Qlyqxhek/",
          "dtype": "f8"
         },
         "yaxis": "y"
        },
        {
         "line": {
          "color": "rgb(55,126,184)",
          "width": 2
         },
         "mode": "lines",
         "name": "incumbent",
         "type": "scatter",
         "x": {
          "bdata": "AAAAAAAAAAB7FK5H4XqUP3sUrkfheqQ/uB6F61G4rj97FK5H4Xq0P5qZmZmZmbk/uB6F61G4vj/sUbgehevBP3sUrkfhesQ/CtejcD0Kxz+amZmZmZnJPylcj8L1KMw/uB6F61G4zj+kcD0K16PQP+xRuB6F69E/MzMzMzMz0z97FK5H4XrUP8P1KFyPwtU/CtejcD0K1z9SuB6F61HYP5qZmZmZmdk/4XoUrkfh2j8pXI/C9SjcP3E9CtejcN0/uB6F61G43j8AAAAAAADgP6RwPQrXo+A/SOF6FK5H4T/sUbgehevhP4/C9Shcj+I/MzMzMzMz4z/Xo3A9CtfjP3sUrkfheuQ/H4XrUbge5T/D9Shcj8LlP2dmZmZmZuY/CtejcD0K5z+uR+F6FK7nP1K4HoXrUeg/9ihcj8L16D+amZmZmZnpPz4K16NwPeo/4XoUrkfh6j+F61G4HoXrPylcj8L1KOw/zczMzMzM7D9xPQrXo3DtPxWuR+F6FO4/uB6F61G47j9cj8L1KFzvPwAAAAAAAPA/",
          "dtype": "f8"
         },
         "xaxis": "x",
         "y": {
          "bdata": "SH4C3JaM6D9LnDST5xrfPzw8O8yuxto/o7le0KdD1z8Un4L+zfjUP2/GZKQKn9M/DE43uqKe0j++x7OiY+HRP9silD+P8dA/ywsPosryzz+ctioO6YnOP7N288FhuM0/pSVlO1TPzD+4HFvZzNPLP5kqpOVtL8s/+Pym7PaEyj8NxwxL5/TJP+DqnEVmiMk/HXascp0PyT8jaM3WHZzIPwjVST3SJsg/V84HJLWyxz/1P1/MQkTHP/NmxoOc3sY/aOzFp0eAxj+/5vGJ6CTGP5xnxHQv1sU/I4SikY+CxT+ubZlKsTnFP3u3RtQY7sQ/zzrNXbKkxD/Nid78cWDEPzYgkie0GsQ/5CgiU7rewz8vN9iw1qXDPxAuSy6TWsM/gV6bApcjwz9XT2x+APDCP8Z9JU5avsI/QxEdQ6qQwj+S+5PmWVjCP2XQhdV+K8I/GWegXGgBwj9mqmW7kM/BP0t6HVVGpcE/KDLAxz56wT+xdKgnlkvBPzO4hF1wJcE/rj7Bpqr5wD8DwVeSPNDAP5fsopWxscA/",
          "dtype": "f8"
         },
         "yaxis": "y"
        },
        {
         "fill": "toself",
         "fillcolor": "rgba(55,126,184,0.1)",
         "hoverinfo": "skip",
         "line": {
          "color": "rgba(255,255,255,0)"
         },
         "showlegend": false,
         "type": "scatter",
         "x": {
          "bdata": "AAAAAAAAAAB7FK5H4XqUP3sUrkfheqQ/uB6F61G4rj97FK5H4Xq0P5qZmZmZmbk/uB6F61G4vj/sUbgehevBP3sUrkfhesQ/CtejcD0Kxz+amZmZmZnJPylcj8L1KMw/uB6F61G4zj+kcD0K16PQP+xRuB6F69E/MzMzMzMz0z97FK5H4XrUP8P1KFyPwtU/CtejcD0K1z9SuB6F61HYP5qZmZmZmdk/4XoUrkfh2j8pXI/C9SjcP3E9CtejcN0/uB6F61G43j8AAAAAAADgP6RwPQrXo+A/SOF6FK5H4T/sUbgehevhP4/C9Shcj+I/MzMzMzMz4z/Xo3A9CtfjP3sUrkfheuQ/H4XrUbge5T/D9Shcj8LlP2dmZmZmZuY/CtejcD0K5z+uR+F6FK7nP1K4HoXrUeg/9ihcj8L16D+amZmZmZnpPz4K16NwPeo/4XoUrkfh6j+F61G4HoXrPylcj8L1KOw/zczMzMzM7D9xPQrXo3DtPxWuR+F6FO4/uB6F61G47j9cj8L1KFzvPwAAAAAAAPA/AAAAAAAA8D9cj8L1KFzvP7gehetRuO4/Fa5H4XoU7j9xPQrXo3DtP83MzMzMzOw/KVyPwvUo7D+F61G4HoXrP+F6FK5H4eo/PgrXo3A96j+amZmZmZnpP/YoXI/C9eg/UrgehetR6D+uR+F6FK7nPwrXo3A9Cuc/Z2ZmZmZm5j/D9Shcj8LlPx+F61G4HuU/exSuR+F65D/Xo3A9CtfjPzMzMzMzM+M/j8L1KFyP4j/sUbgehevhP0jhehSuR+E/pHA9Ctej4D8AAAAAAADgP7gehetRuN4/cT0K16Nw3T8pXI/C9SjcP+F6FK5H4do/mpmZmZmZ2T9SuB6F61HYPwrXo3A9Ctc/w/UoXI/C1T97FK5H4XrUPzMzMzMzM9M/7FG4HoXr0T+kcD0K16PQP7gehetRuM4/KVyPwvUozD+amZmZmZnJPwrXo3A9Csc/exSuR+F6xD/sUbgehevBP7gehetRuL4/mpmZmZmZuT97FK5H4Xq0P7gehetRuK4/exSuR+F6pD97FK5H4XqUPwAAAAAAAAAA",
          "dtype": "f8"
         },
         "xaxis": "x",
         "y": {
          "bdata": "GrdYlyiR5z93KoI0w5rdP9Jp24/hM9k/WxebvXbv1T9Jo+xvkYbTPz+JIzWVdNI/Xp7iBepD0T/KnAnAN7XQP7YDLyabrc8/PJwcqZyTzT/TKIcOpVbMP4kWcg4jess/uDnhSZ6iyj9coXf11LXJPwSNn0cHM8k/joS/M1iTyD9cEDq+VwrIP6LeRt95rMc/stvfaSFFxz85KBhdJOXGP6r/LLU8fsY/jGKW+L4gxj/bO1hv4rnFP0QRznHzYMU/m6Lw0pIHxT/ApTCywLPEP+j5RCKEbMQ/CZKKBq0ZxD9PmqwEQ9XDP+UwhFG+lcM/9ct/P4dTwz/Qp/8rVhPDP2ev5BEJ1MI/XUug6Fuewj8ND/iu5mXCPwEx00FPHcI/08MG/FHpwT+7DrNB/b7BP+qENwh1j8E/fVqqZzVjwT+EZIIAvy7BPyxqYP/OBcE/u1JkZfzdwD9VbfJSga/AP0OsqfvDhsA/Qt2EC2RfwD9+tkQFjjbAP/NKQVp8EMA/O9QPJBHRvz/ItjjtCYO/Pyq7VubiTL8/mXsauPG8wT+iJhMu9N7BPz6TervMCsI/cyXIYGQ6wj/kMgxKnmDCPw6H+4MZlcI/U0iRrsjDwj9359gjoO/CP3d73FPUJMM/njarqy5Rwz+gkqXM9IHDPwnIjx4fvsM/onYTlD/twz/zjyW7AyHEPy/5LwncXcQ/HyvDGteXxD9RX7iyxuXEP2sGpL0YH8U/BZE/PV9hxT/Ka73Nja3FP6mpGnzd9cU/ET4JV3NGxj8NQYaQH57GPz12uhxy68Y/UNVDx9o/xz++J7NhEJbHPzU2m3z8+Mc/ory+lUVcyD8PRGYpo87IPyI6eU+rRMk/ZqpmxWfPyT8NqIJQF1PKP4gQeXsZ2so/Hvfyq1Jkyz++fd/Xdt/LP2J1jqWVdsw/Lsiog9QrzT8UmD69xPHNP5IR6SwK/M4/3dZ0daD2zz8yIueGll7QP629gE38KNE/28MQ7FAM0j+y8l2Fjw3TP7r9i25b+dM/nwOmE4DJ1D/fmhiNCmvWP+tbIuPYl9g/pg6bCHxZ3D8Ph/P4hU3gP3ZFrCAFiOk/",
          "dtype": "f8"
         },
         "yaxis": "y"
        },
        {
         "line": {
          "color": "rgb(77,175,74)",
          "width": 2
         },
         "mode": "lines",
         "name": "no",
         "type": "scatter",
         "x": {
          "bdata": "AAAAAAAAAAB7FK5H4XqUP3sUrkfheqQ/uB6F61G4rj97FK5H4Xq0P5qZmZmZmbk/uB6F61G4vj/sUbgehevBP3sUrkfhesQ/CtejcD0Kxz+amZmZmZnJPylcj8L1KMw/uB6F61G4zj+kcD0K16PQP+xRuB6F69E/MzMzMzMz0z97FK5H4XrUP8P1KFyPwtU/CtejcD0K1z9SuB6F61HYP5qZmZmZmdk/4XoUrkfh2j8pXI/C9SjcP3E9CtejcN0/uB6F61G43j8AAAAAAADgP6RwPQrXo+A/SOF6FK5H4T/sUbgehevhP4/C9Shcj+I/MzMzMzMz4z/Xo3A9CtfjP3sUrkfheuQ/H4XrUbge5T/D9Shcj8LlP2dmZmZmZuY/CtejcD0K5z+uR+F6FK7nP1K4HoXrUeg/9ihcj8L16D+amZmZmZnpPz4K16NwPeo/4XoUrkfh6j+F61G4HoXrPylcj8L1KOw/zczMzMzM7D9xPQrXo3DtPxWuR+F6FO4/uB6F61G47j9cj8L1KFzvPwAAAAAAAPA/",
          "dtype": "f8"
         },
         "xaxis": "x",
         "y": {
          "bdata": "BDFlSYtx6D+A5OfwAdTePxeqF+QSeto/B5/EN9Xv1j8skTfjQqPUPw0wc8NvTtM/ARSbVntN0j/0NT1QsYnRPyk8me0wmtA/95fOLv5Dzz8IB6dzgNjNP0sJKn8nAM0/s3v0t5gYzD/Yp8x0tArLP6zRt2zNP8o/o/IX9V+zyT8n+/tOAVXJPydmdjcr4cg/TaGsZkVNyD+cAfnubdbHP5MTLgEfaMc/2FYQsA34xj/tHBcWj5fGP6FcQ0QhOsY/aDFwdrzLxT+ofao5KG/FPyULW2ZrJsU/nBP1bHzZxD+0H+AAVZTEP2TJW6g3R8Q/5zbUAI4BxD/FQH1NhcbDP2MyovvlgcM/wq9XM6FMwz9AJScG8xnDP8Rxl8gC1MI/sd7Z7X6kwj/d/cUVnnbCPyeP3ZdhTsI/II1PDVImwj8B/c3IZ/nBP8P0vKNv1cE/DKhHJSKzwT+wFGN9jofBP6uUwcicXsE/NRTJ+5c0wT9pJSZv+AzBPyiRPGkO7MA/xQQkwKTCwD9fvDfaQZ/AP91Smn5MgcA/",
          "dtype": "f8"
         },
         "yaxis": "y"
        },
        {
         "fill": "toself",
         "fillcolor": "rgba(77,175,74,0.1)",
         "hoverinfo": "skip",
         "line": {
          "color": "rgba(255,255,255,0)"
         },
         "showlegend": false,
         "type": "scatter",
         "x": {
          "bdata": "AAAAAAAAAAB7FK5H4XqUP3sUrkfheqQ/uB6F61G4rj97FK5H4Xq0P5qZmZmZmbk/uB6F61G4vj/sUbgehevBP3sUrkfhesQ/CtejcD0Kxz+amZmZmZnJPylcj8L1KMw/uB6F61G4zj+kcD0K16PQP+xRuB6F69E/MzMzMzMz0z97FK5H4XrUP8P1KFyPwtU/CtejcD0K1z9SuB6F61HYP5qZmZmZmdk/4XoUrkfh2j8pXI/C9SjcP3E9CtejcN0/uB6F61G43j8AAAAAAADgP6RwPQrXo+A/SOF6FK5H4T/sUbgehevhP4/C9Shcj+I/MzMzMzMz4z/Xo3A9CtfjP3sUrkfheuQ/H4XrUbge5T/D9Shcj8LlP2dmZmZmZuY/CtejcD0K5z+uR+F6FK7nP1K4HoXrUeg/9ihcj8L16D+amZmZmZnpPz4K16NwPeo/4XoUrkfh6j+F61G4HoXrPylcj8L1KOw/zczMzMzM7D9xPQrXo3DtPxWuR+F6FO4/uB6F61G47j9cj8L1KFzvPwAAAAAAAPA/AAAAAAAA8D9cj8L1KFzvP7gehetRuO4/Fa5H4XoU7j9xPQrXo3DtP83MzMzMzOw/KVyPwvUo7D+F61G4HoXrP+F6FK5H4eo/PgrXo3A96j+amZmZmZnpP/YoXI/C9eg/UrgehetR6D+uR+F6FK7nPwrXo3A9Cuc/Z2ZmZmZm5j/D9Shcj8LlPx+F61G4HuU/exSuR+F65D/Xo3A9CtfjPzMzMzMzM+M/j8L1KFyP4j/sUbgehevhP0jhehSuR+E/pHA9Ctej4D8AAAAAAADgP7gehetRuN4/cT0K16Nw3T8pXI/C9SjcP+F6FK5H4do/mpmZmZmZ2T9SuB6F61HYPwrXo3A9Ctc/w/UoXI/C1T97FK5H4XrUPzMzMzMzM9M/7FG4HoXr0T+kcD0K16PQP7gehetRuM4/KVyPwvUozD+amZmZmZnJPwrXo3A9Csc/exSuR+F6xD/sUbgehevBP7gehetRuL4/mpmZmZmZuT97FK5H4Xq0P7gehetRuK4/exSuR+F6pD97FK5H4XqUPwAAAAAAAAAA",
          "dtype": "f8"
         },
         "xaxis": "x",
         "y": {
          "bdata": "mgv/1UN65z+wYDVGmFTdP+QIgp+85Ng/yX/+Unue1T+kQ5vyQTPTP3DOG+DjJtI/J1rvt9X00D9j6Lm7/2TQPxQvFV8ODs8/9SnjvQ72zD/uWZnq4rjLP+CclPmy0so/XTDGEzf8yT8yU4VXhQ3JPzpKINbddMg/UTMuES/mxz9/jnDUW4/HPynQZNBZOMc/JquybfuZxj8YA4EVQCHGP6NNItBgusU/PnvfeclfxT9cAWBcJArFPy76UCSBssQ/JwMBc6NSxD/r1qvXXfTDPy/mdiFkq8M/ml72gWBgwz+VP4MDhCHDP1UKZM6O48I/03c/jjGewj/0GznciGXCP96oUg8BMcI/KdCjev4Hwj9BQK318tbBP7OiN/zTkcE/3L6gZftiwT9Hmm0XSjnBPyED5iQlFcE/46Tt5pXuwD/O3MNFm8jAP8WPiYKGqsA/IQNFkNyIwD/kobiWpVzAP7tI6zhoMsA/mXfQ24gNwD+XIrxFb9O/P47U6jYblr8/gOAjV/xQvz9QIbXoLQ2/PzIs5Wig174/oQ/CyMiWwT8W6BTA7LfBP0oZtlTL3ME/CbgDNw8Nwj+GOW47OTDCP9GwwRunW8I/m+CXWNGKwj98hw1kd7LCP/dMSrpn3cI/wVnwxFgAwz80HdhLNCrDP111sTMOXsM/LRvVCp6Hwz9zYR4U8rPDP4b+EnYC5sM/1UD3lDEWxD8/CqEW81zEP1uPC+xDkcQ/6Lvx58rSxD+WZcG+gSfFP/v1aHPqZMU/c4hTguCqxT/T/zz+JQfGP57I81eYUsY/GzA/q3Khxj9lJKmb8unGP6lf33nVRMc/FL81ZMHBxz9+OM7P+STIP3IyQeZRkMg/g9k5Mt0VyT8gAHHIm4vJP3SXpl+PAMo/JfyHnvyJyj/PZ4fJphrLP/WxAdmQgMs/HllPA70KzD9+/BOS4wfNPwnHIlz6NM4/tnW/BJwtzz8itLT8HfjPP/0C3c/2yNA/yOCnq1qt0T+Fg8DkYq7SP9vNRvUgptM/qpHKpvt11D+03tPTQxPWP0W+ihwvQdg/SkutKGkP3D8oNM3NtSngP25Wy7zSaOk/",
          "dtype": "f8"
         },
         "yaxis": "y"
        },
        {
         "line": {
          "color": "rgb(152,78,163)",
          "width": 2
         },
         "mode": "lines",
         "name": "random",
         "type": "scatter",
         "x": {
          "bdata": "AAAAAAAAAAB7FK5H4XqUP3sUrkfheqQ/uB6F61G4rj97FK5H4Xq0P5qZmZmZmbk/uB6F61G4vj/sUbgehevBP3sUrkfhesQ/CtejcD0Kxz+amZmZmZnJPylcj8L1KMw/uB6F61G4zj+kcD0K16PQP+xRuB6F69E/MzMzMzMz0z97FK5H4XrUP8P1KFyPwtU/CtejcD0K1z9SuB6F61HYP5qZmZmZmdk/4XoUrkfh2j8pXI/C9SjcP3E9CtejcN0/uB6F61G43j8AAAAAAADgP6RwPQrXo+A/SOF6FK5H4T/sUbgehevhP4/C9Shcj+I/MzMzMzMz4z/Xo3A9CtfjP3sUrkfheuQ/H4XrUbge5T/D9Shcj8LlP2dmZmZmZuY/CtejcD0K5z+uR+F6FK7nP1K4HoXrUeg/9ihcj8L16D+amZmZmZnpPz4K16NwPeo/4XoUrkfh6j+F61G4HoXrPylcj8L1KOw/zczMzMzM7D9xPQrXo3DtPxWuR+F6FO4/uB6F61G47j9cj8L1KFzvPwAAAAAAAPA/",
          "dtype": "f8"
         },
         "xaxis": "x",
         "y": {
          "bdata": "dfuDE+x06D8FHEqPDOTeP6Oaa8dSjto/s/aTqt0B1z/Z1wvp3bXUP6+HBG0oXtM/y3xB0TVd0j8HKaSNgpzRP7s9+vx+rtA/3BX4dH5szz88he/yL/3NP61zEMbzLc0/yNIyMZlEzD+TEXc9ZFXLP7jTtyOEuso/c7aK/ncfyj+kwBzcE5XJP8m/IyCCL8k/4Nx1UPW3yD9JMvOl00fIP4TQbCNk38c/WB8uC4Zxxz/RI51UdAzHP+yv/UzzrMY/JVvkeVNOxj8b5JAS8PTFP8AXPVSopcU/NdN80xBRxT9o6xD7RwfFP6uIuVKNusQ/EqJaEuJyxD/LxpI+MzbEP7uAbhHx+MM/V/qSus7Ewz+q6DYxrZTDP0W4my8XUcM/ZQ0UnWQbwz9ZtHj/fOvCP72mRxKpu8I/yaRRVveQwj/zqf4z4F7CP3vEJtGYM8I/MtwFQhQMwj+pT6qPf9nBP5XDclsNq8E/s7O6aeWCwT//RcyE8lbBP4SGDD5lMME/c+880gYDwT/xerwToNPAP0GAvYqlrsA/",
          "dtype": "f8"
         },
         "yaxis": "y"
        },
        {
         "fill": "toself",
         "fillcolor": "rgba(152,78,163,0.1)",
         "hoverinfo": "skip",
         "line": {
          "color": "rgba(255,255,255,0)"
         },
         "showlegend": false,
         "type": "scatter",
         "x": {
          "bdata": "AAAAAAAAAAB7FK5H4XqUP3sUrkfheqQ/uB6F61G4rj97FK5H4Xq0P5qZmZmZmbk/uB6F61G4vj/sUbgehevBP3sUrkfhesQ/CtejcD0Kxz+amZmZmZnJPylcj8L1KMw/uB6F61G4zj+kcD0K16PQP+xRuB6F69E/MzMzMzMz0z97FK5H4XrUP8P1KFyPwtU/CtejcD0K1z9SuB6F61HYP5qZmZmZmdk/4XoUrkfh2j8pXI/C9SjcP3E9CtejcN0/uB6F61G43j8AAAAAAADgP6RwPQrXo+A/SOF6FK5H4T/sUbgehevhP4/C9Shcj+I/MzMzMzMz4z/Xo3A9CtfjP3sUrkfheuQ/H4XrUbge5T/D9Shcj8LlP2dmZmZmZuY/CtejcD0K5z+uR+F6FK7nP1K4HoXrUeg/9ihcj8L16D+amZmZmZnpPz4K16NwPeo/4XoUrkfh6j+F61G4HoXrPylcj8L1KOw/zczMzMzM7D9xPQrXo3DtPxWuR+F6FO4/uB6F61G47j9cj8L1KFzvPwAAAAAAAPA/AAAAAAAA8D9cj8L1KFzvP7gehetRuO4/Fa5H4XoU7j9xPQrXo3DtP83MzMzMzOw/KVyPwvUo7D+F61G4HoXrP+F6FK5H4eo/PgrXo3A96j+amZmZmZnpP/YoXI/C9eg/UrgehetR6D+uR+F6FK7nPwrXo3A9Cuc/Z2ZmZmZm5j/D9Shcj8LlPx+F61G4HuU/exSuR+F65D/Xo3A9CtfjPzMzMzMzM+M/j8L1KFyP4j/sUbgehevhP0jhehSuR+E/pHA9Ctej4D8AAAAAAADgP7gehetRuN4/cT0K16Nw3T8pXI/C9SjcP+F6FK5H4do/mpmZmZmZ2T9SuB6F61HYPwrXo3A9Ctc/w/UoXI/C1T97FK5H4XrUPzMzMzMzM9M/7FG4HoXr0T+kcD0K16PQP7gehetRuM4/KVyPwvUozD+amZmZmZnJPwrXo3A9Csc/exSuR+F6xD/sUbgehevBP7gehetRuL4/mpmZmZmZuT97FK5H4Xq0P7gehetRuK4/exSuR+F6pD97FK5H4XqUPwAAAAAAAAAA",
          "dtype": "f8"
         },
         "xaxis": "x",
         "y": {
          "bdata": "YIbRITp65z+4iu9SUW3dPyCh0MYACNk/aelrONK+1T9gssK8BVXTPxOdsG76QdI/Afnm00gP0T8sMNwd137QP5IZMDubRM8/7qi0u+cuzT/dkg+bOu7LPwk/7odYFMs/5DIfYls9yj9nDTDcz1fJP5if4aj53sg/EE/dy3NVyD+/vlrp8M7HP58gVv17esc/OsllqhEUxz+un6aWArbGP0rIcXI8VcY/9m8H6ODyxT8/0kLn14/FP8IEPvJcPMU/NiTmX73jxD/sGymUtovEPw+cdZZzP8Q/4k7PlLjtwz+AFl9naKjDP5Ckfvb3Y8M/kPyVYtwjwz//cCxAE+vCP6Rnd0tAscI/H6kFOG2Hwj+zemPlAFrCP+CtzrZhGsI/BEExYl/owT/mXnqN7L7BP7UbzNTAlcE/hYoFF35swT+qLFO/+kDBP9+aakujHsE/HERVOhb6wD9ftQlC383AP/rauhFIo8A/kD7wnY99wD9JTIkaVlPAPyl9+hoGL8A/0WB2lhQHwD+4EdP+gbi/P/fEZ8+nfL8/Bx7HLfeewT8GbQ8o/8rBPxV+Aw75/sE/348eYcQxwj+1Pw/vjlrCP9YohTU7iMI/MKwqpdKywj/z6UrdH+XCP0h0tkkSHsM/F+7iVo5Iwz88J6qoxXzDPw2/nZVwtcM/xTHDT5Hhwz/MCXdxDRjEP8bZ9tdpTsQ/qsJoqMyHxD+hVgp9Wc/EP49LID0wAsU/0pll16FAxT+XHPk8U4HFP5RHH8LnwcU/xmz0riIRxj9QwMKOJ2bGP4hXKhJptMY/cZMEEt0Lxz9KrPiQKV7HPxSS4pPpuMc/Flu9p4kdyD9jdffBEInIP7rOVC4r8Mg/vthn1ItpyT/kxD+1pNnJP4bwhfbYW8o/817xQojkyj+Jwt7ONlvLP9YdODF86cs/2AeOng6WzD+/Fb6e+FLNP6xyRgDXS84/UagyBI9Hzz/Nu2elEgbQP2XBHZcK1dA/rW5cXLC60T/iIWz9LbrSP5UAnM4iq9M/S3JYa1Z61D9S/VQVthbWP/0DvBzpRNg/JpQGyKQU3D+pVtLlYy3gP4pwNgWeb+k/",
          "dtype": "f8"
         },
         "yaxis": "y"
        },
        {
         "error_x": {
          "array": {
           "bdata": "6/58jnxDlz/FvPyU7SF0P2u4T3zvV5M/ZVvditgGlj8=",
           "dtype": "f8"
          },
          "type": "data"
         },
         "marker": {
          "color": "skyblue",
          "line": {
           "color": "black",
           "width": 1
          }
         },
         "orientation": "h",
         "showlegend": false,
         "type": "bar",
         "x": {
          "bdata": "e4cmB/LgzD99MXnH5c3LP/2m5sQGVMs/paFUTwnvxz8=",
          "dtype": "f8"
         },
         "xaxis": "x2",
         "y": [
          "random",
          "default",
          "no",
          "incumbent"
         ],
         "yaxis": "y2"
        }
       ],
       "layout": {
        "font": {
         "size": 16
        },
        "height": 400,
        "legend": {
         "font": {
          "size": 16
         },
         "title": {
          "text": "Optimizers"
         }
        },
        "margin": {
         "b": 50,
         "l": 50,
         "r": 50,
         "t": 60
        },
        "template": {
         "data": {
          "bar": [
           {
            "error_x": {
             "color": "#2a3f5f"
            },
            "error_y": {
             "color": "#2a3f5f"
            },
            "marker": {
             "line": {
              "color": "white",
              "width": 0.5
             },
             "pattern": {
              "fillmode": "overlay",
              "size": 10,
              "solidity": 0.2
             }
            },
            "type": "bar"
           }
          ],
          "barpolar": [
           {
            "marker": {
             "line": {
              "color": "white",
              "width": 0.5
             },
             "pattern": {
              "fillmode": "overlay",
              "size": 10,
              "solidity": 0.2
             }
            },
            "type": "barpolar"
           }
          ],
          "carpet": [
           {
            "aaxis": {
             "endlinecolor": "#2a3f5f",
             "gridcolor": "#C8D4E3",
             "linecolor": "#C8D4E3",
             "minorgridcolor": "#C8D4E3",
             "startlinecolor": "#2a3f5f"
            },
            "baxis": {
             "endlinecolor": "#2a3f5f",
             "gridcolor": "#C8D4E3",
             "linecolor": "#C8D4E3",
             "minorgridcolor": "#C8D4E3",
             "startlinecolor": "#2a3f5f"
            },
            "type": "carpet"
           }
          ],
          "choropleth": [
           {
            "colorbar": {
             "outlinewidth": 0,
             "ticks": ""
            },
            "type": "choropleth"
           }
          ],
          "contour": [
           {
            "colorbar": {
             "outlinewidth": 0,
             "ticks": ""
            },
            "colorscale": [
             [
              0,
              "#0d0887"
             ],
             [
              0.1111111111111111,
              "#46039f"
             ],
             [
              0.2222222222222222,
              "#7201a8"
             ],
             [
              0.3333333333333333,
              "#9c179e"
             ],
             [
              0.4444444444444444,
              "#bd3786"
             ],
             [
              0.5555555555555556,
              "#d8576b"
             ],
             [
              0.6666666666666666,
              "#ed7953"
             ],
             [
              0.7777777777777778,
              "#fb9f3a"
             ],
             [
              0.8888888888888888,
              "#fdca26"
             ],
             [
              1,
              "#f0f921"
             ]
            ],
            "type": "contour"
           }
          ],
          "contourcarpet": [
           {
            "colorbar": {
             "outlinewidth": 0,
             "ticks": ""
            },
            "type": "contourcarpet"
           }
          ],
          "heatmap": [
           {
            "colorbar": {
             "outlinewidth": 0,
             "ticks": ""
            },
            "colorscale": [
             [
              0,
              "#0d0887"
             ],
             [
              0.1111111111111111,
              "#46039f"
             ],
             [
              0.2222222222222222,
              "#7201a8"
             ],
             [
              0.3333333333333333,
              "#9c179e"
             ],
             [
              0.4444444444444444,
              "#bd3786"
             ],
             [
              0.5555555555555556,
              "#d8576b"
             ],
             [
              0.6666666666666666,
              "#ed7953"
             ],
             [
              0.7777777777777778,
              "#fb9f3a"
             ],
             [
              0.8888888888888888,
              "#fdca26"
             ],
             [
              1,
              "#f0f921"
             ]
            ],
            "type": "heatmap"
           }
          ],
          "histogram": [
           {
            "marker": {
             "pattern": {
              "fillmode": "overlay",
              "size": 10,
              "solidity": 0.2
             }
            },
            "type": "histogram"
           }
          ],
          "histogram2d": [
           {
            "colorbar": {
             "outlinewidth": 0,
             "ticks": ""
            },
            "colorscale": [
             [
              0,
              "#0d0887"
             ],
             [
              0.1111111111111111,
              "#46039f"
             ],
             [
              0.2222222222222222,
              "#7201a8"
             ],
             [
              0.3333333333333333,
              "#9c179e"
             ],
             [
              0.4444444444444444,
              "#bd3786"
             ],
             [
              0.5555555555555556,
              "#d8576b"
             ],
             [
              0.6666666666666666,
              "#ed7953"
             ],
             [
              0.7777777777777778,
              "#fb9f3a"
             ],
             [
              0.8888888888888888,
              "#fdca26"
             ],
             [
              1,
              "#f0f921"
             ]
            ],
            "type": "histogram2d"
           }
          ],
          "histogram2dcontour": [
           {
            "colorbar": {
             "outlinewidth": 0,
             "ticks": ""
            },
            "colorscale": [
             [
              0,
              "#0d0887"
             ],
             [
              0.1111111111111111,
              "#46039f"
             ],
             [
              0.2222222222222222,
              "#7201a8"
             ],
             [
              0.3333333333333333,
              "#9c179e"
             ],
             [
              0.4444444444444444,
              "#bd3786"
             ],
             [
              0.5555555555555556,
              "#d8576b"
             ],
             [
              0.6666666666666666,
              "#ed7953"
             ],
             [
              0.7777777777777778,
              "#fb9f3a"
             ],
             [
              0.8888888888888888,
              "#fdca26"
             ],
             [
              1,
              "#f0f921"
             ]
            ],
            "type": "histogram2dcontour"
           }
          ],
          "mesh3d": [
           {
            "colorbar": {
             "outlinewidth": 0,
             "ticks": ""
            },
            "type": "mesh3d"
           }
          ],
          "parcoords": [
           {
            "line": {
             "colorbar": {
              "outlinewidth": 0,
              "ticks": ""
             }
            },
            "type": "parcoords"
           }
          ],
          "pie": [
           {
            "automargin": true,
            "type": "pie"
           }
          ],
          "scatter": [
           {
            "fillpattern": {
             "fillmode": "overlay",
             "size": 10,
             "solidity": 0.2
            },
            "type": "scatter"
           }
          ],
          "scatter3d": [
           {
            "line": {
             "colorbar": {
              "outlinewidth": 0,
              "ticks": ""
             }
            },
            "marker": {
             "colorbar": {
              "outlinewidth": 0,
              "ticks": ""
             }
            },
            "type": "scatter3d"
           }
          ],
          "scattercarpet": [
           {
            "marker": {
             "colorbar": {
              "outlinewidth": 0,
              "ticks": ""
             }
            },
            "type": "scattercarpet"
           }
          ],
          "scattergeo": [
           {
            "marker": {
             "colorbar": {
              "outlinewidth": 0,
              "ticks": ""
             }
            },
            "type": "scattergeo"
           }
          ],
          "scattergl": [
           {
            "marker": {
             "colorbar": {
              "outlinewidth": 0,
              "ticks": ""
             }
            },
            "type": "scattergl"
           }
          ],
          "scattermap": [
           {
            "marker": {
             "colorbar": {
              "outlinewidth": 0,
              "ticks": ""
             }
            },
            "type": "scattermap"
           }
          ],
          "scattermapbox": [
           {
            "marker": {
             "colorbar": {
              "outlinewidth": 0,
              "ticks": ""
             }
            },
            "type": "scattermapbox"
           }
          ],
          "scatterpolar": [
           {
            "marker": {
             "colorbar": {
              "outlinewidth": 0,
              "ticks": ""
             }
            },
            "type": "scatterpolar"
           }
          ],
          "scatterpolargl": [
           {
            "marker": {
             "colorbar": {
              "outlinewidth": 0,
              "ticks": ""
             }
            },
            "type": "scatterpolargl"
           }
          ],
          "scatterternary": [
           {
            "marker": {
             "colorbar": {
              "outlinewidth": 0,
              "ticks": ""
             }
            },
            "type": "scatterternary"
           }
          ],
          "surface": [
           {
            "colorbar": {
             "outlinewidth": 0,
             "ticks": ""
            },
            "colorscale": [
             [
              0,
              "#0d0887"
             ],
             [
              0.1111111111111111,
              "#46039f"
             ],
             [
              0.2222222222222222,
              "#7201a8"
             ],
             [
              0.3333333333333333,
              "#9c179e"
             ],
             [
              0.4444444444444444,
              "#bd3786"
             ],
             [
              0.5555555555555556,
              "#d8576b"
             ],
             [
              0.6666666666666666,
              "#ed7953"
             ],
             [
              0.7777777777777778,
              "#fb9f3a"
             ],
             [
              0.8888888888888888,
              "#fdca26"
             ],
             [
              1,
              "#f0f921"
             ]
            ],
            "type": "surface"
           }
          ],
          "table": [
           {
            "cells": {
             "fill": {
              "color": "#EBF0F8"
             },
             "line": {
              "color": "white"
             }
            },
            "header": {
             "fill": {
              "color": "#C8D4E3"
             },
             "line": {
              "color": "white"
             }
            },
            "type": "table"
           }
          ]
         },
         "layout": {
          "annotationdefaults": {
           "arrowcolor": "#2a3f5f",
           "arrowhead": 0,
           "arrowwidth": 1
          },
          "autotypenumbers": "strict",
          "coloraxis": {
           "colorbar": {
            "outlinewidth": 0,
            "ticks": ""
           }
          },
          "colorscale": {
           "diverging": [
            [
             0,
             "#8e0152"
            ],
            [
             0.1,
             "#c51b7d"
            ],
            [
             0.2,
             "#de77ae"
            ],
            [
             0.3,
             "#f1b6da"
            ],
            [
             0.4,
             "#fde0ef"
            ],
            [
             0.5,
             "#f7f7f7"
            ],
            [
             0.6,
             "#e6f5d0"
            ],
            [
             0.7,
             "#b8e186"
            ],
            [
             0.8,
             "#7fbc41"
            ],
            [
             0.9,
             "#4d9221"
            ],
            [
             1,
             "#276419"
            ]
           ],
           "sequential": [
            [
             0,
             "#0d0887"
            ],
            [
             0.1111111111111111,
             "#46039f"
            ],
            [
             0.2222222222222222,
             "#7201a8"
            ],
            [
             0.3333333333333333,
             "#9c179e"
            ],
            [
             0.4444444444444444,
             "#bd3786"
            ],
            [
             0.5555555555555556,
             "#d8576b"
            ],
            [
             0.6666666666666666,
             "#ed7953"
            ],
            [
             0.7777777777777778,
             "#fb9f3a"
            ],
            [
             0.8888888888888888,
             "#fdca26"
            ],
            [
             1,
             "#f0f921"
            ]
           ],
           "sequentialminus": [
            [
             0,
             "#0d0887"
            ],
            [
             0.1111111111111111,
             "#46039f"
            ],
            [
             0.2222222222222222,
             "#7201a8"
            ],
            [
             0.3333333333333333,
             "#9c179e"
            ],
            [
             0.4444444444444444,
             "#bd3786"
            ],
            [
             0.5555555555555556,
             "#d8576b"
            ],
            [
             0.6666666666666666,
             "#ed7953"
            ],
            [
             0.7777777777777778,
             "#fb9f3a"
            ],
            [
             0.8888888888888888,
             "#fdca26"
            ],
            [
             1,
             "#f0f921"
            ]
           ]
          },
          "colorway": [
           "#636efa",
           "#EF553B",
           "#00cc96",
           "#ab63fa",
           "#FFA15A",
           "#19d3f3",
           "#FF6692",
           "#B6E880",
           "#FF97FF",
           "#FECB52"
          ],
          "font": {
           "color": "#2a3f5f"
          },
          "geo": {
           "bgcolor": "white",
           "lakecolor": "white",
           "landcolor": "white",
           "showlakes": true,
           "showland": true,
           "subunitcolor": "#C8D4E3"
          },
          "hoverlabel": {
           "align": "left"
          },
          "hovermode": "closest",
          "mapbox": {
           "style": "light"
          },
          "paper_bgcolor": "white",
          "plot_bgcolor": "white",
          "polar": {
           "angularaxis": {
            "gridcolor": "#EBF0F8",
            "linecolor": "#EBF0F8",
            "ticks": ""
           },
           "bgcolor": "white",
           "radialaxis": {
            "gridcolor": "#EBF0F8",
            "linecolor": "#EBF0F8",
            "ticks": ""
           }
          },
          "scene": {
           "xaxis": {
            "backgroundcolor": "white",
            "gridcolor": "#DFE8F3",
            "gridwidth": 2,
            "linecolor": "#EBF0F8",
            "showbackground": true,
            "ticks": "",
            "zerolinecolor": "#EBF0F8"
           },
           "yaxis": {
            "backgroundcolor": "white",
            "gridcolor": "#DFE8F3",
            "gridwidth": 2,
            "linecolor": "#EBF0F8",
            "showbackground": true,
            "ticks": "",
            "zerolinecolor": "#EBF0F8"
           },
           "zaxis": {
            "backgroundcolor": "white",
            "gridcolor": "#DFE8F3",
            "gridwidth": 2,
            "linecolor": "#EBF0F8",
            "showbackground": true,
            "ticks": "",
            "zerolinecolor": "#EBF0F8"
           }
          },
          "shapedefaults": {
           "line": {
            "color": "#2a3f5f"
           }
          },
          "ternary": {
           "aaxis": {
            "gridcolor": "#DFE8F3",
            "linecolor": "#A2B1C6",
            "ticks": ""
           },
           "baxis": {
            "gridcolor": "#DFE8F3",
            "linecolor": "#A2B1C6",
            "ticks": ""
           },
           "bgcolor": "white",
           "caxis": {
            "gridcolor": "#DFE8F3",
            "linecolor": "#A2B1C6",
            "ticks": ""
           }
          },
          "title": {
           "x": 0.05
          },
          "xaxis": {
           "automargin": true,
           "gridcolor": "#EBF0F8",
           "linecolor": "#EBF0F8",
           "ticks": "",
           "title": {
            "standoff": 15
           },
           "zerolinecolor": "#EBF0F8",
           "zerolinewidth": 2
          },
          "yaxis": {
           "automargin": true,
           "gridcolor": "#EBF0F8",
           "linecolor": "#EBF0F8",
           "ticks": "",
           "title": {
            "standoff": 15
           },
           "zerolinecolor": "#EBF0F8",
           "zerolinewidth": 2
          }
         }
        },
        "width": 1800,
        "xaxis": {
         "anchor": "y",
         "domain": [
          0,
          0.51
         ],
         "title": {
          "text": "Normalized Trials"
         }
        },
        "xaxis2": {
         "anchor": "y2",
         "domain": [
          0.66,
          1
         ],
         "title": {
          "text": "AUC"
         }
        },
        "yaxis": {
         "anchor": "x",
         "domain": [
          0,
          1
         ],
         "title": {
          "text": "Normalized Inc-Performance"
         }
        },
        "yaxis2": {
         "anchor": "x2",
         "domain": [
          0,
          1
         ],
         "title": {
          "text": "Optimizer"
         }
        }
       }
      }
     },
     "metadata": {},
     "output_type": "display_data"
    }
   ],
   "source": [
    "plot_one_thing('cs_method')"
   ]
  },
  {
   "cell_type": "code",
   "execution_count": 137,
   "id": "d3ab87d5",
   "metadata": {},
   "outputs": [
    {
     "name": "stderr",
     "output_type": "stream",
     "text": [
      "/home/daphne/Code/hpi_parego/CARP-S/carps/analysis/run_autorank.py:322: FutureWarning:\n",
      "\n",
      "Series.__getitem__ treating keys as positions is deprecated. In a future version, integer keys will always be treated as labels (consistent with DataFrame behavior). To access a value by position, use `ser.iloc[pos]`\n",
      "\n",
      "/home/daphne/Code/hpi_parego/CARP-S/carps/analysis/run_autorank.py:421: UserWarning:\n",
      "\n",
      "FigureCanvasAgg is non-interactive, and thus cannot be shown\n",
      "\n"
     ]
    },
    {
     "data": {
      "text/html": [
       "<pre style=\"white-space:pre;overflow-x:auto;line-height:normal;font-family:Menlo,'DejaVu Sans Mono',consolas,'Courier New',monospace\"><span style=\"color: #7fbfbf; text-decoration-color: #7fbfbf\">[16:31:29] </span><span style=\"color: #000080; text-decoration-color: #000080\">INFO    </span> Create dataframe for neat plotting by aligning x-axis <span style=\"color: #800080; text-decoration-color: #800080\">/</span> interpolating        <a href=\"file:///home/daphne/Code/hpi_parego/CARP-S/carps/analysis/gather_data.py\" target=\"_blank\"><span style=\"color: #7f7f7f; text-decoration-color: #7f7f7f\">gather_data.py</span></a><span style=\"color: #7f7f7f; text-decoration-color: #7f7f7f\">:</span><a href=\"file:///home/daphne/Code/hpi_parego/CARP-S/carps/analysis/gather_data.py#735\" target=\"_blank\"><span style=\"color: #7f7f7f; text-decoration-color: #7f7f7f\">735</span></a>\n",
       "<span style=\"color: #7fbfbf; text-decoration-color: #7fbfbf\">           </span>         budget.                                                                      <span style=\"color: #7f7f7f; text-decoration-color: #7f7f7f\">                  </span>\n",
       "</pre>\n"
      ],
      "text/plain": [
       "\u001b[2;36m[16:31:29]\u001b[0m\u001b[2;36m \u001b[0m\u001b[34mINFO    \u001b[0m Create dataframe for neat plotting by aligning x-axis \u001b[35m/\u001b[0m interpolating        \u001b]8;id=92547;file:///home/daphne/Code/hpi_parego/CARP-S/carps/analysis/gather_data.py\u001b\\\u001b[2mgather_data.py\u001b[0m\u001b]8;;\u001b\\\u001b[2m:\u001b[0m\u001b]8;id=930325;file:///home/daphne/Code/hpi_parego/CARP-S/carps/analysis/gather_data.py#735\u001b\\\u001b[2m735\u001b[0m\u001b]8;;\u001b\\\n",
       "\u001b[2;36m           \u001b[0m         budget.                                                                      \u001b[2m                  \u001b[0m\n"
      ]
     },
     "metadata": {},
     "output_type": "display_data"
    },
    {
     "name": "stderr",
     "output_type": "stream",
     "text": [
      "/home/daphne/Code/hpi_parego/CARP-S/carps/analysis/generate_report.py:108: UserWarning:\n",
      "\n",
      "Result is not significant and results of the plot may be misleading!\n",
      "\n",
      "/home/daphne/Code/hpi_parego/CARP-S/carps/analysis/generate_report.py:108: UserWarning:\n",
      "\n",
      "Result is not significant and results of the plot may be misleading!\n",
      "\n",
      "/home/daphne/Code/hpi_parego/CARP-S/carps/analysis/generate_report.py:108: UserWarning:\n",
      "\n",
      "Result is not significant and results of the plot may be misleading!\n",
      "\n",
      "/home/daphne/Code/hpi_parego/CARP-S/carps/analysis/generate_report.py:108: UserWarning:\n",
      "\n",
      "Result is not significant and results of the plot may be misleading!\n",
      "\n",
      "/home/daphne/Code/hpi_parego/CARP-S/carps/analysis/generate_report.py:108: UserWarning:\n",
      "\n",
      "Result is not significant and results of the plot may be misleading!\n",
      "\n",
      "/home/daphne/Code/hpi_parego/CARP-S/carps/analysis/generate_report.py:108: UserWarning:\n",
      "\n",
      "Result is not significant and results of the plot may be misleading!\n",
      "\n",
      "/home/daphne/Code/hpi_parego/CARP-S/carps/analysis/generate_report.py:108: UserWarning:\n",
      "\n",
      "Result is not significant and results of the plot may be misleading!\n",
      "\n",
      "/home/daphne/Code/hpi_parego/CARP-S/carps/analysis/generate_report.py:108: UserWarning:\n",
      "\n",
      "Result is not significant and results of the plot may be misleading!\n",
      "\n"
     ]
    },
    {
     "name": "stdout",
     "output_type": "stream",
     "text": [
      "['False' 'true no' 'true retrain']\n"
     ]
    },
    {
     "name": "stderr",
     "output_type": "stream",
     "text": [
      "/tmp/ipykernel_27098/3449863810.py:27: DeprecationWarning:\n",
      "\n",
      "DataFrameGroupBy.apply operated on the grouping columns. This behavior is deprecated, and in a future version of pandas the grouping columns will be excluded from the operation. Either pass `include_groups=False` to exclude the groupings or explicitly select the grouping columns after groupby to silence this warning.\n",
      "\n"
     ]
    },
    {
     "data": {
      "application/vnd.plotly.v1+json": {
       "config": {
        "plotlyServerURL": "https://plot.ly"
       },
       "data": [
        {
         "line": {
          "color": "rgb(228,26,28)",
          "width": 2
         },
         "mode": "lines",
         "name": "False",
         "type": "scatter",
         "x": {
          "bdata": "AAAAAAAAAAB7FK5H4XqUP3sUrkfheqQ/uB6F61G4rj97FK5H4Xq0P5qZmZmZmbk/uB6F61G4vj/sUbgehevBP3sUrkfhesQ/CtejcD0Kxz+amZmZmZnJPylcj8L1KMw/uB6F61G4zj+kcD0K16PQP+xRuB6F69E/MzMzMzMz0z97FK5H4XrUP8P1KFyPwtU/CtejcD0K1z9SuB6F61HYP5qZmZmZmdk/4XoUrkfh2j8pXI/C9SjcP3E9CtejcN0/uB6F61G43j8AAAAAAADgP6RwPQrXo+A/SOF6FK5H4T/sUbgehevhP4/C9Shcj+I/MzMzMzMz4z/Xo3A9CtfjP3sUrkfheuQ/H4XrUbge5T/D9Shcj8LlP2dmZmZmZuY/CtejcD0K5z+uR+F6FK7nP1K4HoXrUeg/9ihcj8L16D+amZmZmZnpPz4K16NwPeo/4XoUrkfh6j+F61G4HoXrPylcj8L1KOw/zczMzMzM7D9xPQrXo3DtPxWuR+F6FO4/uB6F61G47j9cj8L1KFzvPwAAAAAAAPA/",
          "dtype": "f8"
         },
         "xaxis": "x",
         "y": {
          "bdata": "eO+s7EbQ5z/8cOerjlbePxDhthZKTNo/Z72x454n1z/XE8TcYCfVP2FvjBAs5NM/m50cYIIF0z87NpYOfkHSP55scxbET9E/MAdwo4Nu0D+LeX64r5bPP4g/tYy97c4/S6KPqHolzj+3s6qru7jMP9OsEenVxcs/b7+cZWETyz9UBpMrlU7KPyxxaLXjnMk/5F7C3C63yD8f1IpkhffHP9tlPdjKTcc/t+/YZfKSxj8jdPTrecrFP5T9wySiKcU/LPYfdnyZxD/RyfjJ8w/EP2uZpYN/msM//xOvDaYYwz+8zENq/qTCP+6FUfJUIsI/iW56H8m6wT/f/V3B1mHBP0VlDT5r/MA/87HC6KCmwD/Tl/lXv1fAP/gocfxR2L8/C6aDwa42vz9106VVa56+P3gugrtWD74/HW3wD6yOvT+fBmI4n+e8P9x9On/eYbw/iw6QyzTiuz9MMuCGd067P5TLSR7/w7o/E7aUhKxFuj9JDr6pm7a5P/CPuPXuOLk/A4gbqIutuD/DlAqWei24P4CQ8BFuybc/",
          "dtype": "f8"
         },
         "yaxis": "y"
        },
        {
         "fill": "toself",
         "fillcolor": "rgba(228,26,28,0.1)",
         "hoverinfo": "skip",
         "line": {
          "color": "rgba(255,255,255,0)"
         },
         "showlegend": false,
         "type": "scatter",
         "x": {
          "bdata": "AAAAAAAAAAB7FK5H4XqUP3sUrkfheqQ/uB6F61G4rj97FK5H4Xq0P5qZmZmZmbk/uB6F61G4vj/sUbgehevBP3sUrkfhesQ/CtejcD0Kxz+amZmZmZnJPylcj8L1KMw/uB6F61G4zj+kcD0K16PQP+xRuB6F69E/MzMzMzMz0z97FK5H4XrUP8P1KFyPwtU/CtejcD0K1z9SuB6F61HYP5qZmZmZmdk/4XoUrkfh2j8pXI/C9SjcP3E9CtejcN0/uB6F61G43j8AAAAAAADgP6RwPQrXo+A/SOF6FK5H4T/sUbgehevhP4/C9Shcj+I/MzMzMzMz4z/Xo3A9CtfjP3sUrkfheuQ/H4XrUbge5T/D9Shcj8LlP2dmZmZmZuY/CtejcD0K5z+uR+F6FK7nP1K4HoXrUeg/9ihcj8L16D+amZmZmZnpPz4K16NwPeo/4XoUrkfh6j+F61G4HoXrPylcj8L1KOw/zczMzMzM7D9xPQrXo3DtPxWuR+F6FO4/uB6F61G47j9cj8L1KFzvPwAAAAAAAPA/AAAAAAAA8D9cj8L1KFzvP7gehetRuO4/Fa5H4XoU7j9xPQrXo3DtP83MzMzMzOw/KVyPwvUo7D+F61G4HoXrP+F6FK5H4eo/PgrXo3A96j+amZmZmZnpP/YoXI/C9eg/UrgehetR6D+uR+F6FK7nPwrXo3A9Cuc/Z2ZmZmZm5j/D9Shcj8LlPx+F61G4HuU/exSuR+F65D/Xo3A9CtfjPzMzMzMzM+M/j8L1KFyP4j/sUbgehevhP0jhehSuR+E/pHA9Ctej4D8AAAAAAADgP7gehetRuN4/cT0K16Nw3T8pXI/C9SjcP+F6FK5H4do/mpmZmZmZ2T9SuB6F61HYPwrXo3A9Ctc/w/UoXI/C1T97FK5H4XrUPzMzMzMzM9M/7FG4HoXr0T+kcD0K16PQP7gehetRuM4/KVyPwvUozD+amZmZmZnJPwrXo3A9Csc/exSuR+F6xD/sUbgehevBP7gehetRuL4/mpmZmZmZuT97FK5H4Xq0P7gehetRuK4/exSuR+F6pD97FK5H4XqUPwAAAAAAAAAA",
          "dtype": "f8"
         },
         "xaxis": "x",
         "y": {
          "bdata": "bxvebaya5j+qJV99LI3dP1SVmmiZn9k/4FnCkbPN1j9cZ/g2NKjUP0E1k2YNntM/Z9+gIjSA0j++fHoEz97RP2W65b/vI9E/pCDF7+sz0D+vA9frcjvPP0xAWxy3h84/TdLeJAWjzT96NTGg+PvLP6EYNhg85so/Ii/mL3s5yj97J2Q16p7JPxzQvJbSCsk/mWuodEBHyD/JlgegzZ/HP82O0G1bCMc/mSgXQRBjxj8lC/7lRYXFPzMspCpi58Q/CJ2QSKBQxD9VC3iTd8LDP2dstbfPSsM//nFPZJDIwj+wjd695FXCPwxQDe5W2ME/Y5HhW3BswT+eigJZ0wrBP0/7GKvFpsA/NtiZvGRVwD/EKKoRXf6/P6yFEh6kFr8/ST4ZNKNdvj/H7eURXM+9P+XuZC0dPr0/zOMgB1S6vD9Cb4YUsh28P7LxfnmYnbs/GY6YA0kXuz+yh9b0kIS6P98rgraj/7k/8d7qFCeIuT9eVokp2Pi4P+/VAf54d7g/07vccirktz8u7GdmmWC3P/rMjHGSAbc/BlRUskmRuD9YPa3FW/q4PzNUWt3sdrk/8Ulv7WT6uT80xvIpX3S6PzWNPvQxA7s/SWsRhlqIuz/m3OkYXhi8P/2Oh5Mgrbw/Bgr2hCQmvT/8nT1cjLG9P272vxgEY74/C26fSZDgvj8juWWZem2/P+cGdyfdB8A/IuZn7f9MwD9EGx4nULDAP7CL6xTd98A/O88B0RBSwT8gcbkp2rjBP69LE+MhCcI/0LuV9lJswj/IC6kWGPTCPwC2Dre7aMM/b8aVTy/qwz9NiHkAcF3EP1BPr6NY4sQ/9c7jHuJrxT8h3erxrQ/GP9W2morUwsY/6TyqQjqTxz91EQ4pPU/IPy9S3EQdJ8k/PBIU1PQuyj8t5cEhQP7KP7xPU5tH7cs/BUHtuW+lzD/0MSS3fnXNP0lyQCzwp84/xD4P/cNTzz9n7yWF7PHPP7ztGlcbqdA/1x4BbZh70T+477EYLaTSP89bmJ3QitM/gamFukoq1D9SwI+CjabVP+4goTWKgdc/zCzTxPr42j9OvG/a8B/fP4HDe2vhBek/",
          "dtype": "f8"
         },
         "yaxis": "y"
        },
        {
         "line": {
          "color": "rgb(55,126,184)",
          "width": 2
         },
         "mode": "lines",
         "name": "true no",
         "type": "scatter",
         "x": {
          "bdata": "AAAAAAAAAAB7FK5H4XqUP3sUrkfheqQ/uB6F61G4rj97FK5H4Xq0P5qZmZmZmbk/uB6F61G4vj/sUbgehevBP3sUrkfhesQ/CtejcD0Kxz+amZmZmZnJPylcj8L1KMw/uB6F61G4zj+kcD0K16PQP+xRuB6F69E/MzMzMzMz0z97FK5H4XrUP8P1KFyPwtU/CtejcD0K1z9SuB6F61HYP5qZmZmZmdk/4XoUrkfh2j8pXI/C9SjcP3E9CtejcN0/uB6F61G43j8AAAAAAADgP6RwPQrXo+A/SOF6FK5H4T/sUbgehevhP4/C9Shcj+I/MzMzMzMz4z/Xo3A9CtfjP3sUrkfheuQ/H4XrUbge5T/D9Shcj8LlP2dmZmZmZuY/CtejcD0K5z+uR+F6FK7nP1K4HoXrUeg/9ihcj8L16D+amZmZmZnpPz4K16NwPeo/4XoUrkfh6j+F61G4HoXrPylcj8L1KOw/zczMzMzM7D9xPQrXo3DtPxWuR+F6FO4/uB6F61G47j9cj8L1KFzvPwAAAAAAAPA/",
          "dtype": "f8"
         },
         "xaxis": "x",
         "y": {
          "bdata": "rSh2x/rb5z/bU0Qf81nePxsHj+y0Tto/ZRIEBPky1z83RASY2THVP2PytMAi7dM/qE3/GX0O0z+n7Wk00EvSP6Cz9TETW9E/YKi0BfV40D8k+ciV2qjPPyxrbHtl/s4/O8t2vRgzzj89HRHqUrfMP5+/8ABXwMs/fcEjWRrWyj/x/C+FnATKPyjhnJRjVsk/BVD7bumPyD9HAp2grd/HP1CLCZvUKsc/lQQJBKVzxj+tvpHIPNzFP/G+gEsxSsU/CZbqJvuyxD9fJdbqkiPEP11hbq1BqMM/zUZmLGItwz/96p6EvrzCP6QQwQlyScI/JbbKQ6jZwT+TCiWVNXfBP2DtvfFHEsE/ckuuEj+9wD/LGOClJ2vAP6cxuoIfAMA/X4/vfSVgvz8o7LfGYsm+P+OJb5BBM74/SFH1QpGjvT8nEIlFBP+8P7ADKNlQdLw//Rxk8+72uz8A9Se3yVi7P8laptwR1bo/iZ4OJrtWuj9FwtsJxsm5PxGLxqgxVbk/iE3xhB7LuD+0xgPzKke4P99NRhh+3rc/",
          "dtype": "f8"
         },
         "yaxis": "y"
        },
        {
         "fill": "toself",
         "fillcolor": "rgba(55,126,184,0.1)",
         "hoverinfo": "skip",
         "line": {
          "color": "rgba(255,255,255,0)"
         },
         "showlegend": false,
         "type": "scatter",
         "x": {
          "bdata": "AAAAAAAAAAB7FK5H4XqUP3sUrkfheqQ/uB6F61G4rj97FK5H4Xq0P5qZmZmZmbk/uB6F61G4vj/sUbgehevBP3sUrkfhesQ/CtejcD0Kxz+amZmZmZnJPylcj8L1KMw/uB6F61G4zj+kcD0K16PQP+xRuB6F69E/MzMzMzMz0z97FK5H4XrUP8P1KFyPwtU/CtejcD0K1z9SuB6F61HYP5qZmZmZmdk/4XoUrkfh2j8pXI/C9SjcP3E9CtejcN0/uB6F61G43j8AAAAAAADgP6RwPQrXo+A/SOF6FK5H4T/sUbgehevhP4/C9Shcj+I/MzMzMzMz4z/Xo3A9CtfjP3sUrkfheuQ/H4XrUbge5T/D9Shcj8LlP2dmZmZmZuY/CtejcD0K5z+uR+F6FK7nP1K4HoXrUeg/9ihcj8L16D+amZmZmZnpPz4K16NwPeo/4XoUrkfh6j+F61G4HoXrPylcj8L1KOw/zczMzMzM7D9xPQrXo3DtPxWuR+F6FO4/uB6F61G47j9cj8L1KFzvPwAAAAAAAPA/AAAAAAAA8D9cj8L1KFzvP7gehetRuO4/Fa5H4XoU7j9xPQrXo3DtP83MzMzMzOw/KVyPwvUo7D+F61G4HoXrP+F6FK5H4eo/PgrXo3A96j+amZmZmZnpP/YoXI/C9eg/UrgehetR6D+uR+F6FK7nPwrXo3A9Cuc/Z2ZmZmZm5j/D9Shcj8LlPx+F61G4HuU/exSuR+F65D/Xo3A9CtfjPzMzMzMzM+M/j8L1KFyP4j/sUbgehevhP0jhehSuR+E/pHA9Ctej4D8AAAAAAADgP7gehetRuN4/cT0K16Nw3T8pXI/C9SjcP+F6FK5H4do/mpmZmZmZ2T9SuB6F61HYPwrXo3A9Ctc/w/UoXI/C1T97FK5H4XrUPzMzMzMzM9M/7FG4HoXr0T+kcD0K16PQP7gehetRuM4/KVyPwvUozD+amZmZmZnJPwrXo3A9Csc/exSuR+F6xD/sUbgehevBP7gehetRuL4/mpmZmZmZuT97FK5H4Xq0P7gehetRuK4/exSuR+F6pD97FK5H4XqUPwAAAAAAAAAA",
          "dtype": "f8"
         },
         "xaxis": "x",
         "y": {
          "bdata": "eBJVWgCd5j/XlJlX3q/dP6V9bQlXwNk/WUFoBzT21j/392k8Cc3UP7Hu0EcPw9M/AmPFxsWl0j8XTDWDaf7RPzUDwqE2O9E/d1+Uo7BX0D8d6KZX5XvPP0wHE1OzyM4/pBgHZubdzT9xIFsB+w7MP4IueD2t7so/vM+CwmMLyj/EZPflnWvJPxgDSipDx8g/ALu2QdciyD8oWBjTc3/HP3Bz++xK28Y/CzC6ttsvxj8MyGeFRp7FP0Y/DnReEsU/3ENfqkaBxD9xDwW3MfnDPwPPUSSdhcM/3ApdHOkRwz8Ar1iQBaTCPxrg03L1K8I/Gb3X7ti5wT8D4yzhKVTBP9cOheND7MA/xDscKx2OwD+LZGIb4DfAP2glk4aGkr8/7vPCwdbjvj93A8d2WlG+P79hqNiauL0/rz3HM/gsvT/hT8oQPoq8P+Ufd9RN9bs/HjO7RG5xuz+0rEYHF9m6P2T3Dkv9V7o/0ot4KZnYuT9LxV+VIk65P2l2wlv21bg/YbMOaN1FuD8VAj65cb23P5rY7PFCVbc/JMOfPrlnuD9Ti8ks5NC4P6/n06FfULk/uZ/K9WzUuT8/v1d+aUW6P0CxpCLd1Lo/Lr49biZSuz9MPQlnfNi7P9wGDaJvfLw/e+fY3VPzvD9t0Ed6ynO9P+FkI1IqGr4/B7I2SOitvj/Z1KgWa0G/P9AqHDp03L8/mtAqwvs2wD8LzV0wb57APyBbQPpg7MA/6cv2/0s4wT8jMh1JQZrBPzGvvZh3+cE/LkGuoO5mwj/6JuV4d9XCP76CbzzbSMM/t/OKNubKwz9NO6ce9E3EPzbodaOv5MQ/nD7zIgSCxT9OtbsLMxrGPx/ZV1Fut8Y/MKMXSV56xz9mrCFu5z/IPwrlP5z7/Mg/OL/v/oPlyT8elWgkm53KPz6zxO/QoMs/vFBpxACSzD8JGsfSql/NP9J95hRLiM4/DM/Foxc0zz8rCuvTz9XPP0nx1Gc5mtA/C2Qpwu960T83j57lNpnSP044OW00d9M/FfaYOTYX1D93kJ7zqZbVP3HjnwC+b9c/kZCwzxLd2j/fEu/mBwTfP+I+lzT1Guk/",
          "dtype": "f8"
         },
         "yaxis": "y"
        },
        {
         "line": {
          "color": "rgb(77,175,74)",
          "width": 2
         },
         "mode": "lines",
         "name": "true retrain",
         "type": "scatter",
         "x": {
          "bdata": "AAAAAAAAAAB7FK5H4XqUP3sUrkfheqQ/uB6F61G4rj97FK5H4Xq0P5qZmZmZmbk/uB6F61G4vj/sUbgehevBP3sUrkfhesQ/CtejcD0Kxz+amZmZmZnJPylcj8L1KMw/uB6F61G4zj+kcD0K16PQP+xRuB6F69E/MzMzMzMz0z97FK5H4XrUP8P1KFyPwtU/CtejcD0K1z9SuB6F61HYP5qZmZmZmdk/4XoUrkfh2j8pXI/C9SjcP3E9CtejcN0/uB6F61G43j8AAAAAAADgP6RwPQrXo+A/SOF6FK5H4T/sUbgehevhP4/C9Shcj+I/MzMzMzMz4z/Xo3A9CtfjP3sUrkfheuQ/H4XrUbge5T/D9Shcj8LlP2dmZmZmZuY/CtejcD0K5z+uR+F6FK7nP1K4HoXrUeg/9ihcj8L16D+amZmZmZnpPz4K16NwPeo/4XoUrkfh6j+F61G4HoXrPylcj8L1KOw/zczMzMzM7D9xPQrXo3DtPxWuR+F6FO4/uB6F61G47j9cj8L1KFzvPwAAAAAAAPA/",
          "dtype": "f8"
         },
         "xaxis": "x",
         "y": {
          "bdata": "U6bdUOZO6j9SXmF/GKvgPxDSxeLOmdw/750NG81Q2D9Ug/KK/WnVP5i84hyO59M/WeHtC5ih0j+u+iYoG+vRP1CQvt5KHtE/RDICi6zTzz/Fzbd6uxLOPz08ouZk8sw/SDExdnixyz+8NdF0E5fLP2AB0u+sjcs/wz6V27lmyz8Iyh+DwF3LP/ToRNkLWss/q3Y0ZEhZyz+39qk4A1TLPz2PjlPjTMs/KFAXyaNLyz+01nMycETLP2dTae1UQMs/WBm+SCQ+yz/o1rCoMTzLP4tA6w7zN8s/gx+Ftfwuyz8hQny+gS7LP2Ml1E51Lcs/A161Z2knyz+Jb3yv3CHLPzE9Vxa5Hcs/zEkVweQcyz8JCvUoCRjLPz2rAzrmEcs/4zPUVFYPyz89MxZlRg/LPwBnC7gXD8s/wJ87GCAOyz83JQF7ng3LPwepu+CIDcs/GywMeyYNyz8DqxyrrQzLPwWOXS2xCss/i0cg/mQKyz8p2AmsQwnLPxtPXOdyCMs/W/wMot0Hyz/NjelSrQXLP3jlPonyBMs/",
          "dtype": "f8"
         },
         "yaxis": "y"
        },
        {
         "fill": "toself",
         "fillcolor": "rgba(77,175,74,0.1)",
         "hoverinfo": "skip",
         "line": {
          "color": "rgba(255,255,255,0)"
         },
         "showlegend": false,
         "type": "scatter",
         "x": {
          "bdata": "AAAAAAAAAAB7FK5H4XqUP3sUrkfheqQ/uB6F61G4rj97FK5H4Xq0P5qZmZmZmbk/uB6F61G4vj/sUbgehevBP3sUrkfhesQ/CtejcD0Kxz+amZmZmZnJPylcj8L1KMw/uB6F61G4zj+kcD0K16PQP+xRuB6F69E/MzMzMzMz0z97FK5H4XrUP8P1KFyPwtU/CtejcD0K1z9SuB6F61HYP5qZmZmZmdk/4XoUrkfh2j8pXI/C9SjcP3E9CtejcN0/uB6F61G43j8AAAAAAADgP6RwPQrXo+A/SOF6FK5H4T/sUbgehevhP4/C9Shcj+I/MzMzMzMz4z/Xo3A9CtfjP3sUrkfheuQ/H4XrUbge5T/D9Shcj8LlP2dmZmZmZuY/CtejcD0K5z+uR+F6FK7nP1K4HoXrUeg/9ihcj8L16D+amZmZmZnpPz4K16NwPeo/4XoUrkfh6j+F61G4HoXrPylcj8L1KOw/zczMzMzM7D9xPQrXo3DtPxWuR+F6FO4/uB6F61G47j9cj8L1KFzvPwAAAAAAAPA/AAAAAAAA8D9cj8L1KFzvP7gehetRuO4/Fa5H4XoU7j9xPQrXo3DtP83MzMzMzOw/KVyPwvUo7D+F61G4HoXrP+F6FK5H4eo/PgrXo3A96j+amZmZmZnpP/YoXI/C9eg/UrgehetR6D+uR+F6FK7nPwrXo3A9Cuc/Z2ZmZmZm5j/D9Shcj8LlPx+F61G4HuU/exSuR+F65D/Xo3A9CtfjPzMzMzMzM+M/j8L1KFyP4j/sUbgehevhP0jhehSuR+E/pHA9Ctej4D8AAAAAAADgP7gehetRuN4/cT0K16Nw3T8pXI/C9SjcP+F6FK5H4do/mpmZmZmZ2T9SuB6F61HYPwrXo3A9Ctc/w/UoXI/C1T97FK5H4XrUPzMzMzMzM9M/7FG4HoXr0T+kcD0K16PQP7gehetRuM4/KVyPwvUozD+amZmZmZnJPwrXo3A9Csc/exSuR+F6xD/sUbgehevBP7gehetRuL4/mpmZmZmZuT97FK5H4Xq0P7gehetRuK4/exSuR+F6pD97FK5H4XqUPwAAAAAAAAAA",
          "dtype": "f8"
         },
         "xaxis": "x",
         "y": {
          "bdata": "NGl3E4Iq6T/shHnAz0LdP+GLAW0xR9g/GzG5cn1Y1D+ins3+LJvRP9R1leudbtA/eOAmFoYozj8f9VFZfRLNP3w+69c6Css/xpDn8gzcyD9WePOq5X3HP1/YR9AVbMY/luusocWJxT+8F/z692TFP02QhxSXWMU/7baJ7KogxT90tKY9pBPFP/Ob4khaD8U/SPFu45oOxT8GL/ci/QbFP6NKF7m9/MQ/js8ihOz6xD+Q2oR75u/EP5o5uweu6cQ/tB0agGPmxD8qI3Ibj+PEP6qXcnIf3cQ/Pkij8APQxD8K5DhGTc/EPxDN+la8zcQ/8r5CIGLExD/smwTV1LvEPxVak6+YtcQ/y8AW3E60xD9QvArc9azEP3zmelqno8Q/iS76gaufxD8/jE9/lJ/EP5JwvKlNn8Q/tDm2fuidxD9Kfd+BLZ3EPxwf11YOncQ/slTkhXWcxD/am0c4x5vEP/ciXkjpmMQ/ujdgpXmYxD+k1Ajew5bEP1gIhM2AlcQ//D6ZzKOUxD9DKwVqSZHEP3BBWb4zkMQ/wEQSqti80D8r+OadCL3QP91cwLuLvdA/70qagLK90D/XbQW94b3QP64rcCsovtA/iXwuiTy+0D8W3fgOyr7QP8IBGrjrvtA/eRlQtQG/0D+SZhG6B7/QP+aC4Ngrv9A/ty4t43C/0D8ebW4lfL/QP54c15OAv9A//zfGjBLA0D/hq+86jsHQP2bpCVO9wtA/JpCNvuzC0D+TIfpE8sPQP4r+k1c4xdA/275WI5fG0D8c0F8b28bQP2R7M736xtA/tvSxVWPJ0D9TxfcaasrQP34KsYjyytA/mraL6X3L0D9sabH0fMzQP2HoBYctztA/6+kCd4TO0D80Xy6nhNDQPwf+fPL60dA/+prTtF7S0D/Ob0xk7tPQP0xjUGVk1tA/OTmOZWHh0D/eKVN3l+TQP327WqWV7NA/DVB+/lm80T+aET6lyFPSP+FpjhGmZdM/YoGHUXi31D/N+qSj90zVP3ZSyAztLtY/XAMwTn5g1z8GaBcXzjjZP8MKYsMcSdw/IAxFLDZ24D8u+oUeybTiP3LjQ45Kc+s/",
          "dtype": "f8"
         },
         "yaxis": "y"
        },
        {
         "error_x": {
          "array": {
           "bdata": "1EcH8wvEpz/HE1cn9Jt7P5IUjJi7tn4/",
           "dtype": "f8"
          },
          "type": "data"
         },
         "marker": {
          "color": "skyblue",
          "line": {
           "color": "black",
           "width": 1
          }
         },
         "orientation": "h",
         "showlegend": false,
         "type": "bar",
         "x": {
          "bdata": "sWc9PVdb0D9HeoyBenrKP/mT6vBBjcc/",
          "dtype": "f8"
         },
         "xaxis": "x2",
         "y": [
          "true retrain",
          "true no",
          "False"
         ],
         "yaxis": "y2"
        }
       ],
       "layout": {
        "font": {
         "size": 16
        },
        "height": 400,
        "legend": {
         "font": {
          "size": 16
         },
         "title": {
          "text": "Optimizers"
         }
        },
        "margin": {
         "b": 50,
         "l": 50,
         "r": 50,
         "t": 60
        },
        "template": {
         "data": {
          "bar": [
           {
            "error_x": {
             "color": "#2a3f5f"
            },
            "error_y": {
             "color": "#2a3f5f"
            },
            "marker": {
             "line": {
              "color": "white",
              "width": 0.5
             },
             "pattern": {
              "fillmode": "overlay",
              "size": 10,
              "solidity": 0.2
             }
            },
            "type": "bar"
           }
          ],
          "barpolar": [
           {
            "marker": {
             "line": {
              "color": "white",
              "width": 0.5
             },
             "pattern": {
              "fillmode": "overlay",
              "size": 10,
              "solidity": 0.2
             }
            },
            "type": "barpolar"
           }
          ],
          "carpet": [
           {
            "aaxis": {
             "endlinecolor": "#2a3f5f",
             "gridcolor": "#C8D4E3",
             "linecolor": "#C8D4E3",
             "minorgridcolor": "#C8D4E3",
             "startlinecolor": "#2a3f5f"
            },
            "baxis": {
             "endlinecolor": "#2a3f5f",
             "gridcolor": "#C8D4E3",
             "linecolor": "#C8D4E3",
             "minorgridcolor": "#C8D4E3",
             "startlinecolor": "#2a3f5f"
            },
            "type": "carpet"
           }
          ],
          "choropleth": [
           {
            "colorbar": {
             "outlinewidth": 0,
             "ticks": ""
            },
            "type": "choropleth"
           }
          ],
          "contour": [
           {
            "colorbar": {
             "outlinewidth": 0,
             "ticks": ""
            },
            "colorscale": [
             [
              0,
              "#0d0887"
             ],
             [
              0.1111111111111111,
              "#46039f"
             ],
             [
              0.2222222222222222,
              "#7201a8"
             ],
             [
              0.3333333333333333,
              "#9c179e"
             ],
             [
              0.4444444444444444,
              "#bd3786"
             ],
             [
              0.5555555555555556,
              "#d8576b"
             ],
             [
              0.6666666666666666,
              "#ed7953"
             ],
             [
              0.7777777777777778,
              "#fb9f3a"
             ],
             [
              0.8888888888888888,
              "#fdca26"
             ],
             [
              1,
              "#f0f921"
             ]
            ],
            "type": "contour"
           }
          ],
          "contourcarpet": [
           {
            "colorbar": {
             "outlinewidth": 0,
             "ticks": ""
            },
            "type": "contourcarpet"
           }
          ],
          "heatmap": [
           {
            "colorbar": {
             "outlinewidth": 0,
             "ticks": ""
            },
            "colorscale": [
             [
              0,
              "#0d0887"
             ],
             [
              0.1111111111111111,
              "#46039f"
             ],
             [
              0.2222222222222222,
              "#7201a8"
             ],
             [
              0.3333333333333333,
              "#9c179e"
             ],
             [
              0.4444444444444444,
              "#bd3786"
             ],
             [
              0.5555555555555556,
              "#d8576b"
             ],
             [
              0.6666666666666666,
              "#ed7953"
             ],
             [
              0.7777777777777778,
              "#fb9f3a"
             ],
             [
              0.8888888888888888,
              "#fdca26"
             ],
             [
              1,
              "#f0f921"
             ]
            ],
            "type": "heatmap"
           }
          ],
          "histogram": [
           {
            "marker": {
             "pattern": {
              "fillmode": "overlay",
              "size": 10,
              "solidity": 0.2
             }
            },
            "type": "histogram"
           }
          ],
          "histogram2d": [
           {
            "colorbar": {
             "outlinewidth": 0,
             "ticks": ""
            },
            "colorscale": [
             [
              0,
              "#0d0887"
             ],
             [
              0.1111111111111111,
              "#46039f"
             ],
             [
              0.2222222222222222,
              "#7201a8"
             ],
             [
              0.3333333333333333,
              "#9c179e"
             ],
             [
              0.4444444444444444,
              "#bd3786"
             ],
             [
              0.5555555555555556,
              "#d8576b"
             ],
             [
              0.6666666666666666,
              "#ed7953"
             ],
             [
              0.7777777777777778,
              "#fb9f3a"
             ],
             [
              0.8888888888888888,
              "#fdca26"
             ],
             [
              1,
              "#f0f921"
             ]
            ],
            "type": "histogram2d"
           }
          ],
          "histogram2dcontour": [
           {
            "colorbar": {
             "outlinewidth": 0,
             "ticks": ""
            },
            "colorscale": [
             [
              0,
              "#0d0887"
             ],
             [
              0.1111111111111111,
              "#46039f"
             ],
             [
              0.2222222222222222,
              "#7201a8"
             ],
             [
              0.3333333333333333,
              "#9c179e"
             ],
             [
              0.4444444444444444,
              "#bd3786"
             ],
             [
              0.5555555555555556,
              "#d8576b"
             ],
             [
              0.6666666666666666,
              "#ed7953"
             ],
             [
              0.7777777777777778,
              "#fb9f3a"
             ],
             [
              0.8888888888888888,
              "#fdca26"
             ],
             [
              1,
              "#f0f921"
             ]
            ],
            "type": "histogram2dcontour"
           }
          ],
          "mesh3d": [
           {
            "colorbar": {
             "outlinewidth": 0,
             "ticks": ""
            },
            "type": "mesh3d"
           }
          ],
          "parcoords": [
           {
            "line": {
             "colorbar": {
              "outlinewidth": 0,
              "ticks": ""
             }
            },
            "type": "parcoords"
           }
          ],
          "pie": [
           {
            "automargin": true,
            "type": "pie"
           }
          ],
          "scatter": [
           {
            "fillpattern": {
             "fillmode": "overlay",
             "size": 10,
             "solidity": 0.2
            },
            "type": "scatter"
           }
          ],
          "scatter3d": [
           {
            "line": {
             "colorbar": {
              "outlinewidth": 0,
              "ticks": ""
             }
            },
            "marker": {
             "colorbar": {
              "outlinewidth": 0,
              "ticks": ""
             }
            },
            "type": "scatter3d"
           }
          ],
          "scattercarpet": [
           {
            "marker": {
             "colorbar": {
              "outlinewidth": 0,
              "ticks": ""
             }
            },
            "type": "scattercarpet"
           }
          ],
          "scattergeo": [
           {
            "marker": {
             "colorbar": {
              "outlinewidth": 0,
              "ticks": ""
             }
            },
            "type": "scattergeo"
           }
          ],
          "scattergl": [
           {
            "marker": {
             "colorbar": {
              "outlinewidth": 0,
              "ticks": ""
             }
            },
            "type": "scattergl"
           }
          ],
          "scattermap": [
           {
            "marker": {
             "colorbar": {
              "outlinewidth": 0,
              "ticks": ""
             }
            },
            "type": "scattermap"
           }
          ],
          "scattermapbox": [
           {
            "marker": {
             "colorbar": {
              "outlinewidth": 0,
              "ticks": ""
             }
            },
            "type": "scattermapbox"
           }
          ],
          "scatterpolar": [
           {
            "marker": {
             "colorbar": {
              "outlinewidth": 0,
              "ticks": ""
             }
            },
            "type": "scatterpolar"
           }
          ],
          "scatterpolargl": [
           {
            "marker": {
             "colorbar": {
              "outlinewidth": 0,
              "ticks": ""
             }
            },
            "type": "scatterpolargl"
           }
          ],
          "scatterternary": [
           {
            "marker": {
             "colorbar": {
              "outlinewidth": 0,
              "ticks": ""
             }
            },
            "type": "scatterternary"
           }
          ],
          "surface": [
           {
            "colorbar": {
             "outlinewidth": 0,
             "ticks": ""
            },
            "colorscale": [
             [
              0,
              "#0d0887"
             ],
             [
              0.1111111111111111,
              "#46039f"
             ],
             [
              0.2222222222222222,
              "#7201a8"
             ],
             [
              0.3333333333333333,
              "#9c179e"
             ],
             [
              0.4444444444444444,
              "#bd3786"
             ],
             [
              0.5555555555555556,
              "#d8576b"
             ],
             [
              0.6666666666666666,
              "#ed7953"
             ],
             [
              0.7777777777777778,
              "#fb9f3a"
             ],
             [
              0.8888888888888888,
              "#fdca26"
             ],
             [
              1,
              "#f0f921"
             ]
            ],
            "type": "surface"
           }
          ],
          "table": [
           {
            "cells": {
             "fill": {
              "color": "#EBF0F8"
             },
             "line": {
              "color": "white"
             }
            },
            "header": {
             "fill": {
              "color": "#C8D4E3"
             },
             "line": {
              "color": "white"
             }
            },
            "type": "table"
           }
          ]
         },
         "layout": {
          "annotationdefaults": {
           "arrowcolor": "#2a3f5f",
           "arrowhead": 0,
           "arrowwidth": 1
          },
          "autotypenumbers": "strict",
          "coloraxis": {
           "colorbar": {
            "outlinewidth": 0,
            "ticks": ""
           }
          },
          "colorscale": {
           "diverging": [
            [
             0,
             "#8e0152"
            ],
            [
             0.1,
             "#c51b7d"
            ],
            [
             0.2,
             "#de77ae"
            ],
            [
             0.3,
             "#f1b6da"
            ],
            [
             0.4,
             "#fde0ef"
            ],
            [
             0.5,
             "#f7f7f7"
            ],
            [
             0.6,
             "#e6f5d0"
            ],
            [
             0.7,
             "#b8e186"
            ],
            [
             0.8,
             "#7fbc41"
            ],
            [
             0.9,
             "#4d9221"
            ],
            [
             1,
             "#276419"
            ]
           ],
           "sequential": [
            [
             0,
             "#0d0887"
            ],
            [
             0.1111111111111111,
             "#46039f"
            ],
            [
             0.2222222222222222,
             "#7201a8"
            ],
            [
             0.3333333333333333,
             "#9c179e"
            ],
            [
             0.4444444444444444,
             "#bd3786"
            ],
            [
             0.5555555555555556,
             "#d8576b"
            ],
            [
             0.6666666666666666,
             "#ed7953"
            ],
            [
             0.7777777777777778,
             "#fb9f3a"
            ],
            [
             0.8888888888888888,
             "#fdca26"
            ],
            [
             1,
             "#f0f921"
            ]
           ],
           "sequentialminus": [
            [
             0,
             "#0d0887"
            ],
            [
             0.1111111111111111,
             "#46039f"
            ],
            [
             0.2222222222222222,
             "#7201a8"
            ],
            [
             0.3333333333333333,
             "#9c179e"
            ],
            [
             0.4444444444444444,
             "#bd3786"
            ],
            [
             0.5555555555555556,
             "#d8576b"
            ],
            [
             0.6666666666666666,
             "#ed7953"
            ],
            [
             0.7777777777777778,
             "#fb9f3a"
            ],
            [
             0.8888888888888888,
             "#fdca26"
            ],
            [
             1,
             "#f0f921"
            ]
           ]
          },
          "colorway": [
           "#636efa",
           "#EF553B",
           "#00cc96",
           "#ab63fa",
           "#FFA15A",
           "#19d3f3",
           "#FF6692",
           "#B6E880",
           "#FF97FF",
           "#FECB52"
          ],
          "font": {
           "color": "#2a3f5f"
          },
          "geo": {
           "bgcolor": "white",
           "lakecolor": "white",
           "landcolor": "white",
           "showlakes": true,
           "showland": true,
           "subunitcolor": "#C8D4E3"
          },
          "hoverlabel": {
           "align": "left"
          },
          "hovermode": "closest",
          "mapbox": {
           "style": "light"
          },
          "paper_bgcolor": "white",
          "plot_bgcolor": "white",
          "polar": {
           "angularaxis": {
            "gridcolor": "#EBF0F8",
            "linecolor": "#EBF0F8",
            "ticks": ""
           },
           "bgcolor": "white",
           "radialaxis": {
            "gridcolor": "#EBF0F8",
            "linecolor": "#EBF0F8",
            "ticks": ""
           }
          },
          "scene": {
           "xaxis": {
            "backgroundcolor": "white",
            "gridcolor": "#DFE8F3",
            "gridwidth": 2,
            "linecolor": "#EBF0F8",
            "showbackground": true,
            "ticks": "",
            "zerolinecolor": "#EBF0F8"
           },
           "yaxis": {
            "backgroundcolor": "white",
            "gridcolor": "#DFE8F3",
            "gridwidth": 2,
            "linecolor": "#EBF0F8",
            "showbackground": true,
            "ticks": "",
            "zerolinecolor": "#EBF0F8"
           },
           "zaxis": {
            "backgroundcolor": "white",
            "gridcolor": "#DFE8F3",
            "gridwidth": 2,
            "linecolor": "#EBF0F8",
            "showbackground": true,
            "ticks": "",
            "zerolinecolor": "#EBF0F8"
           }
          },
          "shapedefaults": {
           "line": {
            "color": "#2a3f5f"
           }
          },
          "ternary": {
           "aaxis": {
            "gridcolor": "#DFE8F3",
            "linecolor": "#A2B1C6",
            "ticks": ""
           },
           "baxis": {
            "gridcolor": "#DFE8F3",
            "linecolor": "#A2B1C6",
            "ticks": ""
           },
           "bgcolor": "white",
           "caxis": {
            "gridcolor": "#DFE8F3",
            "linecolor": "#A2B1C6",
            "ticks": ""
           }
          },
          "title": {
           "x": 0.05
          },
          "xaxis": {
           "automargin": true,
           "gridcolor": "#EBF0F8",
           "linecolor": "#EBF0F8",
           "ticks": "",
           "title": {
            "standoff": 15
           },
           "zerolinecolor": "#EBF0F8",
           "zerolinewidth": 2
          },
          "yaxis": {
           "automargin": true,
           "gridcolor": "#EBF0F8",
           "linecolor": "#EBF0F8",
           "ticks": "",
           "title": {
            "standoff": 15
           },
           "zerolinecolor": "#EBF0F8",
           "zerolinewidth": 2
          }
         }
        },
        "width": 1800,
        "xaxis": {
         "anchor": "y",
         "domain": [
          0,
          0.51
         ],
         "title": {
          "text": "Normalized Trials"
         }
        },
        "xaxis2": {
         "anchor": "y2",
         "domain": [
          0.66,
          1
         ],
         "title": {
          "text": "AUC"
         }
        },
        "yaxis": {
         "anchor": "x",
         "domain": [
          0,
          1
         ],
         "title": {
          "text": "Normalized Inc-Performance"
         }
        },
        "yaxis2": {
         "anchor": "x2",
         "domain": [
          0,
          1
         ],
         "title": {
          "text": "Optimizer"
         }
        }
       }
      }
     },
     "metadata": {},
     "output_type": "display_data"
    }
   ],
   "source": [
    "plot_one_thing('adjust_pc')"
   ]
  },
  {
   "cell_type": "code",
   "execution_count": 138,
   "id": "73609c35",
   "metadata": {},
   "outputs": [
    {
     "name": "stderr",
     "output_type": "stream",
     "text": [
      "/home/daphne/Code/hpi_parego/CARP-S/carps/analysis/run_autorank.py:322: FutureWarning:\n",
      "\n",
      "Series.__getitem__ treating keys as positions is deprecated. In a future version, integer keys will always be treated as labels (consistent with DataFrame behavior). To access a value by position, use `ser.iloc[pos]`\n",
      "\n",
      "/home/daphne/Code/hpi_parego/CARP-S/carps/analysis/run_autorank.py:421: UserWarning:\n",
      "\n",
      "FigureCanvasAgg is non-interactive, and thus cannot be shown\n",
      "\n"
     ]
    },
    {
     "data": {
      "text/html": [
       "<pre style=\"white-space:pre;overflow-x:auto;line-height:normal;font-family:Menlo,'DejaVu Sans Mono',consolas,'Courier New',monospace\"><span style=\"color: #7fbfbf; text-decoration-color: #7fbfbf\">[16:31:56] </span><span style=\"color: #000080; text-decoration-color: #000080\">INFO    </span> Create dataframe for neat plotting by aligning x-axis <span style=\"color: #800080; text-decoration-color: #800080\">/</span> interpolating        <a href=\"file:///home/daphne/Code/hpi_parego/CARP-S/carps/analysis/gather_data.py\" target=\"_blank\"><span style=\"color: #7f7f7f; text-decoration-color: #7f7f7f\">gather_data.py</span></a><span style=\"color: #7f7f7f; text-decoration-color: #7f7f7f\">:</span><a href=\"file:///home/daphne/Code/hpi_parego/CARP-S/carps/analysis/gather_data.py#735\" target=\"_blank\"><span style=\"color: #7f7f7f; text-decoration-color: #7f7f7f\">735</span></a>\n",
       "<span style=\"color: #7fbfbf; text-decoration-color: #7fbfbf\">           </span>         budget.                                                                      <span style=\"color: #7f7f7f; text-decoration-color: #7f7f7f\">                  </span>\n",
       "</pre>\n"
      ],
      "text/plain": [
       "\u001b[2;36m[16:31:56]\u001b[0m\u001b[2;36m \u001b[0m\u001b[34mINFO    \u001b[0m Create dataframe for neat plotting by aligning x-axis \u001b[35m/\u001b[0m interpolating        \u001b]8;id=157906;file:///home/daphne/Code/hpi_parego/CARP-S/carps/analysis/gather_data.py\u001b\\\u001b[2mgather_data.py\u001b[0m\u001b]8;;\u001b\\\u001b[2m:\u001b[0m\u001b]8;id=942714;file:///home/daphne/Code/hpi_parego/CARP-S/carps/analysis/gather_data.py#735\u001b\\\u001b[2m735\u001b[0m\u001b]8;;\u001b\\\n",
       "\u001b[2;36m           \u001b[0m         budget.                                                                      \u001b[2m                  \u001b[0m\n"
      ]
     },
     "metadata": {},
     "output_type": "display_data"
    },
    {
     "name": "stderr",
     "output_type": "stream",
     "text": [
      "/home/daphne/Code/hpi_parego/CARP-S/carps/analysis/generate_report.py:108: UserWarning:\n",
      "\n",
      "Result is not significant and results of the plot may be misleading!\n",
      "\n",
      "/home/daphne/Code/hpi_parego/CARP-S/carps/analysis/generate_report.py:108: UserWarning:\n",
      "\n",
      "Result is not significant and results of the plot may be misleading!\n",
      "\n",
      "/home/daphne/Code/hpi_parego/CARP-S/carps/analysis/generate_report.py:108: UserWarning:\n",
      "\n",
      "Result is not significant and results of the plot may be misleading!\n",
      "\n",
      "/home/daphne/Code/hpi_parego/CARP-S/carps/analysis/generate_report.py:108: UserWarning:\n",
      "\n",
      "Result is not significant and results of the plot may be misleading!\n",
      "\n",
      "/home/daphne/Code/hpi_parego/CARP-S/carps/analysis/generate_report.py:108: UserWarning:\n",
      "\n",
      "Result is not significant and results of the plot may be misleading!\n",
      "\n",
      "/home/daphne/Code/hpi_parego/CARP-S/carps/analysis/generate_report.py:108: UserWarning:\n",
      "\n",
      "Result is not significant and results of the plot may be misleading!\n",
      "\n",
      "/home/daphne/Code/hpi_parego/CARP-S/carps/analysis/generate_report.py:108: UserWarning:\n",
      "\n",
      "Result is not significant and results of the plot may be misleading!\n",
      "\n",
      "/home/daphne/Code/hpi_parego/CARP-S/carps/analysis/generate_report.py:108: UserWarning:\n",
      "\n",
      "Result is not significant and results of the plot may be misleading!\n",
      "\n",
      "/home/daphne/Code/hpi_parego/CARP-S/carps/analysis/generate_report.py:108: UserWarning:\n",
      "\n",
      "Result is not significant and results of the plot may be misleading!\n",
      "\n",
      "/home/daphne/Code/hpi_parego/CARP-S/carps/analysis/generate_report.py:108: UserWarning:\n",
      "\n",
      "Result is not significant and results of the plot may be misleading!\n",
      "\n",
      "/home/daphne/Code/hpi_parego/CARP-S/carps/analysis/generate_report.py:108: UserWarning:\n",
      "\n",
      "Result is not significant and results of the plot may be misleading!\n",
      "\n"
     ]
    },
    {
     "name": "stdout",
     "output_type": "stream",
     "text": [
      "['False' 'default' 'incumbent' 'random']\n"
     ]
    },
    {
     "name": "stderr",
     "output_type": "stream",
     "text": [
      "/tmp/ipykernel_27098/3449863810.py:27: DeprecationWarning:\n",
      "\n",
      "DataFrameGroupBy.apply operated on the grouping columns. This behavior is deprecated, and in a future version of pandas the grouping columns will be excluded from the operation. Either pass `include_groups=False` to exclude the groupings or explicitly select the grouping columns after groupby to silence this warning.\n",
      "\n"
     ]
    },
    {
     "data": {
      "application/vnd.plotly.v1+json": {
       "config": {
        "plotlyServerURL": "https://plot.ly"
       },
       "data": [
        {
         "line": {
          "color": "rgb(228,26,28)",
          "width": 2
         },
         "mode": "lines",
         "name": "False",
         "type": "scatter",
         "x": {
          "bdata": "AAAAAAAAAAB7FK5H4XqUP3sUrkfheqQ/uB6F61G4rj97FK5H4Xq0P5qZmZmZmbk/uB6F61G4vj/sUbgehevBP3sUrkfhesQ/CtejcD0Kxz+amZmZmZnJPylcj8L1KMw/uB6F61G4zj+kcD0K16PQP+xRuB6F69E/MzMzMzMz0z97FK5H4XrUP8P1KFyPwtU/CtejcD0K1z9SuB6F61HYP5qZmZmZmdk/4XoUrkfh2j8pXI/C9SjcP3E9CtejcN0/uB6F61G43j8AAAAAAADgP6RwPQrXo+A/SOF6FK5H4T/sUbgehevhP4/C9Shcj+I/MzMzMzMz4z/Xo3A9CtfjP3sUrkfheuQ/H4XrUbge5T/D9Shcj8LlP2dmZmZmZuY/CtejcD0K5z+uR+F6FK7nP1K4HoXrUeg/9ihcj8L16D+amZmZmZnpPz4K16NwPeo/4XoUrkfh6j+F61G4HoXrPylcj8L1KOw/zczMzMzM7D9xPQrXo3DtPxWuR+F6FO4/uB6F61G47j9cj8L1KFzvPwAAAAAAAPA/",
          "dtype": "f8"
         },
         "xaxis": "x",
         "y": {
          "bdata": "eO+s7EbQ5z/8cOerjlbePxDhthZKTNo/Z72x454n1z/XE8TcYCfVP2FvjBAs5NM/m50cYIIF0z87NpYOfkHSP55scxbET9E/MAdwo4Nu0D+LeX64r5bPP4g/tYy97c4/S6KPqHolzj+3s6qru7jMP9OsEenVxcs/b7+cZWETyz9UBpMrlU7KPyxxaLXjnMk/5F7C3C63yD8f1IpkhffHP9tlPdjKTcc/t+/YZfKSxj8jdPTrecrFP5T9wySiKcU/LPYfdnyZxD/RyfjJ8w/EP2uZpYN/msM//xOvDaYYwz+8zENq/qTCP+6FUfJUIsI/iW56H8m6wT/f/V3B1mHBP0VlDT5r/MA/87HC6KCmwD/Tl/lXv1fAP/gocfxR2L8/C6aDwa42vz9106VVa56+P3gugrtWD74/HW3wD6yOvT+fBmI4n+e8P9x9On/eYbw/iw6QyzTiuz9MMuCGd067P5TLSR7/w7o/E7aUhKxFuj9JDr6pm7a5P/CPuPXuOLk/A4gbqIutuD/DlAqWei24P4CQ8BFuybc/",
          "dtype": "f8"
         },
         "yaxis": "y"
        },
        {
         "fill": "toself",
         "fillcolor": "rgba(228,26,28,0.1)",
         "hoverinfo": "skip",
         "line": {
          "color": "rgba(255,255,255,0)"
         },
         "showlegend": false,
         "type": "scatter",
         "x": {
          "bdata": "AAAAAAAAAAB7FK5H4XqUP3sUrkfheqQ/uB6F61G4rj97FK5H4Xq0P5qZmZmZmbk/uB6F61G4vj/sUbgehevBP3sUrkfhesQ/CtejcD0Kxz+amZmZmZnJPylcj8L1KMw/uB6F61G4zj+kcD0K16PQP+xRuB6F69E/MzMzMzMz0z97FK5H4XrUP8P1KFyPwtU/CtejcD0K1z9SuB6F61HYP5qZmZmZmdk/4XoUrkfh2j8pXI/C9SjcP3E9CtejcN0/uB6F61G43j8AAAAAAADgP6RwPQrXo+A/SOF6FK5H4T/sUbgehevhP4/C9Shcj+I/MzMzMzMz4z/Xo3A9CtfjP3sUrkfheuQ/H4XrUbge5T/D9Shcj8LlP2dmZmZmZuY/CtejcD0K5z+uR+F6FK7nP1K4HoXrUeg/9ihcj8L16D+amZmZmZnpPz4K16NwPeo/4XoUrkfh6j+F61G4HoXrPylcj8L1KOw/zczMzMzM7D9xPQrXo3DtPxWuR+F6FO4/uB6F61G47j9cj8L1KFzvPwAAAAAAAPA/AAAAAAAA8D9cj8L1KFzvP7gehetRuO4/Fa5H4XoU7j9xPQrXo3DtP83MzMzMzOw/KVyPwvUo7D+F61G4HoXrP+F6FK5H4eo/PgrXo3A96j+amZmZmZnpP/YoXI/C9eg/UrgehetR6D+uR+F6FK7nPwrXo3A9Cuc/Z2ZmZmZm5j/D9Shcj8LlPx+F61G4HuU/exSuR+F65D/Xo3A9CtfjPzMzMzMzM+M/j8L1KFyP4j/sUbgehevhP0jhehSuR+E/pHA9Ctej4D8AAAAAAADgP7gehetRuN4/cT0K16Nw3T8pXI/C9SjcP+F6FK5H4do/mpmZmZmZ2T9SuB6F61HYPwrXo3A9Ctc/w/UoXI/C1T97FK5H4XrUPzMzMzMzM9M/7FG4HoXr0T+kcD0K16PQP7gehetRuM4/KVyPwvUozD+amZmZmZnJPwrXo3A9Csc/exSuR+F6xD/sUbgehevBP7gehetRuL4/mpmZmZmZuT97FK5H4Xq0P7gehetRuK4/exSuR+F6pD97FK5H4XqUPwAAAAAAAAAA",
          "dtype": "f8"
         },
         "xaxis": "x",
         "y": {
          "bdata": "bxvebaya5j+qJV99LI3dP1SVmmiZn9k/4FnCkbPN1j9cZ/g2NKjUP0E1k2YNntM/Z9+gIjSA0j++fHoEz97RP2W65b/vI9E/pCDF7+sz0D+vA9frcjvPP0xAWxy3h84/TdLeJAWjzT96NTGg+PvLP6EYNhg85so/Ii/mL3s5yj97J2Q16p7JPxzQvJbSCsk/mWuodEBHyD/JlgegzZ/HP82O0G1bCMc/mSgXQRBjxj8lC/7lRYXFPzMspCpi58Q/CJ2QSKBQxD9VC3iTd8LDP2dstbfPSsM//nFPZJDIwj+wjd695FXCPwxQDe5W2ME/Y5HhW3BswT+eigJZ0wrBP0/7GKvFpsA/NtiZvGRVwD/EKKoRXf6/P6yFEh6kFr8/ST4ZNKNdvj/H7eURXM+9P+XuZC0dPr0/zOMgB1S6vD9Cb4YUsh28P7LxfnmYnbs/GY6YA0kXuz+yh9b0kIS6P98rgraj/7k/8d7qFCeIuT9eVokp2Pi4P+/VAf54d7g/07vccirktz8u7GdmmWC3P/rMjHGSAbc/BlRUskmRuD9YPa3FW/q4PzNUWt3sdrk/8Ulv7WT6uT80xvIpX3S6PzWNPvQxA7s/SWsRhlqIuz/m3OkYXhi8P/2Oh5Mgrbw/Bgr2hCQmvT/8nT1cjLG9P272vxgEY74/C26fSZDgvj8juWWZem2/P+cGdyfdB8A/IuZn7f9MwD9EGx4nULDAP7CL6xTd98A/O88B0RBSwT8gcbkp2rjBP69LE+MhCcI/0LuV9lJswj/IC6kWGPTCPwC2Dre7aMM/b8aVTy/qwz9NiHkAcF3EP1BPr6NY4sQ/9c7jHuJrxT8h3erxrQ/GP9W2morUwsY/6TyqQjqTxz91EQ4pPU/IPy9S3EQdJ8k/PBIU1PQuyj8t5cEhQP7KP7xPU5tH7cs/BUHtuW+lzD/0MSS3fnXNP0lyQCzwp84/xD4P/cNTzz9n7yWF7PHPP7ztGlcbqdA/1x4BbZh70T+477EYLaTSP89bmJ3QitM/gamFukoq1D9SwI+CjabVP+4goTWKgdc/zCzTxPr42j9OvG/a8B/fP4HDe2vhBek/",
          "dtype": "f8"
         },
         "yaxis": "y"
        },
        {
         "line": {
          "color": "rgb(55,126,184)",
          "width": 2
         },
         "mode": "lines",
         "name": "default",
         "type": "scatter",
         "x": {
          "bdata": "AAAAAAAAAAB7FK5H4XqUP3sUrkfheqQ/uB6F61G4rj97FK5H4Xq0P5qZmZmZmbk/uB6F61G4vj/sUbgehevBP3sUrkfhesQ/CtejcD0Kxz+amZmZmZnJPylcj8L1KMw/uB6F61G4zj+kcD0K16PQP+xRuB6F69E/MzMzMzMz0z97FK5H4XrUP8P1KFyPwtU/CtejcD0K1z9SuB6F61HYP5qZmZmZmdk/4XoUrkfh2j8pXI/C9SjcP3E9CtejcN0/uB6F61G43j8AAAAAAADgP6RwPQrXo+A/SOF6FK5H4T/sUbgehevhP4/C9Shcj+I/MzMzMzMz4z/Xo3A9CtfjP3sUrkfheuQ/H4XrUbge5T/D9Shcj8LlP2dmZmZmZuY/CtejcD0K5z+uR+F6FK7nP1K4HoXrUeg/9ihcj8L16D+amZmZmZnpPz4K16NwPeo/4XoUrkfh6j+F61G4HoXrPylcj8L1KOw/zczMzMzM7D9xPQrXo3DtPxWuR+F6FO4/uB6F61G47j9cj8L1KFzvPwAAAAAAAPA/",
          "dtype": "f8"
         },
         "xaxis": "x",
         "y": {
          "bdata": "q1EW9Fms6D+HbnJg4iDfP3j54e0+vdo/w6nfTuUg1z8ryqvnPsfUP+GY1zFtaNM/Hz1NFO5f0j8FlGTZUKPRP5AkxaT9tNA/PGGmKMFvzz9YtF3wO/nNPxTxNDRcH80/FRbrW90rzD+5ZuB120fLP+0qenJKvco/xVP04UEgyj91X5UHUp/JPwA5jgvpNMk/x6PWV23QyD9DGdbELW3IP0Ngn2EOBsg/4dVoHnGcxz/QP5XGnT7HPzgTRim16sY/zS/sCGOUxj+IcV/JiEnGP+Olyg8jB8Y/lMjhT/PAxT8gslUDen7FPy8gm32hPsU/DTI25bf9xD+9F0VaJsXEP+Wly7JOisQ/A4BaFVtaxD+nTJhknyzEPz8NDH3P78M/owZK+47Cwz8mpV5jBJjDP4twKtEGbsM/edbb6xVIwz/093GrpxrDP+KNNdSB9cI/UdWCqhTSwj8SnMWiF6fCP4dG02nWgMI/Mza/ZgFbwj/IJzRl8jPCP1sMneKSEsI/+VXZt5LpwT+Q2anFNsLBP4HqvzA2pcE/",
          "dtype": "f8"
         },
         "yaxis": "y"
        },
        {
         "fill": "toself",
         "fillcolor": "rgba(55,126,184,0.1)",
         "hoverinfo": "skip",
         "line": {
          "color": "rgba(255,255,255,0)"
         },
         "showlegend": false,
         "type": "scatter",
         "x": {
          "bdata": "AAAAAAAAAAB7FK5H4XqUP3sUrkfheqQ/uB6F61G4rj97FK5H4Xq0P5qZmZmZmbk/uB6F61G4vj/sUbgehevBP3sUrkfhesQ/CtejcD0Kxz+amZmZmZnJPylcj8L1KMw/uB6F61G4zj+kcD0K16PQP+xRuB6F69E/MzMzMzMz0z97FK5H4XrUP8P1KFyPwtU/CtejcD0K1z9SuB6F61HYP5qZmZmZmdk/4XoUrkfh2j8pXI/C9SjcP3E9CtejcN0/uB6F61G43j8AAAAAAADgP6RwPQrXo+A/SOF6FK5H4T/sUbgehevhP4/C9Shcj+I/MzMzMzMz4z/Xo3A9CtfjP3sUrkfheuQ/H4XrUbge5T/D9Shcj8LlP2dmZmZmZuY/CtejcD0K5z+uR+F6FK7nP1K4HoXrUeg/9ihcj8L16D+amZmZmZnpPz4K16NwPeo/4XoUrkfh6j+F61G4HoXrPylcj8L1KOw/zczMzMzM7D9xPQrXo3DtPxWuR+F6FO4/uB6F61G47j9cj8L1KFzvPwAAAAAAAPA/AAAAAAAA8D9cj8L1KFzvP7gehetRuO4/Fa5H4XoU7j9xPQrXo3DtP83MzMzMzOw/KVyPwvUo7D+F61G4HoXrP+F6FK5H4eo/PgrXo3A96j+amZmZmZnpP/YoXI/C9eg/UrgehetR6D+uR+F6FK7nPwrXo3A9Cuc/Z2ZmZmZm5j/D9Shcj8LlPx+F61G4HuU/exSuR+F65D/Xo3A9CtfjPzMzMzMzM+M/j8L1KFyP4j/sUbgehevhP0jhehSuR+E/pHA9Ctej4D8AAAAAAADgP7gehetRuN4/cT0K16Nw3T8pXI/C9SjcP+F6FK5H4do/mpmZmZmZ2T9SuB6F61HYPwrXo3A9Ctc/w/UoXI/C1T97FK5H4XrUPzMzMzMzM9M/7FG4HoXr0T+kcD0K16PQP7gehetRuM4/KVyPwvUozD+amZmZmZnJPwrXo3A9Csc/exSuR+F6xD/sUbgehevBP7gehetRuL4/mpmZmZmZuT97FK5H4Xq0P7gehetRuK4/exSuR+F6pD97FK5H4XqUPwAAAAAAAAAA",
          "dtype": "f8"
         },
         "xaxis": "x",
         "y": {
          "bdata": "u08Hsk3D5z/tkF3GrnTdP1zqAqi29Ng/T9TfweOV1T8i7AQuHSLTPy1j4EILDdI/395Z4/PW0D/fpa1xB0nQPzK1ffZ+xc4/2mwr5yCpzD/crG5pZmPLPzHGfnnnf8o/2m4cjhqmyT/8+YPn59vIP0994P7KdMg/JPzWP6Tqxz+S/maXCXbHP0taWBbXJsc/ZF+DB/XOxj96FiYQE33GP8RLEXe/KMY/kGLNYVPXxT+7oxPgV4nFP55d+49gO8U/WEVMcD7oxD8HBwIZCZ/EPzVsP0HyX8Q/d6bzBLscxD+4j7/clN3DP7iodsMnqcM/Zj649Bptwz+8+DMQaDjDPyOHr5TqAMM/5D1rA1fYwj+yYqOJ4q3CP4OpgQY1c8I/P8mHAPNHwj+0WwO25yTCP7rZsXIh/ME/dU/FRrzWwT82SdiKl67BP//vUrd8jsE/pkJlaKlswT/e+oXwkEXBP7Gi3VBcIME/kcMk7qL9wD+v9ZePztjAP34KBra/t8A/ExDfRe6SwD/5KwTO9mvAP/CoFN3lUsA/EixrhIb3wj8nh0+9dhjDP9+b0yk3QMM/OA40D2Ztwz/hWdA6Fo/DP9WoWd9fuMM/XerIglDhwz9GPQVVngjEP/xnoOx/N8Q/xSsY8YZcxD+ypgvMt4bEP31d8pBvucQ/XAejL+zfxD+Y7rkQIQvFPwdEDPYqPcU/+3CW82lsxT+cNo0/XKvFPyLCSSdf3MU/p8Tn0LITxj++Nlak5FHGP7QltNVUjsY/ppe/NxvUxj+I1OspXx/HP7Hqz5orZcc/kd9V3lOuxz8J3Lx5CPTHP0IajKGHQMg/0siQwgmayD/l2xat4/PIPzJJBNuOYck/wnQtTF3jyT8MHIZ5SF3KPyroKajl0co/tRfEAPtCyz9YwMN3msjLP2arEYTfVcw/i9gT5skFzT920zwEz7PNP1C9uSmgsc4/9xvr7tC+zz/qXaa7iEfQP8+qELUwG9E/h25LzjsH0j8rghtBmv3SP1+bQEXo6NM/lc7OIM/D1D80qFKhYGzWPzd/39vmq9g/lAjBM8eF3D8QpkP9imbgP5tTJTZmlek/",
          "dtype": "f8"
         },
         "yaxis": "y"
        },
        {
         "line": {
          "color": "rgb(77,175,74)",
          "width": 2
         },
         "mode": "lines",
         "name": "incumbent",
         "type": "scatter",
         "x": {
          "bdata": "AAAAAAAAAAB7FK5H4XqUP3sUrkfheqQ/uB6F61G4rj97FK5H4Xq0P5qZmZmZmbk/uB6F61G4vj/sUbgehevBP3sUrkfhesQ/CtejcD0Kxz+amZmZmZnJPylcj8L1KMw/uB6F61G4zj+kcD0K16PQP+xRuB6F69E/MzMzMzMz0z97FK5H4XrUP8P1KFyPwtU/CtejcD0K1z9SuB6F61HYP5qZmZmZmdk/4XoUrkfh2j8pXI/C9SjcP3E9CtejcN0/uB6F61G43j8AAAAAAADgP6RwPQrXo+A/SOF6FK5H4T/sUbgehevhP4/C9Shcj+I/MzMzMzMz4z/Xo3A9CtfjP3sUrkfheuQ/H4XrUbge5T/D9Shcj8LlP2dmZmZmZuY/CtejcD0K5z+uR+F6FK7nP1K4HoXrUeg/9ihcj8L16D+amZmZmZnpPz4K16NwPeo/4XoUrkfh6j+F61G4HoXrPylcj8L1KOw/zczMzMzM7D9xPQrXo3DtPxWuR+F6FO4/uB6F61G47j9cj8L1KFzvPwAAAAAAAPA/",
          "dtype": "f8"
         },
         "xaxis": "x",
         "y": {
          "bdata": "o/r/8kGn6D/nINhNCTDfPx/6UYRg0do/AHntdQo01z8MaEvbgNrUPx6aMJB7fdM/90U8p0R20j/gEl1H37XRP/h9Tr+syNA/mB2F53eYzz/jQEa9wyfOP4NKpxXrTc0/lwpPFfpezD/ttTFDtnnLP+WFcG3X1so/EGSTCC0yyj8hHndB/rfJP7OJ5YtKWck/CwH+nvbryD9UJ6UoRIfIP317dhXFF8g/RIKMki6txz9XgKNU41fHP/wSAk8zAsc/LLwMIdWrxj8Va8xbmVLGP6V99R6zB8Y/YJqcIka6xT9TV0RZR33FPyiUgcTpPcU/XiukZv38xD9B6tknoL7EPy8iHk67f8Q/NX+Mrw9MxD/FaqgwjRrEP2adtKGH3MM/OgjUw9Srwz/0h5GboH7DP5kvBxziVMM/BOsBNyApwz/CQHivl/fCP03BJrXVysI/eX6IJmWlwj/bhMhyDHfCP3HhJD0uUcI/3IybpQ4vwj/p4qFTZAbCP+29tttr5cE/8XVIFJC+wT/ryeFKmpfBP4XYIS3AecE/",
          "dtype": "f8"
         },
         "yaxis": "y"
        },
        {
         "fill": "toself",
         "fillcolor": "rgba(77,175,74,0.1)",
         "hoverinfo": "skip",
         "line": {
          "color": "rgba(255,255,255,0)"
         },
         "showlegend": false,
         "type": "scatter",
         "x": {
          "bdata": "AAAAAAAAAAB7FK5H4XqUP3sUrkfheqQ/uB6F61G4rj97FK5H4Xq0P5qZmZmZmbk/uB6F61G4vj/sUbgehevBP3sUrkfhesQ/CtejcD0Kxz+amZmZmZnJPylcj8L1KMw/uB6F61G4zj+kcD0K16PQP+xRuB6F69E/MzMzMzMz0z97FK5H4XrUP8P1KFyPwtU/CtejcD0K1z9SuB6F61HYP5qZmZmZmdk/4XoUrkfh2j8pXI/C9SjcP3E9CtejcN0/uB6F61G43j8AAAAAAADgP6RwPQrXo+A/SOF6FK5H4T/sUbgehevhP4/C9Shcj+I/MzMzMzMz4z/Xo3A9CtfjP3sUrkfheuQ/H4XrUbge5T/D9Shcj8LlP2dmZmZmZuY/CtejcD0K5z+uR+F6FK7nP1K4HoXrUeg/9ihcj8L16D+amZmZmZnpPz4K16NwPeo/4XoUrkfh6j+F61G4HoXrPylcj8L1KOw/zczMzMzM7D9xPQrXo3DtPxWuR+F6FO4/uB6F61G47j9cj8L1KFzvPwAAAAAAAPA/AAAAAAAA8D9cj8L1KFzvP7gehetRuO4/Fa5H4XoU7j9xPQrXo3DtP83MzMzMzOw/KVyPwvUo7D+F61G4HoXrP+F6FK5H4eo/PgrXo3A96j+amZmZmZnpP/YoXI/C9eg/UrgehetR6D+uR+F6FK7nPwrXo3A9Cuc/Z2ZmZmZm5j/D9Shcj8LlPx+F61G4HuU/exSuR+F65D/Xo3A9CtfjPzMzMzMzM+M/j8L1KFyP4j/sUbgehevhP0jhehSuR+E/pHA9Ctej4D8AAAAAAADgP7gehetRuN4/cT0K16Nw3T8pXI/C9SjcP+F6FK5H4do/mpmZmZmZ2T9SuB6F61HYPwrXo3A9Ctc/w/UoXI/C1T97FK5H4XrUPzMzMzMzM9M/7FG4HoXr0T+kcD0K16PQP7gehetRuM4/KVyPwvUozD+amZmZmZnJPwrXo3A9Csc/exSuR+F6xD/sUbgehevBP7gehetRuL4/mpmZmZmZuT97FK5H4Xq0P7gehetRuK4/exSuR+F6pD97FK5H4XqUPwAAAAAAAAAA",
          "dtype": "f8"
         },
         "xaxis": "x",
         "y": {
          "bdata": "AaKWS2O05z/A0WPuhIjdP730Rx41FNk/8k97yDa51T9o1LjAskXTPwQSNJfJMNI/xUQWnpr60D+K1G7RDWvQP2gDrYlrEc8/Ea2Zw2j3zD/7JKaY77bLP3jQ7xw00so/cfEJNhX7yT+yWQDI7CPJP43doQS2s8g/E5eXyr0byD9w9LgkNKfHP0aGkAQ8Vsc/Gm2yW8zyxj9qdwkjjpjGP5Rx/7MQM8Y/kjtGKr7WxT95cskb8obFP7712LmcPcU/joLQAgf1xD/HPGBhVqLEP4LD0FqwWsQ/8JaIkxgPxD+coHCyZ9jDP6HHHVZsocM/sAyatCpnwz+/+kIYWCzDPxADxYU198I/7opiK6fMwj/wwj8Rq5vCPzstX2FXYcI/WGpzXI82wj/V4PSgFxHCP/qa6PQf7sE/Gw3lmIjGwT8Vt6ua65jBP7nFbKUedME//yEmHQ5RwT+fntmveybBP0gMgscOA8E/Ok3V5QTkwD87pTYrIL3APwpNkcxuncA/HdEjdxN7wD86Vq8ckFbAP8HGRkpWPcA/Ser8Dyq2wj+cPRR5pNjCP8UabbEMAsM/0C7c6mgtwz+XIA18qE/DP37MYWUYesM/mrbHsk2fwz8Xa7c1ncfDP/Pa6i+8+cM/4bzgxIwhxD9vykTEQ1bEP+3IHtW3i8Q/OMQlQ6S7xD8TLy6WKezEPxymNCsaIcU/kQ0K4rdXxT+aEhFQb5nFP3xztjN4y8U/TkF3FkEIxj/D2XA36FDGPwxKrhjQksY/r2DlMmfaxj8KDhgAJyLHP9CdsLFzZcc/yDca47W0xz9jmThW3ALIP8r1SD+jYsg/OjAr5MnGyD81jn2N1CjJP/bI0vqeg8k/ZoXtdnn8yT8+10Au+nXKP/yUSeIg5co/II06E1lcyz/SRzVeyMjLPw0xj0acSMw/PS4/1vj5zD8oEmO+f8/NP70jlPTews4/jsReDqLJzz9mLvPwS0zQPxBHuIXDHNE/PHrGuaMI0j82UUu9sADTPylHYrDu8dM/OCItiS3K1D+w+931Tm/WPw6iXyPertg/gf9b6ouO3D8HOKbWxmvgP0VTaZogmuk/",
          "dtype": "f8"
         },
         "yaxis": "y"
        },
        {
         "line": {
          "color": "rgb(152,78,163)",
          "width": 2
         },
         "mode": "lines",
         "name": "random",
         "type": "scatter",
         "x": {
          "bdata": "AAAAAAAAAAB7FK5H4XqUP3sUrkfheqQ/uB6F61G4rj97FK5H4Xq0P5qZmZmZmbk/uB6F61G4vj/sUbgehevBP3sUrkfhesQ/CtejcD0Kxz+amZmZmZnJPylcj8L1KMw/uB6F61G4zj+kcD0K16PQP+xRuB6F69E/MzMzMzMz0z97FK5H4XrUP8P1KFyPwtU/CtejcD0K1z9SuB6F61HYP5qZmZmZmdk/4XoUrkfh2j8pXI/C9SjcP3E9CtejcN0/uB6F61G43j8AAAAAAADgP6RwPQrXo+A/SOF6FK5H4T/sUbgehevhP4/C9Shcj+I/MzMzMzMz4z/Xo3A9CtfjP3sUrkfheuQ/H4XrUbge5T/D9Shcj8LlP2dmZmZmZuY/CtejcD0K5z+uR+F6FK7nP1K4HoXrUeg/9ihcj8L16D+amZmZmZnpPz4K16NwPeo/4XoUrkfh6j+F61G4HoXrPylcj8L1KOw/zczMzMzM7D9xPQrXo3DtPxWuR+F6FO4/uB6F61G47j9cj8L1KFzvPwAAAAAAAPA/",
          "dtype": "f8"
         },
         "xaxis": "x",
         "y": {
          "bdata": "3Be3KIqm6D9E7t+fQi3fPxML/vPDy9o/vdMoKpYv1z/gTdmPGdfUP2D3oW5tetM/AyvbXXdy0j8JYNY8RbTRP8MMPWi1xtA/oFiCfQGUzz8xNQc1JSHOPyyz8nohSM0/SPR+sXpXzD+Q86l/s3PLP2CILCZQ3Mo/rR0citpRyj8YrOKrlt7JP50YBwUDdMk/XZjWI+byyD9U8WXbhYTIP5W0FGjfG8g/KDFoC4Kyxz81MZWfQlfHP1Blvf31AMc/ldboaOioxj90BRGeNVjGP7QTu191D8Y/0yEUHf/GxT/bSgs/zYbFP/DxePMWPsU/s4uGM7D3xD9fNfizeL7EPxygcoIMhcQ/mASfsgFUxD/9btjCQCHEP92LILlp3cM/K+m7h/Cuwz/JMlwnuoTDPzJVB6x5WMM/WUCLi/Ivwz8jXFRgPwLDP7XFpgD628I/LM6/HzW6wj8XM122sIzCPxV/gzKQZsI/pQyILc1Cwj/nFLQushnCP19bqzwo+ME/BUvGFwHRwT/jqF7tSqzBP+DC/UwPjME/",
          "dtype": "f8"
         },
         "yaxis": "y"
        },
        {
         "fill": "toself",
         "fillcolor": "rgba(152,78,163,0.1)",
         "hoverinfo": "skip",
         "line": {
          "color": "rgba(255,255,255,0)"
         },
         "showlegend": false,
         "type": "scatter",
         "x": {
          "bdata": "AAAAAAAAAAB7FK5H4XqUP3sUrkfheqQ/uB6F61G4rj97FK5H4Xq0P5qZmZmZmbk/uB6F61G4vj/sUbgehevBP3sUrkfhesQ/CtejcD0Kxz+amZmZmZnJPylcj8L1KMw/uB6F61G4zj+kcD0K16PQP+xRuB6F69E/MzMzMzMz0z97FK5H4XrUP8P1KFyPwtU/CtejcD0K1z9SuB6F61HYP5qZmZmZmdk/4XoUrkfh2j8pXI/C9SjcP3E9CtejcN0/uB6F61G43j8AAAAAAADgP6RwPQrXo+A/SOF6FK5H4T/sUbgehevhP4/C9Shcj+I/MzMzMzMz4z/Xo3A9CtfjP3sUrkfheuQ/H4XrUbge5T/D9Shcj8LlP2dmZmZmZuY/CtejcD0K5z+uR+F6FK7nP1K4HoXrUeg/9ihcj8L16D+amZmZmZnpPz4K16NwPeo/4XoUrkfh6j+F61G4HoXrPylcj8L1KOw/zczMzMzM7D9xPQrXo3DtPxWuR+F6FO4/uB6F61G47j9cj8L1KFzvPwAAAAAAAPA/AAAAAAAA8D9cj8L1KFzvP7gehetRuO4/Fa5H4XoU7j9xPQrXo3DtP83MzMzMzOw/KVyPwvUo7D+F61G4HoXrP+F6FK5H4eo/PgrXo3A96j+amZmZmZnpP/YoXI/C9eg/UrgehetR6D+uR+F6FK7nPwrXo3A9Cuc/Z2ZmZmZm5j/D9Shcj8LlPx+F61G4HuU/exSuR+F65D/Xo3A9CtfjPzMzMzMzM+M/j8L1KFyP4j/sUbgehevhP0jhehSuR+E/pHA9Ctej4D8AAAAAAADgP7gehetRuN4/cT0K16Nw3T8pXI/C9SjcP+F6FK5H4do/mpmZmZmZ2T9SuB6F61HYPwrXo3A9Ctc/w/UoXI/C1T97FK5H4XrUPzMzMzMzM9M/7FG4HoXr0T+kcD0K16PQP7gehetRuM4/KVyPwvUozD+amZmZmZnJPwrXo3A9Csc/exSuR+F6xD/sUbgehevBP7gehetRuL4/mpmZmZmZuT97FK5H4Xq0P7gehetRuK4/exSuR+F6pD97FK5H4XqUPwAAAAAAAAAA",
          "dtype": "f8"
         },
         "xaxis": "x",
         "y": {
          "bdata": "Mt67npK95z+NL+PBHnvdP2AGxkBJAtk/aogRteKm1T+vbs1FpzTTP7qBN4glINI/pCtmm0fp0D9okveUR1rQP4sdH3pn784/B7u1PsLUzD8s2nDoqZHLP0TSJp1krso/WB9Uo2fVyT/h+cKq/QDJP8p52L0Dkcg/pYA7yDgOyD81TDvdvaDHP/paYBTSSsc/DUYwuOnaxj8r36w/K3rGP8kae6i1FcY/Fa1uaXa5xT8wisnu/2fFPxQ+toBnHMU//cpOFJzNxD+CnpDKAITEP60lWbCiPcQ/RBf+8Q72wz9CAwq5oLzDP5S1J/ylfsM/uMRzaAVAwz+4S52mzAzDP7qvDL0328I/SN8y+aOzwj/nBDQTiYHCP/0YXQH1QcI/xgfDEgIXwj9XEcEWY/TBPwksOl80zcE/6KFaXeilwT9WhPbr0X3BP9e9pum6X8E/rPcBk65AwT/DUmG92xjBP+CLQwgE98A/kyigWS7XwD/9YmC2ubLAP9nuYo0nlsA/V6iwj5d0wD+ifiL1rVPAP1+O1mumOMA/YfckLnjfwj8k05rl5wTDP7Pt259qLcM/5cfz6yhawz/RxgenqoDDP7fwbwFsrsM/SnLDXBzWwz9rE1mvhQDEP6ykfay7M8Q/k82mFzlYxD/wM7LUrIbEP8reu7n8ucQ/W37U+L7jxD87VPc3ERXFP5DKtPzeRsU/vf7jcN54xT8T2Xxy+MDFP+gpC2xf9MU/fpDYR+Euxj8GH1PBJHDGP65Smf5ar8Y/TC7K6of9xj90kgzF+VDHP2IsKkjvl8c/uwEdD0jhxz9mbJFxaizIPy3igr00hMg/jIzEeoTlyD862GBQhUbJPzu1Ya2Nq8k/YU6uJwkiyj99Ax934I7KP63qfI/iCss/QNat9TOdyz/7C4p6bxzMP7W6/Et8lcw/9paAjpwnzT8/7ZBUaebNPzjJqb+N2c4/FJS+WN7hzz8byM5AUFjQPx17J16gKdE/wYpqE7cV0j+qLbXkQg7TP2IqUCCn+9M/Bm0MVbXU1D8RLeXZi3nWPxAfQJ9JuNg/xg82pz6V3D9+Vu4+s2/gP4ZRsrKBj+k/",
          "dtype": "f8"
         },
         "yaxis": "y"
        },
        {
         "error_x": {
          "array": {
           "bdata": "A9cR3dqhlD8MBFYQl8aTP8HSo+KLqI8/khSMmLu2fj8=",
           "dtype": "f8"
          },
          "type": "data"
         },
         "marker": {
          "color": "skyblue",
          "line": {
           "color": "black",
           "width": 1
          }
         },
         "orientation": "h",
         "showlegend": false,
         "type": "bar",
         "x": {
          "bdata": "C1VfBNLUzD9PPJibYPzKPwPTAboggso/+ZPq8EGNxz8=",
          "dtype": "f8"
         },
         "xaxis": "x2",
         "y": [
          "incumbent",
          "default",
          "random",
          "False"
         ],
         "yaxis": "y2"
        }
       ],
       "layout": {
        "font": {
         "size": 16
        },
        "height": 400,
        "legend": {
         "font": {
          "size": 16
         },
         "title": {
          "text": "Optimizers"
         }
        },
        "margin": {
         "b": 50,
         "l": 50,
         "r": 50,
         "t": 60
        },
        "template": {
         "data": {
          "bar": [
           {
            "error_x": {
             "color": "#2a3f5f"
            },
            "error_y": {
             "color": "#2a3f5f"
            },
            "marker": {
             "line": {
              "color": "white",
              "width": 0.5
             },
             "pattern": {
              "fillmode": "overlay",
              "size": 10,
              "solidity": 0.2
             }
            },
            "type": "bar"
           }
          ],
          "barpolar": [
           {
            "marker": {
             "line": {
              "color": "white",
              "width": 0.5
             },
             "pattern": {
              "fillmode": "overlay",
              "size": 10,
              "solidity": 0.2
             }
            },
            "type": "barpolar"
           }
          ],
          "carpet": [
           {
            "aaxis": {
             "endlinecolor": "#2a3f5f",
             "gridcolor": "#C8D4E3",
             "linecolor": "#C8D4E3",
             "minorgridcolor": "#C8D4E3",
             "startlinecolor": "#2a3f5f"
            },
            "baxis": {
             "endlinecolor": "#2a3f5f",
             "gridcolor": "#C8D4E3",
             "linecolor": "#C8D4E3",
             "minorgridcolor": "#C8D4E3",
             "startlinecolor": "#2a3f5f"
            },
            "type": "carpet"
           }
          ],
          "choropleth": [
           {
            "colorbar": {
             "outlinewidth": 0,
             "ticks": ""
            },
            "type": "choropleth"
           }
          ],
          "contour": [
           {
            "colorbar": {
             "outlinewidth": 0,
             "ticks": ""
            },
            "colorscale": [
             [
              0,
              "#0d0887"
             ],
             [
              0.1111111111111111,
              "#46039f"
             ],
             [
              0.2222222222222222,
              "#7201a8"
             ],
             [
              0.3333333333333333,
              "#9c179e"
             ],
             [
              0.4444444444444444,
              "#bd3786"
             ],
             [
              0.5555555555555556,
              "#d8576b"
             ],
             [
              0.6666666666666666,
              "#ed7953"
             ],
             [
              0.7777777777777778,
              "#fb9f3a"
             ],
             [
              0.8888888888888888,
              "#fdca26"
             ],
             [
              1,
              "#f0f921"
             ]
            ],
            "type": "contour"
           }
          ],
          "contourcarpet": [
           {
            "colorbar": {
             "outlinewidth": 0,
             "ticks": ""
            },
            "type": "contourcarpet"
           }
          ],
          "heatmap": [
           {
            "colorbar": {
             "outlinewidth": 0,
             "ticks": ""
            },
            "colorscale": [
             [
              0,
              "#0d0887"
             ],
             [
              0.1111111111111111,
              "#46039f"
             ],
             [
              0.2222222222222222,
              "#7201a8"
             ],
             [
              0.3333333333333333,
              "#9c179e"
             ],
             [
              0.4444444444444444,
              "#bd3786"
             ],
             [
              0.5555555555555556,
              "#d8576b"
             ],
             [
              0.6666666666666666,
              "#ed7953"
             ],
             [
              0.7777777777777778,
              "#fb9f3a"
             ],
             [
              0.8888888888888888,
              "#fdca26"
             ],
             [
              1,
              "#f0f921"
             ]
            ],
            "type": "heatmap"
           }
          ],
          "histogram": [
           {
            "marker": {
             "pattern": {
              "fillmode": "overlay",
              "size": 10,
              "solidity": 0.2
             }
            },
            "type": "histogram"
           }
          ],
          "histogram2d": [
           {
            "colorbar": {
             "outlinewidth": 0,
             "ticks": ""
            },
            "colorscale": [
             [
              0,
              "#0d0887"
             ],
             [
              0.1111111111111111,
              "#46039f"
             ],
             [
              0.2222222222222222,
              "#7201a8"
             ],
             [
              0.3333333333333333,
              "#9c179e"
             ],
             [
              0.4444444444444444,
              "#bd3786"
             ],
             [
              0.5555555555555556,
              "#d8576b"
             ],
             [
              0.6666666666666666,
              "#ed7953"
             ],
             [
              0.7777777777777778,
              "#fb9f3a"
             ],
             [
              0.8888888888888888,
              "#fdca26"
             ],
             [
              1,
              "#f0f921"
             ]
            ],
            "type": "histogram2d"
           }
          ],
          "histogram2dcontour": [
           {
            "colorbar": {
             "outlinewidth": 0,
             "ticks": ""
            },
            "colorscale": [
             [
              0,
              "#0d0887"
             ],
             [
              0.1111111111111111,
              "#46039f"
             ],
             [
              0.2222222222222222,
              "#7201a8"
             ],
             [
              0.3333333333333333,
              "#9c179e"
             ],
             [
              0.4444444444444444,
              "#bd3786"
             ],
             [
              0.5555555555555556,
              "#d8576b"
             ],
             [
              0.6666666666666666,
              "#ed7953"
             ],
             [
              0.7777777777777778,
              "#fb9f3a"
             ],
             [
              0.8888888888888888,
              "#fdca26"
             ],
             [
              1,
              "#f0f921"
             ]
            ],
            "type": "histogram2dcontour"
           }
          ],
          "mesh3d": [
           {
            "colorbar": {
             "outlinewidth": 0,
             "ticks": ""
            },
            "type": "mesh3d"
           }
          ],
          "parcoords": [
           {
            "line": {
             "colorbar": {
              "outlinewidth": 0,
              "ticks": ""
             }
            },
            "type": "parcoords"
           }
          ],
          "pie": [
           {
            "automargin": true,
            "type": "pie"
           }
          ],
          "scatter": [
           {
            "fillpattern": {
             "fillmode": "overlay",
             "size": 10,
             "solidity": 0.2
            },
            "type": "scatter"
           }
          ],
          "scatter3d": [
           {
            "line": {
             "colorbar": {
              "outlinewidth": 0,
              "ticks": ""
             }
            },
            "marker": {
             "colorbar": {
              "outlinewidth": 0,
              "ticks": ""
             }
            },
            "type": "scatter3d"
           }
          ],
          "scattercarpet": [
           {
            "marker": {
             "colorbar": {
              "outlinewidth": 0,
              "ticks": ""
             }
            },
            "type": "scattercarpet"
           }
          ],
          "scattergeo": [
           {
            "marker": {
             "colorbar": {
              "outlinewidth": 0,
              "ticks": ""
             }
            },
            "type": "scattergeo"
           }
          ],
          "scattergl": [
           {
            "marker": {
             "colorbar": {
              "outlinewidth": 0,
              "ticks": ""
             }
            },
            "type": "scattergl"
           }
          ],
          "scattermap": [
           {
            "marker": {
             "colorbar": {
              "outlinewidth": 0,
              "ticks": ""
             }
            },
            "type": "scattermap"
           }
          ],
          "scattermapbox": [
           {
            "marker": {
             "colorbar": {
              "outlinewidth": 0,
              "ticks": ""
             }
            },
            "type": "scattermapbox"
           }
          ],
          "scatterpolar": [
           {
            "marker": {
             "colorbar": {
              "outlinewidth": 0,
              "ticks": ""
             }
            },
            "type": "scatterpolar"
           }
          ],
          "scatterpolargl": [
           {
            "marker": {
             "colorbar": {
              "outlinewidth": 0,
              "ticks": ""
             }
            },
            "type": "scatterpolargl"
           }
          ],
          "scatterternary": [
           {
            "marker": {
             "colorbar": {
              "outlinewidth": 0,
              "ticks": ""
             }
            },
            "type": "scatterternary"
           }
          ],
          "surface": [
           {
            "colorbar": {
             "outlinewidth": 0,
             "ticks": ""
            },
            "colorscale": [
             [
              0,
              "#0d0887"
             ],
             [
              0.1111111111111111,
              "#46039f"
             ],
             [
              0.2222222222222222,
              "#7201a8"
             ],
             [
              0.3333333333333333,
              "#9c179e"
             ],
             [
              0.4444444444444444,
              "#bd3786"
             ],
             [
              0.5555555555555556,
              "#d8576b"
             ],
             [
              0.6666666666666666,
              "#ed7953"
             ],
             [
              0.7777777777777778,
              "#fb9f3a"
             ],
             [
              0.8888888888888888,
              "#fdca26"
             ],
             [
              1,
              "#f0f921"
             ]
            ],
            "type": "surface"
           }
          ],
          "table": [
           {
            "cells": {
             "fill": {
              "color": "#EBF0F8"
             },
             "line": {
              "color": "white"
             }
            },
            "header": {
             "fill": {
              "color": "#C8D4E3"
             },
             "line": {
              "color": "white"
             }
            },
            "type": "table"
           }
          ]
         },
         "layout": {
          "annotationdefaults": {
           "arrowcolor": "#2a3f5f",
           "arrowhead": 0,
           "arrowwidth": 1
          },
          "autotypenumbers": "strict",
          "coloraxis": {
           "colorbar": {
            "outlinewidth": 0,
            "ticks": ""
           }
          },
          "colorscale": {
           "diverging": [
            [
             0,
             "#8e0152"
            ],
            [
             0.1,
             "#c51b7d"
            ],
            [
             0.2,
             "#de77ae"
            ],
            [
             0.3,
             "#f1b6da"
            ],
            [
             0.4,
             "#fde0ef"
            ],
            [
             0.5,
             "#f7f7f7"
            ],
            [
             0.6,
             "#e6f5d0"
            ],
            [
             0.7,
             "#b8e186"
            ],
            [
             0.8,
             "#7fbc41"
            ],
            [
             0.9,
             "#4d9221"
            ],
            [
             1,
             "#276419"
            ]
           ],
           "sequential": [
            [
             0,
             "#0d0887"
            ],
            [
             0.1111111111111111,
             "#46039f"
            ],
            [
             0.2222222222222222,
             "#7201a8"
            ],
            [
             0.3333333333333333,
             "#9c179e"
            ],
            [
             0.4444444444444444,
             "#bd3786"
            ],
            [
             0.5555555555555556,
             "#d8576b"
            ],
            [
             0.6666666666666666,
             "#ed7953"
            ],
            [
             0.7777777777777778,
             "#fb9f3a"
            ],
            [
             0.8888888888888888,
             "#fdca26"
            ],
            [
             1,
             "#f0f921"
            ]
           ],
           "sequentialminus": [
            [
             0,
             "#0d0887"
            ],
            [
             0.1111111111111111,
             "#46039f"
            ],
            [
             0.2222222222222222,
             "#7201a8"
            ],
            [
             0.3333333333333333,
             "#9c179e"
            ],
            [
             0.4444444444444444,
             "#bd3786"
            ],
            [
             0.5555555555555556,
             "#d8576b"
            ],
            [
             0.6666666666666666,
             "#ed7953"
            ],
            [
             0.7777777777777778,
             "#fb9f3a"
            ],
            [
             0.8888888888888888,
             "#fdca26"
            ],
            [
             1,
             "#f0f921"
            ]
           ]
          },
          "colorway": [
           "#636efa",
           "#EF553B",
           "#00cc96",
           "#ab63fa",
           "#FFA15A",
           "#19d3f3",
           "#FF6692",
           "#B6E880",
           "#FF97FF",
           "#FECB52"
          ],
          "font": {
           "color": "#2a3f5f"
          },
          "geo": {
           "bgcolor": "white",
           "lakecolor": "white",
           "landcolor": "white",
           "showlakes": true,
           "showland": true,
           "subunitcolor": "#C8D4E3"
          },
          "hoverlabel": {
           "align": "left"
          },
          "hovermode": "closest",
          "mapbox": {
           "style": "light"
          },
          "paper_bgcolor": "white",
          "plot_bgcolor": "white",
          "polar": {
           "angularaxis": {
            "gridcolor": "#EBF0F8",
            "linecolor": "#EBF0F8",
            "ticks": ""
           },
           "bgcolor": "white",
           "radialaxis": {
            "gridcolor": "#EBF0F8",
            "linecolor": "#EBF0F8",
            "ticks": ""
           }
          },
          "scene": {
           "xaxis": {
            "backgroundcolor": "white",
            "gridcolor": "#DFE8F3",
            "gridwidth": 2,
            "linecolor": "#EBF0F8",
            "showbackground": true,
            "ticks": "",
            "zerolinecolor": "#EBF0F8"
           },
           "yaxis": {
            "backgroundcolor": "white",
            "gridcolor": "#DFE8F3",
            "gridwidth": 2,
            "linecolor": "#EBF0F8",
            "showbackground": true,
            "ticks": "",
            "zerolinecolor": "#EBF0F8"
           },
           "zaxis": {
            "backgroundcolor": "white",
            "gridcolor": "#DFE8F3",
            "gridwidth": 2,
            "linecolor": "#EBF0F8",
            "showbackground": true,
            "ticks": "",
            "zerolinecolor": "#EBF0F8"
           }
          },
          "shapedefaults": {
           "line": {
            "color": "#2a3f5f"
           }
          },
          "ternary": {
           "aaxis": {
            "gridcolor": "#DFE8F3",
            "linecolor": "#A2B1C6",
            "ticks": ""
           },
           "baxis": {
            "gridcolor": "#DFE8F3",
            "linecolor": "#A2B1C6",
            "ticks": ""
           },
           "bgcolor": "white",
           "caxis": {
            "gridcolor": "#DFE8F3",
            "linecolor": "#A2B1C6",
            "ticks": ""
           }
          },
          "title": {
           "x": 0.05
          },
          "xaxis": {
           "automargin": true,
           "gridcolor": "#EBF0F8",
           "linecolor": "#EBF0F8",
           "ticks": "",
           "title": {
            "standoff": 15
           },
           "zerolinecolor": "#EBF0F8",
           "zerolinewidth": 2
          },
          "yaxis": {
           "automargin": true,
           "gridcolor": "#EBF0F8",
           "linecolor": "#EBF0F8",
           "ticks": "",
           "title": {
            "standoff": 15
           },
           "zerolinecolor": "#EBF0F8",
           "zerolinewidth": 2
          }
         }
        },
        "width": 1800,
        "xaxis": {
         "anchor": "y",
         "domain": [
          0,
          0.51
         ],
         "title": {
          "text": "Normalized Trials"
         }
        },
        "xaxis2": {
         "anchor": "y2",
         "domain": [
          0.66,
          1
         ],
         "title": {
          "text": "AUC"
         }
        },
        "yaxis": {
         "anchor": "x",
         "domain": [
          0,
          1
         ],
         "title": {
          "text": "Normalized Inc-Performance"
         }
        },
        "yaxis2": {
         "anchor": "x2",
         "domain": [
          0,
          1
         ],
         "title": {
          "text": "Optimizer"
         }
        }
       }
      }
     },
     "metadata": {},
     "output_type": "display_data"
    }
   ],
   "source": [
    "plot_one_thing('pc_method')"
   ]
  },
  {
   "cell_type": "code",
   "execution_count": 139,
   "id": "8c58d572",
   "metadata": {},
   "outputs": [
    {
     "name": "stderr",
     "output_type": "stream",
     "text": [
      "/home/daphne/Code/hpi_parego/CARP-S/carps/analysis/run_autorank.py:322: FutureWarning:\n",
      "\n",
      "Series.__getitem__ treating keys as positions is deprecated. In a future version, integer keys will always be treated as labels (consistent with DataFrame behavior). To access a value by position, use `ser.iloc[pos]`\n",
      "\n",
      "/home/daphne/Code/hpi_parego/CARP-S/carps/analysis/run_autorank.py:421: UserWarning:\n",
      "\n",
      "FigureCanvasAgg is non-interactive, and thus cannot be shown\n",
      "\n"
     ]
    },
    {
     "data": {
      "text/html": [
       "<pre style=\"white-space:pre;overflow-x:auto;line-height:normal;font-family:Menlo,'DejaVu Sans Mono',consolas,'Courier New',monospace\"><span style=\"color: #7fbfbf; text-decoration-color: #7fbfbf\">[16:32:15] </span><span style=\"color: #000080; text-decoration-color: #000080\">INFO    </span> Create dataframe for neat plotting by aligning x-axis <span style=\"color: #800080; text-decoration-color: #800080\">/</span> interpolating        <a href=\"file:///home/daphne/Code/hpi_parego/CARP-S/carps/analysis/gather_data.py\" target=\"_blank\"><span style=\"color: #7f7f7f; text-decoration-color: #7f7f7f\">gather_data.py</span></a><span style=\"color: #7f7f7f; text-decoration-color: #7f7f7f\">:</span><a href=\"file:///home/daphne/Code/hpi_parego/CARP-S/carps/analysis/gather_data.py#735\" target=\"_blank\"><span style=\"color: #7f7f7f; text-decoration-color: #7f7f7f\">735</span></a>\n",
       "<span style=\"color: #7fbfbf; text-decoration-color: #7fbfbf\">           </span>         budget.                                                                      <span style=\"color: #7f7f7f; text-decoration-color: #7f7f7f\">                  </span>\n",
       "</pre>\n"
      ],
      "text/plain": [
       "\u001b[2;36m[16:32:15]\u001b[0m\u001b[2;36m \u001b[0m\u001b[34mINFO    \u001b[0m Create dataframe for neat plotting by aligning x-axis \u001b[35m/\u001b[0m interpolating        \u001b]8;id=154185;file:///home/daphne/Code/hpi_parego/CARP-S/carps/analysis/gather_data.py\u001b\\\u001b[2mgather_data.py\u001b[0m\u001b]8;;\u001b\\\u001b[2m:\u001b[0m\u001b]8;id=29458;file:///home/daphne/Code/hpi_parego/CARP-S/carps/analysis/gather_data.py#735\u001b\\\u001b[2m735\u001b[0m\u001b]8;;\u001b\\\n",
       "\u001b[2;36m           \u001b[0m         budget.                                                                      \u001b[2m                  \u001b[0m\n"
      ]
     },
     "metadata": {},
     "output_type": "display_data"
    },
    {
     "name": "stderr",
     "output_type": "stream",
     "text": [
      "/home/daphne/Code/hpi_parego/CARP-S/carps/analysis/generate_report.py:108: UserWarning:\n",
      "\n",
      "Result is not significant and results of the plot may be misleading!\n",
      "\n",
      "/home/daphne/Code/hpi_parego/CARP-S/carps/analysis/generate_report.py:108: UserWarning:\n",
      "\n",
      "Result is not significant and results of the plot may be misleading!\n",
      "\n",
      "/home/daphne/Code/hpi_parego/CARP-S/carps/analysis/generate_report.py:108: UserWarning:\n",
      "\n",
      "Result is not significant and results of the plot may be misleading!\n",
      "\n",
      "/home/daphne/Code/hpi_parego/CARP-S/carps/analysis/generate_report.py:108: UserWarning:\n",
      "\n",
      "Result is not significant and results of the plot may be misleading!\n",
      "\n",
      "/home/daphne/Code/hpi_parego/CARP-S/carps/analysis/generate_report.py:108: UserWarning:\n",
      "\n",
      "Result is not significant and results of the plot may be misleading!\n",
      "\n",
      "/home/daphne/Code/hpi_parego/CARP-S/carps/analysis/generate_report.py:108: UserWarning:\n",
      "\n",
      "Result is not significant and results of the plot may be misleading!\n",
      "\n",
      "/home/daphne/Code/hpi_parego/CARP-S/carps/analysis/generate_report.py:108: UserWarning:\n",
      "\n",
      "Result is not significant and results of the plot may be misleading!\n",
      "\n",
      "/home/daphne/Code/hpi_parego/CARP-S/carps/analysis/generate_report.py:108: UserWarning:\n",
      "\n",
      "Result is not significant and results of the plot may be misleading!\n",
      "\n",
      "/home/daphne/Code/hpi_parego/CARP-S/carps/analysis/generate_report.py:108: UserWarning:\n",
      "\n",
      "Result is not significant and results of the plot may be misleading!\n",
      "\n",
      "/home/daphne/Code/hpi_parego/CARP-S/carps/analysis/generate_report.py:108: UserWarning:\n",
      "\n",
      "Result is not significant and results of the plot may be misleading!\n",
      "\n",
      "/home/daphne/Code/hpi_parego/CARP-S/carps/analysis/generate_report.py:108: UserWarning:\n",
      "\n",
      "Result is not significant and results of the plot may be misleading!\n",
      "\n",
      "/home/daphne/Code/hpi_parego/CARP-S/carps/analysis/generate_report.py:108: UserWarning:\n",
      "\n",
      "Result is not significant and results of the plot may be misleading!\n",
      "\n",
      "/home/daphne/Code/hpi_parego/CARP-S/carps/analysis/generate_report.py:108: UserWarning:\n",
      "\n",
      "Result is not significant and results of the plot may be misleading!\n",
      "\n",
      "/home/daphne/Code/hpi_parego/CARP-S/carps/analysis/generate_report.py:108: UserWarning:\n",
      "\n",
      "Result is not significant and results of the plot may be misleading!\n",
      "\n",
      "/home/daphne/Code/hpi_parego/CARP-S/carps/analysis/generate_report.py:108: UserWarning:\n",
      "\n",
      "Result is not significant and results of the plot may be misleading!\n",
      "\n",
      "/home/daphne/Code/hpi_parego/CARP-S/carps/analysis/generate_report.py:108: UserWarning:\n",
      "\n",
      "Result is not significant and results of the plot may be misleading!\n",
      "\n",
      "/home/daphne/Code/hpi_parego/CARP-S/carps/analysis/generate_report.py:108: UserWarning:\n",
      "\n",
      "Result is not significant and results of the plot may be misleading!\n",
      "\n",
      "/home/daphne/Code/hpi_parego/CARP-S/carps/analysis/generate_report.py:108: UserWarning:\n",
      "\n",
      "Result is not significant and results of the plot may be misleading!\n",
      "\n"
     ]
    },
    {
     "name": "stdout",
     "output_type": "stream",
     "text": [
      "['adjust_cs_only' 'adjust_pc_only' 'both']\n"
     ]
    },
    {
     "name": "stderr",
     "output_type": "stream",
     "text": [
      "/tmp/ipykernel_27098/3449863810.py:27: DeprecationWarning:\n",
      "\n",
      "DataFrameGroupBy.apply operated on the grouping columns. This behavior is deprecated, and in a future version of pandas the grouping columns will be excluded from the operation. Either pass `include_groups=False` to exclude the groupings or explicitly select the grouping columns after groupby to silence this warning.\n",
      "\n"
     ]
    },
    {
     "data": {
      "application/vnd.plotly.v1+json": {
       "config": {
        "plotlyServerURL": "https://plot.ly"
       },
       "data": [
        {
         "line": {
          "color": "rgb(228,26,28)",
          "width": 2
         },
         "mode": "lines",
         "name": "adjust_cs_only",
         "type": "scatter",
         "x": {
          "bdata": "AAAAAAAAAAB7FK5H4XqUP3sUrkfheqQ/uB6F61G4rj97FK5H4Xq0P5qZmZmZmbk/uB6F61G4vj/sUbgehevBP3sUrkfhesQ/CtejcD0Kxz+amZmZmZnJPylcj8L1KMw/uB6F61G4zj+kcD0K16PQP+xRuB6F69E/MzMzMzMz0z97FK5H4XrUP8P1KFyPwtU/CtejcD0K1z9SuB6F61HYP5qZmZmZmdk/4XoUrkfh2j8pXI/C9SjcP3E9CtejcN0/uB6F61G43j8AAAAAAADgP6RwPQrXo+A/SOF6FK5H4T/sUbgehevhP4/C9Shcj+I/MzMzMzMz4z/Xo3A9CtfjP3sUrkfheuQ/H4XrUbge5T/D9Shcj8LlP2dmZmZmZuY/CtejcD0K5z+uR+F6FK7nP1K4HoXrUeg/9ihcj8L16D+amZmZmZnpPz4K16NwPeo/4XoUrkfh6j+F61G4HoXrPylcj8L1KOw/zczMzMzM7D9xPQrXo3DtPxWuR+F6FO4/uB6F61G47j9cj8L1KFzvPwAAAAAAAPA/",
          "dtype": "f8"
         },
         "xaxis": "x",
         "y": {
          "bdata": "bVh6qFHa5z/7JDU8dGLePxUT/47zWNo/HS8634041z9lnZ0ZlTjVP7OS47+I89M/1WdHa4gU0z97M3obBlPSP5vOezcfYdE/PV/QaOZ+0D94TObpyrbPP8H6mHO0Ds8/Rf561RFGzj/N+68wpNzMPy2W/qFx98s/p08100JCyz+rLicrZHHKP6dspG5Dvck/mCKomqTcyD+DDf0iTRzIP6OqHRl0bcc/8732MSevxj+Ls3QsGN3FP97JpWDVQcU/eDTohaG3xD+Fuz6xXivEP7SeP6LZs8M/U5eurTcwwz9qVauRSbrCPzs8Eh+RNsI/lwBKXI7PwT8OdmxD4XPBPz2uLlHnD8E/UZTjMd64wD9nDSlqWWfAP0j38TGa+78/uFFXjmhWvz/kdO/k/Le+P4feWFo8JL4/JRo5VNOgvT/Egi3P+Pm8P72P0Esybbw/5Y+Koljouz9vitfw21O7PxRiNHYqx7o/ceG5xw1Juj9hY580Eri5P1y32DAEObk/6NJ2VfCvuD9o+ccmNSe4P0BEZuC0v7c/",
          "dtype": "f8"
         },
         "yaxis": "y"
        },
        {
         "fill": "toself",
         "fillcolor": "rgba(228,26,28,0.1)",
         "hoverinfo": "skip",
         "line": {
          "color": "rgba(255,255,255,0)"
         },
         "showlegend": false,
         "type": "scatter",
         "x": {
          "bdata": "AAAAAAAAAAB7FK5H4XqUP3sUrkfheqQ/uB6F61G4rj97FK5H4Xq0P5qZmZmZmbk/uB6F61G4vj/sUbgehevBP3sUrkfhesQ/CtejcD0Kxz+amZmZmZnJPylcj8L1KMw/uB6F61G4zj+kcD0K16PQP+xRuB6F69E/MzMzMzMz0z97FK5H4XrUP8P1KFyPwtU/CtejcD0K1z9SuB6F61HYP5qZmZmZmdk/4XoUrkfh2j8pXI/C9SjcP3E9CtejcN0/uB6F61G43j8AAAAAAADgP6RwPQrXo+A/SOF6FK5H4T/sUbgehevhP4/C9Shcj+I/MzMzMzMz4z/Xo3A9CtfjP3sUrkfheuQ/H4XrUbge5T/D9Shcj8LlP2dmZmZmZuY/CtejcD0K5z+uR+F6FK7nP1K4HoXrUeg/9ihcj8L16D+amZmZmZnpPz4K16NwPeo/4XoUrkfh6j+F61G4HoXrPylcj8L1KOw/zczMzMzM7D9xPQrXo3DtPxWuR+F6FO4/uB6F61G47j9cj8L1KFzvPwAAAAAAAPA/AAAAAAAA8D9cj8L1KFzvP7gehetRuO4/Fa5H4XoU7j9xPQrXo3DtP83MzMzMzOw/KVyPwvUo7D+F61G4HoXrP+F6FK5H4eo/PgrXo3A96j+amZmZmZnpP/YoXI/C9eg/UrgehetR6D+uR+F6FK7nPwrXo3A9Cuc/Z2ZmZmZm5j/D9Shcj8LlPx+F61G4HuU/exSuR+F65D/Xo3A9CtfjPzMzMzMzM+M/j8L1KFyP4j/sUbgehevhP0jhehSuR+E/pHA9Ctej4D8AAAAAAADgP7gehetRuN4/cT0K16Nw3T8pXI/C9SjcP+F6FK5H4do/mpmZmZmZ2T9SuB6F61HYPwrXo3A9Ctc/w/UoXI/C1T97FK5H4XrUPzMzMzMzM9M/7FG4HoXr0T+kcD0K16PQP7gehetRuM4/KVyPwvUozD+amZmZmZnJPwrXo3A9Csc/exSuR+F6xD/sUbgehevBP7gehetRuL4/mpmZmZmZuT97FK5H4Xq0P7gehetRuK4/exSuR+F6pD97FK5H4XqUPwAAAAAAAAAA",
          "dtype": "f8"
         },
         "xaxis": "x",
         "y": {
          "bdata": "oPO0yymf5j8RR2QQB5/dPxr5ArpUtdk/ogFajBnj1j8m80L7n73UPxLFReR/sdM/l4fYDz2T0j91+CLZDvPRP8/tnoQxONE/gU8kMI5G0D+EOdgZVmDPP5E8I9yTrM4/2cg5BJPGzT9M9i6wgxjMP3o906S2Dcs/Ja9hLqpeyj+gtUSG3b7JP6n1ZDZgKsk/s2avvMZnyD9X0bAb4LnHPzZ+eNlmHcc/MRooKL15xj/TF2Aat6nFPxKx0ctqEcU/2GWCGsF7xD+kzifDo+nDPyYnJsvSbcM/s2Ciy+Hpwj+NsPYck3PCP1Bt4cqq8cE/rpvsx7uGwT9N94h51iDBP1uoW1sjvcA/8VIljUFowD/l6BvLMw7AP+cV2GseQr8/ivKdBgqGvj96qmcFTfa9P88xNN98XL0/aQDSDzDZvD/84uwlEDm8PziUAaLCsbs/DGL90Nwluz+ohLZWj5K6P1hKm5HyCLo/EkxN1XKTuT9HA9I1HAO5P1kxzAf3grg/uqk81QPvtz/M6LBPT2G3PyOzYqW1/bY/XdVpG7SBuD8ECt/9Gu24Pxb8sNXccLk/Xz3lWRHvuT97w2wzCG26P9B2Jrqo/ro/0HnNWmKFuz82kPiKKBW8P769F3TUqrw/Qouf9aEovT+MIm544bq9P+EzoJh2aL4/P4t91fvrvj9OP3fErHm/P3NYCItjE8A/VOwF/IpawD/pMTYJf8DAP7HVodZ6CcE/H7QBR6tiwT/P9E8N7MbBP4Blp/BgGMI/JgtDc3d7wj9H+l8GAAHDP/PNuo+NdsM/QhZZeeD5wz9mqFWfGW3EPxgDTvGB88Q/quJ59T9yxT9DT4k+eRDGP7VhxTuR5MY/ENfCWIG9xz+vSUkqun7IP33eoHiCUck/pePjpiZQyj+2pwnQ6iPLPynwCHjbJcw/4O4pnyzhzD9OATGxxKDNP7EzvKaQxc4/8bgOC9Vwzz+2L/rcnwbQP/lufKE+t9A/Z69Y6gyK0T+BbtFd/bLSPxNItsbTldM/VGCBm5E11D+kR/g3irPVP5hcGjICjtc/EC37Y5L82j/lAgZo4SXfPzq9P4V5Fek/",
          "dtype": "f8"
         },
         "yaxis": "y"
        },
        {
         "line": {
          "color": "rgb(55,126,184)",
          "width": 2
         },
         "mode": "lines",
         "name": "adjust_pc_only",
         "type": "scatter",
         "x": {
          "bdata": "AAAAAAAAAAB7FK5H4XqUP3sUrkfheqQ/uB6F61G4rj97FK5H4Xq0P5qZmZmZmbk/uB6F61G4vj/sUbgehevBP3sUrkfhesQ/CtejcD0Kxz+amZmZmZnJPylcj8L1KMw/uB6F61G4zj+kcD0K16PQP+xRuB6F69E/MzMzMzMz0z97FK5H4XrUP8P1KFyPwtU/CtejcD0K1z9SuB6F61HYP5qZmZmZmdk/4XoUrkfh2j8pXI/C9SjcP3E9CtejcN0/uB6F61G43j8AAAAAAADgP6RwPQrXo+A/SOF6FK5H4T/sUbgehevhP4/C9Shcj+I/MzMzMzMz4z/Xo3A9CtfjP3sUrkfheuQ/H4XrUbge5T/D9Shcj8LlP2dmZmZmZuY/CtejcD0K5z+uR+F6FK7nP1K4HoXrUeg/9ihcj8L16D+amZmZmZnpPz4K16NwPeo/4XoUrkfh6j+F61G4HoXrPylcj8L1KOw/zczMzMzM7D9xPQrXo3DtPxWuR+F6FO4/uB6F61G47j9cj8L1KFzvPwAAAAAAAPA/",
          "dtype": "f8"
         },
         "xaxis": "x",
         "y": {
          "bdata": "sfnTeXie6D91h82NDADfPwfrcaQymdo/O52G25AC1z/fWNTNgafUP+NEsPhdTdM/da6rsodF0j8trAP7GYXRP59fk/LHltA/w9UIg1wxzz/Ia9EFe73NP71G8xkc3cw/zVDJZwfuyz8Q5pbhLfTKP/NJL3SaP8o/41F+O7q2yT8V4yM7nlzJP61qHkXu8cg/BcqpE4dxyD+Qt8tO7wXIPyNl/gXvm8c/eYWoxL42xz9b4OPN+d3GP6+Moim4ksY/zBAUJecxxj8fHN+jgNrFP9EPWl9yl8U/ucdGF2JSxT9j9rqdWRPFP3hOIbHOz8Q/WKUxKA6RxD8VR/TW5VfEP8y4b9WUGsQ/C08tW9npwz9h1gV2YrnDP+U4M4ITfMM/y0OUzixQwz9V4sauHSTDPxWXYY7z/sI/5w1/kwDawj+NvmnV/7TCP4Gacm6yksI/uwUi7bdywj/cclxJ5UzCP8AJe36ZJ8I/sMMkxDUBwj9i/lMpat7BPy9+ATu2wsE/L8tSmsSgwT9Jd6lvrH3BP59v435+YcE/",
          "dtype": "f8"
         },
         "yaxis": "y"
        },
        {
         "fill": "toself",
         "fillcolor": "rgba(55,126,184,0.1)",
         "hoverinfo": "skip",
         "line": {
          "color": "rgba(255,255,255,0)"
         },
         "showlegend": false,
         "type": "scatter",
         "x": {
          "bdata": "AAAAAAAAAAB7FK5H4XqUP3sUrkfheqQ/uB6F61G4rj97FK5H4Xq0P5qZmZmZmbk/uB6F61G4vj/sUbgehevBP3sUrkfhesQ/CtejcD0Kxz+amZmZmZnJPylcj8L1KMw/uB6F61G4zj+kcD0K16PQP+xRuB6F69E/MzMzMzMz0z97FK5H4XrUP8P1KFyPwtU/CtejcD0K1z9SuB6F61HYP5qZmZmZmdk/4XoUrkfh2j8pXI/C9SjcP3E9CtejcN0/uB6F61G43j8AAAAAAADgP6RwPQrXo+A/SOF6FK5H4T/sUbgehevhP4/C9Shcj+I/MzMzMzMz4z/Xo3A9CtfjP3sUrkfheuQ/H4XrUbge5T/D9Shcj8LlP2dmZmZmZuY/CtejcD0K5z+uR+F6FK7nP1K4HoXrUeg/9ihcj8L16D+amZmZmZnpPz4K16NwPeo/4XoUrkfh6j+F61G4HoXrPylcj8L1KOw/zczMzMzM7D9xPQrXo3DtPxWuR+F6FO4/uB6F61G47j9cj8L1KFzvPwAAAAAAAPA/AAAAAAAA8D9cj8L1KFzvP7gehetRuO4/Fa5H4XoU7j9xPQrXo3DtP83MzMzMzOw/KVyPwvUo7D+F61G4HoXrP+F6FK5H4eo/PgrXo3A96j+amZmZmZnpP/YoXI/C9eg/UrgehetR6D+uR+F6FK7nPwrXo3A9Cuc/Z2ZmZmZm5j/D9Shcj8LlPx+F61G4HuU/exSuR+F65D/Xo3A9CtfjPzMzMzMzM+M/j8L1KFyP4j/sUbgehevhP0jhehSuR+E/pHA9Ctej4D8AAAAAAADgP7gehetRuN4/cT0K16Nw3T8pXI/C9SjcP+F6FK5H4do/mpmZmZmZ2T9SuB6F61HYPwrXo3A9Ctc/w/UoXI/C1T97FK5H4XrUPzMzMzMzM9M/7FG4HoXr0T+kcD0K16PQP7gehetRuM4/KVyPwvUozD+amZmZmZnJPwrXo3A9Csc/exSuR+F6xD/sUbgehevBP7gehetRuL4/mpmZmZmZuT97FK5H4Xq0P7gehetRuK4/exSuR+F6pD97FK5H4XqUPwAAAAAAAAAA",
          "dtype": "f8"
         },
         "xaxis": "x",
         "y": {
          "bdata": "+eC+0GCv5z/j91Vob13dP9FERhpQ29g/OGzASwKB1T8645n8bQrTPyZDrKiI+dE/ercYn7fC0D8D7omzWTTQP5o2EiKGos4/5CJSTFGDzD8fH4Va5UDLP9r6DQR8U8o/1Nru8JN8yT8qBtbJFqjIP/4p33jQJ8g/DeNq7HGexz8IkTZ/ZFHHP8xT5eSFAcc/TYCYyAh7xj8GTHI+lBTGP2kQIc/vtsU//1KSzl9jxT88dDSXHRnFP3qHcjgo1cQ/FjoVmKN/xD+NVfrFxybEP9sr//hV5MM/JOzO3Jagwz9rFXGDQ2fDP0VulGMXL8M/PyYT4cLwwj/+fEBw5LzCPyAywOMqkcI/JiFBqxttwj+QbYCWkj7CP7Q8TMnQBcI/0CP7F5vdwT98Kr8/k7fBPyX4JXTblsE/FrgDHhVzwT+8sOmJ2FHBP4XF9EdiNsE/zFVJrFsYwT9eUME4V+/AP7ZFaZbGycA/CUH0DDOqwD9IuluYVYvAP5kJCH88cMA/2GDbxg5RwD9aOV6+ejDAP+0XR+CKF8A/Ucd/HXKrwj84tfQg3srCP4Y1ym168MI/xfL69i8Vwz98Qky6fjHDP1dGVXs4WMM/ys2MZmyFwz9alfdZc6rDP6q1+i0UzcM/fW/wlALvwz9ezOkgJxjEP7hj+gjsQMQ/BTadqAtnxD8ums4dqJDEP8ZjLYW+wsQ/FjUaO1byxD8yP4tVMjTFP/B8GQuXZsU/eD8fx/6jxT8sEag95/LFP3EkUG9ZMcY/qy6u/oVwxj9b1wS4b7/GP06jvlEtBMc/x/O0xY5Kxz+x4sOBOY7HP4LnErIq5Mc/5JHSGkhQyD96TJME1qLIP/O3vrodCsk/3bnbPO6AyT8aIyVfSvfJP70Tu14FaMo/joFXpVbiyj8iNRH312fLP7nAkYoCz8s/6Gl/b2RXzD/2xVf5REDNP8bGo956X84/oJLYL7xmzz843I5YCB3QP1HE39yz79A/8aMd1Ezc0T9Xan1C2tXSP3ClPsZXyNM/oEa0SDOh1D+Ezg6flUTWPz7OTGsfhNg/PZGdLhVX3D+Ei6LZVFHgP2kS6SKQjek/",
          "dtype": "f8"
         },
         "yaxis": "y"
        },
        {
         "line": {
          "color": "rgb(77,175,74)",
          "width": 2
         },
         "mode": "lines",
         "name": "both",
         "type": "scatter",
         "x": {
          "bdata": "AAAAAAAAAAB7FK5H4XqUP3sUrkfheqQ/uB6F61G4rj97FK5H4Xq0P5qZmZmZmbk/uB6F61G4vj/sUbgehevBP3sUrkfhesQ/CtejcD0Kxz+amZmZmZnJPylcj8L1KMw/uB6F61G4zj+kcD0K16PQP+xRuB6F69E/MzMzMzMz0z97FK5H4XrUP8P1KFyPwtU/CtejcD0K1z9SuB6F61HYP5qZmZmZmdk/4XoUrkfh2j8pXI/C9SjcP3E9CtejcN0/uB6F61G43j8AAAAAAADgP6RwPQrXo+A/SOF6FK5H4T/sUbgehevhP4/C9Shcj+I/MzMzMzMz4z/Xo3A9CtfjP3sUrkfheuQ/H4XrUbge5T/D9Shcj8LlP2dmZmZmZuY/CtejcD0K5z+uR+F6FK7nP1K4HoXrUeg/9ihcj8L16D+amZmZmZnpPz4K16NwPeo/4XoUrkfh6j+F61G4HoXrPylcj8L1KOw/zczMzMzM7D9xPQrXo3DtPxWuR+F6FO4/uB6F61G47j9cj8L1KFzvPwAAAAAAAPA/",
          "dtype": "f8"
         },
         "xaxis": "x",
         "y": {
          "bdata": "q4dvNGyq6D8J4l7wEDHfP2TEVtW70No/aekHzRwz1z+ljuCKMdrUP6kMONQgfNM/jAAogjp00j/TA6PxKbbRP4k1DM+SyNA/ZbMw5xaYzz9gYJ6T0CTOP5239a1eTM0/pe1kDARbzD/jWRuDQHrLPzUESdI/6Mo/AG/j2RtMyj/API/co8zJP0Xekl/EZsk/KDa+Rl74yD+X/xsAn5HIP1Wa/U4gJ8g/1yXcIn68xz9nv99FJWLHP2uaWdkrC8c/c5zQd+i1xj+719StR2XGPy10CNs2HcY/cPdHrSPTxT9P5Dv2G5PFPyfWwWieUMU/9VK/xzQNxT9EQkGoOtLEP5dT12TGlsQ/g4LAIRVlxD9MmfcyYjTEPyZO3XFz9MM/hTvvTyjFwz8rOq0m9pnDP1DncNRhbsM/iK7/rAFFwz8kMTpeeBTDP7m1Wlxz68I/xHDsc0/Hwj+8xLDSK5nCP+hhR/X0csI/rBeXJHdPwj9tUb5nRibCP6gNhX0MBMI/AH0US2zbwT954iqnibTBP+xFCcPPlcE/",
          "dtype": "f8"
         },
         "yaxis": "y"
        },
        {
         "fill": "toself",
         "fillcolor": "rgba(77,175,74,0.1)",
         "hoverinfo": "skip",
         "line": {
          "color": "rgba(255,255,255,0)"
         },
         "showlegend": false,
         "type": "scatter",
         "x": {
          "bdata": "AAAAAAAAAAB7FK5H4XqUP3sUrkfheqQ/uB6F61G4rj97FK5H4Xq0P5qZmZmZmbk/uB6F61G4vj/sUbgehevBP3sUrkfhesQ/CtejcD0Kxz+amZmZmZnJPylcj8L1KMw/uB6F61G4zj+kcD0K16PQP+xRuB6F69E/MzMzMzMz0z97FK5H4XrUP8P1KFyPwtU/CtejcD0K1z9SuB6F61HYP5qZmZmZmdk/4XoUrkfh2j8pXI/C9SjcP3E9CtejcN0/uB6F61G43j8AAAAAAADgP6RwPQrXo+A/SOF6FK5H4T/sUbgehevhP4/C9Shcj+I/MzMzMzMz4z/Xo3A9CtfjP3sUrkfheuQ/H4XrUbge5T/D9Shcj8LlP2dmZmZmZuY/CtejcD0K5z+uR+F6FK7nP1K4HoXrUeg/9ihcj8L16D+amZmZmZnpPz4K16NwPeo/4XoUrkfh6j+F61G4HoXrPylcj8L1KOw/zczMzMzM7D9xPQrXo3DtPxWuR+F6FO4/uB6F61G47j9cj8L1KFzvPwAAAAAAAPA/AAAAAAAA8D9cj8L1KFzvP7gehetRuO4/Fa5H4XoU7j9xPQrXo3DtP83MzMzMzOw/KVyPwvUo7D+F61G4HoXrP+F6FK5H4eo/PgrXo3A96j+amZmZmZnpP/YoXI/C9eg/UrgehetR6D+uR+F6FK7nPwrXo3A9Cuc/Z2ZmZmZm5j/D9Shcj8LlPx+F61G4HuU/exSuR+F65D/Xo3A9CtfjPzMzMzMzM+M/j8L1KFyP4j/sUbgehevhP0jhehSuR+E/pHA9Ctej4D8AAAAAAADgP7gehetRuN4/cT0K16Nw3T8pXI/C9SjcP+F6FK5H4do/mpmZmZmZ2T9SuB6F61HYPwrXo3A9Ctc/w/UoXI/C1T97FK5H4XrUPzMzMzMzM9M/7FG4HoXr0T+kcD0K16PQP7gehetRuM4/KVyPwvUozD+amZmZmZnJPwrXo3A9Csc/exSuR+F6xD/sUbgehevBP7gehetRuL4/mpmZmZmZuT97FK5H4Xq0P7gehetRuK4/exSuR+F6pD97FK5H4XqUPwAAAAAAAAAA",
          "dtype": "f8"
         },
         "xaxis": "x",
         "y": {
          "bdata": "6797Ap++5z/31MFV04LdP9BnqRqBCtk/9m2Gz8Kt1T/4vNJqKDvTP4ojal6wJdI/clk31mDv0D+S2slnfWDQP4YXYx1B+c4/oWvQPe3ezD/ebOSatpvLPwMG2VJ/uco//B9asZXgyT9CvFDKLA/JP1DYEJRApcg/jRlmhGAYyD9m+OUZ65/HP+kjX/mETcc/3ubSJYDvxj/gyN14/ZfGPyruxnBVOMY/ECU8cc/exT/0FQHcMY7FPztu3NBFQcU/jHlhbE30xD8xgSxD36nEP+b37yEsZcQ/grH2exkdxD+GjltWguLDP5THDQsDqsM/pXPa/RFuwz8yyPqjZTfDP/0uguomAcM/RURUNXHXwj+T6NiLK6jCP0j4+Q9sa8I/R7YrUvg/wj8iWJ/TphzCP1kbhJBq9cE/kndWnDPOwT8TKFTcyaLBP24AjxzWgME/WxBaPPdewT9I2ob6lTbBP3INtFtuE8E/GY6M+r3ywD+7iN8NNszAP7j/3AFyrMA/B7Uh1emIwD/r+h8WMmTAP3vMQ19HSsA/Xb/OJljhwj8HyjU44QTDP/lEB8HuLcM/mBst+aZbwz8fGp3BVoDDPz+hoU4wrMM/XrbajnvSwz8wr9qqwfvDPy3RfqunL8Q/BGsmnBBWxD81OiDgJobEP37lqL3Pu8Q/R7NdGFnnxD80HLt5RRfFP8PAsk1YSsU/BKTA03p9xT8FShbamMDFP8HALA658sU/MXgs32Usxj9WvIesD23GP0UypJFXrMY/uuR1xjn3xj8YOhyWtUPHP149md4ticc/dPAglEHVxz9FLn0YsCDIP1q/P4ODd8g/m8bW4RHVyD/aaL6vGDbJP54mfNQsmsk/gEY0LesVyj9ONlqHQIvKP3KFqWc8Acs/oZjGxQOAyz8agTifXPnLP3PEYC/Xf8w/GjCBED8rzT+E9+U7VOXNP067b2dy1c4/N2kSCT7fzz/xKSxG9VbQP5V9SEigKNE/T99mD4UU0j8ULXx71gvTP6anGC4U+dM/yPUFSpHS1D9SYO6qOnnWP9xkicp2uNg/+CAEkPaW3D+O931Fp2/gP2tPY2Y5luk/",
          "dtype": "f8"
         },
         "yaxis": "y"
        },
        {
         "error_x": {
          "array": {
           "bdata": "BYmGzNJPhz8ZDJwiU0GLP0QU3SpA+Hc/",
           "dtype": "f8"
          },
          "type": "data"
         },
         "marker": {
          "color": "skyblue",
          "line": {
           "color": "black",
           "width": 1
          }
         },
         "orientation": "h",
         "showlegend": false,
         "type": "bar",
         "x": {
          "bdata": "Z8bBFGIeyj/lu3Lj95rJP2XvRRUG3MY/",
          "dtype": "f8"
         },
         "xaxis": "x2",
         "y": [
          "adjust_pc_only",
          "both",
          "adjust_cs_only"
         ],
         "yaxis": "y2"
        }
       ],
       "layout": {
        "font": {
         "size": 16
        },
        "height": 400,
        "legend": {
         "font": {
          "size": 16
         },
         "title": {
          "text": "Optimizers"
         }
        },
        "margin": {
         "b": 50,
         "l": 50,
         "r": 50,
         "t": 60
        },
        "template": {
         "data": {
          "bar": [
           {
            "error_x": {
             "color": "#2a3f5f"
            },
            "error_y": {
             "color": "#2a3f5f"
            },
            "marker": {
             "line": {
              "color": "white",
              "width": 0.5
             },
             "pattern": {
              "fillmode": "overlay",
              "size": 10,
              "solidity": 0.2
             }
            },
            "type": "bar"
           }
          ],
          "barpolar": [
           {
            "marker": {
             "line": {
              "color": "white",
              "width": 0.5
             },
             "pattern": {
              "fillmode": "overlay",
              "size": 10,
              "solidity": 0.2
             }
            },
            "type": "barpolar"
           }
          ],
          "carpet": [
           {
            "aaxis": {
             "endlinecolor": "#2a3f5f",
             "gridcolor": "#C8D4E3",
             "linecolor": "#C8D4E3",
             "minorgridcolor": "#C8D4E3",
             "startlinecolor": "#2a3f5f"
            },
            "baxis": {
             "endlinecolor": "#2a3f5f",
             "gridcolor": "#C8D4E3",
             "linecolor": "#C8D4E3",
             "minorgridcolor": "#C8D4E3",
             "startlinecolor": "#2a3f5f"
            },
            "type": "carpet"
           }
          ],
          "choropleth": [
           {
            "colorbar": {
             "outlinewidth": 0,
             "ticks": ""
            },
            "type": "choropleth"
           }
          ],
          "contour": [
           {
            "colorbar": {
             "outlinewidth": 0,
             "ticks": ""
            },
            "colorscale": [
             [
              0,
              "#0d0887"
             ],
             [
              0.1111111111111111,
              "#46039f"
             ],
             [
              0.2222222222222222,
              "#7201a8"
             ],
             [
              0.3333333333333333,
              "#9c179e"
             ],
             [
              0.4444444444444444,
              "#bd3786"
             ],
             [
              0.5555555555555556,
              "#d8576b"
             ],
             [
              0.6666666666666666,
              "#ed7953"
             ],
             [
              0.7777777777777778,
              "#fb9f3a"
             ],
             [
              0.8888888888888888,
              "#fdca26"
             ],
             [
              1,
              "#f0f921"
             ]
            ],
            "type": "contour"
           }
          ],
          "contourcarpet": [
           {
            "colorbar": {
             "outlinewidth": 0,
             "ticks": ""
            },
            "type": "contourcarpet"
           }
          ],
          "heatmap": [
           {
            "colorbar": {
             "outlinewidth": 0,
             "ticks": ""
            },
            "colorscale": [
             [
              0,
              "#0d0887"
             ],
             [
              0.1111111111111111,
              "#46039f"
             ],
             [
              0.2222222222222222,
              "#7201a8"
             ],
             [
              0.3333333333333333,
              "#9c179e"
             ],
             [
              0.4444444444444444,
              "#bd3786"
             ],
             [
              0.5555555555555556,
              "#d8576b"
             ],
             [
              0.6666666666666666,
              "#ed7953"
             ],
             [
              0.7777777777777778,
              "#fb9f3a"
             ],
             [
              0.8888888888888888,
              "#fdca26"
             ],
             [
              1,
              "#f0f921"
             ]
            ],
            "type": "heatmap"
           }
          ],
          "histogram": [
           {
            "marker": {
             "pattern": {
              "fillmode": "overlay",
              "size": 10,
              "solidity": 0.2
             }
            },
            "type": "histogram"
           }
          ],
          "histogram2d": [
           {
            "colorbar": {
             "outlinewidth": 0,
             "ticks": ""
            },
            "colorscale": [
             [
              0,
              "#0d0887"
             ],
             [
              0.1111111111111111,
              "#46039f"
             ],
             [
              0.2222222222222222,
              "#7201a8"
             ],
             [
              0.3333333333333333,
              "#9c179e"
             ],
             [
              0.4444444444444444,
              "#bd3786"
             ],
             [
              0.5555555555555556,
              "#d8576b"
             ],
             [
              0.6666666666666666,
              "#ed7953"
             ],
             [
              0.7777777777777778,
              "#fb9f3a"
             ],
             [
              0.8888888888888888,
              "#fdca26"
             ],
             [
              1,
              "#f0f921"
             ]
            ],
            "type": "histogram2d"
           }
          ],
          "histogram2dcontour": [
           {
            "colorbar": {
             "outlinewidth": 0,
             "ticks": ""
            },
            "colorscale": [
             [
              0,
              "#0d0887"
             ],
             [
              0.1111111111111111,
              "#46039f"
             ],
             [
              0.2222222222222222,
              "#7201a8"
             ],
             [
              0.3333333333333333,
              "#9c179e"
             ],
             [
              0.4444444444444444,
              "#bd3786"
             ],
             [
              0.5555555555555556,
              "#d8576b"
             ],
             [
              0.6666666666666666,
              "#ed7953"
             ],
             [
              0.7777777777777778,
              "#fb9f3a"
             ],
             [
              0.8888888888888888,
              "#fdca26"
             ],
             [
              1,
              "#f0f921"
             ]
            ],
            "type": "histogram2dcontour"
           }
          ],
          "mesh3d": [
           {
            "colorbar": {
             "outlinewidth": 0,
             "ticks": ""
            },
            "type": "mesh3d"
           }
          ],
          "parcoords": [
           {
            "line": {
             "colorbar": {
              "outlinewidth": 0,
              "ticks": ""
             }
            },
            "type": "parcoords"
           }
          ],
          "pie": [
           {
            "automargin": true,
            "type": "pie"
           }
          ],
          "scatter": [
           {
            "fillpattern": {
             "fillmode": "overlay",
             "size": 10,
             "solidity": 0.2
            },
            "type": "scatter"
           }
          ],
          "scatter3d": [
           {
            "line": {
             "colorbar": {
              "outlinewidth": 0,
              "ticks": ""
             }
            },
            "marker": {
             "colorbar": {
              "outlinewidth": 0,
              "ticks": ""
             }
            },
            "type": "scatter3d"
           }
          ],
          "scattercarpet": [
           {
            "marker": {
             "colorbar": {
              "outlinewidth": 0,
              "ticks": ""
             }
            },
            "type": "scattercarpet"
           }
          ],
          "scattergeo": [
           {
            "marker": {
             "colorbar": {
              "outlinewidth": 0,
              "ticks": ""
             }
            },
            "type": "scattergeo"
           }
          ],
          "scattergl": [
           {
            "marker": {
             "colorbar": {
              "outlinewidth": 0,
              "ticks": ""
             }
            },
            "type": "scattergl"
           }
          ],
          "scattermap": [
           {
            "marker": {
             "colorbar": {
              "outlinewidth": 0,
              "ticks": ""
             }
            },
            "type": "scattermap"
           }
          ],
          "scattermapbox": [
           {
            "marker": {
             "colorbar": {
              "outlinewidth": 0,
              "ticks": ""
             }
            },
            "type": "scattermapbox"
           }
          ],
          "scatterpolar": [
           {
            "marker": {
             "colorbar": {
              "outlinewidth": 0,
              "ticks": ""
             }
            },
            "type": "scatterpolar"
           }
          ],
          "scatterpolargl": [
           {
            "marker": {
             "colorbar": {
              "outlinewidth": 0,
              "ticks": ""
             }
            },
            "type": "scatterpolargl"
           }
          ],
          "scatterternary": [
           {
            "marker": {
             "colorbar": {
              "outlinewidth": 0,
              "ticks": ""
             }
            },
            "type": "scatterternary"
           }
          ],
          "surface": [
           {
            "colorbar": {
             "outlinewidth": 0,
             "ticks": ""
            },
            "colorscale": [
             [
              0,
              "#0d0887"
             ],
             [
              0.1111111111111111,
              "#46039f"
             ],
             [
              0.2222222222222222,
              "#7201a8"
             ],
             [
              0.3333333333333333,
              "#9c179e"
             ],
             [
              0.4444444444444444,
              "#bd3786"
             ],
             [
              0.5555555555555556,
              "#d8576b"
             ],
             [
              0.6666666666666666,
              "#ed7953"
             ],
             [
              0.7777777777777778,
              "#fb9f3a"
             ],
             [
              0.8888888888888888,
              "#fdca26"
             ],
             [
              1,
              "#f0f921"
             ]
            ],
            "type": "surface"
           }
          ],
          "table": [
           {
            "cells": {
             "fill": {
              "color": "#EBF0F8"
             },
             "line": {
              "color": "white"
             }
            },
            "header": {
             "fill": {
              "color": "#C8D4E3"
             },
             "line": {
              "color": "white"
             }
            },
            "type": "table"
           }
          ]
         },
         "layout": {
          "annotationdefaults": {
           "arrowcolor": "#2a3f5f",
           "arrowhead": 0,
           "arrowwidth": 1
          },
          "autotypenumbers": "strict",
          "coloraxis": {
           "colorbar": {
            "outlinewidth": 0,
            "ticks": ""
           }
          },
          "colorscale": {
           "diverging": [
            [
             0,
             "#8e0152"
            ],
            [
             0.1,
             "#c51b7d"
            ],
            [
             0.2,
             "#de77ae"
            ],
            [
             0.3,
             "#f1b6da"
            ],
            [
             0.4,
             "#fde0ef"
            ],
            [
             0.5,
             "#f7f7f7"
            ],
            [
             0.6,
             "#e6f5d0"
            ],
            [
             0.7,
             "#b8e186"
            ],
            [
             0.8,
             "#7fbc41"
            ],
            [
             0.9,
             "#4d9221"
            ],
            [
             1,
             "#276419"
            ]
           ],
           "sequential": [
            [
             0,
             "#0d0887"
            ],
            [
             0.1111111111111111,
             "#46039f"
            ],
            [
             0.2222222222222222,
             "#7201a8"
            ],
            [
             0.3333333333333333,
             "#9c179e"
            ],
            [
             0.4444444444444444,
             "#bd3786"
            ],
            [
             0.5555555555555556,
             "#d8576b"
            ],
            [
             0.6666666666666666,
             "#ed7953"
            ],
            [
             0.7777777777777778,
             "#fb9f3a"
            ],
            [
             0.8888888888888888,
             "#fdca26"
            ],
            [
             1,
             "#f0f921"
            ]
           ],
           "sequentialminus": [
            [
             0,
             "#0d0887"
            ],
            [
             0.1111111111111111,
             "#46039f"
            ],
            [
             0.2222222222222222,
             "#7201a8"
            ],
            [
             0.3333333333333333,
             "#9c179e"
            ],
            [
             0.4444444444444444,
             "#bd3786"
            ],
            [
             0.5555555555555556,
             "#d8576b"
            ],
            [
             0.6666666666666666,
             "#ed7953"
            ],
            [
             0.7777777777777778,
             "#fb9f3a"
            ],
            [
             0.8888888888888888,
             "#fdca26"
            ],
            [
             1,
             "#f0f921"
            ]
           ]
          },
          "colorway": [
           "#636efa",
           "#EF553B",
           "#00cc96",
           "#ab63fa",
           "#FFA15A",
           "#19d3f3",
           "#FF6692",
           "#B6E880",
           "#FF97FF",
           "#FECB52"
          ],
          "font": {
           "color": "#2a3f5f"
          },
          "geo": {
           "bgcolor": "white",
           "lakecolor": "white",
           "landcolor": "white",
           "showlakes": true,
           "showland": true,
           "subunitcolor": "#C8D4E3"
          },
          "hoverlabel": {
           "align": "left"
          },
          "hovermode": "closest",
          "mapbox": {
           "style": "light"
          },
          "paper_bgcolor": "white",
          "plot_bgcolor": "white",
          "polar": {
           "angularaxis": {
            "gridcolor": "#EBF0F8",
            "linecolor": "#EBF0F8",
            "ticks": ""
           },
           "bgcolor": "white",
           "radialaxis": {
            "gridcolor": "#EBF0F8",
            "linecolor": "#EBF0F8",
            "ticks": ""
           }
          },
          "scene": {
           "xaxis": {
            "backgroundcolor": "white",
            "gridcolor": "#DFE8F3",
            "gridwidth": 2,
            "linecolor": "#EBF0F8",
            "showbackground": true,
            "ticks": "",
            "zerolinecolor": "#EBF0F8"
           },
           "yaxis": {
            "backgroundcolor": "white",
            "gridcolor": "#DFE8F3",
            "gridwidth": 2,
            "linecolor": "#EBF0F8",
            "showbackground": true,
            "ticks": "",
            "zerolinecolor": "#EBF0F8"
           },
           "zaxis": {
            "backgroundcolor": "white",
            "gridcolor": "#DFE8F3",
            "gridwidth": 2,
            "linecolor": "#EBF0F8",
            "showbackground": true,
            "ticks": "",
            "zerolinecolor": "#EBF0F8"
           }
          },
          "shapedefaults": {
           "line": {
            "color": "#2a3f5f"
           }
          },
          "ternary": {
           "aaxis": {
            "gridcolor": "#DFE8F3",
            "linecolor": "#A2B1C6",
            "ticks": ""
           },
           "baxis": {
            "gridcolor": "#DFE8F3",
            "linecolor": "#A2B1C6",
            "ticks": ""
           },
           "bgcolor": "white",
           "caxis": {
            "gridcolor": "#DFE8F3",
            "linecolor": "#A2B1C6",
            "ticks": ""
           }
          },
          "title": {
           "x": 0.05
          },
          "xaxis": {
           "automargin": true,
           "gridcolor": "#EBF0F8",
           "linecolor": "#EBF0F8",
           "ticks": "",
           "title": {
            "standoff": 15
           },
           "zerolinecolor": "#EBF0F8",
           "zerolinewidth": 2
          },
          "yaxis": {
           "automargin": true,
           "gridcolor": "#EBF0F8",
           "linecolor": "#EBF0F8",
           "ticks": "",
           "title": {
            "standoff": 15
           },
           "zerolinecolor": "#EBF0F8",
           "zerolinewidth": 2
          }
         }
        },
        "width": 1800,
        "xaxis": {
         "anchor": "y",
         "domain": [
          0,
          0.51
         ],
         "title": {
          "text": "Normalized Trials"
         }
        },
        "xaxis2": {
         "anchor": "y2",
         "domain": [
          0.66,
          1
         ],
         "title": {
          "text": "AUC"
         }
        },
        "yaxis": {
         "anchor": "x",
         "domain": [
          0,
          1
         ],
         "title": {
          "text": "Normalized Inc-Performance"
         }
        },
        "yaxis2": {
         "anchor": "x2",
         "domain": [
          0,
          1
         ],
         "title": {
          "text": "Optimizer"
         }
        }
       }
      }
     },
     "metadata": {},
     "output_type": "display_data"
    }
   ],
   "source": [
    "plot_one_thing('adjust_method')"
   ]
  },
  {
   "cell_type": "markdown",
   "id": "7ed93dcb",
   "metadata": {},
   "source": [
    "# Create Table"
   ]
  },
  {
   "cell_type": "code",
   "execution_count": 140,
   "id": "a8923469",
   "metadata": {},
   "outputs": [
    {
     "name": "stderr",
     "output_type": "stream",
     "text": [
      "/tmp/ipykernel_27098/1979927433.py:3: DeprecationWarning:\n",
      "\n",
      "DataFrameGroupBy.apply operated on the grouping columns. This behavior is deprecated, and in a future version of pandas the grouping columns will be excluded from the operation. Either pass `include_groups=False` to exclude the groupings or explicitly select the grouping columns after groupby to silence this warning.\n",
      "\n"
     ]
    }
   ],
   "source": [
    "auc_per_seed = (\n",
    "        df.groupby([\"optimizer_id\", \"seed\"])\n",
    "        .apply(lambda group: trapz(group.sort_values(\"n_trials_norm\")[\"trial_value__cost_inc_norm\"],\n",
    "                                   group.sort_values(\"n_trials_norm\")[\"n_trials_norm\"]))\n",
    "        .reset_index(name=\"auc\")\n",
    "    )\n",
    "\n",
    "# Compute mean and sem AUC per optimizer\n",
    "auc_values = auc_per_seed.groupby(\"optimizer_id\").agg(\n",
    "    auc_mean=('auc', 'mean'),\n",
    "    auc_sem=('auc', 'sem')\n",
    ").sort_values(\"auc_mean\", ascending=False).reset_index()\n"
   ]
  },
  {
   "cell_type": "code",
   "execution_count": 141,
   "id": "65afb7d7",
   "metadata": {},
   "outputs": [
    {
     "data": {
      "text/plain": [
       "'\\\\begin{tabular}{llrrrr}\\n\\\\toprule\\n & optimizer_id & auc_mean & auc_sem & final_perf_mean & final_perf_sem \\\\\\\\\\n\\\\midrule\\n441 & fanova_adjust_cs_default_adjust_prev_cfgs_true_no_retrain_set_to_incumbent_thresh_0-075-0 & 0.178000 & 0.005000 & 0.073000 & 0.002000 \\\\\\\\\\n418 & fanova_adjust_cs_no_adjust_prev_cfgs_true_no_retrain_set_to_random_thresh_cos & 0.190000 & 0.004000 & 0.078000 & 0.003000 \\\\\\\\\\n440 & fanova_adjust_cs_default_adjust_prev_cfgs_true_no_retrain_set_to_incumbent_thresh_0-down & 0.180000 & 0.006000 & 0.080000 & 0.007000 \\\\\\\\\\n433 & fanova_adjust_cs_default_cs_proba_hpi_adjust_prev_cfgs_true_no_retrain_set_to_incumbent_thresh_cos & 0.186000 & 0.012000 & 0.082000 & 0.003000 \\\\\\\\\\n414 & fanova_adjust_cs_default_cs_proba_hpi_adjust_prev_cfgs_true_no_retrain_set_to_incumbent_thresh_down-0 & 0.190000 & 0.008000 & 0.082000 & 0.003000 \\\\\\\\\\n431 & fanova_adjust_cs_no_adjust_prev_cfgs_true_no_retrain_set_to_incumbent_thresh_cos & 0.187000 & 0.010000 & 0.082000 & 0.004000 \\\\\\\\\\n407 & fanova_adjust_cs_random_adjust_prev_cfgs_true_no_retrain_set_to_incumbent_thresh_0-up-0 & 0.191000 & 0.007000 & 0.082000 & 0.000000 \\\\\\\\\\n435 & fanova_adjust_cs_no_adjust_prev_cfgs_true_no_retrain_set_to_default_thresh_0-down-0 & 0.185000 & 0.007000 & 0.082000 & 0.004000 \\\\\\\\\\n423 & fanova_adjust_cs_default_adjust_prev_cfgs_true_no_retrain_set_to_incumbent_thresh_cos & 0.188000 & 0.007000 & 0.083000 & 0.007000 \\\\\\\\\\n419 & fanova_adjust_cs_default_adjust_prev_cfgs_no_thresh_05 & 0.189000 & 0.002000 & 0.083000 & 0.006000 \\\\\\\\\\n437 & fanova_adjust_cs_random_cs_proba_hpi_adjust_prev_cfgs_no_thresh_0-down-0 & 0.183000 & 0.005000 & 0.084000 & 0.003000 \\\\\\\\\\n406 & fanova_adjust_cs_default_cs_proba_hpi_adjust_prev_cfgs_true_no_retrain_set_to_random_thresh_down-0 & 0.191000 & 0.008000 & 0.084000 & 0.008000 \\\\\\\\\\n439 & fanova_adjust_cs_random_cs_proba_hpi_adjust_prev_cfgs_no_thresh_0-down-0-fine & 0.182000 & 0.003000 & 0.084000 & 0.004000 \\\\\\\\\\n399 & fanova_adjust_cs_default_adjust_prev_cfgs_true_no_retrain_set_to_random_thresh_0-up-0 & 0.192000 & 0.008000 & 0.084000 & 0.005000 \\\\\\\\\\n428 & fanova_adjust_cs_default_cs_proba_hpi_adjust_prev_cfgs_true_no_retrain_set_to_random_thresh_0-up-0 & 0.187000 & 0.010000 & 0.084000 & 0.006000 \\\\\\\\\\n385 & fanova_adjust_cs_default_cs_proba_hpi_adjust_prev_cfgs_no_thresh_cos & 0.193000 & 0.007000 & 0.085000 & 0.004000 \\\\\\\\\\n305 & fanova_adjust_cs_incumbent_adjust_prev_cfgs_true_no_retrain_set_to_random_thresh_05 & 0.198000 & 0.006000 & 0.085000 & 0.003000 \\\\\\\\\\n332 & fanova_adjust_cs_default_cs_proba_hpi_adjust_prev_cfgs_true_no_retrain_set_to_incumbent_thresh_0-up-0 & 0.197000 & 0.002000 & 0.085000 & 0.004000 \\\\\\\\\\n434 & fanova_adjust_cs_default_adjust_prev_cfgs_no_thresh_0-down-0 & 0.186000 & 0.008000 & 0.085000 & 0.008000 \\\\\\\\\\n392 & fanova_adjust_cs_incumbent_cs_proba_hpi_adjust_prev_cfgs_true_no_retrain_set_to_incumbent_thresh_05 & 0.193000 & 0.008000 & 0.086000 & 0.001000 \\\\\\\\\\n\\\\bottomrule\\n\\\\end{tabular}\\n'"
      ]
     },
     "execution_count": 141,
     "metadata": {},
     "output_type": "execute_result"
    }
   ],
   "source": [
    "merge = pd.merge(auc_values, df, on='optimizer_id', how='left')\n",
    "merge = merge.drop_duplicates(subset=['optimizer_id'])\n",
    "merge = merge[['optimizer_id', 'auc_mean', 'auc_sem']]\n",
    "# merge = merge[['optimizer_id', 'hpi_method', 'adjust_cs', 'cs_method', 'pc_method', 'thresh', 'adjust_method', 'auc_mean', 'auc_sem']]\n",
    "final_perf = df[df['n_trials_norm'] == 1].groupby(['optimizer_id','seed']).agg({'trial_value__cost_inc_norm':'mean'}).groupby('optimizer_id').agg(\n",
    "    final_perf_mean=('trial_value__cost_inc_norm', 'mean'),\n",
    "    final_perf_sem=('trial_value__cost_inc_norm', 'sem')\n",
    ").sort_values(\"final_perf_mean\", ascending=False).reset_index()\n",
    "\n",
    "merge = pd.merge(final_perf, merge, on='optimizer_id', how='right')\n",
    "merge = merge[['optimizer_id', 'auc_mean','auc_sem', 'final_perf_mean', 'final_perf_sem']].sort_values(by='final_perf_mean', ascending=True)\n",
    "merge = merge.apply(lambda col: col.round(3) if col.name in ['auc_mean', 'auc_sem', 'final_perf_mean', 'final_perf_sem'] else col)\n",
    "merge.head(20).to_latex()"
   ]
  },
  {
   "cell_type": "code",
   "execution_count": 142,
   "id": "713d66b8",
   "metadata": {},
   "outputs": [
    {
     "data": {
      "application/vnd.microsoft.datawrangler.viewer.v0+json": {
       "columns": [
        {
         "name": "index",
         "rawType": "int64",
         "type": "integer"
        },
        {
         "name": "optimizer_id",
         "rawType": "object",
         "type": "string"
        },
        {
         "name": "auc_mean",
         "rawType": "float64",
         "type": "float"
        },
        {
         "name": "auc_sem",
         "rawType": "float64",
         "type": "float"
        },
        {
         "name": "final_perf_mean",
         "rawType": "float64",
         "type": "float"
        },
        {
         "name": "final_perf_sem",
         "rawType": "float64",
         "type": "float"
        }
       ],
       "ref": "9e7e68c2-418e-4cd0-8eb4-cc7cf837bfd8",
       "rows": [
        [
         "441",
         "fanova_adjust_cs_default_adjust_prev_cfgs_true_no_retrain_set_to_incumbent_thresh_0-075-0",
         "0.178",
         "0.005",
         "0.073",
         "0.002"
        ],
        [
         "440",
         "fanova_adjust_cs_default_adjust_prev_cfgs_true_no_retrain_set_to_incumbent_thresh_0-down",
         "0.18",
         "0.006",
         "0.08",
         "0.007"
        ],
        [
         "439",
         "fanova_adjust_cs_random_cs_proba_hpi_adjust_prev_cfgs_no_thresh_0-down-0-fine",
         "0.182",
         "0.003",
         "0.084",
         "0.004"
        ],
        [
         "438",
         "fanova_adjust_cs_no_adjust_prev_cfgs_true_no_retrain_set_to_default_thresh_0-075-0",
         "0.183",
         "0.006",
         "0.09",
         "0.003"
        ],
        [
         "437",
         "fanova_adjust_cs_random_cs_proba_hpi_adjust_prev_cfgs_no_thresh_0-down-0",
         "0.183",
         "0.005",
         "0.084",
         "0.003"
        ],
        [
         "436",
         "fanova_adjust_cs_default_adjust_prev_cfgs_true_no_retrain_set_to_random_thresh_0-down-0-fine",
         "0.185",
         "0.012",
         "0.09",
         "0.002"
        ],
        [
         "435",
         "fanova_adjust_cs_no_adjust_prev_cfgs_true_no_retrain_set_to_default_thresh_0-down-0",
         "0.185",
         "0.007",
         "0.082",
         "0.004"
        ],
        [
         "433",
         "fanova_adjust_cs_default_cs_proba_hpi_adjust_prev_cfgs_true_no_retrain_set_to_incumbent_thresh_cos",
         "0.186",
         "0.012",
         "0.082",
         "0.003"
        ],
        [
         "434",
         "fanova_adjust_cs_default_adjust_prev_cfgs_no_thresh_0-down-0",
         "0.186",
         "0.008",
         "0.085",
         "0.008"
        ],
        [
         "426",
         "fanova_adjust_cs_no_adjust_prev_cfgs_true_no_retrain_set_to_random_thresh_0-down-0",
         "0.187",
         "0.005",
         "0.088",
         "0.006"
        ],
        [
         "427",
         "fanova_adjust_cs_no_adjust_prev_cfgs_true_no_retrain_set_to_incumbent_thresh_0-075-0",
         "0.187",
         "0.003",
         "0.088",
         "0.004"
        ],
        [
         "429",
         "fanova_adjust_cs_default_cs_proba_hpi_adjust_prev_cfgs_true_no_retrain_set_to_default_thresh_down-0",
         "0.187",
         "0.001",
         "0.086",
         "0.003"
        ],
        [
         "428",
         "fanova_adjust_cs_default_cs_proba_hpi_adjust_prev_cfgs_true_no_retrain_set_to_random_thresh_0-up-0",
         "0.187",
         "0.01",
         "0.084",
         "0.006"
        ],
        [
         "430",
         "fanova_adjust_cs_default_adjust_prev_cfgs_true_no_retrain_set_to_random_thresh_down-0",
         "0.187",
         "0.012",
         "0.093",
         "0.005"
        ],
        [
         "431",
         "fanova_adjust_cs_no_adjust_prev_cfgs_true_no_retrain_set_to_incumbent_thresh_cos",
         "0.187",
         "0.01",
         "0.082",
         "0.004"
        ],
        [
         "432",
         "fanova_adjust_cs_random_adjust_prev_cfgs_true_no_retrain_set_to_random_thresh_0-down",
         "0.187",
         "0.006",
         "0.09",
         "0.005"
        ],
        [
         "425",
         "fanova_adjust_cs_random_cs_proba_hpi_adjust_prev_cfgs_true_no_retrain_set_to_default_thresh_075",
         "0.188",
         "0.005",
         "0.093",
         "0.008"
        ],
        [
         "423",
         "fanova_adjust_cs_default_adjust_prev_cfgs_true_no_retrain_set_to_incumbent_thresh_cos",
         "0.188",
         "0.007",
         "0.083",
         "0.007"
        ],
        [
         "424",
         "fanova_adjust_cs_default_adjust_prev_cfgs_true_no_retrain_set_to_default_thresh_down-0",
         "0.188",
         "0.011",
         "0.089",
         "0.009"
        ],
        [
         "419",
         "fanova_adjust_cs_default_adjust_prev_cfgs_no_thresh_05",
         "0.189",
         "0.002",
         "0.083",
         "0.006"
        ],
        [
         "421",
         "fanova_adjust_cs_no_adjust_prev_cfgs_true_no_retrain_set_to_random_thresh_0-down",
         "0.189",
         "0.015",
         "0.089",
         "0.008"
        ],
        [
         "422",
         "fanova_adjust_cs_incumbent_adjust_prev_cfgs_true_no_retrain_set_to_default_thresh_075",
         "0.189",
         "0.008",
         "0.091",
         "0.005"
        ],
        [
         "420",
         "fanova_adjust_cs_random_adjust_prev_cfgs_no_thresh_0-down-0",
         "0.189",
         "0.009",
         "0.089",
         "0.002"
        ],
        [
         "412",
         "fanova_adjust_cs_no_adjust_prev_cfgs_true_no_retrain_set_to_incumbent_thresh_down-0",
         "0.19",
         "0.006",
         "0.092",
         "0.001"
        ],
        [
         "414",
         "fanova_adjust_cs_default_cs_proba_hpi_adjust_prev_cfgs_true_no_retrain_set_to_incumbent_thresh_down-0",
         "0.19",
         "0.008",
         "0.082",
         "0.003"
        ],
        [
         "416",
         "fanova_adjust_cs_random_cs_proba_hpi_adjust_prev_cfgs_true_no_retrain_set_to_random_thresh_down-0",
         "0.19",
         "0.006",
         "0.087",
         "0.003"
        ],
        [
         "417",
         "fanova_adjust_cs_no_adjust_prev_cfgs_true_no_retrain_set_to_default_thresh_05",
         "0.19",
         "0.002",
         "0.087",
         "0.007"
        ],
        [
         "413",
         "fanova_adjust_cs_default_adjust_prev_cfgs_true_no_retrain_set_to_random_thresh_0-075-0",
         "0.19",
         "0.007",
         "0.091",
         "0.003"
        ],
        [
         "415",
         "fanova_adjust_cs_random_adjust_prev_cfgs_no_thresh_down-0",
         "0.19",
         "0.011",
         "0.095",
         "0.007"
        ],
        [
         "418",
         "fanova_adjust_cs_no_adjust_prev_cfgs_true_no_retrain_set_to_random_thresh_cos",
         "0.19",
         "0.004",
         "0.078",
         "0.003"
        ],
        [
         "411",
         "fanova_adjust_cs_default_cs_proba_hpi_adjust_prev_cfgs_true_no_retrain_set_to_default_thresh_05",
         "0.191",
         "0.001",
         "0.091",
         "0.005"
        ],
        [
         "406",
         "fanova_adjust_cs_default_cs_proba_hpi_adjust_prev_cfgs_true_no_retrain_set_to_random_thresh_down-0",
         "0.191",
         "0.008",
         "0.084",
         "0.008"
        ],
        [
         "409",
         "SMAC3-MO-RF",
         "0.191",
         "0.003",
         "0.091",
         "0.005"
        ],
        [
         "407",
         "fanova_adjust_cs_random_adjust_prev_cfgs_true_no_retrain_set_to_incumbent_thresh_0-up-0",
         "0.191",
         "0.007",
         "0.082",
         "0.0"
        ],
        [
         "410",
         "fanova_adjust_cs_incumbent_adjust_prev_cfgs_true_no_retrain_set_to_incumbent_thresh_down-0",
         "0.191",
         "0.002",
         "0.086",
         "0.003"
        ],
        [
         "408",
         "fanova_adjust_cs_no_adjust_prev_cfgs_true_no_retrain_set_to_incumbent_thresh_05",
         "0.191",
         "0.005",
         "0.092",
         "0.001"
        ],
        [
         "396",
         "fanova_adjust_cs_no_adjust_prev_cfgs_true_no_retrain_set_to_incumbent_thresh_0-up-0",
         "0.192",
         "0.002",
         "0.091",
         "0.003"
        ],
        [
         "397",
         "fanova_adjust_cs_no_adjust_prev_cfgs_true_no_retrain_set_to_random_thresh_05",
         "0.192",
         "0.008",
         "0.089",
         "0.004"
        ],
        [
         "405",
         "fanova_adjust_cs_random_cs_proba_hpi_adjust_prev_cfgs_true_no_retrain_set_to_incumbent_thresh_0-up-0",
         "0.192",
         "0.003",
         "0.089",
         "0.002"
        ],
        [
         "400",
         "fanova_adjust_cs_random_adjust_prev_cfgs_no_thresh_0-down",
         "0.192",
         "0.003",
         "0.096",
         "0.005"
        ],
        [
         "404",
         "fanova_adjust_cs_random_adjust_prev_cfgs_true_no_retrain_set_to_default_thresh_0-down-0-fine",
         "0.192",
         "0.005",
         "0.089",
         "0.002"
        ],
        [
         "401",
         "fanova_adjust_cs_no_adjust_prev_cfgs_no_thresh_down-0",
         "0.192",
         "0.011",
         "0.09",
         "0.003"
        ],
        [
         "402",
         "fanova_adjust_cs_random_adjust_prev_cfgs_no_thresh_075",
         "0.192",
         "0.009",
         "0.09",
         "0.005"
        ],
        [
         "398",
         "fanova_adjust_cs_default_cs_proba_hpi_adjust_prev_cfgs_no_thresh_down-0",
         "0.192",
         "0.005",
         "0.094",
         "0.008"
        ],
        [
         "395",
         "fanova_adjust_cs_incumbent_cs_proba_hpi_adjust_prev_cfgs_true_no_retrain_set_to_default_thresh_0-075-0",
         "0.192",
         "0.005",
         "0.091",
         "0.006"
        ],
        [
         "399",
         "fanova_adjust_cs_default_adjust_prev_cfgs_true_no_retrain_set_to_random_thresh_0-up-0",
         "0.192",
         "0.008",
         "0.084",
         "0.005"
        ],
        [
         "403",
         "fanova_adjust_cs_random_cs_proba_hpi_adjust_prev_cfgs_true_no_retrain_set_to_incumbent_thresh_0-075-0",
         "0.192",
         "0.006",
         "0.093",
         "0.006"
        ],
        [
         "394",
         "fanova_adjust_cs_random_cs_proba_hpi_adjust_prev_cfgs_true_no_retrain_set_to_incumbent_thresh_05",
         "0.192",
         "0.006",
         "0.087",
         "0.007"
        ],
        [
         "385",
         "fanova_adjust_cs_default_cs_proba_hpi_adjust_prev_cfgs_no_thresh_cos",
         "0.193",
         "0.007",
         "0.085",
         "0.004"
        ],
        [
         "391",
         "fanova_adjust_cs_random_cs_proba_hpi_adjust_prev_cfgs_true_no_retrain_set_to_incumbent_thresh_0-down",
         "0.193",
         "0.01",
         "0.099",
         "0.006"
        ]
       ],
       "shape": {
        "columns": 5,
        "rows": 442
       }
      },
      "text/html": [
       "<div>\n",
       "<style scoped>\n",
       "    .dataframe tbody tr th:only-of-type {\n",
       "        vertical-align: middle;\n",
       "    }\n",
       "\n",
       "    .dataframe tbody tr th {\n",
       "        vertical-align: top;\n",
       "    }\n",
       "\n",
       "    .dataframe thead th {\n",
       "        text-align: right;\n",
       "    }\n",
       "</style>\n",
       "<table border=\"1\" class=\"dataframe\">\n",
       "  <thead>\n",
       "    <tr style=\"text-align: right;\">\n",
       "      <th></th>\n",
       "      <th>optimizer_id</th>\n",
       "      <th>auc_mean</th>\n",
       "      <th>auc_sem</th>\n",
       "      <th>final_perf_mean</th>\n",
       "      <th>final_perf_sem</th>\n",
       "    </tr>\n",
       "  </thead>\n",
       "  <tbody>\n",
       "    <tr>\n",
       "      <th>441</th>\n",
       "      <td>fanova_adjust_cs_default_adjust_prev_cfgs_true...</td>\n",
       "      <td>0.178</td>\n",
       "      <td>0.005</td>\n",
       "      <td>0.073</td>\n",
       "      <td>0.002</td>\n",
       "    </tr>\n",
       "    <tr>\n",
       "      <th>440</th>\n",
       "      <td>fanova_adjust_cs_default_adjust_prev_cfgs_true...</td>\n",
       "      <td>0.180</td>\n",
       "      <td>0.006</td>\n",
       "      <td>0.080</td>\n",
       "      <td>0.007</td>\n",
       "    </tr>\n",
       "    <tr>\n",
       "      <th>439</th>\n",
       "      <td>fanova_adjust_cs_random_cs_proba_hpi_adjust_pr...</td>\n",
       "      <td>0.182</td>\n",
       "      <td>0.003</td>\n",
       "      <td>0.084</td>\n",
       "      <td>0.004</td>\n",
       "    </tr>\n",
       "    <tr>\n",
       "      <th>438</th>\n",
       "      <td>fanova_adjust_cs_no_adjust_prev_cfgs_true_no_r...</td>\n",
       "      <td>0.183</td>\n",
       "      <td>0.006</td>\n",
       "      <td>0.090</td>\n",
       "      <td>0.003</td>\n",
       "    </tr>\n",
       "    <tr>\n",
       "      <th>437</th>\n",
       "      <td>fanova_adjust_cs_random_cs_proba_hpi_adjust_pr...</td>\n",
       "      <td>0.183</td>\n",
       "      <td>0.005</td>\n",
       "      <td>0.084</td>\n",
       "      <td>0.003</td>\n",
       "    </tr>\n",
       "    <tr>\n",
       "      <th>...</th>\n",
       "      <td>...</td>\n",
       "      <td>...</td>\n",
       "      <td>...</td>\n",
       "      <td>...</td>\n",
       "      <td>...</td>\n",
       "    </tr>\n",
       "    <tr>\n",
       "      <th>2</th>\n",
       "      <td>fanova_adjust_cs_default_adjust_prev_cfgs_true...</td>\n",
       "      <td>0.268</td>\n",
       "      <td>0.054</td>\n",
       "      <td>0.213</td>\n",
       "      <td>0.050</td>\n",
       "    </tr>\n",
       "    <tr>\n",
       "      <th>4</th>\n",
       "      <td>fanova_adjust_cs_no_adjust_prev_cfgs_true_retr...</td>\n",
       "      <td>0.268</td>\n",
       "      <td>0.054</td>\n",
       "      <td>0.211</td>\n",
       "      <td>0.050</td>\n",
       "    </tr>\n",
       "    <tr>\n",
       "      <th>3</th>\n",
       "      <td>fanova_adjust_cs_random_cs_proba_hpi_adjust_pr...</td>\n",
       "      <td>0.268</td>\n",
       "      <td>0.056</td>\n",
       "      <td>0.215</td>\n",
       "      <td>0.049</td>\n",
       "    </tr>\n",
       "    <tr>\n",
       "      <th>0</th>\n",
       "      <td>fanova_adjust_cs_random_cs_proba_hpi_adjust_pr...</td>\n",
       "      <td>0.269</td>\n",
       "      <td>0.055</td>\n",
       "      <td>0.213</td>\n",
       "      <td>0.051</td>\n",
       "    </tr>\n",
       "    <tr>\n",
       "      <th>1</th>\n",
       "      <td>fanova_adjust_cs_random_adjust_prev_cfgs_true_...</td>\n",
       "      <td>0.269</td>\n",
       "      <td>0.054</td>\n",
       "      <td>0.213</td>\n",
       "      <td>0.050</td>\n",
       "    </tr>\n",
       "  </tbody>\n",
       "</table>\n",
       "<p>442 rows × 5 columns</p>\n",
       "</div>"
      ],
      "text/plain": [
       "                                          optimizer_id  auc_mean  auc_sem  \\\n",
       "441  fanova_adjust_cs_default_adjust_prev_cfgs_true...     0.178    0.005   \n",
       "440  fanova_adjust_cs_default_adjust_prev_cfgs_true...     0.180    0.006   \n",
       "439  fanova_adjust_cs_random_cs_proba_hpi_adjust_pr...     0.182    0.003   \n",
       "438  fanova_adjust_cs_no_adjust_prev_cfgs_true_no_r...     0.183    0.006   \n",
       "437  fanova_adjust_cs_random_cs_proba_hpi_adjust_pr...     0.183    0.005   \n",
       "..                                                 ...       ...      ...   \n",
       "2    fanova_adjust_cs_default_adjust_prev_cfgs_true...     0.268    0.054   \n",
       "4    fanova_adjust_cs_no_adjust_prev_cfgs_true_retr...     0.268    0.054   \n",
       "3    fanova_adjust_cs_random_cs_proba_hpi_adjust_pr...     0.268    0.056   \n",
       "0    fanova_adjust_cs_random_cs_proba_hpi_adjust_pr...     0.269    0.055   \n",
       "1    fanova_adjust_cs_random_adjust_prev_cfgs_true_...     0.269    0.054   \n",
       "\n",
       "     final_perf_mean  final_perf_sem  \n",
       "441            0.073           0.002  \n",
       "440            0.080           0.007  \n",
       "439            0.084           0.004  \n",
       "438            0.090           0.003  \n",
       "437            0.084           0.003  \n",
       "..               ...             ...  \n",
       "2              0.213           0.050  \n",
       "4              0.211           0.050  \n",
       "3              0.215           0.049  \n",
       "0              0.213           0.051  \n",
       "1              0.213           0.050  \n",
       "\n",
       "[442 rows x 5 columns]"
      ]
     },
     "execution_count": 142,
     "metadata": {},
     "output_type": "execute_result"
    }
   ],
   "source": [
    "merge.sort_values(by='auc_mean', ascending=True)"
   ]
  },
  {
   "cell_type": "markdown",
   "id": "aa7618ba",
   "metadata": {},
   "source": [
    "# Final Perfromance"
   ]
  },
  {
   "cell_type": "code",
   "execution_count": 143,
   "id": "8e26936a",
   "metadata": {},
   "outputs": [
    {
     "name": "stdout",
     "output_type": "stream",
     "text": [
      "['SMAC3-MO-RF'\n",
      " 'fanova_adjust_cs_default_adjust_prev_cfgs_true_no_retrain_set_to_incumbent_thresh_0-075-0']\n"
     ]
    },
    {
     "name": "stderr",
     "output_type": "stream",
     "text": [
      "/tmp/ipykernel_27098/3449863810.py:27: DeprecationWarning:\n",
      "\n",
      "DataFrameGroupBy.apply operated on the grouping columns. This behavior is deprecated, and in a future version of pandas the grouping columns will be excluded from the operation. Either pass `include_groups=False` to exclude the groupings or explicitly select the grouping columns after groupby to silence this warning.\n",
      "\n"
     ]
    },
    {
     "data": {
      "application/vnd.plotly.v1+json": {
       "config": {
        "plotlyServerURL": "https://plot.ly"
       },
       "data": [
        {
         "line": {
          "color": "rgb(228,26,28)",
          "width": 2
         },
         "mode": "lines",
         "name": "SMAC3-MO-RF",
         "type": "scatter",
         "x": {
          "bdata": "AAAAAAAAAAB7FK5H4XqUP3sUrkfheqQ/uB6F61G4rj97FK5H4Xq0P5qZmZmZmbk/uB6F61G4vj/sUbgehevBP3sUrkfhesQ/CtejcD0Kxz+amZmZmZnJPylcj8L1KMw/uB6F61G4zj+kcD0K16PQP+xRuB6F69E/MzMzMzMz0z97FK5H4XrUP8P1KFyPwtU/CtejcD0K1z9SuB6F61HYP5qZmZmZmdk/4XoUrkfh2j8pXI/C9SjcP3E9CtejcN0/uB6F61G43j8AAAAAAADgP6RwPQrXo+A/SOF6FK5H4T/sUbgehevhP4/C9Shcj+I/MzMzMzMz4z/Xo3A9CtfjP3sUrkfheuQ/H4XrUbge5T/D9Shcj8LlP2dmZmZmZuY/CtejcD0K5z+uR+F6FK7nP1K4HoXrUeg/9ihcj8L16D+amZmZmZnpPz4K16NwPeo/4XoUrkfh6j+F61G4HoXrPylcj8L1KOw/zczMzMzM7D9xPQrXo3DtPxWuR+F6FO4/uB6F61G47j9cj8L1KFzvPwAAAAAAAPA/",
          "dtype": "f8"
         },
         "xaxis": "x",
         "y": {
          "bdata": "6H/szP775z8wOYjbL27eP6P+5CB0Rdo/m/oWL8IQ1z+9uAqpcx3VP2lB0p027dM/43S6QPYU0z+P41ta0VnSP1Wdp96TbNE/ozoWouCK0D/VqbetQczPP2t6aU00Bs8/xVnP+sEazj9Qp727llbMP5joHV5TQcs/4OBnLUFPyj+1Zq/hL5jJP9Md52d418g/O9U1lTf8xj/Y91zWy1HGP4tgpdHZtMU/3O3fOLQMxT/AP4V83EDEP0kVugq0gsM/LR0UrhP/wj+FQc3IalLCPywSIVso+ME/y8zL1MqGwT9YDU+3YjjBP0uFE+HB1sA/VeOkbU+QwD/Dph7PKzrAP/Az9hRRyr8/3Vq1JFzyvj+8NjULl0m+P/0f52tryL0/T83jUg1pvT+jorckMPe8P/MjRmtKfbw/PF8/mWvPuz95WvnhRBy7P/je0pPWl7o/y0YmKTlJuj8LSDVim8i5P6fbMG0dZbk/Y1kpgvobuT/jLAar9ay4P7NmOFNIW7g/p2ZyN/vstz+oparJVLe3P3/iokiXWrc/",
          "dtype": "f8"
         },
         "yaxis": "y"
        },
        {
         "fill": "toself",
         "fillcolor": "rgba(228,26,28,0.1)",
         "hoverinfo": "skip",
         "line": {
          "color": "rgba(255,255,255,0)"
         },
         "showlegend": false,
         "type": "scatter",
         "x": {
          "bdata": "AAAAAAAAAAB7FK5H4XqUP3sUrkfheqQ/uB6F61G4rj97FK5H4Xq0P5qZmZmZmbk/uB6F61G4vj/sUbgehevBP3sUrkfhesQ/CtejcD0Kxz+amZmZmZnJPylcj8L1KMw/uB6F61G4zj+kcD0K16PQP+xRuB6F69E/MzMzMzMz0z97FK5H4XrUP8P1KFyPwtU/CtejcD0K1z9SuB6F61HYP5qZmZmZmdk/4XoUrkfh2j8pXI/C9SjcP3E9CtejcN0/uB6F61G43j8AAAAAAADgP6RwPQrXo+A/SOF6FK5H4T/sUbgehevhP4/C9Shcj+I/MzMzMzMz4z/Xo3A9CtfjP3sUrkfheuQ/H4XrUbge5T/D9Shcj8LlP2dmZmZmZuY/CtejcD0K5z+uR+F6FK7nP1K4HoXrUeg/9ihcj8L16D+amZmZmZnpPz4K16NwPeo/4XoUrkfh6j+F61G4HoXrPylcj8L1KOw/zczMzMzM7D9xPQrXo3DtPxWuR+F6FO4/uB6F61G47j9cj8L1KFzvPwAAAAAAAPA/AAAAAAAA8D9cj8L1KFzvP7gehetRuO4/Fa5H4XoU7j9xPQrXo3DtP83MzMzMzOw/KVyPwvUo7D+F61G4HoXrP+F6FK5H4eo/PgrXo3A96j+amZmZmZnpP/YoXI/C9eg/UrgehetR6D+uR+F6FK7nPwrXo3A9Cuc/Z2ZmZmZm5j/D9Shcj8LlPx+F61G4HuU/exSuR+F65D/Xo3A9CtfjPzMzMzMzM+M/j8L1KFyP4j/sUbgehevhP0jhehSuR+E/pHA9Ctej4D8AAAAAAADgP7gehetRuN4/cT0K16Nw3T8pXI/C9SjcP+F6FK5H4do/mpmZmZmZ2T9SuB6F61HYPwrXo3A9Ctc/w/UoXI/C1T97FK5H4XrUPzMzMzMzM9M/7FG4HoXr0T+kcD0K16PQP7gehetRuM4/KVyPwvUozD+amZmZmZnJPwrXo3A9Csc/exSuR+F6xD/sUbgehevBP7gehetRuL4/mpmZmZmZuT97FK5H4Xq0P7gehetRuK4/exSuR+F6pD97FK5H4XqUPwAAAAAAAAAA",
          "dtype": "f8"
         },
         "xaxis": "x",
         "y": {
          "bdata": "EFqt/AqI5j8sH/5srireP8EE6vAR9Nk/q4nx39rk1j+PuCCs5PTUP3YXwy2twtM/zlCnZBTT0j+Qyk3hehDSP68ALRdnLdE/mtooejZx0D98niocPX/PP5iEnwBN184/Io5udnTRzT8hX8MCx+rLP01nYQv4kso/CT+VRcKdyT9JgGFSPhDJPwQB01p6b8g/ZPp6U/ixxj8e7afDKwTGP1p69HEfbsU/cvvfaLO/xD9uN4cQGJ7DP7AZqzBY/cI/1H2v71iCwj/yvFwljtPBP5TKf5XhZcE/zM8nVeHiwD9j+AXrNK3APwHVoWYAcMA/Mg3cQSggwD/veUbFRGu/P+32JZPewr4/slxNgDndvT+hW4x4l0W9P8uoxJEiwLw/ntnQfGVNvD84wgdmacO7P1pj9AB5Wrs/OmbNkaeSuj+MC08OyPe5P8x70ihua7k/dFto2eIVuT8VIq1yiYW4P0GrrPfbKrg/ctPxGGrdtz+Dc2KdGJO3P+P49WQFO7c/AEhApQfXtj9yDbjXYZS2P9ij0kIuKLY/JiFzTgCNuD/ePZ27R9q4P06FpMnuArk/g9R6QYt7uT9D5qm40sa5P1TfYOuKWro/DQy14l6fuj8Bbr1RrQu7PyIy5HiPfLs/JELT/j7Euz9mqaO1wUC8Pz5YsaAvDL0/jOSX1RugvT8Og2fj9iq+PwDB9ii1hL4/L5cJRrTQvj/XEd6dlk2/P4SsjmS/A8A/ejhjy+FowD+OEJo7tb7AP3i5bZl2AME/lTWFW4M9wT9NIpiDkMPBP8rJb1S0KsI/xFnCIG+Kwj8Yxj1sR9HCP4a8eGzOe8M/4hDJ5A8IxD8SSIPooOPEP0bg3wi1WcU/vEZWMZT7xT+SAhLpa5/GPxKw8NZ2Rsc/ojr7dHY/yT8hTf1wISDKP7eCOhXAAMs/42nasK7vyz9/77d0ZsLMP2glMH8PZM4/PnAzmhs1zz+XWqIfowzQP6yaA8qKpNA/+zkipsCr0T+O/GnTJ6PSP/iYzRzYVtM/XGvhDcAX1D/ruPSlAkbVP4trPH6pPNc/hfjfUNaW2j80UxJKsbHeP8ClK53yb+k/",
          "dtype": "f8"
         },
         "yaxis": "y"
        },
        {
         "line": {
          "color": "rgb(55,126,184)",
          "width": 2
         },
         "mode": "lines",
         "name": "fanova_adjust_cs_default_adjust_prev_cfgs_true_no_retrain_set_to_incumbent_thresh_0-075-0",
         "type": "scatter",
         "x": {
          "bdata": "AAAAAAAAAAB7FK5H4XqUP3sUrkfheqQ/uB6F61G4rj97FK5H4Xq0P5qZmZmZmbk/uB6F61G4vj/sUbgehevBP3sUrkfhesQ/CtejcD0Kxz+amZmZmZnJPylcj8L1KMw/uB6F61G4zj+kcD0K16PQP+xRuB6F69E/MzMzMzMz0z97FK5H4XrUP8P1KFyPwtU/CtejcD0K1z9SuB6F61HYP5qZmZmZmdk/4XoUrkfh2j8pXI/C9SjcP3E9CtejcN0/uB6F61G43j8AAAAAAADgP6RwPQrXo+A/SOF6FK5H4T/sUbgehevhP4/C9Shcj+I/MzMzMzMz4z/Xo3A9CtfjP3sUrkfheuQ/H4XrUbge5T/D9Shcj8LlP2dmZmZmZuY/CtejcD0K5z+uR+F6FK7nP1K4HoXrUeg/9ihcj8L16D+amZmZmZnpPz4K16NwPeo/4XoUrkfh6j+F61G4HoXrPylcj8L1KOw/zczMzMzM7D9xPQrXo3DtPxWuR+F6FO4/uB6F61G47j9cj8L1KFzvPwAAAAAAAPA/",
          "dtype": "f8"
         },
         "xaxis": "x",
         "y": {
          "bdata": "W3W6mo+j5z/TiEB0/SbePytoxKxoBNo/cBFiNka71j8pp+qVDLzUP5UQTwzQaNM/beqoxRB+0j/L0VKdQ6rRP2efz7VasNA/gWdiMF26zz+hcONyEXbOPw0TsqVC0M0/LY7to1HxzD/Q7MgQ/kTLPwUZ13yQUco/PXx2NfuKyT/gFhaBl8vIP4twpnHKOMg/g22C3Xv0xj8wqr7/PlTGP2v0lL7FWsU/42F6OaGOxD/jO0DoHxfEP6C7VbJ/mcM/qp6t6Gziwj9rp9OpljDCP0o/GJNIN8E/5zDsh8fWwD9H4T8w1UHAP2B6lXrTwr8/HbZXBlrPvj+7M3HYiNO9P5fskRuyJL0/lFwtHfOcvD8HRn2ex967P+QItM8TE7s/Kxjjdhgquj+UA1dZTmG5PwvT95X+9rg/EAle/h15uD90sxeyhOS3P+lPcozSA7c/Ox4f0gKLtj+cWEXhPby1P+TYAnPJXLU/+J4szkoRtT8LCEtIQWm0P+CpvlnDhLM/px/F7YEhsz/ZzqVWe8OyP6nKkrLklbI/",
          "dtype": "f8"
         },
         "yaxis": "y"
        },
        {
         "fill": "toself",
         "fillcolor": "rgba(55,126,184,0.1)",
         "hoverinfo": "skip",
         "line": {
          "color": "rgba(255,255,255,0)"
         },
         "showlegend": false,
         "type": "scatter",
         "x": {
          "bdata": "AAAAAAAAAAB7FK5H4XqUP3sUrkfheqQ/uB6F61G4rj97FK5H4Xq0P5qZmZmZmbk/uB6F61G4vj/sUbgehevBP3sUrkfhesQ/CtejcD0Kxz+amZmZmZnJPylcj8L1KMw/uB6F61G4zj+kcD0K16PQP+xRuB6F69E/MzMzMzMz0z97FK5H4XrUP8P1KFyPwtU/CtejcD0K1z9SuB6F61HYP5qZmZmZmdk/4XoUrkfh2j8pXI/C9SjcP3E9CtejcN0/uB6F61G43j8AAAAAAADgP6RwPQrXo+A/SOF6FK5H4T/sUbgehevhP4/C9Shcj+I/MzMzMzMz4z/Xo3A9CtfjP3sUrkfheuQ/H4XrUbge5T/D9Shcj8LlP2dmZmZmZuY/CtejcD0K5z+uR+F6FK7nP1K4HoXrUeg/9ihcj8L16D+amZmZmZnpPz4K16NwPeo/4XoUrkfh6j+F61G4HoXrPylcj8L1KOw/zczMzMzM7D9xPQrXo3DtPxWuR+F6FO4/uB6F61G47j9cj8L1KFzvPwAAAAAAAPA/AAAAAAAA8D9cj8L1KFzvP7gehetRuO4/Fa5H4XoU7j9xPQrXo3DtP83MzMzMzOw/KVyPwvUo7D+F61G4HoXrP+F6FK5H4eo/PgrXo3A96j+amZmZmZnpP/YoXI/C9eg/UrgehetR6D+uR+F6FK7nPwrXo3A9Cuc/Z2ZmZmZm5j/D9Shcj8LlPx+F61G4HuU/exSuR+F65D/Xo3A9CtfjPzMzMzMzM+M/j8L1KFyP4j/sUbgehevhP0jhehSuR+E/pHA9Ctej4D8AAAAAAADgP7gehetRuN4/cT0K16Nw3T8pXI/C9SjcP+F6FK5H4do/mpmZmZmZ2T9SuB6F61HYPwrXo3A9Ctc/w/UoXI/C1T97FK5H4XrUPzMzMzMzM9M/7FG4HoXr0T+kcD0K16PQP7gehetRuM4/KVyPwvUozD+amZmZmZnJPwrXo3A9Csc/exSuR+F6xD/sUbgehevBP7gehetRuL4/mpmZmZmZuT97FK5H4Xq0P7gehetRuK4/exSuR+F6pD97FK5H4XqUPwAAAAAAAAAA",
          "dtype": "f8"
         },
         "xaxis": "x",
         "y": {
          "bdata": "iHXlMKOJ5j/wRm/C/iTdP1U4zIeo/9g/qOUqutYf1j8G3ElLY/jTP35Yuz7a+9I/4vzYaQPf0T8oqxc1jUjRPylCFQS5ddA/u4wGYhgUzz8FFe0dZvHNPyA/Cl9UQs0/hPNxgXBTzD/YC2ORqjXKP1KECdoFX8k/S+BOK1evyD85YeiQIPTHP9Yb9H6secc/y8guIClxxj+DaSw69O/FPz8aE4dxJsU/PMVSasZYxD8vTy7+qdTDP0WkQFwTWMM/2COuYf+Fwj+KuhR5x/PBP/0wM/OcqcA/QC7ys2ZQwD9yHc23Wle/P4yFf9DLs74/lBfUwh+xvT8losKitsa8P3lCBq4GJrw/mmsaM1enuz+inGFuJdm6PzcVGBpWNLo/t0Pf/mBruT8fkZtsGau4P76hgp/xS7g/CkHwYBHUtz+W5noQ8m63PwZR5T773bY/qlKUbM5ctj8GFVs0PEy1P48m+dZ45LQ/5YHviZSLtD86ypt8l0S0Pyhc8ntLOrM/rOQfnRSpsj/d+Nx6OiuyPyMivEYz9rE/L3NpHpY1sz/VpG4yvFuzP6Jaaj7vmbM/mPeKNzvPsz/cRfoT6420Pwu8aRIBl7U/OYsMDxrVtT8ynC+OPyy2P8zpqTc3ubY/zE7/2akptz9SgLRTF1q4PxbRy5sqHrk/WARtjAuiuT8JdhJGgxe6P5/s5u7P6Lo/kfxPhdHxuz9s75jOaeS8P45NQAePkr0/tZYdiV0jvj9RxR8OW+C+P6ZU20mU7b8/mrdVku1owD/VM5kE/dfAP44z5lsoXcE/l039MvTEwT9MlJLaZW3CP3wZrW/aPsM/+9JqCOzawz+XKFLSlVnEP4r+oQh8xMQ/l84W9hmPxT/d6lDFibjGPzsS1prOd8c/QMVYZOj3yD+HzENxDqPJPy8Ynj+fZso/uK2kHxtEyz/IzS6QUVTMP9YoacYyj80/+uZZ7DBezj89zNnHvPrOPyMhX/9QMNA/pfyJZ/zq0D9u+I0F+gvSP/jXeCEeHdM/rMji2cXV0z9McovgtX/VPzg9mbK1Vtc/AZi80SgJ2z+2yhEm/CjfPy51jwR8veg/",
          "dtype": "f8"
         },
         "yaxis": "y"
        },
        {
         "error_x": {
          "array": {
           "bdata": "DI5yxVI1az/FAIYx8WNpPw==",
           "dtype": "f8"
          },
          "type": "data"
         },
         "marker": {
          "color": "skyblue",
          "line": {
           "color": "black",
           "width": 1
          }
         },
         "orientation": "h",
         "showlegend": false,
         "type": "bar",
         "x": {
          "bdata": "oxqGC9lxyD8EvhMuNuPHPw==",
          "dtype": "f8"
         },
         "xaxis": "x2",
         "y": [
          "SMAC3-MO-RF",
          "fanova_adjust_cs_default_adjust_prev_cfgs_true_no_retrain_set_to_incumbent_thresh_0-075-0"
         ],
         "yaxis": "y2"
        }
       ],
       "layout": {
        "font": {
         "size": 16
        },
        "height": 400,
        "legend": {
         "font": {
          "size": 16
         },
         "title": {
          "text": "Optimizers"
         }
        },
        "margin": {
         "b": 50,
         "l": 50,
         "r": 50,
         "t": 60
        },
        "template": {
         "data": {
          "bar": [
           {
            "error_x": {
             "color": "#2a3f5f"
            },
            "error_y": {
             "color": "#2a3f5f"
            },
            "marker": {
             "line": {
              "color": "white",
              "width": 0.5
             },
             "pattern": {
              "fillmode": "overlay",
              "size": 10,
              "solidity": 0.2
             }
            },
            "type": "bar"
           }
          ],
          "barpolar": [
           {
            "marker": {
             "line": {
              "color": "white",
              "width": 0.5
             },
             "pattern": {
              "fillmode": "overlay",
              "size": 10,
              "solidity": 0.2
             }
            },
            "type": "barpolar"
           }
          ],
          "carpet": [
           {
            "aaxis": {
             "endlinecolor": "#2a3f5f",
             "gridcolor": "#C8D4E3",
             "linecolor": "#C8D4E3",
             "minorgridcolor": "#C8D4E3",
             "startlinecolor": "#2a3f5f"
            },
            "baxis": {
             "endlinecolor": "#2a3f5f",
             "gridcolor": "#C8D4E3",
             "linecolor": "#C8D4E3",
             "minorgridcolor": "#C8D4E3",
             "startlinecolor": "#2a3f5f"
            },
            "type": "carpet"
           }
          ],
          "choropleth": [
           {
            "colorbar": {
             "outlinewidth": 0,
             "ticks": ""
            },
            "type": "choropleth"
           }
          ],
          "contour": [
           {
            "colorbar": {
             "outlinewidth": 0,
             "ticks": ""
            },
            "colorscale": [
             [
              0,
              "#0d0887"
             ],
             [
              0.1111111111111111,
              "#46039f"
             ],
             [
              0.2222222222222222,
              "#7201a8"
             ],
             [
              0.3333333333333333,
              "#9c179e"
             ],
             [
              0.4444444444444444,
              "#bd3786"
             ],
             [
              0.5555555555555556,
              "#d8576b"
             ],
             [
              0.6666666666666666,
              "#ed7953"
             ],
             [
              0.7777777777777778,
              "#fb9f3a"
             ],
             [
              0.8888888888888888,
              "#fdca26"
             ],
             [
              1,
              "#f0f921"
             ]
            ],
            "type": "contour"
           }
          ],
          "contourcarpet": [
           {
            "colorbar": {
             "outlinewidth": 0,
             "ticks": ""
            },
            "type": "contourcarpet"
           }
          ],
          "heatmap": [
           {
            "colorbar": {
             "outlinewidth": 0,
             "ticks": ""
            },
            "colorscale": [
             [
              0,
              "#0d0887"
             ],
             [
              0.1111111111111111,
              "#46039f"
             ],
             [
              0.2222222222222222,
              "#7201a8"
             ],
             [
              0.3333333333333333,
              "#9c179e"
             ],
             [
              0.4444444444444444,
              "#bd3786"
             ],
             [
              0.5555555555555556,
              "#d8576b"
             ],
             [
              0.6666666666666666,
              "#ed7953"
             ],
             [
              0.7777777777777778,
              "#fb9f3a"
             ],
             [
              0.8888888888888888,
              "#fdca26"
             ],
             [
              1,
              "#f0f921"
             ]
            ],
            "type": "heatmap"
           }
          ],
          "histogram": [
           {
            "marker": {
             "pattern": {
              "fillmode": "overlay",
              "size": 10,
              "solidity": 0.2
             }
            },
            "type": "histogram"
           }
          ],
          "histogram2d": [
           {
            "colorbar": {
             "outlinewidth": 0,
             "ticks": ""
            },
            "colorscale": [
             [
              0,
              "#0d0887"
             ],
             [
              0.1111111111111111,
              "#46039f"
             ],
             [
              0.2222222222222222,
              "#7201a8"
             ],
             [
              0.3333333333333333,
              "#9c179e"
             ],
             [
              0.4444444444444444,
              "#bd3786"
             ],
             [
              0.5555555555555556,
              "#d8576b"
             ],
             [
              0.6666666666666666,
              "#ed7953"
             ],
             [
              0.7777777777777778,
              "#fb9f3a"
             ],
             [
              0.8888888888888888,
              "#fdca26"
             ],
             [
              1,
              "#f0f921"
             ]
            ],
            "type": "histogram2d"
           }
          ],
          "histogram2dcontour": [
           {
            "colorbar": {
             "outlinewidth": 0,
             "ticks": ""
            },
            "colorscale": [
             [
              0,
              "#0d0887"
             ],
             [
              0.1111111111111111,
              "#46039f"
             ],
             [
              0.2222222222222222,
              "#7201a8"
             ],
             [
              0.3333333333333333,
              "#9c179e"
             ],
             [
              0.4444444444444444,
              "#bd3786"
             ],
             [
              0.5555555555555556,
              "#d8576b"
             ],
             [
              0.6666666666666666,
              "#ed7953"
             ],
             [
              0.7777777777777778,
              "#fb9f3a"
             ],
             [
              0.8888888888888888,
              "#fdca26"
             ],
             [
              1,
              "#f0f921"
             ]
            ],
            "type": "histogram2dcontour"
           }
          ],
          "mesh3d": [
           {
            "colorbar": {
             "outlinewidth": 0,
             "ticks": ""
            },
            "type": "mesh3d"
           }
          ],
          "parcoords": [
           {
            "line": {
             "colorbar": {
              "outlinewidth": 0,
              "ticks": ""
             }
            },
            "type": "parcoords"
           }
          ],
          "pie": [
           {
            "automargin": true,
            "type": "pie"
           }
          ],
          "scatter": [
           {
            "fillpattern": {
             "fillmode": "overlay",
             "size": 10,
             "solidity": 0.2
            },
            "type": "scatter"
           }
          ],
          "scatter3d": [
           {
            "line": {
             "colorbar": {
              "outlinewidth": 0,
              "ticks": ""
             }
            },
            "marker": {
             "colorbar": {
              "outlinewidth": 0,
              "ticks": ""
             }
            },
            "type": "scatter3d"
           }
          ],
          "scattercarpet": [
           {
            "marker": {
             "colorbar": {
              "outlinewidth": 0,
              "ticks": ""
             }
            },
            "type": "scattercarpet"
           }
          ],
          "scattergeo": [
           {
            "marker": {
             "colorbar": {
              "outlinewidth": 0,
              "ticks": ""
             }
            },
            "type": "scattergeo"
           }
          ],
          "scattergl": [
           {
            "marker": {
             "colorbar": {
              "outlinewidth": 0,
              "ticks": ""
             }
            },
            "type": "scattergl"
           }
          ],
          "scattermap": [
           {
            "marker": {
             "colorbar": {
              "outlinewidth": 0,
              "ticks": ""
             }
            },
            "type": "scattermap"
           }
          ],
          "scattermapbox": [
           {
            "marker": {
             "colorbar": {
              "outlinewidth": 0,
              "ticks": ""
             }
            },
            "type": "scattermapbox"
           }
          ],
          "scatterpolar": [
           {
            "marker": {
             "colorbar": {
              "outlinewidth": 0,
              "ticks": ""
             }
            },
            "type": "scatterpolar"
           }
          ],
          "scatterpolargl": [
           {
            "marker": {
             "colorbar": {
              "outlinewidth": 0,
              "ticks": ""
             }
            },
            "type": "scatterpolargl"
           }
          ],
          "scatterternary": [
           {
            "marker": {
             "colorbar": {
              "outlinewidth": 0,
              "ticks": ""
             }
            },
            "type": "scatterternary"
           }
          ],
          "surface": [
           {
            "colorbar": {
             "outlinewidth": 0,
             "ticks": ""
            },
            "colorscale": [
             [
              0,
              "#0d0887"
             ],
             [
              0.1111111111111111,
              "#46039f"
             ],
             [
              0.2222222222222222,
              "#7201a8"
             ],
             [
              0.3333333333333333,
              "#9c179e"
             ],
             [
              0.4444444444444444,
              "#bd3786"
             ],
             [
              0.5555555555555556,
              "#d8576b"
             ],
             [
              0.6666666666666666,
              "#ed7953"
             ],
             [
              0.7777777777777778,
              "#fb9f3a"
             ],
             [
              0.8888888888888888,
              "#fdca26"
             ],
             [
              1,
              "#f0f921"
             ]
            ],
            "type": "surface"
           }
          ],
          "table": [
           {
            "cells": {
             "fill": {
              "color": "#EBF0F8"
             },
             "line": {
              "color": "white"
             }
            },
            "header": {
             "fill": {
              "color": "#C8D4E3"
             },
             "line": {
              "color": "white"
             }
            },
            "type": "table"
           }
          ]
         },
         "layout": {
          "annotationdefaults": {
           "arrowcolor": "#2a3f5f",
           "arrowhead": 0,
           "arrowwidth": 1
          },
          "autotypenumbers": "strict",
          "coloraxis": {
           "colorbar": {
            "outlinewidth": 0,
            "ticks": ""
           }
          },
          "colorscale": {
           "diverging": [
            [
             0,
             "#8e0152"
            ],
            [
             0.1,
             "#c51b7d"
            ],
            [
             0.2,
             "#de77ae"
            ],
            [
             0.3,
             "#f1b6da"
            ],
            [
             0.4,
             "#fde0ef"
            ],
            [
             0.5,
             "#f7f7f7"
            ],
            [
             0.6,
             "#e6f5d0"
            ],
            [
             0.7,
             "#b8e186"
            ],
            [
             0.8,
             "#7fbc41"
            ],
            [
             0.9,
             "#4d9221"
            ],
            [
             1,
             "#276419"
            ]
           ],
           "sequential": [
            [
             0,
             "#0d0887"
            ],
            [
             0.1111111111111111,
             "#46039f"
            ],
            [
             0.2222222222222222,
             "#7201a8"
            ],
            [
             0.3333333333333333,
             "#9c179e"
            ],
            [
             0.4444444444444444,
             "#bd3786"
            ],
            [
             0.5555555555555556,
             "#d8576b"
            ],
            [
             0.6666666666666666,
             "#ed7953"
            ],
            [
             0.7777777777777778,
             "#fb9f3a"
            ],
            [
             0.8888888888888888,
             "#fdca26"
            ],
            [
             1,
             "#f0f921"
            ]
           ],
           "sequentialminus": [
            [
             0,
             "#0d0887"
            ],
            [
             0.1111111111111111,
             "#46039f"
            ],
            [
             0.2222222222222222,
             "#7201a8"
            ],
            [
             0.3333333333333333,
             "#9c179e"
            ],
            [
             0.4444444444444444,
             "#bd3786"
            ],
            [
             0.5555555555555556,
             "#d8576b"
            ],
            [
             0.6666666666666666,
             "#ed7953"
            ],
            [
             0.7777777777777778,
             "#fb9f3a"
            ],
            [
             0.8888888888888888,
             "#fdca26"
            ],
            [
             1,
             "#f0f921"
            ]
           ]
          },
          "colorway": [
           "#636efa",
           "#EF553B",
           "#00cc96",
           "#ab63fa",
           "#FFA15A",
           "#19d3f3",
           "#FF6692",
           "#B6E880",
           "#FF97FF",
           "#FECB52"
          ],
          "font": {
           "color": "#2a3f5f"
          },
          "geo": {
           "bgcolor": "white",
           "lakecolor": "white",
           "landcolor": "white",
           "showlakes": true,
           "showland": true,
           "subunitcolor": "#C8D4E3"
          },
          "hoverlabel": {
           "align": "left"
          },
          "hovermode": "closest",
          "mapbox": {
           "style": "light"
          },
          "paper_bgcolor": "white",
          "plot_bgcolor": "white",
          "polar": {
           "angularaxis": {
            "gridcolor": "#EBF0F8",
            "linecolor": "#EBF0F8",
            "ticks": ""
           },
           "bgcolor": "white",
           "radialaxis": {
            "gridcolor": "#EBF0F8",
            "linecolor": "#EBF0F8",
            "ticks": ""
           }
          },
          "scene": {
           "xaxis": {
            "backgroundcolor": "white",
            "gridcolor": "#DFE8F3",
            "gridwidth": 2,
            "linecolor": "#EBF0F8",
            "showbackground": true,
            "ticks": "",
            "zerolinecolor": "#EBF0F8"
           },
           "yaxis": {
            "backgroundcolor": "white",
            "gridcolor": "#DFE8F3",
            "gridwidth": 2,
            "linecolor": "#EBF0F8",
            "showbackground": true,
            "ticks": "",
            "zerolinecolor": "#EBF0F8"
           },
           "zaxis": {
            "backgroundcolor": "white",
            "gridcolor": "#DFE8F3",
            "gridwidth": 2,
            "linecolor": "#EBF0F8",
            "showbackground": true,
            "ticks": "",
            "zerolinecolor": "#EBF0F8"
           }
          },
          "shapedefaults": {
           "line": {
            "color": "#2a3f5f"
           }
          },
          "ternary": {
           "aaxis": {
            "gridcolor": "#DFE8F3",
            "linecolor": "#A2B1C6",
            "ticks": ""
           },
           "baxis": {
            "gridcolor": "#DFE8F3",
            "linecolor": "#A2B1C6",
            "ticks": ""
           },
           "bgcolor": "white",
           "caxis": {
            "gridcolor": "#DFE8F3",
            "linecolor": "#A2B1C6",
            "ticks": ""
           }
          },
          "title": {
           "x": 0.05
          },
          "xaxis": {
           "automargin": true,
           "gridcolor": "#EBF0F8",
           "linecolor": "#EBF0F8",
           "ticks": "",
           "title": {
            "standoff": 15
           },
           "zerolinecolor": "#EBF0F8",
           "zerolinewidth": 2
          },
          "yaxis": {
           "automargin": true,
           "gridcolor": "#EBF0F8",
           "linecolor": "#EBF0F8",
           "ticks": "",
           "title": {
            "standoff": 15
           },
           "zerolinecolor": "#EBF0F8",
           "zerolinewidth": 2
          }
         }
        },
        "width": 1800,
        "xaxis": {
         "anchor": "y",
         "domain": [
          0,
          0.51
         ],
         "title": {
          "text": "Normalized Trials"
         }
        },
        "xaxis2": {
         "anchor": "y2",
         "domain": [
          0.66,
          1
         ],
         "title": {
          "text": "AUC"
         }
        },
        "yaxis": {
         "anchor": "x",
         "domain": [
          0,
          1
         ],
         "title": {
          "text": "Normalized Inc-Performance"
         }
        },
        "yaxis2": {
         "anchor": "x2",
         "domain": [
          0,
          1
         ],
         "title": {
          "text": "Optimizer"
         }
        }
       }
      }
     },
     "metadata": {},
     "output_type": "display_data"
    }
   ],
   "source": [
    "# plot best fanova vs best hypershap vs ParEGO\n",
    "df_smac = df[df['optimizer_id']=='SMAC3-MO-RF']\n",
    "best_final = merge[merge['final_perf_mean'] == merge['final_perf_mean'].min()]['optimizer_id'].values[0]\n",
    "fanova_final = df[df['optimizer_id']==best_final]\n",
    "# fanova_final['optimizer_id'] = 'fANOVA-ParEGO-final'\n",
    "best_auc = merge[merge['auc_mean'] == merge['auc_mean'].min()]['optimizer_id'].values[0]\n",
    "fanova_auc = df[df['optimizer_id']==best_auc]\n",
    "# fanova_auc['optimizer_id'] = 'fANOVA-ParEGO-auc'\n",
    "# hypershap_final = perf_all[perf_all['optimizer_id']=='hypershap_adjust_cs_random_adjust_prev_cfgs_set_to_random_thresh_0.75']\n",
    "# hypershap_final['optimizer_id'] = 'HyperSHAP-ParEGO-final'\n",
    "# hypershap_auc = perf_all[perf_all['optimizer_id']=='hypershap_adjust_cs_default_constant_adjust_prev_cfgs_set_to_incumbent_dynamic_decay_down']\n",
    "# hypershap_auc['optimizer_id'] = 'HyperSHAP-ParEGO'\n",
    "df_plot = pd.concat([df_smac, fanova_auc, fanova_final], ignore_index=True)\n",
    "\n",
    "plot_one_thing('optimizer_id', df_plot=df_plot)"
   ]
  },
  {
   "cell_type": "code",
   "execution_count": 144,
   "id": "47a2baf8",
   "metadata": {},
   "outputs": [
    {
     "name": "stderr",
     "output_type": "stream",
     "text": [
      "/home/daphne/Code/hpi_parego/CARP-S/carps/analysis/generate_report.py:276: UserWarning:\n",
      "\n",
      "Result is not significant and results of the plot may be misleading!\n",
      "\n",
      "/home/daphne/Code/hpi_parego/CARP-S/carps/analysis/run_autorank.py:322: FutureWarning:\n",
      "\n",
      "Series.__getitem__ treating keys as positions is deprecated. In a future version, integer keys will always be treated as labels (consistent with DataFrame behavior). To access a value by position, use `ser.iloc[pos]`\n",
      "\n",
      "/home/daphne/Code/hpi_parego/CARP-S/carps/analysis/run_autorank.py:415: UserWarning:\n",
      "\n",
      "Tight layout not applied. The left and right margins cannot be made large enough to accommodate all Axes decorations.\n",
      "\n",
      "/home/daphne/Code/hpi_parego/CARP-S/carps/analysis/run_autorank.py:421: UserWarning:\n",
      "\n",
      "FigureCanvasAgg is non-interactive, and thus cannot be shown\n",
      "\n",
      "/home/daphne/Code/hpi_parego/CARP-S/carps/analysis/run_autorank.py:198: UserWarning:\n",
      "\n",
      "Result is not significant and results of the plot may be misleading!\n",
      "\n"
     ]
    },
    {
     "data": {
      "text/html": [
       "<pre style=\"white-space:pre;overflow-x:auto;line-height:normal;font-family:Menlo,'DejaVu Sans Mono',consolas,'Courier New',monospace\"><span style=\"color: #7fbfbf; text-decoration-color: #7fbfbf\">[16:32:36] </span><span style=\"color: #000080; text-decoration-color: #000080\">INFO    </span> Create dataframe for neat plotting by aligning x-axis <span style=\"color: #800080; text-decoration-color: #800080\">/</span> interpolating        <a href=\"file:///home/daphne/Code/hpi_parego/CARP-S/carps/analysis/gather_data.py\" target=\"_blank\"><span style=\"color: #7f7f7f; text-decoration-color: #7f7f7f\">gather_data.py</span></a><span style=\"color: #7f7f7f; text-decoration-color: #7f7f7f\">:</span><a href=\"file:///home/daphne/Code/hpi_parego/CARP-S/carps/analysis/gather_data.py#735\" target=\"_blank\"><span style=\"color: #7f7f7f; text-decoration-color: #7f7f7f\">735</span></a>\n",
       "<span style=\"color: #7fbfbf; text-decoration-color: #7fbfbf\">           </span>         budget.                                                                      <span style=\"color: #7f7f7f; text-decoration-color: #7f7f7f\">                  </span>\n",
       "</pre>\n"
      ],
      "text/plain": [
       "\u001b[2;36m[16:32:36]\u001b[0m\u001b[2;36m \u001b[0m\u001b[34mINFO    \u001b[0m Create dataframe for neat plotting by aligning x-axis \u001b[35m/\u001b[0m interpolating        \u001b]8;id=215964;file:///home/daphne/Code/hpi_parego/CARP-S/carps/analysis/gather_data.py\u001b\\\u001b[2mgather_data.py\u001b[0m\u001b]8;;\u001b\\\u001b[2m:\u001b[0m\u001b]8;id=416551;file:///home/daphne/Code/hpi_parego/CARP-S/carps/analysis/gather_data.py#735\u001b\\\u001b[2m735\u001b[0m\u001b]8;;\u001b\\\n",
       "\u001b[2;36m           \u001b[0m         budget.                                                                      \u001b[2m                  \u001b[0m\n"
      ]
     },
     "metadata": {},
     "output_type": "display_data"
    },
    {
     "name": "stderr",
     "output_type": "stream",
     "text": [
      "/home/daphne/Code/hpi_parego/CARP-S/carps/analysis/generate_report.py:108: UserWarning:\n",
      "\n",
      "Result is not significant and results of the plot may be misleading!\n",
      "\n",
      "/home/daphne/Code/hpi_parego/CARP-S/carps/analysis/generate_report.py:108: UserWarning:\n",
      "\n",
      "Result is not significant and results of the plot may be misleading!\n",
      "\n",
      "/home/daphne/Code/hpi_parego/CARP-S/carps/analysis/generate_report.py:108: UserWarning:\n",
      "\n",
      "Result is not significant and results of the plot may be misleading!\n",
      "\n",
      "/home/daphne/Code/hpi_parego/CARP-S/carps/analysis/generate_report.py:108: UserWarning:\n",
      "\n",
      "Result is not significant and results of the plot may be misleading!\n",
      "\n",
      "/home/daphne/Code/hpi_parego/CARP-S/carps/analysis/generate_report.py:108: UserWarning:\n",
      "\n",
      "Result is not significant and results of the plot may be misleading!\n",
      "\n",
      "/home/daphne/Code/hpi_parego/CARP-S/carps/analysis/generate_report.py:108: UserWarning:\n",
      "\n",
      "Result is not significant and results of the plot may be misleading!\n",
      "\n",
      "/home/daphne/Code/hpi_parego/CARP-S/carps/analysis/generate_report.py:108: UserWarning:\n",
      "\n",
      "Result is not significant and results of the plot may be misleading!\n",
      "\n",
      "/home/daphne/Code/hpi_parego/CARP-S/carps/analysis/generate_report.py:108: UserWarning:\n",
      "\n",
      "Result is not significant and results of the plot may be misleading!\n",
      "\n",
      "/home/daphne/Code/hpi_parego/CARP-S/carps/analysis/generate_report.py:108: UserWarning:\n",
      "\n",
      "Result is not significant and results of the plot may be misleading!\n",
      "\n",
      "/home/daphne/Code/hpi_parego/CARP-S/carps/analysis/generate_report.py:108: UserWarning:\n",
      "\n",
      "Result is not significant and results of the plot may be misleading!\n",
      "\n",
      "/home/daphne/Code/hpi_parego/CARP-S/carps/analysis/generate_report.py:108: UserWarning:\n",
      "\n",
      "Result is not significant and results of the plot may be misleading!\n",
      "\n",
      "/home/daphne/Code/hpi_parego/CARP-S/carps/analysis/generate_report.py:108: UserWarning:\n",
      "\n",
      "Result is not significant and results of the plot may be misleading!\n",
      "\n",
      "/home/daphne/Code/hpi_parego/CARP-S/carps/analysis/generate_report.py:108: UserWarning:\n",
      "\n",
      "Result is not significant and results of the plot may be misleading!\n",
      "\n",
      "/home/daphne/Code/hpi_parego/CARP-S/carps/analysis/generate_report.py:108: UserWarning:\n",
      "\n",
      "Result is not significant and results of the plot may be misleading!\n",
      "\n",
      "/home/daphne/Code/hpi_parego/CARP-S/carps/analysis/generate_report.py:108: UserWarning:\n",
      "\n",
      "Result is not significant and results of the plot may be misleading!\n",
      "\n",
      "/home/daphne/Code/hpi_parego/CARP-S/carps/analysis/generate_report.py:108: UserWarning:\n",
      "\n",
      "Result is not significant and results of the plot may be misleading!\n",
      "\n",
      "/home/daphne/Code/hpi_parego/CARP-S/carps/analysis/generate_report.py:108: UserWarning:\n",
      "\n",
      "Result is not significant and results of the plot may be misleading!\n",
      "\n",
      "/home/daphne/Code/hpi_parego/CARP-S/carps/analysis/generate_report.py:108: UserWarning:\n",
      "\n",
      "Result is not significant and results of the plot may be misleading!\n",
      "\n",
      "/home/daphne/Code/hpi_parego/CARP-S/carps/analysis/generate_report.py:108: UserWarning:\n",
      "\n",
      "Result is not significant and results of the plot may be misleading!\n",
      "\n",
      "/home/daphne/Code/hpi_parego/CARP-S/carps/analysis/generate_report.py:108: UserWarning:\n",
      "\n",
      "Result is not significant and results of the plot may be misleading!\n",
      "\n"
     ]
    },
    {
     "data": {
      "text/plain": [
       "[{'task_type': 'multi-objective',\n",
       "  'set': '0',\n",
       "  'task_id': None,\n",
       "  'filename': 'figures_all/rank_multi-objective_0',\n",
       "  'plot_type': 'rank_over_time',\n",
       "  'plot_type_pretty': 'Rank over Time',\n",
       "  'explanation': 'The rank of each optimizer over time compares which optimizer performs better, the lower the rank the better. For each optimizer and task, the performance is averaged over seeds to obtain an estimate of the performance. The rank is then calculated per step and task with the same approach as for the critical difference diagram.'}]"
      ]
     },
     "execution_count": 144,
     "metadata": {},
     "output_type": "execute_result"
    }
   ],
   "source": [
    "top5 = merge[merge['auc_mean'].isin(merge['auc_mean'].sort_values().head(3).values)]['optimizer_id'].values\n",
    "top5 = pd.concat([df_smac, df[df['optimizer_id'].isin(top5)]])\n",
    "plot_performance_over_time(top5,  y='trial_value__cost_inc_norm', figure_filename=f'{figure_dir}/perf_over_time')\n",
    "plot_critical_difference(top5, output_dir=figure_dir, replot=True)\n",
    "plot_performance_per_task(top5, output_dir=figure_dir, replot=True)\n",
    "plot_finalperfbarplot(top5, output_dir=figure_dir, replot=True)\n",
    "plot_ranks_over_time(top5, output_dir=figure_dir, replot=True)\n"
   ]
  },
  {
   "cell_type": "markdown",
   "id": "a49bf689",
   "metadata": {},
   "source": [
    "# Random"
   ]
  },
  {
   "cell_type": "code",
   "execution_count": 186,
   "id": "23a9d028",
   "metadata": {},
   "outputs": [
    {
     "name": "stderr",
     "output_type": "stream",
     "text": [
      "/tmp/ipykernel_38293/129696559.py:29: DeprecationWarning:\n",
      "\n",
      "DataFrameGroupBy.apply operated on the grouping columns. This behavior is deprecated, and in a future version of pandas the grouping columns will be excluded from the operation. Either pass `include_groups=False` to exclude the groupings or explicitly select the grouping columns after groupby to silence this warning.\n",
      "\n"
     ]
    },
    {
     "data": {
      "application/vnd.plotly.v1+json": {
       "config": {
        "plotlyServerURL": "https://plot.ly"
       },
       "data": [
        {
         "line": {
          "color": "rgb(228,26,28)",
          "width": 2
         },
         "mode": "lines",
         "name": "HyperSHAP-ParEGO",
         "type": "scatter",
         "x": {
          "bdata": "AAAAAAAAAAB7FK5H4XqUP3sUrkfheqQ/uB6F61G4rj97FK5H4Xq0P5qZmZmZmbk/uB6F61G4vj/sUbgehevBP3sUrkfhesQ/CtejcD0Kxz+amZmZmZnJPylcj8L1KMw/uB6F61G4zj+kcD0K16PQP+xRuB6F69E/MzMzMzMz0z97FK5H4XrUP8P1KFyPwtU/CtejcD0K1z9SuB6F61HYP5qZmZmZmdk/4XoUrkfh2j8pXI/C9SjcP3E9CtejcN0/uB6F61G43j8AAAAAAADgP6RwPQrXo+A/SOF6FK5H4T/sUbgehevhP4/C9Shcj+I/MzMzMzMz4z/Xo3A9CtfjP3sUrkfheuQ/H4XrUbge5T/D9Shcj8LlP2dmZmZmZuY/CtejcD0K5z+uR+F6FK7nP1K4HoXrUeg/9ihcj8L16D+amZmZmZnpPz4K16NwPeo/4XoUrkfh6j+F61G4HoXrPylcj8L1KOw/zczMzMzM7D9xPQrXo3DtPxWuR+F6FO4/uB6F61G47j9cj8L1KFzvPwAAAAAAAPA/",
          "dtype": "f8"
         },
         "y": {
          "bdata": "wq87nSo/lr4QXwIkhWdyv8pFw806Y32/ADG/0Ulyfb/tF7y4RyZ1vw1KzpYcmjS/MCiEg7CMMz8m3wHCM7cwP/NZHTnZdCy/AJh/aEsoJT+zZ0oR9SsqP1BXmb2a4Go/6dnUXZO2dz86kTCLXmt4P+bzcMhO4XY/iglFxpxqdj9iEi9vhfN1PyITs4QsSnA/9XjK/ai5VT8dKQCQ7gNTv3OVuQrePGq/hYxq2jz6cr9Q/FmLlZ96v52XEKW0D4S/GgI91IQai7+tESH6oBKRv8no/eykLZO/mdCxi6lIlb8I3wQvLS+Xv3XKM+ZS3Ze/gbzq5r2Pl7825m86mh6Xv6grwz4cp5W/hScw595FlL8mzeTRwaeSvwpB5EhyNZK/BVKr5IANkr+Itn79ijeSv82nIYF+sZK/arRhMHQik78+Ccx4zzmUv42y/kH2b5S/fbl9VbeNlL8qpmhHwIuUvy3peYgpwpO/7K/DF3eZk7/GFr7SN9SSv34wRr2U4ZG/+ySt5PbukL/qMigYsviPv+Ab9mZ2E46/",
          "dtype": "f8"
         }
        },
        {
         "fill": "toself",
         "fillcolor": "rgba(228,26,28,0.1)",
         "hoverinfo": "skip",
         "line": {
          "color": "rgba(255,255,255,0)"
         },
         "showlegend": false,
         "type": "scatter",
         "x": {
          "bdata": "AAAAAAAAAAB7FK5H4XqUP3sUrkfheqQ/uB6F61G4rj97FK5H4Xq0P5qZmZmZmbk/uB6F61G4vj/sUbgehevBP3sUrkfhesQ/CtejcD0Kxz+amZmZmZnJPylcj8L1KMw/uB6F61G4zj+kcD0K16PQP+xRuB6F69E/MzMzMzMz0z97FK5H4XrUP8P1KFyPwtU/CtejcD0K1z9SuB6F61HYP5qZmZmZmdk/4XoUrkfh2j8pXI/C9SjcP3E9CtejcN0/uB6F61G43j8AAAAAAADgP6RwPQrXo+A/SOF6FK5H4T/sUbgehevhP4/C9Shcj+I/MzMzMzMz4z/Xo3A9CtfjP3sUrkfheuQ/H4XrUbge5T/D9Shcj8LlP2dmZmZmZuY/CtejcD0K5z+uR+F6FK7nP1K4HoXrUeg/9ihcj8L16D+amZmZmZnpPz4K16NwPeo/4XoUrkfh6j+F61G4HoXrPylcj8L1KOw/zczMzMzM7D9xPQrXo3DtPxWuR+F6FO4/uB6F61G47j9cj8L1KFzvPwAAAAAAAPA/AAAAAAAA8D9cj8L1KFzvP7gehetRuO4/Fa5H4XoU7j9xPQrXo3DtP83MzMzMzOw/KVyPwvUo7D+F61G4HoXrP+F6FK5H4eo/PgrXo3A96j+amZmZmZnpP/YoXI/C9eg/UrgehetR6D+uR+F6FK7nPwrXo3A9Cuc/Z2ZmZmZm5j/D9Shcj8LlPx+F61G4HuU/exSuR+F65D/Xo3A9CtfjPzMzMzMzM+M/j8L1KFyP4j/sUbgehevhP0jhehSuR+E/pHA9Ctej4D8AAAAAAADgP7gehetRuN4/cT0K16Nw3T8pXI/C9SjcP+F6FK5H4do/mpmZmZmZ2T9SuB6F61HYPwrXo3A9Ctc/w/UoXI/C1T97FK5H4XrUPzMzMzMzM9M/7FG4HoXr0T+kcD0K16PQP7gehetRuM4/KVyPwvUozD+amZmZmZnJPwrXo3A9Csc/exSuR+F6xD/sUbgehevBP7gehetRuL4/mpmZmZmZuT97FK5H4Xq0P7gehetRuK4/exSuR+F6pD97FK5H4XqUPwAAAAAAAAAA",
          "dtype": "f8"
         },
         "y": {
          "bdata": "6NsKXTYWn762oHWAWmeCv6bZHBusyIW/vE089GRwjb+7KZ1hKz+Iv/DUCfoxgW+/e5ud8ahGWb+skhwwHyVzv4f8V8NH94G/bAB+aJ7Vhr91teiTk0CJv24qpVEcT4S/S4cRptnZf7+QJvylOgZ9v/Z3HfUBX3u/3FTkh03ed78ItVnbPJtzv5IoaV4nMHS/MVeS+EP5eb/dYBiWmj6Avx1Zn7zp14O/FMn7Kkiwhr+ANtsbjqKJvzSarTiSfI2/uMxik5sTkb+IajRpLgeUvzIwX7PTopW/lwB+9s8VmL+K59Y5qAmbvy1oVTdfKpy/Cmxa68/Cm78efgcWv3Kav0O1HIZw7Je/q8p6eADylb8Gu1Me13OUv0McHQJTOZS/Ls0NlZhtlL8z0gmI4v2UvwY2LseL6ZW/sN/egqfhlr/DMMUeZvWYvziGp3LRJJm/UjIQQI3umL+NTBbW3X2Yv1rz2NAT4Je/A+FY87zOl78nJQylx2OXv1S5l0oN6Ja/rgogWT2Dlr+qphloNC+Wvz5VzXNp55W/RI1R5hlYgL9/GB1g+5KDv5B+dOBgtYa/UE/pXzi2ib/KEOAAUImMv6r9XHhiyI6/AL41gH5Ij7/H/7q4opmQv6hA62rhLJC/xb2rIjZ2j79yw6WlcfyOv0gSybuBxo6/JzMqduLyjr+6NeflZuKOv7itkWjSWo+/0WWrj5ExkL9G33WFrNuQv1+E5VW9mZK/DaJp98dhk79OTthedcqTv/gMe+KrXJO/vSwSlUaQk7+G1jIkslSTv5ug5SCDe5K/YKGcJna4kL+kcRsWJzyMv8RqtIHSDYS/DSrnIq5Fdb/wudjv7aA/v3jkiYRasF0/jTkK3erlaj8srTDkPft2P9bJuzsMa4I/a6fnM0Biij/m7NvcI8GPP/yZG8XhLJE/8Nd/4WdIkj9BUhfvPXeTP8fObhjA0ZM/C+s42LTfkD+zCHM88xGKPyz9wcPgfoc/txGP+aATgT+QzlyoBTx1P8rXr5mAhmE/bEJW1Kpaaj9wjghHHcdYPwA4NC7YTc6+kbCZyjpqbr8AQC1fxlGVvjgH2bo90Iq+",
          "dtype": "f8"
         }
        },
        {
         "line": {
          "color": "rgb(55,126,184)",
          "width": 2
         },
         "mode": "lines",
         "name": "fANOVA-ParEGO",
         "type": "scatter",
         "x": {
          "bdata": "AAAAAAAAAAB7FK5H4XqUP3sUrkfheqQ/uB6F61G4rj97FK5H4Xq0P5qZmZmZmbk/uB6F61G4vj/sUbgehevBP3sUrkfhesQ/CtejcD0Kxz+amZmZmZnJPylcj8L1KMw/uB6F61G4zj+kcD0K16PQP+xRuB6F69E/MzMzMzMz0z97FK5H4XrUP8P1KFyPwtU/CtejcD0K1z9SuB6F61HYP5qZmZmZmdk/4XoUrkfh2j8pXI/C9SjcP3E9CtejcN0/uB6F61G43j8AAAAAAADgP6RwPQrXo+A/SOF6FK5H4T/sUbgehevhP4/C9Shcj+I/MzMzMzMz4z/Xo3A9CtfjP3sUrkfheuQ/H4XrUbge5T/D9Shcj8LlP2dmZmZmZuY/CtejcD0K5z+uR+F6FK7nP1K4HoXrUeg/9ihcj8L16D+amZmZmZnpPz4K16NwPeo/4XoUrkfh6j+F61G4HoXrPylcj8L1KOw/zczMzMzM7D9xPQrXo3DtPxWuR+F6FO4/uB6F61G47j9cj8L1KFzvPwAAAAAAAPA/",
          "dtype": "f8"
         },
         "y": {
          "bdata": "AAAAAAAAAABitxN5/HpUv94Cn2w3M3a/0Tklhy7Hc78WPRT5QZyBvyMu0+WpYXa/zo6ODw0iND8G/7hQuKtnP+IqntSGU3w/PlxxeTnChj+1MD3SFDuSP5JiS0uNXpc/vlqr1v9ymj8r/NkKL76cP5AaXZAyjZ8/BiVgoL41oT/gV9MndTmiP0o1BxpstKM/arC41Ky0pT9C19vS/U2nP5b4RmKWwqg/BiqOhWo0qj+aYZjcVu+qP6ITq+p0FKo/zmavv18JqT+lqQNvqOmnP0eDq7yDBKc/fruJnF0fpj/IbEhs70+lP1Ib3/+Tc6Q/Ok4I4GK3oz/HJSBc7zqjP8Z9JOVChKI/K/bmTGsmoj/VaxpWCYeiP0uV7XL/VaI/SdHEWSHooT+VwomZOCGhP1mXXPUNkqA/GOF6eAZsoD8YOtyROSSgP6Xv4Qy4hJ8/n6zESI3noD/NIP2W2kqeP0MDJql/gZo/dmTmhu3glz/6FtM3QZuUP0Z0G+eOGpE/rRcx3qcziz8HZK9TMTKEP8JgW5J1YXo/",
          "dtype": "f8"
         }
        },
        {
         "fill": "toself",
         "fillcolor": "rgba(55,126,184,0.1)",
         "hoverinfo": "skip",
         "line": {
          "color": "rgba(255,255,255,0)"
         },
         "showlegend": false,
         "type": "scatter",
         "x": {
          "bdata": "AAAAAAAAAAB7FK5H4XqUP3sUrkfheqQ/uB6F61G4rj97FK5H4Xq0P5qZmZmZmbk/uB6F61G4vj/sUbgehevBP3sUrkfhesQ/CtejcD0Kxz+amZmZmZnJPylcj8L1KMw/uB6F61G4zj+kcD0K16PQP+xRuB6F69E/MzMzMzMz0z97FK5H4XrUP8P1KFyPwtU/CtejcD0K1z9SuB6F61HYP5qZmZmZmdk/4XoUrkfh2j8pXI/C9SjcP3E9CtejcN0/uB6F61G43j8AAAAAAADgP6RwPQrXo+A/SOF6FK5H4T/sUbgehevhP4/C9Shcj+I/MzMzMzMz4z/Xo3A9CtfjP3sUrkfheuQ/H4XrUbge5T/D9Shcj8LlP2dmZmZmZuY/CtejcD0K5z+uR+F6FK7nP1K4HoXrUeg/9ihcj8L16D+amZmZmZnpPz4K16NwPeo/4XoUrkfh6j+F61G4HoXrPylcj8L1KOw/zczMzMzM7D9xPQrXo3DtPxWuR+F6FO4/uB6F61G47j9cj8L1KFzvPwAAAAAAAPA/AAAAAAAA8D9cj8L1KFzvP7gehetRuO4/Fa5H4XoU7j9xPQrXo3DtP83MzMzMzOw/KVyPwvUo7D+F61G4HoXrP+F6FK5H4eo/PgrXo3A96j+amZmZmZnpP/YoXI/C9eg/UrgehetR6D+uR+F6FK7nPwrXo3A9Cuc/Z2ZmZmZm5j/D9Shcj8LlPx+F61G4HuU/exSuR+F65D/Xo3A9CtfjPzMzMzMzM+M/j8L1KFyP4j/sUbgehevhP0jhehSuR+E/pHA9Ctej4D8AAAAAAADgP7gehetRuN4/cT0K16Nw3T8pXI/C9SjcP+F6FK5H4do/mpmZmZmZ2T9SuB6F61HYPwrXo3A9Ctc/w/UoXI/C1T97FK5H4XrUPzMzMzMzM9M/7FG4HoXr0T+kcD0K16PQP7gehetRuM4/KVyPwvUozD+amZmZmZnJPwrXo3A9Csc/exSuR+F6xD/sUbgehevBP7gehetRuL4/mpmZmZmZuT97FK5H4Xq0P7gehetRuK4/exSuR+F6pD97FK5H4XqUPwAAAAAAAAAA",
          "dtype": "f8"
         },
         "y": {
          "bdata": "AAAAAAAAAABitxN5/Hpkv3Rsid0gFYS/sqRALW/Sgr86OnMW8PWQv/ITosAm+oW/IAeS2rfheb/GhA6Vp9dxv4ACnb2ksh6/mWOL8e0Ucz+SsyTRIiyCP6tvNbHdh4c/6G4uadk5jD+1JyI+9UiQPyZz66jxJJM/yHXDPH9VlT9d6ckvq4KVP9x4gBlpzJY/9LWfR73NmT/R886YF6GbP1x2IWO7z5w/DEyFMun9nT9GTjF+DeCdP+Rvz+PWaps/bcVoxh1rmD8zNcXxJfuUP/7GBuAq95Q/kjTA8ETllD8HzH81JvGUP5TrV5Pt7ZQ/3uJBqdQolT90cgX4VmyVPxyrluGQKpU/5+oYcFO7lT+DqT1CSNaXPxLQCScq/pc/2jhH3ZqFlz8IqRk7pxaWPyepuBy89ZQ/TORW3qbMlD/MtSyHURaUP1ZMQ9EuQJM/0a70TErClz9qLKsqGEmUP12kkQl8F48/78xqB6qhiT+JS7YUdfaCP+YYw0Mjr3c/CJRzUwBSYj/IqvuNtYtWv9wKHzAmsXS/GHM1VQRdkj+0Ho+s7JqVPyylwtNn6Zg/UiJG/VRJnD8wCEvlR7ufPzqxCwWDeKE/LJrBpqC7oj+YiqeBTiakP9YBD2v17aU/eklApKDkpT9KGSJgSj2mPwpQyoG5caY/Htpc3D2ppj+msIaVHTenPyUG5kR1Dag/jUJW0umsqD/oAhaL7iKpP+J2weEsb6k//qV9WT1zqj9Ukj08s7+rPwWrb2tb2qw/2kASNjFwrj/GeejepROwP1quWWAM5rA/iNGpBLnGsT9YXJLy3qqyP3M1FU6Y7rI/qTe3Mb85sz8IDgx9U3ezPwPX7DjwtLI//5p+iaeOsT9OGqjst2WwP9qFoQV7gq4/Ji5Op6MCrD8Su8G3lLGpPyiPXqK9wKc//WDnu7n6pT9Q6MhrtJmkPwS/X3yJZKM/pwb+3pV8oT+hB+g7GGCbP1iDDv39/JE/52QZHuyQjD/mwePyr8GEP/rYg3z5ZXw/IIxGTMngKb+AWyBUPMpEv9Cjkjzrlz6/TLOseLTwUL8AAAAAAAAAAAAAAAAAAAAA",
          "dtype": "f8"
         }
        }
       ],
       "layout": {
        "font": {
         "size": 16
        },
        "height": 400,
        "legend": {
         "font": {
          "size": 16
         },
         "title": {
          "text": "Optimizers"
         }
        },
        "margin": {
         "b": 50,
         "l": 50,
         "r": 50,
         "t": 60
        },
        "template": {
         "data": {
          "bar": [
           {
            "error_x": {
             "color": "#2a3f5f"
            },
            "error_y": {
             "color": "#2a3f5f"
            },
            "marker": {
             "line": {
              "color": "white",
              "width": 0.5
             },
             "pattern": {
              "fillmode": "overlay",
              "size": 10,
              "solidity": 0.2
             }
            },
            "type": "bar"
           }
          ],
          "barpolar": [
           {
            "marker": {
             "line": {
              "color": "white",
              "width": 0.5
             },
             "pattern": {
              "fillmode": "overlay",
              "size": 10,
              "solidity": 0.2
             }
            },
            "type": "barpolar"
           }
          ],
          "carpet": [
           {
            "aaxis": {
             "endlinecolor": "#2a3f5f",
             "gridcolor": "#C8D4E3",
             "linecolor": "#C8D4E3",
             "minorgridcolor": "#C8D4E3",
             "startlinecolor": "#2a3f5f"
            },
            "baxis": {
             "endlinecolor": "#2a3f5f",
             "gridcolor": "#C8D4E3",
             "linecolor": "#C8D4E3",
             "minorgridcolor": "#C8D4E3",
             "startlinecolor": "#2a3f5f"
            },
            "type": "carpet"
           }
          ],
          "choropleth": [
           {
            "colorbar": {
             "outlinewidth": 0,
             "ticks": ""
            },
            "type": "choropleth"
           }
          ],
          "contour": [
           {
            "colorbar": {
             "outlinewidth": 0,
             "ticks": ""
            },
            "colorscale": [
             [
              0,
              "#0d0887"
             ],
             [
              0.1111111111111111,
              "#46039f"
             ],
             [
              0.2222222222222222,
              "#7201a8"
             ],
             [
              0.3333333333333333,
              "#9c179e"
             ],
             [
              0.4444444444444444,
              "#bd3786"
             ],
             [
              0.5555555555555556,
              "#d8576b"
             ],
             [
              0.6666666666666666,
              "#ed7953"
             ],
             [
              0.7777777777777778,
              "#fb9f3a"
             ],
             [
              0.8888888888888888,
              "#fdca26"
             ],
             [
              1,
              "#f0f921"
             ]
            ],
            "type": "contour"
           }
          ],
          "contourcarpet": [
           {
            "colorbar": {
             "outlinewidth": 0,
             "ticks": ""
            },
            "type": "contourcarpet"
           }
          ],
          "heatmap": [
           {
            "colorbar": {
             "outlinewidth": 0,
             "ticks": ""
            },
            "colorscale": [
             [
              0,
              "#0d0887"
             ],
             [
              0.1111111111111111,
              "#46039f"
             ],
             [
              0.2222222222222222,
              "#7201a8"
             ],
             [
              0.3333333333333333,
              "#9c179e"
             ],
             [
              0.4444444444444444,
              "#bd3786"
             ],
             [
              0.5555555555555556,
              "#d8576b"
             ],
             [
              0.6666666666666666,
              "#ed7953"
             ],
             [
              0.7777777777777778,
              "#fb9f3a"
             ],
             [
              0.8888888888888888,
              "#fdca26"
             ],
             [
              1,
              "#f0f921"
             ]
            ],
            "type": "heatmap"
           }
          ],
          "histogram": [
           {
            "marker": {
             "pattern": {
              "fillmode": "overlay",
              "size": 10,
              "solidity": 0.2
             }
            },
            "type": "histogram"
           }
          ],
          "histogram2d": [
           {
            "colorbar": {
             "outlinewidth": 0,
             "ticks": ""
            },
            "colorscale": [
             [
              0,
              "#0d0887"
             ],
             [
              0.1111111111111111,
              "#46039f"
             ],
             [
              0.2222222222222222,
              "#7201a8"
             ],
             [
              0.3333333333333333,
              "#9c179e"
             ],
             [
              0.4444444444444444,
              "#bd3786"
             ],
             [
              0.5555555555555556,
              "#d8576b"
             ],
             [
              0.6666666666666666,
              "#ed7953"
             ],
             [
              0.7777777777777778,
              "#fb9f3a"
             ],
             [
              0.8888888888888888,
              "#fdca26"
             ],
             [
              1,
              "#f0f921"
             ]
            ],
            "type": "histogram2d"
           }
          ],
          "histogram2dcontour": [
           {
            "colorbar": {
             "outlinewidth": 0,
             "ticks": ""
            },
            "colorscale": [
             [
              0,
              "#0d0887"
             ],
             [
              0.1111111111111111,
              "#46039f"
             ],
             [
              0.2222222222222222,
              "#7201a8"
             ],
             [
              0.3333333333333333,
              "#9c179e"
             ],
             [
              0.4444444444444444,
              "#bd3786"
             ],
             [
              0.5555555555555556,
              "#d8576b"
             ],
             [
              0.6666666666666666,
              "#ed7953"
             ],
             [
              0.7777777777777778,
              "#fb9f3a"
             ],
             [
              0.8888888888888888,
              "#fdca26"
             ],
             [
              1,
              "#f0f921"
             ]
            ],
            "type": "histogram2dcontour"
           }
          ],
          "mesh3d": [
           {
            "colorbar": {
             "outlinewidth": 0,
             "ticks": ""
            },
            "type": "mesh3d"
           }
          ],
          "parcoords": [
           {
            "line": {
             "colorbar": {
              "outlinewidth": 0,
              "ticks": ""
             }
            },
            "type": "parcoords"
           }
          ],
          "pie": [
           {
            "automargin": true,
            "type": "pie"
           }
          ],
          "scatter": [
           {
            "fillpattern": {
             "fillmode": "overlay",
             "size": 10,
             "solidity": 0.2
            },
            "type": "scatter"
           }
          ],
          "scatter3d": [
           {
            "line": {
             "colorbar": {
              "outlinewidth": 0,
              "ticks": ""
             }
            },
            "marker": {
             "colorbar": {
              "outlinewidth": 0,
              "ticks": ""
             }
            },
            "type": "scatter3d"
           }
          ],
          "scattercarpet": [
           {
            "marker": {
             "colorbar": {
              "outlinewidth": 0,
              "ticks": ""
             }
            },
            "type": "scattercarpet"
           }
          ],
          "scattergeo": [
           {
            "marker": {
             "colorbar": {
              "outlinewidth": 0,
              "ticks": ""
             }
            },
            "type": "scattergeo"
           }
          ],
          "scattergl": [
           {
            "marker": {
             "colorbar": {
              "outlinewidth": 0,
              "ticks": ""
             }
            },
            "type": "scattergl"
           }
          ],
          "scattermap": [
           {
            "marker": {
             "colorbar": {
              "outlinewidth": 0,
              "ticks": ""
             }
            },
            "type": "scattermap"
           }
          ],
          "scattermapbox": [
           {
            "marker": {
             "colorbar": {
              "outlinewidth": 0,
              "ticks": ""
             }
            },
            "type": "scattermapbox"
           }
          ],
          "scatterpolar": [
           {
            "marker": {
             "colorbar": {
              "outlinewidth": 0,
              "ticks": ""
             }
            },
            "type": "scatterpolar"
           }
          ],
          "scatterpolargl": [
           {
            "marker": {
             "colorbar": {
              "outlinewidth": 0,
              "ticks": ""
             }
            },
            "type": "scatterpolargl"
           }
          ],
          "scatterternary": [
           {
            "marker": {
             "colorbar": {
              "outlinewidth": 0,
              "ticks": ""
             }
            },
            "type": "scatterternary"
           }
          ],
          "surface": [
           {
            "colorbar": {
             "outlinewidth": 0,
             "ticks": ""
            },
            "colorscale": [
             [
              0,
              "#0d0887"
             ],
             [
              0.1111111111111111,
              "#46039f"
             ],
             [
              0.2222222222222222,
              "#7201a8"
             ],
             [
              0.3333333333333333,
              "#9c179e"
             ],
             [
              0.4444444444444444,
              "#bd3786"
             ],
             [
              0.5555555555555556,
              "#d8576b"
             ],
             [
              0.6666666666666666,
              "#ed7953"
             ],
             [
              0.7777777777777778,
              "#fb9f3a"
             ],
             [
              0.8888888888888888,
              "#fdca26"
             ],
             [
              1,
              "#f0f921"
             ]
            ],
            "type": "surface"
           }
          ],
          "table": [
           {
            "cells": {
             "fill": {
              "color": "#EBF0F8"
             },
             "line": {
              "color": "white"
             }
            },
            "header": {
             "fill": {
              "color": "#C8D4E3"
             },
             "line": {
              "color": "white"
             }
            },
            "type": "table"
           }
          ]
         },
         "layout": {
          "annotationdefaults": {
           "arrowcolor": "#2a3f5f",
           "arrowhead": 0,
           "arrowwidth": 1
          },
          "autotypenumbers": "strict",
          "coloraxis": {
           "colorbar": {
            "outlinewidth": 0,
            "ticks": ""
           }
          },
          "colorscale": {
           "diverging": [
            [
             0,
             "#8e0152"
            ],
            [
             0.1,
             "#c51b7d"
            ],
            [
             0.2,
             "#de77ae"
            ],
            [
             0.3,
             "#f1b6da"
            ],
            [
             0.4,
             "#fde0ef"
            ],
            [
             0.5,
             "#f7f7f7"
            ],
            [
             0.6,
             "#e6f5d0"
            ],
            [
             0.7,
             "#b8e186"
            ],
            [
             0.8,
             "#7fbc41"
            ],
            [
             0.9,
             "#4d9221"
            ],
            [
             1,
             "#276419"
            ]
           ],
           "sequential": [
            [
             0,
             "#0d0887"
            ],
            [
             0.1111111111111111,
             "#46039f"
            ],
            [
             0.2222222222222222,
             "#7201a8"
            ],
            [
             0.3333333333333333,
             "#9c179e"
            ],
            [
             0.4444444444444444,
             "#bd3786"
            ],
            [
             0.5555555555555556,
             "#d8576b"
            ],
            [
             0.6666666666666666,
             "#ed7953"
            ],
            [
             0.7777777777777778,
             "#fb9f3a"
            ],
            [
             0.8888888888888888,
             "#fdca26"
            ],
            [
             1,
             "#f0f921"
            ]
           ],
           "sequentialminus": [
            [
             0,
             "#0d0887"
            ],
            [
             0.1111111111111111,
             "#46039f"
            ],
            [
             0.2222222222222222,
             "#7201a8"
            ],
            [
             0.3333333333333333,
             "#9c179e"
            ],
            [
             0.4444444444444444,
             "#bd3786"
            ],
            [
             0.5555555555555556,
             "#d8576b"
            ],
            [
             0.6666666666666666,
             "#ed7953"
            ],
            [
             0.7777777777777778,
             "#fb9f3a"
            ],
            [
             0.8888888888888888,
             "#fdca26"
            ],
            [
             1,
             "#f0f921"
            ]
           ]
          },
          "colorway": [
           "#636efa",
           "#EF553B",
           "#00cc96",
           "#ab63fa",
           "#FFA15A",
           "#19d3f3",
           "#FF6692",
           "#B6E880",
           "#FF97FF",
           "#FECB52"
          ],
          "font": {
           "color": "#2a3f5f"
          },
          "geo": {
           "bgcolor": "white",
           "lakecolor": "white",
           "landcolor": "white",
           "showlakes": true,
           "showland": true,
           "subunitcolor": "#C8D4E3"
          },
          "hoverlabel": {
           "align": "left"
          },
          "hovermode": "closest",
          "mapbox": {
           "style": "light"
          },
          "paper_bgcolor": "white",
          "plot_bgcolor": "white",
          "polar": {
           "angularaxis": {
            "gridcolor": "#EBF0F8",
            "linecolor": "#EBF0F8",
            "ticks": ""
           },
           "bgcolor": "white",
           "radialaxis": {
            "gridcolor": "#EBF0F8",
            "linecolor": "#EBF0F8",
            "ticks": ""
           }
          },
          "scene": {
           "xaxis": {
            "backgroundcolor": "white",
            "gridcolor": "#DFE8F3",
            "gridwidth": 2,
            "linecolor": "#EBF0F8",
            "showbackground": true,
            "ticks": "",
            "zerolinecolor": "#EBF0F8"
           },
           "yaxis": {
            "backgroundcolor": "white",
            "gridcolor": "#DFE8F3",
            "gridwidth": 2,
            "linecolor": "#EBF0F8",
            "showbackground": true,
            "ticks": "",
            "zerolinecolor": "#EBF0F8"
           },
           "zaxis": {
            "backgroundcolor": "white",
            "gridcolor": "#DFE8F3",
            "gridwidth": 2,
            "linecolor": "#EBF0F8",
            "showbackground": true,
            "ticks": "",
            "zerolinecolor": "#EBF0F8"
           }
          },
          "shapedefaults": {
           "line": {
            "color": "#2a3f5f"
           }
          },
          "ternary": {
           "aaxis": {
            "gridcolor": "#DFE8F3",
            "linecolor": "#A2B1C6",
            "ticks": ""
           },
           "baxis": {
            "gridcolor": "#DFE8F3",
            "linecolor": "#A2B1C6",
            "ticks": ""
           },
           "bgcolor": "white",
           "caxis": {
            "gridcolor": "#DFE8F3",
            "linecolor": "#A2B1C6",
            "ticks": ""
           }
          },
          "title": {
           "x": 0.05
          },
          "xaxis": {
           "automargin": true,
           "gridcolor": "#EBF0F8",
           "linecolor": "#EBF0F8",
           "ticks": "",
           "title": {
            "standoff": 15
           },
           "zerolinecolor": "#EBF0F8",
           "zerolinewidth": 2
          },
          "yaxis": {
           "automargin": true,
           "gridcolor": "#EBF0F8",
           "linecolor": "#EBF0F8",
           "ticks": "",
           "title": {
            "standoff": 15
           },
           "zerolinecolor": "#EBF0F8",
           "zerolinewidth": 2
          }
         }
        },
        "width": 1100,
        "xaxis": {
         "title": {
          "text": "Normalized Trials"
         }
        },
        "yaxis": {
         "title": {
          "text": "Difference in Performance HPI and Random"
         }
        }
       }
      }
     },
     "metadata": {},
     "output_type": "display_data"
    }
   ],
   "source": [
    "fanova = perf_all[perf_all['optimizer_id']=='fanova_adjust_cs_default_constant_adjust_prev_cfgs_set_to_incumbent_thresh_0.75']\n",
    "fanova_rnd = rnd_all[rnd_all['optimizer_id']=='random_adjust_cs_default_constant_adjust_prev_cfgs_set_to_incumbent_thresh_0.75']\n",
    "fanova = pd.merge(fanova, fanova_rnd, on=['task_id', 'seed', 'n_trials_norm'], suffixes=('_final', '_rnd'))\n",
    "fanova['trial_value__cost_inc_norm_diff'] = fanova['trial_value__cost_inc_norm_rnd'] - fanova['trial_value__cost_inc_norm_final']\n",
    "fanova['optimizer_id'] = 'fANOVA-ParEGO'\n",
    "\n",
    "\n",
    "hypershap = perf_all[perf_all['optimizer_id']=='hypershap_adjust_cs_default_constant_adjust_prev_cfgs_set_to_incumbent_dynamic_decay_down']\n",
    "hypershap_rnd = rnd_all[rnd_all['optimizer_id']=='random_adjust_cs_default_constant_adjust_prev_cfgs_set_to_incumbent_dynamic_decay_down']\n",
    "hypershap = pd.merge(hypershap, hypershap_rnd, on=['task_id', 'seed', 'n_trials_norm'], suffixes=('_final', '_rnd'))\n",
    "hypershap['trial_value__cost_inc_norm_diff'] = hypershap['trial_value__cost_inc_norm_rnd'] - hypershap['trial_value__cost_inc_norm_final']\n",
    "hypershap['optimizer_id'] = 'HyperSHAP-ParEGO'\n",
    "\n",
    "df_plot = pd.concat([hypershap, fanova], ignore_index=True)\n",
    "\n",
    "# Average over tasks\n",
    "avg_task = df_plot.groupby([\"optimizer_id\", \"seed\", \"n_trials_norm\"]).agg(\n",
    "    mean_perf=(\"trial_value__cost_inc_norm_diff\", \"mean\")\n",
    ").reset_index()\n",
    "\n",
    "# Average over seeds\n",
    "avg_seed = avg_task.groupby([\"optimizer_id\", \"n_trials_norm\"]).agg(\n",
    "    mean=(\"mean_perf\", \"mean\"),\n",
    "    sem=(\"mean_perf\", \"sem\")\n",
    ").reset_index()\n",
    "\n",
    "auc_per_seed = (\n",
    "    df_plot.groupby([\"optimizer_id\", \"seed\"])\n",
    "    .apply(lambda group: trapz(group.sort_values(\"n_trials_norm\")[\"trial_value__cost_inc_norm_diff\"],\n",
    "                                group.sort_values(\"n_trials_norm\")[\"n_trials_norm\"]))\n",
    "    .reset_index(name=\"auc\")\n",
    ")\n",
    "\n",
    "colors = px.colors.qualitative.Set1\n",
    "fig = go.Figure()\n",
    "for i, optimizer in enumerate(avg_seed[\"optimizer_id\"].unique()):\n",
    "    df_opt = avg_seed[avg_seed[\"optimizer_id\"] == optimizer]\n",
    "    line_color = colors[i % len(colors)]\n",
    "\n",
    "    # Mean line\n",
    "    fig.add_trace(go.Scatter(\n",
    "        x=df_opt[\"n_trials_norm\"],\n",
    "        y=df_opt[\"mean\"],\n",
    "        mode=\"lines\",\n",
    "        name=optimizer,\n",
    "        line=dict(width=2, color=line_color),\n",
    "    ))\n",
    "\n",
    "    # Shaded error (sem)\n",
    "    fig.add_trace(go.Scatter(\n",
    "        x=pd.concat([df_opt[\"n_trials_norm\"], df_opt[\"n_trials_norm\"][::-1]]),\n",
    "        y=pd.concat([\n",
    "            df_opt[\"mean\"] - df_opt[\"sem\"],\n",
    "            (df_opt[\"mean\"] + df_opt[\"sem\"])[::-1]\n",
    "        ]),\n",
    "        fill='toself',\n",
    "        fillcolor=line_color.replace(')', ',0.1)').replace('rgb', 'rgba'),\n",
    "        line=dict(color='rgba(255,255,255,0)'),\n",
    "        hoverinfo=\"skip\",\n",
    "        showlegend=False\n",
    "    ))\n",
    "\n",
    "\n",
    "fig.update_layout(\n",
    "    height=400,\n",
    "    width=1100,\n",
    "    template=\"plotly_white\",\n",
    "    font=dict(size=16),\n",
    "    legend=dict(title=\"Optimizers\", font=dict(size=16)),\n",
    "    margin=dict(t=60, l=50, r=50, b=50)\n",
    ")\n",
    "\n",
    "fig.update_xaxes(title_text=\"Normalized Trials\")\n",
    "fig.update_yaxes(title_text=\"Difference in Performance HPI and Random\")\n",
    "fig.show()"
   ]
  },
  {
   "cell_type": "code",
   "execution_count": null,
   "id": "aae5be8d",
   "metadata": {},
   "outputs": [
    {
     "data": {
      "application/vnd.microsoft.datawrangler.viewer.v0+json": {
       "columns": [
        {
         "name": "index",
         "rawType": "int64",
         "type": "integer"
        },
        {
         "name": "task_id",
         "rawType": "object",
         "type": "string"
        },
        {
         "name": "seed",
         "rawType": "int64",
         "type": "integer"
        },
        {
         "name": "n_trials_norm",
         "rawType": "float64",
         "type": "float"
        },
        {
         "name": "diff_trial_value__cost_inc_norm",
         "rawType": "float64",
         "type": "float"
        }
       ],
       "conversionMethod": "pd.DataFrame",
       "ref": "d179f54f-deb4-4261-9b1d-6f585cb44f99",
       "rows": [
        [
         "0",
         "multi-objective/50/dev/yahpo/mo/iaml_glmnet/1489/None",
         "0",
         "0.0",
         "0.0"
        ],
        [
         "1",
         "multi-objective/50/dev/yahpo/mo/iaml_glmnet/1489/None",
         "0",
         "0.02",
         "0.0"
        ],
        [
         "2",
         "multi-objective/50/dev/yahpo/mo/iaml_glmnet/1489/None",
         "0",
         "0.04",
         "0.0"
        ],
        [
         "3",
         "multi-objective/50/dev/yahpo/mo/iaml_glmnet/1489/None",
         "0",
         "0.06",
         "0.0"
        ],
        [
         "4",
         "multi-objective/50/dev/yahpo/mo/iaml_glmnet/1489/None",
         "0",
         "0.08",
         "0.0"
        ],
        [
         "5",
         "multi-objective/50/dev/yahpo/mo/iaml_glmnet/1489/None",
         "0",
         "0.1",
         "0.0"
        ],
        [
         "6",
         "multi-objective/50/dev/yahpo/mo/iaml_glmnet/1489/None",
         "0",
         "0.12",
         "0.000309676074884949"
        ],
        [
         "7",
         "multi-objective/50/dev/yahpo/mo/iaml_glmnet/1489/None",
         "0",
         "0.14",
         "0.0009290282246548478"
        ],
        [
         "8",
         "multi-objective/50/dev/yahpo/mo/iaml_glmnet/1489/None",
         "0",
         "0.16",
         "0.0010941887979268204"
        ],
        [
         "9",
         "multi-objective/50/dev/yahpo/mo/iaml_glmnet/1489/None",
         "0",
         "0.18",
         "0.001259349371198793"
        ],
        [
         "10",
         "multi-objective/50/dev/yahpo/mo/iaml_glmnet/1489/None",
         "0",
         "0.2",
         "0.0014245099444707664"
        ],
        [
         "11",
         "multi-objective/50/dev/yahpo/mo/iaml_glmnet/1489/None",
         "0",
         "0.22",
         "0.0015896705177427391"
        ],
        [
         "12",
         "multi-objective/50/dev/yahpo/mo/iaml_glmnet/1489/None",
         "0",
         "0.24",
         "0.0012351427416138923"
        ],
        [
         "13",
         "multi-objective/50/dev/yahpo/mo/iaml_glmnet/1489/None",
         "0",
         "0.26",
         "0.0008806149654850453"
        ],
        [
         "14",
         "multi-objective/50/dev/yahpo/mo/iaml_glmnet/1489/None",
         "0",
         "0.28",
         "0.000526087189356198"
        ],
        [
         "15",
         "multi-objective/50/dev/yahpo/mo/iaml_glmnet/1489/None",
         "0",
         "0.3",
         "0.0003595015656170336"
        ],
        [
         "16",
         "multi-objective/50/dev/yahpo/mo/iaml_glmnet/1489/None",
         "0",
         "0.32",
         "0.00038085809426755045"
        ],
        [
         "17",
         "multi-objective/50/dev/yahpo/mo/iaml_glmnet/1489/None",
         "0",
         "0.34",
         "0.0003715370412108954"
        ],
        [
         "18",
         "multi-objective/50/dev/yahpo/mo/iaml_glmnet/1489/None",
         "0",
         "0.36",
         "0.00033153840644706875"
        ],
        [
         "19",
         "multi-objective/50/dev/yahpo/mo/iaml_glmnet/1489/None",
         "0",
         "0.38",
         "0.0002915397716832419"
        ],
        [
         "20",
         "multi-objective/50/dev/yahpo/mo/iaml_glmnet/1489/None",
         "0",
         "0.4",
         "0.0002515411369194148"
        ],
        [
         "21",
         "multi-objective/50/dev/yahpo/mo/iaml_glmnet/1489/None",
         "0",
         "0.42",
         "0.00021154250215558827"
        ],
        [
         "22",
         "multi-objective/50/dev/yahpo/mo/iaml_glmnet/1489/None",
         "0",
         "0.44",
         "0.00020845761326649173"
        ],
        [
         "23",
         "multi-objective/50/dev/yahpo/mo/iaml_glmnet/1489/None",
         "0",
         "0.46",
         "0.0002175682938503513"
        ],
        [
         "24",
         "multi-objective/50/dev/yahpo/mo/iaml_glmnet/1489/None",
         "0",
         "0.48",
         "0.00022667897443421074"
        ],
        [
         "25",
         "multi-objective/50/dev/yahpo/mo/iaml_glmnet/1489/None",
         "0",
         "0.5",
         "0.0002357896550180703"
        ],
        [
         "26",
         "multi-objective/50/dev/yahpo/mo/iaml_glmnet/1489/None",
         "0",
         "0.52",
         "0.00024490033560192986"
        ],
        [
         "27",
         "multi-objective/50/dev/yahpo/mo/iaml_glmnet/1489/None",
         "0",
         "0.54",
         "0.0002540110161857894"
        ],
        [
         "28",
         "multi-objective/50/dev/yahpo/mo/iaml_glmnet/1489/None",
         "0",
         "0.56",
         "0.000263121696769649"
        ],
        [
         "29",
         "multi-objective/50/dev/yahpo/mo/iaml_glmnet/1489/None",
         "0",
         "0.58",
         "0.00023463871158301355"
        ],
        [
         "30",
         "multi-objective/50/dev/yahpo/mo/iaml_glmnet/1489/None",
         "0",
         "0.6",
         "0.00018199807279726512"
        ],
        [
         "31",
         "multi-objective/50/dev/yahpo/mo/iaml_glmnet/1489/None",
         "0",
         "0.62",
         "0.0001293574340115169"
        ],
        [
         "32",
         "multi-objective/50/dev/yahpo/mo/iaml_glmnet/1489/None",
         "0",
         "0.64",
         "7.671679522576859e-05"
        ],
        [
         "33",
         "multi-objective/50/dev/yahpo/mo/iaml_glmnet/1489/None",
         "0",
         "0.66",
         "2.407615644002027e-05"
        ],
        [
         "34",
         "multi-objective/50/dev/yahpo/mo/iaml_glmnet/1489/None",
         "0",
         "0.68",
         "-6.174905340156967e-06"
        ],
        [
         "35",
         "multi-objective/50/dev/yahpo/mo/iaml_glmnet/1489/None",
         "0",
         "0.7000000000000001",
         "-1.4036390114763125e-05"
        ],
        [
         "36",
         "multi-objective/50/dev/yahpo/mo/iaml_glmnet/1489/None",
         "0",
         "0.72",
         "-2.349500685400489e-06"
        ],
        [
         "37",
         "multi-objective/50/dev/yahpo/mo/iaml_glmnet/1489/None",
         "0",
         "0.74",
         "2.8885762947930668e-05"
        ],
        [
         "38",
         "multi-objective/50/dev/yahpo/mo/iaml_glmnet/1489/None",
         "0",
         "0.76",
         "6.012102658126188e-05"
        ],
        [
         "39",
         "multi-objective/50/dev/yahpo/mo/iaml_glmnet/1489/None",
         "0",
         "0.78",
         "9.135629021459309e-05"
        ],
        [
         "40",
         "multi-objective/50/dev/yahpo/mo/iaml_glmnet/1489/None",
         "0",
         "0.8",
         "8.550436430524935e-05"
        ],
        [
         "41",
         "multi-objective/50/dev/yahpo/mo/iaml_glmnet/1489/None",
         "0",
         "0.8200000000000001",
         "7.965243839590567e-05"
        ],
        [
         "42",
         "multi-objective/50/dev/yahpo/mo/iaml_glmnet/1489/None",
         "0",
         "0.84",
         "7.380051248656193e-05"
        ],
        [
         "43",
         "multi-objective/50/dev/yahpo/mo/iaml_glmnet/1489/None",
         "0",
         "0.86",
         "6.794858657721824e-05"
        ],
        [
         "44",
         "multi-objective/50/dev/yahpo/mo/iaml_glmnet/1489/None",
         "0",
         "0.88",
         "7.310815695819601e-05"
        ],
        [
         "45",
         "multi-objective/50/dev/yahpo/mo/iaml_glmnet/1489/None",
         "0",
         "0.9",
         "7.753137836502896e-05"
        ],
        [
         "46",
         "multi-objective/50/dev/yahpo/mo/iaml_glmnet/1489/None",
         "0",
         "0.92",
         "8.121825079771705e-05"
        ],
        [
         "47",
         "multi-objective/50/dev/yahpo/mo/iaml_glmnet/1489/None",
         "0",
         "0.9400000000000001",
         "8.490512323040513e-05"
        ],
        [
         "48",
         "multi-objective/50/dev/yahpo/mo/iaml_glmnet/1489/None",
         "0",
         "0.96",
         "8.859199566309321e-05"
        ],
        [
         "49",
         "multi-objective/50/dev/yahpo/mo/iaml_glmnet/1489/None",
         "0",
         "0.98",
         "9.22788680957813e-05"
        ]
       ],
       "shape": {
        "columns": 4,
        "rows": 6018
       }
      },
      "text/html": [
       "<div>\n",
       "<style scoped>\n",
       "    .dataframe tbody tr th:only-of-type {\n",
       "        vertical-align: middle;\n",
       "    }\n",
       "\n",
       "    .dataframe tbody tr th {\n",
       "        vertical-align: top;\n",
       "    }\n",
       "\n",
       "    .dataframe thead th {\n",
       "        text-align: right;\n",
       "    }\n",
       "</style>\n",
       "<table border=\"1\" class=\"dataframe\">\n",
       "  <thead>\n",
       "    <tr style=\"text-align: right;\">\n",
       "      <th></th>\n",
       "      <th>task_id</th>\n",
       "      <th>seed</th>\n",
       "      <th>n_trials_norm</th>\n",
       "      <th>diff_trial_value__cost_inc_norm</th>\n",
       "    </tr>\n",
       "  </thead>\n",
       "  <tbody>\n",
       "    <tr>\n",
       "      <th>0</th>\n",
       "      <td>multi-objective/50/dev/yahpo/mo/iaml_glmnet/14...</td>\n",
       "      <td>0</td>\n",
       "      <td>0.00</td>\n",
       "      <td>0.000000</td>\n",
       "    </tr>\n",
       "    <tr>\n",
       "      <th>1</th>\n",
       "      <td>multi-objective/50/dev/yahpo/mo/iaml_glmnet/14...</td>\n",
       "      <td>0</td>\n",
       "      <td>0.02</td>\n",
       "      <td>0.000000</td>\n",
       "    </tr>\n",
       "    <tr>\n",
       "      <th>2</th>\n",
       "      <td>multi-objective/50/dev/yahpo/mo/iaml_glmnet/14...</td>\n",
       "      <td>0</td>\n",
       "      <td>0.04</td>\n",
       "      <td>0.000000</td>\n",
       "    </tr>\n",
       "    <tr>\n",
       "      <th>3</th>\n",
       "      <td>multi-objective/50/dev/yahpo/mo/iaml_glmnet/14...</td>\n",
       "      <td>0</td>\n",
       "      <td>0.06</td>\n",
       "      <td>0.000000</td>\n",
       "    </tr>\n",
       "    <tr>\n",
       "      <th>4</th>\n",
       "      <td>multi-objective/50/dev/yahpo/mo/iaml_glmnet/14...</td>\n",
       "      <td>0</td>\n",
       "      <td>0.08</td>\n",
       "      <td>0.000000</td>\n",
       "    </tr>\n",
       "    <tr>\n",
       "      <th>...</th>\n",
       "      <td>...</td>\n",
       "      <td>...</td>\n",
       "      <td>...</td>\n",
       "      <td>...</td>\n",
       "    </tr>\n",
       "    <tr>\n",
       "      <th>6013</th>\n",
       "      <td>multi-objective/50/dev/hpobench/multiobjective...</td>\n",
       "      <td>4</td>\n",
       "      <td>0.92</td>\n",
       "      <td>-0.005848</td>\n",
       "    </tr>\n",
       "    <tr>\n",
       "      <th>6014</th>\n",
       "      <td>multi-objective/50/dev/hpobench/multiobjective...</td>\n",
       "      <td>4</td>\n",
       "      <td>0.94</td>\n",
       "      <td>-0.005809</td>\n",
       "    </tr>\n",
       "    <tr>\n",
       "      <th>6015</th>\n",
       "      <td>multi-objective/50/dev/hpobench/multiobjective...</td>\n",
       "      <td>4</td>\n",
       "      <td>0.96</td>\n",
       "      <td>-0.005769</td>\n",
       "    </tr>\n",
       "    <tr>\n",
       "      <th>6016</th>\n",
       "      <td>multi-objective/50/dev/hpobench/multiobjective...</td>\n",
       "      <td>4</td>\n",
       "      <td>0.98</td>\n",
       "      <td>-0.005730</td>\n",
       "    </tr>\n",
       "    <tr>\n",
       "      <th>6017</th>\n",
       "      <td>multi-objective/50/dev/hpobench/multiobjective...</td>\n",
       "      <td>4</td>\n",
       "      <td>1.00</td>\n",
       "      <td>-0.005691</td>\n",
       "    </tr>\n",
       "  </tbody>\n",
       "</table>\n",
       "<p>6018 rows × 4 columns</p>\n",
       "</div>"
      ],
      "text/plain": [
       "                                                task_id  seed  n_trials_norm  \\\n",
       "0     multi-objective/50/dev/yahpo/mo/iaml_glmnet/14...     0           0.00   \n",
       "1     multi-objective/50/dev/yahpo/mo/iaml_glmnet/14...     0           0.02   \n",
       "2     multi-objective/50/dev/yahpo/mo/iaml_glmnet/14...     0           0.04   \n",
       "3     multi-objective/50/dev/yahpo/mo/iaml_glmnet/14...     0           0.06   \n",
       "4     multi-objective/50/dev/yahpo/mo/iaml_glmnet/14...     0           0.08   \n",
       "...                                                 ...   ...            ...   \n",
       "6013  multi-objective/50/dev/hpobench/multiobjective...     4           0.92   \n",
       "6014  multi-objective/50/dev/hpobench/multiobjective...     4           0.94   \n",
       "6015  multi-objective/50/dev/hpobench/multiobjective...     4           0.96   \n",
       "6016  multi-objective/50/dev/hpobench/multiobjective...     4           0.98   \n",
       "6017  multi-objective/50/dev/hpobench/multiobjective...     4           1.00   \n",
       "\n",
       "      diff_trial_value__cost_inc_norm  \n",
       "0                            0.000000  \n",
       "1                            0.000000  \n",
       "2                            0.000000  \n",
       "3                            0.000000  \n",
       "4                            0.000000  \n",
       "...                               ...  \n",
       "6013                        -0.005848  \n",
       "6014                        -0.005809  \n",
       "6015                        -0.005769  \n",
       "6016                        -0.005730  \n",
       "6017                        -0.005691  \n",
       "\n",
       "[6018 rows x 4 columns]"
      ]
     },
     "execution_count": 178,
     "metadata": {},
     "output_type": "execute_result"
    }
   ],
   "source": [
    "\n"
   ]
  }
 ],
 "metadata": {
  "kernelspec": {
   "display_name": "carps",
   "language": "python",
   "name": "python3"
  },
  "language_info": {
   "codemirror_mode": {
    "name": "ipython",
    "version": 3
   },
   "file_extension": ".py",
   "mimetype": "text/x-python",
   "name": "python",
   "nbconvert_exporter": "python",
   "pygments_lexer": "ipython3",
   "version": "3.10.16"
  }
 },
 "nbformat": 4,
 "nbformat_minor": 5
}
