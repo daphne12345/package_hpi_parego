{
 "cells": [
  {
   "cell_type": "code",
   "execution_count": 174,
   "id": "3bd8ee49",
   "metadata": {},
   "outputs": [],
   "source": [
    "import pandas as pd\n",
    "from carps.analysis.gather_data import normalize_logs, get_interpolated_performance_df\n",
    "from numpy import trapz\n",
    "import importlib\n",
    "import matplotlib.pyplot as plt\n",
    "import seaborn as sns\n",
    "import numpy as np\n",
    "import pandas as pd\n",
    "import plotly.graph_objects as go\n",
    "from plotly.subplots import make_subplots\n",
    "import plotly.express as px \n",
    "import itertools\n",
    "import pandas as pd\n",
    "\n",
    "import carps.analysis.performance_over_time\n",
    "from carps.analysis.generate_report import *\n",
    "\n",
    "\n",
    "importlib.reload(carps)\n",
    "importlib.reload(carps.analysis)\n",
    "importlib.reload(carps.analysis.performance_over_time)\n",
    "from carps.analysis.performance_over_time import plot_performance_over_time, setup_seaborn, savefig, get_color_palette, get_order_by_mean\n"
   ]
  },
  {
   "cell_type": "markdown",
   "id": "d272f1d1",
   "metadata": {},
   "source": [
    "# Old"
   ]
  },
  {
   "cell_type": "code",
   "execution_count": 58,
   "id": "7f9c61cb",
   "metadata": {},
   "outputs": [],
   "source": [
    "tasks = {}\n",
    "tasks['Pymoo'] = [\n",
    "'multi-objective/50/dev/Pymoo/MO/unconstraint/kursawe',\n",
    "'multi-objective/50/dev/Pymoo/MO/unconstraint/zdt1',\n",
    "'multi-objective/50/dev/Pymoo/MO/unconstraint/zdt2',\n",
    "'multi-objective/50/dev/Pymoo/MO/unconstraint/zdt6']\n",
    "tasks['HPOBench'] = ['multi-objective/50/dev/hpobench/multiobjective/tabular/ml/lr/53',\n",
    "       'multi-objective/50/dev/hpobench/multiobjective/tabular/ml/lr/9952', \n",
    "       'multi-objective/50/dev/hpobench/multiobjective/tabular/ml/lr/9977', \n",
    "       'multi-objective/50/dev/hpobench/multiobjective/tabular/ml/lr/10101', \n",
    "       'multi-objective/50/dev/hpobench/multiobjective/tabular/ml/lr/146212', \n",
    "       'multi-objective/50/dev/hpobench/multiobjective/tabular/ml/lr/146606',  \n",
    "       'multi-objective/50/dev/hpobench/multiobjective/tabular/ml/lr/146818',  \n",
    "       'multi-objective/50/dev/hpobench/multiobjective/tabular/ml/lr/146821', \n",
    "       'multi-objective/50/dev/hpobench/multiobjective/tabular/ml/lr/146822', \n",
    "       'multi-objective/50/dev/hpobench/multiobjective/tabular/ml/lr/167119', \n",
    "       'multi-objective/50/dev/hpobench/multiobjective/tabular/ml/lr/167120', \n",
    "       'multi-objective/50/dev/hpobench/multiobjective/tabular/ml/nn/3917', \n",
    "       'multi-objective/50/dev/hpobench/multiobjective/tabular/ml/nn/10101',\n",
    "       'multi-objective/50/dev/hpobench/multiobjective/tabular/ml/nn/146821', \n",
    "       'multi-objective/50/dev/hpobench/multiobjective/tabular/ml/rf/3',  \n",
    "       'multi-objective/50/dev/hpobench/multiobjective/tabular/ml/rf/9952',  \n",
    "       'multi-objective/50/dev/hpobench/multiobjective/tabular/ml/rf/146212',\n",
    "       'multi-objective/50/dev/hpobench/multiobjective/tabular/ml/rf/167119',\n",
    "       'multi-objective/50/dev/hpobench/multiobjective/tabular/ml/rf/167120',\n",
    "       'multi-objective/50/dev/hpobench/multiobjective/tabular/ml/rf/168911',\n",
    "       'multi-objective/50/dev/hpobench/multiobjective/tabular/ml/svm/3', \n",
    "       'multi-objective/50/dev/hpobench/multiobjective/tabular/ml/svm/31', \n",
    "       'multi-objective/50/dev/hpobench/multiobjective/tabular/ml/svm/53', \n",
    "       'multi-objective/50/dev/hpobench/multiobjective/tabular/ml/svm/3917',\n",
    "       'multi-objective/50/dev/hpobench/multiobjective/tabular/ml/svm/9952',  \n",
    "       'multi-objective/50/dev/hpobench/multiobjective/tabular/ml/svm/9977',  \n",
    "       'multi-objective/50/dev/hpobench/multiobjective/tabular/ml/svm/14965', \n",
    "       'multi-objective/50/dev/hpobench/multiobjective/tabular/ml/svm/146822',\n",
    "       'multi-objective/50/dev/hpobench/multiobjective/tabular/ml/svm/168911',\n",
    "       'multi-objective/50/dev/hpobench/multiobjective/tabular/ml/xgboost/3917',\n",
    "       'multi-objective/50/dev/hpobench/multiobjective/tabular/ml/xgboost/7592', \n",
    "       'multi-objective/50/dev/hpobench/multiobjective/tabular/ml/xgboost/9952', \n",
    "       'multi-objective/50/dev/hpobench/multiobjective/tabular/ml/xgboost/146606',\n",
    "       'multi-objective/50/dev/hpobench/multiobjective/tabular/ml/xgboost/146822', \n",
    "       'multi-objective/50/dev/hpobench/multiobjective/tabular/ml/xgboost/167120']\n",
    "tasks['YAHPO'] = ['multi-objective/50/dev/yahpo/mo/iaml_glmnet/1489/None',\n",
    "      'multi-objective/50/dev/yahpo/mo/iaml_ranger/1489/None', \n",
    "      'multi-objective/50/dev/yahpo/mo/rbv2_ranger/375/None', \n",
    "      'multi-objective/50/dev/yahpo/mo/rbv2_xgboost/28/None', \n",
    "      'multi-objective/50/dev/yahpo/mo/rbv2_xgboost/182/None']"
   ]
  },
  {
   "cell_type": "code",
   "execution_count": 53,
   "id": "5b1ff3a9",
   "metadata": {},
   "outputs": [],
   "source": [
    "\n",
    "def expand_optimizer_id(df: pd.DataFrame, optimizer_id_col: str = 'optimizer_id') -> pd.DataFrame:\n",
    "    def parse_optimizer_id(opt_id: str) -> dict:\n",
    "        info = {\n",
    "            'hpi_method': None,\n",
    "            'adjust_cs': 'False',\n",
    "            'cs_method': 'False',\n",
    "            'pc_method': 'False',\n",
    "            'thresh': None,\n",
    "            'adjust_method': None\n",
    "        }\n",
    "        parts = opt_id.split('_')\n",
    "        info['hpi_method'] = parts[0]\n",
    "\n",
    "        \n",
    "        if 'adjust_cs_' in opt_id:\n",
    "            info['adjust_cs'] = 'distribution'\n",
    "            info['cs_method'] = parts[parts.index('cs')+1]\n",
    "            info['adjust_method'] = 'adjust_cs_only'\n",
    "        if 'constant' in opt_id:\n",
    "            info['adjust_cs'] = 'constant'\n",
    "        if 'cs_proba_hpi' in opt_id:\n",
    "            info['adjust_cs'] = 'cs_proba_hpi'\n",
    "        if 'set_to' in opt_id:\n",
    "            info['pc_method'] = parts[parts.index('to')+1]\n",
    "            if info['adjust_method'] == 'adjust_cs_only':\n",
    "                info['adjust_method'] = 'both'\n",
    "            else:\n",
    "                info['adjust_method'] = 'adjust_pc_only'\n",
    "        if 'down' in opt_id:\n",
    "            info['thresh'] = 'down'\n",
    "        elif 'up' in opt_id:\n",
    "            info['thresh'] = 'up'\n",
    "        else: \n",
    "            info['thresh'] = parts[parts.index('thresh')+1]\n",
    "        \n",
    "        return info\n",
    "\n",
    "    # Apply the parser to each row\n",
    "    parsed = df[optimizer_id_col].apply(parse_optimizer_id)\n",
    "    parsed_df = pd.DataFrame(parsed.tolist())\n",
    "\n",
    "    # Merge with the original DataFrame\n",
    "    return pd.concat([df, parsed_df], axis=1)\n",
    "\n",
    "def check_if_complete_for_max_trials(in_df):\n",
    "    max_trials = in_df['n_trials_norm'].max()\n",
    "    filtered_df = in_df[in_df['n_trials_norm'] == max_trials]\n",
    "    miss_dict = {}\n",
    "    seeds = filtered_df['seed'].unique()\n",
    "    expected_combinations = set(itertools.product(tasks[in_df['benchmark_id'].iloc[0]], [max_trials], seeds))\n",
    "    incomplete = False\n",
    "    for optimizer_id, group in filtered_df.groupby('optimizer_id'):\n",
    "        actual_combinations = set(group[['task_id', 'n_trials_norm', 'seed']].itertuples(index=False, name=None))\n",
    "        missing = expected_combinations - actual_combinations\n",
    "        if missing:\n",
    "            print(f\"Optimizer {optimizer_id} is not complete for max n_trials_norm = {max_trials}: {len(missing)} combinations missing.\")\n",
    "            miss_dict[optimizer_id] = missing\n",
    "            incomplete = True\n",
    "    if not incomplete:\n",
    "        print('All data complete!')\n",
    "        return None\n",
    "    return miss_dict\n",
    "\n",
    "def read_data(path):\n",
    "    df = pd.read_parquet(path)\n",
    "    df = normalize_logs(df)\n",
    "    df['n_trials_norm'] = df.groupby('experiment_id')['time'].rank(method='dense', pct=True).round(2)\n",
    "    if 'set' not in df.columns:\n",
    "        df[\"set\"] = '0'\n",
    "    df_random = df[df['optimizer_id'].str.startswith('random_')]\n",
    "    df = df[~df['optimizer_id'].str.startswith('random_')]\n",
    "    # check_if_complete_for_max_trials(df)\n",
    "    return df, df_random\n",
    "\n",
    "def get_perf(df):\n",
    "    perf = get_interpolated_performance_df(df, n_points=50)\n",
    "    missing = check_if_complete_for_max_trials(df)\n",
    "    perf = expand_optimizer_id(perf)\n",
    "    perf = perf[perf['adjust_method'].notna()]\n",
    "    return perf, missing"
   ]
  },
  {
   "cell_type": "code",
   "execution_count": 153,
   "id": "fa1120ca",
   "metadata": {},
   "outputs": [
    {
     "data": {
      "text/html": [
       "<pre style=\"white-space:pre;overflow-x:auto;line-height:normal;font-family:Menlo,'DejaVu Sans Mono',consolas,'Courier New',monospace\"><span style=\"color: #7fbfbf; text-decoration-color: #7fbfbf\">[11:10:49] </span><span style=\"color: #000080; text-decoration-color: #000080\">INFO    </span> Start normalization<span style=\"color: #808000; text-decoration-color: #808000\">...</span>                                                       <a href=\"file:///home/daphne/Code/hpi_parego/CARP-S/carps/analysis/gather_data.py\" target=\"_blank\"><span style=\"color: #7f7f7f; text-decoration-color: #7f7f7f\">gather_data.py</span></a><span style=\"color: #7f7f7f; text-decoration-color: #7f7f7f\">:</span><a href=\"file:///home/daphne/Code/hpi_parego/CARP-S/carps/analysis/gather_data.py#616\" target=\"_blank\"><span style=\"color: #7f7f7f; text-decoration-color: #7f7f7f\">616</span></a>\n",
       "</pre>\n"
      ],
      "text/plain": [
       "\u001b[2;36m[11:10:49]\u001b[0m\u001b[2;36m \u001b[0m\u001b[34mINFO    \u001b[0m Start normalization\u001b[33m...\u001b[0m                                                       \u001b]8;id=872248;file:///home/daphne/Code/hpi_parego/CARP-S/carps/analysis/gather_data.py\u001b\\\u001b[2mgather_data.py\u001b[0m\u001b]8;;\u001b\\\u001b[2m:\u001b[0m\u001b]8;id=779619;file:///home/daphne/Code/hpi_parego/CARP-S/carps/analysis/gather_data.py#616\u001b\\\u001b[2m616\u001b[0m\u001b]8;;\u001b\\\n"
      ]
     },
     "metadata": {},
     "output_type": "display_data"
    },
    {
     "data": {
      "text/html": [
       "<pre style=\"white-space:pre;overflow-x:auto;line-height:normal;font-family:Menlo,'DejaVu Sans Mono',consolas,'Courier New',monospace\"><span style=\"color: #7fbfbf; text-decoration-color: #7fbfbf\">           </span><span style=\"color: #000080; text-decoration-color: #000080\">INFO    </span> Normalize n_trials<span style=\"color: #808000; text-decoration-color: #808000\">...</span>                                                        <a href=\"file:///home/daphne/Code/hpi_parego/CARP-S/carps/analysis/gather_data.py\" target=\"_blank\"><span style=\"color: #7f7f7f; text-decoration-color: #7f7f7f\">gather_data.py</span></a><span style=\"color: #7f7f7f; text-decoration-color: #7f7f7f\">:</span><a href=\"file:///home/daphne/Code/hpi_parego/CARP-S/carps/analysis/gather_data.py#617\" target=\"_blank\"><span style=\"color: #7f7f7f; text-decoration-color: #7f7f7f\">617</span></a>\n",
       "</pre>\n"
      ],
      "text/plain": [
       "\u001b[2;36m          \u001b[0m\u001b[2;36m \u001b[0m\u001b[34mINFO    \u001b[0m Normalize n_trials\u001b[33m...\u001b[0m                                                        \u001b]8;id=724489;file:///home/daphne/Code/hpi_parego/CARP-S/carps/analysis/gather_data.py\u001b\\\u001b[2mgather_data.py\u001b[0m\u001b]8;;\u001b\\\u001b[2m:\u001b[0m\u001b]8;id=171516;file:///home/daphne/Code/hpi_parego/CARP-S/carps/analysis/gather_data.py#617\u001b\\\u001b[2m617\u001b[0m\u001b]8;;\u001b\\\n"
      ]
     },
     "metadata": {},
     "output_type": "display_data"
    },
    {
     "data": {
      "text/html": [
       "<pre style=\"white-space:pre;overflow-x:auto;line-height:normal;font-family:Menlo,'DejaVu Sans Mono',consolas,'Courier New',monospace\"><span style=\"color: #7fbfbf; text-decoration-color: #7fbfbf\">           </span><span style=\"color: #000080; text-decoration-color: #000080\">INFO    </span> Normalize cost<span style=\"color: #808000; text-decoration-color: #808000\">...</span>                                                            <a href=\"file:///home/daphne/Code/hpi_parego/CARP-S/carps/analysis/gather_data.py\" target=\"_blank\"><span style=\"color: #7f7f7f; text-decoration-color: #7f7f7f\">gather_data.py</span></a><span style=\"color: #7f7f7f; text-decoration-color: #7f7f7f\">:</span><a href=\"file:///home/daphne/Code/hpi_parego/CARP-S/carps/analysis/gather_data.py#619\" target=\"_blank\"><span style=\"color: #7f7f7f; text-decoration-color: #7f7f7f\">619</span></a>\n",
       "</pre>\n"
      ],
      "text/plain": [
       "\u001b[2;36m          \u001b[0m\u001b[2;36m \u001b[0m\u001b[34mINFO    \u001b[0m Normalize cost\u001b[33m...\u001b[0m                                                            \u001b]8;id=510158;file:///home/daphne/Code/hpi_parego/CARP-S/carps/analysis/gather_data.py\u001b\\\u001b[2mgather_data.py\u001b[0m\u001b]8;;\u001b\\\u001b[2m:\u001b[0m\u001b]8;id=223311;file:///home/daphne/Code/hpi_parego/CARP-S/carps/analysis/gather_data.py#619\u001b\\\u001b[2m619\u001b[0m\u001b]8;;\u001b\\\n"
      ]
     },
     "metadata": {},
     "output_type": "display_data"
    },
    {
     "data": {
      "text/html": [
       "<pre style=\"white-space:pre;overflow-x:auto;line-height:normal;font-family:Menlo,'DejaVu Sans Mono',consolas,'Courier New',monospace\"><span style=\"color: #7fbfbf; text-decoration-color: #7fbfbf\">           </span><span style=\"color: #000080; text-decoration-color: #000080\">INFO    </span> Calc normalized incumbent cost<span style=\"color: #808000; text-decoration-color: #808000\">...</span>                                            <a href=\"file:///home/daphne/Code/hpi_parego/CARP-S/carps/analysis/gather_data.py\" target=\"_blank\"><span style=\"color: #7f7f7f; text-decoration-color: #7f7f7f\">gather_data.py</span></a><span style=\"color: #7f7f7f; text-decoration-color: #7f7f7f\">:</span><a href=\"file:///home/daphne/Code/hpi_parego/CARP-S/carps/analysis/gather_data.py#628\" target=\"_blank\"><span style=\"color: #7f7f7f; text-decoration-color: #7f7f7f\">628</span></a>\n",
       "</pre>\n"
      ],
      "text/plain": [
       "\u001b[2;36m          \u001b[0m\u001b[2;36m \u001b[0m\u001b[34mINFO    \u001b[0m Calc normalized incumbent cost\u001b[33m...\u001b[0m                                            \u001b]8;id=494688;file:///home/daphne/Code/hpi_parego/CARP-S/carps/analysis/gather_data.py\u001b\\\u001b[2mgather_data.py\u001b[0m\u001b]8;;\u001b\\\u001b[2m:\u001b[0m\u001b]8;id=130571;file:///home/daphne/Code/hpi_parego/CARP-S/carps/analysis/gather_data.py#628\u001b\\\u001b[2m628\u001b[0m\u001b]8;;\u001b\\\n"
      ]
     },
     "metadata": {},
     "output_type": "display_data"
    },
    {
     "data": {
      "text/html": [
       "<pre style=\"white-space:pre;overflow-x:auto;line-height:normal;font-family:Menlo,'DejaVu Sans Mono',consolas,'Courier New',monospace\"><span style=\"color: #7fbfbf; text-decoration-color: #7fbfbf\">           </span><span style=\"color: #000080; text-decoration-color: #000080\">INFO    </span> Normalize time<span style=\"color: #808000; text-decoration-color: #808000\">...</span>                                                            <a href=\"file:///home/daphne/Code/hpi_parego/CARP-S/carps/analysis/gather_data.py\" target=\"_blank\"><span style=\"color: #7f7f7f; text-decoration-color: #7f7f7f\">gather_data.py</span></a><span style=\"color: #7f7f7f; text-decoration-color: #7f7f7f\">:</span><a href=\"file:///home/daphne/Code/hpi_parego/CARP-S/carps/analysis/gather_data.py#648\" target=\"_blank\"><span style=\"color: #7f7f7f; text-decoration-color: #7f7f7f\">648</span></a>\n",
       "</pre>\n"
      ],
      "text/plain": [
       "\u001b[2;36m          \u001b[0m\u001b[2;36m \u001b[0m\u001b[34mINFO    \u001b[0m Normalize time\u001b[33m...\u001b[0m                                                            \u001b]8;id=291220;file:///home/daphne/Code/hpi_parego/CARP-S/carps/analysis/gather_data.py\u001b\\\u001b[2mgather_data.py\u001b[0m\u001b]8;;\u001b\\\u001b[2m:\u001b[0m\u001b]8;id=961269;file:///home/daphne/Code/hpi_parego/CARP-S/carps/analysis/gather_data.py#648\u001b\\\u001b[2m648\u001b[0m\u001b]8;;\u001b\\\n"
      ]
     },
     "metadata": {},
     "output_type": "display_data"
    },
    {
     "data": {
      "text/html": [
       "<pre style=\"white-space:pre;overflow-x:auto;line-height:normal;font-family:Menlo,'DejaVu Sans Mono',consolas,'Courier New',monospace\"><span style=\"color: #7fbfbf; text-decoration-color: #7fbfbf\">           </span><span style=\"color: #000080; text-decoration-color: #000080\">INFO    </span> Done.                                                                        <a href=\"file:///home/daphne/Code/hpi_parego/CARP-S/carps/analysis/gather_data.py\" target=\"_blank\"><span style=\"color: #7f7f7f; text-decoration-color: #7f7f7f\">gather_data.py</span></a><span style=\"color: #7f7f7f; text-decoration-color: #7f7f7f\">:</span><a href=\"file:///home/daphne/Code/hpi_parego/CARP-S/carps/analysis/gather_data.py#651\" target=\"_blank\"><span style=\"color: #7f7f7f; text-decoration-color: #7f7f7f\">651</span></a>\n",
       "</pre>\n"
      ],
      "text/plain": [
       "\u001b[2;36m          \u001b[0m\u001b[2;36m \u001b[0m\u001b[34mINFO    \u001b[0m Done.                                                                        \u001b]8;id=750276;file:///home/daphne/Code/hpi_parego/CARP-S/carps/analysis/gather_data.py\u001b\\\u001b[2mgather_data.py\u001b[0m\u001b]8;;\u001b\\\u001b[2m:\u001b[0m\u001b]8;id=874192;file:///home/daphne/Code/hpi_parego/CARP-S/carps/analysis/gather_data.py#651\u001b\\\u001b[2m651\u001b[0m\u001b]8;;\u001b\\\n"
      ]
     },
     "metadata": {},
     "output_type": "display_data"
    },
    {
     "data": {
      "text/html": [
       "<pre style=\"white-space:pre;overflow-x:auto;line-height:normal;font-family:Menlo,'DejaVu Sans Mono',consolas,'Courier New',monospace\"><span style=\"color: #7fbfbf; text-decoration-color: #7fbfbf\">           </span><span style=\"color: #000080; text-decoration-color: #000080\">INFO    </span> Create dataframe for neat plotting by aligning x-axis <span style=\"color: #800080; text-decoration-color: #800080\">/</span> interpolating        <a href=\"file:///home/daphne/Code/hpi_parego/CARP-S/carps/analysis/gather_data.py\" target=\"_blank\"><span style=\"color: #7f7f7f; text-decoration-color: #7f7f7f\">gather_data.py</span></a><span style=\"color: #7f7f7f; text-decoration-color: #7f7f7f\">:</span><a href=\"file:///home/daphne/Code/hpi_parego/CARP-S/carps/analysis/gather_data.py#725\" target=\"_blank\"><span style=\"color: #7f7f7f; text-decoration-color: #7f7f7f\">725</span></a>\n",
       "<span style=\"color: #7fbfbf; text-decoration-color: #7fbfbf\">           </span>         budget.                                                                      <span style=\"color: #7f7f7f; text-decoration-color: #7f7f7f\">                  </span>\n",
       "</pre>\n"
      ],
      "text/plain": [
       "\u001b[2;36m          \u001b[0m\u001b[2;36m \u001b[0m\u001b[34mINFO    \u001b[0m Create dataframe for neat plotting by aligning x-axis \u001b[35m/\u001b[0m interpolating        \u001b]8;id=869128;file:///home/daphne/Code/hpi_parego/CARP-S/carps/analysis/gather_data.py\u001b\\\u001b[2mgather_data.py\u001b[0m\u001b]8;;\u001b\\\u001b[2m:\u001b[0m\u001b]8;id=393294;file:///home/daphne/Code/hpi_parego/CARP-S/carps/analysis/gather_data.py#725\u001b\\\u001b[2m725\u001b[0m\u001b]8;;\u001b\\\n",
       "\u001b[2;36m           \u001b[0m         budget.                                                                      \u001b[2m                  \u001b[0m\n"
      ]
     },
     "metadata": {},
     "output_type": "display_data"
    },
    {
     "name": "stdout",
     "output_type": "stream",
     "text": [
      "All data complete!\n"
     ]
    },
    {
     "data": {
      "text/html": [
       "<pre style=\"white-space:pre;overflow-x:auto;line-height:normal;font-family:Menlo,'DejaVu Sans Mono',consolas,'Courier New',monospace\"><span style=\"color: #7fbfbf; text-decoration-color: #7fbfbf\">           </span><span style=\"color: #000080; text-decoration-color: #000080\">INFO    </span> Create dataframe for neat plotting by aligning x-axis <span style=\"color: #800080; text-decoration-color: #800080\">/</span> interpolating        <a href=\"file:///home/daphne/Code/hpi_parego/CARP-S/carps/analysis/gather_data.py\" target=\"_blank\"><span style=\"color: #7f7f7f; text-decoration-color: #7f7f7f\">gather_data.py</span></a><span style=\"color: #7f7f7f; text-decoration-color: #7f7f7f\">:</span><a href=\"file:///home/daphne/Code/hpi_parego/CARP-S/carps/analysis/gather_data.py#725\" target=\"_blank\"><span style=\"color: #7f7f7f; text-decoration-color: #7f7f7f\">725</span></a>\n",
       "<span style=\"color: #7fbfbf; text-decoration-color: #7fbfbf\">           </span>         budget.                                                                      <span style=\"color: #7f7f7f; text-decoration-color: #7f7f7f\">                  </span>\n",
       "</pre>\n"
      ],
      "text/plain": [
       "\u001b[2;36m          \u001b[0m\u001b[2;36m \u001b[0m\u001b[34mINFO    \u001b[0m Create dataframe for neat plotting by aligning x-axis \u001b[35m/\u001b[0m interpolating        \u001b]8;id=500542;file:///home/daphne/Code/hpi_parego/CARP-S/carps/analysis/gather_data.py\u001b\\\u001b[2mgather_data.py\u001b[0m\u001b]8;;\u001b\\\u001b[2m:\u001b[0m\u001b]8;id=394479;file:///home/daphne/Code/hpi_parego/CARP-S/carps/analysis/gather_data.py#725\u001b\\\u001b[2m725\u001b[0m\u001b]8;;\u001b\\\n",
       "\u001b[2;36m           \u001b[0m         budget.                                                                      \u001b[2m                  \u001b[0m\n"
      ]
     },
     "metadata": {},
     "output_type": "display_data"
    }
   ],
   "source": [
    "fn = \"/home/daphne/Code/hpi_parego/experimenter/smac_rf/processed_logs.parquet\"\n",
    "base = pd.read_parquet(fn)\n",
    "base = normalize_logs(base)\n",
    "base['n_trials_norm'] = base.groupby('experiment_id')['time'].rank(method='dense', pct=True).round(2)\n",
    "if 'set' not in base.columns:\n",
    "    base[\"set\"] = '0'\n",
    "# base = base[~base['task_id'].str.contains('ManyO')]\n",
    "base['optimizer_id'] = 'ParEGO'\n",
    "base_test = base[base['subset_id']=='test']\n",
    "base_train = base[base['subset_id']=='dev']\n",
    "base_train = get_interpolated_performance_df(base_train, n_points=50)\n",
    "missing = check_if_complete_for_max_trials(base_train)\n",
    "base_test = get_interpolated_performance_df(base_test, n_points=50)"
   ]
  },
  {
   "cell_type": "code",
   "execution_count": 157,
   "id": "64f72872",
   "metadata": {},
   "outputs": [
    {
     "data": {
      "text/html": [
       "<pre style=\"white-space:pre;overflow-x:auto;line-height:normal;font-family:Menlo,'DejaVu Sans Mono',consolas,'Courier New',monospace\"><span style=\"color: #7fbfbf; text-decoration-color: #7fbfbf\">[11:12:14] </span><span style=\"color: #000080; text-decoration-color: #000080\">INFO    </span> Start normalization<span style=\"color: #808000; text-decoration-color: #808000\">...</span>                                                       <a href=\"file:///home/daphne/Code/hpi_parego/CARP-S/carps/analysis/gather_data.py\" target=\"_blank\"><span style=\"color: #7f7f7f; text-decoration-color: #7f7f7f\">gather_data.py</span></a><span style=\"color: #7f7f7f; text-decoration-color: #7f7f7f\">:</span><a href=\"file:///home/daphne/Code/hpi_parego/CARP-S/carps/analysis/gather_data.py#616\" target=\"_blank\"><span style=\"color: #7f7f7f; text-decoration-color: #7f7f7f\">616</span></a>\n",
       "</pre>\n"
      ],
      "text/plain": [
       "\u001b[2;36m[11:12:14]\u001b[0m\u001b[2;36m \u001b[0m\u001b[34mINFO    \u001b[0m Start normalization\u001b[33m...\u001b[0m                                                       \u001b]8;id=544939;file:///home/daphne/Code/hpi_parego/CARP-S/carps/analysis/gather_data.py\u001b\\\u001b[2mgather_data.py\u001b[0m\u001b]8;;\u001b\\\u001b[2m:\u001b[0m\u001b]8;id=961515;file:///home/daphne/Code/hpi_parego/CARP-S/carps/analysis/gather_data.py#616\u001b\\\u001b[2m616\u001b[0m\u001b]8;;\u001b\\\n"
      ]
     },
     "metadata": {},
     "output_type": "display_data"
    },
    {
     "data": {
      "text/html": [
       "<pre style=\"white-space:pre;overflow-x:auto;line-height:normal;font-family:Menlo,'DejaVu Sans Mono',consolas,'Courier New',monospace\"><span style=\"color: #7fbfbf; text-decoration-color: #7fbfbf\">           </span><span style=\"color: #000080; text-decoration-color: #000080\">INFO    </span> Normalize n_trials<span style=\"color: #808000; text-decoration-color: #808000\">...</span>                                                        <a href=\"file:///home/daphne/Code/hpi_parego/CARP-S/carps/analysis/gather_data.py\" target=\"_blank\"><span style=\"color: #7f7f7f; text-decoration-color: #7f7f7f\">gather_data.py</span></a><span style=\"color: #7f7f7f; text-decoration-color: #7f7f7f\">:</span><a href=\"file:///home/daphne/Code/hpi_parego/CARP-S/carps/analysis/gather_data.py#617\" target=\"_blank\"><span style=\"color: #7f7f7f; text-decoration-color: #7f7f7f\">617</span></a>\n",
       "</pre>\n"
      ],
      "text/plain": [
       "\u001b[2;36m          \u001b[0m\u001b[2;36m \u001b[0m\u001b[34mINFO    \u001b[0m Normalize n_trials\u001b[33m...\u001b[0m                                                        \u001b]8;id=402918;file:///home/daphne/Code/hpi_parego/CARP-S/carps/analysis/gather_data.py\u001b\\\u001b[2mgather_data.py\u001b[0m\u001b]8;;\u001b\\\u001b[2m:\u001b[0m\u001b]8;id=542128;file:///home/daphne/Code/hpi_parego/CARP-S/carps/analysis/gather_data.py#617\u001b\\\u001b[2m617\u001b[0m\u001b]8;;\u001b\\\n"
      ]
     },
     "metadata": {},
     "output_type": "display_data"
    },
    {
     "data": {
      "text/html": [
       "<pre style=\"white-space:pre;overflow-x:auto;line-height:normal;font-family:Menlo,'DejaVu Sans Mono',consolas,'Courier New',monospace\"><span style=\"color: #7fbfbf; text-decoration-color: #7fbfbf\">           </span><span style=\"color: #000080; text-decoration-color: #000080\">INFO    </span> Normalize cost<span style=\"color: #808000; text-decoration-color: #808000\">...</span>                                                            <a href=\"file:///home/daphne/Code/hpi_parego/CARP-S/carps/analysis/gather_data.py\" target=\"_blank\"><span style=\"color: #7f7f7f; text-decoration-color: #7f7f7f\">gather_data.py</span></a><span style=\"color: #7f7f7f; text-decoration-color: #7f7f7f\">:</span><a href=\"file:///home/daphne/Code/hpi_parego/CARP-S/carps/analysis/gather_data.py#619\" target=\"_blank\"><span style=\"color: #7f7f7f; text-decoration-color: #7f7f7f\">619</span></a>\n",
       "</pre>\n"
      ],
      "text/plain": [
       "\u001b[2;36m          \u001b[0m\u001b[2;36m \u001b[0m\u001b[34mINFO    \u001b[0m Normalize cost\u001b[33m...\u001b[0m                                                            \u001b]8;id=573636;file:///home/daphne/Code/hpi_parego/CARP-S/carps/analysis/gather_data.py\u001b\\\u001b[2mgather_data.py\u001b[0m\u001b]8;;\u001b\\\u001b[2m:\u001b[0m\u001b]8;id=611362;file:///home/daphne/Code/hpi_parego/CARP-S/carps/analysis/gather_data.py#619\u001b\\\u001b[2m619\u001b[0m\u001b]8;;\u001b\\\n"
      ]
     },
     "metadata": {},
     "output_type": "display_data"
    },
    {
     "data": {
      "text/html": [
       "<pre style=\"white-space:pre;overflow-x:auto;line-height:normal;font-family:Menlo,'DejaVu Sans Mono',consolas,'Courier New',monospace\"><span style=\"color: #7fbfbf; text-decoration-color: #7fbfbf\">           </span><span style=\"color: #000080; text-decoration-color: #000080\">INFO    </span> Calc normalized incumbent cost<span style=\"color: #808000; text-decoration-color: #808000\">...</span>                                            <a href=\"file:///home/daphne/Code/hpi_parego/CARP-S/carps/analysis/gather_data.py\" target=\"_blank\"><span style=\"color: #7f7f7f; text-decoration-color: #7f7f7f\">gather_data.py</span></a><span style=\"color: #7f7f7f; text-decoration-color: #7f7f7f\">:</span><a href=\"file:///home/daphne/Code/hpi_parego/CARP-S/carps/analysis/gather_data.py#628\" target=\"_blank\"><span style=\"color: #7f7f7f; text-decoration-color: #7f7f7f\">628</span></a>\n",
       "</pre>\n"
      ],
      "text/plain": [
       "\u001b[2;36m          \u001b[0m\u001b[2;36m \u001b[0m\u001b[34mINFO    \u001b[0m Calc normalized incumbent cost\u001b[33m...\u001b[0m                                            \u001b]8;id=162731;file:///home/daphne/Code/hpi_parego/CARP-S/carps/analysis/gather_data.py\u001b\\\u001b[2mgather_data.py\u001b[0m\u001b]8;;\u001b\\\u001b[2m:\u001b[0m\u001b]8;id=536345;file:///home/daphne/Code/hpi_parego/CARP-S/carps/analysis/gather_data.py#628\u001b\\\u001b[2m628\u001b[0m\u001b]8;;\u001b\\\n"
      ]
     },
     "metadata": {},
     "output_type": "display_data"
    },
    {
     "data": {
      "text/html": [
       "<pre style=\"white-space:pre;overflow-x:auto;line-height:normal;font-family:Menlo,'DejaVu Sans Mono',consolas,'Courier New',monospace\"><span style=\"color: #7fbfbf; text-decoration-color: #7fbfbf\">           </span><span style=\"color: #000080; text-decoration-color: #000080\">INFO    </span> Normalize time<span style=\"color: #808000; text-decoration-color: #808000\">...</span>                                                            <a href=\"file:///home/daphne/Code/hpi_parego/CARP-S/carps/analysis/gather_data.py\" target=\"_blank\"><span style=\"color: #7f7f7f; text-decoration-color: #7f7f7f\">gather_data.py</span></a><span style=\"color: #7f7f7f; text-decoration-color: #7f7f7f\">:</span><a href=\"file:///home/daphne/Code/hpi_parego/CARP-S/carps/analysis/gather_data.py#648\" target=\"_blank\"><span style=\"color: #7f7f7f; text-decoration-color: #7f7f7f\">648</span></a>\n",
       "</pre>\n"
      ],
      "text/plain": [
       "\u001b[2;36m          \u001b[0m\u001b[2;36m \u001b[0m\u001b[34mINFO    \u001b[0m Normalize time\u001b[33m...\u001b[0m                                                            \u001b]8;id=221103;file:///home/daphne/Code/hpi_parego/CARP-S/carps/analysis/gather_data.py\u001b\\\u001b[2mgather_data.py\u001b[0m\u001b]8;;\u001b\\\u001b[2m:\u001b[0m\u001b]8;id=369826;file:///home/daphne/Code/hpi_parego/CARP-S/carps/analysis/gather_data.py#648\u001b\\\u001b[2m648\u001b[0m\u001b]8;;\u001b\\\n"
      ]
     },
     "metadata": {},
     "output_type": "display_data"
    },
    {
     "data": {
      "text/html": [
       "<pre style=\"white-space:pre;overflow-x:auto;line-height:normal;font-family:Menlo,'DejaVu Sans Mono',consolas,'Courier New',monospace\"><span style=\"color: #7fbfbf; text-decoration-color: #7fbfbf\">           </span><span style=\"color: #000080; text-decoration-color: #000080\">INFO    </span> Done.                                                                        <a href=\"file:///home/daphne/Code/hpi_parego/CARP-S/carps/analysis/gather_data.py\" target=\"_blank\"><span style=\"color: #7f7f7f; text-decoration-color: #7f7f7f\">gather_data.py</span></a><span style=\"color: #7f7f7f; text-decoration-color: #7f7f7f\">:</span><a href=\"file:///home/daphne/Code/hpi_parego/CARP-S/carps/analysis/gather_data.py#651\" target=\"_blank\"><span style=\"color: #7f7f7f; text-decoration-color: #7f7f7f\">651</span></a>\n",
       "</pre>\n"
      ],
      "text/plain": [
       "\u001b[2;36m          \u001b[0m\u001b[2;36m \u001b[0m\u001b[34mINFO    \u001b[0m Done.                                                                        \u001b]8;id=472057;file:///home/daphne/Code/hpi_parego/CARP-S/carps/analysis/gather_data.py\u001b\\\u001b[2mgather_data.py\u001b[0m\u001b]8;;\u001b\\\u001b[2m:\u001b[0m\u001b]8;id=103946;file:///home/daphne/Code/hpi_parego/CARP-S/carps/analysis/gather_data.py#651\u001b\\\u001b[2m651\u001b[0m\u001b]8;;\u001b\\\n"
      ]
     },
     "metadata": {},
     "output_type": "display_data"
    },
    {
     "data": {
      "text/html": [
       "<pre style=\"white-space:pre;overflow-x:auto;line-height:normal;font-family:Menlo,'DejaVu Sans Mono',consolas,'Courier New',monospace\"><span style=\"color: #7fbfbf; text-decoration-color: #7fbfbf\">           </span><span style=\"color: #000080; text-decoration-color: #000080\">INFO    </span> Create dataframe for neat plotting by aligning x-axis <span style=\"color: #800080; text-decoration-color: #800080\">/</span> interpolating        <a href=\"file:///home/daphne/Code/hpi_parego/CARP-S/carps/analysis/gather_data.py\" target=\"_blank\"><span style=\"color: #7f7f7f; text-decoration-color: #7f7f7f\">gather_data.py</span></a><span style=\"color: #7f7f7f; text-decoration-color: #7f7f7f\">:</span><a href=\"file:///home/daphne/Code/hpi_parego/CARP-S/carps/analysis/gather_data.py#725\" target=\"_blank\"><span style=\"color: #7f7f7f; text-decoration-color: #7f7f7f\">725</span></a>\n",
       "<span style=\"color: #7fbfbf; text-decoration-color: #7fbfbf\">           </span>         budget.                                                                      <span style=\"color: #7f7f7f; text-decoration-color: #7f7f7f\">                  </span>\n",
       "</pre>\n"
      ],
      "text/plain": [
       "\u001b[2;36m          \u001b[0m\u001b[2;36m \u001b[0m\u001b[34mINFO    \u001b[0m Create dataframe for neat plotting by aligning x-axis \u001b[35m/\u001b[0m interpolating        \u001b]8;id=708164;file:///home/daphne/Code/hpi_parego/CARP-S/carps/analysis/gather_data.py\u001b\\\u001b[2mgather_data.py\u001b[0m\u001b]8;;\u001b\\\u001b[2m:\u001b[0m\u001b]8;id=30346;file:///home/daphne/Code/hpi_parego/CARP-S/carps/analysis/gather_data.py#725\u001b\\\u001b[2m725\u001b[0m\u001b]8;;\u001b\\\n",
       "\u001b[2;36m           \u001b[0m         budget.                                                                      \u001b[2m                  \u001b[0m\n"
      ]
     },
     "metadata": {},
     "output_type": "display_data"
    },
    {
     "name": "stdout",
     "output_type": "stream",
     "text": [
      "Optimizer fanova_adjust_cs_default_constant_adjust_prev_cfgs_set_to_incumbent_thresh_0.75 is not complete for max n_trials_norm = 1.0: 25 combinations missing.\n",
      "Optimizer fanova_adjust_cs_incumbent_cs_proba_hpi_thresh_0.5 is not complete for max n_trials_norm = 1.0: 25 combinations missing.\n"
     ]
    },
    {
     "data": {
      "text/html": [
       "<pre style=\"white-space:pre;overflow-x:auto;line-height:normal;font-family:Menlo,'DejaVu Sans Mono',consolas,'Courier New',monospace\"><span style=\"color: #7fbfbf; text-decoration-color: #7fbfbf\">           </span><span style=\"color: #000080; text-decoration-color: #000080\">INFO    </span> Create dataframe for neat plotting by aligning x-axis <span style=\"color: #800080; text-decoration-color: #800080\">/</span> interpolating        <a href=\"file:///home/daphne/Code/hpi_parego/CARP-S/carps/analysis/gather_data.py\" target=\"_blank\"><span style=\"color: #7f7f7f; text-decoration-color: #7f7f7f\">gather_data.py</span></a><span style=\"color: #7f7f7f; text-decoration-color: #7f7f7f\">:</span><a href=\"file:///home/daphne/Code/hpi_parego/CARP-S/carps/analysis/gather_data.py#725\" target=\"_blank\"><span style=\"color: #7f7f7f; text-decoration-color: #7f7f7f\">725</span></a>\n",
       "<span style=\"color: #7fbfbf; text-decoration-color: #7fbfbf\">           </span>         budget.                                                                      <span style=\"color: #7f7f7f; text-decoration-color: #7f7f7f\">                  </span>\n",
       "</pre>\n"
      ],
      "text/plain": [
       "\u001b[2;36m          \u001b[0m\u001b[2;36m \u001b[0m\u001b[34mINFO    \u001b[0m Create dataframe for neat plotting by aligning x-axis \u001b[35m/\u001b[0m interpolating        \u001b]8;id=645079;file:///home/daphne/Code/hpi_parego/CARP-S/carps/analysis/gather_data.py\u001b\\\u001b[2mgather_data.py\u001b[0m\u001b]8;;\u001b\\\u001b[2m:\u001b[0m\u001b]8;id=620125;file:///home/daphne/Code/hpi_parego/CARP-S/carps/analysis/gather_data.py#725\u001b\\\u001b[2m725\u001b[0m\u001b]8;;\u001b\\\n",
       "\u001b[2;36m           \u001b[0m         budget.                                                                      \u001b[2m                  \u001b[0m\n"
      ]
     },
     "metadata": {},
     "output_type": "display_data"
    },
    {
     "name": "stdout",
     "output_type": "stream",
     "text": [
      "Optimizer random_adjust_cs_default_constant_adjust_prev_cfgs_set_to_incumbent_dynamic_decay_down is not complete for max n_trials_norm = 1.0: 20 combinations missing.\n",
      "Optimizer random_adjust_cs_default_constant_adjust_prev_cfgs_set_to_incumbent_thresh_0.75 is not complete for max n_trials_norm = 1.0: 20 combinations missing.\n",
      "Optimizer random_adjust_cs_incumbent_cs_proba_hpi_thresh_0.5 is not complete for max n_trials_norm = 1.0: 20 combinations missing.\n",
      "Optimizer random_adjust_cs_random_adjust_prev_cfgs_set_to_random_thresh_0.75 is not complete for max n_trials_norm = 1.0: 20 combinations missing.\n"
     ]
    }
   ],
   "source": [
    "path = \"/home/daphne/Code/hpi_parego/experimenter/best_test/processed_logs.parquet\"\n",
    "best_test, best_test_rnd = read_data(path)\n",
    "best_test = best_test[~best_test['optimizer_id'].str.startswith('hypershap')]\n",
    "# best_test = best_test[~best_test['task_id'].str.contains('ManyO')]\n",
    "best_test, _ = get_perf(best_test)\n",
    "best_test_rnd, _ = get_perf(best_test_rnd)"
   ]
  },
  {
   "cell_type": "code",
   "execution_count": 63,
   "id": "da95352e",
   "metadata": {},
   "outputs": [
    {
     "data": {
      "text/html": [
       "<pre style=\"white-space:pre;overflow-x:auto;line-height:normal;font-family:Menlo,'DejaVu Sans Mono',consolas,'Courier New',monospace\"><span style=\"color: #7fbfbf; text-decoration-color: #7fbfbf\">[10:17:27] </span><span style=\"color: #000080; text-decoration-color: #000080\">INFO    </span> Start normalization<span style=\"color: #808000; text-decoration-color: #808000\">...</span>                                                       <a href=\"file:///home/daphne/Code/hpi_parego/CARP-S/carps/analysis/gather_data.py\" target=\"_blank\"><span style=\"color: #7f7f7f; text-decoration-color: #7f7f7f\">gather_data.py</span></a><span style=\"color: #7f7f7f; text-decoration-color: #7f7f7f\">:</span><a href=\"file:///home/daphne/Code/hpi_parego/CARP-S/carps/analysis/gather_data.py#616\" target=\"_blank\"><span style=\"color: #7f7f7f; text-decoration-color: #7f7f7f\">616</span></a>\n",
       "</pre>\n"
      ],
      "text/plain": [
       "\u001b[2;36m[10:17:27]\u001b[0m\u001b[2;36m \u001b[0m\u001b[34mINFO    \u001b[0m Start normalization\u001b[33m...\u001b[0m                                                       \u001b]8;id=569875;file:///home/daphne/Code/hpi_parego/CARP-S/carps/analysis/gather_data.py\u001b\\\u001b[2mgather_data.py\u001b[0m\u001b]8;;\u001b\\\u001b[2m:\u001b[0m\u001b]8;id=751225;file:///home/daphne/Code/hpi_parego/CARP-S/carps/analysis/gather_data.py#616\u001b\\\u001b[2m616\u001b[0m\u001b]8;;\u001b\\\n"
      ]
     },
     "metadata": {},
     "output_type": "display_data"
    },
    {
     "data": {
      "text/html": [
       "<pre style=\"white-space:pre;overflow-x:auto;line-height:normal;font-family:Menlo,'DejaVu Sans Mono',consolas,'Courier New',monospace\"><span style=\"color: #7fbfbf; text-decoration-color: #7fbfbf\">           </span><span style=\"color: #000080; text-decoration-color: #000080\">INFO    </span> Normalize n_trials<span style=\"color: #808000; text-decoration-color: #808000\">...</span>                                                        <a href=\"file:///home/daphne/Code/hpi_parego/CARP-S/carps/analysis/gather_data.py\" target=\"_blank\"><span style=\"color: #7f7f7f; text-decoration-color: #7f7f7f\">gather_data.py</span></a><span style=\"color: #7f7f7f; text-decoration-color: #7f7f7f\">:</span><a href=\"file:///home/daphne/Code/hpi_parego/CARP-S/carps/analysis/gather_data.py#617\" target=\"_blank\"><span style=\"color: #7f7f7f; text-decoration-color: #7f7f7f\">617</span></a>\n",
       "</pre>\n"
      ],
      "text/plain": [
       "\u001b[2;36m          \u001b[0m\u001b[2;36m \u001b[0m\u001b[34mINFO    \u001b[0m Normalize n_trials\u001b[33m...\u001b[0m                                                        \u001b]8;id=586676;file:///home/daphne/Code/hpi_parego/CARP-S/carps/analysis/gather_data.py\u001b\\\u001b[2mgather_data.py\u001b[0m\u001b]8;;\u001b\\\u001b[2m:\u001b[0m\u001b]8;id=155679;file:///home/daphne/Code/hpi_parego/CARP-S/carps/analysis/gather_data.py#617\u001b\\\u001b[2m617\u001b[0m\u001b]8;;\u001b\\\n"
      ]
     },
     "metadata": {},
     "output_type": "display_data"
    },
    {
     "data": {
      "text/html": [
       "<pre style=\"white-space:pre;overflow-x:auto;line-height:normal;font-family:Menlo,'DejaVu Sans Mono',consolas,'Courier New',monospace\"><span style=\"color: #7fbfbf; text-decoration-color: #7fbfbf\">           </span><span style=\"color: #000080; text-decoration-color: #000080\">INFO    </span> Normalize cost<span style=\"color: #808000; text-decoration-color: #808000\">...</span>                                                            <a href=\"file:///home/daphne/Code/hpi_parego/CARP-S/carps/analysis/gather_data.py\" target=\"_blank\"><span style=\"color: #7f7f7f; text-decoration-color: #7f7f7f\">gather_data.py</span></a><span style=\"color: #7f7f7f; text-decoration-color: #7f7f7f\">:</span><a href=\"file:///home/daphne/Code/hpi_parego/CARP-S/carps/analysis/gather_data.py#619\" target=\"_blank\"><span style=\"color: #7f7f7f; text-decoration-color: #7f7f7f\">619</span></a>\n",
       "</pre>\n"
      ],
      "text/plain": [
       "\u001b[2;36m          \u001b[0m\u001b[2;36m \u001b[0m\u001b[34mINFO    \u001b[0m Normalize cost\u001b[33m...\u001b[0m                                                            \u001b]8;id=12318;file:///home/daphne/Code/hpi_parego/CARP-S/carps/analysis/gather_data.py\u001b\\\u001b[2mgather_data.py\u001b[0m\u001b]8;;\u001b\\\u001b[2m:\u001b[0m\u001b]8;id=984020;file:///home/daphne/Code/hpi_parego/CARP-S/carps/analysis/gather_data.py#619\u001b\\\u001b[2m619\u001b[0m\u001b]8;;\u001b\\\n"
      ]
     },
     "metadata": {},
     "output_type": "display_data"
    },
    {
     "data": {
      "text/html": [
       "<pre style=\"white-space:pre;overflow-x:auto;line-height:normal;font-family:Menlo,'DejaVu Sans Mono',consolas,'Courier New',monospace\"><span style=\"color: #7fbfbf; text-decoration-color: #7fbfbf\">           </span><span style=\"color: #000080; text-decoration-color: #000080\">INFO    </span> Calc normalized incumbent cost<span style=\"color: #808000; text-decoration-color: #808000\">...</span>                                            <a href=\"file:///home/daphne/Code/hpi_parego/CARP-S/carps/analysis/gather_data.py\" target=\"_blank\"><span style=\"color: #7f7f7f; text-decoration-color: #7f7f7f\">gather_data.py</span></a><span style=\"color: #7f7f7f; text-decoration-color: #7f7f7f\">:</span><a href=\"file:///home/daphne/Code/hpi_parego/CARP-S/carps/analysis/gather_data.py#628\" target=\"_blank\"><span style=\"color: #7f7f7f; text-decoration-color: #7f7f7f\">628</span></a>\n",
       "</pre>\n"
      ],
      "text/plain": [
       "\u001b[2;36m          \u001b[0m\u001b[2;36m \u001b[0m\u001b[34mINFO    \u001b[0m Calc normalized incumbent cost\u001b[33m...\u001b[0m                                            \u001b]8;id=779149;file:///home/daphne/Code/hpi_parego/CARP-S/carps/analysis/gather_data.py\u001b\\\u001b[2mgather_data.py\u001b[0m\u001b]8;;\u001b\\\u001b[2m:\u001b[0m\u001b]8;id=290199;file:///home/daphne/Code/hpi_parego/CARP-S/carps/analysis/gather_data.py#628\u001b\\\u001b[2m628\u001b[0m\u001b]8;;\u001b\\\n"
      ]
     },
     "metadata": {},
     "output_type": "display_data"
    },
    {
     "data": {
      "text/html": [
       "<pre style=\"white-space:pre;overflow-x:auto;line-height:normal;font-family:Menlo,'DejaVu Sans Mono',consolas,'Courier New',monospace\"><span style=\"color: #7fbfbf; text-decoration-color: #7fbfbf\">           </span><span style=\"color: #000080; text-decoration-color: #000080\">INFO    </span> Normalize time<span style=\"color: #808000; text-decoration-color: #808000\">...</span>                                                            <a href=\"file:///home/daphne/Code/hpi_parego/CARP-S/carps/analysis/gather_data.py\" target=\"_blank\"><span style=\"color: #7f7f7f; text-decoration-color: #7f7f7f\">gather_data.py</span></a><span style=\"color: #7f7f7f; text-decoration-color: #7f7f7f\">:</span><a href=\"file:///home/daphne/Code/hpi_parego/CARP-S/carps/analysis/gather_data.py#648\" target=\"_blank\"><span style=\"color: #7f7f7f; text-decoration-color: #7f7f7f\">648</span></a>\n",
       "</pre>\n"
      ],
      "text/plain": [
       "\u001b[2;36m          \u001b[0m\u001b[2;36m \u001b[0m\u001b[34mINFO    \u001b[0m Normalize time\u001b[33m...\u001b[0m                                                            \u001b]8;id=512061;file:///home/daphne/Code/hpi_parego/CARP-S/carps/analysis/gather_data.py\u001b\\\u001b[2mgather_data.py\u001b[0m\u001b]8;;\u001b\\\u001b[2m:\u001b[0m\u001b]8;id=279155;file:///home/daphne/Code/hpi_parego/CARP-S/carps/analysis/gather_data.py#648\u001b\\\u001b[2m648\u001b[0m\u001b]8;;\u001b\\\n"
      ]
     },
     "metadata": {},
     "output_type": "display_data"
    },
    {
     "data": {
      "text/html": [
       "<pre style=\"white-space:pre;overflow-x:auto;line-height:normal;font-family:Menlo,'DejaVu Sans Mono',consolas,'Courier New',monospace\"><span style=\"color: #7fbfbf; text-decoration-color: #7fbfbf\">           </span><span style=\"color: #000080; text-decoration-color: #000080\">INFO    </span> Done.                                                                        <a href=\"file:///home/daphne/Code/hpi_parego/CARP-S/carps/analysis/gather_data.py\" target=\"_blank\"><span style=\"color: #7f7f7f; text-decoration-color: #7f7f7f\">gather_data.py</span></a><span style=\"color: #7f7f7f; text-decoration-color: #7f7f7f\">:</span><a href=\"file:///home/daphne/Code/hpi_parego/CARP-S/carps/analysis/gather_data.py#651\" target=\"_blank\"><span style=\"color: #7f7f7f; text-decoration-color: #7f7f7f\">651</span></a>\n",
       "</pre>\n"
      ],
      "text/plain": [
       "\u001b[2;36m          \u001b[0m\u001b[2;36m \u001b[0m\u001b[34mINFO    \u001b[0m Done.                                                                        \u001b]8;id=251531;file:///home/daphne/Code/hpi_parego/CARP-S/carps/analysis/gather_data.py\u001b\\\u001b[2mgather_data.py\u001b[0m\u001b]8;;\u001b\\\u001b[2m:\u001b[0m\u001b]8;id=15549;file:///home/daphne/Code/hpi_parego/CARP-S/carps/analysis/gather_data.py#651\u001b\\\u001b[2m651\u001b[0m\u001b]8;;\u001b\\\n"
      ]
     },
     "metadata": {},
     "output_type": "display_data"
    },
    {
     "data": {
      "text/html": [
       "<pre style=\"white-space:pre;overflow-x:auto;line-height:normal;font-family:Menlo,'DejaVu Sans Mono',consolas,'Courier New',monospace\"><span style=\"color: #7fbfbf; text-decoration-color: #7fbfbf\">           </span><span style=\"color: #000080; text-decoration-color: #000080\">INFO    </span> Create dataframe for neat plotting by aligning x-axis <span style=\"color: #800080; text-decoration-color: #800080\">/</span> interpolating        <a href=\"file:///home/daphne/Code/hpi_parego/CARP-S/carps/analysis/gather_data.py\" target=\"_blank\"><span style=\"color: #7f7f7f; text-decoration-color: #7f7f7f\">gather_data.py</span></a><span style=\"color: #7f7f7f; text-decoration-color: #7f7f7f\">:</span><a href=\"file:///home/daphne/Code/hpi_parego/CARP-S/carps/analysis/gather_data.py#725\" target=\"_blank\"><span style=\"color: #7f7f7f; text-decoration-color: #7f7f7f\">725</span></a>\n",
       "<span style=\"color: #7fbfbf; text-decoration-color: #7fbfbf\">           </span>         budget.                                                                      <span style=\"color: #7f7f7f; text-decoration-color: #7f7f7f\">                  </span>\n",
       "</pre>\n"
      ],
      "text/plain": [
       "\u001b[2;36m          \u001b[0m\u001b[2;36m \u001b[0m\u001b[34mINFO    \u001b[0m Create dataframe for neat plotting by aligning x-axis \u001b[35m/\u001b[0m interpolating        \u001b]8;id=683244;file:///home/daphne/Code/hpi_parego/CARP-S/carps/analysis/gather_data.py\u001b\\\u001b[2mgather_data.py\u001b[0m\u001b]8;;\u001b\\\u001b[2m:\u001b[0m\u001b]8;id=635539;file:///home/daphne/Code/hpi_parego/CARP-S/carps/analysis/gather_data.py#725\u001b\\\u001b[2m725\u001b[0m\u001b]8;;\u001b\\\n",
       "\u001b[2;36m           \u001b[0m         budget.                                                                      \u001b[2m                  \u001b[0m\n"
      ]
     },
     "metadata": {},
     "output_type": "display_data"
    },
    {
     "name": "stdout",
     "output_type": "stream",
     "text": [
      "All data complete!\n"
     ]
    },
    {
     "data": {
      "text/html": [
       "<pre style=\"white-space:pre;overflow-x:auto;line-height:normal;font-family:Menlo,'DejaVu Sans Mono',consolas,'Courier New',monospace\"><span style=\"color: #7fbfbf; text-decoration-color: #7fbfbf\">[10:17:30] </span><span style=\"color: #000080; text-decoration-color: #000080\">INFO    </span> Create dataframe for neat plotting by aligning x-axis <span style=\"color: #800080; text-decoration-color: #800080\">/</span> interpolating        <a href=\"file:///home/daphne/Code/hpi_parego/CARP-S/carps/analysis/gather_data.py\" target=\"_blank\"><span style=\"color: #7f7f7f; text-decoration-color: #7f7f7f\">gather_data.py</span></a><span style=\"color: #7f7f7f; text-decoration-color: #7f7f7f\">:</span><a href=\"file:///home/daphne/Code/hpi_parego/CARP-S/carps/analysis/gather_data.py#725\" target=\"_blank\"><span style=\"color: #7f7f7f; text-decoration-color: #7f7f7f\">725</span></a>\n",
       "<span style=\"color: #7fbfbf; text-decoration-color: #7fbfbf\">           </span>         budget.                                                                      <span style=\"color: #7f7f7f; text-decoration-color: #7f7f7f\">                  </span>\n",
       "</pre>\n"
      ],
      "text/plain": [
       "\u001b[2;36m[10:17:30]\u001b[0m\u001b[2;36m \u001b[0m\u001b[34mINFO    \u001b[0m Create dataframe for neat plotting by aligning x-axis \u001b[35m/\u001b[0m interpolating        \u001b]8;id=270168;file:///home/daphne/Code/hpi_parego/CARP-S/carps/analysis/gather_data.py\u001b\\\u001b[2mgather_data.py\u001b[0m\u001b]8;;\u001b\\\u001b[2m:\u001b[0m\u001b]8;id=26573;file:///home/daphne/Code/hpi_parego/CARP-S/carps/analysis/gather_data.py#725\u001b\\\u001b[2m725\u001b[0m\u001b]8;;\u001b\\\n",
       "\u001b[2;36m           \u001b[0m         budget.                                                                      \u001b[2m                  \u001b[0m\n"
      ]
     },
     "metadata": {},
     "output_type": "display_data"
    },
    {
     "name": "stdout",
     "output_type": "stream",
     "text": [
      "All data complete!\n"
     ]
    }
   ],
   "source": [
    "path = \"/home/daphne/Code/hpi_parego/experimenter/yahpo/processed_logs.parquet\"\n",
    "yahpo_df, yahpo_rnd = read_data(path)\n",
    "yahpo_df = yahpo_df[~yahpo_df['optimizer_id'].str.startswith('hypershap')]\n",
    "yahpo_perf, missing = get_perf(yahpo_df)\n",
    "yahpo_rnd, _ = get_perf(yahpo_rnd)"
   ]
  },
  {
   "cell_type": "code",
   "execution_count": 64,
   "id": "37d098a9",
   "metadata": {},
   "outputs": [
    {
     "data": {
      "text/html": [
       "<pre style=\"white-space:pre;overflow-x:auto;line-height:normal;font-family:Menlo,'DejaVu Sans Mono',consolas,'Courier New',monospace\"><span style=\"color: #7fbfbf; text-decoration-color: #7fbfbf\">[10:17:32] </span><span style=\"color: #000080; text-decoration-color: #000080\">INFO    </span> Start normalization<span style=\"color: #808000; text-decoration-color: #808000\">...</span>                                                       <a href=\"file:///home/daphne/Code/hpi_parego/CARP-S/carps/analysis/gather_data.py\" target=\"_blank\"><span style=\"color: #7f7f7f; text-decoration-color: #7f7f7f\">gather_data.py</span></a><span style=\"color: #7f7f7f; text-decoration-color: #7f7f7f\">:</span><a href=\"file:///home/daphne/Code/hpi_parego/CARP-S/carps/analysis/gather_data.py#616\" target=\"_blank\"><span style=\"color: #7f7f7f; text-decoration-color: #7f7f7f\">616</span></a>\n",
       "</pre>\n"
      ],
      "text/plain": [
       "\u001b[2;36m[10:17:32]\u001b[0m\u001b[2;36m \u001b[0m\u001b[34mINFO    \u001b[0m Start normalization\u001b[33m...\u001b[0m                                                       \u001b]8;id=904773;file:///home/daphne/Code/hpi_parego/CARP-S/carps/analysis/gather_data.py\u001b\\\u001b[2mgather_data.py\u001b[0m\u001b]8;;\u001b\\\u001b[2m:\u001b[0m\u001b]8;id=967203;file:///home/daphne/Code/hpi_parego/CARP-S/carps/analysis/gather_data.py#616\u001b\\\u001b[2m616\u001b[0m\u001b]8;;\u001b\\\n"
      ]
     },
     "metadata": {},
     "output_type": "display_data"
    },
    {
     "data": {
      "text/html": [
       "<pre style=\"white-space:pre;overflow-x:auto;line-height:normal;font-family:Menlo,'DejaVu Sans Mono',consolas,'Courier New',monospace\"><span style=\"color: #7fbfbf; text-decoration-color: #7fbfbf\">           </span><span style=\"color: #000080; text-decoration-color: #000080\">INFO    </span> Normalize n_trials<span style=\"color: #808000; text-decoration-color: #808000\">...</span>                                                        <a href=\"file:///home/daphne/Code/hpi_parego/CARP-S/carps/analysis/gather_data.py\" target=\"_blank\"><span style=\"color: #7f7f7f; text-decoration-color: #7f7f7f\">gather_data.py</span></a><span style=\"color: #7f7f7f; text-decoration-color: #7f7f7f\">:</span><a href=\"file:///home/daphne/Code/hpi_parego/CARP-S/carps/analysis/gather_data.py#617\" target=\"_blank\"><span style=\"color: #7f7f7f; text-decoration-color: #7f7f7f\">617</span></a>\n",
       "</pre>\n"
      ],
      "text/plain": [
       "\u001b[2;36m          \u001b[0m\u001b[2;36m \u001b[0m\u001b[34mINFO    \u001b[0m Normalize n_trials\u001b[33m...\u001b[0m                                                        \u001b]8;id=506730;file:///home/daphne/Code/hpi_parego/CARP-S/carps/analysis/gather_data.py\u001b\\\u001b[2mgather_data.py\u001b[0m\u001b]8;;\u001b\\\u001b[2m:\u001b[0m\u001b]8;id=993355;file:///home/daphne/Code/hpi_parego/CARP-S/carps/analysis/gather_data.py#617\u001b\\\u001b[2m617\u001b[0m\u001b]8;;\u001b\\\n"
      ]
     },
     "metadata": {},
     "output_type": "display_data"
    },
    {
     "data": {
      "text/html": [
       "<pre style=\"white-space:pre;overflow-x:auto;line-height:normal;font-family:Menlo,'DejaVu Sans Mono',consolas,'Courier New',monospace\"><span style=\"color: #7fbfbf; text-decoration-color: #7fbfbf\">           </span><span style=\"color: #000080; text-decoration-color: #000080\">INFO    </span> Normalize cost<span style=\"color: #808000; text-decoration-color: #808000\">...</span>                                                            <a href=\"file:///home/daphne/Code/hpi_parego/CARP-S/carps/analysis/gather_data.py\" target=\"_blank\"><span style=\"color: #7f7f7f; text-decoration-color: #7f7f7f\">gather_data.py</span></a><span style=\"color: #7f7f7f; text-decoration-color: #7f7f7f\">:</span><a href=\"file:///home/daphne/Code/hpi_parego/CARP-S/carps/analysis/gather_data.py#619\" target=\"_blank\"><span style=\"color: #7f7f7f; text-decoration-color: #7f7f7f\">619</span></a>\n",
       "</pre>\n"
      ],
      "text/plain": [
       "\u001b[2;36m          \u001b[0m\u001b[2;36m \u001b[0m\u001b[34mINFO    \u001b[0m Normalize cost\u001b[33m...\u001b[0m                                                            \u001b]8;id=187242;file:///home/daphne/Code/hpi_parego/CARP-S/carps/analysis/gather_data.py\u001b\\\u001b[2mgather_data.py\u001b[0m\u001b]8;;\u001b\\\u001b[2m:\u001b[0m\u001b]8;id=338480;file:///home/daphne/Code/hpi_parego/CARP-S/carps/analysis/gather_data.py#619\u001b\\\u001b[2m619\u001b[0m\u001b]8;;\u001b\\\n"
      ]
     },
     "metadata": {},
     "output_type": "display_data"
    },
    {
     "data": {
      "text/html": [
       "<pre style=\"white-space:pre;overflow-x:auto;line-height:normal;font-family:Menlo,'DejaVu Sans Mono',consolas,'Courier New',monospace\"><span style=\"color: #7fbfbf; text-decoration-color: #7fbfbf\">           </span><span style=\"color: #000080; text-decoration-color: #000080\">INFO    </span> Calc normalized incumbent cost<span style=\"color: #808000; text-decoration-color: #808000\">...</span>                                            <a href=\"file:///home/daphne/Code/hpi_parego/CARP-S/carps/analysis/gather_data.py\" target=\"_blank\"><span style=\"color: #7f7f7f; text-decoration-color: #7f7f7f\">gather_data.py</span></a><span style=\"color: #7f7f7f; text-decoration-color: #7f7f7f\">:</span><a href=\"file:///home/daphne/Code/hpi_parego/CARP-S/carps/analysis/gather_data.py#628\" target=\"_blank\"><span style=\"color: #7f7f7f; text-decoration-color: #7f7f7f\">628</span></a>\n",
       "</pre>\n"
      ],
      "text/plain": [
       "\u001b[2;36m          \u001b[0m\u001b[2;36m \u001b[0m\u001b[34mINFO    \u001b[0m Calc normalized incumbent cost\u001b[33m...\u001b[0m                                            \u001b]8;id=479801;file:///home/daphne/Code/hpi_parego/CARP-S/carps/analysis/gather_data.py\u001b\\\u001b[2mgather_data.py\u001b[0m\u001b]8;;\u001b\\\u001b[2m:\u001b[0m\u001b]8;id=63538;file:///home/daphne/Code/hpi_parego/CARP-S/carps/analysis/gather_data.py#628\u001b\\\u001b[2m628\u001b[0m\u001b]8;;\u001b\\\n"
      ]
     },
     "metadata": {},
     "output_type": "display_data"
    },
    {
     "data": {
      "text/html": [
       "<pre style=\"white-space:pre;overflow-x:auto;line-height:normal;font-family:Menlo,'DejaVu Sans Mono',consolas,'Courier New',monospace\"><span style=\"color: #7fbfbf; text-decoration-color: #7fbfbf\">[10:17:33] </span><span style=\"color: #000080; text-decoration-color: #000080\">INFO    </span> Normalize time<span style=\"color: #808000; text-decoration-color: #808000\">...</span>                                                            <a href=\"file:///home/daphne/Code/hpi_parego/CARP-S/carps/analysis/gather_data.py\" target=\"_blank\"><span style=\"color: #7f7f7f; text-decoration-color: #7f7f7f\">gather_data.py</span></a><span style=\"color: #7f7f7f; text-decoration-color: #7f7f7f\">:</span><a href=\"file:///home/daphne/Code/hpi_parego/CARP-S/carps/analysis/gather_data.py#648\" target=\"_blank\"><span style=\"color: #7f7f7f; text-decoration-color: #7f7f7f\">648</span></a>\n",
       "</pre>\n"
      ],
      "text/plain": [
       "\u001b[2;36m[10:17:33]\u001b[0m\u001b[2;36m \u001b[0m\u001b[34mINFO    \u001b[0m Normalize time\u001b[33m...\u001b[0m                                                            \u001b]8;id=344867;file:///home/daphne/Code/hpi_parego/CARP-S/carps/analysis/gather_data.py\u001b\\\u001b[2mgather_data.py\u001b[0m\u001b]8;;\u001b\\\u001b[2m:\u001b[0m\u001b]8;id=709403;file:///home/daphne/Code/hpi_parego/CARP-S/carps/analysis/gather_data.py#648\u001b\\\u001b[2m648\u001b[0m\u001b]8;;\u001b\\\n"
      ]
     },
     "metadata": {},
     "output_type": "display_data"
    },
    {
     "data": {
      "text/html": [
       "<pre style=\"white-space:pre;overflow-x:auto;line-height:normal;font-family:Menlo,'DejaVu Sans Mono',consolas,'Courier New',monospace\"><span style=\"color: #7fbfbf; text-decoration-color: #7fbfbf\">           </span><span style=\"color: #000080; text-decoration-color: #000080\">INFO    </span> Done.                                                                        <a href=\"file:///home/daphne/Code/hpi_parego/CARP-S/carps/analysis/gather_data.py\" target=\"_blank\"><span style=\"color: #7f7f7f; text-decoration-color: #7f7f7f\">gather_data.py</span></a><span style=\"color: #7f7f7f; text-decoration-color: #7f7f7f\">:</span><a href=\"file:///home/daphne/Code/hpi_parego/CARP-S/carps/analysis/gather_data.py#651\" target=\"_blank\"><span style=\"color: #7f7f7f; text-decoration-color: #7f7f7f\">651</span></a>\n",
       "</pre>\n"
      ],
      "text/plain": [
       "\u001b[2;36m          \u001b[0m\u001b[2;36m \u001b[0m\u001b[34mINFO    \u001b[0m Done.                                                                        \u001b]8;id=794069;file:///home/daphne/Code/hpi_parego/CARP-S/carps/analysis/gather_data.py\u001b\\\u001b[2mgather_data.py\u001b[0m\u001b]8;;\u001b\\\u001b[2m:\u001b[0m\u001b]8;id=53731;file:///home/daphne/Code/hpi_parego/CARP-S/carps/analysis/gather_data.py#651\u001b\\\u001b[2m651\u001b[0m\u001b]8;;\u001b\\\n"
      ]
     },
     "metadata": {},
     "output_type": "display_data"
    },
    {
     "data": {
      "text/html": [
       "<pre style=\"white-space:pre;overflow-x:auto;line-height:normal;font-family:Menlo,'DejaVu Sans Mono',consolas,'Courier New',monospace\"><span style=\"color: #7fbfbf; text-decoration-color: #7fbfbf\">           </span><span style=\"color: #000080; text-decoration-color: #000080\">INFO    </span> Start normalization<span style=\"color: #808000; text-decoration-color: #808000\">...</span>                                                       <a href=\"file:///home/daphne/Code/hpi_parego/CARP-S/carps/analysis/gather_data.py\" target=\"_blank\"><span style=\"color: #7f7f7f; text-decoration-color: #7f7f7f\">gather_data.py</span></a><span style=\"color: #7f7f7f; text-decoration-color: #7f7f7f\">:</span><a href=\"file:///home/daphne/Code/hpi_parego/CARP-S/carps/analysis/gather_data.py#616\" target=\"_blank\"><span style=\"color: #7f7f7f; text-decoration-color: #7f7f7f\">616</span></a>\n",
       "</pre>\n"
      ],
      "text/plain": [
       "\u001b[2;36m          \u001b[0m\u001b[2;36m \u001b[0m\u001b[34mINFO    \u001b[0m Start normalization\u001b[33m...\u001b[0m                                                       \u001b]8;id=289297;file:///home/daphne/Code/hpi_parego/CARP-S/carps/analysis/gather_data.py\u001b\\\u001b[2mgather_data.py\u001b[0m\u001b]8;;\u001b\\\u001b[2m:\u001b[0m\u001b]8;id=593900;file:///home/daphne/Code/hpi_parego/CARP-S/carps/analysis/gather_data.py#616\u001b\\\u001b[2m616\u001b[0m\u001b]8;;\u001b\\\n"
      ]
     },
     "metadata": {},
     "output_type": "display_data"
    },
    {
     "data": {
      "text/html": [
       "<pre style=\"white-space:pre;overflow-x:auto;line-height:normal;font-family:Menlo,'DejaVu Sans Mono',consolas,'Courier New',monospace\"><span style=\"color: #7fbfbf; text-decoration-color: #7fbfbf\">           </span><span style=\"color: #000080; text-decoration-color: #000080\">INFO    </span> Normalize n_trials<span style=\"color: #808000; text-decoration-color: #808000\">...</span>                                                        <a href=\"file:///home/daphne/Code/hpi_parego/CARP-S/carps/analysis/gather_data.py\" target=\"_blank\"><span style=\"color: #7f7f7f; text-decoration-color: #7f7f7f\">gather_data.py</span></a><span style=\"color: #7f7f7f; text-decoration-color: #7f7f7f\">:</span><a href=\"file:///home/daphne/Code/hpi_parego/CARP-S/carps/analysis/gather_data.py#617\" target=\"_blank\"><span style=\"color: #7f7f7f; text-decoration-color: #7f7f7f\">617</span></a>\n",
       "</pre>\n"
      ],
      "text/plain": [
       "\u001b[2;36m          \u001b[0m\u001b[2;36m \u001b[0m\u001b[34mINFO    \u001b[0m Normalize n_trials\u001b[33m...\u001b[0m                                                        \u001b]8;id=457668;file:///home/daphne/Code/hpi_parego/CARP-S/carps/analysis/gather_data.py\u001b\\\u001b[2mgather_data.py\u001b[0m\u001b]8;;\u001b\\\u001b[2m:\u001b[0m\u001b]8;id=83467;file:///home/daphne/Code/hpi_parego/CARP-S/carps/analysis/gather_data.py#617\u001b\\\u001b[2m617\u001b[0m\u001b]8;;\u001b\\\n"
      ]
     },
     "metadata": {},
     "output_type": "display_data"
    },
    {
     "data": {
      "text/html": [
       "<pre style=\"white-space:pre;overflow-x:auto;line-height:normal;font-family:Menlo,'DejaVu Sans Mono',consolas,'Courier New',monospace\"><span style=\"color: #7fbfbf; text-decoration-color: #7fbfbf\">           </span><span style=\"color: #000080; text-decoration-color: #000080\">INFO    </span> Normalize cost<span style=\"color: #808000; text-decoration-color: #808000\">...</span>                                                            <a href=\"file:///home/daphne/Code/hpi_parego/CARP-S/carps/analysis/gather_data.py\" target=\"_blank\"><span style=\"color: #7f7f7f; text-decoration-color: #7f7f7f\">gather_data.py</span></a><span style=\"color: #7f7f7f; text-decoration-color: #7f7f7f\">:</span><a href=\"file:///home/daphne/Code/hpi_parego/CARP-S/carps/analysis/gather_data.py#619\" target=\"_blank\"><span style=\"color: #7f7f7f; text-decoration-color: #7f7f7f\">619</span></a>\n",
       "</pre>\n"
      ],
      "text/plain": [
       "\u001b[2;36m          \u001b[0m\u001b[2;36m \u001b[0m\u001b[34mINFO    \u001b[0m Normalize cost\u001b[33m...\u001b[0m                                                            \u001b]8;id=966480;file:///home/daphne/Code/hpi_parego/CARP-S/carps/analysis/gather_data.py\u001b\\\u001b[2mgather_data.py\u001b[0m\u001b]8;;\u001b\\\u001b[2m:\u001b[0m\u001b]8;id=862221;file:///home/daphne/Code/hpi_parego/CARP-S/carps/analysis/gather_data.py#619\u001b\\\u001b[2m619\u001b[0m\u001b]8;;\u001b\\\n"
      ]
     },
     "metadata": {},
     "output_type": "display_data"
    },
    {
     "data": {
      "text/html": [
       "<pre style=\"white-space:pre;overflow-x:auto;line-height:normal;font-family:Menlo,'DejaVu Sans Mono',consolas,'Courier New',monospace\"><span style=\"color: #7fbfbf; text-decoration-color: #7fbfbf\">           </span><span style=\"color: #000080; text-decoration-color: #000080\">INFO    </span> Calc normalized incumbent cost<span style=\"color: #808000; text-decoration-color: #808000\">...</span>                                            <a href=\"file:///home/daphne/Code/hpi_parego/CARP-S/carps/analysis/gather_data.py\" target=\"_blank\"><span style=\"color: #7f7f7f; text-decoration-color: #7f7f7f\">gather_data.py</span></a><span style=\"color: #7f7f7f; text-decoration-color: #7f7f7f\">:</span><a href=\"file:///home/daphne/Code/hpi_parego/CARP-S/carps/analysis/gather_data.py#628\" target=\"_blank\"><span style=\"color: #7f7f7f; text-decoration-color: #7f7f7f\">628</span></a>\n",
       "</pre>\n"
      ],
      "text/plain": [
       "\u001b[2;36m          \u001b[0m\u001b[2;36m \u001b[0m\u001b[34mINFO    \u001b[0m Calc normalized incumbent cost\u001b[33m...\u001b[0m                                            \u001b]8;id=264945;file:///home/daphne/Code/hpi_parego/CARP-S/carps/analysis/gather_data.py\u001b\\\u001b[2mgather_data.py\u001b[0m\u001b]8;;\u001b\\\u001b[2m:\u001b[0m\u001b]8;id=937859;file:///home/daphne/Code/hpi_parego/CARP-S/carps/analysis/gather_data.py#628\u001b\\\u001b[2m628\u001b[0m\u001b]8;;\u001b\\\n"
      ]
     },
     "metadata": {},
     "output_type": "display_data"
    },
    {
     "data": {
      "text/html": [
       "<pre style=\"white-space:pre;overflow-x:auto;line-height:normal;font-family:Menlo,'DejaVu Sans Mono',consolas,'Courier New',monospace\"><span style=\"color: #7fbfbf; text-decoration-color: #7fbfbf\">           </span><span style=\"color: #000080; text-decoration-color: #000080\">INFO    </span> Normalize time<span style=\"color: #808000; text-decoration-color: #808000\">...</span>                                                            <a href=\"file:///home/daphne/Code/hpi_parego/CARP-S/carps/analysis/gather_data.py\" target=\"_blank\"><span style=\"color: #7f7f7f; text-decoration-color: #7f7f7f\">gather_data.py</span></a><span style=\"color: #7f7f7f; text-decoration-color: #7f7f7f\">:</span><a href=\"file:///home/daphne/Code/hpi_parego/CARP-S/carps/analysis/gather_data.py#648\" target=\"_blank\"><span style=\"color: #7f7f7f; text-decoration-color: #7f7f7f\">648</span></a>\n",
       "</pre>\n"
      ],
      "text/plain": [
       "\u001b[2;36m          \u001b[0m\u001b[2;36m \u001b[0m\u001b[34mINFO    \u001b[0m Normalize time\u001b[33m...\u001b[0m                                                            \u001b]8;id=437265;file:///home/daphne/Code/hpi_parego/CARP-S/carps/analysis/gather_data.py\u001b\\\u001b[2mgather_data.py\u001b[0m\u001b]8;;\u001b\\\u001b[2m:\u001b[0m\u001b]8;id=600826;file:///home/daphne/Code/hpi_parego/CARP-S/carps/analysis/gather_data.py#648\u001b\\\u001b[2m648\u001b[0m\u001b]8;;\u001b\\\n"
      ]
     },
     "metadata": {},
     "output_type": "display_data"
    },
    {
     "data": {
      "text/html": [
       "<pre style=\"white-space:pre;overflow-x:auto;line-height:normal;font-family:Menlo,'DejaVu Sans Mono',consolas,'Courier New',monospace\"><span style=\"color: #7fbfbf; text-decoration-color: #7fbfbf\">[10:17:34] </span><span style=\"color: #000080; text-decoration-color: #000080\">INFO    </span> Done.                                                                        <a href=\"file:///home/daphne/Code/hpi_parego/CARP-S/carps/analysis/gather_data.py\" target=\"_blank\"><span style=\"color: #7f7f7f; text-decoration-color: #7f7f7f\">gather_data.py</span></a><span style=\"color: #7f7f7f; text-decoration-color: #7f7f7f\">:</span><a href=\"file:///home/daphne/Code/hpi_parego/CARP-S/carps/analysis/gather_data.py#651\" target=\"_blank\"><span style=\"color: #7f7f7f; text-decoration-color: #7f7f7f\">651</span></a>\n",
       "</pre>\n"
      ],
      "text/plain": [
       "\u001b[2;36m[10:17:34]\u001b[0m\u001b[2;36m \u001b[0m\u001b[34mINFO    \u001b[0m Done.                                                                        \u001b]8;id=522559;file:///home/daphne/Code/hpi_parego/CARP-S/carps/analysis/gather_data.py\u001b\\\u001b[2mgather_data.py\u001b[0m\u001b]8;;\u001b\\\u001b[2m:\u001b[0m\u001b]8;id=500185;file:///home/daphne/Code/hpi_parego/CARP-S/carps/analysis/gather_data.py#651\u001b\\\u001b[2m651\u001b[0m\u001b]8;;\u001b\\\n"
      ]
     },
     "metadata": {},
     "output_type": "display_data"
    },
    {
     "data": {
      "text/html": [
       "<pre style=\"white-space:pre;overflow-x:auto;line-height:normal;font-family:Menlo,'DejaVu Sans Mono',consolas,'Courier New',monospace\"><span style=\"color: #7fbfbf; text-decoration-color: #7fbfbf\">           </span><span style=\"color: #000080; text-decoration-color: #000080\">INFO    </span> Create dataframe for neat plotting by aligning x-axis <span style=\"color: #800080; text-decoration-color: #800080\">/</span> interpolating        <a href=\"file:///home/daphne/Code/hpi_parego/CARP-S/carps/analysis/gather_data.py\" target=\"_blank\"><span style=\"color: #7f7f7f; text-decoration-color: #7f7f7f\">gather_data.py</span></a><span style=\"color: #7f7f7f; text-decoration-color: #7f7f7f\">:</span><a href=\"file:///home/daphne/Code/hpi_parego/CARP-S/carps/analysis/gather_data.py#725\" target=\"_blank\"><span style=\"color: #7f7f7f; text-decoration-color: #7f7f7f\">725</span></a>\n",
       "<span style=\"color: #7fbfbf; text-decoration-color: #7fbfbf\">           </span>         budget.                                                                      <span style=\"color: #7f7f7f; text-decoration-color: #7f7f7f\">                  </span>\n",
       "</pre>\n"
      ],
      "text/plain": [
       "\u001b[2;36m          \u001b[0m\u001b[2;36m \u001b[0m\u001b[34mINFO    \u001b[0m Create dataframe for neat plotting by aligning x-axis \u001b[35m/\u001b[0m interpolating        \u001b]8;id=707133;file:///home/daphne/Code/hpi_parego/CARP-S/carps/analysis/gather_data.py\u001b\\\u001b[2mgather_data.py\u001b[0m\u001b]8;;\u001b\\\u001b[2m:\u001b[0m\u001b]8;id=733249;file:///home/daphne/Code/hpi_parego/CARP-S/carps/analysis/gather_data.py#725\u001b\\\u001b[2m725\u001b[0m\u001b]8;;\u001b\\\n",
       "\u001b[2;36m           \u001b[0m         budget.                                                                      \u001b[2m                  \u001b[0m\n"
      ]
     },
     "metadata": {},
     "output_type": "display_data"
    },
    {
     "name": "stdout",
     "output_type": "stream",
     "text": [
      "All data complete!\n"
     ]
    },
    {
     "data": {
      "text/html": [
       "<pre style=\"white-space:pre;overflow-x:auto;line-height:normal;font-family:Menlo,'DejaVu Sans Mono',consolas,'Courier New',monospace\"><span style=\"color: #7fbfbf; text-decoration-color: #7fbfbf\">[10:17:50] </span><span style=\"color: #000080; text-decoration-color: #000080\">INFO    </span> Create dataframe for neat plotting by aligning x-axis <span style=\"color: #800080; text-decoration-color: #800080\">/</span> interpolating        <a href=\"file:///home/daphne/Code/hpi_parego/CARP-S/carps/analysis/gather_data.py\" target=\"_blank\"><span style=\"color: #7f7f7f; text-decoration-color: #7f7f7f\">gather_data.py</span></a><span style=\"color: #7f7f7f; text-decoration-color: #7f7f7f\">:</span><a href=\"file:///home/daphne/Code/hpi_parego/CARP-S/carps/analysis/gather_data.py#725\" target=\"_blank\"><span style=\"color: #7f7f7f; text-decoration-color: #7f7f7f\">725</span></a>\n",
       "<span style=\"color: #7fbfbf; text-decoration-color: #7fbfbf\">           </span>         budget.                                                                      <span style=\"color: #7f7f7f; text-decoration-color: #7f7f7f\">                  </span>\n",
       "</pre>\n"
      ],
      "text/plain": [
       "\u001b[2;36m[10:17:50]\u001b[0m\u001b[2;36m \u001b[0m\u001b[34mINFO    \u001b[0m Create dataframe for neat plotting by aligning x-axis \u001b[35m/\u001b[0m interpolating        \u001b]8;id=777681;file:///home/daphne/Code/hpi_parego/CARP-S/carps/analysis/gather_data.py\u001b\\\u001b[2mgather_data.py\u001b[0m\u001b]8;;\u001b\\\u001b[2m:\u001b[0m\u001b]8;id=190728;file:///home/daphne/Code/hpi_parego/CARP-S/carps/analysis/gather_data.py#725\u001b\\\u001b[2m725\u001b[0m\u001b]8;;\u001b\\\n",
       "\u001b[2;36m           \u001b[0m         budget.                                                                      \u001b[2m                  \u001b[0m\n"
      ]
     },
     "metadata": {},
     "output_type": "display_data"
    },
    {
     "name": "stdout",
     "output_type": "stream",
     "text": [
      "Optimizer random__adjust_prev_cfgs_set_to_default_dynamic_decay_down is not complete for max n_trials_norm = 1.0: 73 combinations missing.\n",
      "Optimizer random__adjust_prev_cfgs_set_to_default_dynamic_decay_up is not complete for max n_trials_norm = 1.0: 69 combinations missing.\n",
      "Optimizer random__adjust_prev_cfgs_set_to_default_thresh_0.5 is not complete for max n_trials_norm = 1.0: 71 combinations missing.\n",
      "Optimizer random__adjust_prev_cfgs_set_to_default_thresh_0.75 is not complete for max n_trials_norm = 1.0: 61 combinations missing.\n",
      "Optimizer random__adjust_prev_cfgs_set_to_incumbent_dynamic_decay_down is not complete for max n_trials_norm = 1.0: 78 combinations missing.\n",
      "Optimizer random__adjust_prev_cfgs_set_to_incumbent_dynamic_decay_up is not complete for max n_trials_norm = 1.0: 82 combinations missing.\n",
      "Optimizer random__adjust_prev_cfgs_set_to_incumbent_thresh_0.5 is not complete for max n_trials_norm = 1.0: 68 combinations missing.\n",
      "Optimizer random__adjust_prev_cfgs_set_to_incumbent_thresh_0.75 is not complete for max n_trials_norm = 1.0: 69 combinations missing.\n",
      "Optimizer random__adjust_prev_cfgs_set_to_random_dynamic_decay_down is not complete for max n_trials_norm = 1.0: 77 combinations missing.\n",
      "Optimizer random__adjust_prev_cfgs_set_to_random_dynamic_decay_up is not complete for max n_trials_norm = 1.0: 76 combinations missing.\n",
      "Optimizer random__adjust_prev_cfgs_set_to_random_thresh_0.5 is not complete for max n_trials_norm = 1.0: 66 combinations missing.\n",
      "Optimizer random__adjust_prev_cfgs_set_to_random_thresh_0.75 is not complete for max n_trials_norm = 1.0: 78 combinations missing.\n",
      "Optimizer random_adjust_cs_default_adjust_prev_cfgs_set_to_default_dynamic_decay_down is not complete for max n_trials_norm = 1.0: 78 combinations missing.\n",
      "Optimizer random_adjust_cs_default_adjust_prev_cfgs_set_to_default_dynamic_decay_up is not complete for max n_trials_norm = 1.0: 65 combinations missing.\n",
      "Optimizer random_adjust_cs_default_adjust_prev_cfgs_set_to_default_thresh_0.5 is not complete for max n_trials_norm = 1.0: 73 combinations missing.\n",
      "Optimizer random_adjust_cs_default_adjust_prev_cfgs_set_to_default_thresh_0.75 is not complete for max n_trials_norm = 1.0: 83 combinations missing.\n",
      "Optimizer random_adjust_cs_default_adjust_prev_cfgs_set_to_incumbent_dynamic_decay_down is not complete for max n_trials_norm = 1.0: 74 combinations missing.\n",
      "Optimizer random_adjust_cs_default_adjust_prev_cfgs_set_to_incumbent_dynamic_decay_up is not complete for max n_trials_norm = 1.0: 70 combinations missing.\n",
      "Optimizer random_adjust_cs_default_adjust_prev_cfgs_set_to_incumbent_thresh_0.5 is not complete for max n_trials_norm = 1.0: 75 combinations missing.\n",
      "Optimizer random_adjust_cs_default_adjust_prev_cfgs_set_to_incumbent_thresh_0.75 is not complete for max n_trials_norm = 1.0: 61 combinations missing.\n",
      "Optimizer random_adjust_cs_default_adjust_prev_cfgs_set_to_random_dynamic_decay_down is not complete for max n_trials_norm = 1.0: 77 combinations missing.\n",
      "Optimizer random_adjust_cs_default_adjust_prev_cfgs_set_to_random_dynamic_decay_up is not complete for max n_trials_norm = 1.0: 78 combinations missing.\n",
      "Optimizer random_adjust_cs_default_adjust_prev_cfgs_set_to_random_thresh_0.5 is not complete for max n_trials_norm = 1.0: 74 combinations missing.\n",
      "Optimizer random_adjust_cs_default_adjust_prev_cfgs_set_to_random_thresh_0.75 is not complete for max n_trials_norm = 1.0: 68 combinations missing.\n",
      "Optimizer random_adjust_cs_default_constant_adjust_prev_cfgs_set_to_default_dynamic_decay_down is not complete for max n_trials_norm = 1.0: 78 combinations missing.\n",
      "Optimizer random_adjust_cs_default_constant_adjust_prev_cfgs_set_to_default_dynamic_decay_up is not complete for max n_trials_norm = 1.0: 88 combinations missing.\n",
      "Optimizer random_adjust_cs_default_constant_adjust_prev_cfgs_set_to_default_thresh_0.5 is not complete for max n_trials_norm = 1.0: 82 combinations missing.\n",
      "Optimizer random_adjust_cs_default_constant_adjust_prev_cfgs_set_to_default_thresh_0.75 is not complete for max n_trials_norm = 1.0: 80 combinations missing.\n",
      "Optimizer random_adjust_cs_default_constant_adjust_prev_cfgs_set_to_incumbent_dynamic_decay_down is not complete for max n_trials_norm = 1.0: 82 combinations missing.\n",
      "Optimizer random_adjust_cs_default_constant_adjust_prev_cfgs_set_to_incumbent_dynamic_decay_up is not complete for max n_trials_norm = 1.0: 127 combinations missing.\n",
      "Optimizer random_adjust_cs_default_constant_adjust_prev_cfgs_set_to_incumbent_thresh_0.5 is not complete for max n_trials_norm = 1.0: 88 combinations missing.\n",
      "Optimizer random_adjust_cs_default_constant_adjust_prev_cfgs_set_to_incumbent_thresh_0.75 is not complete for max n_trials_norm = 1.0: 87 combinations missing.\n",
      "Optimizer random_adjust_cs_default_constant_adjust_prev_cfgs_set_to_random_dynamic_decay_down is not complete for max n_trials_norm = 1.0: 99 combinations missing.\n",
      "Optimizer random_adjust_cs_default_constant_adjust_prev_cfgs_set_to_random_dynamic_decay_up is not complete for max n_trials_norm = 1.0: 94 combinations missing.\n",
      "Optimizer random_adjust_cs_default_constant_adjust_prev_cfgs_set_to_random_thresh_0.5 is not complete for max n_trials_norm = 1.0: 94 combinations missing.\n",
      "Optimizer random_adjust_cs_default_constant_adjust_prev_cfgs_set_to_random_thresh_0.75 is not complete for max n_trials_norm = 1.0: 73 combinations missing.\n",
      "Optimizer random_adjust_cs_default_constant_dynamic_decay_down is not complete for max n_trials_norm = 1.0: 90 combinations missing.\n",
      "Optimizer random_adjust_cs_default_constant_dynamic_decay_up is not complete for max n_trials_norm = 1.0: 108 combinations missing.\n",
      "Optimizer random_adjust_cs_default_constant_thresh_0.5 is not complete for max n_trials_norm = 1.0: 105 combinations missing.\n",
      "Optimizer random_adjust_cs_default_constant_thresh_0.75 is not complete for max n_trials_norm = 1.0: 87 combinations missing.\n",
      "Optimizer random_adjust_cs_default_cs_proba_hpi_adjust_prev_cfgs_set_to_default_dynamic_decay_down is not complete for max n_trials_norm = 1.0: 60 combinations missing.\n",
      "Optimizer random_adjust_cs_default_cs_proba_hpi_adjust_prev_cfgs_set_to_default_dynamic_decay_up is not complete for max n_trials_norm = 1.0: 71 combinations missing.\n",
      "Optimizer random_adjust_cs_default_cs_proba_hpi_adjust_prev_cfgs_set_to_default_thresh_0.5 is not complete for max n_trials_norm = 1.0: 69 combinations missing.\n",
      "Optimizer random_adjust_cs_default_cs_proba_hpi_adjust_prev_cfgs_set_to_default_thresh_0.75 is not complete for max n_trials_norm = 1.0: 75 combinations missing.\n",
      "Optimizer random_adjust_cs_default_cs_proba_hpi_adjust_prev_cfgs_set_to_incumbent_dynamic_decay_down is not complete for max n_trials_norm = 1.0: 68 combinations missing.\n",
      "Optimizer random_adjust_cs_default_cs_proba_hpi_adjust_prev_cfgs_set_to_incumbent_dynamic_decay_up is not complete for max n_trials_norm = 1.0: 74 combinations missing.\n",
      "Optimizer random_adjust_cs_default_cs_proba_hpi_adjust_prev_cfgs_set_to_incumbent_thresh_0.5 is not complete for max n_trials_norm = 1.0: 71 combinations missing.\n",
      "Optimizer random_adjust_cs_default_cs_proba_hpi_adjust_prev_cfgs_set_to_incumbent_thresh_0.75 is not complete for max n_trials_norm = 1.0: 61 combinations missing.\n",
      "Optimizer random_adjust_cs_default_cs_proba_hpi_adjust_prev_cfgs_set_to_random_dynamic_decay_down is not complete for max n_trials_norm = 1.0: 73 combinations missing.\n",
      "Optimizer random_adjust_cs_default_cs_proba_hpi_adjust_prev_cfgs_set_to_random_dynamic_decay_up is not complete for max n_trials_norm = 1.0: 66 combinations missing.\n",
      "Optimizer random_adjust_cs_default_cs_proba_hpi_adjust_prev_cfgs_set_to_random_thresh_0.5 is not complete for max n_trials_norm = 1.0: 75 combinations missing.\n",
      "Optimizer random_adjust_cs_default_cs_proba_hpi_adjust_prev_cfgs_set_to_random_thresh_0.75 is not complete for max n_trials_norm = 1.0: 77 combinations missing.\n",
      "Optimizer random_adjust_cs_default_cs_proba_hpi_dynamic_decay_down is not complete for max n_trials_norm = 1.0: 87 combinations missing.\n",
      "Optimizer random_adjust_cs_default_cs_proba_hpi_dynamic_decay_up is not complete for max n_trials_norm = 1.0: 84 combinations missing.\n",
      "Optimizer random_adjust_cs_default_cs_proba_hpi_thresh_0.5 is not complete for max n_trials_norm = 1.0: 103 combinations missing.\n",
      "Optimizer random_adjust_cs_default_cs_proba_hpi_thresh_0.75 is not complete for max n_trials_norm = 1.0: 66 combinations missing.\n",
      "Optimizer random_adjust_cs_default_dynamic_decay_down is not complete for max n_trials_norm = 1.0: 89 combinations missing.\n",
      "Optimizer random_adjust_cs_default_dynamic_decay_up is not complete for max n_trials_norm = 1.0: 81 combinations missing.\n",
      "Optimizer random_adjust_cs_default_thresh_0.5 is not complete for max n_trials_norm = 1.0: 113 combinations missing.\n",
      "Optimizer random_adjust_cs_default_thresh_0.75 is not complete for max n_trials_norm = 1.0: 73 combinations missing.\n",
      "Optimizer random_adjust_cs_incumbent_adjust_prev_cfgs_set_to_default_dynamic_decay_down is not complete for max n_trials_norm = 1.0: 68 combinations missing.\n",
      "Optimizer random_adjust_cs_incumbent_adjust_prev_cfgs_set_to_default_dynamic_decay_up is not complete for max n_trials_norm = 1.0: 77 combinations missing.\n",
      "Optimizer random_adjust_cs_incumbent_adjust_prev_cfgs_set_to_default_thresh_0.5 is not complete for max n_trials_norm = 1.0: 68 combinations missing.\n",
      "Optimizer random_adjust_cs_incumbent_adjust_prev_cfgs_set_to_default_thresh_0.75 is not complete for max n_trials_norm = 1.0: 69 combinations missing.\n",
      "Optimizer random_adjust_cs_incumbent_adjust_prev_cfgs_set_to_incumbent_dynamic_decay_down is not complete for max n_trials_norm = 1.0: 69 combinations missing.\n",
      "Optimizer random_adjust_cs_incumbent_adjust_prev_cfgs_set_to_incumbent_dynamic_decay_up is not complete for max n_trials_norm = 1.0: 67 combinations missing.\n",
      "Optimizer random_adjust_cs_incumbent_adjust_prev_cfgs_set_to_incumbent_thresh_0.5 is not complete for max n_trials_norm = 1.0: 83 combinations missing.\n",
      "Optimizer random_adjust_cs_incumbent_adjust_prev_cfgs_set_to_incumbent_thresh_0.75 is not complete for max n_trials_norm = 1.0: 77 combinations missing.\n",
      "Optimizer random_adjust_cs_incumbent_adjust_prev_cfgs_set_to_random_dynamic_decay_down is not complete for max n_trials_norm = 1.0: 72 combinations missing.\n",
      "Optimizer random_adjust_cs_incumbent_adjust_prev_cfgs_set_to_random_dynamic_decay_up is not complete for max n_trials_norm = 1.0: 72 combinations missing.\n",
      "Optimizer random_adjust_cs_incumbent_adjust_prev_cfgs_set_to_random_thresh_0.5 is not complete for max n_trials_norm = 1.0: 71 combinations missing.\n",
      "Optimizer random_adjust_cs_incumbent_adjust_prev_cfgs_set_to_random_thresh_0.75 is not complete for max n_trials_norm = 1.0: 74 combinations missing.\n",
      "Optimizer random_adjust_cs_incumbent_constant_adjust_prev_cfgs_set_to_default_dynamic_decay_down is not complete for max n_trials_norm = 1.0: 76 combinations missing.\n",
      "Optimizer random_adjust_cs_incumbent_constant_adjust_prev_cfgs_set_to_default_dynamic_decay_up is not complete for max n_trials_norm = 1.0: 81 combinations missing.\n",
      "Optimizer random_adjust_cs_incumbent_constant_adjust_prev_cfgs_set_to_default_thresh_0.5 is not complete for max n_trials_norm = 1.0: 80 combinations missing.\n",
      "Optimizer random_adjust_cs_incumbent_constant_adjust_prev_cfgs_set_to_default_thresh_0.75 is not complete for max n_trials_norm = 1.0: 83 combinations missing.\n",
      "Optimizer random_adjust_cs_incumbent_constant_adjust_prev_cfgs_set_to_incumbent_dynamic_decay_down is not complete for max n_trials_norm = 1.0: 70 combinations missing.\n",
      "Optimizer random_adjust_cs_incumbent_constant_adjust_prev_cfgs_set_to_incumbent_dynamic_decay_up is not complete for max n_trials_norm = 1.0: 82 combinations missing.\n",
      "Optimizer random_adjust_cs_incumbent_constant_adjust_prev_cfgs_set_to_incumbent_thresh_0.5 is not complete for max n_trials_norm = 1.0: 75 combinations missing.\n",
      "Optimizer random_adjust_cs_incumbent_constant_adjust_prev_cfgs_set_to_incumbent_thresh_0.75 is not complete for max n_trials_norm = 1.0: 59 combinations missing.\n",
      "Optimizer random_adjust_cs_incumbent_constant_adjust_prev_cfgs_set_to_random_dynamic_decay_down is not complete for max n_trials_norm = 1.0: 75 combinations missing.\n",
      "Optimizer random_adjust_cs_incumbent_constant_adjust_prev_cfgs_set_to_random_dynamic_decay_up is not complete for max n_trials_norm = 1.0: 76 combinations missing.\n",
      "Optimizer random_adjust_cs_incumbent_constant_adjust_prev_cfgs_set_to_random_thresh_0.5 is not complete for max n_trials_norm = 1.0: 76 combinations missing.\n",
      "Optimizer random_adjust_cs_incumbent_constant_adjust_prev_cfgs_set_to_random_thresh_0.75 is not complete for max n_trials_norm = 1.0: 79 combinations missing.\n",
      "Optimizer random_adjust_cs_incumbent_constant_dynamic_decay_down is not complete for max n_trials_norm = 1.0: 81 combinations missing.\n",
      "Optimizer random_adjust_cs_incumbent_constant_dynamic_decay_up is not complete for max n_trials_norm = 1.0: 76 combinations missing.\n",
      "Optimizer random_adjust_cs_incumbent_constant_thresh_0.5 is not complete for max n_trials_norm = 1.0: 78 combinations missing.\n",
      "Optimizer random_adjust_cs_incumbent_constant_thresh_0.75 is not complete for max n_trials_norm = 1.0: 78 combinations missing.\n",
      "Optimizer random_adjust_cs_incumbent_cs_proba_hpi_adjust_prev_cfgs_set_to_default_dynamic_decay_down is not complete for max n_trials_norm = 1.0: 74 combinations missing.\n",
      "Optimizer random_adjust_cs_incumbent_cs_proba_hpi_adjust_prev_cfgs_set_to_default_dynamic_decay_up is not complete for max n_trials_norm = 1.0: 73 combinations missing.\n",
      "Optimizer random_adjust_cs_incumbent_cs_proba_hpi_adjust_prev_cfgs_set_to_default_thresh_0.5 is not complete for max n_trials_norm = 1.0: 86 combinations missing.\n",
      "Optimizer random_adjust_cs_incumbent_cs_proba_hpi_adjust_prev_cfgs_set_to_default_thresh_0.75 is not complete for max n_trials_norm = 1.0: 70 combinations missing.\n",
      "Optimizer random_adjust_cs_incumbent_cs_proba_hpi_adjust_prev_cfgs_set_to_incumbent_dynamic_decay_down is not complete for max n_trials_norm = 1.0: 75 combinations missing.\n",
      "Optimizer random_adjust_cs_incumbent_cs_proba_hpi_adjust_prev_cfgs_set_to_incumbent_dynamic_decay_up is not complete for max n_trials_norm = 1.0: 76 combinations missing.\n",
      "Optimizer random_adjust_cs_incumbent_cs_proba_hpi_adjust_prev_cfgs_set_to_incumbent_thresh_0.5 is not complete for max n_trials_norm = 1.0: 63 combinations missing.\n",
      "Optimizer random_adjust_cs_incumbent_cs_proba_hpi_adjust_prev_cfgs_set_to_incumbent_thresh_0.75 is not complete for max n_trials_norm = 1.0: 76 combinations missing.\n",
      "Optimizer random_adjust_cs_incumbent_cs_proba_hpi_adjust_prev_cfgs_set_to_random_dynamic_decay_down is not complete for max n_trials_norm = 1.0: 67 combinations missing.\n",
      "Optimizer random_adjust_cs_incumbent_cs_proba_hpi_adjust_prev_cfgs_set_to_random_dynamic_decay_up is not complete for max n_trials_norm = 1.0: 76 combinations missing.\n",
      "Optimizer random_adjust_cs_incumbent_cs_proba_hpi_adjust_prev_cfgs_set_to_random_thresh_0.5 is not complete for max n_trials_norm = 1.0: 69 combinations missing.\n",
      "Optimizer random_adjust_cs_incumbent_cs_proba_hpi_adjust_prev_cfgs_set_to_random_thresh_0.75 is not complete for max n_trials_norm = 1.0: 75 combinations missing.\n",
      "Optimizer random_adjust_cs_incumbent_cs_proba_hpi_dynamic_decay_down is not complete for max n_trials_norm = 1.0: 102 combinations missing.\n",
      "Optimizer random_adjust_cs_incumbent_cs_proba_hpi_dynamic_decay_up is not complete for max n_trials_norm = 1.0: 80 combinations missing.\n",
      "Optimizer random_adjust_cs_incumbent_cs_proba_hpi_thresh_0.5 is not complete for max n_trials_norm = 1.0: 100 combinations missing.\n",
      "Optimizer random_adjust_cs_incumbent_cs_proba_hpi_thresh_0.75 is not complete for max n_trials_norm = 1.0: 67 combinations missing.\n",
      "Optimizer random_adjust_cs_incumbent_dynamic_decay_down is not complete for max n_trials_norm = 1.0: 94 combinations missing.\n",
      "Optimizer random_adjust_cs_incumbent_dynamic_decay_up is not complete for max n_trials_norm = 1.0: 82 combinations missing.\n",
      "Optimizer random_adjust_cs_incumbent_thresh_0.5 is not complete for max n_trials_norm = 1.0: 82 combinations missing.\n",
      "Optimizer random_adjust_cs_incumbent_thresh_0.75 is not complete for max n_trials_norm = 1.0: 61 combinations missing.\n",
      "Optimizer random_adjust_cs_random_adjust_prev_cfgs_set_to_default_dynamic_decay_down is not complete for max n_trials_norm = 1.0: 87 combinations missing.\n",
      "Optimizer random_adjust_cs_random_adjust_prev_cfgs_set_to_default_dynamic_decay_up is not complete for max n_trials_norm = 1.0: 73 combinations missing.\n",
      "Optimizer random_adjust_cs_random_adjust_prev_cfgs_set_to_default_thresh_0.5 is not complete for max n_trials_norm = 1.0: 74 combinations missing.\n",
      "Optimizer random_adjust_cs_random_adjust_prev_cfgs_set_to_default_thresh_0.75 is not complete for max n_trials_norm = 1.0: 78 combinations missing.\n",
      "Optimizer random_adjust_cs_random_adjust_prev_cfgs_set_to_incumbent_dynamic_decay_down is not complete for max n_trials_norm = 1.0: 78 combinations missing.\n",
      "Optimizer random_adjust_cs_random_adjust_prev_cfgs_set_to_incumbent_dynamic_decay_up is not complete for max n_trials_norm = 1.0: 66 combinations missing.\n",
      "Optimizer random_adjust_cs_random_adjust_prev_cfgs_set_to_incumbent_thresh_0.5 is not complete for max n_trials_norm = 1.0: 72 combinations missing.\n",
      "Optimizer random_adjust_cs_random_adjust_prev_cfgs_set_to_incumbent_thresh_0.75 is not complete for max n_trials_norm = 1.0: 63 combinations missing.\n",
      "Optimizer random_adjust_cs_random_adjust_prev_cfgs_set_to_random_dynamic_decay_down is not complete for max n_trials_norm = 1.0: 64 combinations missing.\n",
      "Optimizer random_adjust_cs_random_adjust_prev_cfgs_set_to_random_dynamic_decay_up is not complete for max n_trials_norm = 1.0: 72 combinations missing.\n",
      "Optimizer random_adjust_cs_random_adjust_prev_cfgs_set_to_random_thresh_0.5 is not complete for max n_trials_norm = 1.0: 75 combinations missing.\n",
      "Optimizer random_adjust_cs_random_adjust_prev_cfgs_set_to_random_thresh_0.75 is not complete for max n_trials_norm = 1.0: 64 combinations missing.\n",
      "Optimizer random_adjust_cs_random_constant_adjust_prev_cfgs_set_to_default_dynamic_decay_down is not complete for max n_trials_norm = 1.0: 69 combinations missing.\n",
      "Optimizer random_adjust_cs_random_constant_adjust_prev_cfgs_set_to_default_dynamic_decay_up is not complete for max n_trials_norm = 1.0: 70 combinations missing.\n",
      "Optimizer random_adjust_cs_random_constant_adjust_prev_cfgs_set_to_default_thresh_0.5 is not complete for max n_trials_norm = 1.0: 63 combinations missing.\n",
      "Optimizer random_adjust_cs_random_constant_adjust_prev_cfgs_set_to_default_thresh_0.75 is not complete for max n_trials_norm = 1.0: 61 combinations missing.\n",
      "Optimizer random_adjust_cs_random_constant_adjust_prev_cfgs_set_to_incumbent_dynamic_decay_down is not complete for max n_trials_norm = 1.0: 71 combinations missing.\n",
      "Optimizer random_adjust_cs_random_constant_adjust_prev_cfgs_set_to_incumbent_dynamic_decay_up is not complete for max n_trials_norm = 1.0: 70 combinations missing.\n",
      "Optimizer random_adjust_cs_random_constant_adjust_prev_cfgs_set_to_incumbent_thresh_0.5 is not complete for max n_trials_norm = 1.0: 67 combinations missing.\n",
      "Optimizer random_adjust_cs_random_constant_adjust_prev_cfgs_set_to_incumbent_thresh_0.75 is not complete for max n_trials_norm = 1.0: 74 combinations missing.\n",
      "Optimizer random_adjust_cs_random_constant_adjust_prev_cfgs_set_to_random_dynamic_decay_down is not complete for max n_trials_norm = 1.0: 54 combinations missing.\n",
      "Optimizer random_adjust_cs_random_constant_adjust_prev_cfgs_set_to_random_dynamic_decay_up is not complete for max n_trials_norm = 1.0: 72 combinations missing.\n",
      "Optimizer random_adjust_cs_random_constant_adjust_prev_cfgs_set_to_random_thresh_0.5 is not complete for max n_trials_norm = 1.0: 77 combinations missing.\n",
      "Optimizer random_adjust_cs_random_constant_adjust_prev_cfgs_set_to_random_thresh_0.75 is not complete for max n_trials_norm = 1.0: 70 combinations missing.\n",
      "Optimizer random_adjust_cs_random_constant_dynamic_decay_down is not complete for max n_trials_norm = 1.0: 76 combinations missing.\n",
      "Optimizer random_adjust_cs_random_constant_dynamic_decay_up is not complete for max n_trials_norm = 1.0: 77 combinations missing.\n",
      "Optimizer random_adjust_cs_random_constant_thresh_0.5 is not complete for max n_trials_norm = 1.0: 80 combinations missing.\n",
      "Optimizer random_adjust_cs_random_constant_thresh_0.75 is not complete for max n_trials_norm = 1.0: 81 combinations missing.\n",
      "Optimizer random_adjust_cs_random_cs_proba_hpi_adjust_prev_cfgs_set_to_default_dynamic_decay_down is not complete for max n_trials_norm = 1.0: 69 combinations missing.\n",
      "Optimizer random_adjust_cs_random_cs_proba_hpi_adjust_prev_cfgs_set_to_default_dynamic_decay_up is not complete for max n_trials_norm = 1.0: 72 combinations missing.\n",
      "Optimizer random_adjust_cs_random_cs_proba_hpi_adjust_prev_cfgs_set_to_default_thresh_0.5 is not complete for max n_trials_norm = 1.0: 80 combinations missing.\n",
      "Optimizer random_adjust_cs_random_cs_proba_hpi_adjust_prev_cfgs_set_to_default_thresh_0.75 is not complete for max n_trials_norm = 1.0: 87 combinations missing.\n",
      "Optimizer random_adjust_cs_random_cs_proba_hpi_adjust_prev_cfgs_set_to_incumbent_dynamic_decay_down is not complete for max n_trials_norm = 1.0: 70 combinations missing.\n",
      "Optimizer random_adjust_cs_random_cs_proba_hpi_adjust_prev_cfgs_set_to_incumbent_dynamic_decay_up is not complete for max n_trials_norm = 1.0: 73 combinations missing.\n",
      "Optimizer random_adjust_cs_random_cs_proba_hpi_adjust_prev_cfgs_set_to_incumbent_thresh_0.5 is not complete for max n_trials_norm = 1.0: 76 combinations missing.\n",
      "Optimizer random_adjust_cs_random_cs_proba_hpi_adjust_prev_cfgs_set_to_incumbent_thresh_0.75 is not complete for max n_trials_norm = 1.0: 74 combinations missing.\n",
      "Optimizer random_adjust_cs_random_cs_proba_hpi_adjust_prev_cfgs_set_to_random_dynamic_decay_down is not complete for max n_trials_norm = 1.0: 72 combinations missing.\n",
      "Optimizer random_adjust_cs_random_cs_proba_hpi_adjust_prev_cfgs_set_to_random_dynamic_decay_up is not complete for max n_trials_norm = 1.0: 81 combinations missing.\n",
      "Optimizer random_adjust_cs_random_cs_proba_hpi_adjust_prev_cfgs_set_to_random_thresh_0.5 is not complete for max n_trials_norm = 1.0: 70 combinations missing.\n",
      "Optimizer random_adjust_cs_random_cs_proba_hpi_adjust_prev_cfgs_set_to_random_thresh_0.75 is not complete for max n_trials_norm = 1.0: 76 combinations missing.\n",
      "Optimizer random_adjust_cs_random_cs_proba_hpi_dynamic_decay_down is not complete for max n_trials_norm = 1.0: 91 combinations missing.\n",
      "Optimizer random_adjust_cs_random_cs_proba_hpi_dynamic_decay_up is not complete for max n_trials_norm = 1.0: 93 combinations missing.\n",
      "Optimizer random_adjust_cs_random_cs_proba_hpi_thresh_0.5 is not complete for max n_trials_norm = 1.0: 104 combinations missing.\n",
      "Optimizer random_adjust_cs_random_cs_proba_hpi_thresh_0.75 is not complete for max n_trials_norm = 1.0: 84 combinations missing.\n",
      "Optimizer random_adjust_cs_random_dynamic_decay_down is not complete for max n_trials_norm = 1.0: 102 combinations missing.\n",
      "Optimizer random_adjust_cs_random_dynamic_decay_up is not complete for max n_trials_norm = 1.0: 83 combinations missing.\n",
      "Optimizer random_adjust_cs_random_thresh_0.5 is not complete for max n_trials_norm = 1.0: 114 combinations missing.\n",
      "Optimizer random_adjust_cs_random_thresh_0.75 is not complete for max n_trials_norm = 1.0: 83 combinations missing.\n"
     ]
    }
   ],
   "source": [
    "path = \"/home/daphne/Code/hpi_parego/experimenter/hpobench_part_1/processed_logs.parquet\"\n",
    "hpo1_df, hpo1_rnd = read_data(path)\n",
    "path = \"/home/daphne/Code/hpi_parego/experimenter/hpobench_part_2/processed_logs.parquet\"\n",
    "hpo2_df, hpo2_rnd = read_data(path)\n",
    "hpo_df = pd.concat([hpo1_df, hpo2_df])\n",
    "hpo_df = hpo_df[~hpo_df['optimizer_id'].str.startswith('hypershap')]\n",
    "hpo_rnd = pd.concat([hpo1_rnd, hpo2_rnd])\n",
    "hpo_df = hpo_df.sort_values('trial_value__endtime').drop_duplicates(subset=['task_id', 'optimizer_id', 'seed', 'n_trials_norm'], keep='last')\n",
    "hpo_rnd = hpo_rnd.sort_values('trial_value__endtime').drop_duplicates(subset=['task_id', 'optimizer_id', 'seed', 'n_trials_norm'], keep='last')\n",
    "hpo_perf, missing = get_perf(hpo_df)\n",
    "hpo_rnd, _ = get_perf(hpo_rnd)"
   ]
  },
  {
   "cell_type": "code",
   "execution_count": 65,
   "id": "d2dac1c1",
   "metadata": {},
   "outputs": [
    {
     "data": {
      "text/html": [
       "<pre style=\"white-space:pre;overflow-x:auto;line-height:normal;font-family:Menlo,'DejaVu Sans Mono',consolas,'Courier New',monospace\"><span style=\"color: #7fbfbf; text-decoration-color: #7fbfbf\">[10:17:57] </span><span style=\"color: #000080; text-decoration-color: #000080\">INFO    </span> Start normalization<span style=\"color: #808000; text-decoration-color: #808000\">...</span>                                                       <a href=\"file:///home/daphne/Code/hpi_parego/CARP-S/carps/analysis/gather_data.py\" target=\"_blank\"><span style=\"color: #7f7f7f; text-decoration-color: #7f7f7f\">gather_data.py</span></a><span style=\"color: #7f7f7f; text-decoration-color: #7f7f7f\">:</span><a href=\"file:///home/daphne/Code/hpi_parego/CARP-S/carps/analysis/gather_data.py#616\" target=\"_blank\"><span style=\"color: #7f7f7f; text-decoration-color: #7f7f7f\">616</span></a>\n",
       "</pre>\n"
      ],
      "text/plain": [
       "\u001b[2;36m[10:17:57]\u001b[0m\u001b[2;36m \u001b[0m\u001b[34mINFO    \u001b[0m Start normalization\u001b[33m...\u001b[0m                                                       \u001b]8;id=83241;file:///home/daphne/Code/hpi_parego/CARP-S/carps/analysis/gather_data.py\u001b\\\u001b[2mgather_data.py\u001b[0m\u001b]8;;\u001b\\\u001b[2m:\u001b[0m\u001b]8;id=916485;file:///home/daphne/Code/hpi_parego/CARP-S/carps/analysis/gather_data.py#616\u001b\\\u001b[2m616\u001b[0m\u001b]8;;\u001b\\\n"
      ]
     },
     "metadata": {},
     "output_type": "display_data"
    },
    {
     "data": {
      "text/html": [
       "<pre style=\"white-space:pre;overflow-x:auto;line-height:normal;font-family:Menlo,'DejaVu Sans Mono',consolas,'Courier New',monospace\"><span style=\"color: #7fbfbf; text-decoration-color: #7fbfbf\">           </span><span style=\"color: #000080; text-decoration-color: #000080\">INFO    </span> Normalize n_trials<span style=\"color: #808000; text-decoration-color: #808000\">...</span>                                                        <a href=\"file:///home/daphne/Code/hpi_parego/CARP-S/carps/analysis/gather_data.py\" target=\"_blank\"><span style=\"color: #7f7f7f; text-decoration-color: #7f7f7f\">gather_data.py</span></a><span style=\"color: #7f7f7f; text-decoration-color: #7f7f7f\">:</span><a href=\"file:///home/daphne/Code/hpi_parego/CARP-S/carps/analysis/gather_data.py#617\" target=\"_blank\"><span style=\"color: #7f7f7f; text-decoration-color: #7f7f7f\">617</span></a>\n",
       "</pre>\n"
      ],
      "text/plain": [
       "\u001b[2;36m          \u001b[0m\u001b[2;36m \u001b[0m\u001b[34mINFO    \u001b[0m Normalize n_trials\u001b[33m...\u001b[0m                                                        \u001b]8;id=121968;file:///home/daphne/Code/hpi_parego/CARP-S/carps/analysis/gather_data.py\u001b\\\u001b[2mgather_data.py\u001b[0m\u001b]8;;\u001b\\\u001b[2m:\u001b[0m\u001b]8;id=53067;file:///home/daphne/Code/hpi_parego/CARP-S/carps/analysis/gather_data.py#617\u001b\\\u001b[2m617\u001b[0m\u001b]8;;\u001b\\\n"
      ]
     },
     "metadata": {},
     "output_type": "display_data"
    },
    {
     "data": {
      "text/html": [
       "<pre style=\"white-space:pre;overflow-x:auto;line-height:normal;font-family:Menlo,'DejaVu Sans Mono',consolas,'Courier New',monospace\"><span style=\"color: #7fbfbf; text-decoration-color: #7fbfbf\">           </span><span style=\"color: #000080; text-decoration-color: #000080\">INFO    </span> Normalize cost<span style=\"color: #808000; text-decoration-color: #808000\">...</span>                                                            <a href=\"file:///home/daphne/Code/hpi_parego/CARP-S/carps/analysis/gather_data.py\" target=\"_blank\"><span style=\"color: #7f7f7f; text-decoration-color: #7f7f7f\">gather_data.py</span></a><span style=\"color: #7f7f7f; text-decoration-color: #7f7f7f\">:</span><a href=\"file:///home/daphne/Code/hpi_parego/CARP-S/carps/analysis/gather_data.py#619\" target=\"_blank\"><span style=\"color: #7f7f7f; text-decoration-color: #7f7f7f\">619</span></a>\n",
       "</pre>\n"
      ],
      "text/plain": [
       "\u001b[2;36m          \u001b[0m\u001b[2;36m \u001b[0m\u001b[34mINFO    \u001b[0m Normalize cost\u001b[33m...\u001b[0m                                                            \u001b]8;id=132210;file:///home/daphne/Code/hpi_parego/CARP-S/carps/analysis/gather_data.py\u001b\\\u001b[2mgather_data.py\u001b[0m\u001b]8;;\u001b\\\u001b[2m:\u001b[0m\u001b]8;id=73725;file:///home/daphne/Code/hpi_parego/CARP-S/carps/analysis/gather_data.py#619\u001b\\\u001b[2m619\u001b[0m\u001b]8;;\u001b\\\n"
      ]
     },
     "metadata": {},
     "output_type": "display_data"
    },
    {
     "data": {
      "text/html": [
       "<pre style=\"white-space:pre;overflow-x:auto;line-height:normal;font-family:Menlo,'DejaVu Sans Mono',consolas,'Courier New',monospace\"><span style=\"color: #7fbfbf; text-decoration-color: #7fbfbf\">           </span><span style=\"color: #000080; text-decoration-color: #000080\">INFO    </span> Calc normalized incumbent cost<span style=\"color: #808000; text-decoration-color: #808000\">...</span>                                            <a href=\"file:///home/daphne/Code/hpi_parego/CARP-S/carps/analysis/gather_data.py\" target=\"_blank\"><span style=\"color: #7f7f7f; text-decoration-color: #7f7f7f\">gather_data.py</span></a><span style=\"color: #7f7f7f; text-decoration-color: #7f7f7f\">:</span><a href=\"file:///home/daphne/Code/hpi_parego/CARP-S/carps/analysis/gather_data.py#628\" target=\"_blank\"><span style=\"color: #7f7f7f; text-decoration-color: #7f7f7f\">628</span></a>\n",
       "</pre>\n"
      ],
      "text/plain": [
       "\u001b[2;36m          \u001b[0m\u001b[2;36m \u001b[0m\u001b[34mINFO    \u001b[0m Calc normalized incumbent cost\u001b[33m...\u001b[0m                                            \u001b]8;id=426688;file:///home/daphne/Code/hpi_parego/CARP-S/carps/analysis/gather_data.py\u001b\\\u001b[2mgather_data.py\u001b[0m\u001b]8;;\u001b\\\u001b[2m:\u001b[0m\u001b]8;id=513068;file:///home/daphne/Code/hpi_parego/CARP-S/carps/analysis/gather_data.py#628\u001b\\\u001b[2m628\u001b[0m\u001b]8;;\u001b\\\n"
      ]
     },
     "metadata": {},
     "output_type": "display_data"
    },
    {
     "data": {
      "text/html": [
       "<pre style=\"white-space:pre;overflow-x:auto;line-height:normal;font-family:Menlo,'DejaVu Sans Mono',consolas,'Courier New',monospace\"><span style=\"color: #7fbfbf; text-decoration-color: #7fbfbf\">[10:17:58] </span><span style=\"color: #000080; text-decoration-color: #000080\">INFO    </span> Normalize time<span style=\"color: #808000; text-decoration-color: #808000\">...</span>                                                            <a href=\"file:///home/daphne/Code/hpi_parego/CARP-S/carps/analysis/gather_data.py\" target=\"_blank\"><span style=\"color: #7f7f7f; text-decoration-color: #7f7f7f\">gather_data.py</span></a><span style=\"color: #7f7f7f; text-decoration-color: #7f7f7f\">:</span><a href=\"file:///home/daphne/Code/hpi_parego/CARP-S/carps/analysis/gather_data.py#648\" target=\"_blank\"><span style=\"color: #7f7f7f; text-decoration-color: #7f7f7f\">648</span></a>\n",
       "</pre>\n"
      ],
      "text/plain": [
       "\u001b[2;36m[10:17:58]\u001b[0m\u001b[2;36m \u001b[0m\u001b[34mINFO    \u001b[0m Normalize time\u001b[33m...\u001b[0m                                                            \u001b]8;id=564443;file:///home/daphne/Code/hpi_parego/CARP-S/carps/analysis/gather_data.py\u001b\\\u001b[2mgather_data.py\u001b[0m\u001b]8;;\u001b\\\u001b[2m:\u001b[0m\u001b]8;id=949589;file:///home/daphne/Code/hpi_parego/CARP-S/carps/analysis/gather_data.py#648\u001b\\\u001b[2m648\u001b[0m\u001b]8;;\u001b\\\n"
      ]
     },
     "metadata": {},
     "output_type": "display_data"
    },
    {
     "data": {
      "text/html": [
       "<pre style=\"white-space:pre;overflow-x:auto;line-height:normal;font-family:Menlo,'DejaVu Sans Mono',consolas,'Courier New',monospace\"><span style=\"color: #7fbfbf; text-decoration-color: #7fbfbf\">           </span><span style=\"color: #000080; text-decoration-color: #000080\">INFO    </span> Done.                                                                        <a href=\"file:///home/daphne/Code/hpi_parego/CARP-S/carps/analysis/gather_data.py\" target=\"_blank\"><span style=\"color: #7f7f7f; text-decoration-color: #7f7f7f\">gather_data.py</span></a><span style=\"color: #7f7f7f; text-decoration-color: #7f7f7f\">:</span><a href=\"file:///home/daphne/Code/hpi_parego/CARP-S/carps/analysis/gather_data.py#651\" target=\"_blank\"><span style=\"color: #7f7f7f; text-decoration-color: #7f7f7f\">651</span></a>\n",
       "</pre>\n"
      ],
      "text/plain": [
       "\u001b[2;36m          \u001b[0m\u001b[2;36m \u001b[0m\u001b[34mINFO    \u001b[0m Done.                                                                        \u001b]8;id=737704;file:///home/daphne/Code/hpi_parego/CARP-S/carps/analysis/gather_data.py\u001b\\\u001b[2mgather_data.py\u001b[0m\u001b]8;;\u001b\\\u001b[2m:\u001b[0m\u001b]8;id=806920;file:///home/daphne/Code/hpi_parego/CARP-S/carps/analysis/gather_data.py#651\u001b\\\u001b[2m651\u001b[0m\u001b]8;;\u001b\\\n"
      ]
     },
     "metadata": {},
     "output_type": "display_data"
    },
    {
     "data": {
      "text/html": [
       "<pre style=\"white-space:pre;overflow-x:auto;line-height:normal;font-family:Menlo,'DejaVu Sans Mono',consolas,'Courier New',monospace\"><span style=\"color: #7fbfbf; text-decoration-color: #7fbfbf\">           </span><span style=\"color: #000080; text-decoration-color: #000080\">INFO    </span> Start normalization<span style=\"color: #808000; text-decoration-color: #808000\">...</span>                                                       <a href=\"file:///home/daphne/Code/hpi_parego/CARP-S/carps/analysis/gather_data.py\" target=\"_blank\"><span style=\"color: #7f7f7f; text-decoration-color: #7f7f7f\">gather_data.py</span></a><span style=\"color: #7f7f7f; text-decoration-color: #7f7f7f\">:</span><a href=\"file:///home/daphne/Code/hpi_parego/CARP-S/carps/analysis/gather_data.py#616\" target=\"_blank\"><span style=\"color: #7f7f7f; text-decoration-color: #7f7f7f\">616</span></a>\n",
       "</pre>\n"
      ],
      "text/plain": [
       "\u001b[2;36m          \u001b[0m\u001b[2;36m \u001b[0m\u001b[34mINFO    \u001b[0m Start normalization\u001b[33m...\u001b[0m                                                       \u001b]8;id=103989;file:///home/daphne/Code/hpi_parego/CARP-S/carps/analysis/gather_data.py\u001b\\\u001b[2mgather_data.py\u001b[0m\u001b]8;;\u001b\\\u001b[2m:\u001b[0m\u001b]8;id=790652;file:///home/daphne/Code/hpi_parego/CARP-S/carps/analysis/gather_data.py#616\u001b\\\u001b[2m616\u001b[0m\u001b]8;;\u001b\\\n"
      ]
     },
     "metadata": {},
     "output_type": "display_data"
    },
    {
     "data": {
      "text/html": [
       "<pre style=\"white-space:pre;overflow-x:auto;line-height:normal;font-family:Menlo,'DejaVu Sans Mono',consolas,'Courier New',monospace\"><span style=\"color: #7fbfbf; text-decoration-color: #7fbfbf\">           </span><span style=\"color: #000080; text-decoration-color: #000080\">INFO    </span> Normalize n_trials<span style=\"color: #808000; text-decoration-color: #808000\">...</span>                                                        <a href=\"file:///home/daphne/Code/hpi_parego/CARP-S/carps/analysis/gather_data.py\" target=\"_blank\"><span style=\"color: #7f7f7f; text-decoration-color: #7f7f7f\">gather_data.py</span></a><span style=\"color: #7f7f7f; text-decoration-color: #7f7f7f\">:</span><a href=\"file:///home/daphne/Code/hpi_parego/CARP-S/carps/analysis/gather_data.py#617\" target=\"_blank\"><span style=\"color: #7f7f7f; text-decoration-color: #7f7f7f\">617</span></a>\n",
       "</pre>\n"
      ],
      "text/plain": [
       "\u001b[2;36m          \u001b[0m\u001b[2;36m \u001b[0m\u001b[34mINFO    \u001b[0m Normalize n_trials\u001b[33m...\u001b[0m                                                        \u001b]8;id=906072;file:///home/daphne/Code/hpi_parego/CARP-S/carps/analysis/gather_data.py\u001b\\\u001b[2mgather_data.py\u001b[0m\u001b]8;;\u001b\\\u001b[2m:\u001b[0m\u001b]8;id=776191;file:///home/daphne/Code/hpi_parego/CARP-S/carps/analysis/gather_data.py#617\u001b\\\u001b[2m617\u001b[0m\u001b]8;;\u001b\\\n"
      ]
     },
     "metadata": {},
     "output_type": "display_data"
    },
    {
     "data": {
      "text/html": [
       "<pre style=\"white-space:pre;overflow-x:auto;line-height:normal;font-family:Menlo,'DejaVu Sans Mono',consolas,'Courier New',monospace\"><span style=\"color: #7fbfbf; text-decoration-color: #7fbfbf\">           </span><span style=\"color: #000080; text-decoration-color: #000080\">INFO    </span> Normalize cost<span style=\"color: #808000; text-decoration-color: #808000\">...</span>                                                            <a href=\"file:///home/daphne/Code/hpi_parego/CARP-S/carps/analysis/gather_data.py\" target=\"_blank\"><span style=\"color: #7f7f7f; text-decoration-color: #7f7f7f\">gather_data.py</span></a><span style=\"color: #7f7f7f; text-decoration-color: #7f7f7f\">:</span><a href=\"file:///home/daphne/Code/hpi_parego/CARP-S/carps/analysis/gather_data.py#619\" target=\"_blank\"><span style=\"color: #7f7f7f; text-decoration-color: #7f7f7f\">619</span></a>\n",
       "</pre>\n"
      ],
      "text/plain": [
       "\u001b[2;36m          \u001b[0m\u001b[2;36m \u001b[0m\u001b[34mINFO    \u001b[0m Normalize cost\u001b[33m...\u001b[0m                                                            \u001b]8;id=215394;file:///home/daphne/Code/hpi_parego/CARP-S/carps/analysis/gather_data.py\u001b\\\u001b[2mgather_data.py\u001b[0m\u001b]8;;\u001b\\\u001b[2m:\u001b[0m\u001b]8;id=262843;file:///home/daphne/Code/hpi_parego/CARP-S/carps/analysis/gather_data.py#619\u001b\\\u001b[2m619\u001b[0m\u001b]8;;\u001b\\\n"
      ]
     },
     "metadata": {},
     "output_type": "display_data"
    },
    {
     "data": {
      "text/html": [
       "<pre style=\"white-space:pre;overflow-x:auto;line-height:normal;font-family:Menlo,'DejaVu Sans Mono',consolas,'Courier New',monospace\"><span style=\"color: #7fbfbf; text-decoration-color: #7fbfbf\">           </span><span style=\"color: #000080; text-decoration-color: #000080\">INFO    </span> Calc normalized incumbent cost<span style=\"color: #808000; text-decoration-color: #808000\">...</span>                                            <a href=\"file:///home/daphne/Code/hpi_parego/CARP-S/carps/analysis/gather_data.py\" target=\"_blank\"><span style=\"color: #7f7f7f; text-decoration-color: #7f7f7f\">gather_data.py</span></a><span style=\"color: #7f7f7f; text-decoration-color: #7f7f7f\">:</span><a href=\"file:///home/daphne/Code/hpi_parego/CARP-S/carps/analysis/gather_data.py#628\" target=\"_blank\"><span style=\"color: #7f7f7f; text-decoration-color: #7f7f7f\">628</span></a>\n",
       "</pre>\n"
      ],
      "text/plain": [
       "\u001b[2;36m          \u001b[0m\u001b[2;36m \u001b[0m\u001b[34mINFO    \u001b[0m Calc normalized incumbent cost\u001b[33m...\u001b[0m                                            \u001b]8;id=936477;file:///home/daphne/Code/hpi_parego/CARP-S/carps/analysis/gather_data.py\u001b\\\u001b[2mgather_data.py\u001b[0m\u001b]8;;\u001b\\\u001b[2m:\u001b[0m\u001b]8;id=604485;file:///home/daphne/Code/hpi_parego/CARP-S/carps/analysis/gather_data.py#628\u001b\\\u001b[2m628\u001b[0m\u001b]8;;\u001b\\\n"
      ]
     },
     "metadata": {},
     "output_type": "display_data"
    },
    {
     "data": {
      "text/html": [
       "<pre style=\"white-space:pre;overflow-x:auto;line-height:normal;font-family:Menlo,'DejaVu Sans Mono',consolas,'Courier New',monospace\"><span style=\"color: #7fbfbf; text-decoration-color: #7fbfbf\">           </span><span style=\"color: #000080; text-decoration-color: #000080\">INFO    </span> Normalize time<span style=\"color: #808000; text-decoration-color: #808000\">...</span>                                                            <a href=\"file:///home/daphne/Code/hpi_parego/CARP-S/carps/analysis/gather_data.py\" target=\"_blank\"><span style=\"color: #7f7f7f; text-decoration-color: #7f7f7f\">gather_data.py</span></a><span style=\"color: #7f7f7f; text-decoration-color: #7f7f7f\">:</span><a href=\"file:///home/daphne/Code/hpi_parego/CARP-S/carps/analysis/gather_data.py#648\" target=\"_blank\"><span style=\"color: #7f7f7f; text-decoration-color: #7f7f7f\">648</span></a>\n",
       "</pre>\n"
      ],
      "text/plain": [
       "\u001b[2;36m          \u001b[0m\u001b[2;36m \u001b[0m\u001b[34mINFO    \u001b[0m Normalize time\u001b[33m...\u001b[0m                                                            \u001b]8;id=180063;file:///home/daphne/Code/hpi_parego/CARP-S/carps/analysis/gather_data.py\u001b\\\u001b[2mgather_data.py\u001b[0m\u001b]8;;\u001b\\\u001b[2m:\u001b[0m\u001b]8;id=169481;file:///home/daphne/Code/hpi_parego/CARP-S/carps/analysis/gather_data.py#648\u001b\\\u001b[2m648\u001b[0m\u001b]8;;\u001b\\\n"
      ]
     },
     "metadata": {},
     "output_type": "display_data"
    },
    {
     "data": {
      "text/html": [
       "<pre style=\"white-space:pre;overflow-x:auto;line-height:normal;font-family:Menlo,'DejaVu Sans Mono',consolas,'Courier New',monospace\"><span style=\"color: #7fbfbf; text-decoration-color: #7fbfbf\">           </span><span style=\"color: #000080; text-decoration-color: #000080\">INFO    </span> Done.                                                                        <a href=\"file:///home/daphne/Code/hpi_parego/CARP-S/carps/analysis/gather_data.py\" target=\"_blank\"><span style=\"color: #7f7f7f; text-decoration-color: #7f7f7f\">gather_data.py</span></a><span style=\"color: #7f7f7f; text-decoration-color: #7f7f7f\">:</span><a href=\"file:///home/daphne/Code/hpi_parego/CARP-S/carps/analysis/gather_data.py#651\" target=\"_blank\"><span style=\"color: #7f7f7f; text-decoration-color: #7f7f7f\">651</span></a>\n",
       "</pre>\n"
      ],
      "text/plain": [
       "\u001b[2;36m          \u001b[0m\u001b[2;36m \u001b[0m\u001b[34mINFO    \u001b[0m Done.                                                                        \u001b]8;id=181047;file:///home/daphne/Code/hpi_parego/CARP-S/carps/analysis/gather_data.py\u001b\\\u001b[2mgather_data.py\u001b[0m\u001b]8;;\u001b\\\u001b[2m:\u001b[0m\u001b]8;id=550789;file:///home/daphne/Code/hpi_parego/CARP-S/carps/analysis/gather_data.py#651\u001b\\\u001b[2m651\u001b[0m\u001b]8;;\u001b\\\n"
      ]
     },
     "metadata": {},
     "output_type": "display_data"
    },
    {
     "data": {
      "text/html": [
       "<pre style=\"white-space:pre;overflow-x:auto;line-height:normal;font-family:Menlo,'DejaVu Sans Mono',consolas,'Courier New',monospace\"><span style=\"color: #7fbfbf; text-decoration-color: #7fbfbf\">           </span><span style=\"color: #000080; text-decoration-color: #000080\">INFO    </span> Create dataframe for neat plotting by aligning x-axis <span style=\"color: #800080; text-decoration-color: #800080\">/</span> interpolating        <a href=\"file:///home/daphne/Code/hpi_parego/CARP-S/carps/analysis/gather_data.py\" target=\"_blank\"><span style=\"color: #7f7f7f; text-decoration-color: #7f7f7f\">gather_data.py</span></a><span style=\"color: #7f7f7f; text-decoration-color: #7f7f7f\">:</span><a href=\"file:///home/daphne/Code/hpi_parego/CARP-S/carps/analysis/gather_data.py#725\" target=\"_blank\"><span style=\"color: #7f7f7f; text-decoration-color: #7f7f7f\">725</span></a>\n",
       "<span style=\"color: #7fbfbf; text-decoration-color: #7fbfbf\">           </span>         budget.                                                                      <span style=\"color: #7f7f7f; text-decoration-color: #7f7f7f\">                  </span>\n",
       "</pre>\n"
      ],
      "text/plain": [
       "\u001b[2;36m          \u001b[0m\u001b[2;36m \u001b[0m\u001b[34mINFO    \u001b[0m Create dataframe for neat plotting by aligning x-axis \u001b[35m/\u001b[0m interpolating        \u001b]8;id=803837;file:///home/daphne/Code/hpi_parego/CARP-S/carps/analysis/gather_data.py\u001b\\\u001b[2mgather_data.py\u001b[0m\u001b]8;;\u001b\\\u001b[2m:\u001b[0m\u001b]8;id=711481;file:///home/daphne/Code/hpi_parego/CARP-S/carps/analysis/gather_data.py#725\u001b\\\u001b[2m725\u001b[0m\u001b]8;;\u001b\\\n",
       "\u001b[2;36m           \u001b[0m         budget.                                                                      \u001b[2m                  \u001b[0m\n"
      ]
     },
     "metadata": {},
     "output_type": "display_data"
    },
    {
     "name": "stdout",
     "output_type": "stream",
     "text": [
      "All data complete!\n"
     ]
    },
    {
     "data": {
      "text/html": [
       "<pre style=\"white-space:pre;overflow-x:auto;line-height:normal;font-family:Menlo,'DejaVu Sans Mono',consolas,'Courier New',monospace\"><span style=\"color: #7fbfbf; text-decoration-color: #7fbfbf\">[10:18:00] </span><span style=\"color: #000080; text-decoration-color: #000080\">INFO    </span> Create dataframe for neat plotting by aligning x-axis <span style=\"color: #800080; text-decoration-color: #800080\">/</span> interpolating        <a href=\"file:///home/daphne/Code/hpi_parego/CARP-S/carps/analysis/gather_data.py\" target=\"_blank\"><span style=\"color: #7f7f7f; text-decoration-color: #7f7f7f\">gather_data.py</span></a><span style=\"color: #7f7f7f; text-decoration-color: #7f7f7f\">:</span><a href=\"file:///home/daphne/Code/hpi_parego/CARP-S/carps/analysis/gather_data.py#725\" target=\"_blank\"><span style=\"color: #7f7f7f; text-decoration-color: #7f7f7f\">725</span></a>\n",
       "<span style=\"color: #7fbfbf; text-decoration-color: #7fbfbf\">           </span>         budget.                                                                      <span style=\"color: #7f7f7f; text-decoration-color: #7f7f7f\">                  </span>\n",
       "</pre>\n"
      ],
      "text/plain": [
       "\u001b[2;36m[10:18:00]\u001b[0m\u001b[2;36m \u001b[0m\u001b[34mINFO    \u001b[0m Create dataframe for neat plotting by aligning x-axis \u001b[35m/\u001b[0m interpolating        \u001b]8;id=404313;file:///home/daphne/Code/hpi_parego/CARP-S/carps/analysis/gather_data.py\u001b\\\u001b[2mgather_data.py\u001b[0m\u001b]8;;\u001b\\\u001b[2m:\u001b[0m\u001b]8;id=362972;file:///home/daphne/Code/hpi_parego/CARP-S/carps/analysis/gather_data.py#725\u001b\\\u001b[2m725\u001b[0m\u001b]8;;\u001b\\\n",
       "\u001b[2;36m           \u001b[0m         budget.                                                                      \u001b[2m                  \u001b[0m\n"
      ]
     },
     "metadata": {},
     "output_type": "display_data"
    },
    {
     "name": "stdout",
     "output_type": "stream",
     "text": [
      "Optimizer random__adjust_prev_cfgs_set_to_default_dynamic_decay_down is not complete for max n_trials_norm = 1.0: 1 combinations missing.\n",
      "Optimizer random__adjust_prev_cfgs_set_to_default_thresh_0.5 is not complete for max n_trials_norm = 1.0: 5 combinations missing.\n",
      "Optimizer random__adjust_prev_cfgs_set_to_default_thresh_0.75 is not complete for max n_trials_norm = 1.0: 4 combinations missing.\n",
      "Optimizer random__adjust_prev_cfgs_set_to_incumbent_dynamic_decay_down is not complete for max n_trials_norm = 1.0: 2 combinations missing.\n",
      "Optimizer random__adjust_prev_cfgs_set_to_incumbent_thresh_0.5 is not complete for max n_trials_norm = 1.0: 4 combinations missing.\n",
      "Optimizer random__adjust_prev_cfgs_set_to_incumbent_thresh_0.75 is not complete for max n_trials_norm = 1.0: 3 combinations missing.\n",
      "Optimizer random__adjust_prev_cfgs_set_to_random_dynamic_decay_down is not complete for max n_trials_norm = 1.0: 3 combinations missing.\n",
      "Optimizer random__adjust_prev_cfgs_set_to_random_dynamic_decay_up is not complete for max n_trials_norm = 1.0: 3 combinations missing.\n",
      "Optimizer random__adjust_prev_cfgs_set_to_random_thresh_0.5 is not complete for max n_trials_norm = 1.0: 1 combinations missing.\n",
      "Optimizer random__adjust_prev_cfgs_set_to_random_thresh_0.75 is not complete for max n_trials_norm = 1.0: 12 combinations missing.\n",
      "Optimizer random_adjust_cs_default_adjust_prev_cfgs_set_to_default_dynamic_decay_down is not complete for max n_trials_norm = 1.0: 2 combinations missing.\n",
      "Optimizer random_adjust_cs_default_adjust_prev_cfgs_set_to_default_thresh_0.5 is not complete for max n_trials_norm = 1.0: 1 combinations missing.\n",
      "Optimizer random_adjust_cs_default_adjust_prev_cfgs_set_to_incumbent_dynamic_decay_up is not complete for max n_trials_norm = 1.0: 3 combinations missing.\n",
      "Optimizer random_adjust_cs_default_adjust_prev_cfgs_set_to_incumbent_thresh_0.5 is not complete for max n_trials_norm = 1.0: 4 combinations missing.\n",
      "Optimizer random_adjust_cs_default_adjust_prev_cfgs_set_to_incumbent_thresh_0.75 is not complete for max n_trials_norm = 1.0: 4 combinations missing.\n",
      "Optimizer random_adjust_cs_default_adjust_prev_cfgs_set_to_random_dynamic_decay_down is not complete for max n_trials_norm = 1.0: 1 combinations missing.\n",
      "Optimizer random_adjust_cs_default_adjust_prev_cfgs_set_to_random_thresh_0.5 is not complete for max n_trials_norm = 1.0: 3 combinations missing.\n",
      "Optimizer random_adjust_cs_default_adjust_prev_cfgs_set_to_random_thresh_0.75 is not complete for max n_trials_norm = 1.0: 3 combinations missing.\n",
      "Optimizer random_adjust_cs_default_constant_adjust_prev_cfgs_set_to_default_dynamic_decay_down is not complete for max n_trials_norm = 1.0: 3 combinations missing.\n",
      "Optimizer random_adjust_cs_default_constant_adjust_prev_cfgs_set_to_default_thresh_0.75 is not complete for max n_trials_norm = 1.0: 7 combinations missing.\n",
      "Optimizer random_adjust_cs_default_constant_adjust_prev_cfgs_set_to_incumbent_dynamic_decay_down is not complete for max n_trials_norm = 1.0: 1 combinations missing.\n",
      "Optimizer random_adjust_cs_default_constant_adjust_prev_cfgs_set_to_incumbent_dynamic_decay_up is not complete for max n_trials_norm = 1.0: 2 combinations missing.\n",
      "Optimizer random_adjust_cs_default_constant_adjust_prev_cfgs_set_to_incumbent_thresh_0.5 is not complete for max n_trials_norm = 1.0: 7 combinations missing.\n",
      "Optimizer random_adjust_cs_default_constant_adjust_prev_cfgs_set_to_incumbent_thresh_0.75 is not complete for max n_trials_norm = 1.0: 10 combinations missing.\n",
      "Optimizer random_adjust_cs_default_constant_adjust_prev_cfgs_set_to_random_dynamic_decay_up is not complete for max n_trials_norm = 1.0: 2 combinations missing.\n",
      "Optimizer random_adjust_cs_default_constant_dynamic_decay_down is not complete for max n_trials_norm = 1.0: 1 combinations missing.\n",
      "Optimizer random_adjust_cs_default_constant_dynamic_decay_up is not complete for max n_trials_norm = 1.0: 1 combinations missing.\n",
      "Optimizer random_adjust_cs_default_constant_thresh_0.75 is not complete for max n_trials_norm = 1.0: 4 combinations missing.\n",
      "Optimizer random_adjust_cs_default_cs_proba_hpi_adjust_prev_cfgs_set_to_default_dynamic_decay_down is not complete for max n_trials_norm = 1.0: 6 combinations missing.\n",
      "Optimizer random_adjust_cs_default_cs_proba_hpi_adjust_prev_cfgs_set_to_default_thresh_0.5 is not complete for max n_trials_norm = 1.0: 6 combinations missing.\n",
      "Optimizer random_adjust_cs_default_cs_proba_hpi_adjust_prev_cfgs_set_to_incumbent_dynamic_decay_down is not complete for max n_trials_norm = 1.0: 1 combinations missing.\n",
      "Optimizer random_adjust_cs_default_cs_proba_hpi_adjust_prev_cfgs_set_to_incumbent_dynamic_decay_up is not complete for max n_trials_norm = 1.0: 1 combinations missing.\n",
      "Optimizer random_adjust_cs_default_cs_proba_hpi_adjust_prev_cfgs_set_to_random_dynamic_decay_down is not complete for max n_trials_norm = 1.0: 2 combinations missing.\n",
      "Optimizer random_adjust_cs_default_cs_proba_hpi_adjust_prev_cfgs_set_to_random_dynamic_decay_up is not complete for max n_trials_norm = 1.0: 2 combinations missing.\n",
      "Optimizer random_adjust_cs_default_cs_proba_hpi_adjust_prev_cfgs_set_to_random_thresh_0.5 is not complete for max n_trials_norm = 1.0: 2 combinations missing.\n",
      "Optimizer random_adjust_cs_default_cs_proba_hpi_adjust_prev_cfgs_set_to_random_thresh_0.75 is not complete for max n_trials_norm = 1.0: 8 combinations missing.\n",
      "Optimizer random_adjust_cs_default_cs_proba_hpi_dynamic_decay_down is not complete for max n_trials_norm = 1.0: 12 combinations missing.\n",
      "Optimizer random_adjust_cs_default_cs_proba_hpi_dynamic_decay_up is not complete for max n_trials_norm = 1.0: 4 combinations missing.\n",
      "Optimizer random_adjust_cs_default_cs_proba_hpi_thresh_0.75 is not complete for max n_trials_norm = 1.0: 3 combinations missing.\n",
      "Optimizer random_adjust_cs_default_thresh_0.5 is not complete for max n_trials_norm = 1.0: 2 combinations missing.\n",
      "Optimizer random_adjust_cs_incumbent_adjust_prev_cfgs_set_to_default_dynamic_decay_down is not complete for max n_trials_norm = 1.0: 10 combinations missing.\n",
      "Optimizer random_adjust_cs_incumbent_adjust_prev_cfgs_set_to_default_dynamic_decay_up is not complete for max n_trials_norm = 1.0: 8 combinations missing.\n",
      "Optimizer random_adjust_cs_incumbent_adjust_prev_cfgs_set_to_default_thresh_0.5 is not complete for max n_trials_norm = 1.0: 6 combinations missing.\n",
      "Optimizer random_adjust_cs_incumbent_adjust_prev_cfgs_set_to_default_thresh_0.75 is not complete for max n_trials_norm = 1.0: 2 combinations missing.\n",
      "Optimizer random_adjust_cs_incumbent_adjust_prev_cfgs_set_to_incumbent_dynamic_decay_down is not complete for max n_trials_norm = 1.0: 1 combinations missing.\n",
      "Optimizer random_adjust_cs_incumbent_adjust_prev_cfgs_set_to_incumbent_dynamic_decay_up is not complete for max n_trials_norm = 1.0: 2 combinations missing.\n",
      "Optimizer random_adjust_cs_incumbent_adjust_prev_cfgs_set_to_random_dynamic_decay_down is not complete for max n_trials_norm = 1.0: 7 combinations missing.\n",
      "Optimizer random_adjust_cs_incumbent_adjust_prev_cfgs_set_to_random_dynamic_decay_up is not complete for max n_trials_norm = 1.0: 9 combinations missing.\n",
      "Optimizer random_adjust_cs_incumbent_adjust_prev_cfgs_set_to_random_thresh_0.5 is not complete for max n_trials_norm = 1.0: 2 combinations missing.\n",
      "Optimizer random_adjust_cs_incumbent_constant_adjust_prev_cfgs_set_to_default_dynamic_decay_down is not complete for max n_trials_norm = 1.0: 2 combinations missing.\n",
      "Optimizer random_adjust_cs_incumbent_constant_adjust_prev_cfgs_set_to_default_dynamic_decay_up is not complete for max n_trials_norm = 1.0: 1 combinations missing.\n",
      "Optimizer random_adjust_cs_incumbent_constant_adjust_prev_cfgs_set_to_default_thresh_0.5 is not complete for max n_trials_norm = 1.0: 2 combinations missing.\n",
      "Optimizer random_adjust_cs_incumbent_constant_adjust_prev_cfgs_set_to_default_thresh_0.75 is not complete for max n_trials_norm = 1.0: 2 combinations missing.\n",
      "Optimizer random_adjust_cs_incumbent_constant_adjust_prev_cfgs_set_to_incumbent_dynamic_decay_down is not complete for max n_trials_norm = 1.0: 3 combinations missing.\n",
      "Optimizer random_adjust_cs_incumbent_constant_adjust_prev_cfgs_set_to_incumbent_dynamic_decay_up is not complete for max n_trials_norm = 1.0: 2 combinations missing.\n",
      "Optimizer random_adjust_cs_incumbent_constant_adjust_prev_cfgs_set_to_incumbent_thresh_0.5 is not complete for max n_trials_norm = 1.0: 2 combinations missing.\n",
      "Optimizer random_adjust_cs_incumbent_constant_adjust_prev_cfgs_set_to_incumbent_thresh_0.75 is not complete for max n_trials_norm = 1.0: 1 combinations missing.\n",
      "Optimizer random_adjust_cs_incumbent_constant_adjust_prev_cfgs_set_to_random_thresh_0.5 is not complete for max n_trials_norm = 1.0: 5 combinations missing.\n",
      "Optimizer random_adjust_cs_incumbent_constant_adjust_prev_cfgs_set_to_random_thresh_0.75 is not complete for max n_trials_norm = 1.0: 2 combinations missing.\n",
      "Optimizer random_adjust_cs_incumbent_constant_dynamic_decay_down is not complete for max n_trials_norm = 1.0: 4 combinations missing.\n",
      "Optimizer random_adjust_cs_incumbent_constant_dynamic_decay_up is not complete for max n_trials_norm = 1.0: 5 combinations missing.\n",
      "Optimizer random_adjust_cs_incumbent_constant_thresh_0.5 is not complete for max n_trials_norm = 1.0: 9 combinations missing.\n",
      "Optimizer random_adjust_cs_incumbent_constant_thresh_0.75 is not complete for max n_trials_norm = 1.0: 2 combinations missing.\n",
      "Optimizer random_adjust_cs_incumbent_cs_proba_hpi_adjust_prev_cfgs_set_to_default_dynamic_decay_down is not complete for max n_trials_norm = 1.0: 2 combinations missing.\n",
      "Optimizer random_adjust_cs_incumbent_cs_proba_hpi_adjust_prev_cfgs_set_to_default_dynamic_decay_up is not complete for max n_trials_norm = 1.0: 2 combinations missing.\n",
      "Optimizer random_adjust_cs_incumbent_cs_proba_hpi_adjust_prev_cfgs_set_to_default_thresh_0.5 is not complete for max n_trials_norm = 1.0: 2 combinations missing.\n",
      "Optimizer random_adjust_cs_incumbent_cs_proba_hpi_adjust_prev_cfgs_set_to_default_thresh_0.75 is not complete for max n_trials_norm = 1.0: 3 combinations missing.\n",
      "Optimizer random_adjust_cs_incumbent_cs_proba_hpi_adjust_prev_cfgs_set_to_incumbent_dynamic_decay_down is not complete for max n_trials_norm = 1.0: 1 combinations missing.\n",
      "Optimizer random_adjust_cs_incumbent_cs_proba_hpi_adjust_prev_cfgs_set_to_incumbent_dynamic_decay_up is not complete for max n_trials_norm = 1.0: 2 combinations missing.\n",
      "Optimizer random_adjust_cs_incumbent_cs_proba_hpi_adjust_prev_cfgs_set_to_incumbent_thresh_0.75 is not complete for max n_trials_norm = 1.0: 1 combinations missing.\n",
      "Optimizer random_adjust_cs_incumbent_cs_proba_hpi_adjust_prev_cfgs_set_to_random_thresh_0.75 is not complete for max n_trials_norm = 1.0: 5 combinations missing.\n",
      "Optimizer random_adjust_cs_incumbent_cs_proba_hpi_dynamic_decay_down is not complete for max n_trials_norm = 1.0: 2 combinations missing.\n",
      "Optimizer random_adjust_cs_incumbent_cs_proba_hpi_dynamic_decay_up is not complete for max n_trials_norm = 1.0: 3 combinations missing.\n",
      "Optimizer random_adjust_cs_incumbent_cs_proba_hpi_thresh_0.5 is not complete for max n_trials_norm = 1.0: 1 combinations missing.\n",
      "Optimizer random_adjust_cs_incumbent_cs_proba_hpi_thresh_0.75 is not complete for max n_trials_norm = 1.0: 7 combinations missing.\n",
      "Optimizer random_adjust_cs_incumbent_dynamic_decay_up is not complete for max n_trials_norm = 1.0: 8 combinations missing.\n",
      "Optimizer random_adjust_cs_incumbent_thresh_0.5 is not complete for max n_trials_norm = 1.0: 3 combinations missing.\n",
      "Optimizer random_adjust_cs_incumbent_thresh_0.75 is not complete for max n_trials_norm = 1.0: 4 combinations missing.\n",
      "Optimizer random_adjust_cs_random_adjust_prev_cfgs_set_to_default_dynamic_decay_down is not complete for max n_trials_norm = 1.0: 1 combinations missing.\n",
      "Optimizer random_adjust_cs_random_adjust_prev_cfgs_set_to_default_dynamic_decay_up is not complete for max n_trials_norm = 1.0: 1 combinations missing.\n",
      "Optimizer random_adjust_cs_random_adjust_prev_cfgs_set_to_default_thresh_0.5 is not complete for max n_trials_norm = 1.0: 3 combinations missing.\n",
      "Optimizer random_adjust_cs_random_adjust_prev_cfgs_set_to_default_thresh_0.75 is not complete for max n_trials_norm = 1.0: 8 combinations missing.\n",
      "Optimizer random_adjust_cs_random_adjust_prev_cfgs_set_to_incumbent_dynamic_decay_down is not complete for max n_trials_norm = 1.0: 4 combinations missing.\n",
      "Optimizer random_adjust_cs_random_adjust_prev_cfgs_set_to_incumbent_dynamic_decay_up is not complete for max n_trials_norm = 1.0: 3 combinations missing.\n",
      "Optimizer random_adjust_cs_random_adjust_prev_cfgs_set_to_incumbent_thresh_0.5 is not complete for max n_trials_norm = 1.0: 1 combinations missing.\n",
      "Optimizer random_adjust_cs_random_adjust_prev_cfgs_set_to_incumbent_thresh_0.75 is not complete for max n_trials_norm = 1.0: 1 combinations missing.\n",
      "Optimizer random_adjust_cs_random_adjust_prev_cfgs_set_to_random_dynamic_decay_down is not complete for max n_trials_norm = 1.0: 2 combinations missing.\n",
      "Optimizer random_adjust_cs_random_adjust_prev_cfgs_set_to_random_dynamic_decay_up is not complete for max n_trials_norm = 1.0: 4 combinations missing.\n",
      "Optimizer random_adjust_cs_random_adjust_prev_cfgs_set_to_random_thresh_0.5 is not complete for max n_trials_norm = 1.0: 3 combinations missing.\n",
      "Optimizer random_adjust_cs_random_adjust_prev_cfgs_set_to_random_thresh_0.75 is not complete for max n_trials_norm = 1.0: 4 combinations missing.\n",
      "Optimizer random_adjust_cs_random_constant_adjust_prev_cfgs_set_to_default_dynamic_decay_up is not complete for max n_trials_norm = 1.0: 2 combinations missing.\n",
      "Optimizer random_adjust_cs_random_constant_adjust_prev_cfgs_set_to_default_thresh_0.75 is not complete for max n_trials_norm = 1.0: 1 combinations missing.\n",
      "Optimizer random_adjust_cs_random_constant_adjust_prev_cfgs_set_to_incumbent_dynamic_decay_up is not complete for max n_trials_norm = 1.0: 1 combinations missing.\n",
      "Optimizer random_adjust_cs_random_constant_adjust_prev_cfgs_set_to_incumbent_thresh_0.5 is not complete for max n_trials_norm = 1.0: 3 combinations missing.\n",
      "Optimizer random_adjust_cs_random_constant_adjust_prev_cfgs_set_to_incumbent_thresh_0.75 is not complete for max n_trials_norm = 1.0: 5 combinations missing.\n",
      "Optimizer random_adjust_cs_random_constant_adjust_prev_cfgs_set_to_random_dynamic_decay_down is not complete for max n_trials_norm = 1.0: 2 combinations missing.\n",
      "Optimizer random_adjust_cs_random_constant_adjust_prev_cfgs_set_to_random_thresh_0.75 is not complete for max n_trials_norm = 1.0: 1 combinations missing.\n",
      "Optimizer random_adjust_cs_random_constant_dynamic_decay_down is not complete for max n_trials_norm = 1.0: 1 combinations missing.\n",
      "Optimizer random_adjust_cs_random_constant_dynamic_decay_up is not complete for max n_trials_norm = 1.0: 1 combinations missing.\n",
      "Optimizer random_adjust_cs_random_constant_thresh_0.75 is not complete for max n_trials_norm = 1.0: 2 combinations missing.\n",
      "Optimizer random_adjust_cs_random_cs_proba_hpi_adjust_prev_cfgs_set_to_default_dynamic_decay_up is not complete for max n_trials_norm = 1.0: 3 combinations missing.\n",
      "Optimizer random_adjust_cs_random_cs_proba_hpi_adjust_prev_cfgs_set_to_default_thresh_0.5 is not complete for max n_trials_norm = 1.0: 5 combinations missing.\n",
      "Optimizer random_adjust_cs_random_cs_proba_hpi_adjust_prev_cfgs_set_to_incumbent_dynamic_decay_down is not complete for max n_trials_norm = 1.0: 4 combinations missing.\n",
      "Optimizer random_adjust_cs_random_cs_proba_hpi_adjust_prev_cfgs_set_to_incumbent_thresh_0.5 is not complete for max n_trials_norm = 1.0: 1 combinations missing.\n",
      "Optimizer random_adjust_cs_random_cs_proba_hpi_adjust_prev_cfgs_set_to_incumbent_thresh_0.75 is not complete for max n_trials_norm = 1.0: 1 combinations missing.\n",
      "Optimizer random_adjust_cs_random_cs_proba_hpi_adjust_prev_cfgs_set_to_random_dynamic_decay_down is not complete for max n_trials_norm = 1.0: 4 combinations missing.\n",
      "Optimizer random_adjust_cs_random_cs_proba_hpi_adjust_prev_cfgs_set_to_random_dynamic_decay_up is not complete for max n_trials_norm = 1.0: 3 combinations missing.\n",
      "Optimizer random_adjust_cs_random_cs_proba_hpi_adjust_prev_cfgs_set_to_random_thresh_0.5 is not complete for max n_trials_norm = 1.0: 6 combinations missing.\n",
      "Optimizer random_adjust_cs_random_cs_proba_hpi_adjust_prev_cfgs_set_to_random_thresh_0.75 is not complete for max n_trials_norm = 1.0: 4 combinations missing.\n",
      "Optimizer random_adjust_cs_random_cs_proba_hpi_dynamic_decay_down is not complete for max n_trials_norm = 1.0: 1 combinations missing.\n",
      "Optimizer random_adjust_cs_random_cs_proba_hpi_thresh_0.75 is not complete for max n_trials_norm = 1.0: 1 combinations missing.\n",
      "Optimizer random_adjust_cs_random_dynamic_decay_down is not complete for max n_trials_norm = 1.0: 3 combinations missing.\n",
      "Optimizer random_adjust_cs_random_dynamic_decay_up is not complete for max n_trials_norm = 1.0: 1 combinations missing.\n"
     ]
    }
   ],
   "source": [
    "path = \"/home/daphne/Code/hpi_parego/experimenter/pymoo_part_1/processed_logs.parquet\"\n",
    "pymoo1_df, pymoo1_rnd = read_data(path)\n",
    "path = \"/home/daphne/Code/hpi_parego/experimenter/pymoo_part_2/processed_logs.parquet\"\n",
    "pymoo2_df, pymoo2_rnd = read_data(path)\n",
    "pymoo_df = pd.concat([pymoo1_df, pymoo2_df])\n",
    "pymoo_df = pymoo_df[~pymoo_df['optimizer_id'].str.startswith('hypershap')]\n",
    "pymoo_rnd = pd.concat([pymoo1_rnd, pymoo2_rnd])\n",
    "pymoo_df = pymoo_df.sort_values('trial_value__endtime').drop_duplicates(subset=['task_id', 'optimizer_id', 'seed', 'n_trials_norm'], keep='last')\n",
    "pymoo_rnd = pymoo_rnd.sort_values('trial_value__endtime').drop_duplicates(subset=['task_id', 'optimizer_id', 'seed', 'n_trials_norm'], keep='last')\n",
    "pymoo_perf, missing = get_perf(pymoo_df)\n",
    "pymoo_rnd, _ = get_perf(pymoo_rnd)"
   ]
  },
  {
   "cell_type": "code",
   "execution_count": 67,
   "id": "2843fa72",
   "metadata": {},
   "outputs": [
    {
     "name": "stdout",
     "output_type": "stream",
     "text": [
      "All data complete!\n"
     ]
    }
   ],
   "source": [
    "perf_all = pd.concat([yahpo_perf, hpo_perf, pymoo_perf])\n",
    "check_if_complete_for_max_trials(perf_all)\n",
    "rnd_all = pd.concat([yahpo_rnd, hpo_rnd, pymoo_rnd])"
   ]
  },
  {
   "cell_type": "code",
   "execution_count": 68,
   "id": "33e02a6d",
   "metadata": {},
   "outputs": [],
   "source": [
    "def plot_one_thing(thing, df_plot=None):\n",
    "    if df_plot is None:\n",
    "        df_plot = perf_all.copy(deep=True)\n",
    "        df_plot['optimizer_id'] = df_plot[thing]\n",
    "        # df_plot = pd.concat([df_plot, base], ignore_index=True)\n",
    "        plot_performance_per_task(df_plot, output_dir=f\"figure_dir/ablation/{thing}\", replot=True)\n",
    "        if len(df_plot['optimizer_id'].unique()) > 2:\n",
    "            plot_critical_difference(df_plot, output_dir=f\"figure_dir/ablation/{thing}\", replot=True)\n",
    "            plot_finalperfbarplot(df_plot, output_dir=f\"figure_dir/ablation/{thing}\", replot=True)\n",
    "            plot_ranks_over_time(df_plot, output_dir=f\"figure_dir/ablation/{thing}\", replot=True)\n",
    "\n",
    "    # Average over tasks\n",
    "    avg_task = df_plot.groupby([\"optimizer_id\", \"seed\", \"n_trials_norm\"]).agg(\n",
    "        mean_perf=(\"trial_value__cost_inc_norm\", \"mean\")\n",
    "    ).reset_index()\n",
    "\n",
    "    # Average over seeds\n",
    "    avg_seed = avg_task.groupby([\"optimizer_id\", \"n_trials_norm\"]).agg(\n",
    "        mean=(\"mean_perf\", \"mean\"),\n",
    "        sem=(\"mean_perf\", \"sem\")\n",
    "    ).reset_index()\n",
    "\n",
    "    auc_per_seed = (\n",
    "        df_plot.groupby([\"optimizer_id\", \"seed\"])\n",
    "        .apply(lambda group: trapz(group.sort_values(\"n_trials_norm\")[\"trial_value__cost_inc_norm\"],\n",
    "                                   group.sort_values(\"n_trials_norm\")[\"n_trials_norm\"]))\n",
    "        .reset_index(name=\"auc\")\n",
    "    )\n",
    "\n",
    "    # Compute mean and sem AUC per optimizer\n",
    "    auc_values = auc_per_seed.groupby(\"optimizer_id\").agg(\n",
    "        mean=('auc', 'mean'),\n",
    "        sem=('auc', 'sem')\n",
    "    ).sort_values(\"mean\", ascending=False).reset_index()\n",
    "\n",
    "\n",
    "    fig = make_subplots(\n",
    "        rows=1, cols=2,\n",
    "        # subplot_titles=(\"Performance over Time (Normalized)\", \"AUC per Optimizer\"),\n",
    "        column_widths=[0.6, 0.4],\n",
    "        horizontal_spacing=0.15\n",
    "    )\n",
    "    colors = px.colors.qualitative.Set1\n",
    "    # Line plot with shaded error (left)\n",
    "    print(avg_seed[\"optimizer_id\"].unique())\n",
    "    for i, optimizer in enumerate(avg_seed[\"optimizer_id\"].unique()):\n",
    "        df_opt = avg_seed[avg_seed[\"optimizer_id\"] == optimizer]\n",
    "        \n",
    "        line_color = colors[i % len(colors)]\n",
    "\n",
    "        # Mean line\n",
    "        fig.add_trace(go.Scatter(\n",
    "            x=df_opt[\"n_trials_norm\"],\n",
    "            y=df_opt[\"mean\"],\n",
    "            mode=\"lines\",\n",
    "            name=optimizer,\n",
    "            line=dict(width=2, color=line_color),\n",
    "        ), row=1, col=1)\n",
    "\n",
    "        # Shaded error (sem)\n",
    "        fig.add_trace(go.Scatter(\n",
    "            x=pd.concat([df_opt[\"n_trials_norm\"], df_opt[\"n_trials_norm\"][::-1]]),\n",
    "            y=pd.concat([\n",
    "                df_opt[\"mean\"] - df_opt[\"sem\"],\n",
    "                (df_opt[\"mean\"] + df_opt[\"sem\"])[::-1]\n",
    "            ]),\n",
    "            fill='toself',\n",
    "            fillcolor=line_color.replace(')', ',0.1)').replace('rgb', 'rgba'),\n",
    "            line=dict(color='rgba(255,255,255,0)'),\n",
    "            hoverinfo=\"skip\",\n",
    "            showlegend=False\n",
    "        ), row=1, col=1)\n",
    "\n",
    "    # Bar chart with error bars (right)\n",
    "    fig.add_trace(go.Bar(\n",
    "        x=auc_values[\"mean\"],\n",
    "        y=auc_values[\"optimizer_id\"],\n",
    "        orientation=\"h\",\n",
    "        error_x=dict(type='data', array=auc_values[\"sem\"]),\n",
    "        marker=dict(color=\"skyblue\", line=dict(color=\"black\", width=1)),\n",
    "        showlegend=False\n",
    "    ), row=1, col=2)\n",
    "\n",
    "    # -------------------------\n",
    "    # 3. Layout & Font\n",
    "    # -------------------------\n",
    "\n",
    "    fig.update_layout(\n",
    "        height=400,\n",
    "        width=1200,\n",
    "        template=\"plotly_white\",\n",
    "        font=dict(size=16),\n",
    "        legend=dict(title=\"Optimizers\", font=dict(size=16)),\n",
    "        margin=dict(t=60, l=50, r=50, b=50)\n",
    "    )\n",
    "\n",
    "    fig.update_xaxes(title_text=\"Normalized Trials\", row=1, col=1)\n",
    "    fig.update_yaxes(title_text=\"Normalized Inc-Performance\", row=1, col=1)\n",
    "    fig.update_xaxes(title_text=\"AUC\", row=1, col=2)\n",
    "    fig.update_yaxes(title_text=\"Optimizer\", row=1, col=2)\n",
    "\n",
    "    fig.show()\n"
   ]
  },
  {
   "cell_type": "code",
   "execution_count": 69,
   "id": "7ebd7939",
   "metadata": {},
   "outputs": [
    {
     "name": "stdout",
     "output_type": "stream",
     "text": [
      "['fanova']\n"
     ]
    },
    {
     "name": "stderr",
     "output_type": "stream",
     "text": [
      "/tmp/ipykernel_4800/1961929167.py:25: DeprecationWarning:\n",
      "\n",
      "DataFrameGroupBy.apply operated on the grouping columns. This behavior is deprecated, and in a future version of pandas the grouping columns will be excluded from the operation. Either pass `include_groups=False` to exclude the groupings or explicitly select the grouping columns after groupby to silence this warning.\n",
      "\n"
     ]
    },
    {
     "data": {
      "application/vnd.plotly.v1+json": {
       "config": {
        "plotlyServerURL": "https://plot.ly"
       },
       "data": [
        {
         "line": {
          "color": "rgb(228,26,28)",
          "width": 2
         },
         "mode": "lines",
         "name": "fanova",
         "type": "scatter",
         "x": {
          "bdata": "AAAAAAAAAAB7FK5H4XqUP3sUrkfheqQ/uB6F61G4rj97FK5H4Xq0P5qZmZmZmbk/uB6F61G4vj/sUbgehevBP3sUrkfhesQ/CtejcD0Kxz+amZmZmZnJPylcj8L1KMw/uB6F61G4zj+kcD0K16PQP+xRuB6F69E/MzMzMzMz0z97FK5H4XrUP8P1KFyPwtU/CtejcD0K1z9SuB6F61HYP5qZmZmZmdk/4XoUrkfh2j8pXI/C9SjcP3E9CtejcN0/uB6F61G43j8AAAAAAADgP6RwPQrXo+A/SOF6FK5H4T/sUbgehevhP4/C9Shcj+I/MzMzMzMz4z/Xo3A9CtfjP3sUrkfheuQ/H4XrUbge5T/D9Shcj8LlP2dmZmZmZuY/CtejcD0K5z+uR+F6FK7nP1K4HoXrUeg/9ihcj8L16D+amZmZmZnpPz4K16NwPeo/4XoUrkfh6j+F61G4HoXrPylcj8L1KOw/zczMzMzM7D9xPQrXo3DtPxWuR+F6FO4/uB6F61G47j9cj8L1KFzvPwAAAAAAAPA/",
          "dtype": "f8"
         },
         "xaxis": "x",
         "y": {
          "bdata": "u3eT+JIO4z+eZo8DBfLiP75PQ2upvuI/jvOH6V+h4j+XX3SqsoziPxkDEYVTaeI/TkSYtTwy4j+8ixAU1N/hP68vNm5gceE/xea7MW7x4D8P1VE+7mHgPz4RWNFyad8/uL6qAf4q3j9QWYYAe+HcP8q3HN0Ojds/1c8V2iZM2j+UaB/yciDZP0xUlQtyBNg/OGOfspb21j/npgth8+vVPxG2yd4J49Q/dABJ/gEG1D/4njpdKy7TPxkep26+YNI/x21dmGWU0T9T9cCTssbQP3iH5qD6M9A/DmJcJdlCzz8dTvFnXx7OP8JUO5N+/8w/Uw0c0bjpyz/OAVTxefHKP3gdNJmz98k/ylDDR8z9yD/HIB1TwhfIP+FX2TSJTMc/iuMxS+t/xj9+g/5iHLLFPwT92QPs6MQ/qeWfe+MuxD90SozZO3HDP0Cogu35ssI/ztH82fvzwT//0IT2HzbBP8alUnnud8A/2FhdoVNsvz8Cizy76uK9P22P1v/MXLw/nQh0km3Wuj/qDrW7gVK5PwMhA2iGzrc/",
          "dtype": "f8"
         },
         "yaxis": "y"
        },
        {
         "fill": "toself",
         "fillcolor": "rgba(228,26,28,0.1)",
         "hoverinfo": "skip",
         "line": {
          "color": "rgba(255,255,255,0)"
         },
         "showlegend": false,
         "type": "scatter",
         "x": {
          "bdata": "AAAAAAAAAAB7FK5H4XqUP3sUrkfheqQ/uB6F61G4rj97FK5H4Xq0P5qZmZmZmbk/uB6F61G4vj/sUbgehevBP3sUrkfhesQ/CtejcD0Kxz+amZmZmZnJPylcj8L1KMw/uB6F61G4zj+kcD0K16PQP+xRuB6F69E/MzMzMzMz0z97FK5H4XrUP8P1KFyPwtU/CtejcD0K1z9SuB6F61HYP5qZmZmZmdk/4XoUrkfh2j8pXI/C9SjcP3E9CtejcN0/uB6F61G43j8AAAAAAADgP6RwPQrXo+A/SOF6FK5H4T/sUbgehevhP4/C9Shcj+I/MzMzMzMz4z/Xo3A9CtfjP3sUrkfheuQ/H4XrUbge5T/D9Shcj8LlP2dmZmZmZuY/CtejcD0K5z+uR+F6FK7nP1K4HoXrUeg/9ihcj8L16D+amZmZmZnpPz4K16NwPeo/4XoUrkfh6j+F61G4HoXrPylcj8L1KOw/zczMzMzM7D9xPQrXo3DtPxWuR+F6FO4/uB6F61G47j9cj8L1KFzvPwAAAAAAAPA/AAAAAAAA8D9cj8L1KFzvP7gehetRuO4/Fa5H4XoU7j9xPQrXo3DtP83MzMzMzOw/KVyPwvUo7D+F61G4HoXrP+F6FK5H4eo/PgrXo3A96j+amZmZmZnpP/YoXI/C9eg/UrgehetR6D+uR+F6FK7nPwrXo3A9Cuc/Z2ZmZmZm5j/D9Shcj8LlPx+F61G4HuU/exSuR+F65D/Xo3A9CtfjPzMzMzMzM+M/j8L1KFyP4j/sUbgehevhP0jhehSuR+E/pHA9Ctej4D8AAAAAAADgP7gehetRuN4/cT0K16Nw3T8pXI/C9SjcP+F6FK5H4do/mpmZmZmZ2T9SuB6F61HYPwrXo3A9Ctc/w/UoXI/C1T97FK5H4XrUPzMzMzMzM9M/7FG4HoXr0T+kcD0K16PQP7gehetRuM4/KVyPwvUozD+amZmZmZnJPwrXo3A9Csc/exSuR+F6xD/sUbgehevBP7gehetRuL4/mpmZmZmZuT97FK5H4Xq0P7gehetRuK4/exSuR+F6pD97FK5H4XqUPwAAAAAAAAAA",
          "dtype": "f8"
         },
         "xaxis": "x",
         "y": {
          "bdata": "OJiXeKjN4T+8lsTJW7ThP+yHf+FCfeE/HS29xuxZ4T/0HbAFmkHhP0S1qsvCGuE/oHFvQBDi4D9Y2h2oaJHgP39LOC8nJ+A/SGnNyyxb3z+Z8Yxl7k7eP8KPyjlXEd0/HleTgAPw2z+TjKgwH8raP642qNhkn9k/oN62OBqG2D+vXVcNiX/XP4bd3aEYiNY/6lxj97qe1T/55c3FGbjUP9fqV8Zq0dM/BEwBimsQ0z+zEGKXdFPSP4lvIQFnoNE/jShy7tjt0D8i/JobGDrQPyO2BIuMbs8/4IePpwBpzj8sEELoiGPNP0fMvoynYsw/Wphs4Yhoyz8oqeDhQYvKPxzxziY6rMk/NocCmeLJyD9oDmWjNfHHPze8m5EUKMc/aaVBAppVxj+W/omMrHzFPyfD+PjBqMQ/zXEcg8vlwz+Nwro81SDDP9sxtCOWW8I/tYVaL4qXwT8fXqodT9TAPxRt6Ai3E8A/NIb3jg+fvj+Qm7V8cA69P9isGj4+grs/CjjNSALzuT/OCgsmjGa4P1/s7TjT2bY/p1UYlznDuD8GE19Rdz66PzDZGtzYubs/AnKSwVs3vT90esP5ZLe+P76V4dnLHMA/eN686SXcwD/fQ1/P8JfBP+cdn4RtUMI/pR5Rt10Kwz9b0l12osHDP4VZI3T7d8Q/4Ta7DhYpxT9mCHM5jOfFP6shIpQ8qsY/i/MW2P1wxz8mM9UCTz7IP14ahPa1Mck/1EmZCy1Dyj90WscAslfLP0yCy8Doasw/Pd23mVWczT8OjKDnNdnOPx6elNFYDtA/37NK/K6w0D+E7uYLTVPRPwGzSELyOtI/qcws3BUh0z89LRMj4gjUP+S0kHKY+9Q/S4E796j01T/VZ0n8zB/XP4Zp221yTtg/EstMdcuA2T95c+fWXMHaPwrBdHszEtw/5jiR4bh63T8NJmTQ1vjePykTYUH8MuA/XclyNMfg4D9SMd1JZZzhP+YYkf1FNeI/3xM0rZm74j8gPQOAPy7jP/wWwSppguM/7lB3PuS34z86oThPy9fjP/+5UgzT6OM/kBcH9Q8A5D+ANlo9ri/kPz5Xj3h9T+Q/",
          "dtype": "f8"
         },
         "yaxis": "y"
        },
        {
         "error_x": {
          "array": {
           "bdata": "zXd72j35jz8=",
           "dtype": "f8"
          },
          "type": "data"
         },
         "marker": {
          "color": "skyblue",
          "line": {
           "color": "black",
           "width": 1
          }
         },
         "orientation": "h",
         "showlegend": false,
         "type": "bar",
         "x": {
          "bdata": "qDuiCD9S1j8=",
          "dtype": "f8"
         },
         "xaxis": "x2",
         "y": [
          "fanova"
         ],
         "yaxis": "y2"
        }
       ],
       "layout": {
        "font": {
         "size": 16
        },
        "height": 400,
        "legend": {
         "font": {
          "size": 16
         },
         "title": {
          "text": "Optimizers"
         }
        },
        "margin": {
         "b": 50,
         "l": 50,
         "r": 50,
         "t": 60
        },
        "template": {
         "data": {
          "bar": [
           {
            "error_x": {
             "color": "#2a3f5f"
            },
            "error_y": {
             "color": "#2a3f5f"
            },
            "marker": {
             "line": {
              "color": "white",
              "width": 0.5
             },
             "pattern": {
              "fillmode": "overlay",
              "size": 10,
              "solidity": 0.2
             }
            },
            "type": "bar"
           }
          ],
          "barpolar": [
           {
            "marker": {
             "line": {
              "color": "white",
              "width": 0.5
             },
             "pattern": {
              "fillmode": "overlay",
              "size": 10,
              "solidity": 0.2
             }
            },
            "type": "barpolar"
           }
          ],
          "carpet": [
           {
            "aaxis": {
             "endlinecolor": "#2a3f5f",
             "gridcolor": "#C8D4E3",
             "linecolor": "#C8D4E3",
             "minorgridcolor": "#C8D4E3",
             "startlinecolor": "#2a3f5f"
            },
            "baxis": {
             "endlinecolor": "#2a3f5f",
             "gridcolor": "#C8D4E3",
             "linecolor": "#C8D4E3",
             "minorgridcolor": "#C8D4E3",
             "startlinecolor": "#2a3f5f"
            },
            "type": "carpet"
           }
          ],
          "choropleth": [
           {
            "colorbar": {
             "outlinewidth": 0,
             "ticks": ""
            },
            "type": "choropleth"
           }
          ],
          "contour": [
           {
            "colorbar": {
             "outlinewidth": 0,
             "ticks": ""
            },
            "colorscale": [
             [
              0,
              "#0d0887"
             ],
             [
              0.1111111111111111,
              "#46039f"
             ],
             [
              0.2222222222222222,
              "#7201a8"
             ],
             [
              0.3333333333333333,
              "#9c179e"
             ],
             [
              0.4444444444444444,
              "#bd3786"
             ],
             [
              0.5555555555555556,
              "#d8576b"
             ],
             [
              0.6666666666666666,
              "#ed7953"
             ],
             [
              0.7777777777777778,
              "#fb9f3a"
             ],
             [
              0.8888888888888888,
              "#fdca26"
             ],
             [
              1,
              "#f0f921"
             ]
            ],
            "type": "contour"
           }
          ],
          "contourcarpet": [
           {
            "colorbar": {
             "outlinewidth": 0,
             "ticks": ""
            },
            "type": "contourcarpet"
           }
          ],
          "heatmap": [
           {
            "colorbar": {
             "outlinewidth": 0,
             "ticks": ""
            },
            "colorscale": [
             [
              0,
              "#0d0887"
             ],
             [
              0.1111111111111111,
              "#46039f"
             ],
             [
              0.2222222222222222,
              "#7201a8"
             ],
             [
              0.3333333333333333,
              "#9c179e"
             ],
             [
              0.4444444444444444,
              "#bd3786"
             ],
             [
              0.5555555555555556,
              "#d8576b"
             ],
             [
              0.6666666666666666,
              "#ed7953"
             ],
             [
              0.7777777777777778,
              "#fb9f3a"
             ],
             [
              0.8888888888888888,
              "#fdca26"
             ],
             [
              1,
              "#f0f921"
             ]
            ],
            "type": "heatmap"
           }
          ],
          "histogram": [
           {
            "marker": {
             "pattern": {
              "fillmode": "overlay",
              "size": 10,
              "solidity": 0.2
             }
            },
            "type": "histogram"
           }
          ],
          "histogram2d": [
           {
            "colorbar": {
             "outlinewidth": 0,
             "ticks": ""
            },
            "colorscale": [
             [
              0,
              "#0d0887"
             ],
             [
              0.1111111111111111,
              "#46039f"
             ],
             [
              0.2222222222222222,
              "#7201a8"
             ],
             [
              0.3333333333333333,
              "#9c179e"
             ],
             [
              0.4444444444444444,
              "#bd3786"
             ],
             [
              0.5555555555555556,
              "#d8576b"
             ],
             [
              0.6666666666666666,
              "#ed7953"
             ],
             [
              0.7777777777777778,
              "#fb9f3a"
             ],
             [
              0.8888888888888888,
              "#fdca26"
             ],
             [
              1,
              "#f0f921"
             ]
            ],
            "type": "histogram2d"
           }
          ],
          "histogram2dcontour": [
           {
            "colorbar": {
             "outlinewidth": 0,
             "ticks": ""
            },
            "colorscale": [
             [
              0,
              "#0d0887"
             ],
             [
              0.1111111111111111,
              "#46039f"
             ],
             [
              0.2222222222222222,
              "#7201a8"
             ],
             [
              0.3333333333333333,
              "#9c179e"
             ],
             [
              0.4444444444444444,
              "#bd3786"
             ],
             [
              0.5555555555555556,
              "#d8576b"
             ],
             [
              0.6666666666666666,
              "#ed7953"
             ],
             [
              0.7777777777777778,
              "#fb9f3a"
             ],
             [
              0.8888888888888888,
              "#fdca26"
             ],
             [
              1,
              "#f0f921"
             ]
            ],
            "type": "histogram2dcontour"
           }
          ],
          "mesh3d": [
           {
            "colorbar": {
             "outlinewidth": 0,
             "ticks": ""
            },
            "type": "mesh3d"
           }
          ],
          "parcoords": [
           {
            "line": {
             "colorbar": {
              "outlinewidth": 0,
              "ticks": ""
             }
            },
            "type": "parcoords"
           }
          ],
          "pie": [
           {
            "automargin": true,
            "type": "pie"
           }
          ],
          "scatter": [
           {
            "fillpattern": {
             "fillmode": "overlay",
             "size": 10,
             "solidity": 0.2
            },
            "type": "scatter"
           }
          ],
          "scatter3d": [
           {
            "line": {
             "colorbar": {
              "outlinewidth": 0,
              "ticks": ""
             }
            },
            "marker": {
             "colorbar": {
              "outlinewidth": 0,
              "ticks": ""
             }
            },
            "type": "scatter3d"
           }
          ],
          "scattercarpet": [
           {
            "marker": {
             "colorbar": {
              "outlinewidth": 0,
              "ticks": ""
             }
            },
            "type": "scattercarpet"
           }
          ],
          "scattergeo": [
           {
            "marker": {
             "colorbar": {
              "outlinewidth": 0,
              "ticks": ""
             }
            },
            "type": "scattergeo"
           }
          ],
          "scattergl": [
           {
            "marker": {
             "colorbar": {
              "outlinewidth": 0,
              "ticks": ""
             }
            },
            "type": "scattergl"
           }
          ],
          "scattermap": [
           {
            "marker": {
             "colorbar": {
              "outlinewidth": 0,
              "ticks": ""
             }
            },
            "type": "scattermap"
           }
          ],
          "scattermapbox": [
           {
            "marker": {
             "colorbar": {
              "outlinewidth": 0,
              "ticks": ""
             }
            },
            "type": "scattermapbox"
           }
          ],
          "scatterpolar": [
           {
            "marker": {
             "colorbar": {
              "outlinewidth": 0,
              "ticks": ""
             }
            },
            "type": "scatterpolar"
           }
          ],
          "scatterpolargl": [
           {
            "marker": {
             "colorbar": {
              "outlinewidth": 0,
              "ticks": ""
             }
            },
            "type": "scatterpolargl"
           }
          ],
          "scatterternary": [
           {
            "marker": {
             "colorbar": {
              "outlinewidth": 0,
              "ticks": ""
             }
            },
            "type": "scatterternary"
           }
          ],
          "surface": [
           {
            "colorbar": {
             "outlinewidth": 0,
             "ticks": ""
            },
            "colorscale": [
             [
              0,
              "#0d0887"
             ],
             [
              0.1111111111111111,
              "#46039f"
             ],
             [
              0.2222222222222222,
              "#7201a8"
             ],
             [
              0.3333333333333333,
              "#9c179e"
             ],
             [
              0.4444444444444444,
              "#bd3786"
             ],
             [
              0.5555555555555556,
              "#d8576b"
             ],
             [
              0.6666666666666666,
              "#ed7953"
             ],
             [
              0.7777777777777778,
              "#fb9f3a"
             ],
             [
              0.8888888888888888,
              "#fdca26"
             ],
             [
              1,
              "#f0f921"
             ]
            ],
            "type": "surface"
           }
          ],
          "table": [
           {
            "cells": {
             "fill": {
              "color": "#EBF0F8"
             },
             "line": {
              "color": "white"
             }
            },
            "header": {
             "fill": {
              "color": "#C8D4E3"
             },
             "line": {
              "color": "white"
             }
            },
            "type": "table"
           }
          ]
         },
         "layout": {
          "annotationdefaults": {
           "arrowcolor": "#2a3f5f",
           "arrowhead": 0,
           "arrowwidth": 1
          },
          "autotypenumbers": "strict",
          "coloraxis": {
           "colorbar": {
            "outlinewidth": 0,
            "ticks": ""
           }
          },
          "colorscale": {
           "diverging": [
            [
             0,
             "#8e0152"
            ],
            [
             0.1,
             "#c51b7d"
            ],
            [
             0.2,
             "#de77ae"
            ],
            [
             0.3,
             "#f1b6da"
            ],
            [
             0.4,
             "#fde0ef"
            ],
            [
             0.5,
             "#f7f7f7"
            ],
            [
             0.6,
             "#e6f5d0"
            ],
            [
             0.7,
             "#b8e186"
            ],
            [
             0.8,
             "#7fbc41"
            ],
            [
             0.9,
             "#4d9221"
            ],
            [
             1,
             "#276419"
            ]
           ],
           "sequential": [
            [
             0,
             "#0d0887"
            ],
            [
             0.1111111111111111,
             "#46039f"
            ],
            [
             0.2222222222222222,
             "#7201a8"
            ],
            [
             0.3333333333333333,
             "#9c179e"
            ],
            [
             0.4444444444444444,
             "#bd3786"
            ],
            [
             0.5555555555555556,
             "#d8576b"
            ],
            [
             0.6666666666666666,
             "#ed7953"
            ],
            [
             0.7777777777777778,
             "#fb9f3a"
            ],
            [
             0.8888888888888888,
             "#fdca26"
            ],
            [
             1,
             "#f0f921"
            ]
           ],
           "sequentialminus": [
            [
             0,
             "#0d0887"
            ],
            [
             0.1111111111111111,
             "#46039f"
            ],
            [
             0.2222222222222222,
             "#7201a8"
            ],
            [
             0.3333333333333333,
             "#9c179e"
            ],
            [
             0.4444444444444444,
             "#bd3786"
            ],
            [
             0.5555555555555556,
             "#d8576b"
            ],
            [
             0.6666666666666666,
             "#ed7953"
            ],
            [
             0.7777777777777778,
             "#fb9f3a"
            ],
            [
             0.8888888888888888,
             "#fdca26"
            ],
            [
             1,
             "#f0f921"
            ]
           ]
          },
          "colorway": [
           "#636efa",
           "#EF553B",
           "#00cc96",
           "#ab63fa",
           "#FFA15A",
           "#19d3f3",
           "#FF6692",
           "#B6E880",
           "#FF97FF",
           "#FECB52"
          ],
          "font": {
           "color": "#2a3f5f"
          },
          "geo": {
           "bgcolor": "white",
           "lakecolor": "white",
           "landcolor": "white",
           "showlakes": true,
           "showland": true,
           "subunitcolor": "#C8D4E3"
          },
          "hoverlabel": {
           "align": "left"
          },
          "hovermode": "closest",
          "mapbox": {
           "style": "light"
          },
          "paper_bgcolor": "white",
          "plot_bgcolor": "white",
          "polar": {
           "angularaxis": {
            "gridcolor": "#EBF0F8",
            "linecolor": "#EBF0F8",
            "ticks": ""
           },
           "bgcolor": "white",
           "radialaxis": {
            "gridcolor": "#EBF0F8",
            "linecolor": "#EBF0F8",
            "ticks": ""
           }
          },
          "scene": {
           "xaxis": {
            "backgroundcolor": "white",
            "gridcolor": "#DFE8F3",
            "gridwidth": 2,
            "linecolor": "#EBF0F8",
            "showbackground": true,
            "ticks": "",
            "zerolinecolor": "#EBF0F8"
           },
           "yaxis": {
            "backgroundcolor": "white",
            "gridcolor": "#DFE8F3",
            "gridwidth": 2,
            "linecolor": "#EBF0F8",
            "showbackground": true,
            "ticks": "",
            "zerolinecolor": "#EBF0F8"
           },
           "zaxis": {
            "backgroundcolor": "white",
            "gridcolor": "#DFE8F3",
            "gridwidth": 2,
            "linecolor": "#EBF0F8",
            "showbackground": true,
            "ticks": "",
            "zerolinecolor": "#EBF0F8"
           }
          },
          "shapedefaults": {
           "line": {
            "color": "#2a3f5f"
           }
          },
          "ternary": {
           "aaxis": {
            "gridcolor": "#DFE8F3",
            "linecolor": "#A2B1C6",
            "ticks": ""
           },
           "baxis": {
            "gridcolor": "#DFE8F3",
            "linecolor": "#A2B1C6",
            "ticks": ""
           },
           "bgcolor": "white",
           "caxis": {
            "gridcolor": "#DFE8F3",
            "linecolor": "#A2B1C6",
            "ticks": ""
           }
          },
          "title": {
           "x": 0.05
          },
          "xaxis": {
           "automargin": true,
           "gridcolor": "#EBF0F8",
           "linecolor": "#EBF0F8",
           "ticks": "",
           "title": {
            "standoff": 15
           },
           "zerolinecolor": "#EBF0F8",
           "zerolinewidth": 2
          },
          "yaxis": {
           "automargin": true,
           "gridcolor": "#EBF0F8",
           "linecolor": "#EBF0F8",
           "ticks": "",
           "title": {
            "standoff": 15
           },
           "zerolinecolor": "#EBF0F8",
           "zerolinewidth": 2
          }
         }
        },
        "width": 1200,
        "xaxis": {
         "anchor": "y",
         "domain": [
          0,
          0.51
         ],
         "title": {
          "text": "Normalized Trials"
         }
        },
        "xaxis2": {
         "anchor": "y2",
         "domain": [
          0.66,
          1
         ],
         "title": {
          "text": "AUC"
         }
        },
        "yaxis": {
         "anchor": "x",
         "domain": [
          0,
          1
         ],
         "title": {
          "text": "Normalized Inc-Performance"
         }
        },
        "yaxis2": {
         "anchor": "x2",
         "domain": [
          0,
          1
         ],
         "title": {
          "text": "Optimizer"
         }
        }
       }
      }
     },
     "metadata": {},
     "output_type": "display_data"
    }
   ],
   "source": [
    "# Which HPI method\n",
    "plot_one_thing('hpi_method')"
   ]
  },
  {
   "cell_type": "code",
   "execution_count": 70,
   "id": "d90ae2d8",
   "metadata": {},
   "outputs": [
    {
     "name": "stderr",
     "output_type": "stream",
     "text": [
      "/home/daphne/Code/hpi_parego/CARP-S/carps/analysis/generate_report.py:276: UserWarning:\n",
      "\n",
      "Result is not significant and results of the plot may be misleading!\n",
      "\n",
      "/home/daphne/Code/hpi_parego/CARP-S/carps/analysis/run_autorank.py:322: FutureWarning:\n",
      "\n",
      "Series.__getitem__ treating keys as positions is deprecated. In a future version, integer keys will always be treated as labels (consistent with DataFrame behavior). To access a value by position, use `ser.iloc[pos]`\n",
      "\n",
      "/home/daphne/Code/hpi_parego/CARP-S/carps/analysis/run_autorank.py:421: UserWarning:\n",
      "\n",
      "FigureCanvasAgg is non-interactive, and thus cannot be shown\n",
      "\n",
      "/home/daphne/Code/hpi_parego/CARP-S/carps/analysis/run_autorank.py:198: UserWarning:\n",
      "\n",
      "Result is not significant and results of the plot may be misleading!\n",
      "\n"
     ]
    },
    {
     "data": {
      "text/html": [
       "<pre style=\"white-space:pre;overflow-x:auto;line-height:normal;font-family:Menlo,'DejaVu Sans Mono',consolas,'Courier New',monospace\"><span style=\"color: #7fbfbf; text-decoration-color: #7fbfbf\">[10:20:03] </span><span style=\"color: #000080; text-decoration-color: #000080\">INFO    </span> Create dataframe for neat plotting by aligning x-axis <span style=\"color: #800080; text-decoration-color: #800080\">/</span> interpolating        <a href=\"file:///home/daphne/Code/hpi_parego/CARP-S/carps/analysis/gather_data.py\" target=\"_blank\"><span style=\"color: #7f7f7f; text-decoration-color: #7f7f7f\">gather_data.py</span></a><span style=\"color: #7f7f7f; text-decoration-color: #7f7f7f\">:</span><a href=\"file:///home/daphne/Code/hpi_parego/CARP-S/carps/analysis/gather_data.py#725\" target=\"_blank\"><span style=\"color: #7f7f7f; text-decoration-color: #7f7f7f\">725</span></a>\n",
       "<span style=\"color: #7fbfbf; text-decoration-color: #7fbfbf\">           </span>         budget.                                                                      <span style=\"color: #7f7f7f; text-decoration-color: #7f7f7f\">                  </span>\n",
       "</pre>\n"
      ],
      "text/plain": [
       "\u001b[2;36m[10:20:03]\u001b[0m\u001b[2;36m \u001b[0m\u001b[34mINFO    \u001b[0m Create dataframe for neat plotting by aligning x-axis \u001b[35m/\u001b[0m interpolating        \u001b]8;id=594240;file:///home/daphne/Code/hpi_parego/CARP-S/carps/analysis/gather_data.py\u001b\\\u001b[2mgather_data.py\u001b[0m\u001b]8;;\u001b\\\u001b[2m:\u001b[0m\u001b]8;id=286116;file:///home/daphne/Code/hpi_parego/CARP-S/carps/analysis/gather_data.py#725\u001b\\\u001b[2m725\u001b[0m\u001b]8;;\u001b\\\n",
       "\u001b[2;36m           \u001b[0m         budget.                                                                      \u001b[2m                  \u001b[0m\n"
      ]
     },
     "metadata": {},
     "output_type": "display_data"
    },
    {
     "name": "stderr",
     "output_type": "stream",
     "text": [
      "/home/daphne/Code/hpi_parego/CARP-S/carps/analysis/generate_report.py:108: UserWarning:\n",
      "\n",
      "Result is not significant and results of the plot may be misleading!\n",
      "\n",
      "/home/daphne/Code/hpi_parego/CARP-S/carps/analysis/generate_report.py:108: UserWarning:\n",
      "\n",
      "Result is not significant and results of the plot may be misleading!\n",
      "\n",
      "/home/daphne/Code/hpi_parego/CARP-S/carps/analysis/generate_report.py:108: UserWarning:\n",
      "\n",
      "Result is not significant and results of the plot may be misleading!\n",
      "\n",
      "/home/daphne/Code/hpi_parego/CARP-S/carps/analysis/generate_report.py:108: UserWarning:\n",
      "\n",
      "Result is not significant and results of the plot may be misleading!\n",
      "\n",
      "/home/daphne/Code/hpi_parego/CARP-S/carps/analysis/generate_report.py:108: UserWarning:\n",
      "\n",
      "Result is not significant and results of the plot may be misleading!\n",
      "\n",
      "/home/daphne/Code/hpi_parego/CARP-S/carps/analysis/generate_report.py:108: UserWarning:\n",
      "\n",
      "Result is not significant and results of the plot may be misleading!\n",
      "\n",
      "/home/daphne/Code/hpi_parego/CARP-S/carps/analysis/generate_report.py:108: UserWarning:\n",
      "\n",
      "Result is not significant and results of the plot may be misleading!\n",
      "\n",
      "/home/daphne/Code/hpi_parego/CARP-S/carps/analysis/generate_report.py:108: UserWarning:\n",
      "\n",
      "Result is not significant and results of the plot may be misleading!\n",
      "\n",
      "/home/daphne/Code/hpi_parego/CARP-S/carps/analysis/generate_report.py:108: UserWarning:\n",
      "\n",
      "Result is not significant and results of the plot may be misleading!\n",
      "\n",
      "/home/daphne/Code/hpi_parego/CARP-S/carps/analysis/generate_report.py:108: UserWarning:\n",
      "\n",
      "Result is not significant and results of the plot may be misleading!\n",
      "\n",
      "/home/daphne/Code/hpi_parego/CARP-S/carps/analysis/generate_report.py:108: UserWarning:\n",
      "\n",
      "Result is not significant and results of the plot may be misleading!\n",
      "\n",
      "/home/daphne/Code/hpi_parego/CARP-S/carps/analysis/generate_report.py:108: UserWarning:\n",
      "\n",
      "Result is not significant and results of the plot may be misleading!\n",
      "\n",
      "/home/daphne/Code/hpi_parego/CARP-S/carps/analysis/generate_report.py:108: UserWarning:\n",
      "\n",
      "Result is not significant and results of the plot may be misleading!\n",
      "\n",
      "/home/daphne/Code/hpi_parego/CARP-S/carps/analysis/generate_report.py:108: UserWarning:\n",
      "\n",
      "Result is not significant and results of the plot may be misleading!\n",
      "\n",
      "/home/daphne/Code/hpi_parego/CARP-S/carps/analysis/generate_report.py:108: UserWarning:\n",
      "\n",
      "Result is not significant and results of the plot may be misleading!\n",
      "\n",
      "/home/daphne/Code/hpi_parego/CARP-S/carps/analysis/generate_report.py:108: UserWarning:\n",
      "\n",
      "Result is not significant and results of the plot may be misleading!\n",
      "\n",
      "/home/daphne/Code/hpi_parego/CARP-S/carps/analysis/generate_report.py:108: UserWarning:\n",
      "\n",
      "Result is not significant and results of the plot may be misleading!\n",
      "\n",
      "/home/daphne/Code/hpi_parego/CARP-S/carps/analysis/generate_report.py:108: UserWarning:\n",
      "\n",
      "Result is not significant and results of the plot may be misleading!\n",
      "\n",
      "/home/daphne/Code/hpi_parego/CARP-S/carps/analysis/generate_report.py:108: UserWarning:\n",
      "\n",
      "Result is not significant and results of the plot may be misleading!\n",
      "\n",
      "/home/daphne/Code/hpi_parego/CARP-S/carps/analysis/generate_report.py:108: UserWarning:\n",
      "\n",
      "Result is not significant and results of the plot may be misleading!\n",
      "\n",
      "/home/daphne/Code/hpi_parego/CARP-S/carps/analysis/generate_report.py:108: UserWarning:\n",
      "\n",
      "Result is not significant and results of the plot may be misleading!\n",
      "\n"
     ]
    },
    {
     "name": "stdout",
     "output_type": "stream",
     "text": [
      "['0.5' '0.75' 'down' 'up']\n"
     ]
    },
    {
     "name": "stderr",
     "output_type": "stream",
     "text": [
      "/tmp/ipykernel_4800/1961929167.py:25: DeprecationWarning:\n",
      "\n",
      "DataFrameGroupBy.apply operated on the grouping columns. This behavior is deprecated, and in a future version of pandas the grouping columns will be excluded from the operation. Either pass `include_groups=False` to exclude the groupings or explicitly select the grouping columns after groupby to silence this warning.\n",
      "\n"
     ]
    },
    {
     "data": {
      "application/vnd.plotly.v1+json": {
       "config": {
        "plotlyServerURL": "https://plot.ly"
       },
       "data": [
        {
         "line": {
          "color": "rgb(228,26,28)",
          "width": 2
         },
         "mode": "lines",
         "name": "0.5",
         "type": "scatter",
         "x": {
          "bdata": "AAAAAAAAAAB7FK5H4XqUP3sUrkfheqQ/uB6F61G4rj97FK5H4Xq0P5qZmZmZmbk/uB6F61G4vj/sUbgehevBP3sUrkfhesQ/CtejcD0Kxz+amZmZmZnJPylcj8L1KMw/uB6F61G4zj+kcD0K16PQP+xRuB6F69E/MzMzMzMz0z97FK5H4XrUP8P1KFyPwtU/CtejcD0K1z9SuB6F61HYP5qZmZmZmdk/4XoUrkfh2j8pXI/C9SjcP3E9CtejcN0/uB6F61G43j8AAAAAAADgP6RwPQrXo+A/SOF6FK5H4T/sUbgehevhP4/C9Shcj+I/MzMzMzMz4z/Xo3A9CtfjP3sUrkfheuQ/H4XrUbge5T/D9Shcj8LlP2dmZmZmZuY/CtejcD0K5z+uR+F6FK7nP1K4HoXrUeg/9ihcj8L16D+amZmZmZnpPz4K16NwPeo/4XoUrkfh6j+F61G4HoXrPylcj8L1KOw/zczMzMzM7D9xPQrXo3DtPxWuR+F6FO4/uB6F61G47j9cj8L1KFzvPwAAAAAAAPA/",
          "dtype": "f8"
         },
         "xaxis": "x",
         "y": {
          "bdata": "Z6QLN4wO4z8yzqsidO3iPz73WykqvOI/Dx1wePeg4j+g2TTHXIriP5D/CgQtZuI/17074SQw4j+KOUEw+d7hP7+h5Z6ycOE/AlbIPY/x4D98FLjhBWTgP8IXlTYxcd8/Jgd9rOM13j91Yxj5j+3cP61w4CeemNs/GEH/piNX2j8KBdAItCrZP3Lmdv1QDdg/dYrfj4391j+wotDF7/DVP7vRisXW5tQ//ErIbbEJ1D8OO44GTDLTP4fBu52eZdI/jCF0Nx6a0T/ekkGuDM/QP/Rsc7e0O9A/+qGgGH1Qzz/WeL9AASrOP6hZ3jAoB80/Ejl8nAvtyz9lUaHC3/HKP0aiNM529ck/4/rW9AL4yD8bdcEfYw3IP93JvTXgQsc/jvBYbFB4xj/toeItAK3FPxBoh7mH5cQ/toNT120sxD+O1XeN1G3DP5KSHrEPssI/tgT2Bb7zwT+CDDme2TfBP+vWJEFudcA/S+/u2xpovz9W2drrwda9Pxrr7CzbSLw/QJR/Jo3Auj+gmhMxXjm5P9YJ0sQtsrc/",
          "dtype": "f8"
         },
         "yaxis": "y"
        },
        {
         "fill": "toself",
         "fillcolor": "rgba(228,26,28,0.1)",
         "hoverinfo": "skip",
         "line": {
          "color": "rgba(255,255,255,0)"
         },
         "showlegend": false,
         "type": "scatter",
         "x": {
          "bdata": "AAAAAAAAAAB7FK5H4XqUP3sUrkfheqQ/uB6F61G4rj97FK5H4Xq0P5qZmZmZmbk/uB6F61G4vj/sUbgehevBP3sUrkfhesQ/CtejcD0Kxz+amZmZmZnJPylcj8L1KMw/uB6F61G4zj+kcD0K16PQP+xRuB6F69E/MzMzMzMz0z97FK5H4XrUP8P1KFyPwtU/CtejcD0K1z9SuB6F61HYP5qZmZmZmdk/4XoUrkfh2j8pXI/C9SjcP3E9CtejcN0/uB6F61G43j8AAAAAAADgP6RwPQrXo+A/SOF6FK5H4T/sUbgehevhP4/C9Shcj+I/MzMzMzMz4z/Xo3A9CtfjP3sUrkfheuQ/H4XrUbge5T/D9Shcj8LlP2dmZmZmZuY/CtejcD0K5z+uR+F6FK7nP1K4HoXrUeg/9ihcj8L16D+amZmZmZnpPz4K16NwPeo/4XoUrkfh6j+F61G4HoXrPylcj8L1KOw/zczMzMzM7D9xPQrXo3DtPxWuR+F6FO4/uB6F61G47j9cj8L1KFzvPwAAAAAAAPA/AAAAAAAA8D9cj8L1KFzvP7gehetRuO4/Fa5H4XoU7j9xPQrXo3DtP83MzMzMzOw/KVyPwvUo7D+F61G4HoXrP+F6FK5H4eo/PgrXo3A96j+amZmZmZnpP/YoXI/C9eg/UrgehetR6D+uR+F6FK7nPwrXo3A9Cuc/Z2ZmZmZm5j/D9Shcj8LlPx+F61G4HuU/exSuR+F65D/Xo3A9CtfjPzMzMzMzM+M/j8L1KFyP4j/sUbgehevhP0jhehSuR+E/pHA9Ctej4D8AAAAAAADgP7gehetRuN4/cT0K16Nw3T8pXI/C9SjcP+F6FK5H4do/mpmZmZmZ2T9SuB6F61HYPwrXo3A9Ctc/w/UoXI/C1T97FK5H4XrUPzMzMzMzM9M/7FG4HoXr0T+kcD0K16PQP7gehetRuM4/KVyPwvUozD+amZmZmZnJPwrXo3A9Csc/exSuR+F6xD/sUbgehevBP7gehetRuL4/mpmZmZmZuT97FK5H4Xq0P7gehetRuK4/exSuR+F6pD97FK5H4XqUPwAAAAAAAAAA",
          "dtype": "f8"
         },
         "xaxis": "x",
         "y": {
          "bdata": "QTBe3ZXN4T8H/reI0K/hP949UttweuE/mCMN5j9Z4T/i3Bl96D3hP3E2OINoFuE/C3Zimuff4D+Wrgt9KJHgP0dgwiAKJ+A/DoxYK2hb3z8CZxQpdFHeP+ljFlUpF90/myfFtFz52z+WBD+s6NTaPyVHcCh7qdk/wt+SHOeO2D9d8efEzIbXP5/onNcjjtY/BT8WNjCk1T/90doFFb7UP5cEuQZl2NM/xcHCBaUX0z/WCNesrFvSPxDDkkL5qdE/Dj5psPH40D9YVcfGPEjQPy7v56fGiM8/IBdBcFyAzj/SWcL6z3fNP7d9jI/Acsw/zeN/rY50yz9ZO+4zw5XKP0/CmJsltMk/ZtOpX5nLyD9A3AypTO3HP4sgUgOsJsc/ik4TE+BVxj854bS8BH7FP2pPvKytqsQ/eDw8fDDowz9IJg7V8iLDP/GcA7tLYcI/yKVPk8WfwT+Q7VDRE+LAPxMbSI7MHsA/z9DKuBK4vj9lXZaohSK9P1BZOXW2j7s/zcHsdjABuj/Oc5wROXO4P5ehSAIT5bY/FXJbh0h/uD9ywYpQg/+5P7NmEtbpf7s/5Hyg5P8BvT9HVR8v/oq+P+OGiX8RDMA/w5IB9A/MwD90KyFrn43BP6RjnHi2R8I/M4g5p9MCwz/UhOFFtrjDP/TKajKrcMQ/toBSxmEgxT+hYhCf+9vFP5KSnsXAmsY/L3MpaBRfxz/2DXaWeS3IP2AiBIpsJMk/PYLQAMg2yj9xZ1RR/E3LP1eOeIuIZcw/mTUw0o+bzT/al7yGMtzOP2oWgOBOENA/UeLyGgaz0D9k0LuV3FXRPwoFf75KO9I//r/k+EMh0z9GbUVg6wjUPzPUzdW9+9Q/355chEj11T9jc8aFyiPXP+XVqOnqVtg/ReRQI36M2T+3GLhMm87aP26iazFgH9w/NZpQJ8GH3T9UwvFFNwbfP1lzGlI1OeA/zeUJjJzl4D939eWuUZ/hP/1l5GVqNeI/N+MIHVu64j9+xHbjySzjP6MFFShigOM/r8jdhPG14z9e1k8R0dbjP4YW0wqv6OM/nrBld+P94z9dnp+8FyvkP40YuZCCT+Q/",
          "dtype": "f8"
         },
         "yaxis": "y"
        },
        {
         "line": {
          "color": "rgb(55,126,184)",
          "width": 2
         },
         "mode": "lines",
         "name": "0.75",
         "type": "scatter",
         "x": {
          "bdata": "AAAAAAAAAAB7FK5H4XqUP3sUrkfheqQ/uB6F61G4rj97FK5H4Xq0P5qZmZmZmbk/uB6F61G4vj/sUbgehevBP3sUrkfhesQ/CtejcD0Kxz+amZmZmZnJPylcj8L1KMw/uB6F61G4zj+kcD0K16PQP+xRuB6F69E/MzMzMzMz0z97FK5H4XrUP8P1KFyPwtU/CtejcD0K1z9SuB6F61HYP5qZmZmZmdk/4XoUrkfh2j8pXI/C9SjcP3E9CtejcN0/uB6F61G43j8AAAAAAADgP6RwPQrXo+A/SOF6FK5H4T/sUbgehevhP4/C9Shcj+I/MzMzMzMz4z/Xo3A9CtfjP3sUrkfheuQ/H4XrUbge5T/D9Shcj8LlP2dmZmZmZuY/CtejcD0K5z+uR+F6FK7nP1K4HoXrUeg/9ihcj8L16D+amZmZmZnpPz4K16NwPeo/4XoUrkfh6j+F61G4HoXrPylcj8L1KOw/zczMzMzM7D9xPQrXo3DtPxWuR+F6FO4/uB6F61G47j9cj8L1KFzvPwAAAAAAAPA/",
          "dtype": "f8"
         },
         "xaxis": "x",
         "y": {
          "bdata": "SYZpkYoO4z/RwfULr/HiP/1Ps2mFv+I/wqVqh5yi4j+vShJ4pJDiP/kG99VBbeI/vK/6uyQ14j9jFf5WhuLhP9b5bsdvcuE/wuanWmrx4D/jWsqIY1/gP8qDddzwX98/E6Eq700g3j9mHTrpVtbcP/6abLnTgds/naCycGtB2j/ZdPfoNRXZP6p4XL24+Nc/86RqM6Hq1j+NK4rcUN/VP8DiXIUw1tQ/BQsgPIr50z/TVCGIfyLTPwdL1fUeVtI/ZsmXKmyK0T8HXy600brQPwKqkncqKtA/++LmeoAzzz8iOwKIohLOP8WKAIzm98w/tvrTcqrmyz/TFpgXzPDKP5Mfo7d7+Mk//Wbmxqr/yD/+ZGQmIxvIP+rY93M1T8c/dFxusdOAxj8E02NuFLDFP6DLf58I58Q/76ave0AtxD9NXBe/vnLDPy6MEUwQtcI/rNQBzRf5wT8mvKIs5DzBPxC1Zpdog8A/U5YTHh+Fvz9agkMO/wG+P1plVGzgg7w/G2xS5YX+uj9XiLVaW4C5P7Z+6OcUArg/",
          "dtype": "f8"
         },
         "yaxis": "y"
        },
        {
         "fill": "toself",
         "fillcolor": "rgba(55,126,184,0.1)",
         "hoverinfo": "skip",
         "line": {
          "color": "rgba(255,255,255,0)"
         },
         "showlegend": false,
         "type": "scatter",
         "x": {
          "bdata": "AAAAAAAAAAB7FK5H4XqUP3sUrkfheqQ/uB6F61G4rj97FK5H4Xq0P5qZmZmZmbk/uB6F61G4vj/sUbgehevBP3sUrkfhesQ/CtejcD0Kxz+amZmZmZnJPylcj8L1KMw/uB6F61G4zj+kcD0K16PQP+xRuB6F69E/MzMzMzMz0z97FK5H4XrUP8P1KFyPwtU/CtejcD0K1z9SuB6F61HYP5qZmZmZmdk/4XoUrkfh2j8pXI/C9SjcP3E9CtejcN0/uB6F61G43j8AAAAAAADgP6RwPQrXo+A/SOF6FK5H4T/sUbgehevhP4/C9Shcj+I/MzMzMzMz4z/Xo3A9CtfjP3sUrkfheuQ/H4XrUbge5T/D9Shcj8LlP2dmZmZmZuY/CtejcD0K5z+uR+F6FK7nP1K4HoXrUeg/9ihcj8L16D+amZmZmZnpPz4K16NwPeo/4XoUrkfh6j+F61G4HoXrPylcj8L1KOw/zczMzMzM7D9xPQrXo3DtPxWuR+F6FO4/uB6F61G47j9cj8L1KFzvPwAAAAAAAPA/AAAAAAAA8D9cj8L1KFzvP7gehetRuO4/Fa5H4XoU7j9xPQrXo3DtP83MzMzMzOw/KVyPwvUo7D+F61G4HoXrP+F6FK5H4eo/PgrXo3A96j+amZmZmZnpP/YoXI/C9eg/UrgehetR6D+uR+F6FK7nPwrXo3A9Cuc/Z2ZmZmZm5j/D9Shcj8LlPx+F61G4HuU/exSuR+F65D/Xo3A9CtfjPzMzMzMzM+M/j8L1KFyP4j/sUbgehevhP0jhehSuR+E/pHA9Ctej4D8AAAAAAADgP7gehetRuN4/cT0K16Nw3T8pXI/C9SjcP+F6FK5H4do/mpmZmZmZ2T9SuB6F61HYPwrXo3A9Ctc/w/UoXI/C1T97FK5H4XrUPzMzMzMzM9M/7FG4HoXr0T+kcD0K16PQP7gehetRuM4/KVyPwvUozD+amZmZmZnJPwrXo3A9Csc/exSuR+F6xD/sUbgehevBP7gehetRuL4/mpmZmZmZuT97FK5H4Xq0P7gehetRuK4/exSuR+F6pD97FK5H4XqUPwAAAAAAAAAA",
          "dtype": "f8"
         },
         "xaxis": "x",
         "y": {
          "bdata": "qjtR9bXN4T+9nKPQl7PhPyMhpZMbfuE/3sHdyn5b4T9XskaUEUfhP5mULqm5H+E/gqQPyvPk4D9HZK6chpTgPy4ksT/9KOA/hQbmPDtd3z+958vAJUzeP8pYOeLhCt0/2IMdI6vp2z/PKWGlWsTaP8bWg2Demdk/lLT5fReB2D8BtC9POXrXP7MIo+SjgdY/+kwBJluW1T/D3F55cK3UP2rPtpE+xdM//wXTl9cE0z8gdSq05EjSP0nUPrxCl9E/pPPoA5bl0D+yZ6ygYjHQP6Bn96ycYc8/WfsSlttgzj/yZ5XsRF/NP2cAvYzNYcw/o/PbbOBryz+yZUBQUY7KP69AOwCArck/pjrIjArHyD9qKLKCQO/HPxoRX4tOK8c/gmdQYMpbxj8KrxezEILFPwnkYL+irMQ//oXVZs3qwz9Cn7pq1SnDP7F3V/fBZcI/1PlO1IWlwT/CwJQMTOPAP6f51RS2J8A/xYAWdE7Fvj+WLHVYjzu9P1Eg5qdstbs/bs1GCY4luj+QirNadp64P1rTmHEfF7c/Eio4XgrtuD8ehrdaQGK6P8gKXsF917s/Y6rCMFRSvT8e2BHEbsi+P/BVCOR3IsA/eXD3GRvfwD+Kt7BMfJbBP4SvtMWpTMI/q6DLoF4Ewz9YGXQTqLvDP+DHiZCzb8Q/N7Oef24hxT/+9q8pGN7FP2ZRjALdpcY/uqCQXBxzxz+SoRbKBUfIP1STBAFLOMk/d/4Kb3dDyj/0x+/eRlPLP8kBzHh0Ycw/IxVEi/+NzT9SDm8jAMbOP05l3a8SA9A/NKCpmIaj0D9cVrDHQETRPyifRlFCL9I/xcFrL/sU0z+GNBhcGvzTPwsQbeA87tQ/FvYCeSLn1T9XerU/MRHXP+z800DnPtg/oegVls1v2T+xNb+CMrDaP6aMa2O/Adw/Nl9VEslp3T/9EBMtU+jePyffm114K+A/ZddY63/a4D/nwS4xtJjhP0LK3BY3NOI/fs8sT+K74j9/xk0RhjDjP/a65a1VheM/WXm/Asq64z8H491bN9rjP6aJ90O66eM/137BP+8A5D/l5kdHxi/kP+jQgS1fT+Q/",
          "dtype": "f8"
         },
         "yaxis": "y"
        },
        {
         "line": {
          "color": "rgb(77,175,74)",
          "width": 2
         },
         "mode": "lines",
         "name": "down",
         "type": "scatter",
         "x": {
          "bdata": "AAAAAAAAAAB7FK5H4XqUP3sUrkfheqQ/uB6F61G4rj97FK5H4Xq0P5qZmZmZmbk/uB6F61G4vj/sUbgehevBP3sUrkfhesQ/CtejcD0Kxz+amZmZmZnJPylcj8L1KMw/uB6F61G4zj+kcD0K16PQP+xRuB6F69E/MzMzMzMz0z97FK5H4XrUP8P1KFyPwtU/CtejcD0K1z9SuB6F61HYP5qZmZmZmdk/4XoUrkfh2j8pXI/C9SjcP3E9CtejcN0/uB6F61G43j8AAAAAAADgP6RwPQrXo+A/SOF6FK5H4T/sUbgehevhP4/C9Shcj+I/MzMzMzMz4z/Xo3A9CtfjP3sUrkfheuQ/H4XrUbge5T/D9Shcj8LlP2dmZmZmZuY/CtejcD0K5z+uR+F6FK7nP1K4HoXrUeg/9ihcj8L16D+amZmZmZnpPz4K16NwPeo/4XoUrkfh6j+F61G4HoXrPylcj8L1KOw/zczMzMzM7D9xPQrXo3DtPxWuR+F6FO4/uB6F61G47j9cj8L1KFzvPwAAAAAAAPA/",
          "dtype": "f8"
         },
         "xaxis": "x",
         "y": {
          "bdata": "H+e0BS8O4z9ZR0rqMPPiP5Ux8h3QveI/CmHv4Uyf4j+1A5y944niP+XbitC3aOI/pcFzrC804j/GQY2QU+HhP7XPlpxnc+E/0ra4H9zy4D/EpJtlu2LgP7oJwxvnat8/FVOVzp0q3j/qclyxzt/cP4iEO4b8its/XmJ1hHhJ2j8bPldvkx3ZP0iv5ohzAtg/MnEZc8T21j/ZzxmJ4+7VP0bspBjt5tQ/2Jv/sTUJ1D8IyRkoWzDTPyH7AmZzYtI/ArqwMAeW0T9zBY/y6MjQPy0VmSJlNtA/psN5PCRIzz8eyxj/5SPOP/CNGNxuBs0/YLCcwLPxyz99bMdRi/rKPyDtU7yNAco/RP1j9U8IyT+KDmLNaCLIP1tkHOI8VMc/nGT25lyExj9+fsMzhrPFP2WD2reb5sQ/IQOKnaAsxD/1aSj7i3HDP9DKv+H6ssI/p1S7P6r0wT+wubgjDDfBP/8CYgYqe8A/pvZgNNZsvz/zuyOw9+C9P52Zr2UiWLw/wHNkcYnPuj8AOMBw5ki5P0Y753pCwrc/",
          "dtype": "f8"
         },
         "yaxis": "y"
        },
        {
         "fill": "toself",
         "fillcolor": "rgba(77,175,74,0.1)",
         "hoverinfo": "skip",
         "line": {
          "color": "rgba(255,255,255,0)"
         },
         "showlegend": false,
         "type": "scatter",
         "x": {
          "bdata": "AAAAAAAAAAB7FK5H4XqUP3sUrkfheqQ/uB6F61G4rj97FK5H4Xq0P5qZmZmZmbk/uB6F61G4vj/sUbgehevBP3sUrkfhesQ/CtejcD0Kxz+amZmZmZnJPylcj8L1KMw/uB6F61G4zj+kcD0K16PQP+xRuB6F69E/MzMzMzMz0z97FK5H4XrUP8P1KFyPwtU/CtejcD0K1z9SuB6F61HYP5qZmZmZmdk/4XoUrkfh2j8pXI/C9SjcP3E9CtejcN0/uB6F61G43j8AAAAAAADgP6RwPQrXo+A/SOF6FK5H4T/sUbgehevhP4/C9Shcj+I/MzMzMzMz4z/Xo3A9CtfjP3sUrkfheuQ/H4XrUbge5T/D9Shcj8LlP2dmZmZmZuY/CtejcD0K5z+uR+F6FK7nP1K4HoXrUeg/9ihcj8L16D+amZmZmZnpPz4K16NwPeo/4XoUrkfh6j+F61G4HoXrPylcj8L1KOw/zczMzMzM7D9xPQrXo3DtPxWuR+F6FO4/uB6F61G47j9cj8L1KFzvPwAAAAAAAPA/AAAAAAAA8D9cj8L1KFzvP7gehetRuO4/Fa5H4XoU7j9xPQrXo3DtP83MzMzMzOw/KVyPwvUo7D+F61G4HoXrP+F6FK5H4eo/PgrXo3A96j+amZmZmZnpP/YoXI/C9eg/UrgehetR6D+uR+F6FK7nPwrXo3A9Cuc/Z2ZmZmZm5j/D9Shcj8LlPx+F61G4HuU/exSuR+F65D/Xo3A9CtfjPzMzMzMzM+M/j8L1KFyP4j/sUbgehevhP0jhehSuR+E/pHA9Ctej4D8AAAAAAADgP7gehetRuN4/cT0K16Nw3T8pXI/C9SjcP+F6FK5H4do/mpmZmZmZ2T9SuB6F61HYPwrXo3A9Ctc/w/UoXI/C1T97FK5H4XrUPzMzMzMzM9M/7FG4HoXr0T+kcD0K16PQP7gehetRuM4/KVyPwvUozD+amZmZmZnJPwrXo3A9Csc/exSuR+F6xD/sUbgehevBP7gehetRuL4/mpmZmZmZuT97FK5H4Xq0P7gehetRuK4/exSuR+F6pD97FK5H4XqUPwAAAAAAAAAA",
          "dtype": "f8"
         },
         "xaxis": "x",
         "y": {
          "bdata": "Hg5V6FrN4T/EvMUOdLXhP7cvsSQBfOE/rgBK+S1X4T8QA1otgj3hP7X0GOpCGeE/D0Mckv7i4D9UYLeAcpDgP+svU9RWJuA/uAB1Kt5Y3z/fubnc0UveP5gMTbwaDt0/iqe1SEnq2z+ezPKxVMPaPzoh/itxmdk/WwjP95CB2D8Q8IWwonzXP0abpKedh9Y/woGlR4eh1T+B2UsXmb3UPyq9mEMk2NM/UkMjclcW0z9k4goU31fSPxCwJ7mAo9E/lzBpCM3v0D93OaYMnzrQPx2vtNsrb88/8nlGAUxpzj96TMc97mLNPxVqKSheYsw/a/IJAyJoyz9lPca2fonKP/aXxS5Yqck/cDngPP3GyD/AT5BDSO/HP8L8IIioI8c/EI2pvxxQxj/b1pdhQnbFPysgiH7zocQ/RaSwmC3fwz+5s/BLexrDPwrGVyV+UsI/T3BT3UOLwT/Ki/s9fMXAPzfQrcySBsA/MJbNSaN9vj+9qzTP4+q8P/6WryLBXLs/ENkOE3fLuT8rJGMtKjy4P1TYcGjFrLY/OJ5djb/XuD/VSx20olW6P3AOus+b07s/PJyvqINTvT8pzBKRC9e+P44reo8ELsA/xzUWQMHvwD+W53UJnKjBP/84I6IQXsI/ls8nnncTwz8xIGCqnMjDP/1hY6ITesQ/n+Ys8UMrxT8hJu8FyvDFPyg8Qw6duMY/9MsXPNGExz9UzTNXiVXIPxjB562iSck/SkLiScNZyj+Vm8jsl2vLP1VuL35Fe8w/y7EHkH+qzT/CSWrA3eTOP62G1jt+E9A/zNJXVzS10D9v0XfYMlfRP21D+FhBPNI/MkbeEmYh0z+sryg81wjUP1702/ET/NQ/Yhux7bX11T8xxuf6LSDXP6JgjZ4BTNg/SsMoakl92T8mjCguhL7aP2G8GxFgEdw/1ud44Id83T82GcawSPzeP1B/Oip5NeA/boOcvdnj4D+YbNrcjZ/hP0jtNipJOeI/f2/aZHjA4j84I2OgNDLjPztAy8ZgheM/FcP8tiy44z9aBN5NRdbjP2bBlMpr5+M/czMzF5//4z/u0c7F7TDkPyDAFCMDT+Q/",
          "dtype": "f8"
         },
         "yaxis": "y"
        },
        {
         "line": {
          "color": "rgb(152,78,163)",
          "width": 2
         },
         "mode": "lines",
         "name": "up",
         "type": "scatter",
         "x": {
          "bdata": "AAAAAAAAAAB7FK5H4XqUP3sUrkfheqQ/uB6F61G4rj97FK5H4Xq0P5qZmZmZmbk/uB6F61G4vj/sUbgehevBP3sUrkfhesQ/CtejcD0Kxz+amZmZmZnJPylcj8L1KMw/uB6F61G4zj+kcD0K16PQP+xRuB6F69E/MzMzMzMz0z97FK5H4XrUP8P1KFyPwtU/CtejcD0K1z9SuB6F61HYP5qZmZmZmdk/4XoUrkfh2j8pXI/C9SjcP3E9CtejcN0/uB6F61G43j8AAAAAAADgP6RwPQrXo+A/SOF6FK5H4T/sUbgehevhP4/C9Shcj+I/MzMzMzMz4z/Xo3A9CtfjP3sUrkfheuQ/H4XrUbge5T/D9Shcj8LlP2dmZmZmZuY/CtejcD0K5z+uR+F6FK7nP1K4HoXrUeg/9ihcj8L16D+amZmZmZnpPz4K16NwPeo/4XoUrkfh6j+F61G4HoXrPylcj8L1KOw/zczMzMzM7D9xPQrXo3DtPxWuR+F6FO4/uB6F61G47j9cj8L1KFzvPwAAAAAAAPA/",
          "dtype": "f8"
         },
         "xaxis": "x",
         "y": {
          "bdata": "Hs0jFAYP4z8ew1H1v/XiPyrGC/wlweI/WqpVxJ6i4j9aVu6s5Y3iP/Ypt2knaeI/AOK2jHkv4j88nnU4fdzhP3RT7bX3buE/fqfGDuPv4D8XQCkplGHgP7CfkhbCad8/kv9tnCgr3j92cWpuNuLcP+5O6gzNjts/QPsvzJNO2j9S6l5nTiTZP81Cm+pKCdg/RewZlGf71j+I/blYqfDVP4I3mhcz6NQ/9Q88nZYL1D/1IiG+hjPTP7VwCMHIZNI/JxK5zgSX0T/13QT6AsjQP73x+jGmM9A/mz9wxUI/zz9duerX8xjOP63g9bN8+Mw/JlGDdHnhyz+DMk+ZsOjKP+rGpCJO78k/AuTrbTP3yD94muw4GhTIP2NYk0fSS8c/htwJKCyCxj+JGvC71rfFP/s8hv6D8MQ/3Wjy/T41xD//jXke0HLDP3G3GtfMscI/MhlAVW/uwT+nwX7rtSzBPx4IXQa5a8A/GucRVz5Xvz9jFLBC8tG9P55TaQBWTrw/Wq6ZzBnLuj+v4EryZke5PzvAaniUw7c/",
          "dtype": "f8"
         },
         "yaxis": "y"
        },
        {
         "fill": "toself",
         "fillcolor": "rgba(152,78,163,0.1)",
         "hoverinfo": "skip",
         "line": {
          "color": "rgba(255,255,255,0)"
         },
         "showlegend": false,
         "type": "scatter",
         "x": {
          "bdata": "AAAAAAAAAAB7FK5H4XqUP3sUrkfheqQ/uB6F61G4rj97FK5H4Xq0P5qZmZmZmbk/uB6F61G4vj/sUbgehevBP3sUrkfhesQ/CtejcD0Kxz+amZmZmZnJPylcj8L1KMw/uB6F61G4zj+kcD0K16PQP+xRuB6F69E/MzMzMzMz0z97FK5H4XrUP8P1KFyPwtU/CtejcD0K1z9SuB6F61HYP5qZmZmZmdk/4XoUrkfh2j8pXI/C9SjcP3E9CtejcN0/uB6F61G43j8AAAAAAADgP6RwPQrXo+A/SOF6FK5H4T/sUbgehevhP4/C9Shcj+I/MzMzMzMz4z/Xo3A9CtfjP3sUrkfheuQ/H4XrUbge5T/D9Shcj8LlP2dmZmZmZuY/CtejcD0K5z+uR+F6FK7nP1K4HoXrUeg/9ihcj8L16D+amZmZmZnpPz4K16NwPeo/4XoUrkfh6j+F61G4HoXrPylcj8L1KOw/zczMzMzM7D9xPQrXo3DtPxWuR+F6FO4/uB6F61G47j9cj8L1KFzvPwAAAAAAAPA/AAAAAAAA8D9cj8L1KFzvP7gehetRuO4/Fa5H4XoU7j9xPQrXo3DtP83MzMzMzOw/KVyPwvUo7D+F61G4HoXrP+F6FK5H4eo/PgrXo3A96j+amZmZmZnpP/YoXI/C9eg/UrgehetR6D+uR+F6FK7nPwrXo3A9Cuc/Z2ZmZmZm5j/D9Shcj8LlPx+F61G4HuU/exSuR+F65D/Xo3A9CtfjPzMzMzMzM+M/j8L1KFyP4j/sUbgehevhP0jhehSuR+E/pHA9Ctej4D8AAAAAAADgP7gehetRuN4/cT0K16Nw3T8pXI/C9SjcP+F6FK5H4do/mpmZmZmZ2T9SuB6F61HYPwrXo3A9Ctc/w/UoXI/C1T97FK5H4XrUPzMzMzMzM9M/7FG4HoXr0T+kcD0K16PQP7gehetRuM4/KVyPwvUozD+amZmZmZnJPwrXo3A9Csc/exSuR+F6xD/sUbgehevBP7gehetRuL4/mpmZmZmZuT97FK5H4Xq0P7gehetRuK4/exSuR+F6pD97FK5H4XqUPwAAAAAAAAAA",
          "dtype": "f8"
         },
         "xaxis": "x",
         "y": {
          "bdata": "Bse9GfvN4T9NKe2WjLjhPzT6w5Z7gOE/ieNjycRb4T9q6LfH4kPhP8D6PpeeG+E/7I2kM1/g4D+CciP/c4/gPyCMWCUwJuA/67AASgtb3z92yLgNF1LeP5+hcDvsFN0/G/HyvFLy2z8GIwBuZMvaP3BY8/c7oNk/3+zNA0SG2D9VLNIg0n/XPyaH5iRGiNY/+yOb1hye1T9bqQmfcrbUPygpdi/2ztM/c3wp9+IN0z/tb0oEU1DSP+I4lN6om9E/HYvOwpvn0D9l2iQnGTLQP/ha+b94XM8/6iK7KCNVzj99rrwaXU/NP84Fa3NlTsw/x8vgmeRTyz8tTDEsL3nKP7TomdXEnsk/xRbdiL7EyD+Fm+7zb+7HP52UsKkzIcc/5nVrT09Oxj8kbgjCZHjFPx1zFL6Ep8Q/O56uA3rjwz9uw3bGTRvDP+qxmVTqU8I/n4ykj5eMwT9KLJDrw8TAPzeG5P5u/78/h37lx0F9vj+37ZDOK+y8P5rk8kfjYbs/jaLm6VTUuT8CspmC50W4PyTCBF3ctrY/Ur7Qk0zQuD9cD/xh5ki6Pye6TK/ewbs/osLfuMg6vT8PO8+2uLe+P9YnH3OdGMA/IM1HjbrXwD8EV23rp5TBP8Wl2xpHUMI/+LybWa8Pwz+QWHx2UsrDP38zNvgDh8Q/2Qb4PoM5xT/uxte1SPfFPyZDqAAJtsY/KRx25XB2xz9rmep9xDnIPz+x+lKoKck/IKWvb9c/yj/ZGG0GMljLP4XWJU8Ob8w/jLuA9JOizT89xBiViuLOPyauEjGxFNA//jX5AxC50D+F4eTM7F3RPzGZo9ptRtI/iKh8o+gt0z/91fd3uhbUP3ejTkNKCdU/3EW+/28B1j+1UWoS4CrXP4+0mFGyWNg/dP5PsE+K2T9PqOutysjaP6EJkpTjFtw/bEXhIV593T/mv9RuCPnePwSH9D3/MeA/4E7a+Evf4D/zG3bLHJrhP4f2jHhAMuI/yBqCRr+34j/2ycdxhinjPxQ2yeWTfuM/LFkvPLC24z9KxCSS6NfjPytxR7946eM/IJJTYdAB5D/vXLZT8zLkPzbTiQ4RUOQ/",
          "dtype": "f8"
         },
         "yaxis": "y"
        },
        {
         "error_x": {
          "array": {
           "bdata": "6arKHfDBlz+w7E6Q4QqXP3RZRYwcyJY/00B2oxZxlj8=",
           "dtype": "f8"
          },
          "type": "data"
         },
         "marker": {
          "color": "skyblue",
          "line": {
           "color": "black",
           "width": 1
          }
         },
         "orientation": "h",
         "showlegend": false,
         "type": "bar",
         "x": {
          "bdata": "lvdMRwW51T+z/2snk53VP/EPIlJrZtU/t5TX16te1T8=",
          "dtype": "f8"
         },
         "xaxis": "x2",
         "y": [
          "0.5",
          "up",
          "down",
          "0.75"
         ],
         "yaxis": "y2"
        }
       ],
       "layout": {
        "font": {
         "size": 16
        },
        "height": 400,
        "legend": {
         "font": {
          "size": 16
         },
         "title": {
          "text": "Optimizers"
         }
        },
        "margin": {
         "b": 50,
         "l": 50,
         "r": 50,
         "t": 60
        },
        "template": {
         "data": {
          "bar": [
           {
            "error_x": {
             "color": "#2a3f5f"
            },
            "error_y": {
             "color": "#2a3f5f"
            },
            "marker": {
             "line": {
              "color": "white",
              "width": 0.5
             },
             "pattern": {
              "fillmode": "overlay",
              "size": 10,
              "solidity": 0.2
             }
            },
            "type": "bar"
           }
          ],
          "barpolar": [
           {
            "marker": {
             "line": {
              "color": "white",
              "width": 0.5
             },
             "pattern": {
              "fillmode": "overlay",
              "size": 10,
              "solidity": 0.2
             }
            },
            "type": "barpolar"
           }
          ],
          "carpet": [
           {
            "aaxis": {
             "endlinecolor": "#2a3f5f",
             "gridcolor": "#C8D4E3",
             "linecolor": "#C8D4E3",
             "minorgridcolor": "#C8D4E3",
             "startlinecolor": "#2a3f5f"
            },
            "baxis": {
             "endlinecolor": "#2a3f5f",
             "gridcolor": "#C8D4E3",
             "linecolor": "#C8D4E3",
             "minorgridcolor": "#C8D4E3",
             "startlinecolor": "#2a3f5f"
            },
            "type": "carpet"
           }
          ],
          "choropleth": [
           {
            "colorbar": {
             "outlinewidth": 0,
             "ticks": ""
            },
            "type": "choropleth"
           }
          ],
          "contour": [
           {
            "colorbar": {
             "outlinewidth": 0,
             "ticks": ""
            },
            "colorscale": [
             [
              0,
              "#0d0887"
             ],
             [
              0.1111111111111111,
              "#46039f"
             ],
             [
              0.2222222222222222,
              "#7201a8"
             ],
             [
              0.3333333333333333,
              "#9c179e"
             ],
             [
              0.4444444444444444,
              "#bd3786"
             ],
             [
              0.5555555555555556,
              "#d8576b"
             ],
             [
              0.6666666666666666,
              "#ed7953"
             ],
             [
              0.7777777777777778,
              "#fb9f3a"
             ],
             [
              0.8888888888888888,
              "#fdca26"
             ],
             [
              1,
              "#f0f921"
             ]
            ],
            "type": "contour"
           }
          ],
          "contourcarpet": [
           {
            "colorbar": {
             "outlinewidth": 0,
             "ticks": ""
            },
            "type": "contourcarpet"
           }
          ],
          "heatmap": [
           {
            "colorbar": {
             "outlinewidth": 0,
             "ticks": ""
            },
            "colorscale": [
             [
              0,
              "#0d0887"
             ],
             [
              0.1111111111111111,
              "#46039f"
             ],
             [
              0.2222222222222222,
              "#7201a8"
             ],
             [
              0.3333333333333333,
              "#9c179e"
             ],
             [
              0.4444444444444444,
              "#bd3786"
             ],
             [
              0.5555555555555556,
              "#d8576b"
             ],
             [
              0.6666666666666666,
              "#ed7953"
             ],
             [
              0.7777777777777778,
              "#fb9f3a"
             ],
             [
              0.8888888888888888,
              "#fdca26"
             ],
             [
              1,
              "#f0f921"
             ]
            ],
            "type": "heatmap"
           }
          ],
          "histogram": [
           {
            "marker": {
             "pattern": {
              "fillmode": "overlay",
              "size": 10,
              "solidity": 0.2
             }
            },
            "type": "histogram"
           }
          ],
          "histogram2d": [
           {
            "colorbar": {
             "outlinewidth": 0,
             "ticks": ""
            },
            "colorscale": [
             [
              0,
              "#0d0887"
             ],
             [
              0.1111111111111111,
              "#46039f"
             ],
             [
              0.2222222222222222,
              "#7201a8"
             ],
             [
              0.3333333333333333,
              "#9c179e"
             ],
             [
              0.4444444444444444,
              "#bd3786"
             ],
             [
              0.5555555555555556,
              "#d8576b"
             ],
             [
              0.6666666666666666,
              "#ed7953"
             ],
             [
              0.7777777777777778,
              "#fb9f3a"
             ],
             [
              0.8888888888888888,
              "#fdca26"
             ],
             [
              1,
              "#f0f921"
             ]
            ],
            "type": "histogram2d"
           }
          ],
          "histogram2dcontour": [
           {
            "colorbar": {
             "outlinewidth": 0,
             "ticks": ""
            },
            "colorscale": [
             [
              0,
              "#0d0887"
             ],
             [
              0.1111111111111111,
              "#46039f"
             ],
             [
              0.2222222222222222,
              "#7201a8"
             ],
             [
              0.3333333333333333,
              "#9c179e"
             ],
             [
              0.4444444444444444,
              "#bd3786"
             ],
             [
              0.5555555555555556,
              "#d8576b"
             ],
             [
              0.6666666666666666,
              "#ed7953"
             ],
             [
              0.7777777777777778,
              "#fb9f3a"
             ],
             [
              0.8888888888888888,
              "#fdca26"
             ],
             [
              1,
              "#f0f921"
             ]
            ],
            "type": "histogram2dcontour"
           }
          ],
          "mesh3d": [
           {
            "colorbar": {
             "outlinewidth": 0,
             "ticks": ""
            },
            "type": "mesh3d"
           }
          ],
          "parcoords": [
           {
            "line": {
             "colorbar": {
              "outlinewidth": 0,
              "ticks": ""
             }
            },
            "type": "parcoords"
           }
          ],
          "pie": [
           {
            "automargin": true,
            "type": "pie"
           }
          ],
          "scatter": [
           {
            "fillpattern": {
             "fillmode": "overlay",
             "size": 10,
             "solidity": 0.2
            },
            "type": "scatter"
           }
          ],
          "scatter3d": [
           {
            "line": {
             "colorbar": {
              "outlinewidth": 0,
              "ticks": ""
             }
            },
            "marker": {
             "colorbar": {
              "outlinewidth": 0,
              "ticks": ""
             }
            },
            "type": "scatter3d"
           }
          ],
          "scattercarpet": [
           {
            "marker": {
             "colorbar": {
              "outlinewidth": 0,
              "ticks": ""
             }
            },
            "type": "scattercarpet"
           }
          ],
          "scattergeo": [
           {
            "marker": {
             "colorbar": {
              "outlinewidth": 0,
              "ticks": ""
             }
            },
            "type": "scattergeo"
           }
          ],
          "scattergl": [
           {
            "marker": {
             "colorbar": {
              "outlinewidth": 0,
              "ticks": ""
             }
            },
            "type": "scattergl"
           }
          ],
          "scattermap": [
           {
            "marker": {
             "colorbar": {
              "outlinewidth": 0,
              "ticks": ""
             }
            },
            "type": "scattermap"
           }
          ],
          "scattermapbox": [
           {
            "marker": {
             "colorbar": {
              "outlinewidth": 0,
              "ticks": ""
             }
            },
            "type": "scattermapbox"
           }
          ],
          "scatterpolar": [
           {
            "marker": {
             "colorbar": {
              "outlinewidth": 0,
              "ticks": ""
             }
            },
            "type": "scatterpolar"
           }
          ],
          "scatterpolargl": [
           {
            "marker": {
             "colorbar": {
              "outlinewidth": 0,
              "ticks": ""
             }
            },
            "type": "scatterpolargl"
           }
          ],
          "scatterternary": [
           {
            "marker": {
             "colorbar": {
              "outlinewidth": 0,
              "ticks": ""
             }
            },
            "type": "scatterternary"
           }
          ],
          "surface": [
           {
            "colorbar": {
             "outlinewidth": 0,
             "ticks": ""
            },
            "colorscale": [
             [
              0,
              "#0d0887"
             ],
             [
              0.1111111111111111,
              "#46039f"
             ],
             [
              0.2222222222222222,
              "#7201a8"
             ],
             [
              0.3333333333333333,
              "#9c179e"
             ],
             [
              0.4444444444444444,
              "#bd3786"
             ],
             [
              0.5555555555555556,
              "#d8576b"
             ],
             [
              0.6666666666666666,
              "#ed7953"
             ],
             [
              0.7777777777777778,
              "#fb9f3a"
             ],
             [
              0.8888888888888888,
              "#fdca26"
             ],
             [
              1,
              "#f0f921"
             ]
            ],
            "type": "surface"
           }
          ],
          "table": [
           {
            "cells": {
             "fill": {
              "color": "#EBF0F8"
             },
             "line": {
              "color": "white"
             }
            },
            "header": {
             "fill": {
              "color": "#C8D4E3"
             },
             "line": {
              "color": "white"
             }
            },
            "type": "table"
           }
          ]
         },
         "layout": {
          "annotationdefaults": {
           "arrowcolor": "#2a3f5f",
           "arrowhead": 0,
           "arrowwidth": 1
          },
          "autotypenumbers": "strict",
          "coloraxis": {
           "colorbar": {
            "outlinewidth": 0,
            "ticks": ""
           }
          },
          "colorscale": {
           "diverging": [
            [
             0,
             "#8e0152"
            ],
            [
             0.1,
             "#c51b7d"
            ],
            [
             0.2,
             "#de77ae"
            ],
            [
             0.3,
             "#f1b6da"
            ],
            [
             0.4,
             "#fde0ef"
            ],
            [
             0.5,
             "#f7f7f7"
            ],
            [
             0.6,
             "#e6f5d0"
            ],
            [
             0.7,
             "#b8e186"
            ],
            [
             0.8,
             "#7fbc41"
            ],
            [
             0.9,
             "#4d9221"
            ],
            [
             1,
             "#276419"
            ]
           ],
           "sequential": [
            [
             0,
             "#0d0887"
            ],
            [
             0.1111111111111111,
             "#46039f"
            ],
            [
             0.2222222222222222,
             "#7201a8"
            ],
            [
             0.3333333333333333,
             "#9c179e"
            ],
            [
             0.4444444444444444,
             "#bd3786"
            ],
            [
             0.5555555555555556,
             "#d8576b"
            ],
            [
             0.6666666666666666,
             "#ed7953"
            ],
            [
             0.7777777777777778,
             "#fb9f3a"
            ],
            [
             0.8888888888888888,
             "#fdca26"
            ],
            [
             1,
             "#f0f921"
            ]
           ],
           "sequentialminus": [
            [
             0,
             "#0d0887"
            ],
            [
             0.1111111111111111,
             "#46039f"
            ],
            [
             0.2222222222222222,
             "#7201a8"
            ],
            [
             0.3333333333333333,
             "#9c179e"
            ],
            [
             0.4444444444444444,
             "#bd3786"
            ],
            [
             0.5555555555555556,
             "#d8576b"
            ],
            [
             0.6666666666666666,
             "#ed7953"
            ],
            [
             0.7777777777777778,
             "#fb9f3a"
            ],
            [
             0.8888888888888888,
             "#fdca26"
            ],
            [
             1,
             "#f0f921"
            ]
           ]
          },
          "colorway": [
           "#636efa",
           "#EF553B",
           "#00cc96",
           "#ab63fa",
           "#FFA15A",
           "#19d3f3",
           "#FF6692",
           "#B6E880",
           "#FF97FF",
           "#FECB52"
          ],
          "font": {
           "color": "#2a3f5f"
          },
          "geo": {
           "bgcolor": "white",
           "lakecolor": "white",
           "landcolor": "white",
           "showlakes": true,
           "showland": true,
           "subunitcolor": "#C8D4E3"
          },
          "hoverlabel": {
           "align": "left"
          },
          "hovermode": "closest",
          "mapbox": {
           "style": "light"
          },
          "paper_bgcolor": "white",
          "plot_bgcolor": "white",
          "polar": {
           "angularaxis": {
            "gridcolor": "#EBF0F8",
            "linecolor": "#EBF0F8",
            "ticks": ""
           },
           "bgcolor": "white",
           "radialaxis": {
            "gridcolor": "#EBF0F8",
            "linecolor": "#EBF0F8",
            "ticks": ""
           }
          },
          "scene": {
           "xaxis": {
            "backgroundcolor": "white",
            "gridcolor": "#DFE8F3",
            "gridwidth": 2,
            "linecolor": "#EBF0F8",
            "showbackground": true,
            "ticks": "",
            "zerolinecolor": "#EBF0F8"
           },
           "yaxis": {
            "backgroundcolor": "white",
            "gridcolor": "#DFE8F3",
            "gridwidth": 2,
            "linecolor": "#EBF0F8",
            "showbackground": true,
            "ticks": "",
            "zerolinecolor": "#EBF0F8"
           },
           "zaxis": {
            "backgroundcolor": "white",
            "gridcolor": "#DFE8F3",
            "gridwidth": 2,
            "linecolor": "#EBF0F8",
            "showbackground": true,
            "ticks": "",
            "zerolinecolor": "#EBF0F8"
           }
          },
          "shapedefaults": {
           "line": {
            "color": "#2a3f5f"
           }
          },
          "ternary": {
           "aaxis": {
            "gridcolor": "#DFE8F3",
            "linecolor": "#A2B1C6",
            "ticks": ""
           },
           "baxis": {
            "gridcolor": "#DFE8F3",
            "linecolor": "#A2B1C6",
            "ticks": ""
           },
           "bgcolor": "white",
           "caxis": {
            "gridcolor": "#DFE8F3",
            "linecolor": "#A2B1C6",
            "ticks": ""
           }
          },
          "title": {
           "x": 0.05
          },
          "xaxis": {
           "automargin": true,
           "gridcolor": "#EBF0F8",
           "linecolor": "#EBF0F8",
           "ticks": "",
           "title": {
            "standoff": 15
           },
           "zerolinecolor": "#EBF0F8",
           "zerolinewidth": 2
          },
          "yaxis": {
           "automargin": true,
           "gridcolor": "#EBF0F8",
           "linecolor": "#EBF0F8",
           "ticks": "",
           "title": {
            "standoff": 15
           },
           "zerolinecolor": "#EBF0F8",
           "zerolinewidth": 2
          }
         }
        },
        "width": 1200,
        "xaxis": {
         "anchor": "y",
         "domain": [
          0,
          0.51
         ],
         "title": {
          "text": "Normalized Trials"
         }
        },
        "xaxis2": {
         "anchor": "y2",
         "domain": [
          0.66,
          1
         ],
         "title": {
          "text": "AUC"
         }
        },
        "yaxis": {
         "anchor": "x",
         "domain": [
          0,
          1
         ],
         "title": {
          "text": "Normalized Inc-Performance"
         }
        },
        "yaxis2": {
         "anchor": "x2",
         "domain": [
          0,
          1
         ],
         "title": {
          "text": "Optimizer"
         }
        }
       }
      }
     },
     "metadata": {},
     "output_type": "display_data"
    }
   ],
   "source": [
    "# Which thresholding?\n",
    "plot_one_thing('thresh')"
   ]
  },
  {
   "cell_type": "code",
   "execution_count": 71,
   "id": "a0435a60",
   "metadata": {},
   "outputs": [
    {
     "name": "stderr",
     "output_type": "stream",
     "text": [
      "/home/daphne/Code/hpi_parego/CARP-S/carps/analysis/generate_report.py:276: UserWarning:\n",
      "\n",
      "Result is not significant and results of the plot may be misleading!\n",
      "\n",
      "/home/daphne/Code/hpi_parego/CARP-S/carps/analysis/run_autorank.py:322: FutureWarning:\n",
      "\n",
      "Series.__getitem__ treating keys as positions is deprecated. In a future version, integer keys will always be treated as labels (consistent with DataFrame behavior). To access a value by position, use `ser.iloc[pos]`\n",
      "\n",
      "/home/daphne/Code/hpi_parego/CARP-S/carps/analysis/run_autorank.py:421: UserWarning:\n",
      "\n",
      "FigureCanvasAgg is non-interactive, and thus cannot be shown\n",
      "\n",
      "/home/daphne/Code/hpi_parego/CARP-S/carps/analysis/run_autorank.py:198: UserWarning:\n",
      "\n",
      "Result is not significant and results of the plot may be misleading!\n",
      "\n"
     ]
    },
    {
     "data": {
      "text/html": [
       "<pre style=\"white-space:pre;overflow-x:auto;line-height:normal;font-family:Menlo,'DejaVu Sans Mono',consolas,'Courier New',monospace\"><span style=\"color: #7fbfbf; text-decoration-color: #7fbfbf\">[10:20:36] </span><span style=\"color: #000080; text-decoration-color: #000080\">INFO    </span> Create dataframe for neat plotting by aligning x-axis <span style=\"color: #800080; text-decoration-color: #800080\">/</span> interpolating        <a href=\"file:///home/daphne/Code/hpi_parego/CARP-S/carps/analysis/gather_data.py\" target=\"_blank\"><span style=\"color: #7f7f7f; text-decoration-color: #7f7f7f\">gather_data.py</span></a><span style=\"color: #7f7f7f; text-decoration-color: #7f7f7f\">:</span><a href=\"file:///home/daphne/Code/hpi_parego/CARP-S/carps/analysis/gather_data.py#725\" target=\"_blank\"><span style=\"color: #7f7f7f; text-decoration-color: #7f7f7f\">725</span></a>\n",
       "<span style=\"color: #7fbfbf; text-decoration-color: #7fbfbf\">           </span>         budget.                                                                      <span style=\"color: #7f7f7f; text-decoration-color: #7f7f7f\">                  </span>\n",
       "</pre>\n"
      ],
      "text/plain": [
       "\u001b[2;36m[10:20:36]\u001b[0m\u001b[2;36m \u001b[0m\u001b[34mINFO    \u001b[0m Create dataframe for neat plotting by aligning x-axis \u001b[35m/\u001b[0m interpolating        \u001b]8;id=125005;file:///home/daphne/Code/hpi_parego/CARP-S/carps/analysis/gather_data.py\u001b\\\u001b[2mgather_data.py\u001b[0m\u001b]8;;\u001b\\\u001b[2m:\u001b[0m\u001b]8;id=654237;file:///home/daphne/Code/hpi_parego/CARP-S/carps/analysis/gather_data.py#725\u001b\\\u001b[2m725\u001b[0m\u001b]8;;\u001b\\\n",
       "\u001b[2;36m           \u001b[0m         budget.                                                                      \u001b[2m                  \u001b[0m\n"
      ]
     },
     "metadata": {},
     "output_type": "display_data"
    },
    {
     "name": "stderr",
     "output_type": "stream",
     "text": [
      "/home/daphne/Code/hpi_parego/CARP-S/carps/analysis/generate_report.py:108: UserWarning:\n",
      "\n",
      "Result is not significant and results of the plot may be misleading!\n",
      "\n",
      "/home/daphne/Code/hpi_parego/CARP-S/carps/analysis/generate_report.py:108: UserWarning:\n",
      "\n",
      "Result is not significant and results of the plot may be misleading!\n",
      "\n",
      "/home/daphne/Code/hpi_parego/CARP-S/carps/analysis/generate_report.py:108: UserWarning:\n",
      "\n",
      "Result is not significant and results of the plot may be misleading!\n",
      "\n",
      "/home/daphne/Code/hpi_parego/CARP-S/carps/analysis/generate_report.py:108: UserWarning:\n",
      "\n",
      "Result is not significant and results of the plot may be misleading!\n",
      "\n",
      "/home/daphne/Code/hpi_parego/CARP-S/carps/analysis/generate_report.py:108: UserWarning:\n",
      "\n",
      "Result is not significant and results of the plot may be misleading!\n",
      "\n",
      "/home/daphne/Code/hpi_parego/CARP-S/carps/analysis/generate_report.py:108: UserWarning:\n",
      "\n",
      "Result is not significant and results of the plot may be misleading!\n",
      "\n",
      "/home/daphne/Code/hpi_parego/CARP-S/carps/analysis/generate_report.py:108: UserWarning:\n",
      "\n",
      "Result is not significant and results of the plot may be misleading!\n",
      "\n",
      "/home/daphne/Code/hpi_parego/CARP-S/carps/analysis/generate_report.py:108: UserWarning:\n",
      "\n",
      "Result is not significant and results of the plot may be misleading!\n",
      "\n"
     ]
    },
    {
     "name": "stdout",
     "output_type": "stream",
     "text": [
      "['False' 'constant' 'cs_proba_hpi' 'distribution']\n"
     ]
    },
    {
     "name": "stderr",
     "output_type": "stream",
     "text": [
      "/tmp/ipykernel_4800/1961929167.py:25: DeprecationWarning:\n",
      "\n",
      "DataFrameGroupBy.apply operated on the grouping columns. This behavior is deprecated, and in a future version of pandas the grouping columns will be excluded from the operation. Either pass `include_groups=False` to exclude the groupings or explicitly select the grouping columns after groupby to silence this warning.\n",
      "\n"
     ]
    },
    {
     "data": {
      "application/vnd.plotly.v1+json": {
       "config": {
        "plotlyServerURL": "https://plot.ly"
       },
       "data": [
        {
         "line": {
          "color": "rgb(228,26,28)",
          "width": 2
         },
         "mode": "lines",
         "name": "False",
         "type": "scatter",
         "x": {
          "bdata": "AAAAAAAAAAB7FK5H4XqUP3sUrkfheqQ/uB6F61G4rj97FK5H4Xq0P5qZmZmZmbk/uB6F61G4vj/sUbgehevBP3sUrkfhesQ/CtejcD0Kxz+amZmZmZnJPylcj8L1KMw/uB6F61G4zj+kcD0K16PQP+xRuB6F69E/MzMzMzMz0z97FK5H4XrUP8P1KFyPwtU/CtejcD0K1z9SuB6F61HYP5qZmZmZmdk/4XoUrkfh2j8pXI/C9SjcP3E9CtejcN0/uB6F61G43j8AAAAAAADgP6RwPQrXo+A/SOF6FK5H4T/sUbgehevhP4/C9Shcj+I/MzMzMzMz4z/Xo3A9CtfjP3sUrkfheuQ/H4XrUbge5T/D9Shcj8LlP2dmZmZmZuY/CtejcD0K5z+uR+F6FK7nP1K4HoXrUeg/9ihcj8L16D+amZmZmZnpPz4K16NwPeo/4XoUrkfh6j+F61G4HoXrPylcj8L1KOw/zczMzMzM7D9xPQrXo3DtPxWuR+F6FO4/uB6F61G47j9cj8L1KFzvPwAAAAAAAPA/",
          "dtype": "f8"
         },
         "xaxis": "x",
         "y": {
          "bdata": "1md9qggP4z/mENxozQXjP6jD7Hdgx+I/zropQLCl4j+LnV4q147iPyIqjW0HbuI/5v5CXuU64j+axFYyGOrhPzF0vxqEf+E/WCM7DE8D4T/wQsPENXjgP8YG5OkYnd8/1hQQMABr3j+QX0VxAindP5qGrBMG1ts/1Sv4+0KY2j8L7DbbsHHZP1WHOMrSXNg/waVXBWRY1z+YZA36kFbWP0yqBYkaVdU/FOn515J51D+PEGhV6KHTP4PnhTkC0NI/3i5PJUP+0T+rnJr+1irRP3fa7HLIltA/RPFW4EID0D8eGylODeHOP+IXA0J/ws0/EqVfkjiszD86QHc4TbXLPxYwE3o6vMo/BS5ZFDzDyT/23LjW4t3IPy1D2/JLEsg/nugbWRVDxz+BRYxptG/GPwPZlEuopcU/io08+1TqxD+63RyPCyzEP2d89/RmXsM/FV0FVsGIwj9+JkPI767BP5NfU23k4cA/rM/eDM8HwD9WEYRsF16+P+4XPUfZpLw/lhW/m8T3uj+MNgawkU25P7VSe8s2o7c/",
          "dtype": "f8"
         },
         "yaxis": "y"
        },
        {
         "fill": "toself",
         "fillcolor": "rgba(228,26,28,0.1)",
         "hoverinfo": "skip",
         "line": {
          "color": "rgba(255,255,255,0)"
         },
         "showlegend": false,
         "type": "scatter",
         "x": {
          "bdata": "AAAAAAAAAAB7FK5H4XqUP3sUrkfheqQ/uB6F61G4rj97FK5H4Xq0P5qZmZmZmbk/uB6F61G4vj/sUbgehevBP3sUrkfhesQ/CtejcD0Kxz+amZmZmZnJPylcj8L1KMw/uB6F61G4zj+kcD0K16PQP+xRuB6F69E/MzMzMzMz0z97FK5H4XrUP8P1KFyPwtU/CtejcD0K1z9SuB6F61HYP5qZmZmZmdk/4XoUrkfh2j8pXI/C9SjcP3E9CtejcN0/uB6F61G43j8AAAAAAADgP6RwPQrXo+A/SOF6FK5H4T/sUbgehevhP4/C9Shcj+I/MzMzMzMz4z/Xo3A9CtfjP3sUrkfheuQ/H4XrUbge5T/D9Shcj8LlP2dmZmZmZuY/CtejcD0K5z+uR+F6FK7nP1K4HoXrUeg/9ihcj8L16D+amZmZmZnpPz4K16NwPeo/4XoUrkfh6j+F61G4HoXrPylcj8L1KOw/zczMzMzM7D9xPQrXo3DtPxWuR+F6FO4/uB6F61G47j9cj8L1KFzvPwAAAAAAAPA/AAAAAAAA8D9cj8L1KFzvP7gehetRuO4/Fa5H4XoU7j9xPQrXo3DtP83MzMzMzOw/KVyPwvUo7D+F61G4HoXrP+F6FK5H4eo/PgrXo3A96j+amZmZmZnpP/YoXI/C9eg/UrgehetR6D+uR+F6FK7nPwrXo3A9Cuc/Z2ZmZmZm5j/D9Shcj8LlPx+F61G4HuU/exSuR+F65D/Xo3A9CtfjPzMzMzMzM+M/j8L1KFyP4j/sUbgehevhP0jhehSuR+E/pHA9Ctej4D8AAAAAAADgP7gehetRuN4/cT0K16Nw3T8pXI/C9SjcP+F6FK5H4do/mpmZmZmZ2T9SuB6F61HYPwrXo3A9Ctc/w/UoXI/C1T97FK5H4XrUPzMzMzMzM9M/7FG4HoXr0T+kcD0K16PQP7gehetRuM4/KVyPwvUozD+amZmZmZnJPwrXo3A9Csc/exSuR+F6xD/sUbgehevBP7gehetRuL4/mpmZmZmZuT97FK5H4Xq0P7gehetRuK4/exSuR+F6pD97FK5H4XqUPwAAAAAAAAAA",
          "dtype": "f8"
         },
         "xaxis": "x",
         "y": {
          "bdata": "wi+BtuzN4T/gsI+0S8bhP/u/4YG1h+E/o9UrCCtf4T/bzzjQRUPhP5x7YJE7H+E/YxZn1CDt4D/duoVlBJ7gP4Dwyo2SOeA/SiKwYG+L3z/mxioU1I7ePwgyUR/4Wt0/emkNpjBG3D+wwBvImSnbPxRw/AvVBdo/HzxEb2Hz2D8r7CKrlPPXP2cuLMjLAtc/JCfNBZsf1j/C1rI1PD3VPykRqFS9WNQ/lcrk/wGX0z+JuiwlDtjSPwJqFBk1HdI/TNNZH/xg0T+mjmndeqDQP3iVIcGDGtA/X48Czd8pzz/R8GhscR7OP2hr+JGvGc0/lO67ltsazD9gSLDdmDfLP0GnULSLT8o/hLJgSuZkyT+mj8SAfI7IP8DFIwIB08c/TzmqE+QNxz/Y4GrtID3GPxT34/J9bMU/W3LStaGlxD8EoVyHeNrDP1dp7vlz/sI/oCFBlOkbwj9IT/PBpjDBP4uh+xldVsA/8jiC6frevj+e36kPjg+9P9I61U9ZOrs/AShqhktmuT/PdmoO4pa3P/saWXEyx7U/b4qdJTt/uT9J9qFRQQS7PysDFLE9ibw/CvWkPlkPvj8OQ17JoKy/P9+C/KQgoMA/mx2rwGttwT+0/ZLOOC3CP4qYyReZ9cI/d48A8Fm+wz9wGt2Wnn3EP7mopkAIL8U/8rpFpNLexT8qqq3lR6LGP+2XjZ5GeMc/msCS45ZRyD9GKq0sSS3JP4apUd6RIco/67jVP+koyz8UOD6TATPMP5BbA46VPc0/XMQN8k5rzj9rRekvqaPPP9iaLNqVcdA/dh+4JA0T0T+wqssfM7XRP3CKRCuKm9I/BGX3Wc+C0z+VZqOFwmvUP5MHD7AjXNU/b0NjvXdR1j9u8me+5W/XP14k4gQtkdg/Q+BEzNm22T/r60oLze/aP4sbrIgkPdw/IJ1cGzem3T9w/m4aayjfPxlgCd3nR+A/wm072pzv4D9tInF/AanhP4s1HmjmQOI/4vezp3XF4j9Xzif/KzbjP2nnHuipiOM/qNi5SdO84z87a4SEaNrjP/mfJ3g17OM/Vcf3bQsH5D/scCgdT0XkP+qfeZ4kUOQ/",
          "dtype": "f8"
         },
         "yaxis": "y"
        },
        {
         "line": {
          "color": "rgb(55,126,184)",
          "width": 2
         },
         "mode": "lines",
         "name": "constant",
         "type": "scatter",
         "x": {
          "bdata": "AAAAAAAAAAB7FK5H4XqUP3sUrkfheqQ/uB6F61G4rj97FK5H4Xq0P5qZmZmZmbk/uB6F61G4vj/sUbgehevBP3sUrkfhesQ/CtejcD0Kxz+amZmZmZnJPylcj8L1KMw/uB6F61G4zj+kcD0K16PQP+xRuB6F69E/MzMzMzMz0z97FK5H4XrUP8P1KFyPwtU/CtejcD0K1z9SuB6F61HYP5qZmZmZmdk/4XoUrkfh2j8pXI/C9SjcP3E9CtejcN0/uB6F61G43j8AAAAAAADgP6RwPQrXo+A/SOF6FK5H4T/sUbgehevhP4/C9Shcj+I/MzMzMzMz4z/Xo3A9CtfjP3sUrkfheuQ/H4XrUbge5T/D9Shcj8LlP2dmZmZmZuY/CtejcD0K5z+uR+F6FK7nP1K4HoXrUeg/9ihcj8L16D+amZmZmZnpPz4K16NwPeo/4XoUrkfh6j+F61G4HoXrPylcj8L1KOw/zczMzMzM7D9xPQrXo3DtPxWuR+F6FO4/uB6F61G47j9cj8L1KFzvPwAAAAAAAPA/",
          "dtype": "f8"
         },
         "xaxis": "x",
         "y": {
          "bdata": "CpRDXQsO4z/FjHUIkeniPw3lfA2auuI/A3+GbEif4j/jF7eojYviP4fTzxNNYuI/E5djORMe4j9q+AqXIL/hP2r01aE0Q+E/v9idux624D+8CKllTRrgPw74WvZWyd4//g+2fwh+3T8uNSGv7yvcP81kv8rl0do/sjloVYCL2T9Li74X8lvYPy3LogIJQNc/cPgwmNo11j9fwqrowC7VP/YDMvAOLdQ/ClHmg9BU0z+bdCuqfIPSP8ClMJ1Gv9E/gJhCr9X80D9+OA1xgTnQP6DuHu/gVM8/S0PYZMc2zj/N+ynRHxnNP9uOUcHG/8s/I3Vo02Xuyj8jOTZyNPzJPwl9/ilnCsk/Ny7SGeUayD8jicVE0T7HPxyyS8rtfMY/FjDpspO8xT+6aQ7O+/3EPzTsM0AnRsQ/RgilSR6bwz9Wfop4Y+rCPwNTNAmDQsI/mSonPN6dwT/oAcoEXgDBP5LNZyxAXMA/bhfT0i12vz+QdWqaBy6+PxpaJG2H6bw/MmpCnEinuz+LbHpjF2a6P0IKck/HJLk/",
          "dtype": "f8"
         },
         "yaxis": "y"
        },
        {
         "fill": "toself",
         "fillcolor": "rgba(55,126,184,0.1)",
         "hoverinfo": "skip",
         "line": {
          "color": "rgba(255,255,255,0)"
         },
         "showlegend": false,
         "type": "scatter",
         "x": {
          "bdata": "AAAAAAAAAAB7FK5H4XqUP3sUrkfheqQ/uB6F61G4rj97FK5H4Xq0P5qZmZmZmbk/uB6F61G4vj/sUbgehevBP3sUrkfhesQ/CtejcD0Kxz+amZmZmZnJPylcj8L1KMw/uB6F61G4zj+kcD0K16PQP+xRuB6F69E/MzMzMzMz0z97FK5H4XrUP8P1KFyPwtU/CtejcD0K1z9SuB6F61HYP5qZmZmZmdk/4XoUrkfh2j8pXI/C9SjcP3E9CtejcN0/uB6F61G43j8AAAAAAADgP6RwPQrXo+A/SOF6FK5H4T/sUbgehevhP4/C9Shcj+I/MzMzMzMz4z/Xo3A9CtfjP3sUrkfheuQ/H4XrUbge5T/D9Shcj8LlP2dmZmZmZuY/CtejcD0K5z+uR+F6FK7nP1K4HoXrUeg/9ihcj8L16D+amZmZmZnpPz4K16NwPeo/4XoUrkfh6j+F61G4HoXrPylcj8L1KOw/zczMzMzM7D9xPQrXo3DtPxWuR+F6FO4/uB6F61G47j9cj8L1KFzvPwAAAAAAAPA/AAAAAAAA8D9cj8L1KFzvP7gehetRuO4/Fa5H4XoU7j9xPQrXo3DtP83MzMzMzOw/KVyPwvUo7D+F61G4HoXrP+F6FK5H4eo/PgrXo3A96j+amZmZmZnpP/YoXI/C9eg/UrgehetR6D+uR+F6FK7nPwrXo3A9Cuc/Z2ZmZmZm5j/D9Shcj8LlPx+F61G4HuU/exSuR+F65D/Xo3A9CtfjPzMzMzMzM+M/j8L1KFyP4j/sUbgehevhP0jhehSuR+E/pHA9Ctej4D8AAAAAAADgP7gehetRuN4/cT0K16Nw3T8pXI/C9SjcP+F6FK5H4do/mpmZmZmZ2T9SuB6F61HYPwrXo3A9Ctc/w/UoXI/C1T97FK5H4XrUPzMzMzMzM9M/7FG4HoXr0T+kcD0K16PQP7gehetRuM4/KVyPwvUozD+amZmZmZnJPwrXo3A9Csc/exSuR+F6xD/sUbgehevBP7gehetRuL4/mpmZmZmZuT97FK5H4Xq0P7gehetRuK4/exSuR+F6pD97FK5H4XqUPwAAAAAAAAAA",
          "dtype": "f8"
         },
         "xaxis": "x",
         "y": {
          "bdata": "MHvHXDzN4T+3sk9p1K3hP1nfBiSneeE/qgq5R/FX4T8gmTGe+0HhP9FPuYzZFOE/76GJCEPO4D+CipKsAXLgP4g8AKAK998/CKzfxNvr3j+f74SuC8jdP4wouMiNe9w/GgOeBg5O2z/0P+IpqR/aP/tr6R8k79g/YuS5r97Q1z9whpyVD8jWPwf1vUpD0tU/AUlZ7kru1D9IkeEbFQ3UP303pC6XL9M/L9eEMuly0j/Iu5b7srvRPyP42FBkENE/5aZgRGtm0D8zRbBa5HfPPyILKt1udc4/krxOmdFxzT+gT9nxGW3MP+o1QXWMass//DplyiBsyj/1qV17pJHJPzb7TRBsuMg/kseKl1Hexz+sJeXtpQLHP4+bBkKuNcY/0iXQSrhqxT/jJhFtyKHEP+sPuivD4sM/ZyvPJtsywz9uWq6aD37CP2X2AJRi08E/V9Cqrx0twT8RtLJooZDAP3pNP89L3r8/Bzjulf2dvj8M/AUa4le9P59RsAhBGbw/JfWkpgnZuj9voeVEnZm5P40oTFVgWbg/9+uXSS7wuT+nNw+CkTK7Pz/f35GHdbw/lWKY0c25vT8U784aLQS/P2v72wcvJ8A/Z/QvcVrJwD+/T+GgGnDBP9uEo8ieDsI/oa9nfqOxwj8+omZWt1bDPyXlemxhA8Q/fcitVIupxD+RrAsvL1rFP1o6AhtvDsY/qciQUi3Exj+a7KWb/HrHP9yUGZx4V8g/3P6uQ2JcyT9RyA5pxGbKP0qva9yqcMs/zOdhDQGVzD/6p3qwJcXNPwTKYTC9+84/D+mJgCka0D9jTsK0ELfQPxuKJBpAk9E/XVOI6Shu0j9uLcBYRkvTP+XKR9W3NtQ/b9C/sYYq1T9283O1bFDWP9+nCEJqfdc/U6GHus6t2D8mkOCZ1O/ZPwKPFvshRts/n12Vdae03D9oKmA0NjjeP+IczvgCrt8/yOP+EZCL4D+omQ/0lFDhP3rby5RP9uE/kMqr8+OK4j9SZoOBPwzjPzeMPWrjbeM/PVfmmsCv4z+mljyzH9XjP1zzU5Gf5uM/wery9oz74z/TZpunTSXkP+Ssv13aTuQ/",
          "dtype": "f8"
         },
         "yaxis": "y"
        },
        {
         "line": {
          "color": "rgb(77,175,74)",
          "width": 2
         },
         "mode": "lines",
         "name": "cs_proba_hpi",
         "type": "scatter",
         "x": {
          "bdata": "AAAAAAAAAAB7FK5H4XqUP3sUrkfheqQ/uB6F61G4rj97FK5H4Xq0P5qZmZmZmbk/uB6F61G4vj/sUbgehevBP3sUrkfhesQ/CtejcD0Kxz+amZmZmZnJPylcj8L1KMw/uB6F61G4zj+kcD0K16PQP+xRuB6F69E/MzMzMzMz0z97FK5H4XrUP8P1KFyPwtU/CtejcD0K1z9SuB6F61HYP5qZmZmZmdk/4XoUrkfh2j8pXI/C9SjcP3E9CtejcN0/uB6F61G43j8AAAAAAADgP6RwPQrXo+A/SOF6FK5H4T/sUbgehevhP4/C9Shcj+I/MzMzMzMz4z/Xo3A9CtfjP3sUrkfheuQ/H4XrUbge5T/D9Shcj8LlP2dmZmZmZuY/CtejcD0K5z+uR+F6FK7nP1K4HoXrUeg/9ihcj8L16D+amZmZmZnpPz4K16NwPeo/4XoUrkfh6j+F61G4HoXrPylcj8L1KOw/zczMzMzM7D9xPQrXo3DtPxWuR+F6FO4/uB6F61G47j9cj8L1KFzvPwAAAAAAAPA/",
          "dtype": "f8"
         },
         "xaxis": "x",
         "y": {
          "bdata": "Wzrem8YO4z+MS9Lh/+PiP8DpYmRQu+I/kFUO6mOl4j/EgrCgUZHiP383QKBGbuI/fnrp1Eg74j+PfFRfY+3hP5gXF9AuhOE/ur9BaesJ4T96ETYYV3/gP/PR4cRLrN8/QJqluM5x3j8KY3UPTSrdPwuOkNCc1ts/yrywxW2W2j/m7HP/PGvZPx3TvBQQTdg/jbwV0Kk61z/vhXG+2yvWP6E/XY6nHdU/Gs5ywhk81D/yaAuLHF/TP3CGdZrCjNI/aem06i270T+eM+6mt+jQP0YFT6FbVNA/O+uTQCKAzz8Stq0FdljOP/PzpQt+Ns0/njdS4OgdzD8VkFYuAyLLP+jOIP/1I8o/OmNT//8jyT92OndrRDrIP5ozJKqEacc/TdPzHZuUxj+8tjF39rzFP5I6+oh658Q/n4sKhq0ixD8qjV361F7DP86vc7lGlMI/zuwC5djIwT8SHA3ntPjAPzOnwES3KsA/wwReKUKqvj+giaUHHfy8P40FlczLVbs/Fp4eU6aouT/xv7BsgAG4P2bvJkpTWrY/",
          "dtype": "f8"
         },
         "yaxis": "y"
        },
        {
         "fill": "toself",
         "fillcolor": "rgba(77,175,74,0.1)",
         "hoverinfo": "skip",
         "line": {
          "color": "rgba(255,255,255,0)"
         },
         "showlegend": false,
         "type": "scatter",
         "x": {
          "bdata": "AAAAAAAAAAB7FK5H4XqUP3sUrkfheqQ/uB6F61G4rj97FK5H4Xq0P5qZmZmZmbk/uB6F61G4vj/sUbgehevBP3sUrkfhesQ/CtejcD0Kxz+amZmZmZnJPylcj8L1KMw/uB6F61G4zj+kcD0K16PQP+xRuB6F69E/MzMzMzMz0z97FK5H4XrUP8P1KFyPwtU/CtejcD0K1z9SuB6F61HYP5qZmZmZmdk/4XoUrkfh2j8pXI/C9SjcP3E9CtejcN0/uB6F61G43j8AAAAAAADgP6RwPQrXo+A/SOF6FK5H4T/sUbgehevhP4/C9Shcj+I/MzMzMzMz4z/Xo3A9CtfjP3sUrkfheuQ/H4XrUbge5T/D9Shcj8LlP2dmZmZmZuY/CtejcD0K5z+uR+F6FK7nP1K4HoXrUeg/9ihcj8L16D+amZmZmZnpPz4K16NwPeo/4XoUrkfh6j+F61G4HoXrPylcj8L1KOw/zczMzMzM7D9xPQrXo3DtPxWuR+F6FO4/uB6F61G47j9cj8L1KFzvPwAAAAAAAPA/AAAAAAAA8D9cj8L1KFzvP7gehetRuO4/Fa5H4XoU7j9xPQrXo3DtP83MzMzMzOw/KVyPwvUo7D+F61G4HoXrP+F6FK5H4eo/PgrXo3A96j+amZmZmZnpP/YoXI/C9eg/UrgehetR6D+uR+F6FK7nPwrXo3A9Cuc/Z2ZmZmZm5j/D9Shcj8LlPx+F61G4HuU/exSuR+F65D/Xo3A9CtfjPzMzMzMzM+M/j8L1KFyP4j/sUbgehevhP0jhehSuR+E/pHA9Ctej4D8AAAAAAADgP7gehetRuN4/cT0K16Nw3T8pXI/C9SjcP+F6FK5H4do/mpmZmZmZ2T9SuB6F61HYPwrXo3A9Ctc/w/UoXI/C1T97FK5H4XrUPzMzMzMzM9M/7FG4HoXr0T+kcD0K16PQP7gehetRuM4/KVyPwvUozD+amZmZmZnJPwrXo3A9Csc/exSuR+F6xD/sUbgehevBP7gehetRuL4/mpmZmZmZuT97FK5H4Xq0P7gehetRuK4/exSuR+F6pD97FK5H4XqUPwAAAAAAAAAA",
          "dtype": "f8"
         },
         "xaxis": "x",
         "y": {
          "bdata": "ji9eCsLN4T/Nsr8bGKXhP2j2F1dzeOE/wOY74Xhe4T/ENvKSOUbhPyl0kHjAHuE/UZ5DODjp4D/0/s2ZYZvgP6bFBVcXNOA/V1omNp183z+MiaSxW3feP3ZQWnljPt0/8baMvF4g3D8j037b3PzaP3o5L3BI09k/hw9zYtS62D+Fcnr+ibTXPyHWkUG+utY/55zdp8DM1T82xIa41+HUP/4MMEaJ9dM/+Br/oHsw0z8v8diRF2/SP9pRNav7uNE/s/Ep4hsD0T9JI4YpeEzQP+wtZWA/ks8/SSrlNVqLzj9PKWH4mITNP4qYaoeogsw/K/eEKOKIyz8B6ECAmqrKP8IlJI6pyMk/0vi8Wl7eyD8DDNUmMwLIPzYHXxxSPMc/No74Eplrxj/woNF81Y7FP7QcG03lsMQ/rKwAH0Xiwz+BvQdlUxbDP/90mL8dQ8I/5gVAIRxywT9vgwfNa5nAPzZSv9Aajr8/IBtA4SXcvT+jEGzTcyK8PzEpD8hbcLo/h5xiGjK2uD/FhQ7GywK3P8553JQtT7U//mRx/3hltz8d+lITNQC5P6Wf2osam7o/6eEa0Ts7vD+dAt87xtW9P2bue3FeeL8/S6UhIWGOwD+1tBIB/lfBP7bTxaiVH8I/nepOs2/lwj/TXLOPVqfDP5JqFO0VY8Q/cFjZxA8exT+IzJFxF+vFP2QY7yidvcY//l/pN7eWxz/paBmwVXLIP6LN6aOhack/DngdcEJ/yj8pOGzca5nLPxF4H5jvssw/XE/hj1PqzT/VQvoSUyzPPxdWoSV1OtA/lnNrkpff0D/zQ1Yk94TRPx/hP/M/c9I/Bru1iYlg0z+14D2EIU/UPzyB5uO3R9U/RHKK1sVF1j+oR1zE33XXPzPcTfiSqNg/GdDn52Hf2T9HZ20A8CHbPw1q7igHctw/nOLxMPHZ3T/x8mtDvVffP8g+X1qfYeA/uKk0CBoN4T8u3plXAMPhP0hScDeIVeI/imkoSUbU4j8q+tokZT/jP6tWj3FZjeM/1frvx8y94z/Ezm6uadzjP2DE4PJO7OM/GN2tcS3+4z9L5OSn5yLkPyhFXi3LT+Q/",
          "dtype": "f8"
         },
         "yaxis": "y"
        },
        {
         "line": {
          "color": "rgb(152,78,163)",
          "width": 2
         },
         "mode": "lines",
         "name": "distribution",
         "type": "scatter",
         "x": {
          "bdata": "AAAAAAAAAAB7FK5H4XqUP3sUrkfheqQ/uB6F61G4rj97FK5H4Xq0P5qZmZmZmbk/uB6F61G4vj/sUbgehevBP3sUrkfhesQ/CtejcD0Kxz+amZmZmZnJPylcj8L1KMw/uB6F61G4zj+kcD0K16PQP+xRuB6F69E/MzMzMzMz0z97FK5H4XrUP8P1KFyPwtU/CtejcD0K1z9SuB6F61HYP5qZmZmZmdk/4XoUrkfh2j8pXI/C9SjcP3E9CtejcN0/uB6F61G43j8AAAAAAADgP6RwPQrXo+A/SOF6FK5H4T/sUbgehevhP4/C9Shcj+I/MzMzMzMz4z/Xo3A9CtfjP3sUrkfheuQ/H4XrUbge5T/D9Shcj8LlP2dmZmZmZuY/CtejcD0K5z+uR+F6FK7nP1K4HoXrUeg/9ihcj8L16D+amZmZmZnpPz4K16NwPeo/4XoUrkfh6j+F61G4HoXrPylcj8L1KOw/zczMzMzM7D9xPQrXo3DtPxWuR+F6FO4/uB6F61G47j9cj8L1KFzvPwAAAAAAAPA/",
          "dtype": "f8"
         },
         "xaxis": "x",
         "y": {
          "bdata": "xhwehMkO4z/5MBMHjAPjP3TDvwzkw+I/RpRaUF+e4j+i9PqVr4jiP4L0A+E5auI/swxR6C874j8DoEA+Z/DhP+sxk+00ieE/sky0OcgP4T9+CXpblIbgP1VsqDLMud8/YjwLQSKB3j8mssxmUjzdP85AYi5s7Ns/A+Kvan+v2j+s4OVE2oXZP9iRt9skatg/CGTpWsxa1z/6PMYVlk7WP43hPvPiQdU/D6gVfjdk1D/0om2k+YrTP8B7lyFhutI/Jlfky7Xq0T8ICpGI1RjRPxOFU1VwhNA/hZfUo7bgzz84RW7n3LjOP7CKCMF2l80/SpVIzzuAzD+WbKZhQYXLP9NHReqbh8o/nen+yiOJyT+wrzMoqZzIPxunm3q4zcc/8yU+jcj9xj+C+Rfi/CvGP0YZcTDzXcU/HvNIQwKgxD8Nr1gsx9vDP+bAAsRIF8M/NDvKDQtQwj+mv0cDGYvBPxtOz31WxsA/uNzOSbj7vz9AwFNj0F++P32s8LMQxbw/U06oBQQruz9Ztt9lKZG5P/ZckoVM97c/",
          "dtype": "f8"
         },
         "yaxis": "y"
        },
        {
         "fill": "toself",
         "fillcolor": "rgba(152,78,163,0.1)",
         "hoverinfo": "skip",
         "line": {
          "color": "rgba(255,255,255,0)"
         },
         "showlegend": false,
         "type": "scatter",
         "x": {
          "bdata": "AAAAAAAAAAB7FK5H4XqUP3sUrkfheqQ/uB6F61G4rj97FK5H4Xq0P5qZmZmZmbk/uB6F61G4vj/sUbgehevBP3sUrkfhesQ/CtejcD0Kxz+amZmZmZnJPylcj8L1KMw/uB6F61G4zj+kcD0K16PQP+xRuB6F69E/MzMzMzMz0z97FK5H4XrUP8P1KFyPwtU/CtejcD0K1z9SuB6F61HYP5qZmZmZmdk/4XoUrkfh2j8pXI/C9SjcP3E9CtejcN0/uB6F61G43j8AAAAAAADgP6RwPQrXo+A/SOF6FK5H4T/sUbgehevhP4/C9Shcj+I/MzMzMzMz4z/Xo3A9CtfjP3sUrkfheuQ/H4XrUbge5T/D9Shcj8LlP2dmZmZmZuY/CtejcD0K5z+uR+F6FK7nP1K4HoXrUeg/9ihcj8L16D+amZmZmZnpPz4K16NwPeo/4XoUrkfh6j+F61G4HoXrPylcj8L1KOw/zczMzMzM7D9xPQrXo3DtPxWuR+F6FO4/uB6F61G47j9cj8L1KFzvPwAAAAAAAPA/AAAAAAAA8D9cj8L1KFzvP7gehetRuO4/Fa5H4XoU7j9xPQrXo3DtP83MzMzMzOw/KVyPwvUo7D+F61G4HoXrP+F6FK5H4eo/PgrXo3A96j+amZmZmZnpP/YoXI/C9eg/UrgehetR6D+uR+F6FK7nPwrXo3A9Cuc/Z2ZmZmZm5j/D9Shcj8LlPx+F61G4HuU/exSuR+F65D/Xo3A9CtfjPzMzMzMzM+M/j8L1KFyP4j/sUbgehevhP0jhehSuR+E/pHA9Ctej4D8AAAAAAADgP7gehetRuN4/cT0K16Nw3T8pXI/C9SjcP+F6FK5H4do/mpmZmZmZ2T9SuB6F61HYPwrXo3A9Ctc/w/UoXI/C1T97FK5H4XrUPzMzMzMzM9M/7FG4HoXr0T+kcD0K16PQP7gehetRuM4/KVyPwvUozD+amZmZmZnJPwrXo3A9Csc/exSuR+F6xD/sUbgehevBP7gehetRuL4/mpmZmZmZuT97FK5H4Xq0P7gehetRuK4/exSuR+F6pD97FK5H4XqUPwAAAAAAAAAA",
          "dtype": "f8"
         },
         "xaxis": "x",
         "y": {
          "bdata": "FheG6enN4T+sG4p5JcXhPzX2vn/+guE/19pyoAlW4T9nCBChJjzhPzeoWSOJG+E/wDYLc+Hr4D/L0A6ljaPgP+/G3g8LQeA/iKC0PHac3z8I2Mk/y5zePxB14WP9Zt0/oEqXXm9L3D9KLXefYSnbP/me2yGhAdo/uoqY2cjq2D9YJr8YX+TXP+Fjrjq669Y/qiBKn7T/1T+3rxEpVhbVP+VfkpjoKtQ/p84BpQxp0z+4q/aiQarSPzpiUtY989E/fhOfwjQ80T9l3qhcy4LQP0siAe9d/M8/VW5OwJrzzj+RQiwPKOvNP+hardR/6cw/1/qwy17wyz/q8RhbbxDLP33XAVSkK8o/RshHwENCyT+gdSW0IWnIP3G+h6hDqcc/kR3AC/rexj8O+HBGIgbGP/QiC1ukK8U/WfW9gYtkxD99Tp1fT5jDP88PiNbZzMI/WlGlEDwAwj9/D/9nNTbBP/zjeiojbsA/QGY7vQlGvz9ExMNLl6K9P54pyNjjALw/njq8RLRduj9u97Px1bq4P560OWjaF7c/TgXror7WuD9EdQvafGe6PwhilMZT+Ls/XC8Zjz2JvT88vON6CR2/P5gpMWuzWMA/Orgj0YkewT/Nb5Ce/N/BPw4l7wran8I//XF9sbdhwz+dDxT5Ph/EP+Pw0wR528Q/mA/XBUKQxT/2+r5911HGP1UuvA6XHMc/xY+vTC3yxz/A6UGcMNDIP/QKttUD0Mk/KbiIgJPjyj9C5zNoE/rLP70v4NIYEM0/eLpjrW1Fzj/fR7C/kYbPP1pgrUPpZtA/AHkms7EK0T+rNXm0367RP86aKdU2mdI/RpXcbISB0z8wmuSlsWvUP3eBKVdiX9U/NWPrTd1Y1j89ynoC1obXP2aniBbktdg/z7/AfI/o2T8AmwxxVSfbP0w5x/s1dNw/o+LoOjfX3T8CNyIuQ0/fPxKXv5FqW+A/zbG3gE0G4T/4Jg8Xw77hPyBJDlVVUeI/55xHy17R4j87b3LXQD3jP6bill1+iuM/zUCunuq44z/d4OWKONXjP7VNQgC15uM/s5DAmckE5D9GRpyU8kHkP3Yith6pT+Q/",
          "dtype": "f8"
         },
         "yaxis": "y"
        },
        {
         "error_x": {
          "array": {
           "bdata": "SyN/WuP1lD9cX0ooLTiTP3X+O8S1/5M/F0xUB0wpnj8=",
           "dtype": "f8"
          },
          "type": "data"
         },
         "marker": {
          "color": "skyblue",
          "line": {
           "color": "black",
           "width": 1
          }
         },
         "orientation": "h",
         "showlegend": false,
         "type": "bar",
         "x": {
          "bdata": "A9nWVGpV1T9vAC6yjCvVP2HdXT6EdNQ/ZSCC04e/0z8=",
          "dtype": "f8"
         },
         "xaxis": "x2",
         "y": [
          "distribution",
          "cs_proba_hpi",
          "constant",
          "False"
         ],
         "yaxis": "y2"
        }
       ],
       "layout": {
        "font": {
         "size": 16
        },
        "height": 400,
        "legend": {
         "font": {
          "size": 16
         },
         "title": {
          "text": "Optimizers"
         }
        },
        "margin": {
         "b": 50,
         "l": 50,
         "r": 50,
         "t": 60
        },
        "template": {
         "data": {
          "bar": [
           {
            "error_x": {
             "color": "#2a3f5f"
            },
            "error_y": {
             "color": "#2a3f5f"
            },
            "marker": {
             "line": {
              "color": "white",
              "width": 0.5
             },
             "pattern": {
              "fillmode": "overlay",
              "size": 10,
              "solidity": 0.2
             }
            },
            "type": "bar"
           }
          ],
          "barpolar": [
           {
            "marker": {
             "line": {
              "color": "white",
              "width": 0.5
             },
             "pattern": {
              "fillmode": "overlay",
              "size": 10,
              "solidity": 0.2
             }
            },
            "type": "barpolar"
           }
          ],
          "carpet": [
           {
            "aaxis": {
             "endlinecolor": "#2a3f5f",
             "gridcolor": "#C8D4E3",
             "linecolor": "#C8D4E3",
             "minorgridcolor": "#C8D4E3",
             "startlinecolor": "#2a3f5f"
            },
            "baxis": {
             "endlinecolor": "#2a3f5f",
             "gridcolor": "#C8D4E3",
             "linecolor": "#C8D4E3",
             "minorgridcolor": "#C8D4E3",
             "startlinecolor": "#2a3f5f"
            },
            "type": "carpet"
           }
          ],
          "choropleth": [
           {
            "colorbar": {
             "outlinewidth": 0,
             "ticks": ""
            },
            "type": "choropleth"
           }
          ],
          "contour": [
           {
            "colorbar": {
             "outlinewidth": 0,
             "ticks": ""
            },
            "colorscale": [
             [
              0,
              "#0d0887"
             ],
             [
              0.1111111111111111,
              "#46039f"
             ],
             [
              0.2222222222222222,
              "#7201a8"
             ],
             [
              0.3333333333333333,
              "#9c179e"
             ],
             [
              0.4444444444444444,
              "#bd3786"
             ],
             [
              0.5555555555555556,
              "#d8576b"
             ],
             [
              0.6666666666666666,
              "#ed7953"
             ],
             [
              0.7777777777777778,
              "#fb9f3a"
             ],
             [
              0.8888888888888888,
              "#fdca26"
             ],
             [
              1,
              "#f0f921"
             ]
            ],
            "type": "contour"
           }
          ],
          "contourcarpet": [
           {
            "colorbar": {
             "outlinewidth": 0,
             "ticks": ""
            },
            "type": "contourcarpet"
           }
          ],
          "heatmap": [
           {
            "colorbar": {
             "outlinewidth": 0,
             "ticks": ""
            },
            "colorscale": [
             [
              0,
              "#0d0887"
             ],
             [
              0.1111111111111111,
              "#46039f"
             ],
             [
              0.2222222222222222,
              "#7201a8"
             ],
             [
              0.3333333333333333,
              "#9c179e"
             ],
             [
              0.4444444444444444,
              "#bd3786"
             ],
             [
              0.5555555555555556,
              "#d8576b"
             ],
             [
              0.6666666666666666,
              "#ed7953"
             ],
             [
              0.7777777777777778,
              "#fb9f3a"
             ],
             [
              0.8888888888888888,
              "#fdca26"
             ],
             [
              1,
              "#f0f921"
             ]
            ],
            "type": "heatmap"
           }
          ],
          "histogram": [
           {
            "marker": {
             "pattern": {
              "fillmode": "overlay",
              "size": 10,
              "solidity": 0.2
             }
            },
            "type": "histogram"
           }
          ],
          "histogram2d": [
           {
            "colorbar": {
             "outlinewidth": 0,
             "ticks": ""
            },
            "colorscale": [
             [
              0,
              "#0d0887"
             ],
             [
              0.1111111111111111,
              "#46039f"
             ],
             [
              0.2222222222222222,
              "#7201a8"
             ],
             [
              0.3333333333333333,
              "#9c179e"
             ],
             [
              0.4444444444444444,
              "#bd3786"
             ],
             [
              0.5555555555555556,
              "#d8576b"
             ],
             [
              0.6666666666666666,
              "#ed7953"
             ],
             [
              0.7777777777777778,
              "#fb9f3a"
             ],
             [
              0.8888888888888888,
              "#fdca26"
             ],
             [
              1,
              "#f0f921"
             ]
            ],
            "type": "histogram2d"
           }
          ],
          "histogram2dcontour": [
           {
            "colorbar": {
             "outlinewidth": 0,
             "ticks": ""
            },
            "colorscale": [
             [
              0,
              "#0d0887"
             ],
             [
              0.1111111111111111,
              "#46039f"
             ],
             [
              0.2222222222222222,
              "#7201a8"
             ],
             [
              0.3333333333333333,
              "#9c179e"
             ],
             [
              0.4444444444444444,
              "#bd3786"
             ],
             [
              0.5555555555555556,
              "#d8576b"
             ],
             [
              0.6666666666666666,
              "#ed7953"
             ],
             [
              0.7777777777777778,
              "#fb9f3a"
             ],
             [
              0.8888888888888888,
              "#fdca26"
             ],
             [
              1,
              "#f0f921"
             ]
            ],
            "type": "histogram2dcontour"
           }
          ],
          "mesh3d": [
           {
            "colorbar": {
             "outlinewidth": 0,
             "ticks": ""
            },
            "type": "mesh3d"
           }
          ],
          "parcoords": [
           {
            "line": {
             "colorbar": {
              "outlinewidth": 0,
              "ticks": ""
             }
            },
            "type": "parcoords"
           }
          ],
          "pie": [
           {
            "automargin": true,
            "type": "pie"
           }
          ],
          "scatter": [
           {
            "fillpattern": {
             "fillmode": "overlay",
             "size": 10,
             "solidity": 0.2
            },
            "type": "scatter"
           }
          ],
          "scatter3d": [
           {
            "line": {
             "colorbar": {
              "outlinewidth": 0,
              "ticks": ""
             }
            },
            "marker": {
             "colorbar": {
              "outlinewidth": 0,
              "ticks": ""
             }
            },
            "type": "scatter3d"
           }
          ],
          "scattercarpet": [
           {
            "marker": {
             "colorbar": {
              "outlinewidth": 0,
              "ticks": ""
             }
            },
            "type": "scattercarpet"
           }
          ],
          "scattergeo": [
           {
            "marker": {
             "colorbar": {
              "outlinewidth": 0,
              "ticks": ""
             }
            },
            "type": "scattergeo"
           }
          ],
          "scattergl": [
           {
            "marker": {
             "colorbar": {
              "outlinewidth": 0,
              "ticks": ""
             }
            },
            "type": "scattergl"
           }
          ],
          "scattermap": [
           {
            "marker": {
             "colorbar": {
              "outlinewidth": 0,
              "ticks": ""
             }
            },
            "type": "scattermap"
           }
          ],
          "scattermapbox": [
           {
            "marker": {
             "colorbar": {
              "outlinewidth": 0,
              "ticks": ""
             }
            },
            "type": "scattermapbox"
           }
          ],
          "scatterpolar": [
           {
            "marker": {
             "colorbar": {
              "outlinewidth": 0,
              "ticks": ""
             }
            },
            "type": "scatterpolar"
           }
          ],
          "scatterpolargl": [
           {
            "marker": {
             "colorbar": {
              "outlinewidth": 0,
              "ticks": ""
             }
            },
            "type": "scatterpolargl"
           }
          ],
          "scatterternary": [
           {
            "marker": {
             "colorbar": {
              "outlinewidth": 0,
              "ticks": ""
             }
            },
            "type": "scatterternary"
           }
          ],
          "surface": [
           {
            "colorbar": {
             "outlinewidth": 0,
             "ticks": ""
            },
            "colorscale": [
             [
              0,
              "#0d0887"
             ],
             [
              0.1111111111111111,
              "#46039f"
             ],
             [
              0.2222222222222222,
              "#7201a8"
             ],
             [
              0.3333333333333333,
              "#9c179e"
             ],
             [
              0.4444444444444444,
              "#bd3786"
             ],
             [
              0.5555555555555556,
              "#d8576b"
             ],
             [
              0.6666666666666666,
              "#ed7953"
             ],
             [
              0.7777777777777778,
              "#fb9f3a"
             ],
             [
              0.8888888888888888,
              "#fdca26"
             ],
             [
              1,
              "#f0f921"
             ]
            ],
            "type": "surface"
           }
          ],
          "table": [
           {
            "cells": {
             "fill": {
              "color": "#EBF0F8"
             },
             "line": {
              "color": "white"
             }
            },
            "header": {
             "fill": {
              "color": "#C8D4E3"
             },
             "line": {
              "color": "white"
             }
            },
            "type": "table"
           }
          ]
         },
         "layout": {
          "annotationdefaults": {
           "arrowcolor": "#2a3f5f",
           "arrowhead": 0,
           "arrowwidth": 1
          },
          "autotypenumbers": "strict",
          "coloraxis": {
           "colorbar": {
            "outlinewidth": 0,
            "ticks": ""
           }
          },
          "colorscale": {
           "diverging": [
            [
             0,
             "#8e0152"
            ],
            [
             0.1,
             "#c51b7d"
            ],
            [
             0.2,
             "#de77ae"
            ],
            [
             0.3,
             "#f1b6da"
            ],
            [
             0.4,
             "#fde0ef"
            ],
            [
             0.5,
             "#f7f7f7"
            ],
            [
             0.6,
             "#e6f5d0"
            ],
            [
             0.7,
             "#b8e186"
            ],
            [
             0.8,
             "#7fbc41"
            ],
            [
             0.9,
             "#4d9221"
            ],
            [
             1,
             "#276419"
            ]
           ],
           "sequential": [
            [
             0,
             "#0d0887"
            ],
            [
             0.1111111111111111,
             "#46039f"
            ],
            [
             0.2222222222222222,
             "#7201a8"
            ],
            [
             0.3333333333333333,
             "#9c179e"
            ],
            [
             0.4444444444444444,
             "#bd3786"
            ],
            [
             0.5555555555555556,
             "#d8576b"
            ],
            [
             0.6666666666666666,
             "#ed7953"
            ],
            [
             0.7777777777777778,
             "#fb9f3a"
            ],
            [
             0.8888888888888888,
             "#fdca26"
            ],
            [
             1,
             "#f0f921"
            ]
           ],
           "sequentialminus": [
            [
             0,
             "#0d0887"
            ],
            [
             0.1111111111111111,
             "#46039f"
            ],
            [
             0.2222222222222222,
             "#7201a8"
            ],
            [
             0.3333333333333333,
             "#9c179e"
            ],
            [
             0.4444444444444444,
             "#bd3786"
            ],
            [
             0.5555555555555556,
             "#d8576b"
            ],
            [
             0.6666666666666666,
             "#ed7953"
            ],
            [
             0.7777777777777778,
             "#fb9f3a"
            ],
            [
             0.8888888888888888,
             "#fdca26"
            ],
            [
             1,
             "#f0f921"
            ]
           ]
          },
          "colorway": [
           "#636efa",
           "#EF553B",
           "#00cc96",
           "#ab63fa",
           "#FFA15A",
           "#19d3f3",
           "#FF6692",
           "#B6E880",
           "#FF97FF",
           "#FECB52"
          ],
          "font": {
           "color": "#2a3f5f"
          },
          "geo": {
           "bgcolor": "white",
           "lakecolor": "white",
           "landcolor": "white",
           "showlakes": true,
           "showland": true,
           "subunitcolor": "#C8D4E3"
          },
          "hoverlabel": {
           "align": "left"
          },
          "hovermode": "closest",
          "mapbox": {
           "style": "light"
          },
          "paper_bgcolor": "white",
          "plot_bgcolor": "white",
          "polar": {
           "angularaxis": {
            "gridcolor": "#EBF0F8",
            "linecolor": "#EBF0F8",
            "ticks": ""
           },
           "bgcolor": "white",
           "radialaxis": {
            "gridcolor": "#EBF0F8",
            "linecolor": "#EBF0F8",
            "ticks": ""
           }
          },
          "scene": {
           "xaxis": {
            "backgroundcolor": "white",
            "gridcolor": "#DFE8F3",
            "gridwidth": 2,
            "linecolor": "#EBF0F8",
            "showbackground": true,
            "ticks": "",
            "zerolinecolor": "#EBF0F8"
           },
           "yaxis": {
            "backgroundcolor": "white",
            "gridcolor": "#DFE8F3",
            "gridwidth": 2,
            "linecolor": "#EBF0F8",
            "showbackground": true,
            "ticks": "",
            "zerolinecolor": "#EBF0F8"
           },
           "zaxis": {
            "backgroundcolor": "white",
            "gridcolor": "#DFE8F3",
            "gridwidth": 2,
            "linecolor": "#EBF0F8",
            "showbackground": true,
            "ticks": "",
            "zerolinecolor": "#EBF0F8"
           }
          },
          "shapedefaults": {
           "line": {
            "color": "#2a3f5f"
           }
          },
          "ternary": {
           "aaxis": {
            "gridcolor": "#DFE8F3",
            "linecolor": "#A2B1C6",
            "ticks": ""
           },
           "baxis": {
            "gridcolor": "#DFE8F3",
            "linecolor": "#A2B1C6",
            "ticks": ""
           },
           "bgcolor": "white",
           "caxis": {
            "gridcolor": "#DFE8F3",
            "linecolor": "#A2B1C6",
            "ticks": ""
           }
          },
          "title": {
           "x": 0.05
          },
          "xaxis": {
           "automargin": true,
           "gridcolor": "#EBF0F8",
           "linecolor": "#EBF0F8",
           "ticks": "",
           "title": {
            "standoff": 15
           },
           "zerolinecolor": "#EBF0F8",
           "zerolinewidth": 2
          },
          "yaxis": {
           "automargin": true,
           "gridcolor": "#EBF0F8",
           "linecolor": "#EBF0F8",
           "ticks": "",
           "title": {
            "standoff": 15
           },
           "zerolinecolor": "#EBF0F8",
           "zerolinewidth": 2
          }
         }
        },
        "width": 1200,
        "xaxis": {
         "anchor": "y",
         "domain": [
          0,
          0.51
         ],
         "title": {
          "text": "Normalized Trials"
         }
        },
        "xaxis2": {
         "anchor": "y2",
         "domain": [
          0.66,
          1
         ],
         "title": {
          "text": "AUC"
         }
        },
        "yaxis": {
         "anchor": "x",
         "domain": [
          0,
          1
         ],
         "title": {
          "text": "Normalized Inc-Performance"
         }
        },
        "yaxis2": {
         "anchor": "x2",
         "domain": [
          0,
          1
         ],
         "title": {
          "text": "Optimizer"
         }
        }
       }
      }
     },
     "metadata": {},
     "output_type": "display_data"
    }
   ],
   "source": [
    "plot_one_thing('adjust_cs')"
   ]
  },
  {
   "cell_type": "code",
   "execution_count": 72,
   "id": "4e845a7f",
   "metadata": {},
   "outputs": [
    {
     "name": "stderr",
     "output_type": "stream",
     "text": [
      "/home/daphne/Code/hpi_parego/CARP-S/carps/analysis/generate_report.py:276: UserWarning:\n",
      "\n",
      "Result is not significant and results of the plot may be misleading!\n",
      "\n",
      "/home/daphne/Code/hpi_parego/CARP-S/carps/analysis/run_autorank.py:322: FutureWarning:\n",
      "\n",
      "Series.__getitem__ treating keys as positions is deprecated. In a future version, integer keys will always be treated as labels (consistent with DataFrame behavior). To access a value by position, use `ser.iloc[pos]`\n",
      "\n",
      "/home/daphne/Code/hpi_parego/CARP-S/carps/analysis/run_autorank.py:421: UserWarning:\n",
      "\n",
      "FigureCanvasAgg is non-interactive, and thus cannot be shown\n",
      "\n",
      "/home/daphne/Code/hpi_parego/CARP-S/carps/analysis/run_autorank.py:198: UserWarning:\n",
      "\n",
      "Result is not significant and results of the plot may be misleading!\n",
      "\n"
     ]
    },
    {
     "data": {
      "text/html": [
       "<pre style=\"white-space:pre;overflow-x:auto;line-height:normal;font-family:Menlo,'DejaVu Sans Mono',consolas,'Courier New',monospace\"><span style=\"color: #7fbfbf; text-decoration-color: #7fbfbf\">[10:20:55] </span><span style=\"color: #000080; text-decoration-color: #000080\">INFO    </span> Create dataframe for neat plotting by aligning x-axis <span style=\"color: #800080; text-decoration-color: #800080\">/</span> interpolating        <a href=\"file:///home/daphne/Code/hpi_parego/CARP-S/carps/analysis/gather_data.py\" target=\"_blank\"><span style=\"color: #7f7f7f; text-decoration-color: #7f7f7f\">gather_data.py</span></a><span style=\"color: #7f7f7f; text-decoration-color: #7f7f7f\">:</span><a href=\"file:///home/daphne/Code/hpi_parego/CARP-S/carps/analysis/gather_data.py#725\" target=\"_blank\"><span style=\"color: #7f7f7f; text-decoration-color: #7f7f7f\">725</span></a>\n",
       "<span style=\"color: #7fbfbf; text-decoration-color: #7fbfbf\">           </span>         budget.                                                                      <span style=\"color: #7f7f7f; text-decoration-color: #7f7f7f\">                  </span>\n",
       "</pre>\n"
      ],
      "text/plain": [
       "\u001b[2;36m[10:20:55]\u001b[0m\u001b[2;36m \u001b[0m\u001b[34mINFO    \u001b[0m Create dataframe for neat plotting by aligning x-axis \u001b[35m/\u001b[0m interpolating        \u001b]8;id=548492;file:///home/daphne/Code/hpi_parego/CARP-S/carps/analysis/gather_data.py\u001b\\\u001b[2mgather_data.py\u001b[0m\u001b]8;;\u001b\\\u001b[2m:\u001b[0m\u001b]8;id=107804;file:///home/daphne/Code/hpi_parego/CARP-S/carps/analysis/gather_data.py#725\u001b\\\u001b[2m725\u001b[0m\u001b]8;;\u001b\\\n",
       "\u001b[2;36m           \u001b[0m         budget.                                                                      \u001b[2m                  \u001b[0m\n"
      ]
     },
     "metadata": {},
     "output_type": "display_data"
    },
    {
     "name": "stderr",
     "output_type": "stream",
     "text": [
      "/home/daphne/Code/hpi_parego/CARP-S/carps/analysis/generate_report.py:108: UserWarning:\n",
      "\n",
      "Result is not significant and results of the plot may be misleading!\n",
      "\n",
      "/home/daphne/Code/hpi_parego/CARP-S/carps/analysis/generate_report.py:108: UserWarning:\n",
      "\n",
      "Result is not significant and results of the plot may be misleading!\n",
      "\n",
      "/home/daphne/Code/hpi_parego/CARP-S/carps/analysis/generate_report.py:108: UserWarning:\n",
      "\n",
      "Result is not significant and results of the plot may be misleading!\n",
      "\n",
      "/home/daphne/Code/hpi_parego/CARP-S/carps/analysis/generate_report.py:108: UserWarning:\n",
      "\n",
      "Result is not significant and results of the plot may be misleading!\n",
      "\n",
      "/home/daphne/Code/hpi_parego/CARP-S/carps/analysis/generate_report.py:108: UserWarning:\n",
      "\n",
      "Result is not significant and results of the plot may be misleading!\n",
      "\n",
      "/home/daphne/Code/hpi_parego/CARP-S/carps/analysis/generate_report.py:108: UserWarning:\n",
      "\n",
      "Result is not significant and results of the plot may be misleading!\n",
      "\n",
      "/home/daphne/Code/hpi_parego/CARP-S/carps/analysis/generate_report.py:108: UserWarning:\n",
      "\n",
      "Result is not significant and results of the plot may be misleading!\n",
      "\n",
      "/home/daphne/Code/hpi_parego/CARP-S/carps/analysis/generate_report.py:108: UserWarning:\n",
      "\n",
      "Result is not significant and results of the plot may be misleading!\n",
      "\n",
      "/home/daphne/Code/hpi_parego/CARP-S/carps/analysis/generate_report.py:108: UserWarning:\n",
      "\n",
      "Result is not significant and results of the plot may be misleading!\n",
      "\n",
      "/home/daphne/Code/hpi_parego/CARP-S/carps/analysis/generate_report.py:108: UserWarning:\n",
      "\n",
      "Result is not significant and results of the plot may be misleading!\n",
      "\n",
      "/home/daphne/Code/hpi_parego/CARP-S/carps/analysis/generate_report.py:108: UserWarning:\n",
      "\n",
      "Result is not significant and results of the plot may be misleading!\n",
      "\n",
      "/home/daphne/Code/hpi_parego/CARP-S/carps/analysis/generate_report.py:108: UserWarning:\n",
      "\n",
      "Result is not significant and results of the plot may be misleading!\n",
      "\n",
      "/home/daphne/Code/hpi_parego/CARP-S/carps/analysis/generate_report.py:108: UserWarning:\n",
      "\n",
      "Result is not significant and results of the plot may be misleading!\n",
      "\n",
      "/home/daphne/Code/hpi_parego/CARP-S/carps/analysis/generate_report.py:108: UserWarning:\n",
      "\n",
      "Result is not significant and results of the plot may be misleading!\n",
      "\n",
      "/home/daphne/Code/hpi_parego/CARP-S/carps/analysis/generate_report.py:108: UserWarning:\n",
      "\n",
      "Result is not significant and results of the plot may be misleading!\n",
      "\n",
      "/home/daphne/Code/hpi_parego/CARP-S/carps/analysis/generate_report.py:108: UserWarning:\n",
      "\n",
      "Result is not significant and results of the plot may be misleading!\n",
      "\n",
      "/home/daphne/Code/hpi_parego/CARP-S/carps/analysis/generate_report.py:108: UserWarning:\n",
      "\n",
      "Result is not significant and results of the plot may be misleading!\n",
      "\n"
     ]
    },
    {
     "name": "stdout",
     "output_type": "stream",
     "text": [
      "['False' 'default' 'incumbent' 'random']\n"
     ]
    },
    {
     "name": "stderr",
     "output_type": "stream",
     "text": [
      "/tmp/ipykernel_4800/1961929167.py:25: DeprecationWarning:\n",
      "\n",
      "DataFrameGroupBy.apply operated on the grouping columns. This behavior is deprecated, and in a future version of pandas the grouping columns will be excluded from the operation. Either pass `include_groups=False` to exclude the groupings or explicitly select the grouping columns after groupby to silence this warning.\n",
      "\n"
     ]
    },
    {
     "data": {
      "application/vnd.plotly.v1+json": {
       "config": {
        "plotlyServerURL": "https://plot.ly"
       },
       "data": [
        {
         "line": {
          "color": "rgb(228,26,28)",
          "width": 2
         },
         "mode": "lines",
         "name": "False",
         "type": "scatter",
         "x": {
          "bdata": "AAAAAAAAAAB7FK5H4XqUP3sUrkfheqQ/uB6F61G4rj97FK5H4Xq0P5qZmZmZmbk/uB6F61G4vj/sUbgehevBP3sUrkfhesQ/CtejcD0Kxz+amZmZmZnJPylcj8L1KMw/uB6F61G4zj+kcD0K16PQP+xRuB6F69E/MzMzMzMz0z97FK5H4XrUP8P1KFyPwtU/CtejcD0K1z9SuB6F61HYP5qZmZmZmdk/4XoUrkfh2j8pXI/C9SjcP3E9CtejcN0/uB6F61G43j8AAAAAAADgP6RwPQrXo+A/SOF6FK5H4T/sUbgehevhP4/C9Shcj+I/MzMzMzMz4z/Xo3A9CtfjP3sUrkfheuQ/H4XrUbge5T/D9Shcj8LlP2dmZmZmZuY/CtejcD0K5z+uR+F6FK7nP1K4HoXrUeg/9ihcj8L16D+amZmZmZnpPz4K16NwPeo/4XoUrkfh6j+F61G4HoXrPylcj8L1KOw/zczMzMzM7D9xPQrXo3DtPxWuR+F6FO4/uB6F61G47j9cj8L1KFzvPwAAAAAAAPA/",
          "dtype": "f8"
         },
         "xaxis": "x",
         "y": {
          "bdata": "1md9qggP4z/mENxozQXjP6jD7Hdgx+I/zropQLCl4j+LnV4q147iPyIqjW0HbuI/5v5CXuU64j+axFYyGOrhPzF0vxqEf+E/WCM7DE8D4T/wQsPENXjgP8YG5OkYnd8/1hQQMABr3j+QX0VxAindP5qGrBMG1ts/1Sv4+0KY2j8L7DbbsHHZP1WHOMrSXNg/waVXBWRY1z+YZA36kFbWP0yqBYkaVdU/FOn515J51D+PEGhV6KHTP4PnhTkC0NI/3i5PJUP+0T+rnJr+1irRP3fa7HLIltA/RPFW4EID0D8eGylODeHOP+IXA0J/ws0/EqVfkjiszD86QHc4TbXLPxYwE3o6vMo/BS5ZFDzDyT/23LjW4t3IPy1D2/JLEsg/nugbWRVDxz+BRYxptG/GPwPZlEuopcU/io08+1TqxD+63RyPCyzEP2d89/RmXsM/FV0FVsGIwj9+JkPI767BP5NfU23k4cA/rM/eDM8HwD9WEYRsF16+P+4XPUfZpLw/lhW/m8T3uj+MNgawkU25P7VSe8s2o7c/",
          "dtype": "f8"
         },
         "yaxis": "y"
        },
        {
         "fill": "toself",
         "fillcolor": "rgba(228,26,28,0.1)",
         "hoverinfo": "skip",
         "line": {
          "color": "rgba(255,255,255,0)"
         },
         "showlegend": false,
         "type": "scatter",
         "x": {
          "bdata": "AAAAAAAAAAB7FK5H4XqUP3sUrkfheqQ/uB6F61G4rj97FK5H4Xq0P5qZmZmZmbk/uB6F61G4vj/sUbgehevBP3sUrkfhesQ/CtejcD0Kxz+amZmZmZnJPylcj8L1KMw/uB6F61G4zj+kcD0K16PQP+xRuB6F69E/MzMzMzMz0z97FK5H4XrUP8P1KFyPwtU/CtejcD0K1z9SuB6F61HYP5qZmZmZmdk/4XoUrkfh2j8pXI/C9SjcP3E9CtejcN0/uB6F61G43j8AAAAAAADgP6RwPQrXo+A/SOF6FK5H4T/sUbgehevhP4/C9Shcj+I/MzMzMzMz4z/Xo3A9CtfjP3sUrkfheuQ/H4XrUbge5T/D9Shcj8LlP2dmZmZmZuY/CtejcD0K5z+uR+F6FK7nP1K4HoXrUeg/9ihcj8L16D+amZmZmZnpPz4K16NwPeo/4XoUrkfh6j+F61G4HoXrPylcj8L1KOw/zczMzMzM7D9xPQrXo3DtPxWuR+F6FO4/uB6F61G47j9cj8L1KFzvPwAAAAAAAPA/AAAAAAAA8D9cj8L1KFzvP7gehetRuO4/Fa5H4XoU7j9xPQrXo3DtP83MzMzMzOw/KVyPwvUo7D+F61G4HoXrP+F6FK5H4eo/PgrXo3A96j+amZmZmZnpP/YoXI/C9eg/UrgehetR6D+uR+F6FK7nPwrXo3A9Cuc/Z2ZmZmZm5j/D9Shcj8LlPx+F61G4HuU/exSuR+F65D/Xo3A9CtfjPzMzMzMzM+M/j8L1KFyP4j/sUbgehevhP0jhehSuR+E/pHA9Ctej4D8AAAAAAADgP7gehetRuN4/cT0K16Nw3T8pXI/C9SjcP+F6FK5H4do/mpmZmZmZ2T9SuB6F61HYPwrXo3A9Ctc/w/UoXI/C1T97FK5H4XrUPzMzMzMzM9M/7FG4HoXr0T+kcD0K16PQP7gehetRuM4/KVyPwvUozD+amZmZmZnJPwrXo3A9Csc/exSuR+F6xD/sUbgehevBP7gehetRuL4/mpmZmZmZuT97FK5H4Xq0P7gehetRuK4/exSuR+F6pD97FK5H4XqUPwAAAAAAAAAA",
          "dtype": "f8"
         },
         "xaxis": "x",
         "y": {
          "bdata": "wi+BtuzN4T/gsI+0S8bhP/u/4YG1h+E/o9UrCCtf4T/bzzjQRUPhP5x7YJE7H+E/YxZn1CDt4D/duoVlBJ7gP4Dwyo2SOeA/SiKwYG+L3z/mxioU1I7ePwgyUR/4Wt0/emkNpjBG3D+wwBvImSnbPxRw/AvVBdo/HzxEb2Hz2D8r7CKrlPPXP2cuLMjLAtc/JCfNBZsf1j/C1rI1PD3VPykRqFS9WNQ/lcrk/wGX0z+JuiwlDtjSPwJqFBk1HdI/TNNZH/xg0T+mjmndeqDQP3iVIcGDGtA/X48Czd8pzz/R8GhscR7OP2hr+JGvGc0/lO67ltsazD9gSLDdmDfLP0GnULSLT8o/hLJgSuZkyT+mj8SAfI7IP8DFIwIB08c/TzmqE+QNxz/Y4GrtID3GPxT34/J9bMU/W3LStaGlxD8EoVyHeNrDP1dp7vlz/sI/oCFBlOkbwj9IT/PBpjDBP4uh+xldVsA/8jiC6frevj+e36kPjg+9P9I61U9ZOrs/AShqhktmuT/PdmoO4pa3P/saWXEyx7U/b4qdJTt/uT9J9qFRQQS7PysDFLE9ibw/CvWkPlkPvj8OQ17JoKy/P9+C/KQgoMA/mx2rwGttwT+0/ZLOOC3CP4qYyReZ9cI/d48A8Fm+wz9wGt2Wnn3EP7mopkAIL8U/8rpFpNLexT8qqq3lR6LGP+2XjZ5GeMc/msCS45ZRyD9GKq0sSS3JP4apUd6RIco/67jVP+koyz8UOD6TATPMP5BbA46VPc0/XMQN8k5rzj9rRekvqaPPP9iaLNqVcdA/dh+4JA0T0T+wqssfM7XRP3CKRCuKm9I/BGX3Wc+C0z+VZqOFwmvUP5MHD7AjXNU/b0NjvXdR1j9u8me+5W/XP14k4gQtkdg/Q+BEzNm22T/r60oLze/aP4sbrIgkPdw/IJ1cGzem3T9w/m4aayjfPxlgCd3nR+A/wm072pzv4D9tInF/AanhP4s1HmjmQOI/4vezp3XF4j9Xzif/KzbjP2nnHuipiOM/qNi5SdO84z87a4SEaNrjP/mfJ3g17OM/Vcf3bQsH5D/scCgdT0XkP+qfeZ4kUOQ/",
          "dtype": "f8"
         },
         "yaxis": "y"
        },
        {
         "line": {
          "color": "rgb(55,126,184)",
          "width": 2
         },
         "mode": "lines",
         "name": "default",
         "type": "scatter",
         "x": {
          "bdata": "AAAAAAAAAAB7FK5H4XqUP3sUrkfheqQ/uB6F61G4rj97FK5H4Xq0P5qZmZmZmbk/uB6F61G4vj/sUbgehevBP3sUrkfhesQ/CtejcD0Kxz+amZmZmZnJPylcj8L1KMw/uB6F61G4zj+kcD0K16PQP+xRuB6F69E/MzMzMzMz0z97FK5H4XrUP8P1KFyPwtU/CtejcD0K1z9SuB6F61HYP5qZmZmZmdk/4XoUrkfh2j8pXI/C9SjcP3E9CtejcN0/uB6F61G43j8AAAAAAADgP6RwPQrXo+A/SOF6FK5H4T/sUbgehevhP4/C9Shcj+I/MzMzMzMz4z/Xo3A9CtfjP3sUrkfheuQ/H4XrUbge5T/D9Shcj8LlP2dmZmZmZuY/CtejcD0K5z+uR+F6FK7nP1K4HoXrUeg/9ihcj8L16D+amZmZmZnpPz4K16NwPeo/4XoUrkfh6j+F61G4HoXrPylcj8L1KOw/zczMzMzM7D9xPQrXo3DtPxWuR+F6FO4/uB6F61G47j9cj8L1KFzvPwAAAAAAAPA/",
          "dtype": "f8"
         },
         "xaxis": "x",
         "y": {
          "bdata": "EDr6RWgO4z9RJzYuq/TiPzLg6L5DweI/71amF4Wi4j/kF8YAj47iP/tDCcyLaeI/v/hwdAQw4j8VGk2cUtnhPznnxtzUZOE/VwD3McDd4D9X/5umY0bgP4piqPRnIt8/iiwE9x/T3T9oifmk633cP72xg3+GI9s/ZQKyqifg2T9j8qcet7XYP2DcmiEXnNc/OC4N3deR1j/J6PeD5orVP4sWQXlXhtQ/qZufEbWu0z96DyihRNzSPyMKNqGgFdI/y0x42ORP0T8vM1MU9onQP9iKYmuT8s8/Rpzhcw3Rzj8gAIS6M7DNP3BxQB6tk8w/27i7Lv1+yz9GjVH1XIjKPwbS+hQWkck/rovsGcmayD88WSTTcrfHP3Nb856/78Y/otq5bC8oxj8GMuDjAWDFP6srk5M2msQ/AUu21Nnlwz8JE7fo2CvDP6XwOzLLd8I/jsLgk+nDwT/DA92w6BjBP1bga79cY8A/6IlG1b5Zvz8OLwhhFeO9P8r7s1njbbw/fcvyxv/0uj+b68s9PX+5P67C+D59Cbg/",
          "dtype": "f8"
         },
         "yaxis": "y"
        },
        {
         "fill": "toself",
         "fillcolor": "rgba(55,126,184,0.1)",
         "hoverinfo": "skip",
         "line": {
          "color": "rgba(255,255,255,0)"
         },
         "showlegend": false,
         "type": "scatter",
         "x": {
          "bdata": "AAAAAAAAAAB7FK5H4XqUP3sUrkfheqQ/uB6F61G4rj97FK5H4Xq0P5qZmZmZmbk/uB6F61G4vj/sUbgehevBP3sUrkfhesQ/CtejcD0Kxz+amZmZmZnJPylcj8L1KMw/uB6F61G4zj+kcD0K16PQP+xRuB6F69E/MzMzMzMz0z97FK5H4XrUP8P1KFyPwtU/CtejcD0K1z9SuB6F61HYP5qZmZmZmdk/4XoUrkfh2j8pXI/C9SjcP3E9CtejcN0/uB6F61G43j8AAAAAAADgP6RwPQrXo+A/SOF6FK5H4T/sUbgehevhP4/C9Shcj+I/MzMzMzMz4z/Xo3A9CtfjP3sUrkfheuQ/H4XrUbge5T/D9Shcj8LlP2dmZmZmZuY/CtejcD0K5z+uR+F6FK7nP1K4HoXrUeg/9ihcj8L16D+amZmZmZnpPz4K16NwPeo/4XoUrkfh6j+F61G4HoXrPylcj8L1KOw/zczMzMzM7D9xPQrXo3DtPxWuR+F6FO4/uB6F61G47j9cj8L1KFzvPwAAAAAAAPA/AAAAAAAA8D9cj8L1KFzvP7gehetRuO4/Fa5H4XoU7j9xPQrXo3DtP83MzMzMzOw/KVyPwvUo7D+F61G4HoXrP+F6FK5H4eo/PgrXo3A96j+amZmZmZnpP/YoXI/C9eg/UrgehetR6D+uR+F6FK7nPwrXo3A9Cuc/Z2ZmZmZm5j/D9Shcj8LlPx+F61G4HuU/exSuR+F65D/Xo3A9CtfjPzMzMzMzM+M/j8L1KFyP4j/sUbgehevhP0jhehSuR+E/pHA9Ctej4D8AAAAAAADgP7gehetRuN4/cT0K16Nw3T8pXI/C9SjcP+F6FK5H4do/mpmZmZmZ2T9SuB6F61HYPwrXo3A9Ctc/w/UoXI/C1T97FK5H4XrUPzMzMzMzM9M/7FG4HoXr0T+kcD0K16PQP7gehetRuM4/KVyPwvUozD+amZmZmZnJPwrXo3A9Csc/exSuR+F6xD/sUbgehevBP7gehetRuL4/mpmZmZmZuT97FK5H4Xq0P7gehetRuK4/exSuR+F6pD97FK5H4XqUPwAAAAAAAAAA",
          "dtype": "f8"
         },
         "xaxis": "x",
         "y": {
          "bdata": "tTFIAXzN4T8lDK3/W7fhP+HxqzuSgOE/OA07Kalb4T9ej4SlrUThPzL1Vwd1HOE/nuMDMTPh4D+Utpg+ZYzgP8DCJAqrHOA/E1Quhyg63z8XH1GHtCHeP1sWuqeo1tw/Sh0Lsn2n2z9MeLkHz3faPw0+9pekR9k/cKgGtoUr2D8FYXb5oSXXP4MjgDS2L9Y/XYCYnqVI1T9R+WwdcmTUP6dH9CDVgNM/Tg+s3vnD0j/weyvwPAvSP/HXGKSIXtE/KqmsmHiy0D+PirS39AXQPzRsGowDCc8/XdnQJ5AFzj/z37Qh5wHNP0RmxEy8Acw/c1LywX4Gyz/WFRHXVSnKP0VgDAW/Ssk/3HRdgMZpyD/STm28n5THP2i4XuZd1cY/s+EjVZAMxj8QpoDIpzrFPwCvKBWiasQ//Z0ysD2twz+ZHMvyU+nCP7FDVPjHLMI/gWtGzH1xwT8maVZx+sLAP98KhYSADMA/ogzZ6O2qvj9KenHX+jK9P29H8fVzvbs/tVP6P05Buj8JQGXmF8i4P6XbsWi6Trc/t6k/FUDEuD8tlzKVYja6P0VD602xqLs/JbB2vVIevT/S457qL5O+P5cD2uBHBMA/zbVS+ji6wD9gnmPw1m7BP5sZe1tVFsI/mZ0jbM7Cwj95CaPeXW7DPwX4Ofl1HsQ/Vqj9EcvJxD/8vT//W4XFP5HTT4TOQ8Y/fv6HVyEKxz+mY9vpRdrHP4Cie7PLy8g/x0PpJG3XyT+2BJITZOfKP0MfhZt798s/nHy8750lzT9NIFNTgF7OPy9f8r+KnM8/vlRVpRFu0D/P2/Fw9w3RP2zwQxhR7dE/VTxTnrjM0j8EoyRSTK3TPwQok0RwmdQ/b+WN0dmL1T9B2ILqWrHWPxPcgRsK29c/PZW1DngI2T/Bg9lDzEXaP1pcXZ/JlNs/bSURZ2j/3D+EmjlCCITeP8o7/TvC/t8/XVfLoBO34D8ib48J7XvhP6TWViBsHuI/sgtpr/6s4j+WfQH6PybjP+AN3rfVfuM/xJK6kKK24z9qoAdccNjjP6agEQZh6eM/g84lQvUB5D99Qr9c+jHkP2tCrIpUT+Q/",
          "dtype": "f8"
         },
         "yaxis": "y"
        },
        {
         "line": {
          "color": "rgb(77,175,74)",
          "width": 2
         },
         "mode": "lines",
         "name": "incumbent",
         "type": "scatter",
         "x": {
          "bdata": "AAAAAAAAAAB7FK5H4XqUP3sUrkfheqQ/uB6F61G4rj97FK5H4Xq0P5qZmZmZmbk/uB6F61G4vj/sUbgehevBP3sUrkfhesQ/CtejcD0Kxz+amZmZmZnJPylcj8L1KMw/uB6F61G4zj+kcD0K16PQP+xRuB6F69E/MzMzMzMz0z97FK5H4XrUP8P1KFyPwtU/CtejcD0K1z9SuB6F61HYP5qZmZmZmdk/4XoUrkfh2j8pXI/C9SjcP3E9CtejcN0/uB6F61G43j8AAAAAAADgP6RwPQrXo+A/SOF6FK5H4T/sUbgehevhP4/C9Shcj+I/MzMzMzMz4z/Xo3A9CtfjP3sUrkfheuQ/H4XrUbge5T/D9Shcj8LlP2dmZmZmZuY/CtejcD0K5z+uR+F6FK7nP1K4HoXrUeg/9ihcj8L16D+amZmZmZnpPz4K16NwPeo/4XoUrkfh6j+F61G4HoXrPylcj8L1KOw/zczMzMzM7D9xPQrXo3DtPxWuR+F6FO4/uB6F61G47j9cj8L1KFzvPwAAAAAAAPA/",
          "dtype": "f8"
         },
         "xaxis": "x",
         "y": {
          "bdata": "HkOQHnYO4z/hhrjRQ+niPxo2yY60uOI/cj7fi7qe4j8O09xsWIriP7KIPt5fZuI/buK/anYs4j91YKJ4VdjhP1fyw6mUZ+E/XvjDCV7m4D+tzXsbkVXgP8O1Yv75UN8/vvUOfGsS3j8VFSnzy8fcP3YFGb1Scds/gl8k/3Ur2j8w7UzdUPjYP/6ZFyzn1dc/3XHu6dLC1j8B7hKfXbPVP1qBIhGyp9Q/eteRmqXI0z8iTlacB+/SP6XYRJ3qH9I/Wszib9hS0T+gNw1SJoXQPyaJqt7u5M8/aoGqMifAzj9CLV0XTZvNP65qrl0wfsw/YyWebJxryz89PvR14nPKP3tq3jDxesk/nf+SQE+ByD/J5wnfr5zHP7KMxoxL0MY/a6iXUAICxj+ebMbuhjPFPyL5TNzBbMQ/TnvMF1W0wz8hbrf8q/bCP0VMFMwBPMI/LsSgFrCBwT8rSIqfDMXAP+CVN1E4CsA/RiG4p8Savj8yugpTxRa9Px2e8fPWnLs/E52VWQsduj+7j1S055+4P2hdDlu5Irc/",
          "dtype": "f8"
         },
         "yaxis": "y"
        },
        {
         "fill": "toself",
         "fillcolor": "rgba(77,175,74,0.1)",
         "hoverinfo": "skip",
         "line": {
          "color": "rgba(255,255,255,0)"
         },
         "showlegend": false,
         "type": "scatter",
         "x": {
          "bdata": "AAAAAAAAAAB7FK5H4XqUP3sUrkfheqQ/uB6F61G4rj97FK5H4Xq0P5qZmZmZmbk/uB6F61G4vj/sUbgehevBP3sUrkfhesQ/CtejcD0Kxz+amZmZmZnJPylcj8L1KMw/uB6F61G4zj+kcD0K16PQP+xRuB6F69E/MzMzMzMz0z97FK5H4XrUP8P1KFyPwtU/CtejcD0K1z9SuB6F61HYP5qZmZmZmdk/4XoUrkfh2j8pXI/C9SjcP3E9CtejcN0/uB6F61G43j8AAAAAAADgP6RwPQrXo+A/SOF6FK5H4T/sUbgehevhP4/C9Shcj+I/MzMzMzMz4z/Xo3A9CtfjP3sUrkfheuQ/H4XrUbge5T/D9Shcj8LlP2dmZmZmZuY/CtejcD0K5z+uR+F6FK7nP1K4HoXrUeg/9ihcj8L16D+amZmZmZnpPz4K16NwPeo/4XoUrkfh6j+F61G4HoXrPylcj8L1KOw/zczMzMzM7D9xPQrXo3DtPxWuR+F6FO4/uB6F61G47j9cj8L1KFzvPwAAAAAAAPA/AAAAAAAA8D9cj8L1KFzvP7gehetRuO4/Fa5H4XoU7j9xPQrXo3DtP83MzMzMzOw/KVyPwvUo7D+F61G4HoXrP+F6FK5H4eo/PgrXo3A96j+amZmZmZnpP/YoXI/C9eg/UrgehetR6D+uR+F6FK7nPwrXo3A9Cuc/Z2ZmZmZm5j/D9Shcj8LlPx+F61G4HuU/exSuR+F65D/Xo3A9CtfjPzMzMzMzM+M/j8L1KFyP4j/sUbgehevhP0jhehSuR+E/pHA9Ctej4D8AAAAAAADgP7gehetRuN4/cT0K16Nw3T8pXI/C9SjcP+F6FK5H4do/mpmZmZmZ2T9SuB6F61HYPwrXo3A9Ctc/w/UoXI/C1T97FK5H4XrUPzMzMzMzM9M/7FG4HoXr0T+kcD0K16PQP7gehetRuM4/KVyPwvUozD+amZmZmZnJPwrXo3A9Csc/exSuR+F6xD/sUbgehevBP7gehetRuL4/mpmZmZmZuT97FK5H4Xq0P7gehetRuK4/exSuR+F6pD97FK5H4XqUPwAAAAAAAAAA",
          "dtype": "f8"
         },
         "xaxis": "x",
         "y": {
          "bdata": "W/THp7DN4T/h9WGGJ6rhP5mD79hQduE/bFYSkvJW4T+7V8vWgz/hP/1x9D3yF+E/TSgmYQnc4D8G0sxAj4rgPw5wYjhrHeA/4imc2kdE3z/wOASFKDPeP2X6+bre9dw/7lIlgNbT2z/zDrzhw6vaP9Cqz2GUfdk/Sd9rNjhf2D+pPg9eEFLXPwVanVmbVdY/2ZccsBtp1T8GK+kUzn/UP3IeGybvmNM/PXMT/jzX0j8V+WgPXxnSPzZbSlSmZNE/+6Qj+BKx0D+4n6e9jPrPP+YFUJdb9c4/HIR6G2LwzT8Y6VvvBevMP8X0MmMv7Ms/DQgVkz/1yj/kuqNOeRnKP2QctM6RPck/TiiKMY9dyD9LiUZiaX3HPzkWfTHmo8Y/6XmRT8zHxT9pVj0Q3erEP25KKG+EGMQ/pO5BcTtXwz9gl4WqVpPCP/s213ZT0sE/3wnIrRwTwT+BsZp8Sk7APweLXRSxIL8/dYAjFuSevT8HT1D8GA+8P68wc+CrjLo/2natRC4BuT8K6yL2cnm3Px/zzNxO8bU/scdP2SNUuD9sNIZyXMa5P0zDfW7oOLs/iwtwBwKtvD9dJcWpcR6+PxfCTDmllr8/PWZAGBiEwD/V3nnCzjvBP31+eX9D8ME/j2FRIbClwj/iROlOAVrDP/gHV75uEcQ/1qdxSf/AxD/Tgk/NMHzFP+3WnVE4PMY/KwMQ6LD8xj9HRs1b9rvHP+zWm08Ppcg/krgIk1C4yT+WwUSdS87KP7lCJ0b54cs/l+ApWDEQzT9scV4/lEvOP7h+2knsj88/M4YCE0Fq0D9kn0ZFBg3RP7nzoeed9NE/FFY/5i7b0j8vo0MpsMTTP7c7EDcOutQ/QuQp/HS21T/8sDwp7ebWP+FLwCOKHNg/99mR/jJW2T+3m4pckZ7aP7vf3Mez99s/HGBiGBFl3T83G5YE1OPeP0dM/DuAKOA/kLjloArW4D/ifnX0jZHhP8vbOSaYKuI/oHQlG76x4j/k7newGybjP4+cWXTjfOM/Z5+Ifs204z9hTu4CLdXjP3gmrIWC5uM/m+iiRBj74z/hFw8dYCjkP+GRWJU7T+Q/",
          "dtype": "f8"
         },
         "yaxis": "y"
        },
        {
         "line": {
          "color": "rgb(152,78,163)",
          "width": 2
         },
         "mode": "lines",
         "name": "random",
         "type": "scatter",
         "x": {
          "bdata": "AAAAAAAAAAB7FK5H4XqUP3sUrkfheqQ/uB6F61G4rj97FK5H4Xq0P5qZmZmZmbk/uB6F61G4vj/sUbgehevBP3sUrkfhesQ/CtejcD0Kxz+amZmZmZnJPylcj8L1KMw/uB6F61G4zj+kcD0K16PQP+xRuB6F69E/MzMzMzMz0z97FK5H4XrUP8P1KFyPwtU/CtejcD0K1z9SuB6F61HYP5qZmZmZmdk/4XoUrkfh2j8pXI/C9SjcP3E9CtejcN0/uB6F61G43j8AAAAAAADgP6RwPQrXo+A/SOF6FK5H4T/sUbgehevhP4/C9Shcj+I/MzMzMzMz4z/Xo3A9CtfjP3sUrkfheuQ/H4XrUbge5T/D9Shcj8LlP2dmZmZmZuY/CtejcD0K5z+uR+F6FK7nP1K4HoXrUeg/9ihcj8L16D+amZmZmZnpPz4K16NwPeo/4XoUrkfh6j+F61G4HoXrPylcj8L1KOw/zczMzMzM7D9xPQrXo3DtPxWuR+F6FO4/uB6F61G47j9cj8L1KFzvPwAAAAAAAPA/",
          "dtype": "f8"
         },
         "xaxis": "x",
         "y": {
          "bdata": "/W21GL0O4z8XW2zxLfPiP/V77TDWv+I/dtNpA8yh4j9XpL9xp4ziP9wyzOrhauI/F0NtFxE44j9ymrAfQ+vhP15k9dguhOE/dezYIrQL4T+xVkEXRITgPwse2voMvN8/WsRTBm6L3j/iq0CN10zdP3N8FY0VANw/lnby28/F2j9KeSNgAZ/ZP8S5ZKU/hdg/8Hg0/KV21z+ArteZ7mrWPz6NauePXtU/D1Q9GMd91D/kIiacRqLTPyjFwhrf0NI/6r+AHfz/0T9VCyw68ivRP6h3K0l7l9A/LVRa0TUD0D+1yWTs8d7OP2IxERLeu80/zWOp5/ChzD9Nau2WOafLP0JXi83xqco/w++kifCryT9FMkImnMHIP62kUcMf9Mc/SqbJoMUkxz9Ve7FUZlPGPz8bv4mchMU/s8B1Jp/DxD9iOdK5egLEP82GWohFOsM/38tyhChxwj+vkbeeNqbBP6lMVN6438A/3qaAZNITwD8y1lBRGpC+Pz1yBKCp+bw/Cu6A1Odouz9+Z+pDnNm5P4g2JIUwSrg/",
          "dtype": "f8"
         },
         "yaxis": "y"
        },
        {
         "fill": "toself",
         "fillcolor": "rgba(152,78,163,0.1)",
         "hoverinfo": "skip",
         "line": {
          "color": "rgba(255,255,255,0)"
         },
         "showlegend": false,
         "type": "scatter",
         "x": {
          "bdata": "AAAAAAAAAAB7FK5H4XqUP3sUrkfheqQ/uB6F61G4rj97FK5H4Xq0P5qZmZmZmbk/uB6F61G4vj/sUbgehevBP3sUrkfhesQ/CtejcD0Kxz+amZmZmZnJPylcj8L1KMw/uB6F61G4zj+kcD0K16PQP+xRuB6F69E/MzMzMzMz0z97FK5H4XrUP8P1KFyPwtU/CtejcD0K1z9SuB6F61HYP5qZmZmZmdk/4XoUrkfh2j8pXI/C9SjcP3E9CtejcN0/uB6F61G43j8AAAAAAADgP6RwPQrXo+A/SOF6FK5H4T/sUbgehevhP4/C9Shcj+I/MzMzMzMz4z/Xo3A9CtfjP3sUrkfheuQ/H4XrUbge5T/D9Shcj8LlP2dmZmZmZuY/CtejcD0K5z+uR+F6FK7nP1K4HoXrUeg/9ihcj8L16D+amZmZmZnpPz4K16NwPeo/4XoUrkfh6j+F61G4HoXrPylcj8L1KOw/zczMzMzM7D9xPQrXo3DtPxWuR+F6FO4/uB6F61G47j9cj8L1KFzvPwAAAAAAAPA/AAAAAAAA8D9cj8L1KFzvP7gehetRuO4/Fa5H4XoU7j9xPQrXo3DtP83MzMzMzOw/KVyPwvUo7D+F61G4HoXrP+F6FK5H4eo/PgrXo3A96j+amZmZmZnpP/YoXI/C9eg/UrgehetR6D+uR+F6FK7nPwrXo3A9Cuc/Z2ZmZmZm5j/D9Shcj8LlPx+F61G4HuU/exSuR+F65D/Xo3A9CtfjPzMzMzMzM+M/j8L1KFyP4j/sUbgehevhP0jhehSuR+E/pHA9Ctej4D8AAAAAAADgP7gehetRuN4/cT0K16Nw3T8pXI/C9SjcP+F6FK5H4do/mpmZmZmZ2T9SuB6F61HYPwrXo3A9Ctc/w/UoXI/C1T97FK5H4XrUPzMzMzMzM9M/7FG4HoXr0T+kcD0K16PQP7gehetRuM4/KVyPwvUozD+amZmZmZnJPwrXo3A9Csc/exSuR+F6xD/sUbgehevBP7gehetRuL4/mpmZmZmZuT97FK5H4Xq0P7gehetRuK4/exSuR+F6pD97FK5H4XqUPwAAAAAAAAAA",
          "dtype": "f8"
         },
         "xaxis": "x",
         "y": {
          "bdata": "i9PHo7vN4T+l1g/587bhPx6vNW1FfuE/TzJ6idhZ4T9klq4QL0DhPwA9fy2+GuE/zJsbzSfm4D/XPtHfFprgP268W664NuA/pXK3CdaG3z8oNb8mm4feP/8Xnz6LVN0/WyLe83o+3D/seBoEKSLbPz5tGgaX/tk/hYwMdHfr2D9jyVYNFOnXP5ud5t5k89Y/O9N6dzsJ1j+9uniTrSHVP7WHqG5jN9Q/d05Pld5y0z8AHce1vrLSP1AHxlmI/NE/HmvtnFNG0T/qaNDitI3QP814fzTVCdA/ZKIS4y8Mzz/EKYgGJQXOPxc3X6WRAc0/lhjhRnUFzD87onF3kSfLPxIRQAIxRso/c1Kz3wxgyT9J32dKKITIP68t1JTXvMc/kdMQcCDtxj+9fpgJVhXGP2q/x7P/PsU/TgIa+rJ3xD+/kB/GFbTDP0AHdvJ46MI/l5ehl2oewj8ZEh8CX1LBPyev9vdFi8A/Pi1pYzx+vz/WGUB0ReO9P1li6KHeSLw/vD3fUN+yuj8C/Bzx2R25P3Oo8qpmiLc/ncRVX/oLuT/60reWXpW6P1ieIljwHrw/IYIgnnSqvT+OkmEu7zy/Px23TJeGaMA/K+qxxCs0wT9FEVA7DvrBPycARHHmw8I/WgY/HhKMwz8F4oSt31DEPxh/0VKLD8U/FHe2XznKxT/td8qfdpHGPwN5gtFqXMc/qxvP8WcryD9BhRwCEP/IPxONljPU98k/cp3WmLINyz9fMmm24SbMPwSvcYhsPs0/rSvDfip2zj+maUHSvrjPPyhXK7FTgNA/g3bXXSEl0T/ArYeRL8rRP7YUFJ6kudI/AIO/2zWl0z/IKIWCzpHUP6dZK5uviNU/x5IsYLyF1j9DojagL7TXP6Ue7oAQ5Ng/7dXiaxoX2j8xKfCy7lTbP6dg2EMooNw/qIsQFJQB3j/Y3mYWhnffPyyzZIwwbOA/C5KKW8cR4T/OEiObusThP5gf1kD9U+I/TgyPA6XR4j8N9o9fbzzjP2LqvmH6ieM/uCgZqAW74z9KstDSH9njP510WX2/6eM/zEil9GYB5D+J38jpZy/kP28Io42+T+Q/",
          "dtype": "f8"
         },
         "yaxis": "y"
        },
        {
         "error_x": {
          "array": {
           "bdata": "NxIsmgY3lj/7lf8dUamRPzXCKNilOZE/F0xUB0wpnj8=",
           "dtype": "f8"
          },
          "type": "data"
         },
         "marker": {
          "color": "skyblue",
          "line": {
           "color": "black",
           "width": 1
          }
         },
         "orientation": "h",
         "showlegend": false,
         "type": "bar",
         "x": {
          "bdata": "E/csLZlU1T/WAnk+Cw3VP03Vgb8JstQ/ZSCC04e/0z8=",
          "dtype": "f8"
         },
         "xaxis": "x2",
         "y": [
          "random",
          "incumbent",
          "default",
          "False"
         ],
         "yaxis": "y2"
        }
       ],
       "layout": {
        "font": {
         "size": 16
        },
        "height": 400,
        "legend": {
         "font": {
          "size": 16
         },
         "title": {
          "text": "Optimizers"
         }
        },
        "margin": {
         "b": 50,
         "l": 50,
         "r": 50,
         "t": 60
        },
        "template": {
         "data": {
          "bar": [
           {
            "error_x": {
             "color": "#2a3f5f"
            },
            "error_y": {
             "color": "#2a3f5f"
            },
            "marker": {
             "line": {
              "color": "white",
              "width": 0.5
             },
             "pattern": {
              "fillmode": "overlay",
              "size": 10,
              "solidity": 0.2
             }
            },
            "type": "bar"
           }
          ],
          "barpolar": [
           {
            "marker": {
             "line": {
              "color": "white",
              "width": 0.5
             },
             "pattern": {
              "fillmode": "overlay",
              "size": 10,
              "solidity": 0.2
             }
            },
            "type": "barpolar"
           }
          ],
          "carpet": [
           {
            "aaxis": {
             "endlinecolor": "#2a3f5f",
             "gridcolor": "#C8D4E3",
             "linecolor": "#C8D4E3",
             "minorgridcolor": "#C8D4E3",
             "startlinecolor": "#2a3f5f"
            },
            "baxis": {
             "endlinecolor": "#2a3f5f",
             "gridcolor": "#C8D4E3",
             "linecolor": "#C8D4E3",
             "minorgridcolor": "#C8D4E3",
             "startlinecolor": "#2a3f5f"
            },
            "type": "carpet"
           }
          ],
          "choropleth": [
           {
            "colorbar": {
             "outlinewidth": 0,
             "ticks": ""
            },
            "type": "choropleth"
           }
          ],
          "contour": [
           {
            "colorbar": {
             "outlinewidth": 0,
             "ticks": ""
            },
            "colorscale": [
             [
              0,
              "#0d0887"
             ],
             [
              0.1111111111111111,
              "#46039f"
             ],
             [
              0.2222222222222222,
              "#7201a8"
             ],
             [
              0.3333333333333333,
              "#9c179e"
             ],
             [
              0.4444444444444444,
              "#bd3786"
             ],
             [
              0.5555555555555556,
              "#d8576b"
             ],
             [
              0.6666666666666666,
              "#ed7953"
             ],
             [
              0.7777777777777778,
              "#fb9f3a"
             ],
             [
              0.8888888888888888,
              "#fdca26"
             ],
             [
              1,
              "#f0f921"
             ]
            ],
            "type": "contour"
           }
          ],
          "contourcarpet": [
           {
            "colorbar": {
             "outlinewidth": 0,
             "ticks": ""
            },
            "type": "contourcarpet"
           }
          ],
          "heatmap": [
           {
            "colorbar": {
             "outlinewidth": 0,
             "ticks": ""
            },
            "colorscale": [
             [
              0,
              "#0d0887"
             ],
             [
              0.1111111111111111,
              "#46039f"
             ],
             [
              0.2222222222222222,
              "#7201a8"
             ],
             [
              0.3333333333333333,
              "#9c179e"
             ],
             [
              0.4444444444444444,
              "#bd3786"
             ],
             [
              0.5555555555555556,
              "#d8576b"
             ],
             [
              0.6666666666666666,
              "#ed7953"
             ],
             [
              0.7777777777777778,
              "#fb9f3a"
             ],
             [
              0.8888888888888888,
              "#fdca26"
             ],
             [
              1,
              "#f0f921"
             ]
            ],
            "type": "heatmap"
           }
          ],
          "histogram": [
           {
            "marker": {
             "pattern": {
              "fillmode": "overlay",
              "size": 10,
              "solidity": 0.2
             }
            },
            "type": "histogram"
           }
          ],
          "histogram2d": [
           {
            "colorbar": {
             "outlinewidth": 0,
             "ticks": ""
            },
            "colorscale": [
             [
              0,
              "#0d0887"
             ],
             [
              0.1111111111111111,
              "#46039f"
             ],
             [
              0.2222222222222222,
              "#7201a8"
             ],
             [
              0.3333333333333333,
              "#9c179e"
             ],
             [
              0.4444444444444444,
              "#bd3786"
             ],
             [
              0.5555555555555556,
              "#d8576b"
             ],
             [
              0.6666666666666666,
              "#ed7953"
             ],
             [
              0.7777777777777778,
              "#fb9f3a"
             ],
             [
              0.8888888888888888,
              "#fdca26"
             ],
             [
              1,
              "#f0f921"
             ]
            ],
            "type": "histogram2d"
           }
          ],
          "histogram2dcontour": [
           {
            "colorbar": {
             "outlinewidth": 0,
             "ticks": ""
            },
            "colorscale": [
             [
              0,
              "#0d0887"
             ],
             [
              0.1111111111111111,
              "#46039f"
             ],
             [
              0.2222222222222222,
              "#7201a8"
             ],
             [
              0.3333333333333333,
              "#9c179e"
             ],
             [
              0.4444444444444444,
              "#bd3786"
             ],
             [
              0.5555555555555556,
              "#d8576b"
             ],
             [
              0.6666666666666666,
              "#ed7953"
             ],
             [
              0.7777777777777778,
              "#fb9f3a"
             ],
             [
              0.8888888888888888,
              "#fdca26"
             ],
             [
              1,
              "#f0f921"
             ]
            ],
            "type": "histogram2dcontour"
           }
          ],
          "mesh3d": [
           {
            "colorbar": {
             "outlinewidth": 0,
             "ticks": ""
            },
            "type": "mesh3d"
           }
          ],
          "parcoords": [
           {
            "line": {
             "colorbar": {
              "outlinewidth": 0,
              "ticks": ""
             }
            },
            "type": "parcoords"
           }
          ],
          "pie": [
           {
            "automargin": true,
            "type": "pie"
           }
          ],
          "scatter": [
           {
            "fillpattern": {
             "fillmode": "overlay",
             "size": 10,
             "solidity": 0.2
            },
            "type": "scatter"
           }
          ],
          "scatter3d": [
           {
            "line": {
             "colorbar": {
              "outlinewidth": 0,
              "ticks": ""
             }
            },
            "marker": {
             "colorbar": {
              "outlinewidth": 0,
              "ticks": ""
             }
            },
            "type": "scatter3d"
           }
          ],
          "scattercarpet": [
           {
            "marker": {
             "colorbar": {
              "outlinewidth": 0,
              "ticks": ""
             }
            },
            "type": "scattercarpet"
           }
          ],
          "scattergeo": [
           {
            "marker": {
             "colorbar": {
              "outlinewidth": 0,
              "ticks": ""
             }
            },
            "type": "scattergeo"
           }
          ],
          "scattergl": [
           {
            "marker": {
             "colorbar": {
              "outlinewidth": 0,
              "ticks": ""
             }
            },
            "type": "scattergl"
           }
          ],
          "scattermap": [
           {
            "marker": {
             "colorbar": {
              "outlinewidth": 0,
              "ticks": ""
             }
            },
            "type": "scattermap"
           }
          ],
          "scattermapbox": [
           {
            "marker": {
             "colorbar": {
              "outlinewidth": 0,
              "ticks": ""
             }
            },
            "type": "scattermapbox"
           }
          ],
          "scatterpolar": [
           {
            "marker": {
             "colorbar": {
              "outlinewidth": 0,
              "ticks": ""
             }
            },
            "type": "scatterpolar"
           }
          ],
          "scatterpolargl": [
           {
            "marker": {
             "colorbar": {
              "outlinewidth": 0,
              "ticks": ""
             }
            },
            "type": "scatterpolargl"
           }
          ],
          "scatterternary": [
           {
            "marker": {
             "colorbar": {
              "outlinewidth": 0,
              "ticks": ""
             }
            },
            "type": "scatterternary"
           }
          ],
          "surface": [
           {
            "colorbar": {
             "outlinewidth": 0,
             "ticks": ""
            },
            "colorscale": [
             [
              0,
              "#0d0887"
             ],
             [
              0.1111111111111111,
              "#46039f"
             ],
             [
              0.2222222222222222,
              "#7201a8"
             ],
             [
              0.3333333333333333,
              "#9c179e"
             ],
             [
              0.4444444444444444,
              "#bd3786"
             ],
             [
              0.5555555555555556,
              "#d8576b"
             ],
             [
              0.6666666666666666,
              "#ed7953"
             ],
             [
              0.7777777777777778,
              "#fb9f3a"
             ],
             [
              0.8888888888888888,
              "#fdca26"
             ],
             [
              1,
              "#f0f921"
             ]
            ],
            "type": "surface"
           }
          ],
          "table": [
           {
            "cells": {
             "fill": {
              "color": "#EBF0F8"
             },
             "line": {
              "color": "white"
             }
            },
            "header": {
             "fill": {
              "color": "#C8D4E3"
             },
             "line": {
              "color": "white"
             }
            },
            "type": "table"
           }
          ]
         },
         "layout": {
          "annotationdefaults": {
           "arrowcolor": "#2a3f5f",
           "arrowhead": 0,
           "arrowwidth": 1
          },
          "autotypenumbers": "strict",
          "coloraxis": {
           "colorbar": {
            "outlinewidth": 0,
            "ticks": ""
           }
          },
          "colorscale": {
           "diverging": [
            [
             0,
             "#8e0152"
            ],
            [
             0.1,
             "#c51b7d"
            ],
            [
             0.2,
             "#de77ae"
            ],
            [
             0.3,
             "#f1b6da"
            ],
            [
             0.4,
             "#fde0ef"
            ],
            [
             0.5,
             "#f7f7f7"
            ],
            [
             0.6,
             "#e6f5d0"
            ],
            [
             0.7,
             "#b8e186"
            ],
            [
             0.8,
             "#7fbc41"
            ],
            [
             0.9,
             "#4d9221"
            ],
            [
             1,
             "#276419"
            ]
           ],
           "sequential": [
            [
             0,
             "#0d0887"
            ],
            [
             0.1111111111111111,
             "#46039f"
            ],
            [
             0.2222222222222222,
             "#7201a8"
            ],
            [
             0.3333333333333333,
             "#9c179e"
            ],
            [
             0.4444444444444444,
             "#bd3786"
            ],
            [
             0.5555555555555556,
             "#d8576b"
            ],
            [
             0.6666666666666666,
             "#ed7953"
            ],
            [
             0.7777777777777778,
             "#fb9f3a"
            ],
            [
             0.8888888888888888,
             "#fdca26"
            ],
            [
             1,
             "#f0f921"
            ]
           ],
           "sequentialminus": [
            [
             0,
             "#0d0887"
            ],
            [
             0.1111111111111111,
             "#46039f"
            ],
            [
             0.2222222222222222,
             "#7201a8"
            ],
            [
             0.3333333333333333,
             "#9c179e"
            ],
            [
             0.4444444444444444,
             "#bd3786"
            ],
            [
             0.5555555555555556,
             "#d8576b"
            ],
            [
             0.6666666666666666,
             "#ed7953"
            ],
            [
             0.7777777777777778,
             "#fb9f3a"
            ],
            [
             0.8888888888888888,
             "#fdca26"
            ],
            [
             1,
             "#f0f921"
            ]
           ]
          },
          "colorway": [
           "#636efa",
           "#EF553B",
           "#00cc96",
           "#ab63fa",
           "#FFA15A",
           "#19d3f3",
           "#FF6692",
           "#B6E880",
           "#FF97FF",
           "#FECB52"
          ],
          "font": {
           "color": "#2a3f5f"
          },
          "geo": {
           "bgcolor": "white",
           "lakecolor": "white",
           "landcolor": "white",
           "showlakes": true,
           "showland": true,
           "subunitcolor": "#C8D4E3"
          },
          "hoverlabel": {
           "align": "left"
          },
          "hovermode": "closest",
          "mapbox": {
           "style": "light"
          },
          "paper_bgcolor": "white",
          "plot_bgcolor": "white",
          "polar": {
           "angularaxis": {
            "gridcolor": "#EBF0F8",
            "linecolor": "#EBF0F8",
            "ticks": ""
           },
           "bgcolor": "white",
           "radialaxis": {
            "gridcolor": "#EBF0F8",
            "linecolor": "#EBF0F8",
            "ticks": ""
           }
          },
          "scene": {
           "xaxis": {
            "backgroundcolor": "white",
            "gridcolor": "#DFE8F3",
            "gridwidth": 2,
            "linecolor": "#EBF0F8",
            "showbackground": true,
            "ticks": "",
            "zerolinecolor": "#EBF0F8"
           },
           "yaxis": {
            "backgroundcolor": "white",
            "gridcolor": "#DFE8F3",
            "gridwidth": 2,
            "linecolor": "#EBF0F8",
            "showbackground": true,
            "ticks": "",
            "zerolinecolor": "#EBF0F8"
           },
           "zaxis": {
            "backgroundcolor": "white",
            "gridcolor": "#DFE8F3",
            "gridwidth": 2,
            "linecolor": "#EBF0F8",
            "showbackground": true,
            "ticks": "",
            "zerolinecolor": "#EBF0F8"
           }
          },
          "shapedefaults": {
           "line": {
            "color": "#2a3f5f"
           }
          },
          "ternary": {
           "aaxis": {
            "gridcolor": "#DFE8F3",
            "linecolor": "#A2B1C6",
            "ticks": ""
           },
           "baxis": {
            "gridcolor": "#DFE8F3",
            "linecolor": "#A2B1C6",
            "ticks": ""
           },
           "bgcolor": "white",
           "caxis": {
            "gridcolor": "#DFE8F3",
            "linecolor": "#A2B1C6",
            "ticks": ""
           }
          },
          "title": {
           "x": 0.05
          },
          "xaxis": {
           "automargin": true,
           "gridcolor": "#EBF0F8",
           "linecolor": "#EBF0F8",
           "ticks": "",
           "title": {
            "standoff": 15
           },
           "zerolinecolor": "#EBF0F8",
           "zerolinewidth": 2
          },
          "yaxis": {
           "automargin": true,
           "gridcolor": "#EBF0F8",
           "linecolor": "#EBF0F8",
           "ticks": "",
           "title": {
            "standoff": 15
           },
           "zerolinecolor": "#EBF0F8",
           "zerolinewidth": 2
          }
         }
        },
        "width": 1200,
        "xaxis": {
         "anchor": "y",
         "domain": [
          0,
          0.51
         ],
         "title": {
          "text": "Normalized Trials"
         }
        },
        "xaxis2": {
         "anchor": "y2",
         "domain": [
          0.66,
          1
         ],
         "title": {
          "text": "AUC"
         }
        },
        "yaxis": {
         "anchor": "x",
         "domain": [
          0,
          1
         ],
         "title": {
          "text": "Normalized Inc-Performance"
         }
        },
        "yaxis2": {
         "anchor": "x2",
         "domain": [
          0,
          1
         ],
         "title": {
          "text": "Optimizer"
         }
        }
       }
      }
     },
     "metadata": {},
     "output_type": "display_data"
    }
   ],
   "source": [
    "plot_one_thing('cs_method')"
   ]
  },
  {
   "cell_type": "code",
   "execution_count": 73,
   "id": "73609c35",
   "metadata": {},
   "outputs": [
    {
     "name": "stderr",
     "output_type": "stream",
     "text": [
      "/home/daphne/Code/hpi_parego/CARP-S/carps/analysis/generate_report.py:276: UserWarning:\n",
      "\n",
      "Result is not significant and results of the plot may be misleading!\n",
      "\n",
      "/home/daphne/Code/hpi_parego/CARP-S/carps/analysis/run_autorank.py:322: FutureWarning:\n",
      "\n",
      "Series.__getitem__ treating keys as positions is deprecated. In a future version, integer keys will always be treated as labels (consistent with DataFrame behavior). To access a value by position, use `ser.iloc[pos]`\n",
      "\n",
      "/home/daphne/Code/hpi_parego/CARP-S/carps/analysis/run_autorank.py:421: UserWarning:\n",
      "\n",
      "FigureCanvasAgg is non-interactive, and thus cannot be shown\n",
      "\n",
      "/home/daphne/Code/hpi_parego/CARP-S/carps/analysis/run_autorank.py:198: UserWarning:\n",
      "\n",
      "Result is not significant and results of the plot may be misleading!\n",
      "\n"
     ]
    },
    {
     "data": {
      "text/html": [
       "<pre style=\"white-space:pre;overflow-x:auto;line-height:normal;font-family:Menlo,'DejaVu Sans Mono',consolas,'Courier New',monospace\"><span style=\"color: #7fbfbf; text-decoration-color: #7fbfbf\">[10:21:11] </span><span style=\"color: #000080; text-decoration-color: #000080\">INFO    </span> Create dataframe for neat plotting by aligning x-axis <span style=\"color: #800080; text-decoration-color: #800080\">/</span> interpolating        <a href=\"file:///home/daphne/Code/hpi_parego/CARP-S/carps/analysis/gather_data.py\" target=\"_blank\"><span style=\"color: #7f7f7f; text-decoration-color: #7f7f7f\">gather_data.py</span></a><span style=\"color: #7f7f7f; text-decoration-color: #7f7f7f\">:</span><a href=\"file:///home/daphne/Code/hpi_parego/CARP-S/carps/analysis/gather_data.py#725\" target=\"_blank\"><span style=\"color: #7f7f7f; text-decoration-color: #7f7f7f\">725</span></a>\n",
       "<span style=\"color: #7fbfbf; text-decoration-color: #7fbfbf\">           </span>         budget.                                                                      <span style=\"color: #7f7f7f; text-decoration-color: #7f7f7f\">                  </span>\n",
       "</pre>\n"
      ],
      "text/plain": [
       "\u001b[2;36m[10:21:11]\u001b[0m\u001b[2;36m \u001b[0m\u001b[34mINFO    \u001b[0m Create dataframe for neat plotting by aligning x-axis \u001b[35m/\u001b[0m interpolating        \u001b]8;id=453705;file:///home/daphne/Code/hpi_parego/CARP-S/carps/analysis/gather_data.py\u001b\\\u001b[2mgather_data.py\u001b[0m\u001b]8;;\u001b\\\u001b[2m:\u001b[0m\u001b]8;id=213087;file:///home/daphne/Code/hpi_parego/CARP-S/carps/analysis/gather_data.py#725\u001b\\\u001b[2m725\u001b[0m\u001b]8;;\u001b\\\n",
       "\u001b[2;36m           \u001b[0m         budget.                                                                      \u001b[2m                  \u001b[0m\n"
      ]
     },
     "metadata": {},
     "output_type": "display_data"
    },
    {
     "name": "stderr",
     "output_type": "stream",
     "text": [
      "/home/daphne/Code/hpi_parego/CARP-S/carps/analysis/generate_report.py:108: UserWarning:\n",
      "\n",
      "Result is not significant and results of the plot may be misleading!\n",
      "\n",
      "/home/daphne/Code/hpi_parego/CARP-S/carps/analysis/generate_report.py:108: UserWarning:\n",
      "\n",
      "Result is not significant and results of the plot may be misleading!\n",
      "\n",
      "/home/daphne/Code/hpi_parego/CARP-S/carps/analysis/generate_report.py:108: UserWarning:\n",
      "\n",
      "Result is not significant and results of the plot may be misleading!\n",
      "\n",
      "/home/daphne/Code/hpi_parego/CARP-S/carps/analysis/generate_report.py:108: UserWarning:\n",
      "\n",
      "Result is not significant and results of the plot may be misleading!\n",
      "\n",
      "/home/daphne/Code/hpi_parego/CARP-S/carps/analysis/generate_report.py:108: UserWarning:\n",
      "\n",
      "Result is not significant and results of the plot may be misleading!\n",
      "\n",
      "/home/daphne/Code/hpi_parego/CARP-S/carps/analysis/generate_report.py:108: UserWarning:\n",
      "\n",
      "Result is not significant and results of the plot may be misleading!\n",
      "\n",
      "/home/daphne/Code/hpi_parego/CARP-S/carps/analysis/generate_report.py:108: UserWarning:\n",
      "\n",
      "Result is not significant and results of the plot may be misleading!\n",
      "\n"
     ]
    },
    {
     "name": "stdout",
     "output_type": "stream",
     "text": [
      "['False' 'default' 'incumbent' 'random']\n"
     ]
    },
    {
     "name": "stderr",
     "output_type": "stream",
     "text": [
      "/tmp/ipykernel_4800/1961929167.py:25: DeprecationWarning:\n",
      "\n",
      "DataFrameGroupBy.apply operated on the grouping columns. This behavior is deprecated, and in a future version of pandas the grouping columns will be excluded from the operation. Either pass `include_groups=False` to exclude the groupings or explicitly select the grouping columns after groupby to silence this warning.\n",
      "\n"
     ]
    },
    {
     "data": {
      "application/vnd.plotly.v1+json": {
       "config": {
        "plotlyServerURL": "https://plot.ly"
       },
       "data": [
        {
         "line": {
          "color": "rgb(228,26,28)",
          "width": 2
         },
         "mode": "lines",
         "name": "False",
         "type": "scatter",
         "x": {
          "bdata": "AAAAAAAAAAB7FK5H4XqUP3sUrkfheqQ/uB6F61G4rj97FK5H4Xq0P5qZmZmZmbk/uB6F61G4vj/sUbgehevBP3sUrkfhesQ/CtejcD0Kxz+amZmZmZnJPylcj8L1KMw/uB6F61G4zj+kcD0K16PQP+xRuB6F69E/MzMzMzMz0z97FK5H4XrUP8P1KFyPwtU/CtejcD0K1z9SuB6F61HYP5qZmZmZmdk/4XoUrkfh2j8pXI/C9SjcP3E9CtejcN0/uB6F61G43j8AAAAAAADgP6RwPQrXo+A/SOF6FK5H4T/sUbgehevhP4/C9Shcj+I/MzMzMzMz4z/Xo3A9CtfjP3sUrkfheuQ/H4XrUbge5T/D9Shcj8LlP2dmZmZmZuY/CtejcD0K5z+uR+F6FK7nP1K4HoXrUeg/9ihcj8L16D+amZmZmZnpPz4K16NwPeo/4XoUrkfh6j+F61G4HoXrPylcj8L1KOw/zczMzMzM7D9xPQrXo3DtPxWuR+F6FO4/uB6F61G47j9cj8L1KFzvPwAAAAAAAPA/",
          "dtype": "f8"
         },
         "xaxis": "x",
         "y": {
          "bdata": "UFsWwi0O4z/Ox2GZ2O/iPwqW+zfXveI/TfC26xGg4j+N9F0LT4jiP0rYLVBFZOI/xkzSpHsq4j9306TLydDhPx2bV+vKWeE/rdrnGeTP4D9xHSCWbTbgP15ihM22A98/dTEl+Mm53T+SfPpg0mjcP7a333ZhEds/3vuiNYvM2T9IB/GuepzYP9I3T7QDfdc/SL+nxjNs1j9CbDpeJF7VP64CdZlMVdQ/3CpgN7R40z9yvvSYMqLSP1acUlaZ2NE/Rg84QqAP0T+rlmyQOUXQPyXKeyClbM8/Ik9AeWpPzj+Yny6cvDLNP/Bv3L1RGcw/wKm+V20Hyz/bab9wEBLKPxvoTA+/G8k/xRrGsoAkyD8ltzSkQEHHP+ayJ1pbesY/sTsRRIq0xT/AnCxkaO/EP/tSNuuTJcQ/ssmGShdxwz/uz5uuQrfCP9vjaGYZA8I/u8ISPvlFwT/9d8CSMpjAP2MqZZ6nxb8/MkO8VItOvj+uWptSkMe8P9bN0cP0Srs/ndj08l7UuT8rv6GiHmG4P5MXaEnF7bY/",
          "dtype": "f8"
         },
         "yaxis": "y"
        },
        {
         "fill": "toself",
         "fillcolor": "rgba(228,26,28,0.1)",
         "hoverinfo": "skip",
         "line": {
          "color": "rgba(255,255,255,0)"
         },
         "showlegend": false,
         "type": "scatter",
         "x": {
          "bdata": "AAAAAAAAAAB7FK5H4XqUP3sUrkfheqQ/uB6F61G4rj97FK5H4Xq0P5qZmZmZmbk/uB6F61G4vj/sUbgehevBP3sUrkfhesQ/CtejcD0Kxz+amZmZmZnJPylcj8L1KMw/uB6F61G4zj+kcD0K16PQP+xRuB6F69E/MzMzMzMz0z97FK5H4XrUP8P1KFyPwtU/CtejcD0K1z9SuB6F61HYP5qZmZmZmdk/4XoUrkfh2j8pXI/C9SjcP3E9CtejcN0/uB6F61G43j8AAAAAAADgP6RwPQrXo+A/SOF6FK5H4T/sUbgehevhP4/C9Shcj+I/MzMzMzMz4z/Xo3A9CtfjP3sUrkfheuQ/H4XrUbge5T/D9Shcj8LlP2dmZmZmZuY/CtejcD0K5z+uR+F6FK7nP1K4HoXrUeg/9ihcj8L16D+amZmZmZnpPz4K16NwPeo/4XoUrkfh6j+F61G4HoXrPylcj8L1KOw/zczMzMzM7D9xPQrXo3DtPxWuR+F6FO4/uB6F61G47j9cj8L1KFzvPwAAAAAAAPA/AAAAAAAA8D9cj8L1KFzvP7gehetRuO4/Fa5H4XoU7j9xPQrXo3DtP83MzMzMzOw/KVyPwvUo7D+F61G4HoXrP+F6FK5H4eo/PgrXo3A96j+amZmZmZnpP/YoXI/C9eg/UrgehetR6D+uR+F6FK7nPwrXo3A9Cuc/Z2ZmZmZm5j/D9Shcj8LlPx+F61G4HuU/exSuR+F65D/Xo3A9CtfjPzMzMzMzM+M/j8L1KFyP4j/sUbgehevhP0jhehSuR+E/pHA9Ctej4D8AAAAAAADgP7gehetRuN4/cT0K16Nw3T8pXI/C9SjcP+F6FK5H4do/mpmZmZmZ2T9SuB6F61HYPwrXo3A9Ctc/w/UoXI/C1T97FK5H4XrUPzMzMzMzM9M/7FG4HoXr0T+kcD0K16PQP7gehetRuM4/KVyPwvUozD+amZmZmZnJPwrXo3A9Csc/exSuR+F6xD/sUbgehevBP7gehetRuL4/mpmZmZmZuT97FK5H4Xq0P7gehetRuK4/exSuR+F6pD97FK5H4XqUPwAAAAAAAAAA",
          "dtype": "f8"
         },
         "xaxis": "x",
         "y": {
          "bdata": "14Mf/lfN4T8F7KgGp7LhPytIbAe7fOE/03F2WMVX4T8B0Bld7TvhPwS9C9OfFeE/ktsvKIrb4D9ek0PK0oTgP9XzBozKEeA/l+1YY+AZ3z9KeLOvLffdP28Q60aeqNw/yhHpgSt72z/JTTX6Ak7aP21cAwEjINk/3E9PmEQD2D+g5OybnvnWPzXNEU1VANY/Kj+V2SYW1T/+fzpg0C7UP2wKuEtVStM/2FFHz3eM0j+IdxNDg9PRP/2ygCIMJtE/uZ3qy9V40D8Km64ThZPPP1J5JGoglM4/ZzwT3dKUzT8ZgFvAO5XMP1RQzf4fmMs/ugY00FGeyj+OXpgkusLJPxD8Yq7T5sg/ZWX/cb0DyD/SM73RGSDHP1TX9rLoTMY/FIdL/xZ5xT8IVHT3jKXEP8vmkNBN0MM/IW1uGkAQwz8+Kd37tlDCPypwMpCUlcE/A2htxyXWwD8u82qLTiTAP+YlMR30174/mddIknBbvT9ozO0jdsu7PyhdFOc8Rbo/uZjOMo/CuD+UMB33AUO3P/GQWlwTw7U/NZ51NncYuD/CTSZOO3+5P4EYG7Mu5ro/hD6PoKxQvD/06EiBqsO9P8uuLxemQb8/cJfMj61ZwD/M/BWaFgzBP3MduLTMtcE/jFefPJ5wwj+edlphzh3DP0Mmn3ru0cM/K7/bBdp6xD945eTQQznFP07w1oj978U/eI5YAc6nxj94Oqx2Z2LHPyXQjPNDRcg/JtQ2cKpQyT8odea8ZmHKP8ZMSd+IcMs/jI/rfIOazD8XvwF4PdDNP91hbRUCCs8/fI1p65Qi0D/R3wGXsMDQP9OAhbhqptE/r4UkiiaL0j9cBdbu4XDTP+ADeZ/wZNQ/8Pox50Ng1T+GWDpceI3WP2Y/urNAwtc/b6KMG7L52D/wKfXBVj/aP+Cn9tLRlds//xK87J8C3T9bq7/HoYPePyBRYW5o+N8/JtoOqmev4D+9fmZURHHhP48+IwLYEuI/ZUKoSsuh4j+QEwbNwBzjP/q9dCFteeM/kPNPzeqy4z8ZGaK5sNTjP8du935e6OM/6eOKaPP+4z+XoxosCi3kP8kyDYYDT+Q/",
          "dtype": "f8"
         },
         "yaxis": "y"
        },
        {
         "line": {
          "color": "rgb(55,126,184)",
          "width": 2
         },
         "mode": "lines",
         "name": "default",
         "type": "scatter",
         "x": {
          "bdata": "AAAAAAAAAAB7FK5H4XqUP3sUrkfheqQ/uB6F61G4rj97FK5H4Xq0P5qZmZmZmbk/uB6F61G4vj/sUbgehevBP3sUrkfhesQ/CtejcD0Kxz+amZmZmZnJPylcj8L1KMw/uB6F61G4zj+kcD0K16PQP+xRuB6F69E/MzMzMzMz0z97FK5H4XrUP8P1KFyPwtU/CtejcD0K1z9SuB6F61HYP5qZmZmZmdk/4XoUrkfh2j8pXI/C9SjcP3E9CtejcN0/uB6F61G43j8AAAAAAADgP6RwPQrXo+A/SOF6FK5H4T/sUbgehevhP4/C9Shcj+I/MzMzMzMz4z/Xo3A9CtfjP3sUrkfheuQ/H4XrUbge5T/D9Shcj8LlP2dmZmZmZuY/CtejcD0K5z+uR+F6FK7nP1K4HoXrUeg/9ihcj8L16D+amZmZmZnpPz4K16NwPeo/4XoUrkfh6j+F61G4HoXrPylcj8L1KOw/zczMzMzM7D9xPQrXo3DtPxWuR+F6FO4/uB6F61G47j9cj8L1KFzvPwAAAAAAAPA/",
          "dtype": "f8"
         },
         "xaxis": "x",
         "y": {
          "bdata": "LkazyvEO4z9P6zxtRPXiP77KG8gNxOI/IoSVawim4j/n2rU055biP79bdyqUfOI/Zr5DRjJS4j9fAuX7mw3iPxE2dFkNquE/3V0JZ38z4T+Wn5Fsq6vgP8+EdUIcBOA/BrF0rmvQ3j9tNDM/E4vdPzrG4B+AONw/G1IfLrL52j8KADSOMtHZP8AU9zbludg/ylGnAIqy1z/y66N86q7WP3ICwqVHqtU/akEK/l/R1D/1YuLYdP3TP/vB+Of7MtM/N5cKW5xp0j9cVaccEaDRPxARb2gJC9E/6r4dD+R10D9+vyiEx8HPPxNuVb34ns4/cHmfbK6FzT9taIcAYIzMP57Mky93k8s/VWu/3Saayj/C2Ti9W7bJPw7JA7kr78g/XFpCDTUkyD9zrjwS1lbHP03tZN1/lcY/j1GYAonhxT/4q+MaVy3FP+KgjcRHdcQ/UJOe3pm9wz9m3kovXgLDP1rlfAU5SsI/Nspo+4yMwT/sB+T/7czAP/fIXWHxDMA/Iy79XyyZvj8mUDwfOxi9PzIpu3U8l7s/",
          "dtype": "f8"
         },
         "yaxis": "y"
        },
        {
         "fill": "toself",
         "fillcolor": "rgba(55,126,184,0.1)",
         "hoverinfo": "skip",
         "line": {
          "color": "rgba(255,255,255,0)"
         },
         "showlegend": false,
         "type": "scatter",
         "x": {
          "bdata": "AAAAAAAAAAB7FK5H4XqUP3sUrkfheqQ/uB6F61G4rj97FK5H4Xq0P5qZmZmZmbk/uB6F61G4vj/sUbgehevBP3sUrkfhesQ/CtejcD0Kxz+amZmZmZnJPylcj8L1KMw/uB6F61G4zj+kcD0K16PQP+xRuB6F69E/MzMzMzMz0z97FK5H4XrUP8P1KFyPwtU/CtejcD0K1z9SuB6F61HYP5qZmZmZmdk/4XoUrkfh2j8pXI/C9SjcP3E9CtejcN0/uB6F61G43j8AAAAAAADgP6RwPQrXo+A/SOF6FK5H4T/sUbgehevhP4/C9Shcj+I/MzMzMzMz4z/Xo3A9CtfjP3sUrkfheuQ/H4XrUbge5T/D9Shcj8LlP2dmZmZmZuY/CtejcD0K5z+uR+F6FK7nP1K4HoXrUeg/9ihcj8L16D+amZmZmZnpPz4K16NwPeo/4XoUrkfh6j+F61G4HoXrPylcj8L1KOw/zczMzMzM7D9xPQrXo3DtPxWuR+F6FO4/uB6F61G47j9cj8L1KFzvPwAAAAAAAPA/AAAAAAAA8D9cj8L1KFzvP7gehetRuO4/Fa5H4XoU7j9xPQrXo3DtP83MzMzMzOw/KVyPwvUo7D+F61G4HoXrP+F6FK5H4eo/PgrXo3A96j+amZmZmZnpP/YoXI/C9eg/UrgehetR6D+uR+F6FK7nPwrXo3A9Cuc/Z2ZmZmZm5j/D9Shcj8LlPx+F61G4HuU/exSuR+F65D/Xo3A9CtfjPzMzMzMzM+M/j8L1KFyP4j/sUbgehevhP0jhehSuR+E/pHA9Ctej4D8AAAAAAADgP7gehetRuN4/cT0K16Nw3T8pXI/C9SjcP+F6FK5H4do/mpmZmZmZ2T9SuB6F61HYPwrXo3A9Ctc/w/UoXI/C1T97FK5H4XrUPzMzMzMzM9M/7FG4HoXr0T+kcD0K16PQP7gehetRuM4/KVyPwvUozD+amZmZmZnJPwrXo3A9Csc/exSuR+F6xD/sUbgehevBP7gehetRuL4/mpmZmZmZuT97FK5H4Xq0P7gehetRuK4/exSuR+F6pD97FK5H4XqUPwAAAAAAAAAA",
          "dtype": "f8"
         },
         "xaxis": "x",
         "y": {
          "bdata": "9cFCxyXO4T/W6/QV4bfhP0ZCuWxtg+E/hXM11Dpe4T+y2/A6GEvhP/pINf8bLeE/bKNF3AMB4T+r6DX7a77gP/US4HrAXuA/ZR1TovLd3z+DhoubkuLeP/zGdJjasd0/+CKHm7OX3D/LiGup9XbbPwlOPBS7Tto/nNLD2m042T/+Q1LE9zbYP7C5lHByRNc/sbaeeOdf1j/v0t5GqX7VP+Q6N96SmdQ/+5+jAm7a0z89bMdnuB7TPwQ2Mj+ua9I/84A11s+40T+IRXk+LAXRP4ImooCtgNA/qGbrBhX4zz9VqKgkPO7OP3jdFAn+6c0/KrakzsHszD+Cp1OxpQvMP279lkbkKMs/84eCUmlByj/h8AmffmvJPz4N3TyRssg/j3JlTbjxxz9/6pOoZSfHP3zMzv1fYcY/zGqL5OymxT8gK/5Hm+zEP5shudnKK8Q/hpr9c9pswz8yF8EIe6vCPxAhVwZR78E/BJ9LxOUwwT/LXZ0Jv23AP8NBPSOHUr8/Jo6qgorLvT+uPDlqRES8PxpIr3rgvLo/SgrHcJhxvD+eYz/UMey9PyDOTz3OZr8/DfEcMZ9wwD8Nsir2HCzBP2j1hTI06ME/pKmiBCGlwj+apdRVQVnDPxqMP0lZDsQ/KSBir8S+xD/QLMntEm7FP1I4pSAlHMY/Hg77vJ/Jxj9ncuV7RobHPylCH82xVsg/3oQqNcYryT+jwmfbOAHKP7dO/Gjk8so/zpuQGAr+yz9YKbtPGg3NP7Y8mgqbHs4/rv6VcfNTzz9Ua9RxqUrQP4DKxZq979A/nvs7UGWV0T8wZdX69TrSP3ut399oGtM/8k2/kEn60z+tWf1JMdzUP9nicPlRyNU/AMpMbfy61j/1BGmyK9/XP+Psr4gsBdk/0G9Z/Vcv2j8WvBVYbWvbP5rReoH2utw/az6FK0Ui3j8P4PrUMJ/fP4ofseCRhOA/IKawOEsv4T/re12LDebhPwct6XwFeOI/LVkIOFr14j8THJT8y1zjP2DZQbBgo+M/hG65VQzM4z8c2noutuLjP7+U9QLW7eM/NlN+I64E5D/I6oTEpzLkP2fKI869T+Q/",
          "dtype": "f8"
         },
         "yaxis": "y"
        },
        {
         "line": {
          "color": "rgb(77,175,74)",
          "width": 2
         },
         "mode": "lines",
         "name": "incumbent",
         "type": "scatter",
         "x": {
          "bdata": "AAAAAAAAAAB7FK5H4XqUP3sUrkfheqQ/uB6F61G4rj97FK5H4Xq0P5qZmZmZmbk/uB6F61G4vj/sUbgehevBP3sUrkfhesQ/CtejcD0Kxz+amZmZmZnJPylcj8L1KMw/uB6F61G4zj+kcD0K16PQP+xRuB6F69E/MzMzMzMz0z97FK5H4XrUP8P1KFyPwtU/CtejcD0K1z9SuB6F61HYP5qZmZmZmdk/4XoUrkfh2j8pXI/C9SjcP3E9CtejcN0/uB6F61G43j8AAAAAAADgP6RwPQrXo+A/SOF6FK5H4T/sUbgehevhP4/C9Shcj+I/MzMzMzMz4z/Xo3A9CtfjP3sUrkfheuQ/H4XrUbge5T/D9Shcj8LlP2dmZmZmZuY/CtejcD0K5z+uR+F6FK7nP1K4HoXrUeg/9ihcj8L16D+amZmZmZnpPz4K16NwPeo/4XoUrkfh6j+F61G4HoXrPylcj8L1KOw/zczMzMzM7D9xPQrXo3DtPxWuR+F6FO4/uB6F61G47j9cj8L1KFzvPwAAAAAAAPA/",
          "dtype": "f8"
         },
         "xaxis": "x",
         "y": {
          "bdata": "zXEE/S8O4z+HMb0B6PDiP6bHEKF/vOI/gsuMxsGb4j8GRainkoTiP46XHYywW+I/bzJuUh8e4j+YvjdMtcfhPxzSiDV7V+E/jmj1nPbW4D/6fcQJZkjgPzqUtoulNd8/HWpocPL13T8AtdqUhqvcP5jcXaQcVts/JabSQdMU2j/KJRpiCujYP59SoxBJytc/TYG2uyS61j/Sz4+cc6zVP0vtVyS8otQ/fb4mjbPI0z+y+xuEO/PSP/6DoZgHJ9I/TpEYzVVc0T9iWi6pMpDQP2V0aJWC+88/9W+ZfszXzj9NJOnIKbXNP/hYVo/vl8w/NYtwfWCCyz9+vUcQu4bKP7lyInA1ick/NpQ0XWiMyD/VFpCbNaHHPxVZ0sRV0MY/BVlZWAD/xT/b3m+rLS3FP11MnRSVX8Q/dY5voz2iwz/oGyKpd9/CPzvk2UblG8I/llbn87JZwT+bpBQy55jAP/CbjsLrq78/U12Vrcshvj+GtdcW+J28P+IsrXDJFrs/lwszJh2JuT+aphji/wK4P3vjMDPSfLY/",
          "dtype": "f8"
         },
         "yaxis": "y"
        },
        {
         "fill": "toself",
         "fillcolor": "rgba(77,175,74,0.1)",
         "hoverinfo": "skip",
         "line": {
          "color": "rgba(255,255,255,0)"
         },
         "showlegend": false,
         "type": "scatter",
         "x": {
          "bdata": "AAAAAAAAAAB7FK5H4XqUP3sUrkfheqQ/uB6F61G4rj97FK5H4Xq0P5qZmZmZmbk/uB6F61G4vj/sUbgehevBP3sUrkfhesQ/CtejcD0Kxz+amZmZmZnJPylcj8L1KMw/uB6F61G4zj+kcD0K16PQP+xRuB6F69E/MzMzMzMz0z97FK5H4XrUP8P1KFyPwtU/CtejcD0K1z9SuB6F61HYP5qZmZmZmdk/4XoUrkfh2j8pXI/C9SjcP3E9CtejcN0/uB6F61G43j8AAAAAAADgP6RwPQrXo+A/SOF6FK5H4T/sUbgehevhP4/C9Shcj+I/MzMzMzMz4z/Xo3A9CtfjP3sUrkfheuQ/H4XrUbge5T/D9Shcj8LlP2dmZmZmZuY/CtejcD0K5z+uR+F6FK7nP1K4HoXrUeg/9ihcj8L16D+amZmZmZnpPz4K16NwPeo/4XoUrkfh6j+F61G4HoXrPylcj8L1KOw/zczMzMzM7D9xPQrXo3DtPxWuR+F6FO4/uB6F61G47j9cj8L1KFzvPwAAAAAAAPA/AAAAAAAA8D9cj8L1KFzvP7gehetRuO4/Fa5H4XoU7j9xPQrXo3DtP83MzMzMzOw/KVyPwvUo7D+F61G4HoXrP+F6FK5H4eo/PgrXo3A96j+amZmZmZnpP/YoXI/C9eg/UrgehetR6D+uR+F6FK7nPwrXo3A9Cuc/Z2ZmZmZm5j/D9Shcj8LlPx+F61G4HuU/exSuR+F65D/Xo3A9CtfjPzMzMzMzM+M/j8L1KFyP4j/sUbgehevhP0jhehSuR+E/pHA9Ctej4D8AAAAAAADgP7gehetRuN4/cT0K16Nw3T8pXI/C9SjcP+F6FK5H4do/mpmZmZmZ2T9SuB6F61HYPwrXo3A9Ctc/w/UoXI/C1T97FK5H4XrUPzMzMzMzM9M/7FG4HoXr0T+kcD0K16PQP7gehetRuM4/KVyPwvUozD+amZmZmZnJPwrXo3A9Csc/exSuR+F6xD/sUbgehevBP7gehetRuL4/mpmZmZmZuT97FK5H4Xq0P7gehetRuK4/exSuR+F6pD97FK5H4XqUPwAAAAAAAAAA",
          "dtype": "f8"
         },
         "xaxis": "x",
         "y": {
          "bdata": "/2eaxjXN4T/3QiWZiLPhP+dN1raWeuE/8R8kJsRU4T+2Wd6NiDrhP6zkjKbpDeE/vcMBlA/O4D9rxvLt6HfgP534/O7OC+A/OGlhZsEj3z/iSy9gCBreP8kULfp+29w/PKemnhO52z+51Ry+8JHaPx2sYorRZdk/OWLzWMNK2D/NEN+bkEDXP5RD0j5ERdY/sy81FQlY1T+ncH//7mzUP588vm7whNM/BWkx25HG0j9rFyl3cgvSPwm+MQEFWtE/x2FclLip0D+5orl5h/DPP8GETRpJ7M4/ebBWKXjozT843wd1sOTMP8iOLM2z5Ms/lJE2QTXqyj88kmkzKQnKP/0h5H03J8k/+xI/Ud1EyD/FVney5mfHPznCfxZwlcY/mthRFTS/xT+tuAwXXOXEPxJJR6K+DsQ/eU0nyBhMwz9oExKGoYLCP+HJkmXYusE/lOEU/hr2wD+a2L+gXTLAP7zTO3hH4b4/PU60IIhWvT9s66jNYs+7P+JD7jysTbo/kMQiKPK7uD+KpJGCtjO3Px/i8LTHqrU/1+RwsdxOtz+qqJ9BSdK4P55SQyRIVro/4hVspObfuz+gfwZgjWy9P2lsdjoP7b4/ErJwBkg7wD+ccGnDcP/AP5jLuelKvcE/lf4gKPJ8wj9oJDLMTTzDP3HPt35i+MM/qE/zhmuwxD8JBdM//3TFP3DZYJvMPsY/8e8kczsLxz/l1qiEhNrHP3EVKmnz08g/dcNgYjPryT/A6CXtTATLP9aEqrmLGsw/KCOAUStLzT9iacoco4XOP3Ev3NMgx88/BLJBCF6F0D9o43+VISjRP9XA1AXzDtI/80kRMAr00j/53w6RBNvTP/UTHD/VytQ/953x2YfA1T/9LqA5+OvWP+fSN2JAHNg/qmF04k1P2T/HOlUohI/aPxHqsSrj3ts/Ew1ZvmdG3T9HlJhrHMXeP38WFaFoGeA/1QmgDubH4D8DVnHjx4PhP4AcuoYMHOI/m6sUfCej4j/FtnyqgRfjPyGh2hAvbuM/cEqucXep4z9WMHLBnM7jPxN39Wa/4uM/ZUFLi2j+4z8XIFVqRy7kP5t7bjMqT+Q/",
          "dtype": "f8"
         },
         "yaxis": "y"
        },
        {
         "line": {
          "color": "rgb(152,78,163)",
          "width": 2
         },
         "mode": "lines",
         "name": "random",
         "type": "scatter",
         "x": {
          "bdata": "AAAAAAAAAAB7FK5H4XqUP3sUrkfheqQ/uB6F61G4rj97FK5H4Xq0P5qZmZmZmbk/uB6F61G4vj/sUbgehevBP3sUrkfhesQ/CtejcD0Kxz+amZmZmZnJPylcj8L1KMw/uB6F61G4zj+kcD0K16PQP+xRuB6F69E/MzMzMzMz0z97FK5H4XrUP8P1KFyPwtU/CtejcD0K1z9SuB6F61HYP5qZmZmZmdk/4XoUrkfh2j8pXI/C9SjcP3E9CtejcN0/uB6F61G43j8AAAAAAADgP6RwPQrXo+A/SOF6FK5H4T/sUbgehevhP4/C9Shcj+I/MzMzMzMz4z/Xo3A9CtfjP3sUrkfheuQ/H4XrUbge5T/D9Shcj8LlP2dmZmZmZuY/CtejcD0K5z+uR+F6FK7nP1K4HoXrUeg/9ihcj8L16D+amZmZmZnpPz4K16NwPeo/4XoUrkfh6j+F61G4HoXrPylcj8L1KOw/zczMzMzM7D9xPQrXo3DtPxWuR+F6FO4/uB6F61G47j9cj8L1KFzvPwAAAAAAAPA/",
          "dtype": "f8"
         },
         "xaxis": "x",
         "y": {
          "bdata": "y0hzOfIO4z/B8qlh1/HiP8ZQxAYsvOI/8g0YIoKj4j/J+F9lkY7iP7rv0KFCaOI/EG4vF18t4j+toUI1tNfhPzOmOn7SZ+E/LV8NDQTo4D8RumVC4FjgP3bmcQAKWt8/9ey07n0g3j+Tz0/wbtrcPzOegRXfh9s/AzYd/8dI2j9HOCC84R7ZP/N7sSkLA9g/Tp1FlqHz1j9Uh6u/HOjVPxoHqZCq29Q/4/Th1R730z8flSM4yxfTP4Lvc5S/QtI/q8IWCL1u0T86Umx4WpjQPxqqwXE8BNA/m3xZoQ3gzj82PfFuP7jNP5NrqMa7lsw/9fzk3MWAyz/aARnqZIrKP4IvNttjkMk/o9Y5b2aWyD9qaizxw7DHP/35iGVD48Y/5SdkApcTxj87s9gDjUHFP2rW62J+dcQ/7jY7LLWzwz8o7N0IRe7CPwA+UdAKJsI/GJkprkJhwT+z2ZL1PJXAP3IzoTycm78/EnmohEkLvj9aunOs8G+8P+DQuJsw3Lo/hb6EjT9JuT9Zl1vIibW3P6irdffLIbY/",
          "dtype": "f8"
         },
         "yaxis": "y"
        },
        {
         "fill": "toself",
         "fillcolor": "rgba(152,78,163,0.1)",
         "hoverinfo": "skip",
         "line": {
          "color": "rgba(255,255,255,0)"
         },
         "showlegend": false,
         "type": "scatter",
         "x": {
          "bdata": "AAAAAAAAAAB7FK5H4XqUP3sUrkfheqQ/uB6F61G4rj97FK5H4Xq0P5qZmZmZmbk/uB6F61G4vj/sUbgehevBP3sUrkfhesQ/CtejcD0Kxz+amZmZmZnJPylcj8L1KMw/uB6F61G4zj+kcD0K16PQP+xRuB6F69E/MzMzMzMz0z97FK5H4XrUP8P1KFyPwtU/CtejcD0K1z9SuB6F61HYP5qZmZmZmdk/4XoUrkfh2j8pXI/C9SjcP3E9CtejcN0/uB6F61G43j8AAAAAAADgP6RwPQrXo+A/SOF6FK5H4T/sUbgehevhP4/C9Shcj+I/MzMzMzMz4z/Xo3A9CtfjP3sUrkfheuQ/H4XrUbge5T/D9Shcj8LlP2dmZmZmZuY/CtejcD0K5z+uR+F6FK7nP1K4HoXrUeg/9ihcj8L16D+amZmZmZnpPz4K16NwPeo/4XoUrkfh6j+F61G4HoXrPylcj8L1KOw/zczMzMzM7D9xPQrXo3DtPxWuR+F6FO4/uB6F61G47j9cj8L1KFzvPwAAAAAAAPA/AAAAAAAA8D9cj8L1KFzvP7gehetRuO4/Fa5H4XoU7j9xPQrXo3DtP83MzMzMzOw/KVyPwvUo7D+F61G4HoXrP+F6FK5H4eo/PgrXo3A96j+amZmZmZnpP/YoXI/C9eg/UrgehetR6D+uR+F6FK7nPwrXo3A9Cuc/Z2ZmZmZm5j/D9Shcj8LlPx+F61G4HuU/exSuR+F65D/Xo3A9CtfjPzMzMzMzM+M/j8L1KFyP4j/sUbgehevhP0jhehSuR+E/pHA9Ctej4D8AAAAAAADgP7gehetRuN4/cT0K16Nw3T8pXI/C9SjcP+F6FK5H4do/mpmZmZmZ2T9SuB6F61HYPwrXo3A9Ctc/w/UoXI/C1T97FK5H4XrUPzMzMzMzM9M/7FG4HoXr0T+kcD0K16PQP7gehetRuM4/KVyPwvUozD+amZmZmZnJPwrXo3A9Csc/exSuR+F6xD/sUbgehevBP7gehetRuL4/mpmZmZmZuT97FK5H4Xq0P7gehetRuK4/exSuR+F6pD97FK5H4XqUPwAAAAAAAAAA",
          "dtype": "f8"
         },
         "xaxis": "x",
         "y": {
          "bdata": "lJId8uXN4T9HNKEwLrPhPy/6odE4euE/EcVHALVc4T9+6NWSQkThP++nQGvQGeE/JCGZ18Lc4D84+/m0o4jgP5vOszYjHeA/CEyPSb9H3z9rq989jTveP/NlsDL8AN0/k3A972rk2z/8C02TPMHaPwhdTTFvmNk/cW5m1COB2D+cnzhHoXvXP06QonafhNY/Yhv8avqa1T+VvZDn9rPUPx+31NDRytM/cpxTDocC0z8iacTz6D7SPzAyCDFNhdE/eYadDgjM0D9CoGKfxRHQPziiEbmUGc8/hWcbPWsPzj+MxhVi3AXNP3h6X7pcAsw/9N1i/cIIyz+fK0Jv7C3KP67kv23sTck/AytMQ3NoyD/Mo3LOF4/HPywFJuxCw8Y//PSgYPXrxT8nWzSPWQ3FPy4ZLyU8N8Q/HBV34WZswz+TjtgJ7J7CP/94+w5C0ME/XDJbWrsEwT86MfztlTHAP299Lo6Zzr4/NO3OseUyvT839XOH+4+7P84PqoJn8Lk/cY4WwblPuD92OkDXyK22P6Cw5f2fC7U/sKYF8fc3tz889Ha5Sr24P5nu8lnFQro/8pHHtPnHuz99f3PR5U+9P/AEglet474/u/SJdU80wD8sgin94/jAP9T/9wHKvcE/AQOnkdN7wj+9SeMHnj3DP8BY/3YD+8M/ppOooMCzxD9PC314wHXFP85aJ6Q4O8Y/zu7r3kMDxz8IMeYTcNLHP0OCJ5tZxMg/VnqsSNvSyT8V2O9k3ebKP/YbZ7zI+Ms/rlzx0horzT/gs8x7omrOP7GRlwWwsM8/GIP6hq570D8yBHZR7x7RP93+jwFyEdI/1Kzf9zEA0z8cwYJ8rfDTP1RNcJ2269Q/FVd9UIPs1T8TUcaXQhzXPzofj8FITNg/mGfA3HaB2T/y0AcxIsLaP5X90ylsENw/Xt+1+U533T8qk1JNofPeP6s0FndILuA/fbMZ54vZ4D9sntvl+ZPhP1YYU3UoLOI/y33BxYGy4j8iSIu1xCbjP/y6xVb7feM/hTdh2LS24z8UCeo34NjjP9NW6ENP6uM/XafmOx/+4z87sbKSgDDkPwL/yID+T+Q/",
          "dtype": "f8"
         },
         "yaxis": "y"
        },
        {
         "error_x": {
          "array": {
           "bdata": "5u6ynaWkkD+iHpSblX2DP7sKxfeECpE/fNQXdKeEkT8=",
           "dtype": "f8"
          },
          "type": "data"
         },
         "marker": {
          "color": "skyblue",
          "line": {
           "color": "black",
           "width": 1
          }
         },
         "orientation": "h",
         "showlegend": false,
         "type": "bar",
         "x": {
          "bdata": "b5ewcXG11D9xZwLeTp3UP/wbaVt6stM/EKSLAfJS0z8=",
          "dtype": "f8"
         },
         "xaxis": "x2",
         "y": [
          "default",
          "False",
          "random",
          "incumbent"
         ],
         "yaxis": "y2"
        }
       ],
       "layout": {
        "font": {
         "size": 16
        },
        "height": 400,
        "legend": {
         "font": {
          "size": 16
         },
         "title": {
          "text": "Optimizers"
         }
        },
        "margin": {
         "b": 50,
         "l": 50,
         "r": 50,
         "t": 60
        },
        "template": {
         "data": {
          "bar": [
           {
            "error_x": {
             "color": "#2a3f5f"
            },
            "error_y": {
             "color": "#2a3f5f"
            },
            "marker": {
             "line": {
              "color": "white",
              "width": 0.5
             },
             "pattern": {
              "fillmode": "overlay",
              "size": 10,
              "solidity": 0.2
             }
            },
            "type": "bar"
           }
          ],
          "barpolar": [
           {
            "marker": {
             "line": {
              "color": "white",
              "width": 0.5
             },
             "pattern": {
              "fillmode": "overlay",
              "size": 10,
              "solidity": 0.2
             }
            },
            "type": "barpolar"
           }
          ],
          "carpet": [
           {
            "aaxis": {
             "endlinecolor": "#2a3f5f",
             "gridcolor": "#C8D4E3",
             "linecolor": "#C8D4E3",
             "minorgridcolor": "#C8D4E3",
             "startlinecolor": "#2a3f5f"
            },
            "baxis": {
             "endlinecolor": "#2a3f5f",
             "gridcolor": "#C8D4E3",
             "linecolor": "#C8D4E3",
             "minorgridcolor": "#C8D4E3",
             "startlinecolor": "#2a3f5f"
            },
            "type": "carpet"
           }
          ],
          "choropleth": [
           {
            "colorbar": {
             "outlinewidth": 0,
             "ticks": ""
            },
            "type": "choropleth"
           }
          ],
          "contour": [
           {
            "colorbar": {
             "outlinewidth": 0,
             "ticks": ""
            },
            "colorscale": [
             [
              0,
              "#0d0887"
             ],
             [
              0.1111111111111111,
              "#46039f"
             ],
             [
              0.2222222222222222,
              "#7201a8"
             ],
             [
              0.3333333333333333,
              "#9c179e"
             ],
             [
              0.4444444444444444,
              "#bd3786"
             ],
             [
              0.5555555555555556,
              "#d8576b"
             ],
             [
              0.6666666666666666,
              "#ed7953"
             ],
             [
              0.7777777777777778,
              "#fb9f3a"
             ],
             [
              0.8888888888888888,
              "#fdca26"
             ],
             [
              1,
              "#f0f921"
             ]
            ],
            "type": "contour"
           }
          ],
          "contourcarpet": [
           {
            "colorbar": {
             "outlinewidth": 0,
             "ticks": ""
            },
            "type": "contourcarpet"
           }
          ],
          "heatmap": [
           {
            "colorbar": {
             "outlinewidth": 0,
             "ticks": ""
            },
            "colorscale": [
             [
              0,
              "#0d0887"
             ],
             [
              0.1111111111111111,
              "#46039f"
             ],
             [
              0.2222222222222222,
              "#7201a8"
             ],
             [
              0.3333333333333333,
              "#9c179e"
             ],
             [
              0.4444444444444444,
              "#bd3786"
             ],
             [
              0.5555555555555556,
              "#d8576b"
             ],
             [
              0.6666666666666666,
              "#ed7953"
             ],
             [
              0.7777777777777778,
              "#fb9f3a"
             ],
             [
              0.8888888888888888,
              "#fdca26"
             ],
             [
              1,
              "#f0f921"
             ]
            ],
            "type": "heatmap"
           }
          ],
          "histogram": [
           {
            "marker": {
             "pattern": {
              "fillmode": "overlay",
              "size": 10,
              "solidity": 0.2
             }
            },
            "type": "histogram"
           }
          ],
          "histogram2d": [
           {
            "colorbar": {
             "outlinewidth": 0,
             "ticks": ""
            },
            "colorscale": [
             [
              0,
              "#0d0887"
             ],
             [
              0.1111111111111111,
              "#46039f"
             ],
             [
              0.2222222222222222,
              "#7201a8"
             ],
             [
              0.3333333333333333,
              "#9c179e"
             ],
             [
              0.4444444444444444,
              "#bd3786"
             ],
             [
              0.5555555555555556,
              "#d8576b"
             ],
             [
              0.6666666666666666,
              "#ed7953"
             ],
             [
              0.7777777777777778,
              "#fb9f3a"
             ],
             [
              0.8888888888888888,
              "#fdca26"
             ],
             [
              1,
              "#f0f921"
             ]
            ],
            "type": "histogram2d"
           }
          ],
          "histogram2dcontour": [
           {
            "colorbar": {
             "outlinewidth": 0,
             "ticks": ""
            },
            "colorscale": [
             [
              0,
              "#0d0887"
             ],
             [
              0.1111111111111111,
              "#46039f"
             ],
             [
              0.2222222222222222,
              "#7201a8"
             ],
             [
              0.3333333333333333,
              "#9c179e"
             ],
             [
              0.4444444444444444,
              "#bd3786"
             ],
             [
              0.5555555555555556,
              "#d8576b"
             ],
             [
              0.6666666666666666,
              "#ed7953"
             ],
             [
              0.7777777777777778,
              "#fb9f3a"
             ],
             [
              0.8888888888888888,
              "#fdca26"
             ],
             [
              1,
              "#f0f921"
             ]
            ],
            "type": "histogram2dcontour"
           }
          ],
          "mesh3d": [
           {
            "colorbar": {
             "outlinewidth": 0,
             "ticks": ""
            },
            "type": "mesh3d"
           }
          ],
          "parcoords": [
           {
            "line": {
             "colorbar": {
              "outlinewidth": 0,
              "ticks": ""
             }
            },
            "type": "parcoords"
           }
          ],
          "pie": [
           {
            "automargin": true,
            "type": "pie"
           }
          ],
          "scatter": [
           {
            "fillpattern": {
             "fillmode": "overlay",
             "size": 10,
             "solidity": 0.2
            },
            "type": "scatter"
           }
          ],
          "scatter3d": [
           {
            "line": {
             "colorbar": {
              "outlinewidth": 0,
              "ticks": ""
             }
            },
            "marker": {
             "colorbar": {
              "outlinewidth": 0,
              "ticks": ""
             }
            },
            "type": "scatter3d"
           }
          ],
          "scattercarpet": [
           {
            "marker": {
             "colorbar": {
              "outlinewidth": 0,
              "ticks": ""
             }
            },
            "type": "scattercarpet"
           }
          ],
          "scattergeo": [
           {
            "marker": {
             "colorbar": {
              "outlinewidth": 0,
              "ticks": ""
             }
            },
            "type": "scattergeo"
           }
          ],
          "scattergl": [
           {
            "marker": {
             "colorbar": {
              "outlinewidth": 0,
              "ticks": ""
             }
            },
            "type": "scattergl"
           }
          ],
          "scattermap": [
           {
            "marker": {
             "colorbar": {
              "outlinewidth": 0,
              "ticks": ""
             }
            },
            "type": "scattermap"
           }
          ],
          "scattermapbox": [
           {
            "marker": {
             "colorbar": {
              "outlinewidth": 0,
              "ticks": ""
             }
            },
            "type": "scattermapbox"
           }
          ],
          "scatterpolar": [
           {
            "marker": {
             "colorbar": {
              "outlinewidth": 0,
              "ticks": ""
             }
            },
            "type": "scatterpolar"
           }
          ],
          "scatterpolargl": [
           {
            "marker": {
             "colorbar": {
              "outlinewidth": 0,
              "ticks": ""
             }
            },
            "type": "scatterpolargl"
           }
          ],
          "scatterternary": [
           {
            "marker": {
             "colorbar": {
              "outlinewidth": 0,
              "ticks": ""
             }
            },
            "type": "scatterternary"
           }
          ],
          "surface": [
           {
            "colorbar": {
             "outlinewidth": 0,
             "ticks": ""
            },
            "colorscale": [
             [
              0,
              "#0d0887"
             ],
             [
              0.1111111111111111,
              "#46039f"
             ],
             [
              0.2222222222222222,
              "#7201a8"
             ],
             [
              0.3333333333333333,
              "#9c179e"
             ],
             [
              0.4444444444444444,
              "#bd3786"
             ],
             [
              0.5555555555555556,
              "#d8576b"
             ],
             [
              0.6666666666666666,
              "#ed7953"
             ],
             [
              0.7777777777777778,
              "#fb9f3a"
             ],
             [
              0.8888888888888888,
              "#fdca26"
             ],
             [
              1,
              "#f0f921"
             ]
            ],
            "type": "surface"
           }
          ],
          "table": [
           {
            "cells": {
             "fill": {
              "color": "#EBF0F8"
             },
             "line": {
              "color": "white"
             }
            },
            "header": {
             "fill": {
              "color": "#C8D4E3"
             },
             "line": {
              "color": "white"
             }
            },
            "type": "table"
           }
          ]
         },
         "layout": {
          "annotationdefaults": {
           "arrowcolor": "#2a3f5f",
           "arrowhead": 0,
           "arrowwidth": 1
          },
          "autotypenumbers": "strict",
          "coloraxis": {
           "colorbar": {
            "outlinewidth": 0,
            "ticks": ""
           }
          },
          "colorscale": {
           "diverging": [
            [
             0,
             "#8e0152"
            ],
            [
             0.1,
             "#c51b7d"
            ],
            [
             0.2,
             "#de77ae"
            ],
            [
             0.3,
             "#f1b6da"
            ],
            [
             0.4,
             "#fde0ef"
            ],
            [
             0.5,
             "#f7f7f7"
            ],
            [
             0.6,
             "#e6f5d0"
            ],
            [
             0.7,
             "#b8e186"
            ],
            [
             0.8,
             "#7fbc41"
            ],
            [
             0.9,
             "#4d9221"
            ],
            [
             1,
             "#276419"
            ]
           ],
           "sequential": [
            [
             0,
             "#0d0887"
            ],
            [
             0.1111111111111111,
             "#46039f"
            ],
            [
             0.2222222222222222,
             "#7201a8"
            ],
            [
             0.3333333333333333,
             "#9c179e"
            ],
            [
             0.4444444444444444,
             "#bd3786"
            ],
            [
             0.5555555555555556,
             "#d8576b"
            ],
            [
             0.6666666666666666,
             "#ed7953"
            ],
            [
             0.7777777777777778,
             "#fb9f3a"
            ],
            [
             0.8888888888888888,
             "#fdca26"
            ],
            [
             1,
             "#f0f921"
            ]
           ],
           "sequentialminus": [
            [
             0,
             "#0d0887"
            ],
            [
             0.1111111111111111,
             "#46039f"
            ],
            [
             0.2222222222222222,
             "#7201a8"
            ],
            [
             0.3333333333333333,
             "#9c179e"
            ],
            [
             0.4444444444444444,
             "#bd3786"
            ],
            [
             0.5555555555555556,
             "#d8576b"
            ],
            [
             0.6666666666666666,
             "#ed7953"
            ],
            [
             0.7777777777777778,
             "#fb9f3a"
            ],
            [
             0.8888888888888888,
             "#fdca26"
            ],
            [
             1,
             "#f0f921"
            ]
           ]
          },
          "colorway": [
           "#636efa",
           "#EF553B",
           "#00cc96",
           "#ab63fa",
           "#FFA15A",
           "#19d3f3",
           "#FF6692",
           "#B6E880",
           "#FF97FF",
           "#FECB52"
          ],
          "font": {
           "color": "#2a3f5f"
          },
          "geo": {
           "bgcolor": "white",
           "lakecolor": "white",
           "landcolor": "white",
           "showlakes": true,
           "showland": true,
           "subunitcolor": "#C8D4E3"
          },
          "hoverlabel": {
           "align": "left"
          },
          "hovermode": "closest",
          "mapbox": {
           "style": "light"
          },
          "paper_bgcolor": "white",
          "plot_bgcolor": "white",
          "polar": {
           "angularaxis": {
            "gridcolor": "#EBF0F8",
            "linecolor": "#EBF0F8",
            "ticks": ""
           },
           "bgcolor": "white",
           "radialaxis": {
            "gridcolor": "#EBF0F8",
            "linecolor": "#EBF0F8",
            "ticks": ""
           }
          },
          "scene": {
           "xaxis": {
            "backgroundcolor": "white",
            "gridcolor": "#DFE8F3",
            "gridwidth": 2,
            "linecolor": "#EBF0F8",
            "showbackground": true,
            "ticks": "",
            "zerolinecolor": "#EBF0F8"
           },
           "yaxis": {
            "backgroundcolor": "white",
            "gridcolor": "#DFE8F3",
            "gridwidth": 2,
            "linecolor": "#EBF0F8",
            "showbackground": true,
            "ticks": "",
            "zerolinecolor": "#EBF0F8"
           },
           "zaxis": {
            "backgroundcolor": "white",
            "gridcolor": "#DFE8F3",
            "gridwidth": 2,
            "linecolor": "#EBF0F8",
            "showbackground": true,
            "ticks": "",
            "zerolinecolor": "#EBF0F8"
           }
          },
          "shapedefaults": {
           "line": {
            "color": "#2a3f5f"
           }
          },
          "ternary": {
           "aaxis": {
            "gridcolor": "#DFE8F3",
            "linecolor": "#A2B1C6",
            "ticks": ""
           },
           "baxis": {
            "gridcolor": "#DFE8F3",
            "linecolor": "#A2B1C6",
            "ticks": ""
           },
           "bgcolor": "white",
           "caxis": {
            "gridcolor": "#DFE8F3",
            "linecolor": "#A2B1C6",
            "ticks": ""
           }
          },
          "title": {
           "x": 0.05
          },
          "xaxis": {
           "automargin": true,
           "gridcolor": "#EBF0F8",
           "linecolor": "#EBF0F8",
           "ticks": "",
           "title": {
            "standoff": 15
           },
           "zerolinecolor": "#EBF0F8",
           "zerolinewidth": 2
          },
          "yaxis": {
           "automargin": true,
           "gridcolor": "#EBF0F8",
           "linecolor": "#EBF0F8",
           "ticks": "",
           "title": {
            "standoff": 15
           },
           "zerolinecolor": "#EBF0F8",
           "zerolinewidth": 2
          }
         }
        },
        "width": 1200,
        "xaxis": {
         "anchor": "y",
         "domain": [
          0,
          0.51
         ],
         "title": {
          "text": "Normalized Trials"
         }
        },
        "xaxis2": {
         "anchor": "y2",
         "domain": [
          0.66,
          1
         ],
         "title": {
          "text": "AUC"
         }
        },
        "yaxis": {
         "anchor": "x",
         "domain": [
          0,
          1
         ],
         "title": {
          "text": "Normalized Inc-Performance"
         }
        },
        "yaxis2": {
         "anchor": "x2",
         "domain": [
          0,
          1
         ],
         "title": {
          "text": "Optimizer"
         }
        }
       }
      }
     },
     "metadata": {},
     "output_type": "display_data"
    }
   ],
   "source": [
    "plot_one_thing('pc_method')"
   ]
  },
  {
   "cell_type": "code",
   "execution_count": 74,
   "id": "8c58d572",
   "metadata": {},
   "outputs": [
    {
     "name": "stderr",
     "output_type": "stream",
     "text": [
      "/home/daphne/Code/hpi_parego/CARP-S/carps/analysis/generate_report.py:276: UserWarning:\n",
      "\n",
      "Result is not significant and results of the plot may be misleading!\n",
      "\n",
      "/home/daphne/Code/hpi_parego/CARP-S/carps/analysis/run_autorank.py:322: FutureWarning:\n",
      "\n",
      "Series.__getitem__ treating keys as positions is deprecated. In a future version, integer keys will always be treated as labels (consistent with DataFrame behavior). To access a value by position, use `ser.iloc[pos]`\n",
      "\n",
      "/home/daphne/Code/hpi_parego/CARP-S/carps/analysis/run_autorank.py:421: UserWarning:\n",
      "\n",
      "FigureCanvasAgg is non-interactive, and thus cannot be shown\n",
      "\n",
      "/home/daphne/Code/hpi_parego/CARP-S/carps/analysis/run_autorank.py:198: UserWarning:\n",
      "\n",
      "Result is not significant and results of the plot may be misleading!\n",
      "\n"
     ]
    },
    {
     "data": {
      "text/html": [
       "<pre style=\"white-space:pre;overflow-x:auto;line-height:normal;font-family:Menlo,'DejaVu Sans Mono',consolas,'Courier New',monospace\"><span style=\"color: #7fbfbf; text-decoration-color: #7fbfbf\">[10:21:28] </span><span style=\"color: #000080; text-decoration-color: #000080\">INFO    </span> Create dataframe for neat plotting by aligning x-axis <span style=\"color: #800080; text-decoration-color: #800080\">/</span> interpolating        <a href=\"file:///home/daphne/Code/hpi_parego/CARP-S/carps/analysis/gather_data.py\" target=\"_blank\"><span style=\"color: #7f7f7f; text-decoration-color: #7f7f7f\">gather_data.py</span></a><span style=\"color: #7f7f7f; text-decoration-color: #7f7f7f\">:</span><a href=\"file:///home/daphne/Code/hpi_parego/CARP-S/carps/analysis/gather_data.py#725\" target=\"_blank\"><span style=\"color: #7f7f7f; text-decoration-color: #7f7f7f\">725</span></a>\n",
       "<span style=\"color: #7fbfbf; text-decoration-color: #7fbfbf\">           </span>         budget.                                                                      <span style=\"color: #7f7f7f; text-decoration-color: #7f7f7f\">                  </span>\n",
       "</pre>\n"
      ],
      "text/plain": [
       "\u001b[2;36m[10:21:28]\u001b[0m\u001b[2;36m \u001b[0m\u001b[34mINFO    \u001b[0m Create dataframe for neat plotting by aligning x-axis \u001b[35m/\u001b[0m interpolating        \u001b]8;id=564222;file:///home/daphne/Code/hpi_parego/CARP-S/carps/analysis/gather_data.py\u001b\\\u001b[2mgather_data.py\u001b[0m\u001b]8;;\u001b\\\u001b[2m:\u001b[0m\u001b]8;id=125380;file:///home/daphne/Code/hpi_parego/CARP-S/carps/analysis/gather_data.py#725\u001b\\\u001b[2m725\u001b[0m\u001b]8;;\u001b\\\n",
       "\u001b[2;36m           \u001b[0m         budget.                                                                      \u001b[2m                  \u001b[0m\n"
      ]
     },
     "metadata": {},
     "output_type": "display_data"
    },
    {
     "name": "stderr",
     "output_type": "stream",
     "text": [
      "/home/daphne/Code/hpi_parego/CARP-S/carps/analysis/generate_report.py:108: UserWarning:\n",
      "\n",
      "Result is not significant and results of the plot may be misleading!\n",
      "\n",
      "/home/daphne/Code/hpi_parego/CARP-S/carps/analysis/generate_report.py:108: UserWarning:\n",
      "\n",
      "Result is not significant and results of the plot may be misleading!\n",
      "\n",
      "/home/daphne/Code/hpi_parego/CARP-S/carps/analysis/generate_report.py:108: UserWarning:\n",
      "\n",
      "Result is not significant and results of the plot may be misleading!\n",
      "\n",
      "/home/daphne/Code/hpi_parego/CARP-S/carps/analysis/generate_report.py:108: UserWarning:\n",
      "\n",
      "Result is not significant and results of the plot may be misleading!\n",
      "\n"
     ]
    },
    {
     "name": "stdout",
     "output_type": "stream",
     "text": [
      "['adjust_cs_only' 'adjust_pc_only' 'both']\n"
     ]
    },
    {
     "name": "stderr",
     "output_type": "stream",
     "text": [
      "/tmp/ipykernel_4800/1961929167.py:25: DeprecationWarning:\n",
      "\n",
      "DataFrameGroupBy.apply operated on the grouping columns. This behavior is deprecated, and in a future version of pandas the grouping columns will be excluded from the operation. Either pass `include_groups=False` to exclude the groupings or explicitly select the grouping columns after groupby to silence this warning.\n",
      "\n"
     ]
    },
    {
     "data": {
      "application/vnd.plotly.v1+json": {
       "config": {
        "plotlyServerURL": "https://plot.ly"
       },
       "data": [
        {
         "line": {
          "color": "rgb(228,26,28)",
          "width": 2
         },
         "mode": "lines",
         "name": "adjust_cs_only",
         "type": "scatter",
         "x": {
          "bdata": "AAAAAAAAAAB7FK5H4XqUP3sUrkfheqQ/uB6F61G4rj97FK5H4Xq0P5qZmZmZmbk/uB6F61G4vj/sUbgehevBP3sUrkfhesQ/CtejcD0Kxz+amZmZmZnJPylcj8L1KMw/uB6F61G4zj+kcD0K16PQP+xRuB6F69E/MzMzMzMz0z97FK5H4XrUP8P1KFyPwtU/CtejcD0K1z9SuB6F61HYP5qZmZmZmdk/4XoUrkfh2j8pXI/C9SjcP3E9CtejcN0/uB6F61G43j8AAAAAAADgP6RwPQrXo+A/SOF6FK5H4T/sUbgehevhP4/C9Shcj+I/MzMzMzMz4z/Xo3A9CtfjP3sUrkfheuQ/H4XrUbge5T/D9Shcj8LlP2dmZmZmZuY/CtejcD0K5z+uR+F6FK7nP1K4HoXrUeg/9ihcj8L16D+amZmZmZnpPz4K16NwPeo/4XoUrkfh6j+F61G4HoXrPylcj8L1KOw/zczMzMzM7D9xPQrXo3DtPxWuR+F6FO4/uB6F61G47j9cj8L1KFzvPwAAAAAAAPA/",
          "dtype": "f8"
         },
         "xaxis": "x",
         "y": {
          "bdata": "UFsWwi0O4z/Ox2GZ2O/iPwqW+zfXveI/TfC26xGg4j+N9F0LT4jiP0rYLVBFZOI/xkzSpHsq4j9306TLydDhPx2bV+vKWeE/rdrnGeTP4D9xHSCWbTbgP15ihM22A98/dTEl+Mm53T+SfPpg0mjcP7a333ZhEds/3vuiNYvM2T9IB/GuepzYP9I3T7QDfdc/SL+nxjNs1j9CbDpeJF7VP64CdZlMVdQ/3CpgN7R40z9yvvSYMqLSP1acUlaZ2NE/Rg84QqAP0T+rlmyQOUXQPyXKeyClbM8/Ik9AeWpPzj+Yny6cvDLNP/Bv3L1RGcw/wKm+V20Hyz/bab9wEBLKPxvoTA+/G8k/xRrGsoAkyD8ltzSkQEHHP+ayJ1pbesY/sTsRRIq0xT/AnCxkaO/EP/tSNuuTJcQ/ssmGShdxwz/uz5uuQrfCP9vjaGYZA8I/u8ISPvlFwT/9d8CSMpjAP2MqZZ6nxb8/MkO8VItOvj+uWptSkMe8P9bN0cP0Srs/ndj08l7UuT8rv6GiHmG4P5MXaEnF7bY/",
          "dtype": "f8"
         },
         "yaxis": "y"
        },
        {
         "fill": "toself",
         "fillcolor": "rgba(228,26,28,0.1)",
         "hoverinfo": "skip",
         "line": {
          "color": "rgba(255,255,255,0)"
         },
         "showlegend": false,
         "type": "scatter",
         "x": {
          "bdata": "AAAAAAAAAAB7FK5H4XqUP3sUrkfheqQ/uB6F61G4rj97FK5H4Xq0P5qZmZmZmbk/uB6F61G4vj/sUbgehevBP3sUrkfhesQ/CtejcD0Kxz+amZmZmZnJPylcj8L1KMw/uB6F61G4zj+kcD0K16PQP+xRuB6F69E/MzMzMzMz0z97FK5H4XrUP8P1KFyPwtU/CtejcD0K1z9SuB6F61HYP5qZmZmZmdk/4XoUrkfh2j8pXI/C9SjcP3E9CtejcN0/uB6F61G43j8AAAAAAADgP6RwPQrXo+A/SOF6FK5H4T/sUbgehevhP4/C9Shcj+I/MzMzMzMz4z/Xo3A9CtfjP3sUrkfheuQ/H4XrUbge5T/D9Shcj8LlP2dmZmZmZuY/CtejcD0K5z+uR+F6FK7nP1K4HoXrUeg/9ihcj8L16D+amZmZmZnpPz4K16NwPeo/4XoUrkfh6j+F61G4HoXrPylcj8L1KOw/zczMzMzM7D9xPQrXo3DtPxWuR+F6FO4/uB6F61G47j9cj8L1KFzvPwAAAAAAAPA/AAAAAAAA8D9cj8L1KFzvP7gehetRuO4/Fa5H4XoU7j9xPQrXo3DtP83MzMzMzOw/KVyPwvUo7D+F61G4HoXrP+F6FK5H4eo/PgrXo3A96j+amZmZmZnpP/YoXI/C9eg/UrgehetR6D+uR+F6FK7nPwrXo3A9Cuc/Z2ZmZmZm5j/D9Shcj8LlPx+F61G4HuU/exSuR+F65D/Xo3A9CtfjPzMzMzMzM+M/j8L1KFyP4j/sUbgehevhP0jhehSuR+E/pHA9Ctej4D8AAAAAAADgP7gehetRuN4/cT0K16Nw3T8pXI/C9SjcP+F6FK5H4do/mpmZmZmZ2T9SuB6F61HYPwrXo3A9Ctc/w/UoXI/C1T97FK5H4XrUPzMzMzMzM9M/7FG4HoXr0T+kcD0K16PQP7gehetRuM4/KVyPwvUozD+amZmZmZnJPwrXo3A9Csc/exSuR+F6xD/sUbgehevBP7gehetRuL4/mpmZmZmZuT97FK5H4Xq0P7gehetRuK4/exSuR+F6pD97FK5H4XqUPwAAAAAAAAAA",
          "dtype": "f8"
         },
         "xaxis": "x",
         "y": {
          "bdata": "14Mf/lfN4T8F7KgGp7LhPytIbAe7fOE/03F2WMVX4T8B0Bld7TvhPwS9C9OfFeE/ktsvKIrb4D9ek0PK0oTgP9XzBozKEeA/l+1YY+AZ3z9KeLOvLffdP28Q60aeqNw/yhHpgSt72z/JTTX6Ak7aP21cAwEjINk/3E9PmEQD2D+g5OybnvnWPzXNEU1VANY/Kj+V2SYW1T/+fzpg0C7UP2wKuEtVStM/2FFHz3eM0j+IdxNDg9PRP/2ygCIMJtE/uZ3qy9V40D8Km64ThZPPP1J5JGoglM4/ZzwT3dKUzT8ZgFvAO5XMP1RQzf4fmMs/ugY00FGeyj+OXpgkusLJPxD8Yq7T5sg/ZWX/cb0DyD/SM73RGSDHP1TX9rLoTMY/FIdL/xZ5xT8IVHT3jKXEP8vmkNBN0MM/IW1uGkAQwz8+Kd37tlDCPypwMpCUlcE/A2htxyXWwD8u82qLTiTAP+YlMR30174/mddIknBbvT9ozO0jdsu7PyhdFOc8Rbo/uZjOMo/CuD+UMB33AUO3P/GQWlwTw7U/NZ51NncYuD/CTSZOO3+5P4EYG7Mu5ro/hD6PoKxQvD/06EiBqsO9P8uuLxemQb8/cJfMj61ZwD/M/BWaFgzBP3MduLTMtcE/jFefPJ5wwj+edlphzh3DP0Mmn3ru0cM/K7/bBdp6xD945eTQQznFP07w1oj978U/eI5YAc6nxj94Oqx2Z2LHPyXQjPNDRcg/JtQ2cKpQyT8odea8ZmHKP8ZMSd+IcMs/jI/rfIOazD8XvwF4PdDNP91hbRUCCs8/fI1p65Qi0D/R3wGXsMDQP9OAhbhqptE/r4UkiiaL0j9cBdbu4XDTP+ADeZ/wZNQ/8Pox50Ng1T+GWDpceI3WP2Y/urNAwtc/b6KMG7L52D/wKfXBVj/aP+Cn9tLRlds//xK87J8C3T9bq7/HoYPePyBRYW5o+N8/JtoOqmev4D+9fmZURHHhP48+IwLYEuI/ZUKoSsuh4j+QEwbNwBzjP/q9dCFteeM/kPNPzeqy4z8ZGaK5sNTjP8du935e6OM/6eOKaPP+4z+XoxosCi3kP8kyDYYDT+Q/",
          "dtype": "f8"
         },
         "yaxis": "y"
        },
        {
         "line": {
          "color": "rgb(55,126,184)",
          "width": 2
         },
         "mode": "lines",
         "name": "adjust_pc_only",
         "type": "scatter",
         "x": {
          "bdata": "AAAAAAAAAAB7FK5H4XqUP3sUrkfheqQ/uB6F61G4rj97FK5H4Xq0P5qZmZmZmbk/uB6F61G4vj/sUbgehevBP3sUrkfhesQ/CtejcD0Kxz+amZmZmZnJPylcj8L1KMw/uB6F61G4zj+kcD0K16PQP+xRuB6F69E/MzMzMzMz0z97FK5H4XrUP8P1KFyPwtU/CtejcD0K1z9SuB6F61HYP5qZmZmZmdk/4XoUrkfh2j8pXI/C9SjcP3E9CtejcN0/uB6F61G43j8AAAAAAADgP6RwPQrXo+A/SOF6FK5H4T/sUbgehevhP4/C9Shcj+I/MzMzMzMz4z/Xo3A9CtfjP3sUrkfheuQ/H4XrUbge5T/D9Shcj8LlP2dmZmZmZuY/CtejcD0K5z+uR+F6FK7nP1K4HoXrUeg/9ihcj8L16D+amZmZmZnpPz4K16NwPeo/4XoUrkfh6j+F61G4HoXrPylcj8L1KOw/zczMzMzM7D9xPQrXo3DtPxWuR+F6FO4/uB6F61G47j9cj8L1KFzvPwAAAAAAAPA/",
          "dtype": "f8"
         },
         "xaxis": "x",
         "y": {
          "bdata": "1md9qggP4z/mENxozQXjP6jD7Hdgx+I/zropQLCl4j+LnV4q147iPyIqjW0HbuI/5v5CXuU64j+axFYyGOrhPzF0vxqEf+E/WCM7DE8D4T/wQsPENXjgP8YG5OkYnd8/1hQQMABr3j+QX0VxAindP5qGrBMG1ts/1Sv4+0KY2j8L7DbbsHHZP1WHOMrSXNg/waVXBWRY1z+YZA36kFbWP0yqBYkaVdU/FOn515J51D+PEGhV6KHTP4PnhTkC0NI/3i5PJUP+0T+rnJr+1irRP3fa7HLIltA/RPFW4EID0D8eGylODeHOP+IXA0J/ws0/EqVfkjiszD86QHc4TbXLPxYwE3o6vMo/BS5ZFDzDyT/23LjW4t3IPy1D2/JLEsg/nugbWRVDxz+BRYxptG/GPwPZlEuopcU/io08+1TqxD+63RyPCyzEP2d89/RmXsM/FV0FVsGIwj9+JkPI767BP5NfU23k4cA/rM/eDM8HwD9WEYRsF16+P+4XPUfZpLw/lhW/m8T3uj+MNgawkU25P7VSe8s2o7c/",
          "dtype": "f8"
         },
         "yaxis": "y"
        },
        {
         "fill": "toself",
         "fillcolor": "rgba(55,126,184,0.1)",
         "hoverinfo": "skip",
         "line": {
          "color": "rgba(255,255,255,0)"
         },
         "showlegend": false,
         "type": "scatter",
         "x": {
          "bdata": "AAAAAAAAAAB7FK5H4XqUP3sUrkfheqQ/uB6F61G4rj97FK5H4Xq0P5qZmZmZmbk/uB6F61G4vj/sUbgehevBP3sUrkfhesQ/CtejcD0Kxz+amZmZmZnJPylcj8L1KMw/uB6F61G4zj+kcD0K16PQP+xRuB6F69E/MzMzMzMz0z97FK5H4XrUP8P1KFyPwtU/CtejcD0K1z9SuB6F61HYP5qZmZmZmdk/4XoUrkfh2j8pXI/C9SjcP3E9CtejcN0/uB6F61G43j8AAAAAAADgP6RwPQrXo+A/SOF6FK5H4T/sUbgehevhP4/C9Shcj+I/MzMzMzMz4z/Xo3A9CtfjP3sUrkfheuQ/H4XrUbge5T/D9Shcj8LlP2dmZmZmZuY/CtejcD0K5z+uR+F6FK7nP1K4HoXrUeg/9ihcj8L16D+amZmZmZnpPz4K16NwPeo/4XoUrkfh6j+F61G4HoXrPylcj8L1KOw/zczMzMzM7D9xPQrXo3DtPxWuR+F6FO4/uB6F61G47j9cj8L1KFzvPwAAAAAAAPA/AAAAAAAA8D9cj8L1KFzvP7gehetRuO4/Fa5H4XoU7j9xPQrXo3DtP83MzMzMzOw/KVyPwvUo7D+F61G4HoXrP+F6FK5H4eo/PgrXo3A96j+amZmZmZnpP/YoXI/C9eg/UrgehetR6D+uR+F6FK7nPwrXo3A9Cuc/Z2ZmZmZm5j/D9Shcj8LlPx+F61G4HuU/exSuR+F65D/Xo3A9CtfjPzMzMzMzM+M/j8L1KFyP4j/sUbgehevhP0jhehSuR+E/pHA9Ctej4D8AAAAAAADgP7gehetRuN4/cT0K16Nw3T8pXI/C9SjcP+F6FK5H4do/mpmZmZmZ2T9SuB6F61HYPwrXo3A9Ctc/w/UoXI/C1T97FK5H4XrUPzMzMzMzM9M/7FG4HoXr0T+kcD0K16PQP7gehetRuM4/KVyPwvUozD+amZmZmZnJPwrXo3A9Csc/exSuR+F6xD/sUbgehevBP7gehetRuL4/mpmZmZmZuT97FK5H4Xq0P7gehetRuK4/exSuR+F6pD97FK5H4XqUPwAAAAAAAAAA",
          "dtype": "f8"
         },
         "xaxis": "x",
         "y": {
          "bdata": "wi+BtuzN4T/gsI+0S8bhP/u/4YG1h+E/o9UrCCtf4T/bzzjQRUPhP5x7YJE7H+E/YxZn1CDt4D/duoVlBJ7gP4Dwyo2SOeA/SiKwYG+L3z/mxioU1I7ePwgyUR/4Wt0/emkNpjBG3D+wwBvImSnbPxRw/AvVBdo/HzxEb2Hz2D8r7CKrlPPXP2cuLMjLAtc/JCfNBZsf1j/C1rI1PD3VPykRqFS9WNQ/lcrk/wGX0z+JuiwlDtjSPwJqFBk1HdI/TNNZH/xg0T+mjmndeqDQP3iVIcGDGtA/X48Czd8pzz/R8GhscR7OP2hr+JGvGc0/lO67ltsazD9gSLDdmDfLP0GnULSLT8o/hLJgSuZkyT+mj8SAfI7IP8DFIwIB08c/TzmqE+QNxz/Y4GrtID3GPxT34/J9bMU/W3LStaGlxD8EoVyHeNrDP1dp7vlz/sI/oCFBlOkbwj9IT/PBpjDBP4uh+xldVsA/8jiC6frevj+e36kPjg+9P9I61U9ZOrs/AShqhktmuT/PdmoO4pa3P/saWXEyx7U/b4qdJTt/uT9J9qFRQQS7PysDFLE9ibw/CvWkPlkPvj8OQ17JoKy/P9+C/KQgoMA/mx2rwGttwT+0/ZLOOC3CP4qYyReZ9cI/d48A8Fm+wz9wGt2Wnn3EP7mopkAIL8U/8rpFpNLexT8qqq3lR6LGP+2XjZ5GeMc/msCS45ZRyD9GKq0sSS3JP4apUd6RIco/67jVP+koyz8UOD6TATPMP5BbA46VPc0/XMQN8k5rzj9rRekvqaPPP9iaLNqVcdA/dh+4JA0T0T+wqssfM7XRP3CKRCuKm9I/BGX3Wc+C0z+VZqOFwmvUP5MHD7AjXNU/b0NjvXdR1j9u8me+5W/XP14k4gQtkdg/Q+BEzNm22T/r60oLze/aP4sbrIgkPdw/IJ1cGzem3T9w/m4aayjfPxlgCd3nR+A/wm072pzv4D9tInF/AanhP4s1HmjmQOI/4vezp3XF4j9Xzif/KzbjP2nnHuipiOM/qNi5SdO84z87a4SEaNrjP/mfJ3g17OM/Vcf3bQsH5D/scCgdT0XkP+qfeZ4kUOQ/",
          "dtype": "f8"
         },
         "yaxis": "y"
        },
        {
         "line": {
          "color": "rgb(77,175,74)",
          "width": 2
         },
         "mode": "lines",
         "name": "both",
         "type": "scatter",
         "x": {
          "bdata": "AAAAAAAAAAB7FK5H4XqUP3sUrkfheqQ/uB6F61G4rj97FK5H4Xq0P5qZmZmZmbk/uB6F61G4vj/sUbgehevBP3sUrkfhesQ/CtejcD0Kxz+amZmZmZnJPylcj8L1KMw/uB6F61G4zj+kcD0K16PQP+xRuB6F69E/MzMzMzMz0z97FK5H4XrUP8P1KFyPwtU/CtejcD0K1z9SuB6F61HYP5qZmZmZmdk/4XoUrkfh2j8pXI/C9SjcP3E9CtejcN0/uB6F61G43j8AAAAAAADgP6RwPQrXo+A/SOF6FK5H4T/sUbgehevhP4/C9Shcj+I/MzMzMzMz4z/Xo3A9CtfjP3sUrkfheuQ/H4XrUbge5T/D9Shcj8LlP2dmZmZmZuY/CtejcD0K5z+uR+F6FK7nP1K4HoXrUeg/9ihcj8L16D+amZmZmZnpPz4K16NwPeo/4XoUrkfh6j+F61G4HoXrPylcj8L1KOw/zczMzMzM7D9xPQrXo3DtPxWuR+F6FO4/uB6F61G47j9cj8L1KFzvPwAAAAAAAPA/",
          "dtype": "f8"
         },
         "xaxis": "x",
         "y": {
          "bdata": "oy2joacO4z9OM13Gi/DiPxrWZJf3veI/YxfYiVSh4j9jfAxD7I3iPyTUhyd9auI/ThA5Gtwz4j9lpix+s+PhP32Sjb+qd+E/9hyfr5/64D9HlMe89G3gP133xwifhd8/PeQEVZ1J3j/6E/WawAHdP9WgBDItrts/7raUKTtu2j8u7NZ8aUPZPx5YDPfEJ9g/XMsyv9kZ1z+1+sLCXw/WP9adNHGcBdU/sWaftkQo1D+i+ROD90/TPxb6xkPDgdI/RpQyF+S00T9JAoxsuubQPwxfc+TiUtA/FloHMUB+zz9lqtZ1SVfOP5MZmnGNNs0/GzoX5IofzD/2SSxNMCbLP9vXhAMvK8o/b9h41EowyT9qhOdFP0nIPxDKMEyffMc/ev6w9gauxj9K1/so8t3FP5ZypucQFcU/OBUl01NZxD8n8a/Td5rDP15gRf2N2sI/BnItAHUdwj+BOngAWF3BP6iWsgjcncA/OliIrXG5vz8TxYaRrjO+Pzrdk7YTsLw/gmzrG74ouz/elnmMhKO5P/lzKWdBHrg/",
          "dtype": "f8"
         },
         "yaxis": "y"
        },
        {
         "fill": "toself",
         "fillcolor": "rgba(77,175,74,0.1)",
         "hoverinfo": "skip",
         "line": {
          "color": "rgba(255,255,255,0)"
         },
         "showlegend": false,
         "type": "scatter",
         "x": {
          "bdata": "AAAAAAAAAAB7FK5H4XqUP3sUrkfheqQ/uB6F61G4rj97FK5H4Xq0P5qZmZmZmbk/uB6F61G4vj/sUbgehevBP3sUrkfhesQ/CtejcD0Kxz+amZmZmZnJPylcj8L1KMw/uB6F61G4zj+kcD0K16PQP+xRuB6F69E/MzMzMzMz0z97FK5H4XrUP8P1KFyPwtU/CtejcD0K1z9SuB6F61HYP5qZmZmZmdk/4XoUrkfh2j8pXI/C9SjcP3E9CtejcN0/uB6F61G43j8AAAAAAADgP6RwPQrXo+A/SOF6FK5H4T/sUbgehevhP4/C9Shcj+I/MzMzMzMz4z/Xo3A9CtfjP3sUrkfheuQ/H4XrUbge5T/D9Shcj8LlP2dmZmZmZuY/CtejcD0K5z+uR+F6FK7nP1K4HoXrUeg/9ihcj8L16D+amZmZmZnpPz4K16NwPeo/4XoUrkfh6j+F61G4HoXrPylcj8L1KOw/zczMzMzM7D9xPQrXo3DtPxWuR+F6FO4/uB6F61G47j9cj8L1KFzvPwAAAAAAAPA/AAAAAAAA8D9cj8L1KFzvP7gehetRuO4/Fa5H4XoU7j9xPQrXo3DtP83MzMzMzOw/KVyPwvUo7D+F61G4HoXrP+F6FK5H4eo/PgrXo3A96j+amZmZmZnpP/YoXI/C9eg/UrgehetR6D+uR+F6FK7nPwrXo3A9Cuc/Z2ZmZmZm5j/D9Shcj8LlPx+F61G4HuU/exSuR+F65D/Xo3A9CtfjPzMzMzMzM+M/j8L1KFyP4j/sUbgehevhP0jhehSuR+E/pHA9Ctej4D8AAAAAAADgP7gehetRuN4/cT0K16Nw3T8pXI/C9SjcP+F6FK5H4do/mpmZmZmZ2T9SuB6F61HYPwrXo3A9Ctc/w/UoXI/C1T97FK5H4XrUPzMzMzMzM9M/7FG4HoXr0T+kcD0K16PQP7gehetRuM4/KVyPwvUozD+amZmZmZnJPwrXo3A9Csc/exSuR+F6xD/sUbgehevBP7gehetRuL4/mpmZmZmZuT97FK5H4Xq0P7gehetRuK4/exSuR+F6pD97FK5H4XqUPwAAAAAAAAAA",
          "dtype": "f8"
         },
         "xaxis": "x",
         "y": {
          "bdata": "3PAeorvN4T/QzWsN5bLhP2MYCztGfOE/8FksQQ9a4T8wPLipTUPhP6uoXsH4G+E/3F4l6P7i4D8zwL0tJpTgP4KUd0EhLOA/4Sk4xUtr3z8lTXlXuWTePy7qmUOjK90/CxFbGOQM3D+ZqLZ5ZejaP6gEFqsGvtk/uw36PDal2D/AljGJ6p7XP0wIxNBTp9Y/i5wp2oW91T8cMkQdoNbUP9x8UCzu7tM/PyTyaess0z8oi4qkwG7SP3qC7hmOutE/2zwVmhQH0T+w39Do6FLQPzuhgp+Sns8/RD4s3kCXzj9PIyqpBJDNP2K0Ihr5jcw/hOf42sOTyz89StTxLbbKP0puVcWu1sk/uJrrJ4H0yD9ec8rknRzIP2wsfDfZVMc/3yxzFrSDxj8BSZv+lKrFP7nwuSMd2MQ/x8N1iFMVxD9+NUOuL1DDPyE9G91visI/UXedi4PIwT9sTww23QPBP3+vpCEhQ8A/S4mP/JABvz8JtdBarne9P72SaumL8bs/OXvw/UNluj+1ALQNZdu4PwWZaaQ7Ubc/7U7pKUfruD8HLT8LpGu6P8td5jk47Ls/tye9g5tuvT8d1TzIru++P5WTQC+pOMA/0X3A75b4wD+WJeTK0rbBP7tsvXRmcsI/m4NvHawqwz/QrBz5v+TDP6lm1B1UncQ/c/SSqwRSxT+TZVxTTxHGPxXQ7tZZ2MY/tGflYGWkxz92lQSn4HXIPyYWBoEUbMk/bEG0Qa9/yj+vSYSoMpbLP7KMNe1Rq8w/xH4RySHfzT97MYNCjh7PP/Q68cGfMtA/e20leXzW0D/iJEfwi3rRP7HrT5SzYtI/snGfbfhI0z8caJ1hLjHUPyOpTAOeI9U/0L4Ytkoc1j9Ow0FoH0jXPy36O6Qtdtg/8KdUHTao2T+cQXxw6OfaPyFgLxZAN9w/Aj3zuFOe3T9bfzO8GxvfP7db10grQ+A/RgL7Zs3v4D/8gdLNjKnhP/wkonyZP+I/eJCjPTTD4j+XjJvOQDPjP8DBTEy5hOM/nf+wjQG54z+WvGDcitjjP9bUg9KZ6OM/0ZO+86j/4z/MmE5/Mi7kP2pqJ6GTT+Q/",
          "dtype": "f8"
         },
         "yaxis": "y"
        },
        {
         "error_x": {
          "array": {
           "bdata": "oh6Um5V9gz97tcZGqRmUPxdMVAdMKZ4/",
           "dtype": "f8"
          },
          "type": "data"
         },
         "marker": {
          "color": "skyblue",
          "line": {
           "color": "black",
           "width": 1
          }
         },
         "orientation": "h",
         "showlegend": false,
         "type": "bar",
         "x": {
          "bdata": "cWcC3k6d1D86DnoU/f/TP2UggtOHv9M/",
          "dtype": "f8"
         },
         "xaxis": "x2",
         "y": [
          "adjust_cs_only",
          "both",
          "adjust_pc_only"
         ],
         "yaxis": "y2"
        }
       ],
       "layout": {
        "font": {
         "size": 16
        },
        "height": 400,
        "legend": {
         "font": {
          "size": 16
         },
         "title": {
          "text": "Optimizers"
         }
        },
        "margin": {
         "b": 50,
         "l": 50,
         "r": 50,
         "t": 60
        },
        "template": {
         "data": {
          "bar": [
           {
            "error_x": {
             "color": "#2a3f5f"
            },
            "error_y": {
             "color": "#2a3f5f"
            },
            "marker": {
             "line": {
              "color": "white",
              "width": 0.5
             },
             "pattern": {
              "fillmode": "overlay",
              "size": 10,
              "solidity": 0.2
             }
            },
            "type": "bar"
           }
          ],
          "barpolar": [
           {
            "marker": {
             "line": {
              "color": "white",
              "width": 0.5
             },
             "pattern": {
              "fillmode": "overlay",
              "size": 10,
              "solidity": 0.2
             }
            },
            "type": "barpolar"
           }
          ],
          "carpet": [
           {
            "aaxis": {
             "endlinecolor": "#2a3f5f",
             "gridcolor": "#C8D4E3",
             "linecolor": "#C8D4E3",
             "minorgridcolor": "#C8D4E3",
             "startlinecolor": "#2a3f5f"
            },
            "baxis": {
             "endlinecolor": "#2a3f5f",
             "gridcolor": "#C8D4E3",
             "linecolor": "#C8D4E3",
             "minorgridcolor": "#C8D4E3",
             "startlinecolor": "#2a3f5f"
            },
            "type": "carpet"
           }
          ],
          "choropleth": [
           {
            "colorbar": {
             "outlinewidth": 0,
             "ticks": ""
            },
            "type": "choropleth"
           }
          ],
          "contour": [
           {
            "colorbar": {
             "outlinewidth": 0,
             "ticks": ""
            },
            "colorscale": [
             [
              0,
              "#0d0887"
             ],
             [
              0.1111111111111111,
              "#46039f"
             ],
             [
              0.2222222222222222,
              "#7201a8"
             ],
             [
              0.3333333333333333,
              "#9c179e"
             ],
             [
              0.4444444444444444,
              "#bd3786"
             ],
             [
              0.5555555555555556,
              "#d8576b"
             ],
             [
              0.6666666666666666,
              "#ed7953"
             ],
             [
              0.7777777777777778,
              "#fb9f3a"
             ],
             [
              0.8888888888888888,
              "#fdca26"
             ],
             [
              1,
              "#f0f921"
             ]
            ],
            "type": "contour"
           }
          ],
          "contourcarpet": [
           {
            "colorbar": {
             "outlinewidth": 0,
             "ticks": ""
            },
            "type": "contourcarpet"
           }
          ],
          "heatmap": [
           {
            "colorbar": {
             "outlinewidth": 0,
             "ticks": ""
            },
            "colorscale": [
             [
              0,
              "#0d0887"
             ],
             [
              0.1111111111111111,
              "#46039f"
             ],
             [
              0.2222222222222222,
              "#7201a8"
             ],
             [
              0.3333333333333333,
              "#9c179e"
             ],
             [
              0.4444444444444444,
              "#bd3786"
             ],
             [
              0.5555555555555556,
              "#d8576b"
             ],
             [
              0.6666666666666666,
              "#ed7953"
             ],
             [
              0.7777777777777778,
              "#fb9f3a"
             ],
             [
              0.8888888888888888,
              "#fdca26"
             ],
             [
              1,
              "#f0f921"
             ]
            ],
            "type": "heatmap"
           }
          ],
          "histogram": [
           {
            "marker": {
             "pattern": {
              "fillmode": "overlay",
              "size": 10,
              "solidity": 0.2
             }
            },
            "type": "histogram"
           }
          ],
          "histogram2d": [
           {
            "colorbar": {
             "outlinewidth": 0,
             "ticks": ""
            },
            "colorscale": [
             [
              0,
              "#0d0887"
             ],
             [
              0.1111111111111111,
              "#46039f"
             ],
             [
              0.2222222222222222,
              "#7201a8"
             ],
             [
              0.3333333333333333,
              "#9c179e"
             ],
             [
              0.4444444444444444,
              "#bd3786"
             ],
             [
              0.5555555555555556,
              "#d8576b"
             ],
             [
              0.6666666666666666,
              "#ed7953"
             ],
             [
              0.7777777777777778,
              "#fb9f3a"
             ],
             [
              0.8888888888888888,
              "#fdca26"
             ],
             [
              1,
              "#f0f921"
             ]
            ],
            "type": "histogram2d"
           }
          ],
          "histogram2dcontour": [
           {
            "colorbar": {
             "outlinewidth": 0,
             "ticks": ""
            },
            "colorscale": [
             [
              0,
              "#0d0887"
             ],
             [
              0.1111111111111111,
              "#46039f"
             ],
             [
              0.2222222222222222,
              "#7201a8"
             ],
             [
              0.3333333333333333,
              "#9c179e"
             ],
             [
              0.4444444444444444,
              "#bd3786"
             ],
             [
              0.5555555555555556,
              "#d8576b"
             ],
             [
              0.6666666666666666,
              "#ed7953"
             ],
             [
              0.7777777777777778,
              "#fb9f3a"
             ],
             [
              0.8888888888888888,
              "#fdca26"
             ],
             [
              1,
              "#f0f921"
             ]
            ],
            "type": "histogram2dcontour"
           }
          ],
          "mesh3d": [
           {
            "colorbar": {
             "outlinewidth": 0,
             "ticks": ""
            },
            "type": "mesh3d"
           }
          ],
          "parcoords": [
           {
            "line": {
             "colorbar": {
              "outlinewidth": 0,
              "ticks": ""
             }
            },
            "type": "parcoords"
           }
          ],
          "pie": [
           {
            "automargin": true,
            "type": "pie"
           }
          ],
          "scatter": [
           {
            "fillpattern": {
             "fillmode": "overlay",
             "size": 10,
             "solidity": 0.2
            },
            "type": "scatter"
           }
          ],
          "scatter3d": [
           {
            "line": {
             "colorbar": {
              "outlinewidth": 0,
              "ticks": ""
             }
            },
            "marker": {
             "colorbar": {
              "outlinewidth": 0,
              "ticks": ""
             }
            },
            "type": "scatter3d"
           }
          ],
          "scattercarpet": [
           {
            "marker": {
             "colorbar": {
              "outlinewidth": 0,
              "ticks": ""
             }
            },
            "type": "scattercarpet"
           }
          ],
          "scattergeo": [
           {
            "marker": {
             "colorbar": {
              "outlinewidth": 0,
              "ticks": ""
             }
            },
            "type": "scattergeo"
           }
          ],
          "scattergl": [
           {
            "marker": {
             "colorbar": {
              "outlinewidth": 0,
              "ticks": ""
             }
            },
            "type": "scattergl"
           }
          ],
          "scattermap": [
           {
            "marker": {
             "colorbar": {
              "outlinewidth": 0,
              "ticks": ""
             }
            },
            "type": "scattermap"
           }
          ],
          "scattermapbox": [
           {
            "marker": {
             "colorbar": {
              "outlinewidth": 0,
              "ticks": ""
             }
            },
            "type": "scattermapbox"
           }
          ],
          "scatterpolar": [
           {
            "marker": {
             "colorbar": {
              "outlinewidth": 0,
              "ticks": ""
             }
            },
            "type": "scatterpolar"
           }
          ],
          "scatterpolargl": [
           {
            "marker": {
             "colorbar": {
              "outlinewidth": 0,
              "ticks": ""
             }
            },
            "type": "scatterpolargl"
           }
          ],
          "scatterternary": [
           {
            "marker": {
             "colorbar": {
              "outlinewidth": 0,
              "ticks": ""
             }
            },
            "type": "scatterternary"
           }
          ],
          "surface": [
           {
            "colorbar": {
             "outlinewidth": 0,
             "ticks": ""
            },
            "colorscale": [
             [
              0,
              "#0d0887"
             ],
             [
              0.1111111111111111,
              "#46039f"
             ],
             [
              0.2222222222222222,
              "#7201a8"
             ],
             [
              0.3333333333333333,
              "#9c179e"
             ],
             [
              0.4444444444444444,
              "#bd3786"
             ],
             [
              0.5555555555555556,
              "#d8576b"
             ],
             [
              0.6666666666666666,
              "#ed7953"
             ],
             [
              0.7777777777777778,
              "#fb9f3a"
             ],
             [
              0.8888888888888888,
              "#fdca26"
             ],
             [
              1,
              "#f0f921"
             ]
            ],
            "type": "surface"
           }
          ],
          "table": [
           {
            "cells": {
             "fill": {
              "color": "#EBF0F8"
             },
             "line": {
              "color": "white"
             }
            },
            "header": {
             "fill": {
              "color": "#C8D4E3"
             },
             "line": {
              "color": "white"
             }
            },
            "type": "table"
           }
          ]
         },
         "layout": {
          "annotationdefaults": {
           "arrowcolor": "#2a3f5f",
           "arrowhead": 0,
           "arrowwidth": 1
          },
          "autotypenumbers": "strict",
          "coloraxis": {
           "colorbar": {
            "outlinewidth": 0,
            "ticks": ""
           }
          },
          "colorscale": {
           "diverging": [
            [
             0,
             "#8e0152"
            ],
            [
             0.1,
             "#c51b7d"
            ],
            [
             0.2,
             "#de77ae"
            ],
            [
             0.3,
             "#f1b6da"
            ],
            [
             0.4,
             "#fde0ef"
            ],
            [
             0.5,
             "#f7f7f7"
            ],
            [
             0.6,
             "#e6f5d0"
            ],
            [
             0.7,
             "#b8e186"
            ],
            [
             0.8,
             "#7fbc41"
            ],
            [
             0.9,
             "#4d9221"
            ],
            [
             1,
             "#276419"
            ]
           ],
           "sequential": [
            [
             0,
             "#0d0887"
            ],
            [
             0.1111111111111111,
             "#46039f"
            ],
            [
             0.2222222222222222,
             "#7201a8"
            ],
            [
             0.3333333333333333,
             "#9c179e"
            ],
            [
             0.4444444444444444,
             "#bd3786"
            ],
            [
             0.5555555555555556,
             "#d8576b"
            ],
            [
             0.6666666666666666,
             "#ed7953"
            ],
            [
             0.7777777777777778,
             "#fb9f3a"
            ],
            [
             0.8888888888888888,
             "#fdca26"
            ],
            [
             1,
             "#f0f921"
            ]
           ],
           "sequentialminus": [
            [
             0,
             "#0d0887"
            ],
            [
             0.1111111111111111,
             "#46039f"
            ],
            [
             0.2222222222222222,
             "#7201a8"
            ],
            [
             0.3333333333333333,
             "#9c179e"
            ],
            [
             0.4444444444444444,
             "#bd3786"
            ],
            [
             0.5555555555555556,
             "#d8576b"
            ],
            [
             0.6666666666666666,
             "#ed7953"
            ],
            [
             0.7777777777777778,
             "#fb9f3a"
            ],
            [
             0.8888888888888888,
             "#fdca26"
            ],
            [
             1,
             "#f0f921"
            ]
           ]
          },
          "colorway": [
           "#636efa",
           "#EF553B",
           "#00cc96",
           "#ab63fa",
           "#FFA15A",
           "#19d3f3",
           "#FF6692",
           "#B6E880",
           "#FF97FF",
           "#FECB52"
          ],
          "font": {
           "color": "#2a3f5f"
          },
          "geo": {
           "bgcolor": "white",
           "lakecolor": "white",
           "landcolor": "white",
           "showlakes": true,
           "showland": true,
           "subunitcolor": "#C8D4E3"
          },
          "hoverlabel": {
           "align": "left"
          },
          "hovermode": "closest",
          "mapbox": {
           "style": "light"
          },
          "paper_bgcolor": "white",
          "plot_bgcolor": "white",
          "polar": {
           "angularaxis": {
            "gridcolor": "#EBF0F8",
            "linecolor": "#EBF0F8",
            "ticks": ""
           },
           "bgcolor": "white",
           "radialaxis": {
            "gridcolor": "#EBF0F8",
            "linecolor": "#EBF0F8",
            "ticks": ""
           }
          },
          "scene": {
           "xaxis": {
            "backgroundcolor": "white",
            "gridcolor": "#DFE8F3",
            "gridwidth": 2,
            "linecolor": "#EBF0F8",
            "showbackground": true,
            "ticks": "",
            "zerolinecolor": "#EBF0F8"
           },
           "yaxis": {
            "backgroundcolor": "white",
            "gridcolor": "#DFE8F3",
            "gridwidth": 2,
            "linecolor": "#EBF0F8",
            "showbackground": true,
            "ticks": "",
            "zerolinecolor": "#EBF0F8"
           },
           "zaxis": {
            "backgroundcolor": "white",
            "gridcolor": "#DFE8F3",
            "gridwidth": 2,
            "linecolor": "#EBF0F8",
            "showbackground": true,
            "ticks": "",
            "zerolinecolor": "#EBF0F8"
           }
          },
          "shapedefaults": {
           "line": {
            "color": "#2a3f5f"
           }
          },
          "ternary": {
           "aaxis": {
            "gridcolor": "#DFE8F3",
            "linecolor": "#A2B1C6",
            "ticks": ""
           },
           "baxis": {
            "gridcolor": "#DFE8F3",
            "linecolor": "#A2B1C6",
            "ticks": ""
           },
           "bgcolor": "white",
           "caxis": {
            "gridcolor": "#DFE8F3",
            "linecolor": "#A2B1C6",
            "ticks": ""
           }
          },
          "title": {
           "x": 0.05
          },
          "xaxis": {
           "automargin": true,
           "gridcolor": "#EBF0F8",
           "linecolor": "#EBF0F8",
           "ticks": "",
           "title": {
            "standoff": 15
           },
           "zerolinecolor": "#EBF0F8",
           "zerolinewidth": 2
          },
          "yaxis": {
           "automargin": true,
           "gridcolor": "#EBF0F8",
           "linecolor": "#EBF0F8",
           "ticks": "",
           "title": {
            "standoff": 15
           },
           "zerolinecolor": "#EBF0F8",
           "zerolinewidth": 2
          }
         }
        },
        "width": 1200,
        "xaxis": {
         "anchor": "y",
         "domain": [
          0,
          0.51
         ],
         "title": {
          "text": "Normalized Trials"
         }
        },
        "xaxis2": {
         "anchor": "y2",
         "domain": [
          0.66,
          1
         ],
         "title": {
          "text": "AUC"
         }
        },
        "yaxis": {
         "anchor": "x",
         "domain": [
          0,
          1
         ],
         "title": {
          "text": "Normalized Inc-Performance"
         }
        },
        "yaxis2": {
         "anchor": "x2",
         "domain": [
          0,
          1
         ],
         "title": {
          "text": "Optimizer"
         }
        }
       }
      }
     },
     "metadata": {},
     "output_type": "display_data"
    }
   ],
   "source": [
    "plot_one_thing('adjust_method')"
   ]
  },
  {
   "cell_type": "code",
   "execution_count": 215,
   "id": "78a3e540",
   "metadata": {},
   "outputs": [],
   "source": [
    "perf_all['base'] = 'HPI'\n",
    "perf_all.loc[perf_all['hpi_method'] == 'random', 'base'] = 'Random'"
   ]
  },
  {
   "cell_type": "code",
   "execution_count": 216,
   "id": "9f41edbc",
   "metadata": {},
   "outputs": [
    {
     "name": "stdout",
     "output_type": "stream",
     "text": [
      "['HPI']\n"
     ]
    },
    {
     "name": "stderr",
     "output_type": "stream",
     "text": [
      "/tmp/ipykernel_38293/1961929167.py:25: DeprecationWarning:\n",
      "\n",
      "DataFrameGroupBy.apply operated on the grouping columns. This behavior is deprecated, and in a future version of pandas the grouping columns will be excluded from the operation. Either pass `include_groups=False` to exclude the groupings or explicitly select the grouping columns after groupby to silence this warning.\n",
      "\n"
     ]
    },
    {
     "data": {
      "application/vnd.plotly.v1+json": {
       "config": {
        "plotlyServerURL": "https://plot.ly"
       },
       "data": [
        {
         "line": {
          "color": "rgb(228,26,28)",
          "width": 2
         },
         "mode": "lines",
         "name": "HPI",
         "type": "scatter",
         "x": {
          "bdata": "AAAAAAAAAAB7FK5H4XqUP3sUrkfheqQ/uB6F61G4rj97FK5H4Xq0P5qZmZmZmbk/uB6F61G4vj/sUbgehevBP3sUrkfhesQ/CtejcD0Kxz+amZmZmZnJPylcj8L1KMw/uB6F61G4zj+kcD0K16PQP+xRuB6F69E/MzMzMzMz0z97FK5H4XrUP8P1KFyPwtU/CtejcD0K1z9SuB6F61HYP5qZmZmZmdk/4XoUrkfh2j8pXI/C9SjcP3E9CtejcN0/uB6F61G43j8AAAAAAADgP6RwPQrXo+A/SOF6FK5H4T/sUbgehevhP4/C9Shcj+I/MzMzMzMz4z/Xo3A9CtfjP3sUrkfheuQ/H4XrUbge5T/D9Shcj8LlP2dmZmZmZuY/CtejcD0K5z+uR+F6FK7nP1K4HoXrUeg/9ihcj8L16D+amZmZmZnpPz4K16NwPeo/4XoUrkfh6j+F61G4HoXrPylcj8L1KOw/zczMzMzM7D9xPQrXo3DtPxWuR+F6FO4/uB6F61G47j9cj8L1KFzvPwAAAAAAAPA/",
          "dtype": "f8"
         },
         "xaxis": "x",
         "y": {
          "bdata": "1P0Ye/wJ4j+jZbzURvHhP6ySdOG+tuE/vZmWZEqV4T/io6TrhIbhP5tppFFZceE/eYsoBSpM4T9yESJu+gjhP92oiwA6peA/BZqIsrst4D9Q73c0I0nfP4sPNjAo890/dbPW9Iq43D8I3TFJOnDbP3qcIRK7Gdo/7p5I4sbW2D91QPiQPajXP+7+NsyVh9Y/3g2Hvaxz1T+SioxpxmLUP9pChqUTU9M/KXsV+FBy0j//NZGMXpfRP53NrCSwxdA/4FVJdkjozz9Lgbb5PkLOP4McJ1QZHs0/rZKwjuX5yz87E9vUq9XKP2AKxoTvuMk/uiDpj1enyD923c7Sk7PHP45NaQtFvcY/bwZD6TXHxT/ixF0M5uXEP6p69MpzHsQ/EAmv4QZVwz+q63dknYjCPyriMDKPwsE/UlsHQEgLwT+dTZAPGVPAP8Las8dtMb8/c6xiagi8vT8Stu66gUu8Pw04mxjk3Lo/gem7UvVjuT+m7yj3y+q3P3sFhQyicbY/PspRfsb5tD8FsvTv6oGzP8NLl2EPCrI/",
          "dtype": "f8"
         },
         "yaxis": "y"
        },
        {
         "fill": "toself",
         "fillcolor": "rgba(228,26,28,0.1)",
         "hoverinfo": "skip",
         "line": {
          "color": "rgba(255,255,255,0)"
         },
         "showlegend": false,
         "type": "scatter",
         "x": {
          "bdata": "AAAAAAAAAAB7FK5H4XqUP3sUrkfheqQ/uB6F61G4rj97FK5H4Xq0P5qZmZmZmbk/uB6F61G4vj/sUbgehevBP3sUrkfhesQ/CtejcD0Kxz+amZmZmZnJPylcj8L1KMw/uB6F61G4zj+kcD0K16PQP+xRuB6F69E/MzMzMzMz0z97FK5H4XrUP8P1KFyPwtU/CtejcD0K1z9SuB6F61HYP5qZmZmZmdk/4XoUrkfh2j8pXI/C9SjcP3E9CtejcN0/uB6F61G43j8AAAAAAADgP6RwPQrXo+A/SOF6FK5H4T/sUbgehevhP4/C9Shcj+I/MzMzMzMz4z/Xo3A9CtfjP3sUrkfheuQ/H4XrUbge5T/D9Shcj8LlP2dmZmZmZuY/CtejcD0K5z+uR+F6FK7nP1K4HoXrUeg/9ihcj8L16D+amZmZmZnpPz4K16NwPeo/4XoUrkfh6j+F61G4HoXrPylcj8L1KOw/zczMzMzM7D9xPQrXo3DtPxWuR+F6FO4/uB6F61G47j9cj8L1KFzvPwAAAAAAAPA/AAAAAAAA8D9cj8L1KFzvP7gehetRuO4/Fa5H4XoU7j9xPQrXo3DtP83MzMzMzOw/KVyPwvUo7D+F61G4HoXrP+F6FK5H4eo/PgrXo3A96j+amZmZmZnpP/YoXI/C9eg/UrgehetR6D+uR+F6FK7nPwrXo3A9Cuc/Z2ZmZmZm5j/D9Shcj8LlPx+F61G4HuU/exSuR+F65D/Xo3A9CtfjPzMzMzMzM+M/j8L1KFyP4j/sUbgehevhP0jhehSuR+E/pHA9Ctej4D8AAAAAAADgP7gehetRuN4/cT0K16Nw3T8pXI/C9SjcP+F6FK5H4do/mpmZmZmZ2T9SuB6F61HYPwrXo3A9Ctc/w/UoXI/C1T97FK5H4XrUPzMzMzMzM9M/7FG4HoXr0T+kcD0K16PQP7gehetRuM4/KVyPwvUozD+amZmZmZnJPwrXo3A9Csc/exSuR+F6xD/sUbgehevBP7gehetRuL4/mpmZmZmZuT97FK5H4Xq0P7gehetRuK4/exSuR+F6pD97FK5H4XqUPwAAAAAAAAAA",
          "dtype": "f8"
         },
         "xaxis": "x",
         "y": {
          "bdata": "IENPVOKn4D+LQsioa5LgP39xroSYVOA/zxzUZ8Mq4D80re2T9xfgP/iJ5aeNAOA/asW7eUG43z/JbnBf4zvfP+JkMA33gt4/lPxZ2oSl3T/zpIkd3qfcPxIVmD37b9s/KwB8rRtS2j9KahDK7C3ZP6g5S5QNA9g/d5RxZu7p1j/O6FiYfOPVP0qCHtKR6tQ/o99E2nX+0z+GtF8dYxTTPyVFssf3KdI/6wxp0pZn0T9R1AjUxanQP+N2bZTg6M8/1O9ogBd9zj+FXx5N0Q3NP5LKMsr3Csw/Dlo5D4oHyz+dO/ewAQPKP3B3pqLTA8k/EeBafhQMyD96R3m86TLHP1eM90XeVsY/+Hww6Pl3xT+MHjIwXqXEP8K173XH48M/I5ARp60Zwz/xXX0rKUbCP7uRXjPZecE/b9p40rK8wD99uTqOgP6/P3sFh3Gyf74/bHP5qDIBvT9aXbgY9YW7P3tXZ3N+ELo/j9S7T7SQuD9iZ1NWWQ63P92pK9rDjLU/X3iYXjwLtD+owbgJOYmyP8lp/2fIBrE/vS0vW1YNsz9iojDWnHq0Px0cC55Q6LU/GWHePoBWtz/qd/6XPse4P3P+u1U2N7o/nxjPvUmpuz/KDiVdDhG9P3rlyyvedr4/CbDgHSnjvz98PgPY8abAPzXcla3dWcE/mTIDMUULwj9jeXKdEcvCP/2BTBxgkMM/kj/5HyBZxD84a4nobSbFP+aPVepxFsY/xQ7b0Ksjxz9ycyTpPTTIP2Nhd6GaQsk/UJ3lZgtuyj/Z6r74VajLP0zLJw5B7Mw/dG4b3joxzj8Ro06mrHbPP/bdFLa8qdA/yd8i/++W0T+tlxlF94TSP2fpwR0LfdM/j0Bagy981D+eYLm1KbHVPxk8yaDj6NY/kntPxpkk2D8cmJeJ/mzZP2WpH16fw9o/TP/3j2gw3D/GT1PIh7LdP79mMTz6Ht8/AgVqkSo74D/XHLMlNPXgP8A15Pe0iOE/SR9/evgI4j9/64ssA3TiPz00c00zvOI/Pklj+yTi4j+QmltDEvXiP6sWWWHR/+I/2bM6PuUY4z+7iLAAIlDjP4i44qEWbOM/",
          "dtype": "f8"
         },
         "yaxis": "y"
        },
        {
         "error_x": {
          "array": {
           "bdata": "zYBN5Pwjlj8=",
           "dtype": "f8"
          },
          "type": "data"
         },
         "marker": {
          "color": "skyblue",
          "line": {
           "color": "black",
           "width": 1
          }
         },
         "orientation": "h",
         "showlegend": false,
         "type": "bar",
         "x": {
          "bdata": "Nldz+P580T8=",
          "dtype": "f8"
         },
         "xaxis": "x2",
         "y": [
          "HPI"
         ],
         "yaxis": "y2"
        }
       ],
       "layout": {
        "font": {
         "size": 16
        },
        "height": 400,
        "legend": {
         "font": {
          "size": 16
         },
         "title": {
          "text": "Optimizers"
         }
        },
        "margin": {
         "b": 50,
         "l": 50,
         "r": 50,
         "t": 60
        },
        "template": {
         "data": {
          "bar": [
           {
            "error_x": {
             "color": "#2a3f5f"
            },
            "error_y": {
             "color": "#2a3f5f"
            },
            "marker": {
             "line": {
              "color": "white",
              "width": 0.5
             },
             "pattern": {
              "fillmode": "overlay",
              "size": 10,
              "solidity": 0.2
             }
            },
            "type": "bar"
           }
          ],
          "barpolar": [
           {
            "marker": {
             "line": {
              "color": "white",
              "width": 0.5
             },
             "pattern": {
              "fillmode": "overlay",
              "size": 10,
              "solidity": 0.2
             }
            },
            "type": "barpolar"
           }
          ],
          "carpet": [
           {
            "aaxis": {
             "endlinecolor": "#2a3f5f",
             "gridcolor": "#C8D4E3",
             "linecolor": "#C8D4E3",
             "minorgridcolor": "#C8D4E3",
             "startlinecolor": "#2a3f5f"
            },
            "baxis": {
             "endlinecolor": "#2a3f5f",
             "gridcolor": "#C8D4E3",
             "linecolor": "#C8D4E3",
             "minorgridcolor": "#C8D4E3",
             "startlinecolor": "#2a3f5f"
            },
            "type": "carpet"
           }
          ],
          "choropleth": [
           {
            "colorbar": {
             "outlinewidth": 0,
             "ticks": ""
            },
            "type": "choropleth"
           }
          ],
          "contour": [
           {
            "colorbar": {
             "outlinewidth": 0,
             "ticks": ""
            },
            "colorscale": [
             [
              0,
              "#0d0887"
             ],
             [
              0.1111111111111111,
              "#46039f"
             ],
             [
              0.2222222222222222,
              "#7201a8"
             ],
             [
              0.3333333333333333,
              "#9c179e"
             ],
             [
              0.4444444444444444,
              "#bd3786"
             ],
             [
              0.5555555555555556,
              "#d8576b"
             ],
             [
              0.6666666666666666,
              "#ed7953"
             ],
             [
              0.7777777777777778,
              "#fb9f3a"
             ],
             [
              0.8888888888888888,
              "#fdca26"
             ],
             [
              1,
              "#f0f921"
             ]
            ],
            "type": "contour"
           }
          ],
          "contourcarpet": [
           {
            "colorbar": {
             "outlinewidth": 0,
             "ticks": ""
            },
            "type": "contourcarpet"
           }
          ],
          "heatmap": [
           {
            "colorbar": {
             "outlinewidth": 0,
             "ticks": ""
            },
            "colorscale": [
             [
              0,
              "#0d0887"
             ],
             [
              0.1111111111111111,
              "#46039f"
             ],
             [
              0.2222222222222222,
              "#7201a8"
             ],
             [
              0.3333333333333333,
              "#9c179e"
             ],
             [
              0.4444444444444444,
              "#bd3786"
             ],
             [
              0.5555555555555556,
              "#d8576b"
             ],
             [
              0.6666666666666666,
              "#ed7953"
             ],
             [
              0.7777777777777778,
              "#fb9f3a"
             ],
             [
              0.8888888888888888,
              "#fdca26"
             ],
             [
              1,
              "#f0f921"
             ]
            ],
            "type": "heatmap"
           }
          ],
          "histogram": [
           {
            "marker": {
             "pattern": {
              "fillmode": "overlay",
              "size": 10,
              "solidity": 0.2
             }
            },
            "type": "histogram"
           }
          ],
          "histogram2d": [
           {
            "colorbar": {
             "outlinewidth": 0,
             "ticks": ""
            },
            "colorscale": [
             [
              0,
              "#0d0887"
             ],
             [
              0.1111111111111111,
              "#46039f"
             ],
             [
              0.2222222222222222,
              "#7201a8"
             ],
             [
              0.3333333333333333,
              "#9c179e"
             ],
             [
              0.4444444444444444,
              "#bd3786"
             ],
             [
              0.5555555555555556,
              "#d8576b"
             ],
             [
              0.6666666666666666,
              "#ed7953"
             ],
             [
              0.7777777777777778,
              "#fb9f3a"
             ],
             [
              0.8888888888888888,
              "#fdca26"
             ],
             [
              1,
              "#f0f921"
             ]
            ],
            "type": "histogram2d"
           }
          ],
          "histogram2dcontour": [
           {
            "colorbar": {
             "outlinewidth": 0,
             "ticks": ""
            },
            "colorscale": [
             [
              0,
              "#0d0887"
             ],
             [
              0.1111111111111111,
              "#46039f"
             ],
             [
              0.2222222222222222,
              "#7201a8"
             ],
             [
              0.3333333333333333,
              "#9c179e"
             ],
             [
              0.4444444444444444,
              "#bd3786"
             ],
             [
              0.5555555555555556,
              "#d8576b"
             ],
             [
              0.6666666666666666,
              "#ed7953"
             ],
             [
              0.7777777777777778,
              "#fb9f3a"
             ],
             [
              0.8888888888888888,
              "#fdca26"
             ],
             [
              1,
              "#f0f921"
             ]
            ],
            "type": "histogram2dcontour"
           }
          ],
          "mesh3d": [
           {
            "colorbar": {
             "outlinewidth": 0,
             "ticks": ""
            },
            "type": "mesh3d"
           }
          ],
          "parcoords": [
           {
            "line": {
             "colorbar": {
              "outlinewidth": 0,
              "ticks": ""
             }
            },
            "type": "parcoords"
           }
          ],
          "pie": [
           {
            "automargin": true,
            "type": "pie"
           }
          ],
          "scatter": [
           {
            "fillpattern": {
             "fillmode": "overlay",
             "size": 10,
             "solidity": 0.2
            },
            "type": "scatter"
           }
          ],
          "scatter3d": [
           {
            "line": {
             "colorbar": {
              "outlinewidth": 0,
              "ticks": ""
             }
            },
            "marker": {
             "colorbar": {
              "outlinewidth": 0,
              "ticks": ""
             }
            },
            "type": "scatter3d"
           }
          ],
          "scattercarpet": [
           {
            "marker": {
             "colorbar": {
              "outlinewidth": 0,
              "ticks": ""
             }
            },
            "type": "scattercarpet"
           }
          ],
          "scattergeo": [
           {
            "marker": {
             "colorbar": {
              "outlinewidth": 0,
              "ticks": ""
             }
            },
            "type": "scattergeo"
           }
          ],
          "scattergl": [
           {
            "marker": {
             "colorbar": {
              "outlinewidth": 0,
              "ticks": ""
             }
            },
            "type": "scattergl"
           }
          ],
          "scattermap": [
           {
            "marker": {
             "colorbar": {
              "outlinewidth": 0,
              "ticks": ""
             }
            },
            "type": "scattermap"
           }
          ],
          "scattermapbox": [
           {
            "marker": {
             "colorbar": {
              "outlinewidth": 0,
              "ticks": ""
             }
            },
            "type": "scattermapbox"
           }
          ],
          "scatterpolar": [
           {
            "marker": {
             "colorbar": {
              "outlinewidth": 0,
              "ticks": ""
             }
            },
            "type": "scatterpolar"
           }
          ],
          "scatterpolargl": [
           {
            "marker": {
             "colorbar": {
              "outlinewidth": 0,
              "ticks": ""
             }
            },
            "type": "scatterpolargl"
           }
          ],
          "scatterternary": [
           {
            "marker": {
             "colorbar": {
              "outlinewidth": 0,
              "ticks": ""
             }
            },
            "type": "scatterternary"
           }
          ],
          "surface": [
           {
            "colorbar": {
             "outlinewidth": 0,
             "ticks": ""
            },
            "colorscale": [
             [
              0,
              "#0d0887"
             ],
             [
              0.1111111111111111,
              "#46039f"
             ],
             [
              0.2222222222222222,
              "#7201a8"
             ],
             [
              0.3333333333333333,
              "#9c179e"
             ],
             [
              0.4444444444444444,
              "#bd3786"
             ],
             [
              0.5555555555555556,
              "#d8576b"
             ],
             [
              0.6666666666666666,
              "#ed7953"
             ],
             [
              0.7777777777777778,
              "#fb9f3a"
             ],
             [
              0.8888888888888888,
              "#fdca26"
             ],
             [
              1,
              "#f0f921"
             ]
            ],
            "type": "surface"
           }
          ],
          "table": [
           {
            "cells": {
             "fill": {
              "color": "#EBF0F8"
             },
             "line": {
              "color": "white"
             }
            },
            "header": {
             "fill": {
              "color": "#C8D4E3"
             },
             "line": {
              "color": "white"
             }
            },
            "type": "table"
           }
          ]
         },
         "layout": {
          "annotationdefaults": {
           "arrowcolor": "#2a3f5f",
           "arrowhead": 0,
           "arrowwidth": 1
          },
          "autotypenumbers": "strict",
          "coloraxis": {
           "colorbar": {
            "outlinewidth": 0,
            "ticks": ""
           }
          },
          "colorscale": {
           "diverging": [
            [
             0,
             "#8e0152"
            ],
            [
             0.1,
             "#c51b7d"
            ],
            [
             0.2,
             "#de77ae"
            ],
            [
             0.3,
             "#f1b6da"
            ],
            [
             0.4,
             "#fde0ef"
            ],
            [
             0.5,
             "#f7f7f7"
            ],
            [
             0.6,
             "#e6f5d0"
            ],
            [
             0.7,
             "#b8e186"
            ],
            [
             0.8,
             "#7fbc41"
            ],
            [
             0.9,
             "#4d9221"
            ],
            [
             1,
             "#276419"
            ]
           ],
           "sequential": [
            [
             0,
             "#0d0887"
            ],
            [
             0.1111111111111111,
             "#46039f"
            ],
            [
             0.2222222222222222,
             "#7201a8"
            ],
            [
             0.3333333333333333,
             "#9c179e"
            ],
            [
             0.4444444444444444,
             "#bd3786"
            ],
            [
             0.5555555555555556,
             "#d8576b"
            ],
            [
             0.6666666666666666,
             "#ed7953"
            ],
            [
             0.7777777777777778,
             "#fb9f3a"
            ],
            [
             0.8888888888888888,
             "#fdca26"
            ],
            [
             1,
             "#f0f921"
            ]
           ],
           "sequentialminus": [
            [
             0,
             "#0d0887"
            ],
            [
             0.1111111111111111,
             "#46039f"
            ],
            [
             0.2222222222222222,
             "#7201a8"
            ],
            [
             0.3333333333333333,
             "#9c179e"
            ],
            [
             0.4444444444444444,
             "#bd3786"
            ],
            [
             0.5555555555555556,
             "#d8576b"
            ],
            [
             0.6666666666666666,
             "#ed7953"
            ],
            [
             0.7777777777777778,
             "#fb9f3a"
            ],
            [
             0.8888888888888888,
             "#fdca26"
            ],
            [
             1,
             "#f0f921"
            ]
           ]
          },
          "colorway": [
           "#636efa",
           "#EF553B",
           "#00cc96",
           "#ab63fa",
           "#FFA15A",
           "#19d3f3",
           "#FF6692",
           "#B6E880",
           "#FF97FF",
           "#FECB52"
          ],
          "font": {
           "color": "#2a3f5f"
          },
          "geo": {
           "bgcolor": "white",
           "lakecolor": "white",
           "landcolor": "white",
           "showlakes": true,
           "showland": true,
           "subunitcolor": "#C8D4E3"
          },
          "hoverlabel": {
           "align": "left"
          },
          "hovermode": "closest",
          "mapbox": {
           "style": "light"
          },
          "paper_bgcolor": "white",
          "plot_bgcolor": "white",
          "polar": {
           "angularaxis": {
            "gridcolor": "#EBF0F8",
            "linecolor": "#EBF0F8",
            "ticks": ""
           },
           "bgcolor": "white",
           "radialaxis": {
            "gridcolor": "#EBF0F8",
            "linecolor": "#EBF0F8",
            "ticks": ""
           }
          },
          "scene": {
           "xaxis": {
            "backgroundcolor": "white",
            "gridcolor": "#DFE8F3",
            "gridwidth": 2,
            "linecolor": "#EBF0F8",
            "showbackground": true,
            "ticks": "",
            "zerolinecolor": "#EBF0F8"
           },
           "yaxis": {
            "backgroundcolor": "white",
            "gridcolor": "#DFE8F3",
            "gridwidth": 2,
            "linecolor": "#EBF0F8",
            "showbackground": true,
            "ticks": "",
            "zerolinecolor": "#EBF0F8"
           },
           "zaxis": {
            "backgroundcolor": "white",
            "gridcolor": "#DFE8F3",
            "gridwidth": 2,
            "linecolor": "#EBF0F8",
            "showbackground": true,
            "ticks": "",
            "zerolinecolor": "#EBF0F8"
           }
          },
          "shapedefaults": {
           "line": {
            "color": "#2a3f5f"
           }
          },
          "ternary": {
           "aaxis": {
            "gridcolor": "#DFE8F3",
            "linecolor": "#A2B1C6",
            "ticks": ""
           },
           "baxis": {
            "gridcolor": "#DFE8F3",
            "linecolor": "#A2B1C6",
            "ticks": ""
           },
           "bgcolor": "white",
           "caxis": {
            "gridcolor": "#DFE8F3",
            "linecolor": "#A2B1C6",
            "ticks": ""
           }
          },
          "title": {
           "x": 0.05
          },
          "xaxis": {
           "automargin": true,
           "gridcolor": "#EBF0F8",
           "linecolor": "#EBF0F8",
           "ticks": "",
           "title": {
            "standoff": 15
           },
           "zerolinecolor": "#EBF0F8",
           "zerolinewidth": 2
          },
          "yaxis": {
           "automargin": true,
           "gridcolor": "#EBF0F8",
           "linecolor": "#EBF0F8",
           "ticks": "",
           "title": {
            "standoff": 15
           },
           "zerolinecolor": "#EBF0F8",
           "zerolinewidth": 2
          }
         }
        },
        "width": 1200,
        "xaxis": {
         "anchor": "y",
         "domain": [
          0,
          0.51
         ],
         "title": {
          "text": "Normalized Trials"
         }
        },
        "xaxis2": {
         "anchor": "y2",
         "domain": [
          0.66,
          1
         ],
         "title": {
          "text": "AUC"
         }
        },
        "yaxis": {
         "anchor": "x",
         "domain": [
          0,
          1
         ],
         "title": {
          "text": "Normalized Inc-Performance"
         }
        },
        "yaxis2": {
         "anchor": "x2",
         "domain": [
          0,
          1
         ],
         "title": {
          "text": "Optimizer"
         }
        }
       }
      }
     },
     "metadata": {},
     "output_type": "display_data"
    }
   ],
   "source": [
    "plot_one_thing('base')"
   ]
  },
  {
   "cell_type": "code",
   "execution_count": 169,
   "id": "ff13e05d",
   "metadata": {},
   "outputs": [],
   "source": [
    "#test\n",
    "perf_all = pd.concat([best_test, base_test], ignore_index=True)"
   ]
  },
  {
   "cell_type": "code",
   "execution_count": 170,
   "id": "a8923469",
   "metadata": {},
   "outputs": [
    {
     "name": "stderr",
     "output_type": "stream",
     "text": [
      "/tmp/ipykernel_4800/468351606.py:3: DeprecationWarning:\n",
      "\n",
      "DataFrameGroupBy.apply operated on the grouping columns. This behavior is deprecated, and in a future version of pandas the grouping columns will be excluded from the operation. Either pass `include_groups=False` to exclude the groupings or explicitly select the grouping columns after groupby to silence this warning.\n",
      "\n"
     ]
    }
   ],
   "source": [
    "auc_per_seed = (\n",
    "        perf_all.groupby([\"optimizer_id\", \"seed\"])\n",
    "        .apply(lambda group: trapz(group.sort_values(\"n_trials_norm\")[\"trial_value__cost_inc_norm\"],\n",
    "                                   group.sort_values(\"n_trials_norm\")[\"n_trials_norm\"]))\n",
    "        .reset_index(name=\"auc\")\n",
    "    )\n",
    "\n",
    "# Compute mean and sem AUC per optimizer\n",
    "auc_values = auc_per_seed.groupby(\"optimizer_id\").agg(\n",
    "    auc_mean=('auc', 'mean'),\n",
    "    auc_sem=('auc', 'sem')\n",
    ").sort_values(\"auc_mean\", ascending=False).reset_index()\n"
   ]
  },
  {
   "cell_type": "code",
   "execution_count": 171,
   "id": "65afb7d7",
   "metadata": {},
   "outputs": [
    {
     "data": {
      "text/plain": [
       "'\\\\begin{tabular}{lllllllrrrr}\\n\\\\toprule\\n & hpi_method & adjust_cs & cs_method & pc_method & thresh & adjust_method & auc_mean & auc_sem & final_perf_mean & final_perf_sem \\\\\\\\\\n\\\\midrule\\n1 & NaN & NaN & NaN & NaN & NaN & NaN & 0.237000 & 0.023000 & 0.036000 & 0.003000 \\\\\\\\\\n2 & fanova & constant & default & incumbent & 0.75 & both & 0.227000 & 0.016000 & 0.043000 & 0.003000 \\\\\\\\\\n0 & fanova & cs_proba_hpi & incumbent & False & 0.5 & adjust_cs_only & 0.241000 & 0.018000 & 0.048000 & 0.005000 \\\\\\\\\\n\\\\bottomrule\\n\\\\end{tabular}\\n'"
      ]
     },
     "execution_count": 171,
     "metadata": {},
     "output_type": "execute_result"
    }
   ],
   "source": [
    "merge = pd.merge(auc_values, perf_all, on='optimizer_id', how='left')\n",
    "merge = merge.drop_duplicates(subset=['optimizer_id'])\n",
    "merge = merge[['optimizer_id', 'hpi_method', 'adjust_cs', 'cs_method', 'pc_method', 'thresh', 'adjust_method', 'auc_mean', 'auc_sem']]\n",
    "final_perf = perf_all[perf_all['n_trials_norm'] == 1].groupby(['optimizer_id','seed']).agg({'trial_value__cost_inc_norm':'mean'}).groupby('optimizer_id').agg(\n",
    "    final_perf_mean=('trial_value__cost_inc_norm', 'mean'),\n",
    "    final_perf_sem=('trial_value__cost_inc_norm', 'sem')\n",
    ").sort_values(\"final_perf_mean\", ascending=False).reset_index()\n",
    "\n",
    "merge = pd.merge(final_perf, merge, on='optimizer_id', how='right')\n",
    "merge = merge[['optimizer_id','hpi_method', 'adjust_cs', 'cs_method', 'pc_method', 'thresh', 'adjust_method', 'auc_mean','auc_sem', 'final_perf_mean', 'final_perf_sem']].sort_values(by='final_perf_mean', ascending=True)\n",
    "merge = merge.apply(lambda col: col.round(3) if col.name in ['auc_mean', 'auc_sem', 'final_perf_mean', 'final_perf_sem'] else col)\n",
    "merge[['hpi_method', 'adjust_cs', 'cs_method', 'pc_method', 'thresh', 'adjust_method', 'auc_mean','auc_sem', 'final_perf_mean', 'final_perf_sem']].head(20).to_latex()"
   ]
  },
  {
   "cell_type": "code",
   "execution_count": 149,
   "id": "713d66b8",
   "metadata": {},
   "outputs": [
    {
     "data": {
      "application/vnd.microsoft.datawrangler.viewer.v0+json": {
       "columns": [
        {
         "name": "index",
         "rawType": "int64",
         "type": "integer"
        },
        {
         "name": "optimizer_id",
         "rawType": "object",
         "type": "string"
        },
        {
         "name": "hpi_method",
         "rawType": "object",
         "type": "unknown"
        },
        {
         "name": "adjust_cs",
         "rawType": "object",
         "type": "unknown"
        },
        {
         "name": "cs_method",
         "rawType": "object",
         "type": "unknown"
        },
        {
         "name": "pc_method",
         "rawType": "object",
         "type": "unknown"
        },
        {
         "name": "thresh",
         "rawType": "object",
         "type": "unknown"
        },
        {
         "name": "adjust_method",
         "rawType": "object",
         "type": "unknown"
        },
        {
         "name": "auc_mean",
         "rawType": "float64",
         "type": "float"
        },
        {
         "name": "auc_sem",
         "rawType": "float64",
         "type": "float"
        },
        {
         "name": "final_perf_mean",
         "rawType": "float64",
         "type": "float"
        },
        {
         "name": "final_perf_sem",
         "rawType": "float64",
         "type": "float"
        }
       ],
       "conversionMethod": "pd.DataFrame",
       "ref": "cbc0588b-9982-467b-86c4-34681ab62497",
       "rows": [
        [
         "2",
         "fanova_adjust_cs_default_constant_adjust_prev_cfgs_set_to_incumbent_thresh_0.75",
         "fanova",
         "constant",
         "default",
         "incumbent",
         "0.75",
         "both",
         "0.232",
         "0.024",
         "0.032",
         "0.004"
        ],
        [
         "1",
         "ParEGO",
         null,
         null,
         null,
         null,
         null,
         null,
         "0.238",
         "0.027",
         "0.028",
         "0.003"
        ],
        [
         "0",
         "fanova_adjust_cs_incumbent_cs_proba_hpi_thresh_0.5",
         "fanova",
         "cs_proba_hpi",
         "incumbent",
         "False",
         "0.5",
         "adjust_cs_only",
         "0.243",
         "0.026",
         "0.034",
         "0.005"
        ]
       ],
       "shape": {
        "columns": 11,
        "rows": 3
       }
      },
      "text/html": [
       "<div>\n",
       "<style scoped>\n",
       "    .dataframe tbody tr th:only-of-type {\n",
       "        vertical-align: middle;\n",
       "    }\n",
       "\n",
       "    .dataframe tbody tr th {\n",
       "        vertical-align: top;\n",
       "    }\n",
       "\n",
       "    .dataframe thead th {\n",
       "        text-align: right;\n",
       "    }\n",
       "</style>\n",
       "<table border=\"1\" class=\"dataframe\">\n",
       "  <thead>\n",
       "    <tr style=\"text-align: right;\">\n",
       "      <th></th>\n",
       "      <th>optimizer_id</th>\n",
       "      <th>hpi_method</th>\n",
       "      <th>adjust_cs</th>\n",
       "      <th>cs_method</th>\n",
       "      <th>pc_method</th>\n",
       "      <th>thresh</th>\n",
       "      <th>adjust_method</th>\n",
       "      <th>auc_mean</th>\n",
       "      <th>auc_sem</th>\n",
       "      <th>final_perf_mean</th>\n",
       "      <th>final_perf_sem</th>\n",
       "    </tr>\n",
       "  </thead>\n",
       "  <tbody>\n",
       "    <tr>\n",
       "      <th>2</th>\n",
       "      <td>fanova_adjust_cs_default_constant_adjust_prev_...</td>\n",
       "      <td>fanova</td>\n",
       "      <td>constant</td>\n",
       "      <td>default</td>\n",
       "      <td>incumbent</td>\n",
       "      <td>0.75</td>\n",
       "      <td>both</td>\n",
       "      <td>0.232</td>\n",
       "      <td>0.024</td>\n",
       "      <td>0.032</td>\n",
       "      <td>0.004</td>\n",
       "    </tr>\n",
       "    <tr>\n",
       "      <th>1</th>\n",
       "      <td>ParEGO</td>\n",
       "      <td>NaN</td>\n",
       "      <td>NaN</td>\n",
       "      <td>NaN</td>\n",
       "      <td>NaN</td>\n",
       "      <td>NaN</td>\n",
       "      <td>NaN</td>\n",
       "      <td>0.238</td>\n",
       "      <td>0.027</td>\n",
       "      <td>0.028</td>\n",
       "      <td>0.003</td>\n",
       "    </tr>\n",
       "    <tr>\n",
       "      <th>0</th>\n",
       "      <td>fanova_adjust_cs_incumbent_cs_proba_hpi_thresh...</td>\n",
       "      <td>fanova</td>\n",
       "      <td>cs_proba_hpi</td>\n",
       "      <td>incumbent</td>\n",
       "      <td>False</td>\n",
       "      <td>0.5</td>\n",
       "      <td>adjust_cs_only</td>\n",
       "      <td>0.243</td>\n",
       "      <td>0.026</td>\n",
       "      <td>0.034</td>\n",
       "      <td>0.005</td>\n",
       "    </tr>\n",
       "  </tbody>\n",
       "</table>\n",
       "</div>"
      ],
      "text/plain": [
       "                                        optimizer_id hpi_method     adjust_cs  \\\n",
       "2  fanova_adjust_cs_default_constant_adjust_prev_...     fanova      constant   \n",
       "1                                             ParEGO        NaN           NaN   \n",
       "0  fanova_adjust_cs_incumbent_cs_proba_hpi_thresh...     fanova  cs_proba_hpi   \n",
       "\n",
       "   cs_method  pc_method thresh   adjust_method  auc_mean  auc_sem  \\\n",
       "2    default  incumbent   0.75            both     0.232    0.024   \n",
       "1        NaN        NaN    NaN             NaN     0.238    0.027   \n",
       "0  incumbent      False    0.5  adjust_cs_only     0.243    0.026   \n",
       "\n",
       "   final_perf_mean  final_perf_sem  \n",
       "2            0.032           0.004  \n",
       "1            0.028           0.003  \n",
       "0            0.034           0.005  "
      ]
     },
     "execution_count": 149,
     "metadata": {},
     "output_type": "execute_result"
    }
   ],
   "source": [
    "merge.sort_values(by='auc_mean', ascending=True)"
   ]
  },
  {
   "cell_type": "code",
   "execution_count": 172,
   "id": "8e26936a",
   "metadata": {},
   "outputs": [
    {
     "name": "stdout",
     "output_type": "stream",
     "text": [
      "['ParEGO' 'fANOVA-ParEGO-auc' 'fANOVA-ParEGO-final']\n"
     ]
    },
    {
     "name": "stderr",
     "output_type": "stream",
     "text": [
      "/tmp/ipykernel_4800/1280240574.py:4: SettingWithCopyWarning:\n",
      "\n",
      "\n",
      "A value is trying to be set on a copy of a slice from a DataFrame.\n",
      "Try using .loc[row_indexer,col_indexer] = value instead\n",
      "\n",
      "See the caveats in the documentation: https://pandas.pydata.org/pandas-docs/stable/user_guide/indexing.html#returning-a-view-versus-a-copy\n",
      "\n",
      "/tmp/ipykernel_4800/1280240574.py:7: SettingWithCopyWarning:\n",
      "\n",
      "\n",
      "A value is trying to be set on a copy of a slice from a DataFrame.\n",
      "Try using .loc[row_indexer,col_indexer] = value instead\n",
      "\n",
      "See the caveats in the documentation: https://pandas.pydata.org/pandas-docs/stable/user_guide/indexing.html#returning-a-view-versus-a-copy\n",
      "\n",
      "/tmp/ipykernel_4800/1961929167.py:25: DeprecationWarning:\n",
      "\n",
      "DataFrameGroupBy.apply operated on the grouping columns. This behavior is deprecated, and in a future version of pandas the grouping columns will be excluded from the operation. Either pass `include_groups=False` to exclude the groupings or explicitly select the grouping columns after groupby to silence this warning.\n",
      "\n"
     ]
    },
    {
     "data": {
      "application/vnd.plotly.v1+json": {
       "config": {
        "plotlyServerURL": "https://plot.ly"
       },
       "data": [
        {
         "line": {
          "color": "rgb(228,26,28)",
          "width": 2
         },
         "mode": "lines",
         "name": "ParEGO",
         "type": "scatter",
         "x": {
          "bdata": "AAAAAAAAAAB7FK5H4XqUP3sUrkfheqQ/uB6F61G4rj97FK5H4Xq0P5qZmZmZmbk/uB6F61G4vj/sUbgehevBP3sUrkfhesQ/CtejcD0Kxz+amZmZmZnJPylcj8L1KMw/uB6F61G4zj+kcD0K16PQP+xRuB6F69E/MzMzMzMz0z97FK5H4XrUP8P1KFyPwtU/CtejcD0K1z9SuB6F61HYP5qZmZmZmdk/4XoUrkfh2j8pXI/C9SjcP3E9CtejcN0/uB6F61G43j8AAAAAAADgP6RwPQrXo+A/SOF6FK5H4T/sUbgehevhP4/C9Shcj+I/MzMzMzMz4z/Xo3A9CtfjP3sUrkfheuQ/H4XrUbge5T/D9Shcj8LlP2dmZmZmZuY/CtejcD0K5z+uR+F6FK7nP1K4HoXrUeg/9ihcj8L16D+amZmZmZnpPz4K16NwPeo/4XoUrkfh6j+F61G4HoXrPylcj8L1KOw/zczMzMzM7D9xPQrXo3DtPxWuR+F6FO4/uB6F61G47j9cj8L1KFzvPwAAAAAAAPA/",
          "dtype": "f8"
         },
         "xaxis": "x",
         "y": {
          "bdata": "UEV94jiV4T9QRX3iOJXhP1BFfeI4leE/N+zeV02T4T81svtk0HThP7ogqke7QOE/UqjhaU/O4D/KsNHX4j/gPxDwfr9pIN8/e+kZ0BiR3T8Si83epQDcPzaFoFFVZNo/Kq4E/s3u2D/X/BLSaXfXP36Q8V0I8tU/gTdhU/OL1D+GnobmZ03TP/H2BcYBKdI/TPtZ4DIg0T/JW3Mo1R7QP9Kd7f52T84/GtkwHPy7zD8Dd+7EhD/LP3ZKkziZ7Mk/veu9VjqcyD+X1/q2wEzHP4s178lUN8Y/Lk0CzyAixT/TBcedeQvEP+J8JdTq/MI/lIVSDbLzwT/kSseAiRnBP2h0gsOwRMA/CxLvMgH3vj86M8sPKIy9P2J+3T1WSLw/SPK9b3ACuz+AkmObz6y5P3ZW0EvrWLg/r85EDhsQtz/6PwQ+CMW1P8Y8mj9mdrQ/Tf8uiM8zsz/yoCxTbvaxP9J+5vYZu7A/QzYd69Pkrj/CQGG/22usP2igQewD+ak/Psletb+Fpz/y2xZMWhKlP6juzuL0nqI/",
          "dtype": "f8"
         },
         "yaxis": "y"
        },
        {
         "fill": "toself",
         "fillcolor": "rgba(228,26,28,0.1)",
         "hoverinfo": "skip",
         "line": {
          "color": "rgba(255,255,255,0)"
         },
         "showlegend": false,
         "type": "scatter",
         "x": {
          "bdata": "AAAAAAAAAAB7FK5H4XqUP3sUrkfheqQ/uB6F61G4rj97FK5H4Xq0P5qZmZmZmbk/uB6F61G4vj/sUbgehevBP3sUrkfhesQ/CtejcD0Kxz+amZmZmZnJPylcj8L1KMw/uB6F61G4zj+kcD0K16PQP+xRuB6F69E/MzMzMzMz0z97FK5H4XrUP8P1KFyPwtU/CtejcD0K1z9SuB6F61HYP5qZmZmZmdk/4XoUrkfh2j8pXI/C9SjcP3E9CtejcN0/uB6F61G43j8AAAAAAADgP6RwPQrXo+A/SOF6FK5H4T/sUbgehevhP4/C9Shcj+I/MzMzMzMz4z/Xo3A9CtfjP3sUrkfheuQ/H4XrUbge5T/D9Shcj8LlP2dmZmZmZuY/CtejcD0K5z+uR+F6FK7nP1K4HoXrUeg/9ihcj8L16D+amZmZmZnpPz4K16NwPeo/4XoUrkfh6j+F61G4HoXrPylcj8L1KOw/zczMzMzM7D9xPQrXo3DtPxWuR+F6FO4/uB6F61G47j9cj8L1KFzvPwAAAAAAAPA/AAAAAAAA8D9cj8L1KFzvP7gehetRuO4/Fa5H4XoU7j9xPQrXo3DtP83MzMzMzOw/KVyPwvUo7D+F61G4HoXrP+F6FK5H4eo/PgrXo3A96j+amZmZmZnpP/YoXI/C9eg/UrgehetR6D+uR+F6FK7nPwrXo3A9Cuc/Z2ZmZmZm5j/D9Shcj8LlPx+F61G4HuU/exSuR+F65D/Xo3A9CtfjPzMzMzMzM+M/j8L1KFyP4j/sUbgehevhP0jhehSuR+E/pHA9Ctej4D8AAAAAAADgP7gehetRuN4/cT0K16Nw3T8pXI/C9SjcP+F6FK5H4do/mpmZmZmZ2T9SuB6F61HYPwrXo3A9Ctc/w/UoXI/C1T97FK5H4XrUPzMzMzMzM9M/7FG4HoXr0T+kcD0K16PQP7gehetRuM4/KVyPwvUozD+amZmZmZnJPwrXo3A9Csc/exSuR+F6xD/sUbgehevBP7gehetRuL4/mpmZmZmZuT97FK5H4Xq0P7gehetRuK4/exSuR+F6pD97FK5H4XqUPwAAAAAAAAAA",
          "dtype": "f8"
         },
         "xaxis": "x",
         "y": {
          "bdata": "OwEjyLXP3j87ASPItc/ePzsBI8i1z94/jnepQZbO3j/bWt/EdJbeP/+72AVPNd4/Jq+xuhV03T8Ba6kWRIfcP0CBRXShY9s/Rd1U8IEU2j/6MrekGNHYPzn/aqVmh9c/BX5GlwFV1j9UIt1GqRnVP4Om2Sxxz9M/e8f5Ej6X0j8YkAZifXjRP4zE257fdtA/RmZpSpMszz9iSm+R/XzNP8diNbXk4ss/QjWco4yRyj8jRPVFWVDJP8w9jiwHLMg/Obq1JsoLxz9cQ+S3ferFP+nBgTJG5MQ/Q8Wg7Jfcwz99ubxdWtDCP+YuHleSusE/DgAbkLCkwD+5WuoX/pe/P0nJmXD/8L0/RBH+zztpvD8NvVadbhW7P6cr5fS99Lk/no2ygEnVuD+i4NHSmqm3P1jEpDK9hLY/YqfAb1ZytT+IywzBlVy0PwQ1xXG7I7M/ZlJ+bk72sT8bzveP6M2wP3hswpNSQa8/wqf7UZzSrD9/zTVZeoGqPxb/2qoKL6g/4zeVQ63RpT/SQ9aVJGqjP12e60yr96A/8z6yeD5GpD8SdFcCkLqmP5laKCfSOak/ukGoLf3Cqz8FtIwlPVauP2JiH8KFe7A/aMfro4rVsT/Jc2EW9B6zPzSs36FQcbQ/iERvDRHJtT9stPu6ei23P/z1yKzfrbg/lOj7ZBktuj9eRPVjBLC7P/JWyV6XL70/HdHVhu6bvj+z1B/BcAHAP2kJ8EpjwsA/KwS4zuGQwT9saJn1E2fCPxoLioqzQsM/3sosUUM/xD8pUtHdmEbFPxnVY7GpZ8Y/LalcYWOKxz/SaxG2A6/IP0EdxoaqLMo/IFeYRCutyz/jqedDsC7NP/J8xZRr5s4/buxSpARe0D9hEi+IK3/RP3VDfxscqtI/Vikw7SPb0z/0rAZrUiLVP4enyJOogNY/eXoJj58U2D9a10hdKtXZP0/ewmSaiNs/MwvW/UNB3T8q4+MYMzDfP9h679fXhuA/cC9cBZlu4T8UrE6kIzziPxF5avaT4uI/dONnDM9m4z/9todnZp7jP6cc6Y5Pv+M/Agrp4JbC4z8CCunglsLjPwIK6eCWwuM/",
          "dtype": "f8"
         },
         "yaxis": "y"
        },
        {
         "line": {
          "color": "rgb(55,126,184)",
          "width": 2
         },
         "mode": "lines",
         "name": "fANOVA-ParEGO-auc",
         "type": "scatter",
         "x": {
          "bdata": "AAAAAAAAAAB7FK5H4XqUP3sUrkfheqQ/uB6F61G4rj97FK5H4Xq0P5qZmZmZmbk/uB6F61G4vj/sUbgehevBP3sUrkfhesQ/CtejcD0Kxz+amZmZmZnJPylcj8L1KMw/uB6F61G4zj+kcD0K16PQP+xRuB6F69E/MzMzMzMz0z97FK5H4XrUP8P1KFyPwtU/CtejcD0K1z9SuB6F61HYP5qZmZmZmdk/4XoUrkfh2j8pXI/C9SjcP3E9CtejcN0/uB6F61G43j8AAAAAAADgP6RwPQrXo+A/SOF6FK5H4T/sUbgehevhP4/C9Shcj+I/MzMzMzMz4z/Xo3A9CtfjP3sUrkfheuQ/H4XrUbge5T/D9Shcj8LlP2dmZmZmZuY/CtejcD0K5z+uR+F6FK7nP1K4HoXrUeg/9ihcj8L16D+amZmZmZnpPz4K16NwPeo/4XoUrkfh6j+F61G4HoXrPylcj8L1KOw/zczMzMzM7D9xPQrXo3DtPxWuR+F6FO4/uB6F61G47j9cj8L1KFzvPwAAAAAAAPA/",
          "dtype": "f8"
         },
         "xaxis": "x",
         "y": {
          "bdata": "fJH8Yfuy4T98kfxh+7LhP3yR/GH7suE/YsK8cXuw4T9aCE0Rt5vhP1o8pA7GV+E/ig1W6Ajs4D/OiEg7VDjgPxbdbGelxN4/vRuHpUUM3T8aNvaiVWDbP8LtD8D3wNk//sRXHcE02D9NNODsRrbWPwYmLK39Q9U/53XJBrvr0z+ep8rBz77SP5LytFNwrdE/4AB9IFix0D8DcdkHJm/PP9WJdoxyos0/fXNWTBfqyz8Qh3fziUzKP7q81A704sg/wIOckaB6xz9CA09SdBDGP3ugnB4m/MQ/4b0bUDTpwz/rk/zYweHCP9v/XXyV4cE/fuTOQHTnwD8bVji1SwzAPzAlnzrJfr4/+w12ug7zvD8KWXoc6Yy7P3pwTaZpTLo/2ph8UdUUuT9CQG2o/tu3P0y75CUqtbY/HnuT2aWctT+5R5ePz5q0PzVe1g3/k7M/GRargCKVsj/2ctkEPJ+xP0DOkg4Ur7A/glWuleGPrz940gDAMK+tP1CjwVIfx6s/w93LtknWqT+DY082c+WnP0Pp0rWc9KU/",
          "dtype": "f8"
         },
         "yaxis": "y"
        },
        {
         "fill": "toself",
         "fillcolor": "rgba(55,126,184,0.1)",
         "hoverinfo": "skip",
         "line": {
          "color": "rgba(255,255,255,0)"
         },
         "showlegend": false,
         "type": "scatter",
         "x": {
          "bdata": "AAAAAAAAAAB7FK5H4XqUP3sUrkfheqQ/uB6F61G4rj97FK5H4Xq0P5qZmZmZmbk/uB6F61G4vj/sUbgehevBP3sUrkfhesQ/CtejcD0Kxz+amZmZmZnJPylcj8L1KMw/uB6F61G4zj+kcD0K16PQP+xRuB6F69E/MzMzMzMz0z97FK5H4XrUP8P1KFyPwtU/CtejcD0K1z9SuB6F61HYP5qZmZmZmdk/4XoUrkfh2j8pXI/C9SjcP3E9CtejcN0/uB6F61G43j8AAAAAAADgP6RwPQrXo+A/SOF6FK5H4T/sUbgehevhP4/C9Shcj+I/MzMzMzMz4z/Xo3A9CtfjP3sUrkfheuQ/H4XrUbge5T/D9Shcj8LlP2dmZmZmZuY/CtejcD0K5z+uR+F6FK7nP1K4HoXrUeg/9ihcj8L16D+amZmZmZnpPz4K16NwPeo/4XoUrkfh6j+F61G4HoXrPylcj8L1KOw/zczMzMzM7D9xPQrXo3DtPxWuR+F6FO4/uB6F61G47j9cj8L1KFzvPwAAAAAAAPA/AAAAAAAA8D9cj8L1KFzvP7gehetRuO4/Fa5H4XoU7j9xPQrXo3DtP83MzMzMzOw/KVyPwvUo7D+F61G4HoXrP+F6FK5H4eo/PgrXo3A96j+amZmZmZnpP/YoXI/C9eg/UrgehetR6D+uR+F6FK7nPwrXo3A9Cuc/Z2ZmZmZm5j/D9Shcj8LlPx+F61G4HuU/exSuR+F65D/Xo3A9CtfjPzMzMzMzM+M/j8L1KFyP4j/sUbgehevhP0jhehSuR+E/pHA9Ctej4D8AAAAAAADgP7gehetRuN4/cT0K16Nw3T8pXI/C9SjcP+F6FK5H4do/mpmZmZmZ2T9SuB6F61HYPwrXo3A9Ctc/w/UoXI/C1T97FK5H4XrUPzMzMzMzM9M/7FG4HoXr0T+kcD0K16PQP7gehetRuM4/KVyPwvUozD+amZmZmZnJPwrXo3A9Csc/exSuR+F6xD/sUbgehevBP7gehetRuL4/mpmZmZmZuT97FK5H4Xq0P7gehetRuK4/exSuR+F6pD97FK5H4XqUPwAAAAAAAAAA",
          "dtype": "f8"
         },
         "xaxis": "x",
         "y": {
          "bdata": "dUxKYe0O3z91TEph7Q7fP3VMSmHtDt8/oc9l8XIN3z/YKQbHzejePyesE/WHat4/plJNYMGk3T+tuiAF/3DcPyC7vrM+Dts/qmK/8Gum2T8bdiZNTGDYP+3TqWMdE9c/3AZ11Qjb1T+MsCKNzqrUP/lW4a2CedM/YbcqfUZd0j/HhyoDrGLRPyP4zaAWetA/7s2TbeY/zz+1S1ItoYbNP3PWureD7ss/5t/jaN1oyj/Me3PkW/PIP6KLFKpmqsc/F0IQJJNjxj+66klQCBnFP3whDsB0LsQ/vsjuQWdDwz8Iz8SAomHCP4e4/sVreME/mSSBbS2PwD9Wigwh2G+/P72MAhdkwb0/kSbu4+EYvD9vEd9B0Ze6P69usr1qRLk/MKjLBDUBuD8x4Ve78sW2P24RzX29oLU/7AJqGUCKtD9iljhuh4+zPz7X/zX0i7I/+Coh8jKJsT/if4jvP42wP2ARiHhqRK8/BbchZd96rT8gIIThG6qrP5X862iJ0qk/5GPFyn7zpz/xVHkN3RCmP+S6py1PKqQ/ohf+Peq+pz8VciVfCbqpP6JX0qIUuas/C0qXPLW7rT/QhH2eRbSvPwB6HeNx0rA/0JPh4PK7sT8KZioaOLGyPzoBNQ8SobM/LOWs5QmctD8Q+fWwF6a1P1DzvJkLr7Y/KmX8zZbJtz9Tn4KVCvK4P4SJLZ51KLo/RXLojmhUuz+loBX3AIK8P2X1/ZA7zb0/o707Xi48vz8LZ+pZq2DAP2OkHBS7P8E/L0e9Mr9Kwj/OWDQx4WHDPwSzSF4Bj8Q/eh8rfdfJxT/KG1RU4AfHP2nFKP+tkcg/0u2Uc4Ebyj9UknsCuKXLPxQHyS9Ra80/Nz0yYWFWzz8oSzBx1avQP8kaMAq9wtE/Ae2bBsrg0j91x2qA8xrUP200aJAvetU/E/V2rHgO1z8OuJ1Mv8HYPyCDOmV5jto/lwd2HNJu3D8Z9sX4XmDeP2hqJ60POeA/hn+NDYY94T9GtAD0KDjiP8FxhSCxBeM/oKK+Ikh64z/I+xY/B8PjP/Scxmo92uM/vfxTE4De4z+9/FMTgN7jP738UxOA3uM/",
          "dtype": "f8"
         },
         "yaxis": "y"
        },
        {
         "line": {
          "color": "rgb(77,175,74)",
          "width": 2
         },
         "mode": "lines",
         "name": "fANOVA-ParEGO-final",
         "type": "scatter",
         "x": {
          "bdata": "AAAAAAAAAAB7FK5H4XqUP3sUrkfheqQ/uB6F61G4rj97FK5H4Xq0P5qZmZmZmbk/uB6F61G4vj/sUbgehevBP3sUrkfhesQ/CtejcD0Kxz+amZmZmZnJPylcj8L1KMw/uB6F61G4zj+kcD0K16PQP+xRuB6F69E/MzMzMzMz0z97FK5H4XrUP8P1KFyPwtU/CtejcD0K1z9SuB6F61HYP5qZmZmZmdk/4XoUrkfh2j8pXI/C9SjcP3E9CtejcN0/uB6F61G43j8AAAAAAADgP6RwPQrXo+A/SOF6FK5H4T/sUbgehevhP4/C9Shcj+I/MzMzMzMz4z/Xo3A9CtfjP3sUrkfheuQ/H4XrUbge5T/D9Shcj8LlP2dmZmZmZuY/CtejcD0K5z+uR+F6FK7nP1K4HoXrUeg/9ihcj8L16D+amZmZmZnpPz4K16NwPeo/4XoUrkfh6j+F61G4HoXrPylcj8L1KOw/zczMzMzM7D9xPQrXo3DtPxWuR+F6FO4/uB6F61G47j9cj8L1KFzvPwAAAAAAAPA/",
          "dtype": "f8"
         },
         "xaxis": "x",
         "y": {
          "bdata": "UEV94jiV4T9QRX3iOJXhP1BFfeI4leE/N+zeV02T4T81svtk0HThP7ogqke7QOE/UqjhaU/O4D/KsNHX4j/gPxDwfr9pIN8/e+kZ0BiR3T8Si83epQDcPzaFoFFVZNo/Kq4E/s3u2D/X/BLSaXfXP36Q8V0I8tU/gTdhU/OL1D+GnobmZ03TP/H2BcYBKdI/TPtZ4DIg0T/JW3Mo1R7QP9Kd7f52T84/GtkwHPy7zD8Dd+7EhD/LP3ZKkziZ7Mk/veu9VjqcyD+X1/q2wEzHP4s178lUN8Y/Lk0CzyAixT/TBcedeQvEP+J8JdTq/MI/lIVSDbLzwT/kSseAiRnBP2h0gsOwRMA/CxLvMgH3vj86M8sPKIy9P2J+3T1WSLw/SPK9b3ACuz+AkmObz6y5P3ZW0EvrWLg/r85EDhsQtz/6PwQ+CMW1P8Y8mj9mdrQ/Tf8uiM8zsz/yoCxTbvaxP9J+5vYZu7A/QzYd69Pkrj/CQGG/22usP2igQewD+ak/Psletb+Fpz/y2xZMWhKlP6juzuL0nqI/",
          "dtype": "f8"
         },
         "yaxis": "y"
        },
        {
         "fill": "toself",
         "fillcolor": "rgba(77,175,74,0.1)",
         "hoverinfo": "skip",
         "line": {
          "color": "rgba(255,255,255,0)"
         },
         "showlegend": false,
         "type": "scatter",
         "x": {
          "bdata": "AAAAAAAAAAB7FK5H4XqUP3sUrkfheqQ/uB6F61G4rj97FK5H4Xq0P5qZmZmZmbk/uB6F61G4vj/sUbgehevBP3sUrkfhesQ/CtejcD0Kxz+amZmZmZnJPylcj8L1KMw/uB6F61G4zj+kcD0K16PQP+xRuB6F69E/MzMzMzMz0z97FK5H4XrUP8P1KFyPwtU/CtejcD0K1z9SuB6F61HYP5qZmZmZmdk/4XoUrkfh2j8pXI/C9SjcP3E9CtejcN0/uB6F61G43j8AAAAAAADgP6RwPQrXo+A/SOF6FK5H4T/sUbgehevhP4/C9Shcj+I/MzMzMzMz4z/Xo3A9CtfjP3sUrkfheuQ/H4XrUbge5T/D9Shcj8LlP2dmZmZmZuY/CtejcD0K5z+uR+F6FK7nP1K4HoXrUeg/9ihcj8L16D+amZmZmZnpPz4K16NwPeo/4XoUrkfh6j+F61G4HoXrPylcj8L1KOw/zczMzMzM7D9xPQrXo3DtPxWuR+F6FO4/uB6F61G47j9cj8L1KFzvPwAAAAAAAPA/AAAAAAAA8D9cj8L1KFzvP7gehetRuO4/Fa5H4XoU7j9xPQrXo3DtP83MzMzMzOw/KVyPwvUo7D+F61G4HoXrP+F6FK5H4eo/PgrXo3A96j+amZmZmZnpP/YoXI/C9eg/UrgehetR6D+uR+F6FK7nPwrXo3A9Cuc/Z2ZmZmZm5j/D9Shcj8LlPx+F61G4HuU/exSuR+F65D/Xo3A9CtfjPzMzMzMzM+M/j8L1KFyP4j/sUbgehevhP0jhehSuR+E/pHA9Ctej4D8AAAAAAADgP7gehetRuN4/cT0K16Nw3T8pXI/C9SjcP+F6FK5H4do/mpmZmZmZ2T9SuB6F61HYPwrXo3A9Ctc/w/UoXI/C1T97FK5H4XrUPzMzMzMzM9M/7FG4HoXr0T+kcD0K16PQP7gehetRuM4/KVyPwvUozD+amZmZmZnJPwrXo3A9Csc/exSuR+F6xD/sUbgehevBP7gehetRuL4/mpmZmZmZuT97FK5H4Xq0P7gehetRuK4/exSuR+F6pD97FK5H4XqUPwAAAAAAAAAA",
          "dtype": "f8"
         },
         "xaxis": "x",
         "y": {
          "bdata": "OwEjyLXP3j87ASPItc/ePzsBI8i1z94/jnepQZbO3j/bWt/EdJbeP/+72AVPNd4/Jq+xuhV03T8Ba6kWRIfcP0CBRXShY9s/Rd1U8IEU2j/6MrekGNHYPzn/aqVmh9c/BX5GlwFV1j9UIt1GqRnVP4Om2Sxxz9M/e8f5Ej6X0j8YkAZifXjRP4zE257fdtA/RmZpSpMszz9iSm+R/XzNP8diNbXk4ss/QjWco4yRyj8jRPVFWVDJP8w9jiwHLMg/Obq1JsoLxz9cQ+S3ferFP+nBgTJG5MQ/Q8Wg7Jfcwz99ubxdWtDCP+YuHleSusE/DgAbkLCkwD+5WuoX/pe/P0nJmXD/8L0/RBH+zztpvD8NvVadbhW7P6cr5fS99Lk/no2ygEnVuD+i4NHSmqm3P1jEpDK9hLY/YqfAb1ZytT+IywzBlVy0PwQ1xXG7I7M/ZlJ+bk72sT8bzveP6M2wP3hswpNSQa8/wqf7UZzSrD9/zTVZeoGqPxb/2qoKL6g/4zeVQ63RpT/SQ9aVJGqjP12e60yr96A/8z6yeD5GpD8SdFcCkLqmP5laKCfSOak/ukGoLf3Cqz8FtIwlPVauP2JiH8KFe7A/aMfro4rVsT/Jc2EW9B6zPzSs36FQcbQ/iERvDRHJtT9stPu6ei23P/z1yKzfrbg/lOj7ZBktuj9eRPVjBLC7P/JWyV6XL70/HdHVhu6bvj+z1B/BcAHAP2kJ8EpjwsA/KwS4zuGQwT9saJn1E2fCPxoLioqzQsM/3sosUUM/xD8pUtHdmEbFPxnVY7GpZ8Y/LalcYWOKxz/SaxG2A6/IP0EdxoaqLMo/IFeYRCutyz/jqedDsC7NP/J8xZRr5s4/buxSpARe0D9hEi+IK3/RP3VDfxscqtI/Vikw7SPb0z/0rAZrUiLVP4enyJOogNY/eXoJj58U2D9a10hdKtXZP0/ewmSaiNs/MwvW/UNB3T8q4+MYMzDfP9h679fXhuA/cC9cBZlu4T8UrE6kIzziPxF5avaT4uI/dONnDM9m4z/9todnZp7jP6cc6Y5Pv+M/Agrp4JbC4z8CCunglsLjPwIK6eCWwuM/",
          "dtype": "f8"
         },
         "yaxis": "y"
        },
        {
         "error_x": {
          "array": {
           "bdata": "Jpve/hl3lz8mm97+GXeXP3+WMHWHy5A/",
           "dtype": "f8"
          },
          "type": "data"
         },
         "marker": {
          "color": "skyblue",
          "line": {
           "color": "black",
           "width": 1
          }
         },
         "orientation": "h",
         "showlegend": false,
         "type": "bar",
         "x": {
          "bdata": "FhsNoI5Mzj8WGw2gjkzOP8Nuyn8lA80/",
          "dtype": "f8"
         },
         "xaxis": "x2",
         "y": [
          "ParEGO",
          "fANOVA-ParEGO-final",
          "fANOVA-ParEGO-auc"
         ],
         "yaxis": "y2"
        }
       ],
       "layout": {
        "font": {
         "size": 16
        },
        "height": 400,
        "legend": {
         "font": {
          "size": 16
         },
         "title": {
          "text": "Optimizers"
         }
        },
        "margin": {
         "b": 50,
         "l": 50,
         "r": 50,
         "t": 60
        },
        "template": {
         "data": {
          "bar": [
           {
            "error_x": {
             "color": "#2a3f5f"
            },
            "error_y": {
             "color": "#2a3f5f"
            },
            "marker": {
             "line": {
              "color": "white",
              "width": 0.5
             },
             "pattern": {
              "fillmode": "overlay",
              "size": 10,
              "solidity": 0.2
             }
            },
            "type": "bar"
           }
          ],
          "barpolar": [
           {
            "marker": {
             "line": {
              "color": "white",
              "width": 0.5
             },
             "pattern": {
              "fillmode": "overlay",
              "size": 10,
              "solidity": 0.2
             }
            },
            "type": "barpolar"
           }
          ],
          "carpet": [
           {
            "aaxis": {
             "endlinecolor": "#2a3f5f",
             "gridcolor": "#C8D4E3",
             "linecolor": "#C8D4E3",
             "minorgridcolor": "#C8D4E3",
             "startlinecolor": "#2a3f5f"
            },
            "baxis": {
             "endlinecolor": "#2a3f5f",
             "gridcolor": "#C8D4E3",
             "linecolor": "#C8D4E3",
             "minorgridcolor": "#C8D4E3",
             "startlinecolor": "#2a3f5f"
            },
            "type": "carpet"
           }
          ],
          "choropleth": [
           {
            "colorbar": {
             "outlinewidth": 0,
             "ticks": ""
            },
            "type": "choropleth"
           }
          ],
          "contour": [
           {
            "colorbar": {
             "outlinewidth": 0,
             "ticks": ""
            },
            "colorscale": [
             [
              0,
              "#0d0887"
             ],
             [
              0.1111111111111111,
              "#46039f"
             ],
             [
              0.2222222222222222,
              "#7201a8"
             ],
             [
              0.3333333333333333,
              "#9c179e"
             ],
             [
              0.4444444444444444,
              "#bd3786"
             ],
             [
              0.5555555555555556,
              "#d8576b"
             ],
             [
              0.6666666666666666,
              "#ed7953"
             ],
             [
              0.7777777777777778,
              "#fb9f3a"
             ],
             [
              0.8888888888888888,
              "#fdca26"
             ],
             [
              1,
              "#f0f921"
             ]
            ],
            "type": "contour"
           }
          ],
          "contourcarpet": [
           {
            "colorbar": {
             "outlinewidth": 0,
             "ticks": ""
            },
            "type": "contourcarpet"
           }
          ],
          "heatmap": [
           {
            "colorbar": {
             "outlinewidth": 0,
             "ticks": ""
            },
            "colorscale": [
             [
              0,
              "#0d0887"
             ],
             [
              0.1111111111111111,
              "#46039f"
             ],
             [
              0.2222222222222222,
              "#7201a8"
             ],
             [
              0.3333333333333333,
              "#9c179e"
             ],
             [
              0.4444444444444444,
              "#bd3786"
             ],
             [
              0.5555555555555556,
              "#d8576b"
             ],
             [
              0.6666666666666666,
              "#ed7953"
             ],
             [
              0.7777777777777778,
              "#fb9f3a"
             ],
             [
              0.8888888888888888,
              "#fdca26"
             ],
             [
              1,
              "#f0f921"
             ]
            ],
            "type": "heatmap"
           }
          ],
          "histogram": [
           {
            "marker": {
             "pattern": {
              "fillmode": "overlay",
              "size": 10,
              "solidity": 0.2
             }
            },
            "type": "histogram"
           }
          ],
          "histogram2d": [
           {
            "colorbar": {
             "outlinewidth": 0,
             "ticks": ""
            },
            "colorscale": [
             [
              0,
              "#0d0887"
             ],
             [
              0.1111111111111111,
              "#46039f"
             ],
             [
              0.2222222222222222,
              "#7201a8"
             ],
             [
              0.3333333333333333,
              "#9c179e"
             ],
             [
              0.4444444444444444,
              "#bd3786"
             ],
             [
              0.5555555555555556,
              "#d8576b"
             ],
             [
              0.6666666666666666,
              "#ed7953"
             ],
             [
              0.7777777777777778,
              "#fb9f3a"
             ],
             [
              0.8888888888888888,
              "#fdca26"
             ],
             [
              1,
              "#f0f921"
             ]
            ],
            "type": "histogram2d"
           }
          ],
          "histogram2dcontour": [
           {
            "colorbar": {
             "outlinewidth": 0,
             "ticks": ""
            },
            "colorscale": [
             [
              0,
              "#0d0887"
             ],
             [
              0.1111111111111111,
              "#46039f"
             ],
             [
              0.2222222222222222,
              "#7201a8"
             ],
             [
              0.3333333333333333,
              "#9c179e"
             ],
             [
              0.4444444444444444,
              "#bd3786"
             ],
             [
              0.5555555555555556,
              "#d8576b"
             ],
             [
              0.6666666666666666,
              "#ed7953"
             ],
             [
              0.7777777777777778,
              "#fb9f3a"
             ],
             [
              0.8888888888888888,
              "#fdca26"
             ],
             [
              1,
              "#f0f921"
             ]
            ],
            "type": "histogram2dcontour"
           }
          ],
          "mesh3d": [
           {
            "colorbar": {
             "outlinewidth": 0,
             "ticks": ""
            },
            "type": "mesh3d"
           }
          ],
          "parcoords": [
           {
            "line": {
             "colorbar": {
              "outlinewidth": 0,
              "ticks": ""
             }
            },
            "type": "parcoords"
           }
          ],
          "pie": [
           {
            "automargin": true,
            "type": "pie"
           }
          ],
          "scatter": [
           {
            "fillpattern": {
             "fillmode": "overlay",
             "size": 10,
             "solidity": 0.2
            },
            "type": "scatter"
           }
          ],
          "scatter3d": [
           {
            "line": {
             "colorbar": {
              "outlinewidth": 0,
              "ticks": ""
             }
            },
            "marker": {
             "colorbar": {
              "outlinewidth": 0,
              "ticks": ""
             }
            },
            "type": "scatter3d"
           }
          ],
          "scattercarpet": [
           {
            "marker": {
             "colorbar": {
              "outlinewidth": 0,
              "ticks": ""
             }
            },
            "type": "scattercarpet"
           }
          ],
          "scattergeo": [
           {
            "marker": {
             "colorbar": {
              "outlinewidth": 0,
              "ticks": ""
             }
            },
            "type": "scattergeo"
           }
          ],
          "scattergl": [
           {
            "marker": {
             "colorbar": {
              "outlinewidth": 0,
              "ticks": ""
             }
            },
            "type": "scattergl"
           }
          ],
          "scattermap": [
           {
            "marker": {
             "colorbar": {
              "outlinewidth": 0,
              "ticks": ""
             }
            },
            "type": "scattermap"
           }
          ],
          "scattermapbox": [
           {
            "marker": {
             "colorbar": {
              "outlinewidth": 0,
              "ticks": ""
             }
            },
            "type": "scattermapbox"
           }
          ],
          "scatterpolar": [
           {
            "marker": {
             "colorbar": {
              "outlinewidth": 0,
              "ticks": ""
             }
            },
            "type": "scatterpolar"
           }
          ],
          "scatterpolargl": [
           {
            "marker": {
             "colorbar": {
              "outlinewidth": 0,
              "ticks": ""
             }
            },
            "type": "scatterpolargl"
           }
          ],
          "scatterternary": [
           {
            "marker": {
             "colorbar": {
              "outlinewidth": 0,
              "ticks": ""
             }
            },
            "type": "scatterternary"
           }
          ],
          "surface": [
           {
            "colorbar": {
             "outlinewidth": 0,
             "ticks": ""
            },
            "colorscale": [
             [
              0,
              "#0d0887"
             ],
             [
              0.1111111111111111,
              "#46039f"
             ],
             [
              0.2222222222222222,
              "#7201a8"
             ],
             [
              0.3333333333333333,
              "#9c179e"
             ],
             [
              0.4444444444444444,
              "#bd3786"
             ],
             [
              0.5555555555555556,
              "#d8576b"
             ],
             [
              0.6666666666666666,
              "#ed7953"
             ],
             [
              0.7777777777777778,
              "#fb9f3a"
             ],
             [
              0.8888888888888888,
              "#fdca26"
             ],
             [
              1,
              "#f0f921"
             ]
            ],
            "type": "surface"
           }
          ],
          "table": [
           {
            "cells": {
             "fill": {
              "color": "#EBF0F8"
             },
             "line": {
              "color": "white"
             }
            },
            "header": {
             "fill": {
              "color": "#C8D4E3"
             },
             "line": {
              "color": "white"
             }
            },
            "type": "table"
           }
          ]
         },
         "layout": {
          "annotationdefaults": {
           "arrowcolor": "#2a3f5f",
           "arrowhead": 0,
           "arrowwidth": 1
          },
          "autotypenumbers": "strict",
          "coloraxis": {
           "colorbar": {
            "outlinewidth": 0,
            "ticks": ""
           }
          },
          "colorscale": {
           "diverging": [
            [
             0,
             "#8e0152"
            ],
            [
             0.1,
             "#c51b7d"
            ],
            [
             0.2,
             "#de77ae"
            ],
            [
             0.3,
             "#f1b6da"
            ],
            [
             0.4,
             "#fde0ef"
            ],
            [
             0.5,
             "#f7f7f7"
            ],
            [
             0.6,
             "#e6f5d0"
            ],
            [
             0.7,
             "#b8e186"
            ],
            [
             0.8,
             "#7fbc41"
            ],
            [
             0.9,
             "#4d9221"
            ],
            [
             1,
             "#276419"
            ]
           ],
           "sequential": [
            [
             0,
             "#0d0887"
            ],
            [
             0.1111111111111111,
             "#46039f"
            ],
            [
             0.2222222222222222,
             "#7201a8"
            ],
            [
             0.3333333333333333,
             "#9c179e"
            ],
            [
             0.4444444444444444,
             "#bd3786"
            ],
            [
             0.5555555555555556,
             "#d8576b"
            ],
            [
             0.6666666666666666,
             "#ed7953"
            ],
            [
             0.7777777777777778,
             "#fb9f3a"
            ],
            [
             0.8888888888888888,
             "#fdca26"
            ],
            [
             1,
             "#f0f921"
            ]
           ],
           "sequentialminus": [
            [
             0,
             "#0d0887"
            ],
            [
             0.1111111111111111,
             "#46039f"
            ],
            [
             0.2222222222222222,
             "#7201a8"
            ],
            [
             0.3333333333333333,
             "#9c179e"
            ],
            [
             0.4444444444444444,
             "#bd3786"
            ],
            [
             0.5555555555555556,
             "#d8576b"
            ],
            [
             0.6666666666666666,
             "#ed7953"
            ],
            [
             0.7777777777777778,
             "#fb9f3a"
            ],
            [
             0.8888888888888888,
             "#fdca26"
            ],
            [
             1,
             "#f0f921"
            ]
           ]
          },
          "colorway": [
           "#636efa",
           "#EF553B",
           "#00cc96",
           "#ab63fa",
           "#FFA15A",
           "#19d3f3",
           "#FF6692",
           "#B6E880",
           "#FF97FF",
           "#FECB52"
          ],
          "font": {
           "color": "#2a3f5f"
          },
          "geo": {
           "bgcolor": "white",
           "lakecolor": "white",
           "landcolor": "white",
           "showlakes": true,
           "showland": true,
           "subunitcolor": "#C8D4E3"
          },
          "hoverlabel": {
           "align": "left"
          },
          "hovermode": "closest",
          "mapbox": {
           "style": "light"
          },
          "paper_bgcolor": "white",
          "plot_bgcolor": "white",
          "polar": {
           "angularaxis": {
            "gridcolor": "#EBF0F8",
            "linecolor": "#EBF0F8",
            "ticks": ""
           },
           "bgcolor": "white",
           "radialaxis": {
            "gridcolor": "#EBF0F8",
            "linecolor": "#EBF0F8",
            "ticks": ""
           }
          },
          "scene": {
           "xaxis": {
            "backgroundcolor": "white",
            "gridcolor": "#DFE8F3",
            "gridwidth": 2,
            "linecolor": "#EBF0F8",
            "showbackground": true,
            "ticks": "",
            "zerolinecolor": "#EBF0F8"
           },
           "yaxis": {
            "backgroundcolor": "white",
            "gridcolor": "#DFE8F3",
            "gridwidth": 2,
            "linecolor": "#EBF0F8",
            "showbackground": true,
            "ticks": "",
            "zerolinecolor": "#EBF0F8"
           },
           "zaxis": {
            "backgroundcolor": "white",
            "gridcolor": "#DFE8F3",
            "gridwidth": 2,
            "linecolor": "#EBF0F8",
            "showbackground": true,
            "ticks": "",
            "zerolinecolor": "#EBF0F8"
           }
          },
          "shapedefaults": {
           "line": {
            "color": "#2a3f5f"
           }
          },
          "ternary": {
           "aaxis": {
            "gridcolor": "#DFE8F3",
            "linecolor": "#A2B1C6",
            "ticks": ""
           },
           "baxis": {
            "gridcolor": "#DFE8F3",
            "linecolor": "#A2B1C6",
            "ticks": ""
           },
           "bgcolor": "white",
           "caxis": {
            "gridcolor": "#DFE8F3",
            "linecolor": "#A2B1C6",
            "ticks": ""
           }
          },
          "title": {
           "x": 0.05
          },
          "xaxis": {
           "automargin": true,
           "gridcolor": "#EBF0F8",
           "linecolor": "#EBF0F8",
           "ticks": "",
           "title": {
            "standoff": 15
           },
           "zerolinecolor": "#EBF0F8",
           "zerolinewidth": 2
          },
          "yaxis": {
           "automargin": true,
           "gridcolor": "#EBF0F8",
           "linecolor": "#EBF0F8",
           "ticks": "",
           "title": {
            "standoff": 15
           },
           "zerolinecolor": "#EBF0F8",
           "zerolinewidth": 2
          }
         }
        },
        "width": 1200,
        "xaxis": {
         "anchor": "y",
         "domain": [
          0,
          0.51
         ],
         "title": {
          "text": "Normalized Trials"
         }
        },
        "xaxis2": {
         "anchor": "y2",
         "domain": [
          0.66,
          1
         ],
         "title": {
          "text": "AUC"
         }
        },
        "yaxis": {
         "anchor": "x",
         "domain": [
          0,
          1
         ],
         "title": {
          "text": "Normalized Inc-Performance"
         }
        },
        "yaxis2": {
         "anchor": "x2",
         "domain": [
          0,
          1
         ],
         "title": {
          "text": "Optimizer"
         }
        }
       }
      }
     },
     "metadata": {},
     "output_type": "display_data"
    }
   ],
   "source": [
    "# plot best fanova vs best hypershap vs ParEGO\n",
    "best_final = merge[merge['final_perf_mean'] == merge['final_perf_mean'].min()]['optimizer_id'].values[0]\n",
    "fanova_final = perf_all[perf_all['optimizer_id']==best_final]\n",
    "fanova_final['optimizer_id'] = 'fANOVA-ParEGO-final'\n",
    "best_auc = merge[merge['auc_mean'] == merge['auc_mean'].min()]['optimizer_id'].values[0]\n",
    "fanova_auc = perf_all[perf_all['optimizer_id']==best_auc]\n",
    "fanova_auc['optimizer_id'] = 'fANOVA-ParEGO-auc'\n",
    "# hypershap_final = perf_all[perf_all['optimizer_id']=='hypershap_adjust_cs_random_adjust_prev_cfgs_set_to_random_thresh_0.75']\n",
    "# hypershap_final['optimizer_id'] = 'HyperSHAP-ParEGO-final'\n",
    "# hypershap_auc = perf_all[perf_all['optimizer_id']=='hypershap_adjust_cs_default_constant_adjust_prev_cfgs_set_to_incumbent_dynamic_decay_down']\n",
    "# hypershap_auc['optimizer_id'] = 'HyperSHAP-ParEGO'\n",
    "df_plot = pd.concat([base_test, fanova_auc, fanova_final], ignore_index=True)\n",
    "\n",
    "plot_one_thing('optimizer_id', df_plot=df_plot)"
   ]
  },
  {
   "cell_type": "code",
   "execution_count": 163,
   "id": "dfd17bb5",
   "metadata": {},
   "outputs": [],
   "source": [
    "df_plot = df_plot[df_plot['task_id'].str.contains('Pymoo')]"
   ]
  },
  {
   "cell_type": "code",
   "execution_count": 173,
   "id": "47a2baf8",
   "metadata": {},
   "outputs": [
    {
     "name": "stderr",
     "output_type": "stream",
     "text": [
      "/home/daphne/Code/hpi_parego/CARP-S/carps/analysis/generate_report.py:276: UserWarning:\n",
      "\n",
      "Result is not significant and results of the plot may be misleading!\n",
      "\n",
      "/home/daphne/Code/hpi_parego/CARP-S/carps/analysis/run_autorank.py:322: FutureWarning:\n",
      "\n",
      "Series.__getitem__ treating keys as positions is deprecated. In a future version, integer keys will always be treated as labels (consistent with DataFrame behavior). To access a value by position, use `ser.iloc[pos]`\n",
      "\n",
      "/home/daphne/Code/hpi_parego/CARP-S/carps/analysis/run_autorank.py:421: UserWarning:\n",
      "\n",
      "FigureCanvasAgg is non-interactive, and thus cannot be shown\n",
      "\n",
      "/home/daphne/Code/hpi_parego/CARP-S/carps/analysis/run_autorank.py:198: UserWarning:\n",
      "\n",
      "Result is not significant and results of the plot may be misleading!\n",
      "\n"
     ]
    },
    {
     "data": {
      "text/html": [
       "<pre style=\"white-space:pre;overflow-x:auto;line-height:normal;font-family:Menlo,'DejaVu Sans Mono',consolas,'Courier New',monospace\"><span style=\"color: #7fbfbf; text-decoration-color: #7fbfbf\">[11:23:29] </span><span style=\"color: #000080; text-decoration-color: #000080\">INFO    </span> Create dataframe for neat plotting by aligning x-axis <span style=\"color: #800080; text-decoration-color: #800080\">/</span> interpolating        <a href=\"file:///home/daphne/Code/hpi_parego/CARP-S/carps/analysis/gather_data.py\" target=\"_blank\"><span style=\"color: #7f7f7f; text-decoration-color: #7f7f7f\">gather_data.py</span></a><span style=\"color: #7f7f7f; text-decoration-color: #7f7f7f\">:</span><a href=\"file:///home/daphne/Code/hpi_parego/CARP-S/carps/analysis/gather_data.py#725\" target=\"_blank\"><span style=\"color: #7f7f7f; text-decoration-color: #7f7f7f\">725</span></a>\n",
       "<span style=\"color: #7fbfbf; text-decoration-color: #7fbfbf\">           </span>         budget.                                                                      <span style=\"color: #7f7f7f; text-decoration-color: #7f7f7f\">                  </span>\n",
       "</pre>\n"
      ],
      "text/plain": [
       "\u001b[2;36m[11:23:29]\u001b[0m\u001b[2;36m \u001b[0m\u001b[34mINFO    \u001b[0m Create dataframe for neat plotting by aligning x-axis \u001b[35m/\u001b[0m interpolating        \u001b]8;id=379600;file:///home/daphne/Code/hpi_parego/CARP-S/carps/analysis/gather_data.py\u001b\\\u001b[2mgather_data.py\u001b[0m\u001b]8;;\u001b\\\u001b[2m:\u001b[0m\u001b]8;id=433534;file:///home/daphne/Code/hpi_parego/CARP-S/carps/analysis/gather_data.py#725\u001b\\\u001b[2m725\u001b[0m\u001b]8;;\u001b\\\n",
       "\u001b[2;36m           \u001b[0m         budget.                                                                      \u001b[2m                  \u001b[0m\n"
      ]
     },
     "metadata": {},
     "output_type": "display_data"
    },
    {
     "name": "stderr",
     "output_type": "stream",
     "text": [
      "/home/daphne/miniforge3/envs/carps/lib/python3.10/site-packages/scipy/stats/_stats_py.py:9064: RuntimeWarning:\n",
      "\n",
      "invalid value encountered in scalar divide\n",
      "\n",
      "/home/daphne/Code/hpi_parego/CARP-S/carps/analysis/generate_report.py:108: UserWarning:\n",
      "\n",
      "Result is not significant and results of the plot may be misleading!\n",
      "\n",
      "/home/daphne/Code/hpi_parego/CARP-S/carps/analysis/generate_report.py:108: UserWarning:\n",
      "\n",
      "Result is not significant and results of the plot may be misleading!\n",
      "\n",
      "/home/daphne/Code/hpi_parego/CARP-S/carps/analysis/generate_report.py:108: UserWarning:\n",
      "\n",
      "Result is not significant and results of the plot may be misleading!\n",
      "\n",
      "/home/daphne/Code/hpi_parego/CARP-S/carps/analysis/generate_report.py:108: UserWarning:\n",
      "\n",
      "Result is not significant and results of the plot may be misleading!\n",
      "\n",
      "/home/daphne/Code/hpi_parego/CARP-S/carps/analysis/generate_report.py:108: UserWarning:\n",
      "\n",
      "Result is not significant and results of the plot may be misleading!\n",
      "\n",
      "/home/daphne/Code/hpi_parego/CARP-S/carps/analysis/generate_report.py:108: UserWarning:\n",
      "\n",
      "Result is not significant and results of the plot may be misleading!\n",
      "\n",
      "/home/daphne/Code/hpi_parego/CARP-S/carps/analysis/generate_report.py:108: UserWarning:\n",
      "\n",
      "Result is not significant and results of the plot may be misleading!\n",
      "\n",
      "/home/daphne/Code/hpi_parego/CARP-S/carps/analysis/generate_report.py:108: UserWarning:\n",
      "\n",
      "Result is not significant and results of the plot may be misleading!\n",
      "\n",
      "/home/daphne/Code/hpi_parego/CARP-S/carps/analysis/generate_report.py:108: UserWarning:\n",
      "\n",
      "Result is not significant and results of the plot may be misleading!\n",
      "\n",
      "/home/daphne/Code/hpi_parego/CARP-S/carps/analysis/generate_report.py:108: UserWarning:\n",
      "\n",
      "Result is not significant and results of the plot may be misleading!\n",
      "\n",
      "/home/daphne/Code/hpi_parego/CARP-S/carps/analysis/generate_report.py:108: UserWarning:\n",
      "\n",
      "Result is not significant and results of the plot may be misleading!\n",
      "\n",
      "/home/daphne/Code/hpi_parego/CARP-S/carps/analysis/generate_report.py:108: UserWarning:\n",
      "\n",
      "Result is not significant and results of the plot may be misleading!\n",
      "\n",
      "/home/daphne/Code/hpi_parego/CARP-S/carps/analysis/generate_report.py:108: UserWarning:\n",
      "\n",
      "Result is not significant and results of the plot may be misleading!\n",
      "\n",
      "/home/daphne/Code/hpi_parego/CARP-S/carps/analysis/generate_report.py:108: UserWarning:\n",
      "\n",
      "Result is not significant and results of the plot may be misleading!\n",
      "\n",
      "/home/daphne/Code/hpi_parego/CARP-S/carps/analysis/generate_report.py:108: UserWarning:\n",
      "\n",
      "Result is not significant and results of the plot may be misleading!\n",
      "\n",
      "/home/daphne/Code/hpi_parego/CARP-S/carps/analysis/generate_report.py:108: UserWarning:\n",
      "\n",
      "Result is not significant and results of the plot may be misleading!\n",
      "\n"
     ]
    },
    {
     "data": {
      "text/plain": [
       "[{'task_type': 'multi-objective',\n",
       "  'set': '0',\n",
       "  'task_id': None,\n",
       "  'filename': 'figure_dir/rank_multi-objective_0',\n",
       "  'plot_type': 'rank_over_time',\n",
       "  'plot_type_pretty': 'Rank over Time',\n",
       "  'explanation': 'The rank of each optimizer over time compares which optimizer performs better, the lower the rank the better. For each optimizer and task, the performance is averaged over seeds to obtain an estimate of the performance. The rank is then calculated per step and task with the same approach as for the critical difference diagram.'}]"
      ]
     },
     "execution_count": 173,
     "metadata": {},
     "output_type": "execute_result"
    }
   ],
   "source": [
    "plot_performance_over_time(df_plot, y='trial_value__cost_inc_norm')\n",
    "plot_critical_difference(df_plot, output_dir='figure_dir', replot=True)\n",
    "plot_performance_per_task(df_plot, output_dir='figure_dir', replot=True)\n",
    "plot_finalperfbarplot(df_plot, output_dir='figure_dir', replot=True)\n",
    "plot_ranks_over_time(df_plot, output_dir='figure_dir', replot=True)\n"
   ]
  },
  {
   "cell_type": "markdown",
   "id": "a49bf689",
   "metadata": {},
   "source": [
    "# Random"
   ]
  },
  {
   "cell_type": "code",
   "execution_count": 186,
   "id": "23a9d028",
   "metadata": {},
   "outputs": [
    {
     "name": "stderr",
     "output_type": "stream",
     "text": [
      "/tmp/ipykernel_38293/129696559.py:29: DeprecationWarning:\n",
      "\n",
      "DataFrameGroupBy.apply operated on the grouping columns. This behavior is deprecated, and in a future version of pandas the grouping columns will be excluded from the operation. Either pass `include_groups=False` to exclude the groupings or explicitly select the grouping columns after groupby to silence this warning.\n",
      "\n"
     ]
    },
    {
     "data": {
      "application/vnd.plotly.v1+json": {
       "config": {
        "plotlyServerURL": "https://plot.ly"
       },
       "data": [
        {
         "line": {
          "color": "rgb(228,26,28)",
          "width": 2
         },
         "mode": "lines",
         "name": "HyperSHAP-ParEGO",
         "type": "scatter",
         "x": {
          "bdata": "AAAAAAAAAAB7FK5H4XqUP3sUrkfheqQ/uB6F61G4rj97FK5H4Xq0P5qZmZmZmbk/uB6F61G4vj/sUbgehevBP3sUrkfhesQ/CtejcD0Kxz+amZmZmZnJPylcj8L1KMw/uB6F61G4zj+kcD0K16PQP+xRuB6F69E/MzMzMzMz0z97FK5H4XrUP8P1KFyPwtU/CtejcD0K1z9SuB6F61HYP5qZmZmZmdk/4XoUrkfh2j8pXI/C9SjcP3E9CtejcN0/uB6F61G43j8AAAAAAADgP6RwPQrXo+A/SOF6FK5H4T/sUbgehevhP4/C9Shcj+I/MzMzMzMz4z/Xo3A9CtfjP3sUrkfheuQ/H4XrUbge5T/D9Shcj8LlP2dmZmZmZuY/CtejcD0K5z+uR+F6FK7nP1K4HoXrUeg/9ihcj8L16D+amZmZmZnpPz4K16NwPeo/4XoUrkfh6j+F61G4HoXrPylcj8L1KOw/zczMzMzM7D9xPQrXo3DtPxWuR+F6FO4/uB6F61G47j9cj8L1KFzvPwAAAAAAAPA/",
          "dtype": "f8"
         },
         "y": {
          "bdata": "wq87nSo/lr4QXwIkhWdyv8pFw806Y32/ADG/0Ulyfb/tF7y4RyZ1vw1KzpYcmjS/MCiEg7CMMz8m3wHCM7cwP/NZHTnZdCy/AJh/aEsoJT+zZ0oR9SsqP1BXmb2a4Go/6dnUXZO2dz86kTCLXmt4P+bzcMhO4XY/iglFxpxqdj9iEi9vhfN1PyITs4QsSnA/9XjK/ai5VT8dKQCQ7gNTv3OVuQrePGq/hYxq2jz6cr9Q/FmLlZ96v52XEKW0D4S/GgI91IQai7+tESH6oBKRv8no/eykLZO/mdCxi6lIlb8I3wQvLS+Xv3XKM+ZS3Ze/gbzq5r2Pl7825m86mh6Xv6grwz4cp5W/hScw595FlL8mzeTRwaeSvwpB5EhyNZK/BVKr5IANkr+Itn79ijeSv82nIYF+sZK/arRhMHQik78+Ccx4zzmUv42y/kH2b5S/fbl9VbeNlL8qpmhHwIuUvy3peYgpwpO/7K/DF3eZk7/GFr7SN9SSv34wRr2U4ZG/+ySt5PbukL/qMigYsviPv+Ab9mZ2E46/",
          "dtype": "f8"
         }
        },
        {
         "fill": "toself",
         "fillcolor": "rgba(228,26,28,0.1)",
         "hoverinfo": "skip",
         "line": {
          "color": "rgba(255,255,255,0)"
         },
         "showlegend": false,
         "type": "scatter",
         "x": {
          "bdata": "AAAAAAAAAAB7FK5H4XqUP3sUrkfheqQ/uB6F61G4rj97FK5H4Xq0P5qZmZmZmbk/uB6F61G4vj/sUbgehevBP3sUrkfhesQ/CtejcD0Kxz+amZmZmZnJPylcj8L1KMw/uB6F61G4zj+kcD0K16PQP+xRuB6F69E/MzMzMzMz0z97FK5H4XrUP8P1KFyPwtU/CtejcD0K1z9SuB6F61HYP5qZmZmZmdk/4XoUrkfh2j8pXI/C9SjcP3E9CtejcN0/uB6F61G43j8AAAAAAADgP6RwPQrXo+A/SOF6FK5H4T/sUbgehevhP4/C9Shcj+I/MzMzMzMz4z/Xo3A9CtfjP3sUrkfheuQ/H4XrUbge5T/D9Shcj8LlP2dmZmZmZuY/CtejcD0K5z+uR+F6FK7nP1K4HoXrUeg/9ihcj8L16D+amZmZmZnpPz4K16NwPeo/4XoUrkfh6j+F61G4HoXrPylcj8L1KOw/zczMzMzM7D9xPQrXo3DtPxWuR+F6FO4/uB6F61G47j9cj8L1KFzvPwAAAAAAAPA/AAAAAAAA8D9cj8L1KFzvP7gehetRuO4/Fa5H4XoU7j9xPQrXo3DtP83MzMzMzOw/KVyPwvUo7D+F61G4HoXrP+F6FK5H4eo/PgrXo3A96j+amZmZmZnpP/YoXI/C9eg/UrgehetR6D+uR+F6FK7nPwrXo3A9Cuc/Z2ZmZmZm5j/D9Shcj8LlPx+F61G4HuU/exSuR+F65D/Xo3A9CtfjPzMzMzMzM+M/j8L1KFyP4j/sUbgehevhP0jhehSuR+E/pHA9Ctej4D8AAAAAAADgP7gehetRuN4/cT0K16Nw3T8pXI/C9SjcP+F6FK5H4do/mpmZmZmZ2T9SuB6F61HYPwrXo3A9Ctc/w/UoXI/C1T97FK5H4XrUPzMzMzMzM9M/7FG4HoXr0T+kcD0K16PQP7gehetRuM4/KVyPwvUozD+amZmZmZnJPwrXo3A9Csc/exSuR+F6xD/sUbgehevBP7gehetRuL4/mpmZmZmZuT97FK5H4Xq0P7gehetRuK4/exSuR+F6pD97FK5H4XqUPwAAAAAAAAAA",
          "dtype": "f8"
         },
         "y": {
          "bdata": "6NsKXTYWn762oHWAWmeCv6bZHBusyIW/vE089GRwjb+7KZ1hKz+Iv/DUCfoxgW+/e5ud8ahGWb+skhwwHyVzv4f8V8NH94G/bAB+aJ7Vhr91teiTk0CJv24qpVEcT4S/S4cRptnZf7+QJvylOgZ9v/Z3HfUBX3u/3FTkh03ed78ItVnbPJtzv5IoaV4nMHS/MVeS+EP5eb/dYBiWmj6Avx1Zn7zp14O/FMn7Kkiwhr+ANtsbjqKJvzSarTiSfI2/uMxik5sTkb+IajRpLgeUvzIwX7PTopW/lwB+9s8VmL+K59Y5qAmbvy1oVTdfKpy/Cmxa68/Cm78efgcWv3Kav0O1HIZw7Je/q8p6eADylb8Gu1Me13OUv0McHQJTOZS/Ls0NlZhtlL8z0gmI4v2UvwY2LseL6ZW/sN/egqfhlr/DMMUeZvWYvziGp3LRJJm/UjIQQI3umL+NTBbW3X2Yv1rz2NAT4Je/A+FY87zOl78nJQylx2OXv1S5l0oN6Ja/rgogWT2Dlr+qphloNC+Wvz5VzXNp55W/RI1R5hlYgL9/GB1g+5KDv5B+dOBgtYa/UE/pXzi2ib/KEOAAUImMv6r9XHhiyI6/AL41gH5Ij7/H/7q4opmQv6hA62rhLJC/xb2rIjZ2j79yw6WlcfyOv0gSybuBxo6/JzMqduLyjr+6NeflZuKOv7itkWjSWo+/0WWrj5ExkL9G33WFrNuQv1+E5VW9mZK/DaJp98dhk79OTthedcqTv/gMe+KrXJO/vSwSlUaQk7+G1jIkslSTv5ug5SCDe5K/YKGcJna4kL+kcRsWJzyMv8RqtIHSDYS/DSrnIq5Fdb/wudjv7aA/v3jkiYRasF0/jTkK3erlaj8srTDkPft2P9bJuzsMa4I/a6fnM0Biij/m7NvcI8GPP/yZG8XhLJE/8Nd/4WdIkj9BUhfvPXeTP8fObhjA0ZM/C+s42LTfkD+zCHM88xGKPyz9wcPgfoc/txGP+aATgT+QzlyoBTx1P8rXr5mAhmE/bEJW1Kpaaj9wjghHHcdYPwA4NC7YTc6+kbCZyjpqbr8AQC1fxlGVvjgH2bo90Iq+",
          "dtype": "f8"
         }
        },
        {
         "line": {
          "color": "rgb(55,126,184)",
          "width": 2
         },
         "mode": "lines",
         "name": "fANOVA-ParEGO",
         "type": "scatter",
         "x": {
          "bdata": "AAAAAAAAAAB7FK5H4XqUP3sUrkfheqQ/uB6F61G4rj97FK5H4Xq0P5qZmZmZmbk/uB6F61G4vj/sUbgehevBP3sUrkfhesQ/CtejcD0Kxz+amZmZmZnJPylcj8L1KMw/uB6F61G4zj+kcD0K16PQP+xRuB6F69E/MzMzMzMz0z97FK5H4XrUP8P1KFyPwtU/CtejcD0K1z9SuB6F61HYP5qZmZmZmdk/4XoUrkfh2j8pXI/C9SjcP3E9CtejcN0/uB6F61G43j8AAAAAAADgP6RwPQrXo+A/SOF6FK5H4T/sUbgehevhP4/C9Shcj+I/MzMzMzMz4z/Xo3A9CtfjP3sUrkfheuQ/H4XrUbge5T/D9Shcj8LlP2dmZmZmZuY/CtejcD0K5z+uR+F6FK7nP1K4HoXrUeg/9ihcj8L16D+amZmZmZnpPz4K16NwPeo/4XoUrkfh6j+F61G4HoXrPylcj8L1KOw/zczMzMzM7D9xPQrXo3DtPxWuR+F6FO4/uB6F61G47j9cj8L1KFzvPwAAAAAAAPA/",
          "dtype": "f8"
         },
         "y": {
          "bdata": "AAAAAAAAAABitxN5/HpUv94Cn2w3M3a/0Tklhy7Hc78WPRT5QZyBvyMu0+WpYXa/zo6ODw0iND8G/7hQuKtnP+IqntSGU3w/PlxxeTnChj+1MD3SFDuSP5JiS0uNXpc/vlqr1v9ymj8r/NkKL76cP5AaXZAyjZ8/BiVgoL41oT/gV9MndTmiP0o1BxpstKM/arC41Ky0pT9C19vS/U2nP5b4RmKWwqg/BiqOhWo0qj+aYZjcVu+qP6ITq+p0FKo/zmavv18JqT+lqQNvqOmnP0eDq7yDBKc/fruJnF0fpj/IbEhs70+lP1Ib3/+Tc6Q/Ok4I4GK3oz/HJSBc7zqjP8Z9JOVChKI/K/bmTGsmoj/VaxpWCYeiP0uV7XL/VaI/SdHEWSHooT+VwomZOCGhP1mXXPUNkqA/GOF6eAZsoD8YOtyROSSgP6Xv4Qy4hJ8/n6zESI3noD/NIP2W2kqeP0MDJql/gZo/dmTmhu3glz/6FtM3QZuUP0Z0G+eOGpE/rRcx3qcziz8HZK9TMTKEP8JgW5J1YXo/",
          "dtype": "f8"
         }
        },
        {
         "fill": "toself",
         "fillcolor": "rgba(55,126,184,0.1)",
         "hoverinfo": "skip",
         "line": {
          "color": "rgba(255,255,255,0)"
         },
         "showlegend": false,
         "type": "scatter",
         "x": {
          "bdata": "AAAAAAAAAAB7FK5H4XqUP3sUrkfheqQ/uB6F61G4rj97FK5H4Xq0P5qZmZmZmbk/uB6F61G4vj/sUbgehevBP3sUrkfhesQ/CtejcD0Kxz+amZmZmZnJPylcj8L1KMw/uB6F61G4zj+kcD0K16PQP+xRuB6F69E/MzMzMzMz0z97FK5H4XrUP8P1KFyPwtU/CtejcD0K1z9SuB6F61HYP5qZmZmZmdk/4XoUrkfh2j8pXI/C9SjcP3E9CtejcN0/uB6F61G43j8AAAAAAADgP6RwPQrXo+A/SOF6FK5H4T/sUbgehevhP4/C9Shcj+I/MzMzMzMz4z/Xo3A9CtfjP3sUrkfheuQ/H4XrUbge5T/D9Shcj8LlP2dmZmZmZuY/CtejcD0K5z+uR+F6FK7nP1K4HoXrUeg/9ihcj8L16D+amZmZmZnpPz4K16NwPeo/4XoUrkfh6j+F61G4HoXrPylcj8L1KOw/zczMzMzM7D9xPQrXo3DtPxWuR+F6FO4/uB6F61G47j9cj8L1KFzvPwAAAAAAAPA/AAAAAAAA8D9cj8L1KFzvP7gehetRuO4/Fa5H4XoU7j9xPQrXo3DtP83MzMzMzOw/KVyPwvUo7D+F61G4HoXrP+F6FK5H4eo/PgrXo3A96j+amZmZmZnpP/YoXI/C9eg/UrgehetR6D+uR+F6FK7nPwrXo3A9Cuc/Z2ZmZmZm5j/D9Shcj8LlPx+F61G4HuU/exSuR+F65D/Xo3A9CtfjPzMzMzMzM+M/j8L1KFyP4j/sUbgehevhP0jhehSuR+E/pHA9Ctej4D8AAAAAAADgP7gehetRuN4/cT0K16Nw3T8pXI/C9SjcP+F6FK5H4do/mpmZmZmZ2T9SuB6F61HYPwrXo3A9Ctc/w/UoXI/C1T97FK5H4XrUPzMzMzMzM9M/7FG4HoXr0T+kcD0K16PQP7gehetRuM4/KVyPwvUozD+amZmZmZnJPwrXo3A9Csc/exSuR+F6xD/sUbgehevBP7gehetRuL4/mpmZmZmZuT97FK5H4Xq0P7gehetRuK4/exSuR+F6pD97FK5H4XqUPwAAAAAAAAAA",
          "dtype": "f8"
         },
         "y": {
          "bdata": "AAAAAAAAAABitxN5/Hpkv3Rsid0gFYS/sqRALW/Sgr86OnMW8PWQv/ITosAm+oW/IAeS2rfheb/GhA6Vp9dxv4ACnb2ksh6/mWOL8e0Ucz+SsyTRIiyCP6tvNbHdh4c/6G4uadk5jD+1JyI+9UiQPyZz66jxJJM/yHXDPH9VlT9d6ckvq4KVP9x4gBlpzJY/9LWfR73NmT/R886YF6GbP1x2IWO7z5w/DEyFMun9nT9GTjF+DeCdP+Rvz+PWaps/bcVoxh1rmD8zNcXxJfuUP/7GBuAq95Q/kjTA8ETllD8HzH81JvGUP5TrV5Pt7ZQ/3uJBqdQolT90cgX4VmyVPxyrluGQKpU/5+oYcFO7lT+DqT1CSNaXPxLQCScq/pc/2jhH3ZqFlz8IqRk7pxaWPyepuBy89ZQ/TORW3qbMlD/MtSyHURaUP1ZMQ9EuQJM/0a70TErClz9qLKsqGEmUP12kkQl8F48/78xqB6qhiT+JS7YUdfaCP+YYw0Mjr3c/CJRzUwBSYj/IqvuNtYtWv9wKHzAmsXS/GHM1VQRdkj+0Ho+s7JqVPyylwtNn6Zg/UiJG/VRJnD8wCEvlR7ufPzqxCwWDeKE/LJrBpqC7oj+YiqeBTiakP9YBD2v17aU/eklApKDkpT9KGSJgSj2mPwpQyoG5caY/Htpc3D2ppj+msIaVHTenPyUG5kR1Dag/jUJW0umsqD/oAhaL7iKpP+J2weEsb6k//qV9WT1zqj9Ukj08s7+rPwWrb2tb2qw/2kASNjFwrj/GeejepROwP1quWWAM5rA/iNGpBLnGsT9YXJLy3qqyP3M1FU6Y7rI/qTe3Mb85sz8IDgx9U3ezPwPX7DjwtLI//5p+iaeOsT9OGqjst2WwP9qFoQV7gq4/Ji5Op6MCrD8Su8G3lLGpPyiPXqK9wKc//WDnu7n6pT9Q6MhrtJmkPwS/X3yJZKM/pwb+3pV8oT+hB+g7GGCbP1iDDv39/JE/52QZHuyQjD/mwePyr8GEP/rYg3z5ZXw/IIxGTMngKb+AWyBUPMpEv9Cjkjzrlz6/TLOseLTwUL8AAAAAAAAAAAAAAAAAAAAA",
          "dtype": "f8"
         }
        }
       ],
       "layout": {
        "font": {
         "size": 16
        },
        "height": 400,
        "legend": {
         "font": {
          "size": 16
         },
         "title": {
          "text": "Optimizers"
         }
        },
        "margin": {
         "b": 50,
         "l": 50,
         "r": 50,
         "t": 60
        },
        "template": {
         "data": {
          "bar": [
           {
            "error_x": {
             "color": "#2a3f5f"
            },
            "error_y": {
             "color": "#2a3f5f"
            },
            "marker": {
             "line": {
              "color": "white",
              "width": 0.5
             },
             "pattern": {
              "fillmode": "overlay",
              "size": 10,
              "solidity": 0.2
             }
            },
            "type": "bar"
           }
          ],
          "barpolar": [
           {
            "marker": {
             "line": {
              "color": "white",
              "width": 0.5
             },
             "pattern": {
              "fillmode": "overlay",
              "size": 10,
              "solidity": 0.2
             }
            },
            "type": "barpolar"
           }
          ],
          "carpet": [
           {
            "aaxis": {
             "endlinecolor": "#2a3f5f",
             "gridcolor": "#C8D4E3",
             "linecolor": "#C8D4E3",
             "minorgridcolor": "#C8D4E3",
             "startlinecolor": "#2a3f5f"
            },
            "baxis": {
             "endlinecolor": "#2a3f5f",
             "gridcolor": "#C8D4E3",
             "linecolor": "#C8D4E3",
             "minorgridcolor": "#C8D4E3",
             "startlinecolor": "#2a3f5f"
            },
            "type": "carpet"
           }
          ],
          "choropleth": [
           {
            "colorbar": {
             "outlinewidth": 0,
             "ticks": ""
            },
            "type": "choropleth"
           }
          ],
          "contour": [
           {
            "colorbar": {
             "outlinewidth": 0,
             "ticks": ""
            },
            "colorscale": [
             [
              0,
              "#0d0887"
             ],
             [
              0.1111111111111111,
              "#46039f"
             ],
             [
              0.2222222222222222,
              "#7201a8"
             ],
             [
              0.3333333333333333,
              "#9c179e"
             ],
             [
              0.4444444444444444,
              "#bd3786"
             ],
             [
              0.5555555555555556,
              "#d8576b"
             ],
             [
              0.6666666666666666,
              "#ed7953"
             ],
             [
              0.7777777777777778,
              "#fb9f3a"
             ],
             [
              0.8888888888888888,
              "#fdca26"
             ],
             [
              1,
              "#f0f921"
             ]
            ],
            "type": "contour"
           }
          ],
          "contourcarpet": [
           {
            "colorbar": {
             "outlinewidth": 0,
             "ticks": ""
            },
            "type": "contourcarpet"
           }
          ],
          "heatmap": [
           {
            "colorbar": {
             "outlinewidth": 0,
             "ticks": ""
            },
            "colorscale": [
             [
              0,
              "#0d0887"
             ],
             [
              0.1111111111111111,
              "#46039f"
             ],
             [
              0.2222222222222222,
              "#7201a8"
             ],
             [
              0.3333333333333333,
              "#9c179e"
             ],
             [
              0.4444444444444444,
              "#bd3786"
             ],
             [
              0.5555555555555556,
              "#d8576b"
             ],
             [
              0.6666666666666666,
              "#ed7953"
             ],
             [
              0.7777777777777778,
              "#fb9f3a"
             ],
             [
              0.8888888888888888,
              "#fdca26"
             ],
             [
              1,
              "#f0f921"
             ]
            ],
            "type": "heatmap"
           }
          ],
          "histogram": [
           {
            "marker": {
             "pattern": {
              "fillmode": "overlay",
              "size": 10,
              "solidity": 0.2
             }
            },
            "type": "histogram"
           }
          ],
          "histogram2d": [
           {
            "colorbar": {
             "outlinewidth": 0,
             "ticks": ""
            },
            "colorscale": [
             [
              0,
              "#0d0887"
             ],
             [
              0.1111111111111111,
              "#46039f"
             ],
             [
              0.2222222222222222,
              "#7201a8"
             ],
             [
              0.3333333333333333,
              "#9c179e"
             ],
             [
              0.4444444444444444,
              "#bd3786"
             ],
             [
              0.5555555555555556,
              "#d8576b"
             ],
             [
              0.6666666666666666,
              "#ed7953"
             ],
             [
              0.7777777777777778,
              "#fb9f3a"
             ],
             [
              0.8888888888888888,
              "#fdca26"
             ],
             [
              1,
              "#f0f921"
             ]
            ],
            "type": "histogram2d"
           }
          ],
          "histogram2dcontour": [
           {
            "colorbar": {
             "outlinewidth": 0,
             "ticks": ""
            },
            "colorscale": [
             [
              0,
              "#0d0887"
             ],
             [
              0.1111111111111111,
              "#46039f"
             ],
             [
              0.2222222222222222,
              "#7201a8"
             ],
             [
              0.3333333333333333,
              "#9c179e"
             ],
             [
              0.4444444444444444,
              "#bd3786"
             ],
             [
              0.5555555555555556,
              "#d8576b"
             ],
             [
              0.6666666666666666,
              "#ed7953"
             ],
             [
              0.7777777777777778,
              "#fb9f3a"
             ],
             [
              0.8888888888888888,
              "#fdca26"
             ],
             [
              1,
              "#f0f921"
             ]
            ],
            "type": "histogram2dcontour"
           }
          ],
          "mesh3d": [
           {
            "colorbar": {
             "outlinewidth": 0,
             "ticks": ""
            },
            "type": "mesh3d"
           }
          ],
          "parcoords": [
           {
            "line": {
             "colorbar": {
              "outlinewidth": 0,
              "ticks": ""
             }
            },
            "type": "parcoords"
           }
          ],
          "pie": [
           {
            "automargin": true,
            "type": "pie"
           }
          ],
          "scatter": [
           {
            "fillpattern": {
             "fillmode": "overlay",
             "size": 10,
             "solidity": 0.2
            },
            "type": "scatter"
           }
          ],
          "scatter3d": [
           {
            "line": {
             "colorbar": {
              "outlinewidth": 0,
              "ticks": ""
             }
            },
            "marker": {
             "colorbar": {
              "outlinewidth": 0,
              "ticks": ""
             }
            },
            "type": "scatter3d"
           }
          ],
          "scattercarpet": [
           {
            "marker": {
             "colorbar": {
              "outlinewidth": 0,
              "ticks": ""
             }
            },
            "type": "scattercarpet"
           }
          ],
          "scattergeo": [
           {
            "marker": {
             "colorbar": {
              "outlinewidth": 0,
              "ticks": ""
             }
            },
            "type": "scattergeo"
           }
          ],
          "scattergl": [
           {
            "marker": {
             "colorbar": {
              "outlinewidth": 0,
              "ticks": ""
             }
            },
            "type": "scattergl"
           }
          ],
          "scattermap": [
           {
            "marker": {
             "colorbar": {
              "outlinewidth": 0,
              "ticks": ""
             }
            },
            "type": "scattermap"
           }
          ],
          "scattermapbox": [
           {
            "marker": {
             "colorbar": {
              "outlinewidth": 0,
              "ticks": ""
             }
            },
            "type": "scattermapbox"
           }
          ],
          "scatterpolar": [
           {
            "marker": {
             "colorbar": {
              "outlinewidth": 0,
              "ticks": ""
             }
            },
            "type": "scatterpolar"
           }
          ],
          "scatterpolargl": [
           {
            "marker": {
             "colorbar": {
              "outlinewidth": 0,
              "ticks": ""
             }
            },
            "type": "scatterpolargl"
           }
          ],
          "scatterternary": [
           {
            "marker": {
             "colorbar": {
              "outlinewidth": 0,
              "ticks": ""
             }
            },
            "type": "scatterternary"
           }
          ],
          "surface": [
           {
            "colorbar": {
             "outlinewidth": 0,
             "ticks": ""
            },
            "colorscale": [
             [
              0,
              "#0d0887"
             ],
             [
              0.1111111111111111,
              "#46039f"
             ],
             [
              0.2222222222222222,
              "#7201a8"
             ],
             [
              0.3333333333333333,
              "#9c179e"
             ],
             [
              0.4444444444444444,
              "#bd3786"
             ],
             [
              0.5555555555555556,
              "#d8576b"
             ],
             [
              0.6666666666666666,
              "#ed7953"
             ],
             [
              0.7777777777777778,
              "#fb9f3a"
             ],
             [
              0.8888888888888888,
              "#fdca26"
             ],
             [
              1,
              "#f0f921"
             ]
            ],
            "type": "surface"
           }
          ],
          "table": [
           {
            "cells": {
             "fill": {
              "color": "#EBF0F8"
             },
             "line": {
              "color": "white"
             }
            },
            "header": {
             "fill": {
              "color": "#C8D4E3"
             },
             "line": {
              "color": "white"
             }
            },
            "type": "table"
           }
          ]
         },
         "layout": {
          "annotationdefaults": {
           "arrowcolor": "#2a3f5f",
           "arrowhead": 0,
           "arrowwidth": 1
          },
          "autotypenumbers": "strict",
          "coloraxis": {
           "colorbar": {
            "outlinewidth": 0,
            "ticks": ""
           }
          },
          "colorscale": {
           "diverging": [
            [
             0,
             "#8e0152"
            ],
            [
             0.1,
             "#c51b7d"
            ],
            [
             0.2,
             "#de77ae"
            ],
            [
             0.3,
             "#f1b6da"
            ],
            [
             0.4,
             "#fde0ef"
            ],
            [
             0.5,
             "#f7f7f7"
            ],
            [
             0.6,
             "#e6f5d0"
            ],
            [
             0.7,
             "#b8e186"
            ],
            [
             0.8,
             "#7fbc41"
            ],
            [
             0.9,
             "#4d9221"
            ],
            [
             1,
             "#276419"
            ]
           ],
           "sequential": [
            [
             0,
             "#0d0887"
            ],
            [
             0.1111111111111111,
             "#46039f"
            ],
            [
             0.2222222222222222,
             "#7201a8"
            ],
            [
             0.3333333333333333,
             "#9c179e"
            ],
            [
             0.4444444444444444,
             "#bd3786"
            ],
            [
             0.5555555555555556,
             "#d8576b"
            ],
            [
             0.6666666666666666,
             "#ed7953"
            ],
            [
             0.7777777777777778,
             "#fb9f3a"
            ],
            [
             0.8888888888888888,
             "#fdca26"
            ],
            [
             1,
             "#f0f921"
            ]
           ],
           "sequentialminus": [
            [
             0,
             "#0d0887"
            ],
            [
             0.1111111111111111,
             "#46039f"
            ],
            [
             0.2222222222222222,
             "#7201a8"
            ],
            [
             0.3333333333333333,
             "#9c179e"
            ],
            [
             0.4444444444444444,
             "#bd3786"
            ],
            [
             0.5555555555555556,
             "#d8576b"
            ],
            [
             0.6666666666666666,
             "#ed7953"
            ],
            [
             0.7777777777777778,
             "#fb9f3a"
            ],
            [
             0.8888888888888888,
             "#fdca26"
            ],
            [
             1,
             "#f0f921"
            ]
           ]
          },
          "colorway": [
           "#636efa",
           "#EF553B",
           "#00cc96",
           "#ab63fa",
           "#FFA15A",
           "#19d3f3",
           "#FF6692",
           "#B6E880",
           "#FF97FF",
           "#FECB52"
          ],
          "font": {
           "color": "#2a3f5f"
          },
          "geo": {
           "bgcolor": "white",
           "lakecolor": "white",
           "landcolor": "white",
           "showlakes": true,
           "showland": true,
           "subunitcolor": "#C8D4E3"
          },
          "hoverlabel": {
           "align": "left"
          },
          "hovermode": "closest",
          "mapbox": {
           "style": "light"
          },
          "paper_bgcolor": "white",
          "plot_bgcolor": "white",
          "polar": {
           "angularaxis": {
            "gridcolor": "#EBF0F8",
            "linecolor": "#EBF0F8",
            "ticks": ""
           },
           "bgcolor": "white",
           "radialaxis": {
            "gridcolor": "#EBF0F8",
            "linecolor": "#EBF0F8",
            "ticks": ""
           }
          },
          "scene": {
           "xaxis": {
            "backgroundcolor": "white",
            "gridcolor": "#DFE8F3",
            "gridwidth": 2,
            "linecolor": "#EBF0F8",
            "showbackground": true,
            "ticks": "",
            "zerolinecolor": "#EBF0F8"
           },
           "yaxis": {
            "backgroundcolor": "white",
            "gridcolor": "#DFE8F3",
            "gridwidth": 2,
            "linecolor": "#EBF0F8",
            "showbackground": true,
            "ticks": "",
            "zerolinecolor": "#EBF0F8"
           },
           "zaxis": {
            "backgroundcolor": "white",
            "gridcolor": "#DFE8F3",
            "gridwidth": 2,
            "linecolor": "#EBF0F8",
            "showbackground": true,
            "ticks": "",
            "zerolinecolor": "#EBF0F8"
           }
          },
          "shapedefaults": {
           "line": {
            "color": "#2a3f5f"
           }
          },
          "ternary": {
           "aaxis": {
            "gridcolor": "#DFE8F3",
            "linecolor": "#A2B1C6",
            "ticks": ""
           },
           "baxis": {
            "gridcolor": "#DFE8F3",
            "linecolor": "#A2B1C6",
            "ticks": ""
           },
           "bgcolor": "white",
           "caxis": {
            "gridcolor": "#DFE8F3",
            "linecolor": "#A2B1C6",
            "ticks": ""
           }
          },
          "title": {
           "x": 0.05
          },
          "xaxis": {
           "automargin": true,
           "gridcolor": "#EBF0F8",
           "linecolor": "#EBF0F8",
           "ticks": "",
           "title": {
            "standoff": 15
           },
           "zerolinecolor": "#EBF0F8",
           "zerolinewidth": 2
          },
          "yaxis": {
           "automargin": true,
           "gridcolor": "#EBF0F8",
           "linecolor": "#EBF0F8",
           "ticks": "",
           "title": {
            "standoff": 15
           },
           "zerolinecolor": "#EBF0F8",
           "zerolinewidth": 2
          }
         }
        },
        "width": 1100,
        "xaxis": {
         "title": {
          "text": "Normalized Trials"
         }
        },
        "yaxis": {
         "title": {
          "text": "Difference in Performance HPI and Random"
         }
        }
       }
      }
     },
     "metadata": {},
     "output_type": "display_data"
    }
   ],
   "source": [
    "fanova = perf_all[perf_all['optimizer_id']=='fanova_adjust_cs_default_constant_adjust_prev_cfgs_set_to_incumbent_thresh_0.75']\n",
    "fanova_rnd = rnd_all[rnd_all['optimizer_id']=='random_adjust_cs_default_constant_adjust_prev_cfgs_set_to_incumbent_thresh_0.75']\n",
    "fanova = pd.merge(fanova, fanova_rnd, on=['task_id', 'seed', 'n_trials_norm'], suffixes=('_final', '_rnd'))\n",
    "fanova['trial_value__cost_inc_norm_diff'] = fanova['trial_value__cost_inc_norm_rnd'] - fanova['trial_value__cost_inc_norm_final']\n",
    "fanova['optimizer_id'] = 'fANOVA-ParEGO'\n",
    "\n",
    "\n",
    "hypershap = perf_all[perf_all['optimizer_id']=='hypershap_adjust_cs_default_constant_adjust_prev_cfgs_set_to_incumbent_dynamic_decay_down']\n",
    "hypershap_rnd = rnd_all[rnd_all['optimizer_id']=='random_adjust_cs_default_constant_adjust_prev_cfgs_set_to_incumbent_dynamic_decay_down']\n",
    "hypershap = pd.merge(hypershap, hypershap_rnd, on=['task_id', 'seed', 'n_trials_norm'], suffixes=('_final', '_rnd'))\n",
    "hypershap['trial_value__cost_inc_norm_diff'] = hypershap['trial_value__cost_inc_norm_rnd'] - hypershap['trial_value__cost_inc_norm_final']\n",
    "hypershap['optimizer_id'] = 'HyperSHAP-ParEGO'\n",
    "\n",
    "df_plot = pd.concat([hypershap, fanova], ignore_index=True)\n",
    "\n",
    "# Average over tasks\n",
    "avg_task = df_plot.groupby([\"optimizer_id\", \"seed\", \"n_trials_norm\"]).agg(\n",
    "    mean_perf=(\"trial_value__cost_inc_norm_diff\", \"mean\")\n",
    ").reset_index()\n",
    "\n",
    "# Average over seeds\n",
    "avg_seed = avg_task.groupby([\"optimizer_id\", \"n_trials_norm\"]).agg(\n",
    "    mean=(\"mean_perf\", \"mean\"),\n",
    "    sem=(\"mean_perf\", \"sem\")\n",
    ").reset_index()\n",
    "\n",
    "auc_per_seed = (\n",
    "    df_plot.groupby([\"optimizer_id\", \"seed\"])\n",
    "    .apply(lambda group: trapz(group.sort_values(\"n_trials_norm\")[\"trial_value__cost_inc_norm_diff\"],\n",
    "                                group.sort_values(\"n_trials_norm\")[\"n_trials_norm\"]))\n",
    "    .reset_index(name=\"auc\")\n",
    ")\n",
    "\n",
    "colors = px.colors.qualitative.Set1\n",
    "fig = go.Figure()\n",
    "for i, optimizer in enumerate(avg_seed[\"optimizer_id\"].unique()):\n",
    "    df_opt = avg_seed[avg_seed[\"optimizer_id\"] == optimizer]\n",
    "    line_color = colors[i % len(colors)]\n",
    "\n",
    "    # Mean line\n",
    "    fig.add_trace(go.Scatter(\n",
    "        x=df_opt[\"n_trials_norm\"],\n",
    "        y=df_opt[\"mean\"],\n",
    "        mode=\"lines\",\n",
    "        name=optimizer,\n",
    "        line=dict(width=2, color=line_color),\n",
    "    ))\n",
    "\n",
    "    # Shaded error (sem)\n",
    "    fig.add_trace(go.Scatter(\n",
    "        x=pd.concat([df_opt[\"n_trials_norm\"], df_opt[\"n_trials_norm\"][::-1]]),\n",
    "        y=pd.concat([\n",
    "            df_opt[\"mean\"] - df_opt[\"sem\"],\n",
    "            (df_opt[\"mean\"] + df_opt[\"sem\"])[::-1]\n",
    "        ]),\n",
    "        fill='toself',\n",
    "        fillcolor=line_color.replace(')', ',0.1)').replace('rgb', 'rgba'),\n",
    "        line=dict(color='rgba(255,255,255,0)'),\n",
    "        hoverinfo=\"skip\",\n",
    "        showlegend=False\n",
    "    ))\n",
    "\n",
    "\n",
    "fig.update_layout(\n",
    "    height=400,\n",
    "    width=1100,\n",
    "    template=\"plotly_white\",\n",
    "    font=dict(size=16),\n",
    "    legend=dict(title=\"Optimizers\", font=dict(size=16)),\n",
    "    margin=dict(t=60, l=50, r=50, b=50)\n",
    ")\n",
    "\n",
    "fig.update_xaxes(title_text=\"Normalized Trials\")\n",
    "fig.update_yaxes(title_text=\"Difference in Performance HPI and Random\")\n",
    "fig.show()"
   ]
  },
  {
   "cell_type": "code",
   "execution_count": null,
   "id": "aae5be8d",
   "metadata": {},
   "outputs": [
    {
     "data": {
      "application/vnd.microsoft.datawrangler.viewer.v0+json": {
       "columns": [
        {
         "name": "index",
         "rawType": "int64",
         "type": "integer"
        },
        {
         "name": "task_id",
         "rawType": "object",
         "type": "string"
        },
        {
         "name": "seed",
         "rawType": "int64",
         "type": "integer"
        },
        {
         "name": "n_trials_norm",
         "rawType": "float64",
         "type": "float"
        },
        {
         "name": "diff_trial_value__cost_inc_norm",
         "rawType": "float64",
         "type": "float"
        }
       ],
       "conversionMethod": "pd.DataFrame",
       "ref": "d179f54f-deb4-4261-9b1d-6f585cb44f99",
       "rows": [
        [
         "0",
         "multi-objective/50/dev/yahpo/mo/iaml_glmnet/1489/None",
         "0",
         "0.0",
         "0.0"
        ],
        [
         "1",
         "multi-objective/50/dev/yahpo/mo/iaml_glmnet/1489/None",
         "0",
         "0.02",
         "0.0"
        ],
        [
         "2",
         "multi-objective/50/dev/yahpo/mo/iaml_glmnet/1489/None",
         "0",
         "0.04",
         "0.0"
        ],
        [
         "3",
         "multi-objective/50/dev/yahpo/mo/iaml_glmnet/1489/None",
         "0",
         "0.06",
         "0.0"
        ],
        [
         "4",
         "multi-objective/50/dev/yahpo/mo/iaml_glmnet/1489/None",
         "0",
         "0.08",
         "0.0"
        ],
        [
         "5",
         "multi-objective/50/dev/yahpo/mo/iaml_glmnet/1489/None",
         "0",
         "0.1",
         "0.0"
        ],
        [
         "6",
         "multi-objective/50/dev/yahpo/mo/iaml_glmnet/1489/None",
         "0",
         "0.12",
         "0.000309676074884949"
        ],
        [
         "7",
         "multi-objective/50/dev/yahpo/mo/iaml_glmnet/1489/None",
         "0",
         "0.14",
         "0.0009290282246548478"
        ],
        [
         "8",
         "multi-objective/50/dev/yahpo/mo/iaml_glmnet/1489/None",
         "0",
         "0.16",
         "0.0010941887979268204"
        ],
        [
         "9",
         "multi-objective/50/dev/yahpo/mo/iaml_glmnet/1489/None",
         "0",
         "0.18",
         "0.001259349371198793"
        ],
        [
         "10",
         "multi-objective/50/dev/yahpo/mo/iaml_glmnet/1489/None",
         "0",
         "0.2",
         "0.0014245099444707664"
        ],
        [
         "11",
         "multi-objective/50/dev/yahpo/mo/iaml_glmnet/1489/None",
         "0",
         "0.22",
         "0.0015896705177427391"
        ],
        [
         "12",
         "multi-objective/50/dev/yahpo/mo/iaml_glmnet/1489/None",
         "0",
         "0.24",
         "0.0012351427416138923"
        ],
        [
         "13",
         "multi-objective/50/dev/yahpo/mo/iaml_glmnet/1489/None",
         "0",
         "0.26",
         "0.0008806149654850453"
        ],
        [
         "14",
         "multi-objective/50/dev/yahpo/mo/iaml_glmnet/1489/None",
         "0",
         "0.28",
         "0.000526087189356198"
        ],
        [
         "15",
         "multi-objective/50/dev/yahpo/mo/iaml_glmnet/1489/None",
         "0",
         "0.3",
         "0.0003595015656170336"
        ],
        [
         "16",
         "multi-objective/50/dev/yahpo/mo/iaml_glmnet/1489/None",
         "0",
         "0.32",
         "0.00038085809426755045"
        ],
        [
         "17",
         "multi-objective/50/dev/yahpo/mo/iaml_glmnet/1489/None",
         "0",
         "0.34",
         "0.0003715370412108954"
        ],
        [
         "18",
         "multi-objective/50/dev/yahpo/mo/iaml_glmnet/1489/None",
         "0",
         "0.36",
         "0.00033153840644706875"
        ],
        [
         "19",
         "multi-objective/50/dev/yahpo/mo/iaml_glmnet/1489/None",
         "0",
         "0.38",
         "0.0002915397716832419"
        ],
        [
         "20",
         "multi-objective/50/dev/yahpo/mo/iaml_glmnet/1489/None",
         "0",
         "0.4",
         "0.0002515411369194148"
        ],
        [
         "21",
         "multi-objective/50/dev/yahpo/mo/iaml_glmnet/1489/None",
         "0",
         "0.42",
         "0.00021154250215558827"
        ],
        [
         "22",
         "multi-objective/50/dev/yahpo/mo/iaml_glmnet/1489/None",
         "0",
         "0.44",
         "0.00020845761326649173"
        ],
        [
         "23",
         "multi-objective/50/dev/yahpo/mo/iaml_glmnet/1489/None",
         "0",
         "0.46",
         "0.0002175682938503513"
        ],
        [
         "24",
         "multi-objective/50/dev/yahpo/mo/iaml_glmnet/1489/None",
         "0",
         "0.48",
         "0.00022667897443421074"
        ],
        [
         "25",
         "multi-objective/50/dev/yahpo/mo/iaml_glmnet/1489/None",
         "0",
         "0.5",
         "0.0002357896550180703"
        ],
        [
         "26",
         "multi-objective/50/dev/yahpo/mo/iaml_glmnet/1489/None",
         "0",
         "0.52",
         "0.00024490033560192986"
        ],
        [
         "27",
         "multi-objective/50/dev/yahpo/mo/iaml_glmnet/1489/None",
         "0",
         "0.54",
         "0.0002540110161857894"
        ],
        [
         "28",
         "multi-objective/50/dev/yahpo/mo/iaml_glmnet/1489/None",
         "0",
         "0.56",
         "0.000263121696769649"
        ],
        [
         "29",
         "multi-objective/50/dev/yahpo/mo/iaml_glmnet/1489/None",
         "0",
         "0.58",
         "0.00023463871158301355"
        ],
        [
         "30",
         "multi-objective/50/dev/yahpo/mo/iaml_glmnet/1489/None",
         "0",
         "0.6",
         "0.00018199807279726512"
        ],
        [
         "31",
         "multi-objective/50/dev/yahpo/mo/iaml_glmnet/1489/None",
         "0",
         "0.62",
         "0.0001293574340115169"
        ],
        [
         "32",
         "multi-objective/50/dev/yahpo/mo/iaml_glmnet/1489/None",
         "0",
         "0.64",
         "7.671679522576859e-05"
        ],
        [
         "33",
         "multi-objective/50/dev/yahpo/mo/iaml_glmnet/1489/None",
         "0",
         "0.66",
         "2.407615644002027e-05"
        ],
        [
         "34",
         "multi-objective/50/dev/yahpo/mo/iaml_glmnet/1489/None",
         "0",
         "0.68",
         "-6.174905340156967e-06"
        ],
        [
         "35",
         "multi-objective/50/dev/yahpo/mo/iaml_glmnet/1489/None",
         "0",
         "0.7000000000000001",
         "-1.4036390114763125e-05"
        ],
        [
         "36",
         "multi-objective/50/dev/yahpo/mo/iaml_glmnet/1489/None",
         "0",
         "0.72",
         "-2.349500685400489e-06"
        ],
        [
         "37",
         "multi-objective/50/dev/yahpo/mo/iaml_glmnet/1489/None",
         "0",
         "0.74",
         "2.8885762947930668e-05"
        ],
        [
         "38",
         "multi-objective/50/dev/yahpo/mo/iaml_glmnet/1489/None",
         "0",
         "0.76",
         "6.012102658126188e-05"
        ],
        [
         "39",
         "multi-objective/50/dev/yahpo/mo/iaml_glmnet/1489/None",
         "0",
         "0.78",
         "9.135629021459309e-05"
        ],
        [
         "40",
         "multi-objective/50/dev/yahpo/mo/iaml_glmnet/1489/None",
         "0",
         "0.8",
         "8.550436430524935e-05"
        ],
        [
         "41",
         "multi-objective/50/dev/yahpo/mo/iaml_glmnet/1489/None",
         "0",
         "0.8200000000000001",
         "7.965243839590567e-05"
        ],
        [
         "42",
         "multi-objective/50/dev/yahpo/mo/iaml_glmnet/1489/None",
         "0",
         "0.84",
         "7.380051248656193e-05"
        ],
        [
         "43",
         "multi-objective/50/dev/yahpo/mo/iaml_glmnet/1489/None",
         "0",
         "0.86",
         "6.794858657721824e-05"
        ],
        [
         "44",
         "multi-objective/50/dev/yahpo/mo/iaml_glmnet/1489/None",
         "0",
         "0.88",
         "7.310815695819601e-05"
        ],
        [
         "45",
         "multi-objective/50/dev/yahpo/mo/iaml_glmnet/1489/None",
         "0",
         "0.9",
         "7.753137836502896e-05"
        ],
        [
         "46",
         "multi-objective/50/dev/yahpo/mo/iaml_glmnet/1489/None",
         "0",
         "0.92",
         "8.121825079771705e-05"
        ],
        [
         "47",
         "multi-objective/50/dev/yahpo/mo/iaml_glmnet/1489/None",
         "0",
         "0.9400000000000001",
         "8.490512323040513e-05"
        ],
        [
         "48",
         "multi-objective/50/dev/yahpo/mo/iaml_glmnet/1489/None",
         "0",
         "0.96",
         "8.859199566309321e-05"
        ],
        [
         "49",
         "multi-objective/50/dev/yahpo/mo/iaml_glmnet/1489/None",
         "0",
         "0.98",
         "9.22788680957813e-05"
        ]
       ],
       "shape": {
        "columns": 4,
        "rows": 6018
       }
      },
      "text/html": [
       "<div>\n",
       "<style scoped>\n",
       "    .dataframe tbody tr th:only-of-type {\n",
       "        vertical-align: middle;\n",
       "    }\n",
       "\n",
       "    .dataframe tbody tr th {\n",
       "        vertical-align: top;\n",
       "    }\n",
       "\n",
       "    .dataframe thead th {\n",
       "        text-align: right;\n",
       "    }\n",
       "</style>\n",
       "<table border=\"1\" class=\"dataframe\">\n",
       "  <thead>\n",
       "    <tr style=\"text-align: right;\">\n",
       "      <th></th>\n",
       "      <th>task_id</th>\n",
       "      <th>seed</th>\n",
       "      <th>n_trials_norm</th>\n",
       "      <th>diff_trial_value__cost_inc_norm</th>\n",
       "    </tr>\n",
       "  </thead>\n",
       "  <tbody>\n",
       "    <tr>\n",
       "      <th>0</th>\n",
       "      <td>multi-objective/50/dev/yahpo/mo/iaml_glmnet/14...</td>\n",
       "      <td>0</td>\n",
       "      <td>0.00</td>\n",
       "      <td>0.000000</td>\n",
       "    </tr>\n",
       "    <tr>\n",
       "      <th>1</th>\n",
       "      <td>multi-objective/50/dev/yahpo/mo/iaml_glmnet/14...</td>\n",
       "      <td>0</td>\n",
       "      <td>0.02</td>\n",
       "      <td>0.000000</td>\n",
       "    </tr>\n",
       "    <tr>\n",
       "      <th>2</th>\n",
       "      <td>multi-objective/50/dev/yahpo/mo/iaml_glmnet/14...</td>\n",
       "      <td>0</td>\n",
       "      <td>0.04</td>\n",
       "      <td>0.000000</td>\n",
       "    </tr>\n",
       "    <tr>\n",
       "      <th>3</th>\n",
       "      <td>multi-objective/50/dev/yahpo/mo/iaml_glmnet/14...</td>\n",
       "      <td>0</td>\n",
       "      <td>0.06</td>\n",
       "      <td>0.000000</td>\n",
       "    </tr>\n",
       "    <tr>\n",
       "      <th>4</th>\n",
       "      <td>multi-objective/50/dev/yahpo/mo/iaml_glmnet/14...</td>\n",
       "      <td>0</td>\n",
       "      <td>0.08</td>\n",
       "      <td>0.000000</td>\n",
       "    </tr>\n",
       "    <tr>\n",
       "      <th>...</th>\n",
       "      <td>...</td>\n",
       "      <td>...</td>\n",
       "      <td>...</td>\n",
       "      <td>...</td>\n",
       "    </tr>\n",
       "    <tr>\n",
       "      <th>6013</th>\n",
       "      <td>multi-objective/50/dev/hpobench/multiobjective...</td>\n",
       "      <td>4</td>\n",
       "      <td>0.92</td>\n",
       "      <td>-0.005848</td>\n",
       "    </tr>\n",
       "    <tr>\n",
       "      <th>6014</th>\n",
       "      <td>multi-objective/50/dev/hpobench/multiobjective...</td>\n",
       "      <td>4</td>\n",
       "      <td>0.94</td>\n",
       "      <td>-0.005809</td>\n",
       "    </tr>\n",
       "    <tr>\n",
       "      <th>6015</th>\n",
       "      <td>multi-objective/50/dev/hpobench/multiobjective...</td>\n",
       "      <td>4</td>\n",
       "      <td>0.96</td>\n",
       "      <td>-0.005769</td>\n",
       "    </tr>\n",
       "    <tr>\n",
       "      <th>6016</th>\n",
       "      <td>multi-objective/50/dev/hpobench/multiobjective...</td>\n",
       "      <td>4</td>\n",
       "      <td>0.98</td>\n",
       "      <td>-0.005730</td>\n",
       "    </tr>\n",
       "    <tr>\n",
       "      <th>6017</th>\n",
       "      <td>multi-objective/50/dev/hpobench/multiobjective...</td>\n",
       "      <td>4</td>\n",
       "      <td>1.00</td>\n",
       "      <td>-0.005691</td>\n",
       "    </tr>\n",
       "  </tbody>\n",
       "</table>\n",
       "<p>6018 rows × 4 columns</p>\n",
       "</div>"
      ],
      "text/plain": [
       "                                                task_id  seed  n_trials_norm  \\\n",
       "0     multi-objective/50/dev/yahpo/mo/iaml_glmnet/14...     0           0.00   \n",
       "1     multi-objective/50/dev/yahpo/mo/iaml_glmnet/14...     0           0.02   \n",
       "2     multi-objective/50/dev/yahpo/mo/iaml_glmnet/14...     0           0.04   \n",
       "3     multi-objective/50/dev/yahpo/mo/iaml_glmnet/14...     0           0.06   \n",
       "4     multi-objective/50/dev/yahpo/mo/iaml_glmnet/14...     0           0.08   \n",
       "...                                                 ...   ...            ...   \n",
       "6013  multi-objective/50/dev/hpobench/multiobjective...     4           0.92   \n",
       "6014  multi-objective/50/dev/hpobench/multiobjective...     4           0.94   \n",
       "6015  multi-objective/50/dev/hpobench/multiobjective...     4           0.96   \n",
       "6016  multi-objective/50/dev/hpobench/multiobjective...     4           0.98   \n",
       "6017  multi-objective/50/dev/hpobench/multiobjective...     4           1.00   \n",
       "\n",
       "      diff_trial_value__cost_inc_norm  \n",
       "0                            0.000000  \n",
       "1                            0.000000  \n",
       "2                            0.000000  \n",
       "3                            0.000000  \n",
       "4                            0.000000  \n",
       "...                               ...  \n",
       "6013                        -0.005848  \n",
       "6014                        -0.005809  \n",
       "6015                        -0.005769  \n",
       "6016                        -0.005730  \n",
       "6017                        -0.005691  \n",
       "\n",
       "[6018 rows x 4 columns]"
      ]
     },
     "execution_count": 178,
     "metadata": {},
     "output_type": "execute_result"
    }
   ],
   "source": [
    "\n"
   ]
  },
  {
   "cell_type": "code",
   "execution_count": null,
   "id": "22d213d4",
   "metadata": {},
   "outputs": [],
   "source": [
    "def plot_diff_rnd(opt_id):\n",
    "    hpi = perf_all[perf_all['optimizer_id']==opt_id]\n",
    "    rnd = rnd_all[perf_all['optimizer_id']==opt_id]\n",
    "\n",
    "    df_plot = perf_all.copy(deep=True)\n",
    "    df_plot['optimizer_id'] = df_plot[thing]\n",
    "    df_plot = pd.concat([df_plot, base], ignore_index=True)\n",
    "\n",
    "    # Average over tasks\n",
    "    avg_task = df_plot.groupby([\"optimizer_id\", \"seed\", \"n_trials_norm\"]).agg(\n",
    "        mean_perf=(\"trial_value__cost_inc_norm\", \"mean\")\n",
    "    ).reset_index()\n",
    "\n",
    "    # Average over seeds\n",
    "    avg_seed = avg_task.groupby([\"optimizer_id\", \"n_trials_norm\"]).agg(\n",
    "        mean=(\"mean_perf\", \"mean\"),\n",
    "        sem=(\"mean_perf\", \"sem\")\n",
    "    ).reset_index()\n",
    "\n",
    "    auc_per_seed = (\n",
    "        df_plot.groupby([\"optimizer_id\", \"seed\"])\n",
    "        .apply(lambda group: trapz(group.sort_values(\"n_trials_norm\")[\"trial_value__cost_inc_norm\"],\n",
    "                                   group.sort_values(\"n_trials_norm\")[\"n_trials_norm\"]))\n",
    "        .reset_index(name=\"auc\")\n",
    "    )\n",
    "\n",
    "    # Compute mean and sem AUC per optimizer\n",
    "    auc_values = auc_per_seed.groupby(\"optimizer_id\").agg(\n",
    "        mean=('auc', 'mean'),\n",
    "        sem=('auc', 'sem')\n",
    "    ).sort_values(\"mean\", ascending=False).reset_index()\n",
    "\n",
    "\n",
    "    fig = make_subplots(\n",
    "        rows=1, cols=2,\n",
    "        # subplot_titles=(\"Performance over Time (Normalized)\", \"AUC per Optimizer\"),\n",
    "        column_widths=[0.6, 0.4],\n",
    "        horizontal_spacing=0.15\n",
    "    )\n",
    "    colors = px.colors.qualitative.Set1\n",
    "    # Line plot with shaded error (left)\n",
    "    print(avg_seed[\"optimizer_id\"].unique())\n",
    "    for i, optimizer in enumerate(avg_seed[\"optimizer_id\"].unique()):\n",
    "        df_opt = avg_seed[avg_seed[\"optimizer_id\"] == optimizer]\n",
    "        \n",
    "        line_color = colors[i % len(colors)]\n",
    "\n",
    "        # Mean line\n",
    "        fig.add_trace(go.Scatter(\n",
    "            x=df_opt[\"n_trials_norm\"],\n",
    "            y=df_opt[\"mean\"],\n",
    "            mode=\"lines\",\n",
    "            name=optimizer,\n",
    "            line=dict(width=2, color=line_color),\n",
    "        ), row=1, col=1)\n",
    "\n",
    "        # Shaded error (sem)\n",
    "        fig.add_trace(go.Scatter(\n",
    "            x=pd.concat([df_opt[\"n_trials_norm\"], df_opt[\"n_trials_norm\"][::-1]]),\n",
    "            y=pd.concat([\n",
    "                df_opt[\"mean\"] - df_opt[\"sem\"],\n",
    "                (df_opt[\"mean\"] + df_opt[\"sem\"])[::-1]\n",
    "            ]),\n",
    "            fill='toself',\n",
    "            fillcolor=line_color.replace(')', ',0.1)').replace('rgb', 'rgba'),\n",
    "            line=dict(color='rgba(255,255,255,0)'),\n",
    "            hoverinfo=\"skip\",\n",
    "            showlegend=False\n",
    "        ), row=1, col=1)\n",
    "\n",
    "    # Bar chart with error bars (right)\n",
    "    fig.add_trace(go.Bar(\n",
    "        x=auc_values[\"mean\"],\n",
    "        y=auc_values[\"optimizer_id\"],\n",
    "        orientation=\"h\",\n",
    "        error_x=dict(type='data', array=auc_values[\"sem\"]),\n",
    "        marker=dict(color=\"skyblue\", line=dict(color=\"black\", width=1)),\n",
    "        showlegend=False\n",
    "    ), row=1, col=2)\n",
    "\n",
    "    # -------------------------\n",
    "    # 3. Layout & Font\n",
    "    # -------------------------\n",
    "\n",
    "    fig.update_layout(\n",
    "        height=400,\n",
    "        width=1100,\n",
    "        template=\"plotly_white\",\n",
    "        font=dict(size=16),\n",
    "        legend=dict(title=\"Optimizers\", font=dict(size=16)),\n",
    "        margin=dict(t=60, l=50, r=50, b=50)\n",
    "    )\n",
    "\n",
    "    fig.update_xaxes(title_text=\"Normalized Trials\", row=1, col=1)\n",
    "    fig.update_yaxes(title_text=\"Normalized Inc-Performance\", row=1, col=1)\n",
    "    fig.update_xaxes(title_text=\"AUC\", row=1, col=2)\n",
    "    fig.update_yaxes(title_text=\"Optimizer\", row=1, col=2)\n",
    "\n",
    "    fig.show()\n"
   ]
  },
  {
   "cell_type": "code",
   "execution_count": null,
   "id": "df10d9ca",
   "metadata": {},
   "outputs": [
    {
     "data": {
      "text/plain": [
       "(5100, 20)"
      ]
     },
     "execution_count": 93,
     "metadata": {},
     "output_type": "execute_result"
    }
   ],
   "source": [
    "# smac vs best fanova vs best hypershap\n",
    "rnd_all[rnd_all['optimizer_id']=='random_adjust_cs_incumbent_cs_proba_hpi_thresh_0.5']"
   ]
  },
  {
   "cell_type": "code",
   "execution_count": null,
   "id": "65b96901",
   "metadata": {},
   "outputs": [
    {
     "data": {
      "text/plain": [
       "(10200, 21)"
      ]
     },
     "execution_count": 95,
     "metadata": {},
     "output_type": "execute_result"
    }
   ],
   "source": [
    "perf_all[perf_all['optimizer_id']=='fanova_adjust_cs_incumbent_cs_proba_hpi_thresh_0.5']"
   ]
  },
  {
   "cell_type": "code",
   "execution_count": null,
   "id": "03305cc0",
   "metadata": {},
   "outputs": [],
   "source": [
    "def get_commands_from_missing(missing):\n",
    "    commands = []\n",
    "    for opt_id, value in missing.items():\n",
    "        for task_id, n_trials_norm, seed in value:\n",
    "            # Construct the command dynamically, skipping None values\n",
    "            command = f\"python -m carps.experimenter.create_cluster_configs hydra.searchpath=[file:///home/daphne/Code/hpi_parego/package_hpi_parego/hpi_parego/configs] +optimizer/smac20=multiobjective_rf +customoptimizer=hpi_parego  'seed={seed}'\"\n",
    "            command += f\" '+task/subselection/multiobjective/dev={task_id}'\"\n",
    "            baserundir = \"results/\"\n",
    "            \n",
    "            parts = opt_id.split('_')\n",
    "            \n",
    "            command += f\" optimizer.smac_cfg.smac_kwargs.acquisition_maximizer.hpi_method={parts[0]}\"\n",
    "            baserundir += f\"{parts[0]}/\"\n",
    "            \n",
    "            \n",
    "            if 'adjust_cs_' in opt_id:\n",
    "                command += f\" optimizer.smac_cfg.smac_kwargs.acquisition_maximizer.adjust_cs=true\"\n",
    "                baserundir += f\"adjust_cs_{parts[parts.index('cs')+1]}\"\n",
    "                command += f\" optimizer.smac_cfg.smac_kwargs.acquisition_maximizer.adjust_cs_method={parts[parts.index('cs')+1]}\"\n",
    "            else:\n",
    "                command += f\" optimizer.smac_cfg.smac_kwargs.acquisition_maximizer.adjust_cs=false\"\n",
    "            \n",
    "            if 'constant' in opt_id:\n",
    "                command += f\" optimizer.smac_cfg.smac_kwargs.acquisition_maximizer.constant=true\"\n",
    "                baserundir += \"_constant\"\n",
    "            else:\n",
    "                command += f\" optimizer.smac_cfg.smac_kwargs.acquisition_maximizer.constant=false\"\n",
    "            if 'cs_proba_hpi' in opt_id:\n",
    "                command += f\" optimizer.smac_cfg.smac_kwargs.acquisition_maximizer.cs_proba_hpi=true\"\n",
    "                baserundir += \"_cs_proba_hpi\"\n",
    "            else:\n",
    "                command += f\" optimizer.smac_cfg.smac_kwargs.acquisition_maximizer.cs_proba_hpi=false\"\n",
    "            \n",
    "            if 'adjust_prev_cfgs' in opt_id:\n",
    "                command += f\" optimizer.smac_cfg.smac_kwargs.acquisition_maximizer.adjust_previous_cfgs=true\"\n",
    "                baserundir += \"_adjust_prev_cfgs\"\n",
    "            else:\n",
    "                command += f\" optimizer.smac_cfg.smac_kwargs.acquisition_maximizer.adjust_previous_cfgs=false\"\n",
    "            if 'set_to' in opt_id:\n",
    "                command += f\" optimizer.smac_cfg.smac_kwargs.acquisition_maximizer.set_to={parts[parts.index('to')+1]}\"\n",
    "                baserundir += f\"_set_to_{parts[parts.index('to')+1]}\"\n",
    "            if 'dynamic_decay' in opt_id:\n",
    "                command += f\" optimizer.smac_cfg.smac_kwargs.acquisition_maximizer.dynamic_decay=linear\"\n",
    "                baserundir += \"_dynamic_decay\"\n",
    "                if 'down' in opt_id:\n",
    "                    command += f\" optimizer.smac_cfg.smac_kwargs.acquisition_maximizer.thresh_list=[0.9,0.8,0.7,0.6,0.5,0.4,0.3]\"\n",
    "                    baserundir += \"_down\"\n",
    "                elif 'up' in opt_id:\n",
    "                    command += f\" optimizer.smac_cfg.smac_kwargs.acquisition_maximizer.thresh_list=[0.3,0.4,0.5,0.6,0.7,0.8,0.9]\"\n",
    "                    baserundir += \"_up\"\n",
    "            else:\n",
    "                command += f\" optimizer.smac_cfg.smac_kwargs.acquisition_maximizer.dynamic_decay=none\"\n",
    "                command += f\" optimizer.smac_cfg.smac_kwargs.acquisition_maximizer.thresh={parts[parts.index('thresh')+1]}\"\n",
    "                baserundir += f\"_thresh_{parts[parts.index('thresh')+1]}\"\n",
    "                \n",
    "\n",
    "            command += f\" baserundir={baserundir}\"\n",
    "            command += f\" optimizer_id={parts[0]}_{baserundir.split('/')[-1]}\"\n",
    "            \n",
    "            command += \" -m\"\n",
    "            assert opt_id ==f\"{parts[0]}_{baserundir.split('/')[-1]}\"\n",
    "            \n",
    "            commands.append(command)\n",
    "    return commands"
   ]
  }
 ],
 "metadata": {
  "kernelspec": {
   "display_name": "carps",
   "language": "python",
   "name": "python3"
  },
  "language_info": {
   "codemirror_mode": {
    "name": "ipython",
    "version": 3
   },
   "file_extension": ".py",
   "mimetype": "text/x-python",
   "name": "python",
   "nbconvert_exporter": "python",
   "pygments_lexer": "ipython3",
   "version": "3.10.16"
  }
 },
 "nbformat": 4,
 "nbformat_minor": 5
}
